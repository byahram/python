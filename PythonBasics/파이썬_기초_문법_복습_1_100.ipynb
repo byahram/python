{
 "cells": [
  {
   "cell_type": "markdown",
   "id": "42da6ba0-79b6-4c15-b8ab-b2bb7161b472",
   "metadata": {},
   "source": [
    "# 1. 출력문 출력하기\n",
    "\n",
    "<img src=\"./pdf_images/문제1번.png\" width=\"70%\" />"
   ]
  },
  {
   "cell_type": "code",
   "execution_count": 2,
   "id": "7f00f2d1-60fe-4657-ad62-83ecf5207603",
   "metadata": {},
   "outputs": [
    {
     "name": "stdout",
     "output_type": "stream",
     "text": [
      "it's fine\n",
      "it's fine\n",
      "it's fine\n"
     ]
    }
   ],
   "source": [
    "print(\"it's fine\")\n",
    "print(\"it\\'s fine\")\n",
    "print(\"\"\"it's fine\"\"\")"
   ]
  },
  {
   "cell_type": "markdown",
   "id": "fa6ef641-e436-4d09-a74c-62c28aeb9a2f",
   "metadata": {},
   "source": [
    "# 2. 한줄 주석과 여러줄 주석 사용하기\n",
    "\n",
    "<img src=\"./pdf_images/문제2번.png\" width=\"70%\" />"
   ]
  },
  {
   "cell_type": "markdown",
   "id": "92bf527c-9e46-4e3b-8e1d-9a4509a930fa",
   "metadata": {},
   "source": [
    "# 3. 큰 따옴표 포함 출력\n",
    "\n",
    "<img src=\"./pdf_images/문제3번.png\" width=\"70%\" />"
   ]
  },
  {
   "cell_type": "code",
   "execution_count": 6,
   "id": "1eab3a5a-4c32-4533-94b4-7963ce940f10",
   "metadata": {},
   "outputs": [
    {
     "name": "stdout",
     "output_type": "stream",
     "text": [
      "\"Life is too short, we need python!\"\n",
      "\"Life is too short, we need python!\" \n"
     ]
    }
   ],
   "source": [
    "print(\"\\\"Life is too short, we need python!\\\"\")\n",
    "print(\"\"\"\"Life is too short, we need python!\" \"\"\")"
   ]
  },
  {
   "cell_type": "markdown",
   "id": "af744805-eca3-4c9b-9346-aadab0f95897",
   "metadata": {},
   "source": [
    "# 4. \n",
    "\n",
    "<img src=\"./pdf_images/문제4번.png\" width=\"70%\" />"
   ]
  },
  {
   "cell_type": "code",
   "execution_count": 9,
   "id": "9e7d9af2-0244-4659-a693-1d85add69482",
   "metadata": {},
   "outputs": [
    {
     "name": "stdout",
     "output_type": "stream",
     "text": [
      "you'll only see a \"C:\\Program Files\" folder.\n",
      "you'll only see a \"C:\\Program Files\" folder.\n"
     ]
    },
    {
     "name": "stderr",
     "output_type": "stream",
     "text": [
      "<>:2: SyntaxWarning: invalid escape sequence '\\P'\n",
      "<>:2: SyntaxWarning: invalid escape sequence '\\P'\n",
      "C:\\Users\\user\\AppData\\Local\\Temp\\ipykernel_3248\\1611581434.py:2: SyntaxWarning: invalid escape sequence '\\P'\n",
      "  print(\"\"\"you'll only see a \"C:\\Program Files\" folder.\"\"\")\n"
     ]
    }
   ],
   "source": [
    "print(\"you\\'ll only see a \\\"C:\\\\Program Files\\\" folder.\")\n",
    "print(\"\"\"you'll only see a \"C:\\Program Files\" folder.\"\"\")"
   ]
  },
  {
   "cell_type": "markdown",
   "id": "93137ce7-c8e2-4845-857c-63c30e00bb8a",
   "metadata": {},
   "source": [
    "# 5. 연산자 사용하기\n",
    "\n",
    "<img src=\"./pdf_images/문제5번.png\" width=\"70%\" />"
   ]
  },
  {
   "cell_type": "code",
   "execution_count": 12,
   "id": "bf3d272c-6940-4ec5-abe2-2dec522cbcaa",
   "metadata": {},
   "outputs": [
    {
     "name": "stdout",
     "output_type": "stream",
     "text": [
      "------------------------------\n",
      "절취선\n",
      "------------------------------\n"
     ]
    }
   ],
   "source": [
    "print(\"-\" * 30)\n",
    "print(\"절취선\")\n",
    "print(\"-\" * 30)"
   ]
  },
  {
   "cell_type": "markdown",
   "id": "6e9d747a-a07b-4433-80d2-66a8866462c8",
   "metadata": {},
   "source": [
    "# 6. type() 함수 사용하기\n",
    "\n",
    "<img src=\"./pdf_images/문제6번.png\" width=\"70%\" />"
   ]
  },
  {
   "cell_type": "code",
   "execution_count": 15,
   "id": "4e877f43-2329-461f-b0f9-8b2723cc86ff",
   "metadata": {},
   "outputs": [
    {
     "name": "stdout",
     "output_type": "stream",
     "text": [
      "num1는 <class 'str'> 데이터이고 num2는 <class 'float'> 데이터이다.\n"
     ]
    }
   ],
   "source": [
    "num1 = \"72\"\n",
    "num2 = 72.0\n",
    "\n",
    "print(f\"num1는 {type(num1)} 데이터이고 num2는 {type(num2)} 데이터이다.\")"
   ]
  },
  {
   "cell_type": "markdown",
   "id": "b56c4909-6a6d-4981-b829-406d2a992cf1",
   "metadata": {},
   "source": [
    "# 7.\n",
    "\n",
    "<img src=\"./pdf_images/문제7번.png\" width=\"70%\" />"
   ]
  },
  {
   "cell_type": "code",
   "execution_count": 18,
   "id": "98aee059-5ee4-447d-8a1c-2fe0691d7cff",
   "metadata": {},
   "outputs": [
    {
     "name": "stdout",
     "output_type": "stream",
     "text": [
      "True\n"
     ]
    }
   ],
   "source": [
    "num1 = \"72\"\n",
    "num2 = 72\n",
    "\n",
    "print(int(num1) == num2)"
   ]
  },
  {
   "cell_type": "markdown",
   "id": "e3798785-4734-4571-8063-264bb140c80a",
   "metadata": {},
   "source": [
    "# 8. 스페이스 바를 사용하지 않고 출력 \n",
    "\n",
    "<img src=\"./pdf_images/문제8번.png\" width=\"70%\" />"
   ]
  },
  {
   "cell_type": "code",
   "execution_count": 21,
   "id": "da8983c5-1f7a-40e8-8111-27b1608c7068",
   "metadata": {},
   "outputs": [
    {
     "name": "stdout",
     "output_type": "stream",
     "text": [
      "아버지가 방에 들어가신다.\n"
     ]
    }
   ],
   "source": [
    "print(\"아버지가\", \"방에\", \"들어가신다.\")"
   ]
  },
  {
   "cell_type": "markdown",
   "id": "789b6e53-5644-47a0-830f-4f940aa8d9e6",
   "metadata": {},
   "source": [
    "# 9. 하나의 print() 함수 사용하기 \n",
    "\n",
    "<img src=\"./pdf_images/문제9번.png\" width=\"70%\" />"
   ]
  },
  {
   "cell_type": "code",
   "execution_count": 24,
   "id": "e251490d-fa53-4925-8d55-230f073a218a",
   "metadata": {},
   "outputs": [
    {
     "name": "stdout",
     "output_type": "stream",
     "text": [
      "서울에서 제주도를 가는 방법 \n",
      "1. 비행기를 탄다. \n",
      "2. 수영을 한다.\n",
      "\n",
      "서울에서 제주도를 가는 방법\n",
      "1. 비행기를 탄다.\n",
      "2. 수영을 한다.\n"
     ]
    }
   ],
   "source": [
    "print(\"서울에서 제주도를 가는 방법 \\n1. 비행기를 탄다. \\n2. 수영을 한다.\")\n",
    "print()\n",
    "print(\"\"\"서울에서 제주도를 가는 방법\n",
    "1. 비행기를 탄다.\n",
    "2. 수영을 한다.\"\"\")"
   ]
  },
  {
   "cell_type": "markdown",
   "id": "8cc9f565-2a86-44b3-9d7a-44319503f865",
   "metadata": {},
   "source": [
    "# 10. 하나의 print() 함수 사용하기 \n",
    "\n",
    "<img src=\"./pdf_images/문제10번.png\" width=\"70%\" />"
   ]
  },
  {
   "cell_type": "code",
   "execution_count": 27,
   "id": "34ee242f-045b-46db-aeaa-91ef345676eb",
   "metadata": {},
   "outputs": [
    {
     "name": "stdout",
     "output_type": "stream",
     "text": [
      "6 -2 8 0.5\n",
      "6 -2 8 0.5\n"
     ]
    }
   ],
   "source": [
    "a = 2\n",
    "b = 4\n",
    "\n",
    "print(f\"{a + b} {a - b} {a * b} {a / b}\")\n",
    "print(a + b, a - b, a * b, a / b)"
   ]
  },
  {
   "cell_type": "markdown",
   "id": "25998f40-90ff-4c71-b9c3-d05da8d40b30",
   "metadata": {},
   "source": [
    "# 11. 문자열 포매팅 사용하기 \n",
    "\n",
    "<img src=\"./pdf_images/문제11번.png\" width=\"70%\" />"
   ]
  },
  {
   "cell_type": "code",
   "execution_count": 30,
   "id": "1a6d2e12-e793-4cb1-9a68-923cfa513da8",
   "metadata": {},
   "outputs": [
    {
     "name": "stdout",
     "output_type": "stream",
     "text": [
      "준빈이는 올해 31살, 키는 169.4cm이다.\n",
      "준빈이는 올해 31살, 키는 169.4cm이다.\n"
     ]
    }
   ],
   "source": [
    "age = 31\n",
    "height = 169.4\n",
    "\n",
    "print(\"준빈이는 올해 {}살, 키는 {}cm이다.\".format(age, height))\n",
    "print(\"준빈이는 올해 %d살, 키는 %.1fcm이다.\" % (age, height))"
   ]
  },
  {
   "cell_type": "markdown",
   "id": "d377f12d-907d-4a70-9ee5-e716f25cab2d",
   "metadata": {},
   "source": [
    "# 12. 서식지정자 사용하기\n",
    "\n",
    "<img src=\"./pdf_images/문제12번.png\" width=\"70%\" />"
   ]
  },
  {
   "cell_type": "code",
   "execution_count": 33,
   "id": "be2ffafe-a92d-49f3-a490-e631bfd99b65",
   "metadata": {},
   "outputs": [
    {
     "name": "stdout",
     "output_type": "stream",
     "text": [
      "나의 이름은 람머스이고, 나이는 70살이다.\n"
     ]
    }
   ],
   "source": [
    "name, age = \"람머스\", 70\n",
    "\n",
    "print(\"나의 이름은 %s이고, 나이는 %d살이다.\" % (name, age))"
   ]
  },
  {
   "cell_type": "markdown",
   "id": "174c1fe0-e21b-481b-83e0-73cad708a845",
   "metadata": {},
   "source": [
    "# 13. sep 옵션 \n",
    "\n",
    "<img src=\"./pdf_images/문제13번.png\" width=\"70%\" />"
   ]
  },
  {
   "cell_type": "code",
   "execution_count": 36,
   "id": "da0271ce-29e9-4c22-a00a-766c265e9b21",
   "metadata": {},
   "outputs": [
    {
     "name": "stdout",
     "output_type": "stream",
     "text": [
      "철수 영희 민수 나\n",
      "철수랑 영희랑 민수랑 나\n"
     ]
    }
   ],
   "source": [
    "print(\"철수\", \"영희\", \"민수\", \"나\")\n",
    "print(\"철수\", \"영희\", \"민수\", \"나\", sep=\"랑 \")"
   ]
  },
  {
   "cell_type": "markdown",
   "id": "f121ca48-1520-4fdd-bbbe-efeebcd046f1",
   "metadata": {},
   "source": [
    "# 14. 제곱 출력 \n",
    "\n",
    "<img src=\"./pdf_images/문제14번.png\" width=\"70%\" />"
   ]
  },
  {
   "cell_type": "code",
   "execution_count": 39,
   "id": "d6afc651-2ba8-4a82-b054-29b95e7eb30e",
   "metadata": {},
   "outputs": [
    {
     "name": "stdout",
     "output_type": "stream",
     "text": [
      "8\n"
     ]
    }
   ],
   "source": [
    "n, m = 2, 3\n",
    "\n",
    "print(n ** m)"
   ]
  },
  {
   "cell_type": "markdown",
   "id": "bff5f4e7-6058-4a5d-be49-28cb70eba956",
   "metadata": {},
   "source": [
    "# 15. 연산 우선순위 \n",
    "\n",
    "<img src=\"./pdf_images/문제15번.png\" width=\"70%\" />"
   ]
  },
  {
   "cell_type": "code",
   "execution_count": 42,
   "id": "bf1a635a-7933-4f72-aafc-8cae31c0eeb7",
   "metadata": {},
   "outputs": [
    {
     "name": "stdout",
     "output_type": "stream",
     "text": [
      "20.0\n"
     ]
    }
   ],
   "source": [
    "print(8 / 2 * (3 + 2))"
   ]
  },
  {
   "cell_type": "markdown",
   "id": "5a4663b1-ffe5-478e-85ae-a3db0dd5ed58",
   "metadata": {},
   "source": [
    "# 16. end 옵션 \n",
    "\n",
    "<img src=\"./pdf_images/문제16번.png\" width=\"70%\" />"
   ]
  },
  {
   "cell_type": "code",
   "execution_count": 45,
   "id": "b3af9a70-d5f0-4dfe-a104-7e8b4f30d086",
   "metadata": {},
   "outputs": [
    {
     "name": "stdout",
     "output_type": "stream",
     "text": [
      "hello python\n"
     ]
    }
   ],
   "source": [
    "print(\"hello\", end=\" \")\n",
    "print(\"python\")"
   ]
  },
  {
   "cell_type": "markdown",
   "id": "226cee0f-51f8-45fb-8d34-cfd3a6b163de",
   "metadata": {},
   "source": [
    "# 17.\n",
    "\n",
    "<img src=\"./pdf_images/문제17번.png\" width=\"70%\" />"
   ]
  },
  {
   "cell_type": "code",
   "execution_count": 48,
   "id": "759e606b-ed13-413e-a39e-f418a6014172",
   "metadata": {},
   "outputs": [
    {
     "name": "stdout",
     "output_type": "stream",
     "text": [
      "정상가격 : 20000원\n",
      "20% 할인 적용 가격 : 16000.0원\n"
     ]
    }
   ],
   "source": [
    "price = 20000\n",
    "sale = 80 / 100\n",
    "\n",
    "print(f\"정상가격 : {price}원\")\n",
    "print(f\"20% 할인 적용 가격 : {price * sale}원\")"
   ]
  },
  {
   "cell_type": "markdown",
   "id": "7470d834-cb97-4854-8aa8-3d4fd8b7c767",
   "metadata": {},
   "source": [
    "# 18. 변수의 데이터 타입 \n",
    "\n",
    "<img src=\"./pdf_images/문제18번.png\" width=\"70%\" />"
   ]
  },
  {
   "cell_type": "code",
   "execution_count": 51,
   "id": "162eed4a-e694-43d5-a7e6-0f500e205acf",
   "metadata": {},
   "outputs": [
    {
     "name": "stdout",
     "output_type": "stream",
     "text": [
      "<class 'int'> <class 'float'> <class 'str'> <class 'list'> <class 'tuple'> <class 'set'>\n"
     ]
    }
   ],
   "source": [
    "print(type(15), type(0.13), type(\"홍길동\"), type([1, 2, 3]), type((1, 3, 5)), type({3, 5, 7}))"
   ]
  },
  {
   "cell_type": "markdown",
   "id": "4b2c29c1-bdc1-4da6-ae33-c202146e2758",
   "metadata": {},
   "source": [
    "# 19. 서식 지정자 % 사용하여 문자열 포매팅\n",
    "\n",
    "<img src=\"./pdf_images/문제19번.png\" width=\"70%\" />"
   ]
  },
  {
   "cell_type": "code",
   "execution_count": 54,
   "id": "0b959871-ef66-4181-9b99-40cea9b6c9d9",
   "metadata": {},
   "outputs": [
    {
     "name": "stdout",
     "output_type": "stream",
     "text": [
      "내 이름은 김진우, 나이는 34살이고 키는 184.5이다.\n"
     ]
    }
   ],
   "source": [
    "age, name, height = 34, \"김진우\", 184.5\n",
    "\n",
    "print(\"내 이름은 %s, 나이는 %d살이고 키는 %.1f이다.\" % (name, age, height))"
   ]
  },
  {
   "cell_type": "markdown",
   "id": "68a1d51d-e592-4544-ac09-887d18605f60",
   "metadata": {},
   "source": [
    "# 20. 문자열 슬라이싱 \n",
    "\n",
    "<img src=\"./pdf_images/문제20번.png\" width=\"70%\" />"
   ]
  },
  {
   "cell_type": "code",
   "execution_count": 57,
   "id": "581b2705-af3c-4326-9cc7-d1876e129c08",
   "metadata": {},
   "outputs": [
    {
     "name": "stdout",
     "output_type": "stream",
     "text": [
      "t\n"
     ]
    }
   ],
   "source": [
    "txt = \"show me the money\"\n",
    "\n",
    "print(txt[8])"
   ]
  },
  {
   "cell_type": "markdown",
   "id": "b86b833f-40d1-4524-886e-ced85498e9bc",
   "metadata": {},
   "source": [
    "# 21. len()\n",
    "\n",
    "<img src=\"./pdf_images/문제21번.png\" width=\"70%\" />"
   ]
  },
  {
   "cell_type": "code",
   "execution_count": 60,
   "id": "015ea678-c5ba-4680-944b-c1e568176f81",
   "metadata": {},
   "outputs": [
    {
     "name": "stdout",
     "output_type": "stream",
     "text": [
      "17\n"
     ]
    }
   ],
   "source": [
    "txt = \"show me the money\"\n",
    "\n",
    "print(len(txt))"
   ]
  },
  {
   "cell_type": "markdown",
   "id": "9b75f2f5-0ccd-4527-8e47-32aca44dcb7d",
   "metadata": {},
   "source": [
    "# 22. split()\n",
    "\n",
    "<img src=\"./pdf_images/문제22번.png\" width=\"70%\" />"
   ]
  },
  {
   "cell_type": "code",
   "execution_count": 63,
   "id": "b7f18c06-cc3b-4106-be1b-232943220573",
   "metadata": {},
   "outputs": [
    {
     "name": "stdout",
     "output_type": "stream",
     "text": [
      "['show', 'me', 'the', 'money']\n"
     ]
    }
   ],
   "source": [
    "txt = \"show me the money\"\n",
    "\n",
    "print(txt.split(\" \"))"
   ]
  },
  {
   "cell_type": "markdown",
   "id": "daa879eb-5366-426e-bf88-93c3e6814e8c",
   "metadata": {},
   "source": [
    "# 23. find()\n",
    "\n",
    "<img src=\"./pdf_images/문제23번.png\" width=\"70%\" />"
   ]
  },
  {
   "cell_type": "code",
   "execution_count": 66,
   "id": "d45c07ec-5d93-433a-aacf-f507aaac1245",
   "metadata": {},
   "outputs": [
    {
     "name": "stdout",
     "output_type": "stream",
     "text": [
      "2\n"
     ]
    }
   ],
   "source": [
    "rainbow = \"빨주노초파남보\"\n",
    "\n",
    "print(rainbow.find(\"노\"))"
   ]
  },
  {
   "cell_type": "markdown",
   "id": "e0d97752-e196-4d34-a27e-0801fd6ad582",
   "metadata": {},
   "source": [
    "# 24. in\n",
    "\n",
    "<img src=\"./pdf_images/문제24번.png\" width=\"70%\" />"
   ]
  },
  {
   "cell_type": "code",
   "execution_count": 69,
   "id": "93ed618c-0fc8-42cc-9757-1567ea9d14ac",
   "metadata": {},
   "outputs": [
    {
     "name": "stdout",
     "output_type": "stream",
     "text": [
      "False\n"
     ]
    }
   ],
   "source": [
    "hello = \"hello world\"\n",
    "\n",
    "print(\"a\" in hello)"
   ]
  },
  {
   "cell_type": "markdown",
   "id": "d2bec0a7-8f3f-45e1-b52d-00f60a4d5b15",
   "metadata": {},
   "source": [
    "# 25. strip(), lstrip(), rstrip()\n",
    "\n",
    "<img src=\"./pdf_images/문제25번.png\" width=\"70%\" />"
   ]
  },
  {
   "cell_type": "code",
   "execution_count": 72,
   "id": "1ce462d0-dabc-4814-a711-9f3428a3ba55",
   "metadata": {},
   "outputs": [
    {
     "name": "stdout",
     "output_type": "stream",
     "text": [
      "홍길동\n",
      "홍길동    \n",
      "   홍길동\n"
     ]
    }
   ],
   "source": [
    "name = \"   홍길동    \"\n",
    "\n",
    "print(name.strip())\n",
    "print(name.lstrip())\n",
    "print(name.rstrip())"
   ]
  },
  {
   "cell_type": "markdown",
   "id": "8151bcf3-bd73-4880-9375-71c1f164df7e",
   "metadata": {},
   "source": [
    "# 26. upper(), lower()\n",
    "\n",
    "<img src=\"./pdf_images/문제26번.png\" width=\"70%\" />"
   ]
  },
  {
   "cell_type": "code",
   "execution_count": 75,
   "id": "3577a99d-c8fb-4eab-86d9-8aec3e3218a5",
   "metadata": {},
   "outputs": [
    {
     "name": "stdout",
     "output_type": "stream",
     "text": [
      "HELLO WORLD\n",
      "hello world\n"
     ]
    }
   ],
   "source": [
    "hello = \"hello world\"\n",
    "HELLO = \"HELLO WORLD\"\n",
    "\n",
    "print(hello.upper())\n",
    "print(HELLO.lower())"
   ]
  },
  {
   "cell_type": "markdown",
   "id": "07315255-84c6-477a-8279-4835469784b9",
   "metadata": {},
   "source": [
    "# 27. 문자열 슬라이싱 1\n",
    "\n",
    "<img src=\"./pdf_images/문제27번.png\" width=\"70%\" />"
   ]
  },
  {
   "cell_type": "code",
   "execution_count": 78,
   "id": "56d34301-cee8-472c-b11f-c472e894061f",
   "metadata": {},
   "outputs": [
    {
     "name": "stdout",
     "output_type": "stream",
     "text": [
      "come\n"
     ]
    }
   ],
   "source": [
    "proverb = \"By doubting we come at the truth\"\n",
    "\n",
    "print(proverb[15:19])"
   ]
  },
  {
   "cell_type": "markdown",
   "id": "5da77fb0-2730-46c0-a9ce-685de58ba941",
   "metadata": {},
   "source": [
    "# 28. 문자열 슬라이싱 2\n",
    "\n",
    "<img src=\"./pdf_images/문제28번.png\" width=\"70%\" />"
   ]
  },
  {
   "cell_type": "code",
   "execution_count": 81,
   "id": "6fb4aab9-dbc8-4e67-a23c-93afeea8065a",
   "metadata": {},
   "outputs": [
    {
     "name": "stdout",
     "output_type": "stream",
     "text": [
      "truth\n"
     ]
    }
   ],
   "source": [
    "proverb = \"By doubting we come at the truth\"\n",
    "\n",
    "print(proverb[-5:])"
   ]
  },
  {
   "cell_type": "markdown",
   "id": "f80cc3f5-4520-42d4-80a2-40841fb0fcc1",
   "metadata": {},
   "source": [
    "# 29. replace()\n",
    "\n",
    "<img src=\"./pdf_images/문제29번.png\" width=\"70%\" />"
   ]
  },
  {
   "cell_type": "code",
   "execution_count": 84,
   "id": "b893fea6-d87a-46aa-8d58-c3dc2d3678e6",
   "metadata": {},
   "outputs": [
    {
     "name": "stdout",
     "output_type": "stream",
     "text": [
      "Life is short, you need python\n"
     ]
    }
   ],
   "source": [
    "txt = \"Life is long, you need python\"\n",
    "\n",
    "print(txt.replace(\"long\", \"short\"))"
   ]
  },
  {
   "cell_type": "markdown",
   "id": "b9fc52e6-d80b-4286-b1c1-800c20a52800",
   "metadata": {},
   "source": [
    "# 30. 알고리즘 - 통신료 구하기\n",
    "\n",
    "<img src=\"./pdf_images/문제30번.png\" width=\"70%\" />"
   ]
  },
  {
   "cell_type": "code",
   "execution_count": 87,
   "id": "e07ff829-a358-4587-9cbe-1025e91f8dcd",
   "metadata": {},
   "outputs": [
    {
     "name": "stdout",
     "output_type": "stream",
     "text": [
      "2년간 총 통신료는 1183500원 입니다.\n"
     ]
    }
   ],
   "source": [
    "phone = 825900\n",
    "monthly_fee = 14900\n",
    "period = 2\n",
    "bill = monthly_fee * period * 12\n",
    "total = bill + phone\n",
    "\n",
    "print(\"{}년간 총 통신료는 {}원 입니다.\".format(period, total))"
   ]
  },
  {
   "cell_type": "markdown",
   "id": "43dc7cc7-cec3-4272-895b-ab6fdf662b9e",
   "metadata": {},
   "source": [
    "# 31. replace()\n",
    "\n",
    "<img src=\"./pdf_images/문제31번.png\" width=\"70%\" />"
   ]
  },
  {
   "cell_type": "code",
   "execution_count": 90,
   "id": "676b32c5-af81-4f16-a167-581084ac8113",
   "metadata": {},
   "outputs": [
    {
     "name": "stdout",
     "output_type": "stream",
     "text": [
      "<class 'int'>\n",
      "51820000\n"
     ]
    }
   ],
   "source": [
    "population = \"51,820,000\"\n",
    "population = int(population.replace(\",\", \"\"))\n",
    "\n",
    "print(type(population))\n",
    "print(population)"
   ]
  },
  {
   "cell_type": "markdown",
   "id": "036fa0d9-04e3-4576-829d-3348ca53e0f2",
   "metadata": {},
   "source": [
    "# 32. split()\n",
    "\n",
    "<img src=\"./pdf_images/문제32번.png\" width=\"70%\" />"
   ]
  },
  {
   "cell_type": "code",
   "execution_count": 93,
   "id": "9891ffeb-1c71-4387-a15b-32d9c40a30b2",
   "metadata": {},
   "outputs": [
    {
     "name": "stdout",
     "output_type": "stream",
     "text": [
      "['1948', '08', '15']\n"
     ]
    }
   ],
   "source": [
    "data = \"1948-08-15\"\n",
    "\n",
    "print(data.split(\"-\"))"
   ]
  },
  {
   "cell_type": "markdown",
   "id": "475d7c93-8d65-42ff-8c7b-58c17ae5e317",
   "metadata": {},
   "source": [
    "# 33. 리스트 인덱스 사용 및 문자열 포매팅\n",
    "\n",
    "<img src=\"./pdf_images/문제33번.png\" width=\"70%\" />"
   ]
  },
  {
   "cell_type": "code",
   "execution_count": 96,
   "id": "a2f9ba27-5d79-4747-927b-44da66939ed8",
   "metadata": {},
   "outputs": [
    {
     "name": "stdout",
     "output_type": "stream",
     "text": [
      "홍길동 회원님의 키는 185.4이고 몸무게는 86입니다.\n"
     ]
    }
   ],
   "source": [
    "member = [\"홍길동\", 185.4, 86]\n",
    "\n",
    "print(f\"{member[0]} 회원님의 키는 {member[1]}이고 몸무게는 {member[2]}입니다.\")"
   ]
  },
  {
   "cell_type": "markdown",
   "id": "6011382f-e75c-4353-b8ec-f090929f1137",
   "metadata": {},
   "source": [
    "# 34. 리스트 선언 및 출력\n",
    "\n",
    "<img src=\"./pdf_images/문제34번.png\" width=\"70%\" />"
   ]
  },
  {
   "cell_type": "code",
   "execution_count": 99,
   "id": "34c63019-5c5f-4988-a0f1-68291d6fc907",
   "metadata": {},
   "outputs": [
    {
     "name": "stdout",
     "output_type": "stream",
     "text": [
      "['햄버거', '피자', '치킨', '부닭찌개', '족발']\n"
     ]
    }
   ],
   "source": [
    "menu = [\"햄버거\", \"피자\", \"치킨\", \"부닭찌개\", \"족발\"]\n",
    "\n",
    "print(menu)"
   ]
  },
  {
   "cell_type": "markdown",
   "id": "6193e17e-ed66-4bf6-94b2-0f13928f8056",
   "metadata": {},
   "source": [
    "# 35. 리스트 선언 및 출력\n",
    "\n",
    "<img src=\"./pdf_images/문제35번.png\" width=\"70%\" />"
   ]
  },
  {
   "cell_type": "code",
   "execution_count": 102,
   "id": "7af92afa-56d4-44c1-8a25-ba3852251a97",
   "metadata": {},
   "outputs": [
    {
     "name": "stdout",
     "output_type": "stream",
     "text": [
      "['햄버거', '피자', '치킨', '부닭찌개', '족발', '김밥']\n"
     ]
    }
   ],
   "source": [
    "food_list = [\"햄버거\", \"피자\", \"치킨\", \"부닭찌개\", \"족발\"]\n",
    "food_list.append(\"김밥\")\n",
    "\n",
    "print(food_list)"
   ]
  },
  {
   "cell_type": "markdown",
   "id": "495553f4-d0ae-48ac-af91-ccc350282686",
   "metadata": {},
   "source": [
    "# 36. 리스트 요소 삭제하기\n",
    "\n",
    "<img src=\"./pdf_images/문제36번.png\" width=\"70%\" />"
   ]
  },
  {
   "cell_type": "code",
   "execution_count": 105,
   "id": "338f3721-c8a2-4ead-9eab-2957df2d078d",
   "metadata": {},
   "outputs": [
    {
     "name": "stdout",
     "output_type": "stream",
     "text": [
      "['햄버거', '부닭찌개', '족발', '김밥']\n"
     ]
    }
   ],
   "source": [
    "food_list = [\"햄버거\", \"피자\", \"치킨\", \"부닭찌개\", \"족발\", \"김밥\"]\n",
    "food_list.pop(1)\n",
    "food_list.pop(1)\n",
    "# del food_list[1:3]\n",
    "\n",
    "print(food_list)"
   ]
  },
  {
   "cell_type": "markdown",
   "id": "a581d013-a4f2-49d7-a26f-9cb9a6e11c5e",
   "metadata": {},
   "source": [
    "# 37. 리스트 요소 교체하기\n",
    "\n",
    "<img src=\"./pdf_images/문제37번.png\" width=\"70%\" />"
   ]
  },
  {
   "cell_type": "code",
   "execution_count": 108,
   "id": "fa01138e-aaac-41e0-97d0-641e972b6c41",
   "metadata": {},
   "outputs": [
    {
     "name": "stdout",
     "output_type": "stream",
     "text": [
      "['햄버거', '피자', '치킨', '부대찌개', '족발', '김밥']\n"
     ]
    }
   ],
   "source": [
    "food_list = [\"햄버거\", \"피자\", \"치킨\", \"부닭찌개\", \"족발\", \"김밥\"]\n",
    "food_list[3] = \"부대찌개\"\n",
    "\n",
    "print(food_list)"
   ]
  },
  {
   "cell_type": "markdown",
   "id": "db1faaa8-14b0-453c-895f-d4b0705afe36",
   "metadata": {},
   "source": [
    "# 38. 리스트 요소 삭제하기\n",
    "\n",
    "<img src=\"./pdf_images/문제38번.png\" width=\"70%\" />"
   ]
  },
  {
   "cell_type": "code",
   "execution_count": 111,
   "id": "a80a5eb2-57b8-4824-947a-bfdd5f076dc0",
   "metadata": {},
   "outputs": [
    {
     "name": "stdout",
     "output_type": "stream",
     "text": [
      "['시민', '시민', '시민', '시민', '시민', '시민']\n"
     ]
    }
   ],
   "source": [
    "AmongUs = [\"시민\", \"시민\", \"임포스터\", \"시민\", \"시민\", \"시민\", \"시민\"]\n",
    "AmongUs.remove(\"임포스터\")\n",
    "\n",
    "print(AmongUs)"
   ]
  },
  {
   "cell_type": "markdown",
   "id": "f71131cb-0f7e-447f-9a47-0f32bdc2eae5",
   "metadata": {},
   "source": [
    "# 39. 리스트 값 삽입하기 - insert()\n",
    "\n",
    "<img src=\"./pdf_images/문제39번.png\" width=\"70%\" />"
   ]
  },
  {
   "cell_type": "code",
   "execution_count": 114,
   "id": "36b364b0-8f20-4698-b7ea-c5b2728050aa",
   "metadata": {},
   "outputs": [
    {
     "name": "stdout",
     "output_type": "stream",
     "text": [
      "['햄버거', '피자', '치킨', '부닭찌개', '불고기', '족발', '김밥']\n"
     ]
    }
   ],
   "source": [
    "food_list = [\"햄버거\", \"피자\", \"치킨\", \"부닭찌개\", \"족발\", \"김밥\"]\n",
    "food_list.insert(4, \"불고기\")\n",
    "\n",
    "print(food_list)"
   ]
  },
  {
   "cell_type": "markdown",
   "id": "05970490-b99f-40b5-a49d-9ccd7950f42c",
   "metadata": {},
   "source": [
    "# 40. 리스트 최대값, 최소값 구하기\n",
    "\n",
    "<img src=\"./pdf_images/문제40번.png\" width=\"70%\" />"
   ]
  },
  {
   "cell_type": "code",
   "execution_count": 117,
   "id": "132e333e-fa31-41af-9a4f-ad624d70396b",
   "metadata": {},
   "outputs": [
    {
     "name": "stdout",
     "output_type": "stream",
     "text": [
      "최솟값은 1이고 최댓값은 9999입니다.\n"
     ]
    }
   ],
   "source": [
    "num_list = [1, 3, 5, 7, 11, 123, 1240, 9999]\n",
    "\n",
    "print(f\"최솟값은 {min(num_list)}이고 최댓값은 {max(num_list)}입니다.\")"
   ]
  },
  {
   "cell_type": "markdown",
   "id": "1509d75c-dade-4fdf-a4be-a8c9848ff029",
   "metadata": {},
   "source": [
    "# 41. 리스트 조건 추출하기\n",
    "\n",
    "<img src=\"./pdf_images/문제41번.png\" width=\"70%\" />"
   ]
  },
  {
   "cell_type": "code",
   "execution_count": 120,
   "id": "315141bc-10f7-4a83-b842-1dda5fd0f5ef",
   "metadata": {},
   "outputs": [
    {
     "name": "stdout",
     "output_type": "stream",
     "text": [
      "['dog', 'cat', 'cow']\n"
     ]
    }
   ],
   "source": [
    "animals = [\"dog\", \"cat\", \"rabbit\", \"cow\", \"goat\", \"sheep\", \"mouse\"]\n",
    "animal3 = []\n",
    "\n",
    "for i in animals :\n",
    "    if len(i) == 3 :\n",
    "        animal3.append(i)\n",
    "        \n",
    "print(animal3)"
   ]
  },
  {
   "cell_type": "markdown",
   "id": "e72d185d-2e3a-4f77-86f2-7756702b1ef7",
   "metadata": {},
   "source": [
    "# 42. 리스트를 활용한 반복문 할당\n",
    "\n",
    "<img src=\"./pdf_images/문제42번.png\" width=\"70%\" />"
   ]
  },
  {
   "cell_type": "code",
   "execution_count": 123,
   "id": "1cc7f22b-5f7b-436b-adc7-afe3b87968c5",
   "metadata": {},
   "outputs": [
    {
     "name": "stdout",
     "output_type": "stream",
     "text": [
      "[150.0, 360.0, 453.0, 548.0, 687.0, 787.0, 889.0]\n",
      "[150.0, 360.0, 453.0, 548.0, 687.0, 787.0, 889.0]\n"
     ]
    }
   ],
   "source": [
    "dot = [1.5, 3.6, 4.53, 5.48, 6.87, 7.87, 8.89]\n",
    "dot100 = []\n",
    "\n",
    "for i in dot :\n",
    "    dot100.append(i * 100)\n",
    "print(dot100)\n",
    "\n",
    "a = 0\n",
    "while a < len(dot):\n",
    "    dot100[a] = dot[a] * 100\n",
    "    a += 1\n",
    "print(dot100)"
   ]
  },
  {
   "cell_type": "markdown",
   "id": "37a29154-f976-4c48-9853-e763f401eab9",
   "metadata": {},
   "source": [
    "# 43. 리스트 요소의 평균 구하기\n",
    "<img src=\"./pdf_images/문제43번.png\" width=\"70%\" />"
   ]
  },
  {
   "cell_type": "code",
   "execution_count": 126,
   "id": "3d9df15f-5ad0-407d-82a4-26776fe12ac2",
   "metadata": {},
   "outputs": [
    {
     "name": "stdout",
     "output_type": "stream",
     "text": [
      "80.0\n"
     ]
    }
   ],
   "source": [
    "score = [60, 75, 85, 85, 85, 90, 70, 90, 80]\n",
    "avg = sum(score) / len(score)\n",
    "\n",
    "# 2.\n",
    "# total = 0\n",
    "# for i in score :\n",
    "#     total += i\n",
    "# avg = total / len(score)\n",
    "\n",
    "print(avg)"
   ]
  },
  {
   "cell_type": "markdown",
   "id": "37375d04-72f3-4ed0-9576-52ccb34c2721",
   "metadata": {},
   "source": [
    "# 44. 해론의 공식 구현하기\n",
    "\n",
    "<img src=\"./pdf_images/문제44번.png\" width=\"70%\" />"
   ]
  },
  {
   "cell_type": "code",
   "execution_count": 129,
   "id": "5af835da-37f8-4c9d-ad66-c88ed004c344",
   "metadata": {},
   "outputs": [
    {
     "name": "stdout",
     "output_type": "stream",
     "text": [
      "삼각형의 넓이는 14.696938입니다.\n"
     ]
    }
   ],
   "source": [
    "a, b, c = 5, 6, 7\n",
    "s = (a + b + c) / 2\n",
    "area = (s * (s - a) * (s - b) * (s - c)) ** 0.5\n",
    "\n",
    "print(\"삼각형의 넓이는 %f입니다.\" % area)"
   ]
  },
  {
   "cell_type": "markdown",
   "id": "9e36f532-6fd0-48d7-a077-1c44abb90c7b",
   "metadata": {},
   "source": [
    "# 45. 문자열 슬라이싱 1\n",
    "\n",
    "<img src=\"./pdf_images/문제45번.png\" width=\"70%\" />"
   ]
  },
  {
   "cell_type": "code",
   "execution_count": 132,
   "id": "3a4a64d0-1103-4eb7-bd66-d4179e903949",
   "metadata": {},
   "outputs": [
    {
     "name": "stdout",
     "output_type": "stream",
     "text": [
      "[101, 103, 105, 107]\n",
      "[101, 103, 105, 107]\n"
     ]
    }
   ],
   "source": [
    "num_list = [100, 101, 102, 103, 104, 105, 106, 107, 108]\n",
    "odd = []\n",
    "\n",
    "for i in num_list :\n",
    "    if i % 2 == 1 :\n",
    "        odd.append(i)\n",
    "        \n",
    "print(odd)\n",
    "print(num_list[1::2])"
   ]
  },
  {
   "cell_type": "markdown",
   "id": "70185209-0ab7-49a9-b62f-53d76cad4664",
   "metadata": {},
   "source": [
    "# 46. 문자열 슬라이싱 2\n",
    "\n",
    "<img src=\"./pdf_images/문제46번.png\" width=\"70%\" />"
   ]
  },
  {
   "cell_type": "code",
   "execution_count": 135,
   "id": "11ddfd66-36fb-4669-84bb-17b2a061d3fc",
   "metadata": {},
   "outputs": [
    {
     "name": "stdout",
     "output_type": "stream",
     "text": [
      "[3, 6, 9]\n"
     ]
    }
   ],
   "source": [
    "num_list = [1, 2, 3, 4, 5, 6, 7, 8, 9]\n",
    "\n",
    "print(num_list[2::3])"
   ]
  },
  {
   "cell_type": "markdown",
   "id": "97644a3e-624c-4324-b876-8bb6bcf620d8",
   "metadata": {},
   "source": [
    "# 47.\n",
    "\n",
    "<img src=\"./pdf_images/문제47번.png\" width=\"70%\" />"
   ]
  },
  {
   "cell_type": "code",
   "execution_count": 138,
   "id": "9076f088-c83e-4d73-bc85-596b1fe5ccf3",
   "metadata": {},
   "outputs": [
    {
     "name": "stdout",
     "output_type": "stream",
     "text": [
      "[9, 8, 7, 6, 5, 4, 3, 2, 1]\n"
     ]
    }
   ],
   "source": [
    "nums = [1, 2, 3, 4, 5, 6, 7, 8, 9]\n",
    "\n",
    "print(nums[::-1])"
   ]
  },
  {
   "cell_type": "markdown",
   "id": "b66acccc-cccb-4086-bb01-5badac994ea8",
   "metadata": {},
   "source": [
    "# 48. split() 리스트화\n",
    "\n",
    "<img src=\"./pdf_images/문제48번.png\" width=\"70%\" />"
   ]
  },
  {
   "cell_type": "code",
   "execution_count": 141,
   "id": "b856e517-94a8-4f76-b35b-2e2e9e9c023a",
   "metadata": {},
   "outputs": [
    {
     "name": "stdout",
     "output_type": "stream",
     "text": [
      "['나는', '너를', '사랑해']\n"
     ]
    }
   ],
   "source": [
    "message = \"나는/너를/사랑해\"\n",
    "\n",
    "print(message.split(\"/\"))"
   ]
  },
  {
   "cell_type": "markdown",
   "id": "a384af91-6b8f-4391-b51c-0472ed279ece",
   "metadata": {},
   "source": [
    "# 49. 리스트와 리스트 합치기\n",
    "\n",
    "<img src=\"./pdf_images/문제49번.png\" width=\"70%\" />"
   ]
  },
  {
   "cell_type": "code",
   "execution_count": 144,
   "id": "4fda96b3-d8b2-4221-8974-5d311c259dab",
   "metadata": {},
   "outputs": [
    {
     "name": "stdout",
     "output_type": "stream",
     "text": [
      "['김민수', '이민수', '박민수', '황민수', '곽민수', '권민수', '김은혜', '이은혜', '박은혜', '황은혜', '곽은혜', '권은혜']\n"
     ]
    }
   ],
   "source": [
    "A_student = [\"김민수\", \"이민수\", \"박민수\", \"황민수\", \"곽민수\", \"권민수\"]\n",
    "B_student = [\"김은혜\", \"이은혜\", \"박은혜\", \"황은혜\", \"곽은혜\", \"권은혜\"]\n",
    "A_student.extend(B_student)\n",
    "\n",
    "print(A_student)"
   ]
  },
  {
   "cell_type": "markdown",
   "id": "f5fa8cc0-9f77-4ef3-889d-e614132b8020",
   "metadata": {},
   "source": [
    "# 50. count(), len() 리스트 갯수 연산하기\n",
    "\n",
    "<img src=\"./pdf_images/문제50번.png\" width=\"70%\" />"
   ]
  },
  {
   "cell_type": "code",
   "execution_count": 147,
   "id": "66d24853-459b-4ff8-aaff-fb98d4576545",
   "metadata": {},
   "outputs": [
    {
     "name": "stdout",
     "output_type": "stream",
     "text": [
      "리스트 results는 총 9개의 요소를 가지고 있고, True는 5개 False는 4개입니다.\n"
     ]
    }
   ],
   "source": [
    "results = [True, False, False, True, False, True, True, False, True]\n",
    "\n",
    "print(\"리스트 results는 총 {}개의 요소를 가지고 있고, True는 {}개 False는 {}개입니다.\".format(len(results), results.count(True), results.count(False)))"
   ]
  },
  {
   "cell_type": "markdown",
   "id": "d8d2ab29-b333-4ff8-a94c-15b4c07e3160",
   "metadata": {},
   "source": [
    "# 51. 튜플 할당하기\n",
    "\n",
    "<img src=\"./pdf_images/문제51번.png\" width=\"70%\" />"
   ]
  },
  {
   "cell_type": "code",
   "execution_count": 152,
   "id": "3d40fbe3-df3c-4e21-bf0a-354383b3ea6c",
   "metadata": {},
   "outputs": [
    {
     "name": "stdout",
     "output_type": "stream",
     "text": [
      "(700, '왕라면', 65.3, True)\n",
      "<class 'tuple'>\n"
     ]
    }
   ],
   "source": [
    "noodle = (700, \"왕라면\", 65.3, True)\n",
    "\n",
    "print(noodle)\n",
    "print(type(noodle))"
   ]
  },
  {
   "cell_type": "markdown",
   "id": "f62f6d8e-642e-4626-a297-a8fb36f59416",
   "metadata": {},
   "source": [
    "# 52. 수정이 불가능한 튜플의 특징 \n",
    "\n",
    "<img src=\"./pdf_images/문제52번.png\" width=\"70%\" />"
   ]
  },
  {
   "cell_type": "code",
   "execution_count": 155,
   "id": "5a05024b-1cac-46dd-adba-fdf8514c992e",
   "metadata": {},
   "outputs": [
    {
     "ename": "AttributeError",
     "evalue": "'tuple' object has no attribute 'append'",
     "output_type": "error",
     "traceback": [
      "\u001b[1;31m---------------------------------------------------------------------------\u001b[0m",
      "\u001b[1;31mAttributeError\u001b[0m                            Traceback (most recent call last)",
      "Cell \u001b[1;32mIn[155], line 2\u001b[0m\n\u001b[0;32m      1\u001b[0m nums \u001b[38;5;241m=\u001b[39m (\u001b[38;5;241m1\u001b[39m, \u001b[38;5;241m2\u001b[39m, \u001b[38;5;241m3\u001b[39m, \u001b[38;5;241m3\u001b[39m, \u001b[38;5;241m4\u001b[39m, \u001b[38;5;241m5\u001b[39m)\n\u001b[1;32m----> 2\u001b[0m nums\u001b[38;5;241m.\u001b[39mappend(\u001b[38;5;241m6\u001b[39m)\n\u001b[0;32m      3\u001b[0m \u001b[38;5;28mprint\u001b[39m(nums)\n",
      "\u001b[1;31mAttributeError\u001b[0m: 'tuple' object has no attribute 'append'"
     ]
    }
   ],
   "source": [
    "nums = (1, 2, 3, 3, 4, 5)\n",
    "nums.append(6)\n",
    "print(nums)       # AttributeError: 'tuple' object has no attribute 'append'"
   ]
  },
  {
   "cell_type": "markdown",
   "id": "2be9fead-5848-4652-9284-0a322775b0c9",
   "metadata": {},
   "source": [
    "# 53. 튜플에서 사용가능한 함수\n",
    "\n",
    "<img src=\"./pdf_images/문제53번.png\" width=\"70%\" />"
   ]
  },
  {
   "cell_type": "code",
   "execution_count": 158,
   "id": "4b766da5-7604-4c4e-a745-016df8d84590",
   "metadata": {},
   "outputs": [
    {
     "name": "stdout",
     "output_type": "stream",
     "text": [
      "튜플의 총 길이는 6이고 최댓값은 5, 최솟값은 1입니다.\n"
     ]
    }
   ],
   "source": [
    "nums = (1, 2, 3, 3, 4, 5)\n",
    "\n",
    "print(\"튜플의 총 길이는 {}이고 최댓값은 {}, 최솟값은 {}입니다.\".format(len(nums), max(nums), min(nums)))"
   ]
  },
  {
   "cell_type": "markdown",
   "id": "193194dc-f0fa-4fbd-8ce7-b441c7bc2a28",
   "metadata": {},
   "source": [
    "# 54. 문자열의 튜플 형변환\n",
    "\n",
    "<img src=\"./pdf_images/문제54번.png\" width=\"70%\" />"
   ]
  },
  {
   "cell_type": "code",
   "execution_count": 161,
   "id": "9aacfb91-ecb6-420b-a959-0df9493a980a",
   "metadata": {},
   "outputs": [
    {
     "name": "stdout",
     "output_type": "stream",
     "text": [
      "('가', '나', '라', '다', '마', '바', '사')\n"
     ]
    }
   ],
   "source": [
    "text = \"가나라다마바사\"\n",
    "\n",
    "print(tuple(text))"
   ]
  },
  {
   "cell_type": "markdown",
   "id": "05b8a425-0df8-45bf-aa1e-ff238d12b1df",
   "metadata": {},
   "source": [
    "# 55. 튜플 데이터 이용하기\n",
    "\n",
    "<img src=\"./pdf_images/문제55번.png\" width=\"70%\" />"
   ]
  },
  {
   "cell_type": "code",
   "execution_count": 164,
   "id": "50ec9ddf-a107-4883-b35c-eb33a0fd8c0d",
   "metadata": {},
   "outputs": [
    {
     "name": "stdout",
     "output_type": "stream",
     "text": [
      "(1, 2, 3, 4, 5)\n",
      "[1, 2, 3, 4, 5, 6, 7, 8, 9, 10, 11, 12, 13, 14, 15, 16, 17, 18, 19, 20, 21, 22, 23, 24, 25, 26, 27, 28, 29, 30]\n"
     ]
    }
   ],
   "source": [
    "nums = (1, 2, 3, 4, 5)\n",
    "list_nums = list(nums)\n",
    "\n",
    "for i in range(6, 31) :\n",
    "    list_nums.append(i)\n",
    "    i += 1\n",
    "\n",
    "# i = 6\n",
    "# while i <= 30 :\n",
    "#     list_nums.append(i)\n",
    "#     i += 1\n",
    "\n",
    "print(nums)\n",
    "print(list_nums)"
   ]
  },
  {
   "cell_type": "markdown",
   "id": "4fbe93bb-34a7-4933-992e-fac6231f18eb",
   "metadata": {},
   "source": [
    "# 56. 튜플의 장점, 데이터 용량 출력하기\n",
    "\n",
    "<img src=\"./pdf_images/문제56번.png\" width=\"70%\" />"
   ]
  },
  {
   "cell_type": "code",
   "execution_count": 167,
   "id": "1d9cfcaf-0f6a-4d48-a524-7e6f6fa63444",
   "metadata": {},
   "outputs": [],
   "source": [
    "import sys"
   ]
  },
  {
   "cell_type": "code",
   "execution_count": 169,
   "id": "54a47a01-2fba-430f-8ed8-4c7e223b4212",
   "metadata": {},
   "outputs": [
    {
     "name": "stdout",
     "output_type": "stream",
     "text": [
      "튜플 tnums과 리스트 lnums의 메모리 사이즈는 각각 80 bytes, 104bytes 입니다.\n"
     ]
    }
   ],
   "source": [
    "tnums = (1, 2, 3, 4, 5)\n",
    "lnums = [1, 2, 3, 4, 5]\n",
    "\n",
    "print(\"튜플 tnums과 리스트 lnums의 메모리 사이즈는 각각 {} bytes, {}bytes 입니다.\".format(sys.getsizeof(tnums), sys.getsizeof(lnums)))"
   ]
  },
  {
   "cell_type": "markdown",
   "id": "bfd77c7f-51ba-465c-8412-830aeae80e90",
   "metadata": {},
   "source": [
    "# 57. 튜플 슬라이싱\n",
    "\n",
    "<img src=\"./pdf_images/문제57번.png\" width=\"70%\" />"
   ]
  },
  {
   "cell_type": "code",
   "execution_count": 172,
   "id": "dfe4f634-6b3e-4cc7-aab6-da81a77a776d",
   "metadata": {},
   "outputs": [
    {
     "name": "stdout",
     "output_type": "stream",
     "text": [
      "('빨', '주', '노', '초')\n",
      "('노', '파', '보')\n",
      "('보', '남', '파')\n"
     ]
    }
   ],
   "source": [
    "# rainbow = (\"빨\", \"주\", \"노\", \"초\", \"파\", \"남\", \"보\")\n",
    "rainbow = \"빨\", \"주\", \"노\", \"초\", \"파\", \"남\", \"보\"\n",
    "\n",
    "print(rainbow[:4])\n",
    "print(rainbow[2::2])\n",
    "print(rainbow[-1:-4:-1])"
   ]
  },
  {
   "cell_type": "markdown",
   "id": "4c969e6b-2c9f-4d0f-b7b0-efa7beb02177",
   "metadata": {},
   "source": [
    "# 58. range 함수를 이용한 튜플 선언 \n",
    "\n",
    "<img src=\"./pdf_images/문제58번.png\" width=\"70%\" />"
   ]
  },
  {
   "cell_type": "code",
   "execution_count": 175,
   "id": "67c971d9-ea4d-43f7-817c-a10926b7fde7",
   "metadata": {},
   "outputs": [
    {
     "name": "stdout",
     "output_type": "stream",
     "text": [
      "(100, 98, 96, 94, 92, 90, 88, 86, 84, 82)\n"
     ]
    }
   ],
   "source": [
    "nums = tuple(range(100, 80, -2))\n",
    "\n",
    "print(nums)"
   ]
  },
  {
   "cell_type": "markdown",
   "id": "b211c5fe-863e-4726-8ce1-849a24594616",
   "metadata": {},
   "source": [
    "# 59. range 함수를 이용한 튜플 값 합계 구하기 \n",
    "\n",
    "<img src=\"./pdf_images/문제59번.png\" width=\"70%\" />"
   ]
  },
  {
   "cell_type": "code",
   "execution_count": 178,
   "id": "3388aa74-93c5-4558-a7c1-bc87f7851bde",
   "metadata": {},
   "outputs": [
    {
     "name": "stdout",
     "output_type": "stream",
     "text": [
      "1125750\n",
      "1125750\n"
     ]
    }
   ],
   "source": [
    "nums = tuple(range(1, 1501))\n",
    "print(sum(nums))\n",
    "\n",
    "total = 0\n",
    "for i in nums :\n",
    "    total += i\n",
    "    \n",
    "print(total)"
   ]
  },
  {
   "cell_type": "markdown",
   "id": "4367a4df-e1d6-445a-8a2e-cd795702cbdb",
   "metadata": {},
   "source": [
    "# 60. 집합 기본형 알아보기 \n",
    "\n",
    "<img src=\"./pdf_images/문제60번.png\" width=\"70%\" />"
   ]
  },
  {
   "cell_type": "code",
   "execution_count": 181,
   "id": "e77c1ae3-bf93-47af-92b8-505d5e66f55f",
   "metadata": {},
   "outputs": [
    {
     "name": "stdout",
     "output_type": "stream",
     "text": [
      "(7, 3.14, True, (1, 2, 3), [1, 2])\n"
     ]
    }
   ],
   "source": [
    "a = 7\n",
    "b = 3.14\n",
    "c = True\n",
    "d = (1, 2, 3)\n",
    "e = [1, 2]\n",
    "set1 = a, b, c, d, e\n",
    "\n",
    "print(set1)"
   ]
  },
  {
   "cell_type": "markdown",
   "id": "84e1af29-770a-4e9b-b697-2f3282c7aa17",
   "metadata": {},
   "source": [
    "# 61. 집합 항목 추가하기\n",
    "\n",
    "<img src=\"./pdf_images/문제61번.png\" width=\"70%\" />"
   ]
  },
  {
   "cell_type": "code",
   "execution_count": 184,
   "id": "ae56d7f3-41a3-48e8-9302-827efb29e458",
   "metadata": {},
   "outputs": [
    {
     "name": "stdout",
     "output_type": "stream",
     "text": [
      "{1, 2, 3, 4, 5, 6, 7, 8, 9, 10, 11, 12, 13, 14, 15}\n"
     ]
    }
   ],
   "source": [
    "set1 = {1, 2, 3, 4, 5}\n",
    "list1 = [11, 12, 13, 14, 15]\n",
    "\n",
    "for i in range(6, 11) :\n",
    "    set1.add(i)\n",
    "\n",
    "set1.update(list1)\n",
    "print(set1)"
   ]
  },
  {
   "cell_type": "markdown",
   "id": "6c110f8d-5f68-489f-b1ee-c582f119f785",
   "metadata": {},
   "source": [
    "# 62. 합집합 구하기\n",
    "\n",
    "<img src=\"./pdf_images/문제62번.png\" width=\"70%\" />"
   ]
  },
  {
   "cell_type": "code",
   "execution_count": 187,
   "id": "21400b96-6aba-4c56-bb32-6104de43abe9",
   "metadata": {},
   "outputs": [
    {
     "name": "stdout",
     "output_type": "stream",
     "text": [
      "집합 set1은 {1, 3, 5, 7, 9}, 집합 set2는 {2, 4, 6, 8, 10}이고 \n",
      "두 집합의 합집합 set3는 {1, 2, 3, 4, 5, 6, 7, 8, 9, 10}입니다.\n"
     ]
    }
   ],
   "source": [
    "odd_nums = {1, 3, 5, 7, 9}\n",
    "even_nums = {2, 4, 6, 8, 10}\n",
    "nums = odd_nums.union(even_nums)\n",
    "\n",
    "print(\"집합 set1은 {}, 집합 set2는 {}이고 \\n두 집합의 합집합 set3는 {}입니다.\".format(odd_nums, even_nums, nums))"
   ]
  },
  {
   "cell_type": "markdown",
   "id": "f76484ee-fa04-4865-aa5b-a5ca08cc4ac9",
   "metadata": {},
   "source": [
    "# 63. 집합 요소 제거하기\n",
    "\n",
    "<img src=\"./pdf_images/문제63번.png\" width=\"70%\" />"
   ]
  },
  {
   "cell_type": "code",
   "execution_count": 190,
   "id": "6ed43fb3-6f7a-4c29-90a0-9b0b5b622c72",
   "metadata": {},
   "outputs": [
    {
     "name": "stdout",
     "output_type": "stream",
     "text": [
      "{2, 4, 6, 8, 10}\n"
     ]
    }
   ],
   "source": [
    "nums = {1, 2, 3, 4, 5, 6, 7, 8, 9, 10}\n",
    "\n",
    "for i in range(1, 10, 2) :\n",
    "    nums.remove(i)\n",
    "\n",
    "print(nums)"
   ]
  },
  {
   "cell_type": "markdown",
   "id": "f59c10ed-8065-4dd6-b9f7-b328c3d066f5",
   "metadata": {},
   "source": [
    "# 64. 리스트 컴프리핸션 및 교집합 구하기\n",
    "\n",
    "<img src=\"./pdf_images/문제64번.png\" width=\"70%\" />"
   ]
  },
  {
   "cell_type": "code",
   "execution_count": 193,
   "id": "ba33f907-d405-4d5b-8367-468668a92817",
   "metadata": {},
   "outputs": [
    {
     "name": "stdout",
     "output_type": "stream",
     "text": [
      "{96, 66, 36, 6, 72, 42, 12, 78, 48, 18, 84, 54, 24, 90, 60, 30}\n",
      "{96, 66, 36, 6, 72, 42, 12, 78, 48, 18, 84, 54, 24, 90, 60, 30}\n"
     ]
    }
   ],
   "source": [
    "multiple2 = [i for i in range(2, 100, 2)]\n",
    "multiple3 = [i for i in range(3, 100, 3)]\n",
    "\n",
    "print(set(multiple2) & set(multiple3))\n",
    "print(set(multiple2).intersection(set(multiple3)))"
   ]
  },
  {
   "cell_type": "markdown",
   "id": "6ea3e3ae-7b15-48ee-a41c-65df7d21ccf8",
   "metadata": {},
   "source": [
    "# 65. 딕셔너리 선언하기\n",
    "\n",
    "<img src=\"./pdf_images/문제65번.png\" width=\"70%\" />"
   ]
  },
  {
   "cell_type": "code",
   "execution_count": 196,
   "id": "42b0bf4f-873e-4c6f-ae4d-fca49325be10",
   "metadata": {},
   "outputs": [
    {
     "name": "stdout",
     "output_type": "stream",
     "text": [
      "{'C27R502': 219000, '24MP400': 181450, 'C27G54T': 336890, 'Q32V3S': 337640}\n"
     ]
    }
   ],
   "source": [
    "monitor = {\n",
    "    \"C27R502\" : 219000,\n",
    "    \"24MP400\" : 181450,\n",
    "    \"C27G54T\" : 336890,\n",
    "    \"Q32V3S\" : 337640,\n",
    "}\n",
    "\n",
    "print(monitor)"
   ]
  },
  {
   "cell_type": "markdown",
   "id": "b79e5507-7a9f-4724-9f08-47f877b54f67",
   "metadata": {},
   "source": [
    "# 66. 딕셔너리 데이터 추가하기\n",
    "\n",
    "<img src=\"./pdf_images/문제66번.png\" width=\"70%\" />"
   ]
  },
  {
   "cell_type": "code",
   "execution_count": 199,
   "id": "d9a9221a-28e1-433d-82cc-01f72f5dbae8",
   "metadata": {},
   "outputs": [
    {
     "name": "stdout",
     "output_type": "stream",
     "text": [
      "{'C27R502': 219000, '24MP400': 181450, 'C27G54T': 336890, 'Q32V3S': 337640, '32QN650': 398610, '24MK430H': 185600}\n"
     ]
    }
   ],
   "source": [
    "new_mo = {\n",
    "    \"32QN650\" : 398610, \n",
    "    \"24MK430H\" : 185600\n",
    "}\n",
    "monitor.update(new_mo)\n",
    "\n",
    "# monitor[\"32QN650\"] = 398610\n",
    "# monitor[\"24MK430H\"] = 185600\n",
    "print(monitor)"
   ]
  },
  {
   "cell_type": "markdown",
   "id": "bddc3282-18dc-4f08-9872-e213ccc715be",
   "metadata": {},
   "source": [
    "# 67. 딕셔너리 keys()와 values() 사용하기\n",
    "\n",
    "<img src=\"./pdf_images/문제67번.png\" width=\"70%\" />"
   ]
  },
  {
   "cell_type": "code",
   "execution_count": 202,
   "id": "4714efdf-ffc3-4339-a230-390bf43e9eee",
   "metadata": {},
   "outputs": [
    {
     "name": "stdout",
     "output_type": "stream",
     "text": [
      "['C27R502', '24MP400', 'C27G54T', 'Q32V3S']\n",
      "[219000, 181450, 336890, 337640]\n"
     ]
    }
   ],
   "source": [
    "monitor = {\n",
    "    \"C27R502\" : 219000,\n",
    "    \"24MP400\" : 181450,\n",
    "    \"C27G54T\" : 336890,\n",
    "    \"Q32V3S\" : 337640,\n",
    "}\n",
    "\n",
    "monitor_key = monitor.keys()\n",
    "monitor_value = monitor.values()\n",
    "\n",
    "print(list(monitor_key))\n",
    "print(list(monitor_value))"
   ]
  },
  {
   "cell_type": "markdown",
   "id": "cfa87b54-2739-404d-9d15-8b056d222f59",
   "metadata": {},
   "source": [
    "# 68. key 값 반복 출력하기\n",
    "\n",
    "<img src=\"./pdf_images/문제68번.png\" width=\"70%\" />"
   ]
  },
  {
   "cell_type": "code",
   "execution_count": 205,
   "id": "b6564da4-1c59-45d3-a4d3-43d09a3a4f8f",
   "metadata": {},
   "outputs": [
    {
     "name": "stdout",
     "output_type": "stream",
     "text": [
      "개 고양이 소 양 \n",
      "\n"
     ]
    }
   ],
   "source": [
    "animals = {\n",
    "    \"개\" : \"dog\",\n",
    "    \"고양이\" : \"cat\",\n",
    "    \"소\" : \"cow\", \n",
    "    \"양\" : \"sheep\"\n",
    "}\n",
    "\n",
    "for i in animals :\n",
    "    print(i, end=\" \")\n",
    "print('\\n')"
   ]
  },
  {
   "cell_type": "markdown",
   "id": "e08dc6a1-95c2-43c6-8fd1-60bbf3123a53",
   "metadata": {},
   "source": [
    "# 69. value 값 반복 출력하기\n",
    "\n",
    "<img src=\"./pdf_images/문제69번.png\" width=\"70%\" />"
   ]
  },
  {
   "cell_type": "code",
   "execution_count": 208,
   "id": "9a5008a5-6daf-4d7b-9bee-22d8bcf2992e",
   "metadata": {},
   "outputs": [
    {
     "name": "stdout",
     "output_type": "stream",
     "text": [
      "dog cat cow sheep \n",
      "\n"
     ]
    }
   ],
   "source": [
    "animals = {\n",
    "    \"개\" : \"dog\",\n",
    "    \"고양이\" : \"cat\",\n",
    "    \"소\" : \"cow\", \n",
    "    \"양\" : \"sheep\"\n",
    "}\n",
    "\n",
    "for i in animals.values() :\n",
    "    print(i, end=\" \")\n",
    "print('\\n')"
   ]
  },
  {
   "cell_type": "markdown",
   "id": "846f0337-be1f-4942-9ee0-4e10a669dc14",
   "metadata": {},
   "source": [
    "# 70. items() 사용, 반복 출력하기\n",
    "\n",
    "<img src=\"./pdf_images/문제70번.png\" width=\"70%\" />"
   ]
  },
  {
   "cell_type": "code",
   "execution_count": 211,
   "id": "85b82120-ad41-4e1d-bb7b-bf95158dbb94",
   "metadata": {},
   "outputs": [
    {
     "name": "stdout",
     "output_type": "stream",
     "text": [
      "key = 개, value = dog\n",
      "key = 고양이, value = cat\n",
      "key = 소, value = cow\n",
      "key = 양, value = sheep\n"
     ]
    }
   ],
   "source": [
    "animals = {\n",
    "    \"개\" : \"dog\",\n",
    "    \"고양이\" : \"cat\",\n",
    "    \"소\" : \"cow\", \n",
    "    \"양\" : \"sheep\"\n",
    "}\n",
    "\n",
    "for key, value in animals.items() :\n",
    "    print(f\"key = {key}, value = {value}\")"
   ]
  },
  {
   "cell_type": "markdown",
   "id": "71d99f32-dbce-45e5-98dc-4203115990a9",
   "metadata": {},
   "source": [
    "# 71. 조건문 if, elif, else \n",
    "\n",
    "<img src=\"./pdf_images/문제71번.png\" width=\"70%\" />"
   ]
  },
  {
   "cell_type": "code",
   "execution_count": 214,
   "id": "42a508d9-0bf6-47fe-bef4-80ee05e756cf",
   "metadata": {},
   "outputs": [
    {
     "name": "stdout",
     "output_type": "stream",
     "text": [
      "양수입니다.\n"
     ]
    }
   ],
   "source": [
    "num = 5\n",
    "\n",
    "if num > 0 :\n",
    "    print(\"양수입니다.\")\n",
    "elif num < 0 :\n",
    "    print(\"음수입니다.\")\n",
    "else :\n",
    "    print(\"0 입니다.\")"
   ]
  },
  {
   "cell_type": "markdown",
   "id": "32d543e8-108b-4864-afe3-029dc038a621",
   "metadata": {},
   "source": [
    "# 72. 조건 및 분기문 사용하기\n",
    "\n",
    "<img src=\"./pdf_images/문제72번.png\" width=\"70%\" />"
   ]
  },
  {
   "cell_type": "code",
   "execution_count": 217,
   "id": "1fe4ecdc-a1ec-4a0f-a279-8a1e419b247d",
   "metadata": {},
   "outputs": [
    {
     "name": "stdout",
     "output_type": "stream",
     "text": [
      "삐빅, 청소년입니다.\n"
     ]
    }
   ],
   "source": [
    "age = 17\n",
    "\n",
    "if age <= 13 :\n",
    "    print(\"삐빅, 어린이입니다.\")\n",
    "elif 14 <= age <= 19 :\n",
    "    print(\"삐빅, 청소년입니다.\")\n",
    "elif age >= 20 and age <= 34 :\n",
    "    print(\"삐빅, 청년입니다.\")\n",
    "elif age >= 35 and age <= 64 :\n",
    "    print(\"삐빅, 중장년입니다.\")\n",
    "else :\n",
    "    print(\"삐빅, 노인입니다.\")"
   ]
  },
  {
   "cell_type": "markdown",
   "id": "46c7ef49-aa5e-4b11-990a-a936edbb5ed4",
   "metadata": {},
   "source": [
    "# 73. 가장 큰 수 찾는 프로그램 만들기\n",
    "\n",
    "<img src=\"./pdf_images/문제73번.png\" width=\"70%\" />"
   ]
  },
  {
   "cell_type": "code",
   "execution_count": 220,
   "id": "0421a236-9a9a-40a7-b983-1da4bcebb68e",
   "metadata": {},
   "outputs": [
    {
     "name": "stdout",
     "output_type": "stream",
     "text": [
      "가장 큰 수를 가지고 있는 변수는 값이 23인 num2입니다.\n"
     ]
    }
   ],
   "source": [
    "num1 = 15\n",
    "num2 = 23\n",
    "num3 = 9\n",
    "\n",
    "if (num1 > num2) and (num1 > num3) :\n",
    "    print(\"가장 큰 수를 가지고 있는 변수는 값이 %d인 num1입니다.\" % num1)\n",
    "elif (num2 > num1) and (num2 > num3) :\n",
    "    print(\"가장 큰 수를 가지고 있는 변수는 값이 %d인 num2입니다.\" % num2)\n",
    "elif (num1 == num2 == num3) :\n",
    "    print(\"모두 같은 수 입니다.\")\n",
    "else :\n",
    "    print(\"가장 큰 수를 가지고 있는 변수는 값이 %d인 num3입니다.\" % num3)"
   ]
  },
  {
   "cell_type": "markdown",
   "id": "999be7c9-aa17-4eb2-a7b9-64a17d031992",
   "metadata": {},
   "source": [
    "# 74. 시험 합격 / 불합격 프로그램\n",
    "\n",
    "<img src=\"./pdf_images/문제74번.png\" width=\"70%\" />"
   ]
  },
  {
   "cell_type": "code",
   "execution_count": 223,
   "id": "6a02c91d-1051-470f-9c9e-693c9dea2108",
   "metadata": {},
   "outputs": [
    {
     "name": "stdout",
     "output_type": "stream",
     "text": [
      "전체 10명의 학생 중 총 합격자는 7명이고 그 중 만점자는 2명입니다. 아쉽게 불합격한 학생은 3명입니다.\n"
     ]
    }
   ],
   "source": [
    "A_CLASS = [70, 60, 90, 80, 100, 50, 80, 90, 45, 100]\n",
    "\n",
    "count_pass = 0\n",
    "count_100 = 0\n",
    "\n",
    "for i in A_CLASS :\n",
    "    if i >= 70 :\n",
    "        count_pass += 1\n",
    "        if i == 100 :\n",
    "            count_100 += 1\n",
    "count_fail = len(A_CLASS) - count_pass\n",
    "\n",
    "print(\"전체 {}명의 학생 중 총 합격자는 {}명이고 그 중 만점자는 {}명입니다. 아쉽게 불합격한 학생은 {}명입니다.\".format(len(A_CLASS), count_pass, count_100, count_fail))"
   ]
  },
  {
   "cell_type": "markdown",
   "id": "4c0ec1ea-43cc-4eac-b93f-c8b0084d364d",
   "metadata": {},
   "source": [
    "# 75. 피보나치 수열 구현하기\n",
    "\n",
    "- 초항이 0이고 두번째는 1, 그 이후는 이전의 두 수를 더한 값을 가진다.\n",
    "\n",
    "<img src=\"./pdf_images/문제75번.png\" width=\"70%\" />"
   ]
  },
  {
   "cell_type": "code",
   "execution_count": 226,
   "id": "2f07eb5d-df29-482e-a793-f47958d72c04",
   "metadata": {},
   "outputs": [
    {
     "name": "stdout",
     "output_type": "stream",
     "text": [
      "[0, 1, 1, 2, 3, 5, 8, 13, 21, 34, 55, 89]\n"
     ]
    }
   ],
   "source": [
    "n = 12\n",
    "f = []\n",
    "\n",
    "for i in range(0, n) :\n",
    "    if i == 0 :\n",
    "        f.append(0)\n",
    "    elif i == 1 :\n",
    "        f.append(1)\n",
    "    else :\n",
    "        fibo = (f[i-1]) + (f[i-2])\n",
    "        f.append(fibo)\n",
    "\n",
    "print(f)"
   ]
  },
  {
   "cell_type": "markdown",
   "id": "bf04afb0-c5e0-444e-8163-09499adb9cf4",
   "metadata": {},
   "source": [
    "# 76. 반올림 프로그램\n",
    "\n",
    "<img src=\"./pdf_images/문제76번.png\" width=\"70%\" />"
   ]
  },
  {
   "cell_type": "code",
   "execution_count": 229,
   "id": "5b991746-e7f2-4a0d-9b7a-d5899e90a832",
   "metadata": {},
   "outputs": [
    {
     "name": "stdout",
     "output_type": "stream",
     "text": [
      "반올림 결과 : 20\n"
     ]
    }
   ],
   "source": [
    "num =  17\n",
    "\n",
    "if num % 10 < 5 :\n",
    "    print(\"반올림 결과 : {}\".format(num - (num % 10)))\n",
    "else :\n",
    "    print(\"반올림 결과 : {}\".format(num + (10 - (num % 10))))"
   ]
  },
  {
   "cell_type": "markdown",
   "id": "270bea22-8361-4ac7-aa83-7eb4d59c43ea",
   "metadata": {},
   "source": [
    "# 77. 조건문, 윤년 판별 프로그램\n",
    "\n",
    "<img src=\"./pdf_images/문제77번.png\" width=\"70%\" />"
   ]
  },
  {
   "cell_type": "code",
   "execution_count": 232,
   "id": "40be3d7b-0e42-42b6-a9ba-5ec56e8af236",
   "metadata": {},
   "outputs": [
    {
     "name": "stdout",
     "output_type": "stream",
     "text": [
      "2020년은 윤년입니다.\n"
     ]
    }
   ],
   "source": [
    "year = 2020\n",
    "\n",
    "if ((year % 4 == 0) and (year % 100 != 0)) or (year % 400 == 0) :\n",
    "    print(\"{}년은 윤년입니다.\".format(year))\n",
    "else :\n",
    "    print(\"{}년은 윤년이 아닙니다.\".format(year))"
   ]
  },
  {
   "cell_type": "code",
   "execution_count": 234,
   "id": "a71e1b58-7570-454d-abc8-e623406ccb56",
   "metadata": {},
   "outputs": [
    {
     "name": "stdout",
     "output_type": "stream",
     "text": [
      "2022년은 윤년이 아닙니다.\n"
     ]
    }
   ],
   "source": [
    "year = 2022\n",
    "\n",
    "if ((year % 4 == 0) and (year % 100 != 0)) or (year % 400 == 0) :\n",
    "    print(\"{}년은 윤년입니다.\".format(year))\n",
    "else :\n",
    "    print(\"{}년은 윤년이 아닙니다.\".format(year))"
   ]
  },
  {
   "cell_type": "markdown",
   "id": "50f44173-0b93-4876-924c-af591b3f462d",
   "metadata": {},
   "source": [
    "# 78. 주차별 다이어트 프로그램\n",
    "\n",
    "<img src=\"./pdf_images/문제78번.png\" width=\"70%\" />"
   ]
  },
  {
   "cell_type": "code",
   "execution_count": 237,
   "id": "e713a80e-d63a-4707-98b6-4528916928bd",
   "metadata": {},
   "outputs": [
    {
     "name": "stdout",
     "output_type": "stream",
     "text": [
      "1주차 몸무게 : 129\n",
      "2주차 몸무게 : 127\n",
      "3주차 몸무게 : 125\n",
      "4주차 몸무게 : 123\n",
      "5주차 몸무게 : 121\n",
      "6주차 몸무게 : 119\n",
      "7주차 몸무게 : 117\n",
      "8주차 몸무게 : 115\n",
      "9주차 몸무게 : 113\n",
      "10주차 몸무게 : 111\n",
      "11주차 몸무게 : 109\n",
      "12주차 몸무게 : 107\n",
      "13주차 몸무게 : 105\n",
      "14주차 몸무게 : 103\n",
      "15주차 몸무게 : 101\n",
      "16주차 몸무게 : 99\n",
      "99kg 달성 성공! 축하드립니다!\n"
     ]
    }
   ],
   "source": [
    "weight = 131\n",
    "i = 1\n",
    "\n",
    "while weight >= 100 :\n",
    "    print(\"{}주차 몸무게 : {}\".format(i, weight - 2))\n",
    "    weight -= 2\n",
    "    i += 1\n",
    "\n",
    "print(\"%dkg 달성 성공! 축하드립니다!\" % weight)"
   ]
  },
  {
   "cell_type": "markdown",
   "id": "4d5ee6f3-926c-48b2-b415-a34c11787e4c",
   "metadata": {},
   "source": [
    "# 79. 반복문과 조건문을 이용한 수학식\n",
    "\n",
    "<img src=\"./pdf_images/문제79번.png\" width=\"70%\" />"
   ]
  },
  {
   "cell_type": "code",
   "execution_count": 240,
   "id": "417d3a63-48f7-4f25-a1be-9088c2106db2",
   "metadata": {},
   "outputs": [
    {
     "name": "stdout",
     "output_type": "stream",
     "text": [
      "-50\n"
     ]
    }
   ],
   "source": [
    "sum = 0\n",
    "\n",
    "for i in range(1, 101) :\n",
    "    if i % 2 == 1 :\n",
    "        sum += i\n",
    "    else :\n",
    "        sum -= i\n",
    "\n",
    "print(sum)"
   ]
  },
  {
   "cell_type": "markdown",
   "id": "9c5df216-6870-4273-9c2c-4e520e92d4b8",
   "metadata": {},
   "source": [
    "# 80. 반복문을 이용한 수학식\n",
    "\n",
    "<img src=\"./pdf_images/문제80번.png\" width=\"70%\" />"
   ]
  },
  {
   "cell_type": "code",
   "execution_count": 243,
   "id": "1cf78369-e463-4266-8565-458518d0c504",
   "metadata": {},
   "outputs": [
    {
     "name": "stdout",
     "output_type": "stream",
     "text": [
      "29260\n"
     ]
    }
   ],
   "source": [
    "sum = 0\n",
    "j = 1\n",
    "\n",
    "for i in range(55, 0, -1) :\n",
    "    sum += i * j\n",
    "    j += 1\n",
    "    \n",
    "print(sum)"
   ]
  },
  {
   "cell_type": "markdown",
   "id": "cebff232-6640-49d9-b256-4cfe7f05c89c",
   "metadata": {},
   "source": [
    "# 81. 잔돈 구하기\n",
    "\n",
    "<img src=\"./pdf_images/문제81번.png\" width=\"70%\" />"
   ]
  },
  {
   "cell_type": "code",
   "execution_count": 246,
   "id": "6e4b9035-25ac-4428-a009-834a7b3b6e6a",
   "metadata": {},
   "outputs": [
    {
     "name": "stdout",
     "output_type": "stream",
     "text": [
      "잔돈 : 47200\n",
      "10000원권 : 4\n",
      "5000원권 : 1\n",
      "1000원권 : 2\n",
      "500원권 : 0\n",
      "100원권 : 2\n"
     ]
    }
   ],
   "source": [
    "a = 47200\n",
    "case_10000 = a // 10000\n",
    "case_5000 = a % 10000 // 5000\n",
    "case_1000 = a % 10000 % 5000 // 1000\n",
    "case_500 = a % 10000 % 5000 % 1000 // 500\n",
    "case_100 = a % 10000 % 5000 % 1000 % 500 // 100\n",
    "\n",
    "print(\"잔돈 :\", a)\n",
    "print(\"10000원권 :\", case_10000)\n",
    "print(\"5000원권 :\", case_5000)\n",
    "print(\"1000원권 :\", case_1000)\n",
    "print(\"500원권 :\", case_500)\n",
    "print(\"100원권 :\", case_100)"
   ]
  },
  {
   "cell_type": "markdown",
   "id": "387a074d-8930-467f-898f-4054eb59ea57",
   "metadata": {},
   "source": [
    "# 82. 일당 계산기\n",
    "\n",
    "<img src=\"./pdf_images/문제82번.png\" width=\"70%\" />"
   ]
  },
  {
   "cell_type": "code",
   "execution_count": 249,
   "id": "41def017-201c-4a31-a485-563b0d605997",
   "metadata": {},
   "outputs": [
    {
     "name": "stdout",
     "output_type": "stream",
     "text": [
      "오늘 일당은 64120원입니다.\n"
     ]
    }
   ],
   "source": [
    "hours = 7\n",
    "money = 9160\n",
    "overtime = 1.5 * money\n",
    "\n",
    "if hours > 8:\n",
    "    print(\"오늘 일당은 {}원입니다.\".format(8 * money + (hours - 8) * overtime))\n",
    "else:\n",
    "    print(\"오늘 일당은 {}원입니다.\".format(hours * money))"
   ]
  },
  {
   "cell_type": "code",
   "execution_count": 251,
   "id": "c62d7208-31bd-444e-afff-102ae65d40b3",
   "metadata": {},
   "outputs": [
    {
     "name": "stdout",
     "output_type": "stream",
     "text": [
      "오늘 일당은 128240.0원입니다.\n"
     ]
    }
   ],
   "source": [
    "hours = 12\n",
    "money = 9160\n",
    "overtime = 1.5 * money\n",
    "\n",
    "if hours > 8:\n",
    "    print(\"오늘 일당은 {}원입니다.\".format(8 * money + (hours - 8) * overtime))\n",
    "else:\n",
    "    print(\"오늘 일당은 {}원입니다.\".format(hours * money))"
   ]
  },
  {
   "cell_type": "markdown",
   "id": "04d2c399-9083-48c7-8471-a21e937e2e74",
   "metadata": {},
   "source": [
    "# 83. 구구단 출력하기 \n",
    "\n",
    "<img src=\"./pdf_images/문제83번.png\" width=\"70%\" />"
   ]
  },
  {
   "cell_type": "code",
   "execution_count": 254,
   "id": "37ae7a14-6d9c-4140-99e8-f6e2c8ee4e44",
   "metadata": {},
   "outputs": [
    {
     "name": "stdout",
     "output_type": "stream",
     "text": [
      "<2단>\n",
      "2 X 1 = 2\n",
      "2 X 2 = 4\n",
      "2 X 3 = 6\n",
      "2 X 4 = 8\n",
      "2 X 5 = 10\n",
      "2 X 6 = 12\n",
      "2 X 7 = 14\n",
      "2 X 8 = 16\n",
      "2 X 9 = 18\n",
      " \n",
      "<3단>\n",
      "3 X 1 = 3\n",
      "3 X 2 = 6\n",
      "3 X 3 = 9\n",
      "3 X 4 = 12\n",
      "3 X 5 = 15\n",
      "3 X 6 = 18\n",
      "3 X 7 = 21\n",
      "3 X 8 = 24\n",
      "3 X 9 = 27\n",
      " \n",
      "<4단>\n",
      "4 X 1 = 4\n",
      "4 X 2 = 8\n",
      "4 X 3 = 12\n",
      "4 X 4 = 16\n",
      "4 X 5 = 20\n",
      "4 X 6 = 24\n",
      "4 X 7 = 28\n",
      "4 X 8 = 32\n",
      "4 X 9 = 36\n",
      " \n",
      "<5단>\n",
      "5 X 1 = 5\n",
      "5 X 2 = 10\n",
      "5 X 3 = 15\n",
      "5 X 4 = 20\n",
      "5 X 5 = 25\n",
      "5 X 6 = 30\n",
      "5 X 7 = 35\n",
      "5 X 8 = 40\n",
      "5 X 9 = 45\n",
      " \n",
      "<6단>\n",
      "6 X 1 = 6\n",
      "6 X 2 = 12\n",
      "6 X 3 = 18\n",
      "6 X 4 = 24\n",
      "6 X 5 = 30\n",
      "6 X 6 = 36\n",
      "6 X 7 = 42\n",
      "6 X 8 = 48\n",
      "6 X 9 = 54\n",
      " \n",
      "<7단>\n",
      "7 X 1 = 7\n",
      "7 X 2 = 14\n",
      "7 X 3 = 21\n",
      "7 X 4 = 28\n",
      "7 X 5 = 35\n",
      "7 X 6 = 42\n",
      "7 X 7 = 49\n",
      "7 X 8 = 56\n",
      "7 X 9 = 63\n",
      " \n",
      "<8단>\n",
      "8 X 1 = 8\n",
      "8 X 2 = 16\n",
      "8 X 3 = 24\n",
      "8 X 4 = 32\n",
      "8 X 5 = 40\n",
      "8 X 6 = 48\n",
      "8 X 7 = 56\n",
      "8 X 8 = 64\n",
      "8 X 9 = 72\n",
      " \n",
      "<9단>\n",
      "9 X 1 = 9\n",
      "9 X 2 = 18\n",
      "9 X 3 = 27\n",
      "9 X 4 = 36\n",
      "9 X 5 = 45\n",
      "9 X 6 = 54\n",
      "9 X 7 = 63\n",
      "9 X 8 = 72\n",
      "9 X 9 = 81\n",
      " \n"
     ]
    }
   ],
   "source": [
    "for i in range(2, 10):\n",
    "    print(\"<\" + str(i) + \"단>\")\n",
    "\n",
    "    for j in range(1, 10):\n",
    "        print(i, \"X\", j, \"=\", i*j)\n",
    "\n",
    "        if j ==9:\n",
    "            print(\" \")"
   ]
  },
  {
   "cell_type": "markdown",
   "id": "f9743504-f184-4c89-85ec-0bd0fab02bdf",
   "metadata": {},
   "source": [
    "# 84. 반복문 응용 - 숫자 찍기 1 \n",
    "\n",
    "<img src=\"./pdf_images/문제84번.png\" width=\"70%\" />"
   ]
  },
  {
   "cell_type": "code",
   "execution_count": 257,
   "id": "5d02765c-e7e0-4085-a9b3-55f7e0731bce",
   "metadata": {},
   "outputs": [
    {
     "name": "stdout",
     "output_type": "stream",
     "text": [
      "11111\n",
      "1111\n",
      "111\n",
      "11\n",
      "1\n"
     ]
    }
   ],
   "source": [
    "for i in range(5, 0, -1):\n",
    "    for j in range(i):\n",
    "        print(\"1\", end=\"\")\n",
    "    print(\"\")"
   ]
  },
  {
   "cell_type": "markdown",
   "id": "87ab8115-c227-4512-87df-6054cbf6d0d4",
   "metadata": {},
   "source": [
    "# 85. 반복문 응용 - 숫자 찍기 2 \n",
    "\n",
    "<img src=\"./pdf_images/문제85번.png\" width=\"70%\" />"
   ]
  },
  {
   "cell_type": "code",
   "execution_count": 260,
   "id": "0f2a6acd-5232-4b18-a032-0bfdbef98a1b",
   "metadata": {},
   "outputs": [
    {
     "name": "stdout",
     "output_type": "stream",
     "text": [
      "011111\n",
      "001111\n",
      "000111\n",
      "000011\n",
      "000001\n"
     ]
    }
   ],
   "source": [
    "for i in range(5):\n",
    "    for j in range(i+1):\n",
    "        print(\"0\", end=\"\")\n",
    "    for j in range(5-i):\n",
    "        print(\"1\", end=\"\")\n",
    "    print(\"\")"
   ]
  },
  {
   "cell_type": "markdown",
   "id": "7bef4d35-f756-42bc-92a5-aab10da356ce",
   "metadata": {},
   "source": [
    "# 86. 반복문 응용 - 숫자 찍기 3 \n",
    "\n",
    "<img src=\"./pdf_images/문제86번.png\" width=\"70%\" />"
   ]
  },
  {
   "cell_type": "code",
   "execution_count": 263,
   "id": "4cdcc7c7-3f04-426e-a04a-5ff7e80a43e9",
   "metadata": {},
   "outputs": [
    {
     "name": "stdout",
     "output_type": "stream",
     "text": [
      "000010000\n",
      "000111000\n",
      "001111100\n",
      "011111110\n",
      "111111111\n",
      "111111111\n",
      "011111110\n",
      "001111100\n",
      "000111000\n",
      "000010000\n"
     ]
    }
   ],
   "source": [
    "for i in range(1, 6):\n",
    "    for j in range(5-i):\n",
    "        print(0, end=\"\")\n",
    "    for j in range(1, i*2):\n",
    "        print(1, end=\"\")\n",
    "    for j in range(5-i):\n",
    "        print(0, end=\"\")\n",
    "    print()\n",
    "for i in range(5):\n",
    "    for j in range(i):\n",
    "        print(0, end=\"\")\n",
    "    for j in range(10, 1+i*2, -1):\n",
    "        print(1, end=\"\")\n",
    "    for j in range(i):\n",
    "        print(0, end=\"\")\n",
    "    print()"
   ]
  },
  {
   "cell_type": "markdown",
   "id": "53e7418f-930d-43de-bb2c-c5757435513b",
   "metadata": {},
   "source": [
    "# 87. 반복문 응용 - 숫자 찍기 4 \n",
    "\n",
    "<img src=\"./pdf_images/문제87번.png\" width=\"70%\" />"
   ]
  },
  {
   "cell_type": "code",
   "execution_count": 266,
   "id": "ceff5917-4eff-48f4-af5e-922928426f43",
   "metadata": {},
   "outputs": [
    {
     "name": "stdout",
     "output_type": "stream",
     "text": [
      "111111111\n",
      "011111110\n",
      "001111100\n",
      "000111000\n",
      "000010000\n",
      "000111000\n",
      "001111100\n",
      "011111110\n",
      "111111111\n"
     ]
    }
   ],
   "source": [
    "for i in range(5):\n",
    "    for j in range(i):\n",
    "        print(0, end=\"\")\n",
    "    for j in range(10, 1+i*2, -1):\n",
    "        print(1, end=\"\")\n",
    "    for j in range(i):\n",
    "        print(0, end=\"\")\n",
    "    print(\"\")\n",
    "for i in range(2, 6):\n",
    "    for j in range(5 - i):\n",
    "        print(0, end=\"\")\n",
    "    for j in range(1, i*2, 1):\n",
    "        print(1, end=\"\")\n",
    "    for j in range(5-i):\n",
    "        print(0, end=\"\")\n",
    "    print(\"\")"
   ]
  },
  {
   "cell_type": "markdown",
   "id": "ceab5f21-aea1-4260-bf95-20b3c9dc8fd7",
   "metadata": {},
   "source": [
    "# 88. 배수의 총합 구하기\n",
    "\n",
    "<img src=\"./pdf_images/문제88번.png\" width=\"70%\" />"
   ]
  },
  {
   "cell_type": "code",
   "execution_count": 269,
   "id": "ce417f34-957c-4735-b960-c795d3074530",
   "metadata": {},
   "outputs": [
    {
     "name": "stdout",
     "output_type": "stream",
     "text": [
      "233168\n"
     ]
    }
   ],
   "source": [
    "n = 1000\n",
    "sum = 0\n",
    "\n",
    "for i in range(1, n):\n",
    "    if i % 3 == 0 or i % 5 == 0:\n",
    "        sum += i\n",
    "        \n",
    "print(sum)"
   ]
  },
  {
   "cell_type": "markdown",
   "id": "eb98cf10-9362-4d06-8ee3-912baef4bc56",
   "metadata": {},
   "source": [
    "# 89. 소인수분해 구현하기 \n",
    "\n",
    "<img src=\"./pdf_images/문제89번.png\" width=\"70%\" />"
   ]
  },
  {
   "cell_type": "code",
   "execution_count": 272,
   "id": "4ded4ae2-8a75-4095-bf7f-7cd6de9c040f",
   "metadata": {},
   "outputs": [
    {
     "name": "stdout",
     "output_type": "stream",
     "text": [
      "num = 2 * 2 * 2 * 3"
     ]
    }
   ],
   "source": [
    "num = 24\n",
    "print(\"num = \", end=\"\")\n",
    "\n",
    "while True:\n",
    "    i = 2\n",
    "    while True:\n",
    "        if num % i == 0:\n",
    "            num /= i\n",
    "            print(i, end=\"\")\n",
    "            break\n",
    "        else:\n",
    "            i += 1\n",
    "    if num == 1:\n",
    "        break\n",
    "    else:\n",
    "        print(\" * \", end=\"\")"
   ]
  },
  {
   "cell_type": "markdown",
   "id": "eb5b367f-06ce-4333-b597-e23699e9e114",
   "metadata": {},
   "source": [
    "# 90. 간단한 함수 구현하기 \n",
    "\n",
    "<img src=\"./pdf_images/문제90번.png\" width=\"70%\" />"
   ]
  },
  {
   "cell_type": "code",
   "execution_count": 275,
   "id": "cddc2249-735d-463e-b538-2d5b5be60ca7",
   "metadata": {},
   "outputs": [
    {
     "name": "stdout",
     "output_type": "stream",
     "text": [
      "홍길동님 안녕하세요.\n"
     ]
    }
   ],
   "source": [
    "def hello(name) :\n",
    "    print(f\"{name}님 안녕하세요.\")\n",
    "    \n",
    "hello(\"홍길동\")"
   ]
  },
  {
   "cell_type": "markdown",
   "id": "153c4b90-001f-4330-b9f8-0a61ecce1faf",
   "metadata": {},
   "source": [
    "# 91. 주식 수익률 프로그램 \n",
    "\n",
    "<img src=\"./pdf_images/문제91번.png\" width=\"70%\" />"
   ]
  },
  {
   "cell_type": "code",
   "execution_count": 278,
   "id": "770feb51-0c30-492e-8ed0-3f29160faca2",
   "metadata": {},
   "outputs": [
    {
     "name": "stdout",
     "output_type": "stream",
     "text": [
      "(1360000, 20.48192771084338)\n"
     ]
    }
   ],
   "source": [
    "def stocks(buy, sell, shares):\n",
    "    rate = sell / buy * 100 - 100\n",
    "    income = (sell - buy) * shares\n",
    "    return income, rate\n",
    "\n",
    "print(stocks(66400, 80000, 100))"
   ]
  },
  {
   "cell_type": "markdown",
   "id": "97a567b9-c1f2-46d6-a7ff-676e03b371ac",
   "metadata": {},
   "source": [
    "# 92. 함수 설명서 만들기 \n",
    "\n",
    "<img src=\"./pdf_images/문제92번.png\" width=\"70%\" />"
   ]
  },
  {
   "cell_type": "code",
   "execution_count": 281,
   "id": "787e8d3f-3df5-4736-88bd-9a4323117f54",
   "metadata": {},
   "outputs": [
    {
     "name": "stdout",
     "output_type": "stream",
     "text": [
      "Help on function stocks2 in module __main__:\n",
      "\n",
      "stocks2(buy, sell, shares)\n",
      "    매수가격(sell)과 매도가격(buy), 수량(shares)을 매개변수로 가지고\n",
      "    총손익(income)과 수익률(rate)을 반환하는 stock() 함수입니다.\n",
      "    rate = sell / buy * 100 - 100\n",
      "    income = (sell - buy) * shares\n",
      "\n"
     ]
    }
   ],
   "source": [
    "def stocks2(buy, sell, shares):\n",
    "    '''\n",
    "    매수가격(sell)과 매도가격(buy), 수량(shares)을 매개변수로 가지고 \n",
    "    총손익(income)과 수익률(rate)을 반환하는 stock() 함수입니다.\n",
    "    rate = sell / buy * 100 - 100\n",
    "    income = (sell - buy) * shares\n",
    "    '''\n",
    "    rate = sell / buy * 100 - 100\n",
    "    income = (sell - buy) * shares \n",
    "    return income, rate\n",
    "\n",
    "help(stocks2)"
   ]
  },
  {
   "cell_type": "markdown",
   "id": "f9b824ca-0a3e-4bf7-abc8-b9f14d4a3be8",
   "metadata": {},
   "source": [
    "# 93. 사용자 정의 함수 - 문자열 reverse \n",
    "\n",
    "<img src=\"./pdf_images/문제93번.png\" width=\"70%\" />"
   ]
  },
  {
   "cell_type": "code",
   "execution_count": 284,
   "id": "b1b8000d-0992-4f83-ae7e-e6b3b560bcb2",
   "metadata": {},
   "outputs": [
    {
     "name": "stdout",
     "output_type": "stream",
     "text": [
      ".다났 가화 시몹 금지 은동길홍\n"
     ]
    }
   ],
   "source": [
    "def reverse_print(txt):\n",
    "    print(txt[::-1])\n",
    "\n",
    "reverse_print(\"홍길동은 지금 몹시 화가 났다.\")"
   ]
  },
  {
   "cell_type": "markdown",
   "id": "63d50724-3da4-45ec-af94-69d6c9b0252f",
   "metadata": {},
   "source": [
    "# 94. 점심 메뉴 추천 프로그램\n",
    "\n",
    "<img src=\"./pdf_images/문제94번.png\" width=\"70%\" />"
   ]
  },
  {
   "cell_type": "code",
   "execution_count": 287,
   "id": "54fceeaf-9b0f-4343-9529-7c971bc515d2",
   "metadata": {},
   "outputs": [],
   "source": [
    "import random"
   ]
  },
  {
   "cell_type": "code",
   "execution_count": 289,
   "id": "609ba2c6-19d6-4836-91c0-1b102c47a512",
   "metadata": {},
   "outputs": [
    {
     "name": "stdout",
     "output_type": "stream",
     "text": [
      "추천메뉴는!! 햄버거입니다.\n"
     ]
    }
   ],
   "source": [
    "lunch = [\"김치찌개\", \"짜장면\", \"김밥\", \"햄버거\", \"순대국밥\", \"한식뷔페\", \"샐러드\"]\n",
    "\n",
    "def lunch_reco(menu):\n",
    "    index = random.randint(0, len(menu) - 1)\n",
    "    print(\"추천메뉴는!! %s입니다.\" % menu[index])\n",
    "\n",
    "lunch_reco(lunch)"
   ]
  },
  {
   "cell_type": "markdown",
   "id": "ba2e2a44-2ee4-4da5-bc4a-be4d6768c690",
   "metadata": {},
   "source": [
    "# 95. 숫자 마름모 그리기 \n",
    "\n",
    "<img src=\"./pdf_images/문제95번.png\" width=\"70%\" />"
   ]
  },
  {
   "cell_type": "code",
   "execution_count": 292,
   "id": "a651450f-6c2e-4d10-b94c-4cf52976338d",
   "metadata": {},
   "outputs": [
    {
     "name": "stdout",
     "output_type": "stream",
     "text": [
      "0001000\n",
      "0011100\n",
      "0111110\n",
      "1111111\n",
      "1111111\n",
      "0111110\n",
      "0011100\n",
      "0001000\n"
     ]
    }
   ],
   "source": [
    "def rhombus(n):\n",
    "    for i in range(1, n+1):\n",
    "        for j in range(n-i):\n",
    "            print(0, end=\"\")\n",
    "        for j in range(1, i*2):\n",
    "            print(1, end=\"\")\n",
    "        for j in range(n-i):\n",
    "            print(0, end=\"\")\n",
    "        print()\n",
    "    for i in range(n):\n",
    "        for j in range(i):\n",
    "            print(0, end=\"\")\n",
    "        for j in range(n*2, 1+i*2, -1):\n",
    "            print(1, end=\"\")\n",
    "        for j in range(i):\n",
    "            print(0, end=\"\")\n",
    "        print()\n",
    "\n",
    "rhombus(4)"
   ]
  },
  {
   "cell_type": "code",
   "execution_count": 294,
   "id": "89c3c67d-f941-44d8-b6c9-c04fe2e0e697",
   "metadata": {},
   "outputs": [
    {
     "name": "stdout",
     "output_type": "stream",
     "text": [
      "0000000001000000000\n",
      "0000000011100000000\n",
      "0000000111110000000\n",
      "0000001111111000000\n",
      "0000011111111100000\n",
      "0000111111111110000\n",
      "0001111111111111000\n",
      "0011111111111111100\n",
      "0111111111111111110\n",
      "1111111111111111111\n",
      "1111111111111111111\n",
      "0111111111111111110\n",
      "0011111111111111100\n",
      "0001111111111111000\n",
      "0000111111111110000\n",
      "0000011111111100000\n",
      "0000001111111000000\n",
      "0000000111110000000\n",
      "0000000011100000000\n",
      "0000000001000000000\n"
     ]
    }
   ],
   "source": [
    "def rhombus(n):\n",
    "    for i in range(1, n+1):\n",
    "        for j in range(n-i):\n",
    "            print(0, end=\"\")\n",
    "        for j in range(1, i*2):\n",
    "            print(1, end=\"\")\n",
    "        for j in range(n-i):\n",
    "            print(0, end=\"\")\n",
    "        print()\n",
    "    for i in range(n):\n",
    "        for j in range(i):\n",
    "            print(0, end=\"\")\n",
    "        for j in range(n*2, 1+i*2, -1):\n",
    "            print(1, end=\"\")\n",
    "        for j in range(i):\n",
    "            print(0, end=\"\")\n",
    "        print()\n",
    "\n",
    "rhombus(10)"
   ]
  },
  {
   "cell_type": "markdown",
   "id": "c3278541-beef-4529-b8e2-1e2329e42cde",
   "metadata": {},
   "source": [
    "# 96. 숫자 사각형 그리기\n",
    "\n",
    "<img src=\"./pdf_images/문제96번.png\" width=\"70%\" />"
   ]
  },
  {
   "cell_type": "code",
   "execution_count": 297,
   "id": "4e2b4133-b080-4d23-b9b2-a8a9c04d6411",
   "metadata": {},
   "outputs": [
    {
     "name": "stdout",
     "output_type": "stream",
     "text": [
      "01 02 03 04 \n",
      "02 04 06 08 \n",
      "03 06 09 12 \n",
      "04 08 12 16 \n"
     ]
    }
   ],
   "source": [
    "def square(num):\n",
    "    for i in range(1, num+1):\n",
    "        for j in range(1, num+1):\n",
    "            if i * j < 10:\n",
    "                print(0, end=\"\")\n",
    "            print(i*j, end=\" \")\n",
    "        print()\n",
    "\n",
    "square(4)"
   ]
  },
  {
   "cell_type": "code",
   "execution_count": 299,
   "id": "cc826273-1461-4db2-bd7c-a79f4b479a88",
   "metadata": {},
   "outputs": [
    {
     "name": "stdout",
     "output_type": "stream",
     "text": [
      "01 02 03 04 05 06 07 08 09 \n",
      "02 04 06 08 10 12 14 16 18 \n",
      "03 06 09 12 15 18 21 24 27 \n",
      "04 08 12 16 20 24 28 32 36 \n",
      "05 10 15 20 25 30 35 40 45 \n",
      "06 12 18 24 30 36 42 48 54 \n",
      "07 14 21 28 35 42 49 56 63 \n",
      "08 16 24 32 40 48 56 64 72 \n",
      "09 18 27 36 45 54 63 72 81 \n"
     ]
    }
   ],
   "source": [
    "def square(num):\n",
    "    for i in range(1, num+1):\n",
    "        for j in range(1, num+1):\n",
    "            if i * j < 10:\n",
    "                print(0, end=\"\")\n",
    "            print(i*j, end=\" \")\n",
    "        print()\n",
    "\n",
    "square(9)"
   ]
  },
  {
   "cell_type": "markdown",
   "id": "60e109df-c46c-4993-9430-b786dee53014",
   "metadata": {},
   "source": [
    "# 97. 한글로 한자 찾는 함수 \n",
    "\n",
    "<img src=\"./pdf_images/문제97번.png\" width=\"70%\" />"
   ]
  },
  {
   "cell_type": "code",
   "execution_count": 302,
   "id": "dbb893d1-8a4c-426f-a45b-4b39a11122db",
   "metadata": {},
   "outputs": [
    {
     "name": "stdout",
     "output_type": "stream",
     "text": [
      "金\n",
      "찾을 수 없는 성씨입니다.\n"
     ]
    }
   ],
   "source": [
    "LastName = {\n",
    "    \"김\": \"金\",\n",
    "    \"이\": \"李\",\n",
    "    \"박\": \"朴\",\n",
    "    \"최\": \"崔\",\n",
    "    \"정\": \"鄭\",\n",
    "    \"조\": \"趙\",\n",
    "    \"강\": \"姜\",\n",
    "    \"윤\": \"尹\",\n",
    "    \"장\": \"張\",\n",
    "    \"임\": \"林\"\n",
    "}\n",
    "\n",
    "def Search(text):\n",
    "    K = list(LastName)\n",
    "    \n",
    "    for i in range(0, len(K) + 1):\n",
    "        if text == K[i]:\n",
    "            return print(LastName[text])\n",
    "        else:\n",
    "            return print(\"찾을 수 없는 성씨입니다.\")\n",
    "\n",
    "Search(\"김\")\n",
    "Search(\"마이클\")"
   ]
  },
  {
   "cell_type": "markdown",
   "id": "996383af-9c47-4880-b61e-4809ac992aa2",
   "metadata": {},
   "source": [
    "# 98. BMI를 이용한 비만도 구하기\n",
    "\n",
    "<img src=\"./pdf_images/문제98번.png\" width=\"70%\" />"
   ]
  },
  {
   "cell_type": "code",
   "execution_count": 305,
   "id": "24a996d1-73d7-4029-95f6-36a4df3ac5df",
   "metadata": {},
   "outputs": [
    {
     "name": "stdout",
     "output_type": "stream",
     "text": [
      "키 : 170cm 몸무게 : 73kg\n",
      "비만입니다. (BMI지수: 25.26%)\n"
     ]
    }
   ],
   "source": [
    "def BMItest(cm, kg):\n",
    "    print(f\"키 : {cm}cm 몸무게 : {kg}kg\")\n",
    "    BMI = kg / (cm / 100) ** 2\n",
    "    result = [\"저체중\", \"정상\", \"과체중\", \"비만\"]\n",
    "\n",
    "    if BMI <= 18.5:\n",
    "        print(\"{}입니다. (BMI지수: {:.2f}%)\".format(result[0], BMI))\n",
    "    elif 18.5 < BMI <= 22.9:\n",
    "        print(\"{}입니다. (BMI지수: {:.2f}%)\".format(result[1], BMI))\n",
    "    elif 23 <= BMI <= 24.9:\n",
    "        print(\"{}입니다. (BMI지수: {:.2f}%)\".format(result[2], BMI))\n",
    "    elif 25 <= BMI:\n",
    "        print(\"{}입니다. (BMI지수: {:.2f}%)\".format(result[3], BMI))\n",
    "\n",
    "BMItest(170, 73)"
   ]
  },
  {
   "cell_type": "markdown",
   "id": "a27b1be4-9312-448d-8c76-3a098c7571b8",
   "metadata": {},
   "source": [
    "# 99. 로또 번호 추첨 구현하기 \n",
    "\n",
    "<img src=\"./pdf_images/문제99번.png\" width=\"70%\" />"
   ]
  },
  {
   "cell_type": "code",
   "execution_count": 308,
   "id": "75018f61-fff1-4cd1-849d-1a88f660a346",
   "metadata": {},
   "outputs": [],
   "source": [
    "import random"
   ]
  },
  {
   "cell_type": "code",
   "execution_count": 310,
   "id": "ac9870c5-1e7e-40ff-85ef-5d78a0fbd02c",
   "metadata": {},
   "outputs": [
    {
     "name": "stdout",
     "output_type": "stream",
     "text": [
      "<파이썬으로 만든 로또 번호 생성기>\n",
      "당첨번호 :2 16 22 27 30 41 + 보너스 : 43\n"
     ]
    }
   ],
   "source": [
    "lotto = []\n",
    "while True:\n",
    "    num = random.randint(1, 45)\n",
    "    if num not in lotto:\n",
    "        lotto.append(num)\n",
    "    if len(lotto) == 7:\n",
    "        break\n",
    "\n",
    "lotto.sort()\n",
    "print(\"<파이썬으로 만든 로또 번호 생성기>\")\n",
    "print(\"당첨번호 :\", end=\"\")\n",
    "\n",
    "for i in lotto[0:6]:\n",
    "    print(i, end=\" \")\n",
    "print(\"+ 보너스 :\", lotto[6])"
   ]
  },
  {
   "cell_type": "markdown",
   "id": "e8fc7834-6ff6-4149-aa2a-88cda05a4b4c",
   "metadata": {},
   "source": [
    "# 10. datetime 모듈 사용하기\n",
    "\n",
    "<img src=\"./pdf_images/문제100번.png\" width=\"70%\" />"
   ]
  },
  {
   "cell_type": "code",
   "execution_count": 313,
   "id": "9c8750f0-f77c-44c7-a34d-6939c364f19d",
   "metadata": {},
   "outputs": [],
   "source": [
    "import datetime"
   ]
  },
  {
   "cell_type": "code",
   "execution_count": 315,
   "id": "10ddc0f4-d135-4635-b8de-ecf140d2a626",
   "metadata": {},
   "outputs": [
    {
     "name": "stdout",
     "output_type": "stream",
     "text": [
      "2025-07-16 15:56:38.623681\n",
      "파이썬 문제풀이 공부가 끝났습니다. 수고하셨습니다.\n"
     ]
    }
   ],
   "source": [
    "end = datetime.datetime.now()\n",
    "\n",
    "print(end)\n",
    "print(\"파이썬 문제풀이 공부가 끝났습니다. 수고하셨습니다.\")"
   ]
  },
  {
   "cell_type": "code",
   "execution_count": null,
   "id": "5a28ac83-b0e9-42b1-804b-8c2f22965943",
   "metadata": {},
   "outputs": [],
   "source": []
  }
 ],
 "metadata": {
  "kernelspec": {
   "display_name": "Python [conda env:base] *",
   "language": "python",
   "name": "conda-base-py"
  },
  "language_info": {
   "codemirror_mode": {
    "name": "ipython",
    "version": 3
   },
   "file_extension": ".py",
   "mimetype": "text/x-python",
   "name": "python",
   "nbconvert_exporter": "python",
   "pygments_lexer": "ipython3",
   "version": "3.12.7"
  }
 },
 "nbformat": 4,
 "nbformat_minor": 5
}
