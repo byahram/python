{
 "cells": [
  {
   "cell_type": "markdown",
   "id": "f37b388e-ab92-4315-bac2-44493e4c6535",
   "metadata": {},
   "source": [
    "# 연산자"
   ]
  },
  {
   "cell_type": "markdown",
   "id": "5c705e8b-f7a6-45c5-86ad-6438b0b89e3b",
   "metadata": {},
   "source": [
    "## 연산자란?\n",
    "\n",
    "- 수학적 계산과 데이터 처리를 수행하기 위해 사용하는 기호 또는 기호 조합을 의미."
   ]
  },
  {
   "cell_type": "markdown",
   "id": "796b9cfc-423d-4880-bce8-90084d72318e",
   "metadata": {},
   "source": [
    "#### 파이썬에서 지원하는 연산자 종류\n",
    "\n",
    "- 산술 연산자: +, -, \\*, /, %, //, \\*\\*\n",
    "- 대입 연산자: =, +=, -=, \\*=, /=\n",
    "- 비교 연산자: ==, !=, >, <, >=, <=\n",
    "- 논리 연산자: not, and, or\n",
    "- 부호 연산자: -"
   ]
  },
  {
   "cell_type": "markdown",
   "id": "394eb7ce-0d40-4978-9015-80c187144c8d",
   "metadata": {},
   "source": [
    "#### 파이썬에는 없는 연산자\n",
    "\n",
    "- ++(증가 연산자), --(감소 연산자)"
   ]
  },
  {
   "cell_type": "markdown",
   "id": "6ff94ff5-8399-41ae-933d-58e561b303ff",
   "metadata": {},
   "source": [
    "## 1. 산술 연산자\n",
    "\n",
    "- // 나눗셈 몫: a//b a를 b로 나눈 몫\n",
    "- % 나눗셈 나머지: a&b a를 b로 나눈 나머지\n",
    "- ** 거듭 제곰: a**b a를 b로 제곱한 결과\n",
    "- c/c++/java: 나눗셈 몫, 거듭 제곱을 사용하지 않음."
   ]
  },
  {
   "cell_type": "code",
   "execution_count": 15,
   "id": "516fef67-7c4b-431c-8123-69dc175244fb",
   "metadata": {},
   "outputs": [
    {
     "name": "stdout",
     "output_type": "stream",
     "text": [
      "12\n",
      "8\n",
      "20\n",
      "5.0\n",
      "0\n",
      "5\n",
      "100\n"
     ]
    }
   ],
   "source": [
    "# 예제 1\n",
    "num01 = 10\n",
    "num02 = 2\n",
    "\n",
    "print(num01 + num02)        # 더하기(+): 12\n",
    "print(num01 - num02)        # 빼기(-): 8\n",
    "print(num01 * num02)        # 곱하기(*): 20\n",
    "print(num01 / num02)        # 나누기(/): 5.0\n",
    "print(num01 % num02)        # 나머지(%): 0\n",
    "print(num01 // num02)       # 몫 구하기(//): 5\n",
    "print(num01 ** num02)       # 거듭 제곱 연산자(**) = 10을 2번 곱해라: 100"
   ]
  },
  {
   "cell_type": "code",
   "execution_count": 17,
   "id": "798ae57e-748a-4b8d-93e6-5e2db120e023",
   "metadata": {},
   "outputs": [
    {
     "name": "stdout",
     "output_type": "stream",
     "text": [
      "19\n",
      "11\n",
      "60\n",
      "3.75\n",
      "3\n",
      "3\n",
      "50625\n"
     ]
    }
   ],
   "source": [
    "# 예제 2\n",
    "num03 = 15\n",
    "num04 = 4\n",
    "\n",
    "print(num03 + num04)        # 더하기: 19\n",
    "print(num03 - num04)        # 빼기: 11\n",
    "print(num03 * num04)        # 곱하기: 60\n",
    "print(num03 / num04)        # 나누기: 3.75\n",
    "print(num03 % num04)        # 나머지: 3\n",
    "print(num03 // num04)       # 몫 구하기: 3\n",
    "print(num03 ** num04)       # 거듭 제곱: 50625"
   ]
  },
  {
   "cell_type": "markdown",
   "id": "dee9d64e-1bab-42f3-a4d4-c42aa00b61a7",
   "metadata": {},
   "source": [
    "## 2. 대입 연산자\n",
    "\n",
    "- 변수에 값을 할당하는 데 사용하는 연산자\n",
    "- ="
   ]
  },
  {
   "cell_type": "code",
   "execution_count": 20,
   "id": "25d349c2-26ff-4544-99e8-a22817a54935",
   "metadata": {},
   "outputs": [
    {
     "name": "stdout",
     "output_type": "stream",
     "text": [
      "100\n",
      "20\n",
      "100\n",
      "20\n"
     ]
    }
   ],
   "source": [
    "# 예제 1\n",
    "num05 = 77\n",
    "num06 = 23\n",
    "num05 = num05 + 23\n",
    "num06 = num06 - 3\n",
    "\n",
    "print(num05)\n",
    "print(num06)\n",
    "\n",
    "num05 = 77\n",
    "num06 = 23\n",
    "num05 += 23\n",
    "num06 -= 3\n",
    "\n",
    "print(num05)\n",
    "print(num06)"
   ]
  },
  {
   "cell_type": "markdown",
   "id": "b77c4c25-77d7-4a55-90ad-4e555ac8c4a0",
   "metadata": {},
   "source": [
    "## 3. 복합 대입 연산자\n",
    "\n",
    "- 코드가 간결하다\n",
    "- 피연산자 : 연산의 대상이 되는 숫자, 변수, 또는 값 자체를 의지\n",
    "  - ex) a + b = a와 b가 피연산자\n",
    "  - ex) 10 + 5 = 10, 5가 피연산자\n",
    "- += : 왼쪽 피연산자에 오른쪽 피연산자를 더한 결과 값을 대입\n",
    "- -= : 뺀 결과 값을 대입\n",
    "- \\*= : 곱한 결과 값을 대입\n",
    "- /= : 나눈 결과 값을 대입\n",
    "- //= : 나눈 몫을 대입\n",
    "- %= : 나머지 값을 대입"
   ]
  },
  {
   "cell_type": "code",
   "execution_count": 24,
   "id": "bd46bf19-5608-49e9-8a1c-34cff487c116",
   "metadata": {},
   "outputs": [
    {
     "name": "stdout",
     "output_type": "stream",
     "text": [
      "79\n",
      "13\n",
      "0\n"
     ]
    }
   ],
   "source": [
    "# 예제 1\n",
    "num07 = 66\n",
    "num08 = 13\n",
    "num09 = num07 + num08\n",
    "num07 += num08\n",
    "num09 -= num07\n",
    "\n",
    "print(num07)\n",
    "print(num08)\n",
    "print(num09)"
   ]
  },
  {
   "cell_type": "code",
   "execution_count": 26,
   "id": "63fdf39b-503b-4aca-a303-ef3563ba4580",
   "metadata": {},
   "outputs": [
    {
     "name": "stdout",
     "output_type": "stream",
     "text": [
      "10\n",
      "3\n",
      "6\n"
     ]
    }
   ],
   "source": [
    "# 예제 2\n",
    "num1 = 7\n",
    "num2 = 3\n",
    "num3 = num1 // num2\n",
    "num1 += num2\n",
    "num3 *= num2\n",
    "\n",
    "print(num1)\n",
    "print(num2)\n",
    "print(num3)"
   ]
  },
  {
   "cell_type": "markdown",
   "id": "c900616d-3d9c-441b-b6d6-c61b884d1803",
   "metadata": {},
   "source": [
    "## 4. 비교 연산자\n",
    "\n",
    "- 두 개의 값을 비교하여 그 결과가 참(true)인지 거짓(false)인지 판별 하는 연산자로, 관계 연산자 라고도 한다.\n",
    "- 수학적인 부등호처럼 두 값의 관계를 판단 하는 역할.\n",
    "- \\> 크다\n",
    "- < 작다\n",
    "- \\>= 크거자 같다\n",
    "- <= 작거나 같다\n",
    "- == 같다\n",
    "- != 같지 않다"
   ]
  },
  {
   "cell_type": "code",
   "execution_count": 29,
   "id": "c86f7ba4-7bdf-42b2-9599-c92acd8be965",
   "metadata": {},
   "outputs": [
    {
     "name": "stdout",
     "output_type": "stream",
     "text": [
      "True\n",
      "False\n",
      "False\n",
      "True\n"
     ]
    }
   ],
   "source": [
    "# 예제 1\n",
    "a = 70\n",
    "b = 60\n",
    "\n",
    "a_is_bigger = a > b\n",
    "a_is_smaller = a < b\n",
    "is_equal = a == b\n",
    "is_not_equal = a != b\n",
    "\n",
    "print(a_is_bigger)\n",
    "print(a_is_smaller)\n",
    "print(is_equal)\n",
    "print(is_not_equal)"
   ]
  },
  {
   "cell_type": "code",
   "execution_count": 31,
   "id": "d658e3dc-8951-4804-bf45-f9de7b2a3a05",
   "metadata": {},
   "outputs": [
    {
     "name": "stdout",
     "output_type": "stream",
     "text": [
      "True\n",
      "True\n"
     ]
    }
   ],
   "source": [
    "# 예제 2\n",
    "str1 = \"abc\"\n",
    "str2 = \"a\" + \"b\" + \"c\"\n",
    "\n",
    "is_equal2 = (str1 == str2)\n",
    "print(is_equal2)\n",
    "\n",
    "one = \"1\"\n",
    "num = 1\n",
    "\n",
    "is_not_equal = (one != num)\n",
    "print(is_not_equal)"
   ]
  },
  {
   "cell_type": "markdown",
   "id": "47156773-1e9e-40dc-8a57-50da846a46ea",
   "metadata": {},
   "source": [
    "## 5. 논리 연산자\n",
    "\n",
    "- 논리적인 연산을 수행하여 참인지 거짓인지를 판단하는 연산자\n",
    "- and: 연산자를 기준으로 왼쪽과 오른쪽 값이 모두 true 일때만 true를 반환, 나머지는 모두 false (&&, &: 다른 언어)\n",
    "- or: 연산자를 기준으로 왼쪽과 오른쪽 값이 하나라도 true면 true를 반환, 둘다 false일때만 false 반환 (||: 다른 언어)\n",
    "- not: 뒤에 따라오는 논리값이 true이면 false를 반환, false이면 true를 반환 (!: 다른 언어)"
   ]
  },
  {
   "cell_type": "code",
   "execution_count": 35,
   "id": "d67439dd-5785-40f6-89e4-a735653a7763",
   "metadata": {},
   "outputs": [
    {
     "name": "stdout",
     "output_type": "stream",
     "text": [
      "True\n"
     ]
    }
   ],
   "source": [
    "# 예제 1\n",
    "is_snowing = True\n",
    "is_cold = True\n",
    "is_winter = (is_snowing and is_cold)\n",
    "print(is_winter)"
   ]
  },
  {
   "cell_type": "code",
   "execution_count": 37,
   "id": "e4fd70a3-7182-461d-8df2-2204264cf7bb",
   "metadata": {},
   "outputs": [
    {
     "name": "stdout",
     "output_type": "stream",
     "text": [
      "0\n"
     ]
    }
   ],
   "source": [
    "# 예제 2\n",
    "# True는 정수값으로 1, False는 정수값으로 0\n",
    "is_snowing2 = 1\n",
    "is_cold2 = 0\n",
    "is_winter2 = is_snowing2 & is_cold2\n",
    "print(is_winter2)"
   ]
  },
  {
   "cell_type": "code",
   "execution_count": 39,
   "id": "eaff07e4-a40a-41b0-b4dc-31218f495668",
   "metadata": {},
   "outputs": [
    {
     "name": "stdout",
     "output_type": "stream",
     "text": [
      "0\n"
     ]
    }
   ],
   "source": [
    "# 예제 3\n",
    "is_raining = 1\n",
    "is_windy = 0\n",
    "print(is_raining & is_windy)"
   ]
  },
  {
   "cell_type": "code",
   "execution_count": 44,
   "id": "2db7b3c2-7d06-4d88-9e5d-efae963265cd",
   "metadata": {},
   "outputs": [
    {
     "name": "stdout",
     "output_type": "stream",
     "text": [
      "True\n",
      "False\n"
     ]
    }
   ],
   "source": [
    "# 예제 4. Not 연산자\n",
    "is_false = False\n",
    "print(not is_false)\n",
    "\n",
    "is_true = True\n",
    "print(not is_true)"
   ]
  },
  {
   "cell_type": "markdown",
   "id": "a990acf2-9adb-41f7-af74-a5986539ad8d",
   "metadata": {},
   "source": [
    "## 6. 부호 연산자\n",
    "\n",
    "- 숫자 앞에 - 부호를 붙여 양수를 음수로, 음수를 양수로 변환할 수 있다.\n",
    "- 즉, 숫자의 부호를 변경한다.\n",
    "- ex) x = 10, x = -x, x = -10"
   ]
  },
  {
   "cell_type": "code",
   "execution_count": 49,
   "id": "6043141c-df8e-4c54-847a-0b353c24e682",
   "metadata": {},
   "outputs": [
    {
     "name": "stdout",
     "output_type": "stream",
     "text": [
      "-10\n"
     ]
    }
   ],
   "source": [
    "# 예제 1\n",
    "x = 10\n",
    "x = -x\n",
    "print(x)"
   ]
  },
  {
   "cell_type": "code",
   "execution_count": 51,
   "id": "a2715161-b43f-4c34-b74c-163ade5be69c",
   "metadata": {},
   "outputs": [
    {
     "name": "stdout",
     "output_type": "stream",
     "text": [
      "10\n"
     ]
    }
   ],
   "source": [
    "#예제 2\n",
    "x = -x\n",
    "print(x)"
   ]
  },
  {
   "cell_type": "code",
   "execution_count": 53,
   "id": "65a476de-dd95-4358-b4b5-edc5266f8b03",
   "metadata": {},
   "outputs": [
    {
     "name": "stdout",
     "output_type": "stream",
     "text": [
      "-1\n"
     ]
    }
   ],
   "source": [
    "# 예제 3\n",
    "is_true = True\n",
    "print(- is_true)    # -1"
   ]
  },
  {
   "cell_type": "code",
   "execution_count": 55,
   "id": "892e650e-d720-4f67-9b1c-d08e936bef66",
   "metadata": {},
   "outputs": [
    {
     "name": "stdout",
     "output_type": "stream",
     "text": [
      "70\n"
     ]
    }
   ],
   "source": [
    "# 응용 문제 1\n",
    "y = 10\n",
    "y *= 7\n",
    "print(y)"
   ]
  },
  {
   "cell_type": "code",
   "execution_count": null,
   "id": "4506383f-f5be-46f1-9009-195106ca0b70",
   "metadata": {},
   "outputs": [],
   "source": []
  }
 ],
 "metadata": {
  "kernelspec": {
   "display_name": "Python [conda env:base] *",
   "language": "python",
   "name": "conda-base-py"
  },
  "language_info": {
   "codemirror_mode": {
    "name": "ipython",
    "version": 3
   },
   "file_extension": ".py",
   "mimetype": "text/x-python",
   "name": "python",
   "nbconvert_exporter": "python",
   "pygments_lexer": "ipython3",
   "version": "3.12.7"
  }
 },
 "nbformat": 4,
 "nbformat_minor": 5
}
