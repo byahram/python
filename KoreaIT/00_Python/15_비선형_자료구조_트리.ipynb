{
 "cells": [
  {
   "cell_type": "markdown",
   "id": "cb258da9-d977-4d34-9c91-e33e8f82f5e8",
   "metadata": {},
   "source": [
    "# 비선형 자료구조 : 트리"
   ]
  },
  {
   "cell_type": "markdown",
   "id": "744c3087-a1c4-4d44-a86e-9b8d44e6cdbf",
   "metadata": {},
   "source": [
    "### 자료구조\n",
    "\n",
    "- 리스트(list), 스택, 큐 : 일렬로 데이터를 처리할 때 유용 (선형처리)\n",
    "- 트리(tree) : 선형구조로 나타내기 어려운 상황이 있을때 (비선형구조)"
   ]
  },
  {
   "cell_type": "markdown",
   "id": "94a4e11b-31cd-4836-832d-8a8a51590feb",
   "metadata": {},
   "source": [
    "### 트리(tree)의 실제 예시\n",
    "\n",
    "1. 폴더 구조 : 내 컴퓨터 ->문서 -> 과제 자료 -> 업무자료\n",
    "    - 한 폴더 안에 여러 하위 폴더가 있고, 또 그 하위 폴더 안에 더 많은 폴더가 있는 구조는 전형적인 트리(tree)구조이다.\n",
    "    - 폴더는 ' 부모' 가 있고, 그 안에 '자식'폴더가 존재한다.\n",
    "2. 게임 캐릭터 계층 구조\n",
    "    - rpg 게임에서 캐릭터라는 클래스 아래에 전사, 마법사, 궁수 같은 하위 직업이 존재하고, 그 안에는 더 세부적인 작업이 있을 수 있다."
   ]
  },
  {
   "cell_type": "markdown",
   "id": "9046d333-9f3b-4e14-bdc3-1bc3bc32890f",
   "metadata": {},
   "source": [
    "### 트리의 정의\n",
    "\n",
    "- 트리는 데이터를 \"계층 구조\"로 저장하는 자료구조이다.\n",
    "- 하나의 시작점(루트)에서 여러 방향으로 까지가 뻗어 나가는 형태를 가지고 있어, 한 부모가 여러 자식을 가질 수 있는 구조이다."
   ]
  },
  {
   "cell_type": "markdown",
   "id": "96ca4a1c-cfc1-4822-8120-51913be85e2b",
   "metadata": {},
   "source": [
    "### 트리의 기본 용어\n",
    "\n",
    "- **노드 (node)** : 트리의 각 요소(데이터 하나)\n",
    "- **루트 노드(root)** : 트리의 가장 위에 있는 노드(시작점)\n",
    "- **부모 노드(parent)** : 자식 노드를 가지는 노드\n",
    "- **자식 노드(child)** : 부모 아래에 연결된 노드\n",
    "- **형제 노드** : 같은 부모를 가진 노드\n",
    "- **리프 노드** : 자식이 없는 노드(끝 노드)\n",
    "- **서브 트리** : 하나의 노드와 그 자식들을 포함한 작은 트리\n",
    "- **깊이** : 루트에서 해당 노드까지의 거리(몇 단계 아래인지)\n",
    "- **높이** : 해당 노드에서 가장 깊은 리프까지의 거리"
   ]
  },
  {
   "cell_type": "markdown",
   "id": "959616fb-c083-4b5f-b6fd-5ec13d8ee070",
   "metadata": {},
   "source": [
    "### 트리의 종류\n",
    "\n",
    "1. 일반 트리 - 자식 노드 수에 제한 없음\n",
    "2. 이진 트리 - 하나의 노드가 최대 2개의 자식만 가질 수 있는 트리 : 왼쪽 자식, 오른쪽 자식 나뉨\n",
    "3. 이진 탐색 트리 - 왼쪽 자식 < 부모 < 오른쪽 자식 : 탐색, 삽입, 삭제에 효율적"
   ]
  },
  {
   "cell_type": "markdown",
   "id": "bd535ebe-4426-465a-af02-2455bc9823f8",
   "metadata": {},
   "source": [
    "# 트리 1. 일반 트리"
   ]
  },
  {
   "cell_type": "markdown",
   "id": "91f2d550-3273-4bf3-87bc-d3195bc360c1",
   "metadata": {},
   "source": [
    "## 일반 트리 예제 1."
   ]
  },
  {
   "cell_type": "code",
   "execution_count": 292,
   "id": "2daa97ca-7624-43b0-9f38-da8ffcebc488",
   "metadata": {},
   "outputs": [],
   "source": [
    "# 일반 트리 구현\n",
    "class TreeNode :\n",
    "    def __init__(self, data) :\n",
    "        self.data = data        # 노드에 저장할 값\n",
    "        self.children = []      # 자식 노드를 저장하는 리스트\n",
    "\n",
    "    def add_child(self, child_node) :\n",
    "        # 현재 노드에 자식 노드를 추가한다.\n",
    "        self.children.append(child_node)\n",
    "\n",
    "    def print_tree(self, level = 0) :\n",
    "        # 트리 구조를 들여쓰기로 출력\n",
    "        print(\"  \" * level + str(self.data))\n",
    "        for child in self.children :\n",
    "            child.print_tree(level + 1)"
   ]
  },
  {
   "cell_type": "code",
   "execution_count": 294,
   "id": "ea91be78-4aab-439c-b667-f16be1ece1e8",
   "metadata": {},
   "outputs": [],
   "source": [
    "# 트리 생성\n",
    "def build_tree() :\n",
    "    root = TreeNode(\"한국\")\n",
    "\n",
    "    # 1단계 자식 노드\n",
    "    seoul = TreeNode(\"서울\")\n",
    "    busan = TreeNode(\"부산\")\n",
    "    incheon = TreeNode(\"인천\")\n",
    "\n",
    "    # 2단계 자식 노드\n",
    "    gangnam = TreeNode(\"강남구\")\n",
    "    seocho = TreeNode(\"서초구\")\n",
    "    haeundae = TreeNode(\"해운대\")\n",
    "\n",
    "    # 트리 구조 연결\n",
    "    root.add_child(seoul)\n",
    "    root.add_child(busan)\n",
    "    root.add_child(incheon)\n",
    "\n",
    "    seoul.add_child(gangnam)\n",
    "    seoul.add_child(seocho)\n",
    "    busan.add_child(haeundae)\n",
    "\n",
    "    return root"
   ]
  },
  {
   "cell_type": "code",
   "execution_count": 296,
   "id": "92c4341f-7fad-407d-8896-4929cd4168ff",
   "metadata": {},
   "outputs": [
    {
     "name": "stdout",
     "output_type": "stream",
     "text": [
      "한국\n",
      "  서울\n",
      "    강남구\n",
      "    서초구\n",
      "  부산\n",
      "    해운대\n",
      "  인천\n"
     ]
    }
   ],
   "source": [
    "# 트리 출력\n",
    "# 여기에 있는 코드는 '직접 실행할 때만' 실행된다.\n",
    "# 이 코드를 모듈로 사용할 경우, 테스트 코드가 실행되지 않도록 하기 위함.\n",
    "if __name__ == \"__main__\" :\n",
    "    korea_tree = build_tree()\n",
    "    korea_tree.print_tree()"
   ]
  },
  {
   "cell_type": "markdown",
   "id": "19b22225-ded0-495b-8191-531cd9ccfddb",
   "metadata": {},
   "source": [
    "## 일반 트리 예제 2."
   ]
  },
  {
   "cell_type": "code",
   "execution_count": 299,
   "id": "059d8e38-666e-4f6e-a157-e02d8f8aad18",
   "metadata": {},
   "outputs": [],
   "source": [
    "class FoodTreeNode :\n",
    "    def __init__(self, data) :\n",
    "        self.data = data\n",
    "        self.children = []\n",
    "\n",
    "    def add_child(self, child_node) :\n",
    "        self.children.append(child_node)\n",
    "\n",
    "    def food_tree(self, level = 0) :\n",
    "        print(\"  \" * level + str(self.data))\n",
    "        for child in self.children :\n",
    "            child.food_tree(level + 1)"
   ]
  },
  {
   "cell_type": "code",
   "execution_count": 301,
   "id": "3ea873c3-8050-45ee-bd81-95918e2af29c",
   "metadata": {},
   "outputs": [],
   "source": [
    "def build_food_tree() :\n",
    "    root = FoodTreeNode(\"음식\")\n",
    "\n",
    "    k = FoodTreeNode(\"한식\")\n",
    "    c = FoodTreeNode(\"중식\")\n",
    "    w = FoodTreeNode(\"양식\")\n",
    "\n",
    "    k.add_child(FoodTreeNode(\"비빔밥\"))\n",
    "    k.add_child(FoodTreeNode(\"김치찌개\"))\n",
    "\n",
    "    c.add_child(FoodTreeNode(\"짜장면\"))\n",
    "    c.add_child(FoodTreeNode(\"마라탕\"))\n",
    "\n",
    "    w.add_child(FoodTreeNode(\"파스타\"))\n",
    "    w.add_child(FoodTreeNode(\"스테이크\"))\n",
    "\n",
    "    root.add_child(k)\n",
    "    root.add_child(c)\n",
    "    root.add_child(w)\n",
    "\n",
    "    return root"
   ]
  },
  {
   "cell_type": "code",
   "execution_count": 303,
   "id": "9d341413-bf9e-454c-8a71-30024da46daf",
   "metadata": {},
   "outputs": [
    {
     "name": "stdout",
     "output_type": "stream",
     "text": [
      "음식\n",
      "  한식\n",
      "    비빔밥\n",
      "    김치찌개\n",
      "  중식\n",
      "    짜장면\n",
      "    마라탕\n",
      "  양식\n",
      "    파스타\n",
      "    스테이크\n"
     ]
    }
   ],
   "source": [
    "if __name__ == \"__main__\" :\n",
    "    korea_tree = build_food_tree()\n",
    "    korea_tree.food_tree()"
   ]
  },
  {
   "cell_type": "markdown",
   "id": "db3b5c3e-80df-49aa-b2b6-2e2dc845003b",
   "metadata": {},
   "source": [
    "# 트리 2. 이진 트리(Binary Tree)"
   ]
  },
  {
   "cell_type": "markdown",
   "id": "67f24ec7-b159-4b09-bd8b-182e5994624f",
   "metadata": {},
   "source": [
    "### 이진트리 규칙\n",
    "\n",
    "- 모든 노드의 자식은 최대 2개다.\n",
    "- 루트 노드는 트리의 시작점이다."
   ]
  },
  {
   "cell_type": "markdown",
   "id": "8852df92-ce94-4473-bcb2-fde388bb0a61",
   "metadata": {},
   "source": [
    "### 노드 클래스 설계하기\n",
    "\n",
    "- 이진 트리를 만들기 위해 먼저 노드클래스를 정의해야 한다.\n",
    "\n",
    "```\n",
    "class Node :\n",
    " \tdef __init__(self, value) :\n",
    "\t\tself.value = value      # 노드에 저장할 값\n",
    "\t\tself.left = None        # 왼쪽 자식 노드\n",
    "\t\tself.right = None\n",
    "\n",
    "        1\n",
    "      /    \\\n",
    "    2       3   \n",
    "```"
   ]
  },
  {
   "cell_type": "markdown",
   "id": "e43c820e-8b33-4435-aebf-4430285d6d2e",
   "metadata": {},
   "source": [
    "## 이진 트리 예제 1."
   ]
  },
  {
   "cell_type": "code",
   "execution_count": 309,
   "id": "18884979-2c87-4e87-b053-310f9c78a1c0",
   "metadata": {},
   "outputs": [],
   "source": [
    "# 노드 클래스 정의\n",
    "class Node :\n",
    "    def __init__(self, value) :\n",
    "        self.value = value\n",
    "        self.left = None\n",
    "        self.right = None"
   ]
  },
  {
   "cell_type": "code",
   "execution_count": 311,
   "id": "a76bc64e-a381-43e8-8a6b-a75fb7303f16",
   "metadata": {},
   "outputs": [],
   "source": [
    "# 노드 생성\n",
    "root = Node(1)\n",
    "root.left = Node(2)\n",
    "root.right = Node(3)"
   ]
  },
  {
   "cell_type": "code",
   "execution_count": 313,
   "id": "535199f6-f131-43d8-95ec-a7172dc73db3",
   "metadata": {},
   "outputs": [
    {
     "name": "stdout",
     "output_type": "stream",
     "text": [
      "루트 노드 : 1\n",
      "왼쪽 자식 : 2\n",
      "오른쪽 자식 : 3\n"
     ]
    }
   ],
   "source": [
    "# 노드 값 출력\n",
    "print(\"루트 노드 :\", root.value)\n",
    "print(\"왼쪽 자식 :\", root.left.value)\n",
    "print(\"오른쪽 자식 :\", root.right.value)"
   ]
  },
  {
   "cell_type": "markdown",
   "id": "c0ec04cf-7e70-4990-b5de-7b49b676820c",
   "metadata": {},
   "source": [
    "## 이진 트리 예제 2."
   ]
  },
  {
   "cell_type": "code",
   "execution_count": 316,
   "id": "0e00f2ec-6e83-4303-ae6c-242879cfb63a",
   "metadata": {},
   "outputs": [],
   "source": [
    "class Node2 :\n",
    "    def __init__(self, value) :\n",
    "        self.value = value\n",
    "        self.left = None\n",
    "        self.right = None"
   ]
  },
  {
   "cell_type": "code",
   "execution_count": 318,
   "id": "beb7a379-e4fb-43f2-b6d5-a656376b6aa8",
   "metadata": {},
   "outputs": [],
   "source": [
    "# 노드 생성\n",
    "root = Node2(10)\n",
    "root.left = Node2(5)\n",
    "root.right = Node2(15)\n",
    "\n",
    "root.left.left = Node2(2)\n",
    "root.left.right = Node2(7)"
   ]
  },
  {
   "cell_type": "code",
   "execution_count": 320,
   "id": "916f3c27-7c34-4fee-bee9-57998cedd063",
   "metadata": {},
   "outputs": [],
   "source": [
    "# 트리 출력 함수\n",
    "# node부터 시작해서 트리를 출력하는 함수. level은 들여쓰기 (깊이)\n",
    "def print_tree(node, level = 0) :\n",
    "    # 현재 노드가 존재할 때만 실행\n",
    "    if node is not None :\n",
    "        # 현재 노드의 값이 출력하되, 들여쓰기를 통해 트리 구조를 시각화\n",
    "        print(\"  \" * level + f\"노드 값 : {node.value}\")\n",
    "        # 왼쪽 자식 노드를 재귀 호출(깊이 1 증가)\n",
    "        print_tree(node.left, level + 1)\n",
    "        # 오른쪽 자식 노드로 재귀 호출(깊이 1 증가)\n",
    "        print_tree(node.right, level + 1)"
   ]
  },
  {
   "cell_type": "code",
   "execution_count": 322,
   "id": "68600791-afa5-4c9b-883f-5ae6204a884c",
   "metadata": {},
   "outputs": [
    {
     "name": "stdout",
     "output_type": "stream",
     "text": [
      "트리 구조 출력\n",
      "노드 값 : 10\n",
      "  노드 값 : 5\n",
      "    노드 값 : 2\n",
      "    노드 값 : 7\n",
      "  노드 값 : 15\n"
     ]
    }
   ],
   "source": [
    "print(\"트리 구조 출력\")\n",
    "print_tree(root)"
   ]
  },
  {
   "cell_type": "markdown",
   "id": "70e458b7-e6c4-4827-b8b4-c87b1da08ba1",
   "metadata": {},
   "source": [
    "# 트리 순회\n",
    "\n",
    "- 트리의 모든 노드를 일정한 규칙에 따라 한 번씩 방문하는 과정을 말한다.\n",
    "- 트리 구조는 계층적이기 때문에 순회 방법에 따라 노드를 방문하는 순서가 달라지며, 대표적인 순회방식은 다음과 같다."
   ]
  },
  {
   "cell_type": "markdown",
   "id": "df1f5dcb-be55-4c47-9b9d-b4ed7c4fe6c5",
   "metadata": {},
   "source": [
    "## 트리 순회 1. 전위 순회\n",
    "\n",
    "- 순서 : 루트 -> 왼쪽 서브트리 -> 오른쪽 서브트리 방문"
   ]
  },
  {
   "cell_type": "markdown",
   "id": "1bb7f57e-4690-4d5f-a611-142c0fef2756",
   "metadata": {},
   "source": [
    "### 전위 순회 예제 1."
   ]
  },
  {
   "cell_type": "code",
   "execution_count": 327,
   "id": "f823c3b1-0fa7-47b2-a51d-eb160a6c5f04",
   "metadata": {},
   "outputs": [],
   "source": [
    "class Node3 :\n",
    "    def __init__(self, value) :\n",
    "        self.value = value\n",
    "        self.left = None\n",
    "        self.right = None"
   ]
  },
  {
   "cell_type": "code",
   "execution_count": 329,
   "id": "61534284-fc84-4611-82c0-4ed949947b10",
   "metadata": {},
   "outputs": [],
   "source": [
    "# 트리 구조 생성\n",
    "root = Node3(\"A\")\n",
    "root.left = Node3(\"B\")\n",
    "root.right = Node3(\"C\")\n",
    "root.left.left = Node3(\"D\")\n",
    "root.left.right = Node3(\"E\")"
   ]
  },
  {
   "cell_type": "code",
   "execution_count": 331,
   "id": "2e002179-ad74-4070-a3ec-3292b0f1dc63",
   "metadata": {},
   "outputs": [],
   "source": [
    "# 전위 순회 함수 정의 : 루트 -> 왼쪽 -> 오른쪽\n",
    "def preorder(node) :\n",
    "    if node :\n",
    "        # 전위 순회에서는 루트 노드를 먼저 방문하니까 현재 노드를 먼저 출력하는 것이다.\n",
    "        print(node.value, end = '  ')        # 1단계 : 현재 노드 출력\n",
    "\n",
    "        # 현재 노드의 왼쪽 자식 노드를 재귀적으로 전위 순회 한다.\n",
    "        # 즉, 왼쪽 서브 트리부터 다시 전위 순회를 시작하는 것이다.\n",
    "        preorder(node.left)                 # 2단계 : 왼쪽 자식 방문\n",
    "\n",
    "        # 왼쪽 다 끝났으면 오른쪽으로 넘어가서 또 순회한다.\n",
    "        preorder(node.right)                # 3단계 : 오른쪽 자식 방문"
   ]
  },
  {
   "cell_type": "code",
   "execution_count": 333,
   "id": "caa75e67-e389-4ee9-98e0-97486647eaf4",
   "metadata": {},
   "outputs": [
    {
     "name": "stdout",
     "output_type": "stream",
     "text": [
      ">> 전위 순회 결과\n",
      "A  B  D  E  C  "
     ]
    }
   ],
   "source": [
    "# 함수 실행\n",
    "print(\">> 전위 순회 결과\")\n",
    "preorder(root)"
   ]
  },
  {
   "cell_type": "markdown",
   "id": "5a8e4372-bde4-4782-bc12-7b038204f725",
   "metadata": {},
   "source": [
    "### 전위 순회 예제 2."
   ]
  },
  {
   "cell_type": "code",
   "execution_count": 336,
   "id": "0dbbc656-caff-408c-b923-d8d2e920dfb4",
   "metadata": {},
   "outputs": [],
   "source": [
    "class Node4 :\n",
    "    def __init__(self, value) :\n",
    "        self.value = value\n",
    "        self.left = None\n",
    "        self.right = None"
   ]
  },
  {
   "cell_type": "code",
   "execution_count": 338,
   "id": "265de411-8f0f-4d2c-9aa2-fdff2c18f430",
   "metadata": {},
   "outputs": [],
   "source": [
    "# 트리 구조 생성\n",
    "root = Node4(\"M\")\n",
    "root.left = Node4(\"N\")\n",
    "root.right = Node4(\"O\")\n",
    "root.left.left = Node4(\"P\")\n",
    "root.right.left = Node4(\"Q\")\n",
    "root.right.right = Node4(\"R\")"
   ]
  },
  {
   "cell_type": "code",
   "execution_count": 340,
   "id": "873b6a06-db80-4267-8bba-f602bb46b347",
   "metadata": {},
   "outputs": [],
   "source": [
    "def preorder2(node) :\n",
    "    if node :\n",
    "        print(node.value, end = \"  \")\n",
    "        preorder2(node.left)\n",
    "        preorder2(node.right)"
   ]
  },
  {
   "cell_type": "code",
   "execution_count": 342,
   "id": "a7240e3c-3a4d-439a-82ed-9a510cb71297",
   "metadata": {},
   "outputs": [
    {
     "name": "stdout",
     "output_type": "stream",
     "text": [
      ">> 전위 순회 결과\n",
      "M  N  P  O  Q  R  "
     ]
    }
   ],
   "source": [
    "print(\">> 전위 순회 결과\")\n",
    "preorder2(root)"
   ]
  },
  {
   "cell_type": "markdown",
   "id": "de5d951a-bc80-4164-99bb-ec8c7b17a91b",
   "metadata": {},
   "source": [
    "### 전위 순회 예제 3. 재귀 함수"
   ]
  },
  {
   "cell_type": "markdown",
   "id": "757ec41e-c9ff-4d5d-98ba-444ac187b358",
   "metadata": {},
   "source": [
    "#### 재귀 호출\n",
    "\n",
    "- 함수가 자기 자신을 다시 부르는 프로그래밍 기법"
   ]
  },
  {
   "cell_type": "code",
   "execution_count": 346,
   "id": "beff5066-2d52-4b87-9902-eccf426bc545",
   "metadata": {},
   "outputs": [],
   "source": [
    "# 간단한 재귀 함수 (숫자 출력) 예시\n",
    "def countdown(n) :\n",
    "    # 기저 조건 : if n > 0 이 업승면 무한 반복돼서 오류 발생\n",
    "    if n > 0 :\n",
    "        print(n)\n",
    "        countdown(n - 1)\n",
    "\n",
    "    else :\n",
    "        print(\"끝\")"
   ]
  },
  {
   "cell_type": "code",
   "execution_count": 348,
   "id": "c4f60293-6aff-4806-a8e2-fc1fe1efc969",
   "metadata": {},
   "outputs": [
    {
     "name": "stdout",
     "output_type": "stream",
     "text": [
      ">> 재귀 함수\n",
      "5\n",
      "4\n",
      "3\n",
      "2\n",
      "1\n",
      "끝\n"
     ]
    }
   ],
   "source": [
    "print(\">> 재귀 함수\")\n",
    "# 함수 실행\n",
    "countdown(5)"
   ]
  },
  {
   "cell_type": "markdown",
   "id": "48db03ce-7e15-4c01-8224-9ceaf3687305",
   "metadata": {},
   "source": [
    "## 트리 순회 2. 중위 순회\n",
    "\n",
    "- 순서 : 왼쪽 -> 루트 -> 오른쪽 \n",
    "- 트리의 왼쪽 서브트리를 먼저 순회하고, 그 다음 루트 노드를 처리한 후, 오른쪽 서브트리르 순회한다."
   ]
  },
  {
   "cell_type": "code",
   "execution_count": 351,
   "id": "b9ce3208-d385-42b6-8bb8-4ebabca88364",
   "metadata": {},
   "outputs": [],
   "source": [
    "# 중위 순회 예제 : DBEAC\n",
    "class Node5 :\n",
    "    def __init__(self, value) :\n",
    "        self.value = value\n",
    "        self.left = None\n",
    "        self.right = None"
   ]
  },
  {
   "cell_type": "code",
   "execution_count": 353,
   "id": "d880e59b-c283-4169-b85f-f12efd0e4de9",
   "metadata": {},
   "outputs": [],
   "source": [
    "# 트리 구조 생성\n",
    "root = Node5(\"A\")\n",
    "root.left = Node5(\"B\")\n",
    "root.right = Node5(\"C\")\n",
    "root.left.left = Node5(\"D\")\n",
    "root.left.right = Node5(\"E\")"
   ]
  },
  {
   "cell_type": "code",
   "execution_count": 355,
   "id": "ebab82cc-6228-473c-b4b5-e71ac8e09c65",
   "metadata": {},
   "outputs": [],
   "source": [
    "# 중위 순회 함수 : 왼쪽 -> 루트 -> 오른쪽\n",
    "def inorder(node) :\n",
    "    if node :\n",
    "        inorder(node.left)\n",
    "        print(node.value, end = '  ')\n",
    "        inorder(node.right)"
   ]
  },
  {
   "cell_type": "code",
   "execution_count": 357,
   "id": "32c6390e-315a-4bd4-9c62-623af19ee828",
   "metadata": {},
   "outputs": [
    {
     "name": "stdout",
     "output_type": "stream",
     "text": [
      "2. 중위 순회 결과\n",
      "D  B  E  A  C  "
     ]
    },
    {
     "data": {
      "text/plain": [
       "'\\n- 트리는 계층 구조이다.\\n- 전위 순회 순서 : 루트 -> 왼쪽 -> 오른쪽\\n- 중위 순회 순서 : 왼쪽 -> 루트 -> 오른쪽\\n'"
      ]
     },
     "execution_count": 357,
     "metadata": {},
     "output_type": "execute_result"
    }
   ],
   "source": [
    "# 순회 실행\n",
    "print(\"2. 중위 순회 결과\")\n",
    "inorder(root)\n",
    "\n",
    "'''\n",
    "- 트리는 계층 구조이다.\n",
    "- 전위 순회 순서 : 루트 -> 왼쪽 -> 오른쪽\n",
    "- 중위 순회 순서 : 왼쪽 -> 루트 -> 오른쪽\n",
    "'''"
   ]
  },
  {
   "cell_type": "markdown",
   "id": "a7345d98-2a24-436b-b08e-36d641050779",
   "metadata": {},
   "source": [
    "## 트리 순회 3. 후위 순회\n",
    "\n",
    "- 트리의 노드를 왼쪽 오른쪽 루트 순서로 방문한다.\n",
    "- 즉, 자식 노드를 모두 방문한 후, 가장 마지막에 부모 노드를 처리하는 방식이다."
   ]
  },
  {
   "cell_type": "markdown",
   "id": "87dfef0f-8d0d-4eda-9279-e9f5c2a97937",
   "metadata": {},
   "source": [
    "### 후위 순회 예제 1."
   ]
  },
  {
   "cell_type": "code",
   "execution_count": 361,
   "id": "664a3264-90bf-4020-8668-ce644037b709",
   "metadata": {},
   "outputs": [],
   "source": [
    "# 노드 클래스 정의\n",
    "class Node : \n",
    "    def __init__(self, value) :\n",
    "        self.value = value\n",
    "        self.left = None        # 왼쪽 자식 노드\n",
    "        self.right = None       # 오른쪽 자식 노드"
   ]
  },
  {
   "cell_type": "code",
   "execution_count": 363,
   "id": "52dfa7a0-f914-4a09-9cc1-60a82b538381",
   "metadata": {},
   "outputs": [],
   "source": [
    "# 트리 생성\n",
    "root = Node(\"A\")\n",
    "root.left = Node(\"B\")\n",
    "root.right = Node(\"C\")\n",
    "root.left.left = Node(\"D\")\n",
    "root.left.right = Node(\"E\")"
   ]
  },
  {
   "cell_type": "code",
   "execution_count": 365,
   "id": "baceb4e3-ce1c-42d2-88a8-07fc3deb4fac",
   "metadata": {},
   "outputs": [],
   "source": [
    "# 후위 순회 함수\n",
    "def postorder(node) :\n",
    "    if node :\n",
    "        postorder(node.left)        # 왼쪽 자식 방문\n",
    "        postorder(node.right)       # 오른쪽 자식 방문\n",
    "        print(node.value, end = '  ')       # 현재 노드 출력"
   ]
  },
  {
   "cell_type": "code",
   "execution_count": 367,
   "id": "e5ca600c-d6e2-412d-953f-ba394ff5f28a",
   "metadata": {},
   "outputs": [
    {
     "name": "stdout",
     "output_type": "stream",
     "text": [
      ">> 후위 순회 실행\n",
      "D  E  B  C  A  "
     ]
    }
   ],
   "source": [
    "# 후위 순회 실행\n",
    "print(\">> 후위 순회 실행\")\n",
    "postorder(root)"
   ]
  },
  {
   "cell_type": "markdown",
   "id": "bfcf770f-94f9-4407-a6d3-35212695c84f",
   "metadata": {},
   "source": [
    "### 후위 순회 예제 2."
   ]
  },
  {
   "cell_type": "code",
   "execution_count": 370,
   "id": "f980195c-b7dc-4a4b-90cd-bba3391f6c90",
   "metadata": {},
   "outputs": [],
   "source": [
    "# 노드 클래스 정의\n",
    "class Node : \n",
    "    def __init__(self, value) :\n",
    "        self.value = value\n",
    "        self.left = None\n",
    "        self.right = None"
   ]
  },
  {
   "cell_type": "code",
   "execution_count": 372,
   "id": "faaa23c5-0c71-4d0f-8fc4-3fb9336771de",
   "metadata": {},
   "outputs": [],
   "source": [
    "root = Node(\"1\")\n",
    "root.left = Node(\"2\")\n",
    "root.right = Node(\"3\")\n",
    "root.left.left = Node(\"4\")\n",
    "root.left.right = Node(\"5\")\n",
    "root.right.left = Node(\"6\")\n",
    "root.right.right = Node(\"7\")"
   ]
  },
  {
   "cell_type": "code",
   "execution_count": 374,
   "id": "3c635aca-4305-4585-92b9-b237f0f90af3",
   "metadata": {},
   "outputs": [],
   "source": [
    "def postorder(node) :\n",
    "    if node :\n",
    "        postorder(node.left)\n",
    "        postorder(node.right)\n",
    "        print(node.value, end = '  ')"
   ]
  },
  {
   "cell_type": "code",
   "execution_count": 376,
   "id": "e4c82833-0b15-4238-bced-be1f6960ff16",
   "metadata": {},
   "outputs": [
    {
     "name": "stdout",
     "output_type": "stream",
     "text": [
      "후위 순회 실행\n",
      "4  5  2  6  7  3  1  "
     ]
    }
   ],
   "source": [
    "print(\"후위 순회 실행\")\n",
    "postorder(root)"
   ]
  },
  {
   "cell_type": "markdown",
   "id": "3f0cd2e6-8dee-45ee-9c1d-ecaa9e9699e5",
   "metadata": {},
   "source": [
    "# 트리 3. 이진 탐색 트리(Binary Search Tree)\n",
    "\n",
    "- 이진 탐색 트리는 이진 트리의 한 종류로, 노드의 왼족 자식은 항상 자신보다 작은 값, 오른쪽 자식은 항상 자신보다 큰 값을 가지는 트리이다.\n",
    "- 왼쪽 자식은 보통 부모보다 작은 값, 오른쪽 자식은 부모보다 큰 값을 가진다."
   ]
  },
  {
   "cell_type": "markdown",
   "id": "ea5057df-86a3-42f3-98cd-45ddfbfb0c3e",
   "metadata": {},
   "source": [
    "### 규칙\n",
    "\n",
    "1. 왼쪽 서브트리의 모든 노드 < 루트 노드의 값\n",
    "2. 오른쪽 서브트리의 모든 노트 > 루트 노드의 값"
   ]
  },
  {
   "cell_type": "markdown",
   "id": "1308892d-d271-41bd-8cfb-9d4ef250bea1",
   "metadata": {},
   "source": [
    "### 장점\n",
    "\n",
    "- 탐색, 삽입, 삭제 연산이 평균적으로 O(logn)의 시간 복잡도를 가진다.\n",
    "- 중위 순회하면 항상 오름차순 정렬된 값을 출력한다."
   ]
  },
  {
   "cell_type": "markdown",
   "id": "466dd21d-add4-403c-8cab-0298e983de8f",
   "metadata": {},
   "source": [
    "### 삽입(insert)를 왜 해야할까?\n",
    "\n",
    "- 트리는 동적으로 데이터를 추가할 수 있어야 한다."
   ]
  },
  {
   "cell_type": "markdown",
   "id": "a9cff149-d084-40c4-a44a-8242ae75ee3c",
   "metadata": {},
   "source": [
    "### 탐색(Search)을 왜 해야할까?\n",
    "\n",
    "- 트리의 주 목적 중 하나는 데이터를 빠르게 찾는 것이다.\n",
    "- BST에서는 값의 대소를 이용해 불필요한 탐색을 피할 수 있으므로 효율적이다."
   ]
  },
  {
   "cell_type": "markdown",
   "id": "d28f3ade-47a7-4bb1-b197-a0f7f1a98e3c",
   "metadata": {},
   "source": [
    "### 이진탐색트리 삭제의 정의\n",
    "\n",
    "- BST에서 삭제는 특정 값을 가진 노드를제거하는 연산이다.\n",
    "- BST 정렬 규칙 (왼쪽 < 부모 < 오른쪽)을 유지하면서 삭제해야 한다."
   ]
  },
  {
   "cell_type": "markdown",
   "id": "bb8e2050-b17f-4c6b-b2ee-202e7fa8d300",
   "metadata": {},
   "source": [
    "## 이진탐색트리 예제 1. 삽입, 탐색, 중위 순회"
   ]
  },
  {
   "cell_type": "code",
   "execution_count": 385,
   "id": "44eaadf5-59cf-47d8-827d-ff9615019284",
   "metadata": {},
   "outputs": [],
   "source": [
    "# 노드 클래스 정의\n",
    "class Node :\n",
    "    def __init__(self, value) :\n",
    "        self.value = value\n",
    "        self.left = None\n",
    "        self.right = None"
   ]
  },
  {
   "cell_type": "code",
   "execution_count": 387,
   "id": "c94ea769-45f3-47d0-90ab-bf9559434f64",
   "metadata": {},
   "outputs": [],
   "source": [
    "# 이진 팀색 트리에 값 삽입 함수\n",
    "def insert(root, value) :\n",
    "    if root is None :\n",
    "        return Node(value)       # 트리가 비어있다면, 새 노드를 루트로 반환\n",
    "    \n",
    "    # 삽입할 값이 현재 노드보다 작으면 왼쪽으로 \n",
    "    if value < root.value :\n",
    "        root.left = insert(root.left, value)\n",
    "\n",
    "    # 삽입할 값이 현재 노드보다 크면 오른쪽으로\n",
    "    elif value > root.value :\n",
    "        root.right = insert(root.right, value)\n",
    "\n",
    "    # 변경된 루트를 반환\n",
    "    return root"
   ]
  },
  {
   "cell_type": "code",
   "execution_count": 389,
   "id": "2291166b-777a-4fbf-a806-bc0d4b1f7964",
   "metadata": {},
   "outputs": [],
   "source": [
    "# 이진 탐색 트리에서 값 탐색 함수\n",
    "def search(root, value) :\n",
    "    # 트리가 비어있거나 못찾으면 false\n",
    "    if root is None : \n",
    "        return False\n",
    "    \n",
    "    # 찾았을 경우 True\n",
    "    if root.value == value : \n",
    "        return True\n",
    "    # 왼쪽 하위 트리에서 계속 탐색\n",
    "    elif value < root.value :\n",
    "        return search(root.left, value)\n",
    "    # 오른쪽 하위 트리에서 계속 탐색\n",
    "    else :\n",
    "        return search(root.right, value)"
   ]
  },
  {
   "cell_type": "code",
   "execution_count": 391,
   "id": "40e464bc-1228-48a3-b8b7-d06e55a2257b",
   "metadata": {},
   "outputs": [],
   "source": [
    "def inorder(node) :\n",
    "    if node :\n",
    "        inorder(node.left)\n",
    "        print(node.value, end = \"  \")\n",
    "        inorder(node.right)"
   ]
  },
  {
   "cell_type": "code",
   "execution_count": 393,
   "id": "df200e01-52ed-46dd-b669-85a6dcfaf9be",
   "metadata": {},
   "outputs": [],
   "source": [
    "# 빈 트리 생성\n",
    "root = None"
   ]
  },
  {
   "cell_type": "code",
   "execution_count": 395,
   "id": "e6bf30ce-449c-4e13-8735-467d62959850",
   "metadata": {},
   "outputs": [],
   "source": [
    "# 값 삽입\n",
    "values = [50, 30, 70, 20, 40, 60, 80, 35]"
   ]
  },
  {
   "cell_type": "code",
   "execution_count": 397,
   "id": "de242c24-495a-4d3c-b0bc-63b2c2cd03bf",
   "metadata": {},
   "outputs": [],
   "source": [
    "for value in values :\n",
    "    root = insert(root, value)"
   ]
  },
  {
   "cell_type": "code",
   "execution_count": 399,
   "id": "9b06efe6-e4d6-40e3-8622-654f4e0cff7b",
   "metadata": {},
   "outputs": [
    {
     "name": "stdout",
     "output_type": "stream",
     "text": [
      "20  30  35  40  50  60  70  80  "
     ]
    }
   ],
   "source": [
    "# 중위 순회 출력(정렬 확인())\n",
    "inorder(root)"
   ]
  },
  {
   "cell_type": "code",
   "execution_count": 401,
   "id": "77f502fb-5e26-4ed7-9654-5fecfa45a676",
   "metadata": {},
   "outputs": [
    {
     "name": "stdout",
     "output_type": "stream",
     "text": [
      "탐색 결과\n",
      " 60 찾기 :  True\n",
      " 25 찾기 :  False\n"
     ]
    }
   ],
   "source": [
    "# 탐색 예제\n",
    "print(\"탐색 결과\")\n",
    "print(\" 60 찾기 : \", search(root, 80))\n",
    "print(\" 25 찾기 : \", search(root, 25))"
   ]
  },
  {
   "cell_type": "markdown",
   "id": "32a8dc8f-8869-4d31-9c51-996aabae5fba",
   "metadata": {},
   "source": [
    "## 이진탐색트리 예제 2. 삭제"
   ]
  },
  {
   "cell_type": "markdown",
   "id": "091f63ab-d219-4d5a-b235-09a0250f89ab",
   "metadata": {},
   "source": [
    "### BST 삭제 알고리즘 : 3가지 케이스\n",
    "\n",
    "```\n",
    "케이스 1. 자식이 없는 노드를 삭제(리프 노드)\n",
    "케이스 2. 자식이 1개인 노드 삭제\n",
    "케이스 3_1. 자식이 2개인 노드 삭제\n",
    "케이스 3_2. 자식이 2개인 노드 삭제 (루트 노드를 삭제 시킴)\n",
    "            -> 왼쪽 서브트리의 최대값(최대 노드) 또는 오른쪽 서브트리의 최소값(최소 노드)를 가져와서 대체한 뒤, 그 노드를 삭제한다.\n",
    "                   50\n",
    "                /     \\\n",
    "             30         70\n",
    "           /   \\       /  \\\n",
    "         20    40     60   80 \n",
    "```"
   ]
  },
  {
   "cell_type": "code",
   "execution_count": 405,
   "id": "f66c3864-9583-420a-a7fa-0c26caa8267f",
   "metadata": {},
   "outputs": [],
   "source": [
    "# 노드 클래스 정의\n",
    "class Node :\n",
    "    def __init__(self, value) :\n",
    "        self.value = value\n",
    "        self.left = None\n",
    "        self.right = None"
   ]
  },
  {
   "cell_type": "code",
   "execution_count": 407,
   "id": "3887d396-aca2-4511-a649-823c6046f4fc",
   "metadata": {},
   "outputs": [],
   "source": [
    "# 삽입 함수\n",
    "def insert(root, value) :\n",
    "    if root is None :\n",
    "        return Node(value)\n",
    "    \n",
    "    if value < root.value :\n",
    "        root.left = insert(root.left, value)\n",
    "\n",
    "    elif value > root.value :\n",
    "        root.right = insert(root.right, value)\n",
    "\n",
    "    return root"
   ]
  },
  {
   "cell_type": "code",
   "execution_count": 409,
   "id": "2d551aaa-7e55-4470-aa42-25615f1573ef",
   "metadata": {},
   "outputs": [],
   "source": [
    "# 중위 순회 함수\n",
    "def inorder(node) :\n",
    "    if node :\n",
    "        inorder(node.left)\n",
    "        print(node.value, end = \"  \")\n",
    "        inorder(node.right)"
   ]
  },
  {
   "cell_type": "code",
   "execution_count": 411,
   "id": "ff4564ff-3e75-4833-b0f1-65f80f01e62b",
   "metadata": {},
   "outputs": [],
   "source": [
    "# 최소값 찾기 (오른쪽 서브트리에서 가장 작은 값 찾을 때 사용)\n",
    "def find_min(node) :\n",
    "    current = node\n",
    "    while current.left :\n",
    "        current = current.left      # 왼쪽 자식이 없을 때까지 내려감\n",
    "    return current                  # 가장 왼쪽 노드(최소값) 반환"
   ]
  },
  {
   "cell_type": "code",
   "execution_count": 413,
   "id": "2442809d-e867-4510-abce-9eb868d259e6",
   "metadata": {},
   "outputs": [],
   "source": [
    "# 이진 탐색 트리에서 값을 삭제하는 함수\n",
    "def delete(root, value) :\n",
    "    # 트리가 비어있으면 아무 작업도 하지 않음\n",
    "    if root is None :\n",
    "        print(f\"값 {value}를 찾을 수 없습니다.\")\n",
    "        return None\n",
    "    \n",
    "    # 삭제할 값이 현재 노드보다 작으면 왼쪽으로\n",
    "    if value < root.value :\n",
    "        print(f\"{value} < {root.value} --> 왼쪽으로 이동\")\n",
    "        root.left = delete(root.left, value)\n",
    "\n",
    "    # 삭제할 값이 현재 노드보다 크면 오른쪽으로\n",
    "    elif value > root.value :\n",
    "        print(f\"{value} > {root.value} --> 오른쪽으로 이동\")\n",
    "        root.right = delete(root.right, value)\n",
    "\n",
    "    else :\n",
    "        # 삭제할 노드를 찾은 경우(로그 찍기)\n",
    "        print(f\"삭제할 노드 {value}를 찾았습니다.\")\n",
    "\n",
    "        # 1. 자식이 없는 경우(리프 노드)\n",
    "        if root.left is None and root.right is None :\n",
    "            print(f\"{value}는 리프노드입니다. 삭제합니다.\")\n",
    "            return None\n",
    "        \n",
    "        # 2. 왼쪽 자식이 없는 경우 -> 오른쪽 자식을 올림\n",
    "        elif root.left is None :\n",
    "            print(f\"{value}는 오른쪽 자식만 있습니다. 오른쪽 자식을 올립니다.\")\n",
    "            return root.right\n",
    "        \n",
    "        # 3. 오른쪽 자식이 없는 경우 -> 왼쪽 자식을 올림\n",
    "        elif root.right is None :\n",
    "            print(f\"{value}는 왼쪽 자식만 있습니다. 왼쪽 자식을 올립니다.\")\n",
    "            return root.left\n",
    "        \n",
    "        # 4. 자식이 둘 다 있는 경우\n",
    "        else :\n",
    "            # 오른쪽 서브트리에서 가장 작은 값을 찾아 현재 노드 값과 교체\n",
    "            min_node = find_min(root.right)\n",
    "            print(f\"{value}는 자식이 2개입니다. {min_node.value}로 교체한 후, {min_node.value}값을 삭제합니다.\")\n",
    "\n",
    "            root.value = min_node.value\n",
    "\n",
    "            # 그 최소값을 오른쪽 서브트리에서 제거\n",
    "            root.right = delete(root.right, min_node.value)\n",
    "\n",
    "    # 삭제 후 현재 루트 반환\n",
    "    return root"
   ]
  },
  {
   "cell_type": "code",
   "execution_count": 415,
   "id": "30005793-5f12-4be1-a874-31185c9d07f7",
   "metadata": {},
   "outputs": [],
   "source": [
    "# 트리 생성에 사용할 값들\n",
    "values = [50, 30, 70, 20, 40, 60, 80, 35, 90]"
   ]
  },
  {
   "cell_type": "code",
   "execution_count": 417,
   "id": "f226a548-50d6-4a05-a0b3-9c9abd033963",
   "metadata": {},
   "outputs": [],
   "source": [
    "# 트리 초기화\n",
    "root = None"
   ]
  },
  {
   "cell_type": "code",
   "execution_count": 419,
   "id": "ca8891e4-19b7-4890-bc50-82f1c77f9188",
   "metadata": {},
   "outputs": [],
   "source": [
    "# 주어진 값들을 순서대로 삽입하여 이진 탐색 트리 구성\n",
    "for value in values :\n",
    "    root = insert(root, value)"
   ]
  },
  {
   "cell_type": "code",
   "execution_count": 421,
   "id": "681c5973-ed88-4215-b9d6-5c150c6da637",
   "metadata": {},
   "outputs": [
    {
     "name": "stdout",
     "output_type": "stream",
     "text": [
      "삭제 전 (중위 순회)\n",
      "20  30  35  40  50  60  70  80  90  "
     ]
    }
   ],
   "source": [
    "# 삭제 전 트리 상태 출력(중위 순회)\n",
    "print(\"삭제 전 (중위 순회)\")\n",
    "inorder(root)"
   ]
  },
  {
   "cell_type": "code",
   "execution_count": 423,
   "id": "0a428fa2-8e72-4cb5-9450-3533a9342d1c",
   "metadata": {},
   "outputs": [
    {
     "name": "stdout",
     "output_type": "stream",
     "text": [
      "90 > 50 --> 오른쪽으로 이동\n",
      "90 > 70 --> 오른쪽으로 이동\n",
      "90 > 80 --> 오른쪽으로 이동\n",
      "삭제할 노드 90를 찾았습니다.\n",
      "90는 리프노드입니다. 삭제합니다.\n"
     ]
    }
   ],
   "source": [
    "# 값 90을 삭제\n",
    "root = delete(root, 90)"
   ]
  },
  {
   "cell_type": "code",
   "execution_count": 425,
   "id": "6cfc2f3b-3803-41e4-8f9e-3a9f055e3eaa",
   "metadata": {},
   "outputs": [
    {
     "name": "stdout",
     "output_type": "stream",
     "text": [
      "30 < 50 --> 왼쪽으로 이동\n",
      "삭제할 노드 30를 찾았습니다.\n",
      "30는 자식이 2개입니다. 35로 교체한 후, 35값을 삭제합니다.\n",
      "35 < 40 --> 왼쪽으로 이동\n",
      "삭제할 노드 35를 찾았습니다.\n",
      "35는 리프노드입니다. 삭제합니다.\n"
     ]
    }
   ],
   "source": [
    "# 값 30을 삭제\n",
    "root = delete(root, 30)"
   ]
  },
  {
   "cell_type": "code",
   "execution_count": 427,
   "id": "3f1542dc-78c4-49f3-9f47-760b1959c6e0",
   "metadata": {},
   "outputs": [
    {
     "name": "stdout",
     "output_type": "stream",
     "text": [
      "삭제 후 (중위 순회)\n",
      "20  35  40  50  60  70  80  "
     ]
    }
   ],
   "source": [
    "# 삭제 후 트리 상태\n",
    "print(\"삭제 후 (중위 순회)\")\n",
    "inorder(root)"
   ]
  },
  {
   "cell_type": "markdown",
   "id": "560c9604-d5ef-46a4-a249-a0d96723ed12",
   "metadata": {},
   "source": [
    "## 이진탐색트리 예제 3. 자식이 2개인 노드 삭제"
   ]
  },
  {
   "cell_type": "markdown",
   "id": "6f739c8c-0d26-4445-a847-d03e6bc354c7",
   "metadata": {},
   "source": [
    "### 자식이 2개인 노드 삭제 연습\n",
    "\n",
    "```\n",
    "1. 트리 구조 그리기\n",
    "              60\n",
    "          /       \\\n",
    "        40         90\n",
    "      /   \\      /     \\\n",
    "    30     50   80      100\n",
    "                       /\n",
    "                     95\n",
    "```\n",
    "\n",
    "```\n",
    "2. 삭제 대상 : 90\n",
    "              60\n",
    "          /       \\\n",
    "        40          95\n",
    "      /   \\      /     \\\n",
    "    30     50   80      100\n",
    "```"
   ]
  },
  {
   "cell_type": "code",
   "execution_count": 431,
   "id": "ac6bc866-b471-41cc-abb1-96c661fff88e",
   "metadata": {},
   "outputs": [],
   "source": [
    "# 노드 클래스 정의\n",
    "class Node :\n",
    "    def __init__(self, value) :\n",
    "        self.value = value\n",
    "        self.left = None\n",
    "        self.right = None"
   ]
  },
  {
   "cell_type": "code",
   "execution_count": 433,
   "id": "2c5792ef-a908-4d71-b60d-0a487817df98",
   "metadata": {},
   "outputs": [],
   "source": [
    "# 값 삽입 함수\n",
    "def insert(root, value) :\n",
    "    if root is None :\n",
    "        return Node(value)\n",
    "    \n",
    "    if value < root.value :\n",
    "        root.left = insert(root.left, value)\n",
    "\n",
    "    elif value > root.value :\n",
    "        root.right = insert(root.right, value)\n",
    "\n",
    "    return root"
   ]
  },
  {
   "cell_type": "code",
   "execution_count": 435,
   "id": "f82a5584-62e4-48e0-8022-55a6afe87d17",
   "metadata": {},
   "outputs": [],
   "source": [
    "# 중위 순회 함수\n",
    "def inorder(node) :\n",
    "    if node :\n",
    "        inorder(node.left)\n",
    "        print(node.value, end = \"  \")\n",
    "        inorder(node.right)"
   ]
  },
  {
   "cell_type": "code",
   "execution_count": 437,
   "id": "a248ea8b-9b10-44df-8864-d008f3b7e8ae",
   "metadata": {},
   "outputs": [],
   "source": [
    "# 최소값 찾기\n",
    "def find_min(node) :\n",
    "    current = node\n",
    "    while current.left :\n",
    "        current = current.left\n",
    "    return current"
   ]
  },
  {
   "cell_type": "code",
   "execution_count": 439,
   "id": "ddc6dd80-b334-4a0e-b22f-d0f5a9767a60",
   "metadata": {},
   "outputs": [],
   "source": [
    "# 값 삭제 함수\n",
    "def delete(root, value) :\n",
    "    if root is None :\n",
    "        print(f\"값 {value}를 찾을 수 없습니다.\")\n",
    "        return None\n",
    "    \n",
    "    elif value > root.value :\n",
    "        print(f\"{value} > {root.value} --> 오른쪽으로 이동\")\n",
    "        root.right = delete(root.right, value)\n",
    "\n",
    "    else :\n",
    "        # 삭제할 노드를 찾은 경우(로그 찍기)\n",
    "        print(f\"삭제할 노드 {value}를 찾았습니다.\")\n",
    "\n",
    "        # 1. 자식이 없는 경우(리프 노드)\n",
    "        if root.left is None and root.right is None :\n",
    "            print(f\"{value}는 리프노드입니다. 삭제합니다.\")\n",
    "            return None\n",
    "        \n",
    "        # 2. 왼쪽 자식이 없는 경우 -> 오른쪽 자식을 올림\n",
    "        elif root.left is None :\n",
    "            print(f\"{value}는 오른쪽 자식만 있습니다. 오른쪽 자식을 올립니다.\")\n",
    "            return root.right\n",
    "        \n",
    "        # 3. 오른쪽 자식이 없는 경우 -> 왼쪽 자식을 올림\n",
    "        elif root.right is None :\n",
    "            print(f\"{value}는 왼쪽 자식만 있습니다. 왼쪽 자식을 올립니다.\")\n",
    "            return root.left\n",
    "        \n",
    "        # 4. 자식이 둘 다 있는 경우\n",
    "        else :\n",
    "            min_node = find_min(root.right)\n",
    "            print(f\"{value}는 자식이 2개입니다. {min_node.value}로 교체한 후, {min_node.value}값을 삭제합니다.\")\n",
    "            root.value = min_node.value\n",
    "            root.right = delete(root.right, min_node.value)\n",
    "\n",
    "    return root"
   ]
  },
  {
   "cell_type": "code",
   "execution_count": 441,
   "id": "0e850ada-d590-49d2-a533-881dd4877000",
   "metadata": {},
   "outputs": [],
   "source": [
    "# 트리 생성에 사용할 값들\n",
    "values = [50, 30, 70, 20, 40, 35, 45]"
   ]
  },
  {
   "cell_type": "code",
   "execution_count": 443,
   "id": "f12a6674-0a12-4dbe-a73c-21ff6aa5463d",
   "metadata": {},
   "outputs": [],
   "source": [
    "# 트리 초기화\n",
    "root = None"
   ]
  },
  {
   "cell_type": "code",
   "execution_count": 445,
   "id": "360b8434-ef17-4112-99a7-f46639d400fa",
   "metadata": {},
   "outputs": [],
   "source": [
    "for value in values :\n",
    "    root = insert(root, value)"
   ]
  },
  {
   "cell_type": "code",
   "execution_count": 447,
   "id": "8d60278f-149d-4da0-b25c-a7c38276442f",
   "metadata": {},
   "outputs": [
    {
     "name": "stdout",
     "output_type": "stream",
     "text": [
      "삭제 전 (중위 순회)\n",
      "20  30  35  40  45  50  70  "
     ]
    }
   ],
   "source": [
    "print(\"삭제 전 (중위 순회)\")\n",
    "inorder(root)"
   ]
  },
  {
   "cell_type": "code",
   "execution_count": 449,
   "id": "c877904e-3a75-4f57-903e-702998bae969",
   "metadata": {},
   "outputs": [
    {
     "name": "stdout",
     "output_type": "stream",
     "text": [
      "삭제할 노드 45를 찾았습니다.\n",
      "45는 자식이 2개입니다. 70로 교체한 후, 70값을 삭제합니다.\n",
      "삭제할 노드 70를 찾았습니다.\n",
      "70는 리프노드입니다. 삭제합니다.\n"
     ]
    }
   ],
   "source": [
    "root = delete(root, 45)"
   ]
  },
  {
   "cell_type": "code",
   "execution_count": 451,
   "id": "30e4b3fa-63be-495c-b5c8-7a50142a72b3",
   "metadata": {},
   "outputs": [
    {
     "name": "stdout",
     "output_type": "stream",
     "text": [
      "삭제 후 (중위 순회)\n",
      "20  30  35  40  45  70  "
     ]
    }
   ],
   "source": [
    "print(\"삭제 후 (중위 순회)\")\n",
    "inorder(root)"
   ]
  },
  {
   "cell_type": "markdown",
   "id": "2ee84823-ec29-40dd-a85e-8d2839773a2f",
   "metadata": {},
   "source": [
    "# 이진 탐색 트리 + 비교 카운터 관리 예제"
   ]
  },
  {
   "cell_type": "code",
   "execution_count": 454,
   "id": "ca86cdc5-af5a-41ec-8770-46466246ab55",
   "metadata": {},
   "outputs": [],
   "source": [
    "# 노드 클래스 정의\n",
    "class Node :\n",
    "    def __init__(self, value) :\n",
    "        self.value = value\n",
    "        self.left = None\n",
    "        self.right = None"
   ]
  },
  {
   "cell_type": "code",
   "execution_count": 456,
   "id": "1a8afdff-fce6-42ea-ae72-81a25b96c91e",
   "metadata": {},
   "outputs": [],
   "source": [
    "# 이진 탐색 트리 + 비교 카운터 관리 클래스\n",
    "class BSTCounter :\n",
    "    def __init__(self) :\n",
    "        self.root = None        # 트리의 루트 노드\n",
    "        self.counter = 0        # 누적 비교 횟수를 저장하는 변수\n",
    "\n",
    "    # 값 삽입 함수\n",
    "    def insert(self, value) :\n",
    "        # 트리가 비어있으면 루트로 삽입\n",
    "        if self.root is None :\n",
    "            self.root = Node(value)     # 루트 노드 생성\n",
    "            print(0)                    # 첫 삽입은 비교 없음\n",
    "            return\n",
    "        \n",
    "        # 현재 탐색할 노드를 루트로 시작\n",
    "        current = self.root\n",
    "\n",
    "        # 현재 삽입에 대해 비교한 횟수\n",
    "        count = 0\n",
    "\n",
    "        # 삽입할 위치를 찾을 때까지 반복\n",
    "        while True :\n",
    "            count += 1      # 현재 노드와 비교했으므로 +1\n",
    "            \n",
    "            if value < current.value :\n",
    "                # 삽입할 값이 현재 노드보다 작을 경우 왼쪽\n",
    "                if current.left is None :\n",
    "                    current.left = Node(value)\n",
    "                    print(self.counter + count)     # 누적된 count + 현재 비교수 출력\n",
    "                    break\n",
    "\n",
    "                current = current.left      # 왼쪽으로 이동\n",
    "\n",
    "            else :\n",
    "                # 삽입할 값이 현재 노드보다 크거나 같을 경우 오른쪽\n",
    "                if current.right is None :\n",
    "                    current.right = Node(value)\n",
    "                    print(self.counter + count)     # 누적된 count + 현재 비교수 출력\n",
    "                    break\n",
    "\n",
    "                current = current.right      # 오른쪽으로 이동\n",
    "\n",
    "        # 전체 비교 횟수 누적\n",
    "        self.counter += count"
   ]
  },
  {
   "cell_type": "code",
   "execution_count": 458,
   "id": "9dbb35a4-48b6-4f93-af72-cbb665962007",
   "metadata": {},
   "outputs": [
    {
     "name": "stdin",
     "output_type": "stream",
     "text": [
      "몇 개의 수를 입력하시겠습니까? 5\n"
     ]
    },
    {
     "name": "stdout",
     "output_type": "stream",
     "text": [
      "5개의 수를 한 줄씩 입력하세요.\n"
     ]
    },
    {
     "name": "stdin",
     "output_type": "stream",
     "text": [
      " 12\n",
      " 65\n",
      " 34\n",
      " 88\n",
      " 25\n"
     ]
    }
   ],
   "source": [
    "# input으로 입력 받기\n",
    "# 사용자로부터 숫자의 개수를 입력 받음\n",
    "N = int(input(\"몇 개의 수를 입력하시겠습니까?\"))\n",
    "\n",
    "# 입력 받은 수를 저장할 리스트\n",
    "sequence = []\n",
    "\n",
    "print(f\"{N}개의 수를 한 줄씩 입력하세요.\")\n",
    "\n",
    "for _ in range(N) :\n",
    "    num = int(input())      # 사용자에게 정수를 하나씩 입력 받음\n",
    "    sequence.append(num)"
   ]
  },
  {
   "cell_type": "code",
   "execution_count": 460,
   "id": "c6eafda5-e36e-4043-8069-b8e37745a2b6",
   "metadata": {},
   "outputs": [
    {
     "name": "stdout",
     "output_type": "stream",
     "text": [
      "0\n",
      "1\n",
      "3\n",
      "5\n",
      "8\n"
     ]
    }
   ],
   "source": [
    "# BSTCounter 인스턴스를 생성하고 수열을 삽입\n",
    "bst = BSTCounter()\n",
    "for num in sequence :\n",
    "    bst.insert(num)"
   ]
  },
  {
   "cell_type": "code",
   "execution_count": null,
   "id": "c8868205-0aa9-4662-b117-d794f5e415a1",
   "metadata": {},
   "outputs": [],
   "source": []
  }
 ],
 "metadata": {
  "kernelspec": {
   "display_name": "Python [conda env:base] *",
   "language": "python",
   "name": "conda-base-py"
  },
  "language_info": {
   "codemirror_mode": {
    "name": "ipython",
    "version": 3
   },
   "file_extension": ".py",
   "mimetype": "text/x-python",
   "name": "python",
   "nbconvert_exporter": "python",
   "pygments_lexer": "ipython3",
   "version": "3.12.7"
  }
 },
 "nbformat": 4,
 "nbformat_minor": 5
}
