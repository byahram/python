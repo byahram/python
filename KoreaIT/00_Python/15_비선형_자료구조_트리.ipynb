{
 "cells": [
  {
   "cell_type": "markdown",
   "id": "cb258da9-d977-4d34-9c91-e33e8f82f5e8",
   "metadata": {},
   "source": [
    "# 비선형 자료구조 : 트리"
   ]
  },
  {
   "cell_type": "markdown",
   "id": "744c3087-a1c4-4d44-a86e-9b8d44e6cdbf",
   "metadata": {},
   "source": [
    "### 자료구조\n",
    "\n",
    "- 리스트(list), 스택, 큐 : 일렬로 데이터를 처리할 때 유용 (선형처리)\n",
    "- 트리(tree) : 선형구조로 나타내기 어려운 상황이 있을때 (비선형구조)"
   ]
  },
  {
   "cell_type": "markdown",
   "id": "94a4e11b-31cd-4836-832d-8a8a51590feb",
   "metadata": {},
   "source": [
    "### 트리(tree)의 실제 예시\n",
    "\n",
    "1. 폴더 구조 : 내 컴퓨터 ->문서 -> 과제 자료 -> 업무자료\n",
    "    - 한 폴더 안에 여러 하위 폴더가 있고, 또 그 하위 폴더 안에 더 많은 폴더가 있는 구조는 전형적인 트리(tree)구조이다.\n",
    "    - 폴더는 ' 부모' 가 있고, 그 안에 '자식'폴더가 존재한다.\n",
    "2. 게임 캐릭터 계층 구조\n",
    "    - rpg 게임에서 캐릭터라는 클래스 아래에 전사, 마법사, 궁수 같은 하위 직업이 존재하고, 그 안에는 더 세부적인 작업이 있을 수 있다."
   ]
  },
  {
   "cell_type": "markdown",
   "id": "9046d333-9f3b-4e14-bdc3-1bc3bc32890f",
   "metadata": {},
   "source": [
    "### 트리의 정의\n",
    "\n",
    "- 트리는 데이터를 \"계층 구조\"로 저장하는 자료구조이다.\n",
    "- 하나의 시작점(루트)에서 여러 방향으로 까지가 뻗어 나가는 형태를 가지고 있어, 한 부모가 여러 자식을 가질 수 있는 구조이다."
   ]
  },
  {
   "cell_type": "markdown",
   "id": "96ca4a1c-cfc1-4822-8120-51913be85e2b",
   "metadata": {},
   "source": [
    "### 트리의 기본 용어\n",
    "\n",
    "- **노드 (node)** : 트리의 각 요소(데이터 하나)\n",
    "- **루트 노드(root)** : 트리의 가장 위에 있는 노드(시작점)\n",
    "- **부모 노드(parent)** : 자식 노드를 가지는 노드\n",
    "- **자식 노드(child)** : 부모 아래에 연결된 노드\n",
    "- **형제 노드** : 같은 부모를 가진 노드\n",
    "- **리프 노드** : 자식이 없는 노드(끝 노드)\n",
    "- **서브 트리** : 하나의 노드와 그 자식들을 포함한 작은 트리\n",
    "- **깊이** : 루트에서 해당 노드까지의 거리(몇 단계 아래인지)\n",
    "- **높이** : 해당 노드에서 가장 깊은 리프까지의 거리"
   ]
  },
  {
   "cell_type": "markdown",
   "id": "959616fb-c083-4b5f-b6fd-5ec13d8ee070",
   "metadata": {},
   "source": [
    "### 트리의 종류\n",
    "\n",
    "1. 일반 트리 - 자식 노드 수에 제한 없음\n",
    "2. 이진 트리 - 하나의 노드가 최대 2개의 자식만 가질 수 있는 트리 : 왼쪽 자식, 오른쪽 자식 나뉨\n",
    "3. 이진 탐색 트리 - 왼쪽 자식 < 부모 < 오른쪽 자식 : 탐색, 삽입, 삭제에 효율적"
   ]
  },
  {
   "cell_type": "markdown",
   "id": "bd535ebe-4426-465a-af02-2455bc9823f8",
   "metadata": {},
   "source": [
    "# 트리 1. 일반 트리"
   ]
  },
  {
   "cell_type": "markdown",
   "id": "91f2d550-3273-4bf3-87bc-d3195bc360c1",
   "metadata": {},
   "source": [
    "### 예제 1."
   ]
  },
  {
   "cell_type": "code",
   "execution_count": 9,
   "id": "2daa97ca-7624-43b0-9f38-da8ffcebc488",
   "metadata": {},
   "outputs": [],
   "source": [
    "# 일반 트리 구현\n",
    "class TreeNode :\n",
    "    def __init__(self, data) :\n",
    "        self.data = data        # 노드에 저장할 값\n",
    "        self.children = []      # 자식 노드를 저장하는 리스트\n",
    "\n",
    "    def add_child(self, child_node) :\n",
    "        # 현재 노드에 자식 노드를 추가한다.\n",
    "        self.children.append(child_node)\n",
    "\n",
    "    def print_tree(self, level = 0) :\n",
    "        # 트리 구조를 들여쓰기로 출력\n",
    "        print(\"  \" * level + str(self.data))\n",
    "        for child in self.children :\n",
    "            child.print_tree(level + 1)"
   ]
  },
  {
   "cell_type": "code",
   "execution_count": 11,
   "id": "ea91be78-4aab-439c-b667-f16be1ece1e8",
   "metadata": {},
   "outputs": [],
   "source": [
    "# 트리 생성\n",
    "def build_tree() :\n",
    "    root = TreeNode(\"한국\")\n",
    "\n",
    "    # 1단계 자식 노드\n",
    "    seoul = TreeNode(\"서울\")\n",
    "    busan = TreeNode(\"부산\")\n",
    "    incheon = TreeNode(\"인천\")\n",
    "\n",
    "    # 2단계 자식 노드\n",
    "    gangnam = TreeNode(\"강남구\")\n",
    "    seocho = TreeNode(\"서초구\")\n",
    "    haeundae = TreeNode(\"해운대\")\n",
    "\n",
    "    # 트리 구조 연결\n",
    "    root.add_child(seoul)\n",
    "    root.add_child(busan)\n",
    "    root.add_child(incheon)\n",
    "\n",
    "    seoul.add_child(gangnam)\n",
    "    seoul.add_child(seocho)\n",
    "    busan.add_child(haeundae)\n",
    "\n",
    "    return root"
   ]
  },
  {
   "cell_type": "code",
   "execution_count": 13,
   "id": "92c4341f-7fad-407d-8896-4929cd4168ff",
   "metadata": {},
   "outputs": [
    {
     "name": "stdout",
     "output_type": "stream",
     "text": [
      "한국\n",
      "  서울\n",
      "    강남구\n",
      "    서초구\n",
      "  부산\n",
      "    해운대\n",
      "  인천\n"
     ]
    }
   ],
   "source": [
    "# 트리 출력\n",
    "# 여기에 있는 코드는 '직접 실행할 때만' 실행된다.\n",
    "# 이 코드를 모듈로 사용할 경우, 테스트 코드가 실행되지 않도록 하기 위함.\n",
    "if __name__ == \"__main__\" :\n",
    "    korea_tree = build_tree()\n",
    "    korea_tree.print_tree()"
   ]
  },
  {
   "cell_type": "markdown",
   "id": "19b22225-ded0-495b-8191-531cd9ccfddb",
   "metadata": {},
   "source": [
    "### 예제 2."
   ]
  },
  {
   "cell_type": "code",
   "execution_count": 19,
   "id": "059d8e38-666e-4f6e-a157-e02d8f8aad18",
   "metadata": {},
   "outputs": [],
   "source": [
    "class FoodTreeNode :\n",
    "    def __init__(self, data) :\n",
    "        self.data = data\n",
    "        self.children = []\n",
    "\n",
    "    def add_child(self, child_node) :\n",
    "        self.children.append(child_node)\n",
    "\n",
    "    def food_tree(self, level = 0) :\n",
    "        print(\"  \" * level + str(self.data))\n",
    "        for child in self.children :\n",
    "            child.food_tree(level + 1)"
   ]
  },
  {
   "cell_type": "code",
   "execution_count": 21,
   "id": "3ea873c3-8050-45ee-bd81-95918e2af29c",
   "metadata": {},
   "outputs": [],
   "source": [
    "def build_food_tree() :\n",
    "    root = FoodTreeNode(\"음식\")\n",
    "\n",
    "    k = FoodTreeNode(\"한식\")\n",
    "    c = FoodTreeNode(\"중식\")\n",
    "    w = FoodTreeNode(\"양식\")\n",
    "\n",
    "    k.add_child(FoodTreeNode(\"비빔밥\"))\n",
    "    k.add_child(FoodTreeNode(\"김치찌개\"))\n",
    "\n",
    "    c.add_child(FoodTreeNode(\"짜장면\"))\n",
    "    c.add_child(FoodTreeNode(\"마라탕\"))\n",
    "\n",
    "    w.add_child(FoodTreeNode(\"파스타\"))\n",
    "    w.add_child(FoodTreeNode(\"스테이크\"))\n",
    "\n",
    "    root.add_child(k)\n",
    "    root.add_child(c)\n",
    "    root.add_child(w)\n",
    "\n",
    "    return root"
   ]
  },
  {
   "cell_type": "code",
   "execution_count": 23,
   "id": "9d341413-bf9e-454c-8a71-30024da46daf",
   "metadata": {},
   "outputs": [
    {
     "name": "stdout",
     "output_type": "stream",
     "text": [
      "음식\n",
      "  한식\n",
      "    비빔밥\n",
      "    김치찌개\n",
      "  중식\n",
      "    짜장면\n",
      "    마라탕\n",
      "  양식\n",
      "    파스타\n",
      "    스테이크\n"
     ]
    }
   ],
   "source": [
    "if __name__ == \"__main__\" :\n",
    "    korea_tree = build_food_tree()\n",
    "    korea_tree.food_tree()"
   ]
  },
  {
   "cell_type": "markdown",
   "id": "db3b5c3e-80df-49aa-b2b6-2e2dc845003b",
   "metadata": {},
   "source": [
    "# 트리 2. 이진 트리(Binary Tree)"
   ]
  },
  {
   "cell_type": "markdown",
   "id": "67f24ec7-b159-4b09-bd8b-182e5994624f",
   "metadata": {},
   "source": [
    "### 이진트리 규칙\n",
    "\n",
    "- 모든 노드의 자식은 최대 2개다.\n",
    "- 루트 노드는 트리의 시작점이다."
   ]
  },
  {
   "cell_type": "markdown",
   "id": "8852df92-ce94-4473-bcb2-fde388bb0a61",
   "metadata": {},
   "source": [
    "### 노드 클래스 설계하기\n",
    "\n",
    "- 이진 트리를 만들기 위해 먼저 노드클래스를 정의해야 한다.\n",
    "\n",
    "```\n",
    "class Node :\n",
    " \tdef __init__(self, value) :\n",
    "\t\tself.value = value      # 노드에 저장할 값\n",
    "\t\tself.left = None        # 왼쪽 자식 노드\n",
    "\t\tself.right = None\n",
    "\n",
    "        1\n",
    "      /    \\\n",
    "    2       3   \n",
    "```"
   ]
  },
  {
   "cell_type": "markdown",
   "id": "e43c820e-8b33-4435-aebf-4430285d6d2e",
   "metadata": {},
   "source": [
    "### 예제 1."
   ]
  },
  {
   "cell_type": "code",
   "execution_count": 28,
   "id": "18884979-2c87-4e87-b053-310f9c78a1c0",
   "metadata": {},
   "outputs": [],
   "source": [
    "# 노드 클래스 정의\n",
    "class Node :\n",
    "    def __init__(self, value) :\n",
    "        self.value = value\n",
    "        self.left = None\n",
    "        self.right = None"
   ]
  },
  {
   "cell_type": "code",
   "execution_count": 30,
   "id": "a76bc64e-a381-43e8-8a6b-a75fb7303f16",
   "metadata": {},
   "outputs": [],
   "source": [
    "# 노드 생성\n",
    "root = Node(1)\n",
    "root.left = Node(2)\n",
    "root.right = Node(3)"
   ]
  },
  {
   "cell_type": "code",
   "execution_count": 32,
   "id": "535199f6-f131-43d8-95ec-a7172dc73db3",
   "metadata": {},
   "outputs": [
    {
     "name": "stdout",
     "output_type": "stream",
     "text": [
      "루트 노드 : 1\n",
      "왼쪽 자식 : 2\n",
      "오른쪽 자식 : 3\n"
     ]
    }
   ],
   "source": [
    "# 노드 값 출력\n",
    "print(\"루트 노드 :\", root.value)\n",
    "print(\"왼쪽 자식 :\", root.left.value)\n",
    "print(\"오른쪽 자식 :\", root.right.value)"
   ]
  },
  {
   "cell_type": "markdown",
   "id": "c0ec04cf-7e70-4990-b5de-7b49b676820c",
   "metadata": {},
   "source": [
    "### 예제 2."
   ]
  },
  {
   "cell_type": "code",
   "execution_count": 38,
   "id": "0e00f2ec-6e83-4303-ae6c-242879cfb63a",
   "metadata": {},
   "outputs": [],
   "source": [
    "class Node2 :\n",
    "    def __init__(self, value) :\n",
    "        self.value = value\n",
    "        self.left = None\n",
    "        self.right = None"
   ]
  },
  {
   "cell_type": "code",
   "execution_count": 40,
   "id": "beb7a379-e4fb-43f2-b6d5-a656376b6aa8",
   "metadata": {},
   "outputs": [],
   "source": [
    "# 노드 생성\n",
    "root = Node2(10)\n",
    "root.left = Node2(5)\n",
    "root.right = Node2(15)\n",
    "\n",
    "root.left.left = Node2(2)\n",
    "root.left.right = Node2(7)"
   ]
  },
  {
   "cell_type": "code",
   "execution_count": 42,
   "id": "916f3c27-7c34-4fee-bee9-57998cedd063",
   "metadata": {},
   "outputs": [],
   "source": [
    "# 트리 출력 함수\n",
    "# node부터 시작해서 트리를 출력하는 함수. level은 들여쓰기 (깊이)\n",
    "def print_tree(node, level = 0) :\n",
    "    # 현재 노드가 존재할 때만 실행\n",
    "    if node is not None :\n",
    "        # 현재 노드의 값이 출력하되, 들여쓰기를 통해 트리 구조를 시각화\n",
    "        print(\"  \" * level + f\"노드 값 : {node.value}\")\n",
    "        # 왼쪽 자식 노드를 재귀 호출(깊이 1 증가)\n",
    "        print_tree(node.left, level + 1)\n",
    "        # 오른쪽 자식 노드로 재귀 호출(깊이 1 증가)\n",
    "        print_tree(node.right, level + 1)"
   ]
  },
  {
   "cell_type": "code",
   "execution_count": 44,
   "id": "68600791-afa5-4c9b-883f-5ae6204a884c",
   "metadata": {},
   "outputs": [
    {
     "name": "stdout",
     "output_type": "stream",
     "text": [
      "트리 구조 출력\n",
      "노드 값 : 10\n",
      "  노드 값 : 5\n",
      "    노드 값 : 2\n",
      "    노드 값 : 7\n",
      "  노드 값 : 15\n"
     ]
    }
   ],
   "source": [
    "print(\"트리 구조 출력\")\n",
    "print_tree(root)"
   ]
  },
  {
   "cell_type": "markdown",
   "id": "70e458b7-e6c4-4827-b8b4-c87b1da08ba1",
   "metadata": {},
   "source": [
    "# 트리 순회\n",
    "\n",
    "- 트리의 모든 노드를 일정한 규칙에 따라 한 번씩 방문하는 과정을 말한다.\n",
    "- 트리 구조는 계층적이기 때문에 순회 방법에 따라 노드를 방문하는 순서가 달라지며, 대표적인 순회방식은 다음과 같다."
   ]
  },
  {
   "cell_type": "markdown",
   "id": "df1f5dcb-be55-4c47-9b9d-b4ed7c4fe6c5",
   "metadata": {},
   "source": [
    "## 트리 순회 1. 전위 순회\n",
    "\n",
    "- 순서 : 루트 -> 왼쪽 서브트리 -> 오른쪽 서브트리 방문"
   ]
  },
  {
   "cell_type": "markdown",
   "id": "1bb7f57e-4690-4d5f-a611-142c0fef2756",
   "metadata": {},
   "source": [
    "### 전위 순회 예제 1."
   ]
  },
  {
   "cell_type": "code",
   "execution_count": 49,
   "id": "f823c3b1-0fa7-47b2-a51d-eb160a6c5f04",
   "metadata": {},
   "outputs": [],
   "source": [
    "class Node3 :\n",
    "    def __init__(self, value) :\n",
    "        self.value = value\n",
    "        self.left = None\n",
    "        self.right = None"
   ]
  },
  {
   "cell_type": "code",
   "execution_count": 51,
   "id": "61534284-fc84-4611-82c0-4ed949947b10",
   "metadata": {},
   "outputs": [],
   "source": [
    "# 트리 구조 생성\n",
    "root = Node3(\"A\")\n",
    "root.left = Node3(\"B\")\n",
    "root.right = Node3(\"C\")\n",
    "root.left.left = Node3(\"D\")\n",
    "root.left.right = Node3(\"E\")"
   ]
  },
  {
   "cell_type": "code",
   "execution_count": 53,
   "id": "2e002179-ad74-4070-a3ec-3292b0f1dc63",
   "metadata": {},
   "outputs": [],
   "source": [
    "# 전위 순회 함수 정의 : 루트 -> 왼쪽 -> 오른쪽\n",
    "def preorder(node) :\n",
    "    if node :\n",
    "        # 전위 순회에서는 루트 노드를 먼저 방문하니까 현재 노드를 먼저 출력하는 것이다.\n",
    "        print(node.value, end = '  ')        # 1단계 : 현재 노드 출력\n",
    "\n",
    "        # 현재 노드의 왼쪽 자식 노드를 재귀적으로 전위 순회 한다.\n",
    "        # 즉, 왼쪽 서브 트리부터 다시 전위 순회를 시작하는 것이다.\n",
    "        preorder(node.left)                 # 2단계 : 왼쪽 자식 방문\n",
    "\n",
    "        # 왼쪽 다 끝났으면 오른쪽으로 넘어가서 또 순회한다.\n",
    "        preorder(node.right)                # 3단계 : 오른쪽 자식 방문"
   ]
  },
  {
   "cell_type": "code",
   "execution_count": 68,
   "id": "caa75e67-e389-4ee9-98e0-97486647eaf4",
   "metadata": {},
   "outputs": [
    {
     "name": "stdout",
     "output_type": "stream",
     "text": [
      ">> 전위 순회 결과\n",
      "M  N  P  O  Q  R  "
     ]
    }
   ],
   "source": [
    "# 함수 실행\n",
    "print(\">> 전위 순회 결과\")\n",
    "preorder(root)"
   ]
  },
  {
   "cell_type": "markdown",
   "id": "5a8e4372-bde4-4782-bc12-7b038204f725",
   "metadata": {},
   "source": [
    "### 전위 순회 예제 2."
   ]
  },
  {
   "cell_type": "code",
   "execution_count": 60,
   "id": "0dbbc656-caff-408c-b923-d8d2e920dfb4",
   "metadata": {},
   "outputs": [],
   "source": [
    "class Node4 :\n",
    "    def __init__(self, value) :\n",
    "        self.value = value\n",
    "        self.left = None\n",
    "        self.right = None"
   ]
  },
  {
   "cell_type": "code",
   "execution_count": 62,
   "id": "265de411-8f0f-4d2c-9aa2-fdff2c18f430",
   "metadata": {},
   "outputs": [],
   "source": [
    "# 트리 구조 생성\n",
    "root = Node4(\"M\")\n",
    "root.left = Node4(\"N\")\n",
    "root.right = Node4(\"O\")\n",
    "root.left.left = Node4(\"P\")\n",
    "root.right.left = Node4(\"Q\")\n",
    "root.right.right = Node4(\"R\")"
   ]
  },
  {
   "cell_type": "code",
   "execution_count": 64,
   "id": "873b6a06-db80-4267-8bba-f602bb46b347",
   "metadata": {},
   "outputs": [],
   "source": [
    "def preorder2(node) :\n",
    "    if node :\n",
    "        print(node.value, end = \"  \")\n",
    "        preorder2(node.left)\n",
    "        preorder2(node.right)"
   ]
  },
  {
   "cell_type": "code",
   "execution_count": 70,
   "id": "a7240e3c-3a4d-439a-82ed-9a510cb71297",
   "metadata": {},
   "outputs": [
    {
     "name": "stdout",
     "output_type": "stream",
     "text": [
      ">> 전위 순회 결과\n",
      "M  N  P  O  Q  R  "
     ]
    }
   ],
   "source": [
    "print(\">> 전위 순회 결과\")\n",
    "preorder2(root)"
   ]
  },
  {
   "cell_type": "markdown",
   "id": "de5d951a-bc80-4164-99bb-ec8c7b17a91b",
   "metadata": {},
   "source": [
    "### 전위 순회 예제 3. 재귀 함수"
   ]
  },
  {
   "cell_type": "markdown",
   "id": "757ec41e-c9ff-4d5d-98ba-444ac187b358",
   "metadata": {},
   "source": [
    "#### 재귀 호출\n",
    "\n",
    "- 함수가 자기 자신을 다시 부르는 프로그래밍 기법"
   ]
  },
  {
   "cell_type": "code",
   "execution_count": 79,
   "id": "beff5066-2d52-4b87-9902-eccf426bc545",
   "metadata": {},
   "outputs": [],
   "source": [
    "# 간단한 재귀 함수 (숫자 출력) 예시\n",
    "def countdown(n) :\n",
    "    # 기저 조건 : if n > 0 이 업승면 무한 반복돼서 오류 발생\n",
    "    if n > 0 :\n",
    "        print(n)\n",
    "        countdown(n - 1)\n",
    "\n",
    "    else :\n",
    "        print(\"끝\")"
   ]
  },
  {
   "cell_type": "code",
   "execution_count": 81,
   "id": "c4f60293-6aff-4806-a8e2-fc1fe1efc969",
   "metadata": {},
   "outputs": [
    {
     "name": "stdout",
     "output_type": "stream",
     "text": [
      ">> 재귀 함수\n",
      "5\n",
      "4\n",
      "3\n",
      "2\n",
      "1\n",
      "끝\n"
     ]
    }
   ],
   "source": [
    "print(\">> 재귀 함수\")\n",
    "# 함수 실행\n",
    "countdown(5)"
   ]
  },
  {
   "cell_type": "markdown",
   "id": "48db03ce-7e15-4c01-8224-9ceaf3687305",
   "metadata": {},
   "source": [
    "## 트리 순회 2. 중위 순회\n",
    "\n",
    "- 순서 : 왼쪽 -> 루트 -> 오른쪽 \n",
    "- 트리의 왼쪽 서브트리를 먼저 순회하고, 그 다음 루트 노드를 처리한 후, 오른쪽 서브트리르 순회한다."
   ]
  },
  {
   "cell_type": "code",
   "execution_count": 86,
   "id": "b9ce3208-d385-42b6-8bb8-4ebabca88364",
   "metadata": {},
   "outputs": [],
   "source": [
    "# 중위 순회 예제 : DBEAC\n",
    "class Node5 :\n",
    "    def __init__(self, value) :\n",
    "        self.value = value\n",
    "        self.left = None\n",
    "        self.right = None"
   ]
  },
  {
   "cell_type": "code",
   "execution_count": 88,
   "id": "d880e59b-c283-4169-b85f-f12efd0e4de9",
   "metadata": {},
   "outputs": [],
   "source": [
    "# 트리 구조 생성\n",
    "root = Node5(\"A\")\n",
    "root.left = Node5(\"B\")\n",
    "root.right = Node5(\"C\")\n",
    "root.left.left = Node5(\"D\")\n",
    "root.left.right = Node5(\"E\")"
   ]
  },
  {
   "cell_type": "code",
   "execution_count": 90,
   "id": "ebab82cc-6228-473c-b4b5-e71ac8e09c65",
   "metadata": {},
   "outputs": [],
   "source": [
    "# 중위 순회 함수 : 왼쪽 -> 루트 -> 오른쪽\n",
    "def inorder(node) :\n",
    "    if node :\n",
    "        inorder(node.left)\n",
    "        print(node.value, end = '  ')\n",
    "        inorder(node.right)"
   ]
  },
  {
   "cell_type": "code",
   "execution_count": 92,
   "id": "32c6390e-315a-4bd4-9c62-623af19ee828",
   "metadata": {},
   "outputs": [
    {
     "name": "stdout",
     "output_type": "stream",
     "text": [
      "2. 중위 순회 결과\n",
      "D  B  E  A  C  "
     ]
    },
    {
     "data": {
      "text/plain": [
       "'\\n- 트리는 계층 구조이다.\\n- 전위 순회 순서 : 루트 -> 왼쪽 -> 오른쪽\\n- 중위 순회 순서 : 왼쪽 -> 루트 -> 오른쪽\\n'"
      ]
     },
     "execution_count": 92,
     "metadata": {},
     "output_type": "execute_result"
    }
   ],
   "source": [
    "# 순회 실행\n",
    "print(\"2. 중위 순회 결과\")\n",
    "inorder(root)\n",
    "\n",
    "'''\n",
    "- 트리는 계층 구조이다.\n",
    "- 전위 순회 순서 : 루트 -> 왼쪽 -> 오른쪽\n",
    "- 중위 순회 순서 : 왼쪽 -> 루트 -> 오른쪽\n",
    "'''"
   ]
  },
  {
   "cell_type": "code",
   "execution_count": null,
   "id": "b8369832-77f0-482e-8ada-0805cdc7812b",
   "metadata": {},
   "outputs": [],
   "source": []
  }
 ],
 "metadata": {
  "kernelspec": {
   "display_name": "Python [conda env:base] *",
   "language": "python",
   "name": "conda-base-py"
  },
  "language_info": {
   "codemirror_mode": {
    "name": "ipython",
    "version": 3
   },
   "file_extension": ".py",
   "mimetype": "text/x-python",
   "name": "python",
   "nbconvert_exporter": "python",
   "pygments_lexer": "ipython3",
   "version": "3.12.7"
  }
 },
 "nbformat": 4,
 "nbformat_minor": 5
}
