{
 "cells": [
  {
   "cell_type": "markdown",
   "id": "2f46c628-48f4-47e0-946f-a087c3073a7e",
   "metadata": {},
   "source": [
    "## 파이썬의 값 교환 기본 개념\n",
    "\n",
    "* 기본 문법 = 두 변수의 값을 서로 바꾸는 동작을 한 줄로 표현한 것이다\n",
    "    - a, b = b, a\n",
    "    - 오른쪽 값을 먼저 계산해서 튜플로 묶고, 그 결과를 왼쪽 변수들에 순서대로 할당해준다."
   ]
  },
  {
   "cell_type": "code",
   "execution_count": 1,
   "id": "a4c53ffe-fb66-47b7-8023-bb7db5eea3b9",
   "metadata": {},
   "outputs": [
    {
     "name": "stdout",
     "output_type": "stream",
     "text": [
      "a = 10\n",
      "b = 20\n",
      "a = 20\n",
      "b = 10\n"
     ]
    }
   ],
   "source": [
    "# 1. 파이썬에서\n",
    "a = 10\n",
    "b = 20\n",
    "\n",
    "# 두 변수의 값 교환 1\n",
    "print(\"a =\", a)\n",
    "print(\"b =\", b)\n",
    "\n",
    "a, b = b, a\n",
    "\n",
    "# 두 변수의 값 교환 2\n",
    "print(\"a =\", a)\n",
    "print(\"b =\", b)"
   ]
  },
  {
   "cell_type": "markdown",
   "id": "f7b5dfad-a439-49e6-be7c-8ee2e838e980",
   "metadata": {},
   "source": [
    "## 파이썬에서 리스트 요소를 교환할 때\n",
    "\n",
    "- 리스트 : 여러 개의 값을 순서대로 저장할 수 있는 자료형이다.\n",
    "    - 대괄호[]를 사용하여 정의한다.\n",
    "    - 다양한 자료형의 값을 함께 넣을 수 있다."
   ]
  },
  {
   "cell_type": "code",
   "execution_count": 7,
   "id": "c0b06298-5311-4d69-84dc-b98acc1c18ee",
   "metadata": {},
   "outputs": [
    {
     "name": "stdout",
     "output_type": "stream",
     "text": [
      "[3, 5, 1, 2]\n"
     ]
    }
   ],
   "source": [
    "# 1. 파이썬\n",
    "arr = [3, 1, 5, 2]\n",
    "\n",
    "# 1번째 요소와 2번째 요소를 바꾸기\n",
    "arr[1], arr[2] = arr[2], arr[1]\n",
    "\n",
    "print(arr)"
   ]
  },
  {
   "cell_type": "code",
   "execution_count": 9,
   "id": "ef0cdcc4-672d-46ce-b4e1-22ddb4b3c563",
   "metadata": {},
   "outputs": [
    {
     "name": "stdout",
     "output_type": "stream",
     "text": [
      "a = 10\n",
      "b = 20\n",
      "a = 20\n",
      "b = 10\n"
     ]
    }
   ],
   "source": [
    "# 2. 파이썬 외  \n",
    "a = 10\n",
    "b = 20\n",
    "\n",
    "print(\"a =\", a)\n",
    "print(\"b =\", b)\n",
    "\n",
    "temp = a\n",
    "a = b\n",
    "b = temp\n",
    "\n",
    "print(\"a =\", a)\n",
    "print(\"b =\", b)"
   ]
  },
  {
   "cell_type": "markdown",
   "id": "2d27f296-9169-480b-8d41-ea271b6aaab9",
   "metadata": {},
   "source": [
    "# 1. 버블 정렬\n",
    "\n",
    "- 버블정렬 : 작은 값이 점점 앞으로, 큰 값이 점점 뒤로 '거품처럼 밀려가는 모습'에서 이름이 유래되었다.\n",
    "- [1, 4, 3, 2, 5] -> [1, 2, 3, 4, 5]"
   ]
  },
  {
   "cell_type": "markdown",
   "id": "dfa8cd3d-ddee-4afc-81f6-3952078d1e75",
   "metadata": {},
   "source": [
    "### 정의\n",
    "\n",
    "- 정렬 알고리즘 중 하나로, 이웃한 두 우너소를 비교하여 큰 값을 뒤로 보내는 방식이다."
   ]
  },
  {
   "cell_type": "markdown",
   "id": "078b80c4-7f0c-4ff9-8239-652d57589189",
   "metadata": {},
   "source": [
    "### 동작 원리\n",
    "\n",
    "- 왼쪽부터 오른쪽으로 인접한 두 값을 비교 \n",
    "    - 앞의 값이 크면 두 값을 서로 교환 \n",
    "    - 한 바퀴 돌면 가장 큰 값이 맨 뒤로 이동 \n",
    "    - 이 과정을 전체 길이 -1번 반복하게 된다.\n",
    "\n",
    "**교육용에서 자주 사용되지만, 실제로는 성능이 떨어져서 대규모 데이터에는 부적합하다.**"
   ]
  },
  {
   "cell_type": "code",
   "execution_count": 17,
   "id": "227f572e-0a8d-43f0-b44d-94ee114ea8e3",
   "metadata": {},
   "outputs": [],
   "source": [
    "# 버블정렬 ex\n",
    "def bubble_sort(arr) :\n",
    "    n = len(arr)\n",
    "\n",
    "    for i in range(n) :     # 전체 리스트를 n번 반복(회전 수)\n",
    "        # print(f\"{i+1}회전 시작 : {arr}\")\n",
    "        for j in range(n - i - 1) :     # 한 회전마다 맨 끝 정렬 완료 요소는 제외하고 반복한다.\n",
    "            if(arr[j] > arr[j+1]) :     # 앞에 있는 값이 뒤에 있는 값보다 크면\n",
    "                # 두 값의 위치를 교환 (작은 값을 앞으로 보낸다.)\n",
    "                arr[j], arr[j+1] = arr[j+1], arr[j]\n",
    "        # print(f\"{i+1}회전 끝 : {arr}\")\n",
    "    return arr      # 정렬된 리스트 반환"
   ]
  },
  {
   "cell_type": "code",
   "execution_count": 21,
   "id": "e8f5e20a-d640-41f9-9456-a2047166b460",
   "metadata": {},
   "outputs": [
    {
     "name": "stdout",
     "output_type": "stream",
     "text": [
      "버블정렬 : [2, 3, 4, 5, 8]\n"
     ]
    }
   ],
   "source": [
    "'''\n",
    "[버블 정렬]\n",
    "\n",
    "i = 0일때       \n",
    "j = 0       [3, 5, 8, 4, 2]\n",
    "j = 1       5 < 8 이므로 그대로\n",
    "j = 2       8 > 4 이므로 [3, 5, 4, 8, 2]\n",
    "j = 3       8 > 2 이므로 [3, 5, 4, 2, 8]\n",
    "\n",
    "i = 1 일때\n",
    "j = 0       3 < 5 그대로\n",
    "j = 1       5 > 4 이므로 [3, 4, 5, 2, 8]\n",
    "j = 2       5 > 2 이므로 [3, 4, 2, 5, 8]\n",
    "\n",
    "i = 2일때\n",
    "j = 0       그대로\n",
    "j = 1       4 > 2 이므로 [3, 2, 4, 5, 8]\n",
    "\n",
    "i = 3일때\n",
    "j = 0       3 > 2 이므로 [2, 3, 4, 5, 8]\n",
    "\n",
    "i = 4  -> 이미 정렬되어 있으므로 비교 없음\n",
    "'''\n",
    "\n",
    "print(\"버블정렬 :\", bubble_sort([5, 3, 8, 4, 2]))"
   ]
  },
  {
   "cell_type": "markdown",
   "id": "ce5ea860-debf-4e0e-b336-610279c3f276",
   "metadata": {},
   "source": [
    "# 2. 선택 정렬\n",
    "\n",
    "- 리스트에서 가장 작은 값을 찾아서 맨 앞 값과 바꾼다.\n",
    "- [5, 3, 8, 4, 2] -> [2, 3, 8, 4, 5]\n",
    "- 그 다음에는 두 번째 작은 값을 두 번째 자리에... 총 n-1번 반복된다."
   ]
  },
  {
   "cell_type": "markdown",
   "id": "3b68b0b6-0291-4fc1-a78a-9641dd500a30",
   "metadata": {},
   "source": [
    "### 선택 정렬 동작 방식\n",
    "\n",
    "1. 왼쪽부터 차례로 하나씩 선택함\n",
    "2. 오른쪽에 있는 값들 [j] 전부 검사\n",
    "3. 찾은 값과 현재 위치의 값 교환\n",
    "4. 다음 위치로 넘어가서 반복"
   ]
  },
  {
   "cell_type": "code",
   "execution_count": 25,
   "id": "20b0647e-d281-4441-b0cc-59d919e17dff",
   "metadata": {},
   "outputs": [],
   "source": [
    "# 선택 정렬 ex\n",
    "def selection_sort(arr) :\n",
    "    n = len(arr)\n",
    "\n",
    "    for i in range(n) :         # i는 정렬되지 않은 구간의 시작 인덱스\n",
    "        min_idx = i         # 현재 위치를 최소값이라고 가정\n",
    "        for j in range(i+1, n) :        # 나머지 원소들과 비교하여\n",
    "            if arr[j] < arr[min_idx] :          # 더 작은 값을 찾으면\n",
    "                min_idx = j\n",
    "\n",
    "        # i번째 위치와 최소값의 위치 교환\n",
    "        arr[i], arr[min_idx] = arr[min_idx], arr[i]\n",
    "\n",
    "    return arr"
   ]
  },
  {
   "cell_type": "code",
   "execution_count": 27,
   "id": "79e81d17-dc78-42d4-8386-f3224aa7fe18",
   "metadata": {},
   "outputs": [
    {
     "name": "stdout",
     "output_type": "stream",
     "text": [
      "선택 정렬 결과 : [2, 3, 4, 5, 8]\n"
     ]
    }
   ],
   "source": [
    "'''\n",
    "[선택 정렬]\n",
    "\n",
    "[5, 3, 8, 4, 2]\n",
    "\n",
    "1회전 i = 0    \n",
    "min_idex = i = 0    # arr[0] = 5\n",
    "\n",
    "    j = 1 to 4\n",
    "\n",
    "    j = 1\n",
    "    if arr[1] < arr[min_idx]\n",
    "    if 3 < 5    # 참\n",
    "        min_idx = 1   arr[1] = 3\n",
    "\n",
    "    j = 2 \n",
    "    if arr[2] < arr[min_idx] \n",
    "    if 8 < 3    # 거짓\n",
    "\n",
    "    j = 3\n",
    "    if  arr[3] < arr[min_dex]\n",
    "    if 4 < 3    # 거짓\n",
    "\n",
    "    j = 4\n",
    "    if  arr[4]  < arr[min_idx]\n",
    "    if 2 < 3    # 참\n",
    "        min _idx = 4\n",
    "\n",
    "    arr[0], arr[4] = arr[4], arr[0]\n",
    "    1회전 결과 : [2, 3, 8, 4, 5]\n",
    "\n",
    "2회전  i = 1    [2, 3, 8, 4, 5]\n",
    "3회전  i = 2    [2, 3, 4, 8, 5]\n",
    "4회전  i = 3    [2,3,4,5,8]\n",
    "5회전  i = 4    # 비교 없음\n",
    "'''\n",
    "\n",
    "print(\"선택 정렬 결과 :\", selection_sort([5, 3, 8, 4, 2]))"
   ]
  },
  {
   "cell_type": "markdown",
   "id": "ea5590b2-81ab-43e7-b235-3578dcff8f22",
   "metadata": {},
   "source": [
    "# 3. 삽입 정렬\n",
    "\n",
    "- 리스트의 두 번째 원소부터 시작하여, 그 값을 앞쪽의 정렬된 구간에 알맞은 위치에 삽입하면서 정렬하는 방식이다."
   ]
  },
  {
   "cell_type": "markdown",
   "id": "a3ecf384-0d01-45ef-a0f4-07b81de0154d",
   "metadata": {},
   "source": [
    "### 삽입 정렬 동작 방식\n",
    "\n",
    "1. 두번째 원소 (i = 1)부터 싲가한다.\n",
    "2. 현재 값(key)을 저장\n",
    "3. 정렬된 구간(왼쪽)을 오른쪽으로 밀면서, key보다 큰 값들은 한 칸씩 뒤로 밀어낸다.\n",
    "4. 밀다가 비교 대상이 없거나 더 작은 값을 만나면, 그 위치(j+1)에 key를 삽입힌다.\n",
    "5. 이 과정을 리스트 끝까지 반복한다."
   ]
  },
  {
   "cell_type": "code",
   "execution_count": 32,
   "id": "70043f43-5935-47fc-8e96-4fe403349ac6",
   "metadata": {},
   "outputs": [],
   "source": [
    "# 삽입 정렬 ex\n",
    "def insertion_sort(arr) :\n",
    "    for i in range(1, len(arr)) :       # 두 번째 원소부터 끝까지 반복(앞에 건 이미 정렬됐다고 생각)\n",
    "        # 현재 삽입할 값을 key에 저장\n",
    "        key = arr[i]\n",
    "\n",
    "        # key보다 앞에 있는 인덱스를 j로 설정(정렬된 구간의 끝)\n",
    "        j = i - 1\n",
    "\n",
    "        while j >= 0 and arr[j] > key :     # j가 0 이상이고, 정렬된 구간의 값이 key보다 크면\n",
    "            arr[j+1] = arr[j]       # 큰 값을 오른쪽으로 한 칸 밀기\n",
    "            j = j - 1        # 왼쪽으로 한 칸 이동하면서 비교 계속\n",
    "\n",
    "        arr[j+1] = key      # 알맞은 자리에 key 삽입(비교가 멈춘 바로 다음 칸)\n",
    "    \n",
    "    return arr"
   ]
  },
  {
   "cell_type": "code",
   "execution_count": 34,
   "id": "c9f0f66e-836e-436b-8d7d-91f52409e743",
   "metadata": {},
   "outputs": [
    {
     "name": "stdout",
     "output_type": "stream",
     "text": [
      "삽입 정렬 결과 : [2, 3, 4, 5, 8]\n"
     ]
    }
   ],
   "source": [
    "'''\n",
    "[삽입 정렬]\n",
    "\n",
    "i = 1\n",
    "    key = arr[1] = 3\n",
    "\n",
    "    j = 0\n",
    "    while  j >= 0 and arr[j] > key :\n",
    "        arr[1] = arr[0]     arr[1] = 5      [3, 5, 8, 4, 2]\n",
    "        j = -1\n",
    "    [3, 5, 8, 4, 2]\n",
    "\n",
    "i = 2\n",
    "    key = arr[2] = 8\n",
    "\n",
    "    j = 1 \n",
    "    while j >= 0 and arr[j] > key :     5 > 8   거짓\n",
    "        arr[2] = 8      # 그대로 유지\n",
    "    [3, 5, 8, 4, 2]\n",
    "\n",
    "i = 3\n",
    "    key = arr[3] = 4\n",
    "\n",
    "    j = 2 \n",
    "    while j >= 0 and arr[j] > key :     8 > 4  -> 참\n",
    "        arr[3] = arr[2]  # 8 밀기 \n",
    "        j = 1\n",
    "\n",
    "    j = 1\n",
    "    while 1 >= 0 and arr[1] > 4 :       5 > 4 -> 참참\n",
    "        arr[2] = arr[1]    # 5 밀기\n",
    "        j = 0\n",
    "\n",
    "    j = 0\n",
    "    while 0 >= 0 and arr[0] > 4 :       3 > 4 거짓 종료\n",
    "        arr[1] = 4\n",
    "    arr[3, 4, 5, 8, 2]\n",
    "\n",
    "i = 4\n",
    "    key = arr[4] = 2\n",
    "\n",
    "    j = 3\n",
    "    while 3 >= 0 and arr[3] > 2:        8 > 2 참\n",
    "        arr[4] = arr[3]     => [3,4,5,8,8 ]\n",
    "        j = 2\n",
    "\n",
    "    j = 2\n",
    "    while 2 >= 0 and arr[2] > 2: \n",
    "        arr[3] = arr[2]  => [3,4,5,5,8]\n",
    "        j = 1\n",
    "\n",
    "    j = 1\n",
    "    while 1 >= 0 and arr[1] > 3:        4 > 2 참\n",
    "        arr[2] = arr[1]  => [3,4,4,5,8]\n",
    "        j = 0\n",
    "\n",
    "    j = 0\n",
    "    while 0 >= 0 and arr[0] > 2:        3 > 2 참\n",
    "        arr[1] = arr[0]  => [3,3,4,5,8]\n",
    "        j= -1\n",
    "\n",
    "    arr[0] = 2\n",
    "    \n",
    "arr = [2,3,4,5,8]\n",
    "'''\n",
    "\n",
    "print(\"삽입 정렬 결과 :\", insertion_sort([5, 3, 8, 4, 2]))"
   ]
  },
  {
   "cell_type": "markdown",
   "id": "414ddc48-4368-4a9c-bcef-cf19ea2b7f12",
   "metadata": {},
   "source": [
    "# 정리 요약\n",
    "\n",
    "- 버블 정렬 : 느리고 단순하지만 구조가 쉬움\n",
    "- 선택 정렬 : 무조건 비교 많음\n",
    "- 삽입 정렬 : 거의 정렬된 데이터에 매우 빠름"
   ]
  },
  {
   "cell_type": "markdown",
   "id": "4c0ef480-beb3-4d8e-90d5-b07f1ec16247",
   "metadata": {},
   "source": [
    "# 정렬 알고리즘 예제"
   ]
  },
  {
   "cell_type": "markdown",
   "id": "276460ad-1cbc-40fc-b2f2-c73a125a07e8",
   "metadata": {},
   "source": [
    "### 숫자 리스트를 입력 받아서 정렬하기\n",
    "\n",
    "- 목표 : 사용자로부터 숫자를 입력 받아, 3가지 방식으로 정렬"
   ]
  },
  {
   "cell_type": "code",
   "execution_count": 39,
   "id": "a300358c-aebf-4781-92c3-1c85aed3d253",
   "metadata": {},
   "outputs": [],
   "source": [
    "# 버블 정렬\n",
    "def bubble_sort(arr) :\n",
    "    n = len(arr)\n",
    "\n",
    "    for i in range(n) :\n",
    "        for j in range(n - i - 1) :\n",
    "            if(arr[j] > arr[j+1]) :\n",
    "                arr[j], arr[j+1] = arr[j+1], arr[j]\n",
    "    return arr"
   ]
  },
  {
   "cell_type": "code",
   "execution_count": 41,
   "id": "4e979946-bfc4-40c5-8361-93616dcd02e0",
   "metadata": {},
   "outputs": [],
   "source": [
    "# 선택 정렬\n",
    "def selection_sort(arr) :\n",
    "    n = len(arr)\n",
    "\n",
    "    for i in range(n) :\n",
    "        min_idx = i\n",
    "        for j in range(i+1, n) :\n",
    "            if arr[j] < arr[min_idx] :\n",
    "                min_idx = j\n",
    "\n",
    "        arr[i], arr[min_idx] = arr[min_idx], arr[i]\n",
    "    \n",
    "    return arr"
   ]
  },
  {
   "cell_type": "code",
   "execution_count": 43,
   "id": "58889821-c111-4ba4-87ec-7cd88bfd0bc1",
   "metadata": {},
   "outputs": [],
   "source": [
    "# 삽입 정렬\n",
    "def insertion_sort(arr) :\n",
    "    for i in range(1, len(arr)) :\n",
    "        key = arr[i]\n",
    "        j = i - 1\n",
    "\n",
    "        while j >= 0 and arr[j] > key :\n",
    "            arr[j+1] = arr[j]\n",
    "            j = j - 1\n",
    "\n",
    "        arr[j+1] = key\n",
    "    \n",
    "    return arr"
   ]
  },
  {
   "cell_type": "code",
   "execution_count": 45,
   "id": "29718f07-6ca3-4233-9950-ce98649d3c52",
   "metadata": {},
   "outputs": [
    {
     "name": "stdin",
     "output_type": "stream",
     "text": [
      "정렬할 숫자들을 공백으로 입력하세요 :  4 89 2 19 23 48 93\n"
     ]
    }
   ],
   "source": [
    "user_input = input(\"정렬할 숫자들을 공백으로 입력하세요 : \")\n",
    "user_list = list(map(int, user_input.split()))"
   ]
  },
  {
   "cell_type": "code",
   "execution_count": 47,
   "id": "65705ece-8912-4be7-b494-ccd7a45adf0b",
   "metadata": {},
   "outputs": [
    {
     "name": "stdout",
     "output_type": "stream",
     "text": [
      "버블 정렬 결과 : [2, 4, 19, 23, 48, 89, 93]\n",
      "선택 정렬 결과 : [2, 4, 19, 23, 48, 89, 93]\n",
      "삽입 정렬 결과 : [2, 4, 19, 23, 48, 89, 93]\n"
     ]
    }
   ],
   "source": [
    "print(\"버블 정렬 결과 :\", bubble_sort(user_list))\n",
    "print(\"선택 정렬 결과 :\", selection_sort(user_list))\n",
    "print(\"삽입 정렬 결과 :\", insertion_sort(user_list))"
   ]
  },
  {
   "cell_type": "markdown",
   "id": "89001e3c-2bba-445f-812e-8d4e02331c1e",
   "metadata": {},
   "source": [
    "# 파이썬 복습"
   ]
  },
  {
   "cell_type": "markdown",
   "id": "0fcfb58f-2856-4298-921e-984c26ccba6d",
   "metadata": {},
   "source": [
    "### list(map(int, user_input.split()))\n",
    "\n",
    "- 문자열로 구성된 리스트 user_input.split()의 각 요소에 내장 함수 int를 순차적으로 적용하여, 문자열 숫자를 정수형 숫자로 변환하는 반복 가능한 객체(map)를 생성한다."
   ]
  },
  {
   "cell_type": "markdown",
   "id": "790487b8-47fe-4f48-ad12-96898cc81aad",
   "metadata": {},
   "source": [
    "### map(int, [...])\n",
    "\n",
    "- 리스트의 각 요소에 int를 적용하여 정수로 변환된 요소들을 순차적으로 생성하는 map 객체를 반환한다."
   ]
  },
  {
   "cell_type": "markdown",
   "id": "45d9c5fe-32d9-484e-ae0d-1b28ef3d6dd0",
   "metadata": {},
   "source": [
    "### list(map(int, [...]))\n",
    "\n",
    "- 리스트로 감싸면 정수 리스트로 변환된다."
   ]
  },
  {
   "cell_type": "markdown",
   "id": "98c720e8-3fa3-4c02-bc4b-6e5142e00670",
   "metadata": {},
   "source": [
    "### map객체란?\n",
    "\n",
    "- map()함수는 반복 가능한 객체를 반환하는데 이 객체를 map 객체라고 부른다.\n",
    "- 리스트처럼 보이지만, 실제로는 하나씩 꺼내 쓸 수 있는 값들의 묶음이다."
   ]
  },
  {
   "cell_type": "markdown",
   "id": "27dddd14-aab0-44cd-aa59-c3b1f6cdb524",
   "metadata": {},
   "source": [
    "### map 객체를 왜 쓸까?\n",
    "\n",
    "- 메모리를 덜 쓰고, 속도가 빠름\n",
    "- 특히, 큰 데이터를처리할 떄 효율적이다.\n",
    "- 값이 많을수록 map은 리스트보다 훨씬 가볍다."
   ]
  },
  {
   "cell_type": "markdown",
   "id": "08600697-2572-49b1-97e5-7913a835c763",
   "metadata": {},
   "source": [
    "### 중복 없는 리스트 만들기 예제\n",
    "\n",
    "- 중복된 값을 제거하고 새로운 리스트를 만든다.\n",
    "- 문제 설명 : 다음과 같이 숫자가 중복된 리스트가 주어졌을 떄, 중복된 값을 제거하고 중복 없는 새로운 리스트를 만들어서 출력하세요.\n",
    "- 결과 : 1, 3, 5, 7, 9"
   ]
  },
  {
   "cell_type": "markdown",
   "id": "f16f8a11-890a-428f-87b0-b36b924a6139",
   "metadata": {},
   "source": [
    "- set() : 파이썬의 집합 자료형으로, 중복을 허용하지 않고, 순서가 없는 변경 가능한 자료구조이다.\n",
    "- 중복 불가, 순서 없음, 가변 자료형, 수학적 집합 연산 지원"
   ]
  },
  {
   "cell_type": "code",
   "execution_count": 60,
   "id": "9120212a-a7bd-4d4e-a3fd-e95465d32d92",
   "metadata": {},
   "outputs": [
    {
     "name": "stdout",
     "output_type": "stream",
     "text": [
      "Set 함수 사용 : [1, 3, 5, 7, 9]\n",
      "직접 구현 : [1, 3, 5, 7, 9]\n"
     ]
    }
   ],
   "source": [
    "# 예제 입력\n",
    "nums = [1, 3, 3, 5, 1, 7, 9, 5]\n",
    "\n",
    "# 방법 1: () 함수 사용\n",
    "method1 = set(nums)\n",
    "print(\"Set 함수 사용 :\", list(method1))\n",
    "\n",
    "# 방법 2: 직접 구현\n",
    "method2 = []\n",
    "for value in nums:\n",
    "    if value not in method2:\n",
    "        method2.append(value)\n",
    "\n",
    "print(\"직접 구현 :\", method2)"
   ]
  },
  {
   "cell_type": "code",
   "execution_count": null,
   "id": "5a159ed9-f5e1-4372-a0a5-21254ca6220d",
   "metadata": {},
   "outputs": [],
   "source": []
  }
 ],
 "metadata": {
  "kernelspec": {
   "display_name": "Python [conda env:base] *",
   "language": "python",
   "name": "conda-base-py"
  },
  "language_info": {
   "codemirror_mode": {
    "name": "ipython",
    "version": 3
   },
   "file_extension": ".py",
   "mimetype": "text/x-python",
   "name": "python",
   "nbconvert_exporter": "python",
   "pygments_lexer": "ipython3",
   "version": "3.12.7"
  }
 },
 "nbformat": 4,
 "nbformat_minor": 5
}
