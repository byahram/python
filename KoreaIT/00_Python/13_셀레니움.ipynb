{
 "cells": [
  {
   "cell_type": "code",
   "execution_count": 30,
   "id": "0ec9ab12-a9d6-4397-8f05-48efc5e92803",
   "metadata": {},
   "outputs": [
    {
     "name": "stdout",
     "output_type": "stream",
     "text": [
      "Requirement already satisfied: selenium in c:\\users\\user\\anaconda3\\lib\\site-packages (4.32.0)\n",
      "Requirement already satisfied: urllib3<3,>=1.26 in c:\\users\\user\\anaconda3\\lib\\site-packages (from urllib3[socks]<3,>=1.26->selenium) (2.2.3)\n",
      "Requirement already satisfied: trio~=0.17 in c:\\users\\user\\anaconda3\\lib\\site-packages (from selenium) (0.30.0)\n",
      "Requirement already satisfied: trio-websocket~=0.9 in c:\\users\\user\\anaconda3\\lib\\site-packages (from selenium) (0.12.2)\n",
      "Requirement already satisfied: certifi>=2021.10.8 in c:\\users\\user\\anaconda3\\lib\\site-packages (from selenium) (2025.1.31)\n",
      "Requirement already satisfied: typing_extensions~=4.9 in c:\\users\\user\\anaconda3\\lib\\site-packages (from selenium) (4.11.0)\n",
      "Requirement already satisfied: websocket-client~=1.8 in c:\\users\\user\\anaconda3\\lib\\site-packages (from selenium) (1.8.0)\n",
      "Requirement already satisfied: attrs>=23.2.0 in c:\\users\\user\\anaconda3\\lib\\site-packages (from trio~=0.17->selenium) (25.3.0)\n",
      "Requirement already satisfied: sortedcontainers in c:\\users\\user\\anaconda3\\lib\\site-packages (from trio~=0.17->selenium) (2.4.0)\n",
      "Requirement already satisfied: idna in c:\\users\\user\\anaconda3\\lib\\site-packages (from trio~=0.17->selenium) (3.7)\n",
      "Requirement already satisfied: outcome in c:\\users\\user\\anaconda3\\lib\\site-packages (from trio~=0.17->selenium) (1.3.0.post0)\n",
      "Requirement already satisfied: sniffio>=1.3.0 in c:\\users\\user\\anaconda3\\lib\\site-packages (from trio~=0.17->selenium) (1.3.0)\n",
      "Requirement already satisfied: cffi>=1.14 in c:\\users\\user\\anaconda3\\lib\\site-packages (from trio~=0.17->selenium) (1.17.1)\n",
      "Requirement already satisfied: wsproto>=0.14 in c:\\users\\user\\anaconda3\\lib\\site-packages (from trio-websocket~=0.9->selenium) (1.2.0)\n",
      "Requirement already satisfied: pysocks!=1.5.7,<2.0,>=1.5.6 in c:\\users\\user\\anaconda3\\lib\\site-packages (from urllib3[socks]<3,>=1.26->selenium) (1.7.1)\n",
      "Requirement already satisfied: pycparser in c:\\users\\user\\anaconda3\\lib\\site-packages (from cffi>=1.14->trio~=0.17->selenium) (2.21)\n",
      "Requirement already satisfied: h11<1,>=0.9.0 in c:\\users\\user\\anaconda3\\lib\\site-packages (from wsproto>=0.14->trio-websocket~=0.9->selenium) (0.14.0)\n"
     ]
    }
   ],
   "source": [
    "!pip install selenium"
   ]
  },
  {
   "cell_type": "code",
   "execution_count": 28,
   "id": "3438f4b1-1f72-4e22-9dbf-99b466f4509c",
   "metadata": {},
   "outputs": [
    {
     "name": "stdout",
     "output_type": "stream",
     "text": [
      "Collecting webdriver-manager\n",
      "  Downloading webdriver_manager-4.0.2-py2.py3-none-any.whl.metadata (12 kB)\n",
      "Requirement already satisfied: requests in c:\\users\\user\\anaconda3\\lib\\site-packages (from webdriver-manager) (2.32.3)\n",
      "Requirement already satisfied: python-dotenv in c:\\users\\user\\anaconda3\\lib\\site-packages (from webdriver-manager) (0.21.0)\n",
      "Requirement already satisfied: packaging in c:\\users\\user\\anaconda3\\lib\\site-packages (from webdriver-manager) (24.1)\n",
      "Requirement already satisfied: charset-normalizer<4,>=2 in c:\\users\\user\\anaconda3\\lib\\site-packages (from requests->webdriver-manager) (3.3.2)\n",
      "Requirement already satisfied: idna<4,>=2.5 in c:\\users\\user\\anaconda3\\lib\\site-packages (from requests->webdriver-manager) (3.7)\n",
      "Requirement already satisfied: urllib3<3,>=1.21.1 in c:\\users\\user\\anaconda3\\lib\\site-packages (from requests->webdriver-manager) (2.2.3)\n",
      "Requirement already satisfied: certifi>=2017.4.17 in c:\\users\\user\\anaconda3\\lib\\site-packages (from requests->webdriver-manager) (2025.1.31)\n",
      "Downloading webdriver_manager-4.0.2-py2.py3-none-any.whl (27 kB)\n",
      "Installing collected packages: webdriver-manager\n",
      "Successfully installed webdriver-manager-4.0.2\n"
     ]
    }
   ],
   "source": [
    "!pip install webdriver-manager"
   ]
  },
  {
   "cell_type": "markdown",
   "id": "b6f0089d-97ea-41bf-84d0-69151e638a8d",
   "metadata": {},
   "source": [
    "# 예제 1 : 사이트 자동으로 열기"
   ]
  },
  {
   "cell_type": "code",
   "execution_count": 42,
   "id": "06f8f663-b7ac-43c9-8d31-d7afa7886408",
   "metadata": {},
   "outputs": [],
   "source": [
    "'''\n",
    "[Selenium(셀레니움)]\n",
    "\n",
    "- 웹 브라우저를 자동으로 제어할 수 있도록 지원하는 오픈소스 웹 애플리케이션 테스트 프레임워크이다.\n",
    "- 사용자는 셀레니움을 통해 실제 브라우저를 띄우고 사람처럼 웹사이트를 열고, 검색하고, 클릭하고, 입력하는 등의 작업을 자동화된 코드로 수행할 수 있다.\n",
    "\n",
    "[셀레니움 주요 특징]\n",
    "\n",
    "1. 웹 브라우저 자동 제어\n",
    "2. w자동화 테스트, 다양한 언어지원, 사람처럼 조작, 동적 웹페이지 지원\n",
    "\n",
    "[셀레니움 예시]\n",
    "\n",
    ": 웹 사이트 열기, 버튼 클릭하기, 검색 입력하고 엔터 누르기, 페이지 스크린샷 저장하기, 자동 로그인, 반복 작업 자동화.\n",
    "\n",
    "[셀레니움 기본 동작 구조]\n",
    "\n",
    ": 파이썬 코드 -> selenium -> 크롬 드라이버 -> 크롬 브라우저 실행 -> 작업 수행\n",
    "\n",
    "[webdriver]\n",
    "\n",
    "- 셀레니움에서 웹 브라우저를 제어하는 webdriver 모듈을 불러온다.\n",
    "- webdriver : 셀레니움에서 웹 브라우저를 실제로 제어하는 기능을 가진 모듈(도구)\n",
    "- 셀레니움이 웹사이트를 자동으로 열고, 클릭하고, 입력하고, 스크린샷 찍고,,, 등 이런 모든 작업을 가능하게 해주는 핵심\n",
    "'''\n",
    "from selenium import webdriver\n",
    "\n",
    "# Chrome 브라우저를 실행하는 객체 생성 (크롬드라이버가 설치되어 있어야 함)\n",
    "driver = webdriver.Chrome()\n",
    "\n",
    "# get() : 브라우저에게 특정 웹페이지를 열라고 지시하는 명령어이다.\n",
    "driver.get(\"https://www.naver.com/\")\n",
    "driver.get(\"https://www.google.com/\")"
   ]
  },
  {
   "cell_type": "markdown",
   "id": "258e5ba2-21a3-40c9-8311-1c935afbb400",
   "metadata": {},
   "source": [
    "# 예제 2 : 여러 사이트 자동으로 열기"
   ]
  },
  {
   "cell_type": "code",
   "execution_count": 11,
   "id": "dba82d75-b27e-458e-9ab8-a41fe1d6190d",
   "metadata": {},
   "outputs": [],
   "source": [
    "from selenium import webdriver"
   ]
  },
  {
   "cell_type": "code",
   "execution_count": 13,
   "id": "455457bd-0b6b-450e-838e-faf3495ad8b5",
   "metadata": {},
   "outputs": [],
   "source": [
    "'''\n",
    "[service 객체]\n",
    "\n",
    "- 크롬 드라이버를 제어하기 위한 service 객체 (필요시 사용)\n",
    "- 크롬 드라이버를 정식으로 실행하는 방법\n",
    "'''\n",
    "from selenium.webdriver.chrome.service import Service"
   ]
  },
  {
   "cell_type": "code",
   "execution_count": 15,
   "id": "32d29004-2823-47d2-a3bb-d70f3e0d272a",
   "metadata": {},
   "outputs": [],
   "source": [
    "'''\n",
    "[웹 요소를 찾기 위한 기능]\n",
    "\n",
    "- By.ID, By.Class_Name등 사용할 수 있음\n",
    "- By.ID, By.class_Name : html요소를 찾는 기준을 정해주는 방법이다. \"검색 조건\"\n",
    "- By.ID -> id = \"...\"\n",
    "- By.CLASS+NAME -> class = \"...\"\n",
    "'''\n",
    "from selenium.webdriver.common.by import By"
   ]
  },
  {
   "cell_type": "code",
   "execution_count": 17,
   "id": "9b953ea8-4b9d-4b86-bb14-1390090cdf9a",
   "metadata": {},
   "outputs": [],
   "source": [
    "# 코드 실행 중 일시정지를 위한 time 모듈\n",
    "import time"
   ]
  },
  {
   "cell_type": "code",
   "execution_count": 19,
   "id": "485c5e2b-dc36-46b0-b48a-7284ba6aab94",
   "metadata": {},
   "outputs": [],
   "source": [
    "# 크롬 드라이버 실행\n",
    "driver = webdriver.Chrome()"
   ]
  },
  {
   "cell_type": "code",
   "execution_count": 21,
   "id": "f72db810-0a31-4b51-b0f9-b7dc2c4060ac",
   "metadata": {},
   "outputs": [],
   "source": [
    "# 열고 싶은 사이트들을 리스트로 정의\n",
    "urls = [\n",
    "    \"https://www.google.com\",\n",
    "    \"https://www.naver.com\",\n",
    "    \"https://www.daum.net\"\n",
    "]"
   ]
  },
  {
   "cell_type": "code",
   "execution_count": 23,
   "id": "a8e85410-96d2-4503-8c52-956dfb06c3e8",
   "metadata": {},
   "outputs": [
    {
     "name": "stdout",
     "output_type": "stream",
     "text": [
      "https://www.google.com 열렸습니다.\n"
     ]
    },
    {
     "name": "stdin",
     "output_type": "stream",
     "text": [
      "다음으로 넘어가려면 '확인'을 입력하세요. : 확인\n"
     ]
    },
    {
     "name": "stdout",
     "output_type": "stream",
     "text": [
      "https://www.naver.com 열렸습니다.\n"
     ]
    },
    {
     "name": "stdin",
     "output_type": "stream",
     "text": [
      "다음으로 넘어가려면 '확인'을 입력하세요. : 확인\n"
     ]
    },
    {
     "name": "stdout",
     "output_type": "stream",
     "text": [
      "https://www.daum.net 열렸습니다.\n"
     ]
    },
    {
     "name": "stdin",
     "output_type": "stream",
     "text": [
      "다음으로 넘어가려면 '확인'을 입력하세요. : 확인\n"
     ]
    },
    {
     "name": "stdout",
     "output_type": "stream",
     "text": [
      "모든 사이트 확인 완료, 브라우저를 종료했습니다.\n"
     ]
    }
   ],
   "source": [
    "# 리스트에 있는 url들을 하나씩 반복하며 열기\n",
    "for url in urls :\n",
    "    # 현재 url로 이동\n",
    "    driver.get(url)\n",
    "    \n",
    "    # 콘솔에 안내 메시지 출력\n",
    "    print(f\"{url} 열렸습니다.\")\n",
    "    \n",
    "    # 사용자가 직접 확인 후 엔터 입력 대기(일시 정지 역할)\n",
    "    # input(\"확인했으면 엔터를 눌러주세요!\")\n",
    "\n",
    "    # '확인' 입력해야 다음으로 넘어감\n",
    "    while True :\n",
    "        user_input = input(\"다음으로 넘어가려면 '확인'을 입력하세요. :\")\n",
    "        if user_input == \"확인\" :\n",
    "            break\n",
    "        else :\n",
    "            print(\"확인을 정확히 입력해주세요.\")\n",
    "        \n",
    "# 반복이 끝나면 크롬 브라우저 전체 종료\n",
    "driver.quit()\n",
    "\n",
    "print(\"모든 사이트 확인 완료, 브라우저를 종료했습니다.\")"
   ]
  },
  {
   "cell_type": "markdown",
   "id": "9d7aaaf9-23db-48b6-a2ab-597af28460b0",
   "metadata": {},
   "source": [
    "# 예제 3 : 브라우저 스크린샷 저장"
   ]
  },
  {
   "cell_type": "code",
   "execution_count": 32,
   "id": "151cbd75-9c30-4d5e-bbfb-e1e3c081f821",
   "metadata": {},
   "outputs": [],
   "source": [
    "from selenium import webdriver\n",
    "from selenium.webdriver.chrome.service import Service\n",
    "from selenium.webdriver.common.by import By\n",
    "\n",
    "# 브라우저 실행 시의 다양한 옵션을 설정할 수 있는 모듈\n",
    "from selenium.webdriver.chrome.options import Options\n",
    "\n",
    "# 크롬 드라이버를 자동으로 설치하고 경로를 설정해주는 도구\n",
    "from webdriver_manager.chrome import ChromeDriverManager\n",
    "import time"
   ]
  },
  {
   "cell_type": "code",
   "execution_count": 38,
   "id": "c03da791-c715-47ac-8770-9bfa48c384ac",
   "metadata": {},
   "outputs": [
    {
     "name": "stdout",
     "output_type": "stream",
     "text": [
      "스크린샷 저장 완료!\n"
     ]
    }
   ],
   "source": [
    "# 드라이버 매니저를 통해 크롬 드라이버 자동 설치 및 실행\n",
    "driver = webdriver.Chrome(\n",
    "    service=Service(ChromeDriverManager().install())\n",
    ")\n",
    "\n",
    "# 네이버 메인 페이지 열기\n",
    "driver.get(\"https://naver.com\")\n",
    "\n",
    "'''\n",
    "[sleep()]\n",
    "\n",
    "- 코드를 잠깐 멈추는 함수\n",
    "- 페이지가 완전히 로드될 수 있도록 2초간 대기\n",
    "- 괄호 안 숫자(초)만큼 일시정지하고 기다리는 것\n",
    "'''\n",
    "time.sleep(2)\n",
    "\n",
    "'''\n",
    "[save_screenshot()]\n",
    "\n",
    "- 현재 브라우저 화면을 이미지 파일로 저장해주는 함수\n",
    "- 현재 브라우저 화면을 이미지 파일로 저장\n",
    "'''\n",
    "driver.save_screenshot(\"naver_main.png\")\n",
    "\n",
    "# 완료 메시지 출력\n",
    "print(\"스크린샷 저장 완료!\")\n",
    "\n",
    "# 브라우저 종료 (선택)\n",
    "driver.quit()"
   ]
  },
  {
   "cell_type": "markdown",
   "id": "c07ce88b-a90a-473b-9d9f-315a13cfed27",
   "metadata": {},
   "source": [
    "# 예제 4 : 자동 로그인"
   ]
  },
  {
   "cell_type": "code",
   "execution_count": 45,
   "id": "b0126026-e1c8-495b-be25-91d08cdac684",
   "metadata": {},
   "outputs": [],
   "source": [
    "from selenium import webdriver\n",
    "from selenium.webdriver.common.by import By    # 요소를 찾을 때 사용하는 방식 (ID, CLASS_NAME 등)을 지정할 수 있게 한다.\n",
    "from selenium.webdriver.common.keys import Keys    # 키보드 입력(Enter, Tab등)을 시뮬레이션 할 수 있다.\n",
    "from selenium.webdriver.chrome.service import Service\n",
    "from webdriver_manager.chrome import ChromeDriverManager"
   ]
  },
  {
   "cell_type": "code",
   "execution_count": 47,
   "id": "48a1fda3-582b-4bd3-8356-680dcb5dc1bf",
   "metadata": {},
   "outputs": [],
   "source": [
    "import time"
   ]
  },
  {
   "cell_type": "code",
   "execution_count": 51,
   "id": "3bd65730-0db6-4575-b1ee-088fda16a3ea",
   "metadata": {},
   "outputs": [
    {
     "name": "stdout",
     "output_type": "stream",
     "text": [
      "로그인 테스트 완료!\n"
     ]
    }
   ],
   "source": [
    "# 크롬 드라이버 실행\n",
    "driver = webdriver.Chrome(service=Service(ChromeDriverManager().install()))\n",
    "\n",
    "# 1. 로그인 페이지 열기\n",
    "driver.get(\"https://the-internet.herokuapp.com/login\")\n",
    "\n",
    "# 2. 아이디 입력\n",
    "username = driver.find_element(By.ID, \"username\")\n",
    "username.send_keys(\"tomsmith\")    # 테스트용 아이디\n",
    "\n",
    "# 3. 비밀번호 입력\n",
    "password = driver.find_element(By.ID, \"password\")\n",
    "password.send_keys(\"SuperSecretPassword!\")    # 테스트용 비밀번호\n",
    "\n",
    "# 4. 로그인 버튼 클릭\n",
    "login_button = driver.find_element(By.CLASS_NAME, \"radius\")\n",
    "login_button.click()\n",
    "\n",
    "# 5. 결과 확인을 위해 잠시 대기\n",
    "time.sleep(2)\n",
    "\n",
    "# 6. 스크린샷 저장(로그인 후 화면)\n",
    "driver.save_screenshot(\"login_result.png\")\n",
    "\n",
    "print(\"로그인 테스트 완료!\")\n",
    "\n",
    "driver.quit()"
   ]
  },
  {
   "cell_type": "markdown",
   "id": "b215be3a-22e6-414a-bd99-4fa3676f4cad",
   "metadata": {},
   "source": [
    "# 예제 5 : 무한 스크롤"
   ]
  },
  {
   "cell_type": "code",
   "execution_count": 54,
   "id": "a63914b4-4e2e-4e74-88ab-d3241dcba4a8",
   "metadata": {},
   "outputs": [],
   "source": [
    "from selenium import webdriver\n",
    "from selenium.webdriver.common.by import By    # 요소를 찾을 때 사용하는 방식 (ID, CLASS_NAME 등)을 지정할 수 있게 한다.\n",
    "from selenium.webdriver.chrome.service import Service\n",
    "from webdriver_manager.chrome import ChromeDriverManager"
   ]
  },
  {
   "cell_type": "code",
   "execution_count": 56,
   "id": "74d04e45-fbee-41de-85df-07d2ec2733de",
   "metadata": {},
   "outputs": [],
   "source": [
    "import time"
   ]
  },
  {
   "cell_type": "code",
   "execution_count": 58,
   "id": "de9d481b-406a-4665-a52f-7270c8d08c81",
   "metadata": {},
   "outputs": [
    {
     "name": "stdout",
     "output_type": "stream",
     "text": [
      "스크롤 1회 완료\n",
      "스크롤 2회 완료\n",
      "스크롤 3회 완료\n",
      "스크롤 4회 완료\n",
      "스크롤 5회 완료\n",
      "무한 스크롤 테스트 완료!\n"
     ]
    }
   ],
   "source": [
    "# 크롬 드라이버 실행\n",
    "driver = webdriver.Chrome(service=Service(ChromeDriverManager().install()))\n",
    "\n",
    "# 1. 로그인 페이지 열기\n",
    "driver.get(\"https://the-internet.herokuapp.com/infinite_scroll\")\n",
    "\n",
    "# 2. 페이지 로딩 기다리기\n",
    "time.sleep(2)\n",
    "\n",
    "# 3. 스크롤 5번 내리기 (원하는 횟수로 range 숫자를 조정)\n",
    "for i in range(5) :\n",
    "    # 자바스크립트를 이용해 현재 페이지의 맨 아래로 스크롤 이동\n",
    "    # window : 현재 브라우저 창(탭)을 의미함\n",
    "    # .scrollTo(x, y) : 브라우저 화면을 좌표(x, y)로 이동해 주는 함수\n",
    "    # document.body.scrollHeight :y축 좌표 = 페이지의 전체 높이, 이 값을 넣으면 페이지의 가장 아래로 이동하게 된다.\n",
    "    driver.execute_script(\"window.scrollTo(0, document.body.scrollHeight);\")\n",
    "    print(f\"스크롤 {i + 1}회 완료\")\n",
    "    time.sleep(2)\n",
    "\n",
    "# 4. 완료메시지\n",
    "print(\"무한 스크롤 테스트 완료!\")\n",
    "\n",
    "driver.quit()"
   ]
  },
  {
   "cell_type": "code",
   "execution_count": null,
   "id": "9dcdffec-495d-4aed-b296-56b62584d124",
   "metadata": {},
   "outputs": [],
   "source": []
  }
 ],
 "metadata": {
  "kernelspec": {
   "display_name": "Python [conda env:base] *",
   "language": "python",
   "name": "conda-base-py"
  },
  "language_info": {
   "codemirror_mode": {
    "name": "ipython",
    "version": 3
   },
   "file_extension": ".py",
   "mimetype": "text/x-python",
   "name": "python",
   "nbconvert_exporter": "python",
   "pygments_lexer": "ipython3",
   "version": "3.12.7"
  }
 },
 "nbformat": 4,
 "nbformat_minor": 5
}
