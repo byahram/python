{
 "cells": [
  {
   "cell_type": "markdown",
   "id": "7144d8ec-34e5-4e6d-af00-c24d50c4ce7b",
   "metadata": {},
   "source": [
    "# 탐색 알고리즘 1. 선형 탐색"
   ]
  },
  {
   "cell_type": "markdown",
   "id": "1c113366-e1fe-4b8b-b6e3-40f1a4adad03",
   "metadata": {},
   "source": [
    "## 선형 탐색의 정의\n",
    "\n",
    "- 찾고자 하는 값을 리스트가 처음부터 끝까지 차례대로 하나씩 비교하여 해당 값을 찾는 가장 기본적인 탐색 알고리즘이다.\n",
    "- **[방식]** : 첫 번째 원소부터 마지막 원소까지 순차적으로 비교\n",
    "- **[장점]** : 구현이 매우 간단하고 정렬이 필요 없다.\n",
    "- **[단점]** : 데이터가 많을수록 속도가 느려진다."
   ]
  },
  {
   "cell_type": "code",
   "execution_count": 30,
   "id": "e50a5fd8-b381-4e09-bd74-ae57e1aae3e1",
   "metadata": {},
   "outputs": [],
   "source": [
    "# 선형 탐색 예제\n",
    "def linear_search(arr, target) :\n",
    "    for i in range(len(arr)) :\n",
    "        if arr[i] == target :\n",
    "            return i    # 찾으면 인덱스 반환\n",
    "    return -1           # 못 찾으면 -1"
   ]
  },
  {
   "cell_type": "code",
   "execution_count": 32,
   "id": "ccf83330-ea11-438a-b82e-fdaa545989a7",
   "metadata": {},
   "outputs": [
    {
     "name": "stdin",
     "output_type": "stream",
     "text": [
      "정렬할 숫자들을 공백으로 입력하세요 :  5 67 0 112 45 2\n",
      "찾을 값을 입력하세요:  0\n"
     ]
    },
    {
     "name": "stdout",
     "output_type": "stream",
     "text": [
      "0는 2번 인덱스에 있습니다.\n"
     ]
    }
   ],
   "source": [
    "# 사용자로부터 리스트 입력 받기\n",
    "# numbers = [12, 23, 77, 4, 6, 8]\n",
    "user_input = input(\"정렬할 숫자들을 공백으로 입력하세요 : \")\n",
    "numbers = list(map(int, user_input.split()))\n",
    "\n",
    "# 사용자로부터 찾을 값 입력 받기\n",
    "# target = 21\n",
    "target = int(input(\"찾을 값을 입력하세요: \"))\n",
    "\n",
    "# 함수 호출\n",
    "result = linear_search(numbers, target)\n",
    "\n",
    "# 결과 출력\n",
    "if result != -1 :\n",
    "    print(f\"{target}는 {result}번 인덱스에 있습니다.\")\n",
    "else :\n",
    "    print(f\"{target}은 리스트에 없습니다.\")"
   ]
  },
  {
   "cell_type": "markdown",
   "id": "38c65348-5420-4b81-9843-6ca996a90d56",
   "metadata": {},
   "source": [
    "# 탐색 알고리즘 2. 이진 탐색"
   ]
  },
  {
   "cell_type": "markdown",
   "id": "3b2c47b5-0aa7-4e03-a9e1-0d71881194bc",
   "metadata": {},
   "source": [
    "## 이진 트리 정의\n",
    "\n",
    "- 각 노드가 최대 두 개의 자식 노드를 갖는 계층적 자료 구조이다."
   ]
  },
  {
   "cell_type": "markdown",
   "id": "d7e50a03-6f23-416d-8c15-e25d229eceea",
   "metadata": {},
   "source": [
    "## 이진 탐색\n",
    "\n",
    "- 정렬된 배열이나 리스트에서 중간값을 기준으로, 반씩 탐색 범위를 줄여나가며 원하는 값을 빠르게 찾는 알고리즘이다.\n",
    "\n",
    "```\n",
    "arr = [1, 3, 5, 7, 9, 11]\n",
    "target = 7\n",
    "\n",
    "가운데 값 : 5 -> 탐색[7, 9, 11]\n",
    "다시 가운데 값 : 9 -> 7\n",
    "```"
   ]
  },
  {
   "cell_type": "code",
   "execution_count": 40,
   "id": "005f72c3-cde7-49ff-bd25-968ae40ec8ff",
   "metadata": {},
   "outputs": [],
   "source": [
    "# 이진탐색\n",
    "def binary_search(arr, target) :\n",
    "    left = 0                # 탐색할 범위의 시작 인덱스\n",
    "    right = len(arr) - 1    # 탐색할 범위의 끝 인덱스\n",
    "\n",
    "    # left가 right보다 작거나 같을 때까지 반복 (탐색 구간이 남아있는 동안)\n",
    "    while left <= right :\n",
    "        # 중간 인덱스를 계산\n",
    "        mid = (left + right) // 2        # 나는 몫만 가져온다는 뜻이다.\n",
    "\n",
    "        # 중간 값이 찾고자 하는 값과 같으면 인덱스 반환\n",
    "        if arr[mid] == target :\n",
    "            return mid\n",
    "\n",
    "        # 중간 값이 더 작으면 오른쪽 구간에서 계속 탐색\n",
    "        elif arr[mid] < target :\n",
    "            left = mid + 1      # 현재 중간값 arr[mid]가 우리가 찾는 값 target보다 작음\n",
    "                                # 그러면 찾는 값은 오른쪽에 있을 수 밖에 없음\n",
    "                                # 그래서 왼쪽 구간을 버리고, left를 오른쪽으로 옮겨서 탐색 범위를 좁힘\n",
    "                                # arr = [2, 4, 6, 8, 10]\n",
    "                                # target = 9\n",
    "                                # mid = 2       arr[2] = 6\n",
    "                                # 6 < 9 -> 오른쪽 절반 탐색\n",
    "                                # -1\n",
    "\n",
    "        else :\n",
    "            right = mid - 1\n",
    "\n",
    "    # 끝까지 못찾으면 -1 반환\n",
    "    return -1"
   ]
  },
  {
   "cell_type": "code",
   "execution_count": 42,
   "id": "2fe40e95-fa6f-4d7f-851f-d696ceaeb47c",
   "metadata": {},
   "outputs": [
    {
     "name": "stdout",
     "output_type": "stream",
     "text": [
      "10은 4에 있습니다.\n"
     ]
    }
   ],
   "source": [
    "# 오름차순으로 정렬된 리스트\n",
    "arr = [2, 4, 6, 8, 10, 12, 14]\n",
    "\n",
    "# 찾고자 하는 값\n",
    "target = 10\n",
    "\n",
    "# 이진탐색 함수 호출\n",
    "result = binary_search(arr, target)\n",
    "\n",
    "# 결과 출력\n",
    "if result != -1 :\n",
    "    print(f\"{target}은 {result}에 있습니다.\")\n",
    "else :\n",
    "    print(f\"{target}은 리스트에 없습니다.\")"
   ]
  },
  {
   "cell_type": "code",
   "execution_count": null,
   "id": "b1be08b7-6968-4377-9f20-40d6178d6dfc",
   "metadata": {},
   "outputs": [],
   "source": []
  }
 ],
 "metadata": {
  "kernelspec": {
   "display_name": "Python [conda env:base] *",
   "language": "python",
   "name": "conda-base-py"
  },
  "language_info": {
   "codemirror_mode": {
    "name": "ipython",
    "version": 3
   },
   "file_extension": ".py",
   "mimetype": "text/x-python",
   "name": "python",
   "nbconvert_exporter": "python",
   "pygments_lexer": "ipython3",
   "version": "3.12.7"
  }
 },
 "nbformat": 4,
 "nbformat_minor": 5
}
