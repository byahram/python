{
 "cells": [
  {
   "cell_type": "markdown",
   "id": "65520f47-2724-4318-af56-3417e3dac888",
   "metadata": {},
   "source": [
    "# 자료 구조"
   ]
  },
  {
   "cell_type": "markdown",
   "id": "c82a3c10-b2c3-4a9b-a205-f829fee9192e",
   "metadata": {},
   "source": [
    "### 자료구조란?\n",
    "\n",
    "- 컴퓨터 프로그램 안에서 데이터를 체계적으로 저장하고, 관리하는 방식이다.\n",
    "- 자료구조는 데이터를 '효율적'으로 저장하고 관리하기 위한 구조화된 방식이다.\n",
    "- \"데이터를 어떻게 구조화 할 것인가\"에 대한 고민"
   ]
  },
  {
   "cell_type": "markdown",
   "id": "7d06aec6-d9ea-43b1-b202-f1ac67be33b6",
   "metadata": {},
   "source": [
    "### 왜 필요할까?\n",
    "\n",
    "- 프로그래밍에서 다루는 거의 모든 문제는 \"데이터를 처리하는 문제\"이다.\n",
    "- 데이터를 무작정 저장하면, 원하는 정보를 찾는데 시간이 오래걸리거나, 추가/삭제 작업이 복잡해진다."
   ]
  },
  {
   "cell_type": "markdown",
   "id": "91fb1dff-89e2-4ddc-80a8-47fb3a552e4f",
   "metadata": {},
   "source": [
    "### 예시\n",
    "\n",
    "- 고객 정보를 저장하고 검색해야한다.\n",
    "- 수강 신청 내역을 빠르게 불러와야한다.\n",
    "- 게임에서 수천 개의 오브젝트를 실시간으로 처리해야한다.\n",
    "- **데이터를 효율적으로 저장, 탐색, 수정, 삭제하기 위해 자료구조가 반드시 필요하다.**"
   ]
  },
  {
   "cell_type": "markdown",
   "id": "d24c9a08-5f31-47bc-bfd4-d62fc297a544",
   "metadata": {},
   "source": [
    "### 자료구조가 중요한 세가지 이유\n",
    "\n",
    "1. 속도\n",
    "    - 좋은 자료구조를 사용하면 프로그램의 실행 속도가 크게 향상된다.\n",
    "    - 빅오(Big-O) 표기법 : \"이 코드(또는 알고리즘)는 얼마나 효율적일까?\"를 수학적으로 표현하는 방법\n",
    "2. 유지보수\n",
    "3. 현실 문제 해결"
   ]
  },
  {
   "cell_type": "markdown",
   "id": "c4b0fa6c-a284-4a21-a74e-e32d138d0bb0",
   "metadata": {},
   "source": [
    "### 빅오(Big-O) 표기법\n",
    "\n",
    "\n",
    "\n",
    "|빅오표기|의미|예시|비유|정확한 의미|\n",
    "|---|---|---|---|---|\n",
    "|O(1)|상수시간|리스트[0]|1층 버튼 바로 누르기|바로 접근 가능|\n",
    "|O(log n)| 로그시간|이진 탐색|몇 층인지 모르지만, 중간부터 시작해서 절반씩 범위 줄이기|절반씩 탐색(이진 탐색 구조)|                           \n",
    "|O(n)|선형시간|for 반복문 : 데이터 개수에 비례|계단을 하나씩 내려가기|모든 데이터를 다 봐야한다|\n",
    "|O(n log n)|로그선형|효율적인 정렬|||\n",
    "|O(n^2)|제곱시간|중첩반복문|건물 사람 전부 만나서 인사|모든 조합 다 탐색|\n",
    "|O(2^n)|지수시간|피보나치 재귀(비효율적)|||\n",
    "|O(n!)|팩토리얼 시간|순열 탐색|||\n",
    "\n",
    "* O(n log n) -> 자주 쓰임 : 정렬 알고리즘 (퀵 정렬, 병합 정렬), 일부 탐색 알고리즘"
   ]
  },
  {
   "cell_type": "markdown",
   "id": "a733b535-c91f-4bb8-b4b3-a58c9e770769",
   "metadata": {},
   "source": [
    "# 자료구조 1. 배열(array)\n",
    "\n",
    "- 대표적으로 두가지 : array.array, numpy.array"
   ]
  },
  {
   "cell_type": "markdown",
   "id": "89804f34-a4a2-48d2-b5b6-c39e0196cad3",
   "metadata": {},
   "source": [
    "## 1) array.array\n",
    "\n",
    "- 기본 제공 배열 모듈\n",
    "- 같은 자료형만 저장 가능한 1차원 배열\n",
    "- 메모리를 덜 쓰고, 리스트보다 약간 빠름\n",
    "- 하지만 기능이 매우 제한적 -> 실무에서는 거의 사용되지 않음\n",
    "- 저장공간이 제한되어 있음\n",
    "- 잘 저장한다."
   ]
  },
  {
   "cell_type": "markdown",
   "id": "a8d74487-b482-4dbe-8f39-2f2902c38f3c",
   "metadata": {},
   "source": [
    "#### 어디서 쓰이나요?\n",
    "\n",
    "- 간단한 센서 데이터 저장, 파일 I/O 처리 등"
   ]
  },
  {
   "cell_type": "markdown",
   "id": "ca8e687e-b4ab-4a88-9547-8ca3387e8594",
   "metadata": {},
   "source": [
    "#### array() 함수의 구조\n",
    "\n",
    "```\n",
    "array(typecode, initializer)\n",
    "```\n",
    "\n",
    "- typecode : 배열에 저장할 데이터의 자료형을 지정하는 한 글자 코드\n",
    "- initializer : 초기데이터(보통 리스트)"
   ]
  },
  {
   "cell_type": "markdown",
   "id": "f9831317-7c82-4192-aeb9-742749161ed6",
   "metadata": {},
   "source": [
    "#### 실무 및 학습에서 자주 사용하는 type코드 4가지\n",
    "\n",
    "| 타입코드|타입   | 설명|: 주 사용 용도|\n",
    "|---|---|---|---|\n",
    "| \"i\"| int| 4byte 정수|: 일반적인 정수 저장용|\n",
    "| \"f\"| float|4byte 실수|: 소수점 포함된 숫자 저장용|\n",
    "| \"d\"| float|8byte 실수(double)|: 더 높은 정밀도의 실수 계산용|\n",
    "| \"B\"| int|1byte 양의 정수(0~255)|: 바이트 데이터|"
   ]
  },
  {
   "cell_type": "markdown",
   "id": "2faddef7-5a35-4c3a-abb1-c287d37b837c",
   "metadata": {},
   "source": [
    "#### 리스트와 배열의 차이점(용어 설명)\n",
    "\n",
    "- list(리스트) : 파이썬에서 기본적으로 제공하는 자료형, 여러 타입 가능\n",
    "- array.array : 파이썬 표준 모듈, 같은 타입만 저장\n",
    "- numpy.array : 외부라이브러리, 고성능 수치 연산용\n",
    "\n",
    "|항목|list|   array|   numpy.array|\n",
    "|---|---|---|---|\n",
    "|제공방식|  기본자료형|    표준모듈(import)|   외부라이브러리|\n",
    "|저장 자료형|  자유|   하나|   하나|\n",
    "|차원|  기본은1차원(다차원 중첨)|   1차원|   1차원~n차원|        \n",
    "|수학 연산|  직접 구현|   불편|   함수로 연산 가능|\n",
    "|속도|  느림|    약간 빠름|    매우 빠른(C)|\n",
    "|사용 빈도|  매우 높음|   거의 안씀|   데이터 처리에서 표준|"
   ]
  },
  {
   "cell_type": "code",
   "execution_count": 18,
   "id": "d699dbe6-a417-4816-aee8-ec3a3e20f836",
   "metadata": {},
   "outputs": [],
   "source": [
    "from array import array"
   ]
  },
  {
   "cell_type": "code",
   "execution_count": 20,
   "id": "526b9a8d-89dc-403b-a60b-657dd24d248b",
   "metadata": {},
   "outputs": [
    {
     "name": "stdout",
     "output_type": "stream",
     "text": [
      "array('i', [1, 2, 3, 4, 5])\n",
      "array('f', [1.5, 2.5, 3.5, 4.5])\n",
      "array('d', [3.14151416171781])\n",
      "array('B', [0, 155, 255])\n"
     ]
    }
   ],
   "source": [
    "# 배열 array.array 예제 1\n",
    "\n",
    "# 일반적인 정수 저장\n",
    "arr = array('i', [1, 2, 3, 4, 5])           # 동일한 타입의 숫자만 다룰때\n",
    "print(arr)\n",
    "\n",
    "# 일반적인 소수(실수) 저장\n",
    "f_arr = array(\"f\", [1.5, 2.5, 3.5, 4.5])        # 부동 소수점 약 7자리 정확도\n",
    "print(f_arr)\n",
    "\n",
    "# 더 정밀한 실수 계산이 필요할 때\n",
    "d_arr = array(\"d\", [3.14151416171781])          # 약 15~17자리 유효 숫자의 정밀도를 가진다.\n",
    "print(d_arr)\n",
    "\n",
    "# 0~255 범위의 바이트 저장\n",
    "b_arr = array(\"B\", [0, 155, 255])\n",
    "print(b_arr)"
   ]
  },
  {
   "cell_type": "markdown",
   "id": "e6ecb17f-61ad-4a27-9a2e-a6ae4b01fc8f",
   "metadata": {},
   "source": [
    "## 2) numpy.array"
   ]
  },
  {
   "cell_type": "markdown",
   "id": "2864cd08-4427-47f5-945b-46101fc16200",
   "metadata": {},
   "source": [
    "#### Numpy의 정의\n",
    "\n",
    "- Numerical Python의 줄임말\n",
    "- 수치"
   ]
  },
  {
   "cell_type": "markdown",
   "id": "73f79a10-9b16-4610-87ae-6f6472c97b39",
   "metadata": {},
   "source": [
    "#### 특징\n",
    "\n",
    "- 다차원 배열 객체인 numpy.array 제공\n",
    "- 내부는 C언어로 구현되어 있어서 빠르다\n",
    "- 반복문 없이 배열 전체에 연산 가능(-> 벡터화 연산)\n",
    "- 선형대수, 통계 난수 생성등 과학 계산 기능 포함\n",
    "\n",
    "```\n",
    "[1, 2, 3, 4] -> 1차원 배열\n",
    "[1, 2, 3, 4\n",
    " 1, 2, 3, 4] -> 2행(가로줄) 4열(세로줄)의 다차원 배열\n",
    "```"
   ]
  },
  {
   "cell_type": "markdown",
   "id": "4b83027f-ec68-4837-90cc-6379b9290bb5",
   "metadata": {},
   "source": [
    "#### 왜 중요한가?\n",
    "\n",
    "- 리스트보다 훨씬 빠르고, 효율적이며, 확장성 있는 수치 처리가 가능하다.\n",
    "- 데이터분석, 머신러닝, 영상처리, 공학 계산등에서 사실상 표준 도구로 사용된다."
   ]
  },
  {
   "cell_type": "code",
   "execution_count": 30,
   "id": "b946a6fa-9b24-4d9e-b4dd-76cc126e7e34",
   "metadata": {},
   "outputs": [],
   "source": [
    "'''\n",
    "[as]\n",
    "\n",
    "- as는 별칭을 지정하는 키워드\n",
    "- 넘파이를 np라는 이름을 불러오겠다\n",
    "\n",
    "[as 왜 사용할까?]\n",
    "\n",
    "1. 코드를 짧고 간결하게 쓰려고\n",
    "2. 관례(대부분의 파이썬 개발자들은 넘파이를 np로 쓴다)\n",
    "'''\n",
    "import numpy as np"
   ]
  },
  {
   "cell_type": "code",
   "execution_count": 32,
   "id": "453947c5-a91a-4bc3-a49d-6de823ebdc18",
   "metadata": {},
   "outputs": [
    {
     "name": "stdout",
     "output_type": "stream",
     "text": [
      "[2 4 6]\n",
      "\n",
      "배열 : array('i', [10, 20, 30])\n",
      "배열 * 2 : array('i', [10, 20, 30, 10, 20, 30])\n"
     ]
    }
   ],
   "source": [
    "# 예제 1. 1차 배열\n",
    "a = np.array([1,2,3])\n",
    "print(a * 2)\n",
    "print()\n",
    "\n",
    "arr = array(\"i\", [10, 20, 30])\n",
    "print(\"배열 :\", arr)\n",
    "print(\"배열 * 2 :\", arr * 2)"
   ]
  },
  {
   "cell_type": "code",
   "execution_count": 34,
   "id": "07b869f3-5f4d-4a86-ae79-a0e66489d60c",
   "metadata": {},
   "outputs": [
    {
     "name": "stdout",
     "output_type": "stream",
     "text": [
      "원본 배열 : \n",
      " [[1 2 3]\n",
      " [4 5 6]]\n",
      "\n",
      "100을 더한 배열 : \n",
      " [[101 102 103]\n",
      " [104 105 106]]\n"
     ]
    }
   ],
   "source": [
    "# 예제 2. 2차 배열\n",
    "arr2d = np.array([[1, 2, 3], [4, 5, 6]])      # 2차원 배열\n",
    "result1 = arr2d + 100       # 모든 요소에 100을 더하기\n",
    "\n",
    "print(\"원본 배열 : \\n\", arr2d)\n",
    "print()\n",
    "print(\"100을 더한 배열 : \\n\", result1)"
   ]
  },
  {
   "cell_type": "markdown",
   "id": "807406ce-d1f5-4907-8685-1c5b38de4681",
   "metadata": {},
   "source": [
    "#### 브로드캐스팅\n",
    "\n",
    "- 1차원 배열을 각 행에 더함\n",
    "    - numpy의 핵심 기능 중 하나로, 서로 다른 크기의 배열 간 연산을 자동으로 맞춰주는 기능이다"
   ]
  },
  {
   "cell_type": "markdown",
   "id": "254f3671-5e4d-46df-b041-75e93579f8ca",
   "metadata": {},
   "source": [
    "#### 브로드캐스팅 예외\n",
    "\n",
    "- a = np.array([[1, 2], [3, 4]])  ---->  2행 2열\n",
    "- b = np.array([1, 2, 3])  ---->  1행 3열\n",
    "- 차원이 안 맞아서 브로드캐스팅 불가능"
   ]
  },
  {
   "cell_type": "code",
   "execution_count": 39,
   "id": "d67cc3a2-32da-45e6-953f-c0a683a29ccc",
   "metadata": {},
   "outputs": [
    {
     "name": "stdout",
     "output_type": "stream",
     "text": [
      "2차원 배열 :\n",
      " [[10 20 30]\n",
      " [40 50 60]]\n",
      "\n",
      "1차원 배열 :\n",
      " array('i', [1, 2, 3])\n",
      "\n",
      "덧셈한 배열 :\n",
      " [[11 22 33]\n",
      " [41 52 63]]\n"
     ]
    }
   ],
   "source": [
    "# 예제 3. 2차 배열\n",
    "arr2d = np.array([[10, 20, 30],[40, 50, 60]])           # 2차 배열\n",
    "arr1d = array(\"i\", [1, 2, 3])         # 1차원 배열\n",
    "ressult = arr2d + arr1d\n",
    "\n",
    "print(\"2차원 배열 :\\n\", arr2d)\n",
    "print()\n",
    "print(\"1차원 배열 :\\n\", arr1d)\n",
    "print()\n",
    "print(\"덧셈한 배열 :\\n\", ressult)"
   ]
  },
  {
   "cell_type": "markdown",
   "id": "439479d0-1a78-46d8-a1c7-76ffccb6ab21",
   "metadata": {},
   "source": [
    "#### Numpy에서 자주 사용하는 통계 함수 정리\n",
    "\n",
    "- **np.sum()**  :  총합 계산\n",
    "- **np.mean()**  :  평균 계산\n",
    "- **np.median()**  :  중앙값 계산\n",
    "- **np.std()**  :  표준 편차 계산\n",
    "- **np.var()**  :  분산 계산\n",
    "- **np.min/max()**  :  최대/최소\n",
    "- **np.argmax/argmin()**  :  최대, 최소값의 인덱스\n",
    "- 문법 : np.원하는 연산 함수(연산할 배열 이름)"
   ]
  },
  {
   "cell_type": "code",
   "execution_count": 51,
   "id": "f959e6fa-00fe-4704-87c5-4567f7f46595",
   "metadata": {},
   "outputs": [
    {
     "name": "stdout",
     "output_type": "stream",
     "text": [
      "합계 : 433\n",
      "평균 : 86.6\n",
      "중앙값 : 88.0\n",
      "표준편차 : 4.882622246293481\n",
      "분산 : 23.84\n",
      "최소 : 78\n",
      "최대 : 92\n",
      "최대 인덱스 : 3\n",
      "최소 인덱스 : 2\n"
     ]
    }
   ],
   "source": [
    "# 예제 1\n",
    "scores = np.array([85, 90, 78, 92, 88])\n",
    "\n",
    "print(\"합계 :\", np.sum(scores))\n",
    "print(\"평균 :\", np.mean(scores))\n",
    "print(\"중앙값 :\", np.median(scores))\n",
    "print(\"표준편차 :\", np.std(scores))\n",
    "print(\"분산 :\", np.var(scores))\n",
    "print(\"최소 :\", np.min(scores))\n",
    "print(\"최대 :\", np.max(scores))\n",
    "print(\"최대 인덱스 :\", np.argmax(scores))\n",
    "print(\"최소 인덱스 :\", np.argmin(scores))"
   ]
  },
  {
   "cell_type": "markdown",
   "id": "750fd1cc-b4ed-4328-98f0-223f8dbe2939",
   "metadata": {},
   "source": [
    "#### 상관 계수\n",
    "\n",
    "- np.corrcoef(arr1, arr2)\n",
    "- 두 배열 간의 상관 관계(얼마나 같이 오르내리는지)를 계산\n",
    "- 상관계수 1은 완벽한 양의 상관관계를 뜻한다.\n",
    "- 반환값 : 2차원 행렬 형태의 상관계수\n",
    "- 값 번위 : -1~1\n",
    "    - 해석) 1 완벽히 같이 움직임, 0 무관, -1 반대로 움직임"
   ]
  },
  {
   "cell_type": "code",
   "execution_count": 55,
   "id": "7c85dc67-c743-40b5-bb83-e3150f5f7793",
   "metadata": {},
   "outputs": [
    {
     "name": "stdout",
     "output_type": "stream",
     "text": [
      "[[1. 1.]\n",
      " [1. 1.]]\n"
     ]
    }
   ],
   "source": [
    "# 상관 계수 예제\n",
    "x = [1, 2, 3, 4, 5]\n",
    "y = [2, 4, 6, 8, 10]\n",
    "\n",
    "corr_m = np.corrcoef(x, y)\n",
    "print(corr_m)"
   ]
  },
  {
   "cell_type": "markdown",
   "id": "5897d529-5b07-435f-8672-5a2004e8f48a",
   "metadata": {},
   "source": [
    "# 자료구조 2. 연결리스트(LinkedList)\n",
    "\n",
    "- 연결 리스트는 데이터를 차례대로 연결해 저장하는 구조이다.\n",
    "- 각 데이터는 단순히 저장되는 것이 아니라, 자기 자신 + 다음 데이터를 가리키는 주소를 함께 갖고 있다.\n",
    "- 포인터 : 메모리 주소를 저장하는 변수"
   ]
  },
  {
   "cell_type": "markdown",
   "id": "6f91aa9b-972b-4d10-b1ec-6aeb4ee1d003",
   "metadata": {},
   "source": [
    "### 연결 리스트의 주요 장점\n",
    "\n",
    "1. 크기 제한 없음(동적 메모리 할당)\n",
    "2. 삽입 | 삭제가 빠르다.\n",
    "3. 메모리 효율적\n",
    "4. 스택, 뮤 등 다양한 자료구조 구현에 유리하다."
   ]
  },
  {
   "cell_type": "markdown",
   "id": "7e7d3d2d-f19c-4675-8827-234c92f84dea",
   "metadata": {},
   "source": [
    "### 언제 사용할까?\n",
    "\n",
    "1. 데이터 양이 자주 바뀌는 경우\n",
    "2. 중간 삽입/삭제가 자주 필요한 경우\n",
    "3. 메모리 공간을 연속적으로 확보하기 힘든 경우"
   ]
  },
  {
   "cell_type": "markdown",
   "id": "4838aa2e-eb6b-4e52-bb62-e2d2d62197c0",
   "metadata": {},
   "source": [
    "### 연결 리스트가 실생활에서 쓰이는 곳\n",
    "\n",
    "1. 웹 브라우저의 \"뒤로가기/앞으로가기\"\n",
    "    - [네이버] -> [구글] -> [다음]\n",
    "3. 음악 재생 플레이 리스트"
   ]
  },
  {
   "cell_type": "markdown",
   "id": "7b64e8ad-9316-4c54-83f9-033b94de1cb1",
   "metadata": {},
   "source": [
    "### 단일 연결 리스트(Single Linked List)\n",
    "\n",
    "- 단일 연결 리스트는 한 방향으로만 연결되어 있는 가장 기본적인 형태의 연결 리스트다.\n",
    "- [data | 주소] -> [data | 주소] -> [data | 주소]\n",
    "- [체리 | 바나나 노드 주소] -> [바나나 | 수박의 노드 주소] -> [수박 | None]"
   ]
  },
  {
   "cell_type": "markdown",
   "id": "c857ee39-188d-40b8-8e81-99ba2ab6d6fa",
   "metadata": {},
   "source": [
    "### Node(노드)란?\n",
    "\n",
    "- 연결 리스트에서 하나의 데이터 단위를 의미한다.\n",
    "- [data | 포인터(다음 노드의 주소)]\n",
    "- data : 저장할 실제 값\n",
    "- 포인터 : 다음 노드의 주소\n",
    "\n",
    "```\n",
    "- 리스트 : [1, 2, 3, 4]\n",
    "- [1 | 2의 주소값] -> [2 | 3의 주소값] -> [3 | 4의 주소값] -> [4 | None]\n",
    "```"
   ]
  },
  {
   "cell_type": "code",
   "execution_count": 8,
   "id": "abed23ee-b29f-41ff-8939-a937a0b56dc7",
   "metadata": {},
   "outputs": [
    {
     "name": "stdout",
     "output_type": "stream",
     "text": [
      "node1의 값 : 10\n",
      "\n",
      "node1이 가리키는 node2의 값 : 20\n"
     ]
    }
   ],
   "source": [
    "# Node 클래스 예제 1\n",
    "# [데이터 | 빈주소]\n",
    "class Node :\n",
    "    def __init__(self, data):\n",
    "        # 노드가 저장하는 데이터\n",
    "        self.data = data\n",
    "        # 다음 노드를 가리키는 포인터\n",
    "        self.next = None\n",
    "\n",
    "# 노드 생성\n",
    "node1 = Node(10)      # 노드만 생성\n",
    "node2 = Node(20)      # 노드만 생성\n",
    "\n",
    "# node1 -> node2를 연결\n",
    "node1.next = node2\n",
    "\n",
    "# 출력\n",
    "print(\"node1의 값 :\", node1.data)\n",
    "print()\n",
    "print(\"node1이 가리키는 node2의 값 :\", node1.next.data)"
   ]
  },
  {
   "cell_type": "code",
   "execution_count": 10,
   "id": "d16d8991-5d68-4189-ad37-3c3620a5a8d5",
   "metadata": {},
   "outputs": [
    {
     "name": "stdout",
     "output_type": "stream",
     "text": [
      "n1의 값 : 100\n",
      "n2의 값 : 200\n",
      "n3의 값 : 300\n",
      "2468753515696\n",
      "2468800576592\n",
      "2468800575920\n"
     ]
    }
   ],
   "source": [
    "# Node 클래스 예제 2\n",
    "class Node :\n",
    "    def __init__(self, data) :\n",
    "        self.data = data\n",
    "        self.next = None\n",
    "\n",
    "n1 = Node(100)\n",
    "n2 = Node(200)\n",
    "n3 = Node(300)\n",
    "\n",
    "n1.next = n2\n",
    "n2.next = n3\n",
    "\n",
    "print(\"n1의 값 :\", n1.data)\n",
    "print(\"n2의 값 :\", n2.data)\n",
    "print(\"n3의 값 :\", n3.data)\n",
    "\n",
    "print(id(n1))\n",
    "print(id(n2))\n",
    "print(id(n3))"
   ]
  },
  {
   "cell_type": "markdown",
   "id": "e3ed9785-5ee2-4600-b494-81049724603a",
   "metadata": {},
   "source": [
    "### 헤드란?\n",
    "\n",
    "```\n",
    "['체리', '바나나', '수박']\n",
    "head -> [체리 | 바나나의 주소] ->\n",
    "\n",
    "- 연결 리스트의 시작점을 가리키는 포인터이다.\n",
    "- 즉, 첫번째 노드를 가리키는 변수\n",
    "\n",
    "-> 우리가 연결리스트를 탐색할 떄는 항상 head부터 출발\n",
    "-> head가 없다면 연결리스트 전체를 알 수 없다.\n",
    "```"
   ]
  },
  {
   "cell_type": "code",
   "execution_count": 14,
   "id": "31873df7-8306-4e20-9a94-e72d9b653fd4",
   "metadata": {},
   "outputs": [
    {
     "name": "stdout",
     "output_type": "stream",
     "text": [
      "체리\n",
      "바나나\n",
      "수박\n"
     ]
    }
   ],
   "source": [
    "# Node 클래스 예제 3\n",
    "class Node :\n",
    "    def __init__(self, data) :\n",
    "        self.data = data\n",
    "        self.next = None\n",
    "\n",
    "f1 = Node(\"체리\")\n",
    "f2 = Node(\"바나나\")\n",
    "f3 = Node(\"수박\")\n",
    "\n",
    "f1.next = f2\n",
    "f2.next = f3\n",
    "\n",
    "# head 설정\n",
    "head = f1\n",
    "\n",
    "# 출력\n",
    "current = head\n",
    "\n",
    "while current : \n",
    "    print(current.data)\n",
    "    current = current.next"
   ]
  },
  {
   "cell_type": "markdown",
   "id": "e1557a36-8a60-4d03-870d-d85b7644b1c2",
   "metadata": {},
   "source": [
    "### LinkedList에서 삽입(insert)이란?\n",
    "\n",
    "- 연결 리스트의 원하는 위치에 새로운 노드를 추가하여 기존 노드들과 포인터로 연결하는 동작을 말한다.\n",
    "- 연결 리스트는 연속된 메모리가 필요 없기 때문에, 중간이든 앞이든 뒤든 어디든지 삽입이 가능하다.\n",
    "\n",
    "```\n",
    "[이전 노드] -> [다음 노드]\n",
    "[이전 노드] -> [새 노드 ] -> [다음노드]\n",
    "```"
   ]
  },
  {
   "cell_type": "code",
   "execution_count": 18,
   "id": "f4165c5e-ccf8-440d-b1eb-0d53fae4997e",
   "metadata": {},
   "outputs": [],
   "source": [
    "# Node 클래스 삽입 예제\n",
    "class Node :\n",
    "    def __init__(self, data) :\n",
    "        self.data = data\n",
    "        self.next = None\n",
    "\n",
    "f1 = Node(\"체리\")\n",
    "f2 = Node(\"바나나\")\n",
    "f3 = Node(\"수박\")\n",
    "\n",
    "f1.next = f2\n",
    "f2.next = f3\n",
    "\n",
    "# head 설정\n",
    "head = f1"
   ]
  },
  {
   "cell_type": "code",
   "execution_count": 20,
   "id": "536ca6c8-118c-4638-8f18-e2918e3f10dd",
   "metadata": {},
   "outputs": [],
   "source": [
    "# 1.1. 맨 앞에 노드 삽입(딸기)\n",
    "# 딸기 체리 바나나 수박\n",
    "new_node = Node(\"딸기\")\n",
    "new_node.next = head        # 기존 리스트의 head를 new_node가 가리킴\n",
    "head = new_node             # head를 new_node로 갱신(renewal)"
   ]
  },
  {
   "cell_type": "code",
   "execution_count": 22,
   "id": "8cb3f1c0-397b-45bd-9299-76bb2aaf99fb",
   "metadata": {},
   "outputs": [],
   "source": [
    "# 1.2. 맨 앞 노드 삽입(블루베리)\n",
    "# 블루베리 딸기 체리 바나나 수박\n",
    "new_node2 = Node(\"블루베리\")\n",
    "new_node2.next = head\n",
    "head = new_node2"
   ]
  },
  {
   "cell_type": "code",
   "execution_count": 24,
   "id": "3c18a736-6777-441c-ac17-3eddaefecfd5",
   "metadata": {},
   "outputs": [],
   "source": [
    "# 2.1. 중간 노드 삽입(오렌지)\n",
    "# 블루베리 딸기 체리 바나나 오렌지 수박\n",
    "new_node3 = Node(\"오렌지\")\n",
    "target = f2                     # target은 바나나 노드\n",
    "new_node3.next = target.next    # 오렌지가 수박을 가리킴\n",
    "                                # 오렌지의 주소 = 수박 주소\n",
    "target.next = new_node3"
   ]
  },
  {
   "cell_type": "code",
   "execution_count": 26,
   "id": "c6670ca0-de5b-453d-b44a-2a3ea9db1a73",
   "metadata": {},
   "outputs": [],
   "source": [
    "# 2.2 중간 노드 삽입(사과)\n",
    "# 블루베리 딸기 사과 체리 바나나 오렌지 수박\n",
    "new_node4 = Node(\"사과\")\n",
    "target = head.next                  # head는 블루베리 -> head.next는 딸기\n",
    "new_node4.next = target.next        # 사과가 체리를 가리킴\n",
    "target.next = new_node4             # 딸기가 사과를 가리킴"
   ]
  },
  {
   "cell_type": "code",
   "execution_count": 28,
   "id": "cbf41429-386d-404a-8d26-43dbdc06ab0f",
   "metadata": {},
   "outputs": [
    {
     "name": "stdout",
     "output_type": "stream",
     "text": [
      "블루베리\n",
      "딸기\n",
      "사과\n",
      "체리\n",
      "바나나\n",
      "오렌지\n",
      "수박\n"
     ]
    }
   ],
   "source": [
    "# 출력\n",
    "current = head\n",
    "\n",
    "while current : \n",
    "    print(current.data)\n",
    "    current = current.next"
   ]
  },
  {
   "cell_type": "markdown",
   "id": "dd8b523d-dda5-4640-86a2-a59f6ce9096a",
   "metadata": {},
   "source": [
    "### 연결리스트(LinkedList)란?\n",
    "\n",
    "- 데이터를 일렬로 저장하지만, 연속된 메모리 공간이 아니다.\n",
    "- 각 데이터(노드)가 다음 데이터의 위치(주소)를 기억하는 방식으로 연결되어 있는 자료구조이다."
   ]
  },
  {
   "cell_type": "markdown",
   "id": "80ec10d5-8b1d-4da2-8e70-bf77f6e782b8",
   "metadata": {},
   "source": [
    "### 연결리스트 시각화\n",
    "\n",
    "```\n",
    "Head -> [데이터 | 다음 노드의 주소] -> [데이터 | 다음 노드의 주소] -> [데이터 | NONE] \n",
    "Head -> [체리] -> [수박] -> [블루베리]\n",
    "```"
   ]
  },
  {
   "cell_type": "markdown",
   "id": "1f3f9358-38b0-4be7-80f0-1bac2ae18776",
   "metadata": {},
   "source": [
    "### 연결리스트 특징\n",
    "\n",
    "- 각 노드는 두가지 정보를 가진다.\n",
    "    - 데이터 : 저장할 데이터\n",
    "    - 주소 : 다음 노드를 가리키는 포인터(주소)\n",
    "- 맨 앞 노드(Head)에서 시작해서 다음 노드를 따라가며 전체를 순회함.\n",
    "- 데이터를 중간에 넣거나 삭제하기가 쉬움.\n",
    "- **연결리스트는 순서를 유지하여, \"자주 추가/삭제가 필요한 상황\"에 유리한 자료구조이다.**"
   ]
  },
  {
   "cell_type": "markdown",
   "id": "5f000429-61ec-4a63-9972-da5c0408db2d",
   "metadata": {},
   "source": [
    "### 리스트 vs 연결리스트의 차이\n",
    "\n",
    "|항목|리스트(배열 기반)|연결리스트|\n",
    "|---|---|---|\n",
    "|저장방식|연속된 메모리에 저장 : arr[0]|노드들이 포인터로 연결된다.|\n",
    "|접근 속도|인덱스로 빠르게 접근|순차적으로 탐색해야함|\n",
    "|삽입/삭제|중간 삽입/삭제 시 느림|중간 삽입/삭제가 빠르다.|\n",
    "|크기|처음부터 크기를 정하거나 자동 증가|노드 추가할 때마다 크기가 유동적임|\n",
    "|구현 난이도|파이썬에서는 매우 쉽다|직접 클래스를 만들어야 한다.|\n",
    "|예시|학생 이름 목록, 상품 리스트 등|브라우저 뒤로가기, 큐, 힙, 그래프등|\n",
    "\n",
    "- 리스트 삽입/삭제 예시\n",
    "    - [1,2,3,4,5,7,8,9,10] 중간에 삭제를 할 경우 한 칸씩 다 앞으로 와야해서 느림"
   ]
  },
  {
   "cell_type": "code",
   "execution_count": 50,
   "id": "7c196b4b-f068-41fd-852e-6f057752b7b7",
   "metadata": {},
   "outputs": [],
   "source": [
    "# 하나의 노드를 나타내는 클래스 정의\n",
    "class Node :\n",
    "    def __init__(self, data) :\n",
    "        self.data = data        # 노드가 담고 있는 데이터\n",
    "        self.next = None        # 다음 노드의 주소를 저장할 변수"
   ]
  },
  {
   "cell_type": "code",
   "execution_count": 52,
   "id": "10b558e8-4b7d-4d13-a31f-c9476bb9d529",
   "metadata": {},
   "outputs": [],
   "source": [
    "# 연결 리스트 전체를 관리할 클래스 정의\n",
    "class LinkedList :\n",
    "    def __init__(self) :\n",
    "        self.head = None        # 연결리스트의 시작점(처음엔 비어있음)\n",
    "\n",
    "    # 리스트에 새 노드를 추가하는 메서드\n",
    "    def append(self, data) :\n",
    "        new_node = Node(data)   # 새 노드 생성\n",
    "\n",
    "        # 리스트가 비어있다면\n",
    "        if self.head is None :\n",
    "            self.head = new_node        # head가 새 노드를 가리키게 함\n",
    "            return\n",
    "        \n",
    "        # 리스트가 이미 있으면 -> 맨 끝까지 가야한다.\n",
    "        current = self.head\n",
    "        while current.next :            # current.next가 None이 아닐 동안 반복\n",
    "            current = current.next      # 다음 노드로 이동\n",
    "        current.next = new_node         # 마지막 노드의 next를 새 노드로 연결\n",
    "                                        # [체리] -> [수박]\n",
    "                                        # 지금 있는 노드가 새 노드한테 이어주는 것\n",
    "    \n",
    "    # 리스트에서 노드를 삭제하는 메서드\n",
    "    def delete(self, data) :\n",
    "        current = self.head         # 현재 노드를 head부터 시작\n",
    "        prev = None                 # 이전 노드는 처음엔 없음\n",
    "\n",
    "        while current :                     # 노드가 있는 동안 계속 반복\n",
    "            if current.data == data :       # 찾는 데이터라면\n",
    "                if prev is None :\n",
    "                    # 첫 번째 노드를 삭제하는 경우\n",
    "                    self.head = current.next\n",
    "                else :\n",
    "                    # 중간 또는 마지막 노드 삭제\n",
    "                    prev.next = current.next\n",
    "                print(f\"`{data}`를 삭제했습니다.\")\n",
    "                return\n",
    "            \n",
    "            # 이전 노드를 현재로 저장하고\n",
    "            prev = current\n",
    "            # 다음 노드로 이동\n",
    "            current = current.next\n",
    "\n",
    "    # 리스트 전체 내용을 출력하는 메서드\n",
    "    def print_all(self) :\n",
    "        current = self.head             # 맨 처음 노드부터 시작\n",
    "\n",
    "        while current :                 # current가 None이 아닐 때까지 반복\n",
    "            print(current.data, end = ' -> ')       # 데이터 출력(줄바꿈 없이)\n",
    "            current = current.next                  # 다음 노드로 이동\n",
    "            \n",
    "        print(\"None\")           # 마지막 표시"
   ]
  },
  {
   "cell_type": "code",
   "execution_count": 54,
   "id": "4187faa6-4a64-4f80-855b-05b8a878dcb6",
   "metadata": {},
   "outputs": [
    {
     "name": "stdout",
     "output_type": "stream",
     "text": [
      "체리 -> 바나나 -> 수박 -> None\n",
      "`체리`를 삭제했습니다.\n",
      "바나나 -> 수박 -> None\n"
     ]
    }
   ],
   "source": [
    "# 빈 연결 리스트 생성\n",
    "li = LinkedList()\n",
    "li.append(\"체리\")\n",
    "li.append(\"바나나\")\n",
    "li.append(\"수박\")\n",
    "li.print_all()\n",
    "\n",
    "li.delete(\"체리\")\n",
    "li.print_all()"
   ]
  },
  {
   "cell_type": "markdown",
   "id": "fc9224ef-0e05-47b7-8ae3-f307223595f9",
   "metadata": {},
   "source": [
    "### 연결리스트 삭제 과정 ('라면'을 삭제하는 과정)\n",
    "\n",
    "1. 처음부터 노드를 하나씩 살펴보기\n",
    "\n",
    "    ```\n",
    "    head -> [] -> [] ->\n",
    "    current = self.head # 현재 노드를 head 부터 시작\n",
    "    previous = None # 이전 노드는 처음엔 없음\n",
    "    ```"
   ]
  },
  {
   "cell_type": "markdown",
   "id": "ad42a22e-5ee1-4096-a922-9f6ddde1c743",
   "metadata": {},
   "source": [
    "2. current의 menu가 '라면'인지 확인\n",
    "\n",
    "    ```\n",
    "    previous = current\n",
    "    current = current.next      # 다음 노드로 이동\n",
    "    ```"
   ]
  },
  {
   "cell_type": "markdown",
   "id": "40400c37-c837-4a60-9feb-0fe03626cc5f",
   "metadata": {},
   "source": [
    "3. current가 '라면'을 찾으면\n",
    "    - 다음 노드로 이동"
   ]
  },
  {
   "cell_type": "markdown",
   "id": "7f246401-3b95-4c51-bdc2-ac8c6891b8ff",
   "metadata": {},
   "source": [
    "4. 이전 노드의 next 를 현재 노드의 다음 노드로 연결\n",
    "\n",
    "    ```\n",
    "    [김밥 | 라면의 주소] -> [라면 | 샐러드의 주소] -> [샐러드 | 돈까스 주소]\n",
    "    [김밥 | 샐러드의 주소] -> [샐러드 | 돈까스주소]\n",
    "    previous.next = current.next\n",
    "    ```"
   ]
  },
  {
   "cell_type": "code",
   "execution_count": 66,
   "id": "9ea00594-9b9d-4bfe-9176-06be6d4d1519",
   "metadata": {},
   "outputs": [],
   "source": [
    "class Menu :\n",
    "    def __init__(self, menu) :\n",
    "        self.menu = menu\n",
    "        self.next = None"
   ]
  },
  {
   "cell_type": "code",
   "execution_count": 68,
   "id": "2e8427cd-5599-46f3-a806-b80db913ced5",
   "metadata": {},
   "outputs": [],
   "source": [
    "class LunchList :\n",
    "    def __init__(self) :\n",
    "        self.head = None\n",
    "    \n",
    "    def add_menu(self, menu) :\n",
    "        new_menu = Menu(menu)\n",
    "        \n",
    "        if self.head is None :\n",
    "            self.head = new_menu\n",
    "            return \n",
    "        \n",
    "        current = self.head\n",
    "\n",
    "        while current.next :\n",
    "            current = current.next\n",
    "\n",
    "        current.next = new_menu\n",
    "\n",
    "    def delete_menu(self, menu) :\n",
    "        current = self.head\n",
    "        prev = None\n",
    "\n",
    "        while current :\n",
    "            if current.menu == menu :\n",
    "                if prev is None :\n",
    "                    self.head = current.next\n",
    "                else :\n",
    "                    prev.next = current.next\n",
    "                print(f\"`{menu}`를 삭제했습니다.\")\n",
    "                return\n",
    "        \n",
    "        prev = current\n",
    "        current = current.next\n",
    "\n",
    "    def print_menu(self) :\n",
    "        current = self.head\n",
    "        \n",
    "        if current : \n",
    "            print(\"오늘 먹은 점심 메뉴 :\")\n",
    "\n",
    "            while current :\n",
    "                print(current.menu)\n",
    "                current = current.next\n",
    "            print(\"끝.\")"
   ]
  },
  {
   "cell_type": "code",
   "execution_count": 70,
   "id": "3b06b08d-20c4-46ec-afb6-4b41f2331981",
   "metadata": {},
   "outputs": [
    {
     "name": "stdout",
     "output_type": "stream",
     "text": [
      "오늘 먹은 점심 메뉴 :\n",
      "김밥\n",
      "라면\n",
      "샐러드\n",
      "돈까스\n",
      "끝.\n"
     ]
    }
   ],
   "source": [
    "lunch_menu = LunchList()\n",
    "lunch_menu.add_menu(\"김밥\")\n",
    "lunch_menu.add_menu(\"라면\")\n",
    "lunch_menu.add_menu(\"샐러드\")\n",
    "lunch_menu.add_menu(\"돈까스\")\n",
    "lunch_menu.print_menu()"
   ]
  },
  {
   "cell_type": "markdown",
   "id": "7c9376d8-8dd3-4c06-a872-d13423eb9607",
   "metadata": {},
   "source": [
    "# 자료구조 3. 스택(Stack)"
   ]
  },
  {
   "cell_type": "markdown",
   "id": "db218690-5a17-4ad2-a5be-1a7654aebc4c",
   "metadata": {},
   "source": [
    "### 스택(Stack)이란?\n",
    "\n",
    "- LIFO 구조"
   ]
  },
  {
   "cell_type": "markdown",
   "id": "57dcdd87-c9e0-4c3a-b72d-5e179dcaa30c",
   "metadata": {},
   "source": [
    "### 스택의 정의\n",
    "\n",
    "- 데이터를 쌓아 올리는 형태의 선형 자료구조(Linear Data Structure)로, 마지막에 넣은 데이터가 가장 먼저 나오는 후입선출(LIFO, Last In First Out) 구조이다."
   ]
  },
  {
   "cell_type": "markdown",
   "id": "e8606649-a458-4124-a6bc-36e8dfee6fb4",
   "metadata": {},
   "source": [
    "### 스택의 동작 예시\n",
    "\n",
    "- 예시 : 책을 쌓는 행위\n",
    "- 삽입 순서 : A -> B -> C\n",
    "- 꺼내는 순서 : C -> B -> A (가장 마지막에 넣은 것이 가장 먼저 나오는 구조이다.)"
   ]
  },
  {
   "cell_type": "markdown",
   "id": "f8fe4f39-dd1b-4cb5-abb1-7e2198d736c1",
   "metadata": {},
   "source": [
    "### 핵심 구성\n",
    "\n",
    "- 삽입(push) : 데이터를 스택의 맨 위(top)에 넣는 작업\n",
    "    - 삽입(append) : 파이썬에서는 push라는 함수가 없기에 append를 사용해야 한다.\n",
    "- 삭제(pop) : 스택의 맨 위에서 데이터를 꺼내는 작업\n",
    "- 조회(peek) : 삭제 없이 스택의 가장 위에 있는 데이터를 확인\n",
    "- 비어있는지 확인(isEmpty) : 스택에 데이터가 있는지 확인"
   ]
  },
  {
   "cell_type": "markdown",
   "id": "1de7944d-4544-46f6-a220-c691c94d6010",
   "metadata": {},
   "source": [
    "### 스택을 사용하는 이유\n",
    "\n",
    "1. 실행 취소 기능 구현\n",
    "2. 웹 브라우저의 뒤로가기\n",
    "3. 함수 호출 기록(콜 스택)\n",
    "4. 괄호 검사기, 수식 계산기 등에서의 구조적 데이터 처리"
   ]
  },
  {
   "cell_type": "markdown",
   "id": "19c81c5a-aa39-4485-a4a2-5cf4eb0e40da",
   "metadata": {},
   "source": [
    "## 스택 예제 1."
   ]
  },
  {
   "cell_type": "code",
   "execution_count": 79,
   "id": "12098b18-a052-40d9-b3ba-29cd6317c8c5",
   "metadata": {},
   "outputs": [],
   "source": [
    "stack = []"
   ]
  },
  {
   "cell_type": "code",
   "execution_count": 81,
   "id": "2ca42192-fa2f-42ed-a173-2e23210cb365",
   "metadata": {},
   "outputs": [
    {
     "name": "stdout",
     "output_type": "stream",
     "text": [
      "현재 스택 : ['A', 'B', 'C']\n"
     ]
    }
   ],
   "source": [
    "# push\n",
    "stack.append(\"A\")\n",
    "stack.append(\"B\")\n",
    "stack.append(\"C\")\n",
    "\n",
    "# 현재 스택 상태 출력\n",
    "print(\"현재 스택 :\", stack)"
   ]
  },
  {
   "cell_type": "code",
   "execution_count": 87,
   "id": "bd661055-56ea-4ab7-9a49-57169d178cac",
   "metadata": {},
   "outputs": [
    {
     "name": "stdout",
     "output_type": "stream",
     "text": [
      "스택 거꾸로 출력 :\n",
      "C\n",
      "B\n",
      "A\n"
     ]
    }
   ],
   "source": [
    "print(\"스택 거꾸로 출력 :\")\n",
    "for item in reversed(stack) :       # 거꾸로 출력\n",
    "    print(item)"
   ]
  },
  {
   "cell_type": "code",
   "execution_count": 89,
   "id": "32313c74-6c0f-4fd3-ab1b-1c7d0233c3af",
   "metadata": {},
   "outputs": [
    {
     "name": "stdout",
     "output_type": "stream",
     "text": [
      "pop : C\n"
     ]
    }
   ],
   "source": [
    "# pop\n",
    "print(\"pop :\", stack.pop())"
   ]
  },
  {
   "cell_type": "code",
   "execution_count": 91,
   "id": "72450b2a-300d-41d2-8454-f1c81ac652ac",
   "metadata": {},
   "outputs": [
    {
     "name": "stdout",
     "output_type": "stream",
     "text": [
      "peek : B\n"
     ]
    }
   ],
   "source": [
    "# 조회\n",
    "print(\"peek :\", stack[-1])      # stack[-1] : 가장 마지막에 추가된 값을 의미한다."
   ]
  },
  {
   "cell_type": "code",
   "execution_count": 93,
   "id": "30ea93d9-1409-4648-8081-0b6b9bfea3ef",
   "metadata": {},
   "outputs": [
    {
     "name": "stdout",
     "output_type": "stream",
     "text": [
      "스택이 비었나요?  False\n"
     ]
    }
   ],
   "source": [
    "# 스택이 비어있는지 확인하기\n",
    "print(\"스택이 비었나요? \", len(stack) == 0)"
   ]
  },
  {
   "cell_type": "markdown",
   "id": "372603fa-2cbb-448c-9cfb-9b4773c570c2",
   "metadata": {},
   "source": [
    "## 스택 예제 2."
   ]
  },
  {
   "cell_type": "code",
   "execution_count": 96,
   "id": "5c4e7048-2ba5-4d7d-8622-c5b7802caf15",
   "metadata": {},
   "outputs": [],
   "source": [
    "books = []"
   ]
  },
  {
   "cell_type": "code",
   "execution_count": 98,
   "id": "277ad890-3e21-4755-ba31-2a333cd216d5",
   "metadata": {},
   "outputs": [],
   "source": [
    "books.append(\"동화책\")\n",
    "books.append(\"수학 문제집\")\n",
    "books.append(\"영어단어장\")"
   ]
  },
  {
   "cell_type": "code",
   "execution_count": 100,
   "id": "949074b3-d763-40c2-8203-5aa885004fd9",
   "metadata": {},
   "outputs": [
    {
     "name": "stdout",
     "output_type": "stream",
     "text": [
      ">> 현재 책 더미 출력 :\n",
      "동화책\n",
      "수학 문제집\n",
      "영어단어장\n"
     ]
    }
   ],
   "source": [
    "print(\">> 현재 책 더미 출력 :\")\n",
    "\n",
    "for book in books :\n",
    "    print(book)"
   ]
  },
  {
   "cell_type": "code",
   "execution_count": 102,
   "id": "282de963-935e-4a9f-a9db-c05303bae0b5",
   "metadata": {},
   "outputs": [
    {
     "name": "stdout",
     "output_type": "stream",
     "text": [
      "1. 영어단어장을 꺼냈습니다.\n",
      "2. 수학 문제집을 꺼냈습니다.\n"
     ]
    }
   ],
   "source": [
    "print(f\"1. {books.pop()}을 꺼냈습니다.\")\n",
    "print(f\"2. {books.pop()}을 꺼냈습니다.\")"
   ]
  },
  {
   "cell_type": "code",
   "execution_count": 104,
   "id": "18adff31-d2a9-49c9-accf-ba97bfb546f1",
   "metadata": {},
   "outputs": [
    {
     "name": "stdout",
     "output_type": "stream",
     "text": [
      "맨 위 책 확인 : 동화책\n"
     ]
    }
   ],
   "source": [
    "if len(books) > 0 :\n",
    "    print(\"맨 위 책 확인 :\", books[-1])\n",
    "else :\n",
    "    print(\"책 더미가 비어있습니다.\")"
   ]
  },
  {
   "cell_type": "markdown",
   "id": "e84ce5cd-5cb5-4ae1-984f-23f3fdf8d37c",
   "metadata": {},
   "source": [
    "## 스택 예제 3. \n",
    "\n",
    "- 스택을 이용해서 웹 브라우저의 \"뒤로가기\" 버튼 기능을 스택으로 구현해보는 예제 만들기\n",
    "- \"네이버\" => \"유튜브\" => \"위키백과\"\n",
    "- 뒤로가기를 누르면 -> 유튜브 ->네이버"
   ]
  },
  {
   "cell_type": "code",
   "execution_count": 107,
   "id": "0e51bd64-288a-4e6d-9c05-376bc69f3ec2",
   "metadata": {},
   "outputs": [],
   "source": [
    "# 방문한 페이지를 저장하는 스택\n",
    "history = []"
   ]
  },
  {
   "cell_type": "code",
   "execution_count": 109,
   "id": "66c59702-cb00-482a-af64-9a9515ab23e3",
   "metadata": {},
   "outputs": [],
   "source": [
    "# 페이지 방문 (push, append)\n",
    "def visit(page) :\n",
    "    print(f\"{page} 페이지에 방문했습니다.\")\n",
    "    history.append(page)\n",
    "    for page in reversed(history) :\n",
    "        print(\"-\", page)"
   ]
  },
  {
   "cell_type": "code",
   "execution_count": 111,
   "id": "8c2024a0-6b71-4330-b0d8-01e738c11286",
   "metadata": {},
   "outputs": [],
   "source": [
    "# 뒤로가기 (pop)\n",
    "def go_back() :\n",
    "    if len(history) == 0 :      # 방문한 기록이 아무것도 없으면, 즉  history가 비어있다면\n",
    "        print(\"더 이상 뒤로 갈 수 없습니다.\")\n",
    "    \n",
    "    else :\n",
    "        # 가장 마지막에 방문한 페이지를 꺼내기\n",
    "        last_page = history.pop()\n",
    "        print(f\"`{last_page}` 페이지에서 뒤로 갑니다.\")"
   ]
  },
  {
   "cell_type": "code",
   "execution_count": 113,
   "id": "38b33d4c-c414-41f1-957d-c7dae31942a0",
   "metadata": {},
   "outputs": [],
   "source": [
    "# 현재 페이지 확인 함수 (peek의 역할)\n",
    "def current_page() :\n",
    "    # 방문 기록이 없다면\n",
    "    if len(history) == 0 :\n",
    "        return \"\\n현재 페이지 없음\\n\"\n",
    "    \n",
    "    # 가장 마지막 페이지를 보여주기\n",
    "    return f\"\\n현재 페이지 : {history[-1]}\\n\""
   ]
  },
  {
   "cell_type": "code",
   "execution_count": 115,
   "id": "f919f6f0-8ced-415c-ae2c-0e192fd94aab",
   "metadata": {},
   "outputs": [],
   "source": [
    "# 방문한 전체 페이지를 출력하는 함수\n",
    "def print_history() :\n",
    "    if not history:\n",
    "        print(\"\\n방문한 페이지가 없습니다.\\n\")\n",
    "        return\n",
    "    \n",
    "    print(\"\\n방문한 페이지 목록(최신순)\")\n",
    "    for page in reversed(history) :\n",
    "        print(\"-\", page)\n",
    "    print(\"----------------\")\n",
    "    print(\"처음 페이지\")"
   ]
  },
  {
   "cell_type": "code",
   "execution_count": 117,
   "id": "2339d23f-1914-4f58-bf21-59696d35e2fe",
   "metadata": {},
   "outputs": [
    {
     "name": "stdout",
     "output_type": "stream",
     "text": [
      "네이버 페이지에 방문했습니다.\n",
      "- 네이버\n",
      "유튜브 페이지에 방문했습니다.\n",
      "- 유튜브\n",
      "- 네이버\n",
      "위키백과 페이지에 방문했습니다.\n",
      "- 위키백과\n",
      "- 유튜브\n",
      "- 네이버\n"
     ]
    }
   ],
   "source": [
    "# 테스트 실행 -> 페이지 방문\n",
    "visit(\"네이버\")\n",
    "visit(\"유튜브\")\n",
    "visit(\"위키백과\")"
   ]
  },
  {
   "cell_type": "code",
   "execution_count": 119,
   "id": "c79a2401-914a-470c-aec2-1e36c241abe2",
   "metadata": {},
   "outputs": [
    {
     "name": "stdout",
     "output_type": "stream",
     "text": [
      "\n",
      "현재 페이지 : 위키백과\n",
      "\n"
     ]
    }
   ],
   "source": [
    "# 현재 보고 있는 페이지 출력\n",
    "print(current_page())"
   ]
  },
  {
   "cell_type": "code",
   "execution_count": 121,
   "id": "fa657799-857e-410e-b730-167f86a523c5",
   "metadata": {},
   "outputs": [
    {
     "name": "stdout",
     "output_type": "stream",
     "text": [
      "`위키백과` 페이지에서 뒤로 갑니다.\n",
      "`유튜브` 페이지에서 뒤로 갑니다.\n",
      "`네이버` 페이지에서 뒤로 갑니다.\n",
      "\n",
      "방문한 페이지가 없습니다.\n",
      "\n"
     ]
    }
   ],
   "source": [
    "# 뒤로가기\n",
    "go_back()\n",
    "go_back()\n",
    "go_back()\n",
    "print_history()"
   ]
  },
  {
   "cell_type": "markdown",
   "id": "4d8700f9-3cd9-48ec-bd23-ea3bd6e2766a",
   "metadata": {},
   "source": [
    "## 스택 예제 4.스택을 활용한 계산기 입력 기록 만들기\n",
    "\n",
    "- 스택 구조를 활용하여 사용자가 계산기를 사용하면서 입력한 숫자와 연산자를 기록하고, 되돌리기 기능을 통해 마지막 입력을 삭제할 수 있는 프로그램."
   ]
  },
  {
   "cell_type": "markdown",
   "id": "9e836295-5c3c-4077-bc03-573815301d55",
   "metadata": {},
   "source": [
    "#### 프로그램 구성 설명\n",
    "\n",
    "* 입력 기록 저장\n",
    "1. 사용자가 입력한 숫자나, 기호(+, -, /, *)는 input_stack이라는 리스트에 저장된다.\n",
    "2. 리스트는 스택처럼 동작하며, append로 추가하고, pop으로 삭제한다."
   ]
  },
  {
   "cell_type": "markdown",
   "id": "8b91b9bb-9534-49e1-8b3d-51a9c7a56a67",
   "metadata": {},
   "source": [
    "#### 명령 종류\n",
    "\n",
    "- \"숫자 또는 연산자\" 입력 값을 스택에 저장\n",
    "- undo : 최근 입력한 내용을 삭제\n",
    "- print : 현재까지 입력한 내용을 모두 출력\n",
    "- exit : 프로그램 종료"
   ]
  },
  {
   "cell_type": "code",
   "execution_count": 127,
   "id": "cf4a4407-e167-4d99-8750-d302a2ce5d71",
   "metadata": {},
   "outputs": [],
   "source": [
    "input_stack = []"
   ]
  },
  {
   "cell_type": "code",
   "execution_count": 129,
   "id": "8adf8b47-f1dd-4427-be3f-f34d87fb15b0",
   "metadata": {},
   "outputs": [],
   "source": [
    "# 입력(push)\n",
    "def push(value) :\n",
    "    print(f\"입력 : {value}\")\n",
    "    input_stack.append(value)"
   ]
  },
  {
   "cell_type": "code",
   "execution_count": 131,
   "id": "5d0e2094-ba07-46b2-a258-c629eb4bb86b",
   "metadata": {},
   "outputs": [],
   "source": [
    "# 최근 입력 삭제(pop)\n",
    "def undo() :\n",
    "    if len(input_stack) == 0 :\n",
    "        print(\"되돌릴 입력값이 없습니다.\")\n",
    "    else :\n",
    "        removed = input_stack.pop()\n",
    "        print(f\"되돌리기 : {removed} 삭제됨\")"
   ]
  },
  {
   "cell_type": "code",
   "execution_count": 133,
   "id": "03c4a0bd-9ba5-42fb-91d5-34706e02f8ba",
   "metadata": {},
   "outputs": [],
   "source": [
    "# 현재 입력 상태 출력\n",
    "def print_state() :\n",
    "    print(\"현재 입력 상태 :\")\n",
    "\n",
    "    if len(input_stack) == 0 :\n",
    "        print(\"입력 없음\")\n",
    "    else :\n",
    "        # 여러 문자열을 하나로 붙여주는 함수이다.\n",
    "        # \" \" 공백을 넣는다는 의미이다.\n",
    "        print(\" \".join(input_stack))"
   ]
  },
  {
   "cell_type": "code",
   "execution_count": 135,
   "id": "c6db412a-9d6d-44a0-8909-c04074feebe5",
   "metadata": {},
   "outputs": [
    {
     "name": "stdin",
     "output_type": "stream",
     "text": [
      "입력할 값(숫자, +, -, *, /) 또는 undo, print, exit 입력 :  5\n"
     ]
    },
    {
     "name": "stdout",
     "output_type": "stream",
     "text": [
      "입력 : 5\n"
     ]
    },
    {
     "name": "stdin",
     "output_type": "stream",
     "text": [
      "입력할 값(숫자, +, -, *, /) 또는 undo, print, exit 입력 :  +\n"
     ]
    },
    {
     "name": "stdout",
     "output_type": "stream",
     "text": [
      "입력 : +\n"
     ]
    },
    {
     "name": "stdin",
     "output_type": "stream",
     "text": [
      "입력할 값(숫자, +, -, *, /) 또는 undo, print, exit 입력 :  3\n"
     ]
    },
    {
     "name": "stdout",
     "output_type": "stream",
     "text": [
      "입력 : 3\n"
     ]
    },
    {
     "name": "stdin",
     "output_type": "stream",
     "text": [
      "입력할 값(숫자, +, -, *, /) 또는 undo, print, exit 입력 :  *\n"
     ]
    },
    {
     "name": "stdout",
     "output_type": "stream",
     "text": [
      "입력 : *\n"
     ]
    },
    {
     "name": "stdin",
     "output_type": "stream",
     "text": [
      "입력할 값(숫자, +, -, *, /) 또는 undo, print, exit 입력 :  2\n"
     ]
    },
    {
     "name": "stdout",
     "output_type": "stream",
     "text": [
      "입력 : 2\n"
     ]
    },
    {
     "name": "stdin",
     "output_type": "stream",
     "text": [
      "입력할 값(숫자, +, -, *, /) 또는 undo, print, exit 입력 :  undo\n"
     ]
    },
    {
     "name": "stdout",
     "output_type": "stream",
     "text": [
      "되돌리기 : 2 삭제됨\n"
     ]
    },
    {
     "name": "stdin",
     "output_type": "stream",
     "text": [
      "입력할 값(숫자, +, -, *, /) 또는 undo, print, exit 입력 :  10\n"
     ]
    },
    {
     "name": "stdout",
     "output_type": "stream",
     "text": [
      "입력 : 10\n"
     ]
    },
    {
     "name": "stdin",
     "output_type": "stream",
     "text": [
      "입력할 값(숫자, +, -, *, /) 또는 undo, print, exit 입력 :  print\n"
     ]
    },
    {
     "name": "stdout",
     "output_type": "stream",
     "text": [
      "현재 입력 상태 :\n",
      "5 + 3 * 10\n"
     ]
    },
    {
     "name": "stdin",
     "output_type": "stream",
     "text": [
      "입력할 값(숫자, +, -, *, /) 또는 undo, print, exit 입력 :  exit\n"
     ]
    }
   ],
   "source": [
    "# 사용자 입력 루프\n",
    "while True :\n",
    "    command = input(\"입력할 값(숫자, +, -, *, /) 또는 undo, print, exit 입력 : \")\n",
    "    \n",
    "    if command == \"exit\" :\n",
    "        break\n",
    "    elif command == \"undo\" :\n",
    "        undo()\n",
    "    elif command == \"print\" :\n",
    "        print_state()\n",
    "    else :\n",
    "        push(command)"
   ]
  },
  {
   "cell_type": "code",
   "execution_count": 137,
   "id": "3144072c-3307-4176-a113-b838ab9a7a5b",
   "metadata": {},
   "outputs": [
    {
     "name": "stdin",
     "output_type": "stream",
     "text": [
      "입력할 값 :  5\n"
     ]
    },
    {
     "name": "stdout",
     "output_type": "stream",
     "text": [
      "입력 : 5\n",
      "input_stack : ['5']\n",
      "\n"
     ]
    },
    {
     "name": "stdin",
     "output_type": "stream",
     "text": [
      "입력할 값 :  +\n"
     ]
    },
    {
     "name": "stdout",
     "output_type": "stream",
     "text": [
      "입력 : +\n",
      "input_stack : ['5', '+']\n",
      "\n"
     ]
    },
    {
     "name": "stdin",
     "output_type": "stream",
     "text": [
      "입력할 값 :  3\n"
     ]
    },
    {
     "name": "stdout",
     "output_type": "stream",
     "text": [
      "입력 : 3\n",
      "input_stack : ['5', '+', '3']\n",
      "\n"
     ]
    },
    {
     "name": "stdin",
     "output_type": "stream",
     "text": [
      "입력할 값 :  *\n"
     ]
    },
    {
     "name": "stdout",
     "output_type": "stream",
     "text": [
      "입력 : *\n",
      "input_stack : ['5', '+', '3', '*']\n",
      "\n"
     ]
    },
    {
     "name": "stdin",
     "output_type": "stream",
     "text": [
      "입력할 값 :  2\n"
     ]
    },
    {
     "name": "stdout",
     "output_type": "stream",
     "text": [
      "입력 : 2\n",
      "input_stack : ['5', '+', '3', '*', '2']\n",
      "\n"
     ]
    },
    {
     "name": "stdin",
     "output_type": "stream",
     "text": [
      "입력할 값 :  undo\n"
     ]
    },
    {
     "name": "stdout",
     "output_type": "stream",
     "text": [
      "되돌리기 : 2 삭제됨\n",
      "input_stack : ['5', '+', '3', '*']\n",
      "\n"
     ]
    },
    {
     "name": "stdin",
     "output_type": "stream",
     "text": [
      "입력할 값 :  10\n"
     ]
    },
    {
     "name": "stdout",
     "output_type": "stream",
     "text": [
      "입력 : 10\n",
      "input_stack : ['5', '+', '3', '*', '10']\n",
      "\n"
     ]
    },
    {
     "name": "stdin",
     "output_type": "stream",
     "text": [
      "입력할 값 :  print\n"
     ]
    },
    {
     "name": "stdout",
     "output_type": "stream",
     "text": [
      "현재 입력 상태 :\n",
      "5 + 3 * 10 "
     ]
    }
   ],
   "source": [
    "# [나의 풀이]\n",
    "input_stack = []\n",
    "\n",
    "while True : \n",
    "    user = input(\"입력할 값 : \")\n",
    "    \n",
    "    if user == \"print\" :\n",
    "        print(\"현재 입력 상태 :\")\n",
    "        for item in input_stack :\n",
    "            print(item, end=\" \")\n",
    "        break\n",
    "\n",
    "    elif user == \"undo\" :\n",
    "        last_item = input_stack.pop()\n",
    "        print(f\"되돌리기 : {last_item} 삭제됨\")\n",
    "        print(\"input_stack :\", input_stack)\n",
    "        print()\n",
    "\n",
    "    else :\n",
    "        print(f\"입력 : {user}\")\n",
    "        input_stack.append(user)\n",
    "        print(\"input_stack :\", input_stack)\n",
    "        print()"
   ]
  },
  {
   "cell_type": "markdown",
   "id": "35b7000b-6ec7-4d17-862a-626aafa327c5",
   "metadata": {},
   "source": [
    "# 자료구조 4. 큐(Queue)\n",
    "\n",
    "- 데이터를 순서대로 저장하고 꺼내는 선형자료구조로 먼저 들어간 데이터가 먼저 나오는 선입선출(FIFO, First In First Out) 구조이다.\n",
    "- [Front] => 1 -> 2 -> 3 \n",
    "    - 1이 가장 먼저 들어와서 가장 먼저 나간다.\n",
    "- 선입선출 : 데이터를 순서대로 저장하고 꺼내는 선형 자료구조"
   ]
  },
  {
   "cell_type": "markdown",
   "id": "a05f80b5-1e28-4122-bf83-c9156e5f77cb",
   "metadata": {},
   "source": [
    "### 실생활 예시\n",
    "\n",
    "- 버스 정류장 줄서기 : 먼저 선 사람부터 탑승\n",
    "- 프린터 작업 대기열 : 먼저 보낸 문서부터 출력\n",
    "- https://velog.io/@sbinha/%EC%8A%A4%ED%83%9D-%ED%81%90"
   ]
  },
  {
   "cell_type": "markdown",
   "id": "485a555e-aa72-493c-b86a-6244d8e484e0",
   "metadata": {},
   "source": [
    "### 왜 큐가 필요할까?\n",
    "\n",
    "1. 순차적인 작업 처리가 필요한 곳에 적합\n",
    "2. 실시간 처리 시스템(프린터, 요청 처리등에 사용)\n",
    "3. BFS(너비 우선 탐색)와 같은 알고리즘에서 핵심 자료구조로 활용"
   ]
  },
  {
   "cell_type": "markdown",
   "id": "65b102bd-17c9-4971-9a4c-17f3928b9d77",
   "metadata": {},
   "source": [
    "### 핵심 개념(필요한 함수)\n",
    "\n",
    "- Enqueue(인큐) : 데이터를 뒤쪽에서 넣는 작업\n",
    "- Dequeue(디큐) : 데이터를 앞쪽에서 꺼내는 작업\n",
    "- Peek : 삭제 없이 가장 앞의 데이터를 확인\n",
    "- isEmpty : 큐가 비어있는지 확인"
   ]
  },
  {
   "cell_type": "markdown",
   "id": "5248455e-9bc2-4cee-8436-bc112c7623ae",
   "metadata": {},
   "source": [
    "## (1) 리스트로 큐"
   ]
  },
  {
   "cell_type": "code",
   "execution_count": 146,
   "id": "1aea9e52-fc66-418b-a41c-9f2e1ccd4efc",
   "metadata": {},
   "outputs": [],
   "source": [
    "# 리스트로 큐 구현 (비효율)\n",
    "#   : 리스트는 배열처럼 생겨서, 앞에서 꺼내면 뒤에 있는 것을 전부 앞으로 밀어야 한다.\n",
    "queue = []"
   ]
  },
  {
   "cell_type": "code",
   "execution_count": 148,
   "id": "94ab37b1-7651-4b50-af41-5e09b43c00ee",
   "metadata": {},
   "outputs": [
    {
     "name": "stdout",
     "output_type": "stream",
     "text": [
      "현재 큐 : ['고객1', '고객2', '고객3']\n"
     ]
    }
   ],
   "source": [
    "# enqueue\n",
    "queue.append(\"고객1\")\n",
    "queue.append(\"고객2\")\n",
    "queue.append(\"고객3\")\n",
    "print(\"현재 큐 :\", queue)"
   ]
  },
  {
   "cell_type": "code",
   "execution_count": 151,
   "id": "f0189c3f-bc5c-4d53-aa25-f261f6bc7a12",
   "metadata": {},
   "outputs": [
    {
     "name": "stdout",
     "output_type": "stream",
     "text": [
      "처리 중 : 고객1\n",
      "처리 중 : 고객2\n"
     ]
    }
   ],
   "source": [
    "# dequeue : 값을 꺼내는 작업\n",
    "print(\"처리 중 :\", queue.pop(0))\n",
    "print(\"처리 중 :\", queue.pop(0))"
   ]
  },
  {
   "cell_type": "markdown",
   "id": "a21310b2-662a-4563-b81c-596f44983033",
   "metadata": {},
   "source": [
    "## (2) 모듈 사용 큐"
   ]
  },
  {
   "cell_type": "code",
   "execution_count": 154,
   "id": "bcecde8a-fcfe-40e8-b761-38cac8648b10",
   "metadata": {},
   "outputs": [],
   "source": [
    "# 효율적인 큐 구현\n",
    "\n",
    "# deque 모듈 가져오기(큐 기능 사용하기 위해서)\n",
    "from collections import deque"
   ]
  },
  {
   "cell_type": "code",
   "execution_count": 156,
   "id": "fcd9796d-4553-4993-8d1a-3e0c16c46a8d",
   "metadata": {},
   "outputs": [],
   "source": [
    "# 비어있는 큐 생성\n",
    "queue = deque()"
   ]
  },
  {
   "cell_type": "code",
   "execution_count": 158,
   "id": "bbc0357b-9827-4234-a5a0-6db762a75535",
   "metadata": {},
   "outputs": [
    {
     "name": "stdout",
     "output_type": "stream",
     "text": [
      "현재 큐 : deque(['사과', '바나나', '체리'])\n"
     ]
    }
   ],
   "source": [
    "# 큐에 넣기 (enqueue)\n",
    "queue.append(\"사과\")\n",
    "queue.append(\"바나나\")\n",
    "queue.append(\"체리\")\n",
    "print(\"현재 큐 :\", queue)"
   ]
  },
  {
   "cell_type": "markdown",
   "id": "2f560962-e01e-4c38-9b2e-0337ec7dae7f",
   "metadata": {},
   "source": [
    "### 큐 예제 1. 프린터 출력 대기열 시뮬레이션"
   ]
  },
  {
   "cell_type": "code",
   "execution_count": 168,
   "id": "a036690c-487a-49e1-84a3-4e5b7510b8bc",
   "metadata": {},
   "outputs": [],
   "source": [
    "from collections import deque"
   ]
  },
  {
   "cell_type": "code",
   "execution_count": 170,
   "id": "e454e283-be0e-4061-a24a-b750e6419ce5",
   "metadata": {},
   "outputs": [],
   "source": [
    "# 프린터 큐를 나타내는 클래스 정의\n",
    "class PrinterQueue :\n",
    "    # 생성자\n",
    "    def __init__(self) :\n",
    "        # 출력할 작업들을 저장할 큐\n",
    "        self.jobs = deque()\n",
    "\n",
    "    # 작업을 큐에 추가하는 메서드\n",
    "    def add_job(self, job) :\n",
    "        self.jobs.append(job)       # 큐의 뒤쪽에 작업 추가\n",
    "        print(f\"프린터 작업 추가 : {job}\")\n",
    "\n",
    "    # 작업을 큐에서 꺼내어 처리하는 메서드\n",
    "    def process_job(self) :\n",
    "        # 대기 중인 작업이 있으면\n",
    "        if self.jobs :\n",
    "            job = self.jobs.popleft()       # 큐의 앞쪽 작업 꺼냄\n",
    "            # .pop : 오른쪽(뒤쪽) 요소를 꺼냄 -> 스택처럼 동작\n",
    "            # .popleft : 왼쪽(앞쪽) 요소를 꺼냄 -> 큐처럼 동작\n",
    "\n",
    "            print(f\"프린터 출력 중 : {job}\")\n",
    "\n",
    "        # 대기 중인 작업이 없으면 (대기열이 비었을 경우)\n",
    "        else :\n",
    "            print(\"대기 중인 작업이 없습니다.\")"
   ]
  },
  {
   "cell_type": "code",
   "execution_count": 172,
   "id": "46dc48e7-9a44-4b3a-9e4c-c1a46c4bf0ab",
   "metadata": {},
   "outputs": [],
   "source": [
    "# printerQueue 클래스의 인스턴스를 생성\n",
    "printer = PrinterQueue()"
   ]
  },
  {
   "cell_type": "code",
   "execution_count": 174,
   "id": "5742d69c-0e4b-4839-aa62-844098d95a38",
   "metadata": {},
   "outputs": [
    {
     "name": "stdout",
     "output_type": "stream",
     "text": [
      "프린터 작업 추가 : 파일1.pdf\n",
      "프린터 작업 추가 : 파일2.pdf\n"
     ]
    }
   ],
   "source": [
    "# 출력할 작업 2개를 추가\n",
    "printer.add_job(\"파일1.pdf\")\n",
    "printer.add_job(\"파일2.pdf\")"
   ]
  },
  {
   "cell_type": "code",
   "execution_count": 176,
   "id": "457c015d-5384-448a-9983-81f4bfabfd96",
   "metadata": {},
   "outputs": [
    {
     "name": "stdout",
     "output_type": "stream",
     "text": [
      "프린터 출력 중 : 파일1.pdf\n",
      "프린터 출력 중 : 파일2.pdf\n"
     ]
    }
   ],
   "source": [
    "# 작업을 하나씩 처리\n",
    "printer.process_job()\n",
    "printer.process_job()"
   ]
  },
  {
   "cell_type": "markdown",
   "id": "e3f263ba-f7a6-4e0c-8c02-d7afe479251f",
   "metadata": {},
   "source": [
    "### 큐 예제 2. 놀이공원 대기열 시뮬레이션"
   ]
  },
  {
   "cell_type": "code",
   "execution_count": 182,
   "id": "f8cab659-7db2-4f17-b78c-5c3cb4d101c2",
   "metadata": {},
   "outputs": [],
   "source": [
    "# 큐 선언\n",
    "from collections import deque"
   ]
  },
  {
   "cell_type": "code",
   "execution_count": 192,
   "id": "47bdb99d-882c-4d9b-a5d3-36e48025bba7",
   "metadata": {},
   "outputs": [],
   "source": [
    "# 놀이공원 입장 대기열을 관리하는 클래스\n",
    "class partQueue :\n",
    "    # 생성 \n",
    "    def __init__(self) :\n",
    "        self.line = deque()\n",
    "\n",
    "    # 사람들이 줄을 서는 메서드(추가)\n",
    "    def join_line(self, name) :\n",
    "        self.line.append(name)\n",
    "        print(f\"{name}님이 줄을 섰습니다.\")\n",
    "\n",
    "    # 입장 처리 메서드(빼기)\n",
    "    def enter_park(self) :\n",
    "        if self.line :\n",
    "            name = self.line.popleft()\n",
    "            print(f\"{name}님이 입장하셨습니다.\")\n",
    "\n",
    "        else :\n",
    "            print(\"줄에 아무도 없습니다.\")"
   ]
  },
  {
   "cell_type": "code",
   "execution_count": 194,
   "id": "49d7770b-418b-4165-9e45-dc069008c423",
   "metadata": {},
   "outputs": [],
   "source": [
    "queue = partQueue()"
   ]
  },
  {
   "cell_type": "code",
   "execution_count": 196,
   "id": "adc94798-9ff7-41bd-af76-2d50077b5b4d",
   "metadata": {},
   "outputs": [
    {
     "name": "stdout",
     "output_type": "stream",
     "text": [
      "철수님이 줄을 섰습니다.\n",
      "영희님이 줄을 섰습니다.\n",
      "길동님이 줄을 섰습니다.\n"
     ]
    }
   ],
   "source": [
    "queue.join_line(\"철수\")\n",
    "queue.join_line(\"영희\")\n",
    "queue.join_line(\"길동\")"
   ]
  },
  {
   "cell_type": "code",
   "execution_count": 198,
   "id": "3f5f37dd-9d43-49fc-839a-5865109dbeed",
   "metadata": {},
   "outputs": [
    {
     "name": "stdout",
     "output_type": "stream",
     "text": [
      "철수님이 입장하셨습니다.\n",
      "영희님이 입장하셨습니다.\n",
      "길동님이 입장하셨습니다.\n"
     ]
    }
   ],
   "source": [
    "queue.enter_park()\n",
    "queue.enter_park()\n",
    "queue.enter_park()"
   ]
  },
  {
   "cell_type": "code",
   "execution_count": null,
   "id": "559fe1bc-f703-4fe4-8722-522a7d64a429",
   "metadata": {},
   "outputs": [],
   "source": []
  }
 ],
 "metadata": {
  "kernelspec": {
   "display_name": "Python [conda env:base] *",
   "language": "python",
   "name": "conda-base-py"
  },
  "language_info": {
   "codemirror_mode": {
    "name": "ipython",
    "version": 3
   },
   "file_extension": ".py",
   "mimetype": "text/x-python",
   "name": "python",
   "nbconvert_exporter": "python",
   "pygments_lexer": "ipython3",
   "version": "3.12.7"
  }
 },
 "nbformat": 4,
 "nbformat_minor": 5
}
