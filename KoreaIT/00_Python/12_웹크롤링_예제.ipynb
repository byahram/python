{
 "cells": [
  {
   "cell_type": "markdown",
   "id": "19258c77-9e91-4338-acb3-424ffe71bd16",
   "metadata": {},
   "source": [
    "# 예제 1 : 뉴스 제목 + 링크 + 이미지 크롤링"
   ]
  },
  {
   "cell_type": "code",
   "execution_count": 2,
   "id": "17d0dd82-bf59-4e0c-9821-78494a8a9e74",
   "metadata": {},
   "outputs": [],
   "source": [
    "'''\n",
    "[필요한 라이브러리]\n",
    "'''\n",
    "import requests                      # 웹 요청을 보내는 라이브러리\n",
    "from bs4 import BeautifulSoup       # HTML 파싱을 위한 라이브러리"
   ]
  },
  {
   "cell_type": "code",
   "execution_count": 4,
   "id": "04fcbc13-12c2-45f0-a774-5ab2dff136e7",
   "metadata": {},
   "outputs": [],
   "source": [
    "# 크롤링 대상 URL (네이버 뉴스 > 생활/문화 섹션)\n",
    "url = \"https://news.naver.com/section/103\""
   ]
  },
  {
   "cell_type": "code",
   "execution_count": 6,
   "id": "3a85ec97-bdea-4a6f-b9dd-326708da1ab6",
   "metadata": {},
   "outputs": [],
   "source": [
    "# 브라우저처럼 보이기 위한 헤더 설정 (봇 차단 방지용)\n",
    "headers = {\n",
    "    \"User-Agent\" : \"Mozilla/5.0\"\n",
    "}"
   ]
  },
  {
   "cell_type": "code",
   "execution_count": 8,
   "id": "833ce530-0a5e-497b-b840-97ccbc85eeb3",
   "metadata": {},
   "outputs": [],
   "source": [
    "# Http GET 요청을 보내기\n",
    "res = requests.get(url, headers = headers)"
   ]
  },
  {
   "cell_type": "code",
   "execution_count": 10,
   "id": "0ceda238-bde9-47f4-a203-c827f577f759",
   "metadata": {},
   "outputs": [],
   "source": [
    "# 받은 HTML 문서를 파싱하여 soup 객체 생성\n",
    "soup = BeautifulSoup(res.text, \"lxml\")"
   ]
  },
  {
   "cell_type": "code",
   "execution_count": 12,
   "id": "bef5048e-2cac-4975-b925-369ff369c2ac",
   "metadata": {},
   "outputs": [],
   "source": [
    "'''\n",
    "[soup.select(\"css 선택자\")]\n",
    "\n",
    "- html문서 안에서 css 선택자 문법을 써서 원하는 요소들을 리스트 형태로 가져옴\n",
    "- 결과는 항상 리스트로 변환\n",
    "'''\n",
    "\n",
    "# 뉴스 제목과 링크가 포함된 'a' 태그들 선택 (class 속성에 'sa_text_title' 포함)\n",
    "news_list = soup.select(\"a.sa_text_title\")"
   ]
  },
  {
   "cell_type": "code",
   "execution_count": 61,
   "id": "c3f2b95f-856e-4d04-a7ad-c9be526d3fe7",
   "metadata": {},
   "outputs": [
    {
     "name": "stdout",
     "output_type": "stream",
     "text": [
      "1. 서울 36.2℃, 불볕더위...일요일까지 서쪽 '펄펄'[날씨]\n",
      "> https://n.news.naver.com/mnews/article/052/0002217202\n",
      "> https://mimgnews.pstatic.net/image/origin/052/2025/07/10/2217202.jpg?type=nf220_150\n",
      "---\n",
      "2. '흥행 가도' 론 뮤익 전시, 90일 만에 50만 관객 돌파\n",
      "> https://n.news.naver.com/mnews/article/055/0001274127\n",
      "> https://mimgnews.pstatic.net/image/origin/055/2025/07/10/1274127.jpg?type=nf220_150\n",
      "---\n",
      "3. 끝날 줄 모르는 폭염…기세줄었지만 금요일에도 낮 최고 36도\n",
      "> https://n.news.naver.com/mnews/article/001/0015500491\n",
      "> https://mimgnews.pstatic.net/image/origin/001/2025/07/10/15500491.jpg?type=nf220_150\n",
      "---\n",
      "4. 주말까지 지금같은 '땡볕더위'…이후에도 폭염특보급 무더위\n",
      "> https://n.news.naver.com/mnews/article/001/0015499326\n",
      "> https://mimgnews.pstatic.net/image/origin/001/2025/07/10/15499326.jpg?type=nf220_150\n",
      "---\n",
      "5. [뉴스초점] 폭염 열돔에 갇힌 한반도…주말까지도 '펄펄'\n",
      "> https://n.news.naver.com/mnews/article/422/0000758447\n",
      "> https://mimgnews.pstatic.net/image/origin/422/2025/07/10/758447.jpg?type=nf220_150\n",
      "---\n",
      "6. [퇴근길 날씨] 연일 불볕더위…폭염 계속\n",
      "> https://n.news.naver.com/mnews/article/056/0011986928\n",
      "> https://mimgnews.pstatic.net/image/origin/056/2025/07/10/11986928.jpg?type=nf220_150\n",
      "---\n",
      "7. \"이 맛에 출근하지\"…20대 직장인, 月 30만원씩 쏟아붓는 곳이 [대세로 뜨는 '덕질 소비']\n",
      "> https://n.news.naver.com/mnews/article/015/0005156416\n",
      "> https://mimgnews.pstatic.net/image/origin/015/2025/07/10/5156416.jpg?type=nf220_150\n",
      "---\n",
      "8. [날씨] 내일도 서쪽 중심 폭염... 제주도 오후부터 모레 사이 비\n",
      "> https://n.news.naver.com/mnews/article/052/0002217281\n",
      "> https://mimgnews.pstatic.net/image/origin/052/2025/07/10/2217281.jpg?type=nf220_150\n",
      "---\n",
      "9. [날씨] 서쪽 35도 안팎 폭염 계속…밤사이 곳곳 열대야\n",
      "> https://n.news.naver.com/mnews/article/422/0000758441\n",
      "> https://mimgnews.pstatic.net/image/origin/422/2025/07/10/758441.jpg?type=nf220_150\n",
      "---\n",
      "10. \"지금도 더워 죽겠는데 더 더워진다고?\"…7말8초 '더 센' 폭염 온다는데, 왜?\n",
      "> https://n.news.naver.com/mnews/article/011/0004507714\n",
      "> https://mimgnews.pstatic.net/image/origin/011/2025/07/10/4507714.jpg?type=nf220_150\n",
      "---\n",
      "11. “10억 아파트 팔고 2억 빌라 사자, 남은 돈은 생활비로”…부부의 선택이 비극이 된 이유는\n",
      "> https://n.news.naver.com/mnews/article/009/0005523050\n",
      "> https://mimgnews.pstatic.net/image/origin/009/2025/07/10/5523050.jpg?type=nf220_150\n",
      "---\n",
      "12. 이정재 “‘이것’ 먹고 10kg 감량”…건강하게 살 빠진다고?\n",
      "> https://n.news.naver.com/mnews/article/296/0000091172\n",
      "> https://mimgnews.pstatic.net/image/origin/296/2025/07/10/91172.jpg?type=nf220_150\n",
      "---\n",
      "13. “아들한테 참 좋은데”…이 폭염에 닭고기 삶아서 먹는 이유가?\n",
      "> https://n.news.naver.com/mnews/article/296/0000091171\n",
      "> https://mimgnews.pstatic.net/image/origin/296/2025/07/10/91171.jpg?type=nf220_150\n",
      "---\n",
      "14. 잘못된 자세가 부르는 ‘거북목 증후군’\n",
      "> https://n.news.naver.com/mnews/article/662/0000072790\n",
      "> https://mimgnews.pstatic.net/image/origin/662/2025/07/10/72790.jpg?type=nf220_150\n",
      "---\n",
      "15. 못생긴 과일로 유명한 모과… 茶로 마시면 다리 근육경련 줄어들어요 [한의사曰 건강꿀팁]\n",
      "> https://n.news.naver.com/mnews/article/014/0005375463\n",
      "> https://mimgnews.pstatic.net/image/origin/014/2025/07/10/5375463.jpg?type=nf220_150\n",
      "---\n",
      "16. 음식에 ‘개미’ 올려 1억 원어치 판매…식용 가능? 불법?\n",
      "> https://n.news.naver.com/mnews/article/296/0000091170\n",
      "> https://mimgnews.pstatic.net/image/origin/296/2025/07/10/91170.jpg?type=nf220_150\n",
      "---\n",
      "17. 인투셀發 특허 리스크…삼성에피스 신약개발도 발목 잡히나\n",
      "> https://n.news.naver.com/mnews/article/011/0004507699\n",
      "> https://mimgnews.pstatic.net/image/origin/011/2025/07/10/4507699.jpg?type=nf220_150\n",
      "---\n",
      "18. 타이레놀·박카스 더 싸네…국내최초 ‘창고형 약국’ 가보니\n",
      "> https://n.news.naver.com/mnews/article/009/0005523032\n",
      "> https://mimgnews.pstatic.net/image/origin/009/2025/07/10/5523032.jpg?type=nf220_150\n",
      "---\n",
      "19. 혈당 오르고 혈압 요동치고…“만성질환 있다면 폭염 더 조심”\n",
      "> https://n.news.naver.com/mnews/article/662/0000072776\n",
      "> https://mimgnews.pstatic.net/image/origin/662/2025/07/10/72776.jpg?type=nf220_150\n",
      "---\n",
      "20. [날씨] '한증막 더위' 계속…다음 주 폭염 판도 바뀐다\n",
      "> https://n.news.naver.com/mnews/article/055/0001274124\n",
      "> https://mimgnews.pstatic.net/image/origin/055/2025/07/10/1274124.jpg?type=nf220_150\n",
      "---\n",
      "21. [날씨] '열돔'에 갇힌 한반도...주말까지 서쪽 '펄펄' 끓는다\n",
      "> https://n.news.naver.com/mnews/article/052/0002217236\n",
      "> https://mimgnews.pstatic.net/image/origin/052/2025/07/10/2217236.jpg?type=nf220_150\n",
      "---\n",
      "22. '최고 더위' 파주 광탄면...서울 열대야 일주일 더 간다\n",
      "> https://n.news.naver.com/mnews/article/052/0002217234\n",
      "> https://mimgnews.pstatic.net/image/origin/052/2025/07/10/2217234.jpg?type=nf220_150\n",
      "---\n",
      "23. [AI에게 물었다] 밤에도 동남아...AI가 알려주는 에어컨 전기료 폭탄을 피하는 방법\n",
      "> https://n.news.naver.com/mnews/article/119/0002977985\n",
      "> https://mimgnews.pstatic.net/image/origin/119/2025/07/10/2977985.jpg?type=nf220_150\n",
      "---\n",
      "24. 한반도, 태국·베트남보다 덥다\n",
      "> https://n.news.naver.com/mnews/article/015/0005156341\n",
      "> https://mimgnews.pstatic.net/image/origin/015/2025/07/10/5156341.jpg?type=nf220_150\n",
      "---\n",
      "25. [날씨] 서쪽 중심 폭염경보…한낮 35도 안팎\n",
      "> https://n.news.naver.com/mnews/article/422/0000758403\n",
      "> https://mimgnews.pstatic.net/image/origin/422/2025/07/10/758403.jpg?type=nf220_150\n",
      "---\n",
      "26. 땅에 그린 예술…정원, 도시의 갤러리가 되다\n",
      "> https://n.news.naver.com/mnews/article/015/0005156333\n",
      "> https://mimgnews.pstatic.net/image/origin/015/2025/07/10/5156333.jpg?type=nf220_150\n",
      "---\n",
      "27. 때아닌 참치 大풍년, 이마트 할인전 大박\n",
      "> https://n.news.naver.com/mnews/article/009/0005522933\n",
      "> https://mimgnews.pstatic.net/image/origin/009/2025/07/10/5522933.jpg?type=nf220_150\n",
      "---\n",
      "28. 극한 폭염 언제 끝나나…금요일에도 낮 최고 36도\n",
      "> https://n.news.naver.com/mnews/article/015/0005156330\n",
      "> https://mimgnews.pstatic.net/image/origin/015/2025/07/10/5156330.jpg?type=nf220_150\n",
      "---\n",
      "29. “집값 잡고, 경제 살릴까”…서점가, 이재명 관련서 봇물\n",
      "> https://n.news.naver.com/mnews/article/018/0006062478\n",
      "> https://mimgnews.pstatic.net/image/origin/018/2025/07/10/6062478.jpg?type=nf220_150\n",
      "---\n",
      "30. 밤낮으로 더해가는 열기..\"주말까지 서쪽 '펄펄'\"\n",
      "> https://n.news.naver.com/mnews/article/660/0000088799\n",
      "> https://mimgnews.pstatic.net/image/origin/660/2025/07/10/88799.jpg?type=nf220_150\n",
      "---\n",
      "31. 피부 붉게 붓더니 목숨 잃었다…'치사율 50%' 이 병 뭐길래\n",
      "> https://n.news.naver.com/mnews/article/025/0003454324\n",
      "> https://mimgnews.pstatic.net/image/origin/025/2025/07/10/3454324.jpg?type=nf220_150\n",
      "---\n",
      "32. \"마트서 2000원 하는 '이 가루', 하루 '2숟갈'이면 유해균·혈당·뱃살 녹아 내린다!\"\n",
      "> https://n.news.naver.com/mnews/article/031/0000947728\n",
      "> https://mimgnews.pstatic.net/image/origin/031/2025/07/10/947728.jpg?type=nf220_150\n",
      "---\n",
      "33. [퇴근길 날씨] 한낮, 심한 폭염 여전…주말에도 무더위\n",
      "> https://n.news.naver.com/mnews/article/056/0011986819\n",
      "> https://mimgnews.pstatic.net/image/origin/056/2025/07/10/11986819.jpg?type=nf220_150\n",
      "---\n",
      "34. \"군수 뒷모습 사진, 과거엔 금기였죠\" 그가 남해군을 기록하는 법\n",
      "> https://n.news.naver.com/mnews/article/047/0002480478\n",
      "> https://mimgnews.pstatic.net/image/origin/047/2025/07/10/2480478.jpg?type=nf220_150\n",
      "---\n",
      "35. 끝날 줄 모르는 폭염…기세줄었지만 금요일에도 낮 최고 36도\n",
      "> https://n.news.naver.com/mnews/article/001/0015500491\n",
      "> https://mimgnews.pstatic.net/image/origin/001/2025/07/10/15500491.jpg?type=nf220_150\n",
      "---\n",
      "36. [날씨] 서울 나흘째 폭염경보…주말까지 '불볕더위'\n",
      "> https://n.news.naver.com/mnews/article/055/0001274102\n",
      "> https://mimgnews.pstatic.net/image/origin/055/2025/07/10/1274102.jpg?type=nf220_150\n",
      "---\n",
      "37. 예수와 열두 제자 '최후의 만찬' 메뉴가 장어였다고?\n",
      "> https://n.news.naver.com/mnews/article/015/0005156289\n",
      "> https://mimgnews.pstatic.net/image/origin/015/2025/07/10/5156289.jpg?type=nf220_150\n",
      "---\n",
      "38. 이것저것 동시에 하는 '멀티태스킹', 뇌 망칩니다… 英 의사 강력 경고\n",
      "> https://n.news.naver.com/mnews/article/346/0000094403\n",
      "> https://mimgnews.pstatic.net/image/origin/346/2025/07/10/94403.jpg?type=nf220_150\n",
      "---\n",
      "39. \"한국인은 맨날 먹는 거 아니었어?\"…아침에 '이것' 먹으면 얼굴 못생겨진다는데\n",
      "> https://n.news.naver.com/mnews/article/011/0004507619\n",
      "> https://mimgnews.pstatic.net/image/origin/011/2025/07/10/4507619.jpg?type=nf220_150\n",
      "---\n",
      "40. [날씨] 당분간 열대야 계속‥다음 주 중반 비 오며 다소 누그러져\n",
      "> https://n.news.naver.com/mnews/article/214/0001435502\n",
      "> https://mimgnews.pstatic.net/image/origin/214/2025/07/10/1435502.jpg?type=nf220_150\n",
      "---\n"
     ]
    }
   ],
   "source": [
    "'''\n",
    "[각 뉴스 항목 순회]\n",
    "\n",
    "- start = 1 : enumerate()는 인덱스를 0부터 시작하는데, start = 1 1부터 시작해 달라는 뜻\n",
    "'''\n",
    "\n",
    "for i, a_tag in enumerate(news_list, start = 1) :\n",
    "\n",
    "    '''\n",
    "    [뉴스 제목 텍스트 추출(공백 제거)]\n",
    "\n",
    "    - tag.get_text(strip = False, True)\n",
    "    - False라면 공백을 지워주지 않음\n",
    "    - True라면 공백을 지준다.\n",
    "    '''\n",
    "    title = a_tag.get_text(strip = True)\n",
    "\n",
    "    \n",
    "    '''\n",
    "    [뉴스 기사 링크 추출 (a 태그의 href 속성)]\n",
    "    '''\n",
    "    link = a_tag[\"href\"]\n",
    "\n",
    "    \n",
    "    '''\n",
    "    [뉴스 이미지 추출]\n",
    "\n",
    "    - 현재 'a' 태그의 부모 요소 중 'li' 태그를 찾음\n",
    "    - find_parent() : 특정 태그의 부모 태그를 찾아주는 기능 > 태그의 한 단계 위 부모 찾기\n",
    "    - find_parents() : 태그의 모든 조상들 찾기(리스트)\n",
    "\n",
    "    [li 태그 안에 있는 img 태그 찾기]\n",
    "\n",
    "    - (있을 경우에만)\n",
    "    - soup.select_one(\"img\") : BeautifulSoup에서 사용하는 함수고, \"처음 나오는 하나의 요소\"만 선택\n",
    "    - soup.select(\"img\") -> 리스트로 가져온다.\n",
    "    '''\n",
    "    parent_li = a_tag.find_parent(\"li\")\n",
    "\n",
    "    img_tag = parent_li.select_one(\"img\") if parent_li else None\n",
    "\n",
    "    \n",
    "    '''\n",
    "    [뉴스 이미지 URL 추출]\n",
    "\n",
    "    1. 이미지가 자연 로딩 방식이면 data-src 속성 사용\n",
    "        - data-src : 자바스크립트나 크롤러가 데이터를 읽을 때 사용\n",
    "        - html에서 사용자 정의 속성을 만들 때 사용\n",
    "    2. 일반적인 경우에는 src 속성 사용\n",
    "        - img_tag라는 이미지 태그가 존재하고, 그 태그에 src 속성이 있으면, 그 src 속성의 값을 img_url이라는 변수에 저장하라는 의미이다.\n",
    "    3. 이미지가 없는 경우\n",
    "    '''\n",
    "    if img_tag and img_tag.has_attr(\"data-src\") :\n",
    "        img_url = img_tag[\"data-src\"]\n",
    "    elif img_tag and img_tag.has_attr(\"src\") :\n",
    "        img_url = img_tag[\"src\"]\n",
    "    else :\n",
    "        img_url = \"이미지 없음\"\n",
    "\n",
    "    # 결과 출력\n",
    "    print(f\"{i}. {title}\")    # 번호와 뉴스 제목\n",
    "    print(f\"> {link}\")        # 뉴스 상세 페이지 url\n",
    "    print(f\"> {img_url}\")     # 이미지 url 또는 '이미지 없음'\n",
    "    # 구분선\n",
    "    print(\"---\")"
   ]
  },
  {
   "cell_type": "markdown",
   "id": "3930267c-c0ee-4949-882d-1fd12499759c",
   "metadata": {},
   "source": [
    "# 2. 예제 2 : 뉴스 제목 + 링크 + 이미지 크롤링 + 엑셀 저장"
   ]
  },
  {
   "cell_type": "code",
   "execution_count": 17,
   "id": "dfe0a8d8-943d-43d0-a2bc-13decaa506f9",
   "metadata": {},
   "outputs": [],
   "source": [
    "import requests\n",
    "from bs4 import BeautifulSoup\n",
    "import pandas as pd"
   ]
  },
  {
   "cell_type": "code",
   "execution_count": 19,
   "id": "eb2b75ce-d9aa-4400-81b0-d9986fcb431f",
   "metadata": {},
   "outputs": [],
   "source": [
    "url = \"https://news.naver.com/section/103\""
   ]
  },
  {
   "cell_type": "code",
   "execution_count": 21,
   "id": "0bf1e4b8-106d-4e36-90c7-ce9585148708",
   "metadata": {},
   "outputs": [],
   "source": [
    "headers = {\n",
    "    \"User-Agent\" : \"Mozilla/5.0\"\n",
    "}"
   ]
  },
  {
   "cell_type": "code",
   "execution_count": 23,
   "id": "e247f368-cd87-49a4-b8d0-94bf365da20c",
   "metadata": {},
   "outputs": [],
   "source": [
    "res = requests.get(url, headers = headers)"
   ]
  },
  {
   "cell_type": "code",
   "execution_count": 25,
   "id": "35c585ce-8d68-4c74-8295-42ee7d2c8f1d",
   "metadata": {},
   "outputs": [],
   "source": [
    "soup = BeautifulSoup(res.text, \"lxml\")"
   ]
  },
  {
   "cell_type": "code",
   "execution_count": 27,
   "id": "f2ae7e16-f46f-4377-989c-55954d773d29",
   "metadata": {},
   "outputs": [],
   "source": [
    "news_list = soup.select(\"a.sa_text_title\")"
   ]
  },
  {
   "cell_type": "code",
   "execution_count": 29,
   "id": "82cfe7db-0f74-4524-ab95-016c17ef4236",
   "metadata": {},
   "outputs": [],
   "source": [
    "# 각 뉴스의 제목, 링크, 이미지 url을 저장 빈 리스트 생성\n",
    "titles = []\n",
    "links = []\n",
    "images = []"
   ]
  },
  {
   "cell_type": "code",
   "execution_count": 31,
   "id": "ef447343-e586-4401-a07c-3973d8485bed",
   "metadata": {},
   "outputs": [
    {
     "name": "stdout",
     "output_type": "stream",
     "text": [
      "엑셀 저장 완료!\n"
     ]
    }
   ],
   "source": [
    "for i, a_tag in enumerate(news_list, start = 1) :\n",
    "    \n",
    "    # 뉴스 제목 텍스트 추출 (공백 제거)\n",
    "    title = a_tag.get_text(strip = True)\n",
    "\n",
    "    # 뉴스 기사 링크 추출 (a 태그의 href 속성)\n",
    "    link = a_tag[\"href\"]\n",
    "\n",
    "    # 뉴스 이미지 추출\n",
    "    parent_li = a_tag.find_parent(\"li\")\n",
    "\n",
    "    img_tag = parent_li.select_one(\"img\") if parent_li else None\n",
    "\n",
    "    # 뉴스 이미지 URL 추출\n",
    "    if img_tag and img_tag.has_attr(\"data-src\") :\n",
    "        img_url = img_tag[\"data-src\"]\n",
    "    elif img_tag and img_tag.has_attr(\"src\") :\n",
    "        img_url = img_tag[\"src\"]\n",
    "    else :\n",
    "        img_url = \"이미지 없음\"\n",
    "\n",
    "    # 각각의 리스트에 수집한 데이터를 추가\n",
    "    titles.append(title)\n",
    "    links.append(link)\n",
    "    images.append(img_url)\n",
    "\n",
    "# 수집한 데이터를 DataFrame(표 형태)으로 변환\n",
    "df = pd.DataFrame({\n",
    "    \"제목\" : titles,\n",
    "    \"링크\" : links,\n",
    "    \"이미지\" : images\n",
    "})\n",
    "\n",
    "# DataFrame을 엑셀 파일로 저장\n",
    "df.to_excel(\"naver_news.xlsx\", index=False)\n",
    "\n",
    "# 저장 완료 메시지 출력\n",
    "print(\"엑셀 저장 완료!\")"
   ]
  },
  {
   "cell_type": "markdown",
   "id": "9eba5e2d-a879-43ea-818f-4f22239f1041",
   "metadata": {},
   "source": [
    "# 예제 3 : 뉴스 본문 내용 + 요약 (w/정규 표현식)"
   ]
  },
  {
   "cell_type": "code",
   "execution_count": 34,
   "id": "d6e3d48e-ed6a-4c1a-a809-06ba46e6685c",
   "metadata": {},
   "outputs": [],
   "source": [
    "'''\n",
    "[정규 표현식]\n",
    "\n",
    "- 문자나 기호로 만든 검색 패턴\n",
    "- \"특정 조건에 맞는 문자\"를 찾고, 검사하고, 바꾸고, 추출할 수 있다.\n",
    "\n",
    "[언제 사용할까?]\n",
    "- 이메일 주소 뽑기, 전화번호 찾기, 문서에서 특정 문장만 걸러내기, 주문등록번호, 학번, 특정 포맷 감지\n",
    "- 웹 크롤링 중 원하는 텍스트만 추출\n",
    "'''\n",
    "\n",
    "import re    # 정규 표현식을 다루기 위한 표준 라이브러리"
   ]
  },
  {
   "cell_type": "code",
   "execution_count": 36,
   "id": "610401d9-44db-44c9-b07d-ec2a6e3b994d",
   "metadata": {},
   "outputs": [
    {
     "name": "stdout",
     "output_type": "stream",
     "text": [
      "숫자만 추출  ['2025', '4', '22']\n"
     ]
    }
   ],
   "source": [
    "r'''\n",
    "[숫자 추출]\n",
    "\n",
    "- \\d \"숫자 하나\"  + -> 1개 이상 반복-즉, 숫자가 연속된 부분을 찾겠다.\n",
    "- findall : 정규 표현식 p에 맞는 모든 값을 찾아서 리스트로 반환\n",
    "'''\n",
    "\n",
    "text = \"오늘은 2025년 4월 22일입니다\"\n",
    "\n",
    "pattern = r\"\\d+\"\n",
    "\n",
    "numbers = re.findall(pattern, text)\n",
    "\n",
    "print(\"숫자만 추출 \", numbers)"
   ]
  },
  {
   "cell_type": "code",
   "execution_count": 38,
   "id": "8c3ae6b7-b8ad-498a-a59d-8f66ca39b480",
   "metadata": {},
   "outputs": [
    {
     "name": "stdout",
     "output_type": "stream",
     "text": [
      "이메일  ['contact@naver.com', 'help@gmail.com']\n"
     ]
    }
   ],
   "source": [
    "r'''\n",
    "[이메일 주소 추출]\n",
    "\n",
    ">>> \\w+@\\w+\\.\\w+\n",
    "\n",
    "- \\w+ : 영문자, 숫자, 밑줄 중 하나 이상(사용자 이름 또는 도메인 앞부분)\n",
    "- @ : 골뱅이 문자 그대로 찾음\n",
    "- \\w+ : 골뱅이 뒤의 도메인 이름\n",
    "- \\. : 마침표를 의미함\n",
    "- \\w+ : com.net.org 같은 도메인 확장자 부분\n",
    "'''\n",
    "\n",
    "text = \"문의는 contact@naver.com 또는 help@gmail.com 으로 주세요.\"\n",
    "\n",
    "pattern = r\"\\w+@\\w+\\.\\w+\"\n",
    "\n",
    "email = re.findall(pattern, text)\n",
    "\n",
    "print(\"이메일 \", email)"
   ]
  },
  {
   "cell_type": "code",
   "execution_count": 40,
   "id": "9a3ab1d7-a3ef-4143-911a-4fdda2199914",
   "metadata": {},
   "outputs": [
    {
     "name": "stdout",
     "output_type": "stream",
     "text": [
      "한글 단어  ['안녕하세요']\n"
     ]
    }
   ],
   "source": [
    "r'''\n",
    "[한글만 추출]\n",
    "\n",
    "- 한글로 이루어진 단어들만 뽑아내는 정규식\n",
    "- [가-힣] : 유니코드 상 한글 완성형 글자 범위\n",
    "- 영어 단어만 찾고 싶으면 [a-zA-Z]+\n",
    "- 숫자만 찾고 싶으면 \\d+\n",
    "- 한글+영어 [가-힣a-zA-Z]\n",
    "'''\n",
    "\n",
    "text = \"hello 안녕하세요 123\"\n",
    "\n",
    "pattern = r\"[가-힣]+\"\n",
    "\n",
    "ko = re.findall(pattern, text)\n",
    "\n",
    "print(\"한글 단어 \", ko)"
   ]
  },
  {
   "cell_type": "markdown",
   "id": "47ebcb97-e415-4e20-9c00-200e6c534738",
   "metadata": {},
   "source": [
    "# 예제 4 : 뉴스 본문 내용 + 요약"
   ]
  },
  {
   "cell_type": "code",
   "execution_count": 43,
   "id": "81788848-df66-4114-83df-11210c93628f",
   "metadata": {},
   "outputs": [],
   "source": [
    "import requests\n",
    "from bs4 import BeautifulSoup\n",
    "import re"
   ]
  },
  {
   "cell_type": "code",
   "execution_count": 45,
   "id": "92643374-aa99-4eb6-9b29-547982a7953c",
   "metadata": {},
   "outputs": [],
   "source": [
    "url = \"https://n.news.naver.com/mnews/article/018/0005994547\""
   ]
  },
  {
   "cell_type": "code",
   "execution_count": 47,
   "id": "b546f72c-4241-4604-a290-be6050d5f02b",
   "metadata": {},
   "outputs": [],
   "source": [
    "headers = {\n",
    "    \"User-Agent\" : \"Mozilla/5.0\"\n",
    "}"
   ]
  },
  {
   "cell_type": "code",
   "execution_count": 49,
   "id": "21e2909d-0f0a-494e-b7bb-c918d0f2763e",
   "metadata": {},
   "outputs": [],
   "source": [
    "res = requests.get(url, headers = headers)"
   ]
  },
  {
   "cell_type": "code",
   "execution_count": 51,
   "id": "dcb76daa-29f5-438a-8fb5-c85e205022f0",
   "metadata": {},
   "outputs": [],
   "source": [
    "soup = BeautifulSoup(res.text, \"html.parser\")"
   ]
  },
  {
   "cell_type": "code",
   "execution_count": 53,
   "id": "163c8913-8011-4ade-bbc4-245a35b08993",
   "metadata": {},
   "outputs": [],
   "source": [
    "# 기사 논문에 들어있는 <article> 태그 가져오기 (id = \"dic_area\")를 찾기\n",
    "article = soup.find(\"article\", id=\"dic_area\")"
   ]
  },
  {
   "cell_type": "code",
   "execution_count": 55,
   "id": "3c158464-2347-49e7-b595-17083a724c03",
   "metadata": {},
   "outputs": [
    {
     "name": "stdout",
     "output_type": "stream",
     "text": [
      "본문 : \n",
      "\n",
      "최저기온 8~16도, 최고기온 14~25도\n",
      "충청권·남부지방은 한때 이슬비\n",
      "\"해안가 짙은 안개 발생해 주의 요구돼\"\n",
      "[이데일리 이영민 기자] 23일 수도권과 강원 영서 지역은 화창한 날씨가 나타나겠다. 충청권과 그 밖의 지역에는 한때 이슬비가 내리고 구름이 껴 흐리겠다.\n",
      "전날 내린 비가 그치고 맑은 날씨를 보이는 지난 20일 서울 서초구 반포한강공원에서 시민들이 자전거를 타고 있다.(사진=연합뉴스)\n",
      "22일 기상청에 따르면 이날 아침 최저기온은 8~16도, 낮 최고기온은 14~25도가 되겠다. 당분간 기온은 평년(최저기온 5~11도, 최고기온 18~22도)보다 2~4도가량 높을 전망이다. 기상청은 수도권과 강원 내륙, 충북을 중심으로 낮과 밤의 기온 차이가 15도 내외로 크게 벌어져 건강관리에 유의해야 한다고 당부했다.\n",
      "앞서 내린 비의 영향으로 충청권과 그 밖의 남부지방은 이날 오전까지, 전라 동부지역과 경남 내륙, 제주도에는 오후 6시까지 0.1㎜ 미만의 빗방울이 떨어지는 곳이 있겠다.\n",
      "풍랑특보가 발효된 서해 남부 먼바다는 새벽 시간대까지 바람이 강하게 불겠고 물결이 1.5~4m 높이로 매우 높게 일 수 있다. 동해 남부 북쪽 먼바다와 동해 앞바다에도 바람이 차차 강하게 불고 물결이 높게 일면서 풍랑특보가 발표될 가능성이 있다.\n",
      "\n"
     ]
    }
   ],
   "source": [
    "# 기사 본문에서 태그를 제거하고 순수 텍스트만 추출\n",
    "if article :\n",
    "    # separator=\"\\n\" : 문단 구분을 위해 줄바꿈 문자로 구분\n",
    "    text = article.get_text(strip=True, separator=\"\\n\")\n",
    "    print(\"본문 : \\n\")\n",
    "    print(text)\n",
    "    print()\n",
    "else :\n",
    "    # 본문이 없을 경우 에러 메시지 출력\n",
    "    print(\"본문을 찾을 수 없습니다.\")"
   ]
  },
  {
   "cell_type": "code",
   "execution_count": 57,
   "id": "d9966429-6850-455b-8706-5315ea1056fe",
   "metadata": {},
   "outputs": [],
   "source": [
    "r'''\n",
    "[정규 표현식을 사용해 문장을 분리]\n",
    "\n",
    ">>> (?<=[.!?])\\s+\n",
    "\n",
    "- 마침표. 느낌표! 물음표? 뒤에 공백이 올 경우를 기준으로 분할\n",
    "'''\n",
    "sentences = re.split(r\"(?<=[.!?])\\s+\", text)"
   ]
  },
  {
   "cell_type": "code",
   "execution_count": 59,
   "id": "68332e90-009f-4148-809b-5b4925a666e6",
   "metadata": {},
   "outputs": [
    {
     "name": "stdout",
     "output_type": "stream",
     "text": [
      "요약 : \n",
      "\n",
      "최저기온 8~16도, 최고기온 14~25도\n",
      "충청권·남부지방은 한때 이슬비\n",
      "\"해안가 짙은 안개 발생해 주의 요구돼\"\n",
      "[이데일리 이영민 기자] 23일 수도권과 강원 영서 지역은 화창한 날씨가 나타나겠다.\n",
      "충청권과 그 밖의 지역에는 한때 이슬비가 내리고 구름이 껴 흐리겠다.\n",
      "전날 내린 비가 그치고 맑은 날씨를 보이는 지난 20일 서울 서초구 반포한강공원에서 시민들이 자전거를 타고 있다.(사진=연합뉴스)\n",
      "22일 기상청에 따르면 이날 아침 최저기온은 8~16도, 낮 최고기온은 14~25도가 되겠다.\n",
      "당분간 기온은 평년(최저기온 5~11도, 최고기온 18~22도)보다 2~4도가량 높을 전망이다.\n",
      "기상청은 수도권과 강원 내륙, 충북을 중심으로 낮과 밤의 기온 차이가 15도 내외로 크게 벌어져 건강관리에 유의해야 한다고 당부했다.\n",
      "\n"
     ]
    }
   ],
   "source": [
    "'''\n",
    "[상위 3~5개의 문장만 뽑아서 요약 형태로 출력]\n",
    "\n",
    "* sentences[:5] : 앞에서부터 최대 5개 문장만 추출\n",
    "\n",
    "[문장 해석]\n",
    "\n",
    "- sentences 리스트에서 앞의 5개 문장만 가져와서, 각 문장 사이를 줄바꿈으로 연결해서 하나의 문단처럼 만든 문자열을 summary에 저장한다.\n",
    "'''\n",
    "summary = \"\\n\".join(sentences[:5])\n",
    "\n",
    "# 요약된 문단 출력\n",
    "print(\"요약 : \\n\")\n",
    "print(summary)\n",
    "print()"
   ]
  },
  {
   "cell_type": "code",
   "execution_count": null,
   "id": "9930822a-048e-4f82-88e0-7d520f0a5e5d",
   "metadata": {},
   "outputs": [],
   "source": []
  }
 ],
 "metadata": {
  "kernelspec": {
   "display_name": "Python [conda env:base] *",
   "language": "python",
   "name": "conda-base-py"
  },
  "language_info": {
   "codemirror_mode": {
    "name": "ipython",
    "version": 3
   },
   "file_extension": ".py",
   "mimetype": "text/x-python",
   "name": "python",
   "nbconvert_exporter": "python",
   "pygments_lexer": "ipython3",
   "version": "3.12.7"
  }
 },
 "nbformat": 4,
 "nbformat_minor": 5
}
