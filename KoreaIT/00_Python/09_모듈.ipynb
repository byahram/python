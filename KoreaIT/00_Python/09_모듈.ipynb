{
 "cells": [
  {
   "cell_type": "markdown",
   "id": "3d7c3648-70f9-4a41-bfb6-ba7f98f158ae",
   "metadata": {},
   "source": [
    "# 모듈 (Module)"
   ]
  },
  {
   "cell_type": "markdown",
   "id": "4d2762a5-6b69-4d9c-afbf-03a16e0f44da",
   "metadata": {},
   "source": [
    "## 모듈이란?\n",
    "\n",
    "- 파이썬 코드가 들어있는 '도구상자'\n",
    "- 우리가 자주 쓰는 코드들을 모아 놓은 파일들\n",
    "- .py로 끝나는 파이썬 파일 하나하나 모두 다 모듈이다.\n",
    "\n",
    "#### 왜 모듈을 사용할까?\n",
    "\n",
    "- 자주 쓰는 기능을 쉽게 써내 쓰기 위해서 사용한다."
   ]
  },
  {
   "cell_type": "markdown",
   "id": "0b976a8a-7aed-46e0-ac9a-729f817f7d63",
   "metadata": {},
   "source": [
    "## 상수\n",
    "\n",
    "- 변하지 않는 값이다.\n",
    "- 용도 : 고정된 숫자, 기준값 등\n",
    "- '대문자'로 이름을 쓰면 상수라고 본다."
   ]
  },
  {
   "cell_type": "markdown",
   "id": "c029218c-5814-454b-9636-42fdea591d38",
   "metadata": {},
   "source": [
    "## return을 쓰는 이유?\n",
    "\n",
    "- 답을 돌려 주는 역할\n",
    "- 함수에서 결과를 밖으로 보내 주는 버튼\n",
    "- 함수는 어떤 입력값을 받아서 계산하고, 그 결과를 밖으로 보내줘야 다른 데에서 쓸 수 있는데 그 역할이 바로 return이다."
   ]
  },
  {
   "cell_type": "code",
   "execution_count": 5,
   "id": "d1d527c7-24e3-4f3b-b8dc-a166fcaa4b85",
   "metadata": {},
   "outputs": [],
   "source": [
    "# 파이썬에서 다른 파일에 있는 코드를 가져오고 싶을 때, import를 사용한다.\n",
    "import Module_1"
   ]
  },
  {
   "cell_type": "code",
   "execution_count": 7,
   "id": "d3ec1205-6fb2-46e2-8092-47af8c45ff4f",
   "metadata": {},
   "outputs": [
    {
     "name": "stdout",
     "output_type": "stream",
     "text": [
      "6 hours = 360 min\n",
      "12 minutes = 720 sec\n",
      "3 hours = 10800 sec\n"
     ]
    }
   ],
   "source": [
    "# EX1.\n",
    "min = Module_1.hour_to_min(6)\n",
    "print(\"6 hours =\", min, \"min\")\n",
    "\n",
    "sec = Module_1.min_to_sec(12)\n",
    "print(\"12 minutes =\", sec, \"sec\")\n",
    "\n",
    "sec2 = Module_1.hour_to_sec(3)\n",
    "print(\"3 hours =\", sec2, \"sec\")"
   ]
  },
  {
   "cell_type": "code",
   "execution_count": 9,
   "id": "82d195e7-9318-4ac3-a56c-a674fdf8e896",
   "metadata": {},
   "outputs": [
    {
     "name": "stdout",
     "output_type": "stream",
     "text": [
      "사과 3 개의 가격은 1500 원입니다.\n"
     ]
    }
   ],
   "source": [
    "# EX2.\n",
    "numOfApple = 3\n",
    "price = Module_1.pay_for_apples(numOfApple)\n",
    "print(\"사과\", numOfApple, \"개의 가격은\", price, \"원입니다.\")"
   ]
  },
  {
   "cell_type": "markdown",
   "id": "1602277c-4222-4b85-80f6-7e8208351265",
   "metadata": {},
   "source": [
    "## from 모듈명 import 불러오고 싶은 함수명\n",
    "\n",
    "- from은 특정 도구상자(모듈)에서 필요한 것만 골라서 가져올 때 사용하는 방법\n",
    "\n",
    "#### from 왜 쓰는가?\n",
    "\n",
    "1. 필요한 것만 가져오고 싶을 때\n",
    "2. 코드가 더 짧아지고 깔끔해진다."
   ]
  },
  {
   "cell_type": "code",
   "execution_count": 12,
   "id": "7b9926fc-02bc-4e2f-b786-d3b7ec523236",
   "metadata": {},
   "outputs": [],
   "source": [
    "# from Module_1 import hour_to_min, min_to_sec\n",
    "from Module_1 import *      # * : 애스터리스크 -> 모듈 내 모든 함수를 사용하고 싶은 경우"
   ]
  },
  {
   "cell_type": "code",
   "execution_count": 14,
   "id": "965c2e63-474a-47f8-988c-6c51a649b2d8",
   "metadata": {},
   "outputs": [
    {
     "name": "stdout",
     "output_type": "stream",
     "text": [
      "7 hours = 420 min\n",
      "13 minutes = 420 sec\n"
     ]
    }
   ],
   "source": [
    "# EX3.\n",
    "min = hour_to_min(7)\n",
    "print(\"7 hours =\", min, \"min\")\n",
    "\n",
    "sec = min_to_sec(13)\n",
    "print(\"13 minutes =\", min, \"sec\")"
   ]
  },
  {
   "cell_type": "code",
   "execution_count": 16,
   "id": "adf3089c-489f-4de3-883c-e125e5b5ea4d",
   "metadata": {},
   "outputs": [],
   "source": [
    "# Modules 패키지의 모듈에서 모든 함수와 변수를 가져온다.\n",
    "from Modules.Module_2 import *"
   ]
  },
  {
   "cell_type": "code",
   "execution_count": 18,
   "id": "c799df2b-f3fb-4a66-a819-405ca83ce2c0",
   "metadata": {},
   "outputs": [
    {
     "name": "stdout",
     "output_type": "stream",
     "text": [
      "90\n",
      "80\n",
      "영양분 종류가 잘못 입력되었습니다.\n"
     ]
    }
   ],
   "source": [
    "# EX4.\n",
    "fat_calories = calculate_calories(1, 10)\n",
    "print(fat_calories)\n",
    "\n",
    "protein_cal = calculate_calories(2, 20)\n",
    "print(protein_cal)\n",
    "\n",
    "other_cal = calculate_calories(10, 7)\n",
    "print(other_cal)"
   ]
  },
  {
   "cell_type": "code",
   "execution_count": 20,
   "id": "6eac0b5b-e396-42d3-8872-2470acf11a56",
   "metadata": {},
   "outputs": [
    {
     "name": "stdout",
     "output_type": "stream",
     "text": [
      "탄산음료 250ml에 들어있는 당 : 27.5g\n",
      "과일주스 200ml에 들어있는 당 : 18.0g\n",
      "알 수 없는 음료입니다.\n"
     ]
    }
   ],
   "source": [
    "# EX5.\n",
    "coke = calculate_sugar(1, 250)\n",
    "print(f\"탄산음료 250ml에 들어있는 당 : {coke}g\")\n",
    "\n",
    "juice = calculate_sugar(2, 200)\n",
    "print(f\"과일주스 200ml에 들어있는 당 : {juice}g\")\n",
    "\n",
    "other = calculate_sugar(10, 100)\n",
    "print(other)"
   ]
  },
  {
   "cell_type": "markdown",
   "id": "a393e370-e68f-4650-8261-163750f8e4f5",
   "metadata": {},
   "source": [
    "# 표준 모듈\n",
    "\n",
    "- 기본으로 제공하는 모듈을 우리는 표준 모듈이라고 한다.\n",
    "- 표준 모듈은 파이썬을 설치할때 자동으로 설치된다.\n",
    "- import 키워드만으로 바로 사용할 수 있다."
   ]
  },
  {
   "cell_type": "markdown",
   "id": "ede82e8c-64e0-4916-8191-cc4f19edb1b2",
   "metadata": {},
   "source": [
    "### 종류\n",
    "\n",
    "1. **math 모듈** : 수학 관련 함수 제공 (제곱근, 삼각함수, 로그 계산)\n",
    "2. **random 모듈** : 난수 생성관련 함수 제공 (리스트 요소 랜덤 추춘, 범위 내 난수 추출등)\n",
    "3. **datetime 모듈** : 날짜 및 시간 관련 함수. (날짜 형식변환, 시간 계산 등)"
   ]
  },
  {
   "cell_type": "markdown",
   "id": "c97a833c-8fb1-4b32-b45e-af8daf53c00d",
   "metadata": {},
   "source": [
    "## 1. math 모듈"
   ]
  },
  {
   "cell_type": "code",
   "execution_count": 25,
   "id": "6fc94078-0dac-4644-9876-620d056075bb",
   "metadata": {},
   "outputs": [],
   "source": [
    "import math"
   ]
  },
  {
   "cell_type": "code",
   "execution_count": 29,
   "id": "2aa4232d-a8fd-4b2f-a134-4791804e6870",
   "metadata": {},
   "outputs": [
    {
     "name": "stdin",
     "output_type": "stream",
     "text": [
      "원의 반지름을 입력하세요 :  5\n"
     ]
    },
    {
     "name": "stdout",
     "output_type": "stream",
     "text": [
      "입력하신 원의 둘레는  31.41592653589793 입니다.\n"
     ]
    }
   ],
   "source": [
    "# math 모듈을 활용하여 원의 둘레 구하기\n",
    "def calculate_cal(radius) :\n",
    "    # math.pi :  수학 관련 모듈 안에 pi를 이용하여 원주율 값을 가져온다.\n",
    "    cir = 2 * math.pi * radius\n",
    "    return cir\n",
    "\n",
    "# 반지름 입력 받기\n",
    "radius = float(input(\"원의 반지름을 입력하세요 : \"))\n",
    "\n",
    "# 함수를 호출해서 원의 둘레를 반환받기\n",
    "cir = calculate_cal(radius)\n",
    "print(\"입력하신 원의 둘레는 \", cir, \"입니다.\")"
   ]
  },
  {
   "cell_type": "markdown",
   "id": "9e9d4bf8-f321-4106-be44-f3c7ef1ffea4",
   "metadata": {},
   "source": [
    "#### math 모듈 안에 있는 함수\n",
    "\n",
    "1. ceil(n) 함수 : n을 올림하여 가장 가까운 정수로 반환\n",
    "2. floor(n) 함수 : n을 내림하여 가장 가까운 정수로 반환\n",
    "3. trunc(n) 함수 : n을 소수점 이하를 버리고 정수 부분만 반환\n",
    "4. round(n) 함수 : n을 가장 가까운 정수로 반올림하여 반환\n",
    "5. sqrt(n) 함수 : n의 제곱근을 반환\n",
    "    - 예시 : math.sqrt(9)     = 3\n",
    "6. pow(n, m) 함수 : n을 m번 거듭제곱한 값을 반ㄴ환\n",
    "    - math.pow(2, 3)      = 8"
   ]
  },
  {
   "cell_type": "code",
   "execution_count": 32,
   "id": "d2754d87-dc5f-4381-b975-c57a7389b6f3",
   "metadata": {},
   "outputs": [
    {
     "name": "stdout",
     "output_type": "stream",
     "text": [
      "[올림] 1.2를 올림 처리하면 : 2\n",
      "[올림] -3.5를 올림 처리하면 : -3\n"
     ]
    }
   ],
   "source": [
    "# 올림 처리하여 반환\n",
    "print(\"[올림] 1.2를 올림 처리하면 :\", math.ceil(1.2))\n",
    "print(\"[올림] -3.5를 올림 처리하면 :\", math.ceil(-3.5))"
   ]
  },
  {
   "cell_type": "code",
   "execution_count": 34,
   "id": "6b623d58-1c7f-4801-9da3-1a313a966ce9",
   "metadata": {},
   "outputs": [
    {
     "name": "stdout",
     "output_type": "stream",
     "text": [
      "[내림] 1.7을 내림 처리하면 : 1\n",
      "[내림] -2.7을 내림 처리하면 : -3\n"
     ]
    }
   ],
   "source": [
    "# 내림 처리하여 반환\n",
    "print(\"[내림] 1.7을 내림 처리하면 :\", math.floor(1.7))\n",
    "print(\"[내림] -2.7을 내림 처리하면 :\", math.floor(-2.7))"
   ]
  },
  {
   "cell_type": "code",
   "execution_count": 36,
   "id": "a0a4bd2f-1ec8-42ff-9a48-46909e00201c",
   "metadata": {},
   "outputs": [
    {
     "name": "stdout",
     "output_type": "stream",
     "text": [
      "[버림] 1.3의 소수점 이하를 버리면 : 1\n",
      "[버림] -2.3의 소수점 이하를 버리면 : -2\n"
     ]
    }
   ],
   "source": [
    "# 소수점 이하를 버리고 반환\n",
    "print(\"[버림] 1.3의 소수점 이하를 버리면 :\", math.trunc(1.3))\n",
    "print(\"[버림] -2.3의 소수점 이하를 버리면 :\", math.trunc(-2.3))"
   ]
  },
  {
   "cell_type": "code",
   "execution_count": 38,
   "id": "a5d2f2f6-b309-4fa3-b045-b41163e7d55d",
   "metadata": {},
   "outputs": [
    {
     "name": "stdout",
     "output_type": "stream",
     "text": [
      "[버림] -2\n",
      "[내림] -3\n"
     ]
    }
   ],
   "source": [
    "# 버림 : 소수점 이하는 그냥 잘라버린다. 양수든 음수든 자르기만 한다.\n",
    "# 내림 : 무조건 아래쪽(작은 정수)로 내려간다. 양수는 그대로지만 음수는 더 작아진다.\n",
    "print(\"[버림]\", math.trunc(-2.7))\n",
    "print(\"[내림]\", math.floor(-2.7))"
   ]
  },
  {
   "cell_type": "code",
   "execution_count": 40,
   "id": "4fc3b0c0-a80e-443f-9f53-3ad272f354a6",
   "metadata": {},
   "outputs": [
    {
     "name": "stdout",
     "output_type": "stream",
     "text": [
      "[반올림] 4\n",
      "[반올림] 3\n"
     ]
    }
   ],
   "source": [
    "# 반올림\n",
    "print(\"[반올림]\", round(3.6))\n",
    "print(\"[반올림]\", round(3.2))"
   ]
  },
  {
   "cell_type": "code",
   "execution_count": 42,
   "id": "1db5c3ef-ac8a-414b-b69c-ab4218d9f0ef",
   "metadata": {},
   "outputs": [
    {
     "name": "stdout",
     "output_type": "stream",
     "text": [
      "[반올림 자리수 지정] 3.14\n"
     ]
    }
   ],
   "source": [
    "# 소수점 자리수 지정 가능\n",
    "# 문법 : round(소수점, 자리수)\n",
    "print(\"[반올림 자리수 지정]\", round(3.14159, 2))"
   ]
  },
  {
   "cell_type": "code",
   "execution_count": 44,
   "id": "09727a88-b213-47dc-aecc-3d5244585abf",
   "metadata": {},
   "outputs": [
    {
     "name": "stdout",
     "output_type": "stream",
     "text": [
      "[제곱근] 7.0\n"
     ]
    }
   ],
   "source": [
    "# 제곱근을 구하는 함수\n",
    "number = 49\n",
    "result_sqrt = math.sqrt(number)\n",
    "print(\"[제곱근]\", result_sqrt)"
   ]
  },
  {
   "cell_type": "code",
   "execution_count": 46,
   "id": "05a42739-0efe-43aa-8916-a647f2013b4a",
   "metadata": {},
   "outputs": [
    {
     "name": "stdout",
     "output_type": "stream",
     "text": [
      "[거듭제곱] 1024.0\n"
     ]
    }
   ],
   "source": [
    "# 거듭제곱을 구하는 함수\n",
    "result_pow = math.pow(2, 10)\n",
    "print(\"[거듭제곱]\", result_pow)"
   ]
  },
  {
   "cell_type": "markdown",
   "id": "a18ce829-fb35-4747-8f3e-80eb6c2e521b",
   "metadata": {},
   "source": [
    "## 2. random 모듈\n",
    "\n",
    "- 난수를 생성해주는 random 모듈\n",
    "- 간단한 게임을 제작하는 것은 물론 확률을 처리하거나 데이터를 유니크하게 만드는 데 활용한다."
   ]
  },
  {
   "cell_type": "markdown",
   "id": "48e8ca0a-727f-46f6-9129-3ac1463f6670",
   "metadata": {},
   "source": [
    "### random 모듈 함수\n",
    "\n",
    "1. random.randint(a, b) \n",
    "    - a와 b 사이의 범위에서 임의의 정수를 하나 생성한다.\n",
    "2. random.randrange(start, stop, step)\n",
    "    - start부터 stop 이전까지 step 간격으로 임의의 정수를 하나 생성한다. start는 생략가능하고 default값은 0이다.\n",
    "3. random.sample(시퀀스자료형, 원하는 개수)\n",
    "    - 인덱스(위치 번호)를 가지고 있다.\n",
    "    - 리스트나 문자열 같은 시퀀스 자료형에서, 원하는 개수만큼 '중복 없이 랜덤으로' 뽑아주는 함수다.\n",
    "4. choice(시퀀스 자료형)\n",
    "    - 시퀀스 자료형의 요소 중 하나를 임의로 반환한다.\n",
    "5. random.shuffle(시퀀스 자료형)\n",
    "    - 리스트 안에 있는 값들의 순서를 랜덤으로 섞어주는 함수"
   ]
  },
  {
   "cell_type": "markdown",
   "id": "1b6af3e9-eb41-486f-bf50-5fc9dfc29c9d",
   "metadata": {},
   "source": [
    "### 시퀀스 자료형\n",
    "\n",
    "- 정의: 여러 개의 값을 순서대로 저장하는 자료형\n",
    "- 대표적인 시퀀스 자료형 : \n",
    "    - 문자열    \"hello\" 글자들이 순서대로 모인것\n",
    "    - 리스트    [1, 2, 3] 여러 데이터로 순서대로 저징\n",
    "    - 튜플      (10,20,30) : 리스트처럼 생겼지만 수정 불가\n",
    "    - range     range(5) : 순서대로 증가하는 숫자들\n",
    "- 시퀀스 자료형의 공통 특징\n",
    "    1. 인덱스로 값에 접근할 수 있다.\n",
    "    2. 반복문으로 하나씩 꺼내 쓸 수 있다.\n",
    "    3. len() 함수로 길이를 알 수 있다.\n",
    "    4. +, * 연산도 가능하다."
   ]
  },
  {
   "cell_type": "code",
   "execution_count": 51,
   "id": "e934db10-8dc8-408e-8032-22cde08aa397",
   "metadata": {},
   "outputs": [],
   "source": [
    "import random"
   ]
  },
  {
   "cell_type": "code",
   "execution_count": 53,
   "id": "20844dd7-2312-4b91-83f6-9fb47046e6b0",
   "metadata": {},
   "outputs": [
    {
     "name": "stdout",
     "output_type": "stream",
     "text": [
      "11\n",
      "1\n",
      "1\n",
      "로또 번호 : [42, 4, 1, 41, 16, 5]\n"
     ]
    }
   ],
   "source": [
    "# EX1.\n",
    "# 두 인수 (1~45)사이의 정수를 임의로 생성하여 반환\n",
    "print(random.randint(1, 45))            # 1 이상 34이하의 정수\n",
    "\n",
    "# 두 인수 사이의 특정 조건을 가지는 정수 중 임의의 수를 반환한다.\n",
    "print(random.randrange(10))             # 0 이상 10 미만의 정수\n",
    "print(random.randrange(1, 20, 2))       # 1 이상 20 미만의 홀수\n",
    "\n",
    "# 로또 번호 생성기\n",
    "def generate_lotto() :\n",
    "    # 1부터 45 사이의 숫자 중 6개를 임의로 선택하여 리스트에 저장한다.\n",
    "    lotto = random.sample(range(1, 46), 6)\n",
    "    return lotto\n",
    "\n",
    "lotto_numbers = generate_lotto()\n",
    "print(\"로또 번호 :\", lotto_numbers)"
   ]
  },
  {
   "cell_type": "code",
   "execution_count": 55,
   "id": "67f77a23-b461-42e9-8138-4718bcaa0f83",
   "metadata": {},
   "outputs": [
    {
     "name": "stdin",
     "output_type": "stream",
     "text": [
      "참여할 사람들을 입력하세요 >>  에이\n",
      "참여할 사람들을 입력하세요 >>  비\n",
      "참여할 사람들을 입력하세요 >>  씨\n",
      "참여할 사람들을 입력하세요 >>  디\n",
      "참여할 사람들을 입력하세요 >>  이\n"
     ]
    },
    {
     "name": "stdout",
     "output_type": "stream",
     "text": [
      "아이스크림 내기에 참여할 사람들은 ['에이', '비', '씨', '디', '이'] 입니다\n",
      "내기에 걸린 사람은 에이 입니다.\n"
     ]
    }
   ],
   "source": [
    "# EX2. 뽑기 게임 만들기\n",
    "# 랜덤으로 당첨자 뽑아\n",
    "def generate_win(person) :\n",
    "    winner = random.choice(person)\n",
    "    return winner\n",
    "\n",
    "# 빈 리스트 생성\n",
    "list_persons = []\n",
    "\n",
    "# 5명의 참가자를 입력 받아 리스트에 추가\n",
    "for p in range(1, 6) :\n",
    "    person = input(\"참여할 사람들을 입력하세요 >> \")\n",
    "    list_persons.append(person)\n",
    "\n",
    "print(\"아이스크림 내기에 참여할 사람들은\", list_persons, \"입니다\")\n",
    "\n",
    "# 당첨자 뽑기 및 출력\n",
    "winner = generate_win(list_persons)\n",
    "print(\"내기에 걸린 사람은\", winner, \"입니다.\")"
   ]
  },
  {
   "cell_type": "code",
   "execution_count": 57,
   "id": "18a05148-da08-4f74-8bdf-72545105c601",
   "metadata": {},
   "outputs": [
    {
     "name": "stdout",
     "output_type": "stream",
     "text": [
      "가위 바위 보 게임 시작~!\n",
      "\n"
     ]
    },
    {
     "name": "stdin",
     "output_type": "stream",
     "text": [
      "가위 바위 보 중에 하나를 입력하세요 >>  가위\n"
     ]
    },
    {
     "name": "stdout",
     "output_type": "stream",
     "text": [
      "\n",
      "컴퓨터 = 보\n",
      "사용자 = 가위\n",
      "\n",
      "사용자 승!\n",
      "\n",
      "현재 스코어 → 사용자 : 1승 / 컴퓨터 : 0승\n",
      "\n"
     ]
    },
    {
     "name": "stdin",
     "output_type": "stream",
     "text": [
      "가위 바위 보 중에 하나를 입력하세요 >>  보\n"
     ]
    },
    {
     "name": "stdout",
     "output_type": "stream",
     "text": [
      "\n",
      "컴퓨터 = 바위\n",
      "사용자 = 보\n",
      "\n",
      "사용자 승!\n",
      "\n",
      "현재 스코어 → 사용자 : 2승 / 컴퓨터 : 0승\n",
      "\n",
      "사용자 최종 승리!\n"
     ]
    }
   ],
   "source": [
    "# EX3. 가위바위보 게임 만들기\n",
    "# 3판 2선승\n",
    "options = [\"가위\", \"바위\", \"보\"]\n",
    "\n",
    "# 승수 저장\n",
    "user_win = 0\n",
    "computer_win = 0\n",
    "\n",
    "print(\"가위 바위 보 게임 시작~!\")\n",
    "print()\n",
    "\n",
    "while user_win < 2 and computer_win < 2 :\n",
    "    # 사용자 입력 추가\n",
    "    user_choice = input(\"가위 바위 보 중에 하나를 입력하세요 >> \")\n",
    "    # 컴퓨터\n",
    "    computer = random.choice(options)\n",
    "\n",
    "    print()\n",
    "    print(f\"컴퓨터 = {computer}\")\n",
    "    print(f\"사용자 = {user_choice}\")\n",
    "    print()\n",
    "\n",
    "    # 승부 판단\n",
    "    if user_choice == computer :\n",
    "        print(\"비겼습니다.\\n\")\n",
    "    elif ((user_choice == \"가위\" and computer == \"보\") or \\\n",
    "        (user_choice == \"바위\" and computer == \"가위\") or \\\n",
    "        (user_choice == \"보\" and computer == \"바위\"))  :\n",
    "        print(\"사용자 승!\\n\")\n",
    "        user_win += 1\n",
    "    elif user_choice in options :\n",
    "        print(\"컴퓨터 승!\\n\")\n",
    "        computer_win += 1\n",
    "    else :\n",
    "        print(\"입력이 올바르지 않습니다. 다시 입력해 주세요. \\n\")\n",
    "\n",
    "    print(f\"현재 스코어 → 사용자 : {user_win}승 / 컴퓨터 : {computer_win}승\\n\")\n",
    "\n",
    "# 게임 결과 출력\n",
    "if user_win == 2 :\n",
    "    print(\"사용자 최종 승리!\")\n",
    "else :\n",
    "    print(\"컴퓨터 최종 승리!\")"
   ]
  },
  {
   "cell_type": "code",
   "execution_count": 59,
   "id": "06418dec-ed51-4726-9a32-7a4ceb16335a",
   "metadata": {},
   "outputs": [
    {
     "name": "stdout",
     "output_type": "stream",
     "text": [
      "[1, 2, 5, 4, 3]\n",
      "['자바', '씨쁠쁠', '씨언어', '파이썬']\n"
     ]
    }
   ],
   "source": [
    "# EX4.\n",
    "myList = [1, 2, 3, 4, 5]\n",
    "random.shuffle(myList)\n",
    "print(myList)       # 순서가 섞인 결과가 출력된다.\n",
    "\n",
    "students = [\"씨언어\", \"파이썬\", \"자바\", \"씨쁠쁠\"]\n",
    "random.shuffle(students)\n",
    "print(students)"
   ]
  },
  {
   "cell_type": "markdown",
   "id": "669b09ad-34a0-413d-ac3e-c107074e9109",
   "metadata": {},
   "source": [
    "## 3. datetime 모듈\n",
    "\n",
    "- 오늘 날짜를 출력하거나, 두 날짜 사이의 시간 차이를 계산하는 등 다양한 작업을 할 수 있다."
   ]
  },
  {
   "cell_type": "code",
   "execution_count": 63,
   "id": "cddf4b63-0edb-4892-9c40-c4c4b37be3a9",
   "metadata": {},
   "outputs": [],
   "source": [
    "import datetime"
   ]
  },
  {
   "cell_type": "code",
   "execution_count": 65,
   "id": "77aba84c-8724-4785-82cd-470926b9edc0",
   "metadata": {},
   "outputs": [
    {
     "name": "stdout",
     "output_type": "stream",
     "text": [
      "2025-07-09 14:31:12.452420\n",
      "오늘 날짜는  2025-07-09 입니다.\n",
      "지금은 2025 년 입니다.\n",
      "집에 갈 시간 2025-07-09 14:31:12.452420\n"
     ]
    }
   ],
   "source": [
    "# 현재 날짜 및 시간 반환\n",
    "dateTimeToday = datetime.datetime.now()\n",
    "print(dateTimeToday)\n",
    "\n",
    "# 날짜만 떼어서 사용하기\n",
    "print(\"오늘 날짜는 \", dateTimeToday.date(), \"입니다.\")\n",
    "\n",
    "# 년도 출력하기\n",
    "print(\"지금은\", dateTimeToday.year, \"년 입니다.\")\n",
    "\n",
    "# 시간 가져오기\n",
    "now = datetime.datetime.now()\n",
    "print(\"집에 갈 시간\", now)"
   ]
  },
  {
   "cell_type": "code",
   "execution_count": null,
   "id": "49d06524-b6a9-4932-8bc3-17745e37ab88",
   "metadata": {},
   "outputs": [],
   "source": []
  }
 ],
 "metadata": {
  "kernelspec": {
   "display_name": "Python [conda env:base] *",
   "language": "python",
   "name": "conda-base-py"
  },
  "language_info": {
   "codemirror_mode": {
    "name": "ipython",
    "version": 3
   },
   "file_extension": ".py",
   "mimetype": "text/x-python",
   "name": "python",
   "nbconvert_exporter": "python",
   "pygments_lexer": "ipython3",
   "version": "3.12.7"
  }
 },
 "nbformat": 4,
 "nbformat_minor": 5
}
