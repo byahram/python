{
 "cells": [
  {
   "cell_type": "markdown",
   "id": "952ac9ef-1101-479c-bf8f-a6e0290b8dbe",
   "metadata": {},
   "source": [
    "## 웹 크롤링\n",
    "\n",
    "- 웹(web)상에 있는 정보를 자동으로 수집하는 기술\n",
    "- 전체적으로 긁어 오는 것"
   ]
  },
  {
   "cell_type": "markdown",
   "id": "4f50e9f0-6ce5-4804-9aeb-067175971390",
   "metadata": {},
   "source": [
    "## 웹 스크래핑\n",
    "\n",
    "- 읽어온 웹 페이지에서 내가 원하는 정보만 추출하는 것\n",
    "- 예시\n",
    "    - 쇼핑몰에서 상품명, 가격, 평점 자동으로 수집\n",
    "    - 뉴스 사이트에서 최신 기사 제목, 날짜 수집\n",
    "    - 블로그 글 제목, 리뷰, 이미지 모으기"
   ]
  },
  {
   "cell_type": "markdown",
   "id": "2df07e58-5895-411a-9dd2-32407637cd6d",
   "metadata": {},
   "source": [
    "## 클라이언트와 서버의 개념\n",
    "\n",
    "- 클라이언트(Client) : 요청하는 쪽 (우리가 사용하는 웹 브라우저)\n",
    "- 서버(Server) : 요청을 받아서 응답하는 쪽 (네이버, 유튜브, 구글)"
   ]
  },
  {
   "cell_type": "markdown",
   "id": "3a8f685b-aee0-4cff-9e00-192cce9d0700",
   "metadata": {},
   "source": [
    "## http 통신 이해하기\n",
    "\n",
    "- HyperText Transfer Protocol(하이퍼텍스트 전송 규약)의 줄임말이다.\n",
    "- 웹 브라우저와 웹 서버가 서로 데이터를 주고 받는 통신 규칙"
   ]
  },
  {
   "cell_type": "markdown",
   "id": "df35a6e3-18ea-4cda-ad86-f60431dfcadf",
   "metadata": {},
   "source": [
    "## Http vs Https\n",
    "\n",
    "|             |       Http        |       Https                   |\n",
    "|---|---|---|\n",
    "|의미          | 하이퍼텍스 전송 규약 | 보안이 추가된 Https        |\n",
    "|데이터 암호화  | X                 | O (SSL/TLS로 암호화)         |\n",
    "|보안성        | 낮음               | 높음(개인정보 로그인에 적합) |"
   ]
  },
  {
   "cell_type": "markdown",
   "id": "3937851d-5616-4349-b7c2-1092f4b6bf09",
   "metadata": {},
   "source": [
    "## 크롤링 툴\n",
    "\n",
    "1. 구글 코랩\n",
    "    - 구글이 제공하는 무료 온라인 파이썬 실행 환경이다.\n",
    "    - 특징: 구글 드라이브에 자동 저장된다.\n",
    "         : 설치 필요 없음\n",
    "         : GPU 무료 제공(딥러닝에 유용)\n",
    "         : 주피터 노트북 방식 사용\n",
    "2. 주피터 노트북"
   ]
  },
  {
   "cell_type": "markdown",
   "id": "a6484066-42fd-411c-b810-dfea02ee76f2",
   "metadata": {},
   "source": [
    "## 인코딩\n",
    "\n",
    "- 사람이 읽을 수 잇는 글자(문자)를 컴퓨터가 이해할 수 있는 숫자(코드)로 바꾸는 것\n",
    "- UTF-8 : 전 세계 모든 문자 지원! 웹에서 가장 많이 사용된다."
   ]
  },
  {
   "cell_type": "markdown",
   "id": "2d75fc47-2a12-421d-b02f-306106eddf20",
   "metadata": {},
   "source": [
    "## ctrl + u\n",
    "\n",
    "- 웹페이지의 원래 html 코드를 보여주는 기능이다.\n",
    "- 즉, 처음에 웹서버에서 받은 그대로를 보여준다.\n",
    "    - 요리하기 전 레시피 종이"
   ]
  },
  {
   "cell_type": "markdown",
   "id": "a13ea51f-fc05-45b5-a518-5ecf4d3d6029",
   "metadata": {},
   "source": [
    "## F12\n",
    "\n",
    "- 웹 페이지를 실시간으로 검사하고 수정할 수 있는 개발자 도구이다.\n",
    "- HTML, CSS, JS, 네트워크 상태 등 다 볼 수 있다.\n",
    "- 실시간으로 바뀐 내용을 볼 수 있다."
   ]
  },
  {
   "cell_type": "markdown",
   "id": "567a898c-43a4-4025-aca8-d53dd0b92c4e",
   "metadata": {},
   "source": [
    "```\n",
    "<!DOCTYPE html>\n",
    "<!-- 이 문서는 HTML5 문서임을 선언함. 브라우저에게 HTML5 문법으로 해석하라고 알려주는 역할 -->\n",
    "\n",
    "<html lang=\"ko\">\n",
    "<!-- 문서의 주 언어가 한국어임을 명시함 -->\n",
    "\n",
    "<head>\n",
    "<!-- 화면에는 안 보이지만, 문서 정보(제목, 문자 등)를 담는 공간 -->\n",
    "\n",
    "    <meta charset=\"UTF-8\">\n",
    "    <!-- 문자 인코딩을 UTF-8로 설정함 -->\n",
    "    <!-- 인코딩? 사람이 읽을 수 있는 글자(문자)를 컴퓨터가 이해할 수 있는 숫자(코드)로 바꾸는 것 -->\n",
    "    <!-- UTF-8: 전 세계 모든 문자 지원. 웹이서 가장 많이 사용된다. -->\n",
    "\n",
    "    <title>Title</title>\n",
    "    <!-- 브라우저 탭에 표시될 제목을 설정. 검색 결과의 제목으로도 사용될 수 있다. -->\n",
    "</head>\n",
    "<body>\n",
    "<!-- 실제로 브라우저에 보이는 콘텐츠를 담는 영역 -->\n",
    "\n",
    "    <h1>보이는 제목</h1>\n",
    "    <!-- 가장 큰 제목(heading 1) 페이지에서 중요한 제목일 때 사용 -->\n",
    "\n",
    "    <p>본문입니다.</p>\n",
    "    <!-- 일반 문단 텍스트를 작성할 때 사용하는 태그 -->\n",
    "</body>\n",
    "</html>\n",
    "```"
   ]
  },
  {
   "cell_type": "markdown",
   "id": "76fdeea0-6494-4a83-b289-e5d5221f4697",
   "metadata": {},
   "source": [
    "# 웹크롤링 : naver.com"
   ]
  },
  {
   "cell_type": "code",
   "execution_count": 33,
   "id": "81d6fdb4-c99c-4484-afad-a76421282fcf",
   "metadata": {},
   "outputs": [],
   "source": [
    "'''\n",
    "[requests 라이브러리]\n",
    "\n",
    "- HTTP 통신을 위한 외부 라이브러리로, 웹 페이지에서 데이터를 요청하거나 응답을 받을 때 사용된다.\n",
    "- rq는 별칭이다(alias)\n",
    "'''\n",
    "import requests as rq"
   ]
  },
  {
   "cell_type": "code",
   "execution_count": 35,
   "id": "d773de74-2a97-4967-a9f9-474d1ce2d12f",
   "metadata": {},
   "outputs": [
    {
     "data": {
      "text/plain": [
       "<Response [200]>"
      ]
     },
     "execution_count": 35,
     "metadata": {},
     "output_type": "execute_result"
    }
   ],
   "source": [
    "url = \"https://www.naver.com/\"\n",
    "\n",
    "'''\n",
    "[get 요청]\n",
    "\n",
    "- http통신에서 서버에 정보를 요청할 때 사용하는 요청 방식이다.\n",
    "- 클라이언트는 get요청을 통해 특정 리소스(URL)을 요청하고, 서버는 해당 리소스의 내용을 응답으로 반환한다.\n",
    "\n",
    "[post 요청]\n",
    "\n",
    "- http 통신에서 서버에 데이터를 제출하거나 전송할 때 사용하는 요청 방식이다.\n",
    "- 주로 로그인 정보 제출, 회원가입, 글쓰기, 파일 업로드 등의 작업에서 사용된다.\n",
    "\n",
    "[get vs post]\n",
    "\n",
    "              GET                           POST\n",
    "구분          데이터 요청                   데이터 제출\n",
    "보안성        낮음(url 노출됨)              높음(url이 안보이기 때문)\n",
    "사용 예시     검색, 페이지보기              로그인, 폼 제출, 댓글 작성\n",
    "'''\n",
    "\n",
    "rq.get(url)\n",
    "rq.post(url)"
   ]
  },
  {
   "cell_type": "code",
   "execution_count": 37,
   "id": "69e9600d-748b-4e6a-b0c4-5c42383a4237",
   "metadata": {},
   "outputs": [
    {
     "name": "stdout",
     "output_type": "stream",
     "text": [
      "404\n"
     ]
    },
    {
     "data": {
      "text/plain": [
       "'\\n[상태코드:status_code]\\n\\n<Response [200]>\\n: 웹사이트에 요청을 보냈을 때, 서버가 요청을 잘 받았고, 정상적으로 처리했음을 알리는 숫자\\n\\n<Response [404]>\\n: Not Found. 요청한 페이지가 없다.\\n\\n- http 통신에서 서버는 요청을 처리한 결과를 숫자 코드로 응답해준다.\\n- 200 : 요청이 성공적으로 처리 됨\\n- 403 : 접근 권한 없음\\n- 500 : 서버 오류 발생\\n'"
      ]
     },
     "execution_count": 37,
     "metadata": {},
     "output_type": "execute_result"
    }
   ],
   "source": [
    "url = \"https://www.naver.com/a\"\n",
    "\n",
    "res = rq.get(url)\n",
    "\n",
    "print(res.status_code)      # 응답 코드 가져오기\n",
    "\n",
    "'''\n",
    "[상태코드:status_code]\n",
    "\n",
    "<Response [200]>\n",
    ": 웹사이트에 요청을 보냈을 때, 서버가 요청을 잘 받았고, 정상적으로 처리했음을 알리는 숫자\n",
    "\n",
    "<Response [404]>\n",
    ": Not Found. 요청한 페이지가 없다.\n",
    "\n",
    "- http 통신에서 서버는 요청을 처리한 결과를 숫자 코드로 응답해준다.\n",
    "- 200 : 요청이 성공적으로 처리 됨\n",
    "- 403 : 접근 권한 없음\n",
    "- 500 : 서버 오류 발생\n",
    "'''"
   ]
  },
  {
   "cell_type": "code",
   "execution_count": 40,
   "id": "c3532fd9-a286-4991-b349-14211a73fd02",
   "metadata": {},
   "outputs": [
    {
     "name": "stdout",
     "output_type": "stream",
     "text": [
      "200\n"
     ]
    }
   ],
   "source": [
    "url = \"https://www.naver.com/\"\n",
    "\n",
    "'''\n",
    "[requests.get()]\n",
    "\n",
    "- requests.get() 함수는 GET 요청을 보내고, 그 응답 결과를 res라는 변수에 저장한다.\n",
    "- naver 서버에 요청을 보내고 서버가 보내준 응답을 res에 담는 것\n",
    "'''\n",
    "\n",
    "res = rq.get(url)\n",
    "\n",
    "print(res.status_code)"
   ]
  },
  {
   "cell_type": "code",
   "execution_count": 42,
   "id": "b693df61-3a87-468a-a437-9b404ed71063",
   "metadata": {},
   "outputs": [
    {
     "name": "stdout",
     "output_type": "stream",
     "text": [
      "<Response [200]>\n",
      "{'Date': 'Thu, 10 Jul 2025 05:30:57 GMT', 'content-type': 'text/html; charset=UTF-8', 'transfer-encoding': 'chunked', 'set-cookie': 'PM_CK_loc=948a920f2e86557d7d499dfde5077cc4fea71685e27f38d32e54e62af003f16a; Expires=Fri, 11 Jul 2025 05:30:57 GMT; Path=/; HttpOnly', 'cache-control': 'no-cache, no-store, must-revalidate', 'pragma': 'no-cache', 'x-frame-options': 'DENY', 'x-xss-protection': '1; mode=block', 'content-encoding': 'gzip', 'strict-transport-security': 'max-age=63072000; includeSubdomains', 'referrer-policy': 'unsafe-url', 'server': 'nfront'}\n"
     ]
    }
   ],
   "source": [
    "'''\n",
    "[헤더 가져오기]\n",
    "\n",
    "- http 요청이나 응답에 포함되는 메타데이터(부가정보)로, 클라이언트(우리)와 서버(네이버)가 서로 어떻게 통신할 지 알려주는 설명서 같은 역할이다.\n",
    "\n",
    "- Content-Type : 서버가 보내는 데이터의 종류\n",
    "- date : 서버가 응답을 보낸 시간\n",
    "- server : 서버의 이름이나 종류\n",
    "- set-Cookie : 클라이언트에게 저장하라고 명령하는 쿠키\n",
    "'''\n",
    "\n",
    "print(res)\n",
    "print(res.headers)"
   ]
  },
  {
   "cell_type": "code",
   "execution_count": 54,
   "id": "aab1b7f2-7bd8-4747-ac3c-222682e376c5",
   "metadata": {},
   "outputs": [
    {
     "name": "stdout",
     "output_type": "stream",
     "text": [
      "   <!doctype html> <html lang=\"ko\" class=\"fzoom\"> <head> <meta charset=\"utf-8\"> <meta name=\"Referrer\" content=\"origin\"> <meta http-equiv=\"X-UA-Compatible\" content=\"IE=edge\"> <meta name=\"viewport\" content=\"width=1190\"> <title>NAVER</title> <meta name=\"apple-mobile-web-app-title\" content=\"NAVER\"/> <meta name=\"robots\" content=\"index,nofollow\"/> <meta name=\"description\" content=\"네이버 메인에서 다양한 정보와 유용한 컨텐츠를 만나 보세요\"/> <meta property=\"og:title\" content=\"네이버\"> <meta property=\"og:url\" content=\"https://www.naver.com/\"> <meta property=\"og:image\" content=\"https://s.pstatic.net/static/www/mobile/edit/2016/0705/mobile_212852414260.png\"> <meta property=\"og:description\" content=\"네이버 메인에서 다양한 정보와 유용한 컨텐츠를 만나 보세요\"/> <meta name=\"twitter:card\" content=\"summary\"> <meta name=\"twitter:title\" content=\"\"> <meta name=\"twitter:url\" content=\"https://www.naver.com/\"> <meta name=\"twitter:image\" content=\"https://s.pstatic.net/static/www/mobile/edit/2016/0705/mobile_212852414260.png\"> <meta name=\"twitter:description\" c\n"
     ]
    }
   ],
   "source": [
    "'''\n",
    "[html 코드 보기]\n",
    "\n",
    "- requests.get으로 받은 http 응답에서 본문을 문자열로 반환하는 속성이다.\n",
    "- 서버가 보내준 html문서 전체를 출력하라는 뜻이다.\n",
    "'''\n",
    "\n",
    "# print(res.text) # 사람이 읽는 데이터다.\n",
    "print(res.text[:1000])  # 처음 1000글자만 출력"
   ]
  },
  {
   "cell_type": "code",
   "execution_count": 58,
   "id": "b4542518-862a-461c-ba55-5a8368de1a8d",
   "metadata": {},
   "outputs": [
    {
     "name": "stdout",
     "output_type": "stream",
     "text": [
      "b'   <!doctype html> <html lang=\"ko\" class=\"fzoom\"> <head> <meta charset=\"utf-8\"> <meta name=\"Referrer\" content=\"origin\"> <meta http-equiv=\"X-UA-Compatible\" content=\"IE=edge\"> <meta name=\"viewport\" content=\"width=1190\"> <title>NAVER</title> <meta name=\"apple-mobile-web-app-title\" content=\"NAVER\"/> <meta name=\"robots\" content=\"index,nofollow\"/> <meta name=\"description\" content=\"\\xeb\\x84\\xa4\\xec\\x9d\\xb4\\xeb\\xb2\\x84 \\xeb\\xa9\\x94\\xec\\x9d\\xb8\\xec\\x97\\x90\\xec\\x84\\x9c \\xeb\\x8b\\xa4\\xec\\x96\\x91\\xed\\x95\\x9c \\xec\\xa0\\x95\\xeb\\xb3\\xb4\\xec\\x99\\x80 \\xec\\x9c\\xa0\\xec\\x9a\\xa9\\xed\\x95\\x9c \\xec\\xbb\\xa8\\xed\\x85\\x90\\xec\\xb8\\xa0\\xeb\\xa5\\xbc \\xeb\\xa7\\x8c\\xeb\\x82\\x98 \\xeb\\xb3\\xb4\\xec\\x84\\xb8\\xec\\x9a\\x94\"/> <meta property=\"og:title\" content=\"\\xeb\\x84\\xa4\\xec\\x9d\\xb4\\xeb\\xb2\\x84\"> <meta property=\"og:url\" content=\"https://www.naver.com/\"> <meta property=\"og:image\" content=\"https://s.pstatic.net/static/www/mobile/edit/2016/0705/mobile_212852414260.png\"> <meta property=\"og:description\" content=\"\\xeb\\x84\\xa4\\xec\\x9d\\xb4\\xeb\\xb2\\x84 \\xeb\\xa9\\x94\\xec\\x9d\\xb8\\xec\\x97\\x90\\xec\\x84\\x9c \\xeb\\x8b\\xa4\\xec\\x96\\x91\\xed\\x95\\x9c \\xec\\xa0\\x95\\xeb\\xb3\\xb4\\xec\\x99\\x80 \\xec\\x9c\\xa0\\xec\\x9a\\xa9\\xed\\x95\\x9c \\xec\\xbb\\xa8\\xed\\x85\\x90\\xec\\xb8\\xa0\\xeb\\xa5\\xbc \\xeb\\xa7\\x8c\\xeb\\x82\\x98 \\xeb\\xb3\\xb4\\xec\\x84\\xb8\\xec\\x9a\\x94\"/> <meta name=\"twitter:card\" content=\"summary\"> <meta name=\"twitter:title\" content=\"\"> <meta name=\"twitter:url\" content=\"https://www.naver.com/\"> <meta name=\"twitter:image\" content=\"https://s'\n"
     ]
    }
   ],
   "source": [
    "'''\n",
    "[바이너리 형태로 값을 가져오기]\n",
    "\n",
    "- 컴퓨터가 데이터를 0과 1로 표현한 가장 기본적인 형태를 말한다.\n",
    "- 이진수 만으로 저장된 파일, 이미지, 영상, 오디오 등은 모두 바이너리 데이터로 구성되어 있다.\n",
    "'''\n",
    "\n",
    "# print(res.content) # 컴퓨터가 읽는 바이너리 데이터다.\n",
    "print(res.content[:1000])"
   ]
  },
  {
   "cell_type": "code",
   "execution_count": 60,
   "id": "96be4f9e-2539-43c7-ab66-44cd8c04c1e1",
   "metadata": {},
   "outputs": [
    {
     "data": {
      "text/plain": [
       "'UTF-8'"
      ]
     },
     "execution_count": 60,
     "metadata": {},
     "output_type": "execute_result"
    }
   ],
   "source": [
    "# 인코딩 확인\n",
    "res.encoding"
   ]
  },
  {
   "cell_type": "code",
   "execution_count": 62,
   "id": "c3e30aca-f85f-4f15-80c5-546ee4395b2b",
   "metadata": {},
   "outputs": [
    {
     "name": "stdout",
     "output_type": "stream",
     "text": [
      "https://www.naver.com/?key1=value1&key2=value2\n"
     ]
    }
   ],
   "source": [
    "'''\n",
    "[쿼리스트링 데이터 생성]\n",
    "\n",
    "* 쿼리 스트링이란?\n",
    "    - url 뒤에 붙는 ?로 부터 시작하는 데이터로, 서버에 추가 정보를 전달할 때 사용되는 문자열이다.\n",
    "\n",
    "* 쿼리 스트링 데이터 생성이란?\n",
    "    - URL 뒤에 붙는 ?key=value 형식의 데이터 문자열을 자동으로 만들어내는 것을 말한다.\n",
    "\n",
    "* params = ... : 쿼리 스트링 생성을 도와주는 requests 기능이다.\n",
    "'''\n",
    "res = rq.get(url, params={\"key1\":\"value1\", \"key2\":\"value2\"})\n",
    "print(res.url)"
   ]
  },
  {
   "cell_type": "markdown",
   "id": "a0a8fe8b-e250-4ac8-a13d-d2e02565ef5f",
   "metadata": {},
   "source": [
    "# 웹크롤링 : google.com"
   ]
  },
  {
   "cell_type": "code",
   "execution_count": 65,
   "id": "ed24fdfd-f4ba-4ac1-8a24-789e44ca38f6",
   "metadata": {},
   "outputs": [
    {
     "name": "stdout",
     "output_type": "stream",
     "text": [
      "https://www.google.com/?key1=value1&key2=value2\n"
     ]
    }
   ],
   "source": [
    "url = \"https://www.google.com/\"\n",
    "\n",
    "res = rq.get(url, params={\"key1\":\"value1\", \"key2\":\"value2\"})\n",
    "print(res.url)"
   ]
  },
  {
   "cell_type": "code",
   "execution_count": null,
   "id": "252c3617-782e-4c27-94d4-36c426bd1951",
   "metadata": {},
   "outputs": [],
   "source": []
  }
 ],
 "metadata": {
  "kernelspec": {
   "display_name": "Python [conda env:base] *",
   "language": "python",
   "name": "conda-base-py"
  },
  "language_info": {
   "codemirror_mode": {
    "name": "ipython",
    "version": 3
   },
   "file_extension": ".py",
   "mimetype": "text/x-python",
   "name": "python",
   "nbconvert_exporter": "python",
   "pygments_lexer": "ipython3",
   "version": "3.12.7"
  }
 },
 "nbformat": 4,
 "nbformat_minor": 5
}
