{
 "cells": [
  {
   "cell_type": "markdown",
   "id": "f4970a4c-64d9-4089-aa40-3c2970e92b82",
   "metadata": {},
   "source": [
    "# 함수(Function)"
   ]
  },
  {
   "cell_type": "markdown",
   "id": "7c35d6c3-4a53-4773-b43c-80c757126aa2",
   "metadata": {},
   "source": [
    "## 메모리 구조\n",
    "\n",
    "1. 스택 영역 \n",
    "    - 함수가 호출 될 때 생기는 공간\n",
    "    - 지역 변수나 매개변수가 저장된다.\n",
    "    - 함수가 끝나면 이 영역의 값도 사라진다.\n",
    "2. 힙 영역\n",
    "    - 객체나 리스트 같이 동적으로 생성되는 데이터가 저장된다. \n",
    "    - 함수가 끝나도 참조가 남아있으면 계속 존재한다.\n",
    "3. Global/ Static영역\n",
    "    - 프로그램이 시작될 때부터 끝날 때까지 유지\n",
    "    - 전역 변수, 모듈, 클래스, 함수 정의등 저장된다."
   ]
  },
  {
   "cell_type": "markdown",
   "id": "d6f826e6-128e-405d-b081-9935862ac985",
   "metadata": {
    "jp-MarkdownHeadingCollapsed": true
   },
   "source": [
    "## 함수(Function)란?\n",
    "\n",
    "- 특정 작업을 수행하는 코드 묶음\n",
    "- 어떤 입력값을 받아서 특정 작업을 수행하고, 결과값을 반환하는 코드의 묶음이다.\n",
    "- 필요할 때 마다 재사용 할 수 있고, 코드가 간결하고 구조화 된다.\n",
    "- 단독으로 사용되고 def 키워드로 정의한다."
   ]
  },
  {
   "cell_type": "markdown",
   "id": "0881d9ca-7e07-4b47-a549-2c6891edda91",
   "metadata": {},
   "source": [
    "#### 특징\n",
    "\n",
    "- 단독으로 사용된다.\n",
    "- 재사용이 가능해서 코드의 중복을 줄여준다.\n",
    "- def 키워드로 정의한다."
   ]
  },
  {
   "cell_type": "markdown",
   "id": "06bc8daf-807e-4d22-a282-03cdd645c993",
   "metadata": {},
   "source": [
    "#### 문법\n",
    "\n",
    "```\n",
    "def 함수 이름() :\n",
    "    코드 1\n",
    "    코드 2\n",
    "\n",
    "def  함수이름(매개변수1, 매개변수 2, ...) :\n",
    "    실행할 코드\n",
    "    return 반환값 (선택사항)\n",
    "```"
   ]
  },
  {
   "cell_type": "markdown",
   "id": "4337d794-fa88-4bec-a16f-e6b055bbb9c9",
   "metadata": {},
   "source": [
    "#### 콜론\n",
    "\n",
    ": 함수 정의 후 코드 블록의 시작을 나타낸다.\n",
    "- 함수의 코드 블록은 : (콜론) 다음에 4칸(tab) 들여쓰기 해서 시작해야 한다.\n",
    "- 만약에 들여쓰기 없이 def 키워드와 같은 세로줄에서 코드를 시작하면 자동으로 함수가 종료된 것으로 간주한다."
   ]
  },
  {
   "cell_type": "markdown",
   "id": "6f461f34-8521-449c-870d-745f5a376550",
   "metadata": {
    "jp-MarkdownHeadingCollapsed": true
   },
   "source": [
    "## 메서드(Method)란?\n",
    "\n",
    "- 객체에 종속된 함수로, 클래스 내부에 정의된 함수이다."
   ]
  },
  {
   "cell_type": "markdown",
   "id": "1763cdf9-787b-4ae3-8e70-35302587b86b",
   "metadata": {},
   "source": [
    "#### 특징\n",
    "\n",
    "- 반드시 클래스 안에서 정의된다.\n",
    "- 특정 객체를 통해 호출된다\n",
    "- 객체의 데이터(속성)에 접근하거나 조작할 수 있다."
   ]
  },
  {
   "cell_type": "code",
   "execution_count": 3,
   "id": "35d61638-d798-4336-ad4c-75d226426615",
   "metadata": {},
   "outputs": [
    {
     "name": "stdout",
     "output_type": "stream",
     "text": [
      "10\n"
     ]
    }
   ],
   "source": [
    "# 예제 1\n",
    "def my_func() :         # my_func 이라는 함수 선언\n",
    "    x = 10\n",
    "    print(x)\n",
    "\n",
    "my_func()"
   ]
  },
  {
   "cell_type": "code",
   "execution_count": 5,
   "id": "3997b949-63f1-4cb6-af9c-4269758c278d",
   "metadata": {},
   "outputs": [
    {
     "name": "stdout",
     "output_type": "stream",
     "text": [
      "안녕 반가워!\n"
     ]
    }
   ],
   "source": [
    "# 예제 2\n",
    "def say_hello() :\n",
    "    message = \"안녕 반가워!\"\n",
    "    print(message)\n",
    "\n",
    "say_hello()"
   ]
  },
  {
   "cell_type": "code",
   "execution_count": 7,
   "id": "1cf500ff-0159-41e9-a93a-61d462f844e7",
   "metadata": {},
   "outputs": [
    {
     "name": "stdout",
     "output_type": "stream",
     "text": [
      "16\n"
     ]
    }
   ],
   "source": [
    "# 예제 3\n",
    "def cal() :\n",
    "    num = 4\n",
    "    result = num * num\n",
    "    print(result)\n",
    "    \n",
    "cal()"
   ]
  },
  {
   "cell_type": "code",
   "execution_count": 9,
   "id": "6ad5b60d-4d97-454d-83d3-d3e273eefae8",
   "metadata": {},
   "outputs": [
    {
     "name": "stdout",
     "output_type": "stream",
     "text": [
      "['사과', '바나나', '포도']\n"
     ]
    }
   ],
   "source": [
    "# 예제 4. 리스트 출력하기\n",
    "def print_fruits() :\n",
    "    fruits = [\"사과\", \"바나나\", \"포도\"]\n",
    "    print(fruits)\n",
    "\n",
    "print_fruits()"
   ]
  },
  {
   "cell_type": "code",
   "execution_count": 16,
   "id": "42afebef-c3c9-49f5-882f-cf2e079c4da0",
   "metadata": {},
   "outputs": [
    {
     "name": "stdout",
     "output_type": "stream",
     "text": [
      "안녕하세요\n",
      "제 이름은 파이썬입니다.\n",
      "\n",
      "안녕하세요\n",
      "제 이름은 파이썬입니다.\n"
     ]
    }
   ],
   "source": [
    "# 예제 5.\n",
    "def hello() :\n",
    "    print(\"안녕하세요\")\n",
    "    print(\"제 이름은 파이썬입니다.\")\n",
    "\n",
    "hello()\n",
    "print()\n",
    "hello()"
   ]
  },
  {
   "cell_type": "markdown",
   "id": "bb24bfa5-be1a-4b55-977e-8632b60179bc",
   "metadata": {
    "jp-MarkdownHeadingCollapsed": true
   },
   "source": [
    "## 지역변수와 전역변수"
   ]
  },
  {
   "cell_type": "markdown",
   "id": "0ecc36e8-8874-4416-84bb-1136b7c28080",
   "metadata": {},
   "source": [
    "### 1. 지역변수(Local Variable)\n",
    "\n",
    "- 함수에서만 쓸 수 있다.\n",
    "- 정의 : 함수 내에서 선언된 변수는 그 함수 안에서만 사용할 수 있다."
   ]
  },
  {
   "cell_type": "code",
   "execution_count": 27,
   "id": "b4ff5726-f675-4726-b61b-6b22287543fd",
   "metadata": {},
   "outputs": [
    {
     "name": "stdout",
     "output_type": "stream",
     "text": [
      "hello\n"
     ]
    }
   ],
   "source": [
    "# EX1.\n",
    "def greet() :\n",
    "    message = \"hello\"       # 지역변수\n",
    "    print(message)\n",
    "    \n",
    "greet()"
   ]
  },
  {
   "cell_type": "code",
   "execution_count": 29,
   "id": "99a9555f-e22c-453b-9e77-9ebbe08a2b8f",
   "metadata": {},
   "outputs": [
    {
     "name": "stdout",
     "output_type": "stream",
     "text": [
      "95\n"
     ]
    }
   ],
   "source": [
    "# EX2.\n",
    "def show_score() :\n",
    "    score = 95\n",
    "    print(score)\n",
    "    \n",
    "show_score()"
   ]
  },
  {
   "cell_type": "markdown",
   "id": "639cb6cf-00d7-4448-aa9b-d73f4e589230",
   "metadata": {},
   "source": [
    "### 2. 전역변수\n",
    "\n",
    "- 전체적으로 쓸 수 있다.\n",
    "- 정의 함수 밖에서 선언된 변수는 프로그램 전체에서 사용 가능"
   ]
  },
  {
   "cell_type": "code",
   "execution_count": 34,
   "id": "565842e9-788c-452d-8375-04114a1d4a2c",
   "metadata": {},
   "outputs": [
    {
     "name": "stdout",
     "output_type": "stream",
     "text": [
      "1라운드 점수: 80\n",
      "보너스 라운드 후 점수: 220\n",
      "최종 점수: 220\n"
     ]
    }
   ],
   "source": [
    "# EX1.\n",
    "score = 200  # 전역 변수\n",
    "\n",
    "def game_round():\n",
    "    score = 50  # 지역 변수\n",
    "    score += 30\n",
    "    print(\"1라운드 점수:\", score)\n",
    "\n",
    "def bonus_round():\n",
    "    global score\n",
    "    score += 20\n",
    "    print(\"보너스 라운드 후 점수:\", score)\n",
    "\n",
    "game_round()\n",
    "bonus_round()\n",
    "print(\"최종 점수:\", score)"
   ]
  },
  {
   "cell_type": "code",
   "execution_count": 36,
   "id": "e342b527-1b35-4ed3-a917-34959f1e6fb4",
   "metadata": {},
   "outputs": [
    {
     "name": "stdout",
     "output_type": "stream",
     "text": [
      "함수 안 점수 :  10\n",
      "함수 밖 점수 :  10\n"
     ]
    }
   ],
   "source": [
    "# EX2.\n",
    "score = 0\n",
    "def add_score() :\n",
    "    # 만약 global을 삭제한다면? : 함수 안에 있는 score를 지역변수로 생각하는데, 아직 값이 없어서 오류가 난다.\n",
    "    global score    # 함수 안에서 전역변수를 사용하겠다고 선언\n",
    "    score += 10\n",
    "    print(\"함수 안 점수 : \", score)\n",
    "\n",
    "add_score()\n",
    "print(\"함수 밖 점수 : \", score)"
   ]
  },
  {
   "cell_type": "code",
   "execution_count": 38,
   "id": "f9e9e0ba-c4cc-498a-a8aa-53afa46e342d",
   "metadata": {},
   "outputs": [
    {
     "name": "stdout",
     "output_type": "stream",
     "text": [
      "게임 시작  0\n",
      "게임 시작  50\n"
     ]
    }
   ],
   "source": [
    "# EX3. 게임 점수 시스템\n",
    "score = 100\n",
    "def play_game() :\n",
    "    scoreNum = 0        # 지역 변수 \n",
    "    print(\"게임 시작 \", scoreNum)\n",
    "    scoreNum += 50\n",
    "    print(\"게임 시작 \", scoreNum)\n",
    "\n",
    "play_game()"
   ]
  },
  {
   "cell_type": "code",
   "execution_count": 40,
   "id": "ce19685d-e487-4cf6-b9b4-3905a17ee7f0",
   "metadata": {},
   "outputs": [
    {
     "name": "stdout",
     "output_type": "stream",
     "text": [
      "게임 시작!  0\n",
      "아이템 획득!  50\n",
      "게임 시작!  50\n"
     ]
    }
   ],
   "source": [
    "# EX4. 게임 점수 시스템\n",
    "score = 100\n",
    "def playing() :\n",
    "    global score\n",
    "    score = 0\n",
    "    print(\"게임 시작! \", score)\n",
    "    score += 50\n",
    "    print(\"아이템 획득! \", score)\n",
    "    print(\"게임 시작! \", score)\n",
    "    \n",
    "playing()"
   ]
  },
  {
   "cell_type": "markdown",
   "id": "8f47602c-cfd9-4f15-aaad-e3ac1193adc5",
   "metadata": {
    "jp-MarkdownHeadingCollapsed": true
   },
   "source": [
    "## 매개변수(파라미터, parameter)\n",
    "\n",
    "- 함수가 호출 될 때 외부로 부터 값을 전달받기 위한 변수이다.\n",
    "- 함수는 이 매개변수를 이용하여 전달받은 값을 처리한다."
   ]
  },
  {
   "cell_type": "markdown",
   "id": "d8f1afb1-b493-40b9-b2af-49aefc0f2be5",
   "metadata": {},
   "source": [
    "#### 문법\n",
    "\n",
    "```\n",
    "def 함수이름( 매개변수1, 매개변수2,.....) :\n",
    "    코드1\n",
    "    코드2.....\n",
    "```"
   ]
  },
  {
   "cell_type": "markdown",
   "id": "b2ed6296-272a-4537-a8e4-269635d41994",
   "metadata": {},
   "source": [
    "#### 함수를 호출할 때, 매개변수를 전달하는 방법\n",
    "\n",
    "```\n",
    "함수이름(매개변수1, 매개변수2)\n",
    "```"
   ]
  },
  {
   "cell_type": "code",
   "execution_count": 46,
   "id": "3e3ab0f8-26c8-4841-b63b-ed25c62c3a39",
   "metadata": {},
   "outputs": [
    {
     "name": "stdout",
     "output_type": "stream",
     "text": [
      "안녕,  민지야\n",
      "안녕,  민주\n"
     ]
    }
   ],
   "source": [
    "# EX1. 매개변수\n",
    "def say_hello(name) :\n",
    "    print(\"안녕, \", name)\n",
    "\n",
    "# 인자 : 함수를 호출할 때 전달하는 실제 값\n",
    "say_hello(\"민지야\")         # 매개변수에는 name = \"민지\"\n",
    "say_hello(\"민주\")           # 매개변수에는 name = \"민주\""
   ]
  },
  {
   "cell_type": "code",
   "execution_count": 48,
   "id": "2fd5ea2d-6afc-46f5-9821-b98155391b58",
   "metadata": {},
   "outputs": [
    {
     "name": "stdout",
     "output_type": "stream",
     "text": [
      "두수의 합 =  25\n"
     ]
    }
   ],
   "source": [
    "# EX2. 두 수 더하기\n",
    "def add(a, b) :\n",
    "    print(\"두수의 합 = \", a + b)\n",
    "\n",
    "add(10, 15)"
   ]
  },
  {
   "cell_type": "code",
   "execution_count": 50,
   "id": "ce54a849-35f9-4abc-bf19-10c51f50aa91",
   "metadata": {},
   "outputs": [
    {
     "name": "stdout",
     "output_type": "stream",
     "text": [
      "안녕하세요!\n",
      "제 이름은 김송아입니다\n",
      "만나서 반갑습니다.\n"
     ]
    }
   ],
   "source": [
    "# EX3. 매개변수\n",
    "def hello(name) :\n",
    "    print(\"안녕하세요!\")\n",
    "    print(\"제 이름은 \" + name + \"입니다\")\n",
    "    print(\"만나서 반갑습니다.\")\n",
    "\n",
    "hello(\"김송아\")"
   ]
  },
  {
   "cell_type": "code",
   "execution_count": 52,
   "id": "4d8fc99b-cf67-4590-bfd0-1ed6496f8e95",
   "metadata": {},
   "outputs": [
    {
     "name": "stdout",
     "output_type": "stream",
     "text": [
      "12\n"
     ]
    }
   ],
   "source": [
    "# EX4.\n",
    "def multiply(num1, num2) :      # 매개변수(=parameter)\n",
    "    print(num1 * num2)\n",
    "\n",
    "multiply(3, 4)      # 인자"
   ]
  },
  {
   "cell_type": "code",
   "execution_count": 54,
   "id": "d08e8a93-4e53-48f2-ab1a-14e31b0f81e7",
   "metadata": {},
   "outputs": [
    {
     "name": "stdout",
     "output_type": "stream",
     "text": [
      "안녕하세요, 제 이름은  제니 입니다\n",
      "제 나이는  20 입니다\n",
      "잘 부탁드립니다.\n"
     ]
    }
   ],
   "source": [
    "# EX5.\n",
    "def introduce(name, age) :\n",
    "    print(\"안녕하세요, 제 이름은 \", name, \"입니다\")\n",
    "    print(\"제 나이는 \",  age, \"입니다\")\n",
    "    print(\"잘 부탁드립니다.\")\n",
    "\n",
    "introduce(\"제니\", 20)"
   ]
  },
  {
   "cell_type": "markdown",
   "id": "fdf98bd1-d074-4d2f-ad0f-1a17782ba6e5",
   "metadata": {
    "jp-MarkdownHeadingCollapsed": true
   },
   "source": [
    "## return\n",
    "\n",
    "- 함수의 결과값을 함수 바깥으로 돌려주는 역할을 한다.\n",
    "- 함수 안에서 어떤 값을 계산하고, 그 값을 밖에서 쓰고 싶을 때 꼭 필요하다."
   ]
  },
  {
   "cell_type": "markdown",
   "id": "e6a058d8-8783-44f8-b2c5-526498d48113",
   "metadata": {},
   "source": [
    "#### print() vs return\n",
    "\n",
    "|기능|특징||\n",
    "|---|---|---|\n",
    "|print()|값을 화면에 보여줌|: 결과를 \"출력\"만 한다. |\n",
    "|return|값을 함수 밖으로 전달|: 결과를 변수에 저장하거나, 다른 계산에 사용 가능|"
   ]
  },
  {
   "cell_type": "markdown",
   "id": "874602a5-5db4-4c4a-9e1e-b3e94b4679e4",
   "metadata": {},
   "source": [
    "#### 문법\n",
    "\n",
    "```\n",
    "def 함수이름 (매개변수) :\n",
    "    코드1\n",
    "    return 함수 밖으로 전달하고 싶은 값\n",
    "```\n",
    "\n",
    "* return은 함수 내에 있어야 한다."
   ]
  },
  {
   "cell_type": "code",
   "execution_count": 63,
   "id": "664efd86-821a-4f1d-a0b1-764647ee20de",
   "metadata": {},
   "outputs": [
    {
     "name": "stdout",
     "output_type": "stream",
     "text": [
      "8\n",
      "8\n"
     ]
    }
   ],
   "source": [
    "# EX1.\n",
    "def add2(a, b) :\n",
    "    print(a + b)\n",
    "add2(3, 5)\n",
    "\n",
    "# return을 쓰는 경우\n",
    "def add3(a, b) :\n",
    "    return a + b            # 함수 밖으로 더한 값을 내보내고 싶다.\n",
    "\n",
    "result = add3(3, 5)\n",
    "print(result) "
   ]
  },
  {
   "cell_type": "code",
   "execution_count": 65,
   "id": "5ba3020a-3c30-4aba-8178-fc977d6154df",
   "metadata": {},
   "outputs": [
    {
     "name": "stdout",
     "output_type": "stream",
     "text": [
      "24\n"
     ]
    }
   ],
   "source": [
    "# EX2.\n",
    "def multiply2(x, y) :\n",
    "    return x * y\n",
    "\n",
    "result = multiply2(4, 6)\n",
    "print(result)"
   ]
  },
  {
   "cell_type": "markdown",
   "id": "59637d1c-97e0-4400-9318-49bbd62fd60f",
   "metadata": {
    "jp-MarkdownHeadingCollapsed": true
   },
   "source": [
    "## 매개변수의 경우의 수"
   ]
  },
  {
   "cell_type": "markdown",
   "id": "510f9ff6-b008-4215-822f-c2d1025695d1",
   "metadata": {},
   "source": [
    "1. 경우의 수 : 매개변수 x, return x\n",
    "    - 특징 : 외부에서 값도 안받고, 값을 돌려주지도 않는다. 그냥 실행만 하는 함수다.\n",
    "\n",
    "        ```\n",
    "        def hello() :\n",
    "            print(\"안녕하세요\")\n",
    "        hello() \n",
    "        ```"
   ]
  },
  {
   "cell_type": "markdown",
   "id": "6439554d-dfc1-4c2e-a714-e72d09d86eaa",
   "metadata": {},
   "source": [
    "2. 경우의 수 : 매개변수 o,  return x\n",
    "    - 특징 : 외부에서 값을 받기만 한다.  계산 결과는 print()로 출력만 한다.\n",
    "\n",
    "        ```\n",
    "        def greet(name)\n",
    "            print(name)\n",
    "        greet(\"슬\")\n",
    "        ```"
   ]
  },
  {
   "cell_type": "markdown",
   "id": "d33b856e-9af1-4f6e-8d42-914cd1629b34",
   "metadata": {},
   "source": [
    "3. 경우의 수 : 매개변수 x, return o\n",
    "    - 특징 : 외부 값을 받지 않고, 내부에서 계산한 결과를 돌려줌\n",
    "   \n",
    "        ```\n",
    "        def get_number() :\n",
    "            return 42\n",
    "        num = get_number()\n",
    "        print(num)\n",
    "        ```"
   ]
  },
  {
   "cell_type": "markdown",
   "id": "514abb32-b7a1-411d-a360-3421ecb6f2bc",
   "metadata": {},
   "source": [
    "4. 경우의 수 : 매개변수 o, return o\n",
    "    - 특징 : 외부값을 받고 게산한 결과를 함수 밖으로 돌려줌. 실무에서 자주 쓰는 형태\n",
    "\n",
    "        ```\n",
    "        def add(a, b)\n",
    "            return a + b\n",
    "        \n",
    "        result = add(3,5)\n",
    "        print(result)\n",
    "        ```"
   ]
  },
  {
   "cell_type": "code",
   "execution_count": 77,
   "id": "c4160a35-e8d9-48bd-9cc3-0ba44cb9253c",
   "metadata": {},
   "outputs": [
    {
     "name": "stdout",
     "output_type": "stream",
     "text": [
      "42\n"
     ]
    }
   ],
   "source": [
    "# EX1.\n",
    "def get_number() :\n",
    "    return 42\n",
    "\n",
    "num = get_number()\n",
    "print(num)"
   ]
  },
  {
   "cell_type": "code",
   "execution_count": 79,
   "id": "f30a4490-985f-40c3-ab02-9a7b8160b2bb",
   "metadata": {},
   "outputs": [
    {
     "name": "stdout",
     "output_type": "stream",
     "text": [
      "8\n"
     ]
    }
   ],
   "source": [
    "# EX2.\n",
    "def add5(a, b) :\n",
    "    return a + b\n",
    "\n",
    "result = add5(3,5)\n",
    "print(result)"
   ]
  },
  {
   "cell_type": "code",
   "execution_count": 81,
   "id": "61d58d71-3c85-43a7-9742-68686815fc6e",
   "metadata": {},
   "outputs": [
    {
     "name": "stdout",
     "output_type": "stream",
     "text": [
      "15\n"
     ]
    }
   ],
   "source": [
    "# EX3.\n",
    "def plus(a, b) :\n",
    "    return a + b\n",
    "\n",
    "sum = plus(5, 10)\n",
    "print(sum)"
   ]
  },
  {
   "cell_type": "code",
   "execution_count": 83,
   "id": "c98a9838-dab0-45bd-b71f-abb23a9072fc",
   "metadata": {},
   "outputs": [
    {
     "name": "stdout",
     "output_type": "stream",
     "text": [
      "16\n",
      "16\n"
     ]
    }
   ],
   "source": [
    "# EX4.\n",
    "def plus_add(a, b) :\n",
    "    sum = a + b\n",
    "    if sum % 2 == 0 :\n",
    "        return sum\n",
    "    else :\n",
    "        return sum + 1\n",
    "\n",
    "print(plus_add(5, 10))\n",
    "print(plus_add(6, 10))  "
   ]
  },
  {
   "cell_type": "code",
   "execution_count": 85,
   "id": "04db1a85-b8e0-449b-8885-cbae02deb591",
   "metadata": {},
   "outputs": [
    {
     "name": "stdout",
     "output_type": "stream",
     "text": [
      "7\n",
      "10\n"
     ]
    }
   ],
   "source": [
    "# EX5. 세 수 중 가장 큰 수를 반환하기\n",
    "# max() 함수는 여러 값 중에서 가장 큰 값을 찾아서 돌려주는 함수이다.\n",
    "# min() 함수는 가장 작은 값을 돌려주는 함수이다.\n",
    "\n",
    "def find_max(a, b, c) :\n",
    "    # max = a\n",
    "    # if b > max :\n",
    "    #     return b\n",
    "    # elif c > max :\n",
    "    #     return c\n",
    "    # else :\n",
    "    #     return a\n",
    "    return max(a, b, c)\n",
    "\n",
    "print(find_max(3, 7, 5))\n",
    "print(find_max(10, 2, 8))\n"
   ]
  },
  {
   "cell_type": "code",
   "execution_count": 87,
   "id": "fc5bedb4-3dc3-4651-8a7a-5c4979113cac",
   "metadata": {},
   "outputs": [
    {
     "name": "stdout",
     "output_type": "stream",
     "text": [
      "91\n",
      "z\n"
     ]
    }
   ],
   "source": [
    "# EX6. 리스트에서 최댓값 찾기\n",
    "scores = [82, 91, 77, 88]\n",
    "print(max(scores))\n",
    "print(max(\"a\", \"z\", \"c\"))       # 아스키코드표에 의해서 결과가 나온다. a:97, z: 122"
   ]
  },
  {
   "cell_type": "code",
   "execution_count": 89,
   "id": "1fa93c33-b823-4ad6-93b4-608ca21f2621",
   "metadata": {},
   "outputs": [
    {
     "name": "stdout",
     "output_type": "stream",
     "text": [
      "False\n"
     ]
    }
   ],
   "source": [
    "# EX7.\n",
    "def check_seven(num) :\n",
    "    if num % 7 == 0 :\n",
    "        return True\n",
    "    else :\n",
    "        return False\n",
    "    \n",
    "print(check_seven(3))"
   ]
  },
  {
   "cell_type": "markdown",
   "id": "978194fa-324b-4709-87c7-ef9ea8a22e28",
   "metadata": {
    "jp-MarkdownHeadingCollapsed": true
   },
   "source": [
    "## 팩토리얼\n",
    "\n",
    "- 어떤 자연수 n이 있을 때, 그 수부터 1까지 모든 자연수를 곱한 값을 팩토리얼 이라고 한다.\n",
    "- 기호는 !를 사용하여 표현한다."
   ]
  },
  {
   "cell_type": "markdown",
   "id": "316484e8-3f32-473b-a537-7d19c27a7cfc",
   "metadata": {},
   "source": [
    "#### 예시\n",
    "\n",
    "- 3! = 3*2*1 \n",
    "- 4! = 4*3*2*1\n",
    "- 0! = 1 (정의)"
   ]
  },
  {
   "cell_type": "markdown",
   "id": "b84258dd-6e06-450d-9599-15abad93a89c",
   "metadata": {},
   "source": [
    "#### 공식\n",
    "\n",
    "```\n",
    "n! = n * (n-1) * (n-2)* ... * 2 *1\n",
    "```"
   ]
  },
  {
   "cell_type": "code",
   "execution_count": 94,
   "id": "f12e9aa6-2363-4e37-bd3b-2d521e8a90fc",
   "metadata": {},
   "outputs": [
    {
     "name": "stdout",
     "output_type": "stream",
     "text": [
      "120\n"
     ]
    }
   ],
   "source": [
    "# EX1.\n",
    "def factorial(num) :\n",
    "    sum = 1     # 지역 변수\n",
    "\n",
    "    # range(5)는 [0, 1, 2, 3, 4]\n",
    "    for n in range(num) :\n",
    "        sum = sum * (n+1)       # [1, 2, 3, 4, 5]\n",
    "        # sum = sum * (0 + 1) = 1\n",
    "        # sum = sum * (1 + 1) = 1 * 2 = 2\n",
    "        # sum = sum * (2 + 1) = 2 * 3 = 6\n",
    "        # sum = sum * (3 + 1) = 6 * 4 = 24\n",
    "        # sum = sum * (4 + 1) = 24 * 5 = 120\n",
    "    return sum\n",
    "\n",
    "print(factorial(5))"
   ]
  },
  {
   "cell_type": "markdown",
   "id": "c96384cc-c6d6-46ea-99e7-6d16878232f3",
   "metadata": {},
   "source": [
    "## 심화 예제"
   ]
  },
  {
   "cell_type": "code",
   "execution_count": 99,
   "id": "f3dbaa8e-11f0-4b90-9d53-dda50492ddc7",
   "metadata": {},
   "outputs": [
    {
     "name": "stdout",
     "output_type": "stream",
     "text": [
      "75.0\n"
     ]
    }
   ],
   "source": [
    "# EX1. 리스트로 평균 반환하기\n",
    "def cal_average(scores) :\n",
    "    sum = 0\n",
    "\n",
    "    for score in scores :\n",
    "        sum += score\n",
    "\n",
    "    average = sum / len(scores)\n",
    "    return average\n",
    "\n",
    "average1 = cal_average([55, 70, 100])\n",
    "print(average1)"
   ]
  },
  {
   "cell_type": "code",
   "execution_count": 101,
   "id": "74114438-7634-4877-91a7-25536738e62b",
   "metadata": {},
   "outputs": [
    {
     "name": "stdout",
     "output_type": "stream",
     "text": [
      "[6, 10, 14]\n"
     ]
    }
   ],
   "source": [
    "# EX2. 리스트 숫자 두 배로 출력하기\n",
    "def double_numbers(numbers) :\n",
    "    new_list = []\n",
    "    for num in numbers :\n",
    "        new_list.append(num * 2)\n",
    "    return new_list\n",
    "\n",
    "list = double_numbers([3, 5, 7])\n",
    "print(list)"
   ]
  },
  {
   "cell_type": "code",
   "execution_count": 103,
   "id": "42940d3e-7877-4b12-b513-8dfbfb454a96",
   "metadata": {},
   "outputs": [
    {
     "name": "stdout",
     "output_type": "stream",
     "text": [
      "100\n"
     ]
    }
   ],
   "source": [
    "# EX3. 리스트에서 최댓값 반환하기\n",
    "def find_max(numbers) :\n",
    "    max_value = numbers[0]\n",
    "\n",
    "    for n in numbers :\n",
    "        if n > max_value :\n",
    "            max_value = n\n",
    "\n",
    "    return max_value\n",
    "\n",
    "max1 = find_max([45, 89, 72, 33, 100])\n",
    "print(max1)"
   ]
  },
  {
   "cell_type": "markdown",
   "id": "b6624822-d623-4abd-8a67-38beee1b4d0a",
   "metadata": {},
   "source": [
    "## 파일 입출력 함수\n",
    "\n",
    "1. 파일 열기\n",
    "    - 파이썬에서 파일을 열기 위해서는  open()이라는 함수를 사용한다.\n",
    "    - 문법 : open(파일명, 모드)\n",
    "2. 파일 읽기\n",
    "    - 변수명.read() : 파일 ㅣ전체 내용 읽기\n",
    "    - 변수명.readline() : 파일 한 줄씩 읽기\n",
    "    - 변수명.readlines() : 파일의 모든 줄을 읽어 리스트로 반환한다.\n",
    "3. 파일 쓰기 : write()\n",
    "4. 파일 닫기 : 변수명.close()"
   ]
  },
  {
   "cell_type": "markdown",
   "id": "f4f57329-d7d6-40b2-a4cc-91750aa733af",
   "metadata": {},
   "source": [
    "| 모드 | 기능 | 설명 |\n",
    "|---|---|---|\n",
    "|r|읽기기능(기본값)|파일을 읽기 전용으로 연다.|\n",
    "|w|쓰기 모드|파일에 새로운 내요을 쓰기 위해 연다. 기존 파일의 내용은 덮어쓰여 진다.|\n",
    "|a|추가 모드|파일에 새로운 내용을 추가하기 위해 연다. 기존 파일의 내용은 유지|"
   ]
  },
  {
   "cell_type": "code",
   "execution_count": 125,
   "id": "2f01d3f5-4edc-4c34-844d-475f452fec62",
   "metadata": {},
   "outputs": [
    {
     "name": "stdout",
     "output_type": "stream",
     "text": [
      "C:\\Users\\user\\Documents\\GitHub\\python\\KoreaIT\\00_Python\n",
      "ABABCABC\n",
      "ABABCABC\n"
     ]
    }
   ],
   "source": [
    "import os\n",
    "print(os.getcwd())\n",
    "\n",
    "# 파일 읽기\n",
    "file = open(\"CH07.txt\", \"r\", encoding=\"utf-8\")\n",
    "all = file.read()\n",
    "print(all)\n",
    "\n",
    "# 파일 쓰기\n",
    "file = open(\"CH07.txt\", \"w\")\n",
    "file.write(\"ABABCABC\")\n",
    "\n",
    "# 파일 닫기\n",
    "file = open(\"CH07.txt\", \"r\")\n",
    "all = file.read()\n",
    "print(all)\n",
    "file.close()        # 운영체제에서 파일을 닫는다(시각적으로 변화하는 것은 아님)"
   ]
  },
  {
   "cell_type": "markdown",
   "id": "5c22e3ce-e41d-4bd6-ac30-bc961b68ddd7",
   "metadata": {},
   "source": [
    "## 콜백함수\n",
    "\n",
    "- 나중에 불려지는 함수\n",
    "- 다른 함수에 인자로 전달되는 함수이고, (나중에 필요할 때) 호출되는 함수를 말한다.\n",
    "- 쉽게 말하자면? \"나 이 함수 나중에 불러줘\" 하는거고 다른 함수에게 맡겨두는 함수이다."
   ]
  },
  {
   "cell_type": "code",
   "execution_count": null,
   "id": "35da7994-fd8d-484f-857e-8169a48ac441",
   "metadata": {},
   "outputs": [],
   "source": []
  }
 ],
 "metadata": {
  "kernelspec": {
   "display_name": "Python [conda env:base] *",
   "language": "python",
   "name": "conda-base-py"
  },
  "language_info": {
   "codemirror_mode": {
    "name": "ipython",
    "version": 3
   },
   "file_extension": ".py",
   "mimetype": "text/x-python",
   "name": "python",
   "nbconvert_exporter": "python",
   "pygments_lexer": "ipython3",
   "version": "3.12.7"
  }
 },
 "nbformat": 4,
 "nbformat_minor": 5
}
