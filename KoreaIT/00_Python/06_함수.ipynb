{
 "cells": [
  {
   "cell_type": "markdown",
   "id": "f4970a4c-64d9-4089-aa40-3c2970e92b82",
   "metadata": {},
   "source": [
    "# 함수"
   ]
  },
  {
   "cell_type": "markdown",
   "id": "7c35d6c3-4a53-4773-b43c-80c757126aa2",
   "metadata": {},
   "source": [
    "## 메모리 구조\n",
    "\n",
    "1. 스택 영역 \n",
    "    - 함수가 호출 될 때 생기는 공간\n",
    "    - 지역 변수나 매개변수가 저장된다.\n",
    "    - 함수가 끝나면 이 영역의 값도 사라진다.\n",
    "\n",
    "2. 힙 영역\n",
    "    - 객체나 리스트 같이 동적으로 생성되는 데이터가 저장된다. \n",
    "    - 함수가 끝나도 참조가 남아있으면 계속 존재한다.\n",
    "\n",
    "3. Global/ Static영역\n",
    "    - 프로그램이 시작될 때부터 끝날 때까지 유지\n",
    "    - 전역 변수, 모듈, 클래스, 함수 정의등 저장된다."
   ]
  },
  {
   "cell_type": "code",
   "execution_count": 3,
   "id": "35d61638-d798-4336-ad4c-75d226426615",
   "metadata": {},
   "outputs": [
    {
     "name": "stdout",
     "output_type": "stream",
     "text": [
      "10\n"
     ]
    }
   ],
   "source": [
    "# 예제 1\n",
    "def my_func() :         # my_func 이라는 함수 선언\n",
    "    x = 10\n",
    "    print(x)\n",
    "\n",
    "my_func()"
   ]
  },
  {
   "cell_type": "code",
   "execution_count": 5,
   "id": "3997b949-63f1-4cb6-af9c-4269758c278d",
   "metadata": {},
   "outputs": [
    {
     "name": "stdout",
     "output_type": "stream",
     "text": [
      "안녕 반가워!\n"
     ]
    }
   ],
   "source": [
    "# 예제 2\n",
    "def say_hello() :\n",
    "    message = \"안녕 반가워!\"\n",
    "    print(message)\n",
    "\n",
    "say_hello()"
   ]
  },
  {
   "cell_type": "code",
   "execution_count": 7,
   "id": "1cf500ff-0159-41e9-a93a-61d462f844e7",
   "metadata": {},
   "outputs": [
    {
     "name": "stdout",
     "output_type": "stream",
     "text": [
      "16\n"
     ]
    }
   ],
   "source": [
    "# 예제 3\n",
    "def cal() :\n",
    "    num = 4\n",
    "    result = num * num\n",
    "    print(result)\n",
    "    \n",
    "cal()"
   ]
  },
  {
   "cell_type": "code",
   "execution_count": 9,
   "id": "6ad5b60d-4d97-454d-83d3-d3e273eefae8",
   "metadata": {},
   "outputs": [
    {
     "name": "stdout",
     "output_type": "stream",
     "text": [
      "['사과', '바나나', '포도']\n"
     ]
    }
   ],
   "source": [
    "# 예제 4. 리스트 출력하기\n",
    "def print_fruits() :\n",
    "    fruits = [\"사과\", \"바나나\", \"포도\"]\n",
    "    print(fruits)\n",
    "\n",
    "print_fruits()"
   ]
  },
  {
   "cell_type": "code",
   "execution_count": null,
   "id": "42afebef-c3c9-49f5-882f-cf2e079c4da0",
   "metadata": {},
   "outputs": [],
   "source": []
  }
 ],
 "metadata": {
  "kernelspec": {
   "display_name": "Python [conda env:base] *",
   "language": "python",
   "name": "conda-base-py"
  },
  "language_info": {
   "codemirror_mode": {
    "name": "ipython",
    "version": 3
   },
   "file_extension": ".py",
   "mimetype": "text/x-python",
   "name": "python",
   "nbconvert_exporter": "python",
   "pygments_lexer": "ipython3",
   "version": "3.12.7"
  }
 },
 "nbformat": 4,
 "nbformat_minor": 5
}
