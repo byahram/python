{
 "cells": [
  {
   "cell_type": "markdown",
   "id": "65520f47-2724-4318-af56-3417e3dac888",
   "metadata": {},
   "source": [
    "# 자료 구조"
   ]
  },
  {
   "cell_type": "markdown",
   "id": "c82a3c10-b2c3-4a9b-a205-f829fee9192e",
   "metadata": {},
   "source": [
    "### 자료구조란?\n",
    "\n",
    "- 컴퓨터 프로그램 안에서 데이터를 체계적으로 저장하고, 관리하는 방식이다.\n",
    "- 자료구조는 데이터를 '효율적'으로 저장하고 관리하기 위한 구조화된 방식이다.\n",
    "- \"데이터를 어떻게 구조화 할 것인가\"에 대한 고민"
   ]
  },
  {
   "cell_type": "markdown",
   "id": "7d06aec6-d9ea-43b1-b202-f1ac67be33b6",
   "metadata": {},
   "source": [
    "### 왜 필요할까?\n",
    "\n",
    "- 프로그래밍에서 다루는 거의 모든 문제는 \"데이터를 처리하는 문제\"이다.\n",
    "- 데이터를 무작정 저장하면, 원하는 정보를 찾는데 시간이 오래걸리거나, 추가/삭제 작업이 복잡해진다."
   ]
  },
  {
   "cell_type": "markdown",
   "id": "91fb1dff-89e2-4ddc-80a8-47fb3a552e4f",
   "metadata": {},
   "source": [
    "### 예시\n",
    "\n",
    "- 고객 정보를 저장하고 검색해야한다.\n",
    "- 수강 신청 내역을 빠르게 불러와야한다.\n",
    "- 게임에서 수천 개의 오브젝트를 실시간으로 처리해야한다.\n",
    "- **데이터를 효율적으로 저장, 탐색, 수정, 삭제하기 위해 자료구조가 반드시 필요하다.**"
   ]
  },
  {
   "cell_type": "markdown",
   "id": "d24c9a08-5f31-47bc-bfd4-d62fc297a544",
   "metadata": {},
   "source": [
    "### 자료구조가 중요한 세가지 이유\n",
    "\n",
    "1. 속도\n",
    "    - 좋은 자료구조를 사용하면 프로그램의 실행 속도가 크게 향상된다.\n",
    "    - 빅오(Big-O) 표기법 : \"이 코드(또는 알고리즘)는 얼마나 효율적일까?\"를 수학적으로 표현하는 방법\n",
    "2. 유지보수\n",
    "3. 현실 문제 해결"
   ]
  },
  {
   "cell_type": "markdown",
   "id": "c4b0fa6c-a284-4a21-a74e-e32d138d0bb0",
   "metadata": {},
   "source": [
    "### 빅오(Big-O) 표기법\n",
    "\n",
    "\n",
    "\n",
    "|빅오표기|의미|예시|비유|정확한 의미|\n",
    "|---|---|---|---|---|\n",
    "|O(1)|상수시간|리스트[0]|1층 버튼 바로 누르기|바로 접근 가능|\n",
    "|O(log n)| 로그시간|이진 탐색|몇 층인지 모르지만, 중간부터 시작해서 절반씩 범위 줄이기|절반씩 탐색(이진 탐색 구조)|                           \n",
    "|O(n)|선형시간|for 반복문 : 데이터 개수에 비례|계단을 하나씩 내려가기|모든 데이터를 다 봐야한다|\n",
    "|O(n log n)|로그선형|효율적인 정렬|||\n",
    "|O(n^2)|제곱시간|중첩반복문|건물 사람 전부 만나서 인사|모든 조합 다 탐색|\n",
    "|O(2^n)|지수시간|피보나치 재귀(비효율적)|||\n",
    "|O(n!)|팩토리얼 시간|순열 탐색|||\n",
    "\n",
    "* O(n log n) -> 자주 쓰임 : 정렬 알고리즘 (퀵 정렬, 병합 정렬), 일부 탐색 알고리즘"
   ]
  },
  {
   "cell_type": "markdown",
   "id": "a733b535-c91f-4bb8-b4b3-a58c9e770769",
   "metadata": {},
   "source": [
    "# 자료구조 1. 배열(array)\n",
    "\n",
    "- 대표적으로 두가지 : array.array, numpy.array"
   ]
  },
  {
   "cell_type": "markdown",
   "id": "89804f34-a4a2-48d2-b5b6-c39e0196cad3",
   "metadata": {},
   "source": [
    "## 1) array.array\n",
    "\n",
    "- 기본 제공 배열 모듈\n",
    "- 같은 자료형만 저장 가능한 1차원 배열\n",
    "- 메모리를 덜 쓰고, 리스트보다 약간 빠름\n",
    "- 하지만 기능이 매우 제한적 -> 실무에서는 거의 사용되지 않음\n",
    "- 저장공간이 제한되어 있음\n",
    "- 잘 저장한다."
   ]
  },
  {
   "cell_type": "markdown",
   "id": "a8d74487-b482-4dbe-8f39-2f2902c38f3c",
   "metadata": {},
   "source": [
    "#### 어디서 쓰이나요?\n",
    "\n",
    "- 간단한 센서 데이터 저장, 파일 I/O 처리 등"
   ]
  },
  {
   "cell_type": "markdown",
   "id": "ca8e687e-b4ab-4a88-9547-8ca3387e8594",
   "metadata": {},
   "source": [
    "#### array() 함수의 구조\n",
    "\n",
    "```\n",
    "array(typecode, initializer)\n",
    "```\n",
    "\n",
    "- typecode : 배열에 저장할 데이터의 자료형을 지정하는 한 글자 코드\n",
    "- initializer : 초기데이터(보통 리스트)"
   ]
  },
  {
   "cell_type": "markdown",
   "id": "f9831317-7c82-4192-aeb9-742749161ed6",
   "metadata": {},
   "source": [
    "#### 실무 및 학습에서 자주 사용하는 type코드 4가지\n",
    "\n",
    "| 타입코드|타입   | 설명|: 주 사용 용도|\n",
    "|---|---|---|---|\n",
    "| \"i\"| int| 4byte 정수|: 일반적인 정수 저장용|\n",
    "| \"f\"| float|4byte 실수|: 소수점 포함된 숫자 저장용|\n",
    "| \"d\"| float|8byte 실수(double)|: 더 높은 정밀도의 실수 계산용|\n",
    "| \"B\"| int|1byte 양의 정수(0~255)|: 바이트 데이터|"
   ]
  },
  {
   "cell_type": "markdown",
   "id": "2faddef7-5a35-4c3a-abb1-c287d37b837c",
   "metadata": {},
   "source": [
    "#### 리스트와 배열의 차이점(용어 설명)\n",
    "\n",
    "- list(리스트) : 파이썬에서 기본적으로 제공하는 자료형, 여러 타입 가능\n",
    "- array.array : 파이썬 표준 모듈, 같은 타입만 저장\n",
    "- numpy.array : 외부라이브러리, 고성능 수치 연산용\n",
    "\n",
    "|항목|list|   array|   numpy.array|\n",
    "|---|---|---|---|\n",
    "|제공방식|  기본자료형|    표준모듈(import)|   외부라이브러리|\n",
    "|저장 자료형|  자유|   하나|   하나|\n",
    "|차원|  기본은1차원(다차원 중첨)|   1차원|   1차원~n차원|        \n",
    "|수학 연산|  직접 구현|   불편|   함수로 연산 가능|\n",
    "|속도|  느림|    약간 빠름|    매우 빠른(C)|\n",
    "|사용 빈도|  매우 높음|   거의 안씀|   데이터 처리에서 표준|"
   ]
  },
  {
   "cell_type": "code",
   "execution_count": 18,
   "id": "d699dbe6-a417-4816-aee8-ec3a3e20f836",
   "metadata": {},
   "outputs": [],
   "source": [
    "from array import array"
   ]
  },
  {
   "cell_type": "code",
   "execution_count": 20,
   "id": "526b9a8d-89dc-403b-a60b-657dd24d248b",
   "metadata": {},
   "outputs": [
    {
     "name": "stdout",
     "output_type": "stream",
     "text": [
      "array('i', [1, 2, 3, 4, 5])\n",
      "array('f', [1.5, 2.5, 3.5, 4.5])\n",
      "array('d', [3.14151416171781])\n",
      "array('B', [0, 155, 255])\n"
     ]
    }
   ],
   "source": [
    "# 배열 array.array 예제 1\n",
    "\n",
    "# 일반적인 정수 저장\n",
    "arr = array('i', [1, 2, 3, 4, 5])           # 동일한 타입의 숫자만 다룰때\n",
    "print(arr)\n",
    "\n",
    "# 일반적인 소수(실수) 저장\n",
    "f_arr = array(\"f\", [1.5, 2.5, 3.5, 4.5])        # 부동 소수점 약 7자리 정확도\n",
    "print(f_arr)\n",
    "\n",
    "# 더 정밀한 실수 계산이 필요할 때\n",
    "d_arr = array(\"d\", [3.14151416171781])          # 약 15~17자리 유효 숫자의 정밀도를 가진다.\n",
    "print(d_arr)\n",
    "\n",
    "# 0~255 범위의 바이트 저장\n",
    "b_arr = array(\"B\", [0, 155, 255])\n",
    "print(b_arr)"
   ]
  },
  {
   "cell_type": "markdown",
   "id": "e6ecb17f-61ad-4a27-9a2e-a6ae4b01fc8f",
   "metadata": {},
   "source": [
    "## 2) numpy.array"
   ]
  },
  {
   "cell_type": "markdown",
   "id": "2864cd08-4427-47f5-945b-46101fc16200",
   "metadata": {},
   "source": [
    "#### Numpy의 정의\n",
    "\n",
    "- Numerical Python의 줄임말\n",
    "- 수치"
   ]
  },
  {
   "cell_type": "markdown",
   "id": "73f79a10-9b16-4610-87ae-6f6472c97b39",
   "metadata": {},
   "source": [
    "#### 특징\n",
    "\n",
    "- 다차원 배열 객체인 numpy.array 제공\n",
    "- 내부는 C언어로 구현되어 있어서 빠르다\n",
    "- 반복문 없이 배열 전체에 연산 가능(-> 벡터화 연산)\n",
    "- 선형대수, 통계 난수 생성등 과학 계산 기능 포함\n",
    "\n",
    "```\n",
    "[1, 2, 3, 4] -> 1차원 배열\n",
    "[1, 2, 3, 4\n",
    " 1, 2, 3, 4] -> 2행(가로줄) 4열(세로줄)의 다차원 배열\n",
    "```"
   ]
  },
  {
   "cell_type": "markdown",
   "id": "4b83027f-ec68-4837-90cc-6379b9290bb5",
   "metadata": {},
   "source": [
    "#### 왜 중요한가?\n",
    "\n",
    "- 리스트보다 훨씬 빠르고, 효율적이며, 확장성 있는 수치 처리가 가능하다.\n",
    "- 데이터분석, 머신러닝, 영상처리, 공학 계산등에서 사실상 표준 도구로 사용된다."
   ]
  },
  {
   "cell_type": "code",
   "execution_count": 30,
   "id": "b946a6fa-9b24-4d9e-b4dd-76cc126e7e34",
   "metadata": {},
   "outputs": [],
   "source": [
    "'''\n",
    "[as]\n",
    "\n",
    "- as는 별칭을 지정하는 키워드\n",
    "- 넘파이를 np라는 이름을 불러오겠다\n",
    "\n",
    "[as 왜 사용할까?]\n",
    "\n",
    "1. 코드를 짧고 간결하게 쓰려고\n",
    "2. 관례(대부분의 파이썬 개발자들은 넘파이를 np로 쓴다)\n",
    "'''\n",
    "import numpy as np"
   ]
  },
  {
   "cell_type": "code",
   "execution_count": 32,
   "id": "453947c5-a91a-4bc3-a49d-6de823ebdc18",
   "metadata": {},
   "outputs": [
    {
     "name": "stdout",
     "output_type": "stream",
     "text": [
      "[2 4 6]\n",
      "\n",
      "배열 : array('i', [10, 20, 30])\n",
      "배열 * 2 : array('i', [10, 20, 30, 10, 20, 30])\n"
     ]
    }
   ],
   "source": [
    "# 예제 1. 1차 배열\n",
    "a = np.array([1,2,3])\n",
    "print(a * 2)\n",
    "print()\n",
    "\n",
    "arr = array(\"i\", [10, 20, 30])\n",
    "print(\"배열 :\", arr)\n",
    "print(\"배열 * 2 :\", arr * 2)"
   ]
  },
  {
   "cell_type": "code",
   "execution_count": 34,
   "id": "07b869f3-5f4d-4a86-ae79-a0e66489d60c",
   "metadata": {},
   "outputs": [
    {
     "name": "stdout",
     "output_type": "stream",
     "text": [
      "원본 배열 : \n",
      " [[1 2 3]\n",
      " [4 5 6]]\n",
      "\n",
      "100을 더한 배열 : \n",
      " [[101 102 103]\n",
      " [104 105 106]]\n"
     ]
    }
   ],
   "source": [
    "# 예제 2. 2차 배열\n",
    "arr2d = np.array([[1, 2, 3], [4, 5, 6]])      # 2차원 배열\n",
    "result1 = arr2d + 100       # 모든 요소에 100을 더하기\n",
    "\n",
    "print(\"원본 배열 : \\n\", arr2d)\n",
    "print()\n",
    "print(\"100을 더한 배열 : \\n\", result1)"
   ]
  },
  {
   "cell_type": "markdown",
   "id": "807406ce-d1f5-4907-8685-1c5b38de4681",
   "metadata": {},
   "source": [
    "#### 브로드캐스팅\n",
    "\n",
    "- 1차원 배열을 각 행에 더함\n",
    "    - numpy의 핵심 기능 중 하나로, 서로 다른 크기의 배열 간 연산을 자동으로 맞춰주는 기능이다"
   ]
  },
  {
   "cell_type": "markdown",
   "id": "254f3671-5e4d-46df-b041-75e93579f8ca",
   "metadata": {},
   "source": [
    "#### 브로드캐스팅 예외\n",
    "\n",
    "- a = np.array([[1, 2], [3, 4]])  ---->  2행 2열\n",
    "- b = np.array([1, 2, 3])  ---->  1행 3열\n",
    "- 차원이 안 맞아서 브로드캐스팅 불가능"
   ]
  },
  {
   "cell_type": "code",
   "execution_count": 39,
   "id": "d67cc3a2-32da-45e6-953f-c0a683a29ccc",
   "metadata": {},
   "outputs": [
    {
     "name": "stdout",
     "output_type": "stream",
     "text": [
      "2차원 배열 :\n",
      " [[10 20 30]\n",
      " [40 50 60]]\n",
      "\n",
      "1차원 배열 :\n",
      " array('i', [1, 2, 3])\n",
      "\n",
      "덧셈한 배열 :\n",
      " [[11 22 33]\n",
      " [41 52 63]]\n"
     ]
    }
   ],
   "source": [
    "# 예제 3. 2차 배열\n",
    "arr2d = np.array([[10, 20, 30],[40, 50, 60]])           # 2차 배열\n",
    "arr1d = array(\"i\", [1, 2, 3])         # 1차원 배열\n",
    "ressult = arr2d + arr1d\n",
    "\n",
    "print(\"2차원 배열 :\\n\", arr2d)\n",
    "print()\n",
    "print(\"1차원 배열 :\\n\", arr1d)\n",
    "print()\n",
    "print(\"덧셈한 배열 :\\n\", ressult)"
   ]
  },
  {
   "cell_type": "markdown",
   "id": "439479d0-1a78-46d8-a1c7-76ffccb6ab21",
   "metadata": {},
   "source": [
    "#### Numpy에서 자주 사용하는 통계 함수 정리\n",
    "\n",
    "- **np.sum()**  :  총합 계산\n",
    "- **np.mean()**  :  평균 계산\n",
    "- **np.median()**  :  중앙값 계산\n",
    "- **np.std()**  :  표준 편차 계산\n",
    "- **np.var()**  :  분산 계산\n",
    "- **np.min/max()**  :  최대/최소\n",
    "- **np.argmax/argmin()**  :  최대, 최소값의 인덱스\n",
    "- 문법 : np.원하는 연산 함수(연산할 배열 이름)"
   ]
  },
  {
   "cell_type": "code",
   "execution_count": 51,
   "id": "f959e6fa-00fe-4704-87c5-4567f7f46595",
   "metadata": {},
   "outputs": [
    {
     "name": "stdout",
     "output_type": "stream",
     "text": [
      "합계 : 433\n",
      "평균 : 86.6\n",
      "중앙값 : 88.0\n",
      "표준편차 : 4.882622246293481\n",
      "분산 : 23.84\n",
      "최소 : 78\n",
      "최대 : 92\n",
      "최대 인덱스 : 3\n",
      "최소 인덱스 : 2\n"
     ]
    }
   ],
   "source": [
    "# 예제 1\n",
    "scores = np.array([85, 90, 78, 92, 88])\n",
    "\n",
    "print(\"합계 :\", np.sum(scores))\n",
    "print(\"평균 :\", np.mean(scores))\n",
    "print(\"중앙값 :\", np.median(scores))\n",
    "print(\"표준편차 :\", np.std(scores))\n",
    "print(\"분산 :\", np.var(scores))\n",
    "print(\"최소 :\", np.min(scores))\n",
    "print(\"최대 :\", np.max(scores))\n",
    "print(\"최대 인덱스 :\", np.argmax(scores))\n",
    "print(\"최소 인덱스 :\", np.argmin(scores))"
   ]
  },
  {
   "cell_type": "markdown",
   "id": "750fd1cc-b4ed-4328-98f0-223f8dbe2939",
   "metadata": {},
   "source": [
    "#### 상관 계수\n",
    "\n",
    "- np.corrcoef(arr1, arr2)\n",
    "- 두 배열 간의 상관 관계(얼마나 같이 오르내리는지)를 계산\n",
    "- 상관계수 1은 완벽한 양의 상관관계를 뜻한다.\n",
    "- 반환값 : 2차원 행렬 형태의 상관계수\n",
    "- 값 번위 : -1~1\n",
    "    - 해석) 1 완벽히 같이 움직임, 0 무관, -1 반대로 움직임"
   ]
  },
  {
   "cell_type": "code",
   "execution_count": 55,
   "id": "7c85dc67-c743-40b5-bb83-e3150f5f7793",
   "metadata": {},
   "outputs": [
    {
     "name": "stdout",
     "output_type": "stream",
     "text": [
      "[[1. 1.]\n",
      " [1. 1.]]\n"
     ]
    }
   ],
   "source": [
    "# 상관 계수 예제\n",
    "x = [1, 2, 3, 4, 5]\n",
    "y = [2, 4, 6, 8, 10]\n",
    "\n",
    "corr_m = np.corrcoef(x, y)\n",
    "print(corr_m)"
   ]
  },
  {
   "cell_type": "markdown",
   "id": "5897d529-5b07-435f-8672-5a2004e8f48a",
   "metadata": {},
   "source": [
    "# 자료구조 2. 연결리스트(LinkedList)\n",
    "\n",
    "- 연결 리스트는 데이터를 차례대로 연결해 저장하는 구조이다.\n",
    "- 각 데이터는 단순히 저장되는 것이 아니라, 자기 자신 + 다음 데이터를 가리키는 주소를 함께 갖고 있다.\n",
    "- 포인터 : 메모리 주소를 저장하는 변수"
   ]
  },
  {
   "cell_type": "markdown",
   "id": "4838aa2e-eb6b-4e52-bb62-e2d2d62197c0",
   "metadata": {},
   "source": [
    "### 연결 리스트가 실생활에서 쓰이는 곳\n",
    "\n",
    "1. 웹 브라우저의 \"뒤로가기/앞으로가기\"\n",
    "    - [네이버] -> [구글] -> [다음]\n",
    "3. 음악 재생 플레이 리스트"
   ]
  },
  {
   "cell_type": "markdown",
   "id": "7b64e8ad-9316-4c54-83f9-033b94de1cb1",
   "metadata": {},
   "source": [
    "### 단일 연결 리스트(Single Linked List)\n",
    "\n",
    "- 단일 연결 리스트는 한 방향으로만 연결되어 있는 가장 기본적인 형태의 연결 리스트다.\n",
    "- [data | 주소] -> [data | 주소] -> [data | 주소]\n",
    "- [체리 | 바나나 노드 주소] -> [바나나 | 수박의 노드 주소] -> [수박 | None]"
   ]
  },
  {
   "cell_type": "markdown",
   "id": "c857ee39-188d-40b8-8e81-99ba2ab6d6fa",
   "metadata": {},
   "source": [
    "### Node(노드)란?\n",
    "\n",
    "- 연결 리스트에서 하나의 데이터 단위를 의미한다.\n",
    "- [data | 포인터(다음 노드의 주소)]\n",
    "- data : 저장할 실제 값\n",
    "- 포인터 : 다음 노드의 주소"
   ]
  },
  {
   "cell_type": "markdown",
   "id": "a23e4c7d-951a-4480-b018-2adb9eff4c9e",
   "metadata": {},
   "source": [
    "### Node(노드) 예시\n",
    "\n",
    "- 리스트 : [1, 2, 3, 4]\n",
    "- [1 | 2의 주소값] -> [2 | 3의 주소값] -> [3 | 4의 주소값] -> [4 | None]"
   ]
  },
  {
   "cell_type": "markdown",
   "id": "6f91aa9b-972b-4d10-b1ec-6aeb4ee1d003",
   "metadata": {},
   "source": [
    "### 연결 리스트의 주요 장점\n",
    "\n",
    "1. 크기 제한 없음(동적 메모리 할당)\n",
    "2. 삽입 | 삭제가 빠르다.\n",
    "3. 메모리 효율적\n",
    "4. 스택, 뮤 등 다양한 자료구조 구현에 유리하다."
   ]
  },
  {
   "cell_type": "markdown",
   "id": "7e7d3d2d-f19c-4675-8827-234c92f84dea",
   "metadata": {},
   "source": [
    "### 언제 사용할까?\n",
    "\n",
    "1. 데이터 양이 자주 바뀌는 경우\n",
    "2. 중간 삽입/삭제가 자주 필요한 경우\n",
    "3. 메모리 공간을 연속적으로 확보하기 힘든 경우"
   ]
  },
  {
   "cell_type": "code",
   "execution_count": 8,
   "id": "abed23ee-b29f-41ff-8939-a937a0b56dc7",
   "metadata": {},
   "outputs": [
    {
     "name": "stdout",
     "output_type": "stream",
     "text": [
      "node1의 값 : 10\n",
      "\n",
      "node1이 가리키는 node2의 값 : 20\n"
     ]
    }
   ],
   "source": [
    "# Node 클래스 예제 1\n",
    "# [데이터 | 빈주소]\n",
    "class Node :\n",
    "    def __init__(self, data):\n",
    "        # 노드가 저장하는 데이터\n",
    "        self.data = data\n",
    "        # 다음 노드를 가리키는 포인터\n",
    "        self.next = None\n",
    "\n",
    "# 노드 생성\n",
    "node1 = Node(10)      # 노드만 생성\n",
    "node2 = Node(20)      # 노드만 생성\n",
    "\n",
    "# node1 -> node2를 연결\n",
    "node1.next = node2\n",
    "\n",
    "# 출력\n",
    "print(\"node1의 값 :\", node1.data)\n",
    "print()\n",
    "print(\"node1이 가리키는 node2의 값 :\", node1.next.data)"
   ]
  },
  {
   "cell_type": "code",
   "execution_count": 10,
   "id": "d16d8991-5d68-4189-ad37-3c3620a5a8d5",
   "metadata": {},
   "outputs": [
    {
     "name": "stdout",
     "output_type": "stream",
     "text": [
      "n1의 값 : 100\n",
      "n2의 값 : 200\n",
      "n3의 값 : 300\n",
      "2468753515696\n",
      "2468800576592\n",
      "2468800575920\n"
     ]
    }
   ],
   "source": [
    "# Node 클래스 예제 2\n",
    "class Node :\n",
    "    def __init__(self, data) :\n",
    "        self.data = data\n",
    "        self.next = None\n",
    "\n",
    "n1 = Node(100)\n",
    "n2 = Node(200)\n",
    "n3 = Node(300)\n",
    "\n",
    "n1.next = n2\n",
    "n2.next = n3\n",
    "\n",
    "print(\"n1의 값 :\", n1.data)\n",
    "print(\"n2의 값 :\", n2.data)\n",
    "print(\"n3의 값 :\", n3.data)\n",
    "\n",
    "print(id(n1))\n",
    "print(id(n2))\n",
    "print(id(n3))"
   ]
  },
  {
   "cell_type": "markdown",
   "id": "e3ed9785-5ee2-4600-b494-81049724603a",
   "metadata": {},
   "source": [
    "### 헤드란?\n",
    "\n",
    "```\n",
    "['체리', '바나나', '수박']\n",
    "head -> [체리 | 바나나의 주소] ->\n",
    "\n",
    "- 연결 리스트의 시작점을 가리키는 포인터이다.\n",
    "- 즉, 첫번째 노드를 가리키는 변수\n",
    "\n",
    "-> 우리가 연결리스트를 탐색할 떄는 항상 head부터 출발\n",
    "-> head가 없다면 연결리스트 전체를 알 수 없다.\n",
    "```"
   ]
  },
  {
   "cell_type": "code",
   "execution_count": 14,
   "id": "31873df7-8306-4e20-9a94-e72d9b653fd4",
   "metadata": {},
   "outputs": [
    {
     "name": "stdout",
     "output_type": "stream",
     "text": [
      "체리\n",
      "바나나\n",
      "수박\n"
     ]
    }
   ],
   "source": [
    "# Node 클래스 예제 3\n",
    "class Node :\n",
    "    def __init__(self, data) :\n",
    "        self.data = data\n",
    "        self.next = None\n",
    "\n",
    "f1 = Node(\"체리\")\n",
    "f2 = Node(\"바나나\")\n",
    "f3 = Node(\"수박\")\n",
    "\n",
    "f1.next = f2\n",
    "f2.next = f3\n",
    "\n",
    "# head 설정\n",
    "head = f1\n",
    "\n",
    "# 출력\n",
    "current = head\n",
    "\n",
    "while current : \n",
    "    print(current.data)\n",
    "    current = current.next"
   ]
  },
  {
   "cell_type": "markdown",
   "id": "b4272e2c-9bcf-44e8-9b60-dc6a1b202f03",
   "metadata": {},
   "source": [
    "## (1) 연결리스트(LinkedList): 삽입"
   ]
  },
  {
   "cell_type": "markdown",
   "id": "e1557a36-8a60-4d03-870d-d85b7644b1c2",
   "metadata": {},
   "source": [
    "#### LinkedList에서 삽입(insert)이란?\n",
    "\n",
    "- 연결 리스트의 원하는 위치에 새로운 노드를 추가하여 기존 노드들과 포인터로 연결하는 동작을 말한다.\n",
    "- 연결 리스트는 연속된 메모리가 필요 없기 때문에, 중간이든 앞이든 뒤든 어디든지 삽입이 가능하다.\n",
    "\n",
    "```\n",
    "[이전 노드] -> [다음 노드]\n",
    "[이전 노드] -> [새 노드 ] -> [다음노드]\n",
    "```"
   ]
  },
  {
   "cell_type": "code",
   "execution_count": 18,
   "id": "f4165c5e-ccf8-440d-b1eb-0d53fae4997e",
   "metadata": {},
   "outputs": [],
   "source": [
    "# Node 클래스 삽입 예제\n",
    "class Node :\n",
    "    def __init__(self, data) :\n",
    "        self.data = data\n",
    "        self.next = None\n",
    "\n",
    "f1 = Node(\"체리\")\n",
    "f2 = Node(\"바나나\")\n",
    "f3 = Node(\"수박\")\n",
    "\n",
    "f1.next = f2\n",
    "f2.next = f3\n",
    "\n",
    "# head 설정\n",
    "head = f1"
   ]
  },
  {
   "cell_type": "code",
   "execution_count": 20,
   "id": "536ca6c8-118c-4638-8f18-e2918e3f10dd",
   "metadata": {},
   "outputs": [],
   "source": [
    "# 1.1. 맨 앞에 노드 삽입(딸기)\n",
    "# 딸기 체리 바나나 수박\n",
    "new_node = Node(\"딸기\")\n",
    "new_node.next = head        # 기존 리스트의 head를 new_node가 가리킴\n",
    "head = new_node             # head를 new_node로 갱신(renewal)"
   ]
  },
  {
   "cell_type": "code",
   "execution_count": 22,
   "id": "8cb3f1c0-397b-45bd-9299-76bb2aaf99fb",
   "metadata": {},
   "outputs": [],
   "source": [
    "# 1.2. 맨 앞 노드 삽입(블루베리)\n",
    "# 블루베리 딸기 체리 바나나 수박\n",
    "new_node2 = Node(\"블루베리\")\n",
    "new_node2.next = head\n",
    "head = new_node2"
   ]
  },
  {
   "cell_type": "code",
   "execution_count": 24,
   "id": "3c18a736-6777-441c-ac17-3eddaefecfd5",
   "metadata": {},
   "outputs": [],
   "source": [
    "# 2.1. 중간 노드 삽입(오렌지)\n",
    "# 블루베리 딸기 체리 바나나 오렌지 수박\n",
    "new_node3 = Node(\"오렌지\")\n",
    "target = f2                     # target은 바나나 노드\n",
    "new_node3.next = target.next    # 오렌지가 수박을 가리킴\n",
    "                                # 오렌지의 주소 = 수박 주소\n",
    "target.next = new_node3"
   ]
  },
  {
   "cell_type": "code",
   "execution_count": 26,
   "id": "c6670ca0-de5b-453d-b44a-2a3ea9db1a73",
   "metadata": {},
   "outputs": [],
   "source": [
    "# 2.2 중간 노드 삽입(사과)\n",
    "# 블루베리 딸기 사과 체리 바나나 오렌지 수박\n",
    "new_node4 = Node(\"사과\")\n",
    "target = head.next                  # head는 블루베리 -> head.next는 딸기\n",
    "new_node4.next = target.next        # 사과가 체리를 가리킴\n",
    "target.next = new_node4             # 딸기가 사과를 가리킴"
   ]
  },
  {
   "cell_type": "code",
   "execution_count": 28,
   "id": "cbf41429-386d-404a-8d26-43dbdc06ab0f",
   "metadata": {},
   "outputs": [
    {
     "name": "stdout",
     "output_type": "stream",
     "text": [
      "블루베리\n",
      "딸기\n",
      "사과\n",
      "체리\n",
      "바나나\n",
      "오렌지\n",
      "수박\n"
     ]
    }
   ],
   "source": [
    "# 출력\n",
    "current = head\n",
    "\n",
    "while current : \n",
    "    print(current.data)\n",
    "    current = current.next"
   ]
  },
  {
   "cell_type": "code",
   "execution_count": null,
   "id": "bfb849bd-9c81-47ae-8758-2b2cd5a7706b",
   "metadata": {},
   "outputs": [],
   "source": []
  }
 ],
 "metadata": {
  "kernelspec": {
   "display_name": "Python [conda env:base] *",
   "language": "python",
   "name": "conda-base-py"
  },
  "language_info": {
   "codemirror_mode": {
    "name": "ipython",
    "version": 3
   },
   "file_extension": ".py",
   "mimetype": "text/x-python",
   "name": "python",
   "nbconvert_exporter": "python",
   "pygments_lexer": "ipython3",
   "version": "3.12.7"
  }
 },
 "nbformat": 4,
 "nbformat_minor": 5
}
