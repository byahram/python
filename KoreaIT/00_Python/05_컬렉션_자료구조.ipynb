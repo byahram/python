{
 "cells": [
  {
   "cell_type": "markdown",
   "id": "a5b673fd-0ecd-476f-a5ef-a6c5a4b08fb1",
   "metadata": {},
   "source": [
    "# 파이썬 컬렉션 자료구조"
   ]
  },
  {
   "cell_type": "markdown",
   "id": "24a861a5-5ee4-42fb-bad7-9231a0011f7c",
   "metadata": {},
   "source": [
    "# 1. 리스트(list)\n",
    "\n",
    "- 일상 생활에서 사용하는 목록과 비슷한 개념을 가진 자료구조\n",
    "- 여러 개의 데이터를 하나의 변수에 한 번에 저장하고 관리할 수 있다.\n",
    "- 하나의 데이터만 담은 변수\n",
    "    - age = 20\n",
    "- 여러 개의 데이터를 묶은 리스트를 담은 변수\n",
    "    - nums = [0, 1, 2, 3] 데이터들을 쉼표로 구분하여 나열한다.\n",
    " \n",
    "```\n",
    "numbers = [0, 1, 2, 3, 4]       # 숫자 리스트\n",
    "alphabets = ['a', 'b', 'c']     # 문자 리스트\n",
    "bools = [True, True, False]     # 논리값 리스트\n",
    "greetings = [\"hi\", \"hello\"]     # 문자열 리스트\n",
    "```\n",
    "\n",
    "- 파이썬에서만 가능 (다른 언어에서는 사용 불가)\n",
    "    - example = [3, 9, \"y\", 2, \"k\", True]     # 숫자, 문자, 논리값 혼합하여 담은 리스트"
   ]
  },
  {
   "cell_type": "code",
   "execution_count": 21,
   "id": "63681e2e-8e2d-4109-832e-089b7cd35012",
   "metadata": {},
   "outputs": [
    {
     "name": "stdout",
     "output_type": "stream",
     "text": [
      "[6, 1, 3]\n"
     ]
    }
   ],
   "source": [
    "# 예제 1\n",
    "nums = [6, 1, 3]\n",
    "print(nums)"
   ]
  },
  {
   "cell_type": "code",
   "execution_count": 23,
   "id": "95984233-302c-4ee6-b518-a83d305185ba",
   "metadata": {},
   "outputs": [
    {
     "name": "stdout",
     "output_type": "stream",
     "text": [
      "kim\n",
      "lee\n",
      "park\n",
      "park\n",
      "lee\n",
      "kim\n"
     ]
    }
   ],
   "source": [
    "# 예제 2. 인덱스를 사용하여 요소 접근하기\n",
    "names = [\"kim\", \"lee\", \"park\"]\n",
    "print(names[0])\n",
    "print(names[1])\n",
    "print(names[2])\n",
    "print(names[-1])\n",
    "print(names[-2])\n",
    "print(names[-3])"
   ]
  },
  {
   "cell_type": "code",
   "execution_count": 25,
   "id": "10fcb944-d4ad-4d8c-a933-5a8e815f7727",
   "metadata": {},
   "outputs": [
    {
     "name": "stdout",
     "output_type": "stream",
     "text": [
      "10\n",
      "30\n",
      "50\n",
      "30\n"
     ]
    }
   ],
   "source": [
    "# 예제 3\n",
    "nums = [10, 20, 30, 40, 50]\n",
    "print(nums[0])\n",
    "print(nums[2])\n",
    "print(nums[4])\n",
    "print(nums[2])"
   ]
  },
  {
   "cell_type": "markdown",
   "id": "7c0154b4-21d1-46cc-ade1-91a3c00c647e",
   "metadata": {},
   "source": [
    "## 리스트 슬라이싱\n",
    "리스트[start : stop : step]"
   ]
  },
  {
   "cell_type": "markdown",
   "id": "40bd3285-4e26-4121-bbff-48df413f5ad4",
   "metadata": {},
   "source": [
    "### IndexError\n",
    "- nums = [1, 2, 3, 4, 5]      # 인덱스는 5까지 있다\n",
    "- print(nums[7])              # IndexError: list index out of range"
   ]
  },
  {
   "cell_type": "code",
   "execution_count": 28,
   "id": "c0b3038f-7457-417c-9f9a-2457add629f3",
   "metadata": {},
   "outputs": [
    {
     "name": "stdout",
     "output_type": "stream",
     "text": [
      "[9, 'y', 2]\n",
      "['y', 2, 'k', True]\n",
      "[3, 9, 'y', 2, 'k']\n"
     ]
    }
   ],
   "source": [
    "# 예제 1\n",
    "example = [3, 9, \"y\", 2, \"k\", True]\n",
    "print(example[1:4])\n",
    "print(example[2:])\n",
    "print(example[0:-1])"
   ]
  },
  {
   "cell_type": "markdown",
   "id": "2734262f-e9c4-445c-a43b-3a382164d829",
   "metadata": {},
   "source": [
    "## 리스트 결합 : + 연산자"
   ]
  },
  {
   "cell_type": "markdown",
   "id": "4edca8d9-8f86-4a55-a264-61a811ef9f1b",
   "metadata": {},
   "source": [
    "### 리스트 결합\n",
    "\n",
    "- 리스트에서 자주 사용하는 연산 중 하나는 결합이다.\n",
    "- 리스트 결합은 여러 개의 리스트를 하나의 리스트로 합쳐 새로운 리스트를 만들 수 있는 연산이다."
   ]
  },
  {
   "cell_type": "markdown",
   "id": "5c2336d4-83d2-49c2-b83f-452d52c77d97",
   "metadata": {},
   "source": [
    "### + 연산자\n",
    "\n",
    "- '+' 연산자 - 두개 이상의 리스트를 직접 연결하여 새로운 리스트를 만든다.\n",
    "- 기존 리스트를 수정하지 않는다."
   ]
  },
  {
   "cell_type": "code",
   "execution_count": 79,
   "id": "b777e83c-40b9-48be-8dcf-9413aebd1704",
   "metadata": {},
   "outputs": [
    {
     "name": "stdout",
     "output_type": "stream",
     "text": [
      "['A', 'B', 'C', 'D', 'E']\n",
      "['D', 'E', 'A', 'B', 'C']\n"
     ]
    }
   ],
   "source": [
    "# 예제 1\n",
    "list1 = [\"A\", \"B\", \"C\"]\n",
    "list2 = [\"D\", \"E\"]\n",
    "list3 = list1 + list2\n",
    "print(list3)\n",
    "\n",
    "list3 = list2 + list1\n",
    "print(list3)"
   ]
  },
  {
   "cell_type": "markdown",
   "id": "4af7e14e-4d84-4c62-8de6-16185d873dae",
   "metadata": {},
   "source": [
    "## 리스트 결합 : extend"
   ]
  },
  {
   "cell_type": "markdown",
   "id": "5b288dc9-5ccc-422f-a7f8-dd9494cf4618",
   "metadata": {},
   "source": [
    "### extend()\n",
    "\n",
    "- 메서드 - 기존 리스트의 끝에 다른 리스트의 모든 요소를 추가한다.\n",
    "- 기존 리스트를 수정한다.\n",
    "- 메모리에 효율적이다\n",
    "- 문법 : 리스트.extend(연결할 리스트)"
   ]
  },
  {
   "cell_type": "code",
   "execution_count": 39,
   "id": "455e8c7b-52db-4624-ac94-030f368ead8b",
   "metadata": {},
   "outputs": [
    {
     "name": "stdout",
     "output_type": "stream",
     "text": [
      "['A', 'B', 'C', 'D', 'E']\n",
      "['D', 'E']\n"
     ]
    }
   ],
   "source": [
    "# 예제 1\n",
    "list11 = [\"A\", \"B\", \"C\"]\n",
    "list22 = [\"D\", \"E\"]\n",
    "list11.extend(list22)\n",
    "print(list11)\n",
    "print(list22)"
   ]
  },
  {
   "cell_type": "code",
   "execution_count": 41,
   "id": "87b2b528-8532-4b12-9ec1-8cb81848da6e",
   "metadata": {},
   "outputs": [
    {
     "name": "stdout",
     "output_type": "stream",
     "text": [
      "[1, 2, 3, 4, 5]\n"
     ]
    }
   ],
   "source": [
    "# 예제 2\n",
    "nums1 = [1, 2, 3]\n",
    "nums2 = [4, 5]\n",
    "nums1.extend(nums2)\n",
    "print(nums1)"
   ]
  },
  {
   "cell_type": "markdown",
   "id": "782a5eb9-5333-4954-a5fa-fb5d20c32461",
   "metadata": {},
   "source": [
    "## 리스트 반복"
   ]
  },
  {
   "cell_type": "code",
   "execution_count": 44,
   "id": "f0216c4e-7276-404b-8bff-0f94dd64783b",
   "metadata": {},
   "outputs": [
    {
     "name": "stdout",
     "output_type": "stream",
     "text": [
      "[1, 9, 3, 0, 1, 9, 3, 0, 1, 9, 3, 0]\n"
     ]
    }
   ],
   "source": [
    "# 예제 1\n",
    "nums1 = [1, 9, 3, 0]\n",
    "print(nums1 * 3)"
   ]
  },
  {
   "cell_type": "markdown",
   "id": "182b2d29-590d-43d7-98b8-628a9b49813d",
   "metadata": {},
   "source": [
    "## 리스트 메서드"
   ]
  },
  {
   "cell_type": "markdown",
   "id": "bf0ce7bd-0909-4550-9ade-6965f51d89cd",
   "metadata": {},
   "source": [
    "### 1. 리스트 추가: **append()**\n",
    "\n",
    "- 리스트에 요소를 추가하고 싶을 때 간단하게 쓰는 메서드.\n",
    "- 리스트의 마지막에 새로운 요소를 추가하는 역할.\n",
    "- 문법 : 리스트변수.append(추가할 값(요소))"
   ]
  },
  {
   "cell_type": "code",
   "execution_count": 50,
   "id": "30a0a4af-5b13-43f6-8665-211a262d836d",
   "metadata": {},
   "outputs": [
    {
     "name": "stdout",
     "output_type": "stream",
     "text": [
      "추가 후 :  [1, 2, 3, 4]\n"
     ]
    }
   ],
   "source": [
    "# 예제 1\n",
    "nums4 = [1, 2, 3]\n",
    "nums4.append(4)\n",
    "print(\"추가 후 : \", nums4)"
   ]
  },
  {
   "cell_type": "code",
   "execution_count": 52,
   "id": "577c6821-ee31-4611-bd54-4170e777d3d5",
   "metadata": {},
   "outputs": [
    {
     "name": "stdout",
     "output_type": "stream",
     "text": [
      "추가 후 :  ['apples', 'bananas', 'cherry']\n"
     ]
    }
   ],
   "source": [
    "# 예제 2\n",
    "fruits = [\"apples\", \"bananas\"]\n",
    "fruits.append(\"cherry\")\n",
    "print(\"추가 후 : \", fruits)"
   ]
  },
  {
   "cell_type": "markdown",
   "id": "66c28f57-9f25-4b51-b3f5-70438d9ff602",
   "metadata": {},
   "source": [
    "### 2. 리스트 추가: **insert()**\n",
    "\n",
    "- 파이썬에서는 리스트의 중간에 요소를 삽입할 수 있는 insert() 메서드를 제공\n",
    "- 문법 : 리스트변수.insert(위치(인덱스 번호), 추가할 값(요소))"
   ]
  },
  {
   "cell_type": "code",
   "execution_count": 56,
   "id": "d0c50cc2-046a-467e-94c5-8d5a8bde97b1",
   "metadata": {},
   "outputs": [
    {
     "name": "stdout",
     "output_type": "stream",
     "text": [
      "추가 전 :  [4, 5, 6]\n",
      "추가 후 :  [4, 8, 5, 6]\n"
     ]
    }
   ],
   "source": [
    "# 예제 1\n",
    "nums5 = [4, 5, 6]\n",
    "print(\"추가 전 : \", nums5)\n",
    "nums5.insert(1, 8)\n",
    "print(\"추가 후 : \", nums5)"
   ]
  },
  {
   "cell_type": "code",
   "execution_count": 62,
   "id": "af6fc57d-5998-4821-8e07-eb8d2aee239e",
   "metadata": {},
   "outputs": [
    {
     "name": "stdout",
     "output_type": "stream",
     "text": [
      "추가 후 : ['monkey', 'dog']\n",
      "결과 1 : ['monkey', 'dog', 'cat', 'lion']\n",
      "결과 2 : ['monkey', 'dog', 'horse', 'cat', 'lion']\n",
      "결과 3 : ['monkey', 'dog', 'horse', 'cat', 'cow', 'lion']\n"
     ]
    }
   ],
   "source": [
    "# 예제. append() vs insert()\n",
    "animals = [\"monkey\", \"dog\"]\n",
    "print(\"추가 후 :\", animals)\n",
    "\n",
    "animals.append(\"cat\")\n",
    "animals.append(\"lion\")\n",
    "print(\"결과 1 :\", animals)\n",
    "\n",
    "animals.insert(2, \"horse\")\n",
    "print(\"결과 2 :\", animals)\n",
    "\n",
    "animals.insert(4, \"cow\")\n",
    "print(\"결과 3 :\", animals)"
   ]
  },
  {
   "cell_type": "markdown",
   "id": "71b52afb-7b91-4b6d-82c2-55acc39aa101",
   "metadata": {},
   "source": [
    "### 3. 리스트 삭제 : **remove()**\n",
    "\n",
    "- 특정 값을 가진 요소를 삭제\n",
    "- 문법 : 리스트변수.remove(요소)"
   ]
  },
  {
   "cell_type": "code",
   "execution_count": 84,
   "id": "0274ea5e-27cd-4bb4-9765-8caa4c009f08",
   "metadata": {},
   "outputs": [
    {
     "name": "stdout",
     "output_type": "stream",
     "text": [
      "추가 전 :  [1, 2, 3, 4, 5]\n",
      "추가 후 :  [1, 3, 4, 5]\n"
     ]
    }
   ],
   "source": [
    "# 예제 1\n",
    "nums6 = [1, 2, 3, 4, 5]\n",
    "print(\"추가 전 : \", nums6)\n",
    "\n",
    "nums6.remove(2)\n",
    "print(\"추가 후 : \", nums6)"
   ]
  },
  {
   "cell_type": "code",
   "execution_count": 86,
   "id": "7b3fde58-7110-4207-95f4-5c33907c27e0",
   "metadata": {},
   "outputs": [
    {
     "name": "stdout",
     "output_type": "stream",
     "text": [
      ">> 리스트 삭제 예제 2: 여러 개의 요소가 있을 때 remove() 메서드 사용 예제\n",
      "['yellow', 'red']\n",
      "['yellow', 'red']\n"
     ]
    }
   ],
   "source": [
    "# 예제 2: 여러 개의 요소가 있을 때 remove() 메서드 사용 예제\n",
    "print(\">> 리스트 삭제 예제 2: 여러 개의 요소가 있을 때 remove() 메서드 사용 예제\")\n",
    "\n",
    "color = [\"black\", \"yellow\", \"red\", \"black\"]\n",
    "\n",
    "# remove는 왼쪽에서 오른쪽 방향으로 순차적으로 검사하여 처음 발견되는 값과 일치하는 요소만 삭제\n",
    "# 동일한 값을 가진 요소가 여러 개 있더라도 처음 발견된 요소만 삭제한다.\n",
    "color.remove(\"black\")\n",
    "\n",
    "# while문 사용하여 remove\n",
    "while \"black\" in color :\n",
    "    color.remove(\"black\")\n",
    "print(color)\n",
    "\n",
    "# 오류 : x not in list 리스트에 없는 값\n",
    "# color.remove(\"hello\")\n",
    "print(color)"
   ]
  },
  {
   "cell_type": "markdown",
   "id": "14df73a7-6add-4e71-81b8-52d7901bbf68",
   "metadata": {},
   "source": [
    "### 4. 리스트 삭제 : **pop()**\n",
    "\n",
    "- 특정 위치에 있는 요소를 삭제\n",
    "- 문법 : 리스트변수.pop(인덱스 번호)"
   ]
  },
  {
   "cell_type": "code",
   "execution_count": 89,
   "id": "b1db135a-9c78-4db8-90d1-1313dc6efcc5",
   "metadata": {},
   "outputs": [
    {
     "name": "stdout",
     "output_type": "stream",
     "text": [
      "추가 전 :  [1, 2, 3, 4, 5]\n",
      "추가 후 :  [1, 2, 3, 4]\n"
     ]
    }
   ],
   "source": [
    "# 예제 1\n",
    "nums7 = [1, 2, 3, 4, 5]\n",
    "print(\"추가 전 : \", nums7)\n",
    "\n",
    "nums7.pop(4)\n",
    "print(\"추가 후 : \", nums7)"
   ]
  },
  {
   "cell_type": "code",
   "execution_count": 72,
   "id": "0dd47e8a-7c1d-486d-b5dd-1870f3d64c15",
   "metadata": {},
   "outputs": [
    {
     "name": "stdout",
     "output_type": "stream",
     "text": [
      "['black', 'yellow', 'red']\n"
     ]
    }
   ],
   "source": [
    "# 예제 2\n",
    "colors = [\"black\", \"yellow\", \"red\", \"black\"]\n",
    "colors.pop(3)\n",
    "print(colors)"
   ]
  },
  {
   "cell_type": "code",
   "execution_count": 74,
   "id": "d48d6ba3-63b9-4cdc-b961-1c75ff2e3ec2",
   "metadata": {},
   "outputs": [
    {
     "name": "stdout",
     "output_type": "stream",
     "text": [
      "[10, 20, 40, 50]\n"
     ]
    }
   ],
   "source": [
    "# 예제 3\n",
    "numbers = [10, 20, 30, 40, 50]\n",
    "numbers.pop(2)\n",
    "print(numbers)"
   ]
  },
  {
   "cell_type": "markdown",
   "id": "c33eab3c-45df-4a8d-bffa-cfecfdfc1809",
   "metadata": {},
   "source": [
    "### 5. 리스트 길이 확인: **len()**\n",
    "\n",
    "- 리스트 길이\n",
    "- 문법 : len(리스트)"
   ]
  },
  {
   "cell_type": "code",
   "execution_count": 93,
   "id": "12ddc08b-851f-44c4-8d46-4cd6306fa3d7",
   "metadata": {},
   "outputs": [
    {
     "name": "stdout",
     "output_type": "stream",
     "text": [
      "3\n"
     ]
    }
   ],
   "source": [
    "# 예제 1\n",
    "computer_science = [\"data structure\", \"algorithms\", \"python\"]\n",
    "subject_num = len(computer_science)\n",
    "print(subject_num)"
   ]
  },
  {
   "cell_type": "code",
   "execution_count": 95,
   "id": "2d27b61d-fe32-4a4f-9f90-28a95c67b889",
   "metadata": {},
   "outputs": [
    {
     "name": "stdout",
     "output_type": "stream",
     "text": [
      "10\n",
      "20\n",
      "30\n",
      "40\n",
      "50\n"
     ]
    }
   ],
   "source": [
    "# 예제 2\n",
    "numbers = [10, 20, 30, 40, 50]\n",
    "\n",
    "for i in range(len(numbers)) :\n",
    "    print(numbers[i])"
   ]
  },
  {
   "cell_type": "code",
   "execution_count": 97,
   "id": "ccb371ea-b40a-421f-bbdb-c9f29af5d520",
   "metadata": {},
   "outputs": [
    {
     "name": "stdout",
     "output_type": "stream",
     "text": [
      "apple\n",
      "banana\n",
      "cherry\n",
      "data\n"
     ]
    }
   ],
   "source": [
    "# 예제 3\n",
    "fruits = [\"apple\", \"banana\", \"cherry\", \"data\"]\n",
    "\n",
    "for i in range(len(fruits)) :\n",
    "    print(fruits[i])"
   ]
  },
  {
   "cell_type": "markdown",
   "id": "e1ac11f9-a2ff-4cfd-a864-02a772d1cc0c",
   "metadata": {},
   "source": [
    "### 6. 리스트 정렬: **sort()**\n",
    "\n",
    "- 리스트를 자동으로(오름차순) 정렬하여 다시 저장한다.\n",
    "- 즉, 원본 리스트가 변경된다.\n",
    "- 문법 : 리스트.sort()"
   ]
  },
  {
   "cell_type": "markdown",
   "id": "c51a9975-8e40-40de-a945-de3f2a8da847",
   "metadata": {},
   "source": [
    "### 7. 리스트 정렬: sort(reverse = True)\n",
    "\n",
    "- 리스트를 자동으로(내림차순) 정렬하여 다시 저장한다.\n",
    "- 문법 : 리스트.sort(reverse = True)"
   ]
  },
  {
   "cell_type": "code",
   "execution_count": 111,
   "id": "50835f98-3ac3-49e1-a421-ce10e58a4ae1",
   "metadata": {},
   "outputs": [
    {
     "name": "stdout",
     "output_type": "stream",
     "text": [
      "[2, 3, 5, 7]\n",
      "[7, 5, 3, 2]\n"
     ]
    }
   ],
   "source": [
    "# 예제 1\n",
    "list_num = [2, 7, 3, 5]\n",
    "list_num.sort()\n",
    "print(list_num)\n",
    "\n",
    "list_num.sort(reverse=True)\n",
    "print(list_num)"
   ]
  },
  {
   "cell_type": "code",
   "execution_count": 113,
   "id": "d3454eba-2bff-482f-9158-02d3db5947aa",
   "metadata": {},
   "outputs": [
    {
     "name": "stdout",
     "output_type": "stream",
     "text": [
      "['Alice', 'Bob', 'Jerry', 'Tom']\n",
      "['Tom', 'Jerry', 'Bob', 'Alice']\n"
     ]
    }
   ],
   "source": [
    "# 예제 2\n",
    "names = [\"Tom\", \"Jerry\", \"Alice\", \"Bob\"]\n",
    "names.sort()\n",
    "print(names)\n",
    "\n",
    "names.sort(reverse=True)\n",
    "print(names)"
   ]
  },
  {
   "cell_type": "markdown",
   "id": "2c9bb8a5-595c-479b-b13a-70c42c00cf5a",
   "metadata": {},
   "source": [
    "### 8. 리스트 정렬: **sorted()**\n",
    "\n",
    "- 새롭게 정렬된 리스트를 반환한다.\n",
    "- sort() 메서드와 달리 원본 리스트는 변경되지 않는다."
   ]
  },
  {
   "cell_type": "code",
   "execution_count": 117,
   "id": "a819bc76-05e8-42ed-abe9-2f35dd0511ec",
   "metadata": {},
   "outputs": [
    {
     "name": "stdout",
     "output_type": "stream",
     "text": [
      "[5, 2, 3, 4, 1]\n",
      "[1, 2, 3, 4, 5]\n"
     ]
    }
   ],
   "source": [
    "# 예제 1\n",
    "numbers2 = [5, 2, 3, 4, 1]\n",
    "sorted_numbers = sorted(numbers2)\n",
    "print(numbers2)     # 원본 바뀌지 않음\n",
    "print(sorted_numbers)"
   ]
  },
  {
   "cell_type": "markdown",
   "id": "5435fa4b-2f0b-4361-ae50-18b42b569726",
   "metadata": {},
   "source": [
    "### 9. 리스트 반전: **reverse()**\n",
    "\n",
    "- 리스트의 맨 앞 요소가 맨 뒤로, 맨 뒤 요소가 맨 앞으로 이동한다.\n",
    "- 리스트 원본이 변경된다.\n",
    "- 문법 : 리스트.reverse()"
   ]
  },
  {
   "cell_type": "code",
   "execution_count": 121,
   "id": "cacca01f-3191-4cd8-9b59-2906b0fc5442",
   "metadata": {},
   "outputs": [
    {
     "name": "stdout",
     "output_type": "stream",
     "text": [
      "[5, 3, 7, 2]\n"
     ]
    }
   ],
   "source": [
    "# 예제 1\n",
    "list_num2 = [2, 7, 3, 5]\n",
    "list_num2.reverse()\n",
    "print(list_num2)"
   ]
  },
  {
   "cell_type": "markdown",
   "id": "5248ff65-a5fd-4b9e-866c-a96fb699bf71",
   "metadata": {},
   "source": [
    "### 10. **in**\n",
    "\n",
    "- 리스트 내부에 요소가 있는지 확인하는 키워드\n",
    "- 파이썬에서 in 키워드는 리스트에 특정 값이 존재하는지 확인하는데 사용\n",
    "- 문법: 특정값 in 리스트"
   ]
  },
  {
   "cell_type": "markdown",
   "id": "8a2ccfda-d2c8-400c-a815-3dbf796020d6",
   "metadata": {},
   "source": [
    "### 11. **not in**\n",
    "\n",
    "- 리스트 내부에 요소가 없는지 확인하는 키워드\n",
    "- 존재하지 않는 지 확인하는 데 사용"
   ]
  },
  {
   "cell_type": "code",
   "execution_count": 125,
   "id": "75327ddb-bc0f-4d04-a6a6-93569832484a",
   "metadata": {},
   "outputs": [
    {
     "name": "stdout",
     "output_type": "stream",
     "text": [
      "True\n",
      "False\n",
      "False\n"
     ]
    }
   ],
   "source": [
    "# 예제 1\n",
    "list_n = [1, 2, 3, 4, 5, 6, 7]\n",
    "print(3 in list_n)      # 리스트에 존재하기 때문에 True\n",
    "print(10 in list_n)     # 리스트에 없기 때문에 False\n",
    "print(5 not in list_n)  # 리스트에 있기 때문에 False"
   ]
  },
  {
   "cell_type": "markdown",
   "id": "aedbd74e-e2ed-49e1-b129-b4282aec7227",
   "metadata": {},
   "source": [
    "### 12. **join()**\n",
    "\n",
    "- 리스트 요소를 문자열로 만들기\n",
    "- 리스트의 요소들을 하나하나 엮어서 새로운 문자열을 만들기 위해 파이썬은 join() 메소드 제공\n",
    "- 문법 : 요소 사이에 들어갈 문자.join(리스트)"
   ]
  },
  {
   "cell_type": "code",
   "execution_count": 129,
   "id": "fc0e1828-d25e-4633-8bfe-a206b1086bb5",
   "metadata": {},
   "outputs": [
    {
     "name": "stdout",
     "output_type": "stream",
     "text": [
      "a-b-c\n",
      "a*b*c\n"
     ]
    }
   ],
   "source": [
    "# 예제 1\n",
    "list_abc = [\"a\", \"b\", \"c\"]\n",
    "result = \"-\".join(list_abc)\n",
    "print(result)\n",
    "\n",
    "result2 = \"*\".join(list_abc)\n",
    "print(result2)"
   ]
  },
  {
   "cell_type": "markdown",
   "id": "9574fef5-0521-4740-aa4a-d475b6d60634",
   "metadata": {},
   "source": [
    "### 리스트 종합 문제"
   ]
  },
  {
   "cell_type": "code",
   "execution_count": 136,
   "id": "a85effed-b9c5-4966-83c7-a5f3dbf4d986",
   "metadata": {},
   "outputs": [
    {
     "name": "stdout",
     "output_type": "stream",
     "text": [
      "0\n",
      "1\n",
      "2\n",
      "3\n"
     ]
    }
   ],
   "source": [
    "# 종합 1. for문을 사용하여 리스트 출력하기\n",
    "animals = [\"dog\", \"cat\", \"tiger\", \"lion\"]\n",
    "for i in range(len(animals)) :\n",
    "    print(i)"
   ]
  },
  {
   "cell_type": "code",
   "execution_count": 134,
   "id": "0889c370-18e7-4364-b250-b16620987082",
   "metadata": {},
   "outputs": [
    {
     "name": "stdout",
     "output_type": "stream",
     "text": [
      "[1, 3, 7, 9, 15]\n"
     ]
    }
   ],
   "source": [
    "# 종합 2. 리스트 오름차순 정렬\n",
    "numbers3 = [15, 3, 9, 1, 7]\n",
    "numbers3.sort()\n",
    "print(numbers3)"
   ]
  },
  {
   "cell_type": "code",
   "execution_count": 138,
   "id": "25597a5e-778f-481e-a4b9-e7a245f655bd",
   "metadata": {},
   "outputs": [
    {
     "name": "stdout",
     "output_type": "stream",
     "text": [
      "[99, 92, 88, 75, 63]\n"
     ]
    }
   ],
   "source": [
    "# 종합 3. 리스트 내림차순 정렬\n",
    "score = [88, 92, 75, 63, 99]\n",
    "score.sort(reverse=True)\n",
    "print(score)"
   ]
  },
  {
   "cell_type": "code",
   "execution_count": 140,
   "id": "20764fe0-e42d-4ef2-b460-3d8ab274056b",
   "metadata": {},
   "outputs": [
    {
     "name": "stdout",
     "output_type": "stream",
     "text": [
      "원본 리스트 : [2, 5, 6, 8, 10]\n",
      "정렬된 리스트 : <built-in function sorted>\n"
     ]
    }
   ],
   "source": [
    "# 종합 4. 원본 리스트와 새 리스트 모두 출력하기\n",
    "value = [10, 5, 8, 2, 6]\n",
    "sorted_value = sorted(value)\n",
    "print(\"원본 리스트 :\", sorted_value)\n",
    "print(\"정렬된 리스트 :\", sorted)"
   ]
  },
  {
   "cell_type": "code",
   "execution_count": 142,
   "id": "67112890-0b29-4429-a937-96eeb320a38b",
   "metadata": {},
   "outputs": [
    {
     "name": "stdout",
     "output_type": "stream",
     "text": [
      "['blue', 'green', 'red']\n"
     ]
    }
   ],
   "source": [
    "# 종합 5. 리스트 반전시키기\n",
    "colors = [\"red\", \"green\", \"blue\"]\n",
    "colors.reverse()\n",
    "print(colors)"
   ]
  },
  {
   "cell_type": "markdown",
   "id": "d2d4f6d6-cce4-406a-ace5-3a4ab5e54371",
   "metadata": {},
   "source": [
    "# 2. 딕셔너리(Dictionary)\n",
    "\n",
    "- 키(key)와 값(value)의 쌍으로 이루어진 자료형으로 정보를 효율적으로 관리하는데 유용하다.\n",
    "- key : 데이터를 식별하는 고유한 값. key는 중복될 수 없다. 만약, 같은 key가 여러 번 쓰이면, 마지막에 입력된 값으로 덮어쓰기 된다.\n",
    "- value : key에 대응되는 데이터 값. value는 중복 가능하다.\n",
    "- 상품 정보처럼 여러가지 정보를 한꺼번에 저장하고 관리하는데 유용하다.\n",
    "- 딕셔너리에 포함된 항목들을 하나의 쌍 또는 페어(pair)라고 한다.\n",
    "\n",
    "```\n",
    "# 키(key) - 값(value)\n",
    "# apple  -   사과\n",
    "\n",
    "dic = {\n",
    "    key1: value1\n",
    "    key2: value2\n",
    "}\n",
    "\n",
    "person = {\n",
    "    \"name\" : \"kim\",\n",
    "    \"age\" : 30,\n",
    "    \"phone: \" \"01024562345\"\n",
    "}\n",
    "```"
   ]
  },
  {
   "cell_type": "code",
   "execution_count": 154,
   "id": "2cfc1191-7390-4b9f-892b-c3e1c685cafa",
   "metadata": {},
   "outputs": [
    {
     "name": "stdout",
     "output_type": "stream",
     "text": [
      "{'a': 'abc', 'b': 3, 4: [1, 2, 3]}\n"
     ]
    }
   ],
   "source": [
    "# 딕셔너리 (Dictionary)\n",
    "dic = {\n",
    "    \"a\" : \"abc\",\n",
    "    \"b\" : 3,\n",
    "    4 : [1, 2, 3],\n",
    "}\n",
    "print(dic)"
   ]
  },
  {
   "cell_type": "code",
   "execution_count": 156,
   "id": "3bf0b801-f98a-40ba-9e1f-2ced934d1e85",
   "metadata": {},
   "outputs": [
    {
     "name": "stdout",
     "output_type": "stream",
     "text": [
      "abc\n",
      "[1, 2, 3]\n"
     ]
    }
   ],
   "source": [
    "# 딕셔너리에 저장된 데이터를 한쌍씩 출력하고 싶으면 : 변수명[key값]\n",
    "print(dic[\"a\"])\n",
    "print(dic[4])"
   ]
  },
  {
   "cell_type": "code",
   "execution_count": 160,
   "id": "ae26edbd-d194-4e3b-badc-9e9a8997e068",
   "metadata": {},
   "outputs": [
    {
     "name": "stdout",
     "output_type": "stream",
     "text": [
      "{'apple': 3, 'banana': 5, 'orange': 2}\n"
     ]
    }
   ],
   "source": [
    "# 예제 1\n",
    "fruits = {\n",
    "    \"apple\" : 3,\n",
    "    \"banana\" : 5,\n",
    "    \"orange\" : 2\n",
    "}\n",
    "print(fruits)"
   ]
  },
  {
   "cell_type": "code",
   "execution_count": 162,
   "id": "bbb2d3e9-4097-4891-8000-3222615ceef2",
   "metadata": {},
   "outputs": [
    {
     "name": "stdout",
     "output_type": "stream",
     "text": [
      "1. 딕셔너리 전체 출력 : {'name': 'kim', 'age': 30, 'phone': '010-1234-5667', 'subject': ['python', 'java']}\n",
      "2. kim 출력 : kim\n",
      "3. subject 출력 : ['python', 'java']\n"
     ]
    }
   ],
   "source": [
    "# 예제 2\n",
    "person = {\n",
    "    \"name\" : \"kim\",\n",
    "    \"age\" : 30,\n",
    "    \"phone\" : \"010-1234-5667\",\n",
    "    \"subject\" : [\"python\", \"java\"]\n",
    "}\n",
    "print(\"1. 딕셔너리 전체 출력 :\", person)\n",
    "print(\"2. kim 출력 :\", person[\"name\"])\n",
    "print(\"3. subject 출력 :\", person[\"subject\"])\n",
    "# print(person[\"face\"])     # KeyError: \"face\" -> key 값이 없을 때 나타나는 에러"
   ]
  },
  {
   "cell_type": "markdown",
   "id": "d29b4f1e-a2b6-4a97-a0be-8d94a5d4ac9a",
   "metadata": {},
   "source": [
    "## 딕셔너리(Dictionary) 연산\n",
    "\n",
    ": 연산을 지원하며, 이를 통해 딕셔너리를 자유롭게 조작하고 데이터를 활용할 수 있다."
   ]
  },
  {
   "cell_type": "markdown",
   "id": "c9029118-1066-4303-be35-e906db321b2e",
   "metadata": {},
   "source": [
    "## 1. dic = {}\n",
    "\n",
    "- 장 기본적인 딕셔너리 연산은 빈 딕셔너리를 생성하는 것\n",
    "- 빈 딕셔너리는 아직 어떤 데이터도 저장하지 않은 상태"
   ]
  },
  {
   "cell_type": "markdown",
   "id": "8e7da804-ee39-4ae6-bbd2-d6e43c5b5cbf",
   "metadata": {},
   "source": [
    "### 2. key-value 쌍 추가\n",
    "\n",
    "- 문법 : 딕셔너리 변수명[새로운 key값] = 새로운 value값"
   ]
  },
  {
   "cell_type": "code",
   "execution_count": 167,
   "id": "30de0f28-c70b-4a71-9eca-c39da44d9aac",
   "metadata": {},
   "outputs": [
    {
     "name": "stdout",
     "output_type": "stream",
     "text": [
      "{'red': 'apple', 'yellow': 'banana', 'purple': 'grape'}\n",
      "{'red': 'orange', 'yellow': 'banana', 'purple': 'grape'}\n"
     ]
    }
   ],
   "source": [
    "# 예제 1\n",
    "dic_color = {\n",
    "    \"red\" : \"apple\",\n",
    "    \"yellow\" : \"banana\",\n",
    "    \"purple\" : \"grape\"\n",
    "}\n",
    "print(dic_color)\n",
    "\n",
    "# dic_color[\"Orange\"] = \"orange\"\n",
    "dic_color[\"red\"] = \"orange\"\n",
    "print(dic_color)"
   ]
  },
  {
   "cell_type": "code",
   "execution_count": 169,
   "id": "09c27e43-e00e-4db8-9af1-ac1a1581ef7e",
   "metadata": {},
   "outputs": [
    {
     "name": "stdout",
     "output_type": "stream",
     "text": [
      "{'dog': '멍멍', 'cat': '야옹', 'cow': '음메'}\n",
      "{'dog': '멍멍', 'cat': '야옹', 'cow': '음메', 'bird': '짹짹'}\n",
      "{'dog': '멍멍', 'cat': '냐옹', 'cow': '음메', 'bird': '짹짹'}\n"
     ]
    }
   ],
   "source": [
    "# 예제 2\n",
    "dic_animal = {\n",
    "    \"dog\" : \"멍멍\",\n",
    "    \"cat\" : \"야옹\",\n",
    "    \"cow\" : \"음메\"\n",
    "}\n",
    "print(dic_animal)\n",
    "\n",
    "dic_animal[\"bird\"] = \"짹짹\"\n",
    "print(dic_animal)\n",
    "\n",
    "dic_animal[\"cat\"] = \"냐옹\"\n",
    "print(dic_animal)"
   ]
  },
  {
   "cell_type": "markdown",
   "id": "ae6b7e2c-4c2e-44ac-994a-b156bc789c14",
   "metadata": {},
   "source": [
    "### 3. key-value 쌍 삭제 : del\n",
    "\n",
    "- 문법 : del 딕셔너리 변수명[삭제하고 싶은 key값]"
   ]
  },
  {
   "cell_type": "code",
   "execution_count": 177,
   "id": "69e7b5a8-d120-469c-96ac-4b78ad24565f",
   "metadata": {},
   "outputs": [
    {
     "name": "stdout",
     "output_type": "stream",
     "text": [
      "{'축구': '손흥민', '야구': '이정후', '피겨스케이팅': '김연아', '수영': '박태환'}\n",
      "{'축구': '손흥민', '피겨스케이팅': '김연아', '수영': '박태환'}\n"
     ]
    }
   ],
   "source": [
    "# 예제 1\n",
    "sports_star = {\n",
    "    \"축구\" : \"손흥민\",\n",
    "    \"야구\" : \"이정후\",\n",
    "    \"피겨스케이팅\" : \"김연아\",\n",
    "    \"수영\" : \"박태환\",\n",
    "}\n",
    "print(sports_star)\n",
    "\n",
    "del sports_star[\"야구\"]\n",
    "print(sports_star)"
   ]
  },
  {
   "cell_type": "markdown",
   "id": "33b86c1a-2005-4a62-8b65-640e23145c6f",
   "metadata": {},
   "source": [
    "### 4. key-value 쌍 삭제: pop\n",
    "\n",
    "- pop은 삭제하면서 값을 반환해준다. 그래서 나중에 그 값을 활용할 수 있다.\n",
    "- 문법 : value = 딕셔너리 변수명.pop(삭제하고 싶은 key값)"
   ]
  },
  {
   "cell_type": "code",
   "execution_count": 180,
   "id": "6a96d344-0db5-4a83-9907-59cb4de4b6c2",
   "metadata": {},
   "outputs": [
    {
     "name": "stdout",
     "output_type": "stream",
     "text": [
      "{1: 'java', 2: 'python', 3: 'C++'}\n",
      "삭제된 값 : java\n",
      "삭제 후 딕셔너리 : {2: 'python', 3: 'C++'}\n"
     ]
    }
   ],
   "source": [
    "# 예제 1\n",
    "dic2 = {\n",
    "    1 : \"java\",\n",
    "    2 : \"python\",\n",
    "    3 : \"C++\"\n",
    "}\n",
    "print(dic2)\n",
    "\n",
    "value = dic2.pop(1)\n",
    "print(\"삭제된 값 :\", value)\n",
    "print(\"삭제 후 딕셔너리 :\", dic2)"
   ]
  },
  {
   "cell_type": "markdown",
   "id": "eba3ae39-c404-4e26-aefe-738c0a9eb87f",
   "metadata": {},
   "source": [
    "### 5. 딕셔너리 전체 삭제: clear\n",
    "\n",
    "- 문법 : 딕셔너리 변수명.clear()"
   ]
  },
  {
   "cell_type": "code",
   "execution_count": 183,
   "id": "ca54fc8b-f111-4169-af8c-ece8eece2f06",
   "metadata": {},
   "outputs": [
    {
     "name": "stdout",
     "output_type": "stream",
     "text": [
      "{}\n"
     ]
    }
   ],
   "source": [
    "# 예제 1\n",
    "dic2.clear()\n",
    "print(dic2)"
   ]
  },
  {
   "cell_type": "markdown",
   "id": "40b57d1a-6f3b-4bf5-9543-7f10ecb0ed33",
   "metadata": {},
   "source": [
    "## 딕셔너리 메서드(기능)"
   ]
  },
  {
   "cell_type": "markdown",
   "id": "5073d67d-022e-4377-a4bf-a55c25f2ee5a",
   "metadata": {},
   "source": [
    "### 1. **.get(key)**\n",
    "\n",
    "- 해당 key의 값을 가져옴 (key가 없으면 None 반환)"
   ]
  },
  {
   "cell_type": "code",
   "execution_count": 187,
   "id": "b1e41a11-ba65-431c-a714-89f82dc68a4c",
   "metadata": {},
   "outputs": [
    {
     "name": "stdout",
     "output_type": "stream",
     "text": [
      "Tom\n",
      "None\n"
     ]
    }
   ],
   "source": [
    "# 예제 1\n",
    "person = {\n",
    "    \"name\" : \"Tom\",\n",
    "    \"age\" : 12\n",
    "}\n",
    "print(person.get(\"name\"))\n",
    "print(person.get(\"height\"))     # None (오류가 아님)"
   ]
  },
  {
   "cell_type": "code",
   "execution_count": 189,
   "id": "b276bf9d-db29-481a-a147-3089abfbf67c",
   "metadata": {},
   "outputs": [
    {
     "name": "stdout",
     "output_type": "stream",
     "text": [
      "yellow\n",
      "None\n"
     ]
    }
   ],
   "source": [
    "# 예제 2\n",
    "fruit_color = {\n",
    "    \"apple\" : \"red\",\n",
    "    \"banana\" : \"yellow\",\n",
    "    \"grape\" : \"purple\"\n",
    "}\n",
    "print(fruit_color.get(\"banana\"))\n",
    "print(fruit_color.get(\"grapefruit\"))"
   ]
  },
  {
   "cell_type": "markdown",
   "id": "026de76e-90a4-4f3a-819a-798e5d35cbdf",
   "metadata": {},
   "source": [
    "### 2. **.keys()**\n",
    "\n",
    "- 딕셔너리의 모든 key 값을 반환"
   ]
  },
  {
   "cell_type": "code",
   "execution_count": 193,
   "id": "2009cead-25f6-4523-a694-c766e50572f2",
   "metadata": {},
   "outputs": [
    {
     "name": "stdout",
     "output_type": "stream",
     "text": [
      "1. keys() 출력 :  dict_keys(['red', 'yellow', 'purple'])\n"
     ]
    }
   ],
   "source": [
    "# 예제 1\n",
    "fruit_color2 = {\n",
    "    \"red\" : \"apple\",\n",
    "    \"yellow\" : \"banana\",\n",
    "    \"purple\" : \"blueberry\"\n",
    "}\n",
    "print(\"1. keys() 출력 : \", fruit_color2.keys())\n",
    "# fruit_color2.keys().append(\"test\")      # append는 리스트에서만 사용할 수 있다."
   ]
  },
  {
   "cell_type": "code",
   "execution_count": 195,
   "id": "7d00d892-ce4d-473d-971b-021fc986f3da",
   "metadata": {},
   "outputs": [
    {
     "name": "stdout",
     "output_type": "stream",
     "text": [
      "2. for문 + keys() 결합\n",
      "red\n",
      "yellow\n",
      "purple\n"
     ]
    }
   ],
   "source": [
    "# 예제 2. for문 + keys() 결합\n",
    "print(\"2. for문 + keys() 결합\")\n",
    "for i in fruit_color2.keys() :\n",
    "    print(i)"
   ]
  },
  {
   "cell_type": "code",
   "execution_count": 197,
   "id": "a222ad66-9970-4f7f-b3b7-267d735a70e5",
   "metadata": {},
   "outputs": [
    {
     "name": "stdout",
     "output_type": "stream",
     "text": [
      "직업 목록 : {'teacher': 'school', 'doctor': 'hospital', 'chef': 'restaurant'}\n",
      "teacher\n",
      "doctor\n",
      "chef\n"
     ]
    }
   ],
   "source": [
    "# 예제 3\n",
    "job_dic = {\n",
    "    \"teacher\" : \"school\",\n",
    "    \"doctor\" : \"hospital\",\n",
    "    \"chef\" : \"restaurant\"\n",
    "}\n",
    "print(\"직업 목록 :\", job_dic)\n",
    "\n",
    "for i in job_dic.keys() :\n",
    "    print(i)"
   ]
  },
  {
   "cell_type": "markdown",
   "id": "4a48a210-c4b1-492b-9be7-9f1303bf3c79",
   "metadata": {},
   "source": [
    "#### 딕셔너리의 키 값들을 리스트로 변환하기\n",
    "\n",
    "- 문법 : list(딕셔너리.keys())"
   ]
  },
  {
   "cell_type": "code",
   "execution_count": 201,
   "id": "3cf1d73a-3254-4a19-9de0-08a1fe38efff",
   "metadata": {},
   "outputs": [
    {
     "name": "stdout",
     "output_type": "stream",
     "text": [
      "1. keys()\n",
      "dict_keys(['red', 'yellow', 'purple'])\n",
      "\n",
      "2. 리스트로 변환하기 : list() + keys()의 결합\n",
      "['red', 'yellow', 'purple']\n",
      "['red', 'yellow', 'purple', 'blue']\n"
     ]
    }
   ],
   "source": [
    "# 예제 1\n",
    "fruit_colors = {\n",
    "    \"red\" : \"apple\",\n",
    "    \"yellow\" : \"banana\",\n",
    "    \"purple\" : \"blueberry\",\n",
    "}\n",
    "print(\"1. keys()\")\n",
    "print(fruit_colors.keys())\n",
    "print()\n",
    "\n",
    "print(\"2. 리스트로 변환하기 : list() + keys()의 결합\")\n",
    "# keys() 메서드를 호출하여 반환된 객체를 list 메서드에 인자로 전달\n",
    "color_list = list(fruit_colors.keys())\n",
    "print(color_list)\n",
    "color_list.append(\"blue\")\n",
    "print(list(color_list))"
   ]
  },
  {
   "cell_type": "code",
   "execution_count": 203,
   "id": "a9c8d963-2783-46c2-9370-f6d300979fdd",
   "metadata": {},
   "outputs": [
    {
     "name": "stdout",
     "output_type": "stream",
     "text": [
      "['dog', 'cat', 'cow']\n",
      "['dog', 'cow']\n",
      "['cow']\n"
     ]
    }
   ],
   "source": [
    "# 예제 2\n",
    "animal_sounds = {\n",
    "    \"dog\" : 1,\n",
    "    \"cat\" : 2,\n",
    "    \"cow\" : 3\n",
    "}\n",
    "animal_list = list(animal_sounds.keys())\n",
    "print(animal_list)\n",
    "\n",
    "animal_list.pop(1)\n",
    "print(animal_list)\n",
    "\n",
    "animal_list.remove(\"dog\")\n",
    "print(animal_list)"
   ]
  },
  {
   "cell_type": "code",
   "execution_count": 205,
   "id": "4ceda8d7-3a79-4cb3-b5ca-5315769b5f62",
   "metadata": {},
   "outputs": [
    {
     "name": "stdout",
     "output_type": "stream",
     "text": [
      "1. 리스트 변환 : ['car', 'train', 'bike']\n",
      "2. 값 추가 후 :  ['car', 'train', 'bike', 'airplane']\n",
      "3. 값 삭제 후 : ['car', 'train', 'airplane']\n"
     ]
    }
   ],
   "source": [
    "# 예제 3\n",
    "t_sound = {\n",
    "    \"car\" : 10,\n",
    "    \"train\" : 20,\n",
    "    \"bike\" : 30\n",
    "}\n",
    "\n",
    "t_list = list(t_sound.keys())\n",
    "print(\"1. 리스트 변환 :\",t_list)\n",
    "\n",
    "t_list.append(\"airplane\")\n",
    "print(\"2. 값 추가 후 : \", t_list)\n",
    "\n",
    "t_list.remove(\"bike\")\n",
    "print(\"3. 값 삭제 후 :\", t_list)"
   ]
  },
  {
   "cell_type": "markdown",
   "id": "168ce344-349f-405b-b56f-c508d4ce6d47",
   "metadata": {},
   "source": [
    "### 3. **.values()**\n",
    "\n",
    "- 딕셔너리의 모든 value 값을 반환"
   ]
  },
  {
   "cell_type": "markdown",
   "id": "559a4773-fcaf-4ebc-b66a-2afa21491f23",
   "metadata": {},
   "source": [
    "#### 딕셔너리의 Value 값들을 리스트로 변환하기\n",
    "\n",
    "- 문법 : list(딕셔너리.values())"
   ]
  },
  {
   "cell_type": "code",
   "execution_count": 210,
   "id": "973f30d5-182e-464a-b8a3-2011a77090bb",
   "metadata": {},
   "outputs": [
    {
     "name": "stdout",
     "output_type": "stream",
     "text": [
      "1. values() 출력\n",
      "dict_values(['alphabet', 'best', 'cheer'])\n",
      "\n",
      "2. for문과 values()의 결합\n",
      "alphabet\n",
      "best\n",
      "cheer\n",
      "\n",
      "3. list()와 values()의 결합\n",
      "['best', 'cheer']\n"
     ]
    }
   ],
   "source": [
    "# 예제 1\n",
    "abc_div = {\n",
    "    \"a\" : \"alphabet\",\n",
    "    \"b\" : \"best\",\n",
    "    \"c\" : \"cheer\"\n",
    "}\n",
    "\n",
    "print(\"1. values() 출력\")\n",
    "print(abc_div.values())\n",
    "print()\n",
    "\n",
    "print(\"2. for문과 values()의 결합\")\n",
    "for i in abc_div.values() :\n",
    "    print(i)\n",
    "print()\n",
    "\n",
    "print(\"3. list()와 values()의 결합\")\n",
    "abc_list = list(abc_div.values())\n",
    "abc_list.remove(\"alphabet\")\n",
    "print(abc_list)"
   ]
  },
  {
   "cell_type": "markdown",
   "id": "ec32367d-71e2-46ad-9ba1-d4b5193bc35f",
   "metadata": {},
   "source": [
    "### 4. **.pop(key)**\n",
    "\n",
    "- key에 해당하는 항목을 삭제하고, 그 value를 반환"
   ]
  },
  {
   "cell_type": "code",
   "execution_count": 213,
   "id": "dc34ded2-f2a3-4a93-ae8e-c9a63b53c2ce",
   "metadata": {},
   "outputs": [
    {
     "name": "stdout",
     "output_type": "stream",
     "text": [
      "12\n",
      "{'name': 'Tom'}\n"
     ]
    }
   ],
   "source": [
    "# 예제 1\n",
    "person = {\n",
    "    \"name\" : \"Tom\",\n",
    "    \"age\" : 12\n",
    "}\n",
    "age = person.pop(\"age\")\n",
    "print(age)\n",
    "print(person)"
   ]
  },
  {
   "cell_type": "markdown",
   "id": "96b274d1-7e0c-416d-be2b-13e461e28f94",
   "metadata": {},
   "source": [
    "### 5. **.update()**\n",
    "\n",
    "- 다른 딕셔너리를 추가하거나 기존 값을 수정"
   ]
  },
  {
   "cell_type": "code",
   "execution_count": 216,
   "id": "4f763cff-e7c6-4f61-b288-0ea53d0ef564",
   "metadata": {},
   "outputs": [
    {
     "name": "stdout",
     "output_type": "stream",
     "text": [
      "{'name': 'Tom', 'age': 12, 'height': 12}\n"
     ]
    }
   ],
   "source": [
    "# 예제 1\n",
    "person.update({\"age\" : 12})\n",
    "person.update({\"height\" : 12})\n",
    "print(person)"
   ]
  },
  {
   "cell_type": "markdown",
   "id": "689587d0-f963-44a7-b324-ae0a4a9a1991",
   "metadata": {},
   "source": [
    "### 6. **items()**\n",
    "\n",
    "- 딕셔너리 안의 (키, 값) 쌍을 튜플 형태로 모두 가져올 수 있다.\n",
    "- 문법 : 딕셔너리.items()"
   ]
  },
  {
   "cell_type": "code",
   "execution_count": 221,
   "id": "ad9d5cfa-acfd-4e95-ade0-73d5fb612e4b",
   "metadata": {},
   "outputs": [
    {
     "name": "stdout",
     "output_type": "stream",
     "text": [
      "1. items()\n",
      "dict_items([('a', 'alphabet'), ('b', 'best'), ('c', 'cheer')])\n",
      "\n",
      "2. for문 + items() 결합\n",
      "('a', 'alphabet')\n",
      "('b', 'best')\n",
      "('c', 'cheer')\n",
      "\n",
      "3. list() + items() 결합\n",
      "[('a', 'alphabet'), ('b', 'best'), ('c', 'cheer')]\n",
      "[('a', 'alphabet'), ('b', 'best'), ('c', 'cheer'), ('g', 'good')]\n"
     ]
    }
   ],
   "source": [
    "# 예제 1\n",
    "abc_dic = {\n",
    "    \"a\" : \"alphabet\",\n",
    "    \"b\" : \"best\",\n",
    "    \"c\" : \"cheer\",\n",
    "}\n",
    "\n",
    "print(\"1. items()\")\n",
    "print(abc_dic.items())\n",
    "print()\n",
    "\n",
    "print(\"2. for문 + items() 결합\")\n",
    "# for문의 반복 루프에서 매번 a 변수의 현재값, 즉 key-value 쌍을 출력\n",
    "for a in abc_dic.items() :\n",
    "    print(a)\n",
    "print()\n",
    "\n",
    "print(\"3. list() + items() 결합\")\n",
    "# items() 메서드를 사용해 딕셔너리의 모든 키-값을 튜플 형태로 리스트에 복사\n",
    "abc_list = list(abc_dic.items())\n",
    "print(abc_list)\n",
    "\n",
    "abc_list.append((\"g\", \"good\"))\n",
    "print(abc_list)"
   ]
  },
  {
   "cell_type": "code",
   "execution_count": 223,
   "id": "e0b3d7b0-2bef-423a-bb05-d411d5a1ffb0",
   "metadata": {},
   "outputs": [
    {
     "name": "stdout",
     "output_type": "stream",
     "text": [
      "1. items() 출력\n",
      "dict_items([('Korean', 95), ('Math', 88), ('English', 92)])\n",
      "\n",
      "2. for문 + items() 결합\n",
      "Korean, 95\n",
      "Math, 88\n",
      "English, 92\n",
      "\n",
      "3. list() + items() 결합\n",
      "[('Korean', 95), ('Math', 88), ('English', 92)]\n",
      "[('Korean', 95), ('Math', 88), ('English', 92), ('Science', 55)]\n"
     ]
    }
   ],
   "source": [
    "# 예제 2\n",
    "score_dic = {\n",
    "    \"Korean\" : 95,\n",
    "    \"Math\" : 88,\n",
    "    \"English\": 92,\n",
    "}\n",
    "\n",
    "print(\"1. items() 출력\")\n",
    "print(score_dic.items())\n",
    "print()\n",
    "\n",
    "print(\"2. for문 + items() 결합\")\n",
    "for subject, score in score_dic.items() :\n",
    "    print(f\"{subject}, {score}\")\n",
    "print()\n",
    "\n",
    "print(\"3. list() + items() 결합\")\n",
    "score_list = list(score_dic.items())\n",
    "print(score_list)\n",
    "\n",
    "score_list.append((\"Science\", 55))\n",
    "print(score_list)"
   ]
  },
  {
   "cell_type": "markdown",
   "id": "e21aa204-5fd4-4e63-82aa-64682aa6c321",
   "metadata": {},
   "source": [
    "# 3. 튜플(Tuple)\n",
    "\n",
    "- 여러 개의 값을 하나의 변수에 저장할 수 있는 자료형\n",
    "- 리스트와 비슷하지만, 튜플은 수정할 수 없다는 큰 차이점이 있다.\n",
    "- 변수명 = (요소1, 요소2, 요소3)"
   ]
  },
  {
   "cell_type": "code",
   "execution_count": 227,
   "id": "e1bb6e03-fd30-4dc1-aa52-5dbc32093e96",
   "metadata": {},
   "outputs": [
    {
     "name": "stdout",
     "output_type": "stream",
     "text": [
      "kim\n",
      "lee\n",
      "park\n",
      "kim\n",
      "lee\n",
      "park\n"
     ]
    }
   ],
   "source": [
    "# 예제 1.\n",
    "names = (\"kim\", \"lee\", \"park\")\n",
    "print(names[-3])\n",
    "print(names[-2])\n",
    "print(names[-1])\n",
    "\n",
    "for i in names :\n",
    "    print(i)"
   ]
  },
  {
   "cell_type": "markdown",
   "id": "f9bf3a1f-553b-4598-9bc2-8b1d9281164b",
   "metadata": {},
   "source": [
    "## 튜플 슬라이싱"
   ]
  },
  {
   "cell_type": "code",
   "execution_count": 230,
   "id": "9c8b192e-0574-459e-beb9-de97697cdfaf",
   "metadata": {},
   "outputs": [
    {
     "name": "stdout",
     "output_type": "stream",
     "text": [
      "(9, 'y', 2)\n",
      "('y', 2, 'k', True)\n",
      "(3, 9, 'y', 2, 'k')\n",
      "\n",
      "('k', True)\n"
     ]
    }
   ],
   "source": [
    "# 예제 1.\n",
    "example = (3, 9, \"y\", 2, \"k\", True)\n",
    "print(example[1:4])     # 4는 포함하지 않는다.\n",
    "print(example[2:6])\n",
    "print(example[0:5])\n",
    "print()\n",
    "\n",
    "# 범위를 벗어난 슬라이싱\n",
    "print(example[4:8])\n",
    "# print(example[8])     # 오류 발생"
   ]
  },
  {
   "cell_type": "markdown",
   "id": "07e06dc0-4ba8-4542-b48e-5e0dacbb13be",
   "metadata": {},
   "source": [
    "## 리스트와 튜플 요소 수정하기"
   ]
  },
  {
   "cell_type": "markdown",
   "id": "0d14ca01-2363-4fba-b4d9-654ab7898ffc",
   "metadata": {},
   "source": [
    "### 리스트와 튜플의 차이\n",
    "\n",
    "- 리스트(list) : [] 사용 / 수정 가능  / 크기 변경 가능  / 변수명 = [요소1, 요소2, 요소3.......]\n",
    "- 튜플(tuple) : () 사용 / 수정 불가능 / 크기 고정       / 변수명 = (요소1, 요소2, 요소3......)"
   ]
  },
  {
   "cell_type": "markdown",
   "id": "995a8975-57ff-4339-9834-40002eafa2aa",
   "metadata": {},
   "source": [
    "### 튜플은 언제 사용할까?\n",
    "\n",
    "1. 값이 변하지 않아야 할 때\n",
    "2. 리스트보다 속도가 빠르다.\n",
    "3. 함수에서 여러 개의 값을 한번에 반환할 때"
   ]
  },
  {
   "cell_type": "code",
   "execution_count": 236,
   "id": "2e06b645-0d75-460c-a0e3-38580fef6771",
   "metadata": {},
   "outputs": [
    {
     "name": "stdout",
     "output_type": "stream",
     "text": [
      "[3, 0, 9]\n",
      "(3, 0, 9)\n",
      "[30, 0, 9, 7]\n"
     ]
    }
   ],
   "source": [
    "# 1.\n",
    "list3 = [3, 0, 9]\n",
    "tuple3 = (3, 0, 9)\n",
    "\n",
    "#전체 리스트, 튜플 출력\n",
    "print(list3)\n",
    "print(tuple3)\n",
    "\n",
    "# 각 첫번째 요소 수정\n",
    "list3[0] = 30\n",
    "# tuple[0] = 30   # 오류 발생 : 튜플은 수정할 수 없다.\n",
    "\n",
    "# 리스트 요소 추가\n",
    "list3.append(7)\n",
    "print(list3)\n",
    "\n",
    "# 튜플 요소 추가\n",
    "# tuple.append(7)\n",
    "# print(tuple)    # 오류 발생 : 튜플은 수정할 수 없다."
   ]
  },
  {
   "cell_type": "markdown",
   "id": "158c7c9e-b995-4542-9feb-f101013f5dcb",
   "metadata": {},
   "source": [
    "## 튜플(Tuple)의 메서드"
   ]
  },
  {
   "cell_type": "markdown",
   "id": "2ac94e2a-53a9-4db8-b184-9f5f0c4c55cd",
   "metadata": {},
   "source": [
    "### 1. **count()**\n",
    "\n",
    "- 리스트, 튜플, 문자열 등에서 특정 값이 몇 번 나오는지 알려주는 메서드\n",
    "- 문법 : 변수명.count(찾을 값)"
   ]
  },
  {
   "cell_type": "code",
   "execution_count": 241,
   "id": "12a6b5a3-defe-4a91-be01-a109590b63f4",
   "metadata": {},
   "outputs": [
    {
     "name": "stdout",
     "output_type": "stream",
     "text": [
      "1) list의 count() : 3\n",
      "2) tuple의 count() : 3\n",
      "3) text의 count() : 1\n"
     ]
    }
   ],
   "source": [
    "# 예제 1\n",
    "# list\n",
    "numbers = [1, 2, 3, 2, 4, 2]\n",
    "print(\"1) list의 count() :\", numbers.count(2))\n",
    "\n",
    "# tuple\n",
    "colors = (\"red\", \"blue\", \"red\", \"green\", \"red\")\n",
    "print(\"2) tuple의 count() :\", colors.count(\"red\"))\n",
    "\n",
    "# text\n",
    "text = \"banana\"\n",
    "print(\"3) text의 count() :\", text.count(\"b\"))"
   ]
  },
  {
   "cell_type": "code",
   "execution_count": 243,
   "id": "b80646bb-35c1-48dc-83fa-5375b8944b88",
   "metadata": {},
   "outputs": [
    {
     "name": "stdout",
     "output_type": "stream",
     "text": [
      "a의 개수 : 3\n",
      "b의 개수 : 1\n",
      "c의 개수 : 2\n"
     ]
    }
   ],
   "source": [
    "# 예제 2\n",
    "tuple_alphabet = (\"a\", \"a\", \"b\", \"c\", \"c\", \"a\")\n",
    "print(\"a의 개수 :\", tuple_alphabet.count(\"a\"))\n",
    "print(\"b의 개수 :\", tuple_alphabet.count(\"b\"))\n",
    "print(\"c의 개수 :\", tuple_alphabet.count(\"c\"))"
   ]
  },
  {
   "cell_type": "markdown",
   "id": "d03bbc86-1a69-4370-a1cf-ca7bda4d8cf1",
   "metadata": {},
   "source": [
    "### 2. **index()**\n",
    "\n",
    "- 리스트, 튜플, 문자열 등에서 특정 값의 위치(어디에 있는지)를 알려주는 메서드 (첫 등장 위치 or 인덱스)\n",
    "- 문법 : 변수명.index(찾을 값)"
   ]
  },
  {
   "cell_type": "code",
   "execution_count": 246,
   "id": "53699fdb-338b-4bc8-b7a9-722c50ec89cf",
   "metadata": {},
   "outputs": [
    {
     "name": "stdout",
     "output_type": "stream",
     "text": [
      "1\n"
     ]
    }
   ],
   "source": [
    "# 예제 1\n",
    "fruits = [\"apple\", \"banana\", \"cherry\", \"banana\"]\n",
    "print(fruits.index(\"banana\"))"
   ]
  },
  {
   "cell_type": "code",
   "execution_count": 248,
   "id": "eb3ddc2f-0934-4fe9-a92f-49d612079188",
   "metadata": {},
   "outputs": [
    {
     "name": "stdout",
     "output_type": "stream",
     "text": [
      "2\n"
     ]
    }
   ],
   "source": [
    "# 예제 2\n",
    "nums = (3, 5, 7, 9, 2, 7, 1)\n",
    "print(nums.index(7))"
   ]
  },
  {
   "cell_type": "markdown",
   "id": "a61fa9fd-6531-4172-98aa-4c3083b98b22",
   "metadata": {},
   "source": [
    "## 튜플의 활용 - 데이터 교환\n",
    "\n",
    "- 튜플은 각 요소를 직접 수정할 수 없지만, 두 튜플을 활용하여 간접적으로 튜플 요소의 값을 교환할 수 있다.\n",
    "- '=' 연산자를 사용하여 새로운 튜플의 값을 기존 튜플 변수에 할당한다."
   ]
  },
  {
   "cell_type": "code",
   "execution_count": 252,
   "id": "acaac9f6-3985-44e5-b216-221f2db5a267",
   "metadata": {},
   "outputs": [
    {
     "name": "stdout",
     "output_type": "stream",
     "text": [
      "교환 전 출력 : x =  10 , y =  20\n",
      "교환 후 출력 : x =  20 , y =  10\n"
     ]
    }
   ],
   "source": [
    "# 예제 1\n",
    "x = 10\n",
    "y = 20\n",
    "print(\"교환 전 출력 : x = \", x, \", y = \", y)\n",
    "\n",
    "(x, y) = (y, x)\n",
    "print(\"교환 후 출력 : x = \", x, \", y = \", y)"
   ]
  },
  {
   "cell_type": "code",
   "execution_count": 254,
   "id": "f27e5190-416c-48cc-9b94-f3f4a117011d",
   "metadata": {},
   "outputs": [
    {
     "name": "stdout",
     "output_type": "stream",
     "text": [
      "교환 전 출력 : name =  Alice , nickName =  Ace\n",
      "교환 후 출력 : name =  Ace , nickName =  Alice\n"
     ]
    }
   ],
   "source": [
    "# 예제 2\n",
    "name = \"Alice\"\n",
    "nickName = \"Ace\"\n",
    "print(\"교환 전 출력 : name = \", name, \", nickName = \", nickName)\n",
    "\n",
    "(name, nickName) = (nickName, name)\n",
    "print(\"교환 후 출력 : name = \", name, \", nickName = \", nickName)"
   ]
  },
  {
   "cell_type": "markdown",
   "id": "fcf8481e-ce2c-4618-af75-a6496ffdc678",
   "metadata": {},
   "source": [
    "# 4. 세트(Set)\n",
    "\n",
    "- 중복을 허용하지 않고, 순서가 없는 자료형이다\n",
    "- 세트란?\n",
    "    - 수학에서 말하는 집합과 비슷하다.(합집합, 교집합, 차집합)\n",
    "    - 중복된 값을 자동으로 제거한다.\n",
    "    - 값들의 순서가 없어서 인덱스로는 접근이 불가능하다."
   ]
  },
  {
   "cell_type": "markdown",
   "id": "a6438507-6e54-428d-b72b-6e757a0b144c",
   "metadata": {},
   "source": [
    "### 세트의 기본 형태\n",
    "\n",
    "- 변수명 = {요소1, 요소2, 요소3 ... }\n",
    "- 세트의 표현 방법은 {}\n",
    "- 다른 자료형을 세트로 변환하고자 할 때, 문법 : set(세트로 바꾸고 싶은 다른 자료형)"
   ]
  },
  {
   "cell_type": "markdown",
   "id": "d16214fc-9c0b-40a6-ba5e-a5645a0b73cf",
   "metadata": {},
   "source": [
    "### 참고\n",
    "\n",
    "- Q : 문자열을  set으로 변환했을 대 순서가 매번 달라지는데, 숫자 리스트나 튜플은 set으로 바꾸면 숫자가 거의 고정되어 있는지?\n",
    "- A : 해시값이란 데이터(문자, 숫자등)를 일정한 규칙에 따라 고정된 크기의 숫자로 바꾼 값이다.\n",
    "    - = 데이터를 빠르게 찾기 위한 고유 식별 숫자(바뀔 수있다.)"
   ]
  },
  {
   "cell_type": "markdown",
   "id": "760409d6-3c1c-49fb-838c-ad38246e7723",
   "metadata": {},
   "source": [
    "- 숫자는 해시값이 안정적이다\n",
    "    - 문자열 : set()으로 변환시 매번 달라짐\n",
    "    - 숫자 : 변환을 해도 대부분 비슷한 순서이다. "
   ]
  },
  {
   "cell_type": "code",
   "execution_count": 262,
   "id": "2079c46a-248a-4b33-8b2c-736dc701fc39",
   "metadata": {},
   "outputs": [
    {
     "name": "stdout",
     "output_type": "stream",
     "text": [
      "str :  apple\n",
      "list :  [1, 2, 3]\n",
      "tuple :  (1, 2, 3)\n"
     ]
    }
   ],
   "source": [
    "# 예제 1.\n",
    "str2 = \"apple\"\n",
    "list2 = [1, 2, 3]\n",
    "tuple2 = (1, 2, 3)\n",
    "\n",
    "print(\"str : \", str2)\n",
    "print(\"list : \", list2)\n",
    "print(\"tuple : \", tuple2)"
   ]
  },
  {
   "cell_type": "markdown",
   "id": "52b90f75-4a63-4610-923b-5712bb677bb4",
   "metadata": {},
   "source": [
    "## set로 변환한 자료형들"
   ]
  },
  {
   "cell_type": "code",
   "execution_count": 269,
   "id": "4787197e-ce7b-4094-a79a-d7febd608b31",
   "metadata": {},
   "outputs": [
    {
     "name": "stdout",
     "output_type": "stream",
     "text": [
      "set_str :  {'p', 'e', 'a', 'l'}\n",
      "set_list :  {1, 2, 3}\n",
      "set_tuple :  {1, 2, 3}\n"
     ]
    }
   ],
   "source": [
    "# 예제 1.\n",
    "# 변수 str의 문자열 \"apple\"을 set 자료형으로 변환하여 set_str에 할당한다.\n",
    "set_str = set(str2)\n",
    "set_list = set(list2)\n",
    "set_tuple = set(tuple2)\n",
    "\n",
    "print(\"set_str : \", set_str)    # 출력값이 계속 변하는 이유는 set은 순서 유지를 하지 않기 때문이다. 중복 허용하지 않기에 a가 하나가 사라짐\n",
    "print(\"set_list : \", set_list)\n",
    "print(\"set_tuple : \", set_tuple)"
   ]
  },
  {
   "cell_type": "code",
   "execution_count": 271,
   "id": "d036e0bf-4ce2-4ddb-92f2-55046e4d1fb7",
   "metadata": {},
   "outputs": [
    {
     "name": "stdout",
     "output_type": "stream",
     "text": [
      "list 원본 : [1, 2, 2, 3, 3, 3, 4]\n",
      "tuple 원본 : (5, 5, 6, 7, 6, 7, 7)\n",
      "\n",
      "list > set : {1, 2, 3, 4}\n",
      "tuple > set : {5, 6, 7}\n"
     ]
    }
   ],
   "source": [
    "# 예제 2. (중복 포함)\n",
    "num_list = [1, 2, 2, 3, 3, 3, 4]\n",
    "num_tuple = (5, 5, 6, 7, 6, 7, 7)\n",
    "\n",
    "print(\"list 원본 :\", num_list)\n",
    "print(\"tuple 원본 :\", num_tuple)\n",
    "print()\n",
    "\n",
    "print(\"list > set :\", set(num_list))\n",
    "print(\"tuple > set :\",set(num_tuple))"
   ]
  },
  {
   "cell_type": "markdown",
   "id": "b949bc48-6ac9-4498-9cc1-ff487d8d180c",
   "metadata": {},
   "source": [
    "## set 요소 접근 시도하기"
   ]
  },
  {
   "cell_type": "code",
   "execution_count": 274,
   "id": "2435dce2-c2e6-4d76-b793-87b2b341b7df",
   "metadata": {},
   "outputs": [],
   "source": [
    "# str_banana = \"banana\"\n",
    "# set_banana = set(str_banana)\n",
    "#print(set_banana[0])    # set는 인덱싱이 불가능"
   ]
  },
  {
   "cell_type": "code",
   "execution_count": 276,
   "id": "1c6755a8-7759-4529-bdda-03ca2c1fb465",
   "metadata": {},
   "outputs": [
    {
     "name": "stdout",
     "output_type": "stream",
     "text": [
      "{'n', 'b', 'a'}\n",
      "n\n",
      "b\n"
     ]
    }
   ],
   "source": [
    "# 예제 1. 리스트와 튜플로 변환하여 세트 요소에 접근하기 \n",
    "str_banana = \"banana\"\n",
    "set_banana = set(str_banana)\n",
    "print(set_banana)\n",
    "\n",
    "list_banana = list(set_banana)\n",
    "tuple_banana = tuple(set_banana)\n",
    "print(list_banana[0])\n",
    "print(tuple_banana[1])"
   ]
  },
  {
   "cell_type": "code",
   "execution_count": 278,
   "id": "bef94fb5-a311-41b3-a169-148e9488ae3e",
   "metadata": {},
   "outputs": [
    {
     "name": "stdout",
     "output_type": "stream",
     "text": [
      "{'p', 'e', 'a', 'l'}\n",
      "list_apple : p\n",
      "tuple_apple : e\n"
     ]
    }
   ],
   "source": [
    "# 예제 2. 리스트와 튜플로 변환하여 세트 요소에 접근하기\n",
    "str_apple = \"apple\"\n",
    "\n",
    "set_apple = set(str_apple)\n",
    "print(set_apple)\n",
    "\n",
    "list_apple = list(set_apple)\n",
    "tuple_apple = tuple(set_apple)\n",
    "\n",
    "print(\"list_apple :\", list_apple[0])\n",
    "print(\"tuple_apple :\", tuple_apple[1])"
   ]
  },
  {
   "cell_type": "markdown",
   "id": "ab3cadcd-3a63-455d-b667-f56036f7b9aa",
   "metadata": {},
   "source": [
    "## n번째로 작은 알파벳 출력하기"
   ]
  },
  {
   "cell_type": "code",
   "execution_count": 281,
   "id": "5383dca5-c6c1-46ea-b1f3-e9cd68fbd0f8",
   "metadata": {},
   "outputs": [
    {
     "name": "stdout",
     "output_type": "stream",
     "text": [
      "{'r', 'w', 'd', 'b', 'n', 'e', 'h', 'a', 'z', 'p', 'o'}\n",
      "['r', 'w', 'd', 'b', 'n', 'e', 'h', 'a', 'z', 'p', 'o']\n",
      "['a', 'b', 'd', 'e', 'h', 'n', 'o', 'p', 'r', 'w', 'z']\n",
      "\n",
      "3번째로 작은 알파벳 : e\n",
      "7번째로 작은 알파벳 : p\n",
      "5번째로 작은 알파벳 : n\n"
     ]
    }
   ],
   "source": [
    "# 예제 1.\n",
    "str_random = \"apbdhwoernzhd\"\n",
    "\n",
    "# 문자열을 set으로 변경\n",
    "str_random = set(str_random)\n",
    "print(str_random)\n",
    "list_str = list(str_random)\n",
    "print(list_str)\n",
    "\n",
    "# 오름차순 정렬\n",
    "list_str.sort()\n",
    "print(list_str)\n",
    "print()\n",
    "\n",
    "# 특정 순서의 알파벳 출력\n",
    "print(\"3번째로 작은 알파벳 :\", list_str[3])\n",
    "print(\"7번째로 작은 알파벳 :\", list_str[7])\n",
    "print(\"5번째로 작은 알파벳 :\", list_str[5])"
   ]
  },
  {
   "cell_type": "markdown",
   "id": "a5b7eb86-3d11-4256-ab45-bdeee1c161c2",
   "metadata": {},
   "source": [
    "## 세트(Set)의 메서드"
   ]
  },
  {
   "cell_type": "markdown",
   "id": "0891d654-6d21-4f3e-9e2a-851b0dcceefa",
   "metadata": {},
   "source": [
    "### 1. **.add()**\n",
    "\n",
    "- '하나'의 요소를 추가할 때 사용하는 메서드\n",
    "- 문법 : 세트.add(요소)"
   ]
  },
  {
   "cell_type": "markdown",
   "id": "f0311794-17af-4722-86b2-fc715e0acc39",
   "metadata": {},
   "source": [
    "### 2. **.update()**\n",
    "\n",
    "- set에 여러 개의 요소를 한꺼번에 추가할 때 사용한다\n",
    "- 문법 : 세트.update(반복가능한\\_자료형)\n",
    "- 예시 : s.update([1, 2, 3])\n",
    "\n",
    "##### 중복된 값은 자동으로 걸러진다."
   ]
  },
  {
   "cell_type": "code",
   "execution_count": 289,
   "id": "aa7ff279-a4de-48a6-8d1b-9e58e910d0b7",
   "metadata": {},
   "outputs": [
    {
     "name": "stdout",
     "output_type": "stream",
     "text": [
      "{1, 2, 3, 4}\n",
      "{1, 2, 3, 4, 5, 6, 7}\n"
     ]
    }
   ],
   "source": [
    "# 예제 1: 세트 요소 추가하기\n",
    "set = {1, 2, 3}\n",
    "set.add(4)\n",
    "print(set)\n",
    "\n",
    "set.update({5, 6, 7})\n",
    "print(set)"
   ]
  },
  {
   "cell_type": "code",
   "execution_count": 291,
   "id": "47447be8-f317-4cbe-8fd2-2f1937202ba2",
   "metadata": {},
   "outputs": [
    {
     "name": "stdout",
     "output_type": "stream",
     "text": [
      "{'c', 'd', 'b', 'a'}\n",
      "{'e', 'a', 'g', 'c', 'd', 'b', 'f'}\n"
     ]
    }
   ],
   "source": [
    "# 예제 2: 알파벳 세트 생성\n",
    "alphabet_set = {\"a\", \"b\", \"c\"}\n",
    "alphabet_set.add(\"d\")\n",
    "print(alphabet_set)\n",
    "\n",
    "alphabet_set.update({\"e\", \"f\", \"g\"})\n",
    "print(alphabet_set)"
   ]
  },
  {
   "cell_type": "markdown",
   "id": "51e566d1-4ac2-4aa9-8454-20f3f952cb99",
   "metadata": {},
   "source": [
    "### 3. **.remove(값)**\n",
    "\n",
    "- 지정한 값을 제거, 그 값이 없으면 error가 발생(KeyError)"
   ]
  },
  {
   "cell_type": "code",
   "execution_count": 294,
   "id": "509fb065-6669-4976-bd55-f374cd642afa",
   "metadata": {},
   "outputs": [
    {
     "name": "stdout",
     "output_type": "stream",
     "text": [
      "{1, 3}\n"
     ]
    }
   ],
   "source": [
    "# 예제 1\n",
    "s = {1, 2, 3}\n",
    "s.remove(2)\n",
    "print(s)\n",
    "#s.remove(5) # 없는 값 삭제 에러 발생"
   ]
  },
  {
   "cell_type": "markdown",
   "id": "96200fab-8e28-4866-909f-f305a72e0d3c",
   "metadata": {},
   "source": [
    "### 4. **.discard(값)**\n",
    "\n",
    "- 지정한 값을 제거, 그 값이 없어도 조용히 넘어감 (error 발생 X)"
   ]
  },
  {
   "cell_type": "code",
   "execution_count": 298,
   "id": "0fc5f01d-ee12-4d7b-beed-5bbe26d957dd",
   "metadata": {},
   "outputs": [
    {
     "name": "stdout",
     "output_type": "stream",
     "text": [
      "{5, 7}\n"
     ]
    }
   ],
   "source": [
    "# 예제 1\n",
    "dis = {5, 6, 7}\n",
    "dis.discard(6)\n",
    "print(dis)\n",
    "dis.discard(10)     # 없는 값 삭제 에러 발생 X"
   ]
  },
  {
   "cell_type": "markdown",
   "id": "fcc60fd1-b13b-4572-ba76-52c5d4e89242",
   "metadata": {},
   "source": [
    "### 5. **.pop()**\n",
    "\n",
    "- 임의의 요소 하나 제거 + 그 값을 반환\n",
    "- 순서가 없으므로 어떤 값이 제거 될 지 모름\n",
    "- 비어 있으면 error 발생 (KeyError)"
   ]
  },
  {
   "cell_type": "code",
   "execution_count": 301,
   "id": "a200b2ef-45df-4cd2-b5f8-f64fa1cf3000",
   "metadata": {},
   "outputs": [
    {
     "name": "stdout",
     "output_type": "stream",
     "text": [
      "{'l', 'u', 'e', 'b'}\n",
      "l\n"
     ]
    }
   ],
   "source": [
    "# 예제 1\n",
    "set_d = {\"b\", \"l\", \"u\", \"e\"}\n",
    "\n",
    "# pop메서드를 사용하여 요소를 랜덤으로 제거\n",
    "print(set_d)\n",
    "# pop은 삭제 요소를 반환한다.\n",
    "print(set_d.pop())   "
   ]
  },
  {
   "cell_type": "markdown",
   "id": "1d1885b5-e77e-4763-9bf7-06c9fb0c4740",
   "metadata": {},
   "source": [
    "### 6. **.clear()**\n",
    "\n",
    "- 모든 요소 삭제 (세트 초기화)"
   ]
  },
  {
   "cell_type": "code",
   "execution_count": 304,
   "id": "13b1daff-9faf-4e32-9d2c-b07118d66fed",
   "metadata": {},
   "outputs": [
    {
     "name": "stdout",
     "output_type": "stream",
     "text": [
      "set()\n"
     ]
    }
   ],
   "source": [
    "# 예제 1\n",
    "set_last = {1, 2, 3, 4}\n",
    "set_last.clear()\n",
    "print(set_last)"
   ]
  },
  {
   "cell_type": "markdown",
   "id": "288d8de7-a8c3-472c-b35c-324a8256b7f5",
   "metadata": {},
   "source": [
    "## 세트의 연산\n",
    "\n",
    "| 연산 종류 | 기호 또는 메서드           | 의미                         |\n",
    "| -------- | ----------------------- | ---------------------------- |\n",
    "| 합집합    | \\| 또는 union()          | 모든 요소                     |\n",
    "| 교집합    | `&` 또는 .intersection() | 공통된 값들만 추출              |\n",
    "| 차집합    | `-` 또는 .difference()   | 앞 세트에는 있고 뒤에는 없는 값  |"
   ]
  },
  {
   "cell_type": "markdown",
   "id": "302a9f93-4fd6-4dfd-98fb-c8aedec134fd",
   "metadata": {},
   "source": [
    "### 1. 세트의 교집합"
   ]
  },
  {
   "cell_type": "code",
   "execution_count": 309,
   "id": "f29017ca-2c0d-490f-b8ee-44bde50e3c73",
   "metadata": {},
   "outputs": [
    {
     "name": "stdout",
     "output_type": "stream",
     "text": [
      "{6}\n",
      "{6}\n"
     ]
    }
   ],
   "source": [
    "# 예제 1\n",
    "set_a = {2, 4, 6}\n",
    "set_b = {3, 6, 9}\n",
    "\n",
    "# intersection() 메서드를 사용하여 두 세트의 교집합을 찾는다.\n",
    "intersection_AandB = set_a.intersection(set_b)\n",
    "print(intersection_AandB)\n",
    "\n",
    "# & 연산자를 사용하여 두 세트의 교집합을 찾는다.\n",
    "intersection_AandB = set_a & set_b\n",
    "print(intersection_AandB)"
   ]
  },
  {
   "cell_type": "code",
   "execution_count": 311,
   "id": "f08696e1-6f67-40d0-a7de-0144e53d6583",
   "metadata": {},
   "outputs": [
    {
     "name": "stdout",
     "output_type": "stream",
     "text": [
      "{'banana', 'apple'}\n",
      "{'banana', 'apple'}\n"
     ]
    }
   ],
   "source": [
    "# 예제 2\n",
    "set_c = {\"apple\", \"banana\", \"cherry\"}\n",
    "set_d = {\"apple\", \"banana\", \"orange\"}\n",
    "\n",
    "# 메서드를 이용하여 교집합\n",
    "print(set_c.intersection(set_d))\n",
    "\n",
    "# 연산자를 이용하여 교집합\n",
    "print(set_c & set_d)"
   ]
  },
  {
   "cell_type": "markdown",
   "id": "a50fc634-6466-47ad-843a-ad9b298593c5",
   "metadata": {},
   "source": [
    "### 2. 세트의 합집합"
   ]
  },
  {
   "cell_type": "code",
   "execution_count": 314,
   "id": "ced00b1d-2468-4a64-850a-c89d60cb6a44",
   "metadata": {},
   "outputs": [
    {
     "name": "stdout",
     "output_type": "stream",
     "text": [
      "{2, 3, 4, 6, 9}\n",
      "{2, 3, 4, 6, 9}\n"
     ]
    }
   ],
   "source": [
    "# 예제 1\n",
    "setA = {2, 4, 6}\n",
    "setB = {3, 6, 9}\n",
    "\n",
    "# union() 메서드를 사용하여 두 세트의 합집합 찾기\n",
    "union_AandB = setA.union(setB)\n",
    "print(union_AandB)\n",
    "\n",
    "# 연산자 사용\n",
    "union_AandB = setA | setB\n",
    "print(union_AandB)"
   ]
  },
  {
   "cell_type": "markdown",
   "id": "a3ec4741-883c-45c6-ab03-4d6e5defd5f8",
   "metadata": {},
   "source": [
    "### 3. 세트의 차집합"
   ]
  },
  {
   "cell_type": "code",
   "execution_count": 317,
   "id": "df9b379c-a10c-4b76-b52d-bdf0c918373e",
   "metadata": {},
   "outputs": [
    {
     "name": "stdout",
     "output_type": "stream",
     "text": [
      "{2, 4}\n",
      "{2, 4}\n"
     ]
    }
   ],
   "source": [
    "# 예제 1\n",
    "setA = {2, 4, 6}\n",
    "setB = {3, 6, 9}\n",
    "\n",
    "# 메서드\n",
    "diff_AandB = setA.difference(setB)\n",
    "print(diff_AandB)\n",
    "\n",
    "# 연산자\n",
    "diff_AandB = setA - setB\n",
    "print(diff_AandB)"
   ]
  },
  {
   "cell_type": "markdown",
   "id": "5a1ed9da-7dff-4c2d-9900-0bf30e6d689a",
   "metadata": {},
   "source": [
    "# Python의 컬렉션 자료형 정리"
   ]
  },
  {
   "cell_type": "markdown",
   "id": "deba25f6-f2b5-4b43-8c2c-3a0f9e3c5026",
   "metadata": {},
   "source": [
    "| 종류    | 특징               | 예시          |\n",
    "| ----- | ---------------- | ----------- |\n",
    "| list  | 순서 O, 중복 O       | `[1, 2, 3]` |\n",
    "| tuple | 순서 O, 중복 O, 수정 X | `(1, 2, 3)` |\n",
    "| set   | 순서 X, 중복 X       | `{1, 2, 3}` |\n",
    "| dict  | 키-값 쌍, 순서 O      | `{\"a\": 1}`  |\n"
   ]
  },
  {
   "cell_type": "code",
   "execution_count": null,
   "id": "8a56e591-b16e-4344-a57c-d4e2f5b75235",
   "metadata": {},
   "outputs": [],
   "source": []
  }
 ],
 "metadata": {
  "kernelspec": {
   "display_name": "Python [conda env:base] *",
   "language": "python",
   "name": "conda-base-py"
  },
  "language_info": {
   "codemirror_mode": {
    "name": "ipython",
    "version": 3
   },
   "file_extension": ".py",
   "mimetype": "text/x-python",
   "name": "python",
   "nbconvert_exporter": "python",
   "pygments_lexer": "ipython3",
   "version": "3.12.7"
  }
 },
 "nbformat": 4,
 "nbformat_minor": 5
}
