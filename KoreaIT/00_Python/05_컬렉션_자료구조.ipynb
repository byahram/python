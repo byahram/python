{
 "cells": [
  {
   "cell_type": "markdown",
   "id": "a5b673fd-0ecd-476f-a5ef-a6c5a4b08fb1",
   "metadata": {},
   "source": [
    "# 파이썬 컬렉션 자료구조"
   ]
  },
  {
   "cell_type": "markdown",
   "id": "24a861a5-5ee4-42fb-bad7-9231a0011f7c",
   "metadata": {},
   "source": [
    "# 1. 리스트(list)\n",
    "\n",
    "- 일상 생활에서 사용하는 목록과 비슷한 개념을 가진 자료구조\n",
    "- 여러 개의 데이터를 하나의 변수에 한 번에 저장하고 관리할 수 있다.\n",
    "- 하나의 데이터만 담은 변수\n",
    "    - age = 20\n",
    "- 여러 개의 데이터를 묶은 리스트를 담은 변수\n",
    "    - nums = [0, 1, 2, 3] 데이터들을 쉼표로 구분하여 나열한다.\n",
    " \n",
    "```\n",
    "numbers = [0, 1, 2, 3, 4]       # 숫자 리스트\n",
    "alphabets = ['a', 'b', 'c']     # 문자 리스트\n",
    "bools = [True, True, False]     # 논리값 리스트\n",
    "greetings = [\"hi\", \"hello\"]     # 문자열 리스트\n",
    "```\n",
    "\n",
    "- 파이썬에서만 가능 (다른 언어에서는 사용 불가)\n",
    "    - example = [3, 9, \"y\", 2, \"k\", True]     # 숫자, 문자, 논리값 혼합하여 담은 리스트"
   ]
  },
  {
   "cell_type": "code",
   "execution_count": 21,
   "id": "63681e2e-8e2d-4109-832e-089b7cd35012",
   "metadata": {},
   "outputs": [
    {
     "name": "stdout",
     "output_type": "stream",
     "text": [
      "[6, 1, 3]\n"
     ]
    }
   ],
   "source": [
    "# 예제 1\n",
    "nums = [6, 1, 3]\n",
    "print(nums)"
   ]
  },
  {
   "cell_type": "code",
   "execution_count": 23,
   "id": "95984233-302c-4ee6-b518-a83d305185ba",
   "metadata": {},
   "outputs": [
    {
     "name": "stdout",
     "output_type": "stream",
     "text": [
      "kim\n",
      "lee\n",
      "park\n",
      "park\n",
      "lee\n",
      "kim\n"
     ]
    }
   ],
   "source": [
    "# 예제 2. 인덱스를 사용하여 요소 접근하기\n",
    "names = [\"kim\", \"lee\", \"park\"]\n",
    "print(names[0])\n",
    "print(names[1])\n",
    "print(names[2])\n",
    "print(names[-1])\n",
    "print(names[-2])\n",
    "print(names[-3])"
   ]
  },
  {
   "cell_type": "code",
   "execution_count": 25,
   "id": "10fcb944-d4ad-4d8c-a933-5a8e815f7727",
   "metadata": {},
   "outputs": [
    {
     "name": "stdout",
     "output_type": "stream",
     "text": [
      "10\n",
      "30\n",
      "50\n",
      "30\n"
     ]
    }
   ],
   "source": [
    "# 예제 3\n",
    "nums = [10, 20, 30, 40, 50]\n",
    "print(nums[0])\n",
    "print(nums[2])\n",
    "print(nums[4])\n",
    "print(nums[2])"
   ]
  },
  {
   "cell_type": "markdown",
   "id": "7c0154b4-21d1-46cc-ade1-91a3c00c647e",
   "metadata": {},
   "source": [
    "## 리스트 슬라이싱\n",
    "리스트[start : stop : step]"
   ]
  },
  {
   "cell_type": "markdown",
   "id": "40bd3285-4e26-4121-bbff-48df413f5ad4",
   "metadata": {},
   "source": [
    "### IndexError\n",
    "- nums = [1, 2, 3, 4, 5]      # 인덱스는 5까지 있다\n",
    "- print(nums[7])              # IndexError: list index out of range"
   ]
  },
  {
   "cell_type": "code",
   "execution_count": 28,
   "id": "c0b3038f-7457-417c-9f9a-2457add629f3",
   "metadata": {},
   "outputs": [
    {
     "name": "stdout",
     "output_type": "stream",
     "text": [
      "[9, 'y', 2]\n",
      "['y', 2, 'k', True]\n",
      "[3, 9, 'y', 2, 'k']\n"
     ]
    }
   ],
   "source": [
    "# 예제 1\n",
    "example = [3, 9, \"y\", 2, \"k\", True]\n",
    "print(example[1:4])\n",
    "print(example[2:])\n",
    "print(example[0:-1])"
   ]
  },
  {
   "cell_type": "markdown",
   "id": "2734262f-e9c4-445c-a43b-3a382164d829",
   "metadata": {},
   "source": [
    "## 리스트 결합 : + 연산자"
   ]
  },
  {
   "cell_type": "markdown",
   "id": "4edca8d9-8f86-4a55-a264-61a811ef9f1b",
   "metadata": {},
   "source": [
    "### 리스트 결합\n",
    "\n",
    "- 리스트에서 자주 사용하는 연산 중 하나는 결합이다.\n",
    "- 리스트 결합은 여러 개의 리스트를 하나의 리스트로 합쳐 새로운 리스트를 만들 수 있는 연산이다."
   ]
  },
  {
   "cell_type": "markdown",
   "id": "5c2336d4-83d2-49c2-b83f-452d52c77d97",
   "metadata": {},
   "source": [
    "### + 연산자\n",
    "\n",
    "- '+' 연산자 - 두개 이상의 리스트를 직접 연결하여 새로운 리스트를 만든다.\n",
    "- 기존 리스트를 수정하지 않는다."
   ]
  },
  {
   "cell_type": "code",
   "execution_count": 79,
   "id": "b777e83c-40b9-48be-8dcf-9413aebd1704",
   "metadata": {},
   "outputs": [
    {
     "name": "stdout",
     "output_type": "stream",
     "text": [
      "['A', 'B', 'C', 'D', 'E']\n",
      "['D', 'E', 'A', 'B', 'C']\n"
     ]
    }
   ],
   "source": [
    "# 예제 1\n",
    "list1 = [\"A\", \"B\", \"C\"]\n",
    "list2 = [\"D\", \"E\"]\n",
    "list3 = list1 + list2\n",
    "print(list3)\n",
    "\n",
    "list3 = list2 + list1\n",
    "print(list3)"
   ]
  },
  {
   "cell_type": "markdown",
   "id": "4af7e14e-4d84-4c62-8de6-16185d873dae",
   "metadata": {},
   "source": [
    "## 리스트 결합 : extend"
   ]
  },
  {
   "cell_type": "markdown",
   "id": "5b288dc9-5ccc-422f-a7f8-dd9494cf4618",
   "metadata": {},
   "source": [
    "### extend()\n",
    "\n",
    "- 메서드 - 기존 리스트의 끝에 다른 리스트의 모든 요소를 추가한다.\n",
    "- 기존 리스트를 수정한다.\n",
    "- 메모리에 효율적이다\n",
    "- 문법 : 리스트.extend(연결할 리스트)"
   ]
  },
  {
   "cell_type": "code",
   "execution_count": 39,
   "id": "455e8c7b-52db-4624-ac94-030f368ead8b",
   "metadata": {},
   "outputs": [
    {
     "name": "stdout",
     "output_type": "stream",
     "text": [
      "['A', 'B', 'C', 'D', 'E']\n",
      "['D', 'E']\n"
     ]
    }
   ],
   "source": [
    "# 예제 1\n",
    "list11 = [\"A\", \"B\", \"C\"]\n",
    "list22 = [\"D\", \"E\"]\n",
    "list11.extend(list22)\n",
    "print(list11)\n",
    "print(list22)"
   ]
  },
  {
   "cell_type": "code",
   "execution_count": 41,
   "id": "87b2b528-8532-4b12-9ec1-8cb81848da6e",
   "metadata": {},
   "outputs": [
    {
     "name": "stdout",
     "output_type": "stream",
     "text": [
      "[1, 2, 3, 4, 5]\n"
     ]
    }
   ],
   "source": [
    "# 예제 2\n",
    "nums1 = [1, 2, 3]\n",
    "nums2 = [4, 5]\n",
    "nums1.extend(nums2)\n",
    "print(nums1)"
   ]
  },
  {
   "cell_type": "markdown",
   "id": "782a5eb9-5333-4954-a5fa-fb5d20c32461",
   "metadata": {},
   "source": [
    "## 리스트 반복"
   ]
  },
  {
   "cell_type": "code",
   "execution_count": 44,
   "id": "f0216c4e-7276-404b-8bff-0f94dd64783b",
   "metadata": {},
   "outputs": [
    {
     "name": "stdout",
     "output_type": "stream",
     "text": [
      "[1, 9, 3, 0, 1, 9, 3, 0, 1, 9, 3, 0]\n"
     ]
    }
   ],
   "source": [
    "# 예제 1\n",
    "nums1 = [1, 9, 3, 0]\n",
    "print(nums1 * 3)"
   ]
  },
  {
   "cell_type": "markdown",
   "id": "182b2d29-590d-43d7-98b8-628a9b49813d",
   "metadata": {},
   "source": [
    "## 리스트 메서드"
   ]
  },
  {
   "cell_type": "markdown",
   "id": "bf0ce7bd-0909-4550-9ade-6965f51d89cd",
   "metadata": {},
   "source": [
    "### 1. 리스트 추가: **append()**\n",
    "\n",
    "- 리스트에 요소를 추가하고 싶을 때 간단하게 쓰는 메서드.\n",
    "- 리스트의 마지막에 새로운 요소를 추가하는 역할.\n",
    "- 문법 : 리스트변수.append(추가할 값(요소))"
   ]
  },
  {
   "cell_type": "code",
   "execution_count": 50,
   "id": "30a0a4af-5b13-43f6-8665-211a262d836d",
   "metadata": {},
   "outputs": [
    {
     "name": "stdout",
     "output_type": "stream",
     "text": [
      "추가 후 :  [1, 2, 3, 4]\n"
     ]
    }
   ],
   "source": [
    "# 예제 1\n",
    "nums4 = [1, 2, 3]\n",
    "nums4.append(4)\n",
    "print(\"추가 후 : \", nums4)"
   ]
  },
  {
   "cell_type": "code",
   "execution_count": 52,
   "id": "577c6821-ee31-4611-bd54-4170e777d3d5",
   "metadata": {},
   "outputs": [
    {
     "name": "stdout",
     "output_type": "stream",
     "text": [
      "추가 후 :  ['apples', 'bananas', 'cherry']\n"
     ]
    }
   ],
   "source": [
    "# 예제 2\n",
    "fruits = [\"apples\", \"bananas\"]\n",
    "fruits.append(\"cherry\")\n",
    "print(\"추가 후 : \", fruits)"
   ]
  },
  {
   "cell_type": "markdown",
   "id": "66c28f57-9f25-4b51-b3f5-70438d9ff602",
   "metadata": {},
   "source": [
    "### 2. 리스트 추가: **insert()**\n",
    "\n",
    "- 파이썬에서는 리스트의 중간에 요소를 삽입할 수 있는 insert() 메서드를 제공\n",
    "- 문법 : 리스트변수.insert(위치(인덱스 번호), 추가할 값(요소))"
   ]
  },
  {
   "cell_type": "code",
   "execution_count": 56,
   "id": "d0c50cc2-046a-467e-94c5-8d5a8bde97b1",
   "metadata": {},
   "outputs": [
    {
     "name": "stdout",
     "output_type": "stream",
     "text": [
      "추가 전 :  [4, 5, 6]\n",
      "추가 후 :  [4, 8, 5, 6]\n"
     ]
    }
   ],
   "source": [
    "# 예제 1\n",
    "nums5 = [4, 5, 6]\n",
    "print(\"추가 전 : \", nums5)\n",
    "nums5.insert(1, 8)\n",
    "print(\"추가 후 : \", nums5)"
   ]
  },
  {
   "cell_type": "code",
   "execution_count": 62,
   "id": "af6fc57d-5998-4821-8e07-eb8d2aee239e",
   "metadata": {},
   "outputs": [
    {
     "name": "stdout",
     "output_type": "stream",
     "text": [
      "추가 후 : ['monkey', 'dog']\n",
      "결과 1 : ['monkey', 'dog', 'cat', 'lion']\n",
      "결과 2 : ['monkey', 'dog', 'horse', 'cat', 'lion']\n",
      "결과 3 : ['monkey', 'dog', 'horse', 'cat', 'cow', 'lion']\n"
     ]
    }
   ],
   "source": [
    "# 예제. append() vs insert()\n",
    "animals = [\"monkey\", \"dog\"]\n",
    "print(\"추가 후 :\", animals)\n",
    "\n",
    "animals.append(\"cat\")\n",
    "animals.append(\"lion\")\n",
    "print(\"결과 1 :\", animals)\n",
    "\n",
    "animals.insert(2, \"horse\")\n",
    "print(\"결과 2 :\", animals)\n",
    "\n",
    "animals.insert(4, \"cow\")\n",
    "print(\"결과 3 :\", animals)"
   ]
  },
  {
   "cell_type": "markdown",
   "id": "71b52afb-7b91-4b6d-82c2-55acc39aa101",
   "metadata": {},
   "source": [
    "### 3. 리스트 삭제 : **remove()**\n",
    "\n",
    "- 특정 값을 가진 요소를 삭제\n",
    "- 문법 : 리스트변수.remove(요소)"
   ]
  },
  {
   "cell_type": "code",
   "execution_count": 84,
   "id": "0274ea5e-27cd-4bb4-9765-8caa4c009f08",
   "metadata": {},
   "outputs": [
    {
     "name": "stdout",
     "output_type": "stream",
     "text": [
      "추가 전 :  [1, 2, 3, 4, 5]\n",
      "추가 후 :  [1, 3, 4, 5]\n"
     ]
    }
   ],
   "source": [
    "# 예제 1\n",
    "nums6 = [1, 2, 3, 4, 5]\n",
    "print(\"추가 전 : \", nums6)\n",
    "\n",
    "nums6.remove(2)\n",
    "print(\"추가 후 : \", nums6)"
   ]
  },
  {
   "cell_type": "code",
   "execution_count": 86,
   "id": "7b3fde58-7110-4207-95f4-5c33907c27e0",
   "metadata": {},
   "outputs": [
    {
     "name": "stdout",
     "output_type": "stream",
     "text": [
      ">> 리스트 삭제 예제 2: 여러 개의 요소가 있을 때 remove() 메서드 사용 예제\n",
      "['yellow', 'red']\n",
      "['yellow', 'red']\n"
     ]
    }
   ],
   "source": [
    "# 예제 2: 여러 개의 요소가 있을 때 remove() 메서드 사용 예제\n",
    "print(\">> 리스트 삭제 예제 2: 여러 개의 요소가 있을 때 remove() 메서드 사용 예제\")\n",
    "\n",
    "color = [\"black\", \"yellow\", \"red\", \"black\"]\n",
    "\n",
    "# remove는 왼쪽에서 오른쪽 방향으로 순차적으로 검사하여 처음 발견되는 값과 일치하는 요소만 삭제\n",
    "# 동일한 값을 가진 요소가 여러 개 있더라도 처음 발견된 요소만 삭제한다.\n",
    "color.remove(\"black\")\n",
    "\n",
    "# while문 사용하여 remove\n",
    "while \"black\" in color :\n",
    "    color.remove(\"black\")\n",
    "print(color)\n",
    "\n",
    "# 오류 : x not in list 리스트에 없는 값\n",
    "# color.remove(\"hello\")\n",
    "print(color)"
   ]
  },
  {
   "cell_type": "markdown",
   "id": "14df73a7-6add-4e71-81b8-52d7901bbf68",
   "metadata": {},
   "source": [
    "### 4. 리스트 삭제 : **pop()**\n",
    "\n",
    "- 특정 위치에 있는 요소를 삭제\n",
    "- 문법 : 리스트변수.pop(인덱스 번호)"
   ]
  },
  {
   "cell_type": "code",
   "execution_count": 89,
   "id": "b1db135a-9c78-4db8-90d1-1313dc6efcc5",
   "metadata": {},
   "outputs": [
    {
     "name": "stdout",
     "output_type": "stream",
     "text": [
      "추가 전 :  [1, 2, 3, 4, 5]\n",
      "추가 후 :  [1, 2, 3, 4]\n"
     ]
    }
   ],
   "source": [
    "# 예제 1\n",
    "nums7 = [1, 2, 3, 4, 5]\n",
    "print(\"추가 전 : \", nums7)\n",
    "\n",
    "nums7.pop(4)\n",
    "print(\"추가 후 : \", nums7)"
   ]
  },
  {
   "cell_type": "code",
   "execution_count": 72,
   "id": "0dd47e8a-7c1d-486d-b5dd-1870f3d64c15",
   "metadata": {},
   "outputs": [
    {
     "name": "stdout",
     "output_type": "stream",
     "text": [
      "['black', 'yellow', 'red']\n"
     ]
    }
   ],
   "source": [
    "# 예제 2\n",
    "colors = [\"black\", \"yellow\", \"red\", \"black\"]\n",
    "colors.pop(3)\n",
    "print(colors)"
   ]
  },
  {
   "cell_type": "code",
   "execution_count": 74,
   "id": "d48d6ba3-63b9-4cdc-b961-1c75ff2e3ec2",
   "metadata": {},
   "outputs": [
    {
     "name": "stdout",
     "output_type": "stream",
     "text": [
      "[10, 20, 40, 50]\n"
     ]
    }
   ],
   "source": [
    "# 예제 3\n",
    "numbers = [10, 20, 30, 40, 50]\n",
    "numbers.pop(2)\n",
    "print(numbers)"
   ]
  },
  {
   "cell_type": "markdown",
   "id": "c33eab3c-45df-4a8d-bffa-cfecfdfc1809",
   "metadata": {},
   "source": [
    "### 5. 리스트 길이 확인: **len()**\n",
    "\n",
    "- 리스트 길이\n",
    "- 문법 : len(리스트)"
   ]
  },
  {
   "cell_type": "code",
   "execution_count": 93,
   "id": "12ddc08b-851f-44c4-8d46-4cd6306fa3d7",
   "metadata": {},
   "outputs": [
    {
     "name": "stdout",
     "output_type": "stream",
     "text": [
      "3\n"
     ]
    }
   ],
   "source": [
    "# 예제 1\n",
    "computer_science = [\"data structure\", \"algorithms\", \"python\"]\n",
    "subject_num = len(computer_science)\n",
    "print(subject_num)"
   ]
  },
  {
   "cell_type": "code",
   "execution_count": 95,
   "id": "2d27b61d-fe32-4a4f-9f90-28a95c67b889",
   "metadata": {},
   "outputs": [
    {
     "name": "stdout",
     "output_type": "stream",
     "text": [
      "10\n",
      "20\n",
      "30\n",
      "40\n",
      "50\n"
     ]
    }
   ],
   "source": [
    "# 예제 2\n",
    "numbers = [10, 20, 30, 40, 50]\n",
    "\n",
    "for i in range(len(numbers)) :\n",
    "    print(numbers[i])"
   ]
  },
  {
   "cell_type": "code",
   "execution_count": 97,
   "id": "ccb371ea-b40a-421f-bbdb-c9f29af5d520",
   "metadata": {},
   "outputs": [
    {
     "name": "stdout",
     "output_type": "stream",
     "text": [
      "apple\n",
      "banana\n",
      "cherry\n",
      "data\n"
     ]
    }
   ],
   "source": [
    "# 예제 3\n",
    "fruits = [\"apple\", \"banana\", \"cherry\", \"data\"]\n",
    "\n",
    "for i in range(len(fruits)) :\n",
    "    print(fruits[i])"
   ]
  },
  {
   "cell_type": "markdown",
   "id": "e1ac11f9-a2ff-4cfd-a864-02a772d1cc0c",
   "metadata": {},
   "source": [
    "### 6. 리스트 정렬: **sort()**\n",
    "\n",
    "- 리스트를 자동으로(오름차순) 정렬하여 다시 저장한다.\n",
    "- 즉, 원본 리스트가 변경된다.\n",
    "- 문법 : 리스트.sort()"
   ]
  },
  {
   "cell_type": "markdown",
   "id": "c51a9975-8e40-40de-a945-de3f2a8da847",
   "metadata": {},
   "source": [
    "### 7. 리스트 정렬: sort(reverse = True)\n",
    "\n",
    "- 리스트를 자동으로(내림차순) 정렬하여 다시 저장한다.\n",
    "- 문법 : 리스트.sort(reverse = True)"
   ]
  },
  {
   "cell_type": "code",
   "execution_count": 111,
   "id": "50835f98-3ac3-49e1-a421-ce10e58a4ae1",
   "metadata": {},
   "outputs": [
    {
     "name": "stdout",
     "output_type": "stream",
     "text": [
      "[2, 3, 5, 7]\n",
      "[7, 5, 3, 2]\n"
     ]
    }
   ],
   "source": [
    "# 예제 1\n",
    "list_num = [2, 7, 3, 5]\n",
    "list_num.sort()\n",
    "print(list_num)\n",
    "\n",
    "list_num.sort(reverse=True)\n",
    "print(list_num)"
   ]
  },
  {
   "cell_type": "code",
   "execution_count": 113,
   "id": "d3454eba-2bff-482f-9158-02d3db5947aa",
   "metadata": {},
   "outputs": [
    {
     "name": "stdout",
     "output_type": "stream",
     "text": [
      "['Alice', 'Bob', 'Jerry', 'Tom']\n",
      "['Tom', 'Jerry', 'Bob', 'Alice']\n"
     ]
    }
   ],
   "source": [
    "# 예제 2\n",
    "names = [\"Tom\", \"Jerry\", \"Alice\", \"Bob\"]\n",
    "names.sort()\n",
    "print(names)\n",
    "\n",
    "names.sort(reverse=True)\n",
    "print(names)"
   ]
  },
  {
   "cell_type": "markdown",
   "id": "2c9bb8a5-595c-479b-b13a-70c42c00cf5a",
   "metadata": {},
   "source": [
    "### 8. 리스트 정렬: **sorted()**\n",
    "\n",
    "- 새롭게 정렬된 리스트를 반환한다.\n",
    "- sort() 메서드와 달리 원본 리스트는 변경되지 않는다."
   ]
  },
  {
   "cell_type": "code",
   "execution_count": 117,
   "id": "a819bc76-05e8-42ed-abe9-2f35dd0511ec",
   "metadata": {},
   "outputs": [
    {
     "name": "stdout",
     "output_type": "stream",
     "text": [
      "[5, 2, 3, 4, 1]\n",
      "[1, 2, 3, 4, 5]\n"
     ]
    }
   ],
   "source": [
    "# 예제 1\n",
    "numbers2 = [5, 2, 3, 4, 1]\n",
    "sorted_numbers = sorted(numbers2)\n",
    "print(numbers2)     # 원본 바뀌지 않음\n",
    "print(sorted_numbers)"
   ]
  },
  {
   "cell_type": "markdown",
   "id": "5435fa4b-2f0b-4361-ae50-18b42b569726",
   "metadata": {},
   "source": [
    "### 9. 리스트 반전: **reverse()**\n",
    "\n",
    "- 리스트의 맨 앞 요소가 맨 뒤로, 맨 뒤 요소가 맨 앞으로 이동한다.\n",
    "- 리스트 원본이 변경된다.\n",
    "- 문법 : 리스트.reverse()"
   ]
  },
  {
   "cell_type": "code",
   "execution_count": 121,
   "id": "cacca01f-3191-4cd8-9b59-2906b0fc5442",
   "metadata": {},
   "outputs": [
    {
     "name": "stdout",
     "output_type": "stream",
     "text": [
      "[5, 3, 7, 2]\n"
     ]
    }
   ],
   "source": [
    "# 예제 1\n",
    "list_num2 = [2, 7, 3, 5]\n",
    "list_num2.reverse()\n",
    "print(list_num2)"
   ]
  },
  {
   "cell_type": "markdown",
   "id": "5248ff65-a5fd-4b9e-866c-a96fb699bf71",
   "metadata": {},
   "source": [
    "### 10. **in**\n",
    "\n",
    "- 리스트 내부에 요소가 있는지 확인하는 키워드\n",
    "- 파이썬에서 in 키워드는 리스트에 특정 값이 존재하는지 확인하는데 사용\n",
    "- 문법: 특정값 in 리스트"
   ]
  },
  {
   "cell_type": "markdown",
   "id": "8a2ccfda-d2c8-400c-a815-3dbf796020d6",
   "metadata": {},
   "source": [
    "### 11. **not in**\n",
    "\n",
    "- 리스트 내부에 요소가 없는지 확인하는 키워드\n",
    "- 존재하지 않는 지 확인하는 데 사용"
   ]
  },
  {
   "cell_type": "code",
   "execution_count": 125,
   "id": "75327ddb-bc0f-4d04-a6a6-93569832484a",
   "metadata": {},
   "outputs": [
    {
     "name": "stdout",
     "output_type": "stream",
     "text": [
      "True\n",
      "False\n",
      "False\n"
     ]
    }
   ],
   "source": [
    "# 예제 1\n",
    "list_n = [1, 2, 3, 4, 5, 6, 7]\n",
    "print(3 in list_n)      # 리스트에 존재하기 때문에 True\n",
    "print(10 in list_n)     # 리스트에 없기 때문에 False\n",
    "print(5 not in list_n)  # 리스트에 있기 때문에 False"
   ]
  },
  {
   "cell_type": "markdown",
   "id": "aedbd74e-e2ed-49e1-b129-b4282aec7227",
   "metadata": {},
   "source": [
    "### 12. **join()**\n",
    "\n",
    "- 리스트 요소를 문자열로 만들기\n",
    "- 리스트의 요소들을 하나하나 엮어서 새로운 문자열을 만들기 위해 파이썬은 join() 메소드 제공\n",
    "- 문법 : 요소 사이에 들어갈 문자.join(리스트)"
   ]
  },
  {
   "cell_type": "code",
   "execution_count": 129,
   "id": "fc0e1828-d25e-4633-8bfe-a206b1086bb5",
   "metadata": {},
   "outputs": [
    {
     "name": "stdout",
     "output_type": "stream",
     "text": [
      "a-b-c\n",
      "a*b*c\n"
     ]
    }
   ],
   "source": [
    "# 예제 1\n",
    "list_abc = [\"a\", \"b\", \"c\"]\n",
    "result = \"-\".join(list_abc)\n",
    "print(result)\n",
    "\n",
    "result2 = \"*\".join(list_abc)\n",
    "print(result2)"
   ]
  },
  {
   "cell_type": "markdown",
   "id": "9574fef5-0521-4740-aa4a-d475b6d60634",
   "metadata": {},
   "source": [
    "### 리스트 종합 문제"
   ]
  },
  {
   "cell_type": "code",
   "execution_count": 136,
   "id": "a85effed-b9c5-4966-83c7-a5f3dbf4d986",
   "metadata": {},
   "outputs": [
    {
     "name": "stdout",
     "output_type": "stream",
     "text": [
      "0\n",
      "1\n",
      "2\n",
      "3\n"
     ]
    }
   ],
   "source": [
    "# 종합 1. for문을 사용하여 리스트 출력하기\n",
    "animals = [\"dog\", \"cat\", \"tiger\", \"lion\"]\n",
    "for i in range(len(animals)) :\n",
    "    print(i)"
   ]
  },
  {
   "cell_type": "code",
   "execution_count": 134,
   "id": "0889c370-18e7-4364-b250-b16620987082",
   "metadata": {},
   "outputs": [
    {
     "name": "stdout",
     "output_type": "stream",
     "text": [
      "[1, 3, 7, 9, 15]\n"
     ]
    }
   ],
   "source": [
    "# 종합 2. 리스트 오름차순 정렬\n",
    "numbers3 = [15, 3, 9, 1, 7]\n",
    "numbers3.sort()\n",
    "print(numbers3)"
   ]
  },
  {
   "cell_type": "code",
   "execution_count": 138,
   "id": "25597a5e-778f-481e-a4b9-e7a245f655bd",
   "metadata": {},
   "outputs": [
    {
     "name": "stdout",
     "output_type": "stream",
     "text": [
      "[99, 92, 88, 75, 63]\n"
     ]
    }
   ],
   "source": [
    "# 종합 3. 리스트 내림차순 정렬\n",
    "score = [88, 92, 75, 63, 99]\n",
    "score.sort(reverse=True)\n",
    "print(score)"
   ]
  },
  {
   "cell_type": "code",
   "execution_count": 140,
   "id": "20764fe0-e42d-4ef2-b460-3d8ab274056b",
   "metadata": {},
   "outputs": [
    {
     "name": "stdout",
     "output_type": "stream",
     "text": [
      "원본 리스트 : [2, 5, 6, 8, 10]\n",
      "정렬된 리스트 : <built-in function sorted>\n"
     ]
    }
   ],
   "source": [
    "# 종합 4. 원본 리스트와 새 리스트 모두 출력하기\n",
    "value = [10, 5, 8, 2, 6]\n",
    "sorted_value = sorted(value)\n",
    "print(\"원본 리스트 :\", sorted_value)\n",
    "print(\"정렬된 리스트 :\", sorted)"
   ]
  },
  {
   "cell_type": "code",
   "execution_count": 142,
   "id": "67112890-0b29-4429-a937-96eeb320a38b",
   "metadata": {},
   "outputs": [
    {
     "name": "stdout",
     "output_type": "stream",
     "text": [
      "['blue', 'green', 'red']\n"
     ]
    }
   ],
   "source": [
    "# 종합 5. 리스트 반전시키기\n",
    "colors = [\"red\", \"green\", \"blue\"]\n",
    "colors.reverse()\n",
    "print(colors)"
   ]
  },
  {
   "cell_type": "markdown",
   "id": "d2d4f6d6-cce4-406a-ace5-3a4ab5e54371",
   "metadata": {},
   "source": [
    "# 2. 딕셔너리(Dictionary)\n",
    "\n",
    "- 키(key)와 값(value)의 쌍으로 이루어진 자료형으로 정보를 효율적으로 관리하는데 유용하다.\n",
    "- key : 데이터를 식별하는 고유한 값. key는 중복될 수 없다. 만약, 같은 key가 여러 번 쓰이면, 마지막에 입력된 값으로 덮어쓰기 된다.\n",
    "- value : key에 대응되는 데이터 값. value는 중복 가능하다.\n",
    "- 상품 정보처럼 여러가지 정보를 한꺼번에 저장하고 관리하는데 유용하다.\n",
    "- 딕셔너리에 포함된 항목들을 하나의 쌍 또는 페어(pair)라고 한다.\n",
    "\n",
    "```\n",
    "# 키(key) - 값(value)\n",
    "# apple  -   사과\n",
    "\n",
    "dic = {\n",
    "    key1: value1\n",
    "    key2: value2\n",
    "}\n",
    "\n",
    "person = {\n",
    "    \"name\" : \"kim\",\n",
    "    \"age\" : 30,\n",
    "    \"phone: \" \"01024562345\"\n",
    "}\n",
    "```"
   ]
  },
  {
   "cell_type": "code",
   "execution_count": 154,
   "id": "2cfc1191-7390-4b9f-892b-c3e1c685cafa",
   "metadata": {},
   "outputs": [
    {
     "name": "stdout",
     "output_type": "stream",
     "text": [
      "{'a': 'abc', 'b': 3, 4: [1, 2, 3]}\n"
     ]
    }
   ],
   "source": [
    "# 딕셔너리 (Dictionary)\n",
    "dic = {\n",
    "    \"a\" : \"abc\",\n",
    "    \"b\" : 3,\n",
    "    4 : [1, 2, 3],\n",
    "}\n",
    "print(dic)"
   ]
  },
  {
   "cell_type": "code",
   "execution_count": 156,
   "id": "3bf0b801-f98a-40ba-9e1f-2ced934d1e85",
   "metadata": {},
   "outputs": [
    {
     "name": "stdout",
     "output_type": "stream",
     "text": [
      "abc\n",
      "[1, 2, 3]\n"
     ]
    }
   ],
   "source": [
    "# 딕셔너리에 저장된 데이터를 한쌍씩 출력하고 싶으면 : 변수명[key값]\n",
    "print(dic[\"a\"])\n",
    "print(dic[4])"
   ]
  },
  {
   "cell_type": "code",
   "execution_count": 160,
   "id": "ae26edbd-d194-4e3b-badc-9e9a8997e068",
   "metadata": {},
   "outputs": [
    {
     "name": "stdout",
     "output_type": "stream",
     "text": [
      "{'apple': 3, 'banana': 5, 'orange': 2}\n"
     ]
    }
   ],
   "source": [
    "# 예제 1\n",
    "fruits = {\n",
    "    \"apple\" : 3,\n",
    "    \"banana\" : 5,\n",
    "    \"orange\" : 2\n",
    "}\n",
    "print(fruits)"
   ]
  },
  {
   "cell_type": "code",
   "execution_count": 162,
   "id": "bbb2d3e9-4097-4891-8000-3222615ceef2",
   "metadata": {},
   "outputs": [
    {
     "name": "stdout",
     "output_type": "stream",
     "text": [
      "1. 딕셔너리 전체 출력 : {'name': 'kim', 'age': 30, 'phone': '010-1234-5667', 'subject': ['python', 'java']}\n",
      "2. kim 출력 : kim\n",
      "3. subject 출력 : ['python', 'java']\n"
     ]
    }
   ],
   "source": [
    "# 예제 2\n",
    "person = {\n",
    "    \"name\" : \"kim\",\n",
    "    \"age\" : 30,\n",
    "    \"phone\" : \"010-1234-5667\",\n",
    "    \"subject\" : [\"python\", \"java\"]\n",
    "}\n",
    "print(\"1. 딕셔너리 전체 출력 :\", person)\n",
    "print(\"2. kim 출력 :\", person[\"name\"])\n",
    "print(\"3. subject 출력 :\", person[\"subject\"])\n",
    "# print(person[\"face\"])     # KeyError: \"face\" -> key 값이 없을 때 나타나는 에러"
   ]
  },
  {
   "cell_type": "markdown",
   "id": "d29b4f1e-a2b6-4a97-a0be-8d94a5d4ac9a",
   "metadata": {},
   "source": [
    "## 딕셔너리(Dictionary) 연산\n",
    "\n",
    ": 연산을 지원하며, 이를 통해 딕셔너리를 자유롭게 조작하고 데이터를 활용할 수 있다."
   ]
  },
  {
   "cell_type": "markdown",
   "id": "c9029118-1066-4303-be35-e906db321b2e",
   "metadata": {},
   "source": [
    "## 1. dic = {}\n",
    "\n",
    "- 장 기본적인 딕셔너리 연산은 빈 딕셔너리를 생성하는 것\n",
    "- 빈 딕셔너리는 아직 어떤 데이터도 저장하지 않은 상태"
   ]
  },
  {
   "cell_type": "markdown",
   "id": "8e7da804-ee39-4ae6-bbd2-d6e43c5b5cbf",
   "metadata": {},
   "source": [
    "### 2. key-value 쌍 추가\n",
    "\n",
    "- 문법 : 딕셔너리 변수명[새로운 key값] = 새로운 value값"
   ]
  },
  {
   "cell_type": "code",
   "execution_count": 167,
   "id": "30de0f28-c70b-4a71-9eca-c39da44d9aac",
   "metadata": {},
   "outputs": [
    {
     "name": "stdout",
     "output_type": "stream",
     "text": [
      "{'red': 'apple', 'yellow': 'banana', 'purple': 'grape'}\n",
      "{'red': 'orange', 'yellow': 'banana', 'purple': 'grape'}\n"
     ]
    }
   ],
   "source": [
    "# 예제 1\n",
    "dic_color = {\n",
    "    \"red\" : \"apple\",\n",
    "    \"yellow\" : \"banana\",\n",
    "    \"purple\" : \"grape\"\n",
    "}\n",
    "print(dic_color)\n",
    "\n",
    "# dic_color[\"Orange\"] = \"orange\"\n",
    "dic_color[\"red\"] = \"orange\"\n",
    "print(dic_color)"
   ]
  },
  {
   "cell_type": "code",
   "execution_count": 169,
   "id": "09c27e43-e00e-4db8-9af1-ac1a1581ef7e",
   "metadata": {},
   "outputs": [
    {
     "name": "stdout",
     "output_type": "stream",
     "text": [
      "{'dog': '멍멍', 'cat': '야옹', 'cow': '음메'}\n",
      "{'dog': '멍멍', 'cat': '야옹', 'cow': '음메', 'bird': '짹짹'}\n",
      "{'dog': '멍멍', 'cat': '냐옹', 'cow': '음메', 'bird': '짹짹'}\n"
     ]
    }
   ],
   "source": [
    "# 예제 2\n",
    "dic_animal = {\n",
    "    \"dog\" : \"멍멍\",\n",
    "    \"cat\" : \"야옹\",\n",
    "    \"cow\" : \"음메\"\n",
    "}\n",
    "print(dic_animal)\n",
    "\n",
    "dic_animal[\"bird\"] = \"짹짹\"\n",
    "print(dic_animal)\n",
    "\n",
    "dic_animal[\"cat\"] = \"냐옹\"\n",
    "print(dic_animal)"
   ]
  },
  {
   "cell_type": "markdown",
   "id": "ae6b7e2c-4c2e-44ac-994a-b156bc789c14",
   "metadata": {},
   "source": [
    "### 3. key-value 쌍 삭제 : del\n",
    "\n",
    "- 문법 : del 딕셔너리 변수명[삭제하고 싶은 key값]"
   ]
  },
  {
   "cell_type": "code",
   "execution_count": 177,
   "id": "69e7b5a8-d120-469c-96ac-4b78ad24565f",
   "metadata": {},
   "outputs": [
    {
     "name": "stdout",
     "output_type": "stream",
     "text": [
      "{'축구': '손흥민', '야구': '이정후', '피겨스케이팅': '김연아', '수영': '박태환'}\n",
      "{'축구': '손흥민', '피겨스케이팅': '김연아', '수영': '박태환'}\n"
     ]
    }
   ],
   "source": [
    "# 예제 1\n",
    "sports_star = {\n",
    "    \"축구\" : \"손흥민\",\n",
    "    \"야구\" : \"이정후\",\n",
    "    \"피겨스케이팅\" : \"김연아\",\n",
    "    \"수영\" : \"박태환\",\n",
    "}\n",
    "print(sports_star)\n",
    "\n",
    "del sports_star[\"야구\"]\n",
    "print(sports_star)"
   ]
  },
  {
   "cell_type": "markdown",
   "id": "33b86c1a-2005-4a62-8b65-640e23145c6f",
   "metadata": {},
   "source": [
    "### 4. key-value 쌍 삭제: pop\n",
    "\n",
    "- pop은 삭제하면서 값을 반환해준다. 그래서 나중에 그 값을 활용할 수 있다.\n",
    "- 문법 : value = 딕셔너리 변수명.pop(삭제하고 싶은 key값)"
   ]
  },
  {
   "cell_type": "code",
   "execution_count": 180,
   "id": "6a96d344-0db5-4a83-9907-59cb4de4b6c2",
   "metadata": {},
   "outputs": [
    {
     "name": "stdout",
     "output_type": "stream",
     "text": [
      "{1: 'java', 2: 'python', 3: 'C++'}\n",
      "삭제된 값 : java\n",
      "삭제 후 딕셔너리 : {2: 'python', 3: 'C++'}\n"
     ]
    }
   ],
   "source": [
    "# 예제 1\n",
    "dic2 = {\n",
    "    1 : \"java\",\n",
    "    2 : \"python\",\n",
    "    3 : \"C++\"\n",
    "}\n",
    "print(dic2)\n",
    "\n",
    "value = dic2.pop(1)\n",
    "print(\"삭제된 값 :\", value)\n",
    "print(\"삭제 후 딕셔너리 :\", dic2)"
   ]
  },
  {
   "cell_type": "markdown",
   "id": "eba3ae39-c404-4e26-aefe-738c0a9eb87f",
   "metadata": {},
   "source": [
    "### 5. 딕셔너리 전체 삭제: clear\n",
    "\n",
    "- 문법 : 딕셔너리 변수명.clear()"
   ]
  },
  {
   "cell_type": "code",
   "execution_count": 183,
   "id": "ca54fc8b-f111-4169-af8c-ece8eece2f06",
   "metadata": {},
   "outputs": [
    {
     "name": "stdout",
     "output_type": "stream",
     "text": [
      "{}\n"
     ]
    }
   ],
   "source": [
    "# 예제 1\n",
    "dic2.clear()\n",
    "print(dic2)"
   ]
  },
  {
   "cell_type": "markdown",
   "id": "40b57d1a-6f3b-4bf5-9543-7f10ecb0ed33",
   "metadata": {},
   "source": [
    "## 딕셔너리 메서드(기능)"
   ]
  },
  {
   "cell_type": "markdown",
   "id": "5073d67d-022e-4377-a4bf-a55c25f2ee5a",
   "metadata": {},
   "source": [
    "### 1. **.get(key)**\n",
    "\n",
    "- 해당 key의 값을 가져옴 (key가 없으면 None 반환)"
   ]
  },
  {
   "cell_type": "code",
   "execution_count": 187,
   "id": "b1e41a11-ba65-431c-a714-89f82dc68a4c",
   "metadata": {},
   "outputs": [
    {
     "name": "stdout",
     "output_type": "stream",
     "text": [
      "Tom\n",
      "None\n"
     ]
    }
   ],
   "source": [
    "# 예제 1\n",
    "person = {\n",
    "    \"name\" : \"Tom\",\n",
    "    \"age\" : 12\n",
    "}\n",
    "print(person.get(\"name\"))\n",
    "print(person.get(\"height\"))     # None (오류가 아님)"
   ]
  },
  {
   "cell_type": "code",
   "execution_count": 189,
   "id": "b276bf9d-db29-481a-a147-3089abfbf67c",
   "metadata": {},
   "outputs": [
    {
     "name": "stdout",
     "output_type": "stream",
     "text": [
      "yellow\n",
      "None\n"
     ]
    }
   ],
   "source": [
    "# 예제 2\n",
    "fruit_color = {\n",
    "    \"apple\" : \"red\",\n",
    "    \"banana\" : \"yellow\",\n",
    "    \"grape\" : \"purple\"\n",
    "}\n",
    "print(fruit_color.get(\"banana\"))\n",
    "print(fruit_color.get(\"grapefruit\"))"
   ]
  },
  {
   "cell_type": "markdown",
   "id": "026de76e-90a4-4f3a-819a-798e5d35cbdf",
   "metadata": {},
   "source": [
    "### 2. **.keys()**\n",
    "\n",
    "- 딕셔너리의 모든 key 값을 반환"
   ]
  },
  {
   "cell_type": "code",
   "execution_count": 193,
   "id": "2009cead-25f6-4523-a694-c766e50572f2",
   "metadata": {},
   "outputs": [
    {
     "name": "stdout",
     "output_type": "stream",
     "text": [
      "1. keys() 출력 :  dict_keys(['red', 'yellow', 'purple'])\n"
     ]
    }
   ],
   "source": [
    "# 예제 1\n",
    "fruit_color2 = {\n",
    "    \"red\" : \"apple\",\n",
    "    \"yellow\" : \"banana\",\n",
    "    \"purple\" : \"blueberry\"\n",
    "}\n",
    "print(\"1. keys() 출력 : \", fruit_color2.keys())\n",
    "# fruit_color2.keys().append(\"test\")      # append는 리스트에서만 사용할 수 있다."
   ]
  },
  {
   "cell_type": "code",
   "execution_count": 195,
   "id": "7d00d892-ce4d-473d-971b-021fc986f3da",
   "metadata": {},
   "outputs": [
    {
     "name": "stdout",
     "output_type": "stream",
     "text": [
      "2. for문 + keys() 결합\n",
      "red\n",
      "yellow\n",
      "purple\n"
     ]
    }
   ],
   "source": [
    "# 예제 2. for문 + keys() 결합\n",
    "print(\"2. for문 + keys() 결합\")\n",
    "for i in fruit_color2.keys() :\n",
    "    print(i)"
   ]
  },
  {
   "cell_type": "code",
   "execution_count": 197,
   "id": "a222ad66-9970-4f7f-b3b7-267d735a70e5",
   "metadata": {},
   "outputs": [
    {
     "name": "stdout",
     "output_type": "stream",
     "text": [
      "직업 목록 : {'teacher': 'school', 'doctor': 'hospital', 'chef': 'restaurant'}\n",
      "teacher\n",
      "doctor\n",
      "chef\n"
     ]
    }
   ],
   "source": [
    "# 예제 3\n",
    "job_dic = {\n",
    "    \"teacher\" : \"school\",\n",
    "    \"doctor\" : \"hospital\",\n",
    "    \"chef\" : \"restaurant\"\n",
    "}\n",
    "print(\"직업 목록 :\", job_dic)\n",
    "\n",
    "for i in job_dic.keys() :\n",
    "    print(i)"
   ]
  },
  {
   "cell_type": "markdown",
   "id": "4a48a210-c4b1-492b-9be7-9f1303bf3c79",
   "metadata": {},
   "source": [
    "#### 딕셔너리의 키 값들을 리스트로 변환하기\n",
    "\n",
    "- 문법 : list(딕셔너리.keys())"
   ]
  },
  {
   "cell_type": "code",
   "execution_count": 201,
   "id": "3cf1d73a-3254-4a19-9de0-08a1fe38efff",
   "metadata": {},
   "outputs": [
    {
     "name": "stdout",
     "output_type": "stream",
     "text": [
      "1. keys()\n",
      "dict_keys(['red', 'yellow', 'purple'])\n",
      "\n",
      "2. 리스트로 변환하기 : list() + keys()의 결합\n",
      "['red', 'yellow', 'purple']\n",
      "['red', 'yellow', 'purple', 'blue']\n"
     ]
    }
   ],
   "source": [
    "# 예제 1\n",
    "fruit_colors = {\n",
    "    \"red\" : \"apple\",\n",
    "    \"yellow\" : \"banana\",\n",
    "    \"purple\" : \"blueberry\",\n",
    "}\n",
    "print(\"1. keys()\")\n",
    "print(fruit_colors.keys())\n",
    "print()\n",
    "\n",
    "print(\"2. 리스트로 변환하기 : list() + keys()의 결합\")\n",
    "# keys() 메서드를 호출하여 반환된 객체를 list 메서드에 인자로 전달\n",
    "color_list = list(fruit_colors.keys())\n",
    "print(color_list)\n",
    "color_list.append(\"blue\")\n",
    "print(list(color_list))"
   ]
  },
  {
   "cell_type": "code",
   "execution_count": 203,
   "id": "a9c8d963-2783-46c2-9370-f6d300979fdd",
   "metadata": {},
   "outputs": [
    {
     "name": "stdout",
     "output_type": "stream",
     "text": [
      "['dog', 'cat', 'cow']\n",
      "['dog', 'cow']\n",
      "['cow']\n"
     ]
    }
   ],
   "source": [
    "# 예제 2\n",
    "animal_sounds = {\n",
    "    \"dog\" : 1,\n",
    "    \"cat\" : 2,\n",
    "    \"cow\" : 3\n",
    "}\n",
    "animal_list = list(animal_sounds.keys())\n",
    "print(animal_list)\n",
    "\n",
    "animal_list.pop(1)\n",
    "print(animal_list)\n",
    "\n",
    "animal_list.remove(\"dog\")\n",
    "print(animal_list)"
   ]
  },
  {
   "cell_type": "code",
   "execution_count": 205,
   "id": "4ceda8d7-3a79-4cb3-b5ca-5315769b5f62",
   "metadata": {},
   "outputs": [
    {
     "name": "stdout",
     "output_type": "stream",
     "text": [
      "1. 리스트 변환 : ['car', 'train', 'bike']\n",
      "2. 값 추가 후 :  ['car', 'train', 'bike', 'airplane']\n",
      "3. 값 삭제 후 : ['car', 'train', 'airplane']\n"
     ]
    }
   ],
   "source": [
    "# 예제 3\n",
    "t_sound = {\n",
    "    \"car\" : 10,\n",
    "    \"train\" : 20,\n",
    "    \"bike\" : 30\n",
    "}\n",
    "\n",
    "t_list = list(t_sound.keys())\n",
    "print(\"1. 리스트 변환 :\",t_list)\n",
    "\n",
    "t_list.append(\"airplane\")\n",
    "print(\"2. 값 추가 후 : \", t_list)\n",
    "\n",
    "t_list.remove(\"bike\")\n",
    "print(\"3. 값 삭제 후 :\", t_list)"
   ]
  },
  {
   "cell_type": "markdown",
   "id": "168ce344-349f-405b-b56f-c508d4ce6d47",
   "metadata": {},
   "source": [
    "### 3. **.values()**\n",
    "\n",
    "- 딕셔너리의 모든 value 값을 반환"
   ]
  },
  {
   "cell_type": "markdown",
   "id": "559a4773-fcaf-4ebc-b66a-2afa21491f23",
   "metadata": {},
   "source": [
    "#### 딕셔너리의 Value 값들을 리스트로 변환하기\n",
    "\n",
    "- 문법 : list(딕셔너리.values())"
   ]
  },
  {
   "cell_type": "code",
   "execution_count": 210,
   "id": "973f30d5-182e-464a-b8a3-2011a77090bb",
   "metadata": {},
   "outputs": [
    {
     "name": "stdout",
     "output_type": "stream",
     "text": [
      "1. values() 출력\n",
      "dict_values(['alphabet', 'best', 'cheer'])\n",
      "\n",
      "2. for문과 values()의 결합\n",
      "alphabet\n",
      "best\n",
      "cheer\n",
      "\n",
      "3. list()와 values()의 결합\n",
      "['best', 'cheer']\n"
     ]
    }
   ],
   "source": [
    "# 예제 1\n",
    "abc_div = {\n",
    "    \"a\" : \"alphabet\",\n",
    "    \"b\" : \"best\",\n",
    "    \"c\" : \"cheer\"\n",
    "}\n",
    "\n",
    "print(\"1. values() 출력\")\n",
    "print(abc_div.values())\n",
    "print()\n",
    "\n",
    "print(\"2. for문과 values()의 결합\")\n",
    "for i in abc_div.values() :\n",
    "    print(i)\n",
    "print()\n",
    "\n",
    "print(\"3. list()와 values()의 결합\")\n",
    "abc_list = list(abc_div.values())\n",
    "abc_list.remove(\"alphabet\")\n",
    "print(abc_list)"
   ]
  },
  {
   "cell_type": "markdown",
   "id": "ec32367d-71e2-46ad-9ba1-d4b5193bc35f",
   "metadata": {},
   "source": [
    "### 4. **.pop(key)**\n",
    "\n",
    "- key에 해당하는 항목을 삭제하고, 그 value를 반환"
   ]
  },
  {
   "cell_type": "code",
   "execution_count": 213,
   "id": "dc34ded2-f2a3-4a93-ae8e-c9a63b53c2ce",
   "metadata": {},
   "outputs": [
    {
     "name": "stdout",
     "output_type": "stream",
     "text": [
      "12\n",
      "{'name': 'Tom'}\n"
     ]
    }
   ],
   "source": [
    "# 예제 1\n",
    "person = {\n",
    "    \"name\" : \"Tom\",\n",
    "    \"age\" : 12\n",
    "}\n",
    "age = person.pop(\"age\")\n",
    "print(age)\n",
    "print(person)"
   ]
  },
  {
   "cell_type": "markdown",
   "id": "96b274d1-7e0c-416d-be2b-13e461e28f94",
   "metadata": {},
   "source": [
    "### 5. **.update()**\n",
    "\n",
    "- 다른 딕셔너리를 추가하거나 기존 값을 수정"
   ]
  },
  {
   "cell_type": "code",
   "execution_count": 216,
   "id": "4f763cff-e7c6-4f61-b288-0ea53d0ef564",
   "metadata": {},
   "outputs": [
    {
     "name": "stdout",
     "output_type": "stream",
     "text": [
      "{'name': 'Tom', 'age': 12, 'height': 12}\n"
     ]
    }
   ],
   "source": [
    "# 예제 1\n",
    "person.update({\"age\" : 12})\n",
    "person.update({\"height\" : 12})\n",
    "print(person)"
   ]
  },
  {
   "cell_type": "code",
   "execution_count": null,
   "id": "28d27200-d681-4db0-ac64-5286bfd9cedf",
   "metadata": {},
   "outputs": [],
   "source": []
  }
 ],
 "metadata": {
  "kernelspec": {
   "display_name": "Python [conda env:base] *",
   "language": "python",
   "name": "conda-base-py"
  },
  "language_info": {
   "codemirror_mode": {
    "name": "ipython",
    "version": 3
   },
   "file_extension": ".py",
   "mimetype": "text/x-python",
   "name": "python",
   "nbconvert_exporter": "python",
   "pygments_lexer": "ipython3",
   "version": "3.12.7"
  }
 },
 "nbformat": 4,
 "nbformat_minor": 5
}
