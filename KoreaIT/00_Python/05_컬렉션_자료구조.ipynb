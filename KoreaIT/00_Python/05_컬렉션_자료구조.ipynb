{
 "cells": [
  {
   "cell_type": "markdown",
   "id": "a5b673fd-0ecd-476f-a5ef-a6c5a4b08fb1",
   "metadata": {},
   "source": [
    "# 파이썬 컬렉션 자료구조"
   ]
  },
  {
   "cell_type": "markdown",
   "id": "24a861a5-5ee4-42fb-bad7-9231a0011f7c",
   "metadata": {},
   "source": [
    "# 1. 리스트(list)\n",
    "\n",
    "- 일상 생활에서 사용하는 목록과 비슷한 개념을 가진 자료구조\n",
    "- 여러 개의 데이터를 하나의 변수에 한 번에 저장하고 관리할 수 있다.\n",
    "- 하나의 데이터만 담은 변수\n",
    "    - age = 20\n",
    "- 여러 개의 데이터를 묶은 리스트를 담은 변수\n",
    "    - nums = [0, 1, 2, 3] 데이터들을 쉼표로 구분하여 나열한다.\n",
    " \n",
    "```\n",
    "numbers = [0, 1, 2, 3, 4]       # 숫자 리스트\n",
    "alphabets = ['a', 'b', 'c']     # 문자 리스트\n",
    "bools = [True, True, False]     # 논리값 리스트\n",
    "greetings = [\"hi\", \"hello\"]     # 문자열 리스트\n",
    "```\n",
    "\n",
    "- 파이썬에서만 가능 (다른 언어에서는 사용 불가)\n",
    "    - example = [3, 9, \"y\", 2, \"k\", True]     # 숫자, 문자, 논리값 혼합하여 담은 리스트"
   ]
  },
  {
   "cell_type": "code",
   "execution_count": 21,
   "id": "63681e2e-8e2d-4109-832e-089b7cd35012",
   "metadata": {},
   "outputs": [
    {
     "name": "stdout",
     "output_type": "stream",
     "text": [
      "[6, 1, 3]\n"
     ]
    }
   ],
   "source": [
    "# 예제 1\n",
    "nums = [6, 1, 3]\n",
    "print(nums)"
   ]
  },
  {
   "cell_type": "code",
   "execution_count": 23,
   "id": "95984233-302c-4ee6-b518-a83d305185ba",
   "metadata": {},
   "outputs": [
    {
     "name": "stdout",
     "output_type": "stream",
     "text": [
      "kim\n",
      "lee\n",
      "park\n",
      "park\n",
      "lee\n",
      "kim\n"
     ]
    }
   ],
   "source": [
    "# 예제 2. 인덱스를 사용하여 요소 접근하기\n",
    "names = [\"kim\", \"lee\", \"park\"]\n",
    "print(names[0])\n",
    "print(names[1])\n",
    "print(names[2])\n",
    "print(names[-1])\n",
    "print(names[-2])\n",
    "print(names[-3])"
   ]
  },
  {
   "cell_type": "code",
   "execution_count": 25,
   "id": "10fcb944-d4ad-4d8c-a933-5a8e815f7727",
   "metadata": {},
   "outputs": [
    {
     "name": "stdout",
     "output_type": "stream",
     "text": [
      "10\n",
      "30\n",
      "50\n",
      "30\n"
     ]
    }
   ],
   "source": [
    "# 예제 3\n",
    "nums = [10, 20, 30, 40, 50]\n",
    "print(nums[0])\n",
    "print(nums[2])\n",
    "print(nums[4])\n",
    "print(nums[2])"
   ]
  },
  {
   "cell_type": "markdown",
   "id": "7c0154b4-21d1-46cc-ade1-91a3c00c647e",
   "metadata": {},
   "source": [
    "## 리스트 슬라이싱\n",
    "리스트[start : stop : step]"
   ]
  },
  {
   "cell_type": "markdown",
   "id": "40bd3285-4e26-4121-bbff-48df413f5ad4",
   "metadata": {},
   "source": [
    "### IndexError\n",
    "- nums = [1, 2, 3, 4, 5]      # 인덱스는 5까지 있다\n",
    "- print(nums[7])              # IndexError: list index out of range"
   ]
  },
  {
   "cell_type": "code",
   "execution_count": 28,
   "id": "c0b3038f-7457-417c-9f9a-2457add629f3",
   "metadata": {},
   "outputs": [
    {
     "name": "stdout",
     "output_type": "stream",
     "text": [
      "[9, 'y', 2]\n",
      "['y', 2, 'k', True]\n",
      "[3, 9, 'y', 2, 'k']\n"
     ]
    }
   ],
   "source": [
    "# 예제 1\n",
    "example = [3, 9, \"y\", 2, \"k\", True]\n",
    "print(example[1:4])\n",
    "print(example[2:])\n",
    "print(example[0:-1])"
   ]
  },
  {
   "cell_type": "markdown",
   "id": "2734262f-e9c4-445c-a43b-3a382164d829",
   "metadata": {},
   "source": [
    "## 리스트 결합 : + 연산자"
   ]
  },
  {
   "cell_type": "markdown",
   "id": "4edca8d9-8f86-4a55-a264-61a811ef9f1b",
   "metadata": {},
   "source": [
    "### 리스트 결합\n",
    "\n",
    "- 리스트에서 자주 사용하는 연산 중 하나는 결합이다.\n",
    "- 리스트 결합은 여러 개의 리스트를 하나의 리스트로 합쳐 새로운 리스트를 만들 수 있는 연산이다."
   ]
  },
  {
   "cell_type": "markdown",
   "id": "5c2336d4-83d2-49c2-b83f-452d52c77d97",
   "metadata": {},
   "source": [
    "### + 연산자\n",
    "\n",
    "- '+' 연산자 - 두개 이상의 리스트를 직접 연결하여 새로운 리스트를 만든다.\n",
    "- 기존 리스트를 수정하지 않는다."
   ]
  },
  {
   "cell_type": "code",
   "execution_count": 79,
   "id": "b777e83c-40b9-48be-8dcf-9413aebd1704",
   "metadata": {},
   "outputs": [
    {
     "name": "stdout",
     "output_type": "stream",
     "text": [
      "['A', 'B', 'C', 'D', 'E']\n",
      "['D', 'E', 'A', 'B', 'C']\n"
     ]
    }
   ],
   "source": [
    "# 예제 1\n",
    "list1 = [\"A\", \"B\", \"C\"]\n",
    "list2 = [\"D\", \"E\"]\n",
    "list3 = list1 + list2\n",
    "print(list3)\n",
    "\n",
    "list3 = list2 + list1\n",
    "print(list3)"
   ]
  },
  {
   "cell_type": "markdown",
   "id": "4af7e14e-4d84-4c62-8de6-16185d873dae",
   "metadata": {},
   "source": [
    "## 리스트 결합 : extend"
   ]
  },
  {
   "cell_type": "markdown",
   "id": "5b288dc9-5ccc-422f-a7f8-dd9494cf4618",
   "metadata": {},
   "source": [
    "### extend()\n",
    "\n",
    "- 메서드 - 기존 리스트의 끝에 다른 리스트의 모든 요소를 추가한다.\n",
    "- 기존 리스트를 수정한다.\n",
    "- 메모리에 효율적이다\n",
    "- 문법 : 리스트.extend(연결할 리스트)"
   ]
  },
  {
   "cell_type": "code",
   "execution_count": 39,
   "id": "455e8c7b-52db-4624-ac94-030f368ead8b",
   "metadata": {},
   "outputs": [
    {
     "name": "stdout",
     "output_type": "stream",
     "text": [
      "['A', 'B', 'C', 'D', 'E']\n",
      "['D', 'E']\n"
     ]
    }
   ],
   "source": [
    "# 예제 1\n",
    "list11 = [\"A\", \"B\", \"C\"]\n",
    "list22 = [\"D\", \"E\"]\n",
    "list11.extend(list22)\n",
    "print(list11)\n",
    "print(list22)"
   ]
  },
  {
   "cell_type": "code",
   "execution_count": 41,
   "id": "87b2b528-8532-4b12-9ec1-8cb81848da6e",
   "metadata": {},
   "outputs": [
    {
     "name": "stdout",
     "output_type": "stream",
     "text": [
      "[1, 2, 3, 4, 5]\n"
     ]
    }
   ],
   "source": [
    "# 예제 2\n",
    "nums1 = [1, 2, 3]\n",
    "nums2 = [4, 5]\n",
    "nums1.extend(nums2)\n",
    "print(nums1)"
   ]
  },
  {
   "cell_type": "markdown",
   "id": "782a5eb9-5333-4954-a5fa-fb5d20c32461",
   "metadata": {},
   "source": [
    "## 리스트 반복"
   ]
  },
  {
   "cell_type": "code",
   "execution_count": 44,
   "id": "f0216c4e-7276-404b-8bff-0f94dd64783b",
   "metadata": {},
   "outputs": [
    {
     "name": "stdout",
     "output_type": "stream",
     "text": [
      "[1, 9, 3, 0, 1, 9, 3, 0, 1, 9, 3, 0]\n"
     ]
    }
   ],
   "source": [
    "# 예제 1\n",
    "nums1 = [1, 9, 3, 0]\n",
    "print(nums1 * 3)"
   ]
  },
  {
   "cell_type": "markdown",
   "id": "182b2d29-590d-43d7-98b8-628a9b49813d",
   "metadata": {},
   "source": [
    "## 리스트 메서드"
   ]
  },
  {
   "cell_type": "markdown",
   "id": "bf0ce7bd-0909-4550-9ade-6965f51d89cd",
   "metadata": {},
   "source": [
    "### 1. 리스트 추가: **append()**\n",
    "\n",
    "- 리스트에 요소를 추가하고 싶을 때 간단하게 쓰는 메서드.\n",
    "- 리스트의 마지막에 새로운 요소를 추가하는 역할.\n",
    "- 문법 : 리스트변수.append(추가할 값(요소))"
   ]
  },
  {
   "cell_type": "code",
   "execution_count": 50,
   "id": "30a0a4af-5b13-43f6-8665-211a262d836d",
   "metadata": {},
   "outputs": [
    {
     "name": "stdout",
     "output_type": "stream",
     "text": [
      "추가 후 :  [1, 2, 3, 4]\n"
     ]
    }
   ],
   "source": [
    "# 예제 1\n",
    "nums4 = [1, 2, 3]\n",
    "nums4.append(4)\n",
    "print(\"추가 후 : \", nums4)"
   ]
  },
  {
   "cell_type": "code",
   "execution_count": 52,
   "id": "577c6821-ee31-4611-bd54-4170e777d3d5",
   "metadata": {},
   "outputs": [
    {
     "name": "stdout",
     "output_type": "stream",
     "text": [
      "추가 후 :  ['apples', 'bananas', 'cherry']\n"
     ]
    }
   ],
   "source": [
    "# 예제 2\n",
    "fruits = [\"apples\", \"bananas\"]\n",
    "fruits.append(\"cherry\")\n",
    "print(\"추가 후 : \", fruits)"
   ]
  },
  {
   "cell_type": "markdown",
   "id": "66c28f57-9f25-4b51-b3f5-70438d9ff602",
   "metadata": {},
   "source": [
    "### 2. 리스트 추가: **insert()**\n",
    "\n",
    "- 파이썬에서는 리스트의 중간에 요소를 삽입할 수 있는 insert() 메서드를 제공\n",
    "- 문법 : 리스트변수.insert(위치(인덱스 번호), 추가할 값(요소))"
   ]
  },
  {
   "cell_type": "code",
   "execution_count": 56,
   "id": "d0c50cc2-046a-467e-94c5-8d5a8bde97b1",
   "metadata": {},
   "outputs": [
    {
     "name": "stdout",
     "output_type": "stream",
     "text": [
      "추가 전 :  [4, 5, 6]\n",
      "추가 후 :  [4, 8, 5, 6]\n"
     ]
    }
   ],
   "source": [
    "# 예제 1\n",
    "nums5 = [4, 5, 6]\n",
    "print(\"추가 전 : \", nums5)\n",
    "nums5.insert(1, 8)\n",
    "print(\"추가 후 : \", nums5)"
   ]
  },
  {
   "cell_type": "code",
   "execution_count": 62,
   "id": "af6fc57d-5998-4821-8e07-eb8d2aee239e",
   "metadata": {},
   "outputs": [
    {
     "name": "stdout",
     "output_type": "stream",
     "text": [
      "추가 후 : ['monkey', 'dog']\n",
      "결과 1 : ['monkey', 'dog', 'cat', 'lion']\n",
      "결과 2 : ['monkey', 'dog', 'horse', 'cat', 'lion']\n",
      "결과 3 : ['monkey', 'dog', 'horse', 'cat', 'cow', 'lion']\n"
     ]
    }
   ],
   "source": [
    "# 예제. append() vs insert()\n",
    "animals = [\"monkey\", \"dog\"]\n",
    "print(\"추가 후 :\", animals)\n",
    "\n",
    "animals.append(\"cat\")\n",
    "animals.append(\"lion\")\n",
    "print(\"결과 1 :\", animals)\n",
    "\n",
    "animals.insert(2, \"horse\")\n",
    "print(\"결과 2 :\", animals)\n",
    "\n",
    "animals.insert(4, \"cow\")\n",
    "print(\"결과 3 :\", animals)"
   ]
  },
  {
   "cell_type": "markdown",
   "id": "71b52afb-7b91-4b6d-82c2-55acc39aa101",
   "metadata": {},
   "source": [
    "### 3. 리스트 삭제 : **remove()**\n",
    "\n",
    "- 특정 값을 가진 요소를 삭제\n",
    "- 문법 : 리스트변수.remove(요소)"
   ]
  },
  {
   "cell_type": "code",
   "execution_count": 84,
   "id": "0274ea5e-27cd-4bb4-9765-8caa4c009f08",
   "metadata": {},
   "outputs": [
    {
     "name": "stdout",
     "output_type": "stream",
     "text": [
      "추가 전 :  [1, 2, 3, 4, 5]\n",
      "추가 후 :  [1, 3, 4, 5]\n"
     ]
    }
   ],
   "source": [
    "# 예제 1\n",
    "nums6 = [1, 2, 3, 4, 5]\n",
    "print(\"추가 전 : \", nums6)\n",
    "\n",
    "nums6.remove(2)\n",
    "print(\"추가 후 : \", nums6)"
   ]
  },
  {
   "cell_type": "code",
   "execution_count": 86,
   "id": "7b3fde58-7110-4207-95f4-5c33907c27e0",
   "metadata": {},
   "outputs": [
    {
     "name": "stdout",
     "output_type": "stream",
     "text": [
      ">> 리스트 삭제 예제 2: 여러 개의 요소가 있을 때 remove() 메서드 사용 예제\n",
      "['yellow', 'red']\n",
      "['yellow', 'red']\n"
     ]
    }
   ],
   "source": [
    "# 예제 2: 여러 개의 요소가 있을 때 remove() 메서드 사용 예제\n",
    "print(\">> 리스트 삭제 예제 2: 여러 개의 요소가 있을 때 remove() 메서드 사용 예제\")\n",
    "\n",
    "color = [\"black\", \"yellow\", \"red\", \"black\"]\n",
    "\n",
    "# remove는 왼쪽에서 오른쪽 방향으로 순차적으로 검사하여 처음 발견되는 값과 일치하는 요소만 삭제\n",
    "# 동일한 값을 가진 요소가 여러 개 있더라도 처음 발견된 요소만 삭제한다.\n",
    "color.remove(\"black\")\n",
    "\n",
    "# while문 사용하여 remove\n",
    "while \"black\" in color :\n",
    "    color.remove(\"black\")\n",
    "print(color)\n",
    "\n",
    "# 오류 : x not in list 리스트에 없는 값\n",
    "# color.remove(\"hello\")\n",
    "print(color)"
   ]
  },
  {
   "cell_type": "markdown",
   "id": "14df73a7-6add-4e71-81b8-52d7901bbf68",
   "metadata": {},
   "source": [
    "### 4. 리스트 삭제 : **pop()**\n",
    "\n",
    "- 특정 위치에 있는 요소를 삭제\n",
    "- 문법 : 리스트변수.pop(인덱스 번호)"
   ]
  },
  {
   "cell_type": "code",
   "execution_count": 89,
   "id": "b1db135a-9c78-4db8-90d1-1313dc6efcc5",
   "metadata": {},
   "outputs": [
    {
     "name": "stdout",
     "output_type": "stream",
     "text": [
      "추가 전 :  [1, 2, 3, 4, 5]\n",
      "추가 후 :  [1, 2, 3, 4]\n"
     ]
    }
   ],
   "source": [
    "# 예제 1\n",
    "nums7 = [1, 2, 3, 4, 5]\n",
    "print(\"추가 전 : \", nums7)\n",
    "\n",
    "nums7.pop(4)\n",
    "print(\"추가 후 : \", nums7)"
   ]
  },
  {
   "cell_type": "code",
   "execution_count": 72,
   "id": "0dd47e8a-7c1d-486d-b5dd-1870f3d64c15",
   "metadata": {},
   "outputs": [
    {
     "name": "stdout",
     "output_type": "stream",
     "text": [
      "['black', 'yellow', 'red']\n"
     ]
    }
   ],
   "source": [
    "# 예제 2\n",
    "colors = [\"black\", \"yellow\", \"red\", \"black\"]\n",
    "colors.pop(3)\n",
    "print(colors)"
   ]
  },
  {
   "cell_type": "code",
   "execution_count": 74,
   "id": "d48d6ba3-63b9-4cdc-b961-1c75ff2e3ec2",
   "metadata": {},
   "outputs": [
    {
     "name": "stdout",
     "output_type": "stream",
     "text": [
      "[10, 20, 40, 50]\n"
     ]
    }
   ],
   "source": [
    "# 예제 3\n",
    "numbers = [10, 20, 30, 40, 50]\n",
    "numbers.pop(2)\n",
    "print(numbers)"
   ]
  },
  {
   "cell_type": "markdown",
   "id": "c33eab3c-45df-4a8d-bffa-cfecfdfc1809",
   "metadata": {},
   "source": [
    "### 5. 리스트 길이 확인: **len()**\n",
    "\n",
    "- 리스트 길이\n",
    "- 문법 : len(리스트)"
   ]
  },
  {
   "cell_type": "code",
   "execution_count": 93,
   "id": "12ddc08b-851f-44c4-8d46-4cd6306fa3d7",
   "metadata": {},
   "outputs": [
    {
     "name": "stdout",
     "output_type": "stream",
     "text": [
      "3\n"
     ]
    }
   ],
   "source": [
    "# 예제 1\n",
    "computer_science = [\"data structure\", \"algorithms\", \"python\"]\n",
    "subject_num = len(computer_science)\n",
    "print(subject_num)"
   ]
  },
  {
   "cell_type": "code",
   "execution_count": null,
   "id": "2d27b61d-fe32-4a4f-9f90-28a95c67b889",
   "metadata": {},
   "outputs": [],
   "source": []
  }
 ],
 "metadata": {
  "kernelspec": {
   "display_name": "Python [conda env:base] *",
   "language": "python",
   "name": "conda-base-py"
  },
  "language_info": {
   "codemirror_mode": {
    "name": "ipython",
    "version": 3
   },
   "file_extension": ".py",
   "mimetype": "text/x-python",
   "name": "python",
   "nbconvert_exporter": "python",
   "pygments_lexer": "ipython3",
   "version": "3.12.7"
  }
 },
 "nbformat": 4,
 "nbformat_minor": 5
}
