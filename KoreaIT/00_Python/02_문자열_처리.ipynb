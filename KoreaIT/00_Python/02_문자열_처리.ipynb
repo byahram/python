{
 "cells": [
  {
   "cell_type": "markdown",
   "id": "6a2b16aa-8d8c-47b2-8c0e-fcad5de1dde5",
   "metadata": {},
   "source": [
    "# 문자열 처리"
   ]
  },
  {
   "cell_type": "markdown",
   "id": "c8a0db18-4193-4d22-a8de-0b2747fbee8c",
   "metadata": {},
   "source": [
    "## 문자열 인덱스\n",
    "\n",
    "- 문자열의 각 문자는 고유한 번호를 가지며, 이를 인덱스라고 한다.\n",
    "- 각 문자는 칸이 존재한다.\n",
    "- 인덱스 번호는 0번부터 시작한다."
   ]
  },
  {
   "cell_type": "code",
   "execution_count": 3,
   "id": "631cca7f-6858-421c-b8a4-dee16542d081",
   "metadata": {},
   "outputs": [
    {
     "name": "stdout",
     "output_type": "stream",
     "text": [
      "h\n",
      "l\n"
     ]
    }
   ],
   "source": [
    "# 예제 1. 인덱스로 문자 추출하기\n",
    "s = \"hello\"\n",
    "f_char = s[0]\n",
    "t_char = s[2]\n",
    "print(f_char)\n",
    "print(t_char)"
   ]
  },
  {
   "cell_type": "code",
   "execution_count": 7,
   "id": "254bff74-1398-4e20-b98a-c1b1b6c8e4c7",
   "metadata": {},
   "outputs": [
    {
     "name": "stdout",
     "output_type": "stream",
     "text": [
      "Alice\n",
      "12345\n",
      "168.5\n"
     ]
    }
   ],
   "source": [
    "# 예제 2. 개인정보 출력하기\n",
    "name = \"Alice\"\n",
    "postNum = \"12345\"\n",
    "height = \"168.5\"\n",
    "print(name)\n",
    "print(postNum)\n",
    "print(height)"
   ]
  },
  {
   "cell_type": "code",
   "execution_count": null,
   "id": "334ae5bb-8534-4182-9b5c-2910d9410294",
   "metadata": {},
   "outputs": [],
   "source": []
  }
 ],
 "metadata": {
  "kernelspec": {
   "display_name": "Python [conda env:base] *",
   "language": "python",
   "name": "conda-base-py"
  },
  "language_info": {
   "codemirror_mode": {
    "name": "ipython",
    "version": 3
   },
   "file_extension": ".py",
   "mimetype": "text/x-python",
   "name": "python",
   "nbconvert_exporter": "python",
   "pygments_lexer": "ipython3",
   "version": "3.12.7"
  }
 },
 "nbformat": 4,
 "nbformat_minor": 5
}
