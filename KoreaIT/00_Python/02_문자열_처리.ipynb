{
 "cells": [
  {
   "cell_type": "markdown",
   "id": "6a2b16aa-8d8c-47b2-8c0e-fcad5de1dde5",
   "metadata": {},
   "source": [
    "# 문자열 처리"
   ]
  },
  {
   "cell_type": "markdown",
   "id": "c8a0db18-4193-4d22-a8de-0b2747fbee8c",
   "metadata": {},
   "source": [
    "## 문자열 인덱스\n",
    "\n",
    "- 문자열의 각 문자는 고유한 번호를 가지며, 이를 인덱스라고 한다.\n",
    "- 각 문자는 칸이 존재한다.\n",
    "- 인덱스 번호는 0번부터 시작한다."
   ]
  },
  {
   "cell_type": "code",
   "execution_count": 3,
   "id": "631cca7f-6858-421c-b8a4-dee16542d081",
   "metadata": {},
   "outputs": [
    {
     "name": "stdout",
     "output_type": "stream",
     "text": [
      "h\n",
      "l\n"
     ]
    }
   ],
   "source": [
    "# 예제 1. 인덱스로 문자 추출하기\n",
    "s = \"hello\"\n",
    "f_char = s[0]\n",
    "t_char = s[2]\n",
    "print(f_char)\n",
    "print(t_char)"
   ]
  },
  {
   "cell_type": "code",
   "execution_count": 7,
   "id": "254bff74-1398-4e20-b98a-c1b1b6c8e4c7",
   "metadata": {},
   "outputs": [
    {
     "name": "stdout",
     "output_type": "stream",
     "text": [
      "Alice\n",
      "12345\n",
      "168.5\n"
     ]
    }
   ],
   "source": [
    "# 예제 2. 개인정보 출력하기\n",
    "name = \"Alice\"\n",
    "postNum = \"12345\"\n",
    "height = \"168.5\"\n",
    "print(name)\n",
    "print(postNum)\n",
    "print(height)"
   ]
  },
  {
   "cell_type": "code",
   "execution_count": 9,
   "id": "334ae5bb-8534-4182-9b5c-2910d9410294",
   "metadata": {},
   "outputs": [
    {
     "name": "stdout",
     "output_type": "stream",
     "text": [
      "h\n",
      "o\n",
      "l\n",
      "l\n"
     ]
    }
   ],
   "source": [
    "# 예제 3\n",
    "s = \"hello\"\n",
    "\n",
    "# 'h'를 출력하고 싶을 때\n",
    "first_char = s[0]\n",
    "print(first_char)\n",
    "\n",
    "# (역순) O를 출력하고 싶을 때\n",
    "last_char = s[-1]\n",
    "print(last_char)\n",
    "\n",
    "# 'l'을 출력하고 싶을 때\n",
    "third_char = s[2]\n",
    "print(third_char)\n",
    "print(s[-3])"
   ]
  },
  {
   "cell_type": "markdown",
   "id": "229cc783-ee11-4063-97fc-cef79611796d",
   "metadata": {},
   "source": [
    "## 문자열 슬라이싱\n",
    "\n",
    "- 문자열의 일부를 원하는 만틈 잘라내는 기능"
   ]
  },
  {
   "cell_type": "markdown",
   "id": "f1a294db-156f-4335-b710-56f4baa72cbf",
   "metadata": {},
   "source": [
    "#### 문법\n",
    "\n",
    "- 문자 열을 담은 변수명 [start : stop : step]\n",
    "- start(시작 인덱스): 슬라이싱을 시작할 위치를 지정. 생략 가능. 기본 값은 0\n",
    "- stop(종료 인덱스): 슬라이싱을 종료할 위치를 지정. 생략 가능. 기본 값은 (마지막 인덱스+1)\n",
    "- step(증감폭): 인덱스의 증가 또는 감소 값을 지정. 생략 가능. 기본 값은 1씩 증감."
   ]
  },
  {
   "cell_type": "code",
   "execution_count": 15,
   "id": "352b85f5-bec0-4cb1-b792-3b06b4560f92",
   "metadata": {},
   "outputs": [
    {
     "name": "stdout",
     "output_type": "stream",
     "text": [
      "Love\n",
      "Python\n",
      "Pto\n",
      "Lv\n"
     ]
    }
   ],
   "source": [
    "# 예제 1\n",
    "text = \"I Love Python\"\n",
    "\n",
    "# Love\n",
    "substring01 = text[2:6]\n",
    "print(substring01)\n",
    "\n",
    "# Python = text[7:13]\n",
    "substring02 = text[-6:]\n",
    "print(substring02)\n",
    "\n",
    "# Pto = text[7:13:2]\n",
    "substring03 = text[7:-1:2]\n",
    "print(substring03)\n",
    "\n",
    "# Lv\n",
    "substring04 = text[2:6:2]\n",
    "print(substring04)"
   ]
  },
  {
   "cell_type": "code",
   "execution_count": 17,
   "id": "589cf5f5-a3c6-4627-b6d8-6977ff113f86",
   "metadata": {},
   "outputs": [
    {
     "name": "stdout",
     "output_type": "stream",
     "text": [
      "Absolutely\n",
      "Love\n",
      "Asltl\n"
     ]
    }
   ],
   "source": [
    "# 예제 2\n",
    "text01 = \"I Absolutely Love Python Programming\"\n",
    "\n",
    "# Absolutely\n",
    "substring05 = text01[2:12]\n",
    "print(substring05)\n",
    "\n",
    "# Love\n",
    "substring06 = text01[13:17]\n",
    "print(substring06)\n",
    "\n",
    "# Asltl\n",
    "substring07 = text01[2:12:2]\n",
    "print(substring07)"
   ]
  },
  {
   "cell_type": "markdown",
   "id": "19f8688a-54db-402d-9875-7acb67b1959f",
   "metadata": {},
   "source": [
    "## 문자열 길이\n",
    "\n",
    "- len() 함수 사용\n",
    "- 문자열의 길이는 공백을 포함한 모든 문자의 개수"
   ]
  },
  {
   "cell_type": "code",
   "execution_count": 20,
   "id": "578a8af6-3616-4e23-83b4-09a6b8a44a25",
   "metadata": {},
   "outputs": [
    {
     "name": "stdout",
     "output_type": "stream",
     "text": [
      "6\n"
     ]
    }
   ],
   "source": [
    "# 예제 1\n",
    "text03 = \"Python\"\n",
    "text03_length = len(text03)\n",
    "print(text03_length)"
   ]
  },
  {
   "cell_type": "code",
   "execution_count": 22,
   "id": "82f6ad2b-57e8-4b81-aa4e-49fd3e1455a3",
   "metadata": {},
   "outputs": [
    {
     "name": "stdout",
     "output_type": "stream",
     "text": [
      "13\n"
     ]
    }
   ],
   "source": [
    "# 예제 2\n",
    "text04 = \"I Love Python\"\n",
    "text04_length = len(text04)\n",
    "print(text04_length)"
   ]
  },
  {
   "cell_type": "markdown",
   "id": "e365ebeb-044d-4ac1-9d86-2271648f6a23",
   "metadata": {},
   "source": [
    "## 소문자 ↔ 대문자 변환 함수\n",
    "\n",
    "- upper() 함수: 소문자를 대문자로 변환하는 기능\n",
    "- lower() 함수: 대문자를 소문자로 변환하는 기능"
   ]
  },
  {
   "cell_type": "code",
   "execution_count": 28,
   "id": "2b487526-2853-4fe9-a763-b6ae6ebc640c",
   "metadata": {
    "jp-MarkdownHeadingCollapsed": true
   },
   "outputs": [
    {
     "name": "stdout",
     "output_type": "stream",
     "text": [
      "i really like computer\n",
      "I REALLY LIKE COMPUTER\n"
     ]
    }
   ],
   "source": [
    "#  소문자 → 대문자 변환 예제\n",
    "text05 = \"i really like computer\"\n",
    "print(text05)\n",
    "text05_upper = text05.upper()\n",
    "print(text05_upper)"
   ]
  },
  {
   "cell_type": "code",
   "execution_count": 30,
   "id": "1896dec0-3f53-4b2f-ae42-b786a0866953",
   "metadata": {},
   "outputs": [
    {
     "name": "stdout",
     "output_type": "stream",
     "text": [
      "I Don't really Like TO Reading book\n",
      "I DON'T REALLY LIKE TO READING BOOK\n",
      "i don't really like to reading book\n"
     ]
    }
   ],
   "source": [
    "# 대문자 ↔ 소문자 변환 예제\n",
    "text06 = \"I Don't really Like TO Reading book\"\n",
    "print(text06)\n",
    "\n",
    "text06_upper = text06.upper()\n",
    "text06_lower = text06.lower()\n",
    "print(text06_upper)\n",
    "print(text06_lower)"
   ]
  },
  {
   "cell_type": "code",
   "execution_count": null,
   "id": "3e764d59-7000-408b-b150-56dcfcaa5df5",
   "metadata": {},
   "outputs": [],
   "source": []
  }
 ],
 "metadata": {
  "kernelspec": {
   "display_name": "Python [conda env:base] *",
   "language": "python",
   "name": "conda-base-py"
  },
  "language_info": {
   "codemirror_mode": {
    "name": "ipython",
    "version": 3
   },
   "file_extension": ".py",
   "mimetype": "text/x-python",
   "name": "python",
   "nbconvert_exporter": "python",
   "pygments_lexer": "ipython3",
   "version": "3.12.7"
  }
 },
 "nbformat": 4,
 "nbformat_minor": 5
}
