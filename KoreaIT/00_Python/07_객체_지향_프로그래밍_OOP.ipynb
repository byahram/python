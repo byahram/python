{
 "cells": [
  {
   "cell_type": "markdown",
   "id": "302f8b26-e0e0-439c-ba4f-e0f09f8f688d",
   "metadata": {},
   "source": [
    "# 객체 지향 프로그래밍(OOP)\n",
    "\n",
    "- 사람, 강아지, 자동차, 게임 캐릭터등 현실의 모든것을 \"객체\"라고 한다.\n",
    "- 그 객체들이 가진 속성(변수)와 행동(함수)을 정의해서 코드를 짜는 방식이다."
   ]
  },
  {
   "cell_type": "markdown",
   "id": "d04eaece-3fbb-49de-b40f-4c266c794fb2",
   "metadata": {},
   "source": [
    "## 주요 용어 정의\n",
    "\n",
    "1. **속성 (Attribute)**\n",
    "    - 객체가 가지고 있는 데이터(정보)를 의미한다.\n",
    "    - 즉, 객체의 특징이나 상태를 나타내는 변수이다.\n",
    "2. **메서드 (Method)**\n",
    "    - 객체가 할 수 잇는 동작(기능)을 의미한다.\n",
    "    - 즉, 클래스 안에 정의된 함수를 의미한다.\n",
    "3. **클래스 (Class)**\n",
    "    - 실제 동작하는 객체를 만들기 전에 어떤 속성과 행동을 가질지 미리 정의해 두는 것이다.\n",
    "4. **객체 (Object)**\n",
    "    - 클래스를 바탕으로 만들어진 실제 사용 가능한 존재"
   ]
  },
  {
   "cell_type": "markdown",
   "id": "d67911e8-ab7b-4218-ac52-66c7b5eeeb43",
   "metadata": {},
   "source": [
    "||||\n",
    "|---|---|---|\n",
    "|**클래스**|객체를 만들기 위한 설계도|레고 설계도 |\n",
    "|**객체**|클래스를 바탕으로 만들어진 실제 사용 가능한 존재|실제 조립된 레고|\n",
    "|**속성**|객체가 가지고 있는 정보/데이터|색상, 무기, 모델|\n",
    "|**메서드**|객체가 할 수 있는 행동/기능|공격하기, 날기, 변신하기|"
   ]
  },
  {
   "cell_type": "markdown",
   "id": "11f61407-b1bb-4103-85b2-c02c7e6427e4",
   "metadata": {},
   "source": [
    "## 객체 지향 프로그래밍의 4가지 특징\n",
    "\n",
    "1. 캡슐화 : 속성과 메서드를 하나로 묶고, 외부에서 직접 접근하지 못하게 보호하는 것\n",
    "2. 상속 : 기존 클래스의 속성과 메서드를 물려받아 새로운 클래스를 만드는것\n",
    "3. 다(多)형(形)성 : 같은 이름의 메서드가 상황에 따라 다르게 동작할 수 있는 성질\n",
    "4. 추상화 : 복잡한 내부 동작은 숨기고, 필요한 기능만 보여주는 것"
   ]
  },
  {
   "cell_type": "markdown",
   "id": "42debb50-5db9-4ac8-b57c-2ee102b9ce3a",
   "metadata": {},
   "source": [
    "## 클래스 문법\n",
    "\n",
    "* 클래스 외부에 있으면 함수 : 독립적으로 정의된 동작을 수행하는 코드 블록 \n",
    "* 클래스 내부에 있으면 메서드 : 클래스에 소속된 함수. 객체와 함께 동작한다.\n",
    "\n",
    "```\n",
    "class 클래스명 :\n",
    "    클래스 변수\t\n",
    "    생성자\n",
    "    메서드\n",
    "```"
   ]
  },
  {
   "cell_type": "markdown",
   "id": "bd4884ad-4d21-453e-8849-7f5ec1fb3774",
   "metadata": {},
   "source": [
    "## 메서드 문법\n",
    "\n",
    "* self \n",
    "    - 항상 첫 번째 매개변수로 들어가야만 한다.\n",
    "    - 메서드가 호출된 그 객체 자신을 가리킨다.\n",
    "    - 객체의 속성이나 다른 메서드에 접근할 수 있다.\n",
    "\n",
    "```\n",
    "class 클래스 이름 : \n",
    "    def 메서드이름(self, 매개벼수1, 매갠변수) :\n",
    "    실행할 코드\n",
    "```"
   ]
  },
  {
   "cell_type": "code",
   "execution_count": 16,
   "id": "cb253d21-c2fb-47f5-9ccc-27ec806210f1",
   "metadata": {},
   "outputs": [
    {
     "name": "stdout",
     "output_type": "stream",
     "text": [
      "안녕하세요!\n"
     ]
    }
   ],
   "source": [
    "# EX1.\n",
    "# Person 클래스 정의\n",
    "class Person :\n",
    "    # 메서드 정의 \n",
    "    def introduce(self) :\n",
    "        print(\"안녕하세요!\")\n",
    "\n",
    "minsu = Person()\n",
    "minsu.introduce()"
   ]
  },
  {
   "cell_type": "code",
   "execution_count": 18,
   "id": "857037c3-0867-44f8-9803-35dcbc45a0a2",
   "metadata": {},
   "outputs": [
    {
     "name": "stdout",
     "output_type": "stream",
     "text": [
      "동물이 소리를 냅니다.\n"
     ]
    }
   ],
   "source": [
    "# EX2.\n",
    "class Animal :\n",
    "    # 메서드 정의\n",
    "    def sound(self) :\n",
    "        print(\"동물이 소리를 냅니다.\")\n",
    "\n",
    "cat = Animal()\n",
    "cat.sound()"
   ]
  },
  {
   "cell_type": "code",
   "execution_count": 20,
   "id": "953b7edf-3224-4b58-b0ef-ae2191c5408d",
   "metadata": {},
   "outputs": [
    {
     "name": "stdout",
     "output_type": "stream",
     "text": [
      "안녕하세요 민수입니다.\n"
     ]
    }
   ],
   "source": [
    "# EX3. 메서드에 매개변수 추가\n",
    "class Person2 :\n",
    "    def introduce(self, name) :\n",
    "        print(f\"안녕하세요 {name}입니다.\")\n",
    "\n",
    "jihoon = Person2()\n",
    "jihoon.introduce(\"민수\")"
   ]
  },
  {
   "cell_type": "code",
   "execution_count": 22,
   "id": "e6db8ac0-7e91-48ff-9cbc-c5258ca0a42d",
   "metadata": {},
   "outputs": [
    {
     "name": "stdout",
     "output_type": "stream",
     "text": [
      "저의 울음 소리는 야옹입니다\n",
      "저의 울음 소리는 멍멍입니다\n"
     ]
    }
   ],
   "source": [
    "# EX4.\n",
    "class Animal2 : \n",
    "    def cry(self, sound) :\n",
    "        print(f\"저의 울음 소리는 {sound}입니다\")\n",
    "\n",
    "cat = Animal2().cry(\"야옹\")\n",
    "dog = Animal2().cry(\"멍멍\")"
   ]
  },
  {
   "cell_type": "code",
   "execution_count": 24,
   "id": "68a10994-4b0f-48bc-9304-7e8a5796b7e9",
   "metadata": {},
   "outputs": [
    {
     "name": "stdout",
     "output_type": "stream",
     "text": [
      "책 제목은 파이썬 입문입니다\n"
     ]
    }
   ],
   "source": [
    "# EX5.\n",
    "class Book :\n",
    "    def show_title(self, title) :\n",
    "        self.title = title\n",
    "        print(f\"책 제목은 {self.title}입니다\")\n",
    "\n",
    "book = Book()\n",
    "book.show_title(\"파이썬 입문\")\n",
    "\n",
    "# 클래스 안의 메서드가 자기 객체의 데이터를 사용할 때 쓰는 말이다."
   ]
  },
  {
   "cell_type": "code",
   "execution_count": 26,
   "id": "f36878ec-0a17-4ed3-a9c2-dcf8b41dcfd2",
   "metadata": {},
   "outputs": [
    {
     "name": "stdout",
     "output_type": "stream",
     "text": [
      "노란색 램프가 켜졌습니다.\n"
     ]
    }
   ],
   "source": [
    "# EX6.\n",
    "class Lamp :\n",
    "    def turn_on(self, color) :\n",
    "        self.color = color          # self.속성 = \"그 객체의 정보를 담고 있는 변수(상자)\"\n",
    "        print(f\"{self.color} 램프가 켜졌습니다.\")\n",
    "lamp = Lamp()\n",
    "lamp.turn_on(\"노란색\")"
   ]
  },
  {
   "cell_type": "code",
   "execution_count": 28,
   "id": "fbbe8901-f8d9-4fc3-b6fc-0463b53c091c",
   "metadata": {},
   "outputs": [
    {
     "name": "stdout",
     "output_type": "stream",
     "text": [
      "저는 지훈이고, 15살 입니다.\n"
     ]
    }
   ],
   "source": [
    "# EX7.\n",
    "class Student :\n",
    "    def introduce(self, name, age) :\n",
    "        self.name = name\n",
    "        self.age = age\n",
    "        print(f\"저는 {self.name}이고, {self.age}살 입니다.\")\n",
    "\n",
    "me = Student()\n",
    "me.introduce(\"지훈\", 15)"
   ]
  },
  {
   "cell_type": "code",
   "execution_count": 30,
   "id": "650f5d4d-feb9-453a-8fa4-557af9c13887",
   "metadata": {},
   "outputs": [
    {
     "name": "stdout",
     "output_type": "stream",
     "text": [
      "상자 안에 있는 물건 : \n",
      "- 연필\n",
      "- 지우개\n",
      "- 자\n"
     ]
    }
   ],
   "source": [
    "# EX8.\n",
    "class Box :\n",
    "    def show_items(self, items) :\n",
    "        self.items = items\n",
    "        print(\"상자 안에 있는 물건 : \")\n",
    "        for item in self.items :\n",
    "            print(\"-\", item)\n",
    "\n",
    "box = Box()\n",
    "box.show_items([\"연필\", \"지우개\", \"자\"])"
   ]
  },
  {
   "cell_type": "markdown",
   "id": "f3405a48-1bcf-47fc-9eda-b547d355c32b",
   "metadata": {},
   "source": [
    "## 생성자\n",
    "\n",
    "- 클래스로부터 객체가 생성될 때 자동으로 호출되어 초기화를 담당하는 특별한 메서드이다."
   ]
  },
  {
   "cell_type": "markdown",
   "id": "abf0f638-2089-49ca-be1f-55aa25c26dff",
   "metadata": {},
   "source": [
    "#### 역할\n",
    "\n",
    "- 객체가 생성될때 때 초기화 작업을 해줌\n",
    "- 보통은 객체의 속성(변수)들을 설정할 때 사용된다."
   ]
  },
  {
   "cell_type": "markdown",
   "id": "c72d4197-1f96-43ee-b30c-be4030d16490",
   "metadata": {},
   "source": [
    "#### 문법\n",
    "\n",
    "```\n",
    "class 클래스 이름 :\n",
    "\tdef __init__(self, 매개변수, 매개변수....)\n",
    "\t\tself.속성1(변수) = 매개변수1\n",
    "\t\tself.items = \n",
    "\t\tself.속성1 = 값 -> 객체의 속성(인스턴스 변수)\n",
    "```"
   ]
  },
  {
   "cell_type": "markdown",
   "id": "bf7c32af-ef12-428f-aa73-7985faa62324",
   "metadata": {},
   "source": [
    "#### 차이점\n",
    "\n",
    "|항목|생성자방식|메서드방식|\n",
    "|---|---|---|\n",
    "|초기화 시점|객체 생성할 때 자동|메서드를 직접 호출해야 함|\n",
    "||일반적으로 추천|특별한 경우에만 사용 (나중에 값이 정해질때)|"
   ]
  },
  {
   "cell_type": "markdown",
   "id": "e4b26bfc-d4df-43e2-8549-d7b3760cb10f",
   "metadata": {},
   "source": [
    "#### 생성자를 사용하는 4가지 이유\n",
    "\n",
    "1. 객체 초기화를 자동화하기 위함\n",
    "2. 초기값 설정을 강제할 수 있음.\n",
    "3. 객체마다 다른 값을 설정할 수 있음\n",
    "4. 코드를 더 깔끔하고 구조적으로 만들 수 있다.\n",
    "    - 프로그램이 커질수록 생성자의 역할이 중요해짐 "
   ]
  },
  {
   "cell_type": "code",
   "execution_count": 39,
   "id": "5f39269b-9160-44d7-8344-78afdbc52898",
   "metadata": {},
   "outputs": [
    {
     "name": "stdout",
     "output_type": "stream",
     "text": [
      "Buddy\n",
      "3\n"
     ]
    }
   ],
   "source": [
    "# EX1.\n",
    "class Dog :\n",
    "    # 클래스가 호출될 때 자동으로 실행된다.\n",
    "    def __init__(self, name, age) :\n",
    "        self.name = name\n",
    "        self.age = age\n",
    "\n",
    "myDog = Dog(\"Buddy\", 3)\n",
    "print(myDog.name)\n",
    "print(myDog.age)"
   ]
  },
  {
   "cell_type": "code",
   "execution_count": 41,
   "id": "bc892b8a-cca1-4bba-bb8a-9007a46ea28b",
   "metadata": {},
   "outputs": [
    {
     "name": "stdout",
     "output_type": "stream",
     "text": [
      "Buddy / 3\n"
     ]
    }
   ],
   "source": [
    "# EX2. 메서드로 변경\n",
    "class Dog2 :\n",
    "    def setInfo(self, name, age) :\n",
    "        self.name = name\n",
    "        self.age = age\n",
    "        print(f\"{self.name} / {self.age}\")\n",
    "\n",
    "myDog2 = Dog2()\n",
    "myDog2.setInfo(\"Buddy\", 3)"
   ]
  },
  {
   "cell_type": "code",
   "execution_count": 43,
   "id": "30e13d41-2c3f-450e-b857-11b1c9fb97bd",
   "metadata": {},
   "outputs": [
    {
     "name": "stdout",
     "output_type": "stream",
     "text": [
      "야옹야옹\n",
      "멍멍멍멍\n"
     ]
    }
   ],
   "source": [
    "# EX3.\n",
    "class Animal :\n",
    "    # 생성자 생성. 매개변수는 sound\n",
    "    def __init__(self, sound) :\n",
    "        self.sound = sound\n",
    "\n",
    "    # 메서드 cry\n",
    "    def cry(self) :\n",
    "        print(self.sound * 2)\n",
    "\n",
    "cat = Animal(\"야옹\")\n",
    "cat.cry()\n",
    "dog = Animal(\"멍멍\")\n",
    "dog.cry()"
   ]
  },
  {
   "cell_type": "code",
   "execution_count": 45,
   "id": "44c31f40-d4a2-40ec-9dc0-2ad639ac84c5",
   "metadata": {},
   "outputs": [
    {
     "name": "stdout",
     "output_type": "stream",
     "text": [
      "안녕하세요 저는 민수입니다\n",
      "안녕하세요 저는 환희입니다\n",
      "안녕하세요 저는 아현입니다\n"
     ]
    }
   ],
   "source": [
    "# EX4.\n",
    "class Person :\n",
    "    def __init__(self, name):\n",
    "        self.name = name\n",
    "\n",
    "    def introduce(self) :\n",
    "        print(f\"안녕하세요 저는 {self.name}입니다\")\n",
    "\n",
    "p1 = Person(\"민수\")\n",
    "p2 = Person(\"환희\")\n",
    "p3 = Person(\"아현\")\n",
    "p1.introduce()\n",
    "p2.introduce()\n",
    "p3.introduce()"
   ]
  },
  {
   "cell_type": "code",
   "execution_count": 47,
   "id": "6ef2bd03-21c7-47d7-abfb-ae2ba0546ea7",
   "metadata": {},
   "outputs": [
    {
     "name": "stdout",
     "output_type": "stream",
     "text": [
      "area : 20\n",
      "perimeter : 18\n"
     ]
    }
   ],
   "source": [
    "# EX5.\n",
    "class Rectangle :\n",
    "    def __init__(self, width, height):\n",
    "        self.width = width\n",
    "        self.height = height\n",
    "\n",
    "    def area(self) :\n",
    "        return self.width * self.height\n",
    "    \n",
    "    def perimeter(self) :\n",
    "        return (self.width + self.height) * 2\n",
    "    \n",
    "r = Rectangle(4, 5)\n",
    "print(\"area :\", r.area())\n",
    "print(\"perimeter :\", r.perimeter())"
   ]
  },
  {
   "cell_type": "code",
   "execution_count": 49,
   "id": "79276679-26da-43b4-8a16-8451e492db4e",
   "metadata": {},
   "outputs": [
    {
     "name": "stdout",
     "output_type": "stream",
     "text": [
      "제목 : 인터스텔라\n",
      "감독 : 크리스토퍼놀란\n",
      "평점 : 9.5\n",
      "추천 영화입니다!\n",
      "제목 : 무제\n",
      "감독 : 미상\n",
      "평점 : 0.0\n",
      "그냥 그래요\n"
     ]
    }
   ],
   "source": [
    "# EX6. 영화 정보 클래스 만들기\n",
    "class Movie :\n",
    "    def __init__(self, title, director, star = 0.0):\n",
    "        # 이렇게 하면 필요할 떄만 넣고 안넣으면 자동 기본값으로 설정되니까 편하고 안전할 수 있다.\n",
    "        self.title = title\n",
    "        self.director = director\n",
    "        self.star = star\n",
    "\n",
    "    def showInfo(self) :\n",
    "        print(\"제목 :\", self.title)\n",
    "        print(\"감독 :\", self.director)\n",
    "        print(\"평점 :\", self.star)\n",
    "\n",
    "    def isGood(self) :\n",
    "        if self.star > 8.0 :\n",
    "            print(\"추천 영화입니다!\")\n",
    "        else :\n",
    "            print(\"그냥 그래요\")\n",
    "\n",
    "movie = Movie(\"인터스텔라\", \"크리스토퍼놀란\", 9.5)\n",
    "movie.showInfo()\n",
    "movie.isGood()\n",
    "\n",
    "movie2 = Movie(\"무제\", \"미상\")\n",
    "movie2.showInfo()\n",
    "movie2.isGood()"
   ]
  },
  {
   "cell_type": "markdown",
   "id": "9b283dcb-f93b-413c-98d7-caa826f2beae",
   "metadata": {},
   "source": [
    "## 소멸자\n",
    "\n",
    ": 객체가 생성될 때 생성자를 호출하는 것처럼 객체가 소멸될 때 호출되는 메서드를 소멸자라고 한다.\n",
    "- 소멸자 선언 : __del__() 메서들 ㄹ사용하여 선언한다.\n",
    "- 소멸자 호출 : 메서드 형태로 호출하지 않고 del 키워드를 사용한다.\n",
    "- 문법 : del 클래스 명"
   ]
  },
  {
   "cell_type": "code",
   "execution_count": 52,
   "id": "76e82de4-1d37-4b32-b6ac-352553d6d4cb",
   "metadata": {},
   "outputs": [
    {
     "name": "stdout",
     "output_type": "stream",
     "text": [
      "파일 열기 완료\n",
      "파일 읽는 중\n",
      "파일 닫기 완료\n"
     ]
    }
   ],
   "source": [
    "# EX1.\n",
    "class FileManager :\n",
    "    def __init__(self):\n",
    "        # 변수초기화, 호출될 때 가장 먼저 호출될 기능을 적어줌\n",
    "        print(\"파일 열기 완료\")\n",
    "\n",
    "    def readFile(self) :\n",
    "        print(\"파일 읽는 중\")\n",
    "    \n",
    "    def __del__(self) :\n",
    "        print(\"파일 닫기 완료\")\n",
    "\n",
    "# 객체 생성 (클래스를 변수에 할당)\n",
    "file = FileManager()\n",
    "file.readFile()\n",
    "\n",
    "# 객체 삭제 -> 소멸자 자동 호출됨 -> 가비지 컬렉션 삭제\n",
    "# 가비지 컬렉션 : 더이상 쓰이지 않는 개체를 자동으로 메모리에서 정리해주는 기능이다.\n",
    "# 주기적으로 또는 조건에 따라 객체를 감시하다가 \"이 객체 이제 안쓰네?\" 하면서 메모리에서 제거한다.\n",
    "del file"
   ]
  },
  {
   "cell_type": "code",
   "execution_count": 54,
   "id": "1aaac6d9-f959-4b77-827e-0be1bd52d036",
   "metadata": {},
   "outputs": [
    {
     "name": "stdout",
     "output_type": "stream",
     "text": [
      "지민님이 로그인 하셨습니다.\n",
      "현재 사용자 : [지민]\n",
      "지민님이 로그아웃 하셨습니다.\n"
     ]
    }
   ],
   "source": [
    "# EX2.\n",
    "class UserSession :\n",
    "    def __init__(self, name):\n",
    "        self.name = name\n",
    "        print(f\"{self.name}님이 로그인 하셨습니다.\")\n",
    "    \n",
    "    def showUser(self) :\n",
    "        print(f\"현재 사용자 : [{self.name}]\")\n",
    "\n",
    "    # 소멸자는 언제 생성(정의 되는가)?\n",
    "    # 자동으로 만들어지지 않고, 필요할 때 우리가 정의하는 것것\n",
    "    def __del__(self) :\n",
    "        print(f\"{self.name}님이 로그아웃 하셨습니다.\")\n",
    "\n",
    "    # 소멸자는 언제 실행이 되는가?\n",
    "    # 소멸자는 객체가 더 이상 필요없어서 메모리에서 삭제될 때 자동으로 실행된다.\n",
    "\n",
    "user1 = UserSession(\"지민\")\n",
    "user1.showUser()\n",
    "\n",
    "del user1"
   ]
  },
  {
   "cell_type": "markdown",
   "id": "1b01f3e1-32e0-43c3-97da-d831e4fe6810",
   "metadata": {},
   "source": [
    "## 클래스 변수 vs 인스턴스 변수\n",
    "\n",
    "|항목|인스턴스 변수|클래스 변수|\n",
    "|---|---|---|\n",
    "|소속|객체 하나하나|클래스 전체|\n",
    "|선언 위치|생성자등 메서드 안|클래스안, 메서드 밖|\n",
    "|값 공유|객체마다 다름|모든 객체가 공유|\n",
    "|예|self.name/ self.age|Student.count, 클래스명.변수명|"
   ]
  },
  {
   "cell_type": "markdown",
   "id": "fec5bf3b-06a9-4618-95a9-6ceac84ddd75",
   "metadata": {},
   "source": [
    "- 클래스 변수\n",
    "    ```\n",
    "    class 클래스명 :\n",
    "    \t클래스 변수명 = 값\n",
    "    \tdef __init__(self): \n",
    "    ``` \n",
    "- 인스턴스 변수\n",
    "    - 객체(인스턴스)마다 따로 가지고 있는 변수다\n",
    "    - 즉, 클래스에서 만든 각각의 객체가 자기만 따로 갖고 있는 정보라고 볼 수 있다."
   ]
  },
  {
   "cell_type": "code",
   "execution_count": 62,
   "id": "c3b8bf5a-0130-4f73-ae84-72f43d5f36d7",
   "metadata": {},
   "outputs": [],
   "source": [
    "# EX1.\n",
    "class Student :\n",
    "    count = 0       # 클래스 변수\n",
    "    def __init__(self, name):\n",
    "        self.name = name        # 인스턴스 변수\n",
    "        # 클래스명.클래스변수 \n",
    "        Student.count += 1"
   ]
  },
  {
   "cell_type": "code",
   "execution_count": 64,
   "id": "2e727b4b-7d09-4151-918c-f53e56069163",
   "metadata": {},
   "outputs": [
    {
     "name": "stdout",
     "output_type": "stream",
     "text": [
      "빨강\n",
      "파랑\n",
      "초록\n",
      "총 만든 컵의 수 : 3\n"
     ]
    }
   ],
   "source": [
    "# EX2.\n",
    "class Cup :\n",
    "    total_cups = 0\n",
    "\n",
    "    def __init__(self, color):\n",
    "        self.color = color\n",
    "        print(self.color)\n",
    "        Cup.total_cups += 1\n",
    "\n",
    "cup1 = Cup(\"빨강\")\n",
    "cup2 = Cup(\"파랑\")\n",
    "cup3 = Cup(\"초록\")\n",
    "print(\"총 만든 컵의 수 :\", Cup.total_cups)"
   ]
  },
  {
   "cell_type": "code",
   "execution_count": 66,
   "id": "e2a14737-3f67-4345-84ce-9ef38bd658a8",
   "metadata": {},
   "outputs": [
    {
     "name": "stdout",
     "output_type": "stream",
     "text": [
      "안녕하세요. 저는 1반의 영준입니다.\n",
      "안녕하세요. 저는 2반의 대연입니다.\n",
      "안녕하세요. 저는 3반의 서진입니다.\n"
     ]
    }
   ],
   "source": [
    "# EX3.\n",
    "# 클래스 변수와 인스턴스 변수를 모두 사용하는 예제\n",
    "class Student :\n",
    "    total_students = 0      # 클래스변수 : 전체 학생 수 (모든 객체가 공유)\n",
    "\n",
    "    def __init__(self, name, classNum):\n",
    "        self.name = name        # 인스턴스 변수 : 학생 이름\n",
    "        self.classNum = classNum        # 인스턴스 변수 : 반 번호\n",
    "        Student.total_students += 1     # 학생이 생성될 때마다 클래스 변수 증가\n",
    "\n",
    "    def introduce(self) :\n",
    "        print(f\"안녕하세요. 저는 {self.classNum}반의 {self.name}입니다.\")\n",
    "\n",
    "# 학생 객체 생성(클래스를 변수에 저장)\n",
    "std1 = Student(\"영준\", 1)\n",
    "std2 = Student(\"대연\", 2)\n",
    "std3 = Student(\"서진\", 3)\n",
    "std1.introduce()\n",
    "std2.introduce()\n",
    "std3.introduce()"
   ]
  },
  {
   "cell_type": "markdown",
   "id": "e2176925-e448-4fd3-90aa-155eb9978b0f",
   "metadata": {},
   "source": [
    "# 클래스 상속\n",
    "\n",
    "- 상속 : 부모 클래스의 속성과 메서드를 자식 클래스가 물려받는 것\n",
    "- 즉, 이미 만들어진 클래스(부모)를 다시 쓰면서 필요한 부분만 추가하거나 수정할 수 있게 해주는 기능이다.\n",
    "\n",
    "|||\n",
    "|---|---|\n",
    "|상속을 주는 클래스|상속 받는 클래스|\n",
    "|부모클래스|자식클래스|\n",
    "|슈퍼클래스|서브클래스|\n",
    "|기반클래스|파생클래스|"
   ]
  },
  {
   "cell_type": "markdown",
   "id": "a607a8c7-33c1-4c52-ba43-e8c447abf119",
   "metadata": {},
   "source": [
    "### 상속을 하는 이유\n",
    "\n",
    "1. 코드 재사용 : 이미 있는 코드를 다시 쓸 수 있어서 코드 중복이 줄어든다.\n",
    "2. 유지보수 편리 : 부모 클래스에서 수정하면 자식 클래스에도 반영되서 관리가 쉬움\n",
    "3. 구조적 설계 : \"is -a \" 관계 표현 가능(Cat is an Animal)\n",
    "4. 기능 확장 : 기본 기능은 그대로 두고 자식 클래스에서 기능을 확장하거나 변경 가능"
   ]
  },
  {
   "cell_type": "markdown",
   "id": "8d1af986-a972-46f7-a706-b5bc7a2e88f3",
   "metadata": {},
   "source": [
    "#### 문법\n",
    "\n",
    "```\n",
    "class 부모 클래스명 :\n",
    "    ...\n",
    "class 자식 클래스명(부모 클래슴ㅇ) :\n",
    "    ...\n",
    "```"
   ]
  },
  {
   "cell_type": "code",
   "execution_count": 75,
   "id": "5ce77d4a-d305-4119-9b48-1975d5c0cd52",
   "metadata": {},
   "outputs": [
    {
     "name": "stdout",
     "output_type": "stream",
     "text": [
      "동물이 소리를 냅니다.\n",
      "멍멍!\n"
     ]
    }
   ],
   "source": [
    "# EX1.\n",
    "# 부모 클래스\n",
    "class Animal :\n",
    "    # 메서드 정의\n",
    "    def speak(self) :\n",
    "        print(\"동물이 소리를 냅니다.\")\n",
    "\n",
    "# 자식 클래스\n",
    "class Dog(Animal) :\n",
    "    # 메서드 정의\n",
    "    def bark(self) :\n",
    "        print(\"멍멍!\")\n",
    "\n",
    "# 객체 생성\n",
    "dog = Dog()\n",
    "\n",
    "# 자식 클래스에서 부모 클래스의 메서드 사용 가능!\n",
    "# 부모 클래스에서 자식 클래스는 직접 쓸 수 없다.\n",
    "dog.speak()\n",
    "dog.bark()"
   ]
  },
  {
   "cell_type": "code",
   "execution_count": 77,
   "id": "0a9de405-a6f6-4c08-bf42-0bc56d4a6277",
   "metadata": {},
   "outputs": [
    {
     "name": "stdout",
     "output_type": "stream",
     "text": [
      "삼성 기기를 켭니다\n",
      "전화 거는 중 ...\n"
     ]
    }
   ],
   "source": [
    "# EX2.\n",
    "class Device :\n",
    "    def __init__(self, brand):\n",
    "        self.brand = brand\n",
    "\n",
    "    def turn_on(self) :\n",
    "        print(f\"{self.brand} 기기를 켭니다\")\n",
    "\n",
    "class Phone(Device) :\n",
    "    def call(self) :\n",
    "        print(\"전화 거는 중 ...\")\n",
    "\n",
    "phone = Phone(\"삼성\")\n",
    "phone.turn_on()\n",
    "phone.call()"
   ]
  },
  {
   "cell_type": "markdown",
   "id": "be2aebf8-b86f-4a1b-a95d-db717d996155",
   "metadata": {},
   "source": [
    "## super()\n",
    "\n",
    "- 자식 클래스에서 부모 클래스의 기능을 호출할 수 있도록 해주는 함수다.\n",
    "    - 부모 클래스에 있는 메서드나 생성자를 불러와서 재사용하게 해주는 도우미\n",
    " \n",
    "||super()사용 o|super()사용x|\n",
    "|---|---|---|\n",
    "|부모 생성자 호출|자동 호출|수동으로 처리해야한다.|\n",
    "|코드 재사용성|높음|낮다|\n",
    "\n",
    "- super()를 안쓰면, 부모 클래스의 초기화 코드가 아예 실행되지 않아서 기능 누락, 코드 중복, 버그 위험이 생길 수 있다."
   ]
  },
  {
   "cell_type": "markdown",
   "id": "85385acf-a40f-4614-af45-9bb0289afbff",
   "metadata": {},
   "source": [
    "### super() 사용하는 이유\n",
    "\n",
    "1. 부모 생성자 호출 : 자식 클래스에서 부모의 생성자를 실행하고 싶을 때\n",
    "2. 코드 중복 방지 : 부모의 기능을 다시 안써도 되니까 코드 깔끔해짐\n",
    "3. 유지보수 쉬움 : 부모 클래스 코드가 바귀면 자식 클래스에 자동으로 반영\n",
    "4. 다중 상속 안전 "
   ]
  },
  {
   "cell_type": "code",
   "execution_count": 85,
   "id": "b417b8f2-2908-494d-a4bc-f09aec1f49eb",
   "metadata": {},
   "outputs": [
    {
     "name": "stdout",
     "output_type": "stream",
     "text": [
      "초코가 태어났어요\n",
      "품종은 푸들 입니다\n"
     ]
    }
   ],
   "source": [
    "# EX1.\n",
    "# 부모 생성자 재사용\n",
    "class Animal :\n",
    "    # 생성자\n",
    "    def __init__(self, name):\n",
    "        self.name = name        # 인스턴스 변수\n",
    "        print(f\"{self.name}가 태어났어요\")\n",
    "\n",
    "# 자식 클래스\n",
    "class Cat(Animal) :\n",
    "    def __init__(self, name, breed):\n",
    "        super().__init__(name)      # 부모의 생성자 호출\n",
    "        self.breed = breed\n",
    "        print(f\"품종은 {self.breed} 입니다\")\n",
    "\n",
    "cat = Cat(\"초코\", \"푸들\")"
   ]
  },
  {
   "cell_type": "code",
   "execution_count": 87,
   "id": "474fbff3-b7f9-4395-94c8-7848e1fe3700",
   "metadata": {},
   "outputs": [
    {
     "name": "stdout",
     "output_type": "stream",
     "text": [
      "하은님은 개발 부서에 배정되었습니다\n",
      "사용 언어는 python입니다.\n"
     ]
    }
   ],
   "source": [
    "# EX2.\n",
    "# 부모\n",
    "class Employee :\n",
    "    def __init__(self, name, department):\n",
    "        self.name = name\n",
    "        self.department = department\n",
    "        print(f\"{self.name}님은 {self.department} 부서에 배정되었습니다\")\n",
    "\n",
    "# 자식\n",
    "class Developer(Employee) :\n",
    "    def __init__(self, name, department, language):\n",
    "        super().__init__(name, department)\n",
    "        self.language = language\n",
    "        print(f\"사용 언어는 {self.language}입니다.\")\n",
    "\n",
    "dev = Developer(\"하은\", \"개발\", \"python\")"
   ]
  },
  {
   "cell_type": "markdown",
   "id": "cd431806-e77c-468a-858f-0ffa67852677",
   "metadata": {},
   "source": [
    "## 오버라이딩\n",
    "\n",
    "- 부모 클래스에서 정의된 메서드를 자식 클래스에서 \"같은 이름\"으로 다시 정의하여 기능을 변경하는 것\n",
    "- 즉, 상속에서 사용되는 개념, 부모 클래스의 메서드를 자식클래스에서 재정의(떺어쓰기)하는 것\n",
    "    - 부모 클래스의 메서드 대신 자식 클래스에서 새로 정의한 메서드가 호출된다."
   ]
  },
  {
   "cell_type": "code",
   "execution_count": 92,
   "id": "660982d8-2611-4c1b-89ae-bc6a9a49bed9",
   "metadata": {},
   "outputs": [
    {
     "name": "stdout",
     "output_type": "stream",
     "text": [
      "동물 소리\n",
      "동물 소리\n",
      "멍멍\n",
      "야옹\n"
     ]
    }
   ],
   "source": [
    "# EX1\n",
    "# 부모 클래스\n",
    "class Animal : \n",
    "    def sound(self) :\n",
    "        print(\"동물 소리\")\n",
    "\n",
    "# 자식 클래스\n",
    "class Dog(Animal) :\n",
    "    def sound(self) :       # 오버라이딩 (재정의 하는 것)\n",
    "        super().sound()     # 부모의 메서드 호출\n",
    "        print(\"멍멍\")\n",
    "\n",
    "# 자식 클래스\n",
    "class Cat(Animal) :\n",
    "    def sound(self) :\n",
    "        print(\"야옹\")\n",
    "\n",
    "# 부모 메서드도 같이 쓰고 싶을때\n",
    "# 객체 생성\n",
    "a = Animal()\n",
    "d = Dog()\n",
    "c = Cat()\n",
    "\n",
    "a.sound()\n",
    "d.sound()\n",
    "c.sound()"
   ]
  },
  {
   "cell_type": "code",
   "execution_count": 94,
   "id": "c2375cb0-bfb2-47d1-97d3-29c150468a2b",
   "metadata": {},
   "outputs": [
    {
     "name": "stdout",
     "output_type": "stream",
     "text": [
      "파랑 차가 달립니다.\n",
      "쌩쌩\n",
      "빨간 버스가 달립니다.\n",
      "살금살금\n",
      "삑삑\n"
     ]
    }
   ],
   "source": [
    "# EX2\n",
    "class Car : \n",
    "    def __init__(self, color):\n",
    "        self.color = color\n",
    "    \n",
    "    def ride(self) :\n",
    "        print(self.color, \"차가 달립니다.\")\n",
    "        print(\"쌩쌩\")\n",
    "\n",
    "class Bus(Car) :\n",
    "    def __init__(self, color, bellSound):       # 생성자 : 색상과 벨소리\n",
    "        super().__init__(color)     # 부모 클래스의 생성자 호출\n",
    "        self.bellSound = bellSound  #   인스턴스 변수 초기화\n",
    "\n",
    "    def ride(self) :        # ride 메서드를 오버라이딩\n",
    "        print(self.color, \"버스가 달립니다.\")\n",
    "        print(\"살금살금\")\n",
    "\n",
    "    def pressBell(self) :\n",
    "        print(self.bellSound)\n",
    "\n",
    "car = Car(\"파랑\")     # 파랑 자동차 생성\n",
    "car.ride()        # 부모 클래서 ride() 생성\n",
    "\n",
    "bus = Bus(\"빨간\", \"삑삑\")\n",
    "bus.ride()\n",
    "bus.pressBell()"
   ]
  },
  {
   "cell_type": "code",
   "execution_count": 96,
   "id": "86d2d374-f58d-4714-9ba5-0b3c65b47ea3",
   "metadata": {},
   "outputs": [
    {
     "name": "stdout",
     "output_type": "stream",
     "text": [
      "안녕하세요. 저는 홍길동입니다.\n",
      "안녕하세요, 저는 김민지이고, 해솔초등학교 학생입니다.\n",
      "안녕하세요, 저는 이정훈 선생님이고, 수학를 가르칩니다.\n"
     ]
    }
   ],
   "source": [
    "# EX3\n",
    "class Person :\n",
    "    def __init__(self, name):\n",
    "        self.name = name\n",
    "\n",
    "    def introduce(self) :\n",
    "        print(f\"안녕하세요. 저는 {self.name}입니다.\")\n",
    "\n",
    "class Student(Person) :\n",
    "    def __init__(self, name, school):\n",
    "        super().__init__(name)\n",
    "        self.school = school\n",
    "    \n",
    "    def introduce(self):        # 오버라이딩: 부모의 소개메서드를 재정의\n",
    "        print(f\"안녕하세요, 저는 {self.name}이고, {self.school} 학생입니다.\")\n",
    "\n",
    "class Teacher(Person) :\n",
    "    def __init__(self, name, subject):\n",
    "        super().__init__(name)\n",
    "        self.subject = subject\n",
    "\n",
    "    def introduce(self):\n",
    "        print(f\"안녕하세요, 저는 {self.name} 선생님이고, {self.subject}를 가르칩니다.\")\n",
    "\n",
    "# 객체 생성 및 메서드 호출\n",
    "person = Person(\"홍길동\")\n",
    "person.introduce()\n",
    "\n",
    "p2 = Student(\"김민지\", \"해솔초등학교\")\n",
    "p2.introduce()\n",
    "\n",
    "p3 = Teacher(\"이정훈\", \"수학\")\n",
    "p3.introduce()"
   ]
  },
  {
   "cell_type": "markdown",
   "id": "ddc009e4-fed9-4c76-94fe-89c36a537c21",
   "metadata": {},
   "source": [
    "## 다중 상속\n",
    "\n",
    "- 하나의 자식 클래스가 두 개 이상의 부모 클래스로부터 속성과 메서드를 모두 물려받는 것\n",
    "- class 자식클래스(부모1, 부모2)\n",
    "- 장점 : 여러 클래스의 기능을 한 클래스에 모을 수 있어 재사용성 증가\n",
    "- 단점 : 부모 클래스에 같은 이름의 메서드가 있을 경우, 충돌이나 혼란 가능성\n",
    "- pass : 아무것도 안하는 문장\n",
    "- 파이썬에서는 클래스나 함수에 내용을 아직 안 쓸때 형식상 빈 블록을 만들기 위해 pass를 사용한다."
   ]
  },
  {
   "cell_type": "code",
   "execution_count": 99,
   "id": "719d7de9-23cc-4fd8-973a-2a199b644019",
   "metadata": {},
   "outputs": [
    {
     "name": "stdout",
     "output_type": "stream",
     "text": [
      "날다\n",
      "걷다\n",
      "짹짹\n"
     ]
    }
   ],
   "source": [
    "# EX1\n",
    "# 부모클래스 \n",
    "class Fly :\n",
    "    def fly(self) :\n",
    "        print(\"날다\")\n",
    "\n",
    "# 부모 클래스\n",
    "class Walk :\n",
    "    def walk(self) : \n",
    "        print(\"걷다\")\n",
    "\n",
    "# 자식 클래스 _ 다중 상송\n",
    "class Bird(Fly, Walk) :\n",
    "    def sound(self) :\n",
    "        print(\"짹짹\")\n",
    "\n",
    "# 객체 생성\n",
    "b = Bird()\n",
    "\n",
    "# 상속받은 메서드 사용\n",
    "b.fly()\n",
    "b.walk()\n",
    "b.sound()"
   ]
  },
  {
   "cell_type": "code",
   "execution_count": 101,
   "id": "5d8f40b3-74ff-4b58-b46c-9206574fcc91",
   "metadata": {},
   "outputs": [
    {
     "name": "stdout",
     "output_type": "stream",
     "text": [
      "Flying\n",
      "Swimming\n"
     ]
    }
   ],
   "source": [
    "# EX2\n",
    "class Flyer :\n",
    "    def fly(self) :\n",
    "        return \"Flying\"\n",
    "\n",
    "class Swimmer :\n",
    "    def swim(self) :\n",
    "        return \"Swimming\" \n",
    "\n",
    "# pass : 아무것도 안하는 문장\n",
    "# 파이썬에서는 클래스나 함수에 내용을 아직 안 쓸때 형식상 빈 블록을 만들기 위해 pass를 사용한다.\n",
    "class Duck(Flyer, Swimmer) :\n",
    "    pass\n",
    "\n",
    "f = Flyer()\n",
    "f_return = f.fly()\n",
    "print(f_return)\n",
    "\n",
    "s = Swimmer()\n",
    "s_return = s.swim()\n",
    "print(s_return)"
   ]
  },
  {
   "cell_type": "code",
   "execution_count": 103,
   "id": "3bd1e587-83cf-42a6-9cae-853e50d8d392",
   "metadata": {},
   "outputs": [
    {
     "name": "stdout",
     "output_type": "stream",
     "text": [
      "A\n"
     ]
    }
   ],
   "source": [
    "# EX3\n",
    "class A :\n",
    "    def show(self) :\n",
    "        return \"A\"\n",
    "    \n",
    "class B :\n",
    "    def show(self) :\n",
    "        return \"B\"\n",
    "    \n",
    "class C(A, B) :\n",
    "    pass\n",
    "\n",
    "obj = C()\n",
    "print(obj.show())       # 충돌상황이 생길 경우 왼쪽 부모인 A가 우선됨"
   ]
  },
  {
   "cell_type": "code",
   "execution_count": 105,
   "id": "fbb22fc8-3029-4ebd-b971-8c8a5699e254",
   "metadata": {},
   "outputs": [
    {
     "name": "stdout",
     "output_type": "stream",
     "text": [
      "B\n"
     ]
    }
   ],
   "source": [
    "# EX4. 다중 상속 + 자식이 오버라이딩\n",
    "# 부모 클래스 A\n",
    "class A :\n",
    "    pass\n",
    "    # def speak(self) :\n",
    "    #     return \"a\"\n",
    "\n",
    "# 부모 클래스 B\n",
    "class B : \n",
    "    def speak(self) :\n",
    "        return \"B\"\n",
    "\n",
    "class C(A, B) :\n",
    "    pass    # A가 출력됨. A가 상속 순서에서 먼저 나오기 떄문\n",
    "    # def speak(self) :\n",
    "    #     return \"C\"\n",
    "\n",
    "# 인스턴스 생성\n",
    "# c 클래스에 정의된 speak()가 있으므로 A나 B에서 상속된 speak는 사용되지 않음. 즉, 자식 클래스에서 부모 메서드를 \"덮어씀\"\n",
    "c = C()\n",
    "print(c.speak())"
   ]
  },
  {
   "cell_type": "markdown",
   "id": "3ec522b9-d37c-4177-81b5-852491cbd6a6",
   "metadata": {},
   "source": [
    "# 주문 프로그램"
   ]
  },
  {
   "cell_type": "markdown",
   "id": "bf02eb5f-5f84-4fa8-875c-b16bd44baf13",
   "metadata": {},
   "source": [
    "### 클래스 나눈 기준\n",
    "\n",
    "- 기본 원칙 : 한 클래스는 하나의 역할만!\n",
    "\n",
    "|클래스이름|나눈 이유(역할)|책임|\n",
    "|---|---|---|\n",
    "|Menu|메뉴 정보만 관리|메뉴저장, 보여주기|\n",
    "|Order|주문 정보만 관리|항목 추가, 총합 계싼, 주문내역 출력|\n",
    "|Customer|손님의 행동 관리|주문 수행, Order 객체 보유|"
   ]
  },
  {
   "cell_type": "markdown",
   "id": "278880ee-517b-4c78-914e-1fb5173768aa",
   "metadata": {},
   "source": [
    "### 프로그램 전체의 흐름 요약\n",
    "\n",
    "1. 고객 이름 입력\n",
    "2. 메뉴 보여줌\n",
    "3. 고객이 메뉴 선택 -> 주문에 추가\n",
    "4. \"종료\" 입력 시 주문 완료\n",
    "5. 주문 내역 및 총액 출력"
   ]
  },
  {
   "cell_type": "code",
   "execution_count": 111,
   "id": "4a4d5649-ae36-4c9d-9980-546f85d92c82",
   "metadata": {},
   "outputs": [],
   "source": [
    "# 메뉴 정보를 관리하는 Menu 클래스\n",
    "class Menu :\n",
    "    def __init__(self):\n",
    "        # 메뉴 항목을 딕셔너리로 저장 (메뉴이름: 가격)\n",
    "        self.items = {\n",
    "            \"Burger\" : 5000,\n",
    "            \"Fries\" : 2000,\n",
    "            \"Soda\" : 1000\n",
    "        }\n",
    "\n",
    "    # 메뉴를 출력해주는 함수\n",
    "    def show_menu(self) :\n",
    "        print(\"==메뉴판==\")\n",
    "        for name, price in self.items.items():\n",
    "            # 각 메뉴 항목 출력\n",
    "            print(f\"{name}: {price}원\")\n",
    "        # 안내 문구 출력\n",
    "        print(\"메뉴 이름을 입력해 주세요. (입력 : '종료' 시 주문 완료) \\n\")"
   ]
  },
  {
   "cell_type": "code",
   "execution_count": 113,
   "id": "27de92ec-bdf2-43c1-abe9-2791f710599b",
   "metadata": {},
   "outputs": [],
   "source": [
    "# 주문 정보를 관리하는 Order 클래스\n",
    "class Order :\n",
    "    def __init__(self):\n",
    "        # 장바구니 역할을 할 리스트 생성\n",
    "        self.cart = []\n",
    "    \n",
    "    # 선택한 항목을 장바구니에 추가하는 함수\n",
    "    def add_item(self, name, price) :\n",
    "        self.cart.append((name, price))     # 튜플로 저장\n",
    "\n",
    "    # 장바구니에 담긴 항목을 총 가격을 계산하는 함수\n",
    "    def total(self) :\n",
    "        return sum([price for name, price in self.cart])\n",
    "        # for in 리스트 컴프리헨션 : 파이썬 문법\n",
    "        # 짧고 간단하게 리스트를 만드는 방법\n",
    "\n",
    "\n",
    "    # 현재 주문 내역을 출력하는 함수\n",
    "    def show_order(self) :\n",
    "        print(\"\\n주문 내역 :\")\n",
    "        for name, price in self.cart :\n",
    "            print(f\"-{name} : {price}원\")"
   ]
  },
  {
   "cell_type": "code",
   "execution_count": 115,
   "id": "189d439b-52c1-4b5b-ae3f-4d10a749fff5",
   "metadata": {},
   "outputs": [],
   "source": [
    "# 고객을 나타내는 Customer 클래스\n",
    "class Customer :\n",
    "    def __init__(self, name):\n",
    "        self.name = name        # 고객 이름 저장\n",
    "        self.order = Order()    # 고객당 하나의 주문 객체 생성\n",
    "\n",
    "    # 고객이 실제로 주문하는 함수\n",
    "    def make_order(self, menu) :\n",
    "        while True :\n",
    "            # 메뉴판 보여주기\n",
    "            menu.show_menu()\n",
    "            # 사용자로부터 주문할 메뉴 입력 받기\n",
    "            choice = input(\"주문할 메뉴 입력 : \")\n",
    "\n",
    "            # '종료' 입력 시 반복 종료 -> 종료 끝\n",
    "            if choice == \"종료\" :\n",
    "                break\n",
    "\n",
    "            # 올바른 메뉴를 입력했는지 확인\n",
    "            if choice in menu.items : \n",
    "                # 주문 항목 추가\n",
    "                self.order.add_item(choice, menu.items[choice])\n",
    "                print(f\"{self.name}님이 {choice}를 주문했습니다.\\n\")\n",
    "            else :\n",
    "                # 메뉴에 없는 항목 입력 시 안내\n",
    "                print(\"메뉴에 없는 항목입니다. 다시 입력해주세요. \\n\")"
   ]
  },
  {
   "cell_type": "code",
   "execution_count": 117,
   "id": "6080b3ec-f59e-4dc1-842f-c2f6a7ac80d2",
   "metadata": {},
   "outputs": [
    {
     "name": "stdin",
     "output_type": "stream",
     "text": [
      "고객의 이름을 입력하세요 >>  김아람\n"
     ]
    },
    {
     "name": "stdout",
     "output_type": "stream",
     "text": [
      "==메뉴판==\n",
      "Burger: 5000원\n",
      "Fries: 2000원\n",
      "Soda: 1000원\n",
      "메뉴 이름을 입력해 주세요. (입력 : '종료' 시 주문 완료) \n",
      "\n"
     ]
    },
    {
     "name": "stdin",
     "output_type": "stream",
     "text": [
      "주문할 메뉴 입력 :  Burger\n"
     ]
    },
    {
     "name": "stdout",
     "output_type": "stream",
     "text": [
      "김아람님이 Burger를 주문했습니다.\n",
      "\n",
      "==메뉴판==\n",
      "Burger: 5000원\n",
      "Fries: 2000원\n",
      "Soda: 1000원\n",
      "메뉴 이름을 입력해 주세요. (입력 : '종료' 시 주문 완료) \n",
      "\n"
     ]
    },
    {
     "name": "stdin",
     "output_type": "stream",
     "text": [
      "주문할 메뉴 입력 :  Fries\n"
     ]
    },
    {
     "name": "stdout",
     "output_type": "stream",
     "text": [
      "김아람님이 Fries를 주문했습니다.\n",
      "\n",
      "==메뉴판==\n",
      "Burger: 5000원\n",
      "Fries: 2000원\n",
      "Soda: 1000원\n",
      "메뉴 이름을 입력해 주세요. (입력 : '종료' 시 주문 완료) \n",
      "\n"
     ]
    },
    {
     "name": "stdin",
     "output_type": "stream",
     "text": [
      "주문할 메뉴 입력 :  Soda\n"
     ]
    },
    {
     "name": "stdout",
     "output_type": "stream",
     "text": [
      "김아람님이 Soda를 주문했습니다.\n",
      "\n",
      "==메뉴판==\n",
      "Burger: 5000원\n",
      "Fries: 2000원\n",
      "Soda: 1000원\n",
      "메뉴 이름을 입력해 주세요. (입력 : '종료' 시 주문 완료) \n",
      "\n"
     ]
    },
    {
     "name": "stdin",
     "output_type": "stream",
     "text": [
      "주문할 메뉴 입력 :  종료\n"
     ]
    },
    {
     "name": "stdout",
     "output_type": "stream",
     "text": [
      "\n",
      "주문 내역 :\n",
      "-Burger : 5000원\n",
      "-Fries : 2000원\n",
      "-Soda : 1000원\n",
      "총액: 8000원\n"
     ]
    }
   ],
   "source": [
    "# 프로그램 실행 부분\n",
    "\n",
    "# Menu 객체 생성\n",
    "menu = Menu()\n",
    "\n",
    "# 사용자에게 이름을 입력받기\n",
    "customer_name = input(\"고객의 이름을 입력하세요 >> \")\n",
    "\n",
    "# Customer 객체 생성\n",
    "customer = Customer(customer_name)\n",
    "\n",
    "# 주문 시작 (메뉴 선택 반복)\n",
    "customer.make_order(menu)\n",
    "\n",
    "# 주문 내역 출력\n",
    "customer.order.show_order()\n",
    "\n",
    "# 총액 출력\n",
    "print(f\"총액: {customer.order.total()}원\")"
   ]
  },
  {
   "cell_type": "markdown",
   "id": "aba48b4c-a803-4eb3-95f3-80f892deea6e",
   "metadata": {},
   "source": [
    "# 프로그램 개발하기\n",
    "\n",
    "1. 프로그램 이름\n",
    "    - 투두리스트 애플리케이션\n",
    "2. 프로그램의 목적\n",
    "    - 투두리스트를 목록 보기 및 투두 추가\n",
    "3. 기능 설명 및 예시 흐름\n",
    "    1. 사용자 이름 입력\n",
    "    2. 할 일 추가\n",
    "    3. 할 일 목록 보기\n",
    "    4. 프로그램 종료\n",
    "4. 클래스 설계\n",
    "    - Todo      :   투두에 대한 정보 저장     :   투두 완료처리, title 출력\n",
    "    - TodoList  :   투두리스트를 관리   :   할일 추가, 목록 출력\n",
    "    - TodoApp   :   앱 실행을 담당 : 사용자 이름 입력, 메뉴 인터페이스 출력"
   ]
  },
  {
   "cell_type": "code",
   "execution_count": 121,
   "id": "cd085ce5-8f3f-4986-920a-f258fc4e547c",
   "metadata": {},
   "outputs": [],
   "source": [
    "class Todo :\n",
    "    def __init__(self, title):\n",
    "        self.title = title\n",
    "        self.isCompleted = False\n",
    "\n",
    "    def markDone(self) :\n",
    "        self.isCompleted = True\n",
    "\n",
    "    def __str__(self):\n",
    "        status = \"[✔️]\" if self.isCompleted else \"[ ]\"\n",
    "        return f\"{status} {self.title}\""
   ]
  },
  {
   "cell_type": "code",
   "execution_count": 123,
   "id": "a8077c54-1119-47dd-9288-224ab2b09f77",
   "metadata": {},
   "outputs": [],
   "source": [
    "class TodoList :\n",
    "    def __init__(self):\n",
    "        self.todos = []\n",
    "\n",
    "    def addTodo(self, title):\n",
    "        self.todos.append(Todo(title))\n",
    "\n",
    "    def showTodos(self) :\n",
    "        if len(self.todos) == 0:\n",
    "            print(\"할 일이 없습니다. 할 일을 추가해주세요.\\n\")\n",
    "        else:\n",
    "            print(\"== 할 일 목록 ==\")\n",
    "            for index, todo in enumerate(self.todos):\n",
    "                print(f\"{index + 1}. {todo}\")\n",
    "            print()\n",
    "\n",
    "    def completeTask(self, index):\n",
    "        if 0 <= index < len(self.todos):\n",
    "            self.todos[index].markDone()\n",
    "            print(f\"'{self.todos[index].title}' 완료 처리되었습니다.\\n\")\n",
    "        else:\n",
    "            print(\"유효하지 않은 번호입니다.\\n\")"
   ]
  },
  {
   "cell_type": "code",
   "execution_count": 125,
   "id": "71cf1eee-89f6-4c0d-873b-37f7e1a230da",
   "metadata": {},
   "outputs": [],
   "source": [
    "class TodoApp : \n",
    "    def __init__(self):\n",
    "        self.user = \"\"\n",
    "        self.todoList = TodoList()\n",
    "\n",
    "    def getUsername(self):\n",
    "        while not len(self.user) > 0:\n",
    "            self.user = input(\"이름을 입력하세요 : \")\n",
    "\n",
    "    def showMenu(self):\n",
    "        print()\n",
    "        print(f\"=== {self.user}'s 투두리스트 ===\")\n",
    "        print(\"1. 할 일 추가\")\n",
    "        print(\"2. 할 일 목록 보기\")\n",
    "        print(\"3. 종료\")\n",
    "        print()\n",
    "\n",
    "    def run(self):\n",
    "        self.getUsername()\n",
    "    \n",
    "        while len(self.user) > 0:\n",
    "            self.showMenu()\n",
    "            choice = input(\"메뉴를 선택하세요: \")\n",
    "            print()\n",
    "\n",
    "            if choice == \"1\":\n",
    "                title = input(\"할 일을 입력하세요: \")\n",
    "                self.todoList.addTodo(title)\n",
    "                print(\"할 일이 추가되었습니다.\\n\")\n",
    "            elif choice == \"2\":\n",
    "                self.todoList.showTodos()\n",
    "            elif choice == \"3\":\n",
    "                print(\"프로그램을 종료합니다.\")\n",
    "                break\n",
    "            else:\n",
    "                print(\"올바른 메뉴 번호를 입력해주세요.\\n\")"
   ]
  },
  {
   "cell_type": "code",
   "execution_count": 127,
   "id": "d7895d40-26ab-4459-8d8d-cca37a0128b7",
   "metadata": {},
   "outputs": [
    {
     "name": "stdin",
     "output_type": "stream",
     "text": [
      "이름을 입력하세요 :  김아람\n"
     ]
    },
    {
     "name": "stdout",
     "output_type": "stream",
     "text": [
      "\n",
      "=== 김아람's 투두리스트 ===\n",
      "1. 할 일 추가\n",
      "2. 할 일 목록 보기\n",
      "3. 종료\n",
      "\n"
     ]
    },
    {
     "name": "stdin",
     "output_type": "stream",
     "text": [
      "메뉴를 선택하세요:  2\n"
     ]
    },
    {
     "name": "stdout",
     "output_type": "stream",
     "text": [
      "\n",
      "할 일이 없습니다. 할 일을 추가해주세요.\n",
      "\n",
      "\n",
      "=== 김아람's 투두리스트 ===\n",
      "1. 할 일 추가\n",
      "2. 할 일 목록 보기\n",
      "3. 종료\n",
      "\n"
     ]
    },
    {
     "name": "stdin",
     "output_type": "stream",
     "text": [
      "메뉴를 선택하세요:  1\n"
     ]
    },
    {
     "name": "stdout",
     "output_type": "stream",
     "text": [
      "\n"
     ]
    },
    {
     "name": "stdin",
     "output_type": "stream",
     "text": [
      "할 일을 입력하세요:  공부하기\n"
     ]
    },
    {
     "name": "stdout",
     "output_type": "stream",
     "text": [
      "할 일이 추가되었습니다.\n",
      "\n",
      "\n",
      "=== 김아람's 투두리스트 ===\n",
      "1. 할 일 추가\n",
      "2. 할 일 목록 보기\n",
      "3. 종료\n",
      "\n"
     ]
    },
    {
     "name": "stdin",
     "output_type": "stream",
     "text": [
      "메뉴를 선택하세요:  1\n"
     ]
    },
    {
     "name": "stdout",
     "output_type": "stream",
     "text": [
      "\n"
     ]
    },
    {
     "name": "stdin",
     "output_type": "stream",
     "text": [
      "할 일을 입력하세요:  노래듣기\n"
     ]
    },
    {
     "name": "stdout",
     "output_type": "stream",
     "text": [
      "할 일이 추가되었습니다.\n",
      "\n",
      "\n",
      "=== 김아람's 투두리스트 ===\n",
      "1. 할 일 추가\n",
      "2. 할 일 목록 보기\n",
      "3. 종료\n",
      "\n"
     ]
    },
    {
     "name": "stdin",
     "output_type": "stream",
     "text": [
      "메뉴를 선택하세요:  2\n"
     ]
    },
    {
     "name": "stdout",
     "output_type": "stream",
     "text": [
      "\n",
      "== 할 일 목록 ==\n",
      "1. [ ] 공부하기\n",
      "2. [ ] 노래듣기\n",
      "\n",
      "\n",
      "=== 김아람's 투두리스트 ===\n",
      "1. 할 일 추가\n",
      "2. 할 일 목록 보기\n",
      "3. 종료\n",
      "\n"
     ]
    },
    {
     "name": "stdin",
     "output_type": "stream",
     "text": [
      "메뉴를 선택하세요:  3\n"
     ]
    },
    {
     "name": "stdout",
     "output_type": "stream",
     "text": [
      "\n",
      "프로그램을 종료합니다.\n"
     ]
    }
   ],
   "source": [
    "app = TodoApp()\n",
    "app.run()"
   ]
  },
  {
   "cell_type": "code",
   "execution_count": null,
   "id": "2d56e7ff-d610-4ee7-bc72-b7bf72ec80fc",
   "metadata": {},
   "outputs": [],
   "source": []
  }
 ],
 "metadata": {
  "kernelspec": {
   "display_name": "Python [conda env:base] *",
   "language": "python",
   "name": "conda-base-py"
  },
  "language_info": {
   "codemirror_mode": {
    "name": "ipython",
    "version": 3
   },
   "file_extension": ".py",
   "mimetype": "text/x-python",
   "name": "python",
   "nbconvert_exporter": "python",
   "pygments_lexer": "ipython3",
   "version": "3.12.7"
  }
 },
 "nbformat": 4,
 "nbformat_minor": 5
}
