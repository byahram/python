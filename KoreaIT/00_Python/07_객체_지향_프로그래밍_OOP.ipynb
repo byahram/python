{
 "cells": [
  {
   "cell_type": "markdown",
   "id": "302f8b26-e0e0-439c-ba4f-e0f09f8f688d",
   "metadata": {},
   "source": [
    "# 객체 지향 프로그래밍(OOP)\n",
    "\n",
    "- 사람, 강아지, 자동차, 게임 캐릭터등 현실의 모든것을 \"객체\"라고 한다.\n",
    "- 그 객체들이 가진 속성(변수)와 행동(함수)을 정의해서 코드를 짜는 방식이다."
   ]
  },
  {
   "cell_type": "markdown",
   "id": "d04eaece-3fbb-49de-b40f-4c266c794fb2",
   "metadata": {},
   "source": [
    "## 주요 용어 정의\n",
    "\n",
    "1. **속성 (Attribute)**\n",
    "    - 객체가 가지고 있는 데이터(정보)를 의미한다.\n",
    "    - 즉, 객체의 특징이나 상태를 나타내는 변수이다.\n",
    "2. **메서드 (Method)**\n",
    "    - 객체가 할 수 잇는 동작(기능)을 의미한다.\n",
    "    - 즉, 클래스 안에 정의된 함수를 의미한다.\n",
    "3. **클래스 (Class)**\n",
    "    - 실제 동작하는 객체를 만들기 전에 어떤 속성과 행동을 가질지 미리 정의해 두는 것이다.\n",
    "4. **객체 (Object)**\n",
    "    - 클래스를 바탕으로 만들어진 실제 사용 가능한 존재"
   ]
  },
  {
   "cell_type": "markdown",
   "id": "d67911e8-ab7b-4218-ac52-66c7b5eeeb43",
   "metadata": {},
   "source": [
    "||||\n",
    "|---|---|---|\n",
    "|**클래스**|객체를 만들기 위한 설계도|레고 설계도 |\n",
    "|**객체**|클래스를 바탕으로 만들어진 실제 사용 가능한 존재|실제 조립된 레고|\n",
    "|**속성**|객체가 가지고 있는 정보/데이터|색상, 무기, 모델|\n",
    "|**메서드**|객체가 할 수 있는 행동/기능|공격하기, 날기, 변신하기|"
   ]
  },
  {
   "cell_type": "markdown",
   "id": "11f61407-b1bb-4103-85b2-c02c7e6427e4",
   "metadata": {},
   "source": [
    "## 객체 지향 프로그래밍의 4가지 특징\n",
    "\n",
    "1. 캡슐화 : 속성과 메서드를 하나로 묶고, 외부에서 직접 접근하지 못하게 보호하는 것\n",
    "2. 상속 : 기존 클래스의 속성과 메서드를 물려받아 새로운 클래스를 만드는것\n",
    "3. 다(多)형(形)성 : 같은 이름의 메서드가 상황에 따라 다르게 동작할 수 있는 성질\n",
    "4. 추상화 : 복잡한 내부 동작은 숨기고, 필요한 기능만 보여주는 것"
   ]
  },
  {
   "cell_type": "markdown",
   "id": "42debb50-5db9-4ac8-b57c-2ee102b9ce3a",
   "metadata": {},
   "source": [
    "## 클래스 문법\n",
    "\n",
    "* 클래스 외부에 있으면 함수 : 독립적으로 정의된 동작을 수행하는 코드 블록 \n",
    "* 클래스 내부에 있으면 메서드 : 클래스에 소속된 함수. 객체와 함께 동작한다.\n",
    "\n",
    "```\n",
    "class 클래스명 :\n",
    "    클래스 변수\t\n",
    "    생성자\n",
    "    메서드\n",
    "```"
   ]
  },
  {
   "cell_type": "markdown",
   "id": "bd4884ad-4d21-453e-8849-7f5ec1fb3774",
   "metadata": {},
   "source": [
    "## 메서드 문법\n",
    "\n",
    "* self \n",
    "    - 항상 첫 번째 매개변수로 들어가야만 한다.\n",
    "    - 메서드가 호출된 그 객체 자신을 가리킨다.\n",
    "    - 객체의 속성이나 다른 메서드에 접근할 수 있다.\n",
    "\n",
    "```\n",
    "class 클래스 이름 : \n",
    "    def 메서드이름(self, 매개벼수1, 매갠변수) :\n",
    "    실행할 코드\n",
    "```"
   ]
  },
  {
   "cell_type": "code",
   "execution_count": 16,
   "id": "cb253d21-c2fb-47f5-9ccc-27ec806210f1",
   "metadata": {},
   "outputs": [
    {
     "name": "stdout",
     "output_type": "stream",
     "text": [
      "안녕하세요!\n"
     ]
    }
   ],
   "source": [
    "# EX1.\n",
    "# Person 클래스 정의\n",
    "class Person :\n",
    "    # 메서드 정의 \n",
    "    def introduce(self) :\n",
    "        print(\"안녕하세요!\")\n",
    "\n",
    "minsu = Person()\n",
    "minsu.introduce()"
   ]
  },
  {
   "cell_type": "code",
   "execution_count": 18,
   "id": "857037c3-0867-44f8-9803-35dcbc45a0a2",
   "metadata": {},
   "outputs": [
    {
     "name": "stdout",
     "output_type": "stream",
     "text": [
      "동물이 소리를 냅니다.\n"
     ]
    }
   ],
   "source": [
    "# EX2.\n",
    "class Animal :\n",
    "    # 메서드 정의\n",
    "    def sound(self) :\n",
    "        print(\"동물이 소리를 냅니다.\")\n",
    "\n",
    "cat = Animal()\n",
    "cat.sound()"
   ]
  },
  {
   "cell_type": "code",
   "execution_count": 20,
   "id": "953b7edf-3224-4b58-b0ef-ae2191c5408d",
   "metadata": {},
   "outputs": [
    {
     "name": "stdout",
     "output_type": "stream",
     "text": [
      "안녕하세요 민수입니다.\n"
     ]
    }
   ],
   "source": [
    "# EX3. 메서드에 매개변수 추가\n",
    "class Person2 :\n",
    "    def introduce(self, name) :\n",
    "        print(f\"안녕하세요 {name}입니다.\")\n",
    "\n",
    "jihoon = Person2()\n",
    "jihoon.introduce(\"민수\")"
   ]
  },
  {
   "cell_type": "code",
   "execution_count": 22,
   "id": "e6db8ac0-7e91-48ff-9cbc-c5258ca0a42d",
   "metadata": {},
   "outputs": [
    {
     "name": "stdout",
     "output_type": "stream",
     "text": [
      "저의 울음 소리는 야옹입니다\n",
      "저의 울음 소리는 멍멍입니다\n"
     ]
    }
   ],
   "source": [
    "# EX4.\n",
    "class Animal2 : \n",
    "    def cry(self, sound) :\n",
    "        print(f\"저의 울음 소리는 {sound}입니다\")\n",
    "\n",
    "cat = Animal2().cry(\"야옹\")\n",
    "dog = Animal2().cry(\"멍멍\")"
   ]
  },
  {
   "cell_type": "code",
   "execution_count": 24,
   "id": "68a10994-4b0f-48bc-9304-7e8a5796b7e9",
   "metadata": {},
   "outputs": [
    {
     "name": "stdout",
     "output_type": "stream",
     "text": [
      "책 제목은 파이썬 입문입니다\n"
     ]
    }
   ],
   "source": [
    "# EX5.\n",
    "class Book :\n",
    "    def show_title(self, title) :\n",
    "        self.title = title\n",
    "        print(f\"책 제목은 {self.title}입니다\")\n",
    "\n",
    "book = Book()\n",
    "book.show_title(\"파이썬 입문\")\n",
    "\n",
    "# 클래스 안의 메서드가 자기 객체의 데이터를 사용할 때 쓰는 말이다."
   ]
  },
  {
   "cell_type": "code",
   "execution_count": 26,
   "id": "f36878ec-0a17-4ed3-a9c2-dcf8b41dcfd2",
   "metadata": {},
   "outputs": [
    {
     "name": "stdout",
     "output_type": "stream",
     "text": [
      "노란색 램프가 켜졌습니다.\n"
     ]
    }
   ],
   "source": [
    "# EX6.\n",
    "class Lamp :\n",
    "    def turn_on(self, color) :\n",
    "        self.color = color          # self.속성 = \"그 객체의 정보를 담고 있는 변수(상자)\"\n",
    "        print(f\"{self.color} 램프가 켜졌습니다.\")\n",
    "lamp = Lamp()\n",
    "lamp.turn_on(\"노란색\")"
   ]
  },
  {
   "cell_type": "code",
   "execution_count": 28,
   "id": "fbbe8901-f8d9-4fc3-b6fc-0463b53c091c",
   "metadata": {},
   "outputs": [
    {
     "name": "stdout",
     "output_type": "stream",
     "text": [
      "저는 지훈이고, 15살 입니다.\n"
     ]
    }
   ],
   "source": [
    "# EX7.\n",
    "class Student :\n",
    "    def introduce(self, name, age) :\n",
    "        self.name = name\n",
    "        self.age = age\n",
    "        print(f\"저는 {self.name}이고, {self.age}살 입니다.\")\n",
    "\n",
    "me = Student()\n",
    "me.introduce(\"지훈\", 15)"
   ]
  },
  {
   "cell_type": "code",
   "execution_count": 30,
   "id": "650f5d4d-feb9-453a-8fa4-557af9c13887",
   "metadata": {},
   "outputs": [
    {
     "name": "stdout",
     "output_type": "stream",
     "text": [
      "상자 안에 있는 물건 : \n",
      "- 연필\n",
      "- 지우개\n",
      "- 자\n"
     ]
    }
   ],
   "source": [
    "# EX8.\n",
    "class Box :\n",
    "    def show_items(self, items) :\n",
    "        self.items = items\n",
    "        print(\"상자 안에 있는 물건 : \")\n",
    "        for item in self.items :\n",
    "            print(\"-\", item)\n",
    "\n",
    "box = Box()\n",
    "box.show_items([\"연필\", \"지우개\", \"자\"])"
   ]
  },
  {
   "cell_type": "code",
   "execution_count": null,
   "id": "f72563db-a05e-42c2-81cc-77975521409f",
   "metadata": {},
   "outputs": [],
   "source": []
  }
 ],
 "metadata": {
  "kernelspec": {
   "display_name": "Python [conda env:base] *",
   "language": "python",
   "name": "conda-base-py"
  },
  "language_info": {
   "codemirror_mode": {
    "name": "ipython",
    "version": 3
   },
   "file_extension": ".py",
   "mimetype": "text/x-python",
   "name": "python",
   "nbconvert_exporter": "python",
   "pygments_lexer": "ipython3",
   "version": "3.12.7"
  }
 },
 "nbformat": 4,
 "nbformat_minor": 5
}
