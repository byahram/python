{
 "cells": [
  {
   "cell_type": "markdown",
   "id": "298d5352-ec05-4ecb-aa98-a8b7a6fcce29",
   "metadata": {},
   "source": [
    "# 파이썬 기본문법\n",
    "\n",
    "- 교재: Mentor Python\n",
    "1. python interpreter 설치\n",
    "    - https://www.python.org/downloads/  --> 버전 3.13.2\n",
    "2. jetbrain pycharm\n",
    "    - https://www.jetbrains.com/pycharm/download/?section=windows"
   ]
  },
  {
   "cell_type": "markdown",
   "id": "7dcd4c47-4283-4e7a-b09d-c042bf04252a",
   "metadata": {},
   "source": [
    "## 주석"
   ]
  },
  {
   "cell_type": "code",
   "execution_count": 3,
   "id": "52d6489a-d9c7-4c2c-9c33-5d658e68644c",
   "metadata": {},
   "outputs": [
    {
     "data": {
      "text/plain": [
       "'\\n여러줄 주석: 작은 따옴표로 감싸서 사용\\n'"
      ]
     },
     "execution_count": 3,
     "metadata": {},
     "output_type": "execute_result"
    }
   ],
   "source": [
    "# 한줄 주석: 메모장 같은 역할 (프로그램 실행에 영향을 주지 않는다.)\n",
    "\n",
    "\"\"\"\n",
    "여러줄 주석: 큰 따옴표로 감싸서 사용\n",
    "\"\"\"\n",
    "\n",
    "'''\n",
    "여러줄 주석: 작은 따옴표로 감싸서 사용\n",
    "'''"
   ]
  },
  {
   "cell_type": "markdown",
   "id": "da0bce96-e6b9-4890-9aca-a4e8eac5206c",
   "metadata": {},
   "source": [
    "## 실행문\n",
    "\n",
    "- 프로그램이 실제로 동작하면서 각종 작업을 수행하는 코드를 의미한다.\n",
    "- 즉, 개발자가 컴퓨터에게 내리는 명령이라고 할 수 있다."
   ]
  },
  {
   "cell_type": "code",
   "execution_count": 10,
   "id": "091d44d9-12a5-4985-9741-eabd1e7806cc",
   "metadata": {},
   "outputs": [
    {
     "name": "stdout",
     "output_type": "stream",
     "text": [
      "2025-03-13\n",
      "Hello World!\n"
     ]
    }
   ],
   "source": [
    "print(\"2025-03-13\")\n",
    "print(\"Hello World!\")"
   ]
  },
  {
   "cell_type": "markdown",
   "id": "72f6769f-3114-4844-b8f2-6a705c2d552c",
   "metadata": {},
   "source": [
    "## 변수 선언하기"
   ]
  },
  {
   "cell_type": "markdown",
   "id": "46b94c5f-4cd3-49f2-9fc9-2fb74260c728",
   "metadata": {},
   "source": [
    "### 변수 \n",
    "\n",
    "- 필요한 데이터를 메모리라는 임시 저장 공간에 저장한다.\n",
    "- 임시 저장 공간을 우리는 변수라고 한다. (즉, 데이터를 담아두는 상자)"
   ]
  },
  {
   "cell_type": "markdown",
   "id": "b6260f88-e997-47db-b169-5da12432ecf6",
   "metadata": {},
   "source": [
    "### 변수 선언하기\n",
    "\n",
    "- 프로그램에서 변수를 사용하려면 먼저 변수를 저장할 메모리에 공간을 확보해야 한다. (=변수를 선언한다)\n",
    "- 변수명(상자의 이름표) = 변수값(상자 안에 들어가는 값)\n",
    "- age = 20"
   ]
  },
  {
   "cell_type": "markdown",
   "id": "92d04606-5d39-40a9-bac8-a610766a7291",
   "metadata": {},
   "source": [
    "### 변수 이름 짓는 규칙\n",
    "\n",
    "- 영문, 한글, 숫자 사용 가능\n",
    "- 대소문자를 구분한다. (num, Num)\n",
    "- 변수명의 첫 글자는 숫자로 시작할 수 없다.\n",
    "- 언더바 \\_를 제외한 특수문자는 사용할 수 없다(!@^^)\n",
    "- 파이썬 예약어를 사용할 수 없다.\n",
    "- 띄어쓰기 불가능"
   ]
  },
  {
   "cell_type": "markdown",
   "id": "badb4f54-4dbf-47c1-8b54-ff98db27b6db",
   "metadata": {},
   "source": [
    "### 카멜 케이스 표기법\n",
    "\n",
    "- 두단어가 합쳐질 때, 두번째 단어의 첫 글자를 대문자로 작성한다. (firstName)"
   ]
  },
  {
   "cell_type": "code",
   "execution_count": 18,
   "id": "41e2dc64-b921-4ad6-844e-86a65f461eab",
   "metadata": {},
   "outputs": [
    {
     "name": "stdout",
     "output_type": "stream",
     "text": [
      "1\n",
      "10\n"
     ]
    }
   ],
   "source": [
    "num = 1\n",
    "print(num)\n",
    "\n",
    "firstName = 10\n",
    "print(firstName)"
   ]
  },
  {
   "cell_type": "markdown",
   "id": "7e4b2397-d461-49b3-ab22-e58e5b04a876",
   "metadata": {},
   "source": [
    "## 변수 자료형"
   ]
  },
  {
   "cell_type": "markdown",
   "id": "3d40cd54-f5bc-403f-a57c-e6a73edc10a2",
   "metadata": {},
   "source": [
    "### 1. int 정수형\n",
    "\n",
    "- 양의 정수 ,음의 정수, 그리고 0을 포함\n",
    "- ex) -1, 0, 1, 2, 3..."
   ]
  },
  {
   "cell_type": "code",
   "execution_count": 24,
   "id": "ee073a42-3334-418c-ae12-78309eeeac9c",
   "metadata": {},
   "outputs": [
    {
     "name": "stdout",
     "output_type": "stream",
     "text": [
      "100\n",
      "300\n",
      "400\n"
     ]
    }
   ],
   "source": [
    "# 예제 1\n",
    "num1 = 100      # int num1 = 100;\n",
    "num2 = 300      # int num2 = 300;\n",
    "print(num1)     # 100\n",
    "print(num2)     # 300\n",
    "print(num1 + num2)      # 400"
   ]
  },
  {
   "cell_type": "code",
   "execution_count": 26,
   "id": "c2489f92-05f4-4e18-b28c-da0a5d7ebda9",
   "metadata": {},
   "outputs": [
    {
     "name": "stdout",
     "output_type": "stream",
     "text": [
      "500\n",
      "200\n",
      "100000\n"
     ]
    }
   ],
   "source": [
    "# 예제 2\n",
    "a = 500     # int a = 500;\n",
    "b = 200     # int b = 200;\n",
    "print(a)\n",
    "print(b)\n",
    "print(a * b)"
   ]
  },
  {
   "cell_type": "code",
   "execution_count": 28,
   "id": "a86b3c06-51c2-4307-8040-feaa7f162420",
   "metadata": {},
   "outputs": [
    {
     "name": "stdout",
     "output_type": "stream",
     "text": [
      "400\n"
     ]
    }
   ],
   "source": [
    "# 예제 3\n",
    "# 위에서 이미 사용한 변수명은 아래에서 사용할 수 없다.\n",
    "# 사용을 하려면 값이 바뀌기 때문에 주의해야 한다.\n",
    "num3 = 100\n",
    "num4 = 300\n",
    "num5 = num3 + num4\n",
    "print(num5)"
   ]
  },
  {
   "cell_type": "code",
   "execution_count": 30,
   "id": "07fadb00-350a-4244-b9e4-ad9e18be8023",
   "metadata": {},
   "outputs": [
    {
     "name": "stdout",
     "output_type": "stream",
     "text": [
      "350\n"
     ]
    }
   ],
   "source": [
    "# 예제 4\n",
    "num6 = 500      # int num6 = 500;\n",
    "num7 = 150      # int num7 = 150\n",
    "num8 = num6 - num7      # int num8 = num6 - num7\n",
    "print(num8)"
   ]
  },
  {
   "cell_type": "code",
   "execution_count": 32,
   "id": "06271d9e-ee57-41a9-ad34-867908537dcb",
   "metadata": {},
   "outputs": [
    {
     "name": "stdout",
     "output_type": "stream",
     "text": [
      "100\n",
      "300\n",
      "\n",
      "300\n",
      "100\n"
     ]
    }
   ],
   "source": [
    "# 예제 5. 변수 값 변경\n",
    "num01 = 100\n",
    "num02 = 300\n",
    "print(num01)\n",
    "print(num02)\n",
    "print()\n",
    "\n",
    "temp = num01    # temp = 100\n",
    "num01 = num02   # num01 = 300\n",
    "num02 = temp    # num02 = 100\n",
    "\n",
    "print(num01)\n",
    "print(num02)"
   ]
  },
  {
   "cell_type": "code",
   "execution_count": 34,
   "id": "d1d36c83-6dd9-4682-8cc3-d5c73dd92ad2",
   "metadata": {},
   "outputs": [
    {
     "name": "stdout",
     "output_type": "stream",
     "text": [
      "400\n",
      "600\n",
      "\n",
      "600\n",
      "400\n"
     ]
    }
   ],
   "source": [
    "# 예제 6. 변수 값 변경\n",
    "c = 400\n",
    "d = 600\n",
    "\n",
    "print(c)\n",
    "print(d)\n",
    "print()\n",
    "\n",
    "temp2 = c\n",
    "c = d\n",
    "d = temp2\n",
    "\n",
    "print(c)\n",
    "print(d)"
   ]
  },
  {
   "cell_type": "markdown",
   "id": "e91707b6-996e-47ee-900b-581d21f74173",
   "metadata": {},
   "source": [
    "### 2. float 실수형\n",
    "\n",
    "- 소수와 지수로 구성된 수를 나타내는 자료형\n",
    "- ex) 3.14, 3.15 "
   ]
  },
  {
   "cell_type": "code",
   "execution_count": 37,
   "id": "9d829b59-2dce-45fb-b3e7-c677eec0dfd6",
   "metadata": {},
   "outputs": [
    {
     "name": "stdout",
     "output_type": "stream",
     "text": [
      "f01 = 30.5\n",
      "f02 = 25.3\n",
      "firstFloat = 3.14\n"
     ]
    }
   ],
   "source": [
    "# 예제 1\n",
    "f01 = 30.5      # float f01 = 30.5\n",
    "f02 = 25.3      # float f02 = 25.3\n",
    "print(\"f01 =\", f01)\n",
    "print(\"f02 =\", f02)\n",
    "\n",
    "firstFloat = 3.14\n",
    "print(\"firstFloat =\", firstFloat)"
   ]
  },
  {
   "cell_type": "code",
   "execution_count": 39,
   "id": "5fc0eb62-19bf-493d-a763-1dbd31101dc6",
   "metadata": {},
   "outputs": [
    {
     "name": "stdout",
     "output_type": "stream",
     "text": [
      "4.0\n",
      "3.9099999999999997\n"
     ]
    }
   ],
   "source": [
    "# 예제 2\n",
    "x = 1.7\n",
    "y = 2.3\n",
    "print(x + y)\n",
    "print(x * y)"
   ]
  },
  {
   "cell_type": "markdown",
   "id": "fe1e4fe2-8150-4672-b6c3-ec6438fd5365",
   "metadata": {},
   "source": [
    "### 3. bool 논리형\n",
    "\n",
    "- True 혹은 False의 두 가지 값만 가질 수 있다.\n",
    "- ex) True(참), False(거짓)"
   ]
  },
  {
   "cell_type": "code",
   "execution_count": 42,
   "id": "5fb7ea0a-e335-4f26-8481-3c64a086d015",
   "metadata": {},
   "outputs": [
    {
     "name": "stdout",
     "output_type": "stream",
     "text": [
      "True\n"
     ]
    }
   ],
   "source": [
    "# 예제 1\n",
    "k = 100\n",
    "j = 99\n",
    "result = k > j\n",
    "print(result)"
   ]
  },
  {
   "cell_type": "code",
   "execution_count": 44,
   "id": "7b4463e4-a7c3-4c8c-85da-8b3f50a5cb0d",
   "metadata": {},
   "outputs": [
    {
     "name": "stdout",
     "output_type": "stream",
     "text": [
      "True\n"
     ]
    }
   ],
   "source": [
    "# 예제 2\n",
    "n01 = 50\n",
    "n02 = 75\n",
    "result2 = n01 < n02\n",
    "print(result2)"
   ]
  },
  {
   "cell_type": "markdown",
   "id": "8cd96af4-2ca3-4d02-bdbc-a703e62d7d29",
   "metadata": {},
   "source": [
    "### 4. string 문자열\n",
    "\n",
    "- 텍스트를 표현하는 데 사용되는 자료형\n",
    "- 작은 따옴표 '', 큰 따옴표 \"\", 삼중 따옴표를 사용한다\n",
    "- ex) name = \"Kim\", name = 'Kim'"
   ]
  },
  {
   "cell_type": "code",
   "execution_count": 48,
   "id": "a52d6d06-16df-4edf-8c82-87207c55bc29",
   "metadata": {},
   "outputs": [
    {
     "name": "stdout",
     "output_type": "stream",
     "text": [
      "Kim\n"
     ]
    }
   ],
   "source": [
    "# 예제 1\n",
    "namee = \"Kim\"       # string name = \"Kim\"\n",
    "print(namee)"
   ]
  },
  {
   "cell_type": "code",
   "execution_count": 50,
   "id": "9d59b302-6687-4f6a-b33f-c8508f45bc1c",
   "metadata": {},
   "outputs": [
    {
     "name": "stdout",
     "output_type": "stream",
     "text": [
      "Cat\n"
     ]
    }
   ],
   "source": [
    "# 예제 2\n",
    "animal = \"Cat\"\n",
    "print(animal)"
   ]
  },
  {
   "cell_type": "code",
   "execution_count": 52,
   "id": "8149f1b2-f09e-4371-9da6-1ac433e02f22",
   "metadata": {},
   "outputs": [
    {
     "name": "stdout",
     "output_type": "stream",
     "text": [
      "gildongHong\n"
     ]
    }
   ],
   "source": [
    "# 예제 3. 문자열 합치기\n",
    "f_Name = \"gildong\"\n",
    "l_Name = \"Hong\"\n",
    "full_Name = f_Name + l_Name\n",
    "print(full_Name)"
   ]
  },
  {
   "cell_type": "code",
   "execution_count": 54,
   "id": "a5309968-ceeb-425b-a8c9-2c4e7a6e5175",
   "metadata": {},
   "outputs": [
    {
     "name": "stdout",
     "output_type": "stream",
     "text": [
      "안녕하세요안녕하세요안녕하세요\n"
     ]
    }
   ],
   "source": [
    "# 예제 4. 문자열 반복하기\n",
    "hello = \"안녕하세요\"\n",
    "print(hello * 3)        # 나눗셈은 불가능하다(덧셈, 곱셈은 가능)"
   ]
  },
  {
   "cell_type": "code",
   "execution_count": null,
   "id": "818d312b-ade2-4a1c-8216-f0e3b5e03b18",
   "metadata": {},
   "outputs": [],
   "source": []
  }
 ],
 "metadata": {
  "kernelspec": {
   "display_name": "Python [conda env:base] *",
   "language": "python",
   "name": "conda-base-py"
  },
  "language_info": {
   "codemirror_mode": {
    "name": "ipython",
    "version": 3
   },
   "file_extension": ".py",
   "mimetype": "text/x-python",
   "name": "python",
   "nbconvert_exporter": "python",
   "pygments_lexer": "ipython3",
   "version": "3.12.7"
  }
 },
 "nbformat": 4,
 "nbformat_minor": 5
}
