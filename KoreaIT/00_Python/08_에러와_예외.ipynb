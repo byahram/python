{
 "cells": [
  {
   "cell_type": "markdown",
   "id": "04717896-bc8a-4aca-ad38-231966c3c2c2",
   "metadata": {},
   "source": [
    "# 에러와 예외"
   ]
  },
  {
   "cell_type": "markdown",
   "id": "8bee457c-db3e-4076-b93d-14a8a77cfaa1",
   "metadata": {},
   "source": [
    "## 에러\n",
    "\n",
    "- 프로그래밍 도중 발생하는 문제\n",
    "- 아예 실행 자체가 되지 않는 것\n",
    "- ex) 괄호 빼먹음, 들여쓰기 오류"
   ]
  },
  {
   "cell_type": "markdown",
   "id": "2f3c3a0d-aea9-4b94-9055-2e38da16e80f",
   "metadata": {},
   "source": [
    "## 예외\n",
    "\n",
    "- 문법은 맞지만, 실행 도중 발생하는 오류\n",
    "- 코드는 실행 되지만 중간에 멈추는 것\n",
    "- 0으로 나누기, 없는 파일 열기 등"
   ]
  },
  {
   "cell_type": "markdown",
   "id": "001f18a0-4f7e-41a4-b520-4c91829cd6ad",
   "metadata": {},
   "source": [
    "## 예외 클래스 12가지 예외 클래스\n",
    "\n",
    "1. 최상위 예외 클래스 : BaseException\n",
    "2. 대부분 예외 클래스의 슈퍼 클래스 : Exception\n",
    "3. 산술 연산 오류 : ArithmeticError\n",
    "4. 잘못된 속성 참조 : AttributeError\n",
    "5. 파일에서 더 이상 읽을 데이터가 없음 : EOError\n",
    "6. import할 모듈이 없을 때 : ModuleNotFoundError\n",
    "7. 존재하지 않은 파일 : FileNotFoundError\n",
    "8. 잘못된 인덱스 사용 : IndexError\n",
    "9. 잘못된 이름(변수) 사용 : NameError\n",
    "10. 문법 오류 : SyntaxError\n",
    "11. 계산하려는 데이터의 유형 오류 : TypeError\n",
    "12. 계산하려는 데이터의 값 오류 : ValueError "
   ]
  },
  {
   "cell_type": "code",
   "execution_count": 5,
   "id": "0cf91a39-4fe1-467a-8c1d-45affb4db7b1",
   "metadata": {},
   "outputs": [
    {
     "name": "stdin",
     "output_type": "stream",
     "text": [
      "첫번째 정수를 입력하세요 >>  5\n",
      "두번째 정수를 입력하세요 >>  -0\n"
     ]
    },
    {
     "name": "stdout",
     "output_type": "stream",
     "text": [
      "0으로 나눌수 없습니다.\n"
     ]
    }
   ],
   "source": [
    "# EX1.\n",
    "# 사용자 입력 기반 나눗셈\n",
    "num1 = int(input(\"첫번째 정수를 입력하세요 >> \"))\n",
    "num2 = int(input(\"두번째 정수를 입력하세요 >> \"))\n",
    "\n",
    "if num2 == 0 :\n",
    "    print(\"0으로 나눌수 없습니다.\")\n",
    "else :\n",
    "    print(\"num1 / num2 =\", num1 / num2)"
   ]
  },
  {
   "cell_type": "code",
   "execution_count": 9,
   "id": "020277f5-e4cd-4f73-ae3e-81e804528511",
   "metadata": {},
   "outputs": [
    {
     "name": "stdout",
     "output_type": "stream",
     "text": [
      "fruits 리스트 출력 : ['사과', '바나나', '포도', '딸기']\n"
     ]
    },
    {
     "name": "stdin",
     "output_type": "stream",
     "text": [
      "몇번째 과일이 보고 싶습니까? (0부터 시작) >>  6\n"
     ]
    },
    {
     "name": "stdout",
     "output_type": "stream",
     "text": [
      "리스트 범위가 벗어납니다.\n"
     ]
    }
   ],
   "source": [
    "# EX2.\n",
    "fruits = [\"사과\", \"바나나\", \"포도\", \"딸기\"]\n",
    "print(\"fruits 리스트 출력 :\", fruits)\n",
    "\n",
    "idx = int(input(\"몇번째 과일이 보고 싶습니까? (0부터 시작) >> \"))\n",
    "if idx < len(fruits) :\n",
    "    print(f\"{idx}. {fruits[idx]}\")\n",
    "else :\n",
    "    print(\"리스트 범위가 벗어납니다.\")"
   ]
  },
  {
   "cell_type": "markdown",
   "id": "cf1a6318-2745-43d0-8f7d-aa4a381e3047",
   "metadata": {},
   "source": [
    "## try-except\n",
    "\n",
    ": 예외 상황을 처리하는데 가장 기본적으로 사용되는 구문이다."
   ]
  },
  {
   "cell_type": "markdown",
   "id": "74c3dafc-464d-4e33-9e98-8240742e15f3",
   "metadata": {},
   "source": [
    "#### 문법\n",
    "\n",
    "```\n",
    "try :\n",
    "    # 예외가 발생할 수 있는 코드 블록\n",
    "except:\n",
    "    # 예외가 발생했을 떄 수행되는 코드 블록\n",
    "```"
   ]
  },
  {
   "cell_type": "markdown",
   "id": "ff814804-c4b1-4650-8879-2745da8f2f3c",
   "metadata": {},
   "source": [
    "#### 예외에 따라 메시지를 변경하는 기본 형태\n",
    "\n",
    "```\n",
    "try :\n",
    "    # 예외가 발생할 수 있는 코드 블록\n",
    "except [발생 예외1] :\n",
    "    [발생 예외1]에 해당하면 수행되는 코드 블록\n",
    "except [발생 예외2] :\n",
    "    [발생 예외2]에 해당하면 수행되는 코드 블록\n",
    "```"
   ]
  },
  {
   "cell_type": "code",
   "execution_count": 15,
   "id": "27ac1f55-15b8-492b-a774-062e4d7da060",
   "metadata": {},
   "outputs": [
    {
     "name": "stdin",
     "output_type": "stream",
     "text": [
      "첫번째 정수를 입력하세요 >>  45\n",
      "두번째 정수를 입력하세요 >>  1.2\n"
     ]
    },
    {
     "name": "stdout",
     "output_type": "stream",
     "text": [
      "예외가 발생했습니다.\n"
     ]
    }
   ],
   "source": [
    "# EX1.\n",
    "try :\n",
    "    num1 = int(input(\"첫번째 정수를 입력하세요 >> \"))\n",
    "    num2 = int(input(\"두번째 정수를 입력하세요 >> \"))\n",
    "    print(\"num1 / num2 =\", num1 / num2)\n",
    "\n",
    "except :\n",
    "    print(\"예외가 발생했습니다.\")"
   ]
  },
  {
   "cell_type": "code",
   "execution_count": 17,
   "id": "6dce9027-b2b9-47c1-afc2-50915b4e663b",
   "metadata": {},
   "outputs": [
    {
     "name": "stdin",
     "output_type": "stream",
     "text": [
      "나이를 입력해 주세요. >>  3.2\n"
     ]
    },
    {
     "name": "stdout",
     "output_type": "stream",
     "text": [
      "예외가 발생했습니다.\n"
     ]
    }
   ],
   "source": [
    "# EX2.\n",
    "try :\n",
    "    age = int(input(\"나이를 입력해 주세요. >> \"))\n",
    "    print(\"입력된 나이\", age)\n",
    "except :\n",
    "    print(\"예외가 발생했습니다.\")"
   ]
  },
  {
   "cell_type": "code",
   "execution_count": 19,
   "id": "347549d4-82c0-45d5-83e3-ff1dcb12c821",
   "metadata": {},
   "outputs": [
    {
     "name": "stdin",
     "output_type": "stream",
     "text": [
      "숫자를 입력하세요. >>  5\n"
     ]
    },
    {
     "name": "stdout",
     "output_type": "stream",
     "text": [
      "1번째 : 안녕하세요!\n",
      "2번째 : 안녕하세요!\n",
      "3번째 : 안녕하세요!\n",
      "4번째 : 안녕하세요!\n",
      "5번째 : 안녕하세요!\n"
     ]
    }
   ],
   "source": [
    "# EX3. 사용자 입력 숫자만큼 반복 출력 예제\n",
    "try :\n",
    "    count = int(input(\"숫자를 입력하세요. >> \"))\n",
    "\n",
    "    for i in range(0, count) :\n",
    "        print(f\"{i + 1}번째 : 안녕하세요!\")\n",
    "except:\n",
    "    print(\"정수가 아닙니다.\")"
   ]
  },
  {
   "cell_type": "code",
   "execution_count": 21,
   "id": "115c20b4-4f28-4300-9e4e-efae2e6eedb5",
   "metadata": {},
   "outputs": [
    {
     "name": "stdin",
     "output_type": "stream",
     "text": [
      "첫번째 정수를 입력하세요 >>  5\n",
      "두번째 정수를 입력하세요 >>  9.9\n"
     ]
    },
    {
     "name": "stdout",
     "output_type": "stream",
     "text": [
      "입력값 예외가 발생했습니다.\n"
     ]
    }
   ],
   "source": [
    "# EX4.\n",
    "try :\n",
    "    num1 = int(input(\"첫번째 정수를 입력하세요 >> \"))\n",
    "    num2 = int(input(\"두번째 정수를 입력하세요 >> \"))\n",
    "    print(\"num1 / num2 =\", num1 / num2)\n",
    "\n",
    "# 산술 연산 예외 처리 클래스\n",
    "except ArithmeticError:\n",
    "    print(\"산술 연산 예외가 발생했습니다.\")\n",
    "\n",
    "# 입력값 예외\n",
    "except ValueError :\n",
    "    print(\"입력값 예외가 발생했습니다.\")"
   ]
  },
  {
   "cell_type": "code",
   "execution_count": 23,
   "id": "46d8e009-d198-40a5-95ec-ab451561778a",
   "metadata": {},
   "outputs": [
    {
     "name": "stdin",
     "output_type": "stream",
     "text": [
      "인덱스 값을 입력하세요. >>  9\n"
     ]
    },
    {
     "name": "stdout",
     "output_type": "stream",
     "text": [
      "인덱스 범위를 벗어났습니다.\n"
     ]
    }
   ],
   "source": [
    "# EX5.\n",
    "fruitsList = [\"체리\", \"바나나\", \"딸기\", \"블루베리\"]\n",
    "try :\n",
    "    idx = int(input(\"인덱스 값을 입력하세요. >> \"))\n",
    "    print(f\"{idx}. {fruitsList[idx]}\")\n",
    "\n",
    "except IndexError :\n",
    "    print(\"인덱스 범위를 벗어났습니다.\")\n",
    "\n",
    "except ValueError :\n",
    "    print(\"입력값 예외가 발생했습니다.\")"
   ]
  },
  {
   "cell_type": "markdown",
   "id": "b1af1f13-0138-4170-9183-545fc8698327",
   "metadata": {},
   "source": [
    "## try-except, as\n",
    "\n",
    "- try-except[발생 예외] as 예외 메시지 변수\n",
    "- 예외가 발생했을 때 그 메시지를 변수에 담아 활용하고 싶을 때 사용한다."
   ]
  },
  {
   "cell_type": "markdown",
   "id": "74824d3c-b47f-4044-972f-4b6d59707837",
   "metadata": {},
   "source": [
    "#### 문법\n",
    "\n",
    "```\n",
    "try :\n",
    "    # 예외가 발생할 가능성이 있는 코드\n",
    "except 예외 클래스 as 변수 :\n",
    "    # 예외 메시지를 변수로 받아서 처리하는 코드\n",
    "```"
   ]
  },
  {
   "cell_type": "markdown",
   "id": "1f39cc1c-003a-4a44-92c9-680f46255ab5",
   "metadata": {},
   "source": [
    "#### 언제 쓰면 좋을까?\n",
    "\n",
    "- 로그 기록할 때\n",
    "- 사용자에게 더 정확한 피드백을 줄때\n",
    "- 디버깅용으로 예외 메시지를 확인하고 싶을떄"
   ]
  },
  {
   "cell_type": "code",
   "execution_count": 31,
   "id": "7e321e10-8627-4d54-b7c0-5be15d109a42",
   "metadata": {},
   "outputs": [
    {
     "name": "stdin",
     "output_type": "stream",
     "text": [
      "첫번째 정수를 입력하세요 >>  4\n",
      "두번째 정수를 입력하세요 >>  4.4\n"
     ]
    },
    {
     "name": "stdout",
     "output_type": "stream",
     "text": [
      "입력값 예외가 발생했습니다.\n",
      "invalid literal for int() with base 10: '4.4'\n"
     ]
    }
   ],
   "source": [
    "# EX1. as절을 사용하여 예외 메시지 출력하기\n",
    "try :\n",
    "    num1 = int(input(\"첫번째 정수를 입력하세요 >> \"))\n",
    "    num2 = int(input(\"두번째 정수를 입력하세요 >> \"))\n",
    "    print(\"num1 / num2 =\", num1 / num2)\n",
    "\n",
    "except ArithmeticError as e:        # e 변수에 예외 객체를 저장\n",
    "    print(\"산술 연산 예외가 발생했습니다.\")\n",
    "    print(e)\n",
    "\n",
    "except ValueError as e :\n",
    "    print(\"입력값 예외가 발생했습니다.\")\n",
    "    print(e)"
   ]
  },
  {
   "cell_type": "code",
   "execution_count": 33,
   "id": "c10829f8-443d-4c46-a757-1e27d6fd4b5c",
   "metadata": {},
   "outputs": [
    {
     "name": "stdin",
     "output_type": "stream",
     "text": [
      "나이를 입력해 주세요. >>  5.5\n"
     ]
    },
    {
     "name": "stdout",
     "output_type": "stream",
     "text": [
      "입력값 예외가 발생했습니다.\n",
      "Error : invalid literal for int() with base 10: '5.5'\n"
     ]
    }
   ],
   "source": [
    "# EX2.\n",
    "try :\n",
    "    age = int(input(\"나이를 입력해 주세요. >> \"))\n",
    "    print(\"입력된 나이\", age)\n",
    "\n",
    "except ValueError as e :\n",
    "    print(\"입력값 예외가 발생했습니다.\")\n",
    "    print(\"Error :\", e)"
   ]
  },
  {
   "cell_type": "code",
   "execution_count": 35,
   "id": "018b8ca1-f725-47ac-af01-6f00ea563708",
   "metadata": {},
   "outputs": [
    {
     "name": "stdin",
     "output_type": "stream",
     "text": [
      "인덱스를 입력해 주세요. >>  9\n"
     ]
    },
    {
     "name": "stdout",
     "output_type": "stream",
     "text": [
      "인덱스를 벗어났습니다.\n"
     ]
    }
   ],
   "source": [
    "# EX3.\n",
    "carList = [\"현대\", \"기아\", \"테슬라\", \"BMW\"]\n",
    "try :\n",
    "    idx = int(input(\"인덱스를 입력해 주세요. >> \"))\n",
    "    print(f\"{idx}. {carList[idx]}\")\n",
    "    \n",
    "except IndexError as e :\n",
    "    print(\"인덱스를 벗어났습니다.\")\n",
    "    \n",
    "except ValueError as e :\n",
    "    print(\"입력값 예외가 발생했습니다.\")"
   ]
  },
  {
   "cell_type": "markdown",
   "id": "a983ae35-b87a-41c0-aa71-6da9fc308ee9",
   "metadata": {},
   "source": [
    "## try-finally, else\n",
    "\n",
    "- finally : try 블록에서 예외 발생 여부와 상관없이 항상 실행되는 코드"
   ]
  },
  {
   "cell_type": "code",
   "execution_count": 38,
   "id": "342cfa9c-c521-4679-aa7e-00dd03085cfc",
   "metadata": {},
   "outputs": [
    {
     "name": "stdout",
     "output_type": "stream",
     "text": [
      "list index out of range\n",
      "안녕하세요\n"
     ]
    }
   ],
   "source": [
    "# EX1.\n",
    "try :\n",
    "    list = [1, 2, 3, 4]\n",
    "    print(list[5])  # 예외 발생 시점\n",
    "    print(\"try 구문 안에 예외 발생 후 코드\")\n",
    "\n",
    "except IndexError as e :\n",
    "    print(e)\n",
    "\n",
    "finally :       # 예외 발생과 상관없이 항상 실행되는 코드 블록\n",
    "    print(\"안녕하세요\")"
   ]
  },
  {
   "cell_type": "markdown",
   "id": "70871d13-b554-4d75-8a49-6b86e3cb4988",
   "metadata": {},
   "source": [
    "## KeyError\n",
    "\n",
    ": 딕셔너리에 존재하지 않는 \"키(key)를 사용해서 값을 꺼내려고 할때 발생하는 예외\""
   ]
  },
  {
   "cell_type": "markdown",
   "id": "333abd64-e1e7-45bc-9901-d25b4b7cf8f1",
   "metadata": {},
   "source": [
    "#### KeyError 자주 발생할 때\n",
    "\n",
    "1. 사용자 입력으로 키를 받을 때\n",
    "2. API 응답에서 특정 키를 기대할 때\n",
    "3. 반복문이나 조건문 없이 바로 키 접근할 때"
   ]
  },
  {
   "cell_type": "code",
   "execution_count": 42,
   "id": "87781317-795d-4c7c-8e0c-3c6179d6c528",
   "metadata": {},
   "outputs": [
    {
     "name": "stdout",
     "output_type": "stream",
     "text": [
      "Error : 'grade'\n",
      "프로그램을 종료합니다.\n"
     ]
    }
   ],
   "source": [
    "# EX1.\n",
    "try :\n",
    "    dic = {\n",
    "        \"name\" : \"지훈\",\n",
    "        \"age\" : 20,\n",
    "    }\n",
    "\n",
    "    # 예외 발생\n",
    "    print(dic[\"grade\"])\n",
    "    print(\"이 줄은 실행되지 않아요\")\n",
    "\n",
    "except KeyError as e :\n",
    "    print(\"Error :\", e)\n",
    "\n",
    "finally :\n",
    "    print(\"프로그램을 종료합니다.\")"
   ]
  },
  {
   "cell_type": "markdown",
   "id": "90455fd0-001a-4ee0-87e0-d027394b4fb2",
   "metadata": {},
   "source": [
    "## try-except-else"
   ]
  },
  {
   "cell_type": "markdown",
   "id": "ddb99e16-4f2d-48ca-8617-451ea07ceed8",
   "metadata": {},
   "source": [
    "#### 문법\n",
    "\n",
    "```\n",
    "try :\n",
    "except :\n",
    "else :  \n",
    "    # 정상적으로 실행되면 수행되는 코드 블록\n",
    "```"
   ]
  },
  {
   "cell_type": "markdown",
   "id": "8e9d7212-daf6-4f95-99a0-3b87b0fe0c21",
   "metadata": {},
   "source": [
    "#### 언제 쓰면 좋을까?\n",
    "\n",
    "- try 안에서 오류가 없을 때만\n",
    "- 실행할 후속 처리가 필요할 때\n",
    "- try 에는 위험한 코드만, else에는 안전한 코드만"
   ]
  },
  {
   "cell_type": "code",
   "execution_count": 47,
   "id": "db24f5f9-1e7c-42aa-af75-b72896ee8157",
   "metadata": {},
   "outputs": [
    {
     "name": "stdin",
     "output_type": "stream",
     "text": [
      "숫자 입력해주세요 >>  아ㅓ\n"
     ]
    },
    {
     "name": "stdout",
     "output_type": "stream",
     "text": [
      "숫자 아닌 값을 입력했습니다.\n"
     ]
    }
   ],
   "source": [
    "# EX1\n",
    "try :\n",
    "    num = int(input(\"숫자 입력해주세요 >> \"))\n",
    "except ValueError :\n",
    "    print(\"숫자 아닌 값을 입력했습니다.\")\n",
    "else :\n",
    "    print(f\"입력한 숫자는 {num}입니다\")"
   ]
  },
  {
   "cell_type": "code",
   "execution_count": 49,
   "id": "b5d69a65-f0fa-483c-bf8f-07887f7328f9",
   "metadata": {},
   "outputs": [
    {
     "name": "stdin",
     "output_type": "stream",
     "text": [
      "좋아하는 숫자를 입력하세요 >>  아\n"
     ]
    },
    {
     "name": "stdout",
     "output_type": "stream",
     "text": [
      "숫자 아닌 값을 입력했습니다.\n",
      "Error : invalid literal for int() with base 10: '아'\n"
     ]
    }
   ],
   "source": [
    "# EX2\n",
    "try :\n",
    "    num = int(input(\"좋아하는 숫자를 입력하세요 >> \"))\n",
    "except ValueError as e:\n",
    "    print(\"숫자 아닌 값을 입력했습니다.\")\n",
    "    print(\"Error :\", e)\n",
    "else :\n",
    "    if num > 0 :\n",
    "        print(\"양수를 좋아하시는군요\")\n",
    "    elif num == 0 :\n",
    "        print(\"0을 좋아하시는구요\")\n",
    "    else :\n",
    "        print(\"음수를 좋아하시는군요\")"
   ]
  },
  {
   "cell_type": "markdown",
   "id": "cf00be5b-2719-4aa2-b6a8-053df0e468c2",
   "metadata": {},
   "source": [
    "## 커스텀 예외 클래스\n",
    "\n",
    "- 강제로 예외 발생 시키는 raise\n",
    "    - (= 프로그래머가 직접 예외를 발생시키기 위해 사용하는 키워드)\n",
    "- 기본적으로  try 블록 안에서 쓰이며, 원하는 조건일 때 일부러 에러를 만들고 그 에러를 처리하도록 할 수 있다."
   ]
  },
  {
   "cell_type": "markdown",
   "id": "4844c336-702a-4f58-bc35-5afb622c373d",
   "metadata": {},
   "source": [
    "#### 문법\n",
    "\n",
    "- raise 예외 클래스(\"예외 메시지\")\n",
    "- 이 코드를 만나면 즉시 예외가 발생하고, 프로그램이 멈추거나 except로 넘어감"
   ]
  },
  {
   "cell_type": "markdown",
   "id": "61d3d858-f9d6-427b-9ba1-dbfd05402074",
   "metadata": {},
   "source": [
    "#### 언제 쓸까?\n",
    "\n",
    "|||\n",
    "|---|---|\n",
    "|사용자 입력 검증|나이가 0보다 작을 수 없을 떄|\n",
    "|함수 내부 조건 체크|파라미터(매개변수)가 비어있을때|\n",
    "|사용자 정의 예외와 함께 사용|직접 만든 예외 클래스와 raise|"
   ]
  },
  {
   "cell_type": "code",
   "execution_count": 54,
   "id": "93a11a76-1dc3-4887-9e2d-cfb89ce6fb8a",
   "metadata": {},
   "outputs": [
    {
     "name": "stdin",
     "output_type": "stream",
     "text": [
      "나이를 입력하세요 >>  .5\n"
     ]
    },
    {
     "name": "stdout",
     "output_type": "stream",
     "text": [
      "예외 발생 : invalid literal for int() with base 10: '.5'\n"
     ]
    }
   ],
   "source": [
    "# EX1. 조건에 따라 예외 발생\n",
    "try :\n",
    "    age = int(input(\"나이를 입력하세요 >> \"))\n",
    "    if age < 0:\n",
    "        raise ValueError(\"나이는 음수가 될 수 없다.\")\n",
    "except ValueError as e :\n",
    "    print(\"예외 발생 :\", e)\n",
    "else :\n",
    "    print(\"입력한 나이는 :\", age)"
   ]
  },
  {
   "cell_type": "code",
   "execution_count": 56,
   "id": "c7b1efac-c604-41f4-b48c-77ee3fe44fcf",
   "metadata": {},
   "outputs": [
    {
     "name": "stdin",
     "output_type": "stream",
     "text": [
      "몸무게를 입력하세요 >>  -5\n"
     ]
    },
    {
     "name": "stdout",
     "output_type": "stream",
     "text": [
      "예외 발생 : 0 이하입니다.\n"
     ]
    }
   ],
   "source": [
    "# EX2. 몸무게 입력 검사\n",
    "try :\n",
    "    weight = int(input(\"몸무게를 입력하세요 >> \"))\n",
    "    if weight < 0 :\n",
    "        raise ValueError(\"0 이하입니다.\")\n",
    "    \n",
    "except ValueError as e :\n",
    "    print(\"예외 발생 :\", e)\n",
    "\n",
    "else :\n",
    "    print(f\"입력한 몸무게는 {weight}kg 입니다.\")"
   ]
  },
  {
   "cell_type": "markdown",
   "id": "d2f1c5c5-7daf-4c74-accc-ae4995f0f6f2",
   "metadata": {},
   "source": [
    "## 사용자 정의 예외 클래스\n",
    "\n",
    "- 개발자가 직접 만든 상황에 맞는 예외를 정의하여 사용할 수 있다.\n",
    "- 기본 제공되는 예외(ValueError, IndexError 등) 외에.."
   ]
  },
  {
   "cell_type": "markdown",
   "id": "f9d32ff1-5200-4572-bcb1-4fb06df6681c",
   "metadata": {},
   "source": [
    "#### 문법\n",
    "\n",
    "```\n",
    "class 예외이름(Exception) :      #  Exception 클래스를 상속해서 새 예외 클래스를 만든다.\n",
    "    pass                        # 내용이 없어도 클래스 정읳를 허용해주는 예약어\n",
    "```"
   ]
  },
  {
   "cell_type": "markdown",
   "id": "c9efa0e1-620a-491e-bf8b-0a3052a34db3",
   "metadata": {},
   "source": [
    "#### 사용자 정의 예외가 좋은 경우\n",
    "\n",
    "1. 예외를 더 구체적이고 의미있게 표현할 수 있다.\n",
    "2. 큰 프로젝트에서 특정 상황만을 따로 처리할 수 있다.\n",
    "3. 가독성관 유지보수가 좋다."
   ]
  },
  {
   "cell_type": "markdown",
   "id": "65e5d574-bda1-498a-a775-0187e56f53c1",
   "metadata": {},
   "source": [
    "#### 사용자 정의 예외 클래스에 __init__()\n",
    "\n",
    "- 사용자 정의 예외 클래스에 __init__()을 추가해서 메시지를 커스터마이징할 수 있다.\n",
    "1. 왜 __init__()을 직접 정의할까?\n",
    "2. 에러 메시지를 더 유연하게 처리할 수 있다.\n",
    "3. 예외 객체 안에 추가 데이터도 담을 수 있다.\n",
    "\n",
    "\n",
    "```\n",
    "class 사용자정의예외(Exception) :\n",
    "    def __init__(self, 메시지)\n",
    "        self.message = 메시지      # 예외 객체에 메시지 저장\n",
    "        super().__init__(self.message)      # 부모 클래스 Exception에세 메시지 전달\n",
    "```"
   ]
  },
  {
   "cell_type": "code",
   "execution_count": 64,
   "id": "96e22a18-2b60-42ba-a948-b16e4d6823b2",
   "metadata": {},
   "outputs": [
    {
     "name": "stdin",
     "output_type": "stream",
     "text": [
      "나이를 입력하세요 >>  5\n"
     ]
    },
    {
     "name": "stdout",
     "output_type": "stream",
     "text": [
      "사용자 정의 예외 발생 : 10세 미만은 사용할 수 없습니다.\n"
     ]
    }
   ],
   "source": [
    "# EX1. 나이가 너무 적을 때 예외 발생시키기\n",
    "# 사용자 정의 예외 클래스 만들기\n",
    "\n",
    "class TooYoungError(Exception) :\n",
    "    pass\n",
    "\n",
    "try :\n",
    "    age = int(input(\"나이를 입력하세요 >> \"))\n",
    "    if age < 10 :\n",
    "        raise TooYoungError(\"10세 미만은 사용할 수 없습니다.\")\n",
    "    \n",
    "except TooYoungError as e :\n",
    "    print(\"사용자 정의 예외 발생 :\", e)\n",
    "\n",
    "except ValueError as e :\n",
    "    print(\"Error :\", e)"
   ]
  },
  {
   "cell_type": "markdown",
   "id": "f96603e3-e9a5-49ea-946d-b3c8f1e1f6f7",
   "metadata": {},
   "source": [
    "## message를 쓸 수 있는 이유?\n",
    "\n",
    "- Exception 클래스의 __init__() 메서드에는 message라는 이름의 매개변수는 없지만 *org로 받아서 메시지를 처리해주기 때문이다.\n",
    "- args는 \"개수가 정해지지 않은 여러 개의 인자(값)\"를 함수에 전달할 떄 사용하는 문자"
   ]
  },
  {
   "cell_type": "code",
   "execution_count": 67,
   "id": "6e0baab9-a57c-4fa6-95ba-fb07b3046a18",
   "metadata": {},
   "outputs": [
    {
     "name": "stdin",
     "output_type": "stream",
     "text": [
      "정수를 입력하세요 >>  55\n"
     ]
    },
    {
     "name": "stdout",
     "output_type": "stream",
     "text": [
      "사용자 정의 예외 발생 : 점수가 너무 낮습니다. : 55점 (최소 60점 필요)\n"
     ]
    }
   ],
   "source": [
    "# EX1.\n",
    "class TooLowScoreError(Exception) :\n",
    "    def __init__(self, score):\n",
    "        self.score = score\n",
    "        self.message = f\"점수가 너무 낮습니다. : {score}점 (최소 60점 필요)\"\n",
    "        super().__init__(self.message)\n",
    "\n",
    "try :\n",
    "    score = int(input(\"정수를 입력하세요 >> \"))\n",
    "    if score < 60 :\n",
    "        raise TooLowScoreError(score)\n",
    "\n",
    "except TooLowScoreError as e :\n",
    "    print(\"사용자 정의 예외 발생 :\", e)"
   ]
  },
  {
   "cell_type": "code",
   "execution_count": null,
   "id": "b9dbc944-81d7-4629-8e9b-7e777a6adb62",
   "metadata": {},
   "outputs": [],
   "source": []
  }
 ],
 "metadata": {
  "kernelspec": {
   "display_name": "Python [conda env:base] *",
   "language": "python",
   "name": "conda-base-py"
  },
  "language_info": {
   "codemirror_mode": {
    "name": "ipython",
    "version": 3
   },
   "file_extension": ".py",
   "mimetype": "text/x-python",
   "name": "python",
   "nbconvert_exporter": "python",
   "pygments_lexer": "ipython3",
   "version": "3.12.7"
  }
 },
 "nbformat": 4,
 "nbformat_minor": 5
}
