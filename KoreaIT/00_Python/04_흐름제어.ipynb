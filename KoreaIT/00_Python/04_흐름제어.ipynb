{
 "cells": [
  {
   "cell_type": "markdown",
   "id": "7ef29ec7-3a15-4c04-bb66-39f4c8c7db92",
   "metadata": {},
   "source": [
    "# 파이썬 흐름제어"
   ]
  },
  {
   "cell_type": "markdown",
   "id": "d8267ecd-cec6-4a75-abe2-73a5f6392b4e",
   "metadata": {},
   "source": [
    "## [ 조건문 ]\n",
    "\n",
    "- 프로그래밍에서 특정 조건에 따라 프로그램의 흐름을 제어하는 구문을 말한다.\n",
    "- if / else / elif"
   ]
  },
  {
   "cell_type": "markdown",
   "id": "18a57b46-de59-4486-b30e-1a493eaab552",
   "metadata": {},
   "source": [
    "#### 문법\n",
    "\n",
    "- 조건식이 참이면 아래 들여쓰기가 된 코드가 순차적으로 실행된다.\n",
    "\n",
    "```\n",
    "if 조건식 :\n",
    "    실행할 코드 1\n",
    "    실행할 코드 2\n",
    "    실행할 코드 3\n",
    "```"
   ]
  },
  {
   "cell_type": "markdown",
   "id": "63739151-12cd-4418-928f-bf4272126359",
   "metadata": {},
   "source": [
    "#### 주의\n",
    "\n",
    "- 파이썬은 들여쓰기가 중요한 언어이다.\n",
    "- 파이썬에서 들여쓰기는 코드의 블록을 구분하고 가독성을 높이는 데 중요한 역할을 한다.\n",
    "- {}: 다른언어, 파이썬은 코드 블록을 구성할 중괄호{}를 제공하지 않으므로 들여쓰기로 작성된 코드만을 실행 영역으로 판단하다."
   ]
  },
  {
   "cell_type": "markdown",
   "id": "b2df4acb-83e0-485e-9a4f-9983d49b00f4",
   "metadata": {},
   "source": [
    "## ▪️조건문: if\n",
    "\n",
    "```\n",
    "if 조건식 :\n",
    "    실행할 코드 1\n",
    "    실행할 코드 2\n",
    "    실행할 코드 3\n",
    "```"
   ]
  },
  {
   "cell_type": "code",
   "execution_count": 14,
   "id": "be7a195e-9cef-4772-bfe0-29e63b4b6552",
   "metadata": {},
   "outputs": [
    {
     "name": "stdout",
     "output_type": "stream",
     "text": [
      "7은 1보다 큽니다.\n"
     ]
    }
   ],
   "source": [
    "# 조건문(if) 예제 1\n",
    "if 7 > 1 :\n",
    "    print(\"7은 1보다 큽니다.\")"
   ]
  },
  {
   "cell_type": "code",
   "execution_count": 16,
   "id": "61bee2d5-36b8-434b-bce8-c76402105b28",
   "metadata": {},
   "outputs": [
    {
     "name": "stdout",
     "output_type": "stream",
     "text": [
      "2는 5보다 작습니다.\n"
     ]
    }
   ],
   "source": [
    "# 조건문(if) 예제 2\n",
    "if 2 > 5 :\n",
    "    print(\"2는 5보다 큽니다.\")\n",
    "else :\n",
    "    print(\"2는 5보다 작습니다.\")"
   ]
  },
  {
   "cell_type": "code",
   "execution_count": 18,
   "id": "ced732e6-bf7d-4d46-9431-3528c45fef7f",
   "metadata": {},
   "outputs": [
    {
     "name": "stdout",
     "output_type": "stream",
     "text": [
      "20세 이상입니다.\n"
     ]
    }
   ],
   "source": [
    "# 조건문(if) 예제 3\n",
    "age = 20\n",
    "if age >= 20 :\n",
    "    print(\"20세 이상입니다.\")"
   ]
  },
  {
   "cell_type": "markdown",
   "id": "8e4c9228-22e2-4bf1-86eb-929171d6f4fa",
   "metadata": {},
   "source": [
    "## ▪️조건문: if-else\n",
    "\n",
    "```\n",
    "if 조건식:\n",
    "    조건식이 참일 때 실행할 코드\n",
    "else :\n",
    "    조건식이 거짓일 때 실행할 코드\n",
    "```"
   ]
  },
  {
   "cell_type": "code",
   "execution_count": 9,
   "id": "f29b6ccc-3597-4e6e-9dbd-eaaf24a80603",
   "metadata": {},
   "outputs": [
    {
     "name": "stdout",
     "output_type": "stream",
     "text": [
      "저는 바나나를 좋아합니다.\n"
     ]
    }
   ],
   "source": [
    "# 예제 1\n",
    "fruit = \"바나나\"\n",
    "if fruit  == \"바나나\" :\n",
    "    print(\"저는 바나나를 좋아합니다.\")\n",
    "else :\n",
    "    print(\"저는 바나나를 좋아하지 않습니다.\")"
   ]
  },
  {
   "cell_type": "code",
   "execution_count": 11,
   "id": "88080bd5-033c-4e27-afc2-bd70a0e59318",
   "metadata": {},
   "outputs": [
    {
     "name": "stdout",
     "output_type": "stream",
     "text": [
      "숫자는 17입니다.\n"
     ]
    }
   ],
   "source": [
    "# 예제 2\n",
    "number = 17\n",
    "if number == 17 :\n",
    "    print(\"숫자는 17입니다.\")\n",
    "else :\n",
    "    print(\"숫자는 17이 아닙니다.\")"
   ]
  },
  {
   "cell_type": "code",
   "execution_count": 13,
   "id": "94da9328-e1b0-4cd5-8c43-f16e5e110d2a",
   "metadata": {},
   "outputs": [
    {
     "name": "stdout",
     "output_type": "stream",
     "text": [
      "20세 미만입니다.\n"
     ]
    }
   ],
   "source": [
    "# 예제 3\n",
    "age = 14\n",
    "if age >= 20:\n",
    "    print(\"20세 이상입니다.\")\n",
    "else :\n",
    "    print(\"20세 미만입니다.\")"
   ]
  },
  {
   "cell_type": "code",
   "execution_count": 15,
   "id": "a2df85ab-e6ca-4fcb-8663-aa921a86c09d",
   "metadata": {},
   "outputs": [
    {
     "name": "stdout",
     "output_type": "stream",
     "text": [
      "num은 7로 나누어 떨어집니다.\n"
     ]
    }
   ],
   "source": [
    "# 예제 4\n",
    "num = 49\n",
    "if num % 7 == 0 :\n",
    "    print(\"num은 7로 나누어 떨어집니다.\")\n",
    "else :\n",
    "    print(\"num은 7로 나누어 떨어지지 않습니다.\")"
   ]
  },
  {
   "cell_type": "code",
   "execution_count": 17,
   "id": "d73f9c41-e519-4e6b-a965-04de944e77a4",
   "metadata": {},
   "outputs": [
    {
     "name": "stdout",
     "output_type": "stream",
     "text": [
      "num2는 홀수입니다.\n"
     ]
    }
   ],
   "source": [
    "# 예제 5\n",
    "num2 = 19\n",
    "if num2 % 2 == 0 :\n",
    "    print(\"num2는 짝수입니다.\")\n",
    "else :\n",
    "    print(\"num2는 홀수입니다.\")"
   ]
  },
  {
   "cell_type": "markdown",
   "id": "d311d1b6-96b7-44c1-b832-06b06a3284cd",
   "metadata": {},
   "source": [
    "## ▪️조건문: if-elif-else\n",
    "\n",
    "- elif: 하나가 아닌 여러 개의 조건 식을 사용할 수 있는 문법\n",
    "\n",
    "```\n",
    "if 조건식1 :\n",
    "    조건식1이 참일 때\n",
    "elif 조건식2 :\n",
    "    조건식2가 참일 때\n",
    "elif 조건식3 :\n",
    "    조건식3이 참일 때\n",
    "else :\n",
    "    모든 조건이 거짓일 때\n",
    "```"
   ]
  },
  {
   "cell_type": "code",
   "execution_count": 21,
   "id": "f3c5397e-8be2-48cb-a691-3b25712e26a1",
   "metadata": {},
   "outputs": [
    {
     "name": "stdout",
     "output_type": "stream",
     "text": [
      "0입니다\n"
     ]
    }
   ],
   "source": [
    "# 예제 1\n",
    "num3 = 0\n",
    "if num3 > 0 :\n",
    "    print(\"양수입니다.\")\n",
    "elif num3 == 0 :\n",
    "    print(\"0입니다\")\n",
    "else :\n",
    "    print(\"음수입니다.\")"
   ]
  },
  {
   "cell_type": "code",
   "execution_count": 23,
   "id": "11f31462-3fab-4242-8e79-15b9f40389d4",
   "metadata": {},
   "outputs": [
    {
     "name": "stdout",
     "output_type": "stream",
     "text": [
      "B\n"
     ]
    }
   ],
   "source": [
    "# 예제 2\n",
    "score = 87\n",
    "if score >= 90 :\n",
    "    print(\"A\")\n",
    "elif score >= 80 :\n",
    "    print(\"B\")\n",
    "elif score >= 70 :\n",
    "    print(\"C\")\n",
    "else :\n",
    "    print(\"F\")"
   ]
  },
  {
   "cell_type": "code",
   "execution_count": 116,
   "id": "8320861f-75fa-475f-960a-50531ef352eb",
   "metadata": {},
   "outputs": [
    {
     "name": "stdout",
     "output_type": "stream",
     "text": [
      "짝수입니다.\n"
     ]
    }
   ],
   "source": [
    "# 예제 3\n",
    "num4 = 0\n",
    "if num4 % 2 == 0 :\n",
    "    print(\"짝수입니다.\")\n",
    "elif num4 % 2 == 1 :\n",
    "    print(\"홀수입니다.\")\n",
    "else :\n",
    "    print(\"0입니다.\")"
   ]
  },
  {
   "cell_type": "markdown",
   "id": "bf0c8f08-327a-4cce-affb-461217dbc6fd",
   "metadata": {},
   "source": [
    "### input()\n",
    "\n",
    "- 파이썬에서 사용자 입력을 받는 방법은 input() 합수를 사용\n",
    "- 문자 입력 받기\n",
    "    - name = input(\"이름을 입력하세요\")\n",
    "    - print(\"안녕하세요\", name, \"님!\")\n",
    "- 숫자 입력 받기\n",
    "    - 정수 > int(input(\"출력문\"))\n",
    "    - 실수 > float(input(\"출력문\"))"
   ]
  },
  {
   "cell_type": "code",
   "execution_count": 30,
   "id": "3b8a7b26-ad29-4271-85dc-9e6e8b7e6ab6",
   "metadata": {},
   "outputs": [
    {
     "name": "stdin",
     "output_type": "stream",
     "text": [
      "몇살입니까?? >>>  30\n"
     ]
    },
    {
     "name": "stdout",
     "output_type": "stream",
     "text": [
      "성인\n"
     ]
    }
   ],
   "source": [
    "# 예제 1\n",
    "age2 = int(input(\"몇살입니까?? >>> \"))\n",
    "if age2 <= 7 :\n",
    "    print(\"미취학\")\n",
    "elif age2 <= 13 :\n",
    "    print(\"초등학생\")\n",
    "elif age2 <= 16 :\n",
    "    print(\"중학생\")\n",
    "elif age2 <= 19 :\n",
    "    print(\"고등학생\")\n",
    "else :\n",
    "    print(\"성인\")"
   ]
  },
  {
   "cell_type": "code",
   "execution_count": 32,
   "id": "cd4dcc2d-985d-458a-9abe-2c3609753ddc",
   "metadata": {},
   "outputs": [
    {
     "name": "stdin",
     "output_type": "stream",
     "text": [
      "첫번째 숫자:  3\n",
      "두번째 숫자:  2\n"
     ]
    },
    {
     "name": "stdout",
     "output_type": "stream",
     "text": [
      "출력: >\n"
     ]
    }
   ],
   "source": [
    "# 예제 2\n",
    "A = int(input(\"첫번째 숫자: \"))\n",
    "B = int(input(\"두번째 숫자: \"))\n",
    "\n",
    "if A > B :\n",
    "    print(\"출력: >\")\n",
    "elif A < B :\n",
    "    print(\"출력: <\")\n",
    "elif A == B :\n",
    "    print(\"출력: =\")"
   ]
  },
  {
   "cell_type": "code",
   "execution_count": 34,
   "id": "e33063cd-0268-4f72-9397-db7da7e120e8",
   "metadata": {},
   "outputs": [
    {
     "name": "stdout",
     "output_type": "stream",
     "text": [
      "로그인 되었습니다.\n"
     ]
    }
   ],
   "source": [
    "# 예제 3\n",
    "id = \"korea\"\n",
    "password = 1234\n",
    "\n",
    "if id == \"korea\" and password == 1234 :\n",
    "    print(\"로그인 되었습니다.\")\n",
    "elif id == \"korea\" and password != 1234 :\n",
    "    print(\"비밀번호가 틀렸습니다.\")\n",
    "else :\n",
    "    print(\"회원 가입을 진행해 주세요.\")"
   ]
  },
  {
   "cell_type": "code",
   "execution_count": 36,
   "id": "a6b72932-e63f-4ba7-b705-ce3fe0dc7c7f",
   "metadata": {},
   "outputs": [
    {
     "name": "stdin",
     "output_type": "stream",
     "text": [
      "x좌표 :  5\n",
      "y좌표 :  -2\n"
     ]
    },
    {
     "name": "stdout",
     "output_type": "stream",
     "text": [
      "4\n"
     ]
    }
   ],
   "source": [
    "# 예제 4\n",
    "X = int(input(\"x좌표 : \"))\n",
    "Y = int(input(\"y좌표 : \"))\n",
    "\n",
    "if X > 0 and Y > 0 :\n",
    "    print(\"1\")\n",
    "elif X < 0 and Y > 0 :\n",
    "    print(\"2\")\n",
    "elif X < 0 and Y < 0 :\n",
    "    print(\"3\")\n",
    "elif X > 0 and Y < 0 :\n",
    "    print(\"4\")"
   ]
  },
  {
   "cell_type": "code",
   "execution_count": 38,
   "id": "ad8a72fe-1bee-410b-a70f-3e6be6939fb7",
   "metadata": {},
   "outputs": [
    {
     "name": "stdin",
     "output_type": "stream",
     "text": [
      "연도 :  2024\n"
     ]
    },
    {
     "name": "stdout",
     "output_type": "stream",
     "text": [
      "1\n"
     ]
    }
   ],
   "source": [
    "# 예제 5\n",
    "year = int(input(\"연도 : \"))\n",
    "\n",
    "if year % 4 == 0 and (year % 100 != 0 or year % 400 == 0) :\n",
    "    print(\"1\")\n",
    "else :\n",
    "    print(\"0\")"
   ]
  },
  {
   "cell_type": "markdown",
   "id": "96d806c2-eabb-4477-9959-2e0e666e7237",
   "metadata": {},
   "source": [
    "## [ 반복문 ]\n",
    "\n",
    "- 여러 줄의 코드 블록을 반복적으로 실행하는데 사용되는 제어 구조\n",
    "- 반복문을 사용하면 원하는 코드를 원하는 횟수만큼 반복하여 코드를 간결하게 작성하고 효율성을 높일 수 있다.\n",
    "- for문, while문"
   ]
  },
  {
   "cell_type": "markdown",
   "id": "cd38e8e8-f893-4945-b80e-31023ccc44fb",
   "metadata": {},
   "source": [
    "## ▪️반복문: while문\n",
    "\n",
    "- 반복 횟수를 미리 알 수 없는 경우에 사용\n",
    "- 조건이 참인 동안 계속해서 코드를 반복한다.\n",
    "- 조건이 거짓이 될 때까지 반복"
   ]
  },
  {
   "cell_type": "markdown",
   "id": "06eb2381-80cd-4601-8362-818ae9cda05b",
   "metadata": {},
   "source": [
    "- 조건 식이 true(참)이면 아래 들여쓰기가 되어있는 코드가 순차적으로 실행된다.\n",
    "    ```\n",
    "    while 조건식 :\n",
    "        조건식이 참이면 실행되는 코드\n",
    "    ```"
   ]
  },
  {
   "cell_type": "markdown",
   "id": "46c492a2-66d3-43dd-927c-74c986d54d64",
   "metadata": {},
   "source": [
    "- 무한 루프\n",
    "    ```\n",
    "    while True :\n",
    "        print(\"무한 반복한다\")\n",
    "    ```"
   ]
  },
  {
   "cell_type": "code",
   "execution_count": 52,
   "id": "e596bc5a-675c-436f-be58-ee55f055804b",
   "metadata": {},
   "outputs": [
    {
     "name": "stdout",
     "output_type": "stream",
     "text": [
      "1\n",
      "2\n",
      "3\n"
     ]
    }
   ],
   "source": [
    "# 예제 1\n",
    "count = 0\n",
    "while count < 3 :\n",
    "    count = count + 1\n",
    "    print(count)"
   ]
  },
  {
   "cell_type": "code",
   "execution_count": 54,
   "id": "38f251a7-4b8a-47d5-a7ce-d2cf83f56486",
   "metadata": {},
   "outputs": [
    {
     "name": "stdout",
     "output_type": "stream",
     "text": [
      "안녕하세요!\n",
      "안녕하세요!\n",
      "안녕하세요!\n"
     ]
    }
   ],
   "source": [
    "# 예제 2\n",
    "count2 = 0\n",
    "while count2 < 3 :\n",
    "    print(\"안녕하세요!\")\n",
    "    count2 += 1"
   ]
  },
  {
   "cell_type": "code",
   "execution_count": 56,
   "id": "9d9a585f-6965-427d-b2fd-7de5ec8d1f76",
   "metadata": {},
   "outputs": [
    {
     "name": "stdout",
     "output_type": "stream",
     "text": [
      "9\n",
      "8\n",
      "7\n",
      "6\n",
      "5\n"
     ]
    }
   ],
   "source": [
    "# 예제 3\n",
    "count3 = 9\n",
    "while count3 > 4 :\n",
    "    print(count3)\n",
    "    count3 -= 1"
   ]
  },
  {
   "cell_type": "code",
   "execution_count": 58,
   "id": "bfc9fb4d-82da-41f4-80d8-0f4fee322230",
   "metadata": {},
   "outputs": [
    {
     "name": "stdout",
     "output_type": "stream",
     "text": [
      "아이스크림을 사먹었습니다.\n",
      "아이스크림을 사먹었습니다.\n",
      "아이스크림을 사먹었습니다.\n"
     ]
    }
   ],
   "source": [
    "# 예제 4\n",
    "money = 5000\n",
    "while money >= 3000 :\n",
    "    print(\"아이스크림을 사먹었습니다.\")\n",
    "    money -= 1000"
   ]
  },
  {
   "cell_type": "code",
   "execution_count": 60,
   "id": "11ce6c06-f598-436a-8e8f-7519a7bd32e7",
   "metadata": {},
   "outputs": [
    {
     "name": "stdout",
     "output_type": "stream",
     "text": [
      "사탕을 1 개 사 먹었습니다.\n",
      "사탕을 2 개 사 먹었습니다.\n",
      "사탕을 3 개 사 먹었습니다.\n",
      "사탕을 4 개 사 먹었습니다.\n",
      "사탕을 5 개 사 먹었습니다.\n",
      "사탕을 6 개 사 먹었습니다.\n",
      "사탕을 7 개 사 먹었습니다.\n",
      "남은 돈:  100 원\n"
     ]
    }
   ],
   "source": [
    "# 예제 5\n",
    "money2 = 5000\n",
    "priceOfCandy = 700\n",
    "numOfCandy = 0\n",
    "\n",
    "while money2 >= 700:\n",
    "    money2 -= priceOfCandy\n",
    "    numOfCandy += 1\n",
    "    print(\"사탕을\", numOfCandy,  \"개 사 먹었습니다.\")\n",
    "print(\"남은 돈: \", money2, \"원\")"
   ]
  },
  {
   "cell_type": "code",
   "execution_count": 62,
   "id": "e9079d70-fb54-4602-944a-1cc453becb50",
   "metadata": {},
   "outputs": [
    {
     "name": "stdout",
     "output_type": "stream",
     "text": [
      "*\n",
      "**\n",
      "***\n",
      "****\n",
      "*****\n"
     ]
    }
   ],
   "source": [
    "# 예제 6. while문을 사용하여 별 찍기\n",
    "i = 1\n",
    "while i < 6 :\n",
    "    print(\"*\" * i)\n",
    "    i += 1"
   ]
  },
  {
   "cell_type": "code",
   "execution_count": 64,
   "id": "281c3ced-3f3c-460c-9198-957315e19158",
   "metadata": {},
   "outputs": [
    {
     "name": "stdout",
     "output_type": "stream",
     "text": [
      "*****\n",
      "****\n",
      "***\n",
      "**\n",
      "*\n"
     ]
    }
   ],
   "source": [
    "# 예제 7. while문을 사용하여 별 찍기\n",
    "i2 = 5\n",
    "while i2 > 0:\n",
    "    print(\"*\" * i2)\n",
    "    i2 -= 1"
   ]
  },
  {
   "cell_type": "markdown",
   "id": "ba5752d1-d365-4bce-acbb-7bd0d092850a",
   "metadata": {},
   "source": [
    "## ▪️반복문: break문\n",
    "\n",
    "- while문을 강제로 종료합니다.\n",
    "- while문 내에서 break를 만나면 ,즉시 while문을 벗어나 다음 코드블록으로 이동한다."
   ]
  },
  {
   "cell_type": "code",
   "execution_count": 94,
   "id": "92a69821-4e57-46b0-942e-83a715fffbde",
   "metadata": {},
   "outputs": [
    {
     "name": "stdout",
     "output_type": "stream",
     "text": [
      "0\n",
      "1\n",
      "2\n",
      "3\n",
      "4\n"
     ]
    }
   ],
   "source": [
    "# break문 예제 1\n",
    "count = 0\n",
    "while count < 10 :\n",
    "    print(count)\n",
    "    count += 1\n",
    "    if count == 5 :\n",
    "        break"
   ]
  },
  {
   "cell_type": "code",
   "execution_count": 96,
   "id": "820b085b-92d6-4c06-84e5-f25c5c9862a5",
   "metadata": {},
   "outputs": [
    {
     "name": "stdout",
     "output_type": "stream",
     "text": [
      "0\n",
      "2\n",
      "4\n",
      "6\n",
      "8\n",
      "10\n"
     ]
    }
   ],
   "source": [
    "# 예제 2\n",
    "count2 = 0\n",
    "while count2 <= 10 :\n",
    "    if count2 % 2 == 0 :\n",
    "        print(count2)\n",
    "    count2 += 1"
   ]
  },
  {
   "cell_type": "code",
   "execution_count": 98,
   "id": "12347303-d6da-4372-988b-7b3b7dd00de6",
   "metadata": {},
   "outputs": [
    {
     "name": "stdout",
     "output_type": "stream",
     "text": [
      "0\n",
      "2\n",
      "4\n",
      "6\n",
      "8\n",
      "10\n"
     ]
    }
   ],
   "source": [
    "# 예제 3\n",
    "count3 = 0\n",
    "while count3 <= 100 :\n",
    "    if count3 % 2 == 0 :\n",
    "        print(count3)\n",
    "    if count3 == 10 :\n",
    "        break\n",
    "    count3 += 1"
   ]
  },
  {
   "cell_type": "markdown",
   "id": "1bc75945-abc4-4a1e-b0e6-57e397334670",
   "metadata": {},
   "source": [
    "## ▪️반복문: continue문\n",
    "\n",
    "- while문의 처음 조건으로 이동한다.\n",
    "- while문 내에서 continue문을 만나면, 현재 반복을 건너뛰고 그 다음 반복으로 이동한다."
   ]
  },
  {
   "cell_type": "code",
   "execution_count": 101,
   "id": "bef65b80-cd93-4057-90c4-81a4aa8f95eb",
   "metadata": {},
   "outputs": [
    {
     "name": "stdout",
     "output_type": "stream",
     "text": [
      "1 2 4 5 7 8 10 11 13 14 16 17 19 20 "
     ]
    }
   ],
   "source": [
    "# 예제 1\n",
    "num = 0\n",
    "while num < 20 :\n",
    "    num += 1\n",
    "    if num % 3 == 0 :\n",
    "        continue\n",
    "    print(num, end=\" \")     # end = \" \" 숫자 사이에 띄어쓰기 하나를 추가한다. \n",
    "                            # end = \",\" 숫자 사이에 쉼표를 추가"
   ]
  },
  {
   "cell_type": "code",
   "execution_count": 103,
   "id": "9f23e51b-072a-43c5-ad3f-1554b19b2144",
   "metadata": {},
   "outputs": [
    {
     "name": "stdout",
     "output_type": "stream",
     "text": [
      "1 2 짝 4 5 짝 7 8 짝 10 11 짝 13 14 짝 16 17 짝 19 20 \n",
      "\n"
     ]
    }
   ],
   "source": [
    "# 예제 2\n",
    "num2 = 0\n",
    "while num2 < 20 :\n",
    "    num2 += 1\n",
    "    if num2 % 3 == 0 :\n",
    "        print(\"짝\", end = \" \")\n",
    "        continue\n",
    "    print(num2, end=\" \")\n",
    "print(\"\\n\")"
   ]
  },
  {
   "cell_type": "markdown",
   "id": "e9de37f8-46cc-487f-a579-cbe1cb32853f",
   "metadata": {},
   "source": [
    "## ▪️반복문: break문과 continue문"
   ]
  },
  {
   "cell_type": "code",
   "execution_count": 106,
   "id": "70eb0396-4f77-4f49-a954-094b032fec1c",
   "metadata": {},
   "outputs": [
    {
     "name": "stdout",
     "output_type": "stream",
     "text": [
      "1 2 4 5 7 8 10 11 13 14 16 \n",
      "\n"
     ]
    }
   ],
   "source": [
    "# 예제 1\n",
    "num3 = 0\n",
    "while num3 < 20 :\n",
    "    num3 += 1\n",
    "    if num3 % 3 == 0 :\n",
    "        continue\n",
    "    if num3 == 17 :\n",
    "        break\n",
    "    print(num3, end = \" \")\n",
    "print(\"\\n\")"
   ]
  },
  {
   "cell_type": "code",
   "execution_count": 108,
   "id": "28dabe55-6007-4880-9e0c-32e2a53fab99",
   "metadata": {},
   "outputs": [
    {
     "name": "stdout",
     "output_type": "stream",
     "text": [
      "2x1=2\n",
      "2x2=4\n",
      "2x3=6\n",
      "2x4=8\n",
      "2x5=10\n",
      "2x6=12\n",
      "2x7=14\n",
      "2x8=16\n",
      "2x9=18\n",
      "\n",
      "3x1=3\n",
      "3x2=6\n",
      "3x3=9\n",
      "3x4=12\n",
      "3x5=15\n",
      "3x6=18\n",
      "3x7=21\n",
      "3x8=24\n",
      "3x9=27\n",
      "\n",
      "4x1=4\n",
      "4x2=8\n",
      "4x3=12\n",
      "4x4=16\n",
      "4x5=20\n",
      "4x6=24\n",
      "4x7=28\n",
      "4x8=32\n",
      "4x9=36\n",
      "\n",
      "5x1=5\n",
      "5x2=10\n",
      "5x3=15\n",
      "5x4=20\n",
      "5x5=25\n",
      "5x6=30\n",
      "5x7=35\n",
      "5x8=40\n",
      "5x9=45\n",
      "\n",
      "6x1=6\n",
      "6x2=12\n",
      "6x3=18\n",
      "6x4=24\n",
      "6x5=30\n",
      "6x6=36\n",
      "6x7=42\n",
      "6x8=48\n",
      "6x9=54\n",
      "\n",
      "7x1=7\n",
      "7x2=14\n",
      "7x3=21\n",
      "7x4=28\n",
      "7x5=35\n",
      "7x6=42\n",
      "7x7=49\n",
      "7x8=56\n",
      "7x9=63\n",
      "\n",
      "8x1=8\n",
      "8x2=16\n",
      "8x3=24\n",
      "8x4=32\n",
      "8x5=40\n",
      "8x6=48\n",
      "8x7=56\n",
      "8x8=64\n",
      "8x9=72\n",
      "\n",
      "9x1=9\n",
      "9x2=18\n",
      "9x3=27\n",
      "9x4=36\n",
      "9x5=45\n",
      "9x6=54\n",
      "9x7=63\n",
      "9x8=72\n",
      "9x9=81\n",
      "\n",
      "\n",
      "\n"
     ]
    }
   ],
   "source": [
    "# 예제 2. while을 이용한 구구단\n",
    "dan = 2\n",
    "while dan <= 9 :\n",
    "    n = 1\n",
    "    while n <= 9 :\n",
    "        print(\"{}x{}={}\".format(dan, n, dan * n))\n",
    "        n += 1\n",
    "    print()\n",
    "    dan += 1\n",
    "print(\"\\n\")"
   ]
  },
  {
   "cell_type": "code",
   "execution_count": 111,
   "id": "724d9491-f0f2-47f3-93d5-6b0b58e8693d",
   "metadata": {},
   "outputs": [
    {
     "name": "stdout",
     "output_type": "stream",
     "text": [
      "*\n",
      "**\n",
      "***\n",
      "****\n",
      "*****\n"
     ]
    }
   ],
   "source": [
    "# 예제 3. 중첩 while을 이용한 별찍기\n",
    "row = 1\n",
    "while row < 6 :\n",
    "    star = 1\n",
    "    while star <= row :\n",
    "        print(\"*\", end=\"\")\n",
    "        star += 1\n",
    "    print()\n",
    "    row += 1"
   ]
  },
  {
   "cell_type": "markdown",
   "id": "dc2510dd-f664-453f-9c5a-134d56488331",
   "metadata": {},
   "source": [
    "## ▪️반복문: for문\n",
    "\n",
    "- 반복 횟수를 미리 알고 있는 경우에 사용\n",
    "- 특정 범위 내의 값을 순차적으로 반복하며 코드 블록을 실행한다."
   ]
  },
  {
   "cell_type": "markdown",
   "id": "1357d1e6-4517-4b5c-adef-07b543cb6813",
   "metadata": {},
   "source": [
    "#### 문법\n",
    "\n",
    "```\n",
    "for 변수 in 리스트(목록) :\n",
    "    실행 코드\n",
    "```"
   ]
  },
  {
   "cell_type": "markdown",
   "id": "0de99a50-3908-4515-ae03-be423efa7494",
   "metadata": {},
   "source": [
    "#### 중첩 for문 문법\n",
    "\n",
    "```\n",
    "for 변수 in 리스트 :\n",
    "    for 변수 in 리스트 :\n",
    "        실행 코드\n",
    "```"
   ]
  },
  {
   "cell_type": "code",
   "execution_count": 137,
   "id": "f951bc9c-f388-46e4-b757-aed1531a5396",
   "metadata": {},
   "outputs": [
    {
     "name": "stdout",
     "output_type": "stream",
     "text": [
      "1\n",
      "2\n",
      "3\n",
      "4\n",
      "5\n"
     ]
    }
   ],
   "source": [
    "# 예제 1\n",
    "for n in [1, 2, 3, 4, 5] :\n",
    "    print(n)"
   ]
  },
  {
   "cell_type": "code",
   "execution_count": 139,
   "id": "bdabbfc2-9741-4cc7-a42f-7c1b30f56cee",
   "metadata": {},
   "outputs": [
    {
     "name": "stdout",
     "output_type": "stream",
     "text": [
      "jennie\n",
      "hani\n",
      "kelly\n"
     ]
    }
   ],
   "source": [
    "# 예제 2\n",
    "names = [\"jennie\", \"hani\", \"kelly\"]\n",
    "for name in names :\n",
    "    print(name)"
   ]
  },
  {
   "cell_type": "code",
   "execution_count": 141,
   "id": "d52ddcd1-863c-4217-9443-82127287e566",
   "metadata": {},
   "outputs": [
    {
     "name": "stdout",
     "output_type": "stream",
     "text": [
      "H\n",
      "e\n",
      "l\n",
      "l\n",
      "o\n",
      "\n",
      "n\n",
      "i\n",
      "c\n",
      "e\n"
     ]
    }
   ],
   "source": [
    "# 예제 3\n",
    "for ch in \"Hello\" :\n",
    "    print(ch)\n",
    "print()\n",
    "\n",
    "for str in \"nice\" :\n",
    "    print(str)"
   ]
  },
  {
   "cell_type": "code",
   "execution_count": 143,
   "id": "3871d348-13e5-4141-a88b-9357977e62eb",
   "metadata": {},
   "outputs": [
    {
     "name": "stdout",
     "output_type": "stream",
     "text": [
      "15\n"
     ]
    }
   ],
   "source": [
    "# 예제 4. for문을 활용한 합 구하기 예제\n",
    "nums = [1, 2, 3, 4, 5]\n",
    "sum = 0\n",
    "for n in nums :\n",
    "    sum += n\n",
    "print(sum)"
   ]
  },
  {
   "cell_type": "code",
   "execution_count": 145,
   "id": "629f16fe-452f-4ce3-9414-b41df22e35a4",
   "metadata": {},
   "outputs": [
    {
     "name": "stdout",
     "output_type": "stream",
     "text": [
      "120\n"
     ]
    }
   ],
   "source": [
    "# 예제 5. 리스트 안의 숫자들을 모두 곱해 결과 구하는 예제\n",
    "nums2 = [1, 2, 3, 4, 5]\n",
    "result = 1\n",
    "for n in nums2 :\n",
    "    result *= n\n",
    "print(result)"
   ]
  },
  {
   "cell_type": "markdown",
   "id": "5d3d0064-0f8a-4d68-b705-a8c162792f99",
   "metadata": {},
   "source": [
    "### range()\n",
    "\n",
    "- 시작 숫자부터 리스트를 시작하여 1씩 증가시키면서 종료 숫자 전까지 연속된 리스트를 생성한다.\n",
    "- range(시작 숫자, 종료 숫자)\n",
    "- range(1, 6) 범위 = 1, 2, 3, 4, 5 >> 종료 숫자는 포함 되지 않는다.\n",
    "- range(2, 5) 범위 = 2, 3, 4"
   ]
  },
  {
   "cell_type": "code",
   "execution_count": 149,
   "id": "e4f8d790-1636-4e9c-8041-19b7d8ef4b11",
   "metadata": {},
   "outputs": [
    {
     "name": "stdout",
     "output_type": "stream",
     "text": [
      "15\n"
     ]
    }
   ],
   "source": [
    "# 예제 1\n",
    "nums3 = range(1, 6)\n",
    "sum2 = 0\n",
    "for n in nums3 :\n",
    "    sum2 += n\n",
    "print(sum2)"
   ]
  },
  {
   "cell_type": "code",
   "execution_count": 151,
   "id": "105f2604-02c6-41a9-a688-3afe691d3c02",
   "metadata": {},
   "outputs": [
    {
     "name": "stdout",
     "output_type": "stream",
     "text": [
      "4950\n"
     ]
    }
   ],
   "source": [
    "# 예제 2: range 함수를 이용해 큰 수 연산하기\n",
    "sum3 = 0\n",
    "for n in range(1, 100) :\n",
    "    sum3 += n\n",
    "print(sum3)"
   ]
  },
  {
   "cell_type": "markdown",
   "id": "2143cc16-ff23-4da8-a6a3-9789595a88a3",
   "metadata": {},
   "source": [
    "### f-string 문자열 포매팅 방식\n",
    "\n",
    "- 문자열 안에서 중괄호 {}안에 변수를 바로 넣거나, 계산식을 넣어서 결과를 문자열 안에 삽입해주는 역할"
   ]
  },
  {
   "cell_type": "code",
   "execution_count": 154,
   "id": "60586565-09ea-455b-992c-77abe0352866",
   "metadata": {},
   "outputs": [
    {
     "name": "stdout",
     "output_type": "stream",
     "text": [
      "2 X 1 = 2\n",
      "2 X 2 = 4\n",
      "2 X 3 = 6\n",
      "2 X 4 = 8\n",
      "2 X 5 = 10\n",
      "2 X 6 = 12\n",
      "2 X 7 = 14\n",
      "2 X 8 = 16\n",
      "2 X 9 = 18\n",
      "\n",
      "3 X 1 = 3\n",
      "3 X 2 = 6\n",
      "3 X 3 = 9\n",
      "3 X 4 = 12\n",
      "3 X 5 = 15\n",
      "3 X 6 = 18\n",
      "3 X 7 = 21\n",
      "3 X 8 = 24\n",
      "3 X 9 = 27\n",
      "\n",
      "4 X 1 = 4\n",
      "4 X 2 = 8\n",
      "4 X 3 = 12\n",
      "4 X 4 = 16\n",
      "4 X 5 = 20\n",
      "4 X 6 = 24\n",
      "4 X 7 = 28\n",
      "4 X 8 = 32\n",
      "4 X 9 = 36\n",
      "\n",
      "5 X 1 = 5\n",
      "5 X 2 = 10\n",
      "5 X 3 = 15\n",
      "5 X 4 = 20\n",
      "5 X 5 = 25\n",
      "5 X 6 = 30\n",
      "5 X 7 = 35\n",
      "5 X 8 = 40\n",
      "5 X 9 = 45\n",
      "\n",
      "6 X 1 = 6\n",
      "6 X 2 = 12\n",
      "6 X 3 = 18\n",
      "6 X 4 = 24\n",
      "6 X 5 = 30\n",
      "6 X 6 = 36\n",
      "6 X 7 = 42\n",
      "6 X 8 = 48\n",
      "6 X 9 = 54\n",
      "\n",
      "7 X 1 = 7\n",
      "7 X 2 = 14\n",
      "7 X 3 = 21\n",
      "7 X 4 = 28\n",
      "7 X 5 = 35\n",
      "7 X 6 = 42\n",
      "7 X 7 = 49\n",
      "7 X 8 = 56\n",
      "7 X 9 = 63\n",
      "\n",
      "8 X 1 = 8\n",
      "8 X 2 = 16\n",
      "8 X 3 = 24\n",
      "8 X 4 = 32\n",
      "8 X 5 = 40\n",
      "8 X 6 = 48\n",
      "8 X 7 = 56\n",
      "8 X 8 = 64\n",
      "8 X 9 = 72\n",
      "\n",
      "9 X 1 = 9\n",
      "9 X 2 = 18\n",
      "9 X 3 = 27\n",
      "9 X 4 = 36\n",
      "9 X 5 = 45\n",
      "9 X 6 = 54\n",
      "9 X 7 = 63\n",
      "9 X 8 = 72\n",
      "9 X 9 = 81\n",
      "\n",
      "\n"
     ]
    }
   ],
   "source": [
    "#  예제 1. 2단부터 9단까지 출력하기\n",
    "for x in range(2, 10) :\n",
    "    for y in range(1, 10) :\n",
    "        print(f\"{x} X {y} = {x * y}\")\n",
    "    print()\n",
    "print()"
   ]
  },
  {
   "cell_type": "markdown",
   "id": "0e976ba9-7a8c-4b8d-8496-6047c74a4a38",
   "metadata": {},
   "source": [
    "# Number Game"
   ]
  },
  {
   "cell_type": "code",
   "execution_count": 81,
   "id": "c7d0d818-9e49-4849-aa04-130568c5a694",
   "metadata": {},
   "outputs": [],
   "source": [
    " # 랜덤 숫자 생성 모듈\n",
    "import random   "
   ]
  },
  {
   "cell_type": "code",
   "execution_count": 83,
   "id": "1fc4fd0f-c41f-4d4f-96f6-4f396053538c",
   "metadata": {},
   "outputs": [],
   "source": [
    "# 1부터 100사이의 랜덤 숫자 생성\n",
    "secret_numbers = random.randint(1, 100)"
   ]
  },
  {
   "cell_type": "code",
   "execution_count": 85,
   "id": "9cb60b03-a66e-413c-b504-7d4c7f42a944",
   "metadata": {},
   "outputs": [],
   "source": [
    "# 사용자 입력 변수\n",
    "guess = 0       # 초기값 설정\n",
    "count = 0       # 시도 횟수 기록"
   ]
  },
  {
   "cell_type": "code",
   "execution_count": 87,
   "id": "cfc484f4-19a4-4d0c-ab97-079b5fc59055",
   "metadata": {},
   "outputs": [
    {
     "name": "stdout",
     "output_type": "stream",
     "text": [
      "1부터 100사이의 숫자를 맞춰보세요!\n"
     ]
    }
   ],
   "source": [
    "print(\"1부터 100사이의 숫자를 맞춰보세요!\")"
   ]
  },
  {
   "cell_type": "code",
   "execution_count": 89,
   "id": "99091f2d-c1fa-4fe7-bdfa-0426a26e0577",
   "metadata": {},
   "outputs": [
    {
     "name": "stdin",
     "output_type": "stream",
     "text": [
      "숫자를 입력하세요 :  50\n"
     ]
    },
    {
     "name": "stdout",
     "output_type": "stream",
     "text": [
      "값이 너무 작습니다. 더 큰 숫자를 입력하세요.\n"
     ]
    },
    {
     "name": "stdin",
     "output_type": "stream",
     "text": [
      "숫자를 입력하세요 :  60\n"
     ]
    },
    {
     "name": "stdout",
     "output_type": "stream",
     "text": [
      "값이 너무 작습니다. 더 큰 숫자를 입력하세요.\n"
     ]
    },
    {
     "name": "stdin",
     "output_type": "stream",
     "text": [
      "숫자를 입력하세요 :  70\n"
     ]
    },
    {
     "name": "stdout",
     "output_type": "stream",
     "text": [
      "값이 너무 큽니다. 더 작은 숫자를 입력하세요.\n"
     ]
    },
    {
     "name": "stdin",
     "output_type": "stream",
     "text": [
      "숫자를 입력하세요 :  65\n"
     ]
    },
    {
     "name": "stdout",
     "output_type": "stream",
     "text": [
      "값이 너무 작습니다. 더 큰 숫자를 입력하세요.\n"
     ]
    },
    {
     "name": "stdin",
     "output_type": "stream",
     "text": [
      "숫자를 입력하세요 :  68\n"
     ]
    },
    {
     "name": "stdout",
     "output_type": "stream",
     "text": [
      "값이 너무 큽니다. 더 작은 숫자를 입력하세요.\n"
     ]
    },
    {
     "name": "stdin",
     "output_type": "stream",
     "text": [
      "숫자를 입력하세요 :  67\n"
     ]
    },
    {
     "name": "stdout",
     "output_type": "stream",
     "text": [
      "값이 너무 큽니다. 더 작은 숫자를 입력하세요.\n"
     ]
    },
    {
     "name": "stdin",
     "output_type": "stream",
     "text": [
      "숫자를 입력하세요 :  66\n"
     ]
    },
    {
     "name": "stdout",
     "output_type": "stream",
     "text": [
      "축하합니다! 7번 만에 숫자를 맞췄습니다!\n"
     ]
    }
   ],
   "source": [
    "# 정답을 맞출 때까지 반복\n",
    "while guess != secret_numbers:\n",
    "    # 사용자 입력 받기\n",
    "    guess = int(input(\"숫자를 입력하세요 : \"))\n",
    "    # 시도 횟수 증가\n",
    "    count += 1      \n",
    "\n",
    "    if guess < secret_numbers :\n",
    "        print(\"값이 너무 작습니다. 더 큰 숫자를 입력하세요.\")\n",
    "    elif guess > secret_numbers :\n",
    "        print(\"값이 너무 큽니다. 더 작은 숫자를 입력하세요.\")\n",
    "    else :\n",
    "        print(f\"축하합니다! {count}번 만에 숫자를 맞췄습니다!\")"
   ]
  },
  {
   "cell_type": "code",
   "execution_count": null,
   "id": "a7288d68-afe8-435f-8ff5-74029fe70d78",
   "metadata": {},
   "outputs": [],
   "source": []
  }
 ],
 "metadata": {
  "kernelspec": {
   "display_name": "Python [conda env:base] *",
   "language": "python",
   "name": "conda-base-py"
  },
  "language_info": {
   "codemirror_mode": {
    "name": "ipython",
    "version": 3
   },
   "file_extension": ".py",
   "mimetype": "text/x-python",
   "name": "python",
   "nbconvert_exporter": "python",
   "pygments_lexer": "ipython3",
   "version": "3.12.7"
  }
 },
 "nbformat": 4,
 "nbformat_minor": 5
}
