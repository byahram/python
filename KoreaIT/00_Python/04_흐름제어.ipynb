{
 "cells": [
  {
   "cell_type": "markdown",
   "id": "7ef29ec7-3a15-4c04-bb66-39f4c8c7db92",
   "metadata": {},
   "source": [
    "# 파이썬 흐름제어"
   ]
  },
  {
   "cell_type": "markdown",
   "id": "d8267ecd-cec6-4a75-abe2-73a5f6392b4e",
   "metadata": {},
   "source": [
    "## 1. 조건문\n",
    "\n",
    "- 프로그래밍에서 특정 조건에 따라 프로그램의 흐름을 제어하는 구문을 말한다.\n",
    "- if / else / elif"
   ]
  },
  {
   "cell_type": "markdown",
   "id": "18a57b46-de59-4486-b30e-1a493eaab552",
   "metadata": {},
   "source": [
    "#### 문법\n",
    "\n",
    "- 조건식이 참이면 아래 들여쓰기가 된 코드가 순차적으로 실행된다.\n",
    "```\n",
    "if 조건식 :\n",
    "    실행할 코드 1\n",
    "    실행할 코드 2\n",
    "    실행할 코드 3\n",
    "```"
   ]
  },
  {
   "cell_type": "markdown",
   "id": "63739151-12cd-4418-928f-bf4272126359",
   "metadata": {},
   "source": [
    "#### 주의\n",
    "\n",
    "- 파이썬은 들여쓰기가 중요한 언어이다.\n",
    "- 파이썬에서 들여쓰기는 코드의 블록을 구분하고 가독성을 높이는 데 중요한 역할을 한다.\n",
    "- {}: 다른언어, 파이썬은 코드 블록을 구성할 중괄호{}를 제공하지 않으므로 들여쓰기로 작성된 코드만을 실행 영역으로 판단하다."
   ]
  },
  {
   "cell_type": "code",
   "execution_count": 14,
   "id": "be7a195e-9cef-4772-bfe0-29e63b4b6552",
   "metadata": {},
   "outputs": [
    {
     "name": "stdout",
     "output_type": "stream",
     "text": [
      "7은 1보다 큽니다.\n"
     ]
    }
   ],
   "source": [
    "# 조건문(if) 예제 1\n",
    "if 7 > 1 :\n",
    "    print(\"7은 1보다 큽니다.\")"
   ]
  },
  {
   "cell_type": "code",
   "execution_count": 16,
   "id": "61bee2d5-36b8-434b-bce8-c76402105b28",
   "metadata": {},
   "outputs": [
    {
     "name": "stdout",
     "output_type": "stream",
     "text": [
      "2는 5보다 작습니다.\n"
     ]
    }
   ],
   "source": [
    "# 조건문(if) 예제 2\n",
    "if 2 > 5 :\n",
    "    print(\"2는 5보다 큽니다.\")\n",
    "else :\n",
    "    print(\"2는 5보다 작습니다.\")"
   ]
  },
  {
   "cell_type": "code",
   "execution_count": 18,
   "id": "ced732e6-bf7d-4d46-9431-3528c45fef7f",
   "metadata": {},
   "outputs": [
    {
     "name": "stdout",
     "output_type": "stream",
     "text": [
      "20세 이상입니다.\n"
     ]
    }
   ],
   "source": [
    "# 조건문(if) 예제 3\n",
    "age = 20\n",
    "if age >= 20 :\n",
    "    print(\"20세 이상입니다.\")"
   ]
  },
  {
   "cell_type": "code",
   "execution_count": null,
   "id": "3948363f-8135-414d-9976-1f11a27bae34",
   "metadata": {},
   "outputs": [],
   "source": []
  }
 ],
 "metadata": {
  "kernelspec": {
   "display_name": "Python [conda env:base] *",
   "language": "python",
   "name": "conda-base-py"
  },
  "language_info": {
   "codemirror_mode": {
    "name": "ipython",
    "version": 3
   },
   "file_extension": ".py",
   "mimetype": "text/x-python",
   "name": "python",
   "nbconvert_exporter": "python",
   "pygments_lexer": "ipython3",
   "version": "3.12.7"
  }
 },
 "nbformat": 4,
 "nbformat_minor": 5
}
