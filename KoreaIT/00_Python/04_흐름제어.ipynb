{
 "cells": [
  {
   "cell_type": "markdown",
   "id": "7ef29ec7-3a15-4c04-bb66-39f4c8c7db92",
   "metadata": {},
   "source": [
    "# 파이썬 흐름제어"
   ]
  },
  {
   "cell_type": "markdown",
   "id": "d8267ecd-cec6-4a75-abe2-73a5f6392b4e",
   "metadata": {},
   "source": [
    "## 1. 조건문\n",
    "\n",
    "- 프로그래밍에서 특정 조건에 따라 프로그램의 흐름을 제어하는 구문을 말한다.\n",
    "- if / else / elif"
   ]
  },
  {
   "cell_type": "markdown",
   "id": "18a57b46-de59-4486-b30e-1a493eaab552",
   "metadata": {},
   "source": [
    "#### 문법\n",
    "\n",
    "- 조건식이 참이면 아래 들여쓰기가 된 코드가 순차적으로 실행된다.\n",
    "\n",
    "```\n",
    "if 조건식 :\n",
    "    실행할 코드 1\n",
    "    실행할 코드 2\n",
    "    실행할 코드 3\n",
    "```"
   ]
  },
  {
   "cell_type": "markdown",
   "id": "63739151-12cd-4418-928f-bf4272126359",
   "metadata": {},
   "source": [
    "#### 주의\n",
    "\n",
    "- 파이썬은 들여쓰기가 중요한 언어이다.\n",
    "- 파이썬에서 들여쓰기는 코드의 블록을 구분하고 가독성을 높이는 데 중요한 역할을 한다.\n",
    "- {}: 다른언어, 파이썬은 코드 블록을 구성할 중괄호{}를 제공하지 않으므로 들여쓰기로 작성된 코드만을 실행 영역으로 판단하다."
   ]
  },
  {
   "cell_type": "markdown",
   "id": "b2df4acb-83e0-485e-9a4f-9983d49b00f4",
   "metadata": {},
   "source": [
    "### 1-1) if 조건문\n",
    "\n",
    "```\n",
    "if 조건식 :\n",
    "    실행할 코드 1\n",
    "    실행할 코드 2\n",
    "    실행할 코드 3\n",
    "```"
   ]
  },
  {
   "cell_type": "code",
   "execution_count": 14,
   "id": "be7a195e-9cef-4772-bfe0-29e63b4b6552",
   "metadata": {},
   "outputs": [
    {
     "name": "stdout",
     "output_type": "stream",
     "text": [
      "7은 1보다 큽니다.\n"
     ]
    }
   ],
   "source": [
    "# 조건문(if) 예제 1\n",
    "if 7 > 1 :\n",
    "    print(\"7은 1보다 큽니다.\")"
   ]
  },
  {
   "cell_type": "code",
   "execution_count": 16,
   "id": "61bee2d5-36b8-434b-bce8-c76402105b28",
   "metadata": {},
   "outputs": [
    {
     "name": "stdout",
     "output_type": "stream",
     "text": [
      "2는 5보다 작습니다.\n"
     ]
    }
   ],
   "source": [
    "# 조건문(if) 예제 2\n",
    "if 2 > 5 :\n",
    "    print(\"2는 5보다 큽니다.\")\n",
    "else :\n",
    "    print(\"2는 5보다 작습니다.\")"
   ]
  },
  {
   "cell_type": "code",
   "execution_count": 18,
   "id": "ced732e6-bf7d-4d46-9431-3528c45fef7f",
   "metadata": {},
   "outputs": [
    {
     "name": "stdout",
     "output_type": "stream",
     "text": [
      "20세 이상입니다.\n"
     ]
    }
   ],
   "source": [
    "# 조건문(if) 예제 3\n",
    "age = 20\n",
    "if age >= 20 :\n",
    "    print(\"20세 이상입니다.\")"
   ]
  },
  {
   "cell_type": "markdown",
   "id": "8e4c9228-22e2-4bf1-86eb-929171d6f4fa",
   "metadata": {},
   "source": [
    "### 1-2) if-else 조건문\n",
    "\n",
    "```\n",
    "if 조건식:\n",
    "    조건식이 참일 때 실행할 코드\n",
    "else :\n",
    "    조건식이 거짓일 때 실행할 코드\n",
    "```"
   ]
  },
  {
   "cell_type": "code",
   "execution_count": 9,
   "id": "f29b6ccc-3597-4e6e-9dbd-eaaf24a80603",
   "metadata": {},
   "outputs": [
    {
     "name": "stdout",
     "output_type": "stream",
     "text": [
      "저는 바나나를 좋아합니다.\n"
     ]
    }
   ],
   "source": [
    "# 예제 1\n",
    "fruit = \"바나나\"\n",
    "if fruit  == \"바나나\" :\n",
    "    print(\"저는 바나나를 좋아합니다.\")\n",
    "else :\n",
    "    print(\"저는 바나나를 좋아하지 않습니다.\")"
   ]
  },
  {
   "cell_type": "code",
   "execution_count": 11,
   "id": "88080bd5-033c-4e27-afc2-bd70a0e59318",
   "metadata": {},
   "outputs": [
    {
     "name": "stdout",
     "output_type": "stream",
     "text": [
      "숫자는 17입니다.\n"
     ]
    }
   ],
   "source": [
    "# 예제 2\n",
    "number = 17\n",
    "if number == 17 :\n",
    "    print(\"숫자는 17입니다.\")\n",
    "else :\n",
    "    print(\"숫자는 17이 아닙니다.\")"
   ]
  },
  {
   "cell_type": "code",
   "execution_count": 13,
   "id": "94da9328-e1b0-4cd5-8c43-f16e5e110d2a",
   "metadata": {},
   "outputs": [
    {
     "name": "stdout",
     "output_type": "stream",
     "text": [
      "20세 미만입니다.\n"
     ]
    }
   ],
   "source": [
    "# 예제 3\n",
    "age = 14\n",
    "if age >= 20:\n",
    "    print(\"20세 이상입니다.\")\n",
    "else :\n",
    "    print(\"20세 미만입니다.\")"
   ]
  },
  {
   "cell_type": "code",
   "execution_count": 15,
   "id": "a2df85ab-e6ca-4fcb-8663-aa921a86c09d",
   "metadata": {},
   "outputs": [
    {
     "name": "stdout",
     "output_type": "stream",
     "text": [
      "num은 7로 나누어 떨어집니다.\n"
     ]
    }
   ],
   "source": [
    "# 예제 4\n",
    "num = 49\n",
    "if num % 7 == 0 :\n",
    "    print(\"num은 7로 나누어 떨어집니다.\")\n",
    "else :\n",
    "    print(\"num은 7로 나누어 떨어지지 않습니다.\")"
   ]
  },
  {
   "cell_type": "code",
   "execution_count": 17,
   "id": "d73f9c41-e519-4e6b-a965-04de944e77a4",
   "metadata": {},
   "outputs": [
    {
     "name": "stdout",
     "output_type": "stream",
     "text": [
      "num2는 홀수입니다.\n"
     ]
    }
   ],
   "source": [
    "# 예제 5\n",
    "num2 = 19\n",
    "if num2 % 2 == 0 :\n",
    "    print(\"num2는 짝수입니다.\")\n",
    "else :\n",
    "    print(\"num2는 홀수입니다.\")"
   ]
  },
  {
   "cell_type": "markdown",
   "id": "d311d1b6-96b7-44c1-b832-06b06a3284cd",
   "metadata": {},
   "source": [
    "### 1-3) if-elif-else 조건문\n",
    "\n",
    "- elif: 하나가 아닌 여러 개의 조건 식을 사용할 수 있는 문법\n",
    "\n",
    "```\n",
    "if 조건식1 :\n",
    "    조건식1이 참일 때\n",
    "elif 조건식2 :\n",
    "    조건식2가 참일 때\n",
    "elif 조건식3 :\n",
    "    조건식3이 참일 때\n",
    "else :\n",
    "    모든 조건이 거짓일 때\n",
    "```"
   ]
  },
  {
   "cell_type": "code",
   "execution_count": 21,
   "id": "f3c5397e-8be2-48cb-a691-3b25712e26a1",
   "metadata": {},
   "outputs": [
    {
     "name": "stdout",
     "output_type": "stream",
     "text": [
      "0입니다\n"
     ]
    }
   ],
   "source": [
    "# 예제 1\n",
    "num3 = 0\n",
    "if num3 > 0 :\n",
    "    print(\"양수입니다.\")\n",
    "elif num3 == 0 :\n",
    "    print(\"0입니다\")\n",
    "else :\n",
    "    print(\"음수입니다.\")"
   ]
  },
  {
   "cell_type": "code",
   "execution_count": 23,
   "id": "11f31462-3fab-4242-8e79-15b9f40389d4",
   "metadata": {},
   "outputs": [
    {
     "name": "stdout",
     "output_type": "stream",
     "text": [
      "B\n"
     ]
    }
   ],
   "source": [
    "# 예제 2\n",
    "score = 87\n",
    "if score >= 90 :\n",
    "    print(\"A\")\n",
    "elif score >= 80 :\n",
    "    print(\"B\")\n",
    "elif score >= 70 :\n",
    "    print(\"C\")\n",
    "else :\n",
    "    print(\"F\")"
   ]
  },
  {
   "cell_type": "code",
   "execution_count": 25,
   "id": "8320861f-75fa-475f-960a-50531ef352eb",
   "metadata": {},
   "outputs": [
    {
     "name": "stdout",
     "output_type": "stream",
     "text": [
      "짝수입니다.\n"
     ]
    }
   ],
   "source": [
    "# 예제 3\n",
    "num4 = 0\n",
    "if num4 % 2 == 0 :\n",
    "    print(\"짝수입니다.\")\n",
    "elif num4 % 2 == 1 :\n",
    "    print(\"홀수입니다.\")\n",
    "else :\n",
    "    print(\"0입니다.\")"
   ]
  },
  {
   "cell_type": "markdown",
   "id": "bf0c8f08-327a-4cce-affb-461217dbc6fd",
   "metadata": {},
   "source": [
    "### 1-4) 조건문과 input()"
   ]
  },
  {
   "cell_type": "markdown",
   "id": "43c48c0f-2d99-4fd7-a34f-3b89f098469f",
   "metadata": {},
   "source": [
    "#### input()\n",
    "\n",
    "- 파이썬에서 사용자 입력을 받는 방법은 input() 합수를 사용\n",
    "- 문자 입력 받기\n",
    "    - name = input(\"이름을 입력하세요\")\n",
    "    - print(\"안녕하세요\", name, \"님!\")\n",
    "- 숫자 입력 받기\n",
    "    - 정수 > int(input(\"출력문\"))\n",
    "    - 실수 > float(input(\"출력문\"))"
   ]
  },
  {
   "cell_type": "code",
   "execution_count": 30,
   "id": "3b8a7b26-ad29-4271-85dc-9e6e8b7e6ab6",
   "metadata": {},
   "outputs": [
    {
     "name": "stdin",
     "output_type": "stream",
     "text": [
      "몇살입니까?? >>>  30\n"
     ]
    },
    {
     "name": "stdout",
     "output_type": "stream",
     "text": [
      "성인\n"
     ]
    }
   ],
   "source": [
    "# 예제 1\n",
    "age2 = int(input(\"몇살입니까?? >>> \"))\n",
    "if age2 <= 7 :\n",
    "    print(\"미취학\")\n",
    "elif age2 <= 13 :\n",
    "    print(\"초등학생\")\n",
    "elif age2 <= 16 :\n",
    "    print(\"중학생\")\n",
    "elif age2 <= 19 :\n",
    "    print(\"고등학생\")\n",
    "else :\n",
    "    print(\"성인\")"
   ]
  },
  {
   "cell_type": "code",
   "execution_count": 32,
   "id": "cd4dcc2d-985d-458a-9abe-2c3609753ddc",
   "metadata": {},
   "outputs": [
    {
     "name": "stdin",
     "output_type": "stream",
     "text": [
      "첫번째 숫자:  3\n",
      "두번째 숫자:  2\n"
     ]
    },
    {
     "name": "stdout",
     "output_type": "stream",
     "text": [
      "출력: >\n"
     ]
    }
   ],
   "source": [
    "# 예제 2\n",
    "A = int(input(\"첫번째 숫자: \"))\n",
    "B = int(input(\"두번째 숫자: \"))\n",
    "\n",
    "if A > B :\n",
    "    print(\"출력: >\")\n",
    "elif A < B :\n",
    "    print(\"출력: <\")\n",
    "elif A == B :\n",
    "    print(\"출력: =\")"
   ]
  },
  {
   "cell_type": "code",
   "execution_count": 34,
   "id": "e33063cd-0268-4f72-9397-db7da7e120e8",
   "metadata": {},
   "outputs": [
    {
     "name": "stdout",
     "output_type": "stream",
     "text": [
      "로그인 되었습니다.\n"
     ]
    }
   ],
   "source": [
    "# 예제 3\n",
    "id = \"korea\"\n",
    "password = 1234\n",
    "\n",
    "if id == \"korea\" and password == 1234 :\n",
    "    print(\"로그인 되었습니다.\")\n",
    "elif id == \"korea\" and password != 1234 :\n",
    "    print(\"비밀번호가 틀렸습니다.\")\n",
    "else :\n",
    "    print(\"회원 가입을 진행해 주세요.\")"
   ]
  },
  {
   "cell_type": "code",
   "execution_count": 36,
   "id": "a6b72932-e63f-4ba7-b705-ce3fe0dc7c7f",
   "metadata": {},
   "outputs": [
    {
     "name": "stdin",
     "output_type": "stream",
     "text": [
      "x좌표 :  5\n",
      "y좌표 :  -2\n"
     ]
    },
    {
     "name": "stdout",
     "output_type": "stream",
     "text": [
      "4\n"
     ]
    }
   ],
   "source": [
    "# 예제 4\n",
    "X = int(input(\"x좌표 : \"))\n",
    "Y = int(input(\"y좌표 : \"))\n",
    "\n",
    "if X > 0 and Y > 0 :\n",
    "    print(\"1\")\n",
    "elif X < 0 and Y > 0 :\n",
    "    print(\"2\")\n",
    "elif X < 0 and Y < 0 :\n",
    "    print(\"3\")\n",
    "elif X > 0 and Y < 0 :\n",
    "    print(\"4\")"
   ]
  },
  {
   "cell_type": "code",
   "execution_count": 38,
   "id": "ad8a72fe-1bee-410b-a70f-3e6be6939fb7",
   "metadata": {},
   "outputs": [
    {
     "name": "stdin",
     "output_type": "stream",
     "text": [
      "연도 :  2024\n"
     ]
    },
    {
     "name": "stdout",
     "output_type": "stream",
     "text": [
      "1\n"
     ]
    }
   ],
   "source": [
    "# 예제 5\n",
    "year = int(input(\"연도 : \"))\n",
    "\n",
    "if year % 4 == 0 and (year % 100 != 0 or year % 400 == 0) :\n",
    "    print(\"1\")\n",
    "else :\n",
    "    print(\"0\")"
   ]
  },
  {
   "cell_type": "markdown",
   "id": "96d806c2-eabb-4477-9959-2e0e666e7237",
   "metadata": {},
   "source": [
    "## 반복문\n",
    "\n",
    "- 여러 줄의 코드 블록을 반복적으로 실행하는데 사용되는 제어 구조\n",
    "- 반복문을 사용하면 원하는 코드를 원하는 횟수만큼 반복하여 코드를 간결하게 작성하고 효율성을 높일 수 있다.\n",
    "- for문, while문"
   ]
  },
  {
   "cell_type": "markdown",
   "id": "cd38e8e8-f893-4945-b80e-31023ccc44fb",
   "metadata": {},
   "source": [
    "### 1. while문\n",
    "\n",
    "- 반복 횟수를 미리 알 수 없는 경우에 사용\n",
    "- 조건이 참인 동안 계속해서 코드를 반복한다.\n",
    "- 조건이 거짓이 될 때까지 반복"
   ]
  },
  {
   "cell_type": "markdown",
   "id": "06eb2381-80cd-4601-8362-818ae9cda05b",
   "metadata": {},
   "source": [
    "- 조건 식이 true(참)이면 아래 들여쓰기가 되어있는 코드가 순차적으로 실행된다.\n",
    "    ```\n",
    "    while 조건식 :\n",
    "        조건식이 참이면 실행되는 코드\n",
    "    ```"
   ]
  },
  {
   "cell_type": "markdown",
   "id": "46c492a2-66d3-43dd-927c-74c986d54d64",
   "metadata": {},
   "source": [
    "- 무한 루프\n",
    "    ```\n",
    "    while True :\n",
    "        print(\"무한 반복한다\")\n",
    "    ```"
   ]
  },
  {
   "cell_type": "code",
   "execution_count": 52,
   "id": "e596bc5a-675c-436f-be58-ee55f055804b",
   "metadata": {},
   "outputs": [
    {
     "name": "stdout",
     "output_type": "stream",
     "text": [
      "1\n",
      "2\n",
      "3\n"
     ]
    }
   ],
   "source": [
    "# 예제 1\n",
    "count = 0\n",
    "while count < 3 :\n",
    "    count = count + 1\n",
    "    print(count)"
   ]
  },
  {
   "cell_type": "code",
   "execution_count": 54,
   "id": "38f251a7-4b8a-47d5-a7ce-d2cf83f56486",
   "metadata": {},
   "outputs": [
    {
     "name": "stdout",
     "output_type": "stream",
     "text": [
      "안녕하세요!\n",
      "안녕하세요!\n",
      "안녕하세요!\n"
     ]
    }
   ],
   "source": [
    "# 예제 2\n",
    "count2 = 0\n",
    "while count2 < 3 :\n",
    "    print(\"안녕하세요!\")\n",
    "    count2 += 1"
   ]
  },
  {
   "cell_type": "code",
   "execution_count": 56,
   "id": "9d9a585f-6965-427d-b2fd-7de5ec8d1f76",
   "metadata": {},
   "outputs": [
    {
     "name": "stdout",
     "output_type": "stream",
     "text": [
      "9\n",
      "8\n",
      "7\n",
      "6\n",
      "5\n"
     ]
    }
   ],
   "source": [
    "# 예제 3\n",
    "count3 = 9\n",
    "while count3 > 4 :\n",
    "    print(count3)\n",
    "    count3 -= 1"
   ]
  },
  {
   "cell_type": "code",
   "execution_count": 58,
   "id": "bfc9fb4d-82da-41f4-80d8-0f4fee322230",
   "metadata": {},
   "outputs": [
    {
     "name": "stdout",
     "output_type": "stream",
     "text": [
      "아이스크림을 사먹었습니다.\n",
      "아이스크림을 사먹었습니다.\n",
      "아이스크림을 사먹었습니다.\n"
     ]
    }
   ],
   "source": [
    "# 예제 4\n",
    "money = 5000\n",
    "while money >= 3000 :\n",
    "    print(\"아이스크림을 사먹었습니다.\")\n",
    "    money -= 1000"
   ]
  },
  {
   "cell_type": "code",
   "execution_count": 60,
   "id": "11ce6c06-f598-436a-8e8f-7519a7bd32e7",
   "metadata": {},
   "outputs": [
    {
     "name": "stdout",
     "output_type": "stream",
     "text": [
      "사탕을 1 개 사 먹었습니다.\n",
      "사탕을 2 개 사 먹었습니다.\n",
      "사탕을 3 개 사 먹었습니다.\n",
      "사탕을 4 개 사 먹었습니다.\n",
      "사탕을 5 개 사 먹었습니다.\n",
      "사탕을 6 개 사 먹었습니다.\n",
      "사탕을 7 개 사 먹었습니다.\n",
      "남은 돈:  100 원\n"
     ]
    }
   ],
   "source": [
    "# 예제 5\n",
    "money2 = 5000\n",
    "priceOfCandy = 700\n",
    "numOfCandy = 0\n",
    "\n",
    "while money2 >= 700:\n",
    "    money2 -= priceOfCandy\n",
    "    numOfCandy += 1\n",
    "    print(\"사탕을\", numOfCandy,  \"개 사 먹었습니다.\")\n",
    "print(\"남은 돈: \", money2, \"원\")"
   ]
  },
  {
   "cell_type": "code",
   "execution_count": 62,
   "id": "e9079d70-fb54-4602-944a-1cc453becb50",
   "metadata": {},
   "outputs": [
    {
     "name": "stdout",
     "output_type": "stream",
     "text": [
      "*\n",
      "**\n",
      "***\n",
      "****\n",
      "*****\n"
     ]
    }
   ],
   "source": [
    "# 예제 6. while문을 사용하여 별 찍기\n",
    "i = 1\n",
    "while i < 6 :\n",
    "    print(\"*\" * i)\n",
    "    i += 1"
   ]
  },
  {
   "cell_type": "code",
   "execution_count": 64,
   "id": "281c3ced-3f3c-460c-9198-957315e19158",
   "metadata": {},
   "outputs": [
    {
     "name": "stdout",
     "output_type": "stream",
     "text": [
      "*****\n",
      "****\n",
      "***\n",
      "**\n",
      "*\n"
     ]
    }
   ],
   "source": [
    "# 예제 7. while문을 사용하여 별 찍기\n",
    "i2 = 5\n",
    "while i2 > 0:\n",
    "    print(\"*\" * i2)\n",
    "    i2 -= 1"
   ]
  },
  {
   "cell_type": "markdown",
   "id": "0e976ba9-7a8c-4b8d-8496-6047c74a4a38",
   "metadata": {},
   "source": [
    "# Number Game"
   ]
  },
  {
   "cell_type": "code",
   "execution_count": 81,
   "id": "c7d0d818-9e49-4849-aa04-130568c5a694",
   "metadata": {},
   "outputs": [],
   "source": [
    " # 랜덤 숫자 생성 모듈\n",
    "import random   "
   ]
  },
  {
   "cell_type": "code",
   "execution_count": 83,
   "id": "1fc4fd0f-c41f-4d4f-96f6-4f396053538c",
   "metadata": {},
   "outputs": [],
   "source": [
    "# 1부터 100사이의 랜덤 숫자 생성\n",
    "secret_numbers = random.randint(1, 100)"
   ]
  },
  {
   "cell_type": "code",
   "execution_count": 85,
   "id": "9cb60b03-a66e-413c-b504-7d4c7f42a944",
   "metadata": {},
   "outputs": [],
   "source": [
    "# 사용자 입력 변수\n",
    "guess = 0       # 초기값 설정\n",
    "count = 0       # 시도 횟수 기록"
   ]
  },
  {
   "cell_type": "code",
   "execution_count": 87,
   "id": "cfc484f4-19a4-4d0c-ab97-079b5fc59055",
   "metadata": {},
   "outputs": [
    {
     "name": "stdout",
     "output_type": "stream",
     "text": [
      "1부터 100사이의 숫자를 맞춰보세요!\n"
     ]
    }
   ],
   "source": [
    "print(\"1부터 100사이의 숫자를 맞춰보세요!\")"
   ]
  },
  {
   "cell_type": "code",
   "execution_count": 89,
   "id": "99091f2d-c1fa-4fe7-bdfa-0426a26e0577",
   "metadata": {},
   "outputs": [
    {
     "name": "stdin",
     "output_type": "stream",
     "text": [
      "숫자를 입력하세요 :  50\n"
     ]
    },
    {
     "name": "stdout",
     "output_type": "stream",
     "text": [
      "값이 너무 작습니다. 더 큰 숫자를 입력하세요.\n"
     ]
    },
    {
     "name": "stdin",
     "output_type": "stream",
     "text": [
      "숫자를 입력하세요 :  60\n"
     ]
    },
    {
     "name": "stdout",
     "output_type": "stream",
     "text": [
      "값이 너무 작습니다. 더 큰 숫자를 입력하세요.\n"
     ]
    },
    {
     "name": "stdin",
     "output_type": "stream",
     "text": [
      "숫자를 입력하세요 :  70\n"
     ]
    },
    {
     "name": "stdout",
     "output_type": "stream",
     "text": [
      "값이 너무 큽니다. 더 작은 숫자를 입력하세요.\n"
     ]
    },
    {
     "name": "stdin",
     "output_type": "stream",
     "text": [
      "숫자를 입력하세요 :  65\n"
     ]
    },
    {
     "name": "stdout",
     "output_type": "stream",
     "text": [
      "값이 너무 작습니다. 더 큰 숫자를 입력하세요.\n"
     ]
    },
    {
     "name": "stdin",
     "output_type": "stream",
     "text": [
      "숫자를 입력하세요 :  68\n"
     ]
    },
    {
     "name": "stdout",
     "output_type": "stream",
     "text": [
      "값이 너무 큽니다. 더 작은 숫자를 입력하세요.\n"
     ]
    },
    {
     "name": "stdin",
     "output_type": "stream",
     "text": [
      "숫자를 입력하세요 :  67\n"
     ]
    },
    {
     "name": "stdout",
     "output_type": "stream",
     "text": [
      "값이 너무 큽니다. 더 작은 숫자를 입력하세요.\n"
     ]
    },
    {
     "name": "stdin",
     "output_type": "stream",
     "text": [
      "숫자를 입력하세요 :  66\n"
     ]
    },
    {
     "name": "stdout",
     "output_type": "stream",
     "text": [
      "축하합니다! 7번 만에 숫자를 맞췄습니다!\n"
     ]
    }
   ],
   "source": [
    "# 정답을 맞출 때까지 반복\n",
    "while guess != secret_numbers:\n",
    "    # 사용자 입력 받기\n",
    "    guess = int(input(\"숫자를 입력하세요 : \"))\n",
    "    # 시도 횟수 증가\n",
    "    count += 1      \n",
    "\n",
    "    if guess < secret_numbers :\n",
    "        print(\"값이 너무 작습니다. 더 큰 숫자를 입력하세요.\")\n",
    "    elif guess > secret_numbers :\n",
    "        print(\"값이 너무 큽니다. 더 작은 숫자를 입력하세요.\")\n",
    "    else :\n",
    "        print(f\"축하합니다! {count}번 만에 숫자를 맞췄습니다!\")"
   ]
  },
  {
   "cell_type": "code",
   "execution_count": null,
   "id": "a7288d68-afe8-435f-8ff5-74029fe70d78",
   "metadata": {},
   "outputs": [],
   "source": []
  }
 ],
 "metadata": {
  "kernelspec": {
   "display_name": "Python [conda env:base] *",
   "language": "python",
   "name": "conda-base-py"
  },
  "language_info": {
   "codemirror_mode": {
    "name": "ipython",
    "version": 3
   },
   "file_extension": ".py",
   "mimetype": "text/x-python",
   "name": "python",
   "nbconvert_exporter": "python",
   "pygments_lexer": "ipython3",
   "version": "3.12.7"
  }
 },
 "nbformat": 4,
 "nbformat_minor": 5
}
