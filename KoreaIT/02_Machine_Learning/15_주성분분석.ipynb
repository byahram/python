{
 "cells": [
  {
   "cell_type": "markdown",
   "id": "0d22cfc7-bb83-48a4-b1b6-7bff67e6124b",
   "metadata": {},
   "source": [
    "# 차원 축소\n",
    "\n",
    "- 과일 사진의 경우는 10000개의 픽셀이 있기 때문에 10000개의 특성이 있음\n",
    "- 차원의 저주\n",
    "    - 일반적인 머신러닝 문제는 수천~수백만 개의 특성을 가지는 경우도 있음\n",
    "    - 특성이 너무 많으면 훈련이 느리게 될 뿐 아니라 좋은 솔루션을 찾기 어렵게 됨\n",
    "    - 이러한 문제를 차원의 저주(curse of dimensionality)라고 함\n",
    "- 차원 축소(dimensionality reduction)\n",
    "    - 데이터를 가장 잘 나타내는 일부 특성을 선택하여 데이터 크기를 줄이고 모델의 성능을 향상시키는 방법\n",
    "        - 예) 이미지 경계면의 배경 부분 제거, 서로 인접한 픽셀들을 결합 등"
   ]
  },
  {
   "cell_type": "markdown",
   "id": "701a10aa-79e9-48d7-bc06-d2b104cbe5c7",
   "metadata": {},
   "source": [
    "## 주성분 분석(principal component analysis)\n",
    "\n",
    "- 데이터에 있는 분산이 큰 방향을 찾는 것\n",
    "    - 분산 : 데이터가 퍼져있는 정도\n",
    " \n",
    "<img src=\"./image/pca1.gif\" />"
   ]
  },
  {
   "cell_type": "code",
   "execution_count": null,
   "id": "e54f7168-4d22-4a2a-9946-39c9fd57d2a5",
   "metadata": {},
   "outputs": [],
   "source": []
  }
 ],
 "metadata": {
  "kernelspec": {
   "display_name": "Python [conda env:base] *",
   "language": "python",
   "name": "conda-base-py"
  },
  "language_info": {
   "codemirror_mode": {
    "name": "ipython",
    "version": 3
   },
   "file_extension": ".py",
   "mimetype": "text/x-python",
   "name": "python",
   "nbconvert_exporter": "python",
   "pygments_lexer": "ipython3",
   "version": "3.12.7"
  }
 },
 "nbformat": 4,
 "nbformat_minor": 5
}
