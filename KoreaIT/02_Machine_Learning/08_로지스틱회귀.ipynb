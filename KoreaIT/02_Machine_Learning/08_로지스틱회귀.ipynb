{
 "cells": [
  {
   "cell_type": "markdown",
   "id": "a26ba634-d09a-4a41-a5f6-e71ca1c14039",
   "metadata": {},
   "source": [
    "# 로지스틱 회귀\n",
    "\n",
    "- 의의\n",
    "    - 확률을 예측하는데에 사용되는 통계 모델\n",
    "        - 특정 결과의 확률을 계산\n",
    "    - 결과값은 이진이어야함(결과는 둘 중 하나)\n",
    "        - 원하는 결과는 1, 원하지 않는 결과는 0\n",
    "    - 선형 회귀와 마찬가지로 다중공선성은 거의 없어야 함\n",
    "        - 독립변수는 서로 독립적이어야 함\n",
    "    - 종속변수와 관련 없는 독립변수를 제거할 때 더 효율적인 경향이 있음\n",
    "- 장점\n",
    "    - 많은 양의 연산 자원을 필요로 하지 않음\n",
    "    - 쉽게 해석할 수 있음\n",
    "- 단점\n",
    "    - 비선형 데이터에 사용하기 힘듦\n",
    "    - 과적합에 취약함\n",
    "    - 1과 0으로만 결과가 출력되기 때문에 범주형 결과를 예측하는데에만 사용가능"
   ]
  },
  {
   "cell_type": "code",
   "execution_count": 2,
   "id": "a3acb3fc-b02a-4c3e-9478-9cd569b8fab2",
   "metadata": {},
   "outputs": [],
   "source": [
    "import numpy as np\n",
    "import pandas as pd\n",
    "import matplotlib.pyplot as plt\n",
    "from sklearn.model_selection import train_test_split\n",
    "from sklearn.preprocessing import StandardScaler\n",
    "from sklearn.linear_model import LogisticRegression\n",
    "from scipy.special import expit, softmax"
   ]
  },
  {
   "cell_type": "code",
   "execution_count": 3,
   "id": "07314786-b017-424c-90e4-5c4b3dba2e0d",
   "metadata": {},
   "outputs": [
    {
     "data": {
      "image/png": "[encoded data removed]",
      "text/plain": [
       "<Figure size 640x480 with 1 Axes>"
      ]
     },
     "metadata": {},
     "output_type": "display_data"
    }
   ],
   "source": [
    "# 로지스틱 함수(=시그모이드 함수) 시각화\n",
    "z = np.arange(-5, 5, 0.1)\n",
    "# 로지스틱 함수 식\n",
    "phi = 1 / (1 + np.exp(-z))\n",
    "\n",
    "plt.plot(z, phi)\n",
    "plt.xlabel(\"z\")\n",
    "plt.ylabel(\"phi\")\n",
    "plt.show()"
   ]
  },
  {
   "cell_type": "code",
   "execution_count": 6,
   "id": "df4e509e-a256-42a6-8b0c-f0a7e1ca72de",
   "metadata": {},
   "outputs": [],
   "source": [
    "df = pd.read_csv(\"./data/Fish.csv\")"
   ]
  },
  {
   "cell_type": "code",
   "execution_count": 8,
   "id": "0b8fdc4a-ef98-4384-886d-9be359cb8b85",
   "metadata": {},
   "outputs": [],
   "source": [
    "df_bs = df[(df[\"Species\"].isin([\"Bream\", \"Smelt\"]))]"
   ]
  },
  {
   "cell_type": "code",
   "execution_count": 10,
   "id": "05f9f11a-1c1d-46c9-b674-0557e709ab59",
   "metadata": {},
   "outputs": [
    {
     "data": {
      "text/html": [
       "<div>\n",
       "<style scoped>\n",
       "    .dataframe tbody tr th:only-of-type {\n",
       "        vertical-align: middle;\n",
       "    }\n",
       "\n",
       "    .dataframe tbody tr th {\n",
       "        vertical-align: top;\n",
       "    }\n",
       "\n",
       "    .dataframe thead th {\n",
       "        text-align: right;\n",
       "    }\n",
       "</style>\n",
       "<table border=\"1\" class=\"dataframe\">\n",
       "  <thead>\n",
       "    <tr style=\"text-align: right;\">\n",
       "      <th></th>\n",
       "      <th>Species</th>\n",
       "      <th>Weight</th>\n",
       "      <th>Length1</th>\n",
       "      <th>Length2</th>\n",
       "      <th>Length3</th>\n",
       "      <th>Height</th>\n",
       "      <th>Width</th>\n",
       "    </tr>\n",
       "  </thead>\n",
       "  <tbody>\n",
       "    <tr>\n",
       "      <th>0</th>\n",
       "      <td>Bream</td>\n",
       "      <td>242.0</td>\n",
       "      <td>23.2</td>\n",
       "      <td>25.4</td>\n",
       "      <td>30.0</td>\n",
       "      <td>11.5200</td>\n",
       "      <td>4.0200</td>\n",
       "    </tr>\n",
       "    <tr>\n",
       "      <th>1</th>\n",
       "      <td>Bream</td>\n",
       "      <td>290.0</td>\n",
       "      <td>24.0</td>\n",
       "      <td>26.3</td>\n",
       "      <td>31.2</td>\n",
       "      <td>12.4800</td>\n",
       "      <td>4.3056</td>\n",
       "    </tr>\n",
       "    <tr>\n",
       "      <th>2</th>\n",
       "      <td>Bream</td>\n",
       "      <td>340.0</td>\n",
       "      <td>23.9</td>\n",
       "      <td>26.5</td>\n",
       "      <td>31.1</td>\n",
       "      <td>12.3778</td>\n",
       "      <td>4.6961</td>\n",
       "    </tr>\n",
       "    <tr>\n",
       "      <th>3</th>\n",
       "      <td>Bream</td>\n",
       "      <td>363.0</td>\n",
       "      <td>26.3</td>\n",
       "      <td>29.0</td>\n",
       "      <td>33.5</td>\n",
       "      <td>12.7300</td>\n",
       "      <td>4.4555</td>\n",
       "    </tr>\n",
       "    <tr>\n",
       "      <th>4</th>\n",
       "      <td>Bream</td>\n",
       "      <td>430.0</td>\n",
       "      <td>26.5</td>\n",
       "      <td>29.0</td>\n",
       "      <td>34.0</td>\n",
       "      <td>12.4440</td>\n",
       "      <td>5.1340</td>\n",
       "    </tr>\n",
       "  </tbody>\n",
       "</table>\n",
       "</div>"
      ],
      "text/plain": [
       "  Species  Weight  Length1  Length2  Length3   Height   Width\n",
       "0   Bream   242.0     23.2     25.4     30.0  11.5200  4.0200\n",
       "1   Bream   290.0     24.0     26.3     31.2  12.4800  4.3056\n",
       "2   Bream   340.0     23.9     26.5     31.1  12.3778  4.6961\n",
       "3   Bream   363.0     26.3     29.0     33.5  12.7300  4.4555\n",
       "4   Bream   430.0     26.5     29.0     34.0  12.4440  5.1340"
      ]
     },
     "execution_count": 10,
     "metadata": {},
     "output_type": "execute_result"
    }
   ],
   "source": [
    "df_bs.head()"
   ]
  },
  {
   "cell_type": "code",
   "execution_count": 12,
   "id": "f68d5c31-ee20-4f58-808e-e5cddeb71a4d",
   "metadata": {},
   "outputs": [
    {
     "data": {
      "text/plain": [
       "(49, 7)"
      ]
     },
     "execution_count": 12,
     "metadata": {},
     "output_type": "execute_result"
    }
   ],
   "source": [
    "df_bs.shape"
   ]
  },
  {
   "cell_type": "code",
   "execution_count": 14,
   "id": "eb31d549-9d2c-4599-a0b8-3d70732ffbbf",
   "metadata": {},
   "outputs": [],
   "source": [
    "# Length1 삭제\n",
    "df_bs = df_bs.drop(\"Length1\", axis = 1)"
   ]
  },
  {
   "cell_type": "code",
   "execution_count": 16,
   "id": "847984de-c67d-4e21-ac11-96c44ea7abb6",
   "metadata": {},
   "outputs": [
    {
     "data": {
      "text/html": [
       "<div>\n",
       "<style scoped>\n",
       "    .dataframe tbody tr th:only-of-type {\n",
       "        vertical-align: middle;\n",
       "    }\n",
       "\n",
       "    .dataframe tbody tr th {\n",
       "        vertical-align: top;\n",
       "    }\n",
       "\n",
       "    .dataframe thead th {\n",
       "        text-align: right;\n",
       "    }\n",
       "</style>\n",
       "<table border=\"1\" class=\"dataframe\">\n",
       "  <thead>\n",
       "    <tr style=\"text-align: right;\">\n",
       "      <th></th>\n",
       "      <th>Species</th>\n",
       "      <th>Weight</th>\n",
       "      <th>Length2</th>\n",
       "      <th>Length3</th>\n",
       "      <th>Height</th>\n",
       "      <th>Width</th>\n",
       "    </tr>\n",
       "  </thead>\n",
       "  <tbody>\n",
       "    <tr>\n",
       "      <th>0</th>\n",
       "      <td>Bream</td>\n",
       "      <td>242.0</td>\n",
       "      <td>25.4</td>\n",
       "      <td>30.0</td>\n",
       "      <td>11.5200</td>\n",
       "      <td>4.0200</td>\n",
       "    </tr>\n",
       "    <tr>\n",
       "      <th>1</th>\n",
       "      <td>Bream</td>\n",
       "      <td>290.0</td>\n",
       "      <td>26.3</td>\n",
       "      <td>31.2</td>\n",
       "      <td>12.4800</td>\n",
       "      <td>4.3056</td>\n",
       "    </tr>\n",
       "    <tr>\n",
       "      <th>2</th>\n",
       "      <td>Bream</td>\n",
       "      <td>340.0</td>\n",
       "      <td>26.5</td>\n",
       "      <td>31.1</td>\n",
       "      <td>12.3778</td>\n",
       "      <td>4.6961</td>\n",
       "    </tr>\n",
       "    <tr>\n",
       "      <th>3</th>\n",
       "      <td>Bream</td>\n",
       "      <td>363.0</td>\n",
       "      <td>29.0</td>\n",
       "      <td>33.5</td>\n",
       "      <td>12.7300</td>\n",
       "      <td>4.4555</td>\n",
       "    </tr>\n",
       "    <tr>\n",
       "      <th>4</th>\n",
       "      <td>Bream</td>\n",
       "      <td>430.0</td>\n",
       "      <td>29.0</td>\n",
       "      <td>34.0</td>\n",
       "      <td>12.4440</td>\n",
       "      <td>5.1340</td>\n",
       "    </tr>\n",
       "  </tbody>\n",
       "</table>\n",
       "</div>"
      ],
      "text/plain": [
       "  Species  Weight  Length2  Length3   Height   Width\n",
       "0   Bream   242.0     25.4     30.0  11.5200  4.0200\n",
       "1   Bream   290.0     26.3     31.2  12.4800  4.3056\n",
       "2   Bream   340.0     26.5     31.1  12.3778  4.6961\n",
       "3   Bream   363.0     29.0     33.5  12.7300  4.4555\n",
       "4   Bream   430.0     29.0     34.0  12.4440  5.1340"
      ]
     },
     "execution_count": 16,
     "metadata": {},
     "output_type": "execute_result"
    }
   ],
   "source": [
    "df_bs.head()"
   ]
  },
  {
   "cell_type": "code",
   "execution_count": 18,
   "id": "308f24e7-c153-40bf-8983-7b9d72494453",
   "metadata": {},
   "outputs": [],
   "source": [
    "x = df_bs.drop(\"Species\", axis = 1)\n",
    "y = df_bs[\"Species\"]"
   ]
  },
  {
   "cell_type": "code",
   "execution_count": 20,
   "id": "287fe208-7c88-4e86-9f74-25ca8e001192",
   "metadata": {},
   "outputs": [],
   "source": [
    "# 75 : 25 데이터 분할\n",
    "x_train, x_test, y_train, y_test = train_test_split(x, y, test_size = 0.25, stratify = y, random_state = 26)"
   ]
  },
  {
   "cell_type": "code",
   "execution_count": 22,
   "id": "4b75c1de-3d6a-4b56-815c-a3fd702b4064",
   "metadata": {},
   "outputs": [],
   "source": [
    "ss = StandardScaler()\n",
    "scaled_train = ss.fit_transform(x_train)\n",
    "scaled_test = ss.transform(x_test)"
   ]
  },
  {
   "cell_type": "markdown",
   "id": "cb834398-96d8-40c1-b797-8b1fa4d43d01",
   "metadata": {},
   "source": [
    "## 모델 훈련"
   ]
  },
  {
   "cell_type": "code",
   "execution_count": 25,
   "id": "3a1112e9-3e17-4f47-931c-a052e05caa17",
   "metadata": {},
   "outputs": [
    {
     "data": {
      "text/html": [
       "<style>#sk-container-id-1 {\n",
       "  /* Definition of color scheme common for light and dark mode */\n",
       "  --sklearn-color-text: black;\n",
       "  --sklearn-color-line: gray;\n",
       "  /* Definition of color scheme for unfitted estimators */\n",
       "  --sklearn-color-unfitted-level-0: #fff5e6;\n",
       "  --sklearn-color-unfitted-level-1: #f6e4d2;\n",
       "  --sklearn-color-unfitted-level-2: #ffe0b3;\n",
       "  --sklearn-color-unfitted-level-3: chocolate;\n",
       "  /* Definition of color scheme for fitted estimators */\n",
       "  --sklearn-color-fitted-level-0: #f0f8ff;\n",
       "  --sklearn-color-fitted-level-1: #d4ebff;\n",
       "  --sklearn-color-fitted-level-2: #b3dbfd;\n",
       "  --sklearn-color-fitted-level-3: cornflowerblue;\n",
       "\n",
       "  /* Specific color for light theme */\n",
       "  --sklearn-color-text-on-default-background: var(--sg-text-color, var(--theme-code-foreground, var(--jp-content-font-color1, black)));\n",
       "  --sklearn-color-background: var(--sg-background-color, var(--theme-background, var(--jp-layout-color0, white)));\n",
       "  --sklearn-color-border-box: var(--sg-text-color, var(--theme-code-foreground, var(--jp-content-font-color1, black)));\n",
       "  --sklearn-color-icon: #696969;\n",
       "\n",
       "  @media (prefers-color-scheme: dark) {\n",
       "    /* Redefinition of color scheme for dark theme */\n",
       "    --sklearn-color-text-on-default-background: var(--sg-text-color, var(--theme-code-foreground, var(--jp-content-font-color1, white)));\n",
       "    --sklearn-color-background: var(--sg-background-color, var(--theme-background, var(--jp-layout-color0, #111)));\n",
       "    --sklearn-color-border-box: var(--sg-text-color, var(--theme-code-foreground, var(--jp-content-font-color1, white)));\n",
       "    --sklearn-color-icon: #878787;\n",
       "  }\n",
       "}\n",
       "\n",
       "#sk-container-id-1 {\n",
       "  color: var(--sklearn-color-text);\n",
       "}\n",
       "\n",
       "#sk-container-id-1 pre {\n",
       "  padding: 0;\n",
       "}\n",
       "\n",
       "#sk-container-id-1 input.sk-hidden--visually {\n",
       "  border: 0;\n",
       "  clip: rect(1px 1px 1px 1px);\n",
       "  clip: rect(1px, 1px, 1px, 1px);\n",
       "  height: 1px;\n",
       "  margin: -1px;\n",
       "  overflow: hidden;\n",
       "  padding: 0;\n",
       "  position: absolute;\n",
       "  width: 1px;\n",
       "}\n",
       "\n",
       "#sk-container-id-1 div.sk-dashed-wrapped {\n",
       "  border: 1px dashed var(--sklearn-color-line);\n",
       "  margin: 0 0.4em 0.5em 0.4em;\n",
       "  box-sizing: border-box;\n",
       "  padding-bottom: 0.4em;\n",
       "  background-color: var(--sklearn-color-background);\n",
       "}\n",
       "\n",
       "#sk-container-id-1 div.sk-container {\n",
       "  /* jupyter's `normalize.less` sets `[hidden] { display: none; }`\n",
       "     but bootstrap.min.css set `[hidden] { display: none !important; }`\n",
       "     so we also need the `!important` here to be able to override the\n",
       "     default hidden behavior on the sphinx rendered scikit-learn.org.\n",
       "     See: https://github.com/scikit-learn/scikit-learn/issues/21755 */\n",
       "  display: inline-block !important;\n",
       "  position: relative;\n",
       "}\n",
       "\n",
       "#sk-container-id-1 div.sk-text-repr-fallback {\n",
       "  display: none;\n",
       "}\n",
       "\n",
       "div.sk-parallel-item,\n",
       "div.sk-serial,\n",
       "div.sk-item {\n",
       "  /* draw centered vertical line to link estimators */\n",
       "  background-image: linear-gradient(var(--sklearn-color-text-on-default-background), var(--sklearn-color-text-on-default-background));\n",
       "  background-size: 2px 100%;\n",
       "  background-repeat: no-repeat;\n",
       "  background-position: center center;\n",
       "}\n",
       "\n",
       "/* Parallel-specific style estimator block */\n",
       "\n",
       "#sk-container-id-1 div.sk-parallel-item::after {\n",
       "  content: \"\";\n",
       "  width: 100%;\n",
       "  border-bottom: 2px solid var(--sklearn-color-text-on-default-background);\n",
       "  flex-grow: 1;\n",
       "}\n",
       "\n",
       "#sk-container-id-1 div.sk-parallel {\n",
       "  display: flex;\n",
       "  align-items: stretch;\n",
       "  justify-content: center;\n",
       "  background-color: var(--sklearn-color-background);\n",
       "  position: relative;\n",
       "}\n",
       "\n",
       "#sk-container-id-1 div.sk-parallel-item {\n",
       "  display: flex;\n",
       "  flex-direction: column;\n",
       "}\n",
       "\n",
       "#sk-container-id-1 div.sk-parallel-item:first-child::after {\n",
       "  align-self: flex-end;\n",
       "  width: 50%;\n",
       "}\n",
       "\n",
       "#sk-container-id-1 div.sk-parallel-item:last-child::after {\n",
       "  align-self: flex-start;\n",
       "  width: 50%;\n",
       "}\n",
       "\n",
       "#sk-container-id-1 div.sk-parallel-item:only-child::after {\n",
       "  width: 0;\n",
       "}\n",
       "\n",
       "/* Serial-specific style estimator block */\n",
       "\n",
       "#sk-container-id-1 div.sk-serial {\n",
       "  display: flex;\n",
       "  flex-direction: column;\n",
       "  align-items: center;\n",
       "  background-color: var(--sklearn-color-background);\n",
       "  padding-right: 1em;\n",
       "  padding-left: 1em;\n",
       "}\n",
       "\n",
       "\n",
       "/* Toggleable style: style used for estimator/Pipeline/ColumnTransformer box that is\n",
       "clickable and can be expanded/collapsed.\n",
       "- Pipeline and ColumnTransformer use this feature and define the default style\n",
       "- Estimators will overwrite some part of the style using the `sk-estimator` class\n",
       "*/\n",
       "\n",
       "/* Pipeline and ColumnTransformer style (default) */\n",
       "\n",
       "#sk-container-id-1 div.sk-toggleable {\n",
       "  /* Default theme specific background. It is overwritten whether we have a\n",
       "  specific estimator or a Pipeline/ColumnTransformer */\n",
       "  background-color: var(--sklearn-color-background);\n",
       "}\n",
       "\n",
       "/* Toggleable label */\n",
       "#sk-container-id-1 label.sk-toggleable__label {\n",
       "  cursor: pointer;\n",
       "  display: block;\n",
       "  width: 100%;\n",
       "  margin-bottom: 0;\n",
       "  padding: 0.5em;\n",
       "  box-sizing: border-box;\n",
       "  text-align: center;\n",
       "}\n",
       "\n",
       "#sk-container-id-1 label.sk-toggleable__label-arrow:before {\n",
       "  /* Arrow on the left of the label */\n",
       "  content: \"▸\";\n",
       "  float: left;\n",
       "  margin-right: 0.25em;\n",
       "  color: var(--sklearn-color-icon);\n",
       "}\n",
       "\n",
       "#sk-container-id-1 label.sk-toggleable__label-arrow:hover:before {\n",
       "  color: var(--sklearn-color-text);\n",
       "}\n",
       "\n",
       "/* Toggleable content - dropdown */\n",
       "\n",
       "#sk-container-id-1 div.sk-toggleable__content {\n",
       "  max-height: 0;\n",
       "  max-width: 0;\n",
       "  overflow: hidden;\n",
       "  text-align: left;\n",
       "  /* unfitted */\n",
       "  background-color: var(--sklearn-color-unfitted-level-0);\n",
       "}\n",
       "\n",
       "#sk-container-id-1 div.sk-toggleable__content.fitted {\n",
       "  /* fitted */\n",
       "  background-color: var(--sklearn-color-fitted-level-0);\n",
       "}\n",
       "\n",
       "#sk-container-id-1 div.sk-toggleable__content pre {\n",
       "  margin: 0.2em;\n",
       "  border-radius: 0.25em;\n",
       "  color: var(--sklearn-color-text);\n",
       "  /* unfitted */\n",
       "  background-color: var(--sklearn-color-unfitted-level-0);\n",
       "}\n",
       "\n",
       "#sk-container-id-1 div.sk-toggleable__content.fitted pre {\n",
       "  /* unfitted */\n",
       "  background-color: var(--sklearn-color-fitted-level-0);\n",
       "}\n",
       "\n",
       "#sk-container-id-1 input.sk-toggleable__control:checked~div.sk-toggleable__content {\n",
       "  /* Expand drop-down */\n",
       "  max-height: 200px;\n",
       "  max-width: 100%;\n",
       "  overflow: auto;\n",
       "}\n",
       "\n",
       "#sk-container-id-1 input.sk-toggleable__control:checked~label.sk-toggleable__label-arrow:before {\n",
       "  content: \"▾\";\n",
       "}\n",
       "\n",
       "/* Pipeline/ColumnTransformer-specific style */\n",
       "\n",
       "#sk-container-id-1 div.sk-label input.sk-toggleable__control:checked~label.sk-toggleable__label {\n",
       "  color: var(--sklearn-color-text);\n",
       "  background-color: var(--sklearn-color-unfitted-level-2);\n",
       "}\n",
       "\n",
       "#sk-container-id-1 div.sk-label.fitted input.sk-toggleable__control:checked~label.sk-toggleable__label {\n",
       "  background-color: var(--sklearn-color-fitted-level-2);\n",
       "}\n",
       "\n",
       "/* Estimator-specific style */\n",
       "\n",
       "/* Colorize estimator box */\n",
       "#sk-container-id-1 div.sk-estimator input.sk-toggleable__control:checked~label.sk-toggleable__label {\n",
       "  /* unfitted */\n",
       "  background-color: var(--sklearn-color-unfitted-level-2);\n",
       "}\n",
       "\n",
       "#sk-container-id-1 div.sk-estimator.fitted input.sk-toggleable__control:checked~label.sk-toggleable__label {\n",
       "  /* fitted */\n",
       "  background-color: var(--sklearn-color-fitted-level-2);\n",
       "}\n",
       "\n",
       "#sk-container-id-1 div.sk-label label.sk-toggleable__label,\n",
       "#sk-container-id-1 div.sk-label label {\n",
       "  /* The background is the default theme color */\n",
       "  color: var(--sklearn-color-text-on-default-background);\n",
       "}\n",
       "\n",
       "/* On hover, darken the color of the background */\n",
       "#sk-container-id-1 div.sk-label:hover label.sk-toggleable__label {\n",
       "  color: var(--sklearn-color-text);\n",
       "  background-color: var(--sklearn-color-unfitted-level-2);\n",
       "}\n",
       "\n",
       "/* Label box, darken color on hover, fitted */\n",
       "#sk-container-id-1 div.sk-label.fitted:hover label.sk-toggleable__label.fitted {\n",
       "  color: var(--sklearn-color-text);\n",
       "  background-color: var(--sklearn-color-fitted-level-2);\n",
       "}\n",
       "\n",
       "/* Estimator label */\n",
       "\n",
       "#sk-container-id-1 div.sk-label label {\n",
       "  font-family: monospace;\n",
       "  font-weight: bold;\n",
       "  display: inline-block;\n",
       "  line-height: 1.2em;\n",
       "}\n",
       "\n",
       "#sk-container-id-1 div.sk-label-container {\n",
       "  text-align: center;\n",
       "}\n",
       "\n",
       "/* Estimator-specific */\n",
       "#sk-container-id-1 div.sk-estimator {\n",
       "  font-family: monospace;\n",
       "  border: 1px dotted var(--sklearn-color-border-box);\n",
       "  border-radius: 0.25em;\n",
       "  box-sizing: border-box;\n",
       "  margin-bottom: 0.5em;\n",
       "  /* unfitted */\n",
       "  background-color: var(--sklearn-color-unfitted-level-0);\n",
       "}\n",
       "\n",
       "#sk-container-id-1 div.sk-estimator.fitted {\n",
       "  /* fitted */\n",
       "  background-color: var(--sklearn-color-fitted-level-0);\n",
       "}\n",
       "\n",
       "/* on hover */\n",
       "#sk-container-id-1 div.sk-estimator:hover {\n",
       "  /* unfitted */\n",
       "  background-color: var(--sklearn-color-unfitted-level-2);\n",
       "}\n",
       "\n",
       "#sk-container-id-1 div.sk-estimator.fitted:hover {\n",
       "  /* fitted */\n",
       "  background-color: var(--sklearn-color-fitted-level-2);\n",
       "}\n",
       "\n",
       "/* Specification for estimator info (e.g. \"i\" and \"?\") */\n",
       "\n",
       "/* Common style for \"i\" and \"?\" */\n",
       "\n",
       ".sk-estimator-doc-link,\n",
       "a:link.sk-estimator-doc-link,\n",
       "a:visited.sk-estimator-doc-link {\n",
       "  float: right;\n",
       "  font-size: smaller;\n",
       "  line-height: 1em;\n",
       "  font-family: monospace;\n",
       "  background-color: var(--sklearn-color-background);\n",
       "  border-radius: 1em;\n",
       "  height: 1em;\n",
       "  width: 1em;\n",
       "  text-decoration: none !important;\n",
       "  margin-left: 1ex;\n",
       "  /* unfitted */\n",
       "  border: var(--sklearn-color-unfitted-level-1) 1pt solid;\n",
       "  color: var(--sklearn-color-unfitted-level-1);\n",
       "}\n",
       "\n",
       ".sk-estimator-doc-link.fitted,\n",
       "a:link.sk-estimator-doc-link.fitted,\n",
       "a:visited.sk-estimator-doc-link.fitted {\n",
       "  /* fitted */\n",
       "  border: var(--sklearn-color-fitted-level-1) 1pt solid;\n",
       "  color: var(--sklearn-color-fitted-level-1);\n",
       "}\n",
       "\n",
       "/* On hover */\n",
       "div.sk-estimator:hover .sk-estimator-doc-link:hover,\n",
       ".sk-estimator-doc-link:hover,\n",
       "div.sk-label-container:hover .sk-estimator-doc-link:hover,\n",
       ".sk-estimator-doc-link:hover {\n",
       "  /* unfitted */\n",
       "  background-color: var(--sklearn-color-unfitted-level-3);\n",
       "  color: var(--sklearn-color-background);\n",
       "  text-decoration: none;\n",
       "}\n",
       "\n",
       "div.sk-estimator.fitted:hover .sk-estimator-doc-link.fitted:hover,\n",
       ".sk-estimator-doc-link.fitted:hover,\n",
       "div.sk-label-container:hover .sk-estimator-doc-link.fitted:hover,\n",
       ".sk-estimator-doc-link.fitted:hover {\n",
       "  /* fitted */\n",
       "  background-color: var(--sklearn-color-fitted-level-3);\n",
       "  color: var(--sklearn-color-background);\n",
       "  text-decoration: none;\n",
       "}\n",
       "\n",
       "/* Span, style for the box shown on hovering the info icon */\n",
       ".sk-estimator-doc-link span {\n",
       "  display: none;\n",
       "  z-index: 9999;\n",
       "  position: relative;\n",
       "  font-weight: normal;\n",
       "  right: .2ex;\n",
       "  padding: .5ex;\n",
       "  margin: .5ex;\n",
       "  width: min-content;\n",
       "  min-width: 20ex;\n",
       "  max-width: 50ex;\n",
       "  color: var(--sklearn-color-text);\n",
       "  box-shadow: 2pt 2pt 4pt #999;\n",
       "  /* unfitted */\n",
       "  background: var(--sklearn-color-unfitted-level-0);\n",
       "  border: .5pt solid var(--sklearn-color-unfitted-level-3);\n",
       "}\n",
       "\n",
       ".sk-estimator-doc-link.fitted span {\n",
       "  /* fitted */\n",
       "  background: var(--sklearn-color-fitted-level-0);\n",
       "  border: var(--sklearn-color-fitted-level-3);\n",
       "}\n",
       "\n",
       ".sk-estimator-doc-link:hover span {\n",
       "  display: block;\n",
       "}\n",
       "\n",
       "/* \"?\"-specific style due to the `<a>` HTML tag */\n",
       "\n",
       "#sk-container-id-1 a.estimator_doc_link {\n",
       "  float: right;\n",
       "  font-size: 1rem;\n",
       "  line-height: 1em;\n",
       "  font-family: monospace;\n",
       "  background-color: var(--sklearn-color-background);\n",
       "  border-radius: 1rem;\n",
       "  height: 1rem;\n",
       "  width: 1rem;\n",
       "  text-decoration: none;\n",
       "  /* unfitted */\n",
       "  color: var(--sklearn-color-unfitted-level-1);\n",
       "  border: var(--sklearn-color-unfitted-level-1) 1pt solid;\n",
       "}\n",
       "\n",
       "#sk-container-id-1 a.estimator_doc_link.fitted {\n",
       "  /* fitted */\n",
       "  border: var(--sklearn-color-fitted-level-1) 1pt solid;\n",
       "  color: var(--sklearn-color-fitted-level-1);\n",
       "}\n",
       "\n",
       "/* On hover */\n",
       "#sk-container-id-1 a.estimator_doc_link:hover {\n",
       "  /* unfitted */\n",
       "  background-color: var(--sklearn-color-unfitted-level-3);\n",
       "  color: var(--sklearn-color-background);\n",
       "  text-decoration: none;\n",
       "}\n",
       "\n",
       "#sk-container-id-1 a.estimator_doc_link.fitted:hover {\n",
       "  /* fitted */\n",
       "  background-color: var(--sklearn-color-fitted-level-3);\n",
       "}\n",
       "</style><div id=\"sk-container-id-1\" class=\"sk-top-container\"><div class=\"sk-text-repr-fallback\"><pre>LogisticRegression()</pre><b>In a Jupyter environment, please rerun this cell to show the HTML representation or trust the notebook. <br />On GitHub, the HTML representation is unable to render, please try loading this page with nbviewer.org.</b></div><div class=\"sk-container\" hidden><div class=\"sk-item\"><div class=\"sk-estimator fitted sk-toggleable\"><input class=\"sk-toggleable__control sk-hidden--visually\" id=\"sk-estimator-id-1\" type=\"checkbox\" checked><label for=\"sk-estimator-id-1\" class=\"sk-toggleable__label fitted sk-toggleable__label-arrow fitted\">&nbsp;&nbsp;LogisticRegression<a class=\"sk-estimator-doc-link fitted\" rel=\"noreferrer\" target=\"_blank\" href=\"https://scikit-learn.org/1.5/modules/generated/sklearn.linear_model.LogisticRegression.html\">?<span>Documentation for LogisticRegression</span></a><span class=\"sk-estimator-doc-link fitted\">i<span>Fitted</span></span></label><div class=\"sk-toggleable__content fitted\"><pre>LogisticRegression()</pre></div> </div></div></div></div>"
      ],
      "text/plain": [
       "LogisticRegression()"
      ]
     },
     "execution_count": 25,
     "metadata": {},
     "output_type": "execute_result"
    }
   ],
   "source": [
    "logi = LogisticRegression()\n",
    "logi.fit(scaled_train, y_train)"
   ]
  },
  {
   "cell_type": "code",
   "execution_count": 27,
   "id": "0bdcf56d-1bf2-4b21-8064-c92ab65d9342",
   "metadata": {},
   "outputs": [
    {
     "data": {
      "text/plain": [
       "array(['Bream', 'Bream', 'Bream', 'Smelt', 'Smelt', 'Bream', 'Smelt',\n",
       "       'Smelt', 'Bream', 'Bream', 'Bream', 'Bream', 'Bream'], dtype=object)"
      ]
     },
     "execution_count": 27,
     "metadata": {},
     "output_type": "execute_result"
    }
   ],
   "source": [
    "# test data에 대한 예측\n",
    "logi.predict(scaled_test)"
   ]
  },
  {
   "cell_type": "code",
   "execution_count": 29,
   "id": "0dcd8fb2-b925-472b-8381-c55472edd4a4",
   "metadata": {},
   "outputs": [
    {
     "data": {
      "text/plain": [
       "array([[0.90804325, 0.09195675],\n",
       "       [0.96957412, 0.03042588],\n",
       "       [0.95348546, 0.04651454],\n",
       "       [0.02292033, 0.97707967],\n",
       "       [0.03225314, 0.96774686],\n",
       "       [0.99525805, 0.00474195],\n",
       "       [0.02734957, 0.97265043],\n",
       "       [0.04104716, 0.95895284],\n",
       "       [0.99862585, 0.00137415],\n",
       "       [0.8282424 , 0.1717576 ],\n",
       "       [0.88577569, 0.11422431],\n",
       "       [0.97134194, 0.02865806],\n",
       "       [0.98991588, 0.01008412]])"
      ]
     },
     "execution_count": 29,
     "metadata": {},
     "output_type": "execute_result"
    }
   ],
   "source": [
    "# 예측 확률 출력 [도미, 빙어]\n",
    "logi.predict_proba(scaled_test)"
   ]
  },
  {
   "cell_type": "code",
   "execution_count": 31,
   "id": "3c8159f9-b6ec-4cb5-828e-829db05fb1ee",
   "metadata": {},
   "outputs": [
    {
     "data": {
      "text/plain": [
       "array(['Bream', 'Smelt'], dtype=object)"
      ]
     },
     "execution_count": 31,
     "metadata": {},
     "output_type": "execute_result"
    }
   ],
   "source": [
    "# 종속변수 값 확인\n",
    "logi.classes_"
   ]
  },
  {
   "cell_type": "code",
   "execution_count": 33,
   "id": "8b380516-18f9-41e3-9d84-3eee7c9b05ea",
   "metadata": {},
   "outputs": [
    {
     "data": {
      "text/plain": [
       "(array([[-0.62908294, -0.7688014 , -0.79029437, -0.80450965, -0.74886043]]),\n",
       " array([-2.54215838]))"
      ]
     },
     "execution_count": 33,
     "metadata": {},
     "output_type": "execute_result"
    }
   ],
   "source": [
    "# 로지스틱 회귀 회귀식 확인\n",
    "logi.coef_, logi.intercept_"
   ]
  },
  {
   "cell_type": "code",
   "execution_count": 35,
   "id": "99afe40e-4432-456e-88a0-583c542fd741",
   "metadata": {},
   "outputs": [
    {
     "data": {
      "text/plain": [
       "Index(['Weight', 'Length2', 'Length3', 'Height', 'Width'], dtype='object')"
      ]
     },
     "execution_count": 35,
     "metadata": {},
     "output_type": "execute_result"
    }
   ],
   "source": [
    "x_train.columns"
   ]
  },
  {
   "cell_type": "markdown",
   "id": "fbdaac85-8462-44ce-8446-a41a4c21dc27",
   "metadata": {},
   "source": [
    "- z = Weight * -0.62 + Length2 * -0.76 + Length3 * -0.79 + Height * -0.8 + Width * -0.74 + (-2.54)"
   ]
  },
  {
   "cell_type": "markdown",
   "id": "61e44aec-ca12-48ec-9aa6-b8571a1380b7",
   "metadata": {},
   "source": [
    "### 회귀식을 통한 확률값 계산"
   ]
  },
  {
   "cell_type": "code",
   "execution_count": 39,
   "id": "612bfb01-a19a-405b-b169-ed539035690c",
   "metadata": {},
   "outputs": [
    {
     "data": {
      "text/plain": [
       "array([-0.42533364, -0.1403064 , -0.08178733,  0.07758921,  0.16754518])"
      ]
     },
     "execution_count": 39,
     "metadata": {},
     "output_type": "execute_result"
    }
   ],
   "source": [
    "# z값 계산\n",
    "scaled_test[0]"
   ]
  },
  {
   "cell_type": "code",
   "execution_count": 41,
   "id": "7672daff-d005-4bde-9993-ee2c38b7746c",
   "metadata": {},
   "outputs": [
    {
     "data": {
      "text/plain": [
       "-2.2844"
      ]
     },
     "execution_count": 41,
     "metadata": {},
     "output_type": "execute_result"
    }
   ],
   "source": [
    "-0.42 * -0.62 + (-0.14) * -0.76 + (-0.08) * -0.79 + 0.07 * -0.8 + 0.16 * -0.74 -2.54"
   ]
  },
  {
   "cell_type": "code",
   "execution_count": 43,
   "id": "21b391b4-dac0-43de-9508-b047baaa68fb",
   "metadata": {},
   "outputs": [
    {
     "data": {
      "text/plain": [
       "array([-2.28997365, -3.46156319, -3.02035933,  3.75254384,  3.40135517])"
      ]
     },
     "execution_count": 43,
     "metadata": {},
     "output_type": "execute_result"
    }
   ],
   "source": [
    "decision_z = logi.decision_function(scaled_test[:5])\n",
    "decision_z"
   ]
  },
  {
   "cell_type": "code",
   "execution_count": 45,
   "id": "6b83b629-c7ff-4e0a-8b10-65e862d85bc7",
   "metadata": {},
   "outputs": [
    {
     "data": {
      "text/plain": [
       "array([0.09195675, 0.03042588, 0.04651454, 0.97707967, 0.96774686])"
      ]
     },
     "execution_count": 45,
     "metadata": {},
     "output_type": "execute_result"
    }
   ],
   "source": [
    "# z값을 시그모이드 함수를 통과시켜 확률값 계산\n",
    "expit(decision_z)"
   ]
  },
  {
   "cell_type": "markdown",
   "id": "2ffda939-95eb-4bc3-a2da-5f2457cc17a8",
   "metadata": {},
   "source": [
    "# 로지스틱 회귀로 다중 분류"
   ]
  },
  {
   "cell_type": "code",
   "execution_count": 48,
   "id": "fb5b2484-a268-4905-93a8-383032fe01fe",
   "metadata": {},
   "outputs": [],
   "source": [
    "df = df.drop(\"Length1\", axis = 1)"
   ]
  },
  {
   "cell_type": "code",
   "execution_count": 50,
   "id": "ae82fb93-8939-4a75-aee1-3e64e225ff14",
   "metadata": {},
   "outputs": [
    {
     "data": {
      "text/html": [
       "<div>\n",
       "<style scoped>\n",
       "    .dataframe tbody tr th:only-of-type {\n",
       "        vertical-align: middle;\n",
       "    }\n",
       "\n",
       "    .dataframe tbody tr th {\n",
       "        vertical-align: top;\n",
       "    }\n",
       "\n",
       "    .dataframe thead th {\n",
       "        text-align: right;\n",
       "    }\n",
       "</style>\n",
       "<table border=\"1\" class=\"dataframe\">\n",
       "  <thead>\n",
       "    <tr style=\"text-align: right;\">\n",
       "      <th></th>\n",
       "      <th>Species</th>\n",
       "      <th>Weight</th>\n",
       "      <th>Length2</th>\n",
       "      <th>Length3</th>\n",
       "      <th>Height</th>\n",
       "      <th>Width</th>\n",
       "    </tr>\n",
       "  </thead>\n",
       "  <tbody>\n",
       "    <tr>\n",
       "      <th>0</th>\n",
       "      <td>Bream</td>\n",
       "      <td>242.0</td>\n",
       "      <td>25.4</td>\n",
       "      <td>30.0</td>\n",
       "      <td>11.5200</td>\n",
       "      <td>4.0200</td>\n",
       "    </tr>\n",
       "    <tr>\n",
       "      <th>1</th>\n",
       "      <td>Bream</td>\n",
       "      <td>290.0</td>\n",
       "      <td>26.3</td>\n",
       "      <td>31.2</td>\n",
       "      <td>12.4800</td>\n",
       "      <td>4.3056</td>\n",
       "    </tr>\n",
       "    <tr>\n",
       "      <th>2</th>\n",
       "      <td>Bream</td>\n",
       "      <td>340.0</td>\n",
       "      <td>26.5</td>\n",
       "      <td>31.1</td>\n",
       "      <td>12.3778</td>\n",
       "      <td>4.6961</td>\n",
       "    </tr>\n",
       "    <tr>\n",
       "      <th>3</th>\n",
       "      <td>Bream</td>\n",
       "      <td>363.0</td>\n",
       "      <td>29.0</td>\n",
       "      <td>33.5</td>\n",
       "      <td>12.7300</td>\n",
       "      <td>4.4555</td>\n",
       "    </tr>\n",
       "    <tr>\n",
       "      <th>4</th>\n",
       "      <td>Bream</td>\n",
       "      <td>430.0</td>\n",
       "      <td>29.0</td>\n",
       "      <td>34.0</td>\n",
       "      <td>12.4440</td>\n",
       "      <td>5.1340</td>\n",
       "    </tr>\n",
       "  </tbody>\n",
       "</table>\n",
       "</div>"
      ],
      "text/plain": [
       "  Species  Weight  Length2  Length3   Height   Width\n",
       "0   Bream   242.0     25.4     30.0  11.5200  4.0200\n",
       "1   Bream   290.0     26.3     31.2  12.4800  4.3056\n",
       "2   Bream   340.0     26.5     31.1  12.3778  4.6961\n",
       "3   Bream   363.0     29.0     33.5  12.7300  4.4555\n",
       "4   Bream   430.0     29.0     34.0  12.4440  5.1340"
      ]
     },
     "execution_count": 50,
     "metadata": {},
     "output_type": "execute_result"
    }
   ],
   "source": [
    "df.head()"
   ]
  },
  {
   "cell_type": "code",
   "execution_count": 52,
   "id": "2b392a50-9912-4d61-b398-de664d5838e6",
   "metadata": {},
   "outputs": [
    {
     "data": {
      "text/plain": [
       "(159, 6)"
      ]
     },
     "execution_count": 52,
     "metadata": {},
     "output_type": "execute_result"
    }
   ],
   "source": [
    "df.shape"
   ]
  },
  {
   "cell_type": "code",
   "execution_count": 54,
   "id": "f2c388a4-e035-417f-8f32-035c2c8d6096",
   "metadata": {},
   "outputs": [
    {
     "data": {
      "text/plain": [
       "Species\n",
       "Perch        56\n",
       "Bream        35\n",
       "Roach        20\n",
       "Pike         17\n",
       "Smelt        14\n",
       "Parkki       11\n",
       "Whitefish     6\n",
       "Name: count, dtype: int64"
      ]
     },
     "execution_count": 54,
     "metadata": {},
     "output_type": "execute_result"
    }
   ],
   "source": [
    "# 종속변수 확인\n",
    "df[\"Species\"].value_counts()"
   ]
  },
  {
   "cell_type": "code",
   "execution_count": 56,
   "id": "ea2a7759-8877-4411-a5d9-cdd951882131",
   "metadata": {},
   "outputs": [],
   "source": [
    "x = df.drop(\"Species\", axis = 1)\n",
    "y = df[\"Species\"]"
   ]
  },
  {
   "cell_type": "code",
   "execution_count": 58,
   "id": "e89b2ec9-3fed-4068-a6f7-84a7ddeb5174",
   "metadata": {},
   "outputs": [],
   "source": [
    "x_train, x_test, y_train, y_test = train_test_split(x, y, test_size = 0.25, stratify = y, random_state = 26)"
   ]
  },
  {
   "cell_type": "code",
   "execution_count": 60,
   "id": "7c66cf71-0ecd-41e8-b9ed-4b59546bfc18",
   "metadata": {},
   "outputs": [],
   "source": [
    "ss = StandardScaler()\n",
    "scaled_train = ss.fit_transform(x_train)\n",
    "scaled_test = ss.transform(x_test)"
   ]
  },
  {
   "cell_type": "code",
   "execution_count": 62,
   "id": "3b996ca9-f9d6-44e7-8c5b-1861725a8925",
   "metadata": {},
   "outputs": [
    {
     "name": "stdout",
     "output_type": "stream",
     "text": [
      "0.8151260504201681\n",
      "0.85\n"
     ]
    }
   ],
   "source": [
    "# 로지스틱 회귀 모델 훈련\n",
    "logi = LogisticRegression()\n",
    "logi.fit(scaled_train, y_train)\n",
    "print(logi.score(scaled_train, y_train))\n",
    "print(logi.score(scaled_test, y_test))"
   ]
  },
  {
   "cell_type": "code",
   "execution_count": 64,
   "id": "57f2397f-e781-44a0-8838-bfe2f16324ab",
   "metadata": {},
   "outputs": [
    {
     "data": {
      "text/plain": [
       "array(['Perch', 'Bream', 'Pike', 'Pike', 'Perch', 'Bream', 'Smelt',\n",
       "       'Perch', 'Perch', 'Smelt', 'Bream', 'Perch', 'Parkki', 'Smelt',\n",
       "       'Perch', 'Bream', 'Bream', 'Perch', 'Perch', 'Pike', 'Perch',\n",
       "       'Perch', 'Perch', 'Perch', 'Perch', 'Perch', 'Perch', 'Bream',\n",
       "       'Bream', 'Parkki', 'Pike', 'Perch', 'Perch', 'Bream', 'Bream',\n",
       "       'Parkki', 'Perch', 'Smelt', 'Perch', 'Perch'], dtype=object)"
      ]
     },
     "execution_count": 64,
     "metadata": {},
     "output_type": "execute_result"
    }
   ],
   "source": [
    "# test data에 대한 예측\n",
    "logi.predict(scaled_test)"
   ]
  },
  {
   "cell_type": "code",
   "execution_count": 66,
   "id": "00901a54-8361-4f7d-8283-202920be990c",
   "metadata": {},
   "outputs": [
    {
     "name": "stdout",
     "output_type": "stream",
     "text": [
      "[[0.003 0.078 0.577 0.007 0.256 0.063 0.016]\n",
      " [0.513 0.27  0.06  0.011 0.098 0.    0.047]\n",
      " [0.009 0.014 0.238 0.562 0.147 0.007 0.024]\n",
      " [0.005 0.    0.061 0.914 0.009 0.    0.011]\n",
      " [0.025 0.    0.853 0.017 0.005 0.    0.1  ]\n",
      " [0.765 0.087 0.056 0.006 0.029 0.    0.057]\n",
      " [0.    0.024 0.107 0.001 0.058 0.81  0.001]\n",
      " [0.014 0.112 0.467 0.031 0.314 0.029 0.032]\n",
      " [0.004 0.049 0.66  0.011 0.233 0.02  0.023]\n",
      " [0.    0.028 0.105 0.001 0.061 0.804 0.001]\n",
      " [0.8   0.081 0.023 0.016 0.04  0.    0.04 ]\n",
      " [0.02  0.09  0.592 0.025 0.221 0.011 0.042]\n",
      " [0.008 0.356 0.2   0.003 0.254 0.167 0.011]\n",
      " [0.    0.04  0.127 0.001 0.086 0.745 0.001]\n",
      " [0.004 0.058 0.62  0.012 0.258 0.025 0.023]\n",
      " [0.516 0.109 0.172 0.019 0.084 0.    0.1  ]\n",
      " [0.363 0.331 0.087 0.016 0.153 0.001 0.049]\n",
      " [0.008 0.03  0.702 0.028 0.19  0.004 0.037]\n",
      " [0.067 0.001 0.753 0.036 0.006 0.    0.137]\n",
      " [0.003 0.    0.05  0.935 0.002 0.    0.01 ]\n",
      " [0.04  0.069 0.569 0.044 0.211 0.003 0.064]\n",
      " [0.005 0.054 0.616 0.018 0.258 0.024 0.024]\n",
      " [0.099 0.001 0.693 0.046 0.009 0.    0.152]\n",
      " [0.051 0.002 0.779 0.029 0.018 0.    0.121]\n",
      " [0.017 0.001 0.892 0.003 0.005 0.    0.083]\n",
      " [0.004 0.116 0.441 0.01  0.309 0.103 0.016]\n",
      " [0.077 0.023 0.599 0.075 0.118 0.    0.109]\n",
      " [0.977 0.003 0.004 0.001 0.    0.    0.014]\n",
      " [0.478 0.216 0.12  0.01  0.105 0.    0.07 ]\n",
      " [0.008 0.407 0.179 0.002 0.236 0.156 0.01 ]\n",
      " [0.002 0.    0.014 0.981 0.    0.    0.003]\n",
      " [0.008 0.096 0.515 0.015 0.307 0.032 0.026]\n",
      " [0.117 0.002 0.684 0.025 0.009 0.    0.162]\n",
      " [0.812 0.03  0.063 0.011 0.014 0.    0.07 ]\n",
      " [0.935 0.014 0.014 0.003 0.003 0.    0.031]\n",
      " [0.054 0.41  0.224 0.007 0.254 0.019 0.031]\n",
      " [0.043 0.049 0.592 0.036 0.202 0.001 0.076]\n",
      " [0.    0.033 0.104 0.001 0.072 0.789 0.001]\n",
      " [0.08  0.001 0.702 0.071 0.004 0.    0.144]\n",
      " [0.003 0.031 0.691 0.023 0.211 0.018 0.023]]\n"
     ]
    }
   ],
   "source": [
    "# test data에 대한 예측 확률 확인\n",
    "proba = logi.predict_proba(scaled_test)\n",
    "print(np.round(proba, decimals = 3))"
   ]
  },
  {
   "cell_type": "code",
   "execution_count": 68,
   "id": "cf7e8402-509d-47d0-b8cf-bee69c086ca4",
   "metadata": {},
   "outputs": [
    {
     "data": {
      "text/plain": [
       "array(['Bream', 'Parkki', 'Perch', 'Pike', 'Roach', 'Smelt', 'Whitefish'],\n",
       "      dtype=object)"
      ]
     },
     "execution_count": 68,
     "metadata": {},
     "output_type": "execute_result"
    }
   ],
   "source": [
    "# 종속변수 확인\n",
    "logi.classes_"
   ]
  },
  {
   "cell_type": "code",
   "execution_count": 70,
   "id": "43dfd706-2c25-4fec-a1f4-4adaf6c1cb88",
   "metadata": {},
   "outputs": [
    {
     "data": {
      "text/plain": [
       "array([[ 0.05877873,  0.01562219,  0.69807034,  2.85510498, -0.31387147],\n",
       "       [-0.48731066, -0.68056718, -0.63679093,  1.91203212, -0.70619899],\n",
       "       [ 1.20020293,  0.2899595 , -1.40059462, -1.76853091,  1.62919262],\n",
       "       [-0.06357223,  1.72959572,  1.7313491 , -1.2627758 , -0.57310946],\n",
       "       [-0.8970852 , -0.59302522,  0.27676377, -0.40917778,  0.55354201],\n",
       "       [-0.38181641, -0.71099101, -0.69668469, -1.32221282, -1.64701691],\n",
       "       [ 0.57080283, -0.05059399,  0.02788703, -0.00443979,  1.05746219]])"
      ]
     },
     "execution_count": 70,
     "metadata": {},
     "output_type": "execute_result"
    }
   ],
   "source": [
    "# 회귀식 확인\n",
    "logi.coef_"
   ]
  },
  {
   "cell_type": "code",
   "execution_count": 72,
   "id": "00e9cb55-b918-4dfe-8b30-da85fb4d21cc",
   "metadata": {},
   "outputs": [
    {
     "data": {
      "text/plain": [
       "array([ 0.26882243,  0.03222666,  2.27854232, -0.02070776,  0.83203303,\n",
       "       -3.74712614,  0.35620947])"
      ]
     },
     "execution_count": 72,
     "metadata": {},
     "output_type": "execute_result"
    }
   ],
   "source": [
    "# y 절편\n",
    "logi.intercept_"
   ]
  },
  {
   "cell_type": "markdown",
   "id": "fb96846f-921e-42a2-b0c6-aa02db253c04",
   "metadata": {},
   "source": [
    "- 현재의 로지스틱 다중분류에서 독립변수는 5개를 사용하기 때문에 coef_ 배열의 열은 5개임\n",
    "- 종속변수의 범주 수가 7개이기 때문에 coef_ 배열의 행과 intercept의 행은 7개임\n",
    "  - 즉, 로지스틱 다중분류는 각 클래스마다 z값을 계산함\n",
    "  - 이때 확률 값은 각각의 z값을 합이 1이 되도록 압축하기 위해 소프트맥스 함수(softmax)를 사용"
   ]
  },
  {
   "cell_type": "markdown",
   "id": "35803af5-e3b1-4df7-892e-bdc634c811be",
   "metadata": {},
   "source": [
    "### 회귀식을 통한 확률값 계산"
   ]
  },
  {
   "cell_type": "code",
   "execution_count": 76,
   "id": "0806e76a-0ba1-419a-ba96-7df53bf014a9",
   "metadata": {},
   "outputs": [
    {
     "data": {
      "text/plain": [
       "array([[ -2.77,   0.64,   2.64,  -1.78,   1.82,   0.42,  -0.97],\n",
       "       [  2.52,   1.88,   0.38,  -1.34,   0.87,  -4.43,   0.13],\n",
       "       [ -1.6 ,  -1.2 ,   1.66,   2.52,   1.18,  -1.92,  -0.63],\n",
       "       [ -0.28,  -2.79,   2.27,   4.98,   0.33,  -5.06,   0.55],\n",
       "       [  1.76,  -2.31,   5.3 ,   1.41,   0.07,  -9.39,   3.16],\n",
       "       [  3.68,   1.51,   1.07,  -1.16,   0.4 ,  -6.59,   1.09],\n",
       "       [ -5.15,   1.03,   2.54,  -2.56,   1.92,   4.56,  -2.35],\n",
       "       [ -1.57,   0.5 ,   1.93,  -0.8 ,   1.53,  -0.85,  -0.74],\n",
       "       [ -2.35,   0.23,   2.83,  -1.29,   1.79,  -0.67,  -0.54],\n",
       "       [ -4.99,   1.13,   2.45,  -2.65,   1.91,   4.49,  -2.34],\n",
       "       [  3.69,   1.4 ,   0.15,  -0.19,   0.7 ,  -6.45,   0.7 ],\n",
       "       [ -1.11,   0.41,   2.3 ,  -0.85,   1.31,  -1.71,  -0.35],\n",
       "       [ -1.84,   1.93,   1.36,  -2.71,   1.6 ,   1.18,  -1.52],\n",
       "       [ -4.59,   1.05,   2.22,  -2.23,   1.82,   3.99,  -2.26],\n",
       "       [ -2.33,   0.3 ,   2.67,  -1.25,   1.79,  -0.54,  -0.64],\n",
       "       [  2.53,   0.98,   1.43,  -0.79,   0.71,  -5.77,   0.89],\n",
       "       [  1.87,   1.77,   0.43,  -1.28,   1.  ,  -3.67,  -0.13],\n",
       "       [ -1.6 ,  -0.28,   2.88,  -0.33,   1.57,  -2.18,  -0.06],\n",
       "       [  2.27,  -2.06,   4.69,   1.66,  -0.11,  -9.43,   2.98],\n",
       "       [  0.5 ,  -3.84,   3.19,   6.11,  -0.27,  -7.24,   1.55],\n",
       "       [ -0.42,   0.13,   2.24,  -0.32,   1.25,  -2.94,   0.06],\n",
       "       [ -2.3 ,   0.16,   2.6 ,  -0.91,   1.73,  -0.64,  -0.64],\n",
       "       [  2.4 ,  -1.84,   4.34,   1.62,  -0.04,  -9.3 ,   2.82],\n",
       "       [  1.53,  -1.56,   4.27,   0.98,   0.51,  -8.13,   2.41],\n",
       "       [  1.67,  -1.73,   5.65,  -0.06,   0.42,  -9.22,   3.27],\n",
       "       [ -2.59,   0.81,   2.14,  -1.65,   1.78,   0.68,  -1.17],\n",
       "       [  0.62,  -0.58,   2.67,   0.59,   1.04,  -5.29,   0.96],\n",
       "       [  6.7 ,   1.06,   1.14,   0.12,  -1.04, -10.45,   2.47],\n",
       "       [  2.38,   1.59,   1.  ,  -1.44,   0.87,  -4.86,   0.46],\n",
       "       [ -1.72,   2.15,   1.33,  -3.06,   1.61,   1.2 ,  -1.51],\n",
       "       [  2.53,  -5.95,   4.78,   9.01,  -2.65, -11.08,   3.36],\n",
       "       [ -1.95,   0.56,   2.24,  -1.27,   1.72,  -0.55,  -0.74],\n",
       "       [  2.62,  -1.57,   4.38,   1.08,   0.1 ,  -9.55,   2.94],\n",
       "       [  4.07,   0.76,   1.51,  -0.19,   0.03,  -7.8 ,   1.62],\n",
       "       [  5.36,   1.13,   1.16,  -0.35,  -0.24,  -9.03,   1.97],\n",
       "       [ -0.19,   1.83,   1.23,  -2.26,   1.35,  -1.22,  -0.74],\n",
       "       [ -0.16,  -0.02,   2.46,  -0.35,   1.39,  -3.72,   0.41],\n",
       "       [ -4.74,   1.05,   2.2 ,  -2.23,   1.83,   4.23,  -2.35],\n",
       "       [  2.58,  -2.47,   4.75,   2.46,  -0.46, -10.02,   3.17],\n",
       "       [ -2.52,  -0.23,   2.88,  -0.52,   1.69,  -0.77,  -0.53]])"
      ]
     },
     "execution_count": 76,
     "metadata": {},
     "output_type": "execute_result"
    }
   ],
   "source": [
    "decision_z = logi.decision_function(scaled_test)\n",
    "np.round(decision_z, decimals = 2)"
   ]
  },
  {
   "cell_type": "code",
   "execution_count": 78,
   "id": "4f087adb-777b-457f-a597-8b0febd0b4bf",
   "metadata": {},
   "outputs": [
    {
     "data": {
      "text/plain": [
       "array([[0.003, 0.078, 0.577, 0.007, 0.256, 0.063, 0.016],\n",
       "       [0.513, 0.27 , 0.06 , 0.011, 0.098, 0.   , 0.047],\n",
       "       [0.009, 0.014, 0.238, 0.562, 0.147, 0.007, 0.024],\n",
       "       [0.005, 0.   , 0.061, 0.914, 0.009, 0.   , 0.011],\n",
       "       [0.025, 0.   , 0.853, 0.017, 0.005, 0.   , 0.1  ],\n",
       "       [0.765, 0.087, 0.056, 0.006, 0.029, 0.   , 0.057],\n",
       "       [0.   , 0.024, 0.107, 0.001, 0.058, 0.81 , 0.001],\n",
       "       [0.014, 0.112, 0.467, 0.031, 0.314, 0.029, 0.032],\n",
       "       [0.004, 0.049, 0.66 , 0.011, 0.233, 0.02 , 0.023],\n",
       "       [0.   , 0.028, 0.105, 0.001, 0.061, 0.804, 0.001],\n",
       "       [0.8  , 0.081, 0.023, 0.016, 0.04 , 0.   , 0.04 ],\n",
       "       [0.02 , 0.09 , 0.592, 0.025, 0.221, 0.011, 0.042],\n",
       "       [0.008, 0.356, 0.2  , 0.003, 0.254, 0.167, 0.011],\n",
       "       [0.   , 0.04 , 0.127, 0.001, 0.086, 0.745, 0.001],\n",
       "       [0.004, 0.058, 0.62 , 0.012, 0.258, 0.025, 0.023],\n",
       "       [0.516, 0.109, 0.172, 0.019, 0.084, 0.   , 0.1  ],\n",
       "       [0.363, 0.331, 0.087, 0.016, 0.153, 0.001, 0.049],\n",
       "       [0.008, 0.03 , 0.702, 0.028, 0.19 , 0.004, 0.037],\n",
       "       [0.067, 0.001, 0.753, 0.036, 0.006, 0.   , 0.137],\n",
       "       [0.003, 0.   , 0.05 , 0.935, 0.002, 0.   , 0.01 ],\n",
       "       [0.04 , 0.069, 0.569, 0.044, 0.211, 0.003, 0.064],\n",
       "       [0.005, 0.054, 0.616, 0.018, 0.258, 0.024, 0.024],\n",
       "       [0.099, 0.001, 0.693, 0.046, 0.009, 0.   , 0.152],\n",
       "       [0.051, 0.002, 0.779, 0.029, 0.018, 0.   , 0.121],\n",
       "       [0.017, 0.001, 0.892, 0.003, 0.005, 0.   , 0.083],\n",
       "       [0.004, 0.116, 0.441, 0.01 , 0.309, 0.103, 0.016],\n",
       "       [0.077, 0.023, 0.599, 0.075, 0.118, 0.   , 0.109],\n",
       "       [0.977, 0.003, 0.004, 0.001, 0.   , 0.   , 0.014],\n",
       "       [0.478, 0.216, 0.12 , 0.01 , 0.105, 0.   , 0.07 ],\n",
       "       [0.008, 0.407, 0.179, 0.002, 0.236, 0.156, 0.01 ],\n",
       "       [0.002, 0.   , 0.014, 0.981, 0.   , 0.   , 0.003],\n",
       "       [0.008, 0.096, 0.515, 0.015, 0.307, 0.032, 0.026],\n",
       "       [0.117, 0.002, 0.684, 0.025, 0.009, 0.   , 0.162],\n",
       "       [0.812, 0.03 , 0.063, 0.011, 0.014, 0.   , 0.07 ],\n",
       "       [0.935, 0.014, 0.014, 0.003, 0.003, 0.   , 0.031],\n",
       "       [0.054, 0.41 , 0.224, 0.007, 0.254, 0.019, 0.031],\n",
       "       [0.043, 0.049, 0.592, 0.036, 0.202, 0.001, 0.076],\n",
       "       [0.   , 0.033, 0.104, 0.001, 0.072, 0.789, 0.001],\n",
       "       [0.08 , 0.001, 0.702, 0.071, 0.004, 0.   , 0.144],\n",
       "       [0.003, 0.031, 0.691, 0.023, 0.211, 0.018, 0.023]])"
      ]
     },
     "execution_count": 78,
     "metadata": {},
     "output_type": "execute_result"
    }
   ],
   "source": [
    "proba = softmax(decision_z, axis = 1)    # axis = 1 : 각 행에 대해서 소프트맥스 계산\n",
    "np.round(proba, decimals = 3)"
   ]
  },
  {
   "cell_type": "markdown",
   "id": "1c671008-b85a-4b7f-a9e3-f47bafd9403c",
   "metadata": {},
   "source": [
    "# 정리\n",
    "\n",
    "- 로지스틱 회귀는 선형 회귀처럼 선형 방정식을 사용\n",
    "- 방정식의 값을 0 ~ 1 사이로 압축\n",
    "    - 해당 값을 0 ~ 100% 사이의 확률로 이해할 수 있음\n",
    "- 이진 분류\n",
    "    1. 하나의 선형 방정식을 훈련\n",
    "    2. 출력값을 시그모이드 함수에 통과시켜 0 ~ 1 사이의 값을 만듦\n",
    "    3. 2번의 출력값이 양성 클래스에 대한 확률\n",
    "- 다중 분류\n",
    "    1. 클래스 개수만큼 방정식을 훈련\n",
    "    2. 각 방정식의 출력값을 소프트맥스 함수를 통과시켜 전체 클래스에 대한 합이 항상 1이 되도록 계산\n",
    "    3. 2번의 출력값이 각 클래스에 대한 확률값"
   ]
  },
  {
   "cell_type": "code",
   "execution_count": null,
   "id": "967ae126-8c11-483e-9dc5-215d3cbdbe64",
   "metadata": {},
   "outputs": [],
   "source": []
  }
 ],
 "metadata": {
  "kernelspec": {
   "display_name": "Python [conda env:base] *",
   "language": "python",
   "name": "conda-base-py"
  },
  "language_info": {
   "codemirror_mode": {
    "name": "ipython",
    "version": 3
   },
   "file_extension": ".py",
   "mimetype": "text/x-python",
   "name": "python",
   "nbconvert_exporter": "python",
   "pygments_lexer": "ipython3",
   "version": "3.12.7"
  }
 },
 "nbformat": 4,
 "nbformat_minor": 5
}
