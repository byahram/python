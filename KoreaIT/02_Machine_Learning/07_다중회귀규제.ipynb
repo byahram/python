{
 "cells": [
  {
   "cell_type": "markdown",
   "id": "9ce8d937-cf79-439a-8acc-77563ef768e5",
   "metadata": {},
   "source": [
    "## 특성 공학 (feature engineering)\n",
    "\n",
    "- 기존의 특성을 사용해 새로운 특성을 만들어내는 작업\n",
    "- 특성 공학 기법\n",
    "  - 차원 축소 (Dimension Reduction)\n",
    "    - 특성 선정 (Feature Selection)\n",
    "      - 특성 랭킹 또는 특성 중요도에 따라 선정\n",
    "      - 분석가의 사전 배경 지식을 이용하거나, 랜덤 선정 및 측정을 반복하는 방법\n",
    "    - 특성 추출 (Feature Extraction)\n",
    "      - 특성들의 조합으로 새로운 특성을 생성\n",
    "  - 스케일링 (Scaling)\n",
    "    - 변수의 분포가 편향되어 있을 경우, 변수 간의 관계가 잘 드러나지 않는 경우 범위 변환\n",
    "  - 변형 (Transform)\n",
    "    - 기존에 존재하는 변수의 성질을 이용해 다른 변수를 생성하는 방법\n",
    "      - 예) 날짜별 데이터에 주말 여부 추가\n",
    "  - 비닝 (Binning)\n",
    "    - 연속형 변수를 범주형 변수로 변환\n",
    "      - 예) 33세, 47세 -> 30대, 40대\n",
    "  - 더미 (Dummy)\n",
    "    - 범주형 변수를 연속형 변수로 변환\n",
    "    - 기존 특성이나 특성의 조합을 규칙에 따라 수치화하여 추가"
   ]
  },
  {
   "cell_type": "code",
   "execution_count": 2,
   "id": "ec9a65cd-bc2c-4937-a024-89e296c5e045",
   "metadata": {},
   "outputs": [],
   "source": [
    "import pandas as pd\n",
    "import numpy as np\n",
    "import matplotlib.pyplot as plt\n",
    "from sklearn.model_selection import train_test_split\n",
    "from sklearn.preprocessing import PolynomialFeatures, StandardScaler\n",
    "from sklearn.linear_model import LinearRegression, Ridge, Lasso"
   ]
  },
  {
   "cell_type": "markdown",
   "id": "1a52ba9e-2c12-4fcd-a6ba-dc0b25962d67",
   "metadata": {},
   "source": [
    "# 데이터 준비"
   ]
  },
  {
   "cell_type": "code",
   "execution_count": 4,
   "id": "be837422-a786-4ff2-9bba-5d723e14a817",
   "metadata": {},
   "outputs": [],
   "source": [
    "df = pd.read_csv(\"./data/Fish.csv\")"
   ]
  },
  {
   "cell_type": "code",
   "execution_count": 7,
   "id": "64f64b89-4c8d-4954-994f-ab3a15810085",
   "metadata": {},
   "outputs": [],
   "source": [
    "df = df.loc[df[\"Species\"] == \"Perch\", [\"Weight\", \"Length2\", \"Height\", \"Width\"]]"
   ]
  },
  {
   "cell_type": "code",
   "execution_count": 9,
   "id": "7bcbfa1d-429e-4270-aab8-02b0d4732220",
   "metadata": {},
   "outputs": [
    {
     "data": {
      "text/html": [
       "<div>\n",
       "<style scoped>\n",
       "    .dataframe tbody tr th:only-of-type {\n",
       "        vertical-align: middle;\n",
       "    }\n",
       "\n",
       "    .dataframe tbody tr th {\n",
       "        vertical-align: top;\n",
       "    }\n",
       "\n",
       "    .dataframe thead th {\n",
       "        text-align: right;\n",
       "    }\n",
       "</style>\n",
       "<table border=\"1\" class=\"dataframe\">\n",
       "  <thead>\n",
       "    <tr style=\"text-align: right;\">\n",
       "      <th></th>\n",
       "      <th>Weight</th>\n",
       "      <th>Length2</th>\n",
       "      <th>Height</th>\n",
       "      <th>Width</th>\n",
       "    </tr>\n",
       "  </thead>\n",
       "  <tbody>\n",
       "    <tr>\n",
       "      <th>72</th>\n",
       "      <td>5.9</td>\n",
       "      <td>8.4</td>\n",
       "      <td>2.1120</td>\n",
       "      <td>1.4080</td>\n",
       "    </tr>\n",
       "    <tr>\n",
       "      <th>73</th>\n",
       "      <td>32.0</td>\n",
       "      <td>13.7</td>\n",
       "      <td>3.5280</td>\n",
       "      <td>1.9992</td>\n",
       "    </tr>\n",
       "    <tr>\n",
       "      <th>74</th>\n",
       "      <td>40.0</td>\n",
       "      <td>15.0</td>\n",
       "      <td>3.8240</td>\n",
       "      <td>2.4320</td>\n",
       "    </tr>\n",
       "    <tr>\n",
       "      <th>75</th>\n",
       "      <td>51.5</td>\n",
       "      <td>16.2</td>\n",
       "      <td>4.5924</td>\n",
       "      <td>2.6316</td>\n",
       "    </tr>\n",
       "    <tr>\n",
       "      <th>76</th>\n",
       "      <td>70.0</td>\n",
       "      <td>17.4</td>\n",
       "      <td>4.5880</td>\n",
       "      <td>2.9415</td>\n",
       "    </tr>\n",
       "  </tbody>\n",
       "</table>\n",
       "</div>"
      ],
      "text/plain": [
       "    Weight  Length2  Height   Width\n",
       "72     5.9      8.4  2.1120  1.4080\n",
       "73    32.0     13.7  3.5280  1.9992\n",
       "74    40.0     15.0  3.8240  2.4320\n",
       "75    51.5     16.2  4.5924  2.6316\n",
       "76    70.0     17.4  4.5880  2.9415"
      ]
     },
     "execution_count": 9,
     "metadata": {},
     "output_type": "execute_result"
    }
   ],
   "source": [
    "df.head()"
   ]
  },
  {
   "cell_type": "code",
   "execution_count": 11,
   "id": "6ba11fbd-ea4b-46b8-9cd3-f95366a5327f",
   "metadata": {},
   "outputs": [
    {
     "data": {
      "text/plain": [
       "(56, 4)"
      ]
     },
     "execution_count": 11,
     "metadata": {},
     "output_type": "execute_result"
    }
   ],
   "source": [
    "df.shape"
   ]
  },
  {
   "cell_type": "code",
   "execution_count": 13,
   "id": "b9397398-19a9-48cc-aa77-b491c1ce42bc",
   "metadata": {},
   "outputs": [],
   "source": [
    "x = df.drop(\"Weight\", axis = 1)\n",
    "y = df[\"Weight\"]"
   ]
  },
  {
   "cell_type": "code",
   "execution_count": 15,
   "id": "4f96e843-3562-4433-afa2-c88e65648597",
   "metadata": {},
   "outputs": [],
   "source": [
    "# 75 : 25 데이터 분할\n",
    "x_train, x_test, y_train, y_test = train_test_split(x, y, test_size = 0.25, random_state = 26)"
   ]
  },
  {
   "cell_type": "code",
   "execution_count": 17,
   "id": "7ae61575-db68-4ae1-b59e-318109597c46",
   "metadata": {},
   "outputs": [
    {
     "data": {
      "text/plain": [
       "(42, 3)"
      ]
     },
     "execution_count": 17,
     "metadata": {},
     "output_type": "execute_result"
    }
   ],
   "source": [
    "x_train.shape"
   ]
  },
  {
   "cell_type": "code",
   "execution_count": 19,
   "id": "1b617e4f-ef4c-4b12-8185-9357d0e8be45",
   "metadata": {},
   "outputs": [
    {
     "data": {
      "text/plain": [
       "array([[1., 2., 3., 4., 6., 9.]])"
      ]
     },
     "execution_count": 19,
     "metadata": {},
     "output_type": "execute_result"
    }
   ],
   "source": [
    "# PolynomialFeatures 사용 예시\n",
    "pf = PolynomialFeatures()\n",
    "pf.fit_transform([[2, 3]])"
   ]
  },
  {
   "cell_type": "code",
   "execution_count": 21,
   "id": "c861b4df-f11f-44b9-80ad-dfe30ed97eed",
   "metadata": {},
   "outputs": [
    {
     "data": {
      "text/plain": [
       "array(['1', 'x0', 'x1', 'x0^2', 'x0 x1', 'x1^2'], dtype=object)"
      ]
     },
     "execution_count": 21,
     "metadata": {},
     "output_type": "execute_result"
    }
   ],
   "source": [
    "# 특성이 어떻게 만들어졌는지 확인\n",
    "pf.get_feature_names_out()"
   ]
  },
  {
   "cell_type": "markdown",
   "id": "a320c6e9-bc1c-4e71-9f16-871fe62aacef",
   "metadata": {},
   "source": [
    "- include_bias : 절편을 추가해주는 파라미터\n",
    "  - 사이킷런의 선형 회귀 모델은 자동으로 절편을 추가해주기 때문에 굳이 절편을 추가할 필요가 없음"
   ]
  },
  {
   "cell_type": "code",
   "execution_count": 24,
   "id": "db915aea-2ab2-4ab0-a9d8-2eb8b9e8d5e3",
   "metadata": {},
   "outputs": [
    {
     "data": {
      "text/plain": [
       "array([[2., 3., 4., 6., 9.]])"
      ]
     },
     "execution_count": 24,
     "metadata": {},
     "output_type": "execute_result"
    }
   ],
   "source": [
    "pf = PolynomialFeatures(include_bias = False)\n",
    "pf.fit_transform([[2, 3]])"
   ]
  },
  {
   "cell_type": "code",
   "execution_count": 26,
   "id": "01ee6d4e-c7e0-44bb-8d90-9e8a9d1e152b",
   "metadata": {},
   "outputs": [],
   "source": [
    "# 실전 적용\n",
    "pf = PolynomialFeatures(include_bias = False)\n",
    "poly_train = pf.fit_transform(x_train)\n",
    "poly_test = pf.transform(x_test)"
   ]
  },
  {
   "cell_type": "markdown",
   "id": "17c64933-a0eb-4a24-accc-b412da7bd7f4",
   "metadata": {},
   "source": [
    "- PolynomialFeatures 는 별도의 통계값을 저장하지 않기 때문에 테스트 세트를 함께 변환해도 차이가 없지만 항상 훈련데이터를 기준으로 학습하고 테스트 데이터를 변환하는 습관을 들이는 것이 중요"
   ]
  },
  {
   "cell_type": "code",
   "execution_count": 29,
   "id": "81ae02d0-5319-4121-8aec-4c9e25b3a0e0",
   "metadata": {},
   "outputs": [
    {
     "data": {
      "text/plain": [
       "(42, 9)"
      ]
     },
     "execution_count": 29,
     "metadata": {},
     "output_type": "execute_result"
    }
   ],
   "source": [
    "poly_train.shape"
   ]
  },
  {
   "cell_type": "markdown",
   "id": "030505db-baa0-4c0d-95c1-8202aeaeeb82",
   "metadata": {},
   "source": [
    "# 모델 훈련"
   ]
  },
  {
   "cell_type": "code",
   "execution_count": 32,
   "id": "6f8f2b40-ef79-4451-acf9-3b3b3cddea4e",
   "metadata": {},
   "outputs": [
    {
     "name": "stdout",
     "output_type": "stream",
     "text": [
      "0.9415808063901719\n",
      "0.9315466399890024\n"
     ]
    }
   ],
   "source": [
    "# 특성공학 적용 전 데이터로 학습한 모델\n",
    "lr_org = LinearRegression()\n",
    "lr_org.fit(x_train, y_train)\n",
    "print(lr_org.score(x_train, y_train)) # 훈련 데이터에 대한 결정 계수\n",
    "print(lr_org.score(x_test, y_test)) # 테스트 데이터에 대한 결정 계수"
   ]
  },
  {
   "cell_type": "code",
   "execution_count": 34,
   "id": "04d86439-16f2-4eb8-b0c5-fbe97fbf0488",
   "metadata": {},
   "outputs": [
    {
     "name": "stdout",
     "output_type": "stream",
     "text": [
      "0.9895046545787157\n",
      "0.9446218812357896\n"
     ]
    }
   ],
   "source": [
    "# 특성공학 적용 후 데이터로 학습한 모델\n",
    "lr_poly = LinearRegression()\n",
    "lr_poly.fit(poly_train, y_train)\n",
    "print(lr_poly.score(poly_train, y_train))\n",
    "print(lr_poly.score(poly_test, y_test))"
   ]
  },
  {
   "cell_type": "markdown",
   "id": "000a58ae-e86e-4253-9544-9494195ce6cc",
   "metadata": {},
   "source": [
    "# 모델 최적화\n",
    "\n",
    "- 특성을 더 추가\n",
    "  - degree 매개변수 : 고차항 최대 차수를 지정"
   ]
  },
  {
   "cell_type": "code",
   "execution_count": 37,
   "id": "6983053a-fac8-46c9-bb00-c7a6af42240d",
   "metadata": {},
   "outputs": [
    {
     "data": {
      "text/plain": [
       "(42, 55)"
      ]
     },
     "execution_count": 37,
     "metadata": {},
     "output_type": "execute_result"
    }
   ],
   "source": [
    "pf = PolynomialFeatures(degree = 5, include_bias = False)\n",
    "poly_train5 = pf.fit_transform(x_train)\n",
    "poly_test5 = pf.transform(x_test)\n",
    "poly_train5.shape"
   ]
  },
  {
   "cell_type": "code",
   "execution_count": 39,
   "id": "388392d6-28ce-4271-b855-343703ad5aea",
   "metadata": {},
   "outputs": [
    {
     "name": "stdout",
     "output_type": "stream",
     "text": [
      "0.999999999742424\n",
      "-4303.891703509032\n"
     ]
    }
   ],
   "source": [
    "lr_poly5 = LinearRegression()\n",
    "lr_poly5.fit(poly_train5, y_train)\n",
    "print(lr_poly5.score(poly_train5, y_train))\n",
    "print(lr_poly5.score(poly_test5, y_test))"
   ]
  },
  {
   "cell_type": "markdown",
   "id": "33c1bedb-817e-4eba-b2f6-3f9e8f25b670",
   "metadata": {},
   "source": [
    "- 훈련 데이터에 대해서는 완벽하게 학습했음\n",
    "- 테스트 데이터에 대해서는 분산보다 오차가 큼\n",
    "  - 데이터의 평균으로 찍는 것 보다 성능이 떨어짐\n",
    "  - 과대적합이 일어났음"
   ]
  },
  {
   "cell_type": "markdown",
   "id": "b960cd30-941d-4637-9362-f3cad4dc3ca6",
   "metadata": {},
   "source": [
    "# 규제 (Regularization)\n",
    "\n",
    "- 머신러닝 모델이 훈련 세트를 과도하게 학습하지 못하도록 방지하는 것\n",
    "  - 선형 회귀 모델의 경우에는 특성의 기울기 크기를 제한\n",
    "- 선형 회귀 모델에 규제를 가하는 방법에 따라 릿지(ridge) 모델과 라쏘(lasso) 로 나뉨\n",
    "- 릿지 모델\n",
    "  - 계수를 제곱한 값을 제한\n",
    "  - l2규제\n",
    "- 라쏘 모델\n",
    "  - 계수의 절댓값을 제한\n",
    "  - l1규제"
   ]
  },
  {
   "cell_type": "code",
   "execution_count": 43,
   "id": "f03c9fc8-a49a-4fad-9c9f-1d873495a10c",
   "metadata": {},
   "outputs": [
    {
     "data": {
      "text/plain": [
       "array([[3.90000000e+01, 1.24313000e+01, 7.35140000e+00, ...,\n",
       "        6.13964494e+04, 3.63075349e+04, 2.14709010e+04],\n",
       "       [3.60000000e+01, 1.06091000e+01, 6.74080000e+00, ...,\n",
       "        3.44739789e+04, 2.19040444e+04, 1.39173711e+04],\n",
       "       [4.00000000e+01, 1.23808000e+01, 7.46240000e+00, ...,\n",
       "        6.36990550e+04, 3.83939509e+04, 2.31415595e+04],\n",
       "       ...,\n",
       "       [4.00000000e+01, 1.17300000e+01, 7.22500000e+00, ...,\n",
       "        5.18930956e+04, 3.19631386e+04, 1.96874404e+04],\n",
       "       [1.87000000e+01, 5.19920000e+00, 3.12340000e+00, ...,\n",
       "        8.23674964e+02, 4.94819661e+02, 2.97261065e+02],\n",
       "       [4.30000000e+01, 1.25125000e+01, 7.41650000e+00, ...,\n",
       "        6.38682746e+04, 3.78564682e+04, 2.24385612e+04]])"
      ]
     },
     "execution_count": 43,
     "metadata": {},
     "output_type": "execute_result"
    }
   ],
   "source": [
    "poly_train5"
   ]
  },
  {
   "cell_type": "code",
   "execution_count": 45,
   "id": "02040b25-c6f1-441f-a292-b4662fd02f0f",
   "metadata": {},
   "outputs": [],
   "source": [
    "# 일반적으로 선형 회귀 모델에 규제를 적용할 때 계수 값의 크기가 서로 많이 다르면 제어가 힘듦\n",
    "# 규제 적용 전에 스케일링을 수행\n",
    "ss = StandardScaler()\n",
    "scaled_train = ss.fit_transform(poly_train5)\n",
    "scaled_test = ss.transform(poly_test5)"
   ]
  },
  {
   "cell_type": "markdown",
   "id": "08cddab2-8100-4ba8-8338-196c125fd34e",
   "metadata": {},
   "source": [
    "# 릿지 회귀"
   ]
  },
  {
   "cell_type": "code",
   "execution_count": 48,
   "id": "637cd267-1c30-4af7-8509-d9cd49f79d46",
   "metadata": {},
   "outputs": [
    {
     "name": "stdout",
     "output_type": "stream",
     "text": [
      "0.9885701432124202\n",
      "0.982956563862928\n"
     ]
    }
   ],
   "source": [
    "rid = Ridge()\n",
    "rid.fit(scaled_train, y_train)\n",
    "print(rid.score(scaled_train, y_train))\n",
    "print(rid.score(scaled_test, y_test))"
   ]
  },
  {
   "cell_type": "markdown",
   "id": "3c734b4f-dfad-498c-9827-e939b0a6317e",
   "metadata": {},
   "source": [
    "## 초매개변수(hyperparameter)\n",
    "\n",
    "- 머신러닝 모델이 학습할 수 없고 사람이 설정해줘야하는 파라미터\n",
    "- 사이킷런 모델에서 하이퍼파라미터는 클래스의 매개변수로 표현됨"
   ]
  },
  {
   "cell_type": "markdown",
   "id": "ae0298be-478a-4bf5-b9cd-ee696268e879",
   "metadata": {},
   "source": [
    "### 릿지 모델 하이퍼파라미터 튜닝\n",
    "\n",
    "- alpha : 규제의 강도\n",
    "  - alpha 값이 크면\n",
    "    - 규제의 강도가 세짐\n",
    "    - 계수의 값을 줄이고 과소적합을 유도\n",
    "  - alpha 값이 작으면\n",
    "    - 규제의 강도가 약해짐\n",
    "    - 계수의 값을 덜 줄이고 과대적합 가능ㅅㅇ이 커짐"
   ]
  },
  {
   "cell_type": "code",
   "execution_count": 52,
   "id": "9ea00179-f4d7-4c20-a697-599b7a351064",
   "metadata": {},
   "outputs": [],
   "source": [
    "train_hist = []\n",
    "test_hist = []\n",
    "\n",
    "alpha_li = [0.001, 0.01, 0.1, 1, 10, 100]\n",
    "\n",
    "for alpha in alpha_li:\n",
    "    # 모델 생성\n",
    "    rid = Ridge(alpha = alpha)\n",
    "    # 훈련\n",
    "    rid.fit(scaled_train, y_train)\n",
    "    # 모델 성능을 저장\n",
    "    train_hist.append(rid.score(scaled_train, y_train))\n",
    "    test_hist.append(rid.score(scaled_test, y_test))"
   ]
  },
  {
   "cell_type": "code",
   "execution_count": 54,
   "id": "83307390-3790-436f-b7ec-b93cb5325b1c",
   "metadata": {},
   "outputs": [
    {
     "data": {
      "image/png": "[encoded data removed]",
      "text/plain": [
       "<Figure size 640x480 with 1 Axes>"
      ]
     },
     "metadata": {},
     "output_type": "display_data"
    }
   ],
   "source": [
    "plt.figure()\n",
    "# alpha 값을 그대로 x에 적용하면 간격이 서로 다르기 때문에 로그 함수로 바꾸어서 시각화\n",
    "plt.plot(np.log10(alpha_li), train_hist)\n",
    "plt.plot(np.log10(alpha_li), test_hist)\n",
    "\n",
    "plt.xlabel(\"alpha\")\n",
    "plt.ylabel(\"R2\")\n",
    "plt.legend(labels = [\"train\", \"test\"])\n",
    "plt.show()"
   ]
  },
  {
   "cell_type": "markdown",
   "id": "2f992f89-8119-4600-838a-67eb2a18cba9",
   "metadata": {},
   "source": [
    "- alpha 가 작을 때는 훈련 데이터에만 잘 맞고 테스트 데이터에는 못 맞힘\n",
    "  - 과대적합이 일어났음\n",
    "- alpha 가 커질수록 훈련데이터 점수가 낮아짐\n",
    "  - 과소적합으로 유도되고 있음\n",
    "- 테스트 데이터에 가장 점수가 높은 alpha 값은 1임"
   ]
  },
  {
   "cell_type": "code",
   "execution_count": 57,
   "id": "5fc239d4-9dec-4812-9749-01efcd80d431",
   "metadata": {},
   "outputs": [
    {
     "name": "stdout",
     "output_type": "stream",
     "text": [
      "0.9885701432124202\n",
      "0.982956563862928\n"
     ]
    }
   ],
   "source": [
    "rid = Ridge(alpha = 1)\n",
    "rid.fit(scaled_train, y_train)\n",
    "print(rid.score(scaled_train, y_train))\n",
    "print(rid.score(scaled_test, y_test))"
   ]
  },
  {
   "cell_type": "markdown",
   "id": "8a169d8a-9e86-4b44-9fa6-1a8b87a69030",
   "metadata": {},
   "source": [
    "# 라쏘 회귀"
   ]
  },
  {
   "cell_type": "code",
   "execution_count": 60,
   "id": "ca1eb07e-89c9-438f-85fb-8ce1d2cc71e0",
   "metadata": {},
   "outputs": [
    {
     "name": "stdout",
     "output_type": "stream",
     "text": [
      "0.9882484859311057\n",
      "0.9815379780476599\n"
     ]
    }
   ],
   "source": [
    "las = Lasso()\n",
    "las.fit(scaled_train, y_train)\n",
    "print(las.score(scaled_train, y_train))\n",
    "print(las.score(scaled_test, y_test))"
   ]
  },
  {
   "cell_type": "markdown",
   "id": "85fc6606-f926-4ae2-a55c-762ed0cf42b2",
   "metadata": {},
   "source": [
    "## 라쏘 모델 하이퍼파라미터 튜닝"
   ]
  },
  {
   "cell_type": "code",
   "execution_count": 63,
   "id": "a2391ed6-2d5e-4c36-954e-7b535373b576",
   "metadata": {},
   "outputs": [
    {
     "name": "stderr",
     "output_type": "stream",
     "text": [
      "C:\\Users\\user\\anaconda3\\Lib\\site-packages\\sklearn\\linear_model\\_coordinate_descent.py:697: ConvergenceWarning: Objective did not converge. You might want to increase the number of iterations, check the scale of the features or consider increasing regularisation. Duality gap: 2.346e+04, tolerance: 4.741e+02\n",
      "  model = cd_fast.enet_coordinate_descent(\n",
      "C:\\Users\\user\\anaconda3\\Lib\\site-packages\\sklearn\\linear_model\\_coordinate_descent.py:697: ConvergenceWarning: Objective did not converge. You might want to increase the number of iterations, check the scale of the features or consider increasing regularisation. Duality gap: 2.088e+04, tolerance: 4.741e+02\n",
      "  model = cd_fast.enet_coordinate_descent(\n",
      "C:\\Users\\user\\anaconda3\\Lib\\site-packages\\sklearn\\linear_model\\_coordinate_descent.py:697: ConvergenceWarning: Objective did not converge. You might want to increase the number of iterations, check the scale of the features or consider increasing regularisation. Duality gap: 3.795e+03, tolerance: 4.741e+02\n",
      "  model = cd_fast.enet_coordinate_descent(\n",
      "C:\\Users\\user\\anaconda3\\Lib\\site-packages\\sklearn\\linear_model\\_coordinate_descent.py:697: ConvergenceWarning: Objective did not converge. You might want to increase the number of iterations, check the scale of the features or consider increasing regularisation. Duality gap: 5.498e+02, tolerance: 4.741e+02\n",
      "  model = cd_fast.enet_coordinate_descent(\n"
     ]
    }
   ],
   "source": [
    "train_hist = []\n",
    "test_hist = []\n",
    "\n",
    "alpha_li = [0.001, 0.01, 0.1, 1, 10, 100]\n",
    "\n",
    "for alpha in alpha_li:\n",
    "    # 모델 생성\n",
    "    las = Lasso(alpha = alpha)\n",
    "    # 훈련\n",
    "    las.fit(scaled_train, y_train)\n",
    "    # 모델 성능을 저장\n",
    "    train_hist.append(las.score(scaled_train, y_train))\n",
    "    test_hist.append(las.score(scaled_test, y_test))"
   ]
  },
  {
   "cell_type": "code",
   "execution_count": 65,
   "id": "c15fcd9e-c6e6-4a7c-a56d-44c5123941b9",
   "metadata": {},
   "outputs": [
    {
     "data": {
      "image/png": "[encoded data removed]",
      "text/plain": [
       "<Figure size 640x480 with 1 Axes>"
      ]
     },
     "metadata": {},
     "output_type": "display_data"
    }
   ],
   "source": [
    "plt.figure()\n",
    "\n",
    "plt.plot(np.log10(alpha_li), train_hist)\n",
    "plt.plot(np.log10(alpha_li), test_hist)\n",
    "\n",
    "plt.xlabel(\"alpha\")\n",
    "plt.ylabel(\"R2\")\n",
    "plt.legend(labels = [\"train\", \"test\"])\n",
    "plt.show()"
   ]
  },
  {
   "cell_type": "code",
   "execution_count": 67,
   "id": "f31b586e-66c9-48e2-930d-69df556ea55b",
   "metadata": {},
   "outputs": [
    {
     "name": "stdout",
     "output_type": "stream",
     "text": [
      "0.9882484859311057\n",
      "0.9815379780476599\n"
     ]
    }
   ],
   "source": [
    "# 모델 성능이 가장 높은 지점 확인\n",
    "las = Lasso(alpha = 1)\n",
    "las.fit(scaled_train, y_train)\n",
    "print(las.score(scaled_train, y_train))\n",
    "print(las.score(scaled_test, y_test))"
   ]
  },
  {
   "cell_type": "code",
   "execution_count": 69,
   "id": "18a3f302-abe6-482a-8e72-d8f726ab9d3f",
   "metadata": {},
   "outputs": [
    {
     "data": {
      "text/plain": [
       "array([ 0.        ,  0.        ,  0.        ,  0.        ,  0.        ,\n",
       "        7.63571451, 17.61220196, 57.16431319, 24.74920949, 48.05301558,\n",
       "       63.62350726, 37.11374084,  5.94037687, 37.28635893, 10.6388016 ,\n",
       "        0.        , 11.38663256, 13.06803379,  0.        ,  0.        ,\n",
       "        0.        ,  0.        ,  0.        ,  0.        ,  0.        ,\n",
       "        0.        ,  0.        ,  0.        ,  0.        ,  0.        ,\n",
       "        0.        ,  0.        ,  0.        ,  0.        ,  0.        ,\n",
       "        0.        ,  0.        ,  0.        ,  0.        ,  0.        ,\n",
       "        0.        ,  0.        ,  0.        ,  0.        ,  0.        ,\n",
       "        0.        ,  0.        ,  0.        ,  0.        ,  0.        ,\n",
       "        0.        ,  0.        ,  0.        ,  0.        ,  0.        ])"
      ]
     },
     "execution_count": 69,
     "metadata": {},
     "output_type": "execute_result"
    }
   ],
   "source": [
    "las.coef_"
   ]
  },
  {
   "cell_type": "code",
   "execution_count": 71,
   "id": "87147075-ba47-4bdb-b29f-cdb5b1136fc4",
   "metadata": {},
   "outputs": [
    {
     "name": "stdout",
     "output_type": "stream",
     "text": [
      "43\n"
     ]
    }
   ],
   "source": [
    "print(np.sum(las.coef_ == 0))"
   ]
  },
  {
   "cell_type": "code",
   "execution_count": null,
   "id": "9b2e4e8f-23cb-43c6-8a65-bd39b60e4cd2",
   "metadata": {},
   "outputs": [],
   "source": []
  }
 ],
 "metadata": {
  "kernelspec": {
   "display_name": "Python [conda env:base] *",
   "language": "python",
   "name": "conda-base-py"
  },
  "language_info": {
   "codemirror_mode": {
    "name": "ipython",
    "version": 3
   },
   "file_extension": ".py",
   "mimetype": "text/x-python",
   "name": "python",
   "nbconvert_exporter": "python",
   "pygments_lexer": "ipython3",
   "version": "3.12.7"
  }
 },
 "nbformat": 4,
 "nbformat_minor": 5
}
