{
 "cells": [
  {
   "cell_type": "code",
   "execution_count": 1,
   "id": "42666f04-624f-42e9-b0d3-779187f43683",
   "metadata": {},
   "outputs": [],
   "source": [
    "import numpy as np"
   ]
  },
  {
   "cell_type": "markdown",
   "id": "1024fb7e-61ff-4b39-bcff-60cb157f0137",
   "metadata": {},
   "source": [
    "# 넘파이 배열의 구조\n",
    "\n",
    "- 넘파이 모듈의 기본 배열은 ndarray(n-dimension array, 다차원배열)"
   ]
  },
  {
   "cell_type": "markdown",
   "id": "fb445ed0-eac6-477b-a838-f4a5b336af03",
   "metadata": {},
   "source": [
    "## 1) 다차원배열 생성"
   ]
  },
  {
   "cell_type": "code",
   "execution_count": 5,
   "id": "530fbe82-991f-4476-9fe6-4e8f5917c5a1",
   "metadata": {},
   "outputs": [],
   "source": [
    "# 리스트를 다차원배열로 변환\n",
    "# np.array() : 다차원 배열을 만드는 함수\n",
    "li = [1, 2, 3, 4]\n",
    "li_arr = np.array(li)"
   ]
  },
  {
   "cell_type": "code",
   "execution_count": 7,
   "id": "b6673fdb-9664-404e-814a-767f4989c4f0",
   "metadata": {},
   "outputs": [
    {
     "data": {
      "text/plain": [
       "array([1, 2, 3, 4])"
      ]
     },
     "execution_count": 7,
     "metadata": {},
     "output_type": "execute_result"
    }
   ],
   "source": [
    "li_arr"
   ]
  },
  {
   "cell_type": "code",
   "execution_count": 9,
   "id": "c08c7cbd-45bf-40c3-ad44-7bb0e0111bd5",
   "metadata": {},
   "outputs": [
    {
     "data": {
      "text/plain": [
       "numpy.ndarray"
      ]
     },
     "execution_count": 9,
     "metadata": {},
     "output_type": "execute_result"
    }
   ],
   "source": [
    "type(li_arr)"
   ]
  },
  {
   "cell_type": "code",
   "execution_count": 11,
   "id": "8bb3a8ef-b119-4643-8c3f-599850eb63fa",
   "metadata": {},
   "outputs": [],
   "source": [
    "# 튜플을 다차원 배열로 변환\n",
    "tu = (1, 2, 3, 4)\n",
    "tu_arr = np.array(tu)"
   ]
  },
  {
   "cell_type": "code",
   "execution_count": 13,
   "id": "85383447-bd86-4ab7-8f9f-7116a25c93d4",
   "metadata": {},
   "outputs": [
    {
     "data": {
      "text/plain": [
       "array([1, 2, 3, 4])"
      ]
     },
     "execution_count": 13,
     "metadata": {},
     "output_type": "execute_result"
    }
   ],
   "source": [
    "tu_arr"
   ]
  },
  {
   "cell_type": "code",
   "execution_count": 15,
   "id": "4530c62d-d58e-4def-9089-53013105f940",
   "metadata": {},
   "outputs": [
    {
     "data": {
      "text/plain": [
       "numpy.ndarray"
      ]
     },
     "execution_count": 15,
     "metadata": {},
     "output_type": "execute_result"
    }
   ],
   "source": [
    "type(tu_arr)"
   ]
  },
  {
   "cell_type": "code",
   "execution_count": 17,
   "id": "e1d7edb0-093f-4448-bc35-5f837c39be64",
   "metadata": {},
   "outputs": [
    {
     "data": {
      "text/plain": [
       "(2800293637424, 2800293637424)"
      ]
     },
     "execution_count": 17,
     "metadata": {},
     "output_type": "execute_result"
    }
   ],
   "source": [
    "# 다차원배열은 mutable의 특징을 가짐\n",
    "# 변수를 다른 변수에 복사한 뒤 데이터를 수정하면 모든 변수의 데이터가 수정됨\n",
    "co_arr = li_arr\n",
    "id(co_arr), id(li_arr)"
   ]
  },
  {
   "cell_type": "code",
   "execution_count": 19,
   "id": "0b2ebdaa-e502-492c-be67-191e04e6a0cd",
   "metadata": {},
   "outputs": [
    {
     "data": {
      "text/plain": [
       "array([1, 2, 3, 4])"
      ]
     },
     "execution_count": 19,
     "metadata": {},
     "output_type": "execute_result"
    }
   ],
   "source": [
    "co_arr"
   ]
  },
  {
   "cell_type": "code",
   "execution_count": 21,
   "id": "09e286e1-afd7-4230-b677-01cfc6e8a14e",
   "metadata": {},
   "outputs": [],
   "source": [
    "co_arr[0] = 100"
   ]
  },
  {
   "cell_type": "code",
   "execution_count": 23,
   "id": "ec16b576-5234-45d4-b09f-54e4465cf4cb",
   "metadata": {},
   "outputs": [
    {
     "data": {
      "text/plain": [
       "array([100,   2,   3,   4])"
      ]
     },
     "execution_count": 23,
     "metadata": {},
     "output_type": "execute_result"
    }
   ],
   "source": [
    "co_arr"
   ]
  },
  {
   "cell_type": "code",
   "execution_count": 25,
   "id": "6fd240a0-5c62-4832-b3ae-1544bb53be26",
   "metadata": {},
   "outputs": [
    {
     "data": {
      "text/plain": [
       "array([100,   2,   3,   4])"
      ]
     },
     "execution_count": 25,
     "metadata": {},
     "output_type": "execute_result"
    }
   ],
   "source": [
    "li_arr"
   ]
  },
  {
   "cell_type": "code",
   "execution_count": 27,
   "id": "669d99fd-754a-4444-8292-65b200ab1c18",
   "metadata": {},
   "outputs": [],
   "source": [
    "# 다차원 배열의 값을 복사해서 새로운 배열을 만들면\n",
    "# 동일한 값을 가진 새로운 배열이 만들어지기 때문에 서로 다른 데이터가 됨\n",
    "new_arr = np.array(li_arr)"
   ]
  },
  {
   "cell_type": "code",
   "execution_count": 29,
   "id": "a28137cd-3fe0-4b35-aebf-a0d8a950ec81",
   "metadata": {},
   "outputs": [
    {
     "data": {
      "text/plain": [
       "(2798247767152, 2800293637424)"
      ]
     },
     "execution_count": 29,
     "metadata": {},
     "output_type": "execute_result"
    }
   ],
   "source": [
    "id(new_arr), id(li_arr)"
   ]
  },
  {
   "cell_type": "code",
   "execution_count": 31,
   "id": "eba1a99e-b00d-4c84-83b3-3e5a98ea28dc",
   "metadata": {},
   "outputs": [],
   "source": [
    "new_arr[0] = 99"
   ]
  },
  {
   "cell_type": "code",
   "execution_count": 33,
   "id": "d576b74f-15e7-48bd-9947-582f20740afa",
   "metadata": {},
   "outputs": [
    {
     "data": {
      "text/plain": [
       "array([99,  2,  3,  4])"
      ]
     },
     "execution_count": 33,
     "metadata": {},
     "output_type": "execute_result"
    }
   ],
   "source": [
    "new_arr"
   ]
  },
  {
   "cell_type": "code",
   "execution_count": 35,
   "id": "35e0b8f1-79c7-44a9-9e80-b27f95fca8ff",
   "metadata": {},
   "outputs": [
    {
     "data": {
      "text/plain": [
       "array([100,   2,   3,   4])"
      ]
     },
     "execution_count": 35,
     "metadata": {},
     "output_type": "execute_result"
    }
   ],
   "source": [
    "li_arr"
   ]
  },
  {
   "cell_type": "markdown",
   "id": "0ca7dc67-6a34-429f-a0fc-ed834e92a3ad",
   "metadata": {},
   "source": [
    "- 파이썬 리스트는 다양한 자료형을 사용할 수 있지만 넘파이 배열은 같은 자료형만 넣을 수 있음\n",
    "    - 다차원 배열을 생성할 때 자료형을 지정하지 않으면 내부의 원소를 보고 자동으로 추론해서 만듦"
   ]
  },
  {
   "cell_type": "code",
   "execution_count": 38,
   "id": "64319845-6381-486e-b633-4ac8b51ff29d",
   "metadata": {},
   "outputs": [],
   "source": [
    "# float 자료형을 지정해서 다차원 배열 생성하기\n",
    "fl_arr = np.array(li, dtype = float)"
   ]
  },
  {
   "cell_type": "code",
   "execution_count": 40,
   "id": "320f4b00-a63b-40d2-945f-1cbccbcffefb",
   "metadata": {},
   "outputs": [
    {
     "data": {
      "text/plain": [
       "array([1., 2., 3., 4.])"
      ]
     },
     "execution_count": 40,
     "metadata": {},
     "output_type": "execute_result"
    }
   ],
   "source": [
    "fl_arr"
   ]
  },
  {
   "cell_type": "code",
   "execution_count": 42,
   "id": "6dabf4c2-87e0-471e-980a-ab0b7c826adc",
   "metadata": {},
   "outputs": [
    {
     "data": {
      "text/plain": [
       "dtype('float64')"
      ]
     },
     "execution_count": 42,
     "metadata": {},
     "output_type": "execute_result"
    }
   ],
   "source": [
    "fl_arr.dtype"
   ]
  },
  {
   "cell_type": "markdown",
   "id": "357bb590-d9a1-4cf7-b0d3-2fe689b70d10",
   "metadata": {},
   "source": [
    "### (1) 2차원 배열\n",
    "\n",
    "- 2개의 축을 가지는 배열(행, 열)\n",
    "    - 두 개의 1차원 배열이 쌓여서 하나의 2차원 배열이 만들어짐"
   ]
  },
  {
   "cell_type": "code",
   "execution_count": 45,
   "id": "9b8daae5-2aa3-4749-a354-9a7341fa631b",
   "metadata": {},
   "outputs": [],
   "source": [
    "arr2d = np.array([[1, 2, 3],[4, 5, 6]])"
   ]
  },
  {
   "cell_type": "code",
   "execution_count": 47,
   "id": "d45cbc84-e1e8-4e49-bd62-31f8df0622b6",
   "metadata": {},
   "outputs": [
    {
     "data": {
      "text/plain": [
       "array([[1, 2, 3],\n",
       "       [4, 5, 6]])"
      ]
     },
     "execution_count": 47,
     "metadata": {},
     "output_type": "execute_result"
    }
   ],
   "source": [
    "arr2d"
   ]
  },
  {
   "cell_type": "code",
   "execution_count": 49,
   "id": "5cd89b87-9803-41fc-91ec-b7b1b21dc589",
   "metadata": {},
   "outputs": [
    {
     "data": {
      "text/plain": [
       "(2, 3)"
      ]
     },
     "execution_count": 49,
     "metadata": {},
     "output_type": "execute_result"
    }
   ],
   "source": [
    "# 각 축의 원소의 개수\n",
    "arr2d.shape"
   ]
  },
  {
   "cell_type": "code",
   "execution_count": 51,
   "id": "f58494b7-fbb6-4ac2-9a27-a702b1bb2724",
   "metadata": {},
   "outputs": [
    {
     "data": {
      "text/plain": [
       "2"
      ]
     },
     "execution_count": 51,
     "metadata": {},
     "output_type": "execute_result"
    }
   ],
   "source": [
    "# 축의 개수\n",
    "arr2d.ndim"
   ]
  },
  {
   "cell_type": "code",
   "execution_count": 53,
   "id": "0aa438f7-1caf-4ec9-a8af-20d06b4495ed",
   "metadata": {},
   "outputs": [
    {
     "data": {
      "text/plain": [
       "dtype('int32')"
      ]
     },
     "execution_count": 53,
     "metadata": {},
     "output_type": "execute_result"
    }
   ],
   "source": [
    "arr2d.dtype"
   ]
  },
  {
   "cell_type": "code",
   "execution_count": 55,
   "id": "2543437c-e340-42f3-8407-f8d591a932c7",
   "metadata": {},
   "outputs": [
    {
     "data": {
      "text/plain": [
       "array([1, 2, 3, 4, 5, 6])"
      ]
     },
     "execution_count": 55,
     "metadata": {},
     "output_type": "execute_result"
    }
   ],
   "source": [
    "# 다차원 배열을 1차원 배열로 조회\n",
    "arr2d.flatten()"
   ]
  },
  {
   "cell_type": "code",
   "execution_count": 57,
   "id": "bdc482c2-2558-4662-8e96-6c468566f94a",
   "metadata": {},
   "outputs": [
    {
     "data": {
      "text/plain": [
       "array([[1, 2, 3],\n",
       "       [4, 5, 6]])"
      ]
     },
     "execution_count": 57,
     "metadata": {},
     "output_type": "execute_result"
    }
   ],
   "source": [
    "arr2d"
   ]
  },
  {
   "cell_type": "markdown",
   "id": "398f3ec4-1900-4f7b-ae02-a1ea46b900c2",
   "metadata": {},
   "source": [
    "## 2) 다차원배열에서 원소 조회하기"
   ]
  },
  {
   "cell_type": "code",
   "execution_count": 61,
   "id": "fee2a996-42d1-4833-8b5e-2a26e540ced9",
   "metadata": {},
   "outputs": [
    {
     "data": {
      "text/plain": [
       "array([100,   2,   3,   4])"
      ]
     },
     "execution_count": 61,
     "metadata": {},
     "output_type": "execute_result"
    }
   ],
   "source": [
    "li_arr"
   ]
  },
  {
   "cell_type": "code",
   "execution_count": 63,
   "id": "9724d30e-9fbb-4d89-a8d8-3264d2a81b6d",
   "metadata": {},
   "outputs": [
    {
     "data": {
      "text/plain": [
       "[1, 2, 3, 4]"
      ]
     },
     "execution_count": 63,
     "metadata": {},
     "output_type": "execute_result"
    }
   ],
   "source": [
    "li"
   ]
  },
  {
   "cell_type": "code",
   "execution_count": 65,
   "id": "9c87de51-f066-4a6b-9056-cd03b4609156",
   "metadata": {},
   "outputs": [
    {
     "data": {
      "text/plain": [
       "1"
      ]
     },
     "execution_count": 65,
     "metadata": {},
     "output_type": "execute_result"
    }
   ],
   "source": [
    "li[0]"
   ]
  },
  {
   "cell_type": "code",
   "execution_count": 67,
   "id": "dd5186a4-cfd5-4a63-b311-1f7ff61ba88e",
   "metadata": {},
   "outputs": [
    {
     "data": {
      "text/plain": [
       "100"
      ]
     },
     "execution_count": 67,
     "metadata": {},
     "output_type": "execute_result"
    }
   ],
   "source": [
    "li_arr[0]"
   ]
  },
  {
   "cell_type": "code",
   "execution_count": 69,
   "id": "dedd43e6-d27d-4b76-bd43-3b118b5f6e2a",
   "metadata": {},
   "outputs": [],
   "source": [
    "# 배열을 리스트로 변환\n",
    "list2d = arr2d.tolist()"
   ]
  },
  {
   "cell_type": "code",
   "execution_count": 71,
   "id": "eb2937f8-8072-4785-8406-aa089baf4472",
   "metadata": {},
   "outputs": [
    {
     "data": {
      "text/plain": [
       "[[1, 2, 3], [4, 5, 6]]"
      ]
     },
     "execution_count": 71,
     "metadata": {},
     "output_type": "execute_result"
    }
   ],
   "source": [
    "list2d"
   ]
  },
  {
   "cell_type": "code",
   "execution_count": 73,
   "id": "c934bc7d-6eb8-43a2-8aa5-4897393e8e96",
   "metadata": {},
   "outputs": [
    {
     "data": {
      "text/plain": [
       "array([[1, 2, 3],\n",
       "       [4, 5, 6]])"
      ]
     },
     "execution_count": 73,
     "metadata": {},
     "output_type": "execute_result"
    }
   ],
   "source": [
    "arr2d"
   ]
  },
  {
   "cell_type": "code",
   "execution_count": 75,
   "id": "e48c5fc9-d2ea-4f57-9e41-5fc7ec20dd75",
   "metadata": {},
   "outputs": [
    {
     "data": {
      "text/plain": [
       "2"
      ]
     },
     "execution_count": 75,
     "metadata": {},
     "output_type": "execute_result"
    }
   ],
   "source": [
    "# 리스트는 정수만 이용해서 원소 조회 가능\n",
    "# 따라서 리스트 내 리스트의 원소를 조회할 때는 인덱싱을 두 번 사용해야함\n",
    "list2d[0][1]"
   ]
  },
  {
   "cell_type": "code",
   "execution_count": 77,
   "id": "273e6373-184f-4326-89fa-4c2a41074e08",
   "metadata": {},
   "outputs": [
    {
     "ename": "TypeError",
     "evalue": "list indices must be integers or slices, not tuple",
     "output_type": "error",
     "traceback": [
      "\u001b[1;31m---------------------------------------------------------------------------\u001b[0m",
      "\u001b[1;31mTypeError\u001b[0m                                 Traceback (most recent call last)",
      "Cell \u001b[1;32mIn[77], line 1\u001b[0m\n\u001b[1;32m----> 1\u001b[0m list2d[\u001b[38;5;241m0\u001b[39m, \u001b[38;5;241m1\u001b[39m]\n",
      "\u001b[1;31mTypeError\u001b[0m: list indices must be integers or slices, not tuple"
     ]
    }
   ],
   "source": [
    "list2d[0, 1]"
   ]
  },
  {
   "cell_type": "code",
   "execution_count": 79,
   "id": "4084a5f9-cac0-44df-b93f-9d37e90914ab",
   "metadata": {},
   "outputs": [
    {
     "data": {
      "text/plain": [
       "2"
      ]
     },
     "execution_count": 79,
     "metadata": {},
     "output_type": "execute_result"
    }
   ],
   "source": [
    "# 다차원 배열은 행과 열의 인덱스를 튜플로 조회할 수 있음\n",
    "arr2d[0, 1]"
   ]
  },
  {
   "cell_type": "code",
   "execution_count": 81,
   "id": "084be27a-ef4f-41c4-949e-5558efaf477d",
   "metadata": {},
   "outputs": [
    {
     "data": {
      "text/plain": [
       "2"
      ]
     },
     "execution_count": 81,
     "metadata": {},
     "output_type": "execute_result"
    }
   ],
   "source": [
    "arr2d[0][1]"
   ]
  },
  {
   "cell_type": "code",
   "execution_count": 83,
   "id": "1706f838-9d4b-4813-91f4-b8c526bc6e02",
   "metadata": {},
   "outputs": [],
   "source": [
    "# 슬라이싱\n",
    "arr1 = np.array([[0, 1, 2, 3],\n",
    "                 [4, 5, 6, 7]])"
   ]
  },
  {
   "cell_type": "code",
   "execution_count": 85,
   "id": "52052c65-3cbd-4ee6-ae81-6b59ee3b6225",
   "metadata": {},
   "outputs": [
    {
     "data": {
      "text/plain": [
       "array([[0, 1, 2, 3],\n",
       "       [4, 5, 6, 7]])"
      ]
     },
     "execution_count": 85,
     "metadata": {},
     "output_type": "execute_result"
    }
   ],
   "source": [
    "arr1"
   ]
  },
  {
   "cell_type": "code",
   "execution_count": 87,
   "id": "8b076eb7-0fad-44e3-901c-4caf18660fa1",
   "metadata": {},
   "outputs": [
    {
     "data": {
      "text/plain": [
       "array([0, 1, 2, 3])"
      ]
     },
     "execution_count": 87,
     "metadata": {},
     "output_type": "execute_result"
    }
   ],
   "source": [
    "# 첫 번째 행 전체\n",
    "arr1[0, :]"
   ]
  },
  {
   "cell_type": "code",
   "execution_count": 89,
   "id": "f9080900-7f11-42f5-a48f-9da8a01203cc",
   "metadata": {},
   "outputs": [
    {
     "data": {
      "text/plain": [
       "array([1, 5])"
      ]
     },
     "execution_count": 89,
     "metadata": {},
     "output_type": "execute_result"
    }
   ],
   "source": [
    "# 두 번째 열 전체\n",
    "arr1[:, 1]"
   ]
  },
  {
   "cell_type": "code",
   "execution_count": 91,
   "id": "fa6ca25a-d0a3-44d4-b866-b18f4b83108c",
   "metadata": {},
   "outputs": [
    {
     "data": {
      "text/plain": [
       "array([5, 6, 7])"
      ]
     },
     "execution_count": 91,
     "metadata": {},
     "output_type": "execute_result"
    }
   ],
   "source": [
    "# 두 번째 행의 두 번째 열부터 끝열까지\n",
    "arr1[1, 1:]"
   ]
  },
  {
   "cell_type": "code",
   "execution_count": 93,
   "id": "10efa568-d3c9-4585-80c3-86b89d7b6d71",
   "metadata": {},
   "outputs": [
    {
     "data": {
      "text/plain": [
       "array([[0, 1],\n",
       "       [4, 5]])"
      ]
     },
     "execution_count": 93,
     "metadata": {},
     "output_type": "execute_result"
    }
   ],
   "source": [
    "# 각 행의 두 번째 열까지\n",
    "arr1[:, :2]"
   ]
  },
  {
   "cell_type": "markdown",
   "id": "0a84dec0-448c-478b-8160-c87bb2fd8a53",
   "metadata": {},
   "source": [
    "### 연습문제\n",
    "\n",
    "1. 아래의 행렬에서 값 7을 인덱싱\n",
    "2. 아래의 행렬에서 값 14를 인덱싱\n",
    "3. 아래의 행렬에서 배열 [6, 7]을 슬라이싱\n",
    "4. 아래의 행렬에서 배열 [7, 12]를 슬라이싱\n",
    "5. 아래의 행렬에서 배열[[3, 4], [8, 9]]를 슬라이싱"
   ]
  },
  {
   "cell_type": "code",
   "execution_count": 97,
   "id": "8a735299-34ff-412d-a469-7313fd8451ed",
   "metadata": {},
   "outputs": [],
   "source": [
    "m = np.arange(15).reshape(3, 5)"
   ]
  },
  {
   "cell_type": "code",
   "execution_count": 99,
   "id": "0177ec87-b45a-44a4-93d3-f4c069763793",
   "metadata": {},
   "outputs": [
    {
     "data": {
      "text/plain": [
       "array([[ 0,  1,  2,  3,  4],\n",
       "       [ 5,  6,  7,  8,  9],\n",
       "       [10, 11, 12, 13, 14]])"
      ]
     },
     "execution_count": 99,
     "metadata": {},
     "output_type": "execute_result"
    }
   ],
   "source": [
    "m"
   ]
  },
  {
   "cell_type": "code",
   "execution_count": 101,
   "id": "7716e99a-40c5-4041-ad5f-3baf07ae4769",
   "metadata": {},
   "outputs": [
    {
     "data": {
      "text/plain": [
       "7"
      ]
     },
     "execution_count": 101,
     "metadata": {},
     "output_type": "execute_result"
    }
   ],
   "source": [
    "# 1. 값 7을 인덱싱\n",
    "m[1, 2]"
   ]
  },
  {
   "cell_type": "code",
   "execution_count": 103,
   "id": "21193ec1-4b40-4489-9139-7904f1785dec",
   "metadata": {},
   "outputs": [
    {
     "data": {
      "text/plain": [
       "14"
      ]
     },
     "execution_count": 103,
     "metadata": {},
     "output_type": "execute_result"
    }
   ],
   "source": [
    "# 2. 값 14를 인덱싱\n",
    "# m[2, 4]\n",
    "m[-1, -1]"
   ]
  },
  {
   "cell_type": "code",
   "execution_count": 105,
   "id": "29a17dff-e178-4a9e-a61b-e2c5a85fd506",
   "metadata": {},
   "outputs": [
    {
     "data": {
      "text/plain": [
       "array([6, 7])"
      ]
     },
     "execution_count": 105,
     "metadata": {},
     "output_type": "execute_result"
    }
   ],
   "source": [
    "# 3. 배열 [6, 7]을 슬라이싱\n",
    "m[1, 1:3]"
   ]
  },
  {
   "cell_type": "code",
   "execution_count": 107,
   "id": "42ef74be-6f7c-4731-b2bb-79fcea5d3603",
   "metadata": {},
   "outputs": [
    {
     "data": {
      "text/plain": [
       "array([ 7, 12])"
      ]
     },
     "execution_count": 107,
     "metadata": {},
     "output_type": "execute_result"
    }
   ],
   "source": [
    "# 4. 배열 [7, 12]를 슬라이싱\n",
    "m[1:, 2]"
   ]
  },
  {
   "cell_type": "code",
   "execution_count": 109,
   "id": "186c252a-eadb-4f69-b00b-65f3436e2355",
   "metadata": {},
   "outputs": [
    {
     "data": {
      "text/plain": [
       "array([[3, 4],\n",
       "       [8, 9]])"
      ]
     },
     "execution_count": 109,
     "metadata": {},
     "output_type": "execute_result"
    }
   ],
   "source": [
    "# 5. 배열[[3, 4], [8, 9]]를 슬라이싱\n",
    "m[:2, 3:]"
   ]
  },
  {
   "cell_type": "markdown",
   "id": "6aa2d1e7-0d54-498e-bee0-19dbd05e4fbf",
   "metadata": {},
   "source": [
    "## 3) 파이썬 리스트와 넘파이 배열의 차이\n",
    "\n",
    "- 넘파이 배열은 배열끼리 연산이 가능하지만 파이썬 리스트는 값의 추가만 가능\n",
    "- 넘파이 배열은 숫자와의 연산도 가능하지만 파이썬 리스트는 불가능\n",
    "  - 파이썬 리스트 : 요소를 반복하는 것은 가능\n",
    "- 사용 용도\n",
    "  - 파이썬 리스트는 값을 추가하거나 제거하는 일에 사용\n",
    "  - 넘파이 배열은 수치 계산이 많고 복잡하거나 다차원배열이 필요할 때 사용"
   ]
  },
  {
   "cell_type": "markdown",
   "id": "11191609-37b6-431d-80d6-32ff8179d483",
   "metadata": {},
   "source": [
    "# 전치 연산(transpose)\n",
    "\n",
    "- 2차원 배열의 행과 열을 바꾸는 연산"
   ]
  },
  {
   "cell_type": "code",
   "execution_count": 114,
   "id": "7c6247b3-d158-4787-ae30-0d891787e62c",
   "metadata": {},
   "outputs": [],
   "source": [
    "arr = np.array([[1, 2, 3],\n",
    "                [4, 5, 6]])"
   ]
  },
  {
   "cell_type": "code",
   "execution_count": 116,
   "id": "47df178f-30a7-471a-85c1-a829f2d6cc30",
   "metadata": {},
   "outputs": [
    {
     "data": {
      "text/plain": [
       "array([[1, 2, 3],\n",
       "       [4, 5, 6]])"
      ]
     },
     "execution_count": 116,
     "metadata": {},
     "output_type": "execute_result"
    }
   ],
   "source": [
    "arr"
   ]
  },
  {
   "cell_type": "code",
   "execution_count": 118,
   "id": "278c3dae-5c18-493d-aa3c-5f18de9615c4",
   "metadata": {},
   "outputs": [
    {
     "data": {
      "text/plain": [
       "(2, 3)"
      ]
     },
     "execution_count": 118,
     "metadata": {},
     "output_type": "execute_result"
    }
   ],
   "source": [
    "arr.shape"
   ]
  },
  {
   "cell_type": "code",
   "execution_count": 120,
   "id": "aec04e47-c847-481b-bb91-be676d8c60ff",
   "metadata": {},
   "outputs": [
    {
     "data": {
      "text/plain": [
       "array([[1, 4],\n",
       "       [2, 5],\n",
       "       [3, 6]])"
      ]
     },
     "execution_count": 120,
     "metadata": {},
     "output_type": "execute_result"
    }
   ],
   "source": [
    "# 전치\n",
    "arr.T"
   ]
  },
  {
   "cell_type": "code",
   "execution_count": 122,
   "id": "94c8df65-dc11-46bb-a764-07d95043d0a8",
   "metadata": {},
   "outputs": [
    {
     "data": {
      "text/plain": [
       "(3, 2)"
      ]
     },
     "execution_count": 122,
     "metadata": {},
     "output_type": "execute_result"
    }
   ],
   "source": [
    "arr.T.shape"
   ]
  },
  {
   "cell_type": "markdown",
   "id": "b3f43c95-7ad3-48c8-ba1e-53bfa4f0ddb8",
   "metadata": {},
   "source": [
    "# 배열 크기 변형"
   ]
  },
  {
   "cell_type": "code",
   "execution_count": 125,
   "id": "d25723ed-3cdf-49c0-b7cf-e690d890f8e3",
   "metadata": {},
   "outputs": [],
   "source": [
    "arr1 = np.arange(12)"
   ]
  },
  {
   "cell_type": "code",
   "execution_count": 127,
   "id": "a05e14c5-9856-40ea-86f5-b033a8a880f8",
   "metadata": {},
   "outputs": [
    {
     "data": {
      "text/plain": [
       "array([ 0,  1,  2,  3,  4,  5,  6,  7,  8,  9, 10, 11])"
      ]
     },
     "execution_count": 127,
     "metadata": {},
     "output_type": "execute_result"
    }
   ],
   "source": [
    "arr1"
   ]
  },
  {
   "cell_type": "code",
   "execution_count": 129,
   "id": "5ad55830-d3ef-444e-9dee-f8eacf1a8488",
   "metadata": {},
   "outputs": [],
   "source": [
    "# arr1의 shape를 (3, 4)로 변형\n",
    "arr2 = arr1.reshape(3, 4)"
   ]
  },
  {
   "cell_type": "code",
   "execution_count": 131,
   "id": "3eb856ba-25a5-44c2-998a-d7cdc1f7c08b",
   "metadata": {},
   "outputs": [
    {
     "data": {
      "text/plain": [
       "array([[ 0,  1,  2,  3],\n",
       "       [ 4,  5,  6,  7],\n",
       "       [ 8,  9, 10, 11]])"
      ]
     },
     "execution_count": 131,
     "metadata": {},
     "output_type": "execute_result"
    }
   ],
   "source": [
    "arr2"
   ]
  },
  {
   "cell_type": "markdown",
   "id": "4f65f799-7bb4-448e-8762-9221655b20d1",
   "metadata": {},
   "source": [
    "- 사용하는 원소의 수가 정해져 있기 때문에 reshape의 형태 원소 중 하나는 -1로 대체할 수 있음"
   ]
  },
  {
   "cell_type": "code",
   "execution_count": 134,
   "id": "4a11059e-a633-4480-9ff3-cda8b92d6c96",
   "metadata": {},
   "outputs": [
    {
     "data": {
      "text/plain": [
       "array([[ 0,  1,  2,  3],\n",
       "       [ 4,  5,  6,  7],\n",
       "       [ 8,  9, 10, 11]])"
      ]
     },
     "execution_count": 134,
     "metadata": {},
     "output_type": "execute_result"
    }
   ],
   "source": [
    "arr1.reshape(-1, 4)"
   ]
  },
  {
   "cell_type": "code",
   "execution_count": 136,
   "id": "f8046972-a79d-4473-a4b9-3fd1899f7420",
   "metadata": {},
   "outputs": [
    {
     "data": {
      "text/plain": [
       "array([[ 0,  1,  2,  3],\n",
       "       [ 4,  5,  6,  7],\n",
       "       [ 8,  9, 10, 11]])"
      ]
     },
     "execution_count": 136,
     "metadata": {},
     "output_type": "execute_result"
    }
   ],
   "source": [
    "arr1.reshape(3, -1)"
   ]
  },
  {
   "cell_type": "code",
   "execution_count": 138,
   "id": "48f6079f-6f30-41a9-ab0a-c5590577e09c",
   "metadata": {},
   "outputs": [
    {
     "data": {
      "text/plain": [
       "array([[[ 0,  1,  2],\n",
       "        [ 3,  4,  5]],\n",
       "\n",
       "       [[ 6,  7,  8],\n",
       "        [ 9, 10, 11]]])"
      ]
     },
     "execution_count": 138,
     "metadata": {},
     "output_type": "execute_result"
    }
   ],
   "source": [
    "arr1.reshape(2, 2, -1)"
   ]
  },
  {
   "cell_type": "code",
   "execution_count": 140,
   "id": "ed0ab8b5-cf70-4d01-91dd-8d2328439fce",
   "metadata": {},
   "outputs": [
    {
     "data": {
      "text/plain": [
       "array([[[ 0,  1],\n",
       "        [ 2,  3],\n",
       "        [ 4,  5]],\n",
       "\n",
       "       [[ 6,  7],\n",
       "        [ 8,  9],\n",
       "        [10, 11]]])"
      ]
     },
     "execution_count": 140,
     "metadata": {},
     "output_type": "execute_result"
    }
   ],
   "source": [
    "arr1.reshape(2, -1, 2)"
   ]
  },
  {
   "cell_type": "markdown",
   "id": "87a09052-30fc-4357-ae0c-e3919ad7012b",
   "metadata": {},
   "source": [
    "# 넘파이 함수의 특징\n",
    "\n",
    "- 벡터화 연산\n",
    "  - 벡터와 행렬의 연산은 구성하는 원소별로 처리하는 것이 보통\n",
    "  - 동일한 인덱스의 원소끼리 계산을 처리하는 것을 벡터화 연산이라고 함\n",
    "- 유니버설 함수(universal function)\n",
    "  - 벡터화 연산을 지원하는 특별한 함수를 유니버설 함수라고 함"
   ]
  },
  {
   "cell_type": "code",
   "execution_count": 143,
   "id": "ea0d2a6e-62e2-49b6-8f14-ff4993ce8c00",
   "metadata": {},
   "outputs": [
    {
     "data": {
      "text/plain": [
       "function"
      ]
     },
     "execution_count": 143,
     "metadata": {},
     "output_type": "execute_result"
    }
   ],
   "source": [
    "# 일반 파이썬 함수의 타입 확인\n",
    "def test() :\n",
    "    pass\n",
    "\n",
    "type(test)"
   ]
  },
  {
   "cell_type": "code",
   "execution_count": 145,
   "id": "bfe971d3-413f-491d-a409-a045047ca5c9",
   "metadata": {},
   "outputs": [
    {
     "data": {
      "text/plain": [
       "numpy.ufunc"
      ]
     },
     "execution_count": 145,
     "metadata": {},
     "output_type": "execute_result"
    }
   ],
   "source": [
    "# 유니버셜 함수 확인\n",
    "type(np.add)"
   ]
  },
  {
   "cell_type": "code",
   "execution_count": 147,
   "id": "ac74c4c0-2b00-4886-bf4a-3ab33a7d7e8a",
   "metadata": {},
   "outputs": [
    {
     "data": {
      "text/plain": [
       "numpy._ArrayFunctionDispatcher"
      ]
     },
     "execution_count": 147,
     "metadata": {},
     "output_type": "execute_result"
    }
   ],
   "source": [
    "# 넘파이 모듈에는 유니버셜 함수도 있고 일반 함수도 있음\n",
    "type(np.sort)"
   ]
  },
  {
   "cell_type": "code",
   "execution_count": 149,
   "id": "5b81e551-85b7-4daa-9390-a7e81d9029c4",
   "metadata": {},
   "outputs": [
    {
     "data": {
      "text/plain": [
       "[[1, 2, 3], [4, 5, 6], [1, 2, 3], [4, 5, 6]]"
      ]
     },
     "execution_count": 149,
     "metadata": {},
     "output_type": "execute_result"
    }
   ],
   "source": [
    "list2d + list2d"
   ]
  },
  {
   "cell_type": "code",
   "execution_count": 151,
   "id": "59e029b7-66c9-4b1e-b754-399caf69a158",
   "metadata": {},
   "outputs": [
    {
     "data": {
      "text/plain": [
       "array([[ 2,  4,  6],\n",
       "       [ 8, 10, 12]])"
      ]
     },
     "execution_count": 151,
     "metadata": {},
     "output_type": "execute_result"
    }
   ],
   "source": [
    "np.add(list2d, list2d)"
   ]
  },
  {
   "cell_type": "markdown",
   "id": "dcec470b-744d-4e68-b185-567b6a49f0c6",
   "metadata": {},
   "source": [
    "## 1) 벡터화 연산\n",
    "\n",
    "- 벡터화 연산이 필요한 이유\n",
    "    - 예) data 리스트 내의 각 값에 2를 곱해야 하는 경우"
   ]
  },
  {
   "cell_type": "code",
   "execution_count": 154,
   "id": "491977a5-e5e8-4085-bc5a-9f800a7656ea",
   "metadata": {},
   "outputs": [
    {
     "data": {
      "text/plain": [
       "[0, 1, 2, 3, 4, 5, 6, 7, 8, 9]"
      ]
     },
     "execution_count": 154,
     "metadata": {},
     "output_type": "execute_result"
    }
   ],
   "source": [
    "# 리스트를 통한 풀이\n",
    "data = list(range(10))\n",
    "data"
   ]
  },
  {
   "cell_type": "code",
   "execution_count": 156,
   "id": "e67e8ab8-373b-48cd-9b24-235a54d394d1",
   "metadata": {},
   "outputs": [
    {
     "data": {
      "text/plain": [
       "[0, 1, 2, 3, 4, 5, 6, 7, 8, 9, 0, 1, 2, 3, 4, 5, 6, 7, 8, 9]"
      ]
     },
     "execution_count": 156,
     "metadata": {},
     "output_type": "execute_result"
    }
   ],
   "source": [
    "data * 2"
   ]
  },
  {
   "cell_type": "code",
   "execution_count": 158,
   "id": "9e1eaee3-10b1-4b53-97f5-0753871ec9f1",
   "metadata": {},
   "outputs": [
    {
     "data": {
      "text/plain": [
       "[0, 2, 4, 6, 8, 10, 12, 14, 16, 18]"
      ]
     },
     "execution_count": 158,
     "metadata": {},
     "output_type": "execute_result"
    }
   ],
   "source": [
    "ans = []\n",
    "\n",
    "for i in data :\n",
    "    ans.append(i * 2)\n",
    "\n",
    "ans"
   ]
  },
  {
   "cell_type": "code",
   "execution_count": 160,
   "id": "1724cc51-8b02-4c43-a013-94ede02ab13f",
   "metadata": {},
   "outputs": [
    {
     "data": {
      "text/plain": [
       "array([ 0,  2,  4,  6,  8, 10, 12, 14, 16, 18])"
      ]
     },
     "execution_count": 160,
     "metadata": {},
     "output_type": "execute_result"
    }
   ],
   "source": [
    "# 넘파이를 통한 풀이\n",
    "data = np.array(data)\n",
    "\n",
    "data * 2"
   ]
  },
  {
   "cell_type": "markdown",
   "id": "60b56b67-5f27-40b3-b387-336b7cade070",
   "metadata": {},
   "source": [
    "### (1) 넘파이 벡터화 연산\n",
    "\n",
    "- 벡터화 연산은 비교 연산과 논리 연산을 포함한 모든 종류의 수학 연산에 대해 적용됨"
   ]
  },
  {
   "cell_type": "code",
   "execution_count": 163,
   "id": "0d8e841a-5634-44bc-beef-d7118571a027",
   "metadata": {},
   "outputs": [],
   "source": [
    "a = np.array([1, 2, 3])\n",
    "b = np.array([10, 20, 30])"
   ]
  },
  {
   "cell_type": "code",
   "execution_count": 165,
   "id": "428e7d69-d7df-44c5-b950-48733da530db",
   "metadata": {},
   "outputs": [
    {
     "data": {
      "text/plain": [
       "array([12, 24, 36])"
      ]
     },
     "execution_count": 165,
     "metadata": {},
     "output_type": "execute_result"
    }
   ],
   "source": [
    "2 * a + b"
   ]
  },
  {
   "cell_type": "code",
   "execution_count": 167,
   "id": "33bd3b75-78db-4075-9ca8-de60f4e0a779",
   "metadata": {},
   "outputs": [
    {
     "data": {
      "text/plain": [
       "array([False,  True, False])"
      ]
     },
     "execution_count": 167,
     "metadata": {},
     "output_type": "execute_result"
    }
   ],
   "source": [
    "a == 2"
   ]
  },
  {
   "cell_type": "code",
   "execution_count": 169,
   "id": "063e9ef0-5bac-46af-83c8-948bcbda50b1",
   "metadata": {},
   "outputs": [
    {
     "data": {
      "text/plain": [
       "False"
      ]
     },
     "execution_count": 169,
     "metadata": {},
     "output_type": "execute_result"
    }
   ],
   "source": [
    "[1, 2, 3] == 2"
   ]
  },
  {
   "cell_type": "code",
   "execution_count": 171,
   "id": "a76c42b2-ac3b-4002-b5ff-82a37eab46c5",
   "metadata": {},
   "outputs": [
    {
     "data": {
      "text/plain": [
       "array([False,  True,  True])"
      ]
     },
     "execution_count": 171,
     "metadata": {},
     "output_type": "execute_result"
    }
   ],
   "source": [
    "b > 10"
   ]
  },
  {
   "cell_type": "code",
   "execution_count": 173,
   "id": "63f6aa7c-4f09-4f5a-a059-7ad93877b40e",
   "metadata": {},
   "outputs": [
    {
     "data": {
      "text/plain": [
       "array([False,  True, False])"
      ]
     },
     "execution_count": 173,
     "metadata": {},
     "output_type": "execute_result"
    }
   ],
   "source": [
    "(a == 2) & (b > 10)"
   ]
  },
  {
   "cell_type": "code",
   "execution_count": 175,
   "id": "269f97f6-a1fa-4cf2-adaa-41c667d2ae72",
   "metadata": {},
   "outputs": [
    {
     "data": {
      "text/plain": [
       "array([2])"
      ]
     },
     "execution_count": 175,
     "metadata": {},
     "output_type": "execute_result"
    }
   ],
   "source": [
    "a[a == 2]"
   ]
  },
  {
   "cell_type": "markdown",
   "id": "b0bc16c3-1040-4045-a90e-36f6c262d961",
   "metadata": {},
   "source": [
    "- 배열끼리의 연산"
   ]
  },
  {
   "cell_type": "code",
   "execution_count": 178,
   "id": "1a8a09cc-e91b-4c91-8804-fc1b85e0aad9",
   "metadata": {},
   "outputs": [
    {
     "data": {
      "text/plain": [
       "array([6, 7, 8, 9])"
      ]
     },
     "execution_count": 178,
     "metadata": {},
     "output_type": "execute_result"
    }
   ],
   "source": [
    "arr1 = np.arange(6, 10)\n",
    "arr1"
   ]
  },
  {
   "cell_type": "code",
   "execution_count": 180,
   "id": "25d84d63-2cc3-4541-990e-70fa80c07cf1",
   "metadata": {},
   "outputs": [
    {
     "data": {
      "text/plain": [
       "array([10, 11, 12, 13])"
      ]
     },
     "execution_count": 180,
     "metadata": {},
     "output_type": "execute_result"
    }
   ],
   "source": [
    "arr2 = np.arange(10, 14)\n",
    "arr2"
   ]
  },
  {
   "cell_type": "code",
   "execution_count": 182,
   "id": "e50ba41c-0198-49b8-b91f-93d8dac665ed",
   "metadata": {},
   "outputs": [
    {
     "data": {
      "text/plain": [
       "array([ 60,  77,  96, 117])"
      ]
     },
     "execution_count": 182,
     "metadata": {},
     "output_type": "execute_result"
    }
   ],
   "source": [
    "# 두 개의 다차원 배열을 곱하면 동일한 인덱스의 원소끼리 곱셈한 결과인 1차원 배열이 반환됨\n",
    "arr1 * arr2"
   ]
  },
  {
   "cell_type": "code",
   "execution_count": 184,
   "id": "9a746317-3ccf-46d4-99c6-9652b4fb056c",
   "metadata": {},
   "outputs": [
    {
     "data": {
      "text/plain": [
       "array([[6],\n",
       "       [7],\n",
       "       [8],\n",
       "       [9]])"
      ]
     },
     "execution_count": 184,
     "metadata": {},
     "output_type": "execute_result"
    }
   ],
   "source": [
    "# arr1에 수직축 추가\n",
    "new_arr1 = arr1.reshape(-1, 1)\n",
    "new_arr1"
   ]
  },
  {
   "cell_type": "code",
   "execution_count": 186,
   "id": "fb41f2d9-21cc-47b1-afbc-d8c8155ebfef",
   "metadata": {},
   "outputs": [
    {
     "data": {
      "text/plain": [
       "(4, 1)"
      ]
     },
     "execution_count": 186,
     "metadata": {},
     "output_type": "execute_result"
    }
   ],
   "source": [
    "new_arr1.shape"
   ]
  },
  {
   "cell_type": "code",
   "execution_count": 188,
   "id": "2d5ee5a0-89eb-4916-80f9-cf204ff695ce",
   "metadata": {},
   "outputs": [
    {
     "data": {
      "text/plain": [
       "array([[10, 11, 12, 13]])"
      ]
     },
     "execution_count": 188,
     "metadata": {},
     "output_type": "execute_result"
    }
   ],
   "source": [
    "# arr2에 수평축 추가\n",
    "new_arr2 = arr2.reshape(1, -1)\n",
    "new_arr2"
   ]
  },
  {
   "cell_type": "code",
   "execution_count": 190,
   "id": "1d9452f7-9965-4005-b8f7-574e6987f14b",
   "metadata": {},
   "outputs": [
    {
     "data": {
      "text/plain": [
       "(1, 4)"
      ]
     },
     "execution_count": 190,
     "metadata": {},
     "output_type": "execute_result"
    }
   ],
   "source": [
    "new_arr2.shape"
   ]
  },
  {
   "cell_type": "code",
   "execution_count": 192,
   "id": "9e9e518e-92c2-4d90-98fb-e8f196eb611b",
   "metadata": {},
   "outputs": [
    {
     "data": {
      "text/plain": [
       "array([[ 60,  66,  72,  78],\n",
       "       [ 70,  77,  84,  91],\n",
       "       [ 80,  88,  96, 104],\n",
       "       [ 90,  99, 108, 117]])"
      ]
     },
     "execution_count": 192,
     "metadata": {},
     "output_type": "execute_result"
    }
   ],
   "source": [
    "# 2차원 배열의 곱하기 연산\n",
    "new_arr1 * new_arr2"
   ]
  },
  {
   "cell_type": "code",
   "execution_count": 194,
   "id": "c74f56d8-8a5f-4325-bfdc-2f7be042b07f",
   "metadata": {},
   "outputs": [
    {
     "data": {
      "text/plain": [
       "array([[ 60,  66,  72,  78],\n",
       "       [ 70,  77,  84,  91],\n",
       "       [ 80,  88,  96, 104],\n",
       "       [ 90,  99, 108, 117]])"
      ]
     },
     "execution_count": 194,
     "metadata": {},
     "output_type": "execute_result"
    }
   ],
   "source": [
    "# 행렬곱 연산\n",
    "new_arr1 @ new_arr2"
   ]
  },
  {
   "cell_type": "code",
   "execution_count": 196,
   "id": "9838c6ff-d139-48a9-9ab8-4c73706ac889",
   "metadata": {},
   "outputs": [
    {
     "data": {
      "text/plain": [
       "array([[ 5, 12],\n",
       "       [21, 32]])"
      ]
     },
     "execution_count": 196,
     "metadata": {},
     "output_type": "execute_result"
    }
   ],
   "source": [
    "a = np.array([[1, 2], [3, 4]])\n",
    "b = np.array([[5, 6], [7, 8]])\n",
    "\n",
    "# * 연산자는 요소별 곱셈을 수행\n",
    "result = a * b\n",
    "result"
   ]
  },
  {
   "cell_type": "code",
   "execution_count": 198,
   "id": "cb12436b-b298-4688-a1b5-952c6fb501ef",
   "metadata": {},
   "outputs": [
    {
     "data": {
      "text/plain": [
       "array([[19, 22],\n",
       "       [43, 50]])"
      ]
     },
     "execution_count": 198,
     "metadata": {},
     "output_type": "execute_result"
    }
   ],
   "source": [
    "# @ 연산자는 행렬곱셈을 수행\n",
    "a @ b"
   ]
  },
  {
   "cell_type": "markdown",
   "id": "278f85c4-a729-421c-b50c-b70af1f31f63",
   "metadata": {},
   "source": [
    "## 2) 브로드캐스팅(broadcasting)\n",
    "\n",
    "- 배열끼리 연산을 하기 위해서는 두 배열의 크기가 같아야함\n",
    "- 서로 다른 크기를 가진 배열의 사칙 연산을 하는 경우 넘파이에서는 크기가 작은 배열을 자동으로 반복 확장하여 크기가 큰 배열에 맞춤"
   ]
  },
  {
   "cell_type": "code",
   "execution_count": 203,
   "id": "9500e2fa-d3d8-486d-b2f2-070285f28451",
   "metadata": {},
   "outputs": [
    {
     "data": {
      "text/plain": [
       "array([[6],\n",
       "       [7],\n",
       "       [8],\n",
       "       [9]])"
      ]
     },
     "execution_count": 203,
     "metadata": {},
     "output_type": "execute_result"
    }
   ],
   "source": [
    "new_arr1"
   ]
  },
  {
   "cell_type": "code",
   "execution_count": 205,
   "id": "b8fa290e-ebe1-4d3a-8b98-c0f7f3c0b8b8",
   "metadata": {},
   "outputs": [
    {
     "data": {
      "text/plain": [
       "array([[10, 11, 12, 13]])"
      ]
     },
     "execution_count": 205,
     "metadata": {},
     "output_type": "execute_result"
    }
   ],
   "source": [
    "new_arr2"
   ]
  },
  {
   "cell_type": "code",
   "execution_count": 207,
   "id": "08981917-8c3e-45a6-b376-70d235df66e9",
   "metadata": {},
   "outputs": [
    {
     "data": {
      "text/plain": [
       "array([[16, 17, 18, 19],\n",
       "       [17, 18, 19, 20],\n",
       "       [18, 19, 20, 21],\n",
       "       [19, 20, 21, 22]])"
      ]
     },
     "execution_count": 207,
     "metadata": {},
     "output_type": "execute_result"
    }
   ],
   "source": [
    "new_arr1 + new_arr2"
   ]
  },
  {
   "cell_type": "markdown",
   "id": "75c79b8a-85c4-40ac-840f-a7c2e8eb7cf5",
   "metadata": {},
   "source": [
    "### 연습문제\n",
    "\n",
    "1. 아래의 배열에서 3의 배수를 찾기\n",
    "2. 아래의 배열에서 4로 나누면 1이 남는 수를 찾기\n",
    "3. 아래의 배열에서 3으로 나누면 나누어지고 4로 나누면 1이 남는 수를 찾기"
   ]
  },
  {
   "cell_type": "code",
   "execution_count": 210,
   "id": "15883706-cc9f-467f-91d8-5be86ade09ec",
   "metadata": {},
   "outputs": [
    {
     "data": {
      "text/plain": [
       "array([ 1,  2,  3,  4,  5,  6,  7,  8,  9, 10, 11, 12, 13, 14, 15, 16, 17,\n",
       "       18, 19, 20])"
      ]
     },
     "execution_count": 210,
     "metadata": {},
     "output_type": "execute_result"
    }
   ],
   "source": [
    "x = np.arange(1, 21)\n",
    "x"
   ]
  },
  {
   "cell_type": "code",
   "execution_count": 212,
   "id": "78a4cc8b-91ec-49b1-b37a-da96fc5db566",
   "metadata": {},
   "outputs": [
    {
     "data": {
      "text/plain": [
       "array([ 3,  6,  9, 12, 15, 18])"
      ]
     },
     "execution_count": 212,
     "metadata": {},
     "output_type": "execute_result"
    }
   ],
   "source": [
    "# 1. 3의 배수를 찾기\n",
    "x[x % 3 == 0]"
   ]
  },
  {
   "cell_type": "code",
   "execution_count": 214,
   "id": "93aaa1bf-3c16-4cd8-a24b-ffbfcbafc90b",
   "metadata": {},
   "outputs": [
    {
     "data": {
      "text/plain": [
       "array([ 1,  5,  9, 13, 17])"
      ]
     },
     "execution_count": 214,
     "metadata": {},
     "output_type": "execute_result"
    }
   ],
   "source": [
    "# 2. 4로 나누면 1이 남는 수를 찾기\n",
    "x[x % 4 == 1]"
   ]
  },
  {
   "cell_type": "code",
   "execution_count": 216,
   "id": "ad04eeef-c05e-49f5-84b3-3f8e32b141b5",
   "metadata": {},
   "outputs": [
    {
     "data": {
      "text/plain": [
       "array([9])"
      ]
     },
     "execution_count": 216,
     "metadata": {},
     "output_type": "execute_result"
    }
   ],
   "source": [
    "# 3. 3으로 나누면 나누어지고 4로 나누면 1이 남는 수를 찾기\n",
    "x[(x % 3 == 0) & (x % 4 == 1)]"
   ]
  },
  {
   "cell_type": "markdown",
   "id": "bfc964c6-865e-4371-b760-1f09313dab9b",
   "metadata": {},
   "source": [
    "## 3) 축에 따른 연산\n",
    "\n",
    "- 동일한 축에 있는 원소들을 계산하기 위해서 필요함"
   ]
  },
  {
   "cell_type": "code",
   "execution_count": 278,
   "id": "83d88b16-174c-478a-bce9-6ad525d328c0",
   "metadata": {},
   "outputs": [],
   "source": [
    "# 1차원 배열\n",
    "arr1 = np.array([1, 2, 3, 4])"
   ]
  },
  {
   "cell_type": "code",
   "execution_count": 297,
   "id": "61786194-c7cc-46ed-bdbe-79b05dbb7ae6",
   "metadata": {},
   "outputs": [
    {
     "data": {
      "text/plain": [
       "array([1, 2, 3, 4])"
      ]
     },
     "execution_count": 297,
     "metadata": {},
     "output_type": "execute_result"
    }
   ],
   "source": [
    "arr1"
   ]
  },
  {
   "cell_type": "code",
   "execution_count": 299,
   "id": "11ba802c-0753-4942-a627-f2df9c8d284c",
   "metadata": {},
   "outputs": [
    {
     "data": {
      "text/plain": [
       "10"
      ]
     },
     "execution_count": 299,
     "metadata": {},
     "output_type": "execute_result"
    }
   ],
   "source": [
    "# 합계\n",
    "np.sum(arr1)"
   ]
  },
  {
   "cell_type": "code",
   "execution_count": 301,
   "id": "8bee4588-0afa-4c31-88cd-6d9cada8490b",
   "metadata": {},
   "outputs": [
    {
     "data": {
      "text/plain": [
       "10"
      ]
     },
     "execution_count": 301,
     "metadata": {},
     "output_type": "execute_result"
    }
   ],
   "source": [
    "arr1.sum()"
   ]
  },
  {
   "cell_type": "code",
   "execution_count": 303,
   "id": "0d2d2d99-ed70-4972-85ec-b51d1b256aa2",
   "metadata": {},
   "outputs": [
    {
     "data": {
      "text/plain": [
       "4"
      ]
     },
     "execution_count": 303,
     "metadata": {},
     "output_type": "execute_result"
    }
   ],
   "source": [
    "# 최댓값\n",
    "arr1.max()"
   ]
  },
  {
   "cell_type": "code",
   "execution_count": 305,
   "id": "5b46c4f9-f70e-4ad1-ac30-d1a668c8d0fb",
   "metadata": {},
   "outputs": [
    {
     "data": {
      "text/plain": [
       "4"
      ]
     },
     "execution_count": 305,
     "metadata": {},
     "output_type": "execute_result"
    }
   ],
   "source": [
    "np.max(arr1)"
   ]
  },
  {
   "cell_type": "code",
   "execution_count": 307,
   "id": "77996878-d768-4103-be79-ed4b0999db6e",
   "metadata": {},
   "outputs": [
    {
     "data": {
      "text/plain": [
       "1"
      ]
     },
     "execution_count": 307,
     "metadata": {},
     "output_type": "execute_result"
    }
   ],
   "source": [
    "# 최솟값\n",
    "arr1.min()"
   ]
  },
  {
   "cell_type": "code",
   "execution_count": 309,
   "id": "3866d281-4d11-40c2-8cd8-05125a7ee6af",
   "metadata": {},
   "outputs": [
    {
     "data": {
      "text/plain": [
       "1"
      ]
     },
     "execution_count": 309,
     "metadata": {},
     "output_type": "execute_result"
    }
   ],
   "source": [
    "np.min(arr1)"
   ]
  },
  {
   "cell_type": "code",
   "execution_count": 311,
   "id": "c4aec305-cb37-483b-a9a7-e16c9cfecf25",
   "metadata": {},
   "outputs": [
    {
     "data": {
      "text/plain": [
       "3"
      ]
     },
     "execution_count": 311,
     "metadata": {},
     "output_type": "execute_result"
    }
   ],
   "source": [
    "# 최댓값의 위치\n",
    "arr1.argmax()"
   ]
  },
  {
   "cell_type": "code",
   "execution_count": 313,
   "id": "7a6ccf0f-11b9-4674-8929-b95eb565a321",
   "metadata": {},
   "outputs": [
    {
     "data": {
      "text/plain": [
       "0"
      ]
     },
     "execution_count": 313,
     "metadata": {},
     "output_type": "execute_result"
    }
   ],
   "source": [
    "# 최솟값의 위치\n",
    "arr1.argmin()"
   ]
  },
  {
   "cell_type": "code",
   "execution_count": 315,
   "id": "010e05af-a96d-46fe-a8aa-0a1d0bf75a06",
   "metadata": {},
   "outputs": [
    {
     "data": {
      "text/plain": [
       "2.5"
      ]
     },
     "execution_count": 315,
     "metadata": {},
     "output_type": "execute_result"
    }
   ],
   "source": [
    "# 평균\n",
    "arr1.mean()"
   ]
  },
  {
   "cell_type": "code",
   "execution_count": 317,
   "id": "bae47680-8d9d-4a4b-8444-b56bc08628ea",
   "metadata": {},
   "outputs": [
    {
     "data": {
      "text/plain": [
       "2.5"
      ]
     },
     "execution_count": 317,
     "metadata": {},
     "output_type": "execute_result"
    }
   ],
   "source": [
    "# 중앙값\n",
    "np.median(arr1)"
   ]
  },
  {
   "cell_type": "code",
   "execution_count": 319,
   "id": "0d23a6ef-5a7e-47cc-8394-d3debaf0ae3e",
   "metadata": {},
   "outputs": [],
   "source": [
    "# 2차원배열\n",
    "arr2 = arr1.reshape(2, 2)"
   ]
  },
  {
   "cell_type": "code",
   "execution_count": 321,
   "id": "0fa40142-491b-4086-b646-4df8121eccd4",
   "metadata": {},
   "outputs": [
    {
     "data": {
      "text/plain": [
       "array([[1, 2],\n",
       "       [3, 4]])"
      ]
     },
     "execution_count": 321,
     "metadata": {},
     "output_type": "execute_result"
    }
   ],
   "source": [
    "arr2"
   ]
  },
  {
   "cell_type": "code",
   "execution_count": 323,
   "id": "47aa1532-e4f6-405a-b6dd-9ac08c30ee04",
   "metadata": {},
   "outputs": [
    {
     "data": {
      "text/plain": [
       "10"
      ]
     },
     "execution_count": 323,
     "metadata": {},
     "output_type": "execute_result"
    }
   ],
   "source": [
    "# 모든 원소를 더한 합\n",
    "np.sum(arr2)"
   ]
  },
  {
   "cell_type": "code",
   "execution_count": 325,
   "id": "55cf24e3-5d64-4e76-8817-41f0eb350769",
   "metadata": {},
   "outputs": [
    {
     "data": {
      "text/plain": [
       "array([4, 6])"
      ]
     },
     "execution_count": 325,
     "metadata": {},
     "output_type": "execute_result"
    }
   ],
   "source": [
    "# 수직 방향으로 같은 열에 속한 원소만 합산\n",
    "np.sum(arr2, axis = 0)"
   ]
  },
  {
   "cell_type": "code",
   "execution_count": 327,
   "id": "88891627-497a-4fa1-8d44-f20b03cde3ce",
   "metadata": {},
   "outputs": [
    {
     "data": {
      "text/plain": [
       "array([3, 7])"
      ]
     },
     "execution_count": 327,
     "metadata": {},
     "output_type": "execute_result"
    }
   ],
   "source": [
    "# 수평 방향으로 같은 열에 속한 원소만 합산\n",
    "np.sum(arr2, axis = 1)"
   ]
  },
  {
   "cell_type": "code",
   "execution_count": 329,
   "id": "a9e44fd5-6f05-4d21-a84e-7f7d943d5a84",
   "metadata": {},
   "outputs": [],
   "source": [
    "arr3 = np.random.randint(0, 10, (2, 3))"
   ]
  },
  {
   "cell_type": "code",
   "execution_count": 331,
   "id": "36e00027-4307-40c2-a3b9-b8061fa5c715",
   "metadata": {},
   "outputs": [
    {
     "data": {
      "text/plain": [
       "array([[2, 2, 1],\n",
       "       [1, 5, 1]])"
      ]
     },
     "execution_count": 331,
     "metadata": {},
     "output_type": "execute_result"
    }
   ],
   "source": [
    "arr3"
   ]
  },
  {
   "cell_type": "code",
   "execution_count": 347,
   "id": "c0b9212c-b7a0-4efd-be18-7d0d689bc5a9",
   "metadata": {},
   "outputs": [
    {
     "data": {
      "text/plain": [
       "(2, 3)"
      ]
     },
     "execution_count": 347,
     "metadata": {},
     "output_type": "execute_result"
    }
   ],
   "source": [
    "arr3.shape"
   ]
  },
  {
   "cell_type": "code",
   "execution_count": 349,
   "id": "d40c1886-0ff4-4cbf-b0e6-5043a927f417",
   "metadata": {},
   "outputs": [
    {
     "data": {
      "text/plain": [
       "12"
      ]
     },
     "execution_count": 349,
     "metadata": {},
     "output_type": "execute_result"
    }
   ],
   "source": [
    "np.sum(arr3)"
   ]
  },
  {
   "cell_type": "code",
   "execution_count": 351,
   "id": "997a2bc1-398c-4b06-b49a-a6bcbc6330e4",
   "metadata": {},
   "outputs": [
    {
     "data": {
      "text/plain": [
       "array([3, 7, 2])"
      ]
     },
     "execution_count": 351,
     "metadata": {},
     "output_type": "execute_result"
    }
   ],
   "source": [
    "np.sum(arr3, axis = 0)"
   ]
  },
  {
   "cell_type": "code",
   "execution_count": 353,
   "id": "b9a4b5f0-80e2-40ae-a5d6-6d4353308131",
   "metadata": {},
   "outputs": [
    {
     "data": {
      "text/plain": [
       "array([5, 7])"
      ]
     },
     "execution_count": 353,
     "metadata": {},
     "output_type": "execute_result"
    }
   ],
   "source": [
    "np.sum(arr3, axis = 1)"
   ]
  },
  {
   "cell_type": "code",
   "execution_count": 355,
   "id": "79a83091-81e4-4fda-80cf-7cca8b4df803",
   "metadata": {},
   "outputs": [],
   "source": [
    "# 3차원배열\n",
    "arr4 = np.arange(1, 9)"
   ]
  },
  {
   "cell_type": "code",
   "execution_count": 357,
   "id": "f5b183d7-abfe-4b3a-9157-abb262a9b446",
   "metadata": {},
   "outputs": [
    {
     "data": {
      "text/plain": [
       "array([1, 2, 3, 4, 5, 6, 7, 8])"
      ]
     },
     "execution_count": 357,
     "metadata": {},
     "output_type": "execute_result"
    }
   ],
   "source": [
    "arr4"
   ]
  },
  {
   "cell_type": "code",
   "execution_count": 359,
   "id": "d38a4f07-3766-44a6-a973-ab931694485c",
   "metadata": {},
   "outputs": [],
   "source": [
    "arr5 = arr4.reshape(2, 2, 2)"
   ]
  },
  {
   "cell_type": "code",
   "execution_count": 361,
   "id": "2fdc56b7-ce12-44b3-bc60-919e752d19f3",
   "metadata": {},
   "outputs": [
    {
     "data": {
      "text/plain": [
       "array([[[1, 2],\n",
       "        [3, 4]],\n",
       "\n",
       "       [[5, 6],\n",
       "        [7, 8]]])"
      ]
     },
     "execution_count": 361,
     "metadata": {},
     "output_type": "execute_result"
    }
   ],
   "source": [
    "arr5"
   ]
  },
  {
   "cell_type": "code",
   "execution_count": 363,
   "id": "e72b01ae-3268-4fd7-a151-8489c2a81301",
   "metadata": {},
   "outputs": [
    {
     "data": {
      "text/plain": [
       "36"
      ]
     },
     "execution_count": 363,
     "metadata": {},
     "output_type": "execute_result"
    }
   ],
   "source": [
    "# 모든 원소를 더한 합\n",
    "np.sum(arr5)"
   ]
  },
  {
   "cell_type": "code",
   "execution_count": 365,
   "id": "d136341e-da33-42d5-89d5-d32dae13fda6",
   "metadata": {},
   "outputs": [
    {
     "data": {
      "text/plain": [
       "array([[ 6,  8],\n",
       "       [10, 12]])"
      ]
     },
     "execution_count": 365,
     "metadata": {},
     "output_type": "execute_result"
    }
   ],
   "source": [
    "# 두 개의 행렬의 동일한 인덱스의 원소를 합한 값\n",
    "np.sum(arr5, axis = 0)"
   ]
  },
  {
   "cell_type": "code",
   "execution_count": 367,
   "id": "ed29afe4-04ae-4657-a293-ecfe9d3e406b",
   "metadata": {},
   "outputs": [
    {
     "data": {
      "text/plain": [
       "array([[ 4,  6],\n",
       "       [12, 14]])"
      ]
     },
     "execution_count": 367,
     "metadata": {},
     "output_type": "execute_result"
    }
   ],
   "source": [
    "# 각 2차원 배열의 0번축의 합\n",
    "np.sum(arr5, axis = 1)"
   ]
  },
  {
   "cell_type": "code",
   "execution_count": 369,
   "id": "124b09a6-25d7-43aa-8cfc-fbd522cdb9bc",
   "metadata": {},
   "outputs": [
    {
     "data": {
      "text/plain": [
       "array([[ 3,  7],\n",
       "       [11, 15]])"
      ]
     },
     "execution_count": 369,
     "metadata": {},
     "output_type": "execute_result"
    }
   ],
   "source": [
    "# 각 2차원 배열의 1번축의 합\n",
    "np.sum(arr5, axis = 2)"
   ]
  },
  {
   "cell_type": "code",
   "execution_count": 371,
   "id": "dfdaa427-03a1-44cc-b743-50d1fdb88523",
   "metadata": {},
   "outputs": [
    {
     "data": {
      "text/plain": [
       "array([16, 20])"
      ]
     },
     "execution_count": 371,
     "metadata": {},
     "output_type": "execute_result"
    }
   ],
   "source": [
    "np.sum(arr5, axis = (0, 1))"
   ]
  },
  {
   "cell_type": "code",
   "execution_count": 373,
   "id": "0d4df2c8-9789-4f65-aa3e-e9fcc9109d56",
   "metadata": {},
   "outputs": [
    {
     "data": {
      "text/plain": [
       "array([14, 22])"
      ]
     },
     "execution_count": 373,
     "metadata": {},
     "output_type": "execute_result"
    }
   ],
   "source": [
    "np.sum(arr5, axis = (0, 2))"
   ]
  },
  {
   "cell_type": "code",
   "execution_count": 375,
   "id": "441bae86-0cf5-4e75-8d89-77392d7baf3b",
   "metadata": {},
   "outputs": [
    {
     "data": {
      "text/plain": [
       "array([10, 26])"
      ]
     },
     "execution_count": 375,
     "metadata": {},
     "output_type": "execute_result"
    }
   ],
   "source": [
    "np.sum(arr5, axis = (1, 2))"
   ]
  },
  {
   "cell_type": "code",
   "execution_count": 393,
   "id": "7f7a9362-0339-4b7e-bbe8-473fcc1adcb2",
   "metadata": {},
   "outputs": [],
   "source": [
    "arr6 = np.random.randint(0, 10, (2, 3, 4))"
   ]
  },
  {
   "cell_type": "code",
   "execution_count": 395,
   "id": "5a16ac97-eec3-4ec5-b11a-5b6a84ee9bf6",
   "metadata": {},
   "outputs": [
    {
     "data": {
      "text/plain": [
       "array([[[9, 3, 0, 4],\n",
       "        [2, 0, 5, 8],\n",
       "        [8, 6, 2, 0]],\n",
       "\n",
       "       [[8, 5, 5, 1],\n",
       "        [7, 8, 4, 8],\n",
       "        [3, 9, 0, 1]]])"
      ]
     },
     "execution_count": 395,
     "metadata": {},
     "output_type": "execute_result"
    }
   ],
   "source": [
    "arr6"
   ]
  },
  {
   "cell_type": "code",
   "execution_count": 397,
   "id": "395b1f6e-207d-438b-97a5-3a4eb9bbefd7",
   "metadata": {},
   "outputs": [
    {
     "data": {
      "text/plain": [
       "(2, 3, 4)"
      ]
     },
     "execution_count": 397,
     "metadata": {},
     "output_type": "execute_result"
    }
   ],
   "source": [
    "arr6.shape"
   ]
  },
  {
   "cell_type": "code",
   "execution_count": 399,
   "id": "19fd6a67-8bcd-4d10-963f-3765d7fecb7e",
   "metadata": {},
   "outputs": [
    {
     "data": {
      "text/plain": [
       "array([[17,  8,  5,  5],\n",
       "       [ 9,  8,  9, 16],\n",
       "       [11, 15,  2,  1]])"
      ]
     },
     "execution_count": 399,
     "metadata": {},
     "output_type": "execute_result"
    }
   ],
   "source": [
    "np.sum(arr6, axis = 0)"
   ]
  },
  {
   "cell_type": "code",
   "execution_count": 401,
   "id": "6e0299ea-756f-4d78-87b7-df3c7ff6eb51",
   "metadata": {},
   "outputs": [
    {
     "data": {
      "text/plain": [
       "array([[19,  9,  7, 12],\n",
       "       [18, 22,  9, 10]])"
      ]
     },
     "execution_count": 401,
     "metadata": {},
     "output_type": "execute_result"
    }
   ],
   "source": [
    "np.sum(arr6, axis = 1)"
   ]
  },
  {
   "cell_type": "code",
   "execution_count": 403,
   "id": "314ac58f-33ab-4153-9484-26e5e7b85bca",
   "metadata": {},
   "outputs": [
    {
     "data": {
      "text/plain": [
       "array([[16, 15, 16],\n",
       "       [19, 27, 13]])"
      ]
     },
     "execution_count": 403,
     "metadata": {},
     "output_type": "execute_result"
    }
   ],
   "source": [
    "np.sum(arr6, axis = 2)"
   ]
  },
  {
   "cell_type": "code",
   "execution_count": 405,
   "id": "ce295a71-43d2-4e5a-853e-c4e983d6c727",
   "metadata": {},
   "outputs": [
    {
     "data": {
      "text/plain": [
       "array([37, 31, 16, 22])"
      ]
     },
     "execution_count": 405,
     "metadata": {},
     "output_type": "execute_result"
    }
   ],
   "source": [
    "np.sum(arr6, axis = (0, 1))"
   ]
  },
  {
   "cell_type": "code",
   "execution_count": 407,
   "id": "a4200db0-976d-4a0b-84f8-53eeae206b29",
   "metadata": {},
   "outputs": [
    {
     "data": {
      "text/plain": [
       "array([35, 42, 29])"
      ]
     },
     "execution_count": 407,
     "metadata": {},
     "output_type": "execute_result"
    }
   ],
   "source": [
    "np.sum(arr6, axis = (0, 2))"
   ]
  },
  {
   "cell_type": "code",
   "execution_count": 409,
   "id": "e5614cc5-ef8d-40b9-a3d8-035c1c2977a4",
   "metadata": {},
   "outputs": [
    {
     "data": {
      "text/plain": [
       "array([47, 59])"
      ]
     },
     "execution_count": 409,
     "metadata": {},
     "output_type": "execute_result"
    }
   ],
   "source": [
    "np.sum(arr6, axis = (1, 2))"
   ]
  },
  {
   "cell_type": "markdown",
   "id": "723aa055-1407-469e-aed2-ba54cd3a5b3f",
   "metadata": {},
   "source": [
    "### 연습문제\n",
    "\n",
    "- 실수로 이루어진 5 * 6 형태의 행렬에서 다음의 값을 구하기\n",
    "\n",
    "1. 전체의 최댓값\n",
    "2. 각 행의 합\n",
    "3. 각 행의 최댓값\n",
    "4. 각 열의 평균\n",
    "5. 각 열의 최솟값"
   ]
  },
  {
   "cell_type": "code",
   "execution_count": 413,
   "id": "eb05875c-d373-4e29-8545-c855855bf083",
   "metadata": {},
   "outputs": [],
   "source": [
    "x = np.random.random((5, 6))"
   ]
  },
  {
   "cell_type": "code",
   "execution_count": 415,
   "id": "d3d033e8-c845-420f-878f-b2b3ed7487eb",
   "metadata": {},
   "outputs": [
    {
     "data": {
      "text/plain": [
       "array([[0.41684002, 0.09014165, 0.66657512, 0.58228203, 0.85839937,\n",
       "        0.76828497],\n",
       "       [0.83732917, 0.66341943, 0.3994519 , 0.62590432, 0.19337894,\n",
       "        0.58275658],\n",
       "       [0.99943234, 0.63931451, 0.2263342 , 0.1599738 , 0.27190848,\n",
       "        0.97836395],\n",
       "       [0.87655531, 0.63161616, 0.4516948 , 0.3025259 , 0.44872418,\n",
       "        0.48269331],\n",
       "       [0.2873968 , 0.64859413, 0.41957275, 0.2537321 , 0.67118885,\n",
       "        0.84699794]])"
      ]
     },
     "execution_count": 415,
     "metadata": {},
     "output_type": "execute_result"
    }
   ],
   "source": [
    "x"
   ]
  },
  {
   "cell_type": "code",
   "execution_count": 417,
   "id": "20186d6a-1140-415b-9b5e-68b33e60a00a",
   "metadata": {},
   "outputs": [
    {
     "data": {
      "text/plain": [
       "0.9994323431241966"
      ]
     },
     "execution_count": 417,
     "metadata": {},
     "output_type": "execute_result"
    }
   ],
   "source": [
    "# 1. 전체의 최댓값\n",
    "np.max(x)"
   ]
  },
  {
   "cell_type": "code",
   "execution_count": 419,
   "id": "127b6929-ccbd-40c2-89be-fc652c00e3b5",
   "metadata": {},
   "outputs": [
    {
     "data": {
      "text/plain": [
       "array([3.38252316, 3.30224034, 3.27532729, 3.19380965, 3.12748257])"
      ]
     },
     "execution_count": 419,
     "metadata": {},
     "output_type": "execute_result"
    }
   ],
   "source": [
    "# 2. 각 행의 합\n",
    "np.sum(x, axis = 1)"
   ]
  },
  {
   "cell_type": "code",
   "execution_count": 421,
   "id": "262a37f4-d801-4098-9548-8d6950879b92",
   "metadata": {},
   "outputs": [
    {
     "data": {
      "text/plain": [
       "array([0.85839937, 0.83732917, 0.99943234, 0.87655531, 0.84699794])"
      ]
     },
     "execution_count": 421,
     "metadata": {},
     "output_type": "execute_result"
    }
   ],
   "source": [
    "# 3. 각 행의 최댓값\n",
    "np.max(x, axis = 1)"
   ]
  },
  {
   "cell_type": "code",
   "execution_count": 423,
   "id": "7313f26f-8c43-4cd9-8568-230634fee92b",
   "metadata": {},
   "outputs": [
    {
     "data": {
      "text/plain": [
       "array([0.68351073, 0.53461718, 0.43272575, 0.38488363, 0.48871996,\n",
       "       0.73181935])"
      ]
     },
     "execution_count": 423,
     "metadata": {},
     "output_type": "execute_result"
    }
   ],
   "source": [
    "# 4. 각 열의 평균\n",
    "np.mean(x, axis = 0)"
   ]
  },
  {
   "cell_type": "code",
   "execution_count": 425,
   "id": "b982e13e-e05d-4f4e-b50b-1d0d04f260b8",
   "metadata": {},
   "outputs": [
    {
     "data": {
      "text/plain": [
       "array([0.2873968 , 0.09014165, 0.2263342 , 0.1599738 , 0.19337894,\n",
       "       0.48269331])"
      ]
     },
     "execution_count": 425,
     "metadata": {},
     "output_type": "execute_result"
    }
   ],
   "source": [
    "# 5. 각 열의 최솟값\n",
    "np.min(x, axis = 0)"
   ]
  },
  {
   "cell_type": "markdown",
   "id": "162a77ef-39b3-4c55-85cd-3f100ba2b1fb",
   "metadata": {},
   "source": [
    "# Inf와 nan\n",
    "\n",
    "- 넘파이에서는 무한대를 표현하기 위한 np.inf와 정의할 수 없는 숫자를 나타내는 np.nan이 있음"
   ]
  },
  {
   "cell_type": "code",
   "execution_count": 444,
   "id": "6c3151b4-f34c-4a29-98da-0a9beb53752b",
   "metadata": {},
   "outputs": [
    {
     "name": "stderr",
     "output_type": "stream",
     "text": [
      "C:\\Users\\user\\AppData\\Local\\Temp\\ipykernel_10584\\4160345212.py:1: RuntimeWarning: divide by zero encountered in divide\n",
      "  np.array([0, 1, -1, 0]) / np.array([1, 0, 0, 1])\n"
     ]
    },
    {
     "data": {
      "text/plain": [
       "array([  0.,  inf, -inf,   0.])"
      ]
     },
     "execution_count": 444,
     "metadata": {},
     "output_type": "execute_result"
    }
   ],
   "source": [
    "np.array([0, 1, -1, 0]) / np.array([1, 0, 0, 1])"
   ]
  },
  {
   "cell_type": "markdown",
   "id": "69e61552-8f8d-4dca-8ebc-473fea554359",
   "metadata": {},
   "source": [
    "# 스칼라와 벡터\n",
    "\n",
    "- 벡터와 행렬은 특정 텐서(tensor)를 부르는 이름\n",
    "- 텐서의 이름을 부여하는 원칙은 차원인 축(axis)을 기준으로 지정\n",
    "  - 텐서가 0차원인 경우(축이 없는 경우) : 스칼라(scalar)\n",
    "  - 1차원인 경우 : 벡터(vector)\n",
    "  - 2차원인 경우 : 행렬(matrix)\n",
    "  - 3차원인 경우 : 큐브(cube) 또는 3차원 텐서\n",
    "  - 더 차원이 높은 경우는 차원을 기준으로 n차원 텐서라고 부름 "
   ]
  },
  {
   "cell_type": "markdown",
   "id": "b65614ad-c4ee-450e-b4e2-2011c237a882",
   "metadata": {},
   "source": [
    "## 1) 스칼라\n",
    "\n",
    "- 0차원 배열\n",
    "- 크기를 표현\n",
    "- 가장 기본적인 값\n",
    "- 수학에서 배운 정수나 실수는 하나의 물리량인 크기를 표현하는데, 이 값을 스칼라 라고 함"
   ]
  },
  {
   "cell_type": "code",
   "execution_count": 447,
   "id": "8d97d2c3-246f-4eea-b354-6b6426eb190b",
   "metadata": {},
   "outputs": [],
   "source": [
    "scalar_arr = np.array(43)"
   ]
  },
  {
   "cell_type": "code",
   "execution_count": 449,
   "id": "ba844b25-29b8-4287-91cc-808e7cd20170",
   "metadata": {},
   "outputs": [
    {
     "data": {
      "text/plain": [
       "array(43)"
      ]
     },
     "execution_count": 449,
     "metadata": {},
     "output_type": "execute_result"
    }
   ],
   "source": [
    "# array에서 스칼라는 대괄호 없이 숫자만 표시\n",
    "# 대괄호는 벡터(1차원 배열)부터 사용\n",
    "scalar_arr"
   ]
  },
  {
   "cell_type": "code",
   "execution_count": 451,
   "id": "39ce0644-f7a2-40e5-a758-b7700fcd8ff9",
   "metadata": {},
   "outputs": [
    {
     "data": {
      "text/plain": [
       "numpy.ndarray"
      ]
     },
     "execution_count": 451,
     "metadata": {},
     "output_type": "execute_result"
    }
   ],
   "source": [
    "type(scalar_arr)"
   ]
  },
  {
   "cell_type": "code",
   "execution_count": 453,
   "id": "a4875bc9-347b-47f7-a23f-9576c23abf4a",
   "metadata": {},
   "outputs": [
    {
     "data": {
      "text/plain": [
       "0"
      ]
     },
     "execution_count": 453,
     "metadata": {},
     "output_type": "execute_result"
    }
   ],
   "source": [
    "# 스칼라는 0차원\n",
    "scalar_arr.ndim"
   ]
  },
  {
   "cell_type": "code",
   "execution_count": 455,
   "id": "409cc21d-9afc-4cf8-ba67-352525848739",
   "metadata": {},
   "outputs": [
    {
     "data": {
      "text/plain": [
       "()"
      ]
     },
     "execution_count": 455,
     "metadata": {},
     "output_type": "execute_result"
    }
   ],
   "source": [
    "# 축이 없기 때문에 빈 튜플\n",
    "scalar_arr.shape"
   ]
  },
  {
   "cell_type": "code",
   "execution_count": 457,
   "id": "11754073-a550-4eea-b1f1-279273e6d638",
   "metadata": {},
   "outputs": [
    {
     "data": {
      "text/plain": [
       "dtype('int32')"
      ]
     },
     "execution_count": 457,
     "metadata": {},
     "output_type": "execute_result"
    }
   ],
   "source": [
    "# array로 스칼라를 만들어도 dtype을 가짐\n",
    "scalar_arr.dtype"
   ]
  },
  {
   "cell_type": "markdown",
   "id": "a6656450-0fd9-4414-8dc1-dd060b72e60b",
   "metadata": {},
   "source": [
    "## 2) 벡터\n",
    "\n",
    "- 1차원 배열"
   ]
  },
  {
   "cell_type": "code",
   "execution_count": 460,
   "id": "2d404318-3378-438f-9eeb-5a11b674187a",
   "metadata": {},
   "outputs": [],
   "source": [
    "vector = np.array([43])"
   ]
  },
  {
   "cell_type": "code",
   "execution_count": 462,
   "id": "86ba9ea1-e7d6-447d-9c8d-f13185e95fe1",
   "metadata": {},
   "outputs": [
    {
     "data": {
      "text/plain": [
       "array([43])"
      ]
     },
     "execution_count": 462,
     "metadata": {},
     "output_type": "execute_result"
    }
   ],
   "source": [
    "vector"
   ]
  },
  {
   "cell_type": "code",
   "execution_count": 464,
   "id": "c2dd6af9-9fda-479a-942b-2097b4419b64",
   "metadata": {},
   "outputs": [
    {
     "data": {
      "text/plain": [
       "numpy.ndarray"
      ]
     },
     "execution_count": 464,
     "metadata": {},
     "output_type": "execute_result"
    }
   ],
   "source": [
    "type(vector)"
   ]
  },
  {
   "cell_type": "code",
   "execution_count": 486,
   "id": "f76059d2-3195-4d74-b427-71dedd5e9e41",
   "metadata": {},
   "outputs": [
    {
     "data": {
      "text/plain": [
       "1"
      ]
     },
     "execution_count": 486,
     "metadata": {},
     "output_type": "execute_result"
    }
   ],
   "source": [
    "# 1차원 배열\n",
    "vector.ndim"
   ]
  },
  {
   "cell_type": "code",
   "execution_count": 488,
   "id": "9f9dea5c-04e3-4d77-8af8-cc74cb3b710c",
   "metadata": {},
   "outputs": [
    {
     "data": {
      "text/plain": [
       "(1,)"
      ]
     },
     "execution_count": 488,
     "metadata": {},
     "output_type": "execute_result"
    }
   ],
   "source": [
    "vector.shape"
   ]
  },
  {
   "cell_type": "markdown",
   "id": "208a2df2-99f3-4ce4-9575-4b95c1e7054a",
   "metadata": {},
   "source": [
    "## 3) 배열 생성 함수"
   ]
  },
  {
   "cell_type": "markdown",
   "id": "98f14858-504c-4c43-9caa-62174b450cff",
   "metadata": {},
   "source": [
    "### (1) zeros\n",
    "\n",
    "- 크기가 정해져 있고 모든 값이 0인 배열 생성\n",
    "- 인수로는 배열의 크기를 전달"
   ]
  },
  {
   "cell_type": "code",
   "execution_count": 494,
   "id": "f81463ee-eefd-4ece-a643-e15556b19865",
   "metadata": {},
   "outputs": [
    {
     "data": {
      "text/plain": [
       "array([0., 0., 0., 0., 0.])"
      ]
     },
     "execution_count": 494,
     "metadata": {},
     "output_type": "execute_result"
    }
   ],
   "source": [
    "# 1차원 배열\n",
    "zero_arr = np.zeros(5)\n",
    "zero_arr"
   ]
  },
  {
   "cell_type": "code",
   "execution_count": 496,
   "id": "c60f7661-e37b-441b-b87a-b7a0e5532551",
   "metadata": {},
   "outputs": [
    {
     "data": {
      "text/plain": [
       "array([[0., 0., 0.],\n",
       "       [0., 0., 0.]])"
      ]
     },
     "execution_count": 496,
     "metadata": {},
     "output_type": "execute_result"
    }
   ],
   "source": [
    "# 2차원 배열\n",
    "zero_arr2 = np.zeros((2, 3))\n",
    "zero_arr2"
   ]
  },
  {
   "cell_type": "markdown",
   "id": "07494f7a-7ef5-4bac-a39e-eede0025d133",
   "metadata": {},
   "source": [
    "- dtype 인수를 명시하면 해당 자료형 원소 배열을 생성"
   ]
  },
  {
   "cell_type": "code",
   "execution_count": 499,
   "id": "5678ef88-4ff3-4a96-b9ba-71857d3283aa",
   "metadata": {},
   "outputs": [
    {
     "data": {
      "text/plain": [
       "array([[0, 0],\n",
       "       [0, 0],\n",
       "       [0, 0],\n",
       "       [0, 0],\n",
       "       [0, 0]])"
      ]
     },
     "execution_count": 499,
     "metadata": {},
     "output_type": "execute_result"
    }
   ],
   "source": [
    "zero_arr3 = np.zeros((5, 2), dtype = int)\n",
    "zero_arr3"
   ]
  },
  {
   "cell_type": "markdown",
   "id": "d119d897-9b32-4ff7-a9ab-db4693557351",
   "metadata": {},
   "source": [
    "### (2) ones\n",
    "\n",
    "- 모든 값이 1인 배열 생성"
   ]
  },
  {
   "cell_type": "code",
   "execution_count": 502,
   "id": "d7fb9e93-5ee4-42fc-918c-40139242b640",
   "metadata": {},
   "outputs": [],
   "source": [
    "one_arr = np.ones((2, 3, 4), dtype = int)"
   ]
  },
  {
   "cell_type": "code",
   "execution_count": 504,
   "id": "e00b9d83-94c3-42a7-bfa9-0e1653e6c00f",
   "metadata": {},
   "outputs": [
    {
     "data": {
      "text/plain": [
       "array([[[1, 1, 1, 1],\n",
       "        [1, 1, 1, 1],\n",
       "        [1, 1, 1, 1]],\n",
       "\n",
       "       [[1, 1, 1, 1],\n",
       "        [1, 1, 1, 1],\n",
       "        [1, 1, 1, 1]]])"
      ]
     },
     "execution_count": 504,
     "metadata": {},
     "output_type": "execute_result"
    }
   ],
   "source": [
    "one_arr"
   ]
  },
  {
   "cell_type": "markdown",
   "id": "6e6b681a-1241-4de6-9bcd-cc3165641bbb",
   "metadata": {},
   "source": [
    "### (3) zeros_like, ones_like\n",
    "\n",
    "- 다른 배열과 같은 크기의 배열을 생성"
   ]
  },
  {
   "cell_type": "code",
   "execution_count": 507,
   "id": "502a951c-17bc-486e-acf1-09559df5a07d",
   "metadata": {},
   "outputs": [],
   "source": [
    "zero_arr4 = np.zeros_like(one_arr)"
   ]
  },
  {
   "cell_type": "code",
   "execution_count": 509,
   "id": "e1e77998-493b-4841-b55c-d45cc71e629f",
   "metadata": {},
   "outputs": [
    {
     "data": {
      "text/plain": [
       "array([[[0, 0, 0, 0],\n",
       "        [0, 0, 0, 0],\n",
       "        [0, 0, 0, 0]],\n",
       "\n",
       "       [[0, 0, 0, 0],\n",
       "        [0, 0, 0, 0],\n",
       "        [0, 0, 0, 0]]])"
      ]
     },
     "execution_count": 509,
     "metadata": {},
     "output_type": "execute_result"
    }
   ],
   "source": [
    "zero_arr4"
   ]
  },
  {
   "cell_type": "code",
   "execution_count": 511,
   "id": "4bbf0122-96ef-4ced-9132-bfedf91300fe",
   "metadata": {},
   "outputs": [],
   "source": [
    "one_arr2 = np.ones_like(zero_arr3)"
   ]
  },
  {
   "cell_type": "code",
   "execution_count": 513,
   "id": "ff9d80fe-6698-43a0-9012-f05a7e09f8d3",
   "metadata": {},
   "outputs": [
    {
     "data": {
      "text/plain": [
       "array([[1, 1],\n",
       "       [1, 1],\n",
       "       [1, 1],\n",
       "       [1, 1],\n",
       "       [1, 1]])"
      ]
     },
     "execution_count": 513,
     "metadata": {},
     "output_type": "execute_result"
    }
   ],
   "source": [
    "one_arr2"
   ]
  },
  {
   "cell_type": "code",
   "execution_count": 515,
   "id": "cca75526-072e-4f58-af78-4806a8a20924",
   "metadata": {},
   "outputs": [],
   "source": [
    "one_arr2 = np.ones_like(zero_arr2)"
   ]
  },
  {
   "cell_type": "code",
   "execution_count": 517,
   "id": "3797515e-a6cb-426a-b1c9-11bf9a86b300",
   "metadata": {},
   "outputs": [
    {
     "data": {
      "text/plain": [
       "array([[1., 1., 1.],\n",
       "       [1., 1., 1.]])"
      ]
     },
     "execution_count": 517,
     "metadata": {},
     "output_type": "execute_result"
    }
   ],
   "source": [
    "one_arr2"
   ]
  },
  {
   "cell_type": "markdown",
   "id": "e9e9a3c5-60e9-4dc8-a27f-d550158f7d9d",
   "metadata": {},
   "source": [
    "### (4) arange\n",
    "\n",
    "- 파이썬의 range와 유사한 함수\n",
    "- range와 같이 시작점, 종료점, 증감값을 인자로 전달\n",
    "  - 종료점은 필수"
   ]
  },
  {
   "cell_type": "code",
   "execution_count": 532,
   "id": "ec2675af-2d3a-42f7-85a2-5b8caabaad95",
   "metadata": {},
   "outputs": [
    {
     "data": {
      "text/plain": [
       "array([0, 1, 2, 3, 4, 5, 6, 7, 8, 9])"
      ]
     },
     "execution_count": 532,
     "metadata": {},
     "output_type": "execute_result"
    }
   ],
   "source": [
    "vector = np.arange(10)\n",
    "vector"
   ]
  },
  {
   "cell_type": "code",
   "execution_count": 534,
   "id": "6e4e24b9-7b71-4c85-9564-8e258697b399",
   "metadata": {},
   "outputs": [
    {
     "data": {
      "text/plain": [
       "dtype('int32')"
      ]
     },
     "execution_count": 534,
     "metadata": {},
     "output_type": "execute_result"
    }
   ],
   "source": [
    "vector.dtype"
   ]
  },
  {
   "cell_type": "markdown",
   "id": "211e4e6c-1651-4978-8e34-23bcb8252a21",
   "metadata": {},
   "source": [
    "- arange는 인자로 실수를 지정할 수 있음. "
   ]
  },
  {
   "cell_type": "code",
   "execution_count": 537,
   "id": "83dfaf63-a249-4ae1-ac63-f5413d2f26c0",
   "metadata": {},
   "outputs": [
    {
     "ename": "TypeError",
     "evalue": "'float' object cannot be interpreted as an integer",
     "output_type": "error",
     "traceback": [
      "\u001b[1;31m---------------------------------------------------------------------------\u001b[0m",
      "\u001b[1;31mTypeError\u001b[0m                                 Traceback (most recent call last)",
      "Cell \u001b[1;32mIn[537], line 1\u001b[0m\n\u001b[1;32m----> 1\u001b[0m \u001b[38;5;28mrange\u001b[39m(\u001b[38;5;241m10.5\u001b[39m, \u001b[38;5;241m20.5\u001b[39m, \u001b[38;5;241m0.5\u001b[39m)\n",
      "\u001b[1;31mTypeError\u001b[0m: 'float' object cannot be interpreted as an integer"
     ]
    }
   ],
   "source": [
    "range(10.5, 20.5, 0.5)"
   ]
  },
  {
   "cell_type": "code",
   "execution_count": 539,
   "id": "c51ec6c1-f842-4d05-ad81-4900400ed26a",
   "metadata": {},
   "outputs": [
    {
     "data": {
      "text/plain": [
       "array([10.5, 11. , 11.5, 12. , 12.5, 13. , 13.5, 14. , 14.5, 15. , 15.5,\n",
       "       16. , 16.5, 17. , 17.5, 18. , 18.5, 19. , 19.5, 20. ])"
      ]
     },
     "execution_count": 539,
     "metadata": {},
     "output_type": "execute_result"
    }
   ],
   "source": [
    "vector1 = np.arange(10.5, 20.5, 0.5)\n",
    "vector1"
   ]
  },
  {
   "cell_type": "code",
   "execution_count": 541,
   "id": "1c8ea8cd-bf79-40d8-a3da-95cd1ecaffd2",
   "metadata": {},
   "outputs": [
    {
     "data": {
      "text/plain": [
       "dtype('float64')"
      ]
     },
     "execution_count": 541,
     "metadata": {},
     "output_type": "execute_result"
    }
   ],
   "source": [
    "# 자료형은 float64\n",
    "vector1.dtype"
   ]
  },
  {
   "cell_type": "code",
   "execution_count": 543,
   "id": "66b019e0-b8d4-42d9-9f21-c6b3491606c2",
   "metadata": {},
   "outputs": [],
   "source": [
    "# 1차원 배열을 생성하면서 바로 2차원 배열로 형상 변경\n",
    "vector2 = np.arange(60).reshape(6, 10)"
   ]
  },
  {
   "cell_type": "code",
   "execution_count": 545,
   "id": "b956857d-beee-46d9-a0da-cae2eecc541f",
   "metadata": {},
   "outputs": [
    {
     "data": {
      "text/plain": [
       "array([[ 0,  1,  2,  3,  4,  5,  6,  7,  8,  9],\n",
       "       [10, 11, 12, 13, 14, 15, 16, 17, 18, 19],\n",
       "       [20, 21, 22, 23, 24, 25, 26, 27, 28, 29],\n",
       "       [30, 31, 32, 33, 34, 35, 36, 37, 38, 39],\n",
       "       [40, 41, 42, 43, 44, 45, 46, 47, 48, 49],\n",
       "       [50, 51, 52, 53, 54, 55, 56, 57, 58, 59]])"
      ]
     },
     "execution_count": 545,
     "metadata": {},
     "output_type": "execute_result"
    }
   ],
   "source": [
    "vector2"
   ]
  },
  {
   "cell_type": "code",
   "execution_count": 547,
   "id": "eca6ebf2-351a-4efc-8e75-34a8ba94b2e9",
   "metadata": {},
   "outputs": [
    {
     "data": {
      "text/plain": [
       "(6, 10)"
      ]
     },
     "execution_count": 547,
     "metadata": {},
     "output_type": "execute_result"
    }
   ],
   "source": [
    "vector2.shape"
   ]
  },
  {
   "cell_type": "code",
   "execution_count": 549,
   "id": "85ffce25-62bc-48d5-b5c1-2a6529daf7bf",
   "metadata": {},
   "outputs": [
    {
     "data": {
      "text/plain": [
       "array([[[ 0,  1,  2,  3,  4],\n",
       "        [ 5,  6,  7,  8,  9],\n",
       "        [10, 11, 12, 13, 14],\n",
       "        [15, 16, 17, 18, 19]],\n",
       "\n",
       "       [[20, 21, 22, 23, 24],\n",
       "        [25, 26, 27, 28, 29],\n",
       "        [30, 31, 32, 33, 34],\n",
       "        [35, 36, 37, 38, 39]],\n",
       "\n",
       "       [[40, 41, 42, 43, 44],\n",
       "        [45, 46, 47, 48, 49],\n",
       "        [50, 51, 52, 53, 54],\n",
       "        [55, 56, 57, 58, 59]]])"
      ]
     },
     "execution_count": 549,
     "metadata": {},
     "output_type": "execute_result"
    }
   ],
   "source": [
    "# 1차원 배열을 생성하면서 바로 3차원 배열로 형상 변경\n",
    "vector3 = np.arange(60).reshape(3, 4, 5)\n",
    "vector3"
   ]
  },
  {
   "cell_type": "markdown",
   "id": "b9bee321-48b0-4a01-85fc-a1681231e83b",
   "metadata": {},
   "source": [
    "### (5) linspace\n",
    "\n",
    "- arange와의 차이점\n",
    "  - 종료점도 포함해서 원소를 생성\n",
    "  - 세 번째 인자로 간격 대신 원소의 개수를 전달\n",
    "    - 초기값은 50\n",
    "  - 기본으로 실수를 가진 원소를 만듦"
   ]
  },
  {
   "cell_type": "code",
   "execution_count": 553,
   "id": "cc8bc493-32ba-467b-80c6-ffd88d7601d2",
   "metadata": {},
   "outputs": [
    {
     "data": {
      "text/plain": [
       "array([ 1.,  2.,  3.,  4.,  5.,  6.,  7.,  8.,  9., 10.])"
      ]
     },
     "execution_count": 553,
     "metadata": {},
     "output_type": "execute_result"
    }
   ],
   "source": [
    "lin = np.linspace(1, 10, 10)\n",
    "lin"
   ]
  },
  {
   "cell_type": "code",
   "execution_count": 555,
   "id": "2c39333e-ce65-4af8-8b57-0d0bac19b008",
   "metadata": {},
   "outputs": [
    {
     "data": {
      "text/plain": [
       "dtype('float64')"
      ]
     },
     "execution_count": 555,
     "metadata": {},
     "output_type": "execute_result"
    }
   ],
   "source": [
    "lin.dtype"
   ]
  },
  {
   "cell_type": "code",
   "execution_count": 557,
   "id": "97882809-f57c-4c95-bc34-581b1c3e2854",
   "metadata": {},
   "outputs": [
    {
     "data": {
      "text/plain": [
       "(array([1.        , 1.11111111, 1.22222222, 1.33333333, 1.44444444,\n",
       "        1.55555556, 1.66666667, 1.77777778, 1.88888889, 2.        ]),\n",
       " 0.1111111111111111)"
      ]
     },
     "execution_count": 557,
     "metadata": {},
     "output_type": "execute_result"
    }
   ],
   "source": [
    "# 값의 간격을 표시하는 증분(incremental)을 확인할 수 있음\n",
    "lin2 = np.linspace(1, 2, 10, retstep = True)\n",
    "lin2"
   ]
  },
  {
   "cell_type": "code",
   "execution_count": 559,
   "id": "e22195ec-d34c-417c-b35b-a7caa7380949",
   "metadata": {},
   "outputs": [
    {
     "data": {
      "text/plain": [
       "(array([1. , 1.9, 2.8, 3.7, 4.6, 5.5, 6.4, 7.3, 8.2, 9.1]), 0.9)"
      ]
     },
     "execution_count": 559,
     "metadata": {},
     "output_type": "execute_result"
    }
   ],
   "source": [
    "# 종료값을 제외할 수도 있음\n",
    "lin3 = np.linspace(1, 10, 10, endpoint = False, retstep = True)\n",
    "lin3"
   ]
  },
  {
   "cell_type": "code",
   "execution_count": null,
   "id": "62d811ba-0dd3-412a-864b-7d9d490ef67e",
   "metadata": {},
   "outputs": [],
   "source": []
  }
 ],
 "metadata": {
  "kernelspec": {
   "display_name": "Python [conda env:base] *",
   "language": "python",
   "name": "conda-base-py"
  },
  "language_info": {
   "codemirror_mode": {
    "name": "ipython",
    "version": 3
   },
   "file_extension": ".py",
   "mimetype": "text/x-python",
   "name": "python",
   "nbconvert_exporter": "python",
   "pygments_lexer": "ipython3",
   "version": "3.12.7"
  }
 },
 "nbformat": 4,
 "nbformat_minor": 5
}
