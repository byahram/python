{
 "cells": [
  {
   "cell_type": "code",
   "execution_count": 1,
   "id": "dd1fc3f2-c895-4663-87fe-4edd362297c9",
   "metadata": {},
   "outputs": [],
   "source": [
    "from selenium import webdriver\n",
    "from selenium.webdriver.common.by import By\n",
    "from bs4 import BeautifulSoup\n",
    "from urllib.request import urlopen\n",
    "from selenium.webdriver.common.keys import Keys\n",
    "import time"
   ]
  },
  {
   "cell_type": "markdown",
   "id": "1c539bc8-4b74-4134-9d69-1885d3db152a",
   "metadata": {},
   "source": [
    "# selenium으로 DOM에 접근하는 방법\n",
    "\n",
    "- 단일 객체 반환(bs4의 select_one()과 같은 형태)\n",
    "  - find_element\n",
    "- 리스트 객체 반환(bs4의 select()와 같은 형태)\n",
    "  - find_elements"
   ]
  },
  {
   "cell_type": "code",
   "execution_count": 4,
   "id": "716d7538-257e-4692-9fa7-9a17828f2119",
   "metadata": {},
   "outputs": [],
   "source": [
    "# 웹 접속하기\n",
    "url = \"https://www.naver.com/\"\n",
    "driver = webdriver.Chrome()\n",
    "driver.get(url)    # url 접속"
   ]
  },
  {
   "cell_type": "markdown",
   "id": "57b23b5d-43e2-4e87-8101-c4cc65a35c00",
   "metadata": {},
   "source": [
    "## 1) css_selector\n",
    "\n",
    "- bs4의 select()와 동일"
   ]
  },
  {
   "cell_type": "code",
   "execution_count": 7,
   "id": "14969a7a-4eaa-4245-a756-fd3392415c48",
   "metadata": {},
   "outputs": [
    {
     "name": "stdout",
     "output_type": "stream",
     "text": [
      "<selenium.webdriver.remote.webelement.WebElement (session=\"07068fbb92b715e16009ea938ac21b95\", element=\"f.A7D92E60E9D0B93CE7CAD43345230DDB.d.794BC91B45049A141EE01E3230AE566A.e.5\")>\n",
      "[programming] [react] react 작업환경 설\n",
      "react를 시작하기 전에 환경셋팅을 해보자\n",
      "2017-05-20 06:29:05 +0000   |   박정태\n"
     ]
    }
   ],
   "source": [
    "url = \"https://pjt3591oo.github.io\"\n",
    "driver = webdriver.Chrome()\n",
    "driver.get(url)\n",
    "\n",
    "selected = driver.find_element(by = By.CSS_SELECTOR, value = \"div.p\")\n",
    "print(selected)\n",
    "print(selected.text)"
   ]
  },
  {
   "cell_type": "code",
   "execution_count": 9,
   "id": "46da2619-ee57-4bcb-aae8-269f87762dbe",
   "metadata": {},
   "outputs": [
    {
     "name": "stdout",
     "output_type": "stream",
     "text": [
      "[<selenium.webdriver.remote.webelement.WebElement (session=\"07068fbb92b715e16009ea938ac21b95\", element=\"f.A7D92E60E9D0B93CE7CAD43345230DDB.d.794BC91B45049A141EE01E3230AE566A.e.5\")>, <selenium.webdriver.remote.webelement.WebElement (session=\"07068fbb92b715e16009ea938ac21b95\", element=\"f.A7D92E60E9D0B93CE7CAD43345230DDB.d.794BC91B45049A141EE01E3230AE566A.e.6\")>, <selenium.webdriver.remote.webelement.WebElement (session=\"07068fbb92b715e16009ea938ac21b95\", element=\"f.A7D92E60E9D0B93CE7CAD43345230DDB.d.794BC91B45049A141EE01E3230AE566A.e.7\")>, <selenium.webdriver.remote.webelement.WebElement (session=\"07068fbb92b715e16009ea938ac21b95\", element=\"f.A7D92E60E9D0B93CE7CAD43345230DDB.d.794BC91B45049A141EE01E3230AE566A.e.8\")>, <selenium.webdriver.remote.webelement.WebElement (session=\"07068fbb92b715e16009ea938ac21b95\", element=\"f.A7D92E60E9D0B93CE7CAD43345230DDB.d.794BC91B45049A141EE01E3230AE566A.e.9\")>, <selenium.webdriver.remote.webelement.WebElement (session=\"07068fbb92b715e16009ea938ac21b95\", element=\"f.A7D92E60E9D0B93CE7CAD43345230DDB.d.794BC91B45049A141EE01E3230AE566A.e.10\")>, <selenium.webdriver.remote.webelement.WebElement (session=\"07068fbb92b715e16009ea938ac21b95\", element=\"f.A7D92E60E9D0B93CE7CAD43345230DDB.d.794BC91B45049A141EE01E3230AE566A.e.11\")>, <selenium.webdriver.remote.webelement.WebElement (session=\"07068fbb92b715e16009ea938ac21b95\", element=\"f.A7D92E60E9D0B93CE7CAD43345230DDB.d.794BC91B45049A141EE01E3230AE566A.e.12\")>, <selenium.webdriver.remote.webelement.WebElement (session=\"07068fbb92b715e16009ea938ac21b95\", element=\"f.A7D92E60E9D0B93CE7CAD43345230DDB.d.794BC91B45049A141EE01E3230AE566A.e.13\")>, <selenium.webdriver.remote.webelement.WebElement (session=\"07068fbb92b715e16009ea938ac21b95\", element=\"f.A7D92E60E9D0B93CE7CAD43345230DDB.d.794BC91B45049A141EE01E3230AE566A.e.14\")>]\n"
     ]
    }
   ],
   "source": [
    "selected_list = driver.find_elements(by = By.CSS_SELECTOR, value = \"div.p\")\n",
    "print(selected_list)"
   ]
  },
  {
   "cell_type": "markdown",
   "id": "08fad1b1-4ca4-4159-a8fb-b8af9f4a0ab8",
   "metadata": {},
   "source": [
    "## 2) 없는 요소에 접근\n",
    "\n",
    "- bs4와는 다르게 없는 요소에 접근하면 에러를 띄움 "
   ]
  },
  {
   "cell_type": "code",
   "execution_count": 14,
   "id": "644c2669-4d2b-43ab-8214-116b5e380001",
   "metadata": {},
   "outputs": [
    {
     "ename": "NoSuchElementException",
     "evalue": "Message: no such element: Unable to locate element: {\"method\":\"css selector\",\"selector\":\".a\"}\n  (Session info: chrome=138.0.7204.101); For documentation on this error, please visit: https://www.selenium.dev/documentation/webdriver/troubleshooting/errors#no-such-element-exception\nStacktrace:\n\tGetHandleVerifier [0x0x7ff6fec16f75+76917]\n\tGetHandleVerifier [0x0x7ff6fec16fd0+77008]\n\t(No symbol) [0x0x7ff6fe9c9dea]\n\t(No symbol) [0x0x7ff6fea20256]\n\t(No symbol) [0x0x7ff6fea2050c]\n\t(No symbol) [0x0x7ff6fea73887]\n\t(No symbol) [0x0x7ff6fea484af]\n\t(No symbol) [0x0x7ff6fea7065c]\n\t(No symbol) [0x0x7ff6fea48243]\n\t(No symbol) [0x0x7ff6fea11431]\n\t(No symbol) [0x0x7ff6fea121c3]\n\tGetHandleVerifier [0x0x7ff6feeed2ad+3051437]\n\tGetHandleVerifier [0x0x7ff6feee7903+3028483]\n\tGetHandleVerifier [0x0x7ff6fef0589d+3151261]\n\tGetHandleVerifier [0x0x7ff6fec3183e+185662]\n\tGetHandleVerifier [0x0x7ff6fec396ff+218111]\n\tGetHandleVerifier [0x0x7ff6fec1faf4+112628]\n\tGetHandleVerifier [0x0x7ff6fec1fca9+113065]\n\tGetHandleVerifier [0x0x7ff6fec06c78+10616]\n\tBaseThreadInitThunk [0x0x7ffb5427e8d7+23]\n\tRtlUserThreadStart [0x0x7ffb5537c34c+44]\n",
     "output_type": "error",
     "traceback": [
      "\u001b[1;31m---------------------------------------------------------------------------\u001b[0m",
      "\u001b[1;31mNoSuchElementException\u001b[0m                    Traceback (most recent call last)",
      "Cell \u001b[1;32mIn[14], line 4\u001b[0m\n\u001b[0;32m      2\u001b[0m driver \u001b[38;5;241m=\u001b[39m webdriver\u001b[38;5;241m.\u001b[39mChrome()\n\u001b[0;32m      3\u001b[0m driver\u001b[38;5;241m.\u001b[39mget(url)\n\u001b[1;32m----> 4\u001b[0m driver\u001b[38;5;241m.\u001b[39mfind_element(By\u001b[38;5;241m.\u001b[39mCSS_SELECTOR, \u001b[38;5;124m\"\u001b[39m\u001b[38;5;124m.a\u001b[39m\u001b[38;5;124m\"\u001b[39m)\n",
      "File \u001b[1;32m~\\anaconda3\\Lib\\site-packages\\selenium\\webdriver\\remote\\webdriver.py:917\u001b[0m, in \u001b[0;36mWebDriver.find_element\u001b[1;34m(self, by, value)\u001b[0m\n\u001b[0;32m    914\u001b[0m         \u001b[38;5;28;01mraise\u001b[39;00m NoSuchElementException(\u001b[38;5;124mf\u001b[39m\u001b[38;5;124m\"\u001b[39m\u001b[38;5;124mCannot locate relative element with: \u001b[39m\u001b[38;5;132;01m{\u001b[39;00mby\u001b[38;5;241m.\u001b[39mroot\u001b[38;5;132;01m}\u001b[39;00m\u001b[38;5;124m\"\u001b[39m)\n\u001b[0;32m    915\u001b[0m     \u001b[38;5;28;01mreturn\u001b[39;00m elements[\u001b[38;5;241m0\u001b[39m]\n\u001b[1;32m--> 917\u001b[0m \u001b[38;5;28;01mreturn\u001b[39;00m \u001b[38;5;28mself\u001b[39m\u001b[38;5;241m.\u001b[39mexecute(Command\u001b[38;5;241m.\u001b[39mFIND_ELEMENT, {\u001b[38;5;124m\"\u001b[39m\u001b[38;5;124musing\u001b[39m\u001b[38;5;124m\"\u001b[39m: by, \u001b[38;5;124m\"\u001b[39m\u001b[38;5;124mvalue\u001b[39m\u001b[38;5;124m\"\u001b[39m: value})[\u001b[38;5;124m\"\u001b[39m\u001b[38;5;124mvalue\u001b[39m\u001b[38;5;124m\"\u001b[39m]\n",
      "File \u001b[1;32m~\\anaconda3\\Lib\\site-packages\\selenium\\webdriver\\remote\\webdriver.py:448\u001b[0m, in \u001b[0;36mWebDriver.execute\u001b[1;34m(self, driver_command, params)\u001b[0m\n\u001b[0;32m    446\u001b[0m response \u001b[38;5;241m=\u001b[39m \u001b[38;5;28mself\u001b[39m\u001b[38;5;241m.\u001b[39mcommand_executor\u001b[38;5;241m.\u001b[39mexecute(driver_command, params)\n\u001b[0;32m    447\u001b[0m \u001b[38;5;28;01mif\u001b[39;00m response:\n\u001b[1;32m--> 448\u001b[0m     \u001b[38;5;28mself\u001b[39m\u001b[38;5;241m.\u001b[39merror_handler\u001b[38;5;241m.\u001b[39mcheck_response(response)\n\u001b[0;32m    449\u001b[0m     response[\u001b[38;5;124m\"\u001b[39m\u001b[38;5;124mvalue\u001b[39m\u001b[38;5;124m\"\u001b[39m] \u001b[38;5;241m=\u001b[39m \u001b[38;5;28mself\u001b[39m\u001b[38;5;241m.\u001b[39m_unwrap_value(response\u001b[38;5;241m.\u001b[39mget(\u001b[38;5;124m\"\u001b[39m\u001b[38;5;124mvalue\u001b[39m\u001b[38;5;124m\"\u001b[39m, \u001b[38;5;28;01mNone\u001b[39;00m))\n\u001b[0;32m    450\u001b[0m     \u001b[38;5;28;01mreturn\u001b[39;00m response\n",
      "File \u001b[1;32m~\\anaconda3\\Lib\\site-packages\\selenium\\webdriver\\remote\\errorhandler.py:232\u001b[0m, in \u001b[0;36mErrorHandler.check_response\u001b[1;34m(self, response)\u001b[0m\n\u001b[0;32m    230\u001b[0m         alert_text \u001b[38;5;241m=\u001b[39m value[\u001b[38;5;124m\"\u001b[39m\u001b[38;5;124malert\u001b[39m\u001b[38;5;124m\"\u001b[39m]\u001b[38;5;241m.\u001b[39mget(\u001b[38;5;124m\"\u001b[39m\u001b[38;5;124mtext\u001b[39m\u001b[38;5;124m\"\u001b[39m)\n\u001b[0;32m    231\u001b[0m     \u001b[38;5;28;01mraise\u001b[39;00m exception_class(message, screen, stacktrace, alert_text)  \u001b[38;5;66;03m# type: ignore[call-arg]  # mypy is not smart enough here\u001b[39;00m\n\u001b[1;32m--> 232\u001b[0m \u001b[38;5;28;01mraise\u001b[39;00m exception_class(message, screen, stacktrace)\n",
      "\u001b[1;31mNoSuchElementException\u001b[0m: Message: no such element: Unable to locate element: {\"method\":\"css selector\",\"selector\":\".a\"}\n  (Session info: chrome=138.0.7204.101); For documentation on this error, please visit: https://www.selenium.dev/documentation/webdriver/troubleshooting/errors#no-such-element-exception\nStacktrace:\n\tGetHandleVerifier [0x0x7ff6fec16f75+76917]\n\tGetHandleVerifier [0x0x7ff6fec16fd0+77008]\n\t(No symbol) [0x0x7ff6fe9c9dea]\n\t(No symbol) [0x0x7ff6fea20256]\n\t(No symbol) [0x0x7ff6fea2050c]\n\t(No symbol) [0x0x7ff6fea73887]\n\t(No symbol) [0x0x7ff6fea484af]\n\t(No symbol) [0x0x7ff6fea7065c]\n\t(No symbol) [0x0x7ff6fea48243]\n\t(No symbol) [0x0x7ff6fea11431]\n\t(No symbol) [0x0x7ff6fea121c3]\n\tGetHandleVerifier [0x0x7ff6feeed2ad+3051437]\n\tGetHandleVerifier [0x0x7ff6feee7903+3028483]\n\tGetHandleVerifier [0x0x7ff6fef0589d+3151261]\n\tGetHandleVerifier [0x0x7ff6fec3183e+185662]\n\tGetHandleVerifier [0x0x7ff6fec396ff+218111]\n\tGetHandleVerifier [0x0x7ff6fec1faf4+112628]\n\tGetHandleVerifier [0x0x7ff6fec1fca9+113065]\n\tGetHandleVerifier [0x0x7ff6fec06c78+10616]\n\tBaseThreadInitThunk [0x0x7ffb5427e8d7+23]\n\tRtlUserThreadStart [0x0x7ffb5537c34c+44]\n"
     ]
    }
   ],
   "source": [
    "url = \"https://pjt3591oo.github.io\"\n",
    "driver = webdriver.Chrome()\n",
    "driver.get(url)\n",
    "driver.find_element(By.CSS_SELECTOR, \".a\")     # NoSuchElementException"
   ]
  },
  {
   "cell_type": "markdown",
   "id": "b190e5ea-7b46-4bf9-bd7b-ce56069302bf",
   "metadata": {},
   "source": [
    "# 웹 제어"
   ]
  },
  {
   "cell_type": "markdown",
   "id": "38ab8cd7-1d6c-4bca-8784-7ecaf1f3d90e",
   "metadata": {},
   "source": [
    "## 1) 마우스 제어"
   ]
  },
  {
   "cell_type": "code",
   "execution_count": 18,
   "id": "a8dce833-61d4-41d8-813c-08934f543e56",
   "metadata": {},
   "outputs": [],
   "source": [
    "url = \"https://pjt3591oo.github.io\"\n",
    "driver = webdriver.Chrome()\n",
    "driver.get(url)\n",
    "\n",
    "title = driver.find_element(By.CSS_SELECTOR, \"div.p a\")    # 글 제목 찾기\n",
    "title.click()    # 글 제목 클릭"
   ]
  },
  {
   "cell_type": "markdown",
   "id": "a1312c07-b5f2-4ee2-bad7-2c73fad7a14f",
   "metadata": {},
   "source": [
    "## 2) 키보드 제어"
   ]
  },
  {
   "cell_type": "code",
   "execution_count": 21,
   "id": "d92f5121-b281-46c1-b259-e4e999933c94",
   "metadata": {},
   "outputs": [],
   "source": [
    "url = \"https://pjt3591oo.github.io/search\"\n",
    "driver = webdriver.Chrome()\n",
    "driver.get(url)\n",
    "\n",
    "search_box = driver.find_element(By.CSS_SELECTOR, \"input#search-box\")    # 검색창 찾기\n",
    "search_box.send_keys(\"test\")    # 검색창에 키보드 입력"
   ]
  },
  {
   "cell_type": "markdown",
   "id": "afafd3a9-c765-4242-9ec9-377ef225d89b",
   "metadata": {},
   "source": [
    "## 3) selenium 활용"
   ]
  },
  {
   "cell_type": "code",
   "execution_count": 24,
   "id": "70e171f9-1d9a-4684-8c3b-8f0687a10c87",
   "metadata": {},
   "outputs": [
    {
     "name": "stdout",
     "output_type": "stream",
     "text": [
      "<h3>Javascript Asynchronous, synchronous and Promise</h3>\n",
      "동기, 비동기 그리고 promiseAsynchronous(비동기) Code란 무엇일까? node를 접하지 않았다면 대부분의 개발자들은 동기방식의 코드에 익숙할 것이다. 다음 코드를 보면 이해하기 쉬울 것이다.void FTest(){    for(int i = 0 ; i...\n",
      "----------------------------------------\n",
      "<h3>Structure aiohttp Of python</h3>\n",
      "  내용을 시작하기 앞서 python에 하면 가장 많이 떠오르는 서버 프레임워크로는 django나 flask가 있을 것이다.하지만 블로그 주인놈은 특정 프로젝트에서 굉장히 빠른 응답속도를 내야하는 API서버를 구축을 하여야 하는 상황이 있었다.이때 굉장히 많은 서버 프...\n",
      "----------------------------------------\n",
      "<h3>mysqldump를 이용하여 데이터 백업, 복원하기</h3>\n",
      "로컬 서버에 있는 디비를 분리하기 위해 기존의 디비에 있는 데이터를 백업해야 하는 일이 생겼다. 방법은 많지만 mysqldump를 이용하여 해결을 하였다.mysqldump는 해당 내부의 데이터를 sql 문으로 전부 바꿔주는 역할을 하는 툴이다.mysqldump의 경우 ...\n",
      "----------------------------------------\n",
      "<h3>sequelize - Migrations[번역]</h3>\n",
      "  시작 하기 앞서 해당 글은 sequelize document를 직접 번역함을 알립니다. 영어를 많이 잘하지 못하여 오역이 있을 수 있습니다.sequelize 2.0.0버전은 gulp 그리고 sequelize-cli와 gulp-sequelize 결합을 기반으로 새로운...\n",
      "----------------------------------------\n",
      "<h3>Structure Express Of Node</h3>\n",
      "Express Frameexpress는 node.js에서 제공하는 프레임워크.express-genderator를 설치를 통해 express 프로젝트 생성이 가능하다.아래의 내용은 Mysql 혹은 MariaDB, MongoDb(mongodb모듈을 통해 로우단에서 mong...\n",
      "----------------------------------------\n",
      "<h3>sequelize - Getting Started[번역]</h3>\n",
      "  시작 하기 앞서 해당 글은 sequelize document를 직접 번역함을 알립니다. 영어를 많이 잘하지 못하여 오역이 있을 수 있습니다.설치Sequelize는 NPM을 통하여 사용할 수 있다.$ npm install --save sequelize# 다음 중 하나...\n",
      "----------------------------------------\n",
      "<h3>docker commends</h3>\n",
      "docker는 가상머신처럼 기존의 운영체제에서 다른 운영체제를 돌릴 수 있도록 해주는 기술입니다이번 포스팅에서는 도커의 명령어를 간단하게 정리를 해보도록 하겠습니다.  이미지 확인$ docker images  이미지 파일 내려받기$ docker pull [image] ...\n",
      "----------------------------------------\n",
      "<h3>ubuntu에 php 개발환경 셋팅</h3>\n",
      "시작하기에 앞서서 필자는 docker에 ubuntu 16버전에서 셋팅을 하였습니다.ubuntu 설치 직후와 같은환경.APM설치ubuntu에 php환경을 셋팅을 해보도록 하곘습니다.도커에 우분투를 올린것은 우분투를 설치 직후와 같기때문에 패키지, apt-get을 업데이트...\n",
      "----------------------------------------\n",
      "<h3>mysql 원격접속하는 방법</h3>\n",
      "database도 하나의 서버이기 때문에 외부에서 접속을 해야하는 경우가 있다.하지만 2가지의 이유로 접속이 불가능할 수 있다.1번째. db의 접속 ip를 제한했을 경우 이는 디비 자체에서 특정 ip대역만 접속을 허용하도록 설정하는 경우이다.2번째. 경우 유저의 접속 ...\n",
      "----------------------------------------\n",
      "<h3>RDBMS vs NoSQL vs InMemory</h3>\n",
      "어제 뉴스를 보면서 사람은 하루에 약 2Gb의 데이터를 자동차는 사람보다 더 많은 데이터를 비행기는 테라 바이트에 가까울 정도로 생산을 해낸다는 기사를 보았습니다.저 또한 크롤러를 통해 하루에도 수많은 데이터를 만들어 내고 있습니다.그렇다면 저 수많은 데이터를 관리를 ...\n",
      "----------------------------------------\n",
      "<h3>sequelize - Usage[번역]</h3>\n",
      "  시작 하기 앞서 해당 글은 sequelize document를 직접 번역함을 알립니다. 영어를 많이 잘하지 못하여 오역이 있을 수 있습니다.데이터 검색/ 발견발견하는 함수들은 데이터 베이스로부터 데이터를 조회하기 위한 함수이다. 그들은 객체를 반한하지 않는 대신에 ...\n",
      "----------------------------------------\n"
     ]
    }
   ],
   "source": [
    "url = \"https://pjt3591oo.github.io/search\"\n",
    "driver = webdriver.Chrome()\n",
    "driver.get(url)\n",
    "\n",
    "search_box = driver.find_element(By.CSS_SELECTOR, \"input#search-box\")    # 검색창 찾기\n",
    "search_box.send_keys(\"db\")    # 검색창에 키보드 입력\n",
    "search_box.send_keys(Keys.ENTER)    # 검색창에 엔터키 입력\n",
    "\n",
    "time.sleep(1)\n",
    "\n",
    "# driver.page_source : 현재 웹 브라우저의 HTML 코드를 가져옴\n",
    "soup = BeautifulSoup(driver.page_source, \"lxml\")\n",
    "\n",
    "items = soup.select(\"ul#search-results > li\")    # 11개 검색 결과\n",
    "\n",
    "for item in items: \n",
    "    title = item.select_one(\"h3\")\n",
    "    description = item.select_one(\"p\").string\n",
    "    print(title)\n",
    "    print(description)\n",
    "    print(\"-\" * 40)"
   ]
  },
  {
   "cell_type": "markdown",
   "id": "ed017196-a99a-41d7-922e-fb731c6969b3",
   "metadata": {},
   "source": [
    "# 예제. 네이버 백과사전"
   ]
  },
  {
   "cell_type": "code",
   "execution_count": 27,
   "id": "54d19955-7ae1-4c81-8ff3-098a8ebe280f",
   "metadata": {},
   "outputs": [],
   "source": [
    "url = \"https://naver.com/\"\n",
    "driver = webdriver.Chrome()\n",
    "driver.get(url)\n",
    "\n",
    "driver.implicitly_wait(3)    # 묵시적 대기, 활성화률 최대 3초까지 기다림\n",
    "\n",
    "# 요소 찾기 - 검색창 찾고 키 전송\n",
    "search_box = driver.find_element(By.CSS_SELECTOR, \".search_input_box input\")\n",
    "search_box.send_keys(\"고슴도치\")    # 검색어 검색\n",
    "search_box.send_keys(Keys.ENTER)    # 엔터키 입력\n",
    "driver.implicitly_wait(3)    # 묵시적 대기\n",
    "\n",
    "# 지식백과에서 고슴도치 클릭\n",
    "post = driver.find_element(By.CSS_SELECTOR, \"a.area_text_title\")\n",
    "post.click()"
   ]
  },
  {
   "cell_type": "code",
   "execution_count": null,
   "id": "8ee7cfb1-e7c8-4da1-a767-0a8f056c181e",
   "metadata": {},
   "outputs": [],
   "source": []
  }
 ],
 "metadata": {
  "kernelspec": {
   "display_name": "Python [conda env:base] *",
   "language": "python",
   "name": "conda-base-py"
  },
  "language_info": {
   "codemirror_mode": {
    "name": "ipython",
    "version": 3
   },
   "file_extension": ".py",
   "mimetype": "text/x-python",
   "name": "python",
   "nbconvert_exporter": "python",
   "pygments_lexer": "ipython3",
   "version": "3.12.7"
  }
 },
 "nbformat": 4,
 "nbformat_minor": 5
}
