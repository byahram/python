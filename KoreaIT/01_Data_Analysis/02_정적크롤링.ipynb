{
 "cells": [
  {
   "cell_type": "markdown",
   "id": "c931de16-775b-4aa9-96e6-5f2df4965c25",
   "metadata": {},
   "source": [
    "# 1. 크롤러와 스크래퍼\n",
    "\n",
    "- 크롤러 : 알고리즘에 의해 인터넷을 탐색하는 프로그램\n",
    "- 크롤링 : 크롤러가 웹페이지들을 돌아다니는 행위\n",
    "- 스크래퍼 : 웹페이지의 데이터를 수집하는 프로그램\n",
    "- 스크래핑 : 특정 페이지의 데이터를 수집하는 행위\n",
    "- **통상적으로 크롤링과 스크래핑을 합쳐서 크롤링이라고 표현함**"
   ]
  },
  {
   "cell_type": "markdown",
   "id": "6a82726e-dd7d-444a-8777-ea8c260802dd",
   "metadata": {
    "jp-MarkdownHeadingCollapsed": true
   },
   "source": [
    "# 2. 웹 크롤링 방식\n",
    "\n",
    "1. 정적 크롤링\n",
    "    - 어느 상황에서나 같은 주소에서 변하지 않은 데이터를 기대할 수 있는 경우\n",
    "    - 수집 대상에 한계가 있으나 속도가 빠르다\n",
    "    - BeautifulSoup\n",
    "2. 동적 크롤링\n",
    "    - 입력, 클릭 등 실제 브라우저에서 행하는 행동들을 해야만 데이터를 수집할 수 있는 경우\n",
    "    - 수집 대상에 한계가 적으나 속도가 느리다\n",
    "    - Selenium\n",
    "\n",
    "#### DOM - 웹 문서를 브라우저가 이해할 수 있는 구조로 구성하여 메모리에 적재하는 것"
   ]
  },
  {
   "cell_type": "markdown",
   "id": "236bad56-4783-4ff9-8982-2dde978617b7",
   "metadata": {},
   "source": [
    "# 3. 정적 크롤링 모듈"
   ]
  },
  {
   "cell_type": "markdown",
   "id": "87634736-10dd-4e92-bf4e-31710392e662",
   "metadata": {},
   "source": [
    "## 1) 파서\n",
    "\n",
    "- 내가 원하는 데이터를 특정 패턴이나 순서로 추출하여 정보를 가공해주는 프로그램\n",
    "    - lxml\n",
    "      - c언어로 구현되어 속도가 가장 빠름\n",
    "    - html5lib\n",
    "      - 웹브라우저 형태로 HTML을 분석\n",
    "      - 속도가 가장 느림\n",
    "      - 가장 안정적\n",
    "    - html.parser\n",
    "      - lxml과 html5lib의 중간 속도"
   ]
  },
  {
   "cell_type": "code",
   "execution_count": 5,
   "id": "a0f2c7bf-bf99-497f-9bef-fedec2b2c13b",
   "metadata": {},
   "outputs": [],
   "source": [
    "from bs4 import BeautifulSoup\n",
    "from urllib.request import urlopen"
   ]
  },
  {
   "cell_type": "markdown",
   "id": "165a9d08-10b5-4211-9092-1e208c50618c",
   "metadata": {},
   "source": [
    "- BeautifulSoup의 역할 : 요청 모듈로 가져온 HTML 코드를 파이썬이 쓸 수 있는 형태로 변환해주는 역할"
   ]
  },
  {
   "cell_type": "code",
   "execution_count": 8,
   "id": "89943025-b8de-46c3-9b4b-09763cd93e0b",
   "metadata": {},
   "outputs": [],
   "source": [
    "url = \"http://www.naver.com\"\n",
    "page = urlopen(url)\n",
    "soup = BeautifulSoup(page, \"lxml\")"
   ]
  },
  {
   "cell_type": "code",
   "execution_count": 10,
   "id": "5f46fdf8-9b13-451e-8e86-684ca4d33ea7",
   "metadata": {},
   "outputs": [],
   "source": [
    "# print(soup)"
   ]
  },
  {
   "cell_type": "markdown",
   "id": "df1d966b-647f-41c3-9940-976694b4e69c",
   "metadata": {},
   "source": [
    "# 4. 속성 데이터"
   ]
  },
  {
   "cell_type": "code",
   "execution_count": 14,
   "id": "16958549-16ec-4e96-921d-c262af3407d7",
   "metadata": {},
   "outputs": [],
   "source": [
    "html = \"\"\"<html> <head><title class=\"t\" id=\"ti\">test site</title></head> <body> <p>test</p> <p>test1</p> <p>test2</p> </body></html>\"\"\""
   ]
  },
  {
   "cell_type": "code",
   "execution_count": 16,
   "id": "be7bc10a-9e81-4496-89dc-078903db455f",
   "metadata": {},
   "outputs": [],
   "source": [
    "soup = BeautifulSoup(html, \"lxml\")"
   ]
  },
  {
   "cell_type": "code",
   "execution_count": 18,
   "id": "b2240ac6-e9fb-4243-a659-48635d342c73",
   "metadata": {},
   "outputs": [
    {
     "data": {
      "text/plain": [
       "<html> <head><title class=\"t\" id=\"ti\">test site</title></head> <body> <p>test</p> <p>test1</p> <p>test2</p> </body></html>"
      ]
     },
     "execution_count": 18,
     "metadata": {},
     "output_type": "execute_result"
    }
   ],
   "source": [
    "soup"
   ]
  },
  {
   "cell_type": "code",
   "execution_count": 20,
   "id": "5e1effee-3735-49a9-b11c-57e33a9cdfc9",
   "metadata": {},
   "outputs": [],
   "source": [
    "# soup의 첫번째 title 태그\n",
    "tag_title = soup.title"
   ]
  },
  {
   "cell_type": "code",
   "execution_count": 22,
   "id": "0d075898-29eb-4f14-a9a9-57ccb341fd1b",
   "metadata": {},
   "outputs": [
    {
     "data": {
      "text/plain": [
       "<title class=\"t\" id=\"ti\">test site</title>"
      ]
     },
     "execution_count": 22,
     "metadata": {},
     "output_type": "execute_result"
    }
   ],
   "source": [
    "tag_title"
   ]
  },
  {
   "cell_type": "code",
   "execution_count": 24,
   "id": "826433d3-8ffc-4a6d-bf76-e6f3397b4932",
   "metadata": {},
   "outputs": [
    {
     "data": {
      "text/plain": [
       "{'class': ['t'], 'id': 'ti'}"
      ]
     },
     "execution_count": 24,
     "metadata": {},
     "output_type": "execute_result"
    }
   ],
   "source": [
    "# 태그의 속성 가져오기\n",
    "tag_title.attrs"
   ]
  },
  {
   "cell_type": "code",
   "execution_count": 26,
   "id": "276d7c7c-5a25-4d13-ae7f-f61dc5bfec68",
   "metadata": {},
   "outputs": [
    {
     "data": {
      "text/plain": [
       "['t']"
      ]
     },
     "execution_count": 26,
     "metadata": {},
     "output_type": "execute_result"
    }
   ],
   "source": [
    "tag_title[\"class\"]"
   ]
  },
  {
   "cell_type": "code",
   "execution_count": 28,
   "id": "6aafa554-cccb-4020-a980-3adf8958817d",
   "metadata": {},
   "outputs": [
    {
     "data": {
      "text/plain": [
       "'ti'"
      ]
     },
     "execution_count": 28,
     "metadata": {},
     "output_type": "execute_result"
    }
   ],
   "source": [
    "tag_title[\"id\"]"
   ]
  },
  {
   "cell_type": "code",
   "execution_count": 30,
   "id": "e564c252-e835-4c82-857d-7e9f7240c1ee",
   "metadata": {},
   "outputs": [
    {
     "ename": "KeyError",
     "evalue": "'class1'",
     "output_type": "error",
     "traceback": [
      "\u001b[1;31m---------------------------------------------------------------------------\u001b[0m",
      "\u001b[1;31mKeyError\u001b[0m                                  Traceback (most recent call last)",
      "Cell \u001b[1;32mIn[30], line 2\u001b[0m\n\u001b[0;32m      1\u001b[0m \u001b[38;5;66;03m# 키가 없다면 에러 발생\u001b[39;00m\n\u001b[1;32m----> 2\u001b[0m tag_title[\u001b[38;5;124m\"\u001b[39m\u001b[38;5;124mclass1\u001b[39m\u001b[38;5;124m\"\u001b[39m]\n",
      "File \u001b[1;32m~\\anaconda3\\Lib\\site-packages\\bs4\\element.py:1573\u001b[0m, in \u001b[0;36mTag.__getitem__\u001b[1;34m(self, key)\u001b[0m\n\u001b[0;32m   1570\u001b[0m \u001b[38;5;28;01mdef\u001b[39;00m \u001b[38;5;21m__getitem__\u001b[39m(\u001b[38;5;28mself\u001b[39m, key):\n\u001b[0;32m   1571\u001b[0m \u001b[38;5;250m    \u001b[39m\u001b[38;5;124;03m\"\"\"tag[key] returns the value of the 'key' attribute for the Tag,\u001b[39;00m\n\u001b[0;32m   1572\u001b[0m \u001b[38;5;124;03m    and throws an exception if it's not there.\"\"\"\u001b[39;00m\n\u001b[1;32m-> 1573\u001b[0m     \u001b[38;5;28;01mreturn\u001b[39;00m \u001b[38;5;28mself\u001b[39m\u001b[38;5;241m.\u001b[39mattrs[key]\n",
      "\u001b[1;31mKeyError\u001b[0m: 'class1'"
     ]
    }
   ],
   "source": [
    "# 키가 없다면 에러 발생\n",
    "tag_title[\"class1\"]"
   ]
  },
  {
   "cell_type": "code",
   "execution_count": 32,
   "id": "e4bb1eec-1475-414e-847d-ec2ce0ff05d1",
   "metadata": {},
   "outputs": [
    {
     "data": {
      "text/plain": [
       "bs4.element.Tag"
      ]
     },
     "execution_count": 32,
     "metadata": {},
     "output_type": "execute_result"
    }
   ],
   "source": [
    "# tag타입은 딕셔너리처럼 접근할 수 있고 딕셔너리 문법을 그대로 적용할 수 있음 \n",
    "type(tag_title)"
   ]
  },
  {
   "cell_type": "markdown",
   "id": "8f70bf52-46d5-4b22-b4c3-c59b8d2d9d75",
   "metadata": {},
   "source": [
    "## 1) 태그 접근\n",
    "\n",
    "- soup.태그이름 의 형태로 첫번째로 등장하는 태그의 정보를 가져올 수 있음"
   ]
  },
  {
   "cell_type": "code",
   "execution_count": 35,
   "id": "61a98991-4aac-4e55-8798-9b8df70380af",
   "metadata": {},
   "outputs": [
    {
     "data": {
      "text/plain": [
       "<title class=\"t\" id=\"ti\">test site</title>"
      ]
     },
     "execution_count": 35,
     "metadata": {},
     "output_type": "execute_result"
    }
   ],
   "source": [
    "tag_title"
   ]
  },
  {
   "cell_type": "code",
   "execution_count": 37,
   "id": "f150a9b8-dfb4-488b-bcf7-b9b75a04501b",
   "metadata": {},
   "outputs": [
    {
     "name": "stdout",
     "output_type": "stream",
     "text": [
      "test site\n",
      "test site\n"
     ]
    }
   ],
   "source": [
    "print(tag_title.text)\n",
    "print(tag_title.string)"
   ]
  },
  {
   "cell_type": "code",
   "execution_count": 39,
   "id": "c5880683-6663-4bb0-a38c-eb7365733d9c",
   "metadata": {},
   "outputs": [],
   "source": [
    "# text와 string의 차이\n",
    "html2 = \"\"\"<html> <head><title>test site</title></head> <body> <p><span>test1</span><span>test2</span></p> </body></html>\"\"\"\n",
    "soup2 = BeautifulSoup(html2, \"lxml\")\n",
    "\n",
    "tag_p = soup2.p"
   ]
  },
  {
   "cell_type": "code",
   "execution_count": 41,
   "id": "4edef114-f5ba-4d41-a056-5ac33c9f79c6",
   "metadata": {},
   "outputs": [
    {
     "data": {
      "text/plain": [
       "<p><span>test1</span><span>test2</span></p>"
      ]
     },
     "execution_count": 41,
     "metadata": {},
     "output_type": "execute_result"
    }
   ],
   "source": [
    "tag_p"
   ]
  },
  {
   "cell_type": "code",
   "execution_count": 43,
   "id": "42169290-8c2c-4c88-a7e9-7f3e0d2f9b3d",
   "metadata": {},
   "outputs": [
    {
     "name": "stdout",
     "output_type": "stream",
     "text": [
      "text : test1test2 <class 'str'>\n",
      "string : None <class 'NoneType'>\n"
     ]
    }
   ],
   "source": [
    "data_text = tag_p.text\n",
    "data_string = tag_p.string\n",
    "\n",
    "print(\"text :\", data_text, type(data_text))\n",
    "print(\"string :\", data_string, type(data_string))"
   ]
  },
  {
   "cell_type": "markdown",
   "id": "5c709f88-b58a-44c6-9c60-318a1eb9d8ba",
   "metadata": {},
   "source": [
    "- text : 하위 태그들의 값도 모두 출력\n",
    "- string : 정확히 해당 태그에 대한 값만 출력"
   ]
  },
  {
   "cell_type": "code",
   "execution_count": 46,
   "id": "a63b7535-6ee3-4ad8-bf0a-a7037cb48c33",
   "metadata": {},
   "outputs": [
    {
     "data": {
      "text/plain": [
       "'test1'"
      ]
     },
     "execution_count": 46,
     "metadata": {},
     "output_type": "execute_result"
    }
   ],
   "source": [
    "tag_p.span.string"
   ]
  },
  {
   "cell_type": "markdown",
   "id": "3a952587-90bf-440e-9aa7-f80797057024",
   "metadata": {},
   "source": [
    "## 2) 원하는 요소에 접근하기"
   ]
  },
  {
   "cell_type": "markdown",
   "id": "6a4764e1-2935-4ded-b43e-4dffe237a0d4",
   "metadata": {},
   "source": [
    "### (1) select()\n",
    "\n",
    "- 매칭되는 모든 결과를 리스트로 반환\n",
    "- 클래스는 마침표(.), 아이디는 샵(#)으로, 자식태그는 > 로 표현, 자손태그는 띄어쓰기로 표현\n",
    "- select_one()으로 하나의 결과만 반환하는 것도 가능"
   ]
  },
  {
   "cell_type": "code",
   "execution_count": 61,
   "id": "ca73d091-5009-4912-9357-c7b8622952ce",
   "metadata": {},
   "outputs": [],
   "source": [
    "html3 = \"\"\"<html> <head><title>test site</title></head> <body> <p id=\"i\" class=\"a\">test1</p><p id=\"d\" class=\"d\">test2</p><p class=\"c\">test3</p></p><a>a tag</a> <b>b tag</b></body></html>\"\"\"\n",
    "soup = BeautifulSoup(html3, \"lxml\")"
   ]
  },
  {
   "cell_type": "code",
   "execution_count": 63,
   "id": "369d617b-173c-4fd3-9cdb-6e53443e4465",
   "metadata": {},
   "outputs": [
    {
     "name": "stdout",
     "output_type": "stream",
     "text": [
      "[<p class=\"a\" id=\"i\">test1</p>, <p class=\"d\" id=\"d\">test2</p>, <p class=\"c\">test3</p>]\n"
     ]
    }
   ],
   "source": [
    "print(soup.select(\"p\"))    # p 태그들"
   ]
  },
  {
   "cell_type": "code",
   "execution_count": 65,
   "id": "1632fc8f-0839-4e84-b2b7-6b35bd9ddd9b",
   "metadata": {},
   "outputs": [
    {
     "name": "stdout",
     "output_type": "stream",
     "text": [
      "<p class=\"a\" id=\"i\">test1</p>\n"
     ]
    }
   ],
   "source": [
    "print(soup.select_one(\"p\"))"
   ]
  },
  {
   "cell_type": "code",
   "execution_count": 67,
   "id": "6c0243da-3e2f-4fcb-bedf-4bbe06f11bfc",
   "metadata": {},
   "outputs": [
    {
     "name": "stdout",
     "output_type": "stream",
     "text": [
      "[<p class=\"d\" id=\"d\">test2</p>]\n"
     ]
    }
   ],
   "source": [
    "print(soup.select(\".d\"))    # class가 d인 태그들"
   ]
  },
  {
   "cell_type": "code",
   "execution_count": 69,
   "id": "29e24101-f240-4296-9444-101db3659796",
   "metadata": {},
   "outputs": [
    {
     "name": "stdout",
     "output_type": "stream",
     "text": [
      "[<p class=\"d\" id=\"d\">test2</p>]\n"
     ]
    }
   ],
   "source": [
    "print(soup.select(\"p.d\"))    # class가 d인 p태그들"
   ]
  },
  {
   "cell_type": "code",
   "execution_count": 71,
   "id": "4e1c79a7-1753-4ea8-aef9-ac1331cc6ff8",
   "metadata": {},
   "outputs": [
    {
     "name": "stdout",
     "output_type": "stream",
     "text": [
      "[<p class=\"a\" id=\"i\">test1</p>]\n"
     ]
    }
   ],
   "source": [
    "print(soup.select(\"#i\"))    # id가 i인 태그들"
   ]
  },
  {
   "cell_type": "code",
   "execution_count": 73,
   "id": "655fa593-51b7-4d68-bafa-80f6d5e2288e",
   "metadata": {},
   "outputs": [
    {
     "name": "stdout",
     "output_type": "stream",
     "text": [
      "[<p class=\"a\" id=\"i\">test1</p>]\n"
     ]
    }
   ],
   "source": [
    "print(soup.select(\"p#i\"))    # id가 i인 p태그들"
   ]
  },
  {
   "cell_type": "code",
   "execution_count": 76,
   "id": "385ca93f-41e2-4ff7-b72f-b5d2e3e4b801",
   "metadata": {},
   "outputs": [],
   "source": [
    "html4 = \"\"\"<html> <head><title>test site</title></head> <body> <div><p id=\"i\" class=\"a\">test1</p><p class=\"d\">test2</p></div><p class=\"d\">test3</p></p> <a>a tag</a> <b>b tag</b></body></html>\"\"\"\n",
    "soup = BeautifulSoup(html4, \"lxml\")"
   ]
  },
  {
   "cell_type": "code",
   "execution_count": 78,
   "id": "1823683f-1914-4b90-a7c1-ee892ff02f23",
   "metadata": {},
   "outputs": [
    {
     "name": "stdout",
     "output_type": "stream",
     "text": [
      "[<p class=\"a\" id=\"i\">test1</p>, <p class=\"d\">test2</p>, <p class=\"d\">test3</p>]\n"
     ]
    }
   ],
   "source": [
    "print(soup.select(\"body p\"))    # body의 자손인 p태그들"
   ]
  },
  {
   "cell_type": "code",
   "execution_count": 80,
   "id": "5746b20e-e19a-4ddf-a8fa-12ede9e5cba5",
   "metadata": {},
   "outputs": [
    {
     "name": "stdout",
     "output_type": "stream",
     "text": [
      "[<p class=\"d\">test3</p>]\n"
     ]
    }
   ],
   "source": [
    "print(soup.select(\"body > p\"))    # body의 자식인 p태그들"
   ]
  },
  {
   "cell_type": "code",
   "execution_count": 82,
   "id": "bc167da0-e207-4403-a5a8-e20b18fea69e",
   "metadata": {},
   "outputs": [
    {
     "name": "stdout",
     "output_type": "stream",
     "text": [
      "[<p class=\"d\">test2</p>, <p class=\"d\">test3</p>]\n"
     ]
    }
   ],
   "source": [
    "print(soup.select(\"body p.d\"))    # body의 자손이면서 class가 d인 p태그들"
   ]
  },
  {
   "cell_type": "code",
   "execution_count": 84,
   "id": "905595d5-f8b9-4fb2-9ea4-4135dddc7b94",
   "metadata": {},
   "outputs": [
    {
     "name": "stdout",
     "output_type": "stream",
     "text": [
      "[<p class=\"a\" id=\"i\">test1</p>]\n"
     ]
    }
   ],
   "source": [
    "print(soup.select(\"body p#i\"))    # body의 자손이면서 id가 i인 p태그들"
   ]
  },
  {
   "cell_type": "code",
   "execution_count": 86,
   "id": "427a4324-71d4-43f3-a127-e1ed6af1d5de",
   "metadata": {},
   "outputs": [
    {
     "name": "stdout",
     "output_type": "stream",
     "text": [
      "[<p class=\"a\" id=\"i\">test1</p>, <p class=\"d\">test2</p>]\n"
     ]
    }
   ],
   "source": [
    "print(soup.select(\"div p\"))    # div의 자손인 p태그들"
   ]
  },
  {
   "cell_type": "markdown",
   "id": "6781a3f6-7ed2-4731-96b7-8319cce33d66",
   "metadata": {},
   "source": [
    "# 예제 1. 티스토리 크롤링"
   ]
  },
  {
   "cell_type": "code",
   "execution_count": 89,
   "id": "84187327-6f01-4de1-9d03-008967be17a5",
   "metadata": {},
   "outputs": [],
   "source": [
    "url = \"https://ai-dev.tistory.com/1\"\n",
    "page = urlopen(url)\n",
    "soup = BeautifulSoup(page, \"lxml\")"
   ]
  },
  {
   "cell_type": "markdown",
   "id": "577ee6b6-41f8-4a0b-8ca6-4b3a38ca573d",
   "metadata": {},
   "source": [
    "### 1) 제목 수집"
   ]
  },
  {
   "cell_type": "code",
   "execution_count": 92,
   "id": "223c0b76-b528-4394-bec0-64208a52d7e1",
   "metadata": {},
   "outputs": [
    {
     "data": {
      "text/plain": [
       "'크롤링의 세계에 오신 것을 환영합니다. '"
      ]
     },
     "execution_count": 92,
     "metadata": {},
     "output_type": "execute_result"
    }
   ],
   "source": [
    "soup.select_one(\"div.hgroup > h1\").string"
   ]
  },
  {
   "cell_type": "markdown",
   "id": "cdc5a8a0-e138-435e-a294-4922482c13d1",
   "metadata": {},
   "source": [
    "### 2) 게시물 내용 수집"
   ]
  },
  {
   "cell_type": "code",
   "execution_count": 96,
   "id": "2f09b319-61a5-4a13-a9c7-086daf984637",
   "metadata": {},
   "outputs": [
    {
     "data": {
      "text/plain": [
       "'Hello, world!'"
      ]
     },
     "execution_count": 96,
     "metadata": {},
     "output_type": "execute_result"
    }
   ],
   "source": [
    "soup.select_one(\"div.contents_style.tt_article_useless_p_margin > p\").string"
   ]
  },
  {
   "cell_type": "markdown",
   "id": "90aae499-8c9f-40e1-8115-ca58d0f95bf8",
   "metadata": {},
   "source": [
    "# 예제 2. 티스토리 크롤링"
   ]
  },
  {
   "cell_type": "code",
   "execution_count": 99,
   "id": "29aba56a-64fc-4bc0-8d41-aa19d3c690cb",
   "metadata": {},
   "outputs": [],
   "source": [
    "url = \"https://ai-dev.tistory.com/2\"\n",
    "page = urlopen(url)\n",
    "soup = BeautifulSoup(page, \"lxml\")"
   ]
  },
  {
   "cell_type": "markdown",
   "id": "740d9ecd-e695-4e6b-b836-d3f18c65c45f",
   "metadata": {},
   "source": [
    "### 1) 데이터 내용 수집"
   ]
  },
  {
   "cell_type": "code",
   "execution_count": 102,
   "id": "c552a613-d638-47c0-bb77-836736c6b636",
   "metadata": {},
   "outputs": [],
   "source": [
    "table_text = soup.select(\"div.tt_article_useless_p_margin td\")"
   ]
  },
  {
   "cell_type": "code",
   "execution_count": 104,
   "id": "bea3a826-1d82-4996-8449-f21c2a34718f",
   "metadata": {},
   "outputs": [
    {
     "name": "stdout",
     "output_type": "stream",
     "text": [
      "상품, 색상, 가격, 셔츠1, 빨강, 20000, 셔츠2, 파랑, 19000, 셔츠3, 초록, 18000, 바지1, 검정, 50000, 바지2, 파랑, 51000, "
     ]
    }
   ],
   "source": [
    "for txt in table_text:\n",
    "    print(txt.string, end = \", \")"
   ]
  },
  {
   "cell_type": "markdown",
   "id": "7250243f-704c-48e1-a6fa-60d51c7dccbe",
   "metadata": {},
   "source": [
    "### 2) 리스트 수집"
   ]
  },
  {
   "cell_type": "code",
   "execution_count": 107,
   "id": "2bcd52ce-1190-4fcc-b4ff-7f78df72b1ef",
   "metadata": {},
   "outputs": [],
   "source": [
    "list_text = soup.select(\".tt_article_useless_p_margin ul > li\")"
   ]
  },
  {
   "cell_type": "code",
   "execution_count": 109,
   "id": "0244e766-39a5-43f8-a022-5c2541616101",
   "metadata": {},
   "outputs": [
    {
     "name": "stdout",
     "output_type": "stream",
     "text": [
      "모니터\n",
      "CPU\n",
      "메모리\n",
      "그래픽카드\n",
      "하드디스크\n",
      "키보드\n",
      "마우스\n"
     ]
    }
   ],
   "source": [
    "for txt in list_text:\n",
    "    print(txt.string)"
   ]
  },
  {
   "cell_type": "code",
   "execution_count": 111,
   "id": "9305a9be-0cc8-47bf-a056-0e80f1dd4424",
   "metadata": {},
   "outputs": [
    {
     "data": {
      "text/plain": [
       "['모니터', 'CPU', '메모리', '그래픽카드', '하드디스크', '키보드', '마우스']"
      ]
     },
     "execution_count": 111,
     "metadata": {},
     "output_type": "execute_result"
    }
   ],
   "source": [
    "[i.string for i in list_text]"
   ]
  },
  {
   "cell_type": "code",
   "execution_count": null,
   "id": "0263f8d4-bc05-423d-b88a-1d63f778630c",
   "metadata": {},
   "outputs": [],
   "source": []
  }
 ],
 "metadata": {
  "kernelspec": {
   "display_name": "Python [conda env:base] *",
   "language": "python",
   "name": "conda-base-py"
  },
  "language_info": {
   "codemirror_mode": {
    "name": "ipython",
    "version": 3
   },
   "file_extension": ".py",
   "mimetype": "text/x-python",
   "name": "python",
   "nbconvert_exporter": "python",
   "pygments_lexer": "ipython3",
   "version": "3.12.7"
  }
 },
 "nbformat": 4,
 "nbformat_minor": 5
}
