{
 "cells": [
  {
   "cell_type": "code",
   "execution_count": 28,
   "id": "684cb806-e78e-4939-9ec0-5c1ef542e16b",
   "metadata": {},
   "outputs": [],
   "source": [
    "import numpy as np"
   ]
  },
  {
   "cell_type": "markdown",
   "id": "9cdd2ff8-9651-4d05-843f-b686dfd11328",
   "metadata": {},
   "source": [
    "# **스칼라와 벡터**\n",
    "\n",
    "- 벡터와 행렬은 특정 텐서(tensor)를 부르는 이름\n",
    "- 텐서의 이름을 부여하는 원칙은 차원인 축(axis)을 기준으로 지정\n",
    "    - 텐서가 0차원인 경우(축이 없는 경우) : 스칼라(scalar)\n",
    "    - 1차원인 하나의 축을 가진 경우 : 벡터(vector)\n",
    "    - 2차원인 2개의 축을 가진 경우 : 행렬(matrix)\n",
    "    - 3차원인 3개의 축을 가진 경우 : 큐브(cube) 또는 3차원 텐서\n",
    "    - 더 차원이 높은 경우는 차원을 기준으로 n차원 텐서 라고 부름"
   ]
  },
  {
   "cell_type": "markdown",
   "id": "7c4bb345-ac01-4ec7-9a82-b6483388ea2a",
   "metadata": {},
   "source": [
    "## 스칼라\n",
    "\n",
    "- 0차원 배열\n",
    "- 크기를 표현\n",
    "- 가장 기본적인 값\n",
    "- 수학에서 배운 정수나 실수는 하나의 물리량인 크기를 표현하는데, 이 값을 스칼라 라고 함"
   ]
  },
  {
   "cell_type": "code",
   "execution_count": 32,
   "id": "b27dd28a-15e8-41bf-b508-c01781aecd0a",
   "metadata": {},
   "outputs": [],
   "source": [
    "scalar_arr = np.array(43)"
   ]
  },
  {
   "cell_type": "code",
   "execution_count": 34,
   "id": "248e0f74-dac6-4c71-9be0-a06cb7c48c77",
   "metadata": {},
   "outputs": [
    {
     "data": {
      "text/plain": [
       "array(43)"
      ]
     },
     "execution_count": 34,
     "metadata": {},
     "output_type": "execute_result"
    }
   ],
   "source": [
    "# array에서 스칼라는 대괄호 없이 숫자만 표시\n",
    "# 대괄호는 벡터(1차원 배열)부터 사용\n",
    "scalar_arr"
   ]
  },
  {
   "cell_type": "code",
   "execution_count": 36,
   "id": "6c1c9049-06e0-4b85-a365-e49107a846d7",
   "metadata": {},
   "outputs": [
    {
     "data": {
      "text/plain": [
       "numpy.ndarray"
      ]
     },
     "execution_count": 36,
     "metadata": {},
     "output_type": "execute_result"
    }
   ],
   "source": [
    "type(scalar_arr)"
   ]
  },
  {
   "cell_type": "code",
   "execution_count": 38,
   "id": "f0a0416c-b4d4-42e8-a2d7-7a71c1e6940d",
   "metadata": {},
   "outputs": [
    {
     "data": {
      "text/plain": [
       "0"
      ]
     },
     "execution_count": 38,
     "metadata": {},
     "output_type": "execute_result"
    }
   ],
   "source": [
    "# 스칼라는 0차원\n",
    "scalar_arr.ndim"
   ]
  },
  {
   "cell_type": "code",
   "execution_count": 40,
   "id": "7aab5d12-3d4d-4fd8-a516-9be4cac1f12a",
   "metadata": {},
   "outputs": [
    {
     "data": {
      "text/plain": [
       "()"
      ]
     },
     "execution_count": 40,
     "metadata": {},
     "output_type": "execute_result"
    }
   ],
   "source": [
    "# 축이 없기 때문에 빈 튜플\n",
    "scalar_arr.shape"
   ]
  },
  {
   "cell_type": "code",
   "execution_count": 42,
   "id": "e85bd2e8-686f-428e-b8c7-78949c38b9a7",
   "metadata": {},
   "outputs": [
    {
     "data": {
      "text/plain": [
       "dtype('int32')"
      ]
     },
     "execution_count": 42,
     "metadata": {},
     "output_type": "execute_result"
    }
   ],
   "source": [
    "# array 로 스칼라를 만들어도 dtype을 가짐\n",
    "scalar_arr.dtype"
   ]
  },
  {
   "cell_type": "markdown",
   "id": "d7918dc9-3069-44d0-8af0-158b5f96b72b",
   "metadata": {},
   "source": [
    "## 벡터\n",
    "\n",
    "- 1차원 배열"
   ]
  },
  {
   "cell_type": "code",
   "execution_count": 45,
   "id": "a0afd814-7792-4049-bb12-1640632b4858",
   "metadata": {},
   "outputs": [],
   "source": [
    "vector = np.array([43])"
   ]
  },
  {
   "cell_type": "code",
   "execution_count": 47,
   "id": "c856d3f8-98ee-4652-bea1-af49a4ea010c",
   "metadata": {},
   "outputs": [
    {
     "data": {
      "text/plain": [
       "array([43])"
      ]
     },
     "execution_count": 47,
     "metadata": {},
     "output_type": "execute_result"
    }
   ],
   "source": [
    "vector"
   ]
  },
  {
   "cell_type": "code",
   "execution_count": 49,
   "id": "fe819aa9-c7f0-4c99-8281-162e878c4b9a",
   "metadata": {},
   "outputs": [
    {
     "data": {
      "text/plain": [
       "numpy.ndarray"
      ]
     },
     "execution_count": 49,
     "metadata": {},
     "output_type": "execute_result"
    }
   ],
   "source": [
    "type(vector)"
   ]
  },
  {
   "cell_type": "code",
   "execution_count": 51,
   "id": "6bda3c73-22c7-4ca2-a721-737ee7badd2c",
   "metadata": {},
   "outputs": [
    {
     "data": {
      "text/plain": [
       "1"
      ]
     },
     "execution_count": 51,
     "metadata": {},
     "output_type": "execute_result"
    }
   ],
   "source": [
    "vector.ndim"
   ]
  },
  {
   "cell_type": "code",
   "execution_count": 53,
   "id": "ebbc8b29-1cdd-4954-b44f-c740f79272d3",
   "metadata": {},
   "outputs": [
    {
     "data": {
      "text/plain": [
       "(1,)"
      ]
     },
     "execution_count": 53,
     "metadata": {},
     "output_type": "execute_result"
    }
   ],
   "source": [
    "vector.shape"
   ]
  },
  {
   "cell_type": "markdown",
   "id": "44ecad0a-893a-484f-bf7e-331be714c11a",
   "metadata": {},
   "source": [
    "## 배열 생성 함수"
   ]
  },
  {
   "cell_type": "markdown",
   "id": "7fae4e52-240a-46b1-80f8-991447e00a89",
   "metadata": {},
   "source": [
    "### - zeros\n",
    "\n",
    "- 크기가 정해져 있고 모든 값이 0인 배열 생성\n",
    "- 인수로는 배열의 크기를 전달"
   ]
  },
  {
   "cell_type": "code",
   "execution_count": 57,
   "id": "29ed9cdf-cfcc-48ab-abdf-338da1a3ccb7",
   "metadata": {},
   "outputs": [
    {
     "data": {
      "text/plain": [
       "array([0., 0., 0., 0., 0.])"
      ]
     },
     "execution_count": 57,
     "metadata": {},
     "output_type": "execute_result"
    }
   ],
   "source": [
    "# 1차원 배열\n",
    "zero_arr = np.zeros(5)\n",
    "zero_arr"
   ]
  },
  {
   "cell_type": "code",
   "execution_count": 59,
   "id": "e0c9adc5-1d36-4214-82c3-0a13dd3cff8c",
   "metadata": {},
   "outputs": [
    {
     "data": {
      "text/plain": [
       "array([[0., 0., 0.],\n",
       "       [0., 0., 0.]])"
      ]
     },
     "execution_count": 59,
     "metadata": {},
     "output_type": "execute_result"
    }
   ],
   "source": [
    "# 2차원 배열\n",
    "zero_arr2 = np.zeros((2, 3))\n",
    "zero_arr2"
   ]
  },
  {
   "cell_type": "markdown",
   "id": "2b2f7670-20c9-4722-aeea-53bce3892af3",
   "metadata": {},
   "source": [
    "- dtype 인수를 명시하면 해당 자료형 원소 배열을 생성"
   ]
  },
  {
   "cell_type": "code",
   "execution_count": 62,
   "id": "0b5371e8-0738-4153-89c3-20fbf9ac78c8",
   "metadata": {},
   "outputs": [
    {
     "data": {
      "text/plain": [
       "array([[0, 0],\n",
       "       [0, 0],\n",
       "       [0, 0],\n",
       "       [0, 0],\n",
       "       [0, 0]])"
      ]
     },
     "execution_count": 62,
     "metadata": {},
     "output_type": "execute_result"
    }
   ],
   "source": [
    "zero_arr3 = np.zeros((5, 2), dtype = int)\n",
    "zero_arr3"
   ]
  },
  {
   "cell_type": "markdown",
   "id": "655792c1-3691-470b-b3ef-b9a476fe536e",
   "metadata": {},
   "source": [
    "### - ones\n",
    "\n",
    "- 모든 값이 1인 배열 생성"
   ]
  },
  {
   "cell_type": "code",
   "execution_count": 65,
   "id": "0a7932f4-13c9-4098-931b-9195be818fb2",
   "metadata": {},
   "outputs": [
    {
     "data": {
      "text/plain": [
       "array([[[1, 1, 1, 1],\n",
       "        [1, 1, 1, 1],\n",
       "        [1, 1, 1, 1]],\n",
       "\n",
       "       [[1, 1, 1, 1],\n",
       "        [1, 1, 1, 1],\n",
       "        [1, 1, 1, 1]]])"
      ]
     },
     "execution_count": 65,
     "metadata": {},
     "output_type": "execute_result"
    }
   ],
   "source": [
    "one_arr = np.ones((2, 3, 4), dtype = int)\n",
    "one_arr"
   ]
  },
  {
   "cell_type": "markdown",
   "id": "9ffd59ab-63fa-4498-aac0-0046d4278cd4",
   "metadata": {},
   "source": [
    "### - zeros_like, ones_like\n",
    "\n",
    "- 다른 배열과 같은 크기의 배열을 생성"
   ]
  },
  {
   "cell_type": "code",
   "execution_count": 68,
   "id": "20171006-7c66-46dc-8b7e-5fafcb740b7a",
   "metadata": {},
   "outputs": [
    {
     "data": {
      "text/plain": [
       "array([[[0, 0, 0, 0],\n",
       "        [0, 0, 0, 0],\n",
       "        [0, 0, 0, 0]],\n",
       "\n",
       "       [[0, 0, 0, 0],\n",
       "        [0, 0, 0, 0],\n",
       "        [0, 0, 0, 0]]])"
      ]
     },
     "execution_count": 68,
     "metadata": {},
     "output_type": "execute_result"
    }
   ],
   "source": [
    "zero_arr4 = np.zeros_like(one_arr)\n",
    "zero_arr4"
   ]
  },
  {
   "cell_type": "code",
   "execution_count": 70,
   "id": "68ef9b69-db03-45c8-a2c5-71c93d497195",
   "metadata": {},
   "outputs": [
    {
     "data": {
      "text/plain": [
       "array([[1, 1],\n",
       "       [1, 1],\n",
       "       [1, 1],\n",
       "       [1, 1],\n",
       "       [1, 1]])"
      ]
     },
     "execution_count": 70,
     "metadata": {},
     "output_type": "execute_result"
    }
   ],
   "source": [
    "one_arr2 = np.ones_like(zero_arr3)\n",
    "one_arr2"
   ]
  },
  {
   "cell_type": "code",
   "execution_count": 72,
   "id": "799d8cb3-3d43-4ce6-91ce-d4416fb29ebc",
   "metadata": {},
   "outputs": [
    {
     "data": {
      "text/plain": [
       "array([[1., 1., 1.],\n",
       "       [1., 1., 1.]])"
      ]
     },
     "execution_count": 72,
     "metadata": {},
     "output_type": "execute_result"
    }
   ],
   "source": [
    "np.ones_like(zero_arr2)"
   ]
  },
  {
   "cell_type": "markdown",
   "id": "1d8fb4ba-bbad-4ff1-a65b-03172556dce3",
   "metadata": {},
   "source": [
    "### - arange\n",
    "\n",
    "- 파이썬의 range와 유사한 함수\n",
    "- range와 같이 시작점, 종료점, 증감값 을 인자로 전달\n",
    "    - 종료점은 필수"
   ]
  },
  {
   "cell_type": "code",
   "execution_count": 75,
   "id": "8da5e3cd-2f02-49b1-8783-4dde6b3e34b3",
   "metadata": {},
   "outputs": [
    {
     "data": {
      "text/plain": [
       "array([0, 1, 2, 3, 4, 5, 6, 7, 8, 9])"
      ]
     },
     "execution_count": 75,
     "metadata": {},
     "output_type": "execute_result"
    }
   ],
   "source": [
    "vector = np.arange(10)\n",
    "vector"
   ]
  },
  {
   "cell_type": "code",
   "execution_count": 77,
   "id": "8baaa1bb-1a08-4d36-a4a9-34d147e00f10",
   "metadata": {},
   "outputs": [
    {
     "data": {
      "text/plain": [
       "dtype('int32')"
      ]
     },
     "execution_count": 77,
     "metadata": {},
     "output_type": "execute_result"
    }
   ],
   "source": [
    "vector.dtype"
   ]
  },
  {
   "cell_type": "markdown",
   "id": "b7b82e71-ca32-4818-9ce2-bbc2ad0822ab",
   "metadata": {},
   "source": [
    "- 인자로 실수를 지정할 수 있음"
   ]
  },
  {
   "cell_type": "code",
   "execution_count": 80,
   "id": "91ccd0f2-57af-4e82-81a0-44ac91c5ef61",
   "metadata": {},
   "outputs": [
    {
     "data": {
      "text/plain": [
       "array([10.5, 11. , 11.5, 12. , 12.5, 13. , 13.5, 14. , 14.5, 15. , 15.5,\n",
       "       16. , 16.5, 17. , 17.5, 18. , 18.5, 19. , 19.5, 20. ])"
      ]
     },
     "execution_count": 80,
     "metadata": {},
     "output_type": "execute_result"
    }
   ],
   "source": [
    "vector1 = np.arange(10.5, 20.5, 0.5)\n",
    "vector1"
   ]
  },
  {
   "cell_type": "code",
   "execution_count": 82,
   "id": "9a0af9fb-c0d5-411b-9c22-9c16d4280ceb",
   "metadata": {},
   "outputs": [
    {
     "data": {
      "text/plain": [
       "dtype('float64')"
      ]
     },
     "execution_count": 82,
     "metadata": {},
     "output_type": "execute_result"
    }
   ],
   "source": [
    "vector1.dtype"
   ]
  },
  {
   "cell_type": "code",
   "execution_count": 84,
   "id": "76fbc952-acf6-487f-ab99-a0cc869c124d",
   "metadata": {},
   "outputs": [
    {
     "data": {
      "text/plain": [
       "array([[ 0,  1,  2,  3,  4,  5,  6,  7,  8,  9],\n",
       "       [10, 11, 12, 13, 14, 15, 16, 17, 18, 19],\n",
       "       [20, 21, 22, 23, 24, 25, 26, 27, 28, 29],\n",
       "       [30, 31, 32, 33, 34, 35, 36, 37, 38, 39],\n",
       "       [40, 41, 42, 43, 44, 45, 46, 47, 48, 49],\n",
       "       [50, 51, 52, 53, 54, 55, 56, 57, 58, 59]])"
      ]
     },
     "execution_count": 84,
     "metadata": {},
     "output_type": "execute_result"
    }
   ],
   "source": [
    "# 1차원 배열을 생성하면서 바로 2차원 배열로 형상 변경\n",
    "vector2 = np.arange(60).reshape(6, 10)\n",
    "vector2"
   ]
  },
  {
   "cell_type": "code",
   "execution_count": 86,
   "id": "8f7be536-fe4f-40f9-8cd4-720e727c3615",
   "metadata": {},
   "outputs": [
    {
     "data": {
      "text/plain": [
       "(6, 10)"
      ]
     },
     "execution_count": 86,
     "metadata": {},
     "output_type": "execute_result"
    }
   ],
   "source": [
    "vector2.shape"
   ]
  },
  {
   "cell_type": "code",
   "execution_count": 88,
   "id": "888f7412-17ad-4184-a50d-808ca2f35df8",
   "metadata": {
    "scrolled": true
   },
   "outputs": [
    {
     "data": {
      "text/plain": [
       "array([[[ 0,  1,  2,  3,  4],\n",
       "        [ 5,  6,  7,  8,  9],\n",
       "        [10, 11, 12, 13, 14],\n",
       "        [15, 16, 17, 18, 19]],\n",
       "\n",
       "       [[20, 21, 22, 23, 24],\n",
       "        [25, 26, 27, 28, 29],\n",
       "        [30, 31, 32, 33, 34],\n",
       "        [35, 36, 37, 38, 39]],\n",
       "\n",
       "       [[40, 41, 42, 43, 44],\n",
       "        [45, 46, 47, 48, 49],\n",
       "        [50, 51, 52, 53, 54],\n",
       "        [55, 56, 57, 58, 59]]])"
      ]
     },
     "execution_count": 88,
     "metadata": {},
     "output_type": "execute_result"
    }
   ],
   "source": [
    "vector3 = np.arange(60).reshape(3, 4, 5)\n",
    "vector3"
   ]
  },
  {
   "cell_type": "markdown",
   "id": "f6faf712-f502-40b8-bb77-44af33a45117",
   "metadata": {},
   "source": [
    "### - linspace\n",
    "\n",
    "- arange와의 차이점\n",
    "    - 종료점도 포함해서 원소를 생성\n",
    "    - 세 번째 인자로 간격 대신 원소의 개수를 전달\n",
    "        - 초기값은 50\n",
    "    - 기본으로 실수를 가진 원소를 만듦"
   ]
  },
  {
   "cell_type": "code",
   "execution_count": 91,
   "id": "5e7984d1-9e60-4a22-b180-edda845d26ce",
   "metadata": {},
   "outputs": [
    {
     "data": {
      "text/plain": [
       "array([ 1.,  2.,  3.,  4.,  5.,  6.,  7.,  8.,  9., 10.])"
      ]
     },
     "execution_count": 91,
     "metadata": {},
     "output_type": "execute_result"
    }
   ],
   "source": [
    "lin = np.linspace(1, 10, 10)\n",
    "lin"
   ]
  },
  {
   "cell_type": "code",
   "execution_count": 93,
   "id": "f0ce6f54-3f05-4bd3-b0c4-efc3ad827ec1",
   "metadata": {},
   "outputs": [
    {
     "data": {
      "text/plain": [
       "dtype('float64')"
      ]
     },
     "execution_count": 93,
     "metadata": {},
     "output_type": "execute_result"
    }
   ],
   "source": [
    "lin.dtype"
   ]
  },
  {
   "cell_type": "code",
   "execution_count": 95,
   "id": "f876e09c-669d-477b-828e-8e62cf6fdeed",
   "metadata": {},
   "outputs": [
    {
     "data": {
      "text/plain": [
       "(array([1.        , 1.11111111, 1.22222222, 1.33333333, 1.44444444,\n",
       "        1.55555556, 1.66666667, 1.77777778, 1.88888889, 2.        ]),\n",
       " 0.1111111111111111)"
      ]
     },
     "execution_count": 95,
     "metadata": {},
     "output_type": "execute_result"
    }
   ],
   "source": [
    "# 값의 간격을 표시하는 증분(incremental)을 확인할 수 있음\n",
    "lin2 = np.linspace(1, 2, 10, retstep = True)\n",
    "lin2"
   ]
  },
  {
   "cell_type": "code",
   "execution_count": 97,
   "id": "43fbd80f-6266-44be-8fad-47de85ed4149",
   "metadata": {},
   "outputs": [
    {
     "data": {
      "text/plain": [
       "(array([1. , 1.9, 2.8, 3.7, 4.6, 5.5, 6.4, 7.3, 8.2, 9.1]), 0.9)"
      ]
     },
     "execution_count": 97,
     "metadata": {},
     "output_type": "execute_result"
    }
   ],
   "source": [
    "# 종료값을 제외할 수도 있음\n",
    "lin3 = np.linspace(1, 10, 10, endpoint = False, retstep = True)\n",
    "lin3"
   ]
  },
  {
   "cell_type": "markdown",
   "id": "a04f245c-a551-4fa6-ab54-4ab3ec60c22c",
   "metadata": {},
   "source": [
    "## 벡터의 크기 및 단위 벡터 구하기\n",
    "\n",
    "- 선형대수의 벡터는 크기와 방향성을 가짐\n",
    "- 벡터의 크기는 노름(norm)이라고 부름\n",
    "- 벡터는 평면 좌표의 점을 표시하듯이 2개의 원소를 가진 것을 대표적으로 사용\n",
    "    - 벡터의 크기는 피타고라스의 정리를 사용"
   ]
  },
  {
   "cell_type": "markdown",
   "id": "91a1390b-327d-454c-a1c6-8158a39bb384",
   "metadata": {},
   "source": [
    "### - 벡터의 크기 계산"
   ]
  },
  {
   "cell_type": "code",
   "execution_count": 101,
   "id": "333d8225-8a34-46b3-82af-ef33c749b388",
   "metadata": {},
   "outputs": [
    {
     "data": {
      "text/plain": [
       "array([3, 4])"
      ]
     },
     "execution_count": 101,
     "metadata": {},
     "output_type": "execute_result"
    }
   ],
   "source": [
    "# 두 개의 원소를 가지는 1차원 배열 생성\n",
    "v = np.array([3, 4])\n",
    "v"
   ]
  },
  {
   "cell_type": "code",
   "execution_count": 103,
   "id": "5b473d40-0514-489c-be79-fbf6ab3da513",
   "metadata": {},
   "outputs": [
    {
     "data": {
      "text/plain": [
       "array([ 9, 16], dtype=int32)"
      ]
     },
     "execution_count": 103,
     "metadata": {},
     "output_type": "execute_result"
    }
   ],
   "source": [
    "# 벡터의 크기를 구하기 위해 각 원소를 제곱하여 합산한 후 제곱근 계산\n",
    "v_p = np.power(v, 2)\n",
    "v_p"
   ]
  },
  {
   "cell_type": "code",
   "execution_count": 105,
   "id": "712846e2-6d9f-40eb-ae79-9f495196c559",
   "metadata": {},
   "outputs": [
    {
     "data": {
      "text/plain": [
       "5.0"
      ]
     },
     "execution_count": 105,
     "metadata": {},
     "output_type": "execute_result"
    }
   ],
   "source": [
    "v_r = np.sqrt(np.sum(v_p))\n",
    "v_r"
   ]
  },
  {
   "cell_type": "code",
   "execution_count": 107,
   "id": "24a4fcdc-ed00-4002-8a04-62d509086c9d",
   "metadata": {},
   "outputs": [
    {
     "data": {
      "text/plain": [
       "5.0"
      ]
     },
     "execution_count": 107,
     "metadata": {},
     "output_type": "execute_result"
    }
   ],
   "source": [
    "# 피타고라스 정리를 구하는 hypot 함수를 사용할 수도 있음\n",
    "np.hypot(v[0], v[1])"
   ]
  },
  {
   "cell_type": "code",
   "execution_count": 109,
   "id": "1d1cf708-6142-4b5f-a93d-d6a8395ab369",
   "metadata": {},
   "outputs": [
    {
     "data": {
      "text/plain": [
       "5.0"
      ]
     },
     "execution_count": 109,
     "metadata": {},
     "output_type": "execute_result"
    }
   ],
   "source": [
    "# 더 많은 원소를 가진 벡터를 가지고 크기를 구할 때는 np.linalg.norm 함수를 사용하면 간단함\n",
    "np.linalg.norm(v)"
   ]
  },
  {
   "cell_type": "markdown",
   "id": "a8988c64-2d98-4b1c-beb7-74ad072c18c4",
   "metadata": {},
   "source": [
    "### - 단위 벡터(unit vector)\n",
    "\n",
    "- 벡터의 크기가 항상 1인 경우를 단위 벡터라고 함\n",
    "- 표준 단위벡터(standard unit vector)는 원소 중에 하나가 1이고 나머지 원소가 0인 경우"
   ]
  },
  {
   "cell_type": "code",
   "execution_count": 112,
   "id": "761d8122-4c7e-4c26-8a53-3bf2ab6201d3",
   "metadata": {},
   "outputs": [
    {
     "name": "stdout",
     "output_type": "stream",
     "text": [
      "1.0\n"
     ]
    }
   ],
   "source": [
    "# 표준 단위벡터의 예시\n",
    "e1 = np.array([1, 0, 0])\n",
    "print(np.linalg.norm(e1))"
   ]
  },
  {
   "cell_type": "code",
   "execution_count": 114,
   "id": "372c379c-0bcf-4567-a236-f73a7644e34f",
   "metadata": {},
   "outputs": [
    {
     "name": "stdout",
     "output_type": "stream",
     "text": [
      "1.0\n"
     ]
    }
   ],
   "source": [
    "e2 = np.array([0, 1, 0])\n",
    "print(np.linalg.norm(e2))"
   ]
  },
  {
   "cell_type": "markdown",
   "id": "f0c2b0d6-3fb1-45d9-8f81-7c8ba005b0e1",
   "metadata": {},
   "source": [
    "- 일반적인 단위 벡터를 구할 때는 벡터의 크기를 구하고 각 원소를 벡터의 크기로 나누어서 구함"
   ]
  },
  {
   "cell_type": "code",
   "execution_count": 117,
   "id": "010b4ae6-efac-484f-b6ea-d38f8cce3019",
   "metadata": {},
   "outputs": [
    {
     "data": {
      "text/plain": [
       "array([1, 2, 3])"
      ]
     },
     "execution_count": 117,
     "metadata": {},
     "output_type": "execute_result"
    }
   ],
   "source": [
    "# 1차원 배열을 생성하고 이 배열의 크기를 계산\n",
    "v_3 = np.array([1, 2, 3])\n",
    "v_3"
   ]
  },
  {
   "cell_type": "code",
   "execution_count": 119,
   "id": "2e86e88b-0dec-45d8-908a-ed3b6c87c373",
   "metadata": {},
   "outputs": [
    {
     "data": {
      "text/plain": [
       "3.7416573867739413"
      ]
     },
     "execution_count": 119,
     "metadata": {},
     "output_type": "execute_result"
    }
   ],
   "source": [
    "v_3_n = np.linalg.norm(v_3)\n",
    "v_3_n"
   ]
  },
  {
   "cell_type": "code",
   "execution_count": 121,
   "id": "aaf08368-347f-4589-abe0-cdab69d50014",
   "metadata": {},
   "outputs": [
    {
     "data": {
      "text/plain": [
       "array([0.26726124, 0.53452248, 0.80178373])"
      ]
     },
     "execution_count": 121,
     "metadata": {},
     "output_type": "execute_result"
    }
   ],
   "source": [
    "# 해당 벡터를 벡터의 크기로 나눈 후에 norm을 계산하면 1이 나옴\n",
    "# 벡터의 크기가 1인 경우를 단위 벡터라고 함\n",
    "v_3_u = v_3 / v_3_n\n",
    "v_3_u"
   ]
  },
  {
   "cell_type": "code",
   "execution_count": 123,
   "id": "01c17ab2-5c93-42d1-adf2-09b0bf61afd5",
   "metadata": {},
   "outputs": [
    {
     "data": {
      "text/plain": [
       "1.0"
      ]
     },
     "execution_count": 123,
     "metadata": {},
     "output_type": "execute_result"
    }
   ],
   "source": [
    "np.linalg.norm(v_3_u)"
   ]
  },
  {
   "cell_type": "markdown",
   "id": "760f7898-99b7-4da4-80a1-66f31a8e218f",
   "metadata": {
    "jp-MarkdownHeadingCollapsed": true
   },
   "source": [
    "## 벡터 상등과 벡터간 거리\n",
    "\n",
    "- 벡터의 상등(equality) : 벡터의 크기와 방향이 같은 경우\n",
    "    - 크기는 같지만 방향이 다른 경우는 상등이 아님"
   ]
  },
  {
   "cell_type": "code",
   "execution_count": 126,
   "id": "c10c0901-ec41-4d31-be4c-45ca67646f3e",
   "metadata": {},
   "outputs": [],
   "source": [
    "# 두 벡터가 동일한 경우\n",
    "a = np.array([3, 4])\n",
    "b = np.array([3, 4])"
   ]
  },
  {
   "cell_type": "code",
   "execution_count": 128,
   "id": "6d612d73-ee7e-417d-8a8f-fc3d2cbef895",
   "metadata": {},
   "outputs": [
    {
     "data": {
      "text/plain": [
       "True"
      ]
     },
     "execution_count": 128,
     "metadata": {},
     "output_type": "execute_result"
    }
   ],
   "source": [
    "# np.array_equal() : 두 배열이 동일한지 확인하는 함수\n",
    "np.array_equal(a, b)"
   ]
  },
  {
   "cell_type": "code",
   "execution_count": 130,
   "id": "671ba3a1-bf2f-4e19-9c16-081670b04536",
   "metadata": {},
   "outputs": [],
   "source": [
    "# 동일한 두 개의 배열의 크기를 구하여 크기가 동일한지 비교\n",
    "a_1 = np.linalg.norm(a)\n",
    "b_1 = np.linalg.norm(b)"
   ]
  },
  {
   "cell_type": "code",
   "execution_count": 132,
   "id": "1ba71737-a4f8-4a55-9eac-f060d7b05805",
   "metadata": {},
   "outputs": [
    {
     "data": {
      "text/plain": [
       "True"
      ]
     },
     "execution_count": 132,
     "metadata": {},
     "output_type": "execute_result"
    }
   ],
   "source": [
    "a_1 == b_1"
   ]
  },
  {
   "cell_type": "code",
   "execution_count": 134,
   "id": "dc8d5b91-79ba-46a6-aad6-7ca993c3fe17",
   "metadata": {},
   "outputs": [
    {
     "data": {
      "text/plain": [
       "5.0"
      ]
     },
     "execution_count": 134,
     "metadata": {},
     "output_type": "execute_result"
    }
   ],
   "source": [
    "b_2 = np.linalg.norm(-b)\n",
    "b_2"
   ]
  },
  {
   "cell_type": "code",
   "execution_count": 136,
   "id": "ec062874-ee44-4215-ae73-98d4d3768a2c",
   "metadata": {},
   "outputs": [
    {
     "data": {
      "text/plain": [
       "5.0"
      ]
     },
     "execution_count": 136,
     "metadata": {},
     "output_type": "execute_result"
    }
   ],
   "source": [
    "a_1"
   ]
  },
  {
   "cell_type": "code",
   "execution_count": 138,
   "id": "9a1539e2-4e84-40e4-8f45-0d4d4a83197a",
   "metadata": {},
   "outputs": [
    {
     "data": {
      "text/plain": [
       "True"
      ]
     },
     "execution_count": 138,
     "metadata": {},
     "output_type": "execute_result"
    }
   ],
   "source": [
    "# 방향은 반대지만 크기는 같음\n",
    "a_1 == b_2"
   ]
  },
  {
   "cell_type": "code",
   "execution_count": 140,
   "id": "dbcb3125-c845-44dc-aa58-6b37ae898a42",
   "metadata": {},
   "outputs": [
    {
     "data": {
      "text/plain": [
       "False"
      ]
     },
     "execution_count": 140,
     "metadata": {},
     "output_type": "execute_result"
    }
   ],
   "source": [
    "# 하지만 방향이 반대이기 때문에 동일한 벡터는 아님\n",
    "np.array_equal(a, -b)"
   ]
  },
  {
   "cell_type": "markdown",
   "id": "988db762-4a3c-4779-bcc8-963e4f7f305b",
   "metadata": {},
   "source": [
    "- 두 벡터의 거리는 두 벡터 간의 차를 계산한 후에 제곱을 합산한 후 제곱근 계산"
   ]
  },
  {
   "cell_type": "code",
   "execution_count": 143,
   "id": "14f3b177-6275-42e2-8c83-212e23b3ab18",
   "metadata": {},
   "outputs": [],
   "source": [
    "# 두 개의 벡터 생성\n",
    "c = np.arange(10, 13)\n",
    "d = np.arange(0, 3)"
   ]
  },
  {
   "cell_type": "code",
   "execution_count": 145,
   "id": "aa452759-d4a9-4f25-8b7f-037dc54bc798",
   "metadata": {},
   "outputs": [
    {
     "data": {
      "text/plain": [
       "array([10, 11, 12])"
      ]
     },
     "execution_count": 145,
     "metadata": {},
     "output_type": "execute_result"
    }
   ],
   "source": [
    "c"
   ]
  },
  {
   "cell_type": "code",
   "execution_count": 147,
   "id": "a2499018-dbd7-4dfd-9082-92ae91057e7f",
   "metadata": {},
   "outputs": [
    {
     "data": {
      "text/plain": [
       "array([0, 1, 2])"
      ]
     },
     "execution_count": 147,
     "metadata": {},
     "output_type": "execute_result"
    }
   ],
   "source": [
    "d"
   ]
  },
  {
   "cell_type": "code",
   "execution_count": 149,
   "id": "193ed85a-e78a-4d48-9a11-71a0dd39f159",
   "metadata": {},
   "outputs": [
    {
     "data": {
      "text/plain": [
       "17.320508075688775"
      ]
     },
     "execution_count": 149,
     "metadata": {},
     "output_type": "execute_result"
    }
   ],
   "source": [
    "np.sqrt(np.sum(np.square(c - d)))"
   ]
  },
  {
   "cell_type": "code",
   "execution_count": 151,
   "id": "b48cad95-fd05-4e5c-9f51-0cdf97409210",
   "metadata": {},
   "outputs": [
    {
     "data": {
      "text/plain": [
       "17.320508075688775"
      ]
     },
     "execution_count": 151,
     "metadata": {},
     "output_type": "execute_result"
    }
   ],
   "source": [
    "# norm 함수에 두 벡터의 차를 인자로 전달하는 방법도 있음\n",
    "np.linalg.norm(c - d)"
   ]
  },
  {
   "cell_type": "markdown",
   "id": "39e88722-441f-4098-b608-a9b950a74777",
   "metadata": {
    "jp-MarkdownHeadingCollapsed": true
   },
   "source": [
    "# **행렬(Matrix)**\n",
    "\n",
    "- 벡터는 하나의 차원이 축을 가져서 1차원 배열로 표시했지만 행렬은 두 개의 축인 차원을 가짐\n",
    "    - 이 차원의 수평 방향을 행(row), 수직 방향을 열(column)이라고 함\n",
    "- 보통 선형대수는 대괄호 내에 행과 열의 인덱스 위치에 숫자를 나열해서 표시\n",
    "- 행렬을 부를 때는 보통 m개 행, n개 열 로 이루어져서 m x n 행렬이라고 함"
   ]
  },
  {
   "cell_type": "code",
   "execution_count": 154,
   "id": "afaadadd-6f39-432c-8874-f79a453926fd",
   "metadata": {},
   "outputs": [],
   "source": [
    "a = np.array([[43], [44]])"
   ]
  },
  {
   "cell_type": "code",
   "execution_count": 156,
   "id": "ca68e77b-c358-4006-b0dc-3d2979bd3fe1",
   "metadata": {},
   "outputs": [
    {
     "data": {
      "text/plain": [
       "array([[43],\n",
       "       [44]])"
      ]
     },
     "execution_count": 156,
     "metadata": {},
     "output_type": "execute_result"
    }
   ],
   "source": [
    "a"
   ]
  },
  {
   "cell_type": "code",
   "execution_count": 158,
   "id": "79c4825d-f6b2-4fe2-9948-d28707fe8ee2",
   "metadata": {},
   "outputs": [
    {
     "data": {
      "text/plain": [
       "numpy.ndarray"
      ]
     },
     "execution_count": 158,
     "metadata": {},
     "output_type": "execute_result"
    }
   ],
   "source": [
    "type(a)"
   ]
  },
  {
   "cell_type": "code",
   "execution_count": 160,
   "id": "07df1029-6ec4-40aa-bcdd-8b0a501ac88c",
   "metadata": {},
   "outputs": [
    {
     "data": {
      "text/plain": [
       "dtype('int32')"
      ]
     },
     "execution_count": 160,
     "metadata": {},
     "output_type": "execute_result"
    }
   ],
   "source": [
    "# a 변수에 저장된 것도 하나의 배열이므로 하나의 자료형을 가짐\n",
    "a.dtype"
   ]
  },
  {
   "cell_type": "code",
   "execution_count": 162,
   "id": "ca846891-22b3-424f-bd58-aa8c274fb4d0",
   "metadata": {},
   "outputs": [
    {
     "data": {
      "text/plain": [
       "2"
      ]
     },
     "execution_count": 162,
     "metadata": {},
     "output_type": "execute_result"
    }
   ],
   "source": [
    "# 배열의 차원 확인\n",
    "a.ndim"
   ]
  },
  {
   "cell_type": "code",
   "execution_count": 164,
   "id": "ddee72ac-49aa-4fc8-b9ad-0dc8330032ea",
   "metadata": {},
   "outputs": [
    {
     "data": {
      "text/plain": [
       "(2, 1)"
      ]
     },
     "execution_count": 164,
     "metadata": {},
     "output_type": "execute_result"
    }
   ],
   "source": [
    "a.shape"
   ]
  },
  {
   "cell_type": "code",
   "execution_count": 166,
   "id": "c1f9bd90-5136-443f-9f52-cac69b2bb917",
   "metadata": {},
   "outputs": [
    {
     "data": {
      "text/plain": [
       "array([[7, 7, 7, 7],\n",
       "       [7, 7, 7, 7],\n",
       "       [7, 7, 7, 7]], dtype=int64)"
      ]
     },
     "execution_count": 166,
     "metadata": {},
     "output_type": "execute_result"
    }
   ],
   "source": [
    "# np.full(형상, 채워질 값, 자료형) : 다차원 배열의 원소의 값을 동일하게 채움\n",
    "b = np.full((3, 4), 7, \"int64\")\n",
    "b"
   ]
  },
  {
   "cell_type": "markdown",
   "id": "ecb74700-57f0-4f3a-9965-ab4daa48b486",
   "metadata": {
    "jp-MarkdownHeadingCollapsed": true
   },
   "source": [
    "### - 2차원을 1차원으로 축소"
   ]
  },
  {
   "cell_type": "code",
   "execution_count": 169,
   "id": "040ec196-47c0-4645-92e0-2373d48af3c4",
   "metadata": {},
   "outputs": [
    {
     "data": {
      "text/plain": [
       "array([[1, 4, 5],\n",
       "       [4, 5, 6],\n",
       "       [7, 8, 9]])"
      ]
     },
     "execution_count": 169,
     "metadata": {},
     "output_type": "execute_result"
    }
   ],
   "source": [
    "x = np.array([[1, 4, 5],\n",
    "              [4, 5, 6],\n",
    "              [7, 8, 9]])\n",
    "x"
   ]
  },
  {
   "cell_type": "code",
   "execution_count": 171,
   "id": "a68acab7-3868-492b-9b17-9789d51d66eb",
   "metadata": {},
   "outputs": [
    {
     "data": {
      "text/plain": [
       "array([1, 4, 5, 4, 5, 6, 7, 8, 9])"
      ]
     },
     "execution_count": 171,
     "metadata": {},
     "output_type": "execute_result"
    }
   ],
   "source": [
    "# flatten() : 1차원 배열을 반환. 배열의 복사본을 반환\n",
    "x.flatten()"
   ]
  },
  {
   "cell_type": "code",
   "execution_count": 173,
   "id": "d873238d-9c95-42e5-b902-163d6bf36cfd",
   "metadata": {},
   "outputs": [
    {
     "data": {
      "text/plain": [
       "array([[1, 4, 5],\n",
       "       [4, 5, 6],\n",
       "       [7, 8, 9]])"
      ]
     },
     "execution_count": 173,
     "metadata": {},
     "output_type": "execute_result"
    }
   ],
   "source": [
    "x"
   ]
  },
  {
   "cell_type": "code",
   "execution_count": 175,
   "id": "4552ae4f-b8f6-45e9-bc01-55935bd807c5",
   "metadata": {},
   "outputs": [
    {
     "data": {
      "text/plain": [
       "array([1, 4, 5, 4, 5, 6, 7, 8, 9])"
      ]
     },
     "execution_count": 175,
     "metadata": {},
     "output_type": "execute_result"
    }
   ],
   "source": [
    "# ravel() : 1차원 배열을 반환. 원본 배열의 뷰를 제공\n",
    "x.ravel()"
   ]
  },
  {
   "cell_type": "code",
   "execution_count": 177,
   "id": "5906eca8-66ef-4cd2-9376-258bb392d914",
   "metadata": {},
   "outputs": [
    {
     "data": {
      "text/plain": [
       "array([[1, 4, 5],\n",
       "       [4, 5, 6],\n",
       "       [7, 8, 9]])"
      ]
     },
     "execution_count": 177,
     "metadata": {},
     "output_type": "execute_result"
    }
   ],
   "source": [
    "x"
   ]
  },
  {
   "cell_type": "code",
   "execution_count": 179,
   "id": "d4bde3e5-fcb4-478b-892f-59137be4c01c",
   "metadata": {},
   "outputs": [
    {
     "data": {
      "text/plain": [
       "False"
      ]
     },
     "execution_count": 179,
     "metadata": {},
     "output_type": "execute_result"
    }
   ],
   "source": [
    "# flatten() 은 원본 배열에는 영향을 미치지 않음\n",
    "np.may_share_memory(x.flatten(), x)"
   ]
  },
  {
   "cell_type": "code",
   "execution_count": 181,
   "id": "7421861b-51a8-4961-9f7f-618ddc2c68cf",
   "metadata": {},
   "outputs": [
    {
     "data": {
      "text/plain": [
       "True"
      ]
     },
     "execution_count": 181,
     "metadata": {},
     "output_type": "execute_result"
    }
   ],
   "source": [
    "# ravel() 은 원본 배열에 영향을 미칠 수 있음\n",
    "np.may_share_memory(x.ravel(), x)"
   ]
  },
  {
   "cell_type": "markdown",
   "id": "d03c65ad-2782-4e2b-817a-4960d533d432",
   "metadata": {},
   "source": [
    "## 행렬의 종류"
   ]
  },
  {
   "cell_type": "markdown",
   "id": "61f1c5d8-a51f-4e1a-91ad-1676537708c3",
   "metadata": {
    "jp-MarkdownHeadingCollapsed": true
   },
   "source": [
    "### - 정사각행렬(Square Matrix)\n",
    "\n",
    "- 동일한 행과 열을 가져서 n x n 행렬인 경우를 정사각행렬이라고 함\n",
    "- 정사각행렬의 차수(order)가 n이면 n차 정사각행렬이라고 부름"
   ]
  },
  {
   "cell_type": "markdown",
   "id": "f1492db8-bf65-45f0-8b6e-cec2ead9cb8a",
   "metadata": {},
   "source": [
    "#### : 행렬의 궤적(Trace)\n",
    "\n",
    "- 정사각행렬은 가장 일반적인 행렬\n",
    "- 정사각행렬의 행과 열의 동일한 인덱스에 있는 원소들은 대각선상에 위치함\n",
    "- 이 대각선상의 원소들의 합을 행렬의 궤적(Trace)이라고 부름\n",
    "- 행렬의 궤적은 정사각행렬의 전치를 사용해도 대각선의 원소는 변하지 않아 궤적의 합이 항상 동일"
   ]
  },
  {
   "cell_type": "code",
   "execution_count": 186,
   "id": "1c5f5138-70ef-45ea-9a08-b0f167d6b352",
   "metadata": {},
   "outputs": [
    {
     "data": {
      "text/plain": [
       "array([[1, 2, 3],\n",
       "       [4, 5, 6],\n",
       "       [7, 8, 9]])"
      ]
     },
     "execution_count": 186,
     "metadata": {},
     "output_type": "execute_result"
    }
   ],
   "source": [
    "a = np.array([[1, 2, 3], [4, 5, 6], [7, 8, 9]])\n",
    "a"
   ]
  },
  {
   "cell_type": "code",
   "execution_count": 188,
   "id": "d7c33f03-0edf-44df-a1c5-b41341983801",
   "metadata": {},
   "outputs": [
    {
     "data": {
      "text/plain": [
       "(3, 3)"
      ]
     },
     "execution_count": 188,
     "metadata": {},
     "output_type": "execute_result"
    }
   ],
   "source": [
    "a.shape"
   ]
  },
  {
   "cell_type": "code",
   "execution_count": 190,
   "id": "be7ddc69-676e-4653-80c6-9a4ba932bbec",
   "metadata": {},
   "outputs": [
    {
     "data": {
      "text/plain": [
       "15"
      ]
     },
     "execution_count": 190,
     "metadata": {},
     "output_type": "execute_result"
    }
   ],
   "source": [
    "# np.trace() : 행렬의 궤적을 계산\n",
    "np.trace(a)"
   ]
  },
  {
   "cell_type": "code",
   "execution_count": 192,
   "id": "d63d8f43-740a-42ed-a561-1d4a4151a334",
   "metadata": {},
   "outputs": [
    {
     "data": {
      "text/plain": [
       "15"
      ]
     },
     "execution_count": 192,
     "metadata": {},
     "output_type": "execute_result"
    }
   ],
   "source": [
    "a.trace()"
   ]
  },
  {
   "cell_type": "markdown",
   "id": "83b592ac-2a5d-4193-93dd-ee38d425bb1a",
   "metadata": {},
   "source": [
    "#### : 대각행렬(Diagonal Matrix)\n",
    "\n",
    "- 정사각행렬일 때 대각선의 원소를 제외한 모든 원소가 0으로 구성되는 행렬을 대각행렬 이라고 함"
   ]
  },
  {
   "cell_type": "code",
   "execution_count": 195,
   "id": "e59b8a95-83ea-4bbc-b54a-bb9ac254bbeb",
   "metadata": {},
   "outputs": [
    {
     "data": {
      "text/plain": [
       "array([[1, 0, 0],\n",
       "       [0, 3, 0],\n",
       "       [0, 0, 5]])"
      ]
     },
     "execution_count": 195,
     "metadata": {},
     "output_type": "execute_result"
    }
   ],
   "source": [
    "b = np.array([[1, 0, 0],\n",
    "              [0, 3, 0],\n",
    "              [0, 0, 5]])\n",
    "b"
   ]
  },
  {
   "cell_type": "code",
   "execution_count": 197,
   "id": "b0a09ce7-cc78-44d4-b5db-2cb114a71914",
   "metadata": {},
   "outputs": [
    {
     "data": {
      "text/plain": [
       "array([1, 3, 5])"
      ]
     },
     "execution_count": 197,
     "metadata": {},
     "output_type": "execute_result"
    }
   ],
   "source": [
    "# np.diagonal() : 대각선의 원소만 추출\n",
    "b.diagonal()"
   ]
  },
  {
   "cell_type": "code",
   "execution_count": 199,
   "id": "75b84ab1-8a99-4720-80da-9a7438785e1f",
   "metadata": {},
   "outputs": [
    {
     "data": {
      "text/plain": [
       "array([1, 3, 5])"
      ]
     },
     "execution_count": 199,
     "metadata": {},
     "output_type": "execute_result"
    }
   ],
   "source": [
    "np.diagonal(b)"
   ]
  },
  {
   "cell_type": "markdown",
   "id": "28e28d15-8723-4891-9ec6-f0f5a0dba760",
   "metadata": {},
   "source": [
    "#### : 대각행렬의 위치(diag)\n",
    "\n",
    "- 대각행렬은 행과 열의 인덱스가 같을 때 대각선의 원소에 값을 넣어서 만드는데, 이 대각선을 주 대각선이라고 함\n",
    "- 주 대각선 이외의 대각선의 위치는 주 대각선을 기준 0으로 하고 상위는 양수로, 하위는 음수로 표시"
   ]
  },
  {
   "cell_type": "code",
   "execution_count": 202,
   "id": "a54a727c-5d57-46e1-97c9-4de1e9f28e9e",
   "metadata": {},
   "outputs": [
    {
     "data": {
      "text/plain": [
       "array([[1, 0, 0],\n",
       "       [0, 2, 0],\n",
       "       [0, 0, 3]])"
      ]
     },
     "execution_count": 202,
     "metadata": {},
     "output_type": "execute_result"
    }
   ],
   "source": [
    "# np.diag(1차원배열, 대각선의 위치) : 대각행렬 생성\n",
    "# 1차원 배열을 대각선에 위치시킨 후, 행렬의 나머지는 0으로 채움\n",
    "c = np.diag(np.arange(1, 4))\n",
    "c"
   ]
  },
  {
   "cell_type": "code",
   "execution_count": 204,
   "id": "0edcaf7f-fcfd-4c65-bd9f-3e796cd482be",
   "metadata": {},
   "outputs": [
    {
     "data": {
      "text/plain": [
       "array([[0, 1, 0, 0],\n",
       "       [0, 0, 2, 0],\n",
       "       [0, 0, 0, 3],\n",
       "       [0, 0, 0, 0]])"
      ]
     },
     "execution_count": 204,
     "metadata": {},
     "output_type": "execute_result"
    }
   ],
   "source": [
    "# 주 대각선보다 한칸 위에 대각선을 구성\n",
    "d = np.diag(np.arange(1, 4), k = 1)\n",
    "d"
   ]
  },
  {
   "cell_type": "code",
   "execution_count": 206,
   "id": "7b736185-1faf-4875-810d-98c61b3564a4",
   "metadata": {},
   "outputs": [
    {
     "data": {
      "text/plain": [
       "array([[0, 0, 0, 0],\n",
       "       [1, 0, 0, 0],\n",
       "       [0, 2, 0, 0],\n",
       "       [0, 0, 3, 0]])"
      ]
     },
     "execution_count": 206,
     "metadata": {},
     "output_type": "execute_result"
    }
   ],
   "source": [
    "# 주 대각선보다 한칸 아래에 대각선을 구성\n",
    "e = np.diag(np.arange(1, 4), k = -1)\n",
    "e"
   ]
  },
  {
   "cell_type": "markdown",
   "id": "d7e79f0a-4f3a-4eb9-a138-a90e7ba66eaf",
   "metadata": {
    "jp-MarkdownHeadingCollapsed": true
   },
   "source": [
    "### - 단위행렬(Unit Matrix)\n",
    "\n",
    "- 대각행렬 중에 주 대각선의 원소가 모두 1인 행렬을 단위행렬이라고 부름\n",
    "- 임의의 수에 1을 곱하면 임의의 수에 변화가 없는 것처럼 행렬에 다른 행렬곱을 수행해도 항상 동일한 행렬을 반환하는 행렬임\n",
    "- 보통 단위 행렬은 대문자 I 로 표시"
   ]
  },
  {
   "cell_type": "code",
   "execution_count": 209,
   "id": "55e8ff49-7322-4c0a-b696-263ca8c25e3b",
   "metadata": {},
   "outputs": [
    {
     "data": {
      "text/plain": [
       "array([[1., 0., 0.],\n",
       "       [0., 1., 0.],\n",
       "       [0., 0., 1.]])"
      ]
     },
     "execution_count": 209,
     "metadata": {},
     "output_type": "execute_result"
    }
   ],
   "source": [
    "# np.eye(행의 개수, 열의 개수) : 단위 행렬 만들기\n",
    "h = np.eye(3, 3)\n",
    "h"
   ]
  },
  {
   "cell_type": "code",
   "execution_count": 211,
   "id": "3de784ad-b8a7-474c-9d5f-7dbb5ed35b0d",
   "metadata": {},
   "outputs": [
    {
     "data": {
      "text/plain": [
       "array([[0., 1., 0.],\n",
       "       [0., 0., 1.],\n",
       "       [0., 0., 0.]])"
      ]
     },
     "execution_count": 211,
     "metadata": {},
     "output_type": "execute_result"
    }
   ],
   "source": [
    "# np.eye() 메서드는 대각선의 위치를 조정할 수 있도록 매개변수 k를 제공\n",
    "i = np.eye(3, 3, k = 1)\n",
    "i"
   ]
  },
  {
   "cell_type": "markdown",
   "id": "b78fac73-cf7e-4890-a600-0c4c7b10666d",
   "metadata": {},
   "source": [
    "#### : 항등행렬(Identity Matrix)\n",
    "\n",
    "- 단위행렬은 항등행렬 이라고도 부름"
   ]
  },
  {
   "cell_type": "code",
   "execution_count": 214,
   "id": "631da8c7-72d3-487f-a595-04c7286234ec",
   "metadata": {},
   "outputs": [
    {
     "data": {
      "text/plain": [
       "array([[1., 0., 0.],\n",
       "       [0., 1., 0.],\n",
       "       [0., 0., 1.]])"
      ]
     },
     "execution_count": 214,
     "metadata": {},
     "output_type": "execute_result"
    }
   ],
   "source": [
    "I = np.identity(3)\n",
    "I"
   ]
  },
  {
   "cell_type": "code",
   "execution_count": 216,
   "id": "5d8d81d5-6561-4873-8824-9da705b83479",
   "metadata": {},
   "outputs": [
    {
     "data": {
      "text/plain": [
       "array([[1, 2, 3],\n",
       "       [4, 5, 6],\n",
       "       [7, 8, 9]])"
      ]
     },
     "execution_count": 216,
     "metadata": {},
     "output_type": "execute_result"
    }
   ],
   "source": [
    "# 항등행렬을 다른 배열과 곱하면 배열의 값은 변경되지 않음\n",
    "s = np.arange(1, 10).reshape(3, 3)\n",
    "s"
   ]
  },
  {
   "cell_type": "code",
   "execution_count": 218,
   "id": "515ee328-8d84-4689-af31-e01073936985",
   "metadata": {},
   "outputs": [
    {
     "data": {
      "text/plain": [
       "array([[1., 2., 3.],\n",
       "       [4., 5., 6.],\n",
       "       [7., 8., 9.]])"
      ]
     },
     "execution_count": 218,
     "metadata": {},
     "output_type": "execute_result"
    }
   ],
   "source": [
    "s @ I"
   ]
  },
  {
   "cell_type": "markdown",
   "id": "d7d118b1-0b9a-418c-a1bd-3a820807edc6",
   "metadata": {
    "jp-MarkdownHeadingCollapsed": true
   },
   "source": [
    "## 삼각행렬\n",
    "\n",
    "- 정사각행렬에서 주 대각선을 기준으로 위나 아래의 원소의 값이 전부 0이고 나머지 부분에는 값이 들어있는 행렬을 삼각행렬(Triangular Matrix)라고 함\n",
    "- 삼각행렬은 주 대각선을 기준으로 원소의 값이 들어간 위치에 따라 이름을 다르게 부여함\n",
    "    - 대각선 위 부분만 0이 아닌 원소로 구성하면 상삼각행렬(Upper triangular matrix)\n",
    "    - 주 대각선 아래 부분만 0이 아닌 원소로 구성하면 하삼각행렬(Lower triangular matrix)"
   ]
  },
  {
   "cell_type": "code",
   "execution_count": 221,
   "id": "bf7299ec-ce8f-4e88-a92d-1380e678bb35",
   "metadata": {},
   "outputs": [
    {
     "data": {
      "text/plain": [
       "array([[1, 2, 3],\n",
       "       [4, 5, 6],\n",
       "       [7, 8, 9]])"
      ]
     },
     "execution_count": 221,
     "metadata": {},
     "output_type": "execute_result"
    }
   ],
   "source": [
    "a = np.arange(1, 10).reshape(3, 3)\n",
    "a"
   ]
  },
  {
   "cell_type": "code",
   "execution_count": 223,
   "id": "e88a67e6-5bb8-4254-bcf6-59e4ccc0bc1c",
   "metadata": {},
   "outputs": [
    {
     "data": {
      "text/plain": [
       "array([[1, 0, 0],\n",
       "       [4, 5, 0],\n",
       "       [7, 8, 9]])"
      ]
     },
     "execution_count": 223,
     "metadata": {},
     "output_type": "execute_result"
    }
   ],
   "source": [
    "# np.tril() : 만들어진 행렬을 인자로 전달하면 하삼각행렬을 반환\n",
    "np.tril(a)"
   ]
  },
  {
   "cell_type": "code",
   "execution_count": 225,
   "id": "a07ed097-4cc8-481c-bbfa-bd56ffb7208f",
   "metadata": {},
   "outputs": [
    {
     "data": {
      "text/plain": [
       "array([[0, 0, 0],\n",
       "       [4, 0, 0],\n",
       "       [7, 8, 0]])"
      ]
     },
     "execution_count": 225,
     "metadata": {},
     "output_type": "execute_result"
    }
   ],
   "source": [
    "# np.tril() 의 매개변수 k에 대각선의 위치를 이동하는 것도 가능\n",
    "np.tril(a, k = -1)"
   ]
  },
  {
   "cell_type": "code",
   "execution_count": 227,
   "id": "51a034a4-54a4-4e7b-9d35-9b76ae7c488a",
   "metadata": {},
   "outputs": [
    {
     "data": {
      "text/plain": [
       "array([[1, 2, 3],\n",
       "       [0, 5, 6],\n",
       "       [0, 0, 9]])"
      ]
     },
     "execution_count": 227,
     "metadata": {},
     "output_type": "execute_result"
    }
   ],
   "source": [
    "# np.triu() : 만들어진 행렬을 인자로 전달하면 상삼각행렬을 반환\n",
    "np.triu(a)"
   ]
  },
  {
   "cell_type": "code",
   "execution_count": 229,
   "id": "7e710618-9ab4-4c68-806a-c35c63331662",
   "metadata": {},
   "outputs": [
    {
     "data": {
      "text/plain": [
       "array([[0, 2, 3],\n",
       "       [0, 0, 6],\n",
       "       [0, 0, 0]])"
      ]
     },
     "execution_count": 229,
     "metadata": {},
     "output_type": "execute_result"
    }
   ],
   "source": [
    "np.triu(a, k = 1)"
   ]
  },
  {
   "cell_type": "markdown",
   "id": "d50b0ac9-0060-47b7-81fc-5d9a15da682f",
   "metadata": {
    "jp-MarkdownHeadingCollapsed": true
   },
   "source": [
    "### - 삼각행렬의 전치관계\n",
    "\n",
    "- 삼각행렬의 전치관계는 하삼각행렬은 상삼각행렬로, 상삼각행렬은 하삼각행렬로 변함"
   ]
  },
  {
   "cell_type": "code",
   "execution_count": 232,
   "id": "2ee7bdcf-698c-404b-881e-61bba08ba5c3",
   "metadata": {},
   "outputs": [
    {
     "data": {
      "text/plain": [
       "array([[1, 2, 3],\n",
       "       [0, 5, 6],\n",
       "       [0, 0, 9]])"
      ]
     },
     "execution_count": 232,
     "metadata": {},
     "output_type": "execute_result"
    }
   ],
   "source": [
    "b = np.triu(a)\n",
    "b"
   ]
  },
  {
   "cell_type": "code",
   "execution_count": 234,
   "id": "d0ad88d8-ae39-4f36-8b87-65b9f7cc19cf",
   "metadata": {},
   "outputs": [
    {
     "data": {
      "text/plain": [
       "array([[1, 0, 0],\n",
       "       [2, 5, 0],\n",
       "       [3, 6, 9]])"
      ]
     },
     "execution_count": 234,
     "metadata": {},
     "output_type": "execute_result"
    }
   ],
   "source": [
    "b.T"
   ]
  },
  {
   "cell_type": "code",
   "execution_count": 236,
   "id": "32276559-931d-4897-bb31-8e7dee53d299",
   "metadata": {},
   "outputs": [
    {
     "data": {
      "text/plain": [
       "array([[1, 0, 0],\n",
       "       [4, 5, 0],\n",
       "       [7, 8, 9]])"
      ]
     },
     "execution_count": 236,
     "metadata": {},
     "output_type": "execute_result"
    }
   ],
   "source": [
    "c = np.tril(a)\n",
    "c"
   ]
  },
  {
   "cell_type": "code",
   "execution_count": 238,
   "id": "650680e7-bfe3-4220-8a52-e69ac07d65ca",
   "metadata": {},
   "outputs": [
    {
     "data": {
      "text/plain": [
       "array([[1, 4, 7],\n",
       "       [0, 5, 8],\n",
       "       [0, 0, 9]])"
      ]
     },
     "execution_count": 238,
     "metadata": {},
     "output_type": "execute_result"
    }
   ],
   "source": [
    "c.T"
   ]
  },
  {
   "cell_type": "markdown",
   "id": "866b02f8-44de-4749-a907-16b456cdfbc0",
   "metadata": {},
   "source": [
    "- 상삼각행렬과 하삼각행렬의 동일 인덱스 요소의 곱은 주 대각선만 곱한 결과임"
   ]
  },
  {
   "cell_type": "code",
   "execution_count": 241,
   "id": "45b73fe0-c9b6-4224-ad88-cf1748477e0e",
   "metadata": {},
   "outputs": [
    {
     "data": {
      "text/plain": [
       "array([[ 1,  0,  0],\n",
       "       [ 0, 25,  0],\n",
       "       [ 0,  0, 81]])"
      ]
     },
     "execution_count": 241,
     "metadata": {},
     "output_type": "execute_result"
    }
   ],
   "source": [
    "b * c"
   ]
  },
  {
   "cell_type": "markdown",
   "id": "543af6da-34f3-49dc-a414-43c11c1fc493",
   "metadata": {
    "jp-MarkdownHeadingCollapsed": true
   },
   "source": [
    "## 대칭행렬(symmetric matrix)\n",
    "\n",
    "- 주 대각선을 기준으로 아래의 원소와 위의 원소가 동일한 값을 가진 행렬\n",
    "    - 대칭행렬을 가지고 전치행렬을 만들어도 동일한 형태를 유지함\n",
    "- 따라서 대칭행렬의 원소 간의 관계를 수식으로 표현하면 $(a_{ij}) = (a_{ji})$"
   ]
  },
  {
   "cell_type": "code",
   "execution_count": 244,
   "id": "dccecdfd-91e9-4f1b-a255-4becf110e47f",
   "metadata": {},
   "outputs": [
    {
     "data": {
      "text/plain": [
       "array([[1, 2, 3],\n",
       "       [2, 3, 5],\n",
       "       [3, 5, 6]])"
      ]
     },
     "execution_count": 244,
     "metadata": {},
     "output_type": "execute_result"
    }
   ],
   "source": [
    "# 대칭행렬\n",
    "x = np.array([[1, 2, 3],\n",
    "              [2, 3, 5],\n",
    "              [3, 5, 6]])\n",
    "x"
   ]
  },
  {
   "cell_type": "code",
   "execution_count": 246,
   "id": "a9de718c-7803-419c-8367-7702e7fde8db",
   "metadata": {},
   "outputs": [
    {
     "data": {
      "text/plain": [
       "array([[1, 2, 3],\n",
       "       [2, 3, 5],\n",
       "       [3, 5, 6]])"
      ]
     },
     "execution_count": 246,
     "metadata": {},
     "output_type": "execute_result"
    }
   ],
   "source": [
    "# 대칭행렬의 전치행렬을 확인해도 동일함\n",
    "x.T"
   ]
  },
  {
   "cell_type": "markdown",
   "id": "b28c06f0-0d33-45dd-a325-2ccd884238a4",
   "metadata": {},
   "source": [
    "- 대칭행렬과 해당 행렬의 전치행렬을 더하면 원소들의 값이 두 배로 변하지만 항상 대칭행렬임\n",
    "- @ 연산을 해도 대칭행렬"
   ]
  },
  {
   "cell_type": "code",
   "execution_count": 249,
   "id": "ad8b0fe0-769c-448e-84ce-a871441a5d65",
   "metadata": {},
   "outputs": [
    {
     "data": {
      "text/plain": [
       "array([[ 2,  4,  6],\n",
       "       [ 4,  6, 10],\n",
       "       [ 6, 10, 12]])"
      ]
     },
     "execution_count": 249,
     "metadata": {},
     "output_type": "execute_result"
    }
   ],
   "source": [
    "x + x.T"
   ]
  },
  {
   "cell_type": "code",
   "execution_count": 251,
   "id": "63e7d01e-a04e-419a-b246-e95a95d79288",
   "metadata": {},
   "outputs": [
    {
     "data": {
      "text/plain": [
       "array([[14, 23, 31],\n",
       "       [23, 38, 51],\n",
       "       [31, 51, 70]])"
      ]
     },
     "execution_count": 251,
     "metadata": {},
     "output_type": "execute_result"
    }
   ],
   "source": [
    "x @ x.T"
   ]
  },
  {
   "cell_type": "markdown",
   "id": "939969e6-86f1-4b5f-9627-8d92d28ed85d",
   "metadata": {
    "jp-MarkdownHeadingCollapsed": true
   },
   "source": [
    "### - 반 대칭행렬(Skew Symmetric Matrix)\n",
    "\n",
    "- 주대각 성분을 기준으로 값은 같지만 부호가 반대의 원소를 가진 행렬\n",
    "- 이 행렬과 전치행렬 간의 덧셈을 하면 전체 값이 0이 나옴\n",
    "    - 원소들이 대칭이지만 부호가 반대이므로 동일한 값을 빼는 것과 같음"
   ]
  },
  {
   "cell_type": "code",
   "execution_count": 254,
   "id": "79d5aaa7-373a-4a3f-a9b5-9316dbc911c9",
   "metadata": {},
   "outputs": [
    {
     "data": {
      "text/plain": [
       "array([[ 0,  2, -3],\n",
       "       [-2,  0,  5],\n",
       "       [ 3, -5,  0]])"
      ]
     },
     "execution_count": 254,
     "metadata": {},
     "output_type": "execute_result"
    }
   ],
   "source": [
    "y = np.array([[0, 2, -3],\n",
    "              [-2, 0, 5],\n",
    "              [3, -5, 0]])\n",
    "y"
   ]
  },
  {
   "cell_type": "code",
   "execution_count": 256,
   "id": "683cc716-2f1c-462b-b0fb-29f369d2e6b3",
   "metadata": {},
   "outputs": [
    {
     "data": {
      "text/plain": [
       "array([[0, 0, 0],\n",
       "       [0, 0, 0],\n",
       "       [0, 0, 0]])"
      ]
     },
     "execution_count": 256,
     "metadata": {},
     "output_type": "execute_result"
    }
   ],
   "source": [
    "y + y.T"
   ]
  },
  {
   "cell_type": "code",
   "execution_count": 258,
   "id": "eca03df3-fd6c-42c7-b815-3ab1fc8594a6",
   "metadata": {},
   "outputs": [
    {
     "data": {
      "text/plain": [
       "array([[ True,  True,  True],\n",
       "       [ True,  True,  True],\n",
       "       [ True,  True,  True]])"
      ]
     },
     "execution_count": 258,
     "metadata": {},
     "output_type": "execute_result"
    }
   ],
   "source": [
    "# 전치행렬과 원 행렬에 부호를 변경하면 모든 원소는 동일한 값임\n",
    "y.T == -y"
   ]
  },
  {
   "cell_type": "code",
   "execution_count": 260,
   "id": "9db092d3-d136-4ee8-97f5-f92291fa95b6",
   "metadata": {},
   "outputs": [
    {
     "data": {
      "text/plain": [
       "array([[  0,   4,  -6],\n",
       "       [ -4,   0,  10],\n",
       "       [  6, -10,   0]])"
      ]
     },
     "execution_count": 260,
     "metadata": {},
     "output_type": "execute_result"
    }
   ],
   "source": [
    "# 반 대칭행렬과 이 행렬의 전치행렬 간의 뺄셈을 계산하면 반 대칭행렬을 그대로 유지함\n",
    "y - y.T"
   ]
  },
  {
   "cell_type": "code",
   "execution_count": 262,
   "id": "1d59b524-47bb-4016-b599-3d363bb38af3",
   "metadata": {},
   "outputs": [
    {
     "data": {
      "text/plain": [
       "array([[ 13, -15, -10],\n",
       "       [-15,  29,  -6],\n",
       "       [-10,  -6,  34]])"
      ]
     },
     "execution_count": 262,
     "metadata": {},
     "output_type": "execute_result"
    }
   ],
   "source": [
    "# 반 대칭행렬과 이 행렬의 전치행렬을 행렬곱 연산으로 계산하면 대칭행렬로 변경됨\n",
    "y @ y.T"
   ]
  },
  {
   "cell_type": "code",
   "execution_count": null,
   "id": "8b4af213-da47-4af7-8636-79f47a7fd526",
   "metadata": {},
   "outputs": [],
   "source": []
  }
 ],
 "metadata": {
  "kernelspec": {
   "display_name": "Python [conda env:base] *",
   "language": "python",
   "name": "conda-base-py"
  },
  "language_info": {
   "codemirror_mode": {
    "name": "ipython",
    "version": 3
   },
   "file_extension": ".py",
   "mimetype": "text/x-python",
   "name": "python",
   "nbconvert_exporter": "python",
   "pygments_lexer": "ipython3",
   "version": "3.12.7"
  }
 },
 "nbformat": 4,
 "nbformat_minor": 5
}
