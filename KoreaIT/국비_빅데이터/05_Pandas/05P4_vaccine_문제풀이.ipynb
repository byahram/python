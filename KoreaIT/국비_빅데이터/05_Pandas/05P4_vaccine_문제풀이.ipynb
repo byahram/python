{
 "cells": [
  {
   "cell_type": "code",
   "execution_count": 1,
   "id": "81019bb0-1280-40a7-ab94-bf928f1337c9",
   "metadata": {},
   "outputs": [],
   "source": [
    "import pandas as pd"
   ]
  },
  {
   "cell_type": "markdown",
   "id": "6d53d8e7-9fcc-4f81-869c-d6de93d286ec",
   "metadata": {},
   "source": [
    "# 문제1. vaccine.csv 데이터를 데이터프레임으로 읽기"
   ]
  },
  {
   "cell_type": "code",
   "execution_count": 4,
   "id": "ec25a6de-9422-47f8-a5b2-d3d7d6e6d31b",
   "metadata": {},
   "outputs": [],
   "source": [
    "df = pd.read_csv(\"./data/vaccine.csv\")"
   ]
  },
  {
   "cell_type": "code",
   "execution_count": 6,
   "id": "4566dec2-3b2c-4a05-88f9-0ccfa7054176",
   "metadata": {},
   "outputs": [
    {
     "data": {
      "text/html": [
       "<div>\n",
       "<style scoped>\n",
       "    .dataframe tbody tr th:only-of-type {\n",
       "        vertical-align: middle;\n",
       "    }\n",
       "\n",
       "    .dataframe tbody tr th {\n",
       "        vertical-align: top;\n",
       "    }\n",
       "\n",
       "    .dataframe thead th {\n",
       "        text-align: right;\n",
       "    }\n",
       "</style>\n",
       "<table border=\"1\" class=\"dataframe\">\n",
       "  <thead>\n",
       "    <tr style=\"text-align: right;\">\n",
       "      <th></th>\n",
       "      <th>date</th>\n",
       "      <th>subject</th>\n",
       "      <th>day1num</th>\n",
       "      <th>day1sum</th>\n",
       "      <th>day1rate</th>\n",
       "      <th>day2num</th>\n",
       "      <th>day2sum</th>\n",
       "      <th>day2rate</th>\n",
       "    </tr>\n",
       "  </thead>\n",
       "  <tbody>\n",
       "    <tr>\n",
       "      <th>0</th>\n",
       "      <td>2021.10.16</td>\n",
       "      <td>9505868</td>\n",
       "      <td>10673</td>\n",
       "      <td>7562283</td>\n",
       "      <td>79.6</td>\n",
       "      <td>66910</td>\n",
       "      <td>6191341</td>\n",
       "      <td>65.1</td>\n",
       "    </tr>\n",
       "    <tr>\n",
       "      <th>1</th>\n",
       "      <td>2021.10.15</td>\n",
       "      <td>9505868</td>\n",
       "      <td>14556</td>\n",
       "      <td>7551829</td>\n",
       "      <td>79.4</td>\n",
       "      <td>133580</td>\n",
       "      <td>6124432</td>\n",
       "      <td>64.4</td>\n",
       "    </tr>\n",
       "    <tr>\n",
       "      <th>2</th>\n",
       "      <td>2021.10.14</td>\n",
       "      <td>9505868</td>\n",
       "      <td>9609</td>\n",
       "      <td>7536654</td>\n",
       "      <td>79.3</td>\n",
       "      <td>94569</td>\n",
       "      <td>5989111</td>\n",
       "      <td>63.0</td>\n",
       "    </tr>\n",
       "    <tr>\n",
       "      <th>3</th>\n",
       "      <td>2021.10.13</td>\n",
       "      <td>9505868</td>\n",
       "      <td>9804</td>\n",
       "      <td>7526430</td>\n",
       "      <td>79.2</td>\n",
       "      <td>77503</td>\n",
       "      <td>5893191</td>\n",
       "      <td>62.0</td>\n",
       "    </tr>\n",
       "    <tr>\n",
       "      <th>4</th>\n",
       "      <td>2021.10.12</td>\n",
       "      <td>9505868</td>\n",
       "      <td>17274</td>\n",
       "      <td>7516070</td>\n",
       "      <td>79.1</td>\n",
       "      <td>110204</td>\n",
       "      <td>5814018</td>\n",
       "      <td>61.2</td>\n",
       "    </tr>\n",
       "  </tbody>\n",
       "</table>\n",
       "</div>"
      ],
      "text/plain": [
       "         date  subject  day1num  day1sum  day1rate  day2num  day2sum  day2rate\n",
       "0  2021.10.16  9505868    10673  7562283      79.6    66910  6191341      65.1\n",
       "1  2021.10.15  9505868    14556  7551829      79.4   133580  6124432      64.4\n",
       "2  2021.10.14  9505868     9609  7536654      79.3    94569  5989111      63.0\n",
       "3  2021.10.13  9505868     9804  7526430      79.2    77503  5893191      62.0\n",
       "4  2021.10.12  9505868    17274  7516070      79.1   110204  5814018      61.2"
      ]
     },
     "execution_count": 6,
     "metadata": {},
     "output_type": "execute_result"
    }
   ],
   "source": [
    "df.head()"
   ]
  },
  {
   "cell_type": "markdown",
   "id": "f121b663-4787-4fed-be35-f3388578de6a",
   "metadata": {},
   "source": [
    "# 문제2. 데이터프레임에서 필요 없는 열을 삭제하기\n",
    "\n",
    "- 삭제할 열 : day1sum, day1rate, day2sum, day2rate"
   ]
  },
  {
   "cell_type": "code",
   "execution_count": 9,
   "id": "fdde3e14-c64c-42af-83f6-72fb1cd84191",
   "metadata": {},
   "outputs": [],
   "source": [
    "df = df.drop([\"day1sum\", \"day1rate\", \"day2sum\", \"day2rate\"], axis = 1)"
   ]
  },
  {
   "cell_type": "code",
   "execution_count": 11,
   "id": "9a8e4949-ab4f-4a6b-bb00-7b2cd7077588",
   "metadata": {},
   "outputs": [
    {
     "data": {
      "text/html": [
       "<div>\n",
       "<style scoped>\n",
       "    .dataframe tbody tr th:only-of-type {\n",
       "        vertical-align: middle;\n",
       "    }\n",
       "\n",
       "    .dataframe tbody tr th {\n",
       "        vertical-align: top;\n",
       "    }\n",
       "\n",
       "    .dataframe thead th {\n",
       "        text-align: right;\n",
       "    }\n",
       "</style>\n",
       "<table border=\"1\" class=\"dataframe\">\n",
       "  <thead>\n",
       "    <tr style=\"text-align: right;\">\n",
       "      <th></th>\n",
       "      <th>date</th>\n",
       "      <th>subject</th>\n",
       "      <th>day1num</th>\n",
       "      <th>day2num</th>\n",
       "    </tr>\n",
       "  </thead>\n",
       "  <tbody>\n",
       "    <tr>\n",
       "      <th>0</th>\n",
       "      <td>2021.10.16</td>\n",
       "      <td>9505868</td>\n",
       "      <td>10673</td>\n",
       "      <td>66910</td>\n",
       "    </tr>\n",
       "    <tr>\n",
       "      <th>1</th>\n",
       "      <td>2021.10.15</td>\n",
       "      <td>9505868</td>\n",
       "      <td>14556</td>\n",
       "      <td>133580</td>\n",
       "    </tr>\n",
       "    <tr>\n",
       "      <th>2</th>\n",
       "      <td>2021.10.14</td>\n",
       "      <td>9505868</td>\n",
       "      <td>9609</td>\n",
       "      <td>94569</td>\n",
       "    </tr>\n",
       "    <tr>\n",
       "      <th>3</th>\n",
       "      <td>2021.10.13</td>\n",
       "      <td>9505868</td>\n",
       "      <td>9804</td>\n",
       "      <td>77503</td>\n",
       "    </tr>\n",
       "    <tr>\n",
       "      <th>4</th>\n",
       "      <td>2021.10.12</td>\n",
       "      <td>9505868</td>\n",
       "      <td>17274</td>\n",
       "      <td>110204</td>\n",
       "    </tr>\n",
       "  </tbody>\n",
       "</table>\n",
       "</div>"
      ],
      "text/plain": [
       "         date  subject  day1num  day2num\n",
       "0  2021.10.16  9505868    10673    66910\n",
       "1  2021.10.15  9505868    14556   133580\n",
       "2  2021.10.14  9505868     9609    94569\n",
       "3  2021.10.13  9505868     9804    77503\n",
       "4  2021.10.12  9505868    17274   110204"
      ]
     },
     "execution_count": 11,
     "metadata": {},
     "output_type": "execute_result"
    }
   ],
   "source": [
    "df.head()"
   ]
  },
  {
   "cell_type": "markdown",
   "id": "938f080d-b989-4e25-8439-9a51ebbce4bb",
   "metadata": {},
   "source": [
    "# 문제3. 데이터프레임의 기초통계량을 확인하기"
   ]
  },
  {
   "cell_type": "code",
   "execution_count": 14,
   "id": "b70beab9-cd5c-4d89-b574-af8a59abe98e",
   "metadata": {},
   "outputs": [
    {
     "data": {
      "text/html": [
       "<div>\n",
       "<style scoped>\n",
       "    .dataframe tbody tr th:only-of-type {\n",
       "        vertical-align: middle;\n",
       "    }\n",
       "\n",
       "    .dataframe tbody tr th {\n",
       "        vertical-align: top;\n",
       "    }\n",
       "\n",
       "    .dataframe thead th {\n",
       "        text-align: right;\n",
       "    }\n",
       "</style>\n",
       "<table border=\"1\" class=\"dataframe\">\n",
       "  <thead>\n",
       "    <tr style=\"text-align: right;\">\n",
       "      <th></th>\n",
       "      <th>subject</th>\n",
       "      <th>day1num</th>\n",
       "      <th>day2num</th>\n",
       "    </tr>\n",
       "  </thead>\n",
       "  <tbody>\n",
       "    <tr>\n",
       "      <th>count</th>\n",
       "      <td>1.790000e+02</td>\n",
       "      <td>179.000000</td>\n",
       "      <td>179.000000</td>\n",
       "    </tr>\n",
       "    <tr>\n",
       "      <th>mean</th>\n",
       "      <td>5.086644e+06</td>\n",
       "      <td>40078.150838</td>\n",
       "      <td>34096.636872</td>\n",
       "    </tr>\n",
       "    <tr>\n",
       "      <th>std</th>\n",
       "      <td>3.324235e+06</td>\n",
       "      <td>44231.469656</td>\n",
       "      <td>40745.688278</td>\n",
       "    </tr>\n",
       "    <tr>\n",
       "      <th>min</th>\n",
       "      <td>1.019322e+06</td>\n",
       "      <td>0.000000</td>\n",
       "      <td>0.000000</td>\n",
       "    </tr>\n",
       "    <tr>\n",
       "      <th>25%</th>\n",
       "      <td>2.279241e+06</td>\n",
       "      <td>4385.000000</td>\n",
       "      <td>4794.500000</td>\n",
       "    </tr>\n",
       "    <tr>\n",
       "      <th>50%</th>\n",
       "      <td>3.943320e+06</td>\n",
       "      <td>23323.000000</td>\n",
       "      <td>16581.000000</td>\n",
       "    </tr>\n",
       "    <tr>\n",
       "      <th>75%</th>\n",
       "      <td>9.505868e+06</td>\n",
       "      <td>71634.500000</td>\n",
       "      <td>50950.000000</td>\n",
       "    </tr>\n",
       "    <tr>\n",
       "      <th>max</th>\n",
       "      <td>9.795426e+06</td>\n",
       "      <td>169036.000000</td>\n",
       "      <td>200186.000000</td>\n",
       "    </tr>\n",
       "  </tbody>\n",
       "</table>\n",
       "</div>"
      ],
      "text/plain": [
       "            subject        day1num        day2num\n",
       "count  1.790000e+02     179.000000     179.000000\n",
       "mean   5.086644e+06   40078.150838   34096.636872\n",
       "std    3.324235e+06   44231.469656   40745.688278\n",
       "min    1.019322e+06       0.000000       0.000000\n",
       "25%    2.279241e+06    4385.000000    4794.500000\n",
       "50%    3.943320e+06   23323.000000   16581.000000\n",
       "75%    9.505868e+06   71634.500000   50950.000000\n",
       "max    9.795426e+06  169036.000000  200186.000000"
      ]
     },
     "execution_count": 14,
     "metadata": {},
     "output_type": "execute_result"
    }
   ],
   "source": [
    "df.describe()"
   ]
  },
  {
   "cell_type": "markdown",
   "id": "91867a62-583d-4749-a582-a702ede0256c",
   "metadata": {},
   "source": [
    "# 문제4. day1num과 day2num의 월별 평균을 출력하기"
   ]
  },
  {
   "cell_type": "code",
   "execution_count": 17,
   "id": "caa8709f-25e7-43e5-8f25-83a133cec0e8",
   "metadata": {},
   "outputs": [
    {
     "data": {
      "text/html": [
       "<div>\n",
       "<style scoped>\n",
       "    .dataframe tbody tr th:only-of-type {\n",
       "        vertical-align: middle;\n",
       "    }\n",
       "\n",
       "    .dataframe tbody tr th {\n",
       "        vertical-align: top;\n",
       "    }\n",
       "\n",
       "    .dataframe thead th {\n",
       "        text-align: right;\n",
       "    }\n",
       "</style>\n",
       "<table border=\"1\" class=\"dataframe\">\n",
       "  <thead>\n",
       "    <tr style=\"text-align: right;\">\n",
       "      <th></th>\n",
       "      <th>date</th>\n",
       "      <th>subject</th>\n",
       "      <th>day1num</th>\n",
       "      <th>day2num</th>\n",
       "    </tr>\n",
       "  </thead>\n",
       "  <tbody>\n",
       "    <tr>\n",
       "      <th>0</th>\n",
       "      <td>2021.10.16</td>\n",
       "      <td>9505868</td>\n",
       "      <td>10673</td>\n",
       "      <td>66910</td>\n",
       "    </tr>\n",
       "    <tr>\n",
       "      <th>1</th>\n",
       "      <td>2021.10.15</td>\n",
       "      <td>9505868</td>\n",
       "      <td>14556</td>\n",
       "      <td>133580</td>\n",
       "    </tr>\n",
       "    <tr>\n",
       "      <th>2</th>\n",
       "      <td>2021.10.14</td>\n",
       "      <td>9505868</td>\n",
       "      <td>9609</td>\n",
       "      <td>94569</td>\n",
       "    </tr>\n",
       "    <tr>\n",
       "      <th>3</th>\n",
       "      <td>2021.10.13</td>\n",
       "      <td>9505868</td>\n",
       "      <td>9804</td>\n",
       "      <td>77503</td>\n",
       "    </tr>\n",
       "    <tr>\n",
       "      <th>4</th>\n",
       "      <td>2021.10.12</td>\n",
       "      <td>9505868</td>\n",
       "      <td>17274</td>\n",
       "      <td>110204</td>\n",
       "    </tr>\n",
       "  </tbody>\n",
       "</table>\n",
       "</div>"
      ],
      "text/plain": [
       "         date  subject  day1num  day2num\n",
       "0  2021.10.16  9505868    10673    66910\n",
       "1  2021.10.15  9505868    14556   133580\n",
       "2  2021.10.14  9505868     9609    94569\n",
       "3  2021.10.13  9505868     9804    77503\n",
       "4  2021.10.12  9505868    17274   110204"
      ]
     },
     "execution_count": 17,
     "metadata": {},
     "output_type": "execute_result"
    }
   ],
   "source": [
    "df.head()"
   ]
  },
  {
   "cell_type": "code",
   "execution_count": 19,
   "id": "3f320b83-400c-48c0-9edf-9af13ba28450",
   "metadata": {},
   "outputs": [
    {
     "data": {
      "text/html": [
       "<div>\n",
       "<style scoped>\n",
       "    .dataframe tbody tr th:only-of-type {\n",
       "        vertical-align: middle;\n",
       "    }\n",
       "\n",
       "    .dataframe tbody tr th {\n",
       "        vertical-align: top;\n",
       "    }\n",
       "\n",
       "    .dataframe thead th {\n",
       "        text-align: right;\n",
       "    }\n",
       "</style>\n",
       "<table border=\"1\" class=\"dataframe\">\n",
       "  <thead>\n",
       "    <tr style=\"text-align: right;\">\n",
       "      <th></th>\n",
       "      <th>date</th>\n",
       "      <th>subject</th>\n",
       "      <th>day1num</th>\n",
       "      <th>day2num</th>\n",
       "    </tr>\n",
       "  </thead>\n",
       "  <tbody>\n",
       "    <tr>\n",
       "      <th>174</th>\n",
       "      <td>2021.04.25</td>\n",
       "      <td>1023346</td>\n",
       "      <td>23323</td>\n",
       "      <td>3411</td>\n",
       "    </tr>\n",
       "    <tr>\n",
       "      <th>175</th>\n",
       "      <td>2021.04.24</td>\n",
       "      <td>1023346</td>\n",
       "      <td>200</td>\n",
       "      <td>0</td>\n",
       "    </tr>\n",
       "    <tr>\n",
       "      <th>176</th>\n",
       "      <td>2021.04.23</td>\n",
       "      <td>1027740</td>\n",
       "      <td>10195</td>\n",
       "      <td>119</td>\n",
       "    </tr>\n",
       "    <tr>\n",
       "      <th>177</th>\n",
       "      <td>2021.04.22</td>\n",
       "      <td>1023538</td>\n",
       "      <td>27074</td>\n",
       "      <td>2479</td>\n",
       "    </tr>\n",
       "    <tr>\n",
       "      <th>178</th>\n",
       "      <td>2021.04.21</td>\n",
       "      <td>1019322</td>\n",
       "      <td>22501</td>\n",
       "      <td>2358</td>\n",
       "    </tr>\n",
       "  </tbody>\n",
       "</table>\n",
       "</div>"
      ],
      "text/plain": [
       "           date  subject  day1num  day2num\n",
       "174  2021.04.25  1023346    23323     3411\n",
       "175  2021.04.24  1023346      200        0\n",
       "176  2021.04.23  1027740    10195      119\n",
       "177  2021.04.22  1023538    27074     2479\n",
       "178  2021.04.21  1019322    22501     2358"
      ]
     },
     "execution_count": 19,
     "metadata": {},
     "output_type": "execute_result"
    }
   ],
   "source": [
    "df.tail()"
   ]
  },
  {
   "cell_type": "code",
   "execution_count": 21,
   "id": "64fcd9ed-dfe4-47a1-9b1c-234a3d92c19f",
   "metadata": {},
   "outputs": [
    {
     "data": {
      "text/plain": [
       "date       object\n",
       "subject     int64\n",
       "day1num     int64\n",
       "day2num     int64\n",
       "dtype: object"
      ]
     },
     "execution_count": 21,
     "metadata": {},
     "output_type": "execute_result"
    }
   ],
   "source": [
    "df.dtypes"
   ]
  },
  {
   "cell_type": "code",
   "execution_count": 25,
   "id": "68930ae3-f82c-4c8e-ac2e-4d180d2ff2cc",
   "metadata": {},
   "outputs": [
    {
     "data": {
      "text/plain": [
       "0      10\n",
       "1      10\n",
       "2      10\n",
       "3      10\n",
       "4      10\n",
       "       ..\n",
       "174    04\n",
       "175    04\n",
       "176    04\n",
       "177    04\n",
       "178    04\n",
       "Name: date, Length: 179, dtype: object"
      ]
     },
     "execution_count": 25,
     "metadata": {},
     "output_type": "execute_result"
    }
   ],
   "source": [
    "df[\"date\"].str[5:7]"
   ]
  },
  {
   "cell_type": "code",
   "execution_count": 27,
   "id": "2b10dd61-f25f-479b-bb06-128cc4a2601a",
   "metadata": {},
   "outputs": [
    {
     "data": {
      "text/plain": [
       "0      10\n",
       "1      10\n",
       "2      10\n",
       "3      10\n",
       "4      10\n",
       "       ..\n",
       "174    04\n",
       "175    04\n",
       "176    04\n",
       "177    04\n",
       "178    04\n",
       "Name: date, Length: 179, dtype: object"
      ]
     },
     "execution_count": 27,
     "metadata": {},
     "output_type": "execute_result"
    }
   ],
   "source": [
    "df[\"date\"].str.split(\".\").str.get(1)"
   ]
  },
  {
   "cell_type": "code",
   "execution_count": 29,
   "id": "6d707935-83ab-4a57-9b13-3f9a5f3722b4",
   "metadata": {},
   "outputs": [
    {
     "data": {
      "text/plain": [
       "0      10\n",
       "1      10\n",
       "2      10\n",
       "3      10\n",
       "4      10\n",
       "       ..\n",
       "174    04\n",
       "175    04\n",
       "176    04\n",
       "177    04\n",
       "178    04\n",
       "Name: date, Length: 179, dtype: object"
      ]
     },
     "execution_count": 29,
     "metadata": {},
     "output_type": "execute_result"
    }
   ],
   "source": [
    "df[\"date\"].map(lambda x: x[5:7])"
   ]
  },
  {
   "cell_type": "code",
   "execution_count": 31,
   "id": "86091e2a-f051-493c-8871-a3f8063d2500",
   "metadata": {},
   "outputs": [],
   "source": [
    "df[\"date\"] = pd.to_datetime(df[\"date\"], format = \"%Y.%m.%d\")"
   ]
  },
  {
   "cell_type": "code",
   "execution_count": 33,
   "id": "ded7509c-724b-46d3-a8d6-f3aabf81ac52",
   "metadata": {},
   "outputs": [
    {
     "data": {
      "text/plain": [
       "date       datetime64[ns]\n",
       "subject             int64\n",
       "day1num             int64\n",
       "day2num             int64\n",
       "dtype: object"
      ]
     },
     "execution_count": 33,
     "metadata": {},
     "output_type": "execute_result"
    }
   ],
   "source": [
    "df.dtypes"
   ]
  },
  {
   "cell_type": "code",
   "execution_count": 35,
   "id": "bb711866-a58a-492d-bedf-ffc73be7ae08",
   "metadata": {},
   "outputs": [
    {
     "data": {
      "text/plain": [
       "0      10\n",
       "1      10\n",
       "2      10\n",
       "3      10\n",
       "4      10\n",
       "       ..\n",
       "174     4\n",
       "175     4\n",
       "176     4\n",
       "177     4\n",
       "178     4\n",
       "Name: date, Length: 179, dtype: int32"
      ]
     },
     "execution_count": 35,
     "metadata": {},
     "output_type": "execute_result"
    }
   ],
   "source": [
    "df[\"date\"].dt.month"
   ]
  },
  {
   "cell_type": "code",
   "execution_count": 37,
   "id": "07bd3913-b325-4f26-8189-92c0b754b8ca",
   "metadata": {},
   "outputs": [],
   "source": [
    "df[\"month\"] = df[\"date\"].map(lambda x: x.month)"
   ]
  },
  {
   "cell_type": "code",
   "execution_count": 39,
   "id": "c18b4ff7-6dd3-4534-b4bd-815ac5dc046e",
   "metadata": {},
   "outputs": [
    {
     "data": {
      "text/html": [
       "<div>\n",
       "<style scoped>\n",
       "    .dataframe tbody tr th:only-of-type {\n",
       "        vertical-align: middle;\n",
       "    }\n",
       "\n",
       "    .dataframe tbody tr th {\n",
       "        vertical-align: top;\n",
       "    }\n",
       "\n",
       "    .dataframe thead th {\n",
       "        text-align: right;\n",
       "    }\n",
       "</style>\n",
       "<table border=\"1\" class=\"dataframe\">\n",
       "  <thead>\n",
       "    <tr style=\"text-align: right;\">\n",
       "      <th></th>\n",
       "      <th>date</th>\n",
       "      <th>subject</th>\n",
       "      <th>day1num</th>\n",
       "      <th>day2num</th>\n",
       "      <th>month</th>\n",
       "    </tr>\n",
       "  </thead>\n",
       "  <tbody>\n",
       "    <tr>\n",
       "      <th>0</th>\n",
       "      <td>2021-10-16</td>\n",
       "      <td>9505868</td>\n",
       "      <td>10673</td>\n",
       "      <td>66910</td>\n",
       "      <td>10</td>\n",
       "    </tr>\n",
       "    <tr>\n",
       "      <th>1</th>\n",
       "      <td>2021-10-15</td>\n",
       "      <td>9505868</td>\n",
       "      <td>14556</td>\n",
       "      <td>133580</td>\n",
       "      <td>10</td>\n",
       "    </tr>\n",
       "    <tr>\n",
       "      <th>2</th>\n",
       "      <td>2021-10-14</td>\n",
       "      <td>9505868</td>\n",
       "      <td>9609</td>\n",
       "      <td>94569</td>\n",
       "      <td>10</td>\n",
       "    </tr>\n",
       "    <tr>\n",
       "      <th>3</th>\n",
       "      <td>2021-10-13</td>\n",
       "      <td>9505868</td>\n",
       "      <td>9804</td>\n",
       "      <td>77503</td>\n",
       "      <td>10</td>\n",
       "    </tr>\n",
       "    <tr>\n",
       "      <th>4</th>\n",
       "      <td>2021-10-12</td>\n",
       "      <td>9505868</td>\n",
       "      <td>17274</td>\n",
       "      <td>110204</td>\n",
       "      <td>10</td>\n",
       "    </tr>\n",
       "  </tbody>\n",
       "</table>\n",
       "</div>"
      ],
      "text/plain": [
       "        date  subject  day1num  day2num  month\n",
       "0 2021-10-16  9505868    10673    66910     10\n",
       "1 2021-10-15  9505868    14556   133580     10\n",
       "2 2021-10-14  9505868     9609    94569     10\n",
       "3 2021-10-13  9505868     9804    77503     10\n",
       "4 2021-10-12  9505868    17274   110204     10"
      ]
     },
     "execution_count": 39,
     "metadata": {},
     "output_type": "execute_result"
    }
   ],
   "source": [
    "df.head()"
   ]
  },
  {
   "cell_type": "code",
   "execution_count": 41,
   "id": "7ea91ca2-b5cd-4700-a6b0-c442e75a075e",
   "metadata": {},
   "outputs": [
    {
     "data": {
      "text/html": [
       "<div>\n",
       "<style scoped>\n",
       "    .dataframe tbody tr th:only-of-type {\n",
       "        vertical-align: middle;\n",
       "    }\n",
       "\n",
       "    .dataframe tbody tr th {\n",
       "        vertical-align: top;\n",
       "    }\n",
       "\n",
       "    .dataframe thead th {\n",
       "        text-align: right;\n",
       "    }\n",
       "</style>\n",
       "<table border=\"1\" class=\"dataframe\">\n",
       "  <thead>\n",
       "    <tr style=\"text-align: right;\">\n",
       "      <th></th>\n",
       "      <th>day1num</th>\n",
       "      <th>day2num</th>\n",
       "    </tr>\n",
       "    <tr>\n",
       "      <th>month</th>\n",
       "      <th></th>\n",
       "      <th></th>\n",
       "    </tr>\n",
       "  </thead>\n",
       "  <tbody>\n",
       "    <tr>\n",
       "      <th>4</th>\n",
       "      <td>22060.100000</td>\n",
       "      <td>2304.600000</td>\n",
       "    </tr>\n",
       "    <tr>\n",
       "      <th>5</th>\n",
       "      <td>18225.548387</td>\n",
       "      <td>9734.000000</td>\n",
       "    </tr>\n",
       "    <tr>\n",
       "      <th>6</th>\n",
       "      <td>55957.200000</td>\n",
       "      <td>20147.300000</td>\n",
       "    </tr>\n",
       "    <tr>\n",
       "      <th>7</th>\n",
       "      <td>25807.870968</td>\n",
       "      <td>9934.903226</td>\n",
       "    </tr>\n",
       "    <tr>\n",
       "      <th>8</th>\n",
       "      <td>57667.258065</td>\n",
       "      <td>55575.000000</td>\n",
       "    </tr>\n",
       "    <tr>\n",
       "      <th>9</th>\n",
       "      <td>65715.000000</td>\n",
       "      <td>62162.000000</td>\n",
       "    </tr>\n",
       "    <tr>\n",
       "      <th>10</th>\n",
       "      <td>9406.312500</td>\n",
       "      <td>79900.750000</td>\n",
       "    </tr>\n",
       "  </tbody>\n",
       "</table>\n",
       "</div>"
      ],
      "text/plain": [
       "            day1num       day2num\n",
       "month                            \n",
       "4      22060.100000   2304.600000\n",
       "5      18225.548387   9734.000000\n",
       "6      55957.200000  20147.300000\n",
       "7      25807.870968   9934.903226\n",
       "8      57667.258065  55575.000000\n",
       "9      65715.000000  62162.000000\n",
       "10      9406.312500  79900.750000"
      ]
     },
     "execution_count": 41,
     "metadata": {},
     "output_type": "execute_result"
    }
   ],
   "source": [
    "df.groupby(\"month\")[[\"day1num\", \"day2num\"]].mean()"
   ]
  },
  {
   "cell_type": "code",
   "execution_count": 43,
   "id": "c0d2f6ed-e69d-4742-82dc-27ee74e9ee38",
   "metadata": {},
   "outputs": [
    {
     "data": {
      "text/html": [
       "<div>\n",
       "<style scoped>\n",
       "    .dataframe tbody tr th:only-of-type {\n",
       "        vertical-align: middle;\n",
       "    }\n",
       "\n",
       "    .dataframe tbody tr th {\n",
       "        vertical-align: top;\n",
       "    }\n",
       "\n",
       "    .dataframe thead th {\n",
       "        text-align: right;\n",
       "    }\n",
       "</style>\n",
       "<table border=\"1\" class=\"dataframe\">\n",
       "  <thead>\n",
       "    <tr style=\"text-align: right;\">\n",
       "      <th></th>\n",
       "      <th>day1num</th>\n",
       "      <th>day2num</th>\n",
       "    </tr>\n",
       "    <tr>\n",
       "      <th>date</th>\n",
       "      <th></th>\n",
       "      <th></th>\n",
       "    </tr>\n",
       "  </thead>\n",
       "  <tbody>\n",
       "    <tr>\n",
       "      <th>4</th>\n",
       "      <td>22060.100000</td>\n",
       "      <td>2304.600000</td>\n",
       "    </tr>\n",
       "    <tr>\n",
       "      <th>5</th>\n",
       "      <td>18225.548387</td>\n",
       "      <td>9734.000000</td>\n",
       "    </tr>\n",
       "    <tr>\n",
       "      <th>6</th>\n",
       "      <td>55957.200000</td>\n",
       "      <td>20147.300000</td>\n",
       "    </tr>\n",
       "    <tr>\n",
       "      <th>7</th>\n",
       "      <td>25807.870968</td>\n",
       "      <td>9934.903226</td>\n",
       "    </tr>\n",
       "    <tr>\n",
       "      <th>8</th>\n",
       "      <td>57667.258065</td>\n",
       "      <td>55575.000000</td>\n",
       "    </tr>\n",
       "    <tr>\n",
       "      <th>9</th>\n",
       "      <td>65715.000000</td>\n",
       "      <td>62162.000000</td>\n",
       "    </tr>\n",
       "    <tr>\n",
       "      <th>10</th>\n",
       "      <td>9406.312500</td>\n",
       "      <td>79900.750000</td>\n",
       "    </tr>\n",
       "  </tbody>\n",
       "</table>\n",
       "</div>"
      ],
      "text/plain": [
       "           day1num       day2num\n",
       "date                            \n",
       "4     22060.100000   2304.600000\n",
       "5     18225.548387   9734.000000\n",
       "6     55957.200000  20147.300000\n",
       "7     25807.870968   9934.903226\n",
       "8     57667.258065  55575.000000\n",
       "9     65715.000000  62162.000000\n",
       "10     9406.312500  79900.750000"
      ]
     },
     "execution_count": 43,
     "metadata": {},
     "output_type": "execute_result"
    }
   ],
   "source": [
    "df.groupby(df[\"date\"].dt.month)[[\"day1num\", \"day2num\"]].mean()"
   ]
  },
  {
   "cell_type": "code",
   "execution_count": null,
   "id": "7fdaca9a-ad1c-45e3-a8e5-fb9e2741557a",
   "metadata": {},
   "outputs": [],
   "source": []
  }
 ],
 "metadata": {
  "kernelspec": {
   "display_name": "Python [conda env:base] *",
   "language": "python",
   "name": "conda-base-py"
  },
  "language_info": {
   "codemirror_mode": {
    "name": "ipython",
    "version": 3
   },
   "file_extension": ".py",
   "mimetype": "text/x-python",
   "name": "python",
   "nbconvert_exporter": "python",
   "pygments_lexer": "ipython3",
   "version": "3.12.7"
  }
 },
 "nbformat": 4,
 "nbformat_minor": 5
}
