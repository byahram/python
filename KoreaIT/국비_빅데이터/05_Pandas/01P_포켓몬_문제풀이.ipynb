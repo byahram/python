{
 "cells": [
  {
   "cell_type": "code",
   "execution_count": 6,
   "id": "119e6d54-fe11-4641-954d-9f0a2b6dfa03",
   "metadata": {},
   "outputs": [],
   "source": [
    "import pandas as pd"
   ]
  },
  {
   "cell_type": "code",
   "execution_count": 8,
   "id": "b98f5c2e-84d3-4744-8fd0-e2e16b393d7c",
   "metadata": {},
   "outputs": [],
   "source": [
    "raw_data = {\n",
    "    \"이름\": ['이상해씨', '파이리','꼬부기','캐터피'],\n",
    "    \"진화형\": ['이상해풀','리자드','어니부기','단데기'],\n",
    "    \"타입\": ['풀', '불', '물', '벌레'],\n",
    "    \"체력\": [45, 39, 44, 45],\n",
    "    \"도감등록\": ['yes', 'no','yes','no']                        \n",
    "}"
   ]
  },
  {
   "cell_type": "markdown",
   "id": "fb70c23c-b3b1-48f1-a990-467b6709d7b2",
   "metadata": {},
   "source": [
    "# 문제1. raw_data를 데이터프레임 형태로 poke 변수에 할당"
   ]
  },
  {
   "cell_type": "code",
   "execution_count": 11,
   "id": "fe759166-d048-404c-92a4-a76e30efdef7",
   "metadata": {},
   "outputs": [],
   "source": [
    "poke = pd.DataFrame(raw_data)"
   ]
  },
  {
   "cell_type": "code",
   "execution_count": 13,
   "id": "e8ba6d63-8471-4f56-b1ff-8f30692ff96d",
   "metadata": {},
   "outputs": [
    {
     "data": {
      "text/html": [
       "<div>\n",
       "<style scoped>\n",
       "    .dataframe tbody tr th:only-of-type {\n",
       "        vertical-align: middle;\n",
       "    }\n",
       "\n",
       "    .dataframe tbody tr th {\n",
       "        vertical-align: top;\n",
       "    }\n",
       "\n",
       "    .dataframe thead th {\n",
       "        text-align: right;\n",
       "    }\n",
       "</style>\n",
       "<table border=\"1\" class=\"dataframe\">\n",
       "  <thead>\n",
       "    <tr style=\"text-align: right;\">\n",
       "      <th></th>\n",
       "      <th>이름</th>\n",
       "      <th>진화형</th>\n",
       "      <th>타입</th>\n",
       "      <th>체력</th>\n",
       "      <th>도감등록</th>\n",
       "    </tr>\n",
       "  </thead>\n",
       "  <tbody>\n",
       "    <tr>\n",
       "      <th>0</th>\n",
       "      <td>이상해씨</td>\n",
       "      <td>이상해풀</td>\n",
       "      <td>풀</td>\n",
       "      <td>45</td>\n",
       "      <td>yes</td>\n",
       "    </tr>\n",
       "    <tr>\n",
       "      <th>1</th>\n",
       "      <td>파이리</td>\n",
       "      <td>리자드</td>\n",
       "      <td>불</td>\n",
       "      <td>39</td>\n",
       "      <td>no</td>\n",
       "    </tr>\n",
       "    <tr>\n",
       "      <th>2</th>\n",
       "      <td>꼬부기</td>\n",
       "      <td>어니부기</td>\n",
       "      <td>물</td>\n",
       "      <td>44</td>\n",
       "      <td>yes</td>\n",
       "    </tr>\n",
       "    <tr>\n",
       "      <th>3</th>\n",
       "      <td>캐터피</td>\n",
       "      <td>단데기</td>\n",
       "      <td>벌레</td>\n",
       "      <td>45</td>\n",
       "      <td>no</td>\n",
       "    </tr>\n",
       "  </tbody>\n",
       "</table>\n",
       "</div>"
      ],
      "text/plain": [
       "     이름   진화형  타입  체력 도감등록\n",
       "0  이상해씨  이상해풀   풀  45  yes\n",
       "1   파이리   리자드   불  39   no\n",
       "2   꼬부기  어니부기   물  44  yes\n",
       "3   캐터피   단데기  벌레  45   no"
      ]
     },
     "execution_count": 13,
     "metadata": {},
     "output_type": "execute_result"
    }
   ],
   "source": [
    "poke"
   ]
  },
  {
   "cell_type": "markdown",
   "id": "14092bdd-d07f-4846-bcae-6c26bb7c2578",
   "metadata": {},
   "source": [
    "# 문제2. 데이터프레임의 컬럼을 이름, 타입, 체력, 진화형, 도감등록 순으로 수정"
   ]
  },
  {
   "cell_type": "code",
   "execution_count": 15,
   "id": "bc4fd62d-00ad-431a-b2c1-3862e4043794",
   "metadata": {},
   "outputs": [],
   "source": [
    "poke = poke[[\"이름\", \"타입\", \"체력\", \"진화형\", \"도감등록\"]]"
   ]
  },
  {
   "cell_type": "code",
   "execution_count": 17,
   "id": "dcd93ac4-5693-46d3-a422-34e943c4d19f",
   "metadata": {},
   "outputs": [
    {
     "data": {
      "text/html": [
       "<div>\n",
       "<style scoped>\n",
       "    .dataframe tbody tr th:only-of-type {\n",
       "        vertical-align: middle;\n",
       "    }\n",
       "\n",
       "    .dataframe tbody tr th {\n",
       "        vertical-align: top;\n",
       "    }\n",
       "\n",
       "    .dataframe thead th {\n",
       "        text-align: right;\n",
       "    }\n",
       "</style>\n",
       "<table border=\"1\" class=\"dataframe\">\n",
       "  <thead>\n",
       "    <tr style=\"text-align: right;\">\n",
       "      <th></th>\n",
       "      <th>이름</th>\n",
       "      <th>타입</th>\n",
       "      <th>체력</th>\n",
       "      <th>진화형</th>\n",
       "      <th>도감등록</th>\n",
       "    </tr>\n",
       "  </thead>\n",
       "  <tbody>\n",
       "    <tr>\n",
       "      <th>0</th>\n",
       "      <td>이상해씨</td>\n",
       "      <td>풀</td>\n",
       "      <td>45</td>\n",
       "      <td>이상해풀</td>\n",
       "      <td>yes</td>\n",
       "    </tr>\n",
       "    <tr>\n",
       "      <th>1</th>\n",
       "      <td>파이리</td>\n",
       "      <td>불</td>\n",
       "      <td>39</td>\n",
       "      <td>리자드</td>\n",
       "      <td>no</td>\n",
       "    </tr>\n",
       "    <tr>\n",
       "      <th>2</th>\n",
       "      <td>꼬부기</td>\n",
       "      <td>물</td>\n",
       "      <td>44</td>\n",
       "      <td>어니부기</td>\n",
       "      <td>yes</td>\n",
       "    </tr>\n",
       "    <tr>\n",
       "      <th>3</th>\n",
       "      <td>캐터피</td>\n",
       "      <td>벌레</td>\n",
       "      <td>45</td>\n",
       "      <td>단데기</td>\n",
       "      <td>no</td>\n",
       "    </tr>\n",
       "  </tbody>\n",
       "</table>\n",
       "</div>"
      ],
      "text/plain": [
       "     이름  타입  체력   진화형 도감등록\n",
       "0  이상해씨   풀  45  이상해풀  yes\n",
       "1   파이리   불  39   리자드   no\n",
       "2   꼬부기   물  44  어니부기  yes\n",
       "3   캐터피  벌레  45   단데기   no"
      ]
     },
     "execution_count": 17,
     "metadata": {},
     "output_type": "execute_result"
    }
   ],
   "source": [
    "poke"
   ]
  },
  {
   "cell_type": "markdown",
   "id": "239d4ef2-ce09-455e-ae51-aa96af73a6e6",
   "metadata": {},
   "source": [
    "# 문제3. 서식지 컬럼에 아래의 정보를 추가\n",
    "\n",
    "- 이상해씨 : 공원\n",
    "- 파이리 : 도로\n",
    "- 꼬부기 : 호수\n",
    "- 캐터피 : 숲"
   ]
  },
  {
   "cell_type": "code",
   "execution_count": 23,
   "id": "79e42274-a5e0-49ff-9213-264fc434f4d7",
   "metadata": {},
   "outputs": [
    {
     "name": "stderr",
     "output_type": "stream",
     "text": [
      "C:\\Users\\user\\AppData\\Local\\Temp\\ipykernel_13784\\366829535.py:1: SettingWithCopyWarning: \n",
      "A value is trying to be set on a copy of a slice from a DataFrame.\n",
      "Try using .loc[row_indexer,col_indexer] = value instead\n",
      "\n",
      "See the caveats in the documentation: https://pandas.pydata.org/pandas-docs/stable/user_guide/indexing.html#returning-a-view-versus-a-copy\n",
      "  poke[\"서식지\"] = [\"공원\", \"도로\", \"호수\", \"숲\"]\n"
     ]
    }
   ],
   "source": [
    "poke[\"서식지\"] = [\"공원\", \"도로\", \"호수\", \"숲\"]"
   ]
  },
  {
   "cell_type": "code",
   "execution_count": 25,
   "id": "2827972e-db35-49ed-8907-ec2220d3f156",
   "metadata": {},
   "outputs": [],
   "source": [
    "poke.loc[:, \"서식지\"] = [\"공원\", \"도로\", \"호수\", \"숲\"]"
   ]
  },
  {
   "cell_type": "code",
   "execution_count": 27,
   "id": "be7fc7fb-1ca9-49b8-8877-898d9463e195",
   "metadata": {},
   "outputs": [
    {
     "data": {
      "text/html": [
       "<div>\n",
       "<style scoped>\n",
       "    .dataframe tbody tr th:only-of-type {\n",
       "        vertical-align: middle;\n",
       "    }\n",
       "\n",
       "    .dataframe tbody tr th {\n",
       "        vertical-align: top;\n",
       "    }\n",
       "\n",
       "    .dataframe thead th {\n",
       "        text-align: right;\n",
       "    }\n",
       "</style>\n",
       "<table border=\"1\" class=\"dataframe\">\n",
       "  <thead>\n",
       "    <tr style=\"text-align: right;\">\n",
       "      <th></th>\n",
       "      <th>이름</th>\n",
       "      <th>타입</th>\n",
       "      <th>체력</th>\n",
       "      <th>진화형</th>\n",
       "      <th>도감등록</th>\n",
       "      <th>서식지</th>\n",
       "    </tr>\n",
       "  </thead>\n",
       "  <tbody>\n",
       "    <tr>\n",
       "      <th>0</th>\n",
       "      <td>이상해씨</td>\n",
       "      <td>풀</td>\n",
       "      <td>45</td>\n",
       "      <td>이상해풀</td>\n",
       "      <td>yes</td>\n",
       "      <td>공원</td>\n",
       "    </tr>\n",
       "    <tr>\n",
       "      <th>1</th>\n",
       "      <td>파이리</td>\n",
       "      <td>불</td>\n",
       "      <td>39</td>\n",
       "      <td>리자드</td>\n",
       "      <td>no</td>\n",
       "      <td>도로</td>\n",
       "    </tr>\n",
       "    <tr>\n",
       "      <th>2</th>\n",
       "      <td>꼬부기</td>\n",
       "      <td>물</td>\n",
       "      <td>44</td>\n",
       "      <td>어니부기</td>\n",
       "      <td>yes</td>\n",
       "      <td>호수</td>\n",
       "    </tr>\n",
       "    <tr>\n",
       "      <th>3</th>\n",
       "      <td>캐터피</td>\n",
       "      <td>벌레</td>\n",
       "      <td>45</td>\n",
       "      <td>단데기</td>\n",
       "      <td>no</td>\n",
       "      <td>숲</td>\n",
       "    </tr>\n",
       "  </tbody>\n",
       "</table>\n",
       "</div>"
      ],
      "text/plain": [
       "     이름  타입  체력   진화형 도감등록 서식지\n",
       "0  이상해씨   풀  45  이상해풀  yes  공원\n",
       "1   파이리   불  39   리자드   no  도로\n",
       "2   꼬부기   물  44  어니부기  yes  호수\n",
       "3   캐터피  벌레  45   단데기   no   숲"
      ]
     },
     "execution_count": 27,
     "metadata": {},
     "output_type": "execute_result"
    }
   ],
   "source": [
    "poke"
   ]
  },
  {
   "cell_type": "markdown",
   "id": "350e9d53-2a6f-4dfe-97fb-b0ec0101038c",
   "metadata": {},
   "source": [
    "# 문제4. 각 컬럼의 데이터 자료형 확인"
   ]
  },
  {
   "cell_type": "code",
   "execution_count": 29,
   "id": "e9e0c207-525a-49ee-be27-b6662d72e3ce",
   "metadata": {},
   "outputs": [
    {
     "data": {
      "text/plain": [
       "이름      object\n",
       "타입      object\n",
       "체력       int64\n",
       "진화형     object\n",
       "도감등록    object\n",
       "서식지     object\n",
       "dtype: object"
      ]
     },
     "execution_count": 29,
     "metadata": {},
     "output_type": "execute_result"
    }
   ],
   "source": [
    "poke.dtypes"
   ]
  },
  {
   "cell_type": "code",
   "execution_count": null,
   "id": "29b6af22-1352-425e-ae9f-a8dbf4c2580b",
   "metadata": {},
   "outputs": [],
   "source": []
  }
 ],
 "metadata": {
  "kernelspec": {
   "display_name": "Python [conda env:base] *",
   "language": "python",
   "name": "conda-base-py"
  },
  "language_info": {
   "codemirror_mode": {
    "name": "ipython",
    "version": 3
   },
   "file_extension": ".py",
   "mimetype": "text/x-python",
   "name": "python",
   "nbconvert_exporter": "python",
   "pygments_lexer": "ipython3",
   "version": "3.12.7"
  }
 },
 "nbformat": 4,
 "nbformat_minor": 5
}
