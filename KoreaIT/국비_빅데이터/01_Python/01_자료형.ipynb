{
 "cells": [
  {
   "cell_type": "markdown",
   "id": "f1f8a3af-b646-411b-a347-6539dcccb908",
   "metadata": {},
   "source": [
    "# **자료형**\n",
    "\n",
    "- 자료(data) : 프로그램이 처리할 수 있는 모든 것\n",
    "- 자료형(data type) : 자료를 개발자들이 쉽게 사용할 수 있도록 기능과 역할에 따라서 구분한 종류\n",
    "    - 문자열(string) : 메일 제목, 메시지 내용 등\n",
    "        - 예) \"안녕하세요\", \"Hello, World!\"\n",
    "    - 숫자(number) : 물건의 가격, 학생의 성적 등\n",
    "        - 예) 52, 273, 103.32\n",
    "    - 불(boolean) : 사용자의 로그인 상태 등\n",
    "        - 예) True, False"
   ]
  },
  {
   "cell_type": "markdown",
   "id": "a820bb04-ab7e-4d84-a7cc-e43d68649a18",
   "metadata": {},
   "source": [
    "## 숫자 자료형\n",
    "\n",
    "- 숫자 자료형의 종류\n",
    "    - 정수형(integer) : 소수점이 없는 숫자\n",
    "        - 예) 0, 1, 273, -53\n",
    "    - 실수형(floating point) : 소수점이 있는 숫자\n",
    "        - 예) 0.0, 52.273, -1.2\n",
    "- 주의점\n",
    "    - 0과 0.0은 같은 크기를 표현하지만 소수점의 여부에 따라 숫자의 자료형이 달라짐"
   ]
  },
  {
   "cell_type": "markdown",
   "id": "c27bc902-7098-4f27-a236-fbc0a1d6b6ee",
   "metadata": {},
   "source": [
    "### - 정수형(integer)"
   ]
  },
  {
   "cell_type": "code",
   "execution_count": 4,
   "id": "749bc99b-39b2-4046-b806-f53d7c345cc5",
   "metadata": {},
   "outputs": [
    {
     "name": "stdout",
     "output_type": "stream",
     "text": [
      "123\n",
      "-178\n",
      "0\n",
      "<class 'int'>\n",
      "<class 'int'>\n",
      "<class 'int'>\n"
     ]
    }
   ],
   "source": [
    "a = 123\n",
    "b = -178\n",
    "c = 0\n",
    "\n",
    "print(a)\n",
    "print(b)\n",
    "print(c)\n",
    "\n",
    "# type() : 자료형 확인하기\n",
    "# type 함수의 괄호 내부에 자료를 넣으면 그 자료가 어떤 자료형을 가지고 있는지 확인\n",
    "print(type(a))\n",
    "print(type(b))\n",
    "print(type(c))"
   ]
  },
  {
   "cell_type": "markdown",
   "id": "6e533ad6-16db-4446-b84e-ef644fc2d63f",
   "metadata": {},
   "source": [
    "### - 실수형(Floating-point)"
   ]
  },
  {
   "cell_type": "code",
   "execution_count": 7,
   "id": "83292dac-557c-45f6-ab7e-7806cd62ab2f",
   "metadata": {},
   "outputs": [
    {
     "name": "stdout",
     "output_type": "stream",
     "text": [
      "1.2\n",
      "-3.45\n",
      "<class 'float'>\n",
      "<class 'float'>\n"
     ]
    }
   ],
   "source": [
    "a = 1.2\n",
    "b = -3.45\n",
    "\n",
    "print(a)\n",
    "print(b)\n",
    "print(type(a))\n",
    "print(type(b))"
   ]
  },
  {
   "cell_type": "markdown",
   "id": "aa7cd7ab-3c11-4431-9a33-6af5c0df3f20",
   "metadata": {},
   "source": [
    "#### : 실수형의 지수 표현 방식"
   ]
  },
  {
   "cell_type": "code",
   "execution_count": 10,
   "id": "cbdc9b91-7b02-4b73-9e02-2d0c49c26c0f",
   "metadata": {},
   "outputs": [
    {
     "name": "stdout",
     "output_type": "stream",
     "text": [
      "42400.0\n",
      "0.000424\n",
      "<class 'float'>\n",
      "<class 'float'>\n"
     ]
    }
   ],
   "source": [
    "a = 4.24e4\n",
    "b = 4.24e-4\n",
    "\n",
    "print(a)\n",
    "print(b)\n",
    "print(type(a))\n",
    "print(type(b))"
   ]
  },
  {
   "cell_type": "markdown",
   "id": "cb5d82a4-fe13-42b6-841f-47b281b56e97",
   "metadata": {},
   "source": [
    "### - 사칙연산"
   ]
  },
  {
   "cell_type": "code",
   "execution_count": 13,
   "id": "a86574ee-9f70-497c-953a-40923a784ce3",
   "metadata": {},
   "outputs": [
    {
     "name": "stdout",
     "output_type": "stream",
     "text": [
      "7\n",
      "-1\n",
      "12\n",
      "0.75\n",
      "81\n",
      "0\n",
      "3\n"
     ]
    }
   ],
   "source": [
    "a = 3\n",
    "b = 4\n",
    "\n",
    "print(a + b) # 합\n",
    "print(a - b) # 차\n",
    "print(a * b) # 곱\n",
    "print(a / b) # 나눗셈\n",
    "print(a ** b) # 제곱\n",
    "print(a // b) # 몫\n",
    "print(a % b) # 나머지"
   ]
  },
  {
   "cell_type": "markdown",
   "id": "ff77a2d7-0fee-4d45-af2e-d7944acc8e60",
   "metadata": {},
   "source": [
    "#### : 연산자의 우선순위\n",
    "\n",
    "- 숫자를 계산할 때는 곱셈과 나눗셈이 덧셈과 뺄셈보다 우선함\n",
    "- 같은 우선순위를 가지는 연산자는 왼쪽에서 오른쪽 순서로 계산"
   ]
  },
  {
   "cell_type": "code",
   "execution_count": 16,
   "id": "4847923e-38be-4e84-94b7-4691d8ad12cb",
   "metadata": {},
   "outputs": [
    {
     "name": "stdout",
     "output_type": "stream",
     "text": [
      "0.0\n"
     ]
    }
   ],
   "source": [
    "print(2 + 2 - 2 * 2 / 2 * 2)"
   ]
  },
  {
   "cell_type": "code",
   "execution_count": 18,
   "id": "e86cac88-287b-45de-b831-feb79fb2ec17",
   "metadata": {},
   "outputs": [
    {
     "name": "stdout",
     "output_type": "stream",
     "text": [
      "16\n",
      "11\n"
     ]
    }
   ],
   "source": [
    "# 먼저 연산하고 싶은 부분은 괄호로 표현\n",
    "print((5 + 3) * 2)\n",
    "print(5 + 3 * 2)"
   ]
  },
  {
   "cell_type": "code",
   "execution_count": 20,
   "id": "46d0d989-c9f0-4030-b044-213f6d1caa3a",
   "metadata": {},
   "outputs": [
    {
     "name": "stdout",
     "output_type": "stream",
     "text": [
      "11\n"
     ]
    }
   ],
   "source": [
    "# 연산자 우선순위가 확실한 경우에도 명확하게 표현하기 위해 괄호를 사용하기도 함\n",
    "print(5 + (3 * 2))"
   ]
  },
  {
   "cell_type": "markdown",
   "id": "638479b8-39c0-4eab-a6cd-1f588c1ebb95",
   "metadata": {},
   "source": [
    "## 문자열 자료형(string)\n",
    "\n",
    "- 문자열 : 글자들이 나열된 것"
   ]
  },
  {
   "cell_type": "code",
   "execution_count": 23,
   "id": "5409ba10-55d5-465b-a75f-70578e2de974",
   "metadata": {},
   "outputs": [
    {
     "name": "stdout",
     "output_type": "stream",
     "text": [
      "Hello, World!\n",
      "<class 'str'>\n",
      "123\n",
      "<class 'str'>\n"
     ]
    }
   ],
   "source": [
    "a = \"Hello, World!\"\n",
    "b = \"123\"\n",
    "\n",
    "print(a)\n",
    "print(type(a))\n",
    "print(b)\n",
    "print(type(b))"
   ]
  },
  {
   "cell_type": "code",
   "execution_count": 25,
   "id": "8fd414a7-c603-42d2-916c-6b144b8c65a4",
   "metadata": {},
   "outputs": [
    {
     "name": "stdout",
     "output_type": "stream",
     "text": [
      "Hello\n",
      "Hello\n",
      "Hello\n",
      "Hello\n"
     ]
    }
   ],
   "source": [
    "# 문자열 표기법\n",
    "print(\"Hello\")\n",
    "print('Hello')\n",
    "print(\"\"\"Hello\"\"\")\n",
    "print('''Hello''')"
   ]
  },
  {
   "cell_type": "markdown",
   "id": "2fe46921-c86b-46e5-aab0-f61b5fe910e6",
   "metadata": {},
   "source": [
    "#### : 문자열에 따옴표 포함하기"
   ]
  },
  {
   "cell_type": "code",
   "execution_count": 28,
   "id": "1dce16f3-b8e8-414d-9e1f-2d7b62b22da7",
   "metadata": {},
   "outputs": [
    {
     "name": "stdout",
     "output_type": "stream",
     "text": [
      "Python's favorite food is perl\n",
      "\"Python is very easy.\" he says\n"
     ]
    }
   ],
   "source": [
    "# 'Python's favorite food is perl'\n",
    "print(\"Python's favorite food is perl\")\n",
    "print('\"Python is very easy.\" he says')"
   ]
  },
  {
   "cell_type": "markdown",
   "id": "290156e4-22d7-4732-ada8-62348d72ab5c",
   "metadata": {},
   "source": [
    "#### : 여러 줄인 문자열"
   ]
  },
  {
   "cell_type": "code",
   "execution_count": 31,
   "id": "5b2f8d8c-45d6-4cbf-be5b-85dabb7a4a50",
   "metadata": {},
   "outputs": [
    {
     "name": "stdout",
     "output_type": "stream",
     "text": [
      "Life is too short\n",
      "You need python\n"
     ]
    }
   ],
   "source": [
    "lines = '''Life is too short\n",
    "You need python'''\n",
    "\n",
    "print(lines)"
   ]
  },
  {
   "cell_type": "code",
   "execution_count": 33,
   "id": "a26a60fb-5e10-4dae-b773-b0277aa159e8",
   "metadata": {},
   "outputs": [
    {
     "name": "stdout",
     "output_type": "stream",
     "text": [
      "Life is too short\n",
      "You need python\n"
     ]
    }
   ],
   "source": [
    "lines = \"Life is too short\\nYou need python\"\n",
    "\n",
    "print(lines)"
   ]
  },
  {
   "cell_type": "markdown",
   "id": "8507f123-4c49-414a-88e2-399015b59bf7",
   "metadata": {},
   "source": [
    "#### : 이스케이프 코드\n",
    "\n",
    "- 특별한 의미를 가지는, 미리 정의된 문자 조합\n",
    "    - \\n : 줄바꿈\n",
    "    - \\t : 탭"
   ]
  },
  {
   "cell_type": "code",
   "execution_count": 36,
   "id": "c8e7964d-bd3c-4a73-a4c0-cc7596449b89",
   "metadata": {},
   "outputs": [
    {
     "name": "stdout",
     "output_type": "stream",
     "text": [
      "안녕하세요\t안녕하세요\n"
     ]
    }
   ],
   "source": [
    "print(\"안녕하세요\\t안녕하세요\")"
   ]
  },
  {
   "cell_type": "markdown",
   "id": "bc00264f-90d3-428b-b2e0-866c166671b5",
   "metadata": {},
   "source": [
    "### - 문자열 연산자\n",
    "\n",
    "- 각각의 자료는 사용할 수 있는 연산자가 정해져 있음"
   ]
  },
  {
   "cell_type": "markdown",
   "id": "57a439ea-107d-445c-a65f-c6716651b07b",
   "metadata": {},
   "source": [
    "#### : 문자열 연결 연산자\n",
    "\n",
    "- 두 문자열을 연결해서 새로운 문자열을 만들어냄"
   ]
  },
  {
   "cell_type": "code",
   "execution_count": 40,
   "id": "384e15e9-8fe8-429e-a95f-2bdce673a98a",
   "metadata": {},
   "outputs": [
    {
     "data": {
      "text/plain": [
       "'Hello, World!'"
      ]
     },
     "execution_count": 40,
     "metadata": {},
     "output_type": "execute_result"
    }
   ],
   "source": [
    "# 문자열은 + 연산자로 문자열 연결 연산 적용\n",
    "# 숫자 더하기 연산자와 문자열 연결 연산자 모두 + 기호를 사용하지만 완전히 다른 기능을 수행\n",
    "\"Hello, \" + \"World!\""
   ]
  },
  {
   "cell_type": "code",
   "execution_count": 42,
   "id": "ad3236bf-eae6-4083-8b95-94c32adeb18e",
   "metadata": {},
   "outputs": [
    {
     "ename": "TypeError",
     "evalue": "can only concatenate str (not \"int\") to str",
     "output_type": "error",
     "traceback": [
      "\u001b[1;31m---------------------------------------------------------------------------\u001b[0m",
      "\u001b[1;31mTypeError\u001b[0m                                 Traceback (most recent call last)",
      "Cell \u001b[1;32mIn[42], line 2\u001b[0m\n\u001b[0;32m      1\u001b[0m \u001b[38;5;66;03m# 문자열과 숫자 사이에 문자열 연결 연산자를 사용하면 에러 발생\u001b[39;00m\n\u001b[1;32m----> 2\u001b[0m \u001b[38;5;28mprint\u001b[39m(\u001b[38;5;124m\"\u001b[39m\u001b[38;5;124m안녕하세요\u001b[39m\u001b[38;5;124m\"\u001b[39m \u001b[38;5;241m+\u001b[39m \u001b[38;5;241m1\u001b[39m)\n",
      "\u001b[1;31mTypeError\u001b[0m: can only concatenate str (not \"int\") to str"
     ]
    }
   ],
   "source": [
    "# 문자열과 숫자 사이에 문자열 연결 연산자를 사용하면 에러 발생\n",
    "print(\"안녕하세요\" + 1)"
   ]
  },
  {
   "cell_type": "code",
   "execution_count": 45,
   "id": "b92e24d1-4076-4119-9c10-8f5c760836a2",
   "metadata": {},
   "outputs": [
    {
     "name": "stdout",
     "output_type": "stream",
     "text": [
      "안녕하세요1\n"
     ]
    }
   ],
   "source": [
    "# 안녕하세요1 을 출력할 의도라면 숫자도 문자열로 인식시켜야함\n",
    "print(\"안녕하세요\" + \"1\")"
   ]
  },
  {
   "cell_type": "markdown",
   "id": "b7da6806-79af-4fe6-aa97-24a25547fc65",
   "metadata": {},
   "source": [
    "#### : 문자열 반복 연산자\n",
    "\n",
    "- 문자열을 숫자와 * 연산자로 연결\n",
    "- 문자열을 숫자만큼 반복해서 출력"
   ]
  },
  {
   "cell_type": "code",
   "execution_count": 48,
   "id": "1ad547e8-421c-464f-abe3-6ac185d0deae",
   "metadata": {},
   "outputs": [
    {
     "data": {
      "text/plain": [
       "'HelloHelloHello'"
      ]
     },
     "execution_count": 48,
     "metadata": {},
     "output_type": "execute_result"
    }
   ],
   "source": [
    "\"Hello\" * 3"
   ]
  },
  {
   "cell_type": "markdown",
   "id": "49290242-3ca6-4972-b419-251c54b4e5fb",
   "metadata": {},
   "source": [
    "### - 문자열 인덱싱(indexing)\n",
    "\n",
    "- 대괄호(문자 선택 연산자)는 문자열 내부의 문자 하나를 선택하는 연산자\n",
    "- 대괄호 안에 선택할 문자의 위치(인덱스)를 지정\n",
    "    - 파이썬은 인덱스를 0부터 셈"
   ]
  },
  {
   "cell_type": "code",
   "execution_count": 51,
   "id": "4fd7668e-34b7-4312-90eb-ac2a6bff4233",
   "metadata": {},
   "outputs": [],
   "source": [
    "str1 = \"Hello\"\n",
    "#       01234"
   ]
  },
  {
   "cell_type": "code",
   "execution_count": 53,
   "id": "93435141-9e58-4250-a898-544b7a16548f",
   "metadata": {},
   "outputs": [
    {
     "data": {
      "text/plain": [
       "'H'"
      ]
     },
     "execution_count": 53,
     "metadata": {},
     "output_type": "execute_result"
    }
   ],
   "source": [
    "str1[0]"
   ]
  },
  {
   "cell_type": "code",
   "execution_count": 55,
   "id": "ba4d1ecf-b625-4f9f-bd59-496e8b8b68d7",
   "metadata": {},
   "outputs": [
    {
     "data": {
      "text/plain": [
       "'o'"
      ]
     },
     "execution_count": 55,
     "metadata": {},
     "output_type": "execute_result"
    }
   ],
   "source": [
    "str1[4]"
   ]
  },
  {
   "cell_type": "code",
   "execution_count": 57,
   "id": "26191b83-7068-4834-ae22-fe1ba00dab23",
   "metadata": {},
   "outputs": [
    {
     "data": {
      "text/plain": [
       "'o'"
      ]
     },
     "execution_count": 57,
     "metadata": {},
     "output_type": "execute_result"
    }
   ],
   "source": [
    "str1[-1]"
   ]
  },
  {
   "cell_type": "markdown",
   "id": "e3c18da0-9313-450b-8b9e-40eb03d48ee5",
   "metadata": {},
   "source": [
    "### - 문자열 슬라이싱(slicing)\n",
    "\n",
    "- 문자열의 범위를 지정\n",
    "- 대괄호 안에 위치를 콜론(:)으로 구분해서 지정\n",
    "    - 파이썬은 범위 지정 시 마지막 숫자를 포함하지 않음"
   ]
  },
  {
   "cell_type": "code",
   "execution_count": 60,
   "id": "764b5177-1891-4510-9943-eec406447680",
   "metadata": {},
   "outputs": [
    {
     "data": {
      "text/plain": [
       "'Hell'"
      ]
     },
     "execution_count": 60,
     "metadata": {},
     "output_type": "execute_result"
    }
   ],
   "source": [
    "str1[0:4]"
   ]
  },
  {
   "cell_type": "code",
   "execution_count": 62,
   "id": "4cc8b5bd-6c02-4bdb-8b84-11296ba2d176",
   "metadata": {},
   "outputs": [
    {
     "data": {
      "text/plain": [
       "'Hell'"
      ]
     },
     "execution_count": 62,
     "metadata": {},
     "output_type": "execute_result"
    }
   ],
   "source": [
    "# 대괄호 안에 넣는 숫자를 생략할 수 있음\n",
    "# 생략하면 자동으로 가장 최대 위치(첫 번째 글자 또는 마지막 글자)까지 지정\n",
    "str1[:4]"
   ]
  },
  {
   "cell_type": "code",
   "execution_count": 64,
   "id": "3ff4c291-21ac-4fa1-904d-3a2ae97be651",
   "metadata": {},
   "outputs": [
    {
     "data": {
      "text/plain": [
       "'Hello'"
      ]
     },
     "execution_count": 64,
     "metadata": {},
     "output_type": "execute_result"
    }
   ],
   "source": [
    "str1[0:]"
   ]
  },
  {
   "cell_type": "code",
   "execution_count": 66,
   "id": "bf6d8630-3841-43d8-8b40-a5a6ebbc4067",
   "metadata": {},
   "outputs": [
    {
     "data": {
      "text/plain": [
       "'Hello'"
      ]
     },
     "execution_count": 66,
     "metadata": {},
     "output_type": "execute_result"
    }
   ],
   "source": [
    "str1[:]"
   ]
  },
  {
   "cell_type": "code",
   "execution_count": 68,
   "id": "91575516-02fc-4e2c-840d-a64372ab1e3c",
   "metadata": {},
   "outputs": [
    {
     "data": {
      "text/plain": [
       "'Hell'"
      ]
     },
     "execution_count": 68,
     "metadata": {},
     "output_type": "execute_result"
    }
   ],
   "source": [
    "str1[:-1]"
   ]
  },
  {
   "cell_type": "code",
   "execution_count": 70,
   "id": "9acc5514-14e2-40ca-8601-accc13cb1d6c",
   "metadata": {},
   "outputs": [
    {
     "data": {
      "text/plain": [
       "'ello'"
      ]
     },
     "execution_count": 70,
     "metadata": {},
     "output_type": "execute_result"
    }
   ],
   "source": [
    "str1[1:5]"
   ]
  },
  {
   "cell_type": "code",
   "execution_count": 72,
   "id": "c6fb75c6-33ca-4d27-a64f-042b96459bf6",
   "metadata": {},
   "outputs": [
    {
     "data": {
      "text/plain": [
       "'ello'"
      ]
     },
     "execution_count": 72,
     "metadata": {},
     "output_type": "execute_result"
    }
   ],
   "source": [
    "str1[1:]"
   ]
  },
  {
   "cell_type": "markdown",
   "id": "03c7329a-7cf3-4f92-a633-127192b71470",
   "metadata": {},
   "source": [
    "### - 문자열 포매팅(Formatting)"
   ]
  },
  {
   "cell_type": "code",
   "execution_count": 75,
   "id": "f2c17534-8230-4bc2-92eb-b1925059dfcc",
   "metadata": {},
   "outputs": [
    {
     "name": "stdout",
     "output_type": "stream",
     "text": [
      "3 + 4 = 7\n",
      "3.1416\n",
      "    3\n",
      "00003\n"
     ]
    }
   ],
   "source": [
    "a = 3\n",
    "b = 4\n",
    "pi = 3.141592\n",
    "\n",
    "# 문자열 포맷 코드\n",
    "print(\"%d + %d = %d\"%(a, b, (a + b)))\n",
    "\n",
    "# 문자열 포맷 코드에서 소수점 표현\n",
    "print(\"%0.4f\"%(pi))\n",
    "\n",
    "# 특정 칸에 출력하기\n",
    "print(\"%5d\"%(a))\n",
    "\n",
    "# 빈칸을 0으로 채우기\n",
    "print(\"%05d\"%a)"
   ]
  },
  {
   "cell_type": "code",
   "execution_count": 77,
   "id": "6abd95b0-9211-4958-9067-113eb37de27e",
   "metadata": {},
   "outputs": [
    {
     "name": "stdout",
     "output_type": "stream",
     "text": [
      "3 + 4 = 7\n",
      "I ate 10 apples. so I was sick for 3 days\n",
      "3.1416\n",
      "    3\n",
      "00003\n"
     ]
    }
   ],
   "source": [
    "# format 함수\n",
    "print(\"{0} + {1} = {2}\".format(a, b, (a + b)))\n",
    "\n",
    "# 이름으로 값 넣기\n",
    "print(\"I ate {num} apples. so I was sick for {day} days\".format(num = 10, day = 3))\n",
    "\n",
    "# 소수점 표현\n",
    "print(\"{0:0.4f}\".format(pi))\n",
    "\n",
    "# 특정 칸에 출력하기\n",
    "print(\"{0:5d}\".format(a))\n",
    "\n",
    "# 빈칸을 0으로 채우기\n",
    "print(\"{0:05d}\".format(a))"
   ]
  },
  {
   "cell_type": "code",
   "execution_count": 79,
   "id": "704f60b7-2133-4171-a1d2-d828207344e2",
   "metadata": {
    "scrolled": true
   },
   "outputs": [
    {
     "name": "stdout",
     "output_type": "stream",
     "text": [
      "3 + 4 = 7\n",
      "3.1416\n",
      "    3\n",
      "00003\n"
     ]
    }
   ],
   "source": [
    "# f-string(3.6버전부터 가능)\n",
    "print(f\"{a} + {b} = {a + b}\")\n",
    "\n",
    "# 소수점 표현\n",
    "print(f\"{pi:0.4f}\")\n",
    "\n",
    "# 특정 칸에 출력\n",
    "print(f\"{a:5d}\")\n",
    "\n",
    "# 빈칸을 0으로 채우기\n",
    "print(f\"{a:05d}\")"
   ]
  },
  {
   "cell_type": "markdown",
   "id": "ceded092-c2b5-465e-998a-85999fea1612",
   "metadata": {},
   "source": [
    "### - 문자열 관련 함수"
   ]
  },
  {
   "cell_type": "code",
   "execution_count": 82,
   "id": "c67ec53d-e683-4acd-9bb5-b59c6f205e5b",
   "metadata": {},
   "outputs": [],
   "source": [
    "str1 = \"hobby\""
   ]
  },
  {
   "cell_type": "code",
   "execution_count": 84,
   "id": "84cf31f9-8ca2-4712-9f1e-f41bb4c9e0cb",
   "metadata": {},
   "outputs": [
    {
     "data": {
      "text/plain": [
       "2"
      ]
     },
     "execution_count": 84,
     "metadata": {},
     "output_type": "execute_result"
    }
   ],
   "source": [
    "# 문자 개수 세기\n",
    "str1.count(\"b\")"
   ]
  },
  {
   "cell_type": "code",
   "execution_count": 86,
   "id": "9a692b2d-2aaa-4707-8201-0b87244d8484",
   "metadata": {},
   "outputs": [
    {
     "data": {
      "text/plain": [
       "2"
      ]
     },
     "execution_count": 86,
     "metadata": {},
     "output_type": "execute_result"
    }
   ],
   "source": [
    "# 위치 찾기1\n",
    "# 검색하는 문자가 처음으로 나온 위치 반환\n",
    "str1.find(\"b\")"
   ]
  },
  {
   "cell_type": "code",
   "execution_count": 88,
   "id": "49527973-a31f-41f5-a16f-58f2da292fff",
   "metadata": {},
   "outputs": [
    {
     "data": {
      "text/plain": [
       "-1"
      ]
     },
     "execution_count": 88,
     "metadata": {},
     "output_type": "execute_result"
    }
   ],
   "source": [
    "# 검색하는 문자가 존재하지 않는 경우 -1을 반환\n",
    "str1.find(\"a\")"
   ]
  },
  {
   "cell_type": "code",
   "execution_count": 90,
   "id": "cfe8a9b1-d0cc-4db3-90f1-844c2da89873",
   "metadata": {},
   "outputs": [
    {
     "data": {
      "text/plain": [
       "2"
      ]
     },
     "execution_count": 90,
     "metadata": {},
     "output_type": "execute_result"
    }
   ],
   "source": [
    "# 위치 찾기2\n",
    "str1.index(\"b\")"
   ]
  },
  {
   "cell_type": "code",
   "execution_count": 92,
   "id": "4172e379-27b3-479b-9cfc-ba1d1ef61d7d",
   "metadata": {},
   "outputs": [
    {
     "ename": "ValueError",
     "evalue": "substring not found",
     "output_type": "error",
     "traceback": [
      "\u001b[1;31m---------------------------------------------------------------------------\u001b[0m",
      "\u001b[1;31mValueError\u001b[0m                                Traceback (most recent call last)",
      "Cell \u001b[1;32mIn[92], line 2\u001b[0m\n\u001b[0;32m      1\u001b[0m \u001b[38;5;66;03m# 검색하는 문자가 존재하지 않는 경우 에러 발생\u001b[39;00m\n\u001b[1;32m----> 2\u001b[0m str1\u001b[38;5;241m.\u001b[39mindex(\u001b[38;5;124m\"\u001b[39m\u001b[38;5;124ma\u001b[39m\u001b[38;5;124m\"\u001b[39m)\n",
      "\u001b[1;31mValueError\u001b[0m: substring not found"
     ]
    }
   ],
   "source": [
    "# 검색하는 문자가 존재하지 않는 경우 에러 발생\n",
    "str1.index(\"a\")"
   ]
  },
  {
   "cell_type": "code",
   "execution_count": 94,
   "id": "12ef42b5-35b6-41a4-9336-2f069f1110de",
   "metadata": {},
   "outputs": [
    {
     "name": "stdout",
     "output_type": "stream",
     "text": [
      "HELLO\n",
      "hello\n"
     ]
    }
   ],
   "source": [
    "# 대소문자 변환\n",
    "print(\"hello\".upper())\n",
    "print(\"HELLO\".lower())"
   ]
  },
  {
   "cell_type": "code",
   "execution_count": 96,
   "id": "daf77974-81c1-4f61-b37f-9a1ce8a89095",
   "metadata": {},
   "outputs": [
    {
     "data": {
      "text/plain": [
       "'hello'"
      ]
     },
     "execution_count": 96,
     "metadata": {},
     "output_type": "execute_result"
    }
   ],
   "source": [
    "# 공백 제거\n",
    "\n",
    "\" hello \".strip()"
   ]
  },
  {
   "cell_type": "code",
   "execution_count": 98,
   "id": "02b83721-f62d-4982-98c0-d1324667939b",
   "metadata": {},
   "outputs": [
    {
     "data": {
      "text/plain": [
       "'python'"
      ]
     },
     "execution_count": 98,
     "metadata": {},
     "output_type": "execute_result"
    }
   ],
   "source": [
    "# 문자열 치환\n",
    "str1 = \"pithon\"\n",
    "\n",
    "str1.replace(\"i\", \"y\")"
   ]
  },
  {
   "cell_type": "code",
   "execution_count": 100,
   "id": "bfda899a-2672-4723-ad7c-9135ecb2f271",
   "metadata": {},
   "outputs": [
    {
     "data": {
      "text/plain": [
       "['Life', 'is', 'too', 'short']"
      ]
     },
     "execution_count": 100,
     "metadata": {},
     "output_type": "execute_result"
    }
   ],
   "source": [
    "# 문자열 나누기\n",
    "str1 = \"Life is too short\"\n",
    "\n",
    "str1.split()"
   ]
  },
  {
   "cell_type": "code",
   "execution_count": 102,
   "id": "3d5307ad-2565-4e42-91fa-fb6d7d8d5acc",
   "metadata": {},
   "outputs": [
    {
     "data": {
      "text/plain": [
       "['a', 'b', 'c', 'd']"
      ]
     },
     "execution_count": 102,
     "metadata": {},
     "output_type": "execute_result"
    }
   ],
   "source": [
    "str2 = \"a:b:c:d\"\n",
    "\n",
    "str2.split(\":\")"
   ]
  },
  {
   "cell_type": "code",
   "execution_count": 104,
   "id": "494153f9-9766-4945-ae29-44a56788bbf6",
   "metadata": {},
   "outputs": [
    {
     "name": "stdout",
     "output_type": "stream",
     "text": [
      "5\n"
     ]
    }
   ],
   "source": [
    "# 문자열의 길이 구하기\n",
    "print(len(\"안녕하세요\"))"
   ]
  },
  {
   "cell_type": "markdown",
   "id": "d2ec62e8-97ff-41c2-9521-6ff83f2d32d8",
   "metadata": {},
   "source": [
    "# **불 자료형(Boolean)**\n",
    "\n",
    "- 참(True)과 거짓(False)을 나타내는 자료형\n",
    "    - 어떤 명제의 결과를 표현\n",
    "- 불린 또는 불리언 이라는 발음으로 부름\n",
    "    - 프로그래밍에서는 짧게 Bool 이라고 쓰기도 함"
   ]
  },
  {
   "cell_type": "code",
   "execution_count": 107,
   "id": "362a951a-ce7c-4ad8-9450-af0c51c51dfe",
   "metadata": {},
   "outputs": [
    {
     "name": "stdout",
     "output_type": "stream",
     "text": [
      "True\n",
      "<class 'bool'>\n",
      "False\n",
      "<class 'bool'>\n"
     ]
    }
   ],
   "source": [
    "a = True\n",
    "b = False\n",
    "\n",
    "print(a)\n",
    "print(type(a))\n",
    "print(b)\n",
    "print(type(b))"
   ]
  },
  {
   "cell_type": "markdown",
   "id": "4e6635d8-1114-4eb7-a42a-af79286548a9",
   "metadata": {},
   "source": [
    "## 불 연산"
   ]
  },
  {
   "cell_type": "markdown",
   "id": "673043e5-9c50-415e-bf7a-6f91c619fe91",
   "metadata": {},
   "source": [
    "### - 비교 연산자\n",
    "\n",
    "- == : 같다\n",
    "- != : 다르다\n",
    "- <, > : 크다, 작다\n",
    "- <=, >= : 작거나 같다, 크거나 같다"
   ]
  },
  {
   "cell_type": "code",
   "execution_count": 111,
   "id": "7e081915-2743-4195-b135-6b8793435c41",
   "metadata": {},
   "outputs": [
    {
     "data": {
      "text/plain": [
       "True"
      ]
     },
     "execution_count": 111,
     "metadata": {},
     "output_type": "execute_result"
    }
   ],
   "source": [
    "1 == 1"
   ]
  },
  {
   "cell_type": "code",
   "execution_count": 113,
   "id": "3798e1d8-501c-455c-9c00-dc9ce7fca0eb",
   "metadata": {},
   "outputs": [
    {
     "data": {
      "text/plain": [
       "False"
      ]
     },
     "execution_count": 113,
     "metadata": {},
     "output_type": "execute_result"
    }
   ],
   "source": [
    "1 != 1"
   ]
  },
  {
   "cell_type": "code",
   "execution_count": 115,
   "id": "4fc724e1-9cd9-49ca-b88d-16f67741c336",
   "metadata": {},
   "outputs": [
    {
     "data": {
      "text/plain": [
       "True"
      ]
     },
     "execution_count": 115,
     "metadata": {},
     "output_type": "execute_result"
    }
   ],
   "source": [
    "2 > 1"
   ]
  },
  {
   "cell_type": "code",
   "execution_count": 117,
   "id": "abfc48b9-f122-4de6-8554-ea7fc5eb2069",
   "metadata": {},
   "outputs": [
    {
     "data": {
      "text/plain": [
       "False"
      ]
     },
     "execution_count": 117,
     "metadata": {},
     "output_type": "execute_result"
    }
   ],
   "source": [
    "2 < 1"
   ]
  },
  {
   "cell_type": "code",
   "execution_count": 119,
   "id": "e26686f4-af88-40b1-89dc-4837185ca543",
   "metadata": {},
   "outputs": [
    {
     "name": "stdout",
     "output_type": "stream",
     "text": [
      "True\n",
      "False\n"
     ]
    }
   ],
   "source": [
    "# 문자열에 비교 연산자를 적용하면 한글은 사전순서로 앞에 있는 것이 작은 값을 가짐\n",
    "print(\"가방\" < \"하마\")\n",
    "print(\"가방\" > \"하마\")"
   ]
  },
  {
   "cell_type": "markdown",
   "id": "2b9af20e-8880-4b98-be98-ecf77ca83319",
   "metadata": {},
   "source": [
    "### - 불 변환"
   ]
  },
  {
   "cell_type": "code",
   "execution_count": 122,
   "id": "8dc709b0-69ea-4d3a-9ce9-b45860612fa8",
   "metadata": {},
   "outputs": [
    {
     "data": {
      "text/plain": [
       "True"
      ]
     },
     "execution_count": 122,
     "metadata": {},
     "output_type": "execute_result"
    }
   ],
   "source": [
    "bool(\"python\")"
   ]
  },
  {
   "cell_type": "code",
   "execution_count": 124,
   "id": "bc761e77-76c6-474f-ae11-8b2aeb121c5d",
   "metadata": {},
   "outputs": [
    {
     "data": {
      "text/plain": [
       "False"
      ]
     },
     "execution_count": 124,
     "metadata": {},
     "output_type": "execute_result"
    }
   ],
   "source": [
    "bool(\"\")"
   ]
  },
  {
   "cell_type": "code",
   "execution_count": 126,
   "id": "4c845b5f-fb02-40e9-a6cf-21d2a046f1ba",
   "metadata": {},
   "outputs": [
    {
     "data": {
      "text/plain": [
       "True"
      ]
     },
     "execution_count": 126,
     "metadata": {},
     "output_type": "execute_result"
    }
   ],
   "source": [
    "bool(1)"
   ]
  },
  {
   "cell_type": "code",
   "execution_count": 128,
   "id": "8a3c7f6d-2a75-4d2d-bd2a-838ba2b961aa",
   "metadata": {},
   "outputs": [
    {
     "data": {
      "text/plain": [
       "False"
      ]
     },
     "execution_count": 128,
     "metadata": {},
     "output_type": "execute_result"
    }
   ],
   "source": [
    "bool(0)"
   ]
  },
  {
   "cell_type": "code",
   "execution_count": 130,
   "id": "935ce595-104f-44b4-82e4-c3c3f79a5368",
   "metadata": {},
   "outputs": [
    {
     "data": {
      "text/plain": [
       "False"
      ]
     },
     "execution_count": 130,
     "metadata": {},
     "output_type": "execute_result"
    }
   ],
   "source": [
    "bool(None)"
   ]
  },
  {
   "cell_type": "code",
   "execution_count": 132,
   "id": "9b15f39b-541c-4cb1-8e38-b1a8ea8e2fd6",
   "metadata": {},
   "outputs": [
    {
     "data": {
      "text/plain": [
       "1"
      ]
     },
     "execution_count": 132,
     "metadata": {},
     "output_type": "execute_result"
    }
   ],
   "source": [
    "int(True)"
   ]
  },
  {
   "cell_type": "code",
   "execution_count": 134,
   "id": "784ed2d3-6add-4b7e-af21-a384bd7dc457",
   "metadata": {},
   "outputs": [
    {
     "data": {
      "text/plain": [
       "0"
      ]
     },
     "execution_count": 134,
     "metadata": {},
     "output_type": "execute_result"
    }
   ],
   "source": [
    "int(False)"
   ]
  },
  {
   "cell_type": "markdown",
   "id": "042ab723-05bc-4935-ba50-770829330cf7",
   "metadata": {},
   "source": [
    "### - 논리 연산자\n",
    "\n",
    "- not : 불을 반대로 전환\n",
    "- and : 두 값이 모두 참일 때 True를 출력하고, 그 외에는 모두 False를 출력\n",
    "- or : 두 값 중 하나만 참이어도 True를 출력하고, 두 개가 모두 거짓일 때만 False를 출력"
   ]
  },
  {
   "cell_type": "code",
   "execution_count": 137,
   "id": "821deb90-004d-4f5f-b405-2bdbe27f7bad",
   "metadata": {},
   "outputs": [
    {
     "name": "stdout",
     "output_type": "stream",
     "text": [
      "False\n",
      "True\n"
     ]
    }
   ],
   "source": [
    "print(not True)\n",
    "print(not False)"
   ]
  },
  {
   "cell_type": "code",
   "execution_count": 139,
   "id": "abb626fd-3736-4d4f-84c2-357fd7311cfe",
   "metadata": {},
   "outputs": [
    {
     "name": "stdout",
     "output_type": "stream",
     "text": [
      "True\n",
      "False\n",
      "False\n",
      "False\n"
     ]
    }
   ],
   "source": [
    "print(True and True)\n",
    "print(True and False)\n",
    "print(False and True)\n",
    "print(False and False)"
   ]
  },
  {
   "cell_type": "code",
   "execution_count": 141,
   "id": "d3610fad-2c45-492d-aaa9-faa4bc8234ed",
   "metadata": {},
   "outputs": [
    {
     "name": "stdout",
     "output_type": "stream",
     "text": [
      "True\n",
      "True\n",
      "True\n",
      "False\n"
     ]
    }
   ],
   "source": [
    "print(True or True)\n",
    "print(True or False)\n",
    "print(False or True)\n",
    "print(False or False)"
   ]
  },
  {
   "cell_type": "markdown",
   "id": "45bfae69-d0e1-4c5c-a7d9-ce5470645f3d",
   "metadata": {},
   "source": [
    "# **연습문제**"
   ]
  },
  {
   "cell_type": "code",
   "execution_count": 144,
   "id": "4f2a6b9e-f116-40c9-93c1-eab88800c823",
   "metadata": {},
   "outputs": [
    {
     "name": "stdout",
     "output_type": "stream",
     "text": [
      "True\n"
     ]
    }
   ],
   "source": [
    "# 1. 자연수를 입력받아 홀수인지 짝수인지 판별하기\n",
    "# 짝수가 입력되면 => True\n",
    "# 홀수가 입력되면 => False\n",
    "num = 14\n",
    "\n",
    "print(num % 2 == 0)"
   ]
  },
  {
   "cell_type": "code",
   "execution_count": 146,
   "id": "cb07450e-37a9-4a2c-970c-3fdba58935a4",
   "metadata": {},
   "outputs": [
    {
     "data": {
      "text/plain": [
       "False"
      ]
     },
     "execution_count": 146,
     "metadata": {},
     "output_type": "execute_result"
    }
   ],
   "source": [
    "# 비트연산자\n",
    "13 & 1 == 0"
   ]
  },
  {
   "cell_type": "code",
   "execution_count": 148,
   "id": "2efaf4ec-6dce-45a3-b646-08d8d775627f",
   "metadata": {},
   "outputs": [
    {
     "data": {
      "text/plain": [
       "('0b1101', '0b1011', 9)"
      ]
     },
     "execution_count": 148,
     "metadata": {},
     "output_type": "execute_result"
    }
   ],
   "source": [
    "bin(13), bin(11), 13 & 11"
   ]
  },
  {
   "cell_type": "code",
   "execution_count": 150,
   "id": "297d6f19-95ab-490b-9299-6f2dd608d840",
   "metadata": {},
   "outputs": [
    {
     "name": "stdout",
     "output_type": "stream",
     "text": [
      "881120\n",
      "1\n"
     ]
    }
   ],
   "source": [
    "# 2. 주민등록번호에서 생년월일, 성별 추출하기\n",
    "hong = \"881120-1068234\"\n",
    "\n",
    "# 생년월일(881120) 출력\n",
    "print(hong[:6])\n",
    "\n",
    "# 성별(1) 출력\n",
    "print(hong[7])"
   ]
  },
  {
   "cell_type": "code",
   "execution_count": 152,
   "id": "ede4530a-3406-4884-a3f1-f27141fa9a6e",
   "metadata": {},
   "outputs": [
    {
     "name": "stdout",
     "output_type": "stream",
     "text": [
      "you71!\n"
     ]
    }
   ],
   "source": [
    "# 3. 비밀번호 만들기\n",
    "# 사이트별로 아래의 규칙에 따라 비밀번호를 생성하는 코드를 작성하기\n",
    "# 사이트 주소 예시) \"http://naver.com\", \"http://daum.net\", \"http://google.com\", \"http://youtube.com\"\n",
    "# 규칙1 : http:// 부분은 제외한다\n",
    "# 규칙2 : 처음 만나는 점(.) 이후 부분도 제외한다\n",
    "# 규칙3 : 남은 글자 중 처음 세 자리 + 글자 개수 + 글자 내 \"e\"의 개수 + \"!\" 로 비밀번호를 구성한다\n",
    "# 규칙에 따라 \"http://naver.com\" 의 비밀번호를 생성하면 nav51! 가 된다\n",
    "\n",
    "# addr = \"http://naver.com\"\n",
    "# addr = \"http://daum.net\"\n",
    "# addr = \"http://google.com\"\n",
    "addr = \"http://youtube.com\"\n",
    "\n",
    "addr = addr.replace(\"http://\", \"\") # \"naver.com\"\n",
    "addr = addr[:addr.index(\".\")] # naver\n",
    "password = addr[:3] + str(len(addr)) + str(addr.count(\"e\")) + \"!\"\n",
    "print(password)"
   ]
  },
  {
   "cell_type": "code",
   "execution_count": 154,
   "id": "d02c6eab-ca51-4361-9868-9e36c010a78f",
   "metadata": {},
   "outputs": [
    {
     "name": "stdout",
     "output_type": "stream",
     "text": [
      "nav51!\n"
     ]
    }
   ],
   "source": [
    "addr = \"http://naver.com\"\n",
    "\n",
    "addr = addr.replace(\"http://\", \"\") # \"naver.com\"\n",
    "addr = addr[:addr.index(\".\")] # naver\n",
    "password = f\"{addr[:3]}{len(addr)}{addr.count('e')}!\"\n",
    "print(password)"
   ]
  },
  {
   "cell_type": "code",
   "execution_count": null,
   "id": "98318a8f-8a41-435f-b574-ff27a178c82b",
   "metadata": {},
   "outputs": [],
   "source": []
  }
 ],
 "metadata": {
  "kernelspec": {
   "display_name": "Python [conda env:base] *",
   "language": "python",
   "name": "conda-base-py"
  },
  "language_info": {
   "codemirror_mode": {
    "name": "ipython",
    "version": 3
   },
   "file_extension": ".py",
   "mimetype": "text/x-python",
   "name": "python",
   "nbconvert_exporter": "python",
   "pygments_lexer": "ipython3",
   "version": "3.12.7"
  }
 },
 "nbformat": 4,
 "nbformat_minor": 5
}
