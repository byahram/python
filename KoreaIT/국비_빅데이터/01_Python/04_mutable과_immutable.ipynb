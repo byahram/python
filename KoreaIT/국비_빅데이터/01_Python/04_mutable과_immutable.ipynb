{
 "cells": [
  {
   "cell_type": "markdown",
   "id": "447c7331-c19c-41dc-a768-b582396a99ab",
   "metadata": {},
   "source": [
    "- mutable : 생성된 후에 변경이 가능한 자료형\n",
    "    - 리스트, 세트, 딕셔너리\n",
    "- immutable : 생성된 후에는 변경이 불가능한 자료형\n",
    "    - 정수, 실수, 문자열, 튜플\n",
    "- id() : 변수나 자료형의 메모리 주소를 확인"
   ]
  },
  {
   "cell_type": "markdown",
   "id": "b00319ea-3818-40ab-98a1-7b80ee251b2c",
   "metadata": {},
   "source": [
    "# **mutable**"
   ]
  },
  {
   "cell_type": "code",
   "execution_count": 1,
   "id": "c19b89c7-0434-4d4c-a735-d9acff3764dd",
   "metadata": {},
   "outputs": [
    {
     "name": "stdout",
     "output_type": "stream",
     "text": [
      "1446934438976\n"
     ]
    }
   ],
   "source": [
    "me = [1, 2, 3]\n",
    "\n",
    "print(id(me))"
   ]
  },
  {
   "cell_type": "code",
   "execution_count": 2,
   "id": "959c43cf-cef1-482c-8145-fe759a217029",
   "metadata": {},
   "outputs": [
    {
     "name": "stdout",
     "output_type": "stream",
     "text": [
      "1446934438976\n"
     ]
    }
   ],
   "source": [
    "me.append(4)\n",
    "\n",
    "print(id(me))"
   ]
  },
  {
   "cell_type": "code",
   "execution_count": 3,
   "id": "e278c77b-9895-4c4e-b665-e1793c38858b",
   "metadata": {},
   "outputs": [
    {
     "data": {
      "text/plain": [
       "[1, 2, 3, 4]"
      ]
     },
     "execution_count": 3,
     "metadata": {},
     "output_type": "execute_result"
    }
   ],
   "source": [
    "me"
   ]
  },
  {
   "cell_type": "markdown",
   "id": "a3572be4-aa7e-4c09-a254-13ec48149770",
   "metadata": {},
   "source": [
    "# **immutable**"
   ]
  },
  {
   "cell_type": "code",
   "execution_count": 4,
   "id": "5bc9c5da-c455-4c06-a63c-f763b66a053f",
   "metadata": {},
   "outputs": [
    {
     "name": "stdout",
     "output_type": "stream",
     "text": [
      "140715973556952\n"
     ]
    }
   ],
   "source": [
    "me = 10\n",
    "\n",
    "print(id(me))"
   ]
  },
  {
   "cell_type": "code",
   "execution_count": 5,
   "id": "26416154-706a-4759-a7db-0894120bfd86",
   "metadata": {},
   "outputs": [
    {
     "name": "stdout",
     "output_type": "stream",
     "text": [
      "140715973556984\n"
     ]
    }
   ],
   "source": [
    "me += 1\n",
    "\n",
    "print(id(me))"
   ]
  },
  {
   "cell_type": "markdown",
   "id": "e22ccdda-3d81-48ba-bb02-631d40311399",
   "metadata": {},
   "source": [
    "# **mutable의 특징**"
   ]
  },
  {
   "cell_type": "code",
   "execution_count": 6,
   "id": "361756ed-76e3-4156-a7e6-26955bc331ae",
   "metadata": {},
   "outputs": [
    {
     "name": "stdout",
     "output_type": "stream",
     "text": [
      "1446934839104\n",
      "1446934839104\n"
     ]
    }
   ],
   "source": [
    "me = [1, 2, 3]\n",
    "you = me\n",
    "\n",
    "print(id(you))\n",
    "print(id(me))"
   ]
  },
  {
   "cell_type": "code",
   "execution_count": 7,
   "id": "09bfa2f6-4ec9-4fbf-8a6a-cc515016211d",
   "metadata": {},
   "outputs": [],
   "source": [
    "you.append(4)"
   ]
  },
  {
   "cell_type": "code",
   "execution_count": 8,
   "id": "4949b0ab-27fe-4225-9689-d1e14c6aa938",
   "metadata": {},
   "outputs": [
    {
     "name": "stdout",
     "output_type": "stream",
     "text": [
      "[1, 2, 3, 4]\n"
     ]
    }
   ],
   "source": [
    "print(you)"
   ]
  },
  {
   "cell_type": "code",
   "execution_count": 9,
   "id": "bb86d787-302b-44cc-ade9-26c979e5e6ac",
   "metadata": {},
   "outputs": [
    {
     "name": "stdout",
     "output_type": "stream",
     "text": [
      "[1, 2, 3, 4]\n"
     ]
    }
   ],
   "source": [
    "print(me)"
   ]
  },
  {
   "cell_type": "markdown",
   "id": "24b4127a-8cd7-4aac-8b1f-0685ecc44f34",
   "metadata": {},
   "source": [
    "# **리스트의 복사**"
   ]
  },
  {
   "cell_type": "code",
   "execution_count": 10,
   "id": "8932819c-9216-40c0-99c0-d58f5700798f",
   "metadata": {},
   "outputs": [
    {
     "name": "stdout",
     "output_type": "stream",
     "text": [
      "[1, 2, 3, 4]\n",
      "1446934839104\n"
     ]
    }
   ],
   "source": [
    "print(me)\n",
    "print(id(me))"
   ]
  },
  {
   "cell_type": "code",
   "execution_count": 11,
   "id": "5d9750c7-4b2f-42df-8ea5-96caec6db621",
   "metadata": {},
   "outputs": [],
   "source": [
    "you = me[:]"
   ]
  },
  {
   "cell_type": "code",
   "execution_count": 12,
   "id": "9c53ac58-313f-418b-a344-f4aa7a91d38d",
   "metadata": {},
   "outputs": [
    {
     "name": "stdout",
     "output_type": "stream",
     "text": [
      "[1, 2, 3, 4]\n",
      "1446934886976\n"
     ]
    }
   ],
   "source": [
    "print(you)\n",
    "print(id(you))"
   ]
  },
  {
   "cell_type": "code",
   "execution_count": 13,
   "id": "c37be132-8c14-40bd-b9fa-81c6ea6762f1",
   "metadata": {},
   "outputs": [],
   "source": [
    "me.append(5)"
   ]
  },
  {
   "cell_type": "code",
   "execution_count": 14,
   "id": "a1350afd-ab5c-4561-853f-ff07f22f41db",
   "metadata": {},
   "outputs": [
    {
     "name": "stdout",
     "output_type": "stream",
     "text": [
      "[1, 2, 3, 4, 5]\n",
      "[1, 2, 3, 4]\n"
     ]
    }
   ],
   "source": [
    "print(me)\n",
    "print(you)"
   ]
  },
  {
   "cell_type": "code",
   "execution_count": 15,
   "id": "4ea18abb-5197-48ea-a1ea-97dc282d7701",
   "metadata": {},
   "outputs": [],
   "source": [
    "# copy 함수 사용\n",
    "you = me.copy()"
   ]
  },
  {
   "cell_type": "code",
   "execution_count": 16,
   "id": "17bbe925-4d73-424c-9579-bbef0a9d1b8a",
   "metadata": {},
   "outputs": [
    {
     "name": "stdout",
     "output_type": "stream",
     "text": [
      "[1, 2, 3, 4, 5]\n",
      "[1, 2, 3, 4, 5]\n",
      "1446934839104\n",
      "1446934884352\n"
     ]
    }
   ],
   "source": [
    "print(me)\n",
    "print(you)\n",
    "\n",
    "print(id(me))\n",
    "print(id(you))"
   ]
  },
  {
   "cell_type": "code",
   "execution_count": 17,
   "id": "e276f2fb-ee64-4df7-8c69-2ea121275683",
   "metadata": {},
   "outputs": [],
   "source": [
    "me.append(6)"
   ]
  },
  {
   "cell_type": "code",
   "execution_count": 18,
   "id": "0bc82333-516f-41b8-ab76-f8f9b92b5955",
   "metadata": {},
   "outputs": [
    {
     "name": "stdout",
     "output_type": "stream",
     "text": [
      "[1, 2, 3, 4, 5, 6]\n",
      "[1, 2, 3, 4, 5]\n"
     ]
    }
   ],
   "source": [
    "print(me)\n",
    "print(you)"
   ]
  },
  {
   "cell_type": "code",
   "execution_count": null,
   "id": "661b72f3-30f2-4035-984c-f5e27fbb920c",
   "metadata": {},
   "outputs": [],
   "source": []
  }
 ],
 "metadata": {
  "kernelspec": {
   "display_name": "Python [conda env:base] *",
   "language": "python",
   "name": "conda-base-py"
  },
  "language_info": {
   "codemirror_mode": {
    "name": "ipython",
    "version": 3
   },
   "file_extension": ".py",
   "mimetype": "text/x-python",
   "name": "python",
   "nbconvert_exporter": "python",
   "pygments_lexer": "ipython3",
   "version": "3.12.7"
  }
 },
 "nbformat": 4,
 "nbformat_minor": 5
}
