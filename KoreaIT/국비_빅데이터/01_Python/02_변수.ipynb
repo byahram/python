{
 "cells": [
  {
   "cell_type": "markdown",
   "id": "b9d22f78-a5a8-4698-baa8-ce74a81c958f",
   "metadata": {},
   "source": [
    "# **변수**\n",
    "\n",
    "- 변할 수 있는 자료\n",
    "- 값을 저장할 때 사용\n",
    "    - 모든 자료형의 값을 저장할 수 있음"
   ]
  },
  {
   "cell_type": "code",
   "execution_count": 2,
   "id": "22cdb6db-573c-4363-9628-ce0dd6d03a50",
   "metadata": {},
   "outputs": [
    {
     "name": "stdout",
     "output_type": "stream",
     "text": [
      "3.14159265\n"
     ]
    }
   ],
   "source": [
    "pi = 3.14159265\n",
    "print(pi)"
   ]
  },
  {
   "cell_type": "markdown",
   "id": "5b3bf4e8-cac7-4199-83c9-a42c44cfd0a9",
   "metadata": {},
   "source": [
    "## 변수 활용 방법\n",
    "\n",
    "- 변수를 선언\n",
    "    - 변수를 생성하는 것\n",
    "- 변수에 값을 할당\n",
    "    - 변수에 값을 넣는 것\n",
    "        - = 기호는 우변의 값을 좌변에 할당하겠다는 의미\n",
    "- 변수를 참조\n",
    "    - 변수에서 값을 꺼내는 것"
   ]
  },
  {
   "cell_type": "code",
   "execution_count": 5,
   "id": "0a6ed3ce-0e4b-4adc-b094-d92c1f8257d1",
   "metadata": {},
   "outputs": [
    {
     "data": {
      "text/plain": [
       "5.14159265"
      ]
     },
     "execution_count": 5,
     "metadata": {},
     "output_type": "execute_result"
    }
   ],
   "source": [
    "pi + 2"
   ]
  },
  {
   "cell_type": "code",
   "execution_count": 7,
   "id": "500ac4d9-7881-4920-bff4-1a0b40122563",
   "metadata": {},
   "outputs": [
    {
     "data": {
      "text/plain": [
       "6.2831853"
      ]
     },
     "execution_count": 7,
     "metadata": {},
     "output_type": "execute_result"
    }
   ],
   "source": [
    "pi * 2"
   ]
  },
  {
   "cell_type": "code",
   "execution_count": 9,
   "id": "affc7f32-e087-4df1-bd06-4ed7b8d03a1b",
   "metadata": {},
   "outputs": [
    {
     "data": {
      "text/plain": [
       "9.869604378534024"
      ]
     },
     "execution_count": 9,
     "metadata": {},
     "output_type": "execute_result"
    }
   ],
   "source": [
    "pi * pi"
   ]
  },
  {
   "cell_type": "markdown",
   "id": "e481bb20-0d88-409d-82dd-f0f5d6050c18",
   "metadata": {},
   "source": [
    "# **복합 대입 연산자**\n",
    "\n",
    "- 자료형에 적용하는 기본 연산자와 = 연산자를 함께 사용해 구성하는 연산자\n",
    "    - += : 숫자 덧셈 후 대입\n",
    "    - -= : 숫자 뺄셈 후 대입\n",
    "    - *= : 숫자 곱셈 후 대입\n",
    "    - /= : 숫자 나눗셈 후 대입\n",
    "    - %= : 숫자의 나머지를 구한 후 대입\n",
    "    - **= : 숫자 제곱 후 대입\n",
    "- 예) a += 10 은 a = a + 10 과 같은 결과"
   ]
  },
  {
   "cell_type": "code",
   "execution_count": 12,
   "id": "64ac7a22-7d77-4228-950f-cc338b3dd89a",
   "metadata": {},
   "outputs": [
    {
     "name": "stdout",
     "output_type": "stream",
     "text": [
      "160\n"
     ]
    }
   ],
   "source": [
    "number = 100 # 100\n",
    "number += 10 # 110\n",
    "number += 20 # 130\n",
    "number += 30 # 160\n",
    "print(number)"
   ]
  },
  {
   "cell_type": "code",
   "execution_count": 14,
   "id": "40d86cd6-064d-4df3-92bb-0d17a7ce82bb",
   "metadata": {},
   "outputs": [
    {
     "name": "stdout",
     "output_type": "stream",
     "text": [
      "안녕하세요!!\n"
     ]
    }
   ],
   "source": [
    "# 문자열 복합 대입 연산자\n",
    "str1 = \"안녕하세요\" # 안녕하세요\n",
    "str1 += \"!\" # 안녕하세요!\n",
    "str1 += \"!\" # 안녕하세요!!\n",
    "print(str1)"
   ]
  },
  {
   "cell_type": "markdown",
   "id": "920dfa36-1194-4dac-872c-90f4f3cb3814",
   "metadata": {},
   "source": [
    "# **자료형 변환**"
   ]
  },
  {
   "cell_type": "markdown",
   "id": "4fda9cc3-022b-4c02-b042-e01f614e04be",
   "metadata": {},
   "source": [
    "## 문자열을 숫자로 바꾸기\n",
    "\n",
    "- int() : int 자료형으로 변환\n",
    "- float() : float 자료형으로 변환"
   ]
  },
  {
   "cell_type": "code",
   "execution_count": 18,
   "id": "b6b0b6d6-89d8-4314-8a45-809e98075518",
   "metadata": {},
   "outputs": [
    {
     "name": "stdout",
     "output_type": "stream",
     "text": [
      "문자열 자료 :  27352\n",
      "숫자 자료 :  325\n"
     ]
    }
   ],
   "source": [
    "str_a = \"273\"\n",
    "int_a = int(str_a)\n",
    "\n",
    "str_b = \"52\"\n",
    "int_b = int(str_b)\n",
    "\n",
    "print(\"문자열 자료 : \", str_a + str_b)\n",
    "print(\"숫자 자료 : \", int_a + int_b)"
   ]
  },
  {
   "cell_type": "code",
   "execution_count": 20,
   "id": "dd42b012-34bc-4df1-a95f-19455c05ce8a",
   "metadata": {},
   "outputs": [
    {
     "name": "stdout",
     "output_type": "stream",
     "text": [
      "<class 'int'> 52\n",
      "<class 'float'> 52.273\n"
     ]
    }
   ],
   "source": [
    "output_a = int(\"52\")\n",
    "output_b = float(\"52.273\")\n",
    "\n",
    "print(type(output_a), output_a)\n",
    "print(type(output_b), output_b)"
   ]
  },
  {
   "cell_type": "code",
   "execution_count": 22,
   "id": "1c29412f-07d8-4baa-91b1-ae700d75b2fb",
   "metadata": {},
   "outputs": [
    {
     "name": "stdout",
     "output_type": "stream",
     "text": [
      "325.0\n"
     ]
    }
   ],
   "source": [
    "input_a = float(\"273\")\n",
    "input_b = float(\"52\")\n",
    "\n",
    "print(input_a + input_b)"
   ]
  },
  {
   "cell_type": "markdown",
   "id": "ffc2e12e-ec6f-4b82-98ea-b3418b153263",
   "metadata": {},
   "source": [
    "- 자료형을 변환할 때 '변환할 수 없는 것'을 변환하려고 하면 ValueError 예외가 발생\n",
    "    - 숫자가 아닌 것을 숫자로 변환하려고 할 때\n",
    "    - 소수점이 있는 숫자 형식의 문자열을 int() 함수로 변환하려고 할 때"
   ]
  },
  {
   "cell_type": "code",
   "execution_count": 25,
   "id": "84f27442-c00e-45cb-8edd-cb81fbc27049",
   "metadata": {},
   "outputs": [
    {
     "ename": "ValueError",
     "evalue": "invalid literal for int() with base 10: '안녕하세요'",
     "output_type": "error",
     "traceback": [
      "\u001b[1;31m---------------------------------------------------------------------------\u001b[0m",
      "\u001b[1;31mValueError\u001b[0m                                Traceback (most recent call last)",
      "Cell \u001b[1;32mIn[25], line 2\u001b[0m\n\u001b[0;32m      1\u001b[0m \u001b[38;5;66;03m# 문자열은 숫자로 변환할 수 없음\u001b[39;00m\n\u001b[1;32m----> 2\u001b[0m \u001b[38;5;28mint\u001b[39m(\u001b[38;5;124m\"\u001b[39m\u001b[38;5;124m안녕하세요\u001b[39m\u001b[38;5;124m\"\u001b[39m)\n",
      "\u001b[1;31mValueError\u001b[0m: invalid literal for int() with base 10: '안녕하세요'"
     ]
    }
   ],
   "source": [
    "# 문자열은 숫자로 변환할 수 없음\n",
    "int(\"안녕하세요\")"
   ]
  },
  {
   "cell_type": "code",
   "execution_count": 27,
   "id": "d933db70-4c17-443d-9ad0-dfe5624df777",
   "metadata": {},
   "outputs": [
    {
     "ename": "ValueError",
     "evalue": "invalid literal for int() with base 10: '52.273'",
     "output_type": "error",
     "traceback": [
      "\u001b[1;31m---------------------------------------------------------------------------\u001b[0m",
      "\u001b[1;31mValueError\u001b[0m                                Traceback (most recent call last)",
      "Cell \u001b[1;32mIn[27], line 2\u001b[0m\n\u001b[0;32m      1\u001b[0m \u001b[38;5;66;03m# 부동소수점이 있는 자료를 정수형으로 바꿀 수 없음\u001b[39;00m\n\u001b[1;32m----> 2\u001b[0m \u001b[38;5;28mint\u001b[39m(\u001b[38;5;124m\"\u001b[39m\u001b[38;5;124m52.273\u001b[39m\u001b[38;5;124m\"\u001b[39m)\n",
      "\u001b[1;31mValueError\u001b[0m: invalid literal for int() with base 10: '52.273'"
     ]
    }
   ],
   "source": [
    "# 부동소수점이 있는 자료를 정수형으로 바꿀 수 없음\n",
    "int(\"52.273\")"
   ]
  },
  {
   "cell_type": "code",
   "execution_count": 29,
   "id": "9af0402b-f315-4f36-a572-992f05895b7a",
   "metadata": {},
   "outputs": [
    {
     "data": {
      "text/plain": [
       "52.273"
      ]
     },
     "execution_count": 29,
     "metadata": {},
     "output_type": "execute_result"
    }
   ],
   "source": [
    "float(\"52.273\")"
   ]
  },
  {
   "cell_type": "code",
   "execution_count": 31,
   "id": "ea575092-17a6-40a4-ac13-8a7bd63853dd",
   "metadata": {},
   "outputs": [
    {
     "data": {
      "text/plain": [
       "52"
      ]
     },
     "execution_count": 31,
     "metadata": {},
     "output_type": "execute_result"
    }
   ],
   "source": [
    "int(52.273)"
   ]
  },
  {
   "cell_type": "markdown",
   "id": "5b130b5c-3252-4e7f-83a5-8a9fdabd69c4",
   "metadata": {},
   "source": [
    "## 숫자를 문자열로 바꾸기\n",
    "\n",
    "- str() : 다른 자료형을 문자열로 변환"
   ]
  },
  {
   "cell_type": "code",
   "execution_count": 34,
   "id": "d014fbc8-f572-4698-b75d-6ab6a2e39c62",
   "metadata": {},
   "outputs": [
    {
     "name": "stdout",
     "output_type": "stream",
     "text": [
      "<class 'str'> 52\n",
      "<class 'str'> 52.273\n"
     ]
    }
   ],
   "source": [
    "output_a = str(52)\n",
    "output_b = str(52.273)\n",
    "\n",
    "print(type(output_a), output_a)\n",
    "print(type(output_b), output_b)"
   ]
  },
  {
   "cell_type": "code",
   "execution_count": null,
   "id": "a7fbb8d5-d4a4-4d99-84d0-9c5c1cd28c3d",
   "metadata": {},
   "outputs": [],
   "source": []
  }
 ],
 "metadata": {
  "kernelspec": {
   "display_name": "Python [conda env:base] *",
   "language": "python",
   "name": "conda-base-py"
  },
  "language_info": {
   "codemirror_mode": {
    "name": "ipython",
    "version": 3
   },
   "file_extension": ".py",
   "mimetype": "text/x-python",
   "name": "python",
   "nbconvert_exporter": "python",
   "pygments_lexer": "ipython3",
   "version": "3.12.7"
  }
 },
 "nbformat": 4,
 "nbformat_minor": 5
}
