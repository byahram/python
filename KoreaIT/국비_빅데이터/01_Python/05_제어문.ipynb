{
 "cells": [
  {
   "cell_type": "markdown",
   "id": "371c3b91-eb24-4f6e-9e17-23bd9e74c3e9",
   "metadata": {},
   "source": [
    "<img src = \"./image/control.png\" width = \"700\" height = \"700\">"
   ]
  },
  {
   "cell_type": "markdown",
   "id": "5814e82e-2405-49ec-bebf-2822fd59b80d",
   "metadata": {},
   "source": [
    "# **조건문**\n",
    "\n",
    "- 특정 조건을 만족하는지 여부에 따라 실행하는 코드가 달라야 할 때 사용"
   ]
  },
  {
   "cell_type": "code",
   "execution_count": 3,
   "id": "ba7bad01-42ac-4e76-b2a2-75af0c689831",
   "metadata": {},
   "outputs": [
    {
     "name": "stdout",
     "output_type": "stream",
     "text": [
      "True 입니다\n",
      "Hello!\n"
     ]
    }
   ],
   "source": [
    "if True:\n",
    "    print(\"True 입니다\")\n",
    "\n",
    "print(\"Hello!\")"
   ]
  },
  {
   "cell_type": "code",
   "execution_count": 5,
   "id": "e821e939-e08f-4eb0-9ec6-91c833c2977b",
   "metadata": {},
   "outputs": [
    {
     "name": "stdout",
     "output_type": "stream",
     "text": [
      "Hello!\n"
     ]
    }
   ],
   "source": [
    "if False:\n",
    "    print(\"False 입니다\")\n",
    "\n",
    "print(\"Hello!\")"
   ]
  },
  {
   "cell_type": "markdown",
   "id": "36351044-b606-42e9-9935-019dad708cc7",
   "metadata": {},
   "source": [
    "## if-else문\n",
    "\n",
    "- 조건식을 만족하는 경우와 만족하지 않는 경우를 구분하여 코드를 작성할 때 사용\n",
    "- 조건문이 두 가지로만 구분될 때 if-else문을 사용하면 비교를 한 번만 하기 때문에 if만 사용할 때보다 더 효율적\n",
    "\n",
    "```\n",
    "if 조건식(불 값이 나오는 표현식):\n",
    "    조건식의 결과가 True일 때 실행문\n",
    "\n",
    "else:\n",
    "    조건식의 결과가 False일 때 실행문\n",
    "```"
   ]
  },
  {
   "cell_type": "code",
   "execution_count": 8,
   "id": "1c49fe69-9cc5-4379-beac-7716aa25f203",
   "metadata": {},
   "outputs": [
    {
     "name": "stdout",
     "output_type": "stream",
     "text": [
      "택시를 타고 가라\n"
     ]
    }
   ],
   "source": [
    "money = True\n",
    "\n",
    "if money:\n",
    "    print(\"택시를 타고 가라\")\n",
    "\n",
    "else:\n",
    "    print(\"걸어 가라\")"
   ]
  },
  {
   "cell_type": "code",
   "execution_count": 10,
   "id": "a2ea276a-4475-43ff-8f6d-b775690f9642",
   "metadata": {},
   "outputs": [
    {
     "name": "stdout",
     "output_type": "stream",
     "text": [
      "택시를 타고 가라\n"
     ]
    }
   ],
   "source": [
    "money = 20000\n",
    "pay = 30000\n",
    "card = True\n",
    "\n",
    "if money >= pay or card:\n",
    "    print(\"택시를 타고 가라\")\n",
    "\n",
    "else:\n",
    "    print(\"걸어 가라\")"
   ]
  },
  {
   "cell_type": "markdown",
   "id": "11fb3037-3827-47a8-b0af-f7724da3a8a2",
   "metadata": {},
   "source": [
    "- in, not in\n",
    "    - x in 반복가능한 객체\n",
    "    - x not in 반복가능한 객체"
   ]
  },
  {
   "cell_type": "code",
   "execution_count": 13,
   "id": "7d0d1f18-5776-4ba6-aa73-901514b72054",
   "metadata": {},
   "outputs": [
    {
     "name": "stdout",
     "output_type": "stream",
     "text": [
      "True\n"
     ]
    }
   ],
   "source": [
    "print(1 in [1, 2, 3])"
   ]
  },
  {
   "cell_type": "code",
   "execution_count": 15,
   "id": "7eeaf3c2-3eef-4bc6-b3ae-5d54db556c89",
   "metadata": {},
   "outputs": [
    {
     "name": "stdout",
     "output_type": "stream",
     "text": [
      "False\n"
     ]
    }
   ],
   "source": [
    "print(1 not in [1, 2, 3])"
   ]
  },
  {
   "cell_type": "code",
   "execution_count": 17,
   "id": "4fb0dc72-d60a-4a0b-a02a-2489e3392347",
   "metadata": {},
   "outputs": [
    {
     "name": "stdout",
     "output_type": "stream",
     "text": [
      "True\n"
     ]
    }
   ],
   "source": [
    "print(\"a\" in (\"a\", \"b\", \"c\"))"
   ]
  },
  {
   "cell_type": "code",
   "execution_count": 19,
   "id": "216a325e-955d-4e53-a9e2-09fd93cba7a7",
   "metadata": {},
   "outputs": [
    {
     "name": "stdout",
     "output_type": "stream",
     "text": [
      "True\n"
     ]
    }
   ],
   "source": [
    "print(\"j\" not in \"python\")"
   ]
  },
  {
   "cell_type": "code",
   "execution_count": 21,
   "id": "80908aa0-b12b-461c-9709-90c82006edbd",
   "metadata": {},
   "outputs": [
    {
     "name": "stdout",
     "output_type": "stream",
     "text": [
      "택시를 타고 가라\n"
     ]
    }
   ],
   "source": [
    "pocket = [\"cellphone\", \"money\"]\n",
    "\n",
    "if \"money\" in pocket:\n",
    "    print(\"택시를 타고 가라\")\n",
    "\n",
    "else:\n",
    "    print(\"걸어 가라\")"
   ]
  },
  {
   "cell_type": "markdown",
   "id": "9e62374a-8eeb-43ba-8e28-5fd202cef6e8",
   "metadata": {},
   "source": [
    "## if-elif문\n",
    "\n",
    "- 특정 조건에 따라 3가지 이상으로 구분해야 할 때 사용\n",
    "\n",
    "```\n",
    "if 조건식1:\n",
    "    조건식1의 결과가 True일 때 실행문\n",
    "\n",
    "elif 조건식2:\n",
    "    조건식1의 결과가 False이고, 조건식2의 결과가 True일 때 실행문\n",
    "\n",
    "elif 조건식3:\n",
    "    조건식1, 2의 결과가 모두 False이고, 조건식3의 결과가 True일 때 실행문\n",
    "\n",
    "else:\n",
    "    조건식 1, 2, 3의 결과가 모두 False일 때 실행문\n",
    "```"
   ]
  },
  {
   "cell_type": "code",
   "execution_count": 24,
   "id": "4ff887e9-a2ca-4ed4-b160-f78d794a1112",
   "metadata": {},
   "outputs": [
    {
     "name": "stdout",
     "output_type": "stream",
     "text": [
      "카드로 택시를 타고 가라\n"
     ]
    }
   ],
   "source": [
    "# 예) 주머니에 돈이 있으면 택시를 타고, 주머니에 돈은 없지만 카드가 있으면 택시를 타고,\n",
    "# 돈도 없고 카드도 없으면 걸어 가라\n",
    "pocket = [\"cellphone\"]\n",
    "card = True\n",
    "\n",
    "if \"money\" in pocket:\n",
    "    print(\"현금으로 택시를 타고 가라\")\n",
    "\n",
    "else:\n",
    "    if card:\n",
    "        print(\"카드로 택시를 타고 가라\")\n",
    "\n",
    "    else:\n",
    "        print(\"걸어 가라\")"
   ]
  },
  {
   "cell_type": "code",
   "execution_count": 26,
   "id": "67c4cbcc-10b5-4f95-8e11-3175f0225093",
   "metadata": {},
   "outputs": [
    {
     "name": "stdout",
     "output_type": "stream",
     "text": [
      "카드로 택시를 타고 가라\n",
      "hello\n"
     ]
    }
   ],
   "source": [
    "if \"money\" in pocket:\n",
    "    print(\"현금으로 택시를 타고 가라\")\n",
    "\n",
    "elif card:\n",
    "    print(\"카드로 택시를 타고 가라\")\n",
    "\n",
    "else:\n",
    "    print(\"걸어 가라\")\n",
    "\n",
    "print(\"hello\")"
   ]
  },
  {
   "cell_type": "markdown",
   "id": "0e2d9fe7-44ee-4f13-80a5-cb2ee2f0cfe8",
   "metadata": {},
   "source": [
    "- if 조건문에 불이 아닌 다른 값이 올 때는 자동으로 불로 변환해서 처리함\n",
    "    - 따라서 어떤 값이 True로 변환되고 어떤 값이 False로 변환되는지 파악하고 있어야 함"
   ]
  },
  {
   "cell_type": "code",
   "execution_count": 29,
   "id": "49af6cee-aad2-4a21-9892-8052c729bf05",
   "metadata": {},
   "outputs": [
    {
     "name": "stdout",
     "output_type": "stream",
     "text": [
      "거짓\n"
     ]
    }
   ],
   "source": [
    "if None:\n",
    "    print(\"참\")\n",
    "\n",
    "else:\n",
    "    print(\"거짓\")"
   ]
  },
  {
   "cell_type": "code",
   "execution_count": 31,
   "id": "ceb2f8fc-bbd9-4640-a58a-48eb899bf281",
   "metadata": {},
   "outputs": [
    {
     "name": "stdout",
     "output_type": "stream",
     "text": [
      "거짓\n"
     ]
    }
   ],
   "source": [
    "if 0:\n",
    "    print(\"참\")\n",
    "\n",
    "else:\n",
    "    print(\"거짓\")"
   ]
  },
  {
   "cell_type": "code",
   "execution_count": 33,
   "id": "b15dbe2e-090a-4325-957b-df5fe95fd5e1",
   "metadata": {},
   "outputs": [
    {
     "name": "stdout",
     "output_type": "stream",
     "text": [
      "참\n"
     ]
    }
   ],
   "source": [
    "if 3.5:\n",
    "    print(\"참\")\n",
    "\n",
    "else:\n",
    "    print(\"거짓\")"
   ]
  },
  {
   "cell_type": "code",
   "execution_count": 35,
   "id": "b23f77a0-85c0-4d60-869f-336ad8c6b967",
   "metadata": {},
   "outputs": [
    {
     "name": "stdout",
     "output_type": "stream",
     "text": [
      "참\n"
     ]
    }
   ],
   "source": [
    "if \"Hello\":\n",
    "    print(\"참\")\n",
    "\n",
    "else:\n",
    "    print(\"거짓\")"
   ]
  },
  {
   "cell_type": "code",
   "execution_count": 37,
   "id": "8e3a2814-01a2-4b95-8377-197c8884507d",
   "metadata": {},
   "outputs": [
    {
     "name": "stdout",
     "output_type": "stream",
     "text": [
      "거짓\n"
     ]
    }
   ],
   "source": [
    "if \"\":\n",
    "    print(\"참\")\n",
    "\n",
    "else:\n",
    "    print(\"거짓\")"
   ]
  },
  {
   "cell_type": "markdown",
   "id": "7f4b1642-3d5f-418d-9715-5c04a22bce59",
   "metadata": {},
   "source": [
    "# **pass**\n",
    "\n",
    "- 일단 프로그램의 전체 골격을 잡아 놓고 내부에서 처리할 내용은 차근차근 만들어가고 싶은 경우 사용\n",
    "    - \"아무것도 안함\" 또는 \"곧 개발하겠음\"의 의미"
   ]
  },
  {
   "cell_type": "code",
   "execution_count": 40,
   "id": "82d07d81-f709-478a-b4db-ca25795fd4d0",
   "metadata": {},
   "outputs": [],
   "source": [
    "if False:\n",
    "    pass\n",
    "    \n",
    "else:\n",
    "    pass"
   ]
  },
  {
   "cell_type": "markdown",
   "id": "7558555a-0eab-42fc-b22e-a37caebc8609",
   "metadata": {},
   "source": [
    "# **조건부 표현식**\n",
    "\n",
    "- <조건문이 참인 경우의 값> if <조건문> else <조건문이 거짓인 경우의 값>"
   ]
  },
  {
   "cell_type": "code",
   "execution_count": 43,
   "id": "8b2bb275-d860-4981-aa8f-a4c5d9dc63e0",
   "metadata": {},
   "outputs": [
    {
     "name": "stdout",
     "output_type": "stream",
     "text": [
      "success\n"
     ]
    }
   ],
   "source": [
    "score = 60\n",
    "\n",
    "if score >= 60:\n",
    "    message = \"success\"\n",
    "\n",
    "else:\n",
    "    message = \"failure\"\n",
    "\n",
    "print(message)"
   ]
  },
  {
   "cell_type": "code",
   "execution_count": 45,
   "id": "2c9074d1-d5e0-4789-863f-da1678ac4461",
   "metadata": {},
   "outputs": [
    {
     "name": "stdout",
     "output_type": "stream",
     "text": [
      "failure\n"
     ]
    }
   ],
   "source": [
    "score = 50\n",
    "\n",
    "message = \"success\" if score >= 60 else \"failure\"\n",
    "\n",
    "print(message)"
   ]
  },
  {
   "cell_type": "markdown",
   "id": "bff357dd-e36a-43ae-b1e1-03d45368ffec",
   "metadata": {},
   "source": [
    "# **확인문제**"
   ]
  },
  {
   "cell_type": "code",
   "execution_count": 48,
   "id": "cd8ba997-f4d4-4278-8fa3-932e90cf1d4e",
   "metadata": {},
   "outputs": [
    {
     "name": "stdout",
     "output_type": "stream",
     "text": [
      "오락문화의 선구자\n"
     ]
    }
   ],
   "source": [
    "# 학점을 입력받아 다음의 조건에 따라 적절한 문장을 출력하기\n",
    "# 학점이 4.2 이상이면 \"교수님의 사랑\"\n",
    "# 학점이 2.8 이상이고 4.2 미만이면 \"일반인\"\n",
    "# 학점이 2.8 미만이면 \"오락문화의 선구자\"\n",
    "score = 2.4\n",
    "\n",
    "if score >= 4.2:\n",
    "    print(\"교수님의 사랑\")\n",
    "\n",
    "elif score >= 2.8:\n",
    "    print(\"일반인\")\n",
    "\n",
    "else:\n",
    "    print(\"오락문화의 선구자\")"
   ]
  },
  {
   "cell_type": "markdown",
   "id": "98737741-bea7-4425-8024-d6cf5c89cb28",
   "metadata": {},
   "source": [
    "# **while문**\n",
    "\n",
    "- 특정 조건을 만족하는 동안 반복해서 수행해야 할 때 사용\n",
    "- 조건이 True인 동안 반복해서 실행\n",
    "- 반복해야 하는 횟수나 값의 범위가 명확하지 않은 경우에 주로 사용\n",
    "\n",
    "```\n",
    "while 조건식:\n",
    "    반복 실행문\n",
    "```"
   ]
  },
  {
   "cell_type": "code",
   "execution_count": 51,
   "id": "6e4362a6-a8b6-45bf-adcf-1f5d7b8455ce",
   "metadata": {},
   "outputs": [
    {
     "name": "stdout",
     "output_type": "stream",
     "text": [
      "나무를 1번째 찍었습니다\n",
      "나무를 2번째 찍었습니다\n",
      "나무를 3번째 찍었습니다\n",
      "나무를 4번째 찍었습니다\n",
      "나무를 5번째 찍었습니다\n",
      "나무를 6번째 찍었습니다\n",
      "나무를 7번째 찍었습니다\n",
      "나무를 8번째 찍었습니다\n",
      "나무를 9번째 찍었습니다\n",
      "나무를 10번째 찍었습니다\n",
      "나무가 넘어갑니다\n"
     ]
    }
   ],
   "source": [
    "hits = 0\n",
    "tree_hp = 10\n",
    "\n",
    "while hits < tree_hp:\n",
    "    hits += 1\n",
    "    print(f\"나무를 {hits}번째 찍었습니다\")\n",
    "\n",
    "    if hits == 10:\n",
    "        print(\"나무가 넘어갑니다\")"
   ]
  },
  {
   "cell_type": "markdown",
   "id": "802caf0a-c006-42e2-b21c-179fdc574c93",
   "metadata": {},
   "source": [
    "## while문 중첩"
   ]
  },
  {
   "cell_type": "code",
   "execution_count": 54,
   "id": "eb5575af-4347-42d4-b51c-ebc5902d3ab7",
   "metadata": {},
   "outputs": [
    {
     "name": "stdout",
     "output_type": "stream",
     "text": [
      "1일차 1교시입니다.\n",
      "1일차 2교시입니다.\n",
      "1일차 3교시입니다.\n",
      "2일차 1교시입니다.\n",
      "2일차 2교시입니다.\n",
      "2일차 3교시입니다.\n",
      "3일차 1교시입니다.\n",
      "3일차 2교시입니다.\n",
      "3일차 3교시입니다.\n",
      "4일차 1교시입니다.\n",
      "4일차 2교시입니다.\n",
      "4일차 3교시입니다.\n",
      "5일차 1교시입니다.\n",
      "5일차 2교시입니다.\n",
      "5일차 3교시입니다.\n"
     ]
    }
   ],
   "source": [
    "day = 1\n",
    "\n",
    "while day <= 5:\n",
    "    hour = 1\n",
    "\n",
    "    while hour <= 3:\n",
    "        print(f\"{day}일차 {hour}교시입니다.\")\n",
    "        hour += 1\n",
    "\n",
    "    day += 1"
   ]
  },
  {
   "cell_type": "code",
   "execution_count": 56,
   "id": "3ce518b2-989f-405d-a2f9-823e902175fc",
   "metadata": {},
   "outputs": [
    {
     "name": "stdout",
     "output_type": "stream",
     "text": [
      "6 4\n"
     ]
    }
   ],
   "source": [
    "print(day, hour)"
   ]
  },
  {
   "cell_type": "markdown",
   "id": "6e877682-2834-4853-8a49-c3cb004ae815",
   "metadata": {},
   "source": [
    "## break\n",
    "\n",
    "- 반복문을 강제로 종료시킬 때 사용"
   ]
  },
  {
   "cell_type": "code",
   "execution_count": 59,
   "id": "9e5705c5-e47e-48e5-8526-4277231c1b9f",
   "metadata": {},
   "outputs": [
    {
     "name": "stdout",
     "output_type": "stream",
     "text": [
      "1\n",
      "2\n",
      "3\n",
      "4\n",
      "5\n",
      "6\n",
      "7\n",
      "8\n",
      "9\n",
      "10\n"
     ]
    }
   ],
   "source": [
    "n = 1\n",
    "\n",
    "while True:\n",
    "    print(n)\n",
    "\n",
    "    if n == 10:\n",
    "        break\n",
    "\n",
    "    n += 1"
   ]
  },
  {
   "cell_type": "code",
   "execution_count": 61,
   "id": "09120ec2-0117-4fbd-bfae-c5e1138d2229",
   "metadata": {},
   "outputs": [
    {
     "name": "stdout",
     "output_type": "stream",
     "text": [
      "10\n"
     ]
    }
   ],
   "source": [
    "print(n)"
   ]
  },
  {
   "cell_type": "markdown",
   "id": "a5d91644-6f16-41de-9ff3-7f4e49c77a4d",
   "metadata": {},
   "source": [
    "## continue\n",
    "\n",
    "- 반복문의 시작 지점으로 이동\n",
    "- 반복에서 제외하거나 생략하고 싶은 코드가 있을 때 사용"
   ]
  },
  {
   "cell_type": "code",
   "execution_count": 64,
   "id": "144d1f7c-40d8-4f7d-9796-7aa7f55bb6ef",
   "metadata": {},
   "outputs": [
    {
     "name": "stdout",
     "output_type": "stream",
     "text": [
      "1\n",
      "3\n",
      "5\n",
      "7\n",
      "9\n"
     ]
    }
   ],
   "source": [
    "a = 0\n",
    "\n",
    "while a < 10:\n",
    "    a += 1\n",
    "\n",
    "    if a % 2 == 0:\n",
    "        continue\n",
    "\n",
    "    print(a)"
   ]
  },
  {
   "cell_type": "markdown",
   "id": "8747f2da-a40d-4327-9eec-14f473a1ed52",
   "metadata": {},
   "source": [
    "# **for문**\n",
    "\n",
    "- 값의 범위나 반복 횟수가 정해져 있을 때 주로 사용하는 반복문\n",
    "- 반복 가능 객체 : 문자열, 리스트, 튜플, range, 세트, 딕셔너리\n",
    "\n",
    "```\n",
    "for 변수 in 반복가능객체:\n",
    "    반복실행문\n",
    "```"
   ]
  },
  {
   "cell_type": "code",
   "execution_count": 67,
   "id": "f905abcc-a474-4fc3-9794-4f2e929f7a02",
   "metadata": {},
   "outputs": [
    {
     "name": "stdout",
     "output_type": "stream",
     "text": [
      "one\n",
      "two\n",
      "three\n"
     ]
    }
   ],
   "source": [
    "# 리스트에 있는 요소 하나하나가 i라는 변수에 들어가며, 차례차례 반복\n",
    "test = [\"one\", \"two\", \"three\"]\n",
    "\n",
    "for i in test:\n",
    "    print(i)"
   ]
  },
  {
   "cell_type": "code",
   "execution_count": 69,
   "id": "56a3908a-ba6d-420f-b996-e19548e235f5",
   "metadata": {},
   "outputs": [
    {
     "name": "stdout",
     "output_type": "stream",
     "text": [
      "안\n",
      "녕\n",
      "하\n",
      "세\n",
      "요\n"
     ]
    }
   ],
   "source": [
    "# for 반복문은 문자열을 함께 사용할 수도 있음\n",
    "for char in \"안녕하세요\":\n",
    "    print(char)"
   ]
  },
  {
   "cell_type": "code",
   "execution_count": 71,
   "id": "44690a63-c7b3-45d9-9306-31bbbc05de3a",
   "metadata": {},
   "outputs": [
    {
     "name": "stdout",
     "output_type": "stream",
     "text": [
      "1번 학생은 합격입니다\n",
      "2번 학생은 불합격입니다\n",
      "3번 학생은 합격입니다\n",
      "4번 학생은 불합격입니다\n",
      "5번 학생은 합격입니다\n"
     ]
    }
   ],
   "source": [
    "# 5명의 학생이 시험을 보았는데 시험 점수가 60점을 넘으면 합격이고 그렇지 않으면 불합격\n",
    "# 학생들의 시험점수를 차례로 검사해서 합격인지 불합격인지 통보해주는 프로그램 만들기\n",
    "\n",
    "scores = [90, 25, 67, 45, 80]\n",
    "number = 0\n",
    "\n",
    "for score in scores:\n",
    "    number += 1\n",
    "\n",
    "    if score >= 60:\n",
    "        print(f\"{number}번 학생은 합격입니다\")\n",
    "\n",
    "    else:\n",
    "        print(f\"{number}번 학생은 불합격입니다\")"
   ]
  },
  {
   "cell_type": "markdown",
   "id": "a4fce280-75c1-4f0c-9992-65c2dbd85f16",
   "metadata": {},
   "source": [
    "## for문 중첩\n",
    "\n",
    "- 일반적으로 n차원 처리를 할 때 사용\n",
    "    - 리스트가 한 겹으로 감싸지면 1차원 리스트\n",
    "        - [1, 2, 3]\n",
    "    - 리스트가 두 겹으로 감싸지면 2차원 리스트\n",
    "        - [[1, 2, 3], [4, 5, 6]]\n",
    "    - 위와 같은 n차원 리스트 요소를 모두 확인하려면 반복문을 n번 중첩해야함"
   ]
  },
  {
   "cell_type": "code",
   "execution_count": 74,
   "id": "37f5e94e-e79a-4ae0-adb4-2023cd391f07",
   "metadata": {},
   "outputs": [
    {
     "name": "stdout",
     "output_type": "stream",
     "text": [
      "1\n",
      "2\n",
      "3\n",
      "4\n",
      "5\n",
      "6\n",
      "7\n",
      "8\n",
      "9\n"
     ]
    }
   ],
   "source": [
    "over_list = [\n",
    "    [1, 2, 3],\n",
    "    [4, 5, 6, 7],\n",
    "    [8, 9]\n",
    "]\n",
    "\n",
    "for items in over_list:\n",
    "    for item in items:\n",
    "        print(item)"
   ]
  },
  {
   "cell_type": "markdown",
   "id": "e7b09c8c-e8e0-42f5-ba9b-37c78a02ade5",
   "metadata": {},
   "source": [
    "## continue"
   ]
  },
  {
   "cell_type": "code",
   "execution_count": 77,
   "id": "300da15d-dc10-45c3-a5c3-87685526bcdb",
   "metadata": {},
   "outputs": [
    {
     "name": "stdout",
     "output_type": "stream",
     "text": [
      "1번 학생은 합격입니다\n",
      "3번 학생은 합격입니다\n",
      "5번 학생은 합격입니다\n"
     ]
    }
   ],
   "source": [
    "scores = [90, 25, 67, 45, 80]\n",
    "number = 0\n",
    "\n",
    "for score in scores:\n",
    "    number += 1\n",
    "\n",
    "    if score < 60:\n",
    "        continue\n",
    "\n",
    "    print(f\"{number}번 학생은 합격입니다\")"
   ]
  },
  {
   "cell_type": "markdown",
   "id": "1e1bd3a9-d69c-4633-8589-c5b9c828b56c",
   "metadata": {},
   "source": [
    "## range\n",
    "\n",
    "- 수열을 자동으로 만들어주는 함수\n",
    "- range(시작값, 종료값, 증감값)"
   ]
  },
  {
   "cell_type": "code",
   "execution_count": 80,
   "id": "d6365da6-2093-4958-ae25-51bc87273481",
   "metadata": {},
   "outputs": [
    {
     "name": "stdout",
     "output_type": "stream",
     "text": [
      "1 2 3 4 5 6 7 8 9 10 "
     ]
    }
   ],
   "source": [
    "for i in range(1, 11, 1):\n",
    "    print(i, end = \" \")"
   ]
  },
  {
   "cell_type": "code",
   "execution_count": 82,
   "id": "f38beb05-087c-430d-ad69-240b8555ea11",
   "metadata": {},
   "outputs": [
    {
     "name": "stdout",
     "output_type": "stream",
     "text": [
      "1 3 5 7 9 "
     ]
    }
   ],
   "source": [
    "for i in range(1, 11, 2):\n",
    "    print(i, end = \" \")"
   ]
  },
  {
   "cell_type": "code",
   "execution_count": 84,
   "id": "61cd2249-fa9b-4a01-a6f2-c0278b254463",
   "metadata": {},
   "outputs": [
    {
     "name": "stdout",
     "output_type": "stream",
     "text": [
      "1 2 3 4 5 6 7 8 9 10 "
     ]
    }
   ],
   "source": [
    "for i in range(1, 11):\n",
    "    print(i, end = \" \")"
   ]
  },
  {
   "cell_type": "code",
   "execution_count": 86,
   "id": "35a861b2-50e2-483b-b461-6e7acc000b17",
   "metadata": {},
   "outputs": [
    {
     "name": "stdout",
     "output_type": "stream",
     "text": [
      "0 1 2 3 4 5 6 7 8 9 "
     ]
    }
   ],
   "source": [
    "for i in range(10):\n",
    "    print(i, end = \" \")"
   ]
  },
  {
   "cell_type": "code",
   "execution_count": 88,
   "id": "80c5d195-c227-4ff4-9fe9-d96ea35db56f",
   "metadata": {},
   "outputs": [
    {
     "name": "stdout",
     "output_type": "stream",
     "text": [
      "55\n"
     ]
    }
   ],
   "source": [
    "# 1부터 10까지의 자연수의 합\n",
    "tot = 0\n",
    "\n",
    "for i in range(1, 11):\n",
    "    tot += i\n",
    "\n",
    "print(tot)"
   ]
  },
  {
   "cell_type": "code",
   "execution_count": 90,
   "id": "3f455d91-3711-4fcc-adba-d4a36af77de0",
   "metadata": {},
   "outputs": [
    {
     "name": "stdout",
     "output_type": "stream",
     "text": [
      "2 * 1 = 2\n",
      "2 * 2 = 4\n",
      "2 * 3 = 6\n",
      "2 * 4 = 8\n",
      "2 * 5 = 10\n",
      "2 * 6 = 12\n",
      "2 * 7 = 14\n",
      "2 * 8 = 16\n",
      "2 * 9 = 18\n",
      "3 * 1 = 3\n",
      "3 * 2 = 6\n",
      "3 * 3 = 9\n",
      "3 * 4 = 12\n",
      "3 * 5 = 15\n",
      "3 * 6 = 18\n",
      "3 * 7 = 21\n",
      "3 * 8 = 24\n",
      "3 * 9 = 27\n",
      "4 * 1 = 4\n",
      "4 * 2 = 8\n",
      "4 * 3 = 12\n",
      "4 * 4 = 16\n",
      "4 * 5 = 20\n",
      "4 * 6 = 24\n",
      "4 * 7 = 28\n",
      "4 * 8 = 32\n",
      "4 * 9 = 36\n",
      "5 * 1 = 5\n",
      "5 * 2 = 10\n",
      "5 * 3 = 15\n",
      "5 * 4 = 20\n",
      "5 * 5 = 25\n",
      "5 * 6 = 30\n",
      "5 * 7 = 35\n",
      "5 * 8 = 40\n",
      "5 * 9 = 45\n",
      "6 * 1 = 6\n",
      "6 * 2 = 12\n",
      "6 * 3 = 18\n",
      "6 * 4 = 24\n",
      "6 * 5 = 30\n",
      "6 * 6 = 36\n",
      "6 * 7 = 42\n",
      "6 * 8 = 48\n",
      "6 * 9 = 54\n",
      "7 * 1 = 7\n",
      "7 * 2 = 14\n",
      "7 * 3 = 21\n",
      "7 * 4 = 28\n",
      "7 * 5 = 35\n",
      "7 * 6 = 42\n",
      "7 * 7 = 49\n",
      "7 * 8 = 56\n",
      "7 * 9 = 63\n",
      "8 * 1 = 8\n",
      "8 * 2 = 16\n",
      "8 * 3 = 24\n",
      "8 * 4 = 32\n",
      "8 * 5 = 40\n",
      "8 * 6 = 48\n",
      "8 * 7 = 56\n",
      "8 * 8 = 64\n",
      "8 * 9 = 72\n",
      "9 * 1 = 9\n",
      "9 * 2 = 18\n",
      "9 * 3 = 27\n",
      "9 * 4 = 36\n",
      "9 * 5 = 45\n",
      "9 * 6 = 54\n",
      "9 * 7 = 63\n",
      "9 * 8 = 72\n",
      "9 * 9 = 81\n"
     ]
    }
   ],
   "source": [
    "# 구구단 출력하기\n",
    "# 2 * 1 = 2\n",
    "# ....\n",
    "# 9 * 9 = 81\n",
    "for dan in range(2, 10):\n",
    "    for gugu in range(1, 10):\n",
    "        print(f\"{dan} * {gugu} = {dan * gugu}\")"
   ]
  },
  {
   "cell_type": "markdown",
   "id": "7d461c39-f7d7-4317-bf4f-d95c670fc861",
   "metadata": {},
   "source": [
    "## for반복문과 딕셔너리 조합\n",
    "\n",
    "- for반복문과 딕셔너리를 조합하면 딕셔너리의 키가 변수로 들어감"
   ]
  },
  {
   "cell_type": "code",
   "execution_count": 93,
   "id": "2312152b-ea5d-4767-b047-31b2ae3939a1",
   "metadata": {},
   "outputs": [
    {
     "name": "stdout",
     "output_type": "stream",
     "text": [
      "name\n",
      "건조 망고\n",
      "----------\n",
      "type\n",
      "당 절임\n",
      "----------\n",
      "ingredient\n",
      "['망고', '설탕', '나트륨', '색소']\n",
      "----------\n",
      "origin\n",
      "필리핀\n",
      "----------\n"
     ]
    }
   ],
   "source": [
    "dict1 = {\"name\" : \"건조 망고\",\n",
    "         \"type\" : \"당 절임\",\n",
    "         \"ingredient\" : [\"망고\", \"설탕\", \"나트륨\", \"색소\"],\n",
    "         \"origin\" : \"필리핀\"}\n",
    "\n",
    "for key in dict1:\n",
    "    print(key)\n",
    "    print(dict1[key])\n",
    "    print(\"-\" * 10)"
   ]
  },
  {
   "cell_type": "markdown",
   "id": "606e6f4d-7915-4e9c-a16b-a4bd73bff390",
   "metadata": {},
   "source": [
    "## enumerate 함수\n",
    "\n",
    "- 리스트의 요소를 반복할 때 요소의 인덱스를 함께 반환\n",
    "- 현재 인덱스가 몇 번째인지 확인하고 싶은 경우 사용"
   ]
  },
  {
   "cell_type": "code",
   "execution_count": 96,
   "id": "b455704b-4527-487d-b131-94bf617c6174",
   "metadata": {},
   "outputs": [
    {
     "name": "stdout",
     "output_type": "stream",
     "text": [
      "0번째 요소는 요소1입니다\n",
      "1번째 요소는 요소2입니다\n",
      "2번째 요소는 요소3입니다\n"
     ]
    }
   ],
   "source": [
    "example_list = [\"요소1\", \"요소2\", \"요소3\"]\n",
    "\n",
    "for idx, value in enumerate(example_list):\n",
    "    print(f\"{idx}번째 요소는 {value}입니다\")"
   ]
  },
  {
   "cell_type": "markdown",
   "id": "c3ffadda-ec96-4873-8aee-e0e6de2243b4",
   "metadata": {},
   "source": [
    "# **리스트 내포(List comprehension)**"
   ]
  },
  {
   "cell_type": "code",
   "execution_count": 99,
   "id": "26bbaff5-1bbe-411b-afac-3af714c4d4d8",
   "metadata": {},
   "outputs": [
    {
     "name": "stdout",
     "output_type": "stream",
     "text": [
      "725 ns ± 46.5 ns per loop (mean ± std. dev. of 7 runs, 1,000,000 loops each)\n"
     ]
    }
   ],
   "source": [
    "%%timeit\n",
    "result1 = []\n",
    "\n",
    "for num in range(10):\n",
    "    result1.append(num * 3)\n",
    "\n",
    "# print(result1)"
   ]
  },
  {
   "cell_type": "code",
   "execution_count": 100,
   "id": "b3ca8a5d-f1a7-4311-bec4-34352bfb18a5",
   "metadata": {},
   "outputs": [
    {
     "name": "stdout",
     "output_type": "stream",
     "text": [
      "547 ns ± 21.8 ns per loop (mean ± std. dev. of 7 runs, 1,000,000 loops each)\n"
     ]
    }
   ],
   "source": [
    "%%timeit\n",
    "result2 = [num * 3 for num in range(10)]\n",
    "\n",
    "# print(result2)"
   ]
  },
  {
   "cell_type": "code",
   "execution_count": 101,
   "id": "11948f27-1ce8-4ba8-9eec-62d02692801f",
   "metadata": {},
   "outputs": [
    {
     "name": "stdout",
     "output_type": "stream",
     "text": [
      "[0, 6, 12, 18, 24]\n"
     ]
    }
   ],
   "source": [
    "result = [num * 3 for num in range(10) if num % 2 == 0]\n",
    "\n",
    "print(result)"
   ]
  },
  {
   "cell_type": "code",
   "execution_count": null,
   "id": "4cc60f16-67e5-4509-8565-96f2d40f0230",
   "metadata": {},
   "outputs": [],
   "source": []
  }
 ],
 "metadata": {
  "kernelspec": {
   "display_name": "Python [conda env:base] *",
   "language": "python",
   "name": "conda-base-py"
  },
  "language_info": {
   "codemirror_mode": {
    "name": "ipython",
    "version": 3
   },
   "file_extension": ".py",
   "mimetype": "text/x-python",
   "name": "python",
   "nbconvert_exporter": "python",
   "pygments_lexer": "ipython3",
   "version": "3.12.7"
  }
 },
 "nbformat": 4,
 "nbformat_minor": 5
}
