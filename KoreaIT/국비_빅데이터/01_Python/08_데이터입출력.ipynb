{
 "cells": [
  {
   "cell_type": "markdown",
   "id": "21e73f39-bf2e-4312-bf45-fec593952015",
   "metadata": {},
   "source": [
    "# **사용자 입력**\n",
    "\n",
    "- 사용자가 값을 입력하게 하고 싶을 때 사용"
   ]
  },
  {
   "cell_type": "markdown",
   "id": "b9f65ad0-30e0-4609-bde8-0c78df92912d",
   "metadata": {},
   "source": [
    "## input"
   ]
  },
  {
   "cell_type": "code",
   "execution_count": 5,
   "id": "1d1dcfa5-b841-4f9b-9590-49f63ab85509",
   "metadata": {},
   "outputs": [
    {
     "name": "stdin",
     "output_type": "stream",
     "text": [
      " python\n"
     ]
    }
   ],
   "source": [
    "a = input()"
   ]
  },
  {
   "cell_type": "code",
   "execution_count": 7,
   "id": "3f67dc5e-22a3-4ca9-a727-38cfe1e02233",
   "metadata": {},
   "outputs": [
    {
     "name": "stdout",
     "output_type": "stream",
     "text": [
      "python\n"
     ]
    }
   ],
   "source": [
    "print(a)"
   ]
  },
  {
   "cell_type": "code",
   "execution_count": 9,
   "id": "c3df3f00-4023-4958-8645-4dc516d81be6",
   "metadata": {},
   "outputs": [
    {
     "name": "stdin",
     "output_type": "stream",
     "text": [
      "숫자를 입력하세요 :  5\n"
     ]
    }
   ],
   "source": [
    "number = input(\"숫자를 입력하세요 : \")"
   ]
  },
  {
   "cell_type": "code",
   "execution_count": 11,
   "id": "a91b746a-58e7-434e-8451-96e6472b951e",
   "metadata": {},
   "outputs": [
    {
     "name": "stdout",
     "output_type": "stream",
     "text": [
      "5\n"
     ]
    }
   ],
   "source": [
    "print(number)"
   ]
  },
  {
   "cell_type": "code",
   "execution_count": 13,
   "id": "aeb8246a-c1f0-4008-881d-cc113c122dfa",
   "metadata": {},
   "outputs": [
    {
     "name": "stdout",
     "output_type": "stream",
     "text": [
      "<class 'str'>\n"
     ]
    }
   ],
   "source": [
    "# input은 입력되는 모든 데이터를 문자열로 취급함\n",
    "print(type(number))"
   ]
  },
  {
   "cell_type": "markdown",
   "id": "8baebf89-ed0a-4c26-892b-d81b6b9f0b47",
   "metadata": {},
   "source": [
    "# **파일 처리**\n",
    "\n",
    "- 파일 처리를 위해서는 파일 열기(open)를 먼저 해야함\n",
    "    - 파일을 열면 파일 읽기(read) 또는 파일 쓰기(write)를 할 수 있음\n",
    "        - 파일 입력(읽기) : 파일의 내용을 읽어들이는 것\n",
    "        - 파일 출력(쓰기) : 파일에 새로운 내용을 추가하거나 새 파일을 생성하는 것"
   ]
  },
  {
   "cell_type": "markdown",
   "id": "bc9c72af-c5fd-47de-868d-e690c6ef677c",
   "metadata": {},
   "source": [
    "## 파일 객체 생성\n",
    "\n",
    "- 파일객체 = open(파일이름(경로), 파일열기모드)"
   ]
  },
  {
   "cell_type": "code",
   "execution_count": 17,
   "id": "a78dba9e-5669-4d9b-8be8-4fb1c591d359",
   "metadata": {},
   "outputs": [],
   "source": [
    "f = open(\"./new_file.txt\", \"w\")\n",
    "f.close() # 파일 닫기"
   ]
  },
  {
   "cell_type": "markdown",
   "id": "32a3780b-3c86-48bd-8031-2f035feff47a",
   "metadata": {},
   "source": [
    "- 파일 열기 모드\n",
    "    - r(읽기)\n",
    "        - 파일을 읽기만 할 때\n",
    "        - 파일이 없으면 error\n",
    "    - w(쓰기)\n",
    "        - 파일에 내용을 쓸 때\n",
    "        - 파일이 없으면 새로 만듦\n",
    "        - 기존 파일에 있던 데이터를 완전히 지우고 다시 씀\n",
    "    - a(추가)\n",
    "        - 파일의 마지막에 새로운 내용을 추가할 때\n",
    "        - 파일이 없으면 새로 만듦"
   ]
  },
  {
   "cell_type": "markdown",
   "id": "72f83788-3db5-465f-933a-2c9470ab5f90",
   "metadata": {},
   "source": [
    "## 파일 출력"
   ]
  },
  {
   "cell_type": "code",
   "execution_count": 21,
   "id": "6fee87cc-bd94-471b-abee-741db135976a",
   "metadata": {},
   "outputs": [],
   "source": [
    "f = open(\"new_file.txt\", \"w\")\n",
    "\n",
    "for i in range(1, 11):\n",
    "    f.write(str(i) + \"\\n\")\n",
    "\n",
    "f.close()"
   ]
  },
  {
   "cell_type": "markdown",
   "id": "10011b0a-24bd-47ca-a385-e7c99ad166df",
   "metadata": {},
   "source": [
    "## 파일 입력"
   ]
  },
  {
   "cell_type": "code",
   "execution_count": 24,
   "id": "d6054b43-4aa9-4b34-a83a-41e9773af04f",
   "metadata": {},
   "outputs": [
    {
     "name": "stdout",
     "output_type": "stream",
     "text": [
      "1\n",
      "\n"
     ]
    }
   ],
   "source": [
    "# readline()\n",
    "f = open(\"new_file.txt\", \"r\")\n",
    "\n",
    "# 파일의 첫 번째 줄을 읽음\n",
    "line = f.readline()\n",
    "\n",
    "print(line)\n",
    "\n",
    "f.close()"
   ]
  },
  {
   "cell_type": "code",
   "execution_count": 26,
   "id": "4e06f5dc-10ed-4725-b737-6446e5560ec5",
   "metadata": {},
   "outputs": [
    {
     "name": "stdout",
     "output_type": "stream",
     "text": [
      "1\n",
      "\n",
      "2\n",
      "\n",
      "3\n",
      "\n",
      "4\n",
      "\n",
      "5\n",
      "\n",
      "6\n",
      "\n",
      "7\n",
      "\n",
      "8\n",
      "\n",
      "9\n",
      "\n",
      "10\n",
      "\n"
     ]
    }
   ],
   "source": [
    "# 모든 줄을 읽고 싶다면 반복문 작성\n",
    "f = open(\"new_file.txt\", \"r\")\n",
    "\n",
    "while True:\n",
    "    line = f.readline()\n",
    "\n",
    "    if not line:\n",
    "        break\n",
    "\n",
    "    # 파일 줄 끝에 \\n 이 있으므로 빈 줄이 같이 출력됨\n",
    "    print(line)\n",
    "    # ver1\n",
    "    # print(line, end = \"\")\n",
    "    # ver2\n",
    "    # print(line.strip())\n",
    "\n",
    "f.close()"
   ]
  },
  {
   "cell_type": "code",
   "execution_count": 28,
   "id": "5a7ef320-94d9-4e91-9fc7-8f81e9260c9d",
   "metadata": {},
   "outputs": [
    {
     "name": "stdout",
     "output_type": "stream",
     "text": [
      "1\n",
      "\n",
      "2\n",
      "\n",
      "3\n",
      "\n",
      "4\n",
      "\n",
      "5\n",
      "\n",
      "6\n",
      "\n",
      "7\n",
      "\n",
      "8\n",
      "\n",
      "9\n",
      "\n",
      "10\n",
      "\n"
     ]
    }
   ],
   "source": [
    "# readlines() : 파일의 모든 줄을 읽어서 각각의 줄을 요소로 갖는 리스트가 반환됨\n",
    "f = open(\"new_file.txt\", \"r\")\n",
    "\n",
    "lines = f.readlines()\n",
    "\n",
    "for line in lines:\n",
    "    print(line)\n",
    "\n",
    "f.close()"
   ]
  },
  {
   "cell_type": "code",
   "execution_count": 30,
   "id": "840bc639-6b5b-4ac3-a78a-1593c6cc2580",
   "metadata": {},
   "outputs": [
    {
     "name": "stdout",
     "output_type": "stream",
     "text": [
      "['1\\n', '2\\n', '3\\n', '4\\n', '5\\n', '6\\n', '7\\n', '8\\n', '9\\n', '10\\n']\n"
     ]
    }
   ],
   "source": [
    "print(lines)"
   ]
  },
  {
   "cell_type": "code",
   "execution_count": 32,
   "id": "3736e7e6-5243-41e3-845d-dadd92ca60d6",
   "metadata": {},
   "outputs": [
    {
     "name": "stdout",
     "output_type": "stream",
     "text": [
      "1\n",
      "2\n",
      "3\n",
      "4\n",
      "5\n",
      "6\n",
      "7\n",
      "8\n",
      "9\n",
      "10\n",
      "\n"
     ]
    }
   ],
   "source": [
    "# read() : 파일 내용 전체를 문자열로 반환\n",
    "f = open(\"new_file.txt\", \"r\")\n",
    "\n",
    "data = f.read()\n",
    "\n",
    "print(data)\n",
    "\n",
    "f.close()"
   ]
  },
  {
   "cell_type": "code",
   "execution_count": 34,
   "id": "c315f915-4c17-4b69-996d-f549ac25b59d",
   "metadata": {},
   "outputs": [
    {
     "data": {
      "text/plain": [
       "'1\\n2\\n3\\n4\\n5\\n6\\n7\\n8\\n9\\n10\\n'"
      ]
     },
     "execution_count": 34,
     "metadata": {},
     "output_type": "execute_result"
    }
   ],
   "source": [
    "data"
   ]
  },
  {
   "cell_type": "markdown",
   "id": "7fee4c1c-ff4d-4d69-b16e-9a5fe52b929d",
   "metadata": {},
   "source": [
    "## 파일 추가"
   ]
  },
  {
   "cell_type": "code",
   "execution_count": 37,
   "id": "5e016c61-0143-4d0c-8f20-6625b005540f",
   "metadata": {},
   "outputs": [],
   "source": [
    "f = open(\"new_file.txt\", \"a\")\n",
    "\n",
    "for i in range(11, 20):\n",
    "    f.write(str(i) + \"\\n\")\n",
    "\n",
    "f.close()"
   ]
  },
  {
   "cell_type": "markdown",
   "id": "f791fd84-7bbd-4188-a035-a699ddc2e339",
   "metadata": {},
   "source": [
    "# **with문**\n",
    "\n",
    "- 파일 사용이 끝난 다음에는 반드시 close()로 파일을 닫아줘야 함\n",
    "- 자동으로 파일을 닫아주는 문법이 with문"
   ]
  },
  {
   "cell_type": "code",
   "execution_count": 40,
   "id": "5036d80c-6e88-4142-b05e-ad713dadd79f",
   "metadata": {},
   "outputs": [
    {
     "name": "stdout",
     "output_type": "stream",
     "text": [
      "1\n",
      "2\n",
      "3\n",
      "4\n",
      "5\n",
      "6\n",
      "7\n",
      "8\n",
      "9\n",
      "10\n",
      "11\n",
      "12\n",
      "13\n",
      "14\n",
      "15\n",
      "16\n",
      "17\n",
      "18\n",
      "19\n",
      "\n"
     ]
    }
   ],
   "source": [
    "with open(\"new_file.txt\", \"r\") as f:\n",
    "    data = f.read()\n",
    "    print(data)"
   ]
  },
  {
   "cell_type": "code",
   "execution_count": 42,
   "id": "09fd8b88-5291-44b9-ba38-0882ed79b856",
   "metadata": {},
   "outputs": [
    {
     "ename": "ValueError",
     "evalue": "I/O operation on closed file.",
     "output_type": "error",
     "traceback": [
      "\u001b[1;31m---------------------------------------------------------------------------\u001b[0m",
      "\u001b[1;31mValueError\u001b[0m                                Traceback (most recent call last)",
      "Cell \u001b[1;32mIn[42], line 1\u001b[0m\n\u001b[1;32m----> 1\u001b[0m f\u001b[38;5;241m.\u001b[39mread()\n",
      "\u001b[1;31mValueError\u001b[0m: I/O operation on closed file."
     ]
    }
   ],
   "source": [
    "f.read()"
   ]
  },
  {
   "cell_type": "code",
   "execution_count": null,
   "id": "2ed2cfca-e299-4d7c-b78d-e10790144816",
   "metadata": {},
   "outputs": [],
   "source": []
  }
 ],
 "metadata": {
  "kernelspec": {
   "display_name": "Python [conda env:base] *",
   "language": "python",
   "name": "conda-base-py"
  },
  "language_info": {
   "codemirror_mode": {
    "name": "ipython",
    "version": 3
   },
   "file_extension": ".py",
   "mimetype": "text/x-python",
   "name": "python",
   "nbconvert_exporter": "python",
   "pygments_lexer": "ipython3",
   "version": "3.12.7"
  }
 },
 "nbformat": 4,
 "nbformat_minor": 5
}
