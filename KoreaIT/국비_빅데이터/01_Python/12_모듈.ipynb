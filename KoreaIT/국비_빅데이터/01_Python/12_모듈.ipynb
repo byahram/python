{
 "cells": [
  {
   "cell_type": "markdown",
   "id": "403c5547-1480-4710-89b8-540a5e22d2b1",
   "metadata": {},
   "source": [
    "# **모듈이란**\n",
    "\n",
    "- 함수나 변수 또는 클래스를 모아 둔 파일\n",
    "- 다른 파이썬 프로그램에서 불러와 사용할 수 있게 만든 파이썬 파일\n",
    "- 종류\n",
    "    - 표준 모듈 : 파이썬에 기본적으로 내장되어 있는 모듈\n",
    "    - 외부 모듈 : 다른 사람들이 만들어서 공개한 모듈 "
   ]
  },
  {
   "cell_type": "markdown",
   "id": "a5150264-640b-42e7-b7c6-9625347e72e7",
   "metadata": {},
   "source": [
    "# **모듈 사용**\n",
    "\n",
    "- import 모듈\n",
    "- from 모듈 import 함수1, 함수2\n",
    "- from 모듈 import *"
   ]
  },
  {
   "cell_type": "code",
   "execution_count": 14,
   "id": "72b26c44-45fa-4938-a5ef-0e27ed3029ea",
   "metadata": {},
   "outputs": [],
   "source": [
    "import add_sub_module"
   ]
  },
  {
   "cell_type": "code",
   "execution_count": 16,
   "id": "df328748-ac69-4d56-b35a-016b9ec7aeb0",
   "metadata": {},
   "outputs": [
    {
     "name": "stdout",
     "output_type": "stream",
     "text": [
      "7\n"
     ]
    }
   ],
   "source": [
    "print(add_sub_module.add(3, 4))"
   ]
  },
  {
   "cell_type": "code",
   "execution_count": 18,
   "id": "3a0aeac1-8deb-4d9d-8f78-98fa48467a9e",
   "metadata": {},
   "outputs": [
    {
     "name": "stdout",
     "output_type": "stream",
     "text": [
      "2\n"
     ]
    }
   ],
   "source": [
    "print(add_sub_module.sub(4, 2))"
   ]
  },
  {
   "cell_type": "code",
   "execution_count": 20,
   "id": "b1181d74-131a-4c6c-af38-d0770996ca11",
   "metadata": {},
   "outputs": [],
   "source": [
    "from add_sub_module import add, sub"
   ]
  },
  {
   "cell_type": "code",
   "execution_count": 22,
   "id": "381a7390-2dc5-49cb-819b-44c22a2237f8",
   "metadata": {},
   "outputs": [
    {
     "data": {
      "text/plain": [
       "7"
      ]
     },
     "execution_count": 22,
     "metadata": {},
     "output_type": "execute_result"
    }
   ],
   "source": [
    "add(3, 4)"
   ]
  },
  {
   "cell_type": "code",
   "execution_count": 24,
   "id": "729b4a62-bc67-4d46-9e5d-17d55b43756d",
   "metadata": {},
   "outputs": [
    {
     "data": {
      "text/plain": [
       "<function add_sub_module.add(a, b)>"
      ]
     },
     "execution_count": 24,
     "metadata": {},
     "output_type": "execute_result"
    }
   ],
   "source": [
    "add"
   ]
  },
  {
   "cell_type": "code",
   "execution_count": 26,
   "id": "21e343bb-98c2-4809-bced-35e66aadd526",
   "metadata": {},
   "outputs": [
    {
     "data": {
      "text/plain": [
       "1"
      ]
     },
     "execution_count": 26,
     "metadata": {},
     "output_type": "execute_result"
    }
   ],
   "source": [
    "sub(4, 3)"
   ]
  },
  {
   "cell_type": "code",
   "execution_count": 28,
   "id": "6571b95b-895e-45e7-9eed-a7518d1a8e41",
   "metadata": {},
   "outputs": [],
   "source": [
    "import converter"
   ]
  },
  {
   "cell_type": "code",
   "execution_count": 30,
   "id": "74af573f-7f2f-4a7b-9f1f-2d05a3d70f2c",
   "metadata": {},
   "outputs": [
    {
     "name": "stdout",
     "output_type": "stream",
     "text": [
      "99.41936\n"
     ]
    }
   ],
   "source": [
    "miles = converter.kilometer_to_miles(160)\n",
    "print(miles)"
   ]
  },
  {
   "cell_type": "code",
   "execution_count": 32,
   "id": "04dcd4c2-8c5f-4be6-a4c1-e9d4650d71d3",
   "metadata": {},
   "outputs": [
    {
     "name": "stdout",
     "output_type": "stream",
     "text": [
      "2.20462\n"
     ]
    }
   ],
   "source": [
    "pounds = converter.gram_to_pounds(1000)\n",
    "print(pounds)"
   ]
  },
  {
   "cell_type": "code",
   "execution_count": 34,
   "id": "c948e66b-b029-4eac-bdf0-5f30070705dc",
   "metadata": {},
   "outputs": [],
   "source": [
    "from converter import *"
   ]
  },
  {
   "cell_type": "code",
   "execution_count": 36,
   "id": "40d8e0e1-3ab4-49c6-99ae-53d46ba588b4",
   "metadata": {},
   "outputs": [
    {
     "name": "stdout",
     "output_type": "stream",
     "text": [
      "86.99194\n"
     ]
    }
   ],
   "source": [
    "miles = kilometer_to_miles(140)\n",
    "print(miles)"
   ]
  },
  {
   "cell_type": "code",
   "execution_count": 38,
   "id": "d083840e-1b84-4a7c-83c7-e7a84fae67ac",
   "metadata": {},
   "outputs": [
    {
     "name": "stdout",
     "output_type": "stream",
     "text": [
      "0.220462\n"
     ]
    }
   ],
   "source": [
    "pounds = gram_to_pounds(100)\n",
    "print(pounds)"
   ]
  },
  {
   "cell_type": "markdown",
   "id": "00cddc3b-6db4-4eee-add3-d4fc7c857f77",
   "metadata": {},
   "source": [
    "# **별명 사용하기**"
   ]
  },
  {
   "cell_type": "code",
   "execution_count": 41,
   "id": "59319f58-341f-46c2-a21d-547dd463aa26",
   "metadata": {},
   "outputs": [],
   "source": [
    "import converter as cvt"
   ]
  },
  {
   "cell_type": "code",
   "execution_count": 43,
   "id": "f0a3895c-e0ed-4110-82b1-c2ce047b0011",
   "metadata": {},
   "outputs": [
    {
     "name": "stdout",
     "output_type": "stream",
     "text": [
      "93.20565\n"
     ]
    }
   ],
   "source": [
    "miles = cvt.kilometer_to_miles(150)\n",
    "print(miles)"
   ]
  },
  {
   "cell_type": "code",
   "execution_count": 45,
   "id": "9d501048-b860-4b64-a55a-6098c971874c",
   "metadata": {},
   "outputs": [],
   "source": [
    "from converter import kilometer_to_miles as k2m"
   ]
  },
  {
   "cell_type": "code",
   "execution_count": 47,
   "id": "dc79a897-0a7f-495e-a3d2-f089923f86b4",
   "metadata": {},
   "outputs": [
    {
     "name": "stdout",
     "output_type": "stream",
     "text": [
      "93.20565\n"
     ]
    }
   ],
   "source": [
    "miles = k2m(150)\n",
    "print(miles)"
   ]
  },
  {
   "cell_type": "markdown",
   "id": "ab68a5be-a28c-4f59-8165-350a36e168e5",
   "metadata": {},
   "source": [
    "# **표준 모듈**\n",
    "\n",
    "- 파이썬에 기본적으로 설치되어 있는 모듈\n",
    "- 별도의 설치 없이 import 사용 가능"
   ]
  },
  {
   "cell_type": "markdown",
   "id": "ae9eb733-0544-4e85-a9a8-7b007de558b6",
   "metadata": {},
   "source": [
    "## math\n",
    "\n",
    "- 수학과 관련된 값과 함수를 제공"
   ]
  },
  {
   "cell_type": "code",
   "execution_count": 51,
   "id": "fdbd1c85-7cf0-47b1-8207-794650267a73",
   "metadata": {},
   "outputs": [],
   "source": [
    "import math"
   ]
  },
  {
   "cell_type": "code",
   "execution_count": 53,
   "id": "ce8e0091-e83b-4ce5-ba04-275a0252a18a",
   "metadata": {},
   "outputs": [
    {
     "name": "stdout",
     "output_type": "stream",
     "text": [
      "3.141592653589793\n"
     ]
    }
   ],
   "source": [
    "# 원주율\n",
    "print(math.pi)"
   ]
  },
  {
   "cell_type": "code",
   "execution_count": 55,
   "id": "ddb59950-7ec8-4683-92b2-76f6ca98418e",
   "metadata": {},
   "outputs": [
    {
     "name": "stdout",
     "output_type": "stream",
     "text": [
      "2\n",
      "1\n"
     ]
    }
   ],
   "source": [
    "# 올림과 내림\n",
    "print(math.ceil(1.1)) # 올림\n",
    "print(math.floor(1.9)) # 내림"
   ]
  },
  {
   "cell_type": "code",
   "execution_count": 57,
   "id": "3e2843c5-2e98-481b-8306-b1a9bdbf7cb3",
   "metadata": {},
   "outputs": [
    {
     "name": "stdout",
     "output_type": "stream",
     "text": [
      "-1\n",
      "-2\n"
     ]
    }
   ],
   "source": [
    "# 소수점 이하 절사\n",
    "print(math.trunc(-1.9)) # 절사\n",
    "print(math.floor(-1.9)) # 내림"
   ]
  },
  {
   "cell_type": "code",
   "execution_count": 59,
   "id": "ad72299d-a428-4a9d-8a79-07a51b24e8b5",
   "metadata": {},
   "outputs": [
    {
     "name": "stdout",
     "output_type": "stream",
     "text": [
      "5.0\n"
     ]
    }
   ],
   "source": [
    "# 제곱근\n",
    "print(math.sqrt(25)) # 루트 25"
   ]
  },
  {
   "cell_type": "markdown",
   "id": "a5bee610-c151-4260-bf00-4f97d7216b4b",
   "metadata": {},
   "source": [
    "## random\n",
    "\n",
    "- 난수 생성 모듈"
   ]
  },
  {
   "cell_type": "code",
   "execution_count": 62,
   "id": "835a814f-ba4a-497b-864a-5b800642aa73",
   "metadata": {},
   "outputs": [],
   "source": [
    "import random"
   ]
  },
  {
   "cell_type": "markdown",
   "id": "5699f2d2-6d7a-47fc-8cec-92fe8639a2fc",
   "metadata": {},
   "source": [
    "- randint()\n",
    "    - 전달하는 두 인수 사이의 정수를 임의로 생성"
   ]
  },
  {
   "cell_type": "code",
   "execution_count": 65,
   "id": "d3471e40-aa6c-4859-bef6-17b949ae8606",
   "metadata": {},
   "outputs": [
    {
     "data": {
      "text/plain": [
       "6"
      ]
     },
     "execution_count": 65,
     "metadata": {},
     "output_type": "execute_result"
    }
   ],
   "source": [
    "random.randint(1, 10)"
   ]
  },
  {
   "cell_type": "markdown",
   "id": "2b7e06b8-5e66-4df0-97b3-b7454714f1a5",
   "metadata": {},
   "source": [
    "- randrange()\n",
    "    - 특정 범위에 속한 정수 중에서 하나를 임의로 생성"
   ]
  },
  {
   "cell_type": "code",
   "execution_count": 68,
   "id": "32cf46db-0cc3-492b-9d77-091ae19b96f1",
   "metadata": {},
   "outputs": [
    {
     "data": {
      "text/plain": [
       "3"
      ]
     },
     "execution_count": 68,
     "metadata": {},
     "output_type": "execute_result"
    }
   ],
   "source": [
    "random.randrange(1, 10, 2)"
   ]
  },
  {
   "cell_type": "markdown",
   "id": "bd32bd0c-2649-4f0d-b115-fda0d1addca8",
   "metadata": {},
   "source": [
    "- random()\n",
    "    - 0이상 1미만 범위에서 임의의 실수를 생성\n",
    "    - 0% 이상 100% 미만으로 확률을 처리할 때도 사용"
   ]
  },
  {
   "cell_type": "code",
   "execution_count": 71,
   "id": "1dac3f4e-7f4f-43f9-b54b-ff981667c4aa",
   "metadata": {},
   "outputs": [
    {
     "data": {
      "text/plain": [
       "0.6652187365397692"
      ]
     },
     "execution_count": 71,
     "metadata": {},
     "output_type": "execute_result"
    }
   ],
   "source": [
    "random.random()"
   ]
  },
  {
   "cell_type": "code",
   "execution_count": 73,
   "id": "b3d00b9a-850c-4d58-b711-268222c25a3e",
   "metadata": {},
   "outputs": [
    {
     "name": "stdout",
     "output_type": "stream",
     "text": [
      "안녕하세요\n"
     ]
    }
   ],
   "source": [
    "# 50% 확률로 안녕하세요 를 출력하는 코드\n",
    "if random.random() < 0.5:\n",
    "    print(\"안녕하세요\")"
   ]
  },
  {
   "cell_type": "markdown",
   "id": "19d65cd1-2331-49e3-ad1a-1a65f05c0604",
   "metadata": {},
   "source": [
    "- choice()\n",
    "    - 전달된 시퀀스 자료형에 속한 요소 중에서 하나를 임의로 반환"
   ]
  },
  {
   "cell_type": "code",
   "execution_count": 76,
   "id": "bf9167e7-0c8d-4a5b-b8a3-91b15b7e2215",
   "metadata": {},
   "outputs": [
    {
     "data": {
      "text/plain": [
       "'summer'"
      ]
     },
     "execution_count": 76,
     "metadata": {},
     "output_type": "execute_result"
    }
   ],
   "source": [
    "seasons = [\"spring\", \"summer\", \"fall\", \"winter\"]\n",
    "random.choice(seasons)"
   ]
  },
  {
   "cell_type": "markdown",
   "id": "e8f58faf-22b8-4c55-bfbb-f19c86085f9b",
   "metadata": {},
   "source": [
    "- sample()\n",
    "    - 전달된 시퀀스 자료형에 속한 요소 중 지정된 개수의 요소를 임의로 반환\n",
    "    - 반환 결과는 리스트 자료형\n",
    "    - 중복 없이 선택"
   ]
  },
  {
   "cell_type": "code",
   "execution_count": 79,
   "id": "0d928215-e519-4efc-99ec-a61530cfa22d",
   "metadata": {},
   "outputs": [
    {
     "data": {
      "text/plain": [
       "[45, 21, 33, 12, 39, 1]"
      ]
     },
     "execution_count": 79,
     "metadata": {},
     "output_type": "execute_result"
    }
   ],
   "source": [
    "random.sample(range(1, 46), 6)"
   ]
  },
  {
   "cell_type": "code",
   "execution_count": 81,
   "id": "85368c2c-c58c-4178-bc05-b5daac401cf3",
   "metadata": {},
   "outputs": [
    {
     "data": {
      "text/plain": [
       "[7, 14, 30, 34, 38, 43]"
      ]
     },
     "execution_count": 81,
     "metadata": {},
     "output_type": "execute_result"
    }
   ],
   "source": [
    "sorted(random.sample(range(1, 46), 6))"
   ]
  },
  {
   "cell_type": "markdown",
   "id": "42810806-6979-4583-80a0-b9fbe57eb972",
   "metadata": {},
   "source": [
    "- shuffle()\n",
    "    - 임의로 섞는 것\n",
    "    - 전달된 시퀀스 자료형에 속한 요소의 순서를 임의로 조정하여 다시 재배치\n",
    "    - 실제로 전달된 시퀀스 자료형의 순서가 재배치됨\n",
    "    - str이나 튜플 자료형을 전달하면 에러"
   ]
  },
  {
   "cell_type": "code",
   "execution_count": 84,
   "id": "ee19177a-ac10-4e8a-b618-fb22f02c68dc",
   "metadata": {},
   "outputs": [],
   "source": [
    "my_list = [1, 2, 3, 4, 5]\n",
    "random.shuffle(my_list)"
   ]
  },
  {
   "cell_type": "code",
   "execution_count": 86,
   "id": "8a503c76-6851-4b3d-a104-00b24681a516",
   "metadata": {},
   "outputs": [
    {
     "name": "stdout",
     "output_type": "stream",
     "text": [
      "[5, 4, 1, 2, 3]\n"
     ]
    }
   ],
   "source": [
    "print(my_list)"
   ]
  },
  {
   "cell_type": "markdown",
   "id": "3386dd3a-bd4d-47e4-8f5a-d21076b74849",
   "metadata": {},
   "source": [
    "## time\n",
    "\n",
    "- 시간처리와 관련된 모듈"
   ]
  },
  {
   "cell_type": "code",
   "execution_count": 89,
   "id": "86ca0646-6238-49c7-9894-20293a155836",
   "metadata": {},
   "outputs": [],
   "source": [
    "import time"
   ]
  },
  {
   "cell_type": "markdown",
   "id": "84ad06a0-7a26-4a72-bbeb-a9fa6e71f942",
   "metadata": {},
   "source": [
    "- time()\n",
    "    - 1970년 1월 1일 0시 0분 0초부터 현재까지 경과된 시간을 반환(UNIX OS 배포 날짜)\n",
    "    - 소수점이하는 마이크로초를 의미"
   ]
  },
  {
   "cell_type": "code",
   "execution_count": 92,
   "id": "cfdf1b6b-5e54-499e-a7f2-2f4ba8447dd2",
   "metadata": {},
   "outputs": [
    {
     "name": "stdout",
     "output_type": "stream",
     "text": [
      "1754481132.2861834\n"
     ]
    }
   ],
   "source": [
    "print(time.time())"
   ]
  },
  {
   "cell_type": "markdown",
   "id": "c9dd7a33-34ff-4da3-ad5e-7b4bd3347365",
   "metadata": {},
   "source": [
    "- sleep()\n",
    "    - 인수로 전달된 초 만큼 일시 정지"
   ]
  },
  {
   "cell_type": "code",
   "execution_count": 95,
   "id": "1374912c-d11c-4e25-b0a0-3dc7d8f21d20",
   "metadata": {},
   "outputs": [],
   "source": [
    "# 3초간 일시 정지\n",
    "time.sleep(3)"
   ]
  },
  {
   "cell_type": "code",
   "execution_count": 96,
   "id": "73c7f654-9303-4a3e-8ec5-d81869a879d1",
   "metadata": {},
   "outputs": [
    {
     "name": "stdout",
     "output_type": "stream",
     "text": [
      "1.0003776550292969\n"
     ]
    }
   ],
   "source": [
    "s = time.time()\n",
    "time.sleep(1)\n",
    "print(time.time() - s)"
   ]
  },
  {
   "cell_type": "markdown",
   "id": "632c200c-73b5-42da-9017-0081a031dbb6",
   "metadata": {},
   "source": [
    "# **패키지**\n",
    "\n",
    "- 모듈의 집합\n",
    "- 모듈은 기본적으로 패키지의 형태로 배포됨\n",
    "- 파이썬에서 기본적으로 제공하지 않는, 외부에서 만들어진 패키지를 외부모듈 이라고 함"
   ]
  },
  {
   "cell_type": "markdown",
   "id": "bbd4e978-178d-43b8-80ed-05916313904f",
   "metadata": {},
   "source": [
    "## 패키지 관리자\n",
    "\n",
    "- 패키지의 추가나 삭제와 같은 작업을 수행하기 위해 사용\n",
    "    - pip\n",
    "    - conda\n",
    "- 설치 명령어\n",
    "    - pip install (package)\n",
    "    - conda install (package)\n",
    "- 삭제 명령어\n",
    "    - pip uninstall (package)\n",
    "    - conda uninstall (package)"
   ]
  },
  {
   "cell_type": "code",
   "execution_count": null,
   "id": "0e800b9d-662e-4fc1-8ec2-0e23b8051528",
   "metadata": {},
   "outputs": [],
   "source": []
  }
 ],
 "metadata": {
  "kernelspec": {
   "display_name": "Python [conda env:base] *",
   "language": "python",
   "name": "conda-base-py"
  },
  "language_info": {
   "codemirror_mode": {
    "name": "ipython",
    "version": 3
   },
   "file_extension": ".py",
   "mimetype": "text/x-python",
   "name": "python",
   "nbconvert_exporter": "python",
   "pygments_lexer": "ipython3",
   "version": "3.12.7"
  }
 },
 "nbformat": 4,
 "nbformat_minor": 5
}
