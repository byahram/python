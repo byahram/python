{
 "cells": [
  {
   "cell_type": "code",
   "execution_count": 1,
   "id": "b740e217-9b75-4eec-a33b-a0ef12ab7234",
   "metadata": {},
   "outputs": [],
   "source": [
    "from selenium import webdriver\n",
    "from selenium.webdriver.common.by import By\n",
    "from bs4 import BeautifulSoup\n",
    "from urllib.request import urlopen\n",
    "from selenium.webdriver.common.keys import Keys\n",
    "import time"
   ]
  },
  {
   "cell_type": "markdown",
   "id": "8acaaf7e-e2be-412f-aa11-d5d61a294791",
   "metadata": {},
   "source": [
    "# **selenium으로 DOM 에 접근하는 방법**\n",
    "\n",
    "- 단일 객체 반환(bs4의 find()와 같은 형태)\n",
    "    - find_element\n",
    "- 리스트 객체 반환(bs4의 find_all()과 같은 형태)\n",
    "    - find_elements"
   ]
  },
  {
   "cell_type": "code",
   "execution_count": 4,
   "id": "14d19c97-59d0-4a1f-b38d-e7b717b2e372",
   "metadata": {},
   "outputs": [],
   "source": [
    "# 웹 접속하기\n",
    "url = \"https://www.naver.com/\"\n",
    "\n",
    "driver = webdriver.Chrome()\n",
    "\n",
    "driver.get(url) # url 접속"
   ]
  },
  {
   "cell_type": "markdown",
   "id": "3d0477d7-872d-4dbf-83a3-8e0c70a02089",
   "metadata": {},
   "source": [
    "## css_selector\n",
    "\n",
    "- bs4의 select() 와 동일"
   ]
  },
  {
   "cell_type": "code",
   "execution_count": 6,
   "id": "c7f11e0d-d2f8-4c7f-a9d4-45a4b28dfa59",
   "metadata": {},
   "outputs": [
    {
     "name": "stdout",
     "output_type": "stream",
     "text": [
      "<selenium.webdriver.remote.webelement.WebElement (session=\"8729736e4bfb1ec8f69f7278b749fcba\", element=\"f.2FFDB52FA33897B5C22744885A5B5762.d.01EE0CDEDBC972DD46D5734A9D3E3861.e.5\")>\n",
      "div\n",
      "[programming] [react] react 작업환경 설\n",
      "react를 시작하기 전에 환경셋팅을 해보자\n",
      "2017-05-20 06:29:05 +0000   |   박정태\n"
     ]
    }
   ],
   "source": [
    "url = \"https://pjt3591oo.github.io\"\n",
    "\n",
    "driver = webdriver.Chrome()\n",
    "\n",
    "driver.get(url)\n",
    "\n",
    "selected = driver.find_element(by = By.CSS_SELECTOR, value = \"div.home div.p\")\n",
    "print(selected)\n",
    "print(selected.tag_name)\n",
    "print(selected.text)"
   ]
  },
  {
   "cell_type": "code",
   "execution_count": 7,
   "id": "4267cbe0-d873-4a8a-a938-20bde4e62b19",
   "metadata": {
    "scrolled": true
   },
   "outputs": [
    {
     "name": "stdout",
     "output_type": "stream",
     "text": [
      "[<selenium.webdriver.remote.webelement.WebElement (session=\"afe4a32bdea6d95307c3882af6745d96\", element=\"f.7F4AF66968F7548E6EEB23039E03DE88.d.51700E88FC38410E7CB3BCABE98E5C37.e.17\")>, <selenium.webdriver.remote.webelement.WebElement (session=\"afe4a32bdea6d95307c3882af6745d96\", element=\"f.7F4AF66968F7548E6EEB23039E03DE88.d.51700E88FC38410E7CB3BCABE98E5C37.e.18\")>, <selenium.webdriver.remote.webelement.WebElement (session=\"afe4a32bdea6d95307c3882af6745d96\", element=\"f.7F4AF66968F7548E6EEB23039E03DE88.d.51700E88FC38410E7CB3BCABE98E5C37.e.19\")>, <selenium.webdriver.remote.webelement.WebElement (session=\"afe4a32bdea6d95307c3882af6745d96\", element=\"f.7F4AF66968F7548E6EEB23039E03DE88.d.51700E88FC38410E7CB3BCABE98E5C37.e.20\")>, <selenium.webdriver.remote.webelement.WebElement (session=\"afe4a32bdea6d95307c3882af6745d96\", element=\"f.7F4AF66968F7548E6EEB23039E03DE88.d.51700E88FC38410E7CB3BCABE98E5C37.e.21\")>, <selenium.webdriver.remote.webelement.WebElement (session=\"afe4a32bdea6d95307c3882af6745d96\", element=\"f.7F4AF66968F7548E6EEB23039E03DE88.d.51700E88FC38410E7CB3BCABE98E5C37.e.22\")>, <selenium.webdriver.remote.webelement.WebElement (session=\"afe4a32bdea6d95307c3882af6745d96\", element=\"f.7F4AF66968F7548E6EEB23039E03DE88.d.51700E88FC38410E7CB3BCABE98E5C37.e.23\")>, <selenium.webdriver.remote.webelement.WebElement (session=\"afe4a32bdea6d95307c3882af6745d96\", element=\"f.7F4AF66968F7548E6EEB23039E03DE88.d.51700E88FC38410E7CB3BCABE98E5C37.e.24\")>, <selenium.webdriver.remote.webelement.WebElement (session=\"afe4a32bdea6d95307c3882af6745d96\", element=\"f.7F4AF66968F7548E6EEB23039E03DE88.d.51700E88FC38410E7CB3BCABE98E5C37.e.25\")>, <selenium.webdriver.remote.webelement.WebElement (session=\"afe4a32bdea6d95307c3882af6745d96\", element=\"f.7F4AF66968F7548E6EEB23039E03DE88.d.51700E88FC38410E7CB3BCABE98E5C37.e.26\")>]\n"
     ]
    }
   ],
   "source": [
    "url = \"https://pjt3591oo.github.io\"\n",
    "\n",
    "driver = webdriver.Chrome()\n",
    "\n",
    "driver.get(url)\n",
    "\n",
    "selected = driver.find_elements(by = By.CSS_SELECTOR, value = \"div.home div.p\")\n",
    "print(selected)"
   ]
  },
  {
   "cell_type": "markdown",
   "id": "a0384601-2ce9-439c-8c41-7403fc096035",
   "metadata": {},
   "source": [
    "## 없는 요소 접근\n",
    "\n",
    "- bs4와는 다르게 없는 요소에 접근하면 에러를 띄움"
   ]
  },
  {
   "cell_type": "code",
   "execution_count": 12,
   "id": "d6549c5e-5c8e-4048-8c19-9aa7f5b3cd10",
   "metadata": {
    "scrolled": true
   },
   "outputs": [
    {
     "ename": "NoSuchElementException",
     "evalue": "Message: no such element: Unable to locate element: {\"method\":\"css selector\",\"selector\":\".a\"}\n  (Session info: chrome=138.0.7204.184); For documentation on this error, please visit: https://www.selenium.dev/documentation/webdriver/troubleshooting/errors#no-such-element-exception\nStacktrace:\n\tGetHandleVerifier [0x0x7ff7a21be415+77285]\n\tGetHandleVerifier [0x0x7ff7a21be470+77376]\n\t(No symbol) [0x0x7ff7a1f89a6a]\n\t(No symbol) [0x0x7ff7a1fe0406]\n\t(No symbol) [0x0x7ff7a1fe06bc]\n\t(No symbol) [0x0x7ff7a2033ac7]\n\t(No symbol) [0x0x7ff7a200864f]\n\t(No symbol) [0x0x7ff7a203087f]\n\t(No symbol) [0x0x7ff7a20083e3]\n\t(No symbol) [0x0x7ff7a1fd1521]\n\t(No symbol) [0x0x7ff7a1fd22b3]\n\tGetHandleVerifier [0x0x7ff7a24a1efd+3107021]\n\tGetHandleVerifier [0x0x7ff7a249c29d+3083373]\n\tGetHandleVerifier [0x0x7ff7a24bbedd+3213485]\n\tGetHandleVerifier [0x0x7ff7a21d884e+184862]\n\tGetHandleVerifier [0x0x7ff7a21e055f+216879]\n\tGetHandleVerifier [0x0x7ff7a21c7084+113236]\n\tGetHandleVerifier [0x0x7ff7a21c7239+113673]\n\tGetHandleVerifier [0x0x7ff7a21ae298+11368]\n\tBaseThreadInitThunk [0x0x7ffb5427e8d7+23]\n\tRtlUserThreadStart [0x0x7ffb5537c34c+44]\n",
     "output_type": "error",
     "traceback": [
      "\u001b[1;31m---------------------------------------------------------------------------\u001b[0m",
      "\u001b[1;31mNoSuchElementException\u001b[0m                    Traceback (most recent call last)",
      "Cell \u001b[1;32mIn[12], line 7\u001b[0m\n\u001b[0;32m      3\u001b[0m driver \u001b[38;5;241m=\u001b[39m webdriver\u001b[38;5;241m.\u001b[39mChrome()\n\u001b[0;32m      5\u001b[0m driver\u001b[38;5;241m.\u001b[39mget(url)\n\u001b[1;32m----> 7\u001b[0m selected \u001b[38;5;241m=\u001b[39m driver\u001b[38;5;241m.\u001b[39mfind_element(By\u001b[38;5;241m.\u001b[39mCSS_SELECTOR, \u001b[38;5;124m\"\u001b[39m\u001b[38;5;124m.a\u001b[39m\u001b[38;5;124m\"\u001b[39m)\n",
      "File \u001b[1;32m~\\anaconda3\\Lib\\site-packages\\selenium\\webdriver\\remote\\webdriver.py:917\u001b[0m, in \u001b[0;36mWebDriver.find_element\u001b[1;34m(self, by, value)\u001b[0m\n\u001b[0;32m    914\u001b[0m         \u001b[38;5;28;01mraise\u001b[39;00m NoSuchElementException(\u001b[38;5;124mf\u001b[39m\u001b[38;5;124m\"\u001b[39m\u001b[38;5;124mCannot locate relative element with: \u001b[39m\u001b[38;5;132;01m{\u001b[39;00mby\u001b[38;5;241m.\u001b[39mroot\u001b[38;5;132;01m}\u001b[39;00m\u001b[38;5;124m\"\u001b[39m)\n\u001b[0;32m    915\u001b[0m     \u001b[38;5;28;01mreturn\u001b[39;00m elements[\u001b[38;5;241m0\u001b[39m]\n\u001b[1;32m--> 917\u001b[0m \u001b[38;5;28;01mreturn\u001b[39;00m \u001b[38;5;28mself\u001b[39m\u001b[38;5;241m.\u001b[39mexecute(Command\u001b[38;5;241m.\u001b[39mFIND_ELEMENT, {\u001b[38;5;124m\"\u001b[39m\u001b[38;5;124musing\u001b[39m\u001b[38;5;124m\"\u001b[39m: by, \u001b[38;5;124m\"\u001b[39m\u001b[38;5;124mvalue\u001b[39m\u001b[38;5;124m\"\u001b[39m: value})[\u001b[38;5;124m\"\u001b[39m\u001b[38;5;124mvalue\u001b[39m\u001b[38;5;124m\"\u001b[39m]\n",
      "File \u001b[1;32m~\\anaconda3\\Lib\\site-packages\\selenium\\webdriver\\remote\\webdriver.py:448\u001b[0m, in \u001b[0;36mWebDriver.execute\u001b[1;34m(self, driver_command, params)\u001b[0m\n\u001b[0;32m    446\u001b[0m response \u001b[38;5;241m=\u001b[39m \u001b[38;5;28mself\u001b[39m\u001b[38;5;241m.\u001b[39mcommand_executor\u001b[38;5;241m.\u001b[39mexecute(driver_command, params)\n\u001b[0;32m    447\u001b[0m \u001b[38;5;28;01mif\u001b[39;00m response:\n\u001b[1;32m--> 448\u001b[0m     \u001b[38;5;28mself\u001b[39m\u001b[38;5;241m.\u001b[39merror_handler\u001b[38;5;241m.\u001b[39mcheck_response(response)\n\u001b[0;32m    449\u001b[0m     response[\u001b[38;5;124m\"\u001b[39m\u001b[38;5;124mvalue\u001b[39m\u001b[38;5;124m\"\u001b[39m] \u001b[38;5;241m=\u001b[39m \u001b[38;5;28mself\u001b[39m\u001b[38;5;241m.\u001b[39m_unwrap_value(response\u001b[38;5;241m.\u001b[39mget(\u001b[38;5;124m\"\u001b[39m\u001b[38;5;124mvalue\u001b[39m\u001b[38;5;124m\"\u001b[39m, \u001b[38;5;28;01mNone\u001b[39;00m))\n\u001b[0;32m    450\u001b[0m     \u001b[38;5;28;01mreturn\u001b[39;00m response\n",
      "File \u001b[1;32m~\\anaconda3\\Lib\\site-packages\\selenium\\webdriver\\remote\\errorhandler.py:232\u001b[0m, in \u001b[0;36mErrorHandler.check_response\u001b[1;34m(self, response)\u001b[0m\n\u001b[0;32m    230\u001b[0m         alert_text \u001b[38;5;241m=\u001b[39m value[\u001b[38;5;124m\"\u001b[39m\u001b[38;5;124malert\u001b[39m\u001b[38;5;124m\"\u001b[39m]\u001b[38;5;241m.\u001b[39mget(\u001b[38;5;124m\"\u001b[39m\u001b[38;5;124mtext\u001b[39m\u001b[38;5;124m\"\u001b[39m)\n\u001b[0;32m    231\u001b[0m     \u001b[38;5;28;01mraise\u001b[39;00m exception_class(message, screen, stacktrace, alert_text)  \u001b[38;5;66;03m# type: ignore[call-arg]  # mypy is not smart enough here\u001b[39;00m\n\u001b[1;32m--> 232\u001b[0m \u001b[38;5;28;01mraise\u001b[39;00m exception_class(message, screen, stacktrace)\n",
      "\u001b[1;31mNoSuchElementException\u001b[0m: Message: no such element: Unable to locate element: {\"method\":\"css selector\",\"selector\":\".a\"}\n  (Session info: chrome=138.0.7204.184); For documentation on this error, please visit: https://www.selenium.dev/documentation/webdriver/troubleshooting/errors#no-such-element-exception\nStacktrace:\n\tGetHandleVerifier [0x0x7ff7a21be415+77285]\n\tGetHandleVerifier [0x0x7ff7a21be470+77376]\n\t(No symbol) [0x0x7ff7a1f89a6a]\n\t(No symbol) [0x0x7ff7a1fe0406]\n\t(No symbol) [0x0x7ff7a1fe06bc]\n\t(No symbol) [0x0x7ff7a2033ac7]\n\t(No symbol) [0x0x7ff7a200864f]\n\t(No symbol) [0x0x7ff7a203087f]\n\t(No symbol) [0x0x7ff7a20083e3]\n\t(No symbol) [0x0x7ff7a1fd1521]\n\t(No symbol) [0x0x7ff7a1fd22b3]\n\tGetHandleVerifier [0x0x7ff7a24a1efd+3107021]\n\tGetHandleVerifier [0x0x7ff7a249c29d+3083373]\n\tGetHandleVerifier [0x0x7ff7a24bbedd+3213485]\n\tGetHandleVerifier [0x0x7ff7a21d884e+184862]\n\tGetHandleVerifier [0x0x7ff7a21e055f+216879]\n\tGetHandleVerifier [0x0x7ff7a21c7084+113236]\n\tGetHandleVerifier [0x0x7ff7a21c7239+113673]\n\tGetHandleVerifier [0x0x7ff7a21ae298+11368]\n\tBaseThreadInitThunk [0x0x7ffb5427e8d7+23]\n\tRtlUserThreadStart [0x0x7ffb5537c34c+44]\n"
     ]
    }
   ],
   "source": [
    "url = \"https://pjt3591oo.github.io\"\n",
    "\n",
    "driver = webdriver.Chrome()\n",
    "\n",
    "driver.get(url)\n",
    "\n",
    "selected = driver.find_element(By.CSS_SELECTOR, \".a\")"
   ]
  },
  {
   "cell_type": "markdown",
   "id": "4e26873f-4ee2-4652-be30-b9f29c533ad7",
   "metadata": {},
   "source": [
    "# **웹 제어**"
   ]
  },
  {
   "cell_type": "markdown",
   "id": "fe421502-1e0f-4f2a-a85f-c6a5ad6a9d39",
   "metadata": {},
   "source": [
    "## 마우스 제어"
   ]
  },
  {
   "cell_type": "code",
   "execution_count": 16,
   "id": "cd06cbe1-24fe-4d21-b1bf-1b4fec2dad78",
   "metadata": {},
   "outputs": [
    {
     "name": "stdout",
     "output_type": "stream",
     "text": [
      "<selenium.webdriver.remote.webelement.WebElement (session=\"8656cc56dda492b9176748ebbbed1e66\", element=\"f.83D41651F36EB720257B24BE3C15F53D.d.EDF84A1FF83B900BE8C37807369CCE45.e.19\")>\n",
      "[programming] [react] react 작업환경 설\n"
     ]
    }
   ],
   "source": [
    "url = \"https://pjt3591oo.github.io\"\n",
    "\n",
    "driver = webdriver.Chrome()\n",
    "\n",
    "driver.get(url)\n",
    "\n",
    "title = driver.find_element(By.CSS_SELECTOR, \"div.p a\")\n",
    "print(title)\n",
    "print(title.text)\n",
    "\n",
    "title.click()"
   ]
  },
  {
   "cell_type": "code",
   "execution_count": 18,
   "id": "2b34c69a-e1ab-46c3-ac36-5c91ec97d076",
   "metadata": {
    "scrolled": true
   },
   "outputs": [
    {
     "name": "stdout",
     "output_type": "stream",
     "text": [
      "Home a\n"
     ]
    },
    {
     "ename": "StaleElementReferenceException",
     "evalue": "Message: stale element reference: stale element not found\n  (Session info: chrome=138.0.7204.184); For documentation on this error, please visit: https://www.selenium.dev/documentation/webdriver/troubleshooting/errors#stale-element-reference-exception\nStacktrace:\n\tGetHandleVerifier [0x0x7ff7a21be415+77285]\n\tGetHandleVerifier [0x0x7ff7a21be470+77376]\n\t(No symbol) [0x0x7ff7a1f89a6a]\n\t(No symbol) [0x0x7ff7a1f9fec4]\n\t(No symbol) [0x0x7ff7a1f9e9a3]\n\t(No symbol) [0x0x7ff7a1f92181]\n\t(No symbol) [0x0x7ff7a1f9002f]\n\t(No symbol) [0x0x7ff7a1f944cc]\n\t(No symbol) [0x0x7ff7a1f9459f]\n\t(No symbol) [0x0x7ff7a1fd9f16]\n\t(No symbol) [0x0x7ff7a200860a]\n\t(No symbol) [0x0x7ff7a1fd2d06]\n\t(No symbol) [0x0x7ff7a2008820]\n\t(No symbol) [0x0x7ff7a203087f]\n\t(No symbol) [0x0x7ff7a20083e3]\n\t(No symbol) [0x0x7ff7a1fd1521]\n\t(No symbol) [0x0x7ff7a1fd22b3]\n\tGetHandleVerifier [0x0x7ff7a24a1efd+3107021]\n\tGetHandleVerifier [0x0x7ff7a249c29d+3083373]\n\tGetHandleVerifier [0x0x7ff7a24bbedd+3213485]\n\tGetHandleVerifier [0x0x7ff7a21d884e+184862]\n\tGetHandleVerifier [0x0x7ff7a21e055f+216879]\n\tGetHandleVerifier [0x0x7ff7a21c7084+113236]\n\tGetHandleVerifier [0x0x7ff7a21c7239+113673]\n\tGetHandleVerifier [0x0x7ff7a21ae298+11368]\n\tBaseThreadInitThunk [0x0x7ffb5427e8d7+23]\n\tRtlUserThreadStart [0x0x7ffb5537c34c+44]\n",
     "output_type": "error",
     "traceback": [
      "\u001b[1;31m---------------------------------------------------------------------------\u001b[0m",
      "\u001b[1;31mStaleElementReferenceException\u001b[0m            Traceback (most recent call last)",
      "Cell \u001b[1;32mIn[18], line 10\u001b[0m\n\u001b[0;32m      7\u001b[0m tags_a \u001b[38;5;241m=\u001b[39m driver\u001b[38;5;241m.\u001b[39mfind_elements(By\u001b[38;5;241m.\u001b[39mCSS_SELECTOR, \u001b[38;5;124m\"\u001b[39m\u001b[38;5;124ma\u001b[39m\u001b[38;5;124m\"\u001b[39m)\n\u001b[0;32m      9\u001b[0m \u001b[38;5;28;01mfor\u001b[39;00m i \u001b[38;5;129;01min\u001b[39;00m tags_a:\n\u001b[1;32m---> 10\u001b[0m     \u001b[38;5;28mprint\u001b[39m(i\u001b[38;5;241m.\u001b[39mtext, i\u001b[38;5;241m.\u001b[39mtag_name)\n\u001b[0;32m     11\u001b[0m     i\u001b[38;5;241m.\u001b[39mclick()\n",
      "File \u001b[1;32m~\\anaconda3\\Lib\\site-packages\\selenium\\webdriver\\remote\\webelement.py:109\u001b[0m, in \u001b[0;36mWebElement.text\u001b[1;34m(self)\u001b[0m\n\u001b[0;32m     96\u001b[0m \u001b[38;5;129m@property\u001b[39m\n\u001b[0;32m     97\u001b[0m \u001b[38;5;28;01mdef\u001b[39;00m \u001b[38;5;21mtext\u001b[39m(\u001b[38;5;28mself\u001b[39m) \u001b[38;5;241m-\u001b[39m\u001b[38;5;241m>\u001b[39m \u001b[38;5;28mstr\u001b[39m:\n\u001b[0;32m     98\u001b[0m \u001b[38;5;250m    \u001b[39m\u001b[38;5;124;03m\"\"\"The text of the element.\u001b[39;00m\n\u001b[0;32m     99\u001b[0m \n\u001b[0;32m    100\u001b[0m \u001b[38;5;124;03m    Returns:\u001b[39;00m\n\u001b[1;32m   (...)\u001b[0m\n\u001b[0;32m    107\u001b[0m \u001b[38;5;124;03m    >>> print(element.text)\u001b[39;00m\n\u001b[0;32m    108\u001b[0m \u001b[38;5;124;03m    \"\"\"\u001b[39;00m\n\u001b[1;32m--> 109\u001b[0m     \u001b[38;5;28;01mreturn\u001b[39;00m \u001b[38;5;28mself\u001b[39m\u001b[38;5;241m.\u001b[39m_execute(Command\u001b[38;5;241m.\u001b[39mGET_ELEMENT_TEXT)[\u001b[38;5;124m\"\u001b[39m\u001b[38;5;124mvalue\u001b[39m\u001b[38;5;124m\"\u001b[39m]\n",
      "File \u001b[1;32m~\\anaconda3\\Lib\\site-packages\\selenium\\webdriver\\remote\\webelement.py:572\u001b[0m, in \u001b[0;36mWebElement._execute\u001b[1;34m(self, command, params)\u001b[0m\n\u001b[0;32m    570\u001b[0m     params \u001b[38;5;241m=\u001b[39m {}\n\u001b[0;32m    571\u001b[0m params[\u001b[38;5;124m\"\u001b[39m\u001b[38;5;124mid\u001b[39m\u001b[38;5;124m\"\u001b[39m] \u001b[38;5;241m=\u001b[39m \u001b[38;5;28mself\u001b[39m\u001b[38;5;241m.\u001b[39m_id\n\u001b[1;32m--> 572\u001b[0m \u001b[38;5;28;01mreturn\u001b[39;00m \u001b[38;5;28mself\u001b[39m\u001b[38;5;241m.\u001b[39m_parent\u001b[38;5;241m.\u001b[39mexecute(command, params)\n",
      "File \u001b[1;32m~\\anaconda3\\Lib\\site-packages\\selenium\\webdriver\\remote\\webdriver.py:448\u001b[0m, in \u001b[0;36mWebDriver.execute\u001b[1;34m(self, driver_command, params)\u001b[0m\n\u001b[0;32m    446\u001b[0m response \u001b[38;5;241m=\u001b[39m \u001b[38;5;28mself\u001b[39m\u001b[38;5;241m.\u001b[39mcommand_executor\u001b[38;5;241m.\u001b[39mexecute(driver_command, params)\n\u001b[0;32m    447\u001b[0m \u001b[38;5;28;01mif\u001b[39;00m response:\n\u001b[1;32m--> 448\u001b[0m     \u001b[38;5;28mself\u001b[39m\u001b[38;5;241m.\u001b[39merror_handler\u001b[38;5;241m.\u001b[39mcheck_response(response)\n\u001b[0;32m    449\u001b[0m     response[\u001b[38;5;124m\"\u001b[39m\u001b[38;5;124mvalue\u001b[39m\u001b[38;5;124m\"\u001b[39m] \u001b[38;5;241m=\u001b[39m \u001b[38;5;28mself\u001b[39m\u001b[38;5;241m.\u001b[39m_unwrap_value(response\u001b[38;5;241m.\u001b[39mget(\u001b[38;5;124m\"\u001b[39m\u001b[38;5;124mvalue\u001b[39m\u001b[38;5;124m\"\u001b[39m, \u001b[38;5;28;01mNone\u001b[39;00m))\n\u001b[0;32m    450\u001b[0m     \u001b[38;5;28;01mreturn\u001b[39;00m response\n",
      "File \u001b[1;32m~\\anaconda3\\Lib\\site-packages\\selenium\\webdriver\\remote\\errorhandler.py:232\u001b[0m, in \u001b[0;36mErrorHandler.check_response\u001b[1;34m(self, response)\u001b[0m\n\u001b[0;32m    230\u001b[0m         alert_text \u001b[38;5;241m=\u001b[39m value[\u001b[38;5;124m\"\u001b[39m\u001b[38;5;124malert\u001b[39m\u001b[38;5;124m\"\u001b[39m]\u001b[38;5;241m.\u001b[39mget(\u001b[38;5;124m\"\u001b[39m\u001b[38;5;124mtext\u001b[39m\u001b[38;5;124m\"\u001b[39m)\n\u001b[0;32m    231\u001b[0m     \u001b[38;5;28;01mraise\u001b[39;00m exception_class(message, screen, stacktrace, alert_text)  \u001b[38;5;66;03m# type: ignore[call-arg]  # mypy is not smart enough here\u001b[39;00m\n\u001b[1;32m--> 232\u001b[0m \u001b[38;5;28;01mraise\u001b[39;00m exception_class(message, screen, stacktrace)\n",
      "\u001b[1;31mStaleElementReferenceException\u001b[0m: Message: stale element reference: stale element not found\n  (Session info: chrome=138.0.7204.184); For documentation on this error, please visit: https://www.selenium.dev/documentation/webdriver/troubleshooting/errors#stale-element-reference-exception\nStacktrace:\n\tGetHandleVerifier [0x0x7ff7a21be415+77285]\n\tGetHandleVerifier [0x0x7ff7a21be470+77376]\n\t(No symbol) [0x0x7ff7a1f89a6a]\n\t(No symbol) [0x0x7ff7a1f9fec4]\n\t(No symbol) [0x0x7ff7a1f9e9a3]\n\t(No symbol) [0x0x7ff7a1f92181]\n\t(No symbol) [0x0x7ff7a1f9002f]\n\t(No symbol) [0x0x7ff7a1f944cc]\n\t(No symbol) [0x0x7ff7a1f9459f]\n\t(No symbol) [0x0x7ff7a1fd9f16]\n\t(No symbol) [0x0x7ff7a200860a]\n\t(No symbol) [0x0x7ff7a1fd2d06]\n\t(No symbol) [0x0x7ff7a2008820]\n\t(No symbol) [0x0x7ff7a203087f]\n\t(No symbol) [0x0x7ff7a20083e3]\n\t(No symbol) [0x0x7ff7a1fd1521]\n\t(No symbol) [0x0x7ff7a1fd22b3]\n\tGetHandleVerifier [0x0x7ff7a24a1efd+3107021]\n\tGetHandleVerifier [0x0x7ff7a249c29d+3083373]\n\tGetHandleVerifier [0x0x7ff7a24bbedd+3213485]\n\tGetHandleVerifier [0x0x7ff7a21d884e+184862]\n\tGetHandleVerifier [0x0x7ff7a21e055f+216879]\n\tGetHandleVerifier [0x0x7ff7a21c7084+113236]\n\tGetHandleVerifier [0x0x7ff7a21c7239+113673]\n\tGetHandleVerifier [0x0x7ff7a21ae298+11368]\n\tBaseThreadInitThunk [0x0x7ffb5427e8d7+23]\n\tRtlUserThreadStart [0x0x7ffb5537c34c+44]\n"
     ]
    }
   ],
   "source": [
    "url = \"https://pjt3591oo.github.io\"\n",
    "\n",
    "driver = webdriver.Chrome()\n",
    "\n",
    "driver.get(url)\n",
    "\n",
    "tags_a = driver.find_elements(By.CSS_SELECTOR, \"a\")\n",
    "\n",
    "for i in tags_a:\n",
    "    print(i.text, i.tag_name)\n",
    "    i.click()"
   ]
  },
  {
   "cell_type": "markdown",
   "id": "6da5a67c-3833-48c9-8aa8-a1f65a0b7035",
   "metadata": {},
   "source": [
    "- 메인페이지에서 돔트리를 불러오고 다른 페이지로 넘어가면, 그 전에 가져온 페이지는 사용할 수 없게 됨\n",
    "- 따라서 click을 페이지 이동 용도로 사용하는 것은 가급적 피하는 것을 추천\n",
    "- 페이지 변화 없이 페이지 내에서 데이터가 변화되는 경우에 사용하는 것을 권장"
   ]
  },
  {
   "cell_type": "markdown",
   "id": "f8c3b211-9432-41f8-b51f-edac3a2a382d",
   "metadata": {},
   "source": [
    "## 키보드 제어"
   ]
  },
  {
   "cell_type": "code",
   "execution_count": 22,
   "id": "f619ad7b-900b-4c80-abed-4d7f213879bd",
   "metadata": {},
   "outputs": [],
   "source": [
    "url = \"https://pjt3591oo.github.io/search\"\n",
    "\n",
    "driver = webdriver.Chrome()\n",
    "\n",
    "driver.get(url)\n",
    "\n",
    "search_box = driver.find_element(By.CSS_SELECTOR, \"input#search-box\")\n",
    "\n",
    "search_box.send_keys(\"test\")"
   ]
  },
  {
   "cell_type": "markdown",
   "id": "f50ccec5-39e4-4f83-a656-f099884b5e5d",
   "metadata": {},
   "source": [
    "### - selenium과 bs4의 조합\n",
    "\n",
    "- page_source : 현재 웹 브라우저의 HTML 코드를 가져옴"
   ]
  },
  {
   "cell_type": "code",
   "execution_count": 25,
   "id": "d16c94ac-2a4b-4c34-9009-c6f0c289133c",
   "metadata": {},
   "outputs": [
    {
     "name": "stdout",
     "output_type": "stream",
     "text": [
      "Structure aiohttp Of python\n",
      "  내용을 시작하기 앞서 python에 하면 가장 많이 떠오르는 서버 프레임워크로는 django나 flask가 있을 것이다.하지만 블로그 주인놈은 특정 프로젝트에서 굉장히 빠른 응답속도를 내야하는 API서버를 구축을 하여야 하는 상황이 있었다.이때 굉장히 많은 서버 프...\n",
      "----------\n",
      "Structure Express Of Node\n",
      "Express Frameexpress는 node.js에서 제공하는 프레임워크.express-genderator를 설치를 통해 express 프로젝트 생성이 가능하다.아래의 내용은 Mysql 혹은 MariaDB, MongoDb(mongodb모듈을 통해 로우단에서 mong...\n",
      "----------\n",
      "파일 리더기 만들기 - pdf를 html로 변환, docx를 pdf로 변환\n",
      "파일 리더기를 만들고 있다.우선 rtf와 docx 직접적으로 처리를 하려고 했으나 매우 거지 같아서 pdf로 변환을 거친 후 처리를 하기로 했다.이번에는 pdf 파일을 html 파일로 바꿔주는 방법, docx파일을 pdf파일로 바꿔주는 방법에 대해서 다뤄보고자 합니다....\n",
      "----------\n",
      "Javascript Asynchronous, synchronous and Promise\n",
      "동기, 비동기 그리고 promiseAsynchronous(비동기) Code란 무엇일까? node를 접하지 않았다면 대부분의 개발자들은 동기방식의 코드에 익숙할 것이다. 다음 코드를 보면 이해하기 쉬울 것이다.void FTest(){    for(int i = 0 ; i...\n",
      "----------\n",
      "[react] react 작업환경 설\n",
      "react-boilerplate 사용방법해당 프로젝트는 일반적인 react를 사용하기 전에 이런저런 환경설정을 미리 셋팅을 해둔 프로젝트 입니다. 해당 프로젝트는 아래의 설정들을 거쳐 해당 명령어만 실행을 해주면 일반적인 react 프로젝트를 실행 시킬 수 있습니다.1...\n",
      "----------\n"
     ]
    }
   ],
   "source": [
    "url = \"https://pjt3591oo.github.io/search\"\n",
    "\n",
    "driver = webdriver.Chrome()\n",
    "\n",
    "driver.get(url)\n",
    "\n",
    "search_box = driver.find_element(By.CSS_SELECTOR, \"input#search-box\")\n",
    "\n",
    "search_box.send_keys(\"test\")\n",
    "search_box.send_keys(Keys.ENTER) # 엔터키 입력\n",
    "\n",
    "soup = BeautifulSoup(driver.page_source, \"lxml\")\n",
    "items = soup.select(\"ul#search-results > li\")\n",
    "\n",
    "for i in items:\n",
    "    title = i.select_one(\"h3\").string\n",
    "    description = i.select_one(\"p\").string\n",
    "    print(title)\n",
    "    print(description)\n",
    "    print(\"-\" * 10)"
   ]
  },
  {
   "cell_type": "markdown",
   "id": "e24b0228-d623-4d20-8402-ccabc16a7b9b",
   "metadata": {},
   "source": [
    "## JavaScript 실행"
   ]
  },
  {
   "cell_type": "code",
   "execution_count": 28,
   "id": "d2e208a2-8683-4183-a909-26cdc4cc2940",
   "metadata": {},
   "outputs": [],
   "source": [
    "url = \"https://pjt3591oo.github.io/search\"\n",
    "\n",
    "driver = webdriver.Chrome()\n",
    "\n",
    "driver.get(url)\n",
    "\n",
    "driver.execute_script('alert(\"test\")') # 경고창을 띄우는 JavaScript 함수"
   ]
  },
  {
   "cell_type": "markdown",
   "id": "66d45e54-913b-4bcb-aa01-73a435c4d39b",
   "metadata": {},
   "source": [
    "# **스포츠 데이터 크롤링**"
   ]
  },
  {
   "cell_type": "code",
   "execution_count": 36,
   "id": "36305881-53e7-4195-afb9-bf60828877b7",
   "metadata": {},
   "outputs": [
    {
     "data": {
      "text/plain": [
       "[]"
      ]
     },
     "execution_count": 36,
     "metadata": {},
     "output_type": "execute_result"
    }
   ],
   "source": [
    "url = \"https://www.livesport.com/kr/team/lotte-giants/pGw4ggkO/\"\n",
    "\n",
    "page = urlopen(url)\n",
    "\n",
    "soup = BeautifulSoup(page, \"lxml\")\n",
    "\n",
    "soup.select(\"span.wcl-simpleText_Asp-0\")"
   ]
  },
  {
   "cell_type": "code",
   "execution_count": 38,
   "id": "e86a2f3a-709c-45c8-9b8c-3748550ac953",
   "metadata": {},
   "outputs": [
    {
     "data": {
      "text/plain": [
       "[]"
      ]
     },
     "execution_count": 38,
     "metadata": {},
     "output_type": "execute_result"
    }
   ],
   "source": [
    "driver = webdriver.Chrome()\n",
    "\n",
    "driver.get(url)\n",
    "driver.implicitly_wait(3) # 서버에서 데이터가 다 불러와질 때까지 최대 3초 대기\n",
    "\n",
    "soup = BeautifulSoup(driver.page_source, \"lxml\")\n",
    "\n",
    "[i.string for i in soup.select(\"span.wcl-simpleText_Asp-0\")]"
   ]
  },
  {
   "cell_type": "markdown",
   "id": "1e7a478a-dae7-4291-b8d6-e22777454a8b",
   "metadata": {},
   "source": [
    "# **스타벅스 크롤링**"
   ]
  },
  {
   "cell_type": "code",
   "execution_count": 34,
   "id": "1e47793c-e6d9-4b71-93a5-ea3b82376820",
   "metadata": {
    "scrolled": true
   },
   "outputs": [
    {
     "name": "stdout",
     "output_type": "stream",
     "text": [
      "마포구청역  \n",
      "망원한강공원  \n",
      "홍대동교  \n",
      "합정푸르지오  \n",
      "홍대역8번출구  \n",
      "디지털미디어시티역  \n",
      "아현역대로  \n",
      "합정메세나몰  \n",
      "마포이마트  \n",
      "망원역  \n",
      "홍대삼거리  \n",
      "마포아크로  \n",
      "마포일진빌딩  \n",
      "상암DMC  \n",
      "애오개역  \n",
      "동교  \n",
      "홍대역  \n",
      "상암MBC  \n",
      "서강대  \n",
      "공덕오거리  \n",
      "상수역  \n",
      "상암디지털큐브  \n",
      "신촌오거리  \n",
      "상암사보이시티  \n",
      "서교동사거리  \n",
      "서강대흥역  \n",
      "합정  \n",
      "서강광흥창역  \n",
      "마포염리  \n",
      "홍대공항철도역  \n",
      "합정폴리스R  \n",
      "공덕  \n",
      "마포경찰서후문  \n",
      "홍대입구역사거리R  \n",
      "마포용강동  \n",
      "상암YTN  \n",
      "서강대프라자  \n"
     ]
    }
   ],
   "source": [
    "url = \"https://www.starbucks.co.kr/store/store_map.do?disp=locale\"\n",
    "\n",
    "driver = webdriver.Chrome()\n",
    "\n",
    "driver.get(url)\n",
    "\n",
    "driver.implicitly_wait(3)\n",
    "\n",
    "sido = driver.find_elements(By.CSS_SELECTOR, \"a.set_sido_cd_btn\")\n",
    "\n",
    "sido[0].click()\n",
    "\n",
    "time.sleep(1)\n",
    "\n",
    "gugun = driver.find_elements(By.CSS_SELECTOR, \"a.set_gugun_cd_btn\")\n",
    "\n",
    "gugun[13].click()\n",
    "\n",
    "time.sleep(1)\n",
    "\n",
    "soup = BeautifulSoup(driver.page_source, \"lxml\")\n",
    "\n",
    "store = soup.select(\"li.quickResultLstCon > strong\")\n",
    "\n",
    "for i in store:\n",
    "    print(i.string)"
   ]
  },
  {
   "cell_type": "code",
   "execution_count": null,
   "id": "911e8a15-f32f-4b8a-8dcc-304f82a8ce1d",
   "metadata": {},
   "outputs": [],
   "source": []
  }
 ],
 "metadata": {
  "kernelspec": {
   "display_name": "Python [conda env:base] *",
   "language": "python",
   "name": "conda-base-py"
  },
  "language_info": {
   "codemirror_mode": {
    "name": "ipython",
    "version": 3
   },
   "file_extension": ".py",
   "mimetype": "text/x-python",
   "name": "python",
   "nbconvert_exporter": "python",
   "pygments_lexer": "ipython3",
   "version": "3.12.7"
  }
 },
 "nbformat": 4,
 "nbformat_minor": 5
}
