{
 "cells": [
  {
   "cell_type": "markdown",
   "id": "4aa77e6c-894b-4bb7-ad11-2445171900e5",
   "metadata": {},
   "source": [
    "# **컬렉션**\n",
    "\n",
    "- 여러 값을 하나의 이름으로 묶어서 관리하는 자료형\n",
    "\n",
    "| 컬렉션 | 생성 함수 | 특징 | 예시 |\n",
    "| :-- | :-- | :-- | :-- |\n",
    "| 리스트 | list() | 추가, 수정, 삭제가 언제나 가능 | a = [1, 2, 3] |\n",
    "| 튜플 | tuple() | 생성되고 나면 변경 불가능 | a = (1, 2, 3) |\n",
    "| 세트 | set() | 중복된 값의 저장 불가능 | a = {1, 2, 3} |\n",
    "| 딕셔너리 | dict() | 키 + 값으로 관리 | a = {\"age\" : 25} |"
   ]
  },
  {
   "cell_type": "code",
   "execution_count": 1,
   "id": "e25f7d44-6892-4319-8b0b-c725a54f0f8c",
   "metadata": {},
   "outputs": [
    {
     "name": "stdout",
     "output_type": "stream",
     "text": [
      "[1, 2, 3, 4, 5]\n",
      "<class 'list'>\n",
      "{1, 2, 3, 4}\n",
      "<class 'set'>\n",
      "(2, 2, 3, 4, 5)\n",
      "<class 'tuple'>\n",
      "{'aaa': 1, 'bbb': 2, 'ccc': 3}\n",
      "<class 'dict'>\n"
     ]
    }
   ],
   "source": [
    "li = [1, 2, 3, 4, 5] # 리스트\n",
    "se = {1, 2, 3, 3, 4} # 세트\n",
    "tu = (2, 2, 3, 4, 5) # 튜플\n",
    "dic = {\"aaa\" : 1, \"bbb\" : 2, \"ccc\" : 3} # 딕셔너리\n",
    "\n",
    "print(li)\n",
    "print(type(li))\n",
    "\n",
    "print(se)\n",
    "print(type(se))\n",
    "\n",
    "print(tu)\n",
    "print(type(tu))\n",
    "\n",
    "print(dic)\n",
    "print(type(dic))"
   ]
  },
  {
   "cell_type": "markdown",
   "id": "48b3bdbd-9f60-48bb-8aad-2b1a3a8cd8d5",
   "metadata": {},
   "source": [
    "# **리스트(list)**\n",
    "\n",
    "- 여러 가지 자료를 저장할 수 있는 자료\n",
    "    - 지금까지 활용한 숫자나 문자, 수식 등이 개별적인 자료라면, 리스트는 이런 자료들을 모아서 사용할 수 있게 해주는 특별한 형태의 자료\n",
    "- 리스트 생성하는 법 : 대괄호에 자료를 쉼표로 구분해서 입력\n",
    "    - [요소, 요소, 요소...]\n",
    "    - 대괄호 내부에 넣는 자료를 요소(element)라고 함"
   ]
  },
  {
   "cell_type": "code",
   "execution_count": 4,
   "id": "fbb8c68c-b5af-48d5-823e-c62d9f5bb9dc",
   "metadata": {},
   "outputs": [],
   "source": [
    "# 숫자만으로 구성된 리스트\n",
    "list_num = [1, 2, 3, 4]\n",
    "\n",
    "# 문자열만으로 구성된 리스트\n",
    "list_str = [\"a\", \"b\", \"c\"]\n",
    "\n",
    "# 여러 자료형으로 구성된 리스트\n",
    "list_mix = [273, 32, 103, \"문자열\", True, False]"
   ]
  },
  {
   "cell_type": "code",
   "execution_count": 6,
   "id": "c9ce784c-414e-4ae5-9410-f483460081bd",
   "metadata": {},
   "outputs": [
    {
     "name": "stdout",
     "output_type": "stream",
     "text": [
      "[1, 2, 3, 4, 5]\n"
     ]
    }
   ],
   "source": [
    "# 인덱싱, 슬라이싱\n",
    "print(li)"
   ]
  },
  {
   "cell_type": "code",
   "execution_count": 8,
   "id": "2e59a34f-dce5-4c8d-bd83-b3a41e5a1999",
   "metadata": {},
   "outputs": [
    {
     "name": "stdout",
     "output_type": "stream",
     "text": [
      "1\n"
     ]
    }
   ],
   "source": [
    "print(li[0])"
   ]
  },
  {
   "cell_type": "code",
   "execution_count": 10,
   "id": "51e8a7eb-1984-456d-b157-14e1b666c21d",
   "metadata": {},
   "outputs": [
    {
     "name": "stdout",
     "output_type": "stream",
     "text": [
      "[1, 2, 3, 4]\n"
     ]
    }
   ],
   "source": [
    "print(li[:-1])"
   ]
  },
  {
   "cell_type": "code",
   "execution_count": 12,
   "id": "49ec5b9e-327e-4eba-98a4-8d43e477f61a",
   "metadata": {},
   "outputs": [],
   "source": [
    "# 이중리스트\n",
    "li = [1, 2, 3, [\"a\", \"b\", \"c\"]]"
   ]
  },
  {
   "cell_type": "code",
   "execution_count": 14,
   "id": "8efa852f-7042-4e54-9e25-b32e263fee53",
   "metadata": {},
   "outputs": [
    {
     "data": {
      "text/plain": [
       "['a', 'b', 'c']"
      ]
     },
     "execution_count": 14,
     "metadata": {},
     "output_type": "execute_result"
    }
   ],
   "source": [
    "li[-1]"
   ]
  },
  {
   "cell_type": "code",
   "execution_count": 16,
   "id": "7e4a4e95-98e9-4d48-a497-b19d2cc5d119",
   "metadata": {},
   "outputs": [
    {
     "data": {
      "text/plain": [
       "'a'"
      ]
     },
     "execution_count": 16,
     "metadata": {},
     "output_type": "execute_result"
    }
   ],
   "source": [
    "li[-1][0]"
   ]
  },
  {
   "cell_type": "markdown",
   "id": "8e7c6244-e537-49d4-b7db-d102a2ef80af",
   "metadata": {},
   "source": [
    "## 리스트 연산\n",
    "\n",
    "- 문자열에 적용할 수 있는 연산자는 리스트에도 활용할 수 있음"
   ]
  },
  {
   "cell_type": "code",
   "execution_count": 19,
   "id": "4fb39d0c-e3d4-4e34-97a4-d0ba7efc5541",
   "metadata": {},
   "outputs": [
    {
     "name": "stdout",
     "output_type": "stream",
     "text": [
      "[1, 2, 3, 4, 5, 6]\n"
     ]
    }
   ],
   "source": [
    "# 리스트 병합\n",
    "a = [1, 2, 3]\n",
    "b = [4, 5, 6]\n",
    "\n",
    "print(a + b)"
   ]
  },
  {
   "cell_type": "code",
   "execution_count": 21,
   "id": "2c959071-8823-4573-aa31-5b4dd5fc9803",
   "metadata": {},
   "outputs": [
    {
     "name": "stdout",
     "output_type": "stream",
     "text": [
      "[1, 2, 3, 1, 2, 3]\n"
     ]
    }
   ],
   "source": [
    "# 리스트 반복\n",
    "print(a * 2)"
   ]
  },
  {
   "cell_type": "markdown",
   "id": "f5abd76a-055a-4bd3-a1dc-136a8d256988",
   "metadata": {},
   "source": [
    "## 리스트 수정, 삭제"
   ]
  },
  {
   "cell_type": "code",
   "execution_count": 24,
   "id": "681d6bac-6b53-42f7-bdca-7e2c0c38ec4e",
   "metadata": {},
   "outputs": [
    {
     "data": {
      "text/plain": [
       "[1, 2, 3, ['a', 'b', 'c']]"
      ]
     },
     "execution_count": 24,
     "metadata": {},
     "output_type": "execute_result"
    }
   ],
   "source": [
    "li"
   ]
  },
  {
   "cell_type": "code",
   "execution_count": 26,
   "id": "c2606dab-926e-4e72-85e6-dfc09ade8716",
   "metadata": {},
   "outputs": [],
   "source": [
    "# 요소를 인덱스로 삭제\n",
    "del li[-1] # 슬라이싱도 사용 가능"
   ]
  },
  {
   "cell_type": "code",
   "execution_count": 28,
   "id": "67f5f591-62f8-4677-840b-5a558dd3e40f",
   "metadata": {},
   "outputs": [
    {
     "data": {
      "text/plain": [
       "[1, 2, 3]"
      ]
     },
     "execution_count": 28,
     "metadata": {},
     "output_type": "execute_result"
    }
   ],
   "source": [
    "li"
   ]
  },
  {
   "cell_type": "code",
   "execution_count": 30,
   "id": "1e97ccd1-f59b-4c80-bdbb-9e5ee9584f9e",
   "metadata": {},
   "outputs": [],
   "source": [
    "# 수정\n",
    "li[2] = 4"
   ]
  },
  {
   "cell_type": "code",
   "execution_count": 32,
   "id": "c92b1e15-1580-4157-bb3c-0fe7809fa2ae",
   "metadata": {},
   "outputs": [
    {
     "data": {
      "text/plain": [
       "[1, 2, 4]"
      ]
     },
     "execution_count": 32,
     "metadata": {},
     "output_type": "execute_result"
    }
   ],
   "source": [
    "li"
   ]
  },
  {
   "cell_type": "code",
   "execution_count": 34,
   "id": "393fa9af-2dfa-4937-a0b1-5a890f9a223d",
   "metadata": {},
   "outputs": [],
   "source": [
    "# remove 함수를 이용한 삭제\n",
    "li.remove(4)"
   ]
  },
  {
   "cell_type": "code",
   "execution_count": 36,
   "id": "646fcaea-1fa1-49e8-8091-a81fea6ae302",
   "metadata": {},
   "outputs": [
    {
     "data": {
      "text/plain": [
       "[1, 2]"
      ]
     },
     "execution_count": 36,
     "metadata": {},
     "output_type": "execute_result"
    }
   ],
   "source": [
    "li"
   ]
  },
  {
   "cell_type": "code",
   "execution_count": 38,
   "id": "9c9ba057-2017-4df0-998c-392a53b2c3f7",
   "metadata": {},
   "outputs": [
    {
     "data": {
      "text/plain": [
       "[1, 2, 1, 2, 3]"
      ]
     },
     "execution_count": 38,
     "metadata": {},
     "output_type": "execute_result"
    }
   ],
   "source": [
    "# remove 함수는 리스트에서 첫 번째로 나오는 특정 요소를 삭제하는 함수\n",
    "li = [1, 2, 3, 1, 2, 3]\n",
    "\n",
    "li.remove(3)\n",
    "\n",
    "li"
   ]
  },
  {
   "cell_type": "code",
   "execution_count": 40,
   "id": "1d22b3f0-445f-42c9-b430-80c4d6895814",
   "metadata": {},
   "outputs": [
    {
     "name": "stdout",
     "output_type": "stream",
     "text": [
      "3\n",
      "[1, 2]\n"
     ]
    }
   ],
   "source": [
    "# pop 함수를 이용한 삭제\n",
    "# 제거할 위치를 입력하지 않으면 기본값(-1)을 적용해서 리스트의 맨 마지막 요소를 반환하고 해당 요소를 삭제\n",
    "li = [1, 2, 3]\n",
    "\n",
    "print(li.pop())\n",
    "\n",
    "print(li)"
   ]
  },
  {
   "cell_type": "code",
   "execution_count": 42,
   "id": "cdacc6a6-c0e1-4a74-8d94-3e946501cb46",
   "metadata": {},
   "outputs": [
    {
     "name": "stdout",
     "output_type": "stream",
     "text": [
      "2\n",
      "[1, 3]\n"
     ]
    }
   ],
   "source": [
    "# 특정 인덱스의 요소를 반환하는 것도 가능\n",
    "li = [1, 2, 3]\n",
    "\n",
    "print(li.pop(1))\n",
    "\n",
    "print(li)"
   ]
  },
  {
   "cell_type": "markdown",
   "id": "66685073-4188-44e6-8961-21cb3c9f370a",
   "metadata": {},
   "source": [
    "## 요소 추가"
   ]
  },
  {
   "cell_type": "code",
   "execution_count": 45,
   "id": "665f98cd-eb5d-483f-a232-369748c37b3e",
   "metadata": {},
   "outputs": [],
   "source": [
    "# 리스트 뒤에 요소를 추가\n",
    "li.append(5)"
   ]
  },
  {
   "cell_type": "code",
   "execution_count": 47,
   "id": "5038ff3d-a458-44a2-9a80-aa5632096569",
   "metadata": {},
   "outputs": [
    {
     "data": {
      "text/plain": [
       "[1, 3, 5]"
      ]
     },
     "execution_count": 47,
     "metadata": {},
     "output_type": "execute_result"
    }
   ],
   "source": [
    "li"
   ]
  },
  {
   "cell_type": "code",
   "execution_count": 49,
   "id": "17f21100-4ddb-478e-9f0d-436a6813ed0a",
   "metadata": {},
   "outputs": [],
   "source": [
    "li.append([1, 2, 3])"
   ]
  },
  {
   "cell_type": "code",
   "execution_count": 51,
   "id": "4d467761-dd23-482f-ae87-302882cf0407",
   "metadata": {},
   "outputs": [
    {
     "data": {
      "text/plain": [
       "[1, 3, 5, [1, 2, 3]]"
      ]
     },
     "execution_count": 51,
     "metadata": {},
     "output_type": "execute_result"
    }
   ],
   "source": [
    "li"
   ]
  },
  {
   "cell_type": "code",
   "execution_count": 53,
   "id": "7b47a646-9415-4c99-829f-114df9308bbf",
   "metadata": {},
   "outputs": [
    {
     "name": "stdout",
     "output_type": "stream",
     "text": [
      "[4, 1, 2, 3]\n"
     ]
    }
   ],
   "source": [
    "# 요소 삽입\n",
    "# 괄호 안에서 정한 위치에 요소를 삽입\n",
    "# 해당 위치의 요소는 뒤로 하나씩 밀림\n",
    "li = [1, 2, 3]\n",
    "\n",
    "li.insert(0, 4)\n",
    "\n",
    "print(li)"
   ]
  },
  {
   "cell_type": "code",
   "execution_count": 55,
   "id": "6bfcffd8-8cab-40d9-80b3-32502c5e1927",
   "metadata": {},
   "outputs": [],
   "source": [
    "# 리스트 확장\n",
    "# 리스트 뒤에 새로운 리스트의 요소를 모두 추가\n",
    "# 한 번에 여러 요소를 추가하고 싶을 때 사용\n",
    "li.extend([4, 5])"
   ]
  },
  {
   "cell_type": "code",
   "execution_count": 57,
   "id": "923572a3-1c13-4dc3-848d-69fa27311fc0",
   "metadata": {},
   "outputs": [
    {
     "data": {
      "text/plain": [
       "[4, 1, 2, 3, 4, 5]"
      ]
     },
     "execution_count": 57,
     "metadata": {},
     "output_type": "execute_result"
    }
   ],
   "source": [
    "li"
   ]
  },
  {
   "cell_type": "code",
   "execution_count": 59,
   "id": "da0550f6-79c5-4b8b-a669-b0507ed98075",
   "metadata": {},
   "outputs": [
    {
     "name": "stdout",
     "output_type": "stream",
     "text": [
      "[4, 1, 2, 3, 4, 5, 1, 2, 3]\n"
     ]
    }
   ],
   "source": [
    "print(li + [1, 2, 3])"
   ]
  },
  {
   "cell_type": "code",
   "execution_count": 61,
   "id": "ee53816d-6c2c-475f-b2bc-008b4fe2b734",
   "metadata": {},
   "outputs": [
    {
     "name": "stdout",
     "output_type": "stream",
     "text": [
      "[4, 1, 2, 3, 4, 5]\n"
     ]
    }
   ],
   "source": [
    "print(li)"
   ]
  },
  {
   "cell_type": "markdown",
   "id": "01dea460-d92b-431a-bef3-ba30b6b19aa1",
   "metadata": {},
   "source": [
    "#### : 리스트 연결 연산자와 리스트 확장의 차이\n",
    "\n",
    "- 공통점\n",
    "    - 리스트 연결 연산자와 extend() 함수는 비슷한 형태로 동작\n",
    "        - 리스트와 리스트를 연결\n",
    "- 차이점\n",
    "    - 리스트 연결 연산자(+)는 원본 리스트에 아무런 영향을 주지 않음\n",
    "        - 비파괴적 \n",
    "    - extend() 함수는 원본 리스트에 직접적인 영향을 줌\n",
    "        - 파괴적\n",
    "- 기본적으로 자료는 비파괴적으로 사용하는 것이 편리\n",
    "    - 원본으로도 활용할 수 있고 새로운 결과도 활용할 수 있으므로 선택지가 더 넓기 때문\n",
    "    - 따라서 기본 자료형(숫자, 문자열, 불)과 관련된 것들은 비파괴적으로 작동\n",
    "- 하지만 리스트는 용량이 매우 커질 수 있음\n",
    "    - 용량이 얼마나 커질 지 알 수 없기 때문에 원본과 결과 두 가지 상태를 다 생성하는 것은 위험할 수 있음\n",
    "    - 이런 경우 원본 데이터를 직접 조작하는 기능을 통해 위험을 회피"
   ]
  },
  {
   "cell_type": "markdown",
   "id": "75159eee-cace-4ec4-9c52-bb2a0578cecd",
   "metadata": {},
   "source": [
    "## 리스트 관련 함수"
   ]
  },
  {
   "cell_type": "code",
   "execution_count": 65,
   "id": "0dfe2489-59a6-4193-859d-f52f69175158",
   "metadata": {},
   "outputs": [
    {
     "name": "stdout",
     "output_type": "stream",
     "text": [
      "[1, 2, 3, 4]\n"
     ]
    }
   ],
   "source": [
    "# 리스트 오름차순 정렬\n",
    "li = [1, 4, 3, 2]\n",
    "\n",
    "li.sort()\n",
    "\n",
    "print(li)"
   ]
  },
  {
   "cell_type": "code",
   "execution_count": 67,
   "id": "a746753f-41c2-4086-813d-5e60549eb864",
   "metadata": {},
   "outputs": [
    {
     "name": "stdout",
     "output_type": "stream",
     "text": [
      "[4, 3, 2, 1]\n"
     ]
    }
   ],
   "source": [
    "# 내림차순 정렬\n",
    "li.sort(reverse = True)\n",
    "print(li)"
   ]
  },
  {
   "cell_type": "code",
   "execution_count": 69,
   "id": "1b262dc6-80e9-4239-aad7-45e6c919fc98",
   "metadata": {},
   "outputs": [
    {
     "name": "stdout",
     "output_type": "stream",
     "text": [
      "['d', 'b', 'c', 'a']\n"
     ]
    }
   ],
   "source": [
    "# 리스트 뒤집기\n",
    "li = [\"a\", \"c\", \"b\", \"d\"]\n",
    "\n",
    "li.reverse()\n",
    "\n",
    "print(li)"
   ]
  },
  {
   "cell_type": "code",
   "execution_count": 71,
   "id": "255785ac-db8c-4418-84a6-e68316e532d6",
   "metadata": {},
   "outputs": [
    {
     "name": "stdout",
     "output_type": "stream",
     "text": [
      "['a', 'c', 'b', 'd']\n"
     ]
    }
   ],
   "source": [
    "print(li[::-1])"
   ]
  },
  {
   "cell_type": "code",
   "execution_count": 73,
   "id": "508b3b8d-eb93-46d2-93e7-8fb39699feec",
   "metadata": {},
   "outputs": [
    {
     "name": "stdout",
     "output_type": "stream",
     "text": [
      "['d', 'b', 'c', 'a']\n"
     ]
    }
   ],
   "source": [
    "print(li)"
   ]
  },
  {
   "cell_type": "code",
   "execution_count": 75,
   "id": "f92900e9-1629-43db-801b-9ee587292b9b",
   "metadata": {},
   "outputs": [
    {
     "data": {
      "text/plain": [
       "2"
      ]
     },
     "execution_count": 75,
     "metadata": {},
     "output_type": "execute_result"
    }
   ],
   "source": [
    "# 위치 반환\n",
    "li = [1, 2, 3]\n",
    "\n",
    "li.index(3)"
   ]
  },
  {
   "cell_type": "code",
   "execution_count": 77,
   "id": "05005fb7-918f-4bb5-b82a-289695d59438",
   "metadata": {},
   "outputs": [
    {
     "data": {
      "text/plain": [
       "2"
      ]
     },
     "execution_count": 77,
     "metadata": {},
     "output_type": "execute_result"
    }
   ],
   "source": [
    "# 리스트에 포함된 요소의 개수 세기\n",
    "li = [1, 2, 3, 1]\n",
    "\n",
    "li.count(1)"
   ]
  },
  {
   "cell_type": "code",
   "execution_count": 79,
   "id": "ec2b5cd1-847a-471c-ae58-1e3f0ef1ecb8",
   "metadata": {},
   "outputs": [
    {
     "data": {
      "text/plain": [
       "4"
      ]
     },
     "execution_count": 79,
     "metadata": {},
     "output_type": "execute_result"
    }
   ],
   "source": [
    "# 리스트의 길이 구하기\n",
    "len(li)"
   ]
  },
  {
   "cell_type": "code",
   "execution_count": 81,
   "id": "a5c3fc04-8729-4dba-867e-deb0fd8e0cb0",
   "metadata": {},
   "outputs": [],
   "source": [
    "# 리스트 내부 요소를 모두 제거\n",
    "li.clear()"
   ]
  },
  {
   "cell_type": "code",
   "execution_count": 83,
   "id": "68300877-845e-4127-b63d-67508d333f9d",
   "metadata": {},
   "outputs": [
    {
     "name": "stdout",
     "output_type": "stream",
     "text": [
      "[]\n"
     ]
    }
   ],
   "source": [
    "print(li)"
   ]
  },
  {
   "cell_type": "markdown",
   "id": "183c743e-affe-498f-9a5b-d7247a18da4d",
   "metadata": {},
   "source": [
    "#### : 확인문제\n",
    "\n",
    "- list_a 를 적절하게 가공하여 문제에서 제시하는 데이터 만들기"
   ]
  },
  {
   "cell_type": "code",
   "execution_count": 86,
   "id": "2e5f68ae-3a1f-4cff-a2cd-0e75a5d3504d",
   "metadata": {},
   "outputs": [
    {
     "name": "stdout",
     "output_type": "stream",
     "text": [
      "[0, 1, 2, 3, 4, 5, 0, 1, 2, 3, 4, 5]\n"
     ]
    }
   ],
   "source": [
    "# 1. [0, 1, 2, 3, 4, 5, 0, 1, 2, 3, 4, 5]\n",
    "list_a = [0, 1, 2, 3, 4, 5]\n",
    "\n",
    "print(list_a * 2)"
   ]
  },
  {
   "cell_type": "code",
   "execution_count": 88,
   "id": "6c0f6be6-3e06-4606-ac6c-1767a2967265",
   "metadata": {},
   "outputs": [
    {
     "name": "stdout",
     "output_type": "stream",
     "text": [
      "[0, 1, 2, 3, 4, 5, 10]\n"
     ]
    }
   ],
   "source": [
    "# 2. [0, 1, 2, 3, 4, 5, 10]\n",
    "list_a = [0, 1, 2, 3, 4, 5]\n",
    "\n",
    "list_a.append(10)\n",
    "\n",
    "print(list_a)"
   ]
  },
  {
   "cell_type": "code",
   "execution_count": 90,
   "id": "83de5e4e-8ab2-4977-8cc8-7b987e6d6178",
   "metadata": {},
   "outputs": [
    {
     "name": "stdout",
     "output_type": "stream",
     "text": [
      "[0, 1, 2, 0, 3, 4, 5]\n"
     ]
    }
   ],
   "source": [
    "# 3. [0, 1, 2, 0, 3, 4, 5]\n",
    "list_a = [0, 1, 2, 3, 4, 5]\n",
    "\n",
    "list_a.insert(3, 0)\n",
    "\n",
    "print(list_a)"
   ]
  },
  {
   "cell_type": "code",
   "execution_count": 92,
   "id": "39e6910a-fe38-4d4b-b27d-1d895413c474",
   "metadata": {},
   "outputs": [
    {
     "name": "stdout",
     "output_type": "stream",
     "text": [
      "[0, 1, 2, 4, 5]\n"
     ]
    }
   ],
   "source": [
    "# 4. [0, 1, 2, 4, 5]\n",
    "list_a = [0, 1, 2, 3, 4, 5]\n",
    "\n",
    "list_a.remove(3)\n",
    "\n",
    "print(list_a)"
   ]
  },
  {
   "cell_type": "code",
   "execution_count": 94,
   "id": "2cd60b8f-2ba0-4691-a5bb-52e092c82e82",
   "metadata": {},
   "outputs": [
    {
     "name": "stdout",
     "output_type": "stream",
     "text": [
      "[0, 1, 2, 3, 4]\n"
     ]
    }
   ],
   "source": [
    "# 5. [0, 1, 2, 3, 4]\n",
    "list_a = [0, 1, 2, 3, 4, 5]\n",
    "\n",
    "list_a.pop()\n",
    "\n",
    "print(list_a)"
   ]
  },
  {
   "cell_type": "markdown",
   "id": "eaf51577-0744-40ec-8262-f0b6a08a056f",
   "metadata": {},
   "source": [
    "# **튜플**\n",
    "\n",
    "- 리스트와 유사하지만 튜플은 값의 추가, 삭제, 수정이 불가\n",
    "    - 프로그램이 실행되는 동안 값이 변하면 안되는 경우 주로 사용"
   ]
  },
  {
   "cell_type": "code",
   "execution_count": 97,
   "id": "61ccc29b-e3dc-49ba-a063-a34a479c7176",
   "metadata": {},
   "outputs": [
    {
     "data": {
      "text/plain": [
       "(2, 2, 3, 4, 5)"
      ]
     },
     "execution_count": 97,
     "metadata": {},
     "output_type": "execute_result"
    }
   ],
   "source": [
    "tu"
   ]
  },
  {
   "cell_type": "code",
   "execution_count": 99,
   "id": "db8d219c-9d6c-4c57-85ee-d01b38e0fba0",
   "metadata": {},
   "outputs": [
    {
     "ename": "TypeError",
     "evalue": "'tuple' object doesn't support item deletion",
     "output_type": "error",
     "traceback": [
      "\u001b[1;31m---------------------------------------------------------------------------\u001b[0m",
      "\u001b[1;31mTypeError\u001b[0m                                 Traceback (most recent call last)",
      "Cell \u001b[1;32mIn[99], line 1\u001b[0m\n\u001b[1;32m----> 1\u001b[0m \u001b[38;5;28;01mdel\u001b[39;00m tu[\u001b[38;5;241m0\u001b[39m]\n",
      "\u001b[1;31mTypeError\u001b[0m: 'tuple' object doesn't support item deletion"
     ]
    }
   ],
   "source": [
    "del tu[0]"
   ]
  },
  {
   "cell_type": "code",
   "execution_count": null,
   "id": "d026f4da-c465-49ac-87f9-d53729cf7f0c",
   "metadata": {},
   "outputs": [],
   "source": [
    "tu[0] = 0"
   ]
  },
  {
   "cell_type": "markdown",
   "id": "87f14d5a-d40a-4df8-ae9d-a3bd51250ccd",
   "metadata": {},
   "source": [
    "- 인덱싱, 슬라이싱"
   ]
  },
  {
   "cell_type": "code",
   "execution_count": 103,
   "id": "a8af4fc2-dad0-49a0-862e-be58be169ae1",
   "metadata": {},
   "outputs": [
    {
     "data": {
      "text/plain": [
       "2"
      ]
     },
     "execution_count": 103,
     "metadata": {},
     "output_type": "execute_result"
    }
   ],
   "source": [
    "tu[0]"
   ]
  },
  {
   "cell_type": "code",
   "execution_count": 105,
   "id": "f9b6f35a-7fa7-4565-adce-4bc2fbb057c6",
   "metadata": {},
   "outputs": [
    {
     "data": {
      "text/plain": [
       "(2, 3, 4, 5)"
      ]
     },
     "execution_count": 105,
     "metadata": {},
     "output_type": "execute_result"
    }
   ],
   "source": [
    "tu[1:]"
   ]
  },
  {
   "cell_type": "markdown",
   "id": "656e155a-1925-4053-8e7e-f44a8f9278be",
   "metadata": {},
   "source": [
    "- 튜플 연산"
   ]
  },
  {
   "cell_type": "code",
   "execution_count": 108,
   "id": "da15bc5a-7782-4448-82d7-d7b072ca58d6",
   "metadata": {},
   "outputs": [
    {
     "name": "stdout",
     "output_type": "stream",
     "text": [
      "(1, 2, 3, 4)\n"
     ]
    }
   ],
   "source": [
    "tu1 = (1, 2)\n",
    "tu2 = (3, 4)\n",
    "\n",
    "print(tu1 + tu2)"
   ]
  },
  {
   "cell_type": "code",
   "execution_count": 110,
   "id": "7ad883b5-c8c4-4774-8baa-f548dab97017",
   "metadata": {},
   "outputs": [
    {
     "data": {
      "text/plain": [
       "(1, 2)"
      ]
     },
     "execution_count": 110,
     "metadata": {},
     "output_type": "execute_result"
    }
   ],
   "source": [
    "tu1"
   ]
  },
  {
   "cell_type": "code",
   "execution_count": 112,
   "id": "faac3474-54f1-4112-8c9b-f88efb3a2582",
   "metadata": {},
   "outputs": [
    {
     "data": {
      "text/plain": [
       "(3, 4)"
      ]
     },
     "execution_count": 112,
     "metadata": {},
     "output_type": "execute_result"
    }
   ],
   "source": [
    "tu2"
   ]
  },
  {
   "cell_type": "code",
   "execution_count": 114,
   "id": "474404aa-828f-421d-a923-70f66d48b6b4",
   "metadata": {},
   "outputs": [
    {
     "name": "stdout",
     "output_type": "stream",
     "text": [
      "(1, 2, 1, 2)\n"
     ]
    }
   ],
   "source": [
    "print(tu1 * 2)"
   ]
  },
  {
   "cell_type": "markdown",
   "id": "96c87edd-78f2-4e8e-83da-14a10bb3d4bd",
   "metadata": {},
   "source": [
    "# **딕셔너리**\n",
    "\n",
    "- 자료의 대응 관계를 나타내는 자료형\n",
    "    - 연관 배열(Associative array) 또는 해시(Hash)\n",
    "- 데이터를 조회할 때 key를 통해 value를 구함\n",
    "- 딕셔너리 선언\n",
    "    - 중괄호{} 로 선언\n",
    "    - 키 : 값 의 형태를 콤마(,)로 연결해서 만듦\n",
    "        - 키는 문자열, 숫자, 불 등으로 선언할 수 있지만, 일반적으로는 문자열을 주로 사용"
   ]
  },
  {
   "cell_type": "code",
   "execution_count": 117,
   "id": "b4335e2f-656b-476f-882a-586eca8d3dca",
   "metadata": {},
   "outputs": [],
   "source": [
    "dic = {\"name\" : \"andy\", \"birth\" : \"1118\"}"
   ]
  },
  {
   "cell_type": "code",
   "execution_count": 119,
   "id": "33881a57-8d34-437c-862d-b4cb7384fd33",
   "metadata": {},
   "outputs": [
    {
     "name": "stdout",
     "output_type": "stream",
     "text": [
      "{'name': 'andy', 'birth': '1118'}\n"
     ]
    }
   ],
   "source": [
    "print(dic)"
   ]
  },
  {
   "cell_type": "code",
   "execution_count": 121,
   "id": "3bc1c226-e6d8-43b8-b892-7d6d600e8d74",
   "metadata": {},
   "outputs": [
    {
     "name": "stdout",
     "output_type": "stream",
     "text": [
      "{'a': [1, 2, 3]}\n"
     ]
    }
   ],
   "source": [
    "dic = {\"a\" : [1, 2, 3]}\n",
    "\n",
    "print(dic)"
   ]
  },
  {
   "cell_type": "markdown",
   "id": "ef4cbf43-3444-4cdc-919e-2dcfa0a6eb16",
   "metadata": {},
   "source": [
    "- 딕셔너리의 요소 추가, 삭제"
   ]
  },
  {
   "cell_type": "code",
   "execution_count": 124,
   "id": "bcc8a04e-a63f-4304-8d15-50de25f727e6",
   "metadata": {},
   "outputs": [],
   "source": [
    "# 키를 기반으로 값을 입력\n",
    "dic[\"name\"] = \"jun\""
   ]
  },
  {
   "cell_type": "code",
   "execution_count": 126,
   "id": "3d143dbf-ef34-4699-8eb8-703e84dffa56",
   "metadata": {},
   "outputs": [
    {
     "name": "stdout",
     "output_type": "stream",
     "text": [
      "{'a': [1, 2, 3], 'name': 'jun'}\n"
     ]
    }
   ],
   "source": [
    "print(dic)"
   ]
  },
  {
   "cell_type": "code",
   "execution_count": 128,
   "id": "c7c67189-88d6-4a6d-8d5a-045f7fb330d6",
   "metadata": {},
   "outputs": [
    {
     "name": "stdout",
     "output_type": "stream",
     "text": [
      "{'a': [1, 2, 3], 'name': '파인애플'}\n"
     ]
    }
   ],
   "source": [
    "# 이미 존재하는 키를 지정하고 값을 넣으면 기존의 값을 새로운 값으로 수정\n",
    "dic[\"name\"] = \"파인애플\"\n",
    "\n",
    "print(dic)"
   ]
  },
  {
   "cell_type": "code",
   "execution_count": 130,
   "id": "bea2a3a6-0d07-42b3-bc3e-3e757c1b7a6a",
   "metadata": {},
   "outputs": [],
   "source": [
    "# 요소 삭제\n",
    "del dic[\"name\"]"
   ]
  },
  {
   "cell_type": "code",
   "execution_count": 132,
   "id": "1c1d3947-ecd2-44d5-bfff-3e588f99843b",
   "metadata": {},
   "outputs": [
    {
     "name": "stdout",
     "output_type": "stream",
     "text": [
      "{'a': [1, 2, 3]}\n"
     ]
    }
   ],
   "source": [
    "print(dic)"
   ]
  },
  {
   "cell_type": "markdown",
   "id": "84321e7c-0373-4f04-8e30-db7d55df01bf",
   "metadata": {},
   "source": [
    "- 딕셔너리 데이터 추출"
   ]
  },
  {
   "cell_type": "code",
   "execution_count": 135,
   "id": "fd7c2843-e061-44c0-9820-9930150212e5",
   "metadata": {},
   "outputs": [
    {
     "name": "stdout",
     "output_type": "stream",
     "text": [
      "10\n",
      "99\n"
     ]
    }
   ],
   "source": [
    "score = {\"kim\" : 10, \"lee\" : 99}\n",
    "\n",
    "print(score[\"kim\"])\n",
    "print(score[\"lee\"])"
   ]
  },
  {
   "cell_type": "markdown",
   "id": "83f0ec27-8ff1-46f8-92d9-18e86079821b",
   "metadata": {},
   "source": [
    "- 딕셔너리의 key는 고유한 값임\n",
    "    - 중복을 허용하지 않음\n",
    "    - 동일한 key가 존재하면 어떤 value를 불러와야할 지 알 수 없기 때문에"
   ]
  },
  {
   "cell_type": "code",
   "execution_count": 138,
   "id": "066b51dd-2b1d-4f7b-a3ab-07b1f0dec762",
   "metadata": {},
   "outputs": [
    {
     "name": "stdout",
     "output_type": "stream",
     "text": [
      "{1: 'b'}\n"
     ]
    }
   ],
   "source": [
    "dic = {1 : \"a\", 1 : \"b\"}\n",
    "\n",
    "print(dic)"
   ]
  },
  {
   "cell_type": "markdown",
   "id": "cc8882a3-c0fa-4af0-9b8e-31e1b207a9b9",
   "metadata": {},
   "source": [
    "- 딕셔너리의 key에 튜플은 쓸 수 있음\n",
    "    - 리스트는 쓸 수 없음\n",
    "    - 딕셔너리의 key의 요건은 변하지 않는 값(immutable)"
   ]
  },
  {
   "cell_type": "code",
   "execution_count": 141,
   "id": "1045ea61-1b57-466d-b0e0-4cc1aea4dd54",
   "metadata": {},
   "outputs": [
    {
     "ename": "TypeError",
     "evalue": "unhashable type: 'list'",
     "output_type": "error",
     "traceback": [
      "\u001b[1;31m---------------------------------------------------------------------------\u001b[0m",
      "\u001b[1;31mTypeError\u001b[0m                                 Traceback (most recent call last)",
      "Cell \u001b[1;32mIn[141], line 1\u001b[0m\n\u001b[1;32m----> 1\u001b[0m dic \u001b[38;5;241m=\u001b[39m {[\u001b[38;5;241m1\u001b[39m, \u001b[38;5;241m2\u001b[39m] : \u001b[38;5;124m\"\u001b[39m\u001b[38;5;124mhi\u001b[39m\u001b[38;5;124m\"\u001b[39m}\n",
      "\u001b[1;31mTypeError\u001b[0m: unhashable type: 'list'"
     ]
    }
   ],
   "source": [
    "dic = {[1, 2] : \"hi\"}"
   ]
  },
  {
   "cell_type": "code",
   "execution_count": 143,
   "id": "2495ec60-ab9f-4bb7-8121-878b87c09d05",
   "metadata": {},
   "outputs": [
    {
     "name": "stdout",
     "output_type": "stream",
     "text": [
      "{(1, 2): 'hi'}\n"
     ]
    }
   ],
   "source": [
    "dic = {(1, 2) : \"hi\"}\n",
    "\n",
    "print(dic)"
   ]
  },
  {
   "cell_type": "code",
   "execution_count": 145,
   "id": "6a3a14e6-0607-4cb8-b359-ac9050a54d58",
   "metadata": {},
   "outputs": [
    {
     "name": "stdout",
     "output_type": "stream",
     "text": [
      "hi\n"
     ]
    }
   ],
   "source": [
    "print(dic[(1, 2)])"
   ]
  },
  {
   "cell_type": "markdown",
   "id": "e9bf82f1-c284-4f93-bce0-e74484639cd6",
   "metadata": {},
   "source": [
    "## 딕셔너리 관련 함수\n",
    "\n",
    "- key, value, item 리스트"
   ]
  },
  {
   "cell_type": "code",
   "execution_count": 148,
   "id": "9fb4ff69-d408-4cb8-bfe2-8c2979c74211",
   "metadata": {},
   "outputs": [],
   "source": [
    "dic = {\"name\" : \"andy\", \"phone\" : \"0119991234\", \"birth\" : \"1118\"}"
   ]
  },
  {
   "cell_type": "code",
   "execution_count": 150,
   "id": "74c8471a-eeeb-4485-bc6e-bd70188328eb",
   "metadata": {},
   "outputs": [
    {
     "name": "stdout",
     "output_type": "stream",
     "text": [
      "dict_keys(['name', 'phone', 'birth'])\n"
     ]
    }
   ],
   "source": [
    "print(dic.keys())"
   ]
  },
  {
   "cell_type": "code",
   "execution_count": 152,
   "id": "c925cc2e-84b2-4bbe-a371-9587b639194b",
   "metadata": {},
   "outputs": [
    {
     "name": "stdout",
     "output_type": "stream",
     "text": [
      "dict_values(['andy', '0119991234', '1118'])\n"
     ]
    }
   ],
   "source": [
    "print(dic.values())"
   ]
  },
  {
   "cell_type": "code",
   "execution_count": 154,
   "id": "3ca9c046-8f4f-4af4-8842-8a0a5053c9a3",
   "metadata": {},
   "outputs": [
    {
     "name": "stdout",
     "output_type": "stream",
     "text": [
      "dict_items([('name', 'andy'), ('phone', '0119991234'), ('birth', '1118')])\n"
     ]
    }
   ],
   "source": [
    "print(dic.items())"
   ]
  },
  {
   "cell_type": "markdown",
   "id": "355e455e-a060-4233-b6b0-609a0d8228da",
   "metadata": {},
   "source": [
    "- get으로 value 얻기\n",
    "    - 존재하지 않는 키로 값을 가져오려고 할 경우 오류가 발생함\n",
    "        - get 으로 key가 없을 경우 기본값을 대신 가져오게 할 수 있음"
   ]
  },
  {
   "cell_type": "code",
   "execution_count": 157,
   "id": "c197f6ed-d52e-4020-b061-723ec962ae56",
   "metadata": {},
   "outputs": [
    {
     "ename": "KeyError",
     "evalue": "'foo'",
     "output_type": "error",
     "traceback": [
      "\u001b[1;31m---------------------------------------------------------------------------\u001b[0m",
      "\u001b[1;31mKeyError\u001b[0m                                  Traceback (most recent call last)",
      "Cell \u001b[1;32mIn[157], line 1\u001b[0m\n\u001b[1;32m----> 1\u001b[0m dic[\u001b[38;5;124m\"\u001b[39m\u001b[38;5;124mfoo\u001b[39m\u001b[38;5;124m\"\u001b[39m]\n",
      "\u001b[1;31mKeyError\u001b[0m: 'foo'"
     ]
    }
   ],
   "source": [
    "dic[\"foo\"]"
   ]
  },
  {
   "cell_type": "code",
   "execution_count": 159,
   "id": "5f830ed6-ad2d-4326-8389-440702903a63",
   "metadata": {},
   "outputs": [
    {
     "data": {
      "text/plain": [
       "'bar'"
      ]
     },
     "execution_count": 159,
     "metadata": {},
     "output_type": "execute_result"
    }
   ],
   "source": [
    "dic.get(\"foo\", \"bar\")"
   ]
  },
  {
   "cell_type": "code",
   "execution_count": 161,
   "id": "390cba84-a592-4715-906a-d36edc2c31b1",
   "metadata": {},
   "outputs": [
    {
     "data": {
      "text/plain": [
       "'andy'"
      ]
     },
     "execution_count": 161,
     "metadata": {},
     "output_type": "execute_result"
    }
   ],
   "source": [
    "dic.get(\"name\", \"bar\")"
   ]
  },
  {
   "cell_type": "code",
   "execution_count": 163,
   "id": "0a27e9ba-7f1a-40f8-b337-3775ccdc7933",
   "metadata": {},
   "outputs": [
    {
     "data": {
      "text/plain": [
       "{'name': 'andy', 'phone': '0119991234', 'birth': '1118'}"
      ]
     },
     "execution_count": 163,
     "metadata": {},
     "output_type": "execute_result"
    }
   ],
   "source": [
    "dic"
   ]
  },
  {
   "cell_type": "markdown",
   "id": "0910ff6c-32ac-4074-9ea9-b4ecf7370dd4",
   "metadata": {},
   "source": [
    "- 해당 key 가 딕셔너리 안에 있는지 조사하기"
   ]
  },
  {
   "cell_type": "code",
   "execution_count": 166,
   "id": "4c4e53f3-8dcb-4dbc-b986-d1b06bfe7137",
   "metadata": {},
   "outputs": [
    {
     "data": {
      "text/plain": [
       "True"
      ]
     },
     "execution_count": 166,
     "metadata": {},
     "output_type": "execute_result"
    }
   ],
   "source": [
    "\"name\" in dic"
   ]
  },
  {
   "cell_type": "code",
   "execution_count": 168,
   "id": "d1b0e32c-d7bc-4d94-a711-358aa9898781",
   "metadata": {},
   "outputs": [
    {
     "data": {
      "text/plain": [
       "False"
      ]
     },
     "execution_count": 168,
     "metadata": {},
     "output_type": "execute_result"
    }
   ],
   "source": [
    "\"email\" in dic"
   ]
  },
  {
   "cell_type": "markdown",
   "id": "9971eae9-e484-480b-b18b-be562a619d9f",
   "metadata": {},
   "source": [
    "- item 모두 지우기"
   ]
  },
  {
   "cell_type": "code",
   "execution_count": 171,
   "id": "b5a788e7-5871-4fa8-b38f-c6423fe266c2",
   "metadata": {},
   "outputs": [
    {
     "name": "stdout",
     "output_type": "stream",
     "text": [
      "{}\n"
     ]
    }
   ],
   "source": [
    "dic.clear()\n",
    "\n",
    "print(dic)"
   ]
  },
  {
   "cell_type": "markdown",
   "id": "fe32d4a1-b780-49f0-a22b-5863f235c218",
   "metadata": {},
   "source": [
    "#### : 확인문제"
   ]
  },
  {
   "cell_type": "code",
   "execution_count": 174,
   "id": "1d1255cb-c96a-420d-9aaa-a6621a258bec",
   "metadata": {},
   "outputs": [],
   "source": [
    "# 다음의 pets 데이터에서 \"호랑이\" 와 3을 각각 출력해보기\n",
    "pets = [\n",
    "    {\"name\" : \"구름\", \"age\" : 5},\n",
    "    {\"name\" : \"초코\", \"age\" : 3},\n",
    "    {\"name\" : \"아지\", \"age\" : 1},\n",
    "    {\"name\" : \"호랑이\", \"age\" : 2},\n",
    "]"
   ]
  },
  {
   "cell_type": "code",
   "execution_count": 176,
   "id": "a663db7e-569a-441d-9907-937d1040c41e",
   "metadata": {},
   "outputs": [
    {
     "name": "stdout",
     "output_type": "stream",
     "text": [
      "<class 'list'>\n"
     ]
    }
   ],
   "source": [
    "print(type(pets))"
   ]
  },
  {
   "cell_type": "code",
   "execution_count": 178,
   "id": "0d2350f7-d967-4f83-ac32-aca9d80d1243",
   "metadata": {},
   "outputs": [
    {
     "name": "stdout",
     "output_type": "stream",
     "text": [
      "호랑이\n"
     ]
    }
   ],
   "source": [
    "print(pets[3][\"name\"])"
   ]
  },
  {
   "cell_type": "code",
   "execution_count": 180,
   "id": "edd7c925-6f55-4d7c-9b37-0f6e4ef9cdb8",
   "metadata": {},
   "outputs": [
    {
     "name": "stdout",
     "output_type": "stream",
     "text": [
      "3\n"
     ]
    }
   ],
   "source": [
    "print(pets[1][\"age\"])"
   ]
  },
  {
   "cell_type": "markdown",
   "id": "67d0abd0-749b-4923-9888-1a88fa205290",
   "metadata": {},
   "source": [
    "# **세트**\n",
    "\n",
    "- 중복을 허용하지 않음\n",
    "- 순서가 없음"
   ]
  },
  {
   "cell_type": "code",
   "execution_count": 183,
   "id": "8abbfe86-d28d-4216-a39d-bf353046fe18",
   "metadata": {},
   "outputs": [
    {
     "name": "stdout",
     "output_type": "stream",
     "text": [
      "{'e', 'l', 'o', 'H'}\n"
     ]
    }
   ],
   "source": [
    "set1 = set(\"Hello\")\n",
    "\n",
    "print(set1)"
   ]
  },
  {
   "cell_type": "markdown",
   "id": "09d0cd4a-5ee2-438a-b452-b679987cf50d",
   "metadata": {},
   "source": [
    "- 교집합, 합집합, 차집합"
   ]
  },
  {
   "cell_type": "code",
   "execution_count": 186,
   "id": "48040367-af7b-4e1c-9863-9338adafdf44",
   "metadata": {},
   "outputs": [],
   "source": [
    "set1 = {1, 2, 3, 4, 5, 6}\n",
    "set2 = {4, 5, 6, 7, 8, 9}"
   ]
  },
  {
   "cell_type": "code",
   "execution_count": 188,
   "id": "88953503-c60a-4bbe-a47a-e90869de98a1",
   "metadata": {},
   "outputs": [
    {
     "data": {
      "text/plain": [
       "{4, 5, 6}"
      ]
     },
     "execution_count": 188,
     "metadata": {},
     "output_type": "execute_result"
    }
   ],
   "source": [
    "# 교집합\n",
    "set1 & set2"
   ]
  },
  {
   "cell_type": "code",
   "execution_count": 190,
   "id": "7bd2527c-c04b-40d6-89db-d86caae3f89d",
   "metadata": {},
   "outputs": [
    {
     "data": {
      "text/plain": [
       "{4, 5, 6}"
      ]
     },
     "execution_count": 190,
     "metadata": {},
     "output_type": "execute_result"
    }
   ],
   "source": [
    "set1.intersection(set2)"
   ]
  },
  {
   "cell_type": "code",
   "execution_count": 192,
   "id": "2df3a490-0b41-4dcc-ad21-96fc8ecebe0b",
   "metadata": {},
   "outputs": [
    {
     "data": {
      "text/plain": [
       "{1, 2, 3, 4, 5, 6, 7, 8, 9}"
      ]
     },
     "execution_count": 192,
     "metadata": {},
     "output_type": "execute_result"
    }
   ],
   "source": [
    "# 합집합\n",
    "set1 | set2"
   ]
  },
  {
   "cell_type": "code",
   "execution_count": 194,
   "id": "e0c85901-36d3-4124-b114-51bca24a7f90",
   "metadata": {},
   "outputs": [
    {
     "data": {
      "text/plain": [
       "{1, 2, 3, 4, 5, 6, 7, 8, 9}"
      ]
     },
     "execution_count": 194,
     "metadata": {},
     "output_type": "execute_result"
    }
   ],
   "source": [
    "set1.union(set2)"
   ]
  },
  {
   "cell_type": "code",
   "execution_count": 196,
   "id": "748dd42b-5eae-4782-bced-8dbf3ecbdb7f",
   "metadata": {},
   "outputs": [
    {
     "data": {
      "text/plain": [
       "{1, 2, 3}"
      ]
     },
     "execution_count": 196,
     "metadata": {},
     "output_type": "execute_result"
    }
   ],
   "source": [
    "# 차집합\n",
    "set1 - set2"
   ]
  },
  {
   "cell_type": "code",
   "execution_count": 198,
   "id": "3235f63b-599c-481c-8dfe-d951602fd9fa",
   "metadata": {},
   "outputs": [
    {
     "data": {
      "text/plain": [
       "{7, 8, 9}"
      ]
     },
     "execution_count": 198,
     "metadata": {},
     "output_type": "execute_result"
    }
   ],
   "source": [
    "set2 - set1"
   ]
  },
  {
   "cell_type": "code",
   "execution_count": 200,
   "id": "4723eb1a-cbeb-4d16-86d4-f650883e12d5",
   "metadata": {},
   "outputs": [
    {
     "data": {
      "text/plain": [
       "{1, 2, 3}"
      ]
     },
     "execution_count": 200,
     "metadata": {},
     "output_type": "execute_result"
    }
   ],
   "source": [
    "set1.difference(set2)"
   ]
  },
  {
   "cell_type": "code",
   "execution_count": 202,
   "id": "a26bbf29-4e36-482c-b8e3-9e19b691f67d",
   "metadata": {},
   "outputs": [
    {
     "data": {
      "text/plain": [
       "{7, 8, 9}"
      ]
     },
     "execution_count": 202,
     "metadata": {},
     "output_type": "execute_result"
    }
   ],
   "source": [
    "set2.difference(set1)"
   ]
  },
  {
   "cell_type": "markdown",
   "id": "2a875795-d7f5-4462-8d53-1c79112417d5",
   "metadata": {},
   "source": [
    "## 세트 관련 함수"
   ]
  },
  {
   "cell_type": "code",
   "execution_count": 205,
   "id": "d940ab05-941d-4e61-a61a-557f1fb0ee32",
   "metadata": {},
   "outputs": [
    {
     "data": {
      "text/plain": [
       "{1, 2, 3, 4, 5, 6}"
      ]
     },
     "execution_count": 205,
     "metadata": {},
     "output_type": "execute_result"
    }
   ],
   "source": [
    "# 값 추가\n",
    "set1"
   ]
  },
  {
   "cell_type": "code",
   "execution_count": 207,
   "id": "38134a1f-13e3-4bcc-b051-7201e6bd53b9",
   "metadata": {},
   "outputs": [],
   "source": [
    "set1.add(7)"
   ]
  },
  {
   "cell_type": "code",
   "execution_count": 209,
   "id": "92507abd-bdd8-4e47-9f6d-fd00a9d9d15b",
   "metadata": {},
   "outputs": [
    {
     "data": {
      "text/plain": [
       "{1, 2, 3, 4, 5, 6, 7}"
      ]
     },
     "execution_count": 209,
     "metadata": {},
     "output_type": "execute_result"
    }
   ],
   "source": [
    "set1"
   ]
  },
  {
   "cell_type": "code",
   "execution_count": 211,
   "id": "7e09547f-f94c-42e0-8a54-2a3ba5e0dd8e",
   "metadata": {},
   "outputs": [],
   "source": [
    "# 제거\n",
    "set1.remove(2)"
   ]
  },
  {
   "cell_type": "code",
   "execution_count": 213,
   "id": "ea39cd18-0965-4695-a9a9-10829aeb5b24",
   "metadata": {},
   "outputs": [
    {
     "data": {
      "text/plain": [
       "{1, 3, 4, 5, 6, 7}"
      ]
     },
     "execution_count": 213,
     "metadata": {},
     "output_type": "execute_result"
    }
   ],
   "source": [
    "set1"
   ]
  },
  {
   "cell_type": "code",
   "execution_count": null,
   "id": "b0caeebb-53cb-4abb-b4cb-0252f326013e",
   "metadata": {},
   "outputs": [],
   "source": []
  }
 ],
 "metadata": {
  "kernelspec": {
   "display_name": "Python [conda env:base] *",
   "language": "python",
   "name": "conda-base-py"
  },
  "language_info": {
   "codemirror_mode": {
    "name": "ipython",
    "version": 3
   },
   "file_extension": ".py",
   "mimetype": "text/x-python",
   "name": "python",
   "nbconvert_exporter": "python",
   "pygments_lexer": "ipython3",
   "version": "3.12.7"
  }
 },
 "nbformat": 4,
 "nbformat_minor": 5
}
