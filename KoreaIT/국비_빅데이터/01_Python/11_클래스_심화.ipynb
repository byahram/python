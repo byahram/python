{
 "cells": [
  {
   "cell_type": "markdown",
   "id": "658ca37f-0d2b-4b90-a6a8-32709a17084a",
   "metadata": {},
   "source": [
    "# **소멸자(destructor)**\n",
    "\n",
    "- 인스턴스가 소멸될 때 자동으로 호출되는 메서드"
   ]
  },
  {
   "cell_type": "code",
   "execution_count": 1,
   "id": "8622ab63-d731-4aac-b77e-88c9113f0a6c",
   "metadata": {},
   "outputs": [],
   "source": [
    "class Sample:\n",
    "    def __del__(self):\n",
    "        print(\"인스턴스가 소멸됩니다\")"
   ]
  },
  {
   "cell_type": "code",
   "execution_count": 3,
   "id": "7c7ef599-6899-417a-8fb6-d80773e127eb",
   "metadata": {},
   "outputs": [],
   "source": [
    "sample_instance = Sample()"
   ]
  },
  {
   "cell_type": "code",
   "execution_count": 4,
   "id": "f1c9bdc7-ef62-4eae-bffd-683f23b295e4",
   "metadata": {},
   "outputs": [
    {
     "name": "stdout",
     "output_type": "stream",
     "text": [
      "인스턴스가 소멸됩니다\n"
     ]
    }
   ],
   "source": [
    "del sample_instance"
   ]
  },
  {
   "cell_type": "markdown",
   "id": "133aeb57-80d9-44c4-bd65-290561c088a5",
   "metadata": {},
   "source": [
    "# **isinstance()**\n",
    "\n",
    "- 객체가 어떤 클래스로부터 만들어졌는지 확인할 수 있는 함수\n",
    "- 첫 번째 매개변수에 객체, 두 번째 매개변수에 클래스를 입력\n",
    "    - isinstance(객체, 클래스)\n",
    "- 객체가 해당 클래스를 기반으로 만들어졌으면 True, 관계 없으면 False를 반환"
   ]
  },
  {
   "cell_type": "code",
   "execution_count": 8,
   "id": "d9f2744f-17da-4e31-b584-d2537ecd11b6",
   "metadata": {},
   "outputs": [],
   "source": [
    "class Student:\n",
    "    def __init__(self):\n",
    "        pass"
   ]
  },
  {
   "cell_type": "code",
   "execution_count": 10,
   "id": "c16df8ed-6770-4507-88cb-f73eeeea9041",
   "metadata": {},
   "outputs": [],
   "source": [
    "student = Student()"
   ]
  },
  {
   "cell_type": "code",
   "execution_count": 12,
   "id": "7421679a-8c23-403d-ad9f-d883f0a80f70",
   "metadata": {},
   "outputs": [
    {
     "data": {
      "text/plain": [
       "True"
      ]
     },
     "execution_count": 12,
     "metadata": {},
     "output_type": "execute_result"
    }
   ],
   "source": [
    "isinstance(student, Student)"
   ]
  },
  {
   "cell_type": "markdown",
   "id": "a68f8636-5d54-4c7e-a18e-d797b4a49660",
   "metadata": {},
   "source": [
    "- student는 Student클래스를 기반으로 만들었으므로 True\n",
    "- 리스트 내부에 여러 종류의 객체가 들어있을 때 인스턴스들을 구분하며 속성과 기능을 사용할 때 사용"
   ]
  },
  {
   "cell_type": "code",
   "execution_count": 15,
   "id": "82d82637-d6f1-4f4e-a266-f0e5f057c8c2",
   "metadata": {},
   "outputs": [],
   "source": [
    "class Student:\n",
    "    def study(self):\n",
    "        print(\"공부를 합니다\")\n",
    "\n",
    "class Teacher:\n",
    "    def teach(self):\n",
    "        print(\"학생을 가르칩니다\")"
   ]
  },
  {
   "cell_type": "code",
   "execution_count": 17,
   "id": "359e0772-e202-45f8-9171-61ea6b5a6cea",
   "metadata": {},
   "outputs": [],
   "source": [
    "classroom = [Student(), Student(), Teacher(), Student(), Student()]"
   ]
  },
  {
   "cell_type": "code",
   "execution_count": 19,
   "id": "6915a032-1b30-4bee-8f20-168ee931576f",
   "metadata": {},
   "outputs": [
    {
     "name": "stdout",
     "output_type": "stream",
     "text": [
      "공부를 합니다\n",
      "공부를 합니다\n",
      "학생을 가르칩니다\n",
      "공부를 합니다\n",
      "공부를 합니다\n"
     ]
    }
   ],
   "source": [
    "# 반복을 적용해서 적절한 함수를 호출\n",
    "for person in classroom:\n",
    "    if isinstance(person, Student):\n",
    "        person.study()\n",
    "\n",
    "    elif isinstance(person, Teacher):\n",
    "        person.teach()"
   ]
  },
  {
   "cell_type": "markdown",
   "id": "8e5a6311-1a02-461e-b1c4-4830a8ee4aa7",
   "metadata": {},
   "source": [
    "# **특수한 이름의 메서드**\n",
    "\n",
    "- \\_\\_<이름>__() 형태의 메서드들은 특수한 상황에 자동으로 호출되도록 만들어짐\n",
    "- 파이썬이 클래스를 사용할 때 제공해주는 보조 기능"
   ]
  },
  {
   "cell_type": "markdown",
   "id": "44a486ca-76af-49f0-b0a6-936aaa8ea785",
   "metadata": {},
   "source": [
    "## \\_\\_str__()\n",
    "\n",
    "- str() 함수의 매개변수로 객체를 넣으면 호출되는 메소드\n",
    "\n",
    "- 객체를 문자열로 변환"
   ]
  },
  {
   "cell_type": "code",
   "execution_count": 23,
   "id": "56496fd5-3473-4b1b-890a-3322a6cbc903",
   "metadata": {},
   "outputs": [],
   "source": [
    "class Student:\n",
    "    def __init__(self, name, korean, math, english, science):\n",
    "        self.name = name\n",
    "        self.korean = korean\n",
    "        self.math = math\n",
    "        self.english = english\n",
    "        self.science = science\n",
    "\n",
    "    def get_sum(self):\n",
    "        return self.korean + self.math + self.english + self.science\n",
    "\n",
    "    def get_average(self):\n",
    "        return self.get_sum() / 4\n",
    "\n",
    "    def __str__(self):\n",
    "        return f\"{self.name}\\t{self.get_sum()}\\t{self.get_average()}\""
   ]
  },
  {
   "cell_type": "code",
   "execution_count": 25,
   "id": "a2f263fd-2fc1-48f4-bc7d-881968763929",
   "metadata": {},
   "outputs": [],
   "source": [
    "students = [Student(\"윤인성\", 87, 98, 88, 95),\n",
    "            Student(\"연하진\", 92, 98, 96, 98),\n",
    "            Student(\"구지연\", 76, 96, 94, 90)]"
   ]
  },
  {
   "cell_type": "code",
   "execution_count": 27,
   "id": "d9331b84-8aa5-4685-ada7-3a2c733d487b",
   "metadata": {},
   "outputs": [
    {
     "name": "stdout",
     "output_type": "stream",
     "text": [
      "이름\t총점\t평균\n",
      "윤인성\t368\t92.0\n",
      "연하진\t384\t96.0\n",
      "구지연\t356\t89.0\n"
     ]
    }
   ],
   "source": [
    "print(\"이름\", \"총점\", \"평균\", sep = \"\\t\")\n",
    "\n",
    "for i in students:\n",
    "    print(str(i))"
   ]
  },
  {
   "cell_type": "markdown",
   "id": "4b7b57a9-33d2-46be-a00c-bafc3e2b15e5",
   "metadata": {},
   "source": [
    "## 크기 비교 메서드\n",
    "\n",
    "| 이름 | 영어 | 설명 |\n",
    "| :--: | :-- | :-- |\n",
    "| eq | equal | 같다 |\n",
    "| ne | not equal | 다르다 |\n",
    "| gt | greater than | 크다 |\n",
    "| ge | greater than or equal | 크거나 같다 |\n",
    "| lt | less than | 작다 |\n",
    "| le | less than or equal | 작거나 같다 |"
   ]
  },
  {
   "cell_type": "code",
   "execution_count": 30,
   "id": "93e6f822-2d4a-4291-8544-3383d6f2f94d",
   "metadata": {},
   "outputs": [],
   "source": [
    "class Student:\n",
    "    def __init__(self, name, korean, math, english, science):\n",
    "        self.name = name\n",
    "        self.korean = korean\n",
    "        self.math = math\n",
    "        self.english = english\n",
    "        self.science = science\n",
    "\n",
    "    def get_sum(self):\n",
    "        return self.korean + self.math + self.english + self.science\n",
    "\n",
    "    def get_average(self):\n",
    "        return self.get_sum() / 4\n",
    "\n",
    "    def __str__(self):\n",
    "        return f\"{self.name}\\t{self.get_sum()}\\t{self.get_average()}\"\n",
    "\n",
    "    def __eq__(self, value):\n",
    "        return self.get_sum() == value.get_sum()\n",
    "\n",
    "    def __ne__(self, value):\n",
    "        return self.get_sum() != value.get_sum()\n",
    "\n",
    "    def __gt__(self, value):\n",
    "        return self.get_sum() > value.get_sum()\n",
    "\n",
    "    def __ge__(self, value):\n",
    "        return self.get_sum() >= value.get_sum()\n",
    "\n",
    "    def __lt__(self, value):\n",
    "        return self.get_sum() < value.get_sum()\n",
    "\n",
    "    def __le__(self, value):\n",
    "        return self.get_sum() <= value.get_sum()"
   ]
  },
  {
   "cell_type": "code",
   "execution_count": 32,
   "id": "0dd60da7-9e36-4f79-9145-e35dc0ea5c73",
   "metadata": {},
   "outputs": [],
   "source": [
    "student_a = Student(\"나선주\", 98, 92, 96, 92)\n",
    "student_b = Student(\"윤아린\", 95, 98, 98, 98)"
   ]
  },
  {
   "cell_type": "code",
   "execution_count": 34,
   "id": "b34b8552-24c9-4ec5-8117-acf80ae88c79",
   "metadata": {},
   "outputs": [
    {
     "data": {
      "text/plain": [
       "False"
      ]
     },
     "execution_count": 34,
     "metadata": {},
     "output_type": "execute_result"
    }
   ],
   "source": [
    "student_a == student_b"
   ]
  },
  {
   "cell_type": "code",
   "execution_count": 36,
   "id": "3d2ac481-39bb-491e-869c-d40f78ab2f5d",
   "metadata": {},
   "outputs": [
    {
     "data": {
      "text/plain": [
       "True"
      ]
     },
     "execution_count": 36,
     "metadata": {},
     "output_type": "execute_result"
    }
   ],
   "source": [
    "student_a != student_b"
   ]
  },
  {
   "cell_type": "code",
   "execution_count": 38,
   "id": "b12b5006-74fa-4604-bdd9-bdee6bc05fdf",
   "metadata": {},
   "outputs": [
    {
     "data": {
      "text/plain": [
       "False"
      ]
     },
     "execution_count": 38,
     "metadata": {},
     "output_type": "execute_result"
    }
   ],
   "source": [
    "# student_a.__gt__(student_b)\n",
    "student_a > student_b"
   ]
  },
  {
   "cell_type": "code",
   "execution_count": 40,
   "id": "3f82faf2-3f44-4dd1-aa00-dedca245f8ca",
   "metadata": {},
   "outputs": [
    {
     "data": {
      "text/plain": [
       "True"
      ]
     },
     "execution_count": 40,
     "metadata": {},
     "output_type": "execute_result"
    }
   ],
   "source": [
    "student_a < student_b"
   ]
  },
  {
   "cell_type": "markdown",
   "id": "c0dc1bb9-1e8b-4b66-a75d-87c968990fd8",
   "metadata": {},
   "source": [
    "- 비교할 때 사용하는 자료형을 한정하고 싶다면 예외발생을 활용할 수도 있음"
   ]
  },
  {
   "cell_type": "code",
   "execution_count": 43,
   "id": "3ea80da8-9522-4a50-ae0e-b7f2dd1cc579",
   "metadata": {},
   "outputs": [],
   "source": [
    "class Student:\n",
    "    def __init__(self, name, korean, math, english, science):\n",
    "        self.name = name\n",
    "        self.korean = korean\n",
    "        self.math = math\n",
    "        self.english = english\n",
    "        self.science = science\n",
    "\n",
    "    def get_sum(self):\n",
    "        return self.korean + self.math + self.english + self.science\n",
    "\n",
    "    def get_average(self):\n",
    "        return self.get_sum() / 4\n",
    "\n",
    "    def __str__(self):\n",
    "        return f\"{self.name}\\t{self.get_sum()}\\t{self.get_average()}\"\n",
    "\n",
    "    def __eq__(self, value):\n",
    "        if not isinstance(value, Student):\n",
    "            raise TypeError(\"Student 클래스의 인스턴스만 비교할 수 있습니다\")\n",
    "        return self.get_sum() == value.get_sum()\n",
    "\n",
    "    def __ne__(self, value):\n",
    "        return self.get_sum() != value.get_sum()\n",
    "\n",
    "    def __gt__(self, value):\n",
    "        return self.get_sum() > value.get_sum()\n",
    "\n",
    "    def __ge__(self, value):\n",
    "        return self.get_sum() >= value.get_sum()\n",
    "\n",
    "    def __lt__(self, value):\n",
    "        return self.get_sum() < value.get_sum()\n",
    "\n",
    "    def __le__(self, value):\n",
    "        return self.get_sum() <= value.get_sum()"
   ]
  },
  {
   "cell_type": "code",
   "execution_count": 45,
   "id": "cfe1f4c9-e39a-413b-9891-a469aab2a2ae",
   "metadata": {},
   "outputs": [],
   "source": [
    "student_a = Student(\"나선주\", 98, 92, 96, 92)"
   ]
  },
  {
   "cell_type": "code",
   "execution_count": 47,
   "id": "686337f0-b919-4293-aa51-ca2a645dfe50",
   "metadata": {},
   "outputs": [
    {
     "ename": "TypeError",
     "evalue": "Student 클래스의 인스턴스만 비교할 수 있습니다",
     "output_type": "error",
     "traceback": [
      "\u001b[1;31m---------------------------------------------------------------------------\u001b[0m",
      "\u001b[1;31mTypeError\u001b[0m                                 Traceback (most recent call last)",
      "Cell \u001b[1;32mIn[47], line 1\u001b[0m\n\u001b[1;32m----> 1\u001b[0m student_a \u001b[38;5;241m==\u001b[39m \u001b[38;5;241m10\u001b[39m\n",
      "Cell \u001b[1;32mIn[43], line 20\u001b[0m, in \u001b[0;36mStudent.__eq__\u001b[1;34m(self, value)\u001b[0m\n\u001b[0;32m     18\u001b[0m \u001b[38;5;28;01mdef\u001b[39;00m \u001b[38;5;21m__eq__\u001b[39m(\u001b[38;5;28mself\u001b[39m, value):\n\u001b[0;32m     19\u001b[0m     \u001b[38;5;28;01mif\u001b[39;00m \u001b[38;5;129;01mnot\u001b[39;00m \u001b[38;5;28misinstance\u001b[39m(value, Student):\n\u001b[1;32m---> 20\u001b[0m         \u001b[38;5;28;01mraise\u001b[39;00m \u001b[38;5;167;01mTypeError\u001b[39;00m(\u001b[38;5;124m\"\u001b[39m\u001b[38;5;124mStudent 클래스의 인스턴스만 비교할 수 있습니다\u001b[39m\u001b[38;5;124m\"\u001b[39m)\n\u001b[0;32m     21\u001b[0m     \u001b[38;5;28;01mreturn\u001b[39;00m \u001b[38;5;28mself\u001b[39m\u001b[38;5;241m.\u001b[39mget_sum() \u001b[38;5;241m==\u001b[39m value\u001b[38;5;241m.\u001b[39mget_sum()\n",
      "\u001b[1;31mTypeError\u001b[0m: Student 클래스의 인스턴스만 비교할 수 있습니다"
     ]
    }
   ],
   "source": [
    "student_a == 10"
   ]
  },
  {
   "cell_type": "markdown",
   "id": "102f7e8c-8bb5-4dae-b346-6cef80c54e94",
   "metadata": {},
   "source": [
    "# **클래스 변수와 클래스 메서드**\n",
    "\n",
    "- 객체가 변수와 메서드를 가지는 것 처럼 클래스도 변수와 메서드를 가질 수 있음"
   ]
  },
  {
   "cell_type": "code",
   "execution_count": 50,
   "id": "3918c74e-1ae0-4ac6-b827-40e449344846",
   "metadata": {},
   "outputs": [],
   "source": [
    "class Korean:\n",
    "    country = \"한국\" # 클래스 변수 country\n",
    "\n",
    "    def __init__(self, name, age, address):\n",
    "        self.name = name # 인스턴스 변수 self.name\n",
    "        self.age = age\n",
    "        self.address = address"
   ]
  },
  {
   "cell_type": "code",
   "execution_count": 52,
   "id": "0e9fff29-3665-4d0f-8ec9-d95f97aca890",
   "metadata": {},
   "outputs": [],
   "source": [
    "man = Korean(\"홍길동\", 35, \"서울\")"
   ]
  },
  {
   "cell_type": "code",
   "execution_count": 54,
   "id": "daa83897-030b-4ced-b79f-4ebda579cd28",
   "metadata": {},
   "outputs": [
    {
     "data": {
      "text/plain": [
       "'홍길동'"
      ]
     },
     "execution_count": 54,
     "metadata": {},
     "output_type": "execute_result"
    }
   ],
   "source": [
    "man.name"
   ]
  },
  {
   "cell_type": "code",
   "execution_count": 56,
   "id": "124d2976-1b52-4837-aa9d-24fb52ae5a2f",
   "metadata": {},
   "outputs": [
    {
     "ename": "AttributeError",
     "evalue": "type object 'Korean' has no attribute 'name'",
     "output_type": "error",
     "traceback": [
      "\u001b[1;31m---------------------------------------------------------------------------\u001b[0m",
      "\u001b[1;31mAttributeError\u001b[0m                            Traceback (most recent call last)",
      "Cell \u001b[1;32mIn[56], line 1\u001b[0m\n\u001b[1;32m----> 1\u001b[0m Korean\u001b[38;5;241m.\u001b[39mname\n",
      "\u001b[1;31mAttributeError\u001b[0m: type object 'Korean' has no attribute 'name'"
     ]
    }
   ],
   "source": [
    "Korean.name"
   ]
  },
  {
   "cell_type": "code",
   "execution_count": 58,
   "id": "951b65a2-2201-4837-9610-a3a784706084",
   "metadata": {},
   "outputs": [
    {
     "data": {
      "text/plain": [
       "'한국'"
      ]
     },
     "execution_count": 58,
     "metadata": {},
     "output_type": "execute_result"
    }
   ],
   "source": [
    "man.country"
   ]
  },
  {
   "cell_type": "code",
   "execution_count": 60,
   "id": "42125d84-d457-4d80-838c-256f4aef0dde",
   "metadata": {},
   "outputs": [
    {
     "data": {
      "text/plain": [
       "'한국'"
      ]
     },
     "execution_count": 60,
     "metadata": {},
     "output_type": "execute_result"
    }
   ],
   "source": [
    "Korean.country"
   ]
  },
  {
   "cell_type": "code",
   "execution_count": 62,
   "id": "f7f73ea0-5491-4af9-8905-098117a0310a",
   "metadata": {},
   "outputs": [],
   "source": [
    "class Person:\n",
    "\n",
    "    bag = []\n",
    "\n",
    "    def put_bag(self, stuff):\n",
    "        Person.bag.append(stuff)\n",
    "\n",
    "        # self.bag을 사용하면 인스턴스 변수와 혼동하기 쉽기 때문에 클래스 이름을 사용하는 것을 권장\n",
    "        # self.bag.append(stuff)"
   ]
  },
  {
   "cell_type": "code",
   "execution_count": 64,
   "id": "d9225ab2-07d9-4bdd-9238-48a52cf0f7c2",
   "metadata": {},
   "outputs": [],
   "source": [
    "james = Person()\n",
    "james.put_bag(\"책\")\n",
    "\n",
    "maria = Person()\n",
    "maria.put_bag(\"열쇠\")"
   ]
  },
  {
   "cell_type": "code",
   "execution_count": 66,
   "id": "2fe34616-96c7-45cc-af6f-e66420077bc8",
   "metadata": {},
   "outputs": [
    {
     "name": "stdout",
     "output_type": "stream",
     "text": [
      "['책', '열쇠']\n",
      "['책', '열쇠']\n",
      "['책', '열쇠']\n"
     ]
    }
   ],
   "source": [
    "print(james.bag)\n",
    "print(maria.bag)\n",
    "print(Person.bag)"
   ]
  },
  {
   "cell_type": "code",
   "execution_count": 68,
   "id": "f07aafcb-edf9-421e-ac01-98d54fd9f6bf",
   "metadata": {},
   "outputs": [],
   "source": [
    "class Person:\n",
    "\n",
    "    bag = []\n",
    "\n",
    "    def __init__(self):\n",
    "        self.bag = []\n",
    "\n",
    "    def put_bag(self, stuff):\n",
    "        Person.bag.append(stuff)\n",
    "\n",
    "    def put_mybag(self, stuff):\n",
    "        self.bag.append(stuff)"
   ]
  },
  {
   "cell_type": "code",
   "execution_count": 70,
   "id": "374d4672-4a13-4da6-84dc-69595f9d62e5",
   "metadata": {},
   "outputs": [],
   "source": [
    "james = Person()\n",
    "james.put_mybag(\"책\")\n",
    "james.put_bag(\"사전\")"
   ]
  },
  {
   "cell_type": "code",
   "execution_count": 72,
   "id": "031c1a86-4086-41ab-b993-d9d7c5048af1",
   "metadata": {},
   "outputs": [],
   "source": [
    "maria = Person()\n",
    "maria.put_mybag(\"열쇠\")\n",
    "maria.put_bag(\"자물쇠\")"
   ]
  },
  {
   "cell_type": "code",
   "execution_count": 74,
   "id": "2b4b084f-a2a3-493d-a641-732b4291b85d",
   "metadata": {},
   "outputs": [
    {
     "name": "stdout",
     "output_type": "stream",
     "text": [
      "['책']\n",
      "['열쇠']\n",
      "['사전', '자물쇠']\n"
     ]
    }
   ],
   "source": [
    "# 같은 이름의 인스턴스 변수와 클래스 변수가 존재할 때는 인스턴스 변수 우선\n",
    "print(james.bag)\n",
    "print(maria.bag)\n",
    "print(Person.bag)"
   ]
  },
  {
   "cell_type": "markdown",
   "id": "d802b4f6-2531-4125-b287-5a46b209316d",
   "metadata": {},
   "source": [
    "## 클래스 메서드\n",
    "\n",
    "- 인스턴스 또는 클래스로 호출\n",
    "- 생성된 인스턴스가 없어도 호출 가능\n",
    "- @classmethod 데코레이터를 표시하고 작성\n",
    "- 매개변수 cls를 사용\n",
    "- 클래스.메소드() 의 형태로 사용\n",
    "- 인스턴스 변수에 접근할 수 없지만 클래스 변수에는 접근 가능\n",
    "    - 메서드의 실행이 외부상태에 영향을 미치지않는 순수함수를 만들 때\n",
    "    - 인스턴스의 상태를 변화시키지 않는 메서드를 만들 때"
   ]
  },
  {
   "cell_type": "code",
   "execution_count": 77,
   "id": "b450894f-1f36-42df-8a9e-73437a084a1f",
   "metadata": {},
   "outputs": [],
   "source": [
    "class Korean:\n",
    "\n",
    "    country = \"한국\"\n",
    "\n",
    "    @classmethod\n",
    "    def trip(cls, country):\n",
    "        if cls.country == country:\n",
    "            print(\"국내여행\")\n",
    "\n",
    "        else:\n",
    "            print(\"해외여행\")"
   ]
  },
  {
   "cell_type": "code",
   "execution_count": 79,
   "id": "21fb1059-7422-4da2-b92b-8c6157fe0556",
   "metadata": {},
   "outputs": [
    {
     "name": "stdout",
     "output_type": "stream",
     "text": [
      "국내여행\n"
     ]
    }
   ],
   "source": [
    "Korean.trip(\"한국\")"
   ]
  },
  {
   "cell_type": "code",
   "execution_count": 81,
   "id": "1494ab39-1ff4-4553-82ba-1ed0fce5277f",
   "metadata": {},
   "outputs": [
    {
     "name": "stdout",
     "output_type": "stream",
     "text": [
      "해외여행\n"
     ]
    }
   ],
   "source": [
    "Korean.trip(\"미국\")"
   ]
  },
  {
   "cell_type": "markdown",
   "id": "78eadb3c-bc62-4dfb-981f-b944b94673bc",
   "metadata": {},
   "source": [
    "# **가비지 컬렉터(garbage collector)**\n",
    "\n",
    "- 프로그램 내부에서 무언가 생성한다는 것은 메모리에 올린다는 의미\n",
    "    - 메모리가 부족해지면 컴퓨터는 하드디스크를 메모리처럼 사용\n",
    "        - 이런 동작을 스왑(swap)이라고 함\n",
    "        - 하드디스크는 메모리보다 훨씬 느리기 때문에 스왑을 처리하는 속도도 느림\n",
    "    - 프로그램에서 변수를 만들면 메모리에 데이터가 올라가고, 계속 만들게되면 메모리가 가득 참\n",
    "        - 파이썬에서는 가비지 컬렉터가 더 사용할 가능성이 없는 데이터를 메모리에서 제거해서 메모리를 정리"
   ]
  },
  {
   "cell_type": "code",
   "execution_count": 84,
   "id": "c772b382-4ca9-4912-a85d-2de7ba8b0ef0",
   "metadata": {},
   "outputs": [],
   "source": [
    "# 변수에 저장하지 않은 경우\n",
    "class Test:\n",
    "    def __init__(self, name):\n",
    "        self.name = name\n",
    "        print(f\"{self.name} - 생성되었습니다\")\n",
    "\n",
    "    def __del__(self):\n",
    "        print(f\"{self.name} - 파괴되었습니다\")"
   ]
  },
  {
   "cell_type": "code",
   "execution_count": 86,
   "id": "23a1a67e-9442-4172-8167-d37bb4279c2d",
   "metadata": {},
   "outputs": [
    {
     "name": "stdout",
     "output_type": "stream",
     "text": [
      "A - 생성되었습니다\n",
      "A - 파괴되었습니다\n",
      "B - 생성되었습니다\n",
      "B - 파괴되었습니다\n",
      "C - 생성되었습니다\n"
     ]
    },
    {
     "data": {
      "text/plain": [
       "<__main__.Test at 0x1b2b5f3be30>"
      ]
     },
     "execution_count": 86,
     "metadata": {},
     "output_type": "execute_result"
    }
   ],
   "source": [
    "Test(\"A\")\n",
    "Test(\"B\")\n",
    "Test(\"C\")"
   ]
  },
  {
   "cell_type": "code",
   "execution_count": 88,
   "id": "a0a1c9f7-d784-473d-84de-a32d571b468b",
   "metadata": {},
   "outputs": [
    {
     "name": "stdout",
     "output_type": "stream",
     "text": [
      "A - 생성되었습니다\n",
      "B - 생성되었습니다\n",
      "C - 생성되었습니다\n"
     ]
    }
   ],
   "source": [
    "# 변수에 저장한 경우\n",
    "a = Test(\"A\")\n",
    "b = Test(\"B\")\n",
    "c = Test(\"C\")"
   ]
  },
  {
   "cell_type": "markdown",
   "id": "ffc929c2-d254-471a-81fe-7ca735022bbb",
   "metadata": {},
   "source": [
    "- 변수에 저장했으면 나중에 활용한다는 의미이므로 프로그램이 종료되는 순간까지 메모리에서 제거하지 않음"
   ]
  },
  {
   "cell_type": "markdown",
   "id": "92d83964-9e8f-4e0f-9243-612a1cc638b6",
   "metadata": {},
   "source": [
    "# **프라이빗 변수**\n",
    "\n",
    "- 클래스 내부의 변수를 외부에서 사용하는 것을 막고 싶을 때 사용\n",
    "- 표현법\n",
    "    - __변수이름"
   ]
  },
  {
   "cell_type": "code",
   "execution_count": 92,
   "id": "865d6dbe-bcfc-4208-9b9c-7ae7da0ea4d9",
   "metadata": {},
   "outputs": [],
   "source": [
    "class Person:\n",
    "    def __init__(self, name, age, address):\n",
    "        self.hello = \"안녕하세요\"\n",
    "        self.name = name\n",
    "        self.age = age\n",
    "        self.address = address"
   ]
  },
  {
   "cell_type": "code",
   "execution_count": 94,
   "id": "6e3ef73e-863c-4a66-868d-6382c3bc9e13",
   "metadata": {},
   "outputs": [
    {
     "name": "stdout",
     "output_type": "stream",
     "text": [
      "마리아\n"
     ]
    }
   ],
   "source": [
    "maria = Person(\"마리아\", 20, \"서울시 마포구\")\n",
    "print(maria.name)"
   ]
  },
  {
   "cell_type": "code",
   "execution_count": 96,
   "id": "e4472ba4-5e7a-4745-99c0-c13f94cde1f6",
   "metadata": {},
   "outputs": [],
   "source": [
    "class Person:\n",
    "    def __init__(self, name, age, address, wallet):\n",
    "        self.hello = \"안녕하세요\"\n",
    "        self.name = name\n",
    "        self.age = age\n",
    "        self.address = address\n",
    "        self.__wallet = wallet"
   ]
  },
  {
   "cell_type": "code",
   "execution_count": 98,
   "id": "f8d6bffe-342f-4845-9fff-c9d3ed826eb0",
   "metadata": {},
   "outputs": [],
   "source": [
    "maria = Person(\"마리아\", 20, \"서울시 마포구\", 10000)"
   ]
  },
  {
   "cell_type": "code",
   "execution_count": 100,
   "id": "edb2c70c-fddf-4d7d-8b17-7168f8892288",
   "metadata": {},
   "outputs": [
    {
     "ename": "AttributeError",
     "evalue": "'Person' object has no attribute '__wallet'",
     "output_type": "error",
     "traceback": [
      "\u001b[1;31m---------------------------------------------------------------------------\u001b[0m",
      "\u001b[1;31mAttributeError\u001b[0m                            Traceback (most recent call last)",
      "Cell \u001b[1;32mIn[100], line 1\u001b[0m\n\u001b[1;32m----> 1\u001b[0m \u001b[38;5;28mprint\u001b[39m(maria\u001b[38;5;241m.\u001b[39m__wallet)\n",
      "\u001b[1;31mAttributeError\u001b[0m: 'Person' object has no attribute '__wallet'"
     ]
    }
   ],
   "source": [
    "print(maria.__wallet) # 클래스 바깥에서 비공개 속성에 접근하면 에러가 발생"
   ]
  },
  {
   "cell_type": "code",
   "execution_count": 102,
   "id": "66429dd8-7d6c-4a0f-b1c9-65e3f01e483f",
   "metadata": {},
   "outputs": [],
   "source": [
    "class Person:\n",
    "    def __init__(self, name, age, address, wallet):\n",
    "        self.hello = \"안녕하세요\"\n",
    "        self.name = name\n",
    "        self.age = age\n",
    "        self.address = address\n",
    "        self.__wallet = wallet\n",
    "\n",
    "    def pay(self, amount):\n",
    "        self.__wallet -= amount # 비공개 속성은 클래스 안의 메서드에서만 접근할 수 있음\n",
    "        print(f\"{self.__wallet}원 남음\")"
   ]
  },
  {
   "cell_type": "code",
   "execution_count": 104,
   "id": "23d58a95-f9e3-4623-8675-63a68ab9b1c4",
   "metadata": {},
   "outputs": [],
   "source": [
    "maria = Person(\"마리아\", 20, \"서울시 마포구\", 10000)"
   ]
  },
  {
   "cell_type": "code",
   "execution_count": 106,
   "id": "4db1398f-56de-4d86-b771-5026f6ac8b67",
   "metadata": {},
   "outputs": [
    {
     "name": "stdout",
     "output_type": "stream",
     "text": [
      "7000원 남음\n"
     ]
    }
   ],
   "source": [
    "maria.pay(3000)"
   ]
  },
  {
   "cell_type": "code",
   "execution_count": 108,
   "id": "456b9990-ca49-4f54-b823-3034a84a939b",
   "metadata": {},
   "outputs": [
    {
     "ename": "AttributeError",
     "evalue": "'Person' object has no attribute '__wallet'",
     "output_type": "error",
     "traceback": [
      "\u001b[1;31m---------------------------------------------------------------------------\u001b[0m",
      "\u001b[1;31mAttributeError\u001b[0m                            Traceback (most recent call last)",
      "Cell \u001b[1;32mIn[108], line 1\u001b[0m\n\u001b[1;32m----> 1\u001b[0m maria\u001b[38;5;241m.\u001b[39m__wallet \u001b[38;5;241m-\u001b[39m\u001b[38;5;241m=\u001b[39m \u001b[38;5;241m3000\u001b[39m\n",
      "\u001b[1;31mAttributeError\u001b[0m: 'Person' object has no attribute '__wallet'"
     ]
    }
   ],
   "source": [
    "maria.__wallet -= 3000"
   ]
  },
  {
   "cell_type": "code",
   "execution_count": 110,
   "id": "ed852010-d694-4f7a-8a1c-85fbcb955c0b",
   "metadata": {},
   "outputs": [
    {
     "name": "stdout",
     "output_type": "stream",
     "text": [
      "안녕하세요\n"
     ]
    }
   ],
   "source": [
    "print(maria.hello)"
   ]
  },
  {
   "cell_type": "code",
   "execution_count": 112,
   "id": "58b1f671-2e47-4199-b1c3-ca5b3ec7093d",
   "metadata": {},
   "outputs": [],
   "source": [
    "maria.hello = \"안녕하세요!!\""
   ]
  },
  {
   "cell_type": "code",
   "execution_count": 114,
   "id": "dff60042-512e-491e-a506-1c161480f14d",
   "metadata": {},
   "outputs": [
    {
     "name": "stdout",
     "output_type": "stream",
     "text": [
      "안녕하세요!!\n"
     ]
    }
   ],
   "source": [
    "print(maria.hello)"
   ]
  },
  {
   "cell_type": "markdown",
   "id": "40a9bcd0-fe11-47ef-887e-dd3e914ec993",
   "metadata": {},
   "source": [
    "# **게터(getter), 세터(setter)**\n",
    "\n",
    "- 위와 같은 예제에서 프라이빗 변수를 변경하고 싶다면 직접 접근할 수 없기 때문에 간접적인 방법을 사용해야함\n",
    "- 게터와 세터는 프라이빗 변수의 값을 추출하거나 변경할 목적으로 간접적으로 속성에 접근하도록 해주는 함수"
   ]
  },
  {
   "cell_type": "code",
   "execution_count": 117,
   "id": "382710d8-7830-4ccc-866f-58ea3e5b0085",
   "metadata": {},
   "outputs": [],
   "source": [
    "import math\n",
    "\n",
    "class Circle:\n",
    "    def __init__(self, radius):\n",
    "        self.__radius = radius\n",
    "\n",
    "    def get_circumference(self):\n",
    "        return 2 * math.pi * self.__radius\n",
    "\n",
    "    def get_area(self):\n",
    "        return math.pi * (self.__radius ** 2)\n",
    "\n",
    "    # 게터와 세터를 선언\n",
    "    def get_radius(self):\n",
    "        return self.__radius\n",
    "\n",
    "    def set_radius(self, value):\n",
    "        self.__radius = value"
   ]
  },
  {
   "cell_type": "code",
   "execution_count": 119,
   "id": "0337bf30-c4cf-4f29-876b-28f59b49f269",
   "metadata": {},
   "outputs": [
    {
     "name": "stdout",
     "output_type": "stream",
     "text": [
      "C - 파괴되었습니다\n",
      "62.83185307179586\n",
      "314.1592653589793\n",
      "10\n"
     ]
    }
   ],
   "source": [
    "c = Circle(10)\n",
    "print(c.get_circumference())\n",
    "print(c.get_area())\n",
    "print(c.get_radius())"
   ]
  },
  {
   "cell_type": "code",
   "execution_count": 121,
   "id": "c596a73e-e0da-481c-b699-7a7a800f3391",
   "metadata": {},
   "outputs": [
    {
     "name": "stdout",
     "output_type": "stream",
     "text": [
      "12.566370614359172\n",
      "12.566370614359172\n",
      "2\n"
     ]
    }
   ],
   "source": [
    "c.set_radius(2)\n",
    "print(c.get_circumference())\n",
    "print(c.get_area())\n",
    "print(c.get_radius())"
   ]
  },
  {
   "cell_type": "markdown",
   "id": "40a2e415-4b58-492d-9cd6-fd32e19bf3bd",
   "metadata": {},
   "source": [
    "- 함수를 사용해 값을 변경하게 하면 여러가지 추가 처리를 할 수 있음\n",
    "    - 예) 반지름의 값을 양의 숫자로만 한정"
   ]
  },
  {
   "cell_type": "code",
   "execution_count": 124,
   "id": "7f4b976d-7293-4ed7-bfda-c790a2d10bb4",
   "metadata": {},
   "outputs": [],
   "source": [
    "import math\n",
    "\n",
    "class Circle:\n",
    "    def __init__(self, radius):\n",
    "        self.__radius = radius\n",
    "\n",
    "    def get_circumference(self):\n",
    "        return 2 * math.pi * self.__radius\n",
    "\n",
    "    def get_area(self):\n",
    "        return math.pi * (self.__radius ** 2)\n",
    "\n",
    "    # 게터와 세터를 선언\n",
    "    def get_radius(self):\n",
    "        return self.__radius\n",
    "\n",
    "    def set_radius(self, value):\n",
    "        if value <= 0:\n",
    "            raise TypeError(\"반지름은 양의 숫자여야 합니다\")\n",
    "        self.__radius = value"
   ]
  },
  {
   "cell_type": "code",
   "execution_count": 126,
   "id": "58a9f6d2-350a-42e7-8e0d-6185ebd27276",
   "metadata": {},
   "outputs": [
    {
     "ename": "TypeError",
     "evalue": "반지름은 양의 숫자여야 합니다",
     "output_type": "error",
     "traceback": [
      "\u001b[1;31m---------------------------------------------------------------------------\u001b[0m",
      "\u001b[1;31mTypeError\u001b[0m                                 Traceback (most recent call last)",
      "Cell \u001b[1;32mIn[126], line 3\u001b[0m\n\u001b[0;32m      1\u001b[0m c \u001b[38;5;241m=\u001b[39m Circle(\u001b[38;5;241m10\u001b[39m)\n\u001b[1;32m----> 3\u001b[0m c\u001b[38;5;241m.\u001b[39mset_radius(\u001b[38;5;241m-\u001b[39m\u001b[38;5;241m2\u001b[39m)\n",
      "Cell \u001b[1;32mIn[124], line 19\u001b[0m, in \u001b[0;36mCircle.set_radius\u001b[1;34m(self, value)\u001b[0m\n\u001b[0;32m     17\u001b[0m \u001b[38;5;28;01mdef\u001b[39;00m \u001b[38;5;21mset_radius\u001b[39m(\u001b[38;5;28mself\u001b[39m, value):\n\u001b[0;32m     18\u001b[0m     \u001b[38;5;28;01mif\u001b[39;00m value \u001b[38;5;241m<\u001b[39m\u001b[38;5;241m=\u001b[39m \u001b[38;5;241m0\u001b[39m:\n\u001b[1;32m---> 19\u001b[0m         \u001b[38;5;28;01mraise\u001b[39;00m \u001b[38;5;167;01mTypeError\u001b[39;00m(\u001b[38;5;124m\"\u001b[39m\u001b[38;5;124m반지름은 양의 숫자여야 합니다\u001b[39m\u001b[38;5;124m\"\u001b[39m)\n\u001b[0;32m     20\u001b[0m     \u001b[38;5;28mself\u001b[39m\u001b[38;5;241m.\u001b[39m__radius \u001b[38;5;241m=\u001b[39m value\n",
      "\u001b[1;31mTypeError\u001b[0m: 반지름은 양의 숫자여야 합니다"
     ]
    }
   ],
   "source": [
    "c = Circle(10)\n",
    "\n",
    "c.set_radius(-2)"
   ]
  },
  {
   "cell_type": "markdown",
   "id": "78aa13f6-1d74-4e40-bcae-5f463760dc94",
   "metadata": {},
   "source": [
    "## 데코레이터를 사용한 게터와 세터\n",
    "\n",
    "- 게터와 세터를 함수로 만드는 일이 많아져서 게터와 세터를 쉽게 만들 수 있는 기능을 제공\n",
    "- 표현법\n",
    "    - @property\n",
    "    - @게터함수이름.setter"
   ]
  },
  {
   "cell_type": "code",
   "execution_count": 129,
   "id": "758a6be8-b522-4f4c-ac10-f07b6e118499",
   "metadata": {},
   "outputs": [],
   "source": [
    "import math\n",
    "\n",
    "class Circle:\n",
    "    def __init__(self, radius):\n",
    "        self.__radius = radius\n",
    "\n",
    "    def get_circumference(self):\n",
    "        return 2 * math.pi * self.__radius\n",
    "\n",
    "    def get_area(self):\n",
    "        return math.pi * (self.__radius ** 2)\n",
    "\n",
    "    # 게터와 세터를 선언\n",
    "    @property\n",
    "    def radius(self):\n",
    "        return self.__radius\n",
    "\n",
    "    @radius.setter\n",
    "    def radius(self, value):\n",
    "        if value <= 0:\n",
    "            raise TypeError(\"반지름은 양의 숫자여야 합니다\")\n",
    "        self.__radius = value"
   ]
  },
  {
   "cell_type": "code",
   "execution_count": 131,
   "id": "a4612ede-e65c-4d17-8293-7fac588097c1",
   "metadata": {},
   "outputs": [
    {
     "name": "stdout",
     "output_type": "stream",
     "text": [
      "원래 반지름 10\n",
      "변경된 반지름 2\n"
     ]
    }
   ],
   "source": [
    "c = Circle(10)\n",
    "print(\"원래 반지름\", c.radius)\n",
    "\n",
    "c.radius = 2\n",
    "print(\"변경된 반지름\", c.radius)"
   ]
  },
  {
   "cell_type": "code",
   "execution_count": 133,
   "id": "8d91e015-d032-4403-8aed-46637a5f3577",
   "metadata": {},
   "outputs": [
    {
     "ename": "TypeError",
     "evalue": "반지름은 양의 숫자여야 합니다",
     "output_type": "error",
     "traceback": [
      "\u001b[1;31m---------------------------------------------------------------------------\u001b[0m",
      "\u001b[1;31mTypeError\u001b[0m                                 Traceback (most recent call last)",
      "Cell \u001b[1;32mIn[133], line 1\u001b[0m\n\u001b[1;32m----> 1\u001b[0m c\u001b[38;5;241m.\u001b[39mradius \u001b[38;5;241m=\u001b[39m \u001b[38;5;241m-\u001b[39m\u001b[38;5;241m10\u001b[39m\n",
      "Cell \u001b[1;32mIn[129], line 21\u001b[0m, in \u001b[0;36mCircle.radius\u001b[1;34m(self, value)\u001b[0m\n\u001b[0;32m     18\u001b[0m \u001b[38;5;129m@radius\u001b[39m\u001b[38;5;241m.\u001b[39msetter\n\u001b[0;32m     19\u001b[0m \u001b[38;5;28;01mdef\u001b[39;00m \u001b[38;5;21mradius\u001b[39m(\u001b[38;5;28mself\u001b[39m, value):\n\u001b[0;32m     20\u001b[0m     \u001b[38;5;28;01mif\u001b[39;00m value \u001b[38;5;241m<\u001b[39m\u001b[38;5;241m=\u001b[39m \u001b[38;5;241m0\u001b[39m:\n\u001b[1;32m---> 21\u001b[0m         \u001b[38;5;28;01mraise\u001b[39;00m \u001b[38;5;167;01mTypeError\u001b[39;00m(\u001b[38;5;124m\"\u001b[39m\u001b[38;5;124m반지름은 양의 숫자여야 합니다\u001b[39m\u001b[38;5;124m\"\u001b[39m)\n\u001b[0;32m     22\u001b[0m     \u001b[38;5;28mself\u001b[39m\u001b[38;5;241m.\u001b[39m__radius \u001b[38;5;241m=\u001b[39m value\n",
      "\u001b[1;31mTypeError\u001b[0m: 반지름은 양의 숫자여야 합니다"
     ]
    }
   ],
   "source": [
    "c.radius = -10"
   ]
  },
  {
   "cell_type": "markdown",
   "id": "5f07b28e-3478-4327-9c89-f670ccf12acd",
   "metadata": {},
   "source": [
    "- 데코레이터를 이용하면 객체.변수 를 사용하는 것만으로 자동으로 게터와 세터가 호출되도록 할 수 있음"
   ]
  },
  {
   "cell_type": "markdown",
   "id": "ce1ce438-a7bf-48a6-96cc-804cc5fd1c37",
   "metadata": {},
   "source": [
    "# **상속(inheritance)**\n",
    "\n",
    "- 다른 누군가가 만들어 놓은 기본 형태에 내가 원하는 것만 추가하거나 교체하는 것\n",
    "- 다중 상속\n",
    "    - 다른 누군가가 만들어 놓은 형태들을 조립해서 내가 원하는 것을 만드는 것\n",
    "- 기반이 되는 것을 부모(parent)라고 부르고, 이를 기반으로 생성된 것을 자식(child)이라고 부름\n",
    "    - 부모가 자식에게 자신의 기반을 물려주는 것이기 때문에 상속이라고 부름"
   ]
  },
  {
   "cell_type": "code",
   "execution_count": 137,
   "id": "d2475b6c-2dae-4f1a-8c23-171743fd1934",
   "metadata": {},
   "outputs": [],
   "source": [
    "class Person: # 부모 클래스\n",
    "    def __init__(self, name):\n",
    "        self.name = name\n",
    "\n",
    "    def eat(self, food):\n",
    "        print(self.name + \"가 \" + food + \"를 먹습니다\")"
   ]
  },
  {
   "cell_type": "code",
   "execution_count": 139,
   "id": "5c24ebea-7e4d-43fb-b53a-b830e7f81c53",
   "metadata": {},
   "outputs": [],
   "source": [
    "class Student(Person): # 자식 클래스\n",
    "    def __init__(self, name, school):\n",
    "        super().__init__(name)\n",
    "        self.school = school\n",
    "\n",
    "    def study(self):\n",
    "        print(self.name + \"는 \" + self.school + \"에서 공부합니다\")"
   ]
  },
  {
   "cell_type": "code",
   "execution_count": 141,
   "id": "c4997224-8320-4abd-924e-48161ada6329",
   "metadata": {},
   "outputs": [],
   "source": [
    "potter = Student(\"해리포터\", \"호그와트\")"
   ]
  },
  {
   "cell_type": "code",
   "execution_count": 143,
   "id": "e4d70e4f-6784-4f79-a44b-8c46ab5dd849",
   "metadata": {},
   "outputs": [
    {
     "name": "stdout",
     "output_type": "stream",
     "text": [
      "해리포터가 감자를 먹습니다\n"
     ]
    }
   ],
   "source": [
    "potter.eat(\"감자\")"
   ]
  },
  {
   "cell_type": "code",
   "execution_count": 145,
   "id": "dec5cd03-2dc5-41f4-b9b9-244ad7ffaf92",
   "metadata": {},
   "outputs": [
    {
     "name": "stdout",
     "output_type": "stream",
     "text": [
      "해리포터는 호그와트에서 공부합니다\n"
     ]
    }
   ],
   "source": [
    "potter.study()"
   ]
  },
  {
   "cell_type": "code",
   "execution_count": 147,
   "id": "c209353f-a89a-4e28-bcff-32dc90cde059",
   "metadata": {},
   "outputs": [],
   "source": [
    "# 부모 클래스 선언\n",
    "class Parent:\n",
    "    def __init__(self):\n",
    "        self.value = \"테스트\"\n",
    "        print(\"Parent 클래스의 생성자가 호출되었습니다\")\n",
    "\n",
    "    def test(self):\n",
    "        print(\"Parent 클래스의 test() 메서드입니다\")"
   ]
  },
  {
   "cell_type": "code",
   "execution_count": 149,
   "id": "29daa6f1-c9d7-436d-aa3d-27a19b0d3809",
   "metadata": {},
   "outputs": [],
   "source": [
    "# 자식 클래스 선언\n",
    "class Child(Parent):\n",
    "    def __init__(self):\n",
    "        super().__init__() # 부모의 생성자 호출\n",
    "        print(\"Child 클래스의 생성자가 호출되었습니다\")"
   ]
  },
  {
   "cell_type": "code",
   "execution_count": 151,
   "id": "93009882-f48a-45a4-9713-b6e7afb23c2f",
   "metadata": {},
   "outputs": [
    {
     "name": "stdout",
     "output_type": "stream",
     "text": [
      "Parent 클래스의 생성자가 호출되었습니다\n",
      "Child 클래스의 생성자가 호출되었습니다\n",
      "Parent 클래스의 test() 메서드입니다\n",
      "테스트\n"
     ]
    }
   ],
   "source": [
    "child = Child()\n",
    "child.test()\n",
    "print(child.value)"
   ]
  },
  {
   "cell_type": "markdown",
   "id": "53465bc8-0de1-4e38-b3a8-05423007c836",
   "metadata": {},
   "source": [
    "## 자식 클래스의 생성자\n",
    "\n",
    "- 자식 클래스는 부모 클래스가 없으면 존재할 수 없음\n",
    "- 따라서 자식 클래스의 생성자를 구현할 때는 반드시 부모 클래스의 생성자를 먼저 호출해야함\n",
    "- 자식 클래스에서 생성자를 생략한다면 부모 클래스의 생성자가 자동으로 호출되기 때문에 super()를 사용하지 않아도 됨"
   ]
  },
  {
   "cell_type": "code",
   "execution_count": 154,
   "id": "4d5902cb-9b3c-439f-a687-89dc383a789e",
   "metadata": {},
   "outputs": [],
   "source": [
    "class Person:\n",
    "    def __init__(self):\n",
    "        self.hello = \"안녕하세요\""
   ]
  },
  {
   "cell_type": "code",
   "execution_count": 156,
   "id": "15989e6d-3b94-47ac-82ca-4c89900a63db",
   "metadata": {},
   "outputs": [],
   "source": [
    "class Student(Person):\n",
    "    pass"
   ]
  },
  {
   "cell_type": "code",
   "execution_count": 158,
   "id": "1aefdff8-4282-43b3-a023-cbdada128721",
   "metadata": {},
   "outputs": [
    {
     "name": "stdout",
     "output_type": "stream",
     "text": [
      "안녕하세요\n"
     ]
    }
   ],
   "source": [
    "james = Student()\n",
    "print(james.hello)"
   ]
  },
  {
   "cell_type": "markdown",
   "id": "cb243278-2ff1-4a8e-98d5-d6d3c712b7a5",
   "metadata": {},
   "source": [
    "## 자식 클래스의 인스턴스 자료형\n",
    "\n",
    "- 자식 클래스 객체는 자식 클래스의 객체임과 동시에 부모 클래스의 객체"
   ]
  },
  {
   "cell_type": "code",
   "execution_count": 161,
   "id": "24d8d211-dff4-4c2e-871c-27e43471114d",
   "metadata": {},
   "outputs": [
    {
     "name": "stdout",
     "output_type": "stream",
     "text": [
      "True\n",
      "True\n"
     ]
    }
   ],
   "source": [
    "print(isinstance(james, Student))\n",
    "print(isinstance(james, Person))"
   ]
  },
  {
   "cell_type": "markdown",
   "id": "35c5e492-242b-4ca8-a708-86120d10a408",
   "metadata": {},
   "source": [
    "## 클래스 상속의 활용\n",
    "\n",
    "- 부모에 정의되어 있는 함수를 자식에서 다시 정의하는 것을 재정의 또는 오버라이드(override)라고 부름\n",
    "- 기존 함수/변수 이외의 것을 완전히 새로 정의하는 것도 가능"
   ]
  },
  {
   "cell_type": "code",
   "execution_count": 164,
   "id": "bc773b33-1ef2-4fcb-9ba9-2f595520f1cc",
   "metadata": {},
   "outputs": [],
   "source": [
    "class Person:\n",
    "    def greeting(self):\n",
    "        print(\"안녕하세요\")"
   ]
  },
  {
   "cell_type": "code",
   "execution_count": 166,
   "id": "72f7220b-39e1-4d69-a010-7fbf79d964bb",
   "metadata": {},
   "outputs": [],
   "source": [
    "class Student(Person):\n",
    "    def greeting(self):\n",
    "        print(\"안녕하세요. 인스턴스 메서드입니다.\")"
   ]
  },
  {
   "cell_type": "code",
   "execution_count": 168,
   "id": "57b1d71c-cfce-4afa-890f-741d696a1e41",
   "metadata": {},
   "outputs": [
    {
     "name": "stdout",
     "output_type": "stream",
     "text": [
      "안녕하세요. 인스턴스 메서드입니다.\n"
     ]
    }
   ],
   "source": [
    "james = Student()\n",
    "james.greeting()"
   ]
  },
  {
   "cell_type": "code",
   "execution_count": 170,
   "id": "5ef14d45-069b-47ce-a9c2-4b55b53a57d2",
   "metadata": {},
   "outputs": [],
   "source": [
    "class Student(Person):\n",
    "    def greeting(self):\n",
    "        super().greeting() # 부모 클래스의 메서드를 이용하여 중복을 줄임\n",
    "        print(\"인스턴스 메서드입니다.\")"
   ]
  },
  {
   "cell_type": "code",
   "execution_count": 172,
   "id": "13458eff-1274-42fb-872f-f8e315a3fbf1",
   "metadata": {},
   "outputs": [
    {
     "name": "stdout",
     "output_type": "stream",
     "text": [
      "안녕하세요\n",
      "인스턴스 메서드입니다.\n"
     ]
    }
   ],
   "source": [
    "james = Student()\n",
    "james.greeting()"
   ]
  },
  {
   "cell_type": "markdown",
   "id": "1971f496-eb00-4865-bf5c-d957ffa724e2",
   "metadata": {},
   "source": [
    "## 다중 상속"
   ]
  },
  {
   "cell_type": "code",
   "execution_count": 175,
   "id": "e0907bd7-28bc-4b2d-a4b3-54cb69fdb166",
   "metadata": {},
   "outputs": [],
   "source": [
    "class Person:\n",
    "    def greeting(self):\n",
    "        print(\"안녕하세요\")"
   ]
  },
  {
   "cell_type": "code",
   "execution_count": 177,
   "id": "8463befb-096e-4f49-86ee-ec64852f2619",
   "metadata": {},
   "outputs": [],
   "source": [
    "class University:\n",
    "    def manage_credit(self):\n",
    "        print(\"학점 관리\")"
   ]
  },
  {
   "cell_type": "code",
   "execution_count": 179,
   "id": "2b4107c9-af58-430e-ac6b-6913abbdc4cb",
   "metadata": {},
   "outputs": [],
   "source": [
    "class Undergraduate(Person, University):\n",
    "    def study(self):\n",
    "        print(\"공부하기\")"
   ]
  },
  {
   "cell_type": "code",
   "execution_count": 181,
   "id": "4cc9a0f7-803a-48fb-b23f-c30ee42a32fa",
   "metadata": {},
   "outputs": [
    {
     "name": "stdout",
     "output_type": "stream",
     "text": [
      "안녕하세요\n",
      "학점 관리\n",
      "공부하기\n"
     ]
    }
   ],
   "source": [
    "james = Undergraduate()\n",
    "james.greeting()\n",
    "james.manage_credit()\n",
    "james.study()"
   ]
  },
  {
   "cell_type": "code",
   "execution_count": null,
   "id": "927db34e-dd02-448f-85bc-2dab92d94efd",
   "metadata": {},
   "outputs": [],
   "source": []
  }
 ],
 "metadata": {
  "kernelspec": {
   "display_name": "Python [conda env:base] *",
   "language": "python",
   "name": "conda-base-py"
  },
  "language_info": {
   "codemirror_mode": {
    "name": "ipython",
    "version": 3
   },
   "file_extension": ".py",
   "mimetype": "text/x-python",
   "name": "python",
   "nbconvert_exporter": "python",
   "pygments_lexer": "ipython3",
   "version": "3.12.7"
  }
 },
 "nbformat": 4,
 "nbformat_minor": 5
}
