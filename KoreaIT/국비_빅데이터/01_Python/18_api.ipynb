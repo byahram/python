{
 "cells": [
  {
   "cell_type": "code",
   "execution_count": 63,
   "id": "d495e8c0-7e97-4617-a588-b71d6b8c01f3",
   "metadata": {},
   "outputs": [],
   "source": [
    "import requests\n",
    "import xmltodict\n",
    "from bs4 import BeautifulSoup"
   ]
  },
  {
   "cell_type": "code",
   "execution_count": 3,
   "id": "4fadf6d3-8ffe-45ee-a910-7b1b1872b6c9",
   "metadata": {},
   "outputs": [],
   "source": [
    "url = \"http://www.kobis.or.kr/kobisopenapi/webservice/rest/boxoffice/searchDailyBoxOfficeList.json?key=25efcb7fe9dc93bcf3f25471606605ed&targetDt=20120101\"\n",
    "\n",
    "res = requests.get(url)"
   ]
  },
  {
   "cell_type": "code",
   "execution_count": 4,
   "id": "5092b1e0-fac3-4773-8daa-d2f81c5f94c2",
   "metadata": {},
   "outputs": [
    {
     "data": {
      "text/plain": [
       "<Response [200]>"
      ]
     },
     "execution_count": 4,
     "metadata": {},
     "output_type": "execute_result"
    }
   ],
   "source": [
    "res"
   ]
  },
  {
   "cell_type": "code",
   "execution_count": 5,
   "id": "bc74fbd6-c54b-4035-9d6a-ac60488b2ef8",
   "metadata": {},
   "outputs": [],
   "source": [
    "data = res.json()"
   ]
  },
  {
   "cell_type": "code",
   "execution_count": 9,
   "id": "344b4d89-d245-492b-b431-5d3c6cc8603b",
   "metadata": {},
   "outputs": [
    {
     "name": "stdout",
     "output_type": "stream",
     "text": [
      "미션임파서블:고스트프로토콜\n",
      "마이 웨이\n",
      "셜록홈즈 : 그림자 게임\n",
      "퍼펙트 게임\n",
      "프렌즈: 몬스터섬의비밀 \n",
      "라이온 킹\n",
      "오싹한 연애\n",
      "극장판 포켓몬스터 베스트 위시「비크티니와 백의 영웅 레시라무」\n",
      "앨빈과 슈퍼밴드3\n",
      "극장판 포켓몬스터 베스트 위시 「비크티니와 흑의 영웅 제크로무」\n"
     ]
    }
   ],
   "source": [
    "for i in data[\"boxOfficeResult\"][\"dailyBoxOfficeList\"]:\n",
    "    print(i[\"movieNm\"])"
   ]
  },
  {
   "cell_type": "code",
   "execution_count": 19,
   "id": "ba4e94e1-6ef8-4644-8f17-ad14d623e7bf",
   "metadata": {},
   "outputs": [],
   "source": [
    "url = \"http://www.kobis.or.kr/kobisopenapi/webservice/rest/boxoffice/searchDailyBoxOfficeList.json?key=25efcb7fe9dc93bcf3f25471606605ed&targetDt=20250310\"\n",
    "\n",
    "res = requests.get(url)"
   ]
  },
  {
   "cell_type": "code",
   "execution_count": 20,
   "id": "3ea7437a-f875-4bfc-be23-84f644eae4bd",
   "metadata": {
    "scrolled": true
   },
   "outputs": [
    {
     "data": {
      "text/plain": [
       "<Response [200]>"
      ]
     },
     "execution_count": 20,
     "metadata": {},
     "output_type": "execute_result"
    }
   ],
   "source": [
    "res"
   ]
  },
  {
   "cell_type": "code",
   "execution_count": 21,
   "id": "a7220e54-dc65-4bc2-a797-d3fe3e666027",
   "metadata": {},
   "outputs": [],
   "source": [
    "data = res.json()"
   ]
  },
  {
   "cell_type": "code",
   "execution_count": 23,
   "id": "1898d211-6605-40ff-84dd-e45ecaa3920a",
   "metadata": {},
   "outputs": [],
   "source": [
    "key = \"25efcb7fe9dc93bcf3f25471606605ed\"\n",
    "\n",
    "url = \"http://www.kobis.or.kr/kobisopenapi/webservice/rest/boxoffice/searchDailyBoxOfficeList.json\"\n",
    "\n",
    "params = {\"key\" : key,\n",
    "          \"targetDt\" : \"20250310\"}\n",
    "\n",
    "res = requests.get(url, params = params)"
   ]
  },
  {
   "cell_type": "code",
   "execution_count": 24,
   "id": "1d1b599b-158d-44af-837f-f3ffe59dc9fb",
   "metadata": {},
   "outputs": [
    {
     "data": {
      "text/plain": [
       "'http://www.kobis.or.kr/kobisopenapi/webservice/rest/boxoffice/searchDailyBoxOfficeList.json?key=25efcb7fe9dc93bcf3f25471606605ed&targetDt=20250310'"
      ]
     },
     "execution_count": 24,
     "metadata": {},
     "output_type": "execute_result"
    }
   ],
   "source": [
    "res.url"
   ]
  },
  {
   "cell_type": "markdown",
   "id": "9e5c4376-1ffa-4816-aeac-dd36b8e0d2d4",
   "metadata": {},
   "source": [
    "# **네이버 블로그 검색 api**"
   ]
  },
  {
   "cell_type": "code",
   "execution_count": 27,
   "id": "63726187-dddc-4cbc-b51b-d69b941d2ca4",
   "metadata": {},
   "outputs": [],
   "source": [
    "client_id = \"_xmkgRMpiISNe0mJSu6t\"\n",
    "client_secret = \"UnN1WdzQam\"\n",
    "\n",
    "url = \"https://openapi.naver.com/v1/search/blog.json\"\n",
    "\n",
    "params = {\"query\" : \"신촌 점심\"}\n",
    "\n",
    "headers = {\"X-Naver-Client-Id\" : client_id,\n",
    "           \"X-Naver-Client-Secret\" : client_secret}\n",
    "\n",
    "res = requests.get(url, params = params, headers = headers)"
   ]
  },
  {
   "cell_type": "code",
   "execution_count": 28,
   "id": "8c938275-a27e-4367-a1c5-91b1e1295978",
   "metadata": {},
   "outputs": [
    {
     "data": {
      "text/plain": [
       "<Response [200]>"
      ]
     },
     "execution_count": 28,
     "metadata": {},
     "output_type": "execute_result"
    }
   ],
   "source": [
    "res"
   ]
  },
  {
   "cell_type": "markdown",
   "id": "bdd7cbbf-b870-4067-9c28-f65177414b2f",
   "metadata": {},
   "source": [
    "# **공공데이터 포털 api**\n",
    "\n",
    "- 약국 정보 조회 서비스\n",
    "    - 서울시 마포구의 약국 정보 조회하기\n",
    "        - 서울시 마포구에서 화요일 20시에도 영업을 하고 있는 약국 찾기"
   ]
  },
  {
   "cell_type": "code",
   "execution_count": 46,
   "id": "0faaa7a9-1703-42a0-b95d-df76bee9e919",
   "metadata": {},
   "outputs": [],
   "source": [
    "url = \"http://apis.data.go.kr/B552657/ErmctInsttInfoInqireService/getParmacyListInfoInqire\"\n",
    "\n",
    "key = \"sUcH/wCaqWYGBXIDnxw8DtVEwOJBy+VOyP0Vjekhc8/NN+QnpcyOyu+QcID8/vQ5Fxhe60/3QfsQEApZAoovbQ==\"\n",
    "\n",
    "params = {'serviceKey' : key,\n",
    "          \"Q0\" : \"서울특별시\",\n",
    "          \"Q1\" : \"마포구\",\n",
    "          \"numOfRows\" : 1000}\n",
    "\n",
    "res = requests.get(url, params = params)"
   ]
  },
  {
   "cell_type": "code",
   "execution_count": 47,
   "id": "26d924da-87b9-4453-8f1b-45b7277590e5",
   "metadata": {},
   "outputs": [
    {
     "data": {
      "text/plain": [
       "<Response [200]>"
      ]
     },
     "execution_count": 47,
     "metadata": {},
     "output_type": "execute_result"
    }
   ],
   "source": [
    "res"
   ]
  },
  {
   "cell_type": "code",
   "execution_count": 48,
   "id": "c84e6b20-b3c2-4b9f-b93f-c5a2be0905c9",
   "metadata": {},
   "outputs": [],
   "source": [
    "res_dict = xmltodict.parse(res.text)"
   ]
  },
  {
   "cell_type": "code",
   "execution_count": 50,
   "id": "0cd2963e-2300-4b49-9544-15af5769f834",
   "metadata": {},
   "outputs": [
    {
     "data": {
      "text/plain": [
       "195"
      ]
     },
     "execution_count": 50,
     "metadata": {},
     "output_type": "execute_result"
    }
   ],
   "source": [
    "len(res_dict[\"response\"][\"body\"][\"items\"][\"item\"])"
   ]
  },
  {
   "cell_type": "code",
   "execution_count": 51,
   "id": "4d394dfb-b18b-4c9c-82b6-4dab7653a1ae",
   "metadata": {},
   "outputs": [],
   "source": [
    "result = []\n",
    "\n",
    "for i in res_dict[\"response\"][\"body\"][\"items\"][\"item\"]:\n",
    "    if int(i[\"dutyTime2c\"]) > 2000:\n",
    "        result.append(i[\"dutyName\"])"
   ]
  },
  {
   "cell_type": "code",
   "execution_count": 52,
   "id": "e44bbc17-11bd-4e8e-8b5d-29ac51745201",
   "metadata": {},
   "outputs": [
    {
     "data": {
      "text/plain": [
       "76"
      ]
     },
     "execution_count": 52,
     "metadata": {},
     "output_type": "execute_result"
    }
   ],
   "source": [
    "len(result)"
   ]
  },
  {
   "cell_type": "code",
   "execution_count": 53,
   "id": "4a549e78-ec6b-4861-a2f6-2fd124149698",
   "metadata": {},
   "outputs": [
    {
     "data": {
      "text/plain": [
       "['365열린약국',\n",
       " 'delight이화약국',\n",
       " '고래약국',\n",
       " '공덕역마트약국',\n",
       " '늘푸른약국',\n",
       " '대교약국',\n",
       " '대흥365약국',\n",
       " '더블유스토어연세약국',\n",
       " '독일약국',\n",
       " '동경약국',\n",
       " '레디영약국',\n",
       " '롱약국',\n",
       " '마래푸약국',\n",
       " '마포보건약국',\n",
       " '마포삼성약국',\n",
       " '마포온누리약국',\n",
       " '마포초록약국',\n",
       " '망원동약국',\n",
       " '망원시장약국',\n",
       " '망원우리약국',\n",
       " '매일여는약국',\n",
       " '메디컬성모약국',\n",
       " '메디팜신마포약국',\n",
       " '명약국',\n",
       " '명치약국',\n",
       " '미소가득한약국',\n",
       " '별빛약국',\n",
       " '비온뒤숲속약국',\n",
       " '비타민약국',\n",
       " '산들약국',\n",
       " '상수오아시스약국',\n",
       " '새봄약국',\n",
       " '서교연세약국',\n",
       " '셀약국',\n",
       " '소망약국',\n",
       " '신일약국',\n",
       " '아름다운약국',\n",
       " '아현종로약국',\n",
       " '애오개약국',\n",
       " '애플약국',\n",
       " '연남약국',\n",
       " '연세약국',\n",
       " '오아시스약국',\n",
       " '온누리메디칼약국',\n",
       " '옵티마상원약국',\n",
       " '옵티마샘터약국',\n",
       " '옵티마유한약국',\n",
       " '용약국',\n",
       " '우리약국',\n",
       " '우정옵티마약국',\n",
       " '유진온누리약국',\n",
       " '이화메세나약국',\n",
       " '이화약국',\n",
       " '정아약국',\n",
       " '제일약국',\n",
       " '중원약국',\n",
       " '지선약국',\n",
       " '참약국',\n",
       " '참조은약국',\n",
       " '청심약국',\n",
       " '태평양약국',\n",
       " '파란바다약국',\n",
       " '파마트엘지약국',\n",
       " '프라자약국',\n",
       " '플러스약국',\n",
       " '한우리약국',\n",
       " '합정365약국',\n",
       " '합정동산약국',\n",
       " '합정스타약국',\n",
       " '햇살약국',\n",
       " '홍대365약국',\n",
       " '홍대어울림약국',\n",
       " '홍대참신한약국',\n",
       " '홍익약국',\n",
       " '홍익플라자약국',\n",
       " '효성약국']"
      ]
     },
     "execution_count": 53,
     "metadata": {},
     "output_type": "execute_result"
    }
   ],
   "source": [
    "result"
   ]
  },
  {
   "cell_type": "markdown",
   "id": "4aeb43ac-5dee-407c-b563-ab00d2c9925a",
   "metadata": {},
   "source": [
    "# **imdb**"
   ]
  },
  {
   "cell_type": "code",
   "execution_count": 67,
   "id": "f6261bfb-6f6c-49fd-90f2-673aec224991",
   "metadata": {},
   "outputs": [],
   "source": [
    "url = \"https://www.imdb.com/chart/top/\"\n",
    "\n",
    "headers = {\"user-agent\" : \"Mozilla/5.0 (Windows NT 10.0; Win64; x64) AppleWebKit/537.36 (KHTML, like Gecko) Chrome/133.0.0.0 Safari/537.36\",\n",
    "           \"accept-language\" : \"en\"}\n",
    "\n",
    "res = requests.get(url, headers = headers)"
   ]
  },
  {
   "cell_type": "code",
   "execution_count": 68,
   "id": "f7a066be-2eeb-43cc-a964-2b3244383afd",
   "metadata": {},
   "outputs": [
    {
     "data": {
      "text/plain": [
       "<Response [200]>"
      ]
     },
     "execution_count": 68,
     "metadata": {},
     "output_type": "execute_result"
    }
   ],
   "source": [
    "res"
   ]
  },
  {
   "cell_type": "code",
   "execution_count": 69,
   "id": "b8c1a73a-2330-4417-947f-bbe99d633404",
   "metadata": {},
   "outputs": [],
   "source": [
    "soup = BeautifulSoup(res.text, \"lxml\")"
   ]
  },
  {
   "cell_type": "code",
   "execution_count": 70,
   "id": "733aedd5-bfb5-4fc6-a9e9-2403d92c7563",
   "metadata": {},
   "outputs": [
    {
     "data": {
      "text/plain": [
       "[<h3 class=\"ipc-title__text\">1. The Shawshank Redemption</h3>,\n",
       " <h3 class=\"ipc-title__text\">2. The Godfather</h3>,\n",
       " <h3 class=\"ipc-title__text\">3. The Dark Knight</h3>,\n",
       " <h3 class=\"ipc-title__text\">4. The Godfather Part II</h3>,\n",
       " <h3 class=\"ipc-title__text\">5. 12 Angry Men</h3>,\n",
       " <h3 class=\"ipc-title__text\">6. The Lord of the Rings: The Return of the King</h3>,\n",
       " <h3 class=\"ipc-title__text\">7. Schindler's List</h3>,\n",
       " <h3 class=\"ipc-title__text\">8. Pulp Fiction</h3>,\n",
       " <h3 class=\"ipc-title__text\">9. The Lord of the Rings: The Fellowship of the Ring</h3>,\n",
       " <h3 class=\"ipc-title__text\">10. The Good, the Bad and the Ugly</h3>,\n",
       " <h3 class=\"ipc-title__text\">11. Forrest Gump</h3>,\n",
       " <h3 class=\"ipc-title__text\">12. The Lord of the Rings: The Two Towers</h3>,\n",
       " <h3 class=\"ipc-title__text\">13. Fight Club</h3>,\n",
       " <h3 class=\"ipc-title__text\">14. Inception</h3>,\n",
       " <h3 class=\"ipc-title__text\">15. Star Wars: Episode V - The Empire Strikes Back</h3>,\n",
       " <h3 class=\"ipc-title__text\">16. The Matrix</h3>,\n",
       " <h3 class=\"ipc-title__text\">17. Goodfellas</h3>,\n",
       " <h3 class=\"ipc-title__text\">18. One Flew Over the Cuckoo's Nest</h3>,\n",
       " <h3 class=\"ipc-title__text\">19. Interstellar</h3>,\n",
       " <h3 class=\"ipc-title__text\">20. Se7en</h3>,\n",
       " <h3 class=\"ipc-title__text\">21. It's a Wonderful Life</h3>,\n",
       " <h3 class=\"ipc-title__text\">22. Seven Samurai</h3>,\n",
       " <h3 class=\"ipc-title__text\">23. The Silence of the Lambs</h3>,\n",
       " <h3 class=\"ipc-title__text\">24. Saving Private Ryan</h3>,\n",
       " <h3 class=\"ipc-title__text\">25. City of God</h3>]"
      ]
     },
     "execution_count": 70,
     "metadata": {},
     "output_type": "execute_result"
    }
   ],
   "source": [
    "soup.select(\"div.cli-children h3.ipc-title__text\")"
   ]
  },
  {
   "cell_type": "code",
   "execution_count": null,
   "id": "a5839ce7-ed94-4b37-b9d9-8c629b92bf51",
   "metadata": {},
   "outputs": [],
   "source": []
  }
 ],
 "metadata": {
  "kernelspec": {
   "display_name": "Python [conda env:base] *",
   "language": "python",
   "name": "conda-base-py"
  },
  "language_info": {
   "codemirror_mode": {
    "name": "ipython",
    "version": 3
   },
   "file_extension": ".py",
   "mimetype": "text/x-python",
   "name": "python",
   "nbconvert_exporter": "python",
   "pygments_lexer": "ipython3",
   "version": "3.12.7"
  }
 },
 "nbformat": 4,
 "nbformat_minor": 5
}
