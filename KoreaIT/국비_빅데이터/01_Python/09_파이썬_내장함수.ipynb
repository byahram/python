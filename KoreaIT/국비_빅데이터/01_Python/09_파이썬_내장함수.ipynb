{
 "cells": [
  {
   "cell_type": "markdown",
   "id": "ed766ed3-eedc-48f3-bd53-18f170f85651",
   "metadata": {},
   "source": [
    "# **내장함수**\n",
    "\n",
    "- 외부 모듈이 아닌 파이썬에 내장된 함수\n",
    "- print(), input(), len(),......"
   ]
  },
  {
   "cell_type": "markdown",
   "id": "4159ea5f-f51d-42c7-a29b-b2fd9eb3308d",
   "metadata": {},
   "source": [
    "## 문자열 내장 함수"
   ]
  },
  {
   "cell_type": "markdown",
   "id": "10d7f416-dd90-430b-b0e2-2d899dac71e3",
   "metadata": {},
   "source": [
    "### 1. chr() / ord()\n",
    "\n",
    "- 모든 문자는 각각 문자 코드라고 하는 자신만의 코드 값이 있음\n",
    "- chr() : 특정 문자의 유니코드 값을 전달하면 해당 문자를 반환\n",
    "- ord() : 문자를 전달하면 해당 문자의 유니코드 값을 반환"
   ]
  },
  {
   "cell_type": "code",
   "execution_count": 4,
   "id": "4fb982dd-56fe-4d16-9c07-5b64877324b0",
   "metadata": {},
   "outputs": [
    {
     "data": {
      "text/plain": [
       "48"
      ]
     },
     "execution_count": 4,
     "metadata": {},
     "output_type": "execute_result"
    }
   ],
   "source": [
    "ord(\"0\")"
   ]
  },
  {
   "cell_type": "code",
   "execution_count": 6,
   "id": "7f1de957-774d-4b5f-bca4-278f7503c1de",
   "metadata": {},
   "outputs": [
    {
     "data": {
      "text/plain": [
       "49"
      ]
     },
     "execution_count": 6,
     "metadata": {},
     "output_type": "execute_result"
    }
   ],
   "source": [
    "ord(\"1\")"
   ]
  },
  {
   "cell_type": "code",
   "execution_count": 8,
   "id": "b214b7d1-55cc-4aa0-a234-cefaf77419a0",
   "metadata": {},
   "outputs": [
    {
     "data": {
      "text/plain": [
       "'0'"
      ]
     },
     "execution_count": 8,
     "metadata": {},
     "output_type": "execute_result"
    }
   ],
   "source": [
    "chr(48)"
   ]
  },
  {
   "cell_type": "code",
   "execution_count": 10,
   "id": "7b02a992-24ff-4a5d-b35f-5cfd590a1538",
   "metadata": {},
   "outputs": [
    {
     "data": {
      "text/plain": [
       "'1'"
      ]
     },
     "execution_count": 10,
     "metadata": {},
     "output_type": "execute_result"
    }
   ],
   "source": [
    "chr(49)"
   ]
  },
  {
   "cell_type": "code",
   "execution_count": 12,
   "id": "625bf32a-854e-4dc2-a07f-b48ccf027c6a",
   "metadata": {},
   "outputs": [
    {
     "data": {
      "text/plain": [
       "(97, 122)"
      ]
     },
     "execution_count": 12,
     "metadata": {},
     "output_type": "execute_result"
    }
   ],
   "source": [
    "ord(\"a\"), ord(\"z\")"
   ]
  },
  {
   "cell_type": "code",
   "execution_count": 14,
   "id": "6bc8820c-c023-446b-9898-93efa9f8af31",
   "metadata": {},
   "outputs": [
    {
     "name": "stdout",
     "output_type": "stream",
     "text": [
      "a b c d e f g h i j k l m n o p q r s t u v w x y z "
     ]
    }
   ],
   "source": [
    "for i in range(97, 123):\n",
    "    print(chr(i), end = \" \")"
   ]
  },
  {
   "cell_type": "markdown",
   "id": "7ed8ff8b-2dc9-4342-b4b6-80993e75716c",
   "metadata": {},
   "source": [
    "### 2. eval()\n",
    "\n",
    "- 표현식을 문자열로 전달하면 결괏값을 반환"
   ]
  },
  {
   "cell_type": "code",
   "execution_count": 17,
   "id": "f7cb9123-5cc2-435d-8ede-0da45e7bb8a0",
   "metadata": {},
   "outputs": [
    {
     "data": {
      "text/plain": [
       "300"
      ]
     },
     "execution_count": 17,
     "metadata": {},
     "output_type": "execute_result"
    }
   ],
   "source": [
    "eval(\"100 + 200\")"
   ]
  },
  {
   "cell_type": "code",
   "execution_count": 19,
   "id": "8b1a7efe-0a8a-45af-9681-05ef2493d1fc",
   "metadata": {},
   "outputs": [
    {
     "data": {
      "text/plain": [
       "'100 + 200'"
      ]
     },
     "execution_count": 19,
     "metadata": {},
     "output_type": "execute_result"
    }
   ],
   "source": [
    "\"100 + 200\""
   ]
  },
  {
   "cell_type": "code",
   "execution_count": 21,
   "id": "b5736414-5c1d-4993-8d6e-f05d46a6f6b4",
   "metadata": {},
   "outputs": [
    {
     "data": {
      "text/plain": [
       "50"
      ]
     },
     "execution_count": 21,
     "metadata": {},
     "output_type": "execute_result"
    }
   ],
   "source": [
    "a = 10\n",
    "\n",
    "eval(\"a * 5\")"
   ]
  },
  {
   "cell_type": "code",
   "execution_count": 23,
   "id": "491f6838-e0aa-4231-814f-bef4440fbc6c",
   "metadata": {},
   "outputs": [
    {
     "data": {
      "text/plain": [
       "1"
      ]
     },
     "execution_count": 23,
     "metadata": {},
     "output_type": "execute_result"
    }
   ],
   "source": [
    "eval(\"min(1, 2, 3)\")"
   ]
  },
  {
   "cell_type": "code",
   "execution_count": 25,
   "id": "5bf5315c-2e6a-4da3-8ea2-05a69ba3a555",
   "metadata": {},
   "outputs": [
    {
     "data": {
      "text/plain": [
       "[1, 2, 3, 4, 5]"
      ]
     },
     "execution_count": 25,
     "metadata": {},
     "output_type": "execute_result"
    }
   ],
   "source": [
    "eval(\"[1, 2, 3, 4, 5]\")"
   ]
  },
  {
   "cell_type": "markdown",
   "id": "52c5d0ad-5cf7-4c1f-b3b5-703c8e5f63b1",
   "metadata": {},
   "source": [
    "## 숫자 내장 함수"
   ]
  },
  {
   "cell_type": "markdown",
   "id": "623fa855-4f5d-4277-b240-0cf647054106",
   "metadata": {},
   "source": [
    "### 1. abs()\n",
    "\n",
    "- 절댓값을 반환"
   ]
  },
  {
   "cell_type": "code",
   "execution_count": 29,
   "id": "ee38b975-83ec-443a-942c-592fff867e67",
   "metadata": {},
   "outputs": [
    {
     "data": {
      "text/plain": [
       "20"
      ]
     },
     "execution_count": 29,
     "metadata": {},
     "output_type": "execute_result"
    }
   ],
   "source": [
    "abs(20)"
   ]
  },
  {
   "cell_type": "code",
   "execution_count": 31,
   "id": "ef82ae20-8683-4088-b8b5-f26727879112",
   "metadata": {},
   "outputs": [
    {
     "data": {
      "text/plain": [
       "10"
      ]
     },
     "execution_count": 31,
     "metadata": {},
     "output_type": "execute_result"
    }
   ],
   "source": [
    "abs(-10)"
   ]
  },
  {
   "cell_type": "markdown",
   "id": "9d218149-e4f8-4d41-8d65-5848ab89789f",
   "metadata": {},
   "source": [
    "### 2. divmod()\n",
    "\n",
    "- 전달된 두 인수를 나누어 몫과 나머지를 반환"
   ]
  },
  {
   "cell_type": "code",
   "execution_count": 34,
   "id": "5b5c0ed5-b83e-4b92-b333-ce137e53b3ef",
   "metadata": {},
   "outputs": [
    {
     "data": {
      "text/plain": [
       "(3, 1)"
      ]
     },
     "execution_count": 34,
     "metadata": {},
     "output_type": "execute_result"
    }
   ],
   "source": [
    "divmod(10, 3)"
   ]
  },
  {
   "cell_type": "code",
   "execution_count": 36,
   "id": "4838d07c-fe7c-4c26-9e23-8c33e11c6aa8",
   "metadata": {},
   "outputs": [
    {
     "name": "stdout",
     "output_type": "stream",
     "text": [
      "빵을 3개 사고 1000원이 남았습니다\n"
     ]
    }
   ],
   "source": [
    "money = 10000\n",
    "price = 3000\n",
    "\n",
    "n, remain = divmod(money, price)\n",
    "print(f\"빵을 {n}개 사고 {remain}원이 남았습니다\")"
   ]
  },
  {
   "cell_type": "markdown",
   "id": "ac079ad5-01cd-4917-b70a-677bc5ddb00c",
   "metadata": {},
   "source": [
    "### 3. max() / min()\n",
    "\n",
    "- 전달된 인수 중 최댓값을 반환 / 최솟값을 반환"
   ]
  },
  {
   "cell_type": "code",
   "execution_count": 39,
   "id": "ea53e638-68c3-4e53-b09c-4d19dea05494",
   "metadata": {},
   "outputs": [
    {
     "data": {
      "text/plain": [
       "10"
      ]
     },
     "execution_count": 39,
     "metadata": {},
     "output_type": "execute_result"
    }
   ],
   "source": [
    "max(1, 10)"
   ]
  },
  {
   "cell_type": "code",
   "execution_count": 41,
   "id": "fda5c8d6-bb1a-433c-90f3-388a0067f2dc",
   "metadata": {},
   "outputs": [
    {
     "data": {
      "text/plain": [
       "1"
      ]
     },
     "execution_count": 41,
     "metadata": {},
     "output_type": "execute_result"
    }
   ],
   "source": [
    "min(1, 10)"
   ]
  },
  {
   "cell_type": "code",
   "execution_count": 43,
   "id": "ab6691bf-2861-4443-894e-cef9af93ba50",
   "metadata": {},
   "outputs": [
    {
     "name": "stdout",
     "output_type": "stream",
     "text": [
      "5 1\n"
     ]
    }
   ],
   "source": [
    "lst = [1, 2, 3, 4, 5]\n",
    "\n",
    "print(max(lst), min(lst))"
   ]
  },
  {
   "cell_type": "markdown",
   "id": "64089cc8-81d8-4502-9ad4-7e2ebd0742ed",
   "metadata": {},
   "source": [
    "### 4. pow()\n",
    "\n",
    "- 두 인수의 거듭제곱을 반환"
   ]
  },
  {
   "cell_type": "code",
   "execution_count": 46,
   "id": "64efc924-3864-40d6-933f-6e923a4bd7bd",
   "metadata": {},
   "outputs": [
    {
     "data": {
      "text/plain": [
       "100"
      ]
     },
     "execution_count": 46,
     "metadata": {},
     "output_type": "execute_result"
    }
   ],
   "source": [
    "pow(10, 2)"
   ]
  },
  {
   "cell_type": "code",
   "execution_count": 48,
   "id": "5df26186-7cbd-4160-8a62-aaadf8e70acd",
   "metadata": {},
   "outputs": [
    {
     "data": {
      "text/plain": [
       "1000"
      ]
     },
     "execution_count": 48,
     "metadata": {},
     "output_type": "execute_result"
    }
   ],
   "source": [
    "pow(10, 3)"
   ]
  },
  {
   "cell_type": "code",
   "execution_count": 50,
   "id": "700a23bb-591e-469a-a0ab-8526e677db5c",
   "metadata": {},
   "outputs": [
    {
     "data": {
      "text/plain": [
       "0.01"
      ]
     },
     "execution_count": 50,
     "metadata": {},
     "output_type": "execute_result"
    }
   ],
   "source": [
    "pow(10, -2)"
   ]
  },
  {
   "cell_type": "code",
   "execution_count": 52,
   "id": "a51c2961-31c2-4d88-a9c6-21b6b0c0d301",
   "metadata": {},
   "outputs": [
    {
     "data": {
      "text/plain": [
       "0.001"
      ]
     },
     "execution_count": 52,
     "metadata": {},
     "output_type": "execute_result"
    }
   ],
   "source": [
    "pow(10, -3)"
   ]
  },
  {
   "cell_type": "markdown",
   "id": "2f9047b5-584b-477e-a368-c988ffb65a54",
   "metadata": {},
   "source": [
    "### 5. round()\n",
    "\n",
    "- 반올림한 값을 반환"
   ]
  },
  {
   "cell_type": "code",
   "execution_count": 55,
   "id": "8902fad5-50b6-467c-afc8-3b7acd074be4",
   "metadata": {},
   "outputs": [
    {
     "data": {
      "text/plain": [
       "2"
      ]
     },
     "execution_count": 55,
     "metadata": {},
     "output_type": "execute_result"
    }
   ],
   "source": [
    "round(1.5)"
   ]
  },
  {
   "cell_type": "code",
   "execution_count": 57,
   "id": "c1955fd9-1584-47fc-ad82-bf8da327f12f",
   "metadata": {},
   "outputs": [
    {
     "data": {
      "text/plain": [
       "1"
      ]
     },
     "execution_count": 57,
     "metadata": {},
     "output_type": "execute_result"
    }
   ],
   "source": [
    "round(1.4)"
   ]
  },
  {
   "cell_type": "code",
   "execution_count": 59,
   "id": "53284643-79f2-431c-b5ae-39654497ac02",
   "metadata": {},
   "outputs": [
    {
     "data": {
      "text/plain": [
       "1.6"
      ]
     },
     "execution_count": 59,
     "metadata": {},
     "output_type": "execute_result"
    }
   ],
   "source": [
    "round(1.55, 1)"
   ]
  },
  {
   "cell_type": "markdown",
   "id": "82367c6f-b636-4acd-8470-d6f204b3e159",
   "metadata": {},
   "source": [
    "### 6. sum()\n",
    "\n",
    "- 합계를 반환\n",
    "- 숫자가 아닌 값은 전달 불가능"
   ]
  },
  {
   "cell_type": "code",
   "execution_count": 62,
   "id": "f5f82699-9fae-4c34-8821-e270b4ec018c",
   "metadata": {},
   "outputs": [
    {
     "data": {
      "text/plain": [
       "15"
      ]
     },
     "execution_count": 62,
     "metadata": {},
     "output_type": "execute_result"
    }
   ],
   "source": [
    "lst = [1, 2, 3, 4, 5]\n",
    "\n",
    "sum(lst)"
   ]
  },
  {
   "cell_type": "code",
   "execution_count": 64,
   "id": "fa037bcd-a9ff-4f6c-9aa9-1081b963d859",
   "metadata": {},
   "outputs": [
    {
     "data": {
      "text/plain": [
       "'hello'"
      ]
     },
     "execution_count": 64,
     "metadata": {},
     "output_type": "execute_result"
    }
   ],
   "source": [
    "\"h\" + \"e\" + \"l\" + \"l\" + \"o\""
   ]
  },
  {
   "cell_type": "code",
   "execution_count": 66,
   "id": "73b78bd4-9366-4e3a-bb7c-f1480f5672a9",
   "metadata": {},
   "outputs": [
    {
     "ename": "TypeError",
     "evalue": "sum() can't sum strings [use ''.join(seq) instead]",
     "output_type": "error",
     "traceback": [
      "\u001b[1;31m---------------------------------------------------------------------------\u001b[0m",
      "\u001b[1;31mTypeError\u001b[0m                                 Traceback (most recent call last)",
      "Cell \u001b[1;32mIn[66], line 1\u001b[0m\n\u001b[1;32m----> 1\u001b[0m \u001b[38;5;28msum\u001b[39m(\u001b[38;5;124m\"\u001b[39m\u001b[38;5;124mh\u001b[39m\u001b[38;5;124m\"\u001b[39m, \u001b[38;5;124m\"\u001b[39m\u001b[38;5;124me\u001b[39m\u001b[38;5;124m\"\u001b[39m)\n",
      "\u001b[1;31mTypeError\u001b[0m: sum() can't sum strings [use ''.join(seq) instead]"
     ]
    }
   ],
   "source": [
    "sum(\"h\", \"e\")"
   ]
  },
  {
   "cell_type": "markdown",
   "id": "717f68ab-cef4-403d-8a76-8450634838e9",
   "metadata": {},
   "source": [
    "## 시퀀스 내장 함수"
   ]
  },
  {
   "cell_type": "markdown",
   "id": "072258dd-4d5e-42c9-926a-81415bb4fcfa",
   "metadata": {},
   "source": [
    "### 1. enumerate()\n",
    "\n",
    "- 리스트에 저장된 요소와 인덱스가 함께 추출"
   ]
  },
  {
   "cell_type": "code",
   "execution_count": 70,
   "id": "723193aa-49de-41c6-bee9-7ea1f448820f",
   "metadata": {},
   "outputs": [
    {
     "name": "stdout",
     "output_type": "stream",
     "text": [
      "0 가위\n",
      "1 바위\n",
      "2 보\n"
     ]
    }
   ],
   "source": [
    "for idx, element in enumerate([\"가위\", \"바위\", \"보\"]):\n",
    "    print(idx, element)"
   ]
  },
  {
   "cell_type": "markdown",
   "id": "512bb47e-323b-4ab4-a153-4b98d00f46b8",
   "metadata": {},
   "source": [
    "### 2. range()\n",
    "\n",
    "- 특정 범위의 값을 생성\n",
    "- 주로 for문과 함께 사용\n",
    "- list() 함수로 리스트로 변환해서 사용하기도 함\n",
    "\n",
    "```\n",
    "range(stop)\n",
    "range(start, stop)\n",
    "range(start, stop, step)\n",
    "start <= n < stop\n",
    "```"
   ]
  },
  {
   "cell_type": "code",
   "execution_count": 73,
   "id": "3cd9ddb7-31ac-4376-9e0a-630eb34aa0c3",
   "metadata": {},
   "outputs": [
    {
     "data": {
      "text/plain": [
       "[0, 1, 2, 3, 4, 5, 6, 7, 8, 9]"
      ]
     },
     "execution_count": 73,
     "metadata": {},
     "output_type": "execute_result"
    }
   ],
   "source": [
    "list(range(10))"
   ]
  },
  {
   "cell_type": "code",
   "execution_count": 75,
   "id": "bc499539-cfca-423d-88a2-ec3d647b1705",
   "metadata": {},
   "outputs": [
    {
     "data": {
      "text/plain": [
       "[1, 2, 3, 4, 5, 6, 7, 8, 9, 10]"
      ]
     },
     "execution_count": 75,
     "metadata": {},
     "output_type": "execute_result"
    }
   ],
   "source": [
    "list(range(1, 11))"
   ]
  },
  {
   "cell_type": "code",
   "execution_count": 77,
   "id": "e122fce7-97b2-43e0-819c-853daef517b9",
   "metadata": {},
   "outputs": [
    {
     "data": {
      "text/plain": [
       "[0, 5, 10, 15, 20, 25]"
      ]
     },
     "execution_count": 77,
     "metadata": {},
     "output_type": "execute_result"
    }
   ],
   "source": [
    "list(range(0, 30, 5))"
   ]
  },
  {
   "cell_type": "code",
   "execution_count": 79,
   "id": "5f9989aa-23a9-4844-b4ca-afef43cda253",
   "metadata": {},
   "outputs": [
    {
     "data": {
      "text/plain": [
       "[0, -1, -2, -3, -4, -5, -6, -7, -8, -9]"
      ]
     },
     "execution_count": 79,
     "metadata": {},
     "output_type": "execute_result"
    }
   ],
   "source": [
    "list(range(0, -10, -1))"
   ]
  },
  {
   "cell_type": "code",
   "execution_count": 81,
   "id": "da266b4e-ca6a-43e0-8f35-4421bc5d7d51",
   "metadata": {},
   "outputs": [
    {
     "data": {
      "text/plain": [
       "[]"
      ]
     },
     "execution_count": 81,
     "metadata": {},
     "output_type": "execute_result"
    }
   ],
   "source": [
    "list(range(0))"
   ]
  },
  {
   "cell_type": "code",
   "execution_count": 83,
   "id": "f8e745a9-0c2e-47b8-bbd2-a5936998a355",
   "metadata": {},
   "outputs": [
    {
     "data": {
      "text/plain": [
       "[]"
      ]
     },
     "execution_count": 83,
     "metadata": {},
     "output_type": "execute_result"
    }
   ],
   "source": [
    "list(range(1, 0))"
   ]
  },
  {
   "cell_type": "markdown",
   "id": "cab9a317-6689-4dc5-9c3f-e8a1839b0d0c",
   "metadata": {},
   "source": [
    "### 3. len()\n",
    "\n",
    "- 객체의 길이(항목의 수)를 반환"
   ]
  },
  {
   "cell_type": "code",
   "execution_count": 86,
   "id": "5be5aca6-f643-4c00-b933-c516cd19370d",
   "metadata": {},
   "outputs": [
    {
     "name": "stdout",
     "output_type": "stream",
     "text": [
      "4\n"
     ]
    }
   ],
   "source": [
    "lst = [\"a\", \"b\", \"c\", \"d\"]\n",
    "\n",
    "print(len(lst))"
   ]
  },
  {
   "cell_type": "code",
   "execution_count": 88,
   "id": "47a76a51-89ea-4e07-a142-22fd1487e53d",
   "metadata": {},
   "outputs": [
    {
     "name": "stdout",
     "output_type": "stream",
     "text": [
      "2\n"
     ]
    }
   ],
   "source": [
    "dic = {\"a\" : \"apple\", \"b\" : \"banana\"}\n",
    "\n",
    "print(len(dic))"
   ]
  },
  {
   "cell_type": "code",
   "execution_count": 90,
   "id": "933d4780-f14e-4e6d-a338-75a864a32cca",
   "metadata": {},
   "outputs": [
    {
     "data": {
      "text/plain": [
       "10"
      ]
     },
     "execution_count": 90,
     "metadata": {},
     "output_type": "execute_result"
    }
   ],
   "source": [
    "len(range(10))"
   ]
  },
  {
   "cell_type": "code",
   "execution_count": 92,
   "id": "ad9f8c3c-4a21-4d0e-8225-5ebce2fafd16",
   "metadata": {},
   "outputs": [
    {
     "data": {
      "text/plain": [
       "9"
      ]
     },
     "execution_count": 92,
     "metadata": {},
     "output_type": "execute_result"
    }
   ],
   "source": [
    "len(range(1, 10))"
   ]
  },
  {
   "cell_type": "markdown",
   "id": "3e2c96c9-ac02-4f69-a483-3443758c3c70",
   "metadata": {},
   "source": [
    "### 4. sorted()\n",
    "\n",
    "- 오름차순, 내림차순 정렬 결과를 반환"
   ]
  },
  {
   "cell_type": "code",
   "execution_count": 95,
   "id": "415e7229-4cae-412b-a9f8-2e749fcb9c54",
   "metadata": {},
   "outputs": [
    {
     "data": {
      "text/plain": [
       "[1, 2, 3, 4, 5, 6]"
      ]
     },
     "execution_count": 95,
     "metadata": {},
     "output_type": "execute_result"
    }
   ],
   "source": [
    "my_list = [6, 3, 1, 2, 5, 4]\n",
    "\n",
    "sorted(my_list)"
   ]
  },
  {
   "cell_type": "code",
   "execution_count": 97,
   "id": "8b1d6b15-329f-4afb-892c-75e270e36492",
   "metadata": {},
   "outputs": [
    {
     "data": {
      "text/plain": [
       "[6, 5, 4, 3, 2, 1]"
      ]
     },
     "execution_count": 97,
     "metadata": {},
     "output_type": "execute_result"
    }
   ],
   "source": [
    "sorted(my_list, reverse = True)"
   ]
  },
  {
   "cell_type": "code",
   "execution_count": 99,
   "id": "b7d23dae-7e1d-440d-a476-a09257944c8c",
   "metadata": {},
   "outputs": [
    {
     "data": {
      "text/plain": [
       "[1, 2, 3, 4, 5, 6]"
      ]
     },
     "execution_count": 99,
     "metadata": {},
     "output_type": "execute_result"
    }
   ],
   "source": [
    "sorted(my_list, reverse = False)"
   ]
  },
  {
   "cell_type": "code",
   "execution_count": 101,
   "id": "2aa64f07-9fe4-48d1-baa2-167b61233d74",
   "metadata": {},
   "outputs": [
    {
     "data": {
      "text/plain": [
       "[6, 3, 1, 2, 5, 4]"
      ]
     },
     "execution_count": 101,
     "metadata": {},
     "output_type": "execute_result"
    }
   ],
   "source": [
    "my_list # my_list 변수 자체가 정렬되는 것이 아님"
   ]
  },
  {
   "cell_type": "code",
   "execution_count": 103,
   "id": "615014cb-dd1b-4c1a-995b-7f74ef38f55f",
   "metadata": {},
   "outputs": [],
   "source": [
    "my_list = sorted(my_list)"
   ]
  },
  {
   "cell_type": "code",
   "execution_count": 105,
   "id": "b1e7e5b0-389a-4aaf-87c0-754478ca32e8",
   "metadata": {},
   "outputs": [
    {
     "data": {
      "text/plain": [
       "[1, 2, 3, 4, 5, 6]"
      ]
     },
     "execution_count": 105,
     "metadata": {},
     "output_type": "execute_result"
    }
   ],
   "source": [
    "my_list"
   ]
  },
  {
   "cell_type": "markdown",
   "id": "f4dd1ab6-2a9b-452e-a28f-53225792e145",
   "metadata": {},
   "source": [
    "### 5. zip()\n",
    "\n",
    "- 여러 개의 반복가능객체의 각 요소를 묶어서 반환\n",
    "- 전달된 객체들의 길이가 다르면 짧은 객체를 기준으로 동작"
   ]
  },
  {
   "cell_type": "code",
   "execution_count": 108,
   "id": "6574bff2-0aa5-4852-bd14-9c465e2b55c8",
   "metadata": {},
   "outputs": [
    {
     "name": "stdout",
     "output_type": "stream",
     "text": [
      "james의 점수는 60점 입니다.\n",
      "emily의 점수는 70점 입니다.\n",
      "amanda의 점수는 80점 입니다.\n"
     ]
    }
   ],
   "source": [
    "names = [\"james\", \"emily\", \"amanda\"]\n",
    "scores = [60, 70, 80]\n",
    "\n",
    "for name, score in zip(names, scores):\n",
    "    print(f\"{name}의 점수는 {score}점 입니다.\")"
   ]
  },
  {
   "cell_type": "code",
   "execution_count": null,
   "id": "e9daa9bd-a5f4-4642-a182-195b75144d58",
   "metadata": {},
   "outputs": [],
   "source": []
  }
 ],
 "metadata": {
  "kernelspec": {
   "display_name": "Python [conda env:base] *",
   "language": "python",
   "name": "conda-base-py"
  },
  "language_info": {
   "codemirror_mode": {
    "name": "ipython",
    "version": 3
   },
   "file_extension": ".py",
   "mimetype": "text/x-python",
   "name": "python",
   "nbconvert_exporter": "python",
   "pygments_lexer": "ipython3",
   "version": "3.12.7"
  }
 },
 "nbformat": 4,
 "nbformat_minor": 5
}
