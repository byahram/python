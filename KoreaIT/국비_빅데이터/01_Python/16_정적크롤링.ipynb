{
 "cells": [
  {
   "cell_type": "markdown",
   "id": "3eae074b-0017-44f1-9ba9-4f439f00ca9a",
   "metadata": {},
   "source": [
    "# **정적 크롤링 모듈**"
   ]
  },
  {
   "cell_type": "code",
   "execution_count": 203,
   "id": "c9db4fe8-3d20-447d-ac3a-9fe8973a20c6",
   "metadata": {},
   "outputs": [],
   "source": [
    "from bs4 import BeautifulSoup\n",
    "from urllib.request import urlopen"
   ]
  },
  {
   "cell_type": "markdown",
   "id": "461b9428-5895-46a6-b3ec-2849e91bc24c",
   "metadata": {},
   "source": [
    "- 요청 모듈로 가져온 HTML 코드를 파이썬이 쓸 수 있는 형태로 변환해주는 역할"
   ]
  },
  {
   "cell_type": "code",
   "execution_count": 206,
   "id": "0939c50d-9193-4ecb-a25a-ad6ea1cd521f",
   "metadata": {},
   "outputs": [],
   "source": [
    "url = \"https://www.naver.com/\"\n",
    "\n",
    "page = urlopen(url)\n",
    "\n",
    "soup = BeautifulSoup(page, \"lxml\")"
   ]
  },
  {
   "cell_type": "code",
   "execution_count": 208,
   "id": "4ac91f3d-31ca-4191-afd3-c144ae312d10",
   "metadata": {},
   "outputs": [
    {
     "name": "stdout",
     "output_type": "stream",
     "text": [
      "<!DOCTYPE html>\n",
      "<html class=\"fzoom\" lang=\"ko\"> <head> <meta charset=\"utf-8\"/> <meta content=\"origin\" name=\"Referrer\"/> <meta content=\"IE=edge\" http-equiv=\"X-UA-Compatible\"/> <meta content=\"width=1190\" name=\"viewport\"/> <title>NAVER</title> <meta content=\"NAVER\" name=\"apple-mobile-web-app-title\"/> <meta content=\"index,nofollow\" name=\"robots\"/> <meta content=\"네이버 메인에서 다양한 정보와 유용한 컨텐츠를 만나 보세요\" name=\"description\"/> <meta content=\"네이버\" property=\"og:title\"/> <meta content=\"https://www.naver.com/\" property=\"og:url\"/> <meta content=\"https://s.pstatic.net/static/www/mobile/edit/2016/0705/mobile_212852414260.png\" property=\"og:image\"/> <meta content=\"네이버 메인에서 다양한 정보와 유용한 컨텐츠를 만나 보세요\" property=\"og:description\"/> <meta content=\"summary\" name=\"twitter:card\"/> <meta content=\"\" name=\"twitter:title\"/> <meta content=\"https://www.naver.com/\" name=\"twitter:url\"/> <meta content=\"https://s.pstatic.net/static/www/mobile/edit/2016/0705/mobile_212852414260.png\" name=\"twitter:image\"/> <meta content=\"네이버 메인에서 다양한 정보와 유용한 컨텐츠를 만나 보세요\" name=\"twitter:description\"/> <meta content=\"uru5NJKa1Bfr5nv5AdQ26Qat7UrPU_02l-PIZRLzI-g\" name=\"google-site-verification\"/> <link href=\"/favicon.ico?1\" rel=\"shortcut icon\" type=\"image/x-icon\"/> <link href=\"https://s.pstatic.net/static/www/nFavicon96.png\" rel=\"apple-touch-icon-precomposed\"/> <link href=\"https://s.pstatic.net/static/www/u/2014/0328/mma_204243574.png\" rel=\"apple-touch-icon\" sizes=\"114x114\"/> <link href=\"https://s.pstatic.net/static/www/u/2014/0328/mma_20432863.png\" rel=\"apple-touch-icon\"/> <link href=\"https://ssl.pstatic.net/sstatic/search/pc/css/sp_autocomplete_241121.css\" rel=\"stylesheet\"/> <link href=\"https://www.naver.com/\" rel=\"canonical\"/> <link href=\"https://m.naver.com/\" media=\"only screen and (max-width: 767px)\" rel=\"alternate\"/> <script>window.gladsdk=window.gladsdk||{},window.gladsdk.cmd=window.gladsdk.cmd||[],window.ndpsdk=window.ndpsdk||{},window.ndpsdk.cmd=window.ndpsdk.cmd||[],window.ndpsdk.polyfill=window.ndpsdk.polyfill||{cmd:[]};var g_ssc=\"navertop.v5\";window.nsc=g_ssc,window.nmain=window.nmain||{},window.nmain.jsOrigin=\"www\"</script> <script>window.ntm=window.ntm||[]</script> <script async=\"\" src=\"https://ssl.pstatic.net/tveta/libs/ndpsdk/prod/ndp-loader.js\"></script> <script async=\"\" src=\"https://ssl.pstatic.net/tveta/libs/glad/prod/gfp-core.js\"></script> <script defer=\"defer\" src=\"https://ssl.pstatic.net/tveta/libs/assets/js/pc/main/min/pc.veta.core.min.js\"></script> <script>\n",
      "window[\"EAGER-DATA\"] = window[\"EAGER-DATA\"] || {};\n",
      "window[\"EAGER-DATA\"][\"PC-FEED-WRAPPER\"] = {\"@type\":\"BLOCK\",\"blocks\":[{\"@type\":\"BLOCK\",\"blocks\":[{\"@type\":\"BLOCK\",\"blocks\":[{\"@type\":\"PC-CAS-EDIT-CONTENTS-BLOCK\",\"blocks\":null,\"materials\":[{\"@type\":\"MATERIAL-PC-FEED-EDIT\",\"title\":\"마세라티 시승신청\",\"url\":\"https://naver.me/GKURP0Um\",\"image\":{\"url\":\"https://s.pstatic.net/static/www/mobile/edit/20250731_1095/upload_1753950795220Jgm4m.jpg\"},\"highlight\":\"네이버 자동차\",\"adMark\":true,\"desc\":\"시승 가능한 모델을 버튼으로 확인하세요!\",\"clickCode\":\"MA\",\"_id\":\"6548800558a9ce6eb3e8a64e\"},{\"@type\":\"MATERIAL-PC-FEED-EDIT\",\"title\":\"푸조 시승신청\",\"url\":\"https://naver.me/xwwvZGjN\",\"image\":{\"url\":\"https://s.pstatic.net/static/www/mobile/edit/20250704_1095/upload_1751590753532iBVrP.jpg\"},\"highlight\":\"네이버 자동차\",\"adMark\":true,\"desc\":\"시승 가능한 모델을 버튼으로 확인하세요!\",\"clickCode\":\"PU\",\"_id\":\"6548800558a9ce6eb3e8a64f\"},{\"@type\":\"MATERIAL-PC-FEED-EDIT\",\"title\":\"르노 시승신청\",\"url\":\"https://www.renault.co.kr/ko/side/app_testdrive.jsp?h_mcode=K601&h_carsel=Koleos&bannerUrl=a_navertd_KOLEOS_BIEN_SALES_A_25-08_&bannerSeq=1&utm_medium=display&utm_source=navertd&utm_campaign=kr-r-l-newcar-koleos-bien-08-2025-os-naver-dis-na-25-08&utm_content=contextual-none-none-1p-pa-none-dis_nat-multi_devices-pros-na-na-a-A&CAMPAIGN=kr-r-l-newcar-koleos-bien-08-2025-os-naver-dis-na-25-08&ORIGIN=display\",\"image\":{\"url\":\"https://s.pstatic.net/static/www/mobile/edit/20250730_1095/upload_1753864447048dXtkI.jpg\"},\"highlight\":\"네이버 자동차\",\"adMark\":true,\"desc\":\"시승 가능한 모델을 버튼으로 확인하세요!\",\"clickCode\":\"renault\",\"_id\":\"6548800558a9ce6eb3e8a650\"},{\"@type\":\"MATERIAL-PC-FEED-EDIT\",\"title\":\"토요타 시승신청\",\"url\":\"https://toyota.co.kr/seasonal-event/2025-cruising/?utm_campaign=hc-td-toyota-202508&utm_source=naver-car&utm_medium=da&utm_content=1\",\"image\":{\"url\":\"https://s.pstatic.net/static/www/mobile/edit/20250730_1095/upload_1753867940634qytwM.jpg\"},\"highlight\":\"네이버 자동차\",\"adMark\":true,\"desc\":\"시승 가능한 모델을 버튼으로 확인하세요!\",\"clickCode\":\"toyota\",\"_id\":\"65918205372986ca693489f2\"},{\"@type\":\"MATERIAL-PC-FEED-EDIT\",\"title\":\"볼보 시승신청\",\"url\":\"https://www.volvocar.co.kr/buy/purchase/the-new-s90-test-drive-campaign/?type=digital&source=naver&utm_medium=display&utm_source=naver&utm_campaign=kr_s90_paid&utm_content=testdrivecpt_carpanbanner_pc\",\"image\":{\"url\":\"https://s.pstatic.net/static/www/mobile/edit/20250718_1095/upload_1752829900792qixI3.jpg\"},\"highlight\":\"네이버 자동차\",\"adMark\":true,\"desc\":\"시승 가능한 모델을 버튼으로 확인하세요!\",\"clickCode\":\"volvocar\",\"_id\":\"679c5fedd7f79d7b4bc371e4\"},{\"@type\":\"MATERIAL-PC-FEED-EDIT\",\"title\":\"요즘 뜨는 신차는 뭘까?\",\"url\":\"https://m.naver.com/category_feed/?code=CAR\",\"image\":{\"url\":\"https://s.pstatic.net/static/www/mobile/edit/20241204_1095/upload_1733297439155jly9u.jpg\"},\"highlight\":\"자동차 피드\",\"desc\":\"자동차 피드에서 확인하세요.\",\"clickCode\":\"CAR3\",\"_id\":\"679ce585642a4db25d516f43\"},{\"@type\":\"MATERIAL-PC-FEED-EDIT\",\"title\":\"돌고 도는 정비 주기들,\",\"url\":\"https://mycar.naver.com/?topCardType=maintenance\",\"image\":{\"url\":\"https://s.pstatic.net/static/www/mobile/edit/20230829_1095/upload_1693273391781UBYW8.jpg\"},\"highlight\":\"네이버 마이카\",\"adMark\":false,\"desc\":\"이제 외울 필요 없어요!\",\"clickCode\":\"mycar\",\"_id\":\"685c0f050766afaa7fc4014a\"}],\"excludeInPaging\":false,\"positionForPaging\":0,\"realtime\":false,\"layout\":\"BIG-IMAGE-MAX-6\",\"orderRandom\":true,\"_id\":null,\"@type\":\"PC-CAS-EDIT-CONTENTS-BLOCK\",\"@code\":null,\"@template\":\"NONE\",\"@flowId\":null,\"@flowExecutionId\":null,\"@provider\":null,\"@lastModifiedAt\":null}],\"materials\":null,\"excludeInPaging\":false,\"positionForPaging\":0,\"realtime\":false,\"_id\":null,\"@type\":\"BLOCK\",\"@code\":\"PC-FEED-CARGAME-CAS-EDIT\",\"@template\":\"PC-FEED-CAS-EDIT\",\"@flowId\":null,\"@flowExecutionId\":null,\"@provider\":null,\"@lastModifiedAt\":null},{\"@type\":\"PC-FEED-BLOCK\",\"materials\":[{\"@type\":\"MATERIAL-PC-FEED\",\"title\":\"K5보다 싸게 나온 ‘쏘나타 하이브리드’ 실화냐, 연비도 '19.4km/L'에 '2천만 원대'\",\"url\":\"https://blog.naver.com/topictree/223934742186\",\"image\":{\"url\":\"https://s.pstatic.net/dthumb.phinf/?src=%22http%3A%2F%2Fblogfiles.naver.net%2FMjAyNTA3MTVfMjkz%2FMDAxNzUyNTcwOTE4Mjk5.vVcOVsX8G_op6ow0LXCNxmroDwQyuCxKdBmobC_qc50g.1TpAm3bOMR31itIrbMFQ_v9D98mAqZlI3oyscW5g3XUg.JPEG%2FHyundai-Sonata-July-Discount-Promotion-5.jpg%22&type=ff364_236&service=navermain\"},\"source\":{\"url\":\"https://blog.naver.com/topictree\",\"name\":\"토픽트리\",\"image\":{\"url\":\"https://s.pstatic.net/dthumb.phinf/?src=%22http%3A%2F%2Fblogpfthumb.phinf.naver.net%2FMjAyNTAyMjZfMTA2%2FMDAxNzQwNTc0MzEyMDgw.3SzQyjVnajkGcazsD4OIQSRsGEIoapgJ2SrtjLsANcog.ApZ1gRSWa-RuunIfA6o6yDIVxoy-IwAgDf7mlDsSQMkg.PNG%2Flogo_new%2528background%2529.png%2Flogo_new%2528background%2529.png%22&type=nf40_40&service=navermain\"}},\"showLiveBadge\":false,\"_id\":\"6441ca92c499cc07f334c614\"},{\"@type\":\"MATERIAL-PC-FEED\",\"title\":\"대규모 투자한 10세대 페이스리프트 벤츠 S 클래스, 기대해도 좋나?\",\"url\":\"https://in.naver.com/cogram/contents/internal/852249407173952\",\"image\":{\"url\":\"https://s.pstatic.net/dthumb.phinf/?src=%22http%3A%2F%2Fblogfiles.naver.net%2FMjAyNTA4MDVfODkg%2FMDAxNzU0MzU2OTg5ODgx.7fKv_baPojJ94KjeAMtIjmulrU8kBR4i2ur4E5Zs1log.K5tqw-h9siuFOsw_1Hrn_tbUeNkwIOpYWRLsY2H8hQUg.JPEG%2FMercedes_S-Class_Facelift_001_poq4h4.jpg%22&type=ff364_236&service=navermain\"},\"source\":{\"url\":\"https://blog.naver.com/cogram\",\"name\":\"사냥꾼\",\"image\":{\"url\":\"https://s.pstatic.net/dthumb.phinf/?src=%22http%3A%2F%2Fblogpfthumb.phinf.naver.net%2FMjAyMzA4MDdfMTA0%2FMDAxNjkxMzkzOTg5ODEw.vkX-eDUpPdLp6H-zWC_YjeC0dZPwS6FODLQvjqigMO8g.cVv1UPxP4WIRReC4ts8w-Vn2SrN67qg3ee7JhKBz_60g.JPEG.cogram%2FDSC03986_2.jpg%2FDSC03986_2.jpg%22&type=nf40_40&service=navermain\"}},\"showLiveBadge\":false,\"_id\":\"6441ca92c499cc07f334c615\"},{\"@type\":\"MATERIAL-PC-FEED\",\"title\":\"“이 가격이면 G80은 잊어라” '벤츠 E클래스', 할인 들어가자 난리 난 '이유'\",\"url\":\"https://blog.naver.com/topictree/223873237366\",\"image\":{\"url\":\"https://s.pstatic.net/dthumb.phinf/?src=%22http%3A%2F%2Fblogfiles.naver.net%2FMjAyNTA1MjFfMjMy%2FMDAxNzQ3ODE4NTkzNTI1.O661QxrrGTewzin3YnEtoj4g8YmzWgoHo5t6PeShxRkg.2e-TqZ63C-73ou8uq9iQ-ok9Er3aVdGoRKZaJtMGojAg.JPEG%2FBenz-E-Class-May-Discount-Promotion-3.jpg.jpg%22&type=ff364_236&service=navermain\"},\"source\":{\"url\":\"https://blog.naver.com/topictree\",\"name\":\"토픽트리\",\"image\":{\"url\":\"https://s.pstatic.net/dthumb.phinf/?src=%22http%3A%2F%2Fblogpfthumb.phinf.naver.net%2FMjAyNTAyMjZfMTA2%2FMDAxNzQwNTc0MzEyMDgw.3SzQyjVnajkGcazsD4OIQSRsGEIoapgJ2SrtjLsANcog.ApZ1gRSWa-RuunIfA6o6yDIVxoy-IwAgDf7mlDsSQMkg.PNG%2Flogo_new%2528background%2529.png%2Flogo_new%2528background%2529.png%22&type=nf40_40&service=navermain\"}},\"showLiveBadge\":false,\"_id\":\"6441ca92c499cc07f334c616\"},{\"@type\":\"MATERIAL-PC-FEED\",\"title\":\"현대 아이오닉5N 불량 뽑기 당첨, 반품 하고싶..\",\"url\":\"https://in.naver.com/bacma/contents/internal/850043583845408\",\"image\":{\"url\":\"https://s.pstatic.net/dthumb.phinf/?src=%22http%3A%2F%2Fblogfiles.naver.net%2FMjAyNTA3MzBfMTM2%2FMDAxNzUzODMxNzkzNDk3.O53YTWan1knegmwXT7AZ2EDoemXZf2dLKbrf5wbPqNog.LcgZVe39MVngdBRxQ2d0-n8hx1e1FRP1_Et_JrnM5v4g.JPEG%2F5G2A0883.JPG%22&type=ff364_236&service=navermain\"},\"source\":{\"url\":\"https://blog.naver.com/erinlove776\",\"name\":\"백마탄환자\",\"image\":{\"url\":\"https://s.pstatic.net/dthumb.phinf/?src=%22http%3A%2F%2Fblogpfthumb.phinf.naver.net%2FMjAxNzExMTNfMTg2%2FMDAxNTEwNTY0NjA0OTU4.AC8zP9_jkYJb9KqNnRpahE9XkVERIdXWCjZJ6dJvXbMg.0bT2jYMfHiu9H_mwgoW5eiycIOo9q-rSJZGu1efrxBkg.JPEG.erinlove776%2FprofileImage.jpg%22&type=nf40_40&service=navermain\"}},\"showLiveBadge\":false,\"_id\":\"6441ca92c499cc07f334c617\"},{\"@type\":\"MATERIAL-PC-FEED\",\"title\":\"\\\"카니발은 비교도 안되는 덩치\\\" 링컨, 풀사이즈 SUV '내비게이터 풀체인지' 국내 인증. 출시는 언제?\",\"url\":\"https://blog.naver.com/choiti1991/223881299235\",\"image\":{\"url\":\"https://s.pstatic.net/dthumb.phinf/?src=%22http%3A%2F%2Fblogfiles.naver.net%2FMjAyNTA1MjhfNzUg%2FMDAxNzQ4NDQzODQ2ODc2.XQeW5aMvHWF9_1_wSYGVjDsxmRBkgOYiu6pQckORl7Ug.S8q8vXhM_KQ7ZfpLMiJdQNuyq1AgxJak9w_KPUJpQOIg.JPEG%2F2025-lincoln-navigator_%286%29.jpg%22&type=ff364_236&service=navermain\"},\"source\":{\"url\":\"https://blog.naver.com/choiti1991\",\"name\":\"모터팩토리\",\"image\":{\"url\":\"https://s.pstatic.net/dthumb.phinf/?src=%22http%3A%2F%2Fblogpfthumb.phinf.naver.net%2FMjAyMjExMjNfMTkw%2FMDAxNjY5MjEzMTE1MDg3.bSFyyvjYUB5L1fJFAiIW0RqHq9eAtD0UJ0Q4S1rpBhIg._pW5th5eYDdwmq2ThYbKqfjCCaY1ot9n7Rbc9riVKqUg.PNG.choiti1991%2F%25EC%25B9%25B4%25EC%259F%2581%25EC%259D%25B4%25EC%259D%2598_%25EC%2582%25AC%25EB%25B3%25B8_%25281%2529.png%2F%25EC%25B9%25B4%25EC%259F%2581%25EC%259D%25B4%25EC%259D%2598%2B%25EC%2582%25AC%25EB%25B3%25B8%2B%25281%2529.png%22&type=nf40_40&service=navermain\"}},\"showLiveBadge\":false,\"_id\":\"6441ca92c499cc07f334c618\"},{\"@type\":\"MATERIAL-PC-FEED\",\"title\":\"기아 올 뉴 카니발 차박 캠핑카 중고 및 로우카니발 패키지\",\"url\":\"https://in.naver.com/bikenmusic/contents/internal/850237951751264\",\"image\":{\"url\":\"https://s.pstatic.net/dthumb.phinf/?src=%22http%3A%2F%2Fblogfiles.naver.net%2FMjAyNTA3MzBfNDUg%2FMDAxNzUzODc4NDE0Nzc3.s6kYdNIvB_5y_-O3YM-1yQ79KPR6o-JhTjOn5IPCZbwg.hHGTlX305DwEUP9uRsERDLHyO6Uc6dXI9DjvIFPiWIEg.JPEG%2F20250520_130948.jpg%22&type=ff364_236&service=navermain\"},\"source\":{\"url\":\"https://blog.naver.com/ichthu\",\"name\":\"쌍둥아빠\",\"image\":{\"url\":\"https://s.pstatic.net/dthumb.phinf/?src=%22http%3A%2F%2Fblogpfthumb.phinf.naver.net%2FMjAyMjA4MzFfNDQg%2FMDAxNjYxODg0MzI0NTcw.EYVyake1YimlhxnRtotpI1O4wQfysg_uJPct8GxoAeQg.i6-lHTz8MZ75uhNhKHcCFDq-loiMw7WSXuVcxnsu6D0g.JPEG.ichthu%2FprofileImage.jpg%22&type=nf40_40&service=navermain\"}},\"showLiveBadge\":false,\"_id\":\"6441ca92c499cc07f334c619\"},{\"@type\":\"MATERIAL-PC-FEED\",\"title\":\"\\\"이대로만 나오면 중형 세단 시장 씹어먹는다!\\\" 기아 K5 풀체인지 예상도 충격!\",\"url\":\"https://in.naver.com/mookhuk1918/contents/internal/851798453560480\",\"image\":{\"url\":\"https://s.pstatic.net/dthumb.phinf/?src=%22http%3A%2F%2Fblogfiles.naver.net%2FMjAyNTA3MjNfMTc5%2FMDAxNzUzMjIzNzA0MTEy.iVzaVQZc8kTLshKqdPHR5y7DF_rXSuFrxIPars904cIg.bcxefU1UezADawGIXHkxG26O9mBN_v38jFQqxS3-Cycg.PNG%2Fimage.png%22&type=ff364_236&service=navermain\"},\"source\":{\"url\":\"https://blog.naver.com/mookhuk1918\",\"name\":\"무크\",\"image\":{\"url\":\"https://s.pstatic.net/dthumb.phinf/?src=%22http%3A%2F%2Fblogpfthumb.phinf.naver.net%2FMjAyMDA1MDFfMjQ1%2FMDAxNTg4MzE0MzExOTgy.ydTVStfhuPzbjUhjra3JEwsj4y8jjnSGXOxvCeVvZngg.jgY6cJFfr7g8h2piGbvecLeigs-opSmA0zpun270-_Ug.JPEG.mookhuk1918%2FKakaoTalk_20200501_152423404.jpg%22&type=nf40_40&service=navermain\"}},\"showLiveBadge\":false,\"_id\":\"6441ca92c499cc07f334c61a\"},{\"@type\":\"MATERIAL-PC-FEED\",\"title\":\"벤츠 CLE200 CLE 쿠페 450 가격 제원 연비 까브리올레 53Amg 까지 알아보자.\",\"url\":\"https://in.naver.com/goodman/contents/internal/849014718739360\",\"image\":{\"url\":\"https://s.pstatic.net/dthumb.phinf/?src=%22http%3A%2F%2Fblogfiles.naver.net%2FMjAyNTA3MjdfMTA2%2FMDAxNzUzNTQzMzI2NzYx.yRYm8PsuwypeI_9yzwmrPg6FP6GhtdhcNWEJau97TLsg.8r7nfPoIl9QrrsqS_4vuctEkEsASX2A0Ur_i_hYStRcg.JPEG%2F033A9823.jpeg%22&type=ff364_236&service=navermain\"},\"source\":{\"url\":\"https://blog.naver.com/ysh2119\",\"name\":\"굳맨\",\"image\":{\"url\":\"https://s.pstatic.net/dthumb.phinf/?src=%22http%3A%2F%2Fblogpfthumb.phinf.naver.net%2FMjAyMDExMjNfMjEy%2FMDAxNjA2MTEzMTYzNTY4.wwoalNZ3EsoisBFqHXsbXbIZ7nsKQaIX7y7x51jP62wg.fqZhQ5uWiR4uEtfhTWrBYSDOn-0Nq_P3fGThf4rVSI0g.PNG.ysh2119%2F%25EA%25B5%25B3%25EB%25A7%25A8%25ED%258B%25B0%25EB%25B9%2584_%25ED%2594%2584%25EB%25A1%259C%25ED%2595%258402.png%22&type=nf40_40&service=navermain\"}},\"showLiveBadge\":false,\"_id\":\"6441ca92c499cc07f334c61b\"}],\"excludeInPaging\":false,\"positionForPaging\":0,\"realtime\":false,\"needCologger\":false,\"ad\":false,\"@type\":\"PC-FEED-BLOCK\",\"@code\":\"PC-FEED-CARGAME-MANUAL-1\",\"@template\":\"TWO-COLUMNS\"},{\"@type\":\"PC-FEED-BLOCK\",\"materials\":[{\"@type\":\"MATERIAL-PC-FEED\",\"title\":\"2026 액티언 하이브리드 중형\",\"url\":\"https://search.naver.com/search.naver?where=nexearch&sm=mob_crc&mra=bjg1&pkid=128&os=37148197&qvt=0&query=2026%20%EC%95%A1%ED%8B%B0%EC%96%B8%20%ED%95%98%EC%9D%B4%EB%B8%8C%EB%A6%AC%EB%93%9C\",\"image\":{\"url\":\"https://s.pstatic.net/dthumb.phinf/?src=%22https%3A%2F%2Fimgauto-phinf.pstatic.net%2F20250619_253%2Fauto_1750299052042Acxpw_PNG%2F20250619111042_e01BZlzy.png%22&type=nf358_179&service=navermain\"},\"desc\":\"2025년 7월\",\"showLiveBadge\":false,\"_id\":\"6548800558a9ce6eb3e8a626\"},{\"@type\":\"MATERIAL-PC-FEED\",\"title\":\"2026 볼보 XC90\",\"url\":\"https://search.naver.com/search.naver?where=nexearch&sm=mob_crc&mra=bjg1&pkid=128&os=35172511&qvt=0&query=2026%20%EB%B3%BC%EB%B3%B4%20XC90\",\"image\":{\"url\":\"https://s.pstatic.net/dthumb.phinf/?src=%22https%3A%2F%2Fimgauto-phinf.pstatic.net%2F20250702_222%2Fauto_1751416796372LRSRl_PNG%2F20250702093955_aDCsXwY7.png%22&type=nf358_179&service=navermain\"},\"desc\":\"2025년 7월\",\"showLiveBadge\":false,\"_id\":\"6548800558a9ce6eb3e8a627\"},{\"@type\":\"MATERIAL-PC-FEED\",\"title\":\"2026 로터스 에메야 대형\",\"url\":\"https://search.naver.com/search.naver?where=nexearch&sm=mob_crc&mra=bjg1&pkid=128&os=37250607&qvt=0&query=2026%20%EB%A1%9C%ED%84%B0%EC%8A%A4%20%EC%97%90%EB%A9%94%EC%95%BC\",\"image\":{\"url\":\"https://s.pstatic.net/dthumb.phinf/?src=%22https%3A%2F%2Fimgauto-phinf.pstatic.net%2F20250714_21%2Fauto_1752471802429vKfvh_PNG%2F20250714144307_TjeZM1DD.png%22&type=nf358_179&service=navermain\"},\"desc\":\"2025년 7월\",\"showLiveBadge\":false,\"_id\":\"6548800558a9ce6eb3e8a628\"},{\"@type\":\"MATERIAL-PC-FEED\",\"title\":\"2026 캐스퍼 경형\",\"url\":\"https://search.naver.com/search.naver?where=nexearch&sm=mob_crc&mra=bjg1&pkid=128&os=37253913&qvt=0&query=2026%20%EC%BA%90%EC%8A%A4%ED%8D%BC\",\"image\":{\"url\":\"https://s.pstatic.net/dthumb.phinf/?src=%22https%3A%2F%2Fimgauto-phinf.pstatic.net%2F20250715_91%2Fauto_17525562094948Un3x_PNG%2F20250715141007_SQ9Yx610.png%22&type=nf358_179&service=navermain\"},\"desc\":\"2025년 7월\",\"showLiveBadge\":false,\"_id\":\"6548800558a9ce6eb3e8a629\"},{\"@type\":\"MATERIAL-PC-FEED\",\"title\":\"2026 BMW iX\",\"url\":\"https://search.naver.com/search.naver?where=nexearch&sm=mob_crc&mra=bjg1&pkid=128&os=36441987&qvt=0&query=2026%20BMW%20iX\",\"image\":{\"url\":\"https://s.pstatic.net/dthumb.phinf/?src=%22https%3A%2F%2Fimgauto-phinf.pstatic.net%2F20250203_169%2Fauto_1738570293442HIrDe_PNG%2F20250203171053_Ex0hZPqx.png%22&type=nf358_179&service=navermain\"},\"desc\":\"2025년 8월\",\"showLiveBadge\":false,\"_id\":\"67a47395d7f79d7b4bc4ec2a\"},{\"@type\":\"MATERIAL-PC-FEED\",\"title\":\"2026 볼보 XC60 중형\",\"url\":\"https://search.naver.com/search.naver?where=nexearch&sm=mob_crc&mra=bjg1&pkid=128&os=36526376&qvt=0&query=2026%20%EB%B3%BC%EB%B3%B4%20XC60\",\"image\":{\"url\":\"https://s.pstatic.net/dthumb.phinf/?src=%22https%3A%2F%2Fimgauto-phinf.pstatic.net%2F20250805_293%2Fauto_1754358835114VMeVV_PNG%2F20250805105353_nXkItCyf.png%22&type=nf358_179&service=navermain\"},\"desc\":\"2025년 8월\",\"showLiveBadge\":false,\"_id\":\"67a47395d7f79d7b4bc4ec2b\"},{\"@type\":\"MATERIAL-PC-FEED\",\"title\":\"2026 EV6 GT 준중형\",\"url\":\"https://search.naver.com/search.naver?where=nexearch&sm=mob_crc&mra=bjg1&pkid=128&os=37198495&qvt=0&query=2026%20EV6%20GT\",\"image\":{\"url\":\"https://s.pstatic.net/dthumb.phinf/?src=%22https%3A%2F%2Fimgauto-phinf.pstatic.net%2F20250701_5%2Fauto_1751330203391gac1T_PNG%2F20250701093634_gKr6q9eh.png%22&type=nf358_179&service=navermain\"},\"desc\":\"2025년 7월\",\"showLiveBadge\":false,\"_id\":\"67a47395d7f79d7b4bc4ec2c\"},{\"@type\":\"MATERIAL-PC-FEED\",\"title\":\"2026 볼보 XC90 플러그인 하이브리드\",\"url\":\"https://search.naver.com/search.naver?where=nexearch&sm=mob_crc&mra=bjg1&pkid=128&os=35172512&qvt=0&query=2026%20%EB%B3%BC%EB%B3%B4%20XC90%20%ED%94%8C%EB%9F%AC%EA%B7%B8%EC%9D%B8%20%ED%95%98%EC%9D%B4%EB%B8%8C%EB%A6%AC%EB%93%9C\",\"image\":{\"url\":\"https://s.pstatic.net/dthumb.phinf/?src=%22https%3A%2F%2Fimgauto-phinf.pstatic.net%2F20250702_163%2Fauto_1751416872936bLupd_PNG%2F20250702094111_7jKWb5lp.png%22&type=nf358_179&service=navermain\"},\"desc\":\"2025년 8월\",\"showLiveBadge\":false,\"_id\":\"67a47395d7f79d7b4bc4ec2d\"},{\"@type\":\"MATERIAL-PC-FEED\",\"title\":\"2026 볼보 XC60 플러그인 하이브리드 중형\",\"url\":\"https://search.naver.com/search.naver?where=nexearch&sm=mob_crc&mra=bjg1&pkid=128&os=36526377&qvt=0&query=2026%20%EB%B3%BC%EB%B3%B4%20XC60%20%ED%94%8C%EB%9F%AC%EA%B7%B8%EC%9D%B8%20%ED%95%98%EC%9D%B4%EB%B8%8C%EB%A6%AC%EB%93%9C\",\"image\":{\"url\":\"https://s.pstatic.net/dthumb.phinf/?src=%22https%3A%2F%2Fimgauto-phinf.pstatic.net%2F20250219_104%2Fauto_1739930376548JwENS_PNG%2F20250219105918_wnkmligg.png%22&type=nf358_179&service=navermain\"},\"desc\":\"2025년 8월\",\"showLiveBadge\":false,\"_id\":\"67a47395d7f79d7b4bc4ec2e\"},{\"@type\":\"MATERIAL-PC-FEED\",\"title\":\"2026 쏘렌토 하이브리드 중형\",\"url\":\"https://search.naver.com/search.naver?where=nexearch&sm=mob_crc&mra=bjg1&pkid=128&os=37250000&qvt=0&query=2026%20%EC%8F%98%EB%A0%8C%ED%86%A0%20%ED%95%98%EC%9D%B4%EB%B8%8C%EB%A6%AC%EB%93%9C\",\"image\":{\"url\":\"https://s.pstatic.net/dthumb.phinf/?src=%22https%3A%2F%2Fimgauto-phinf.pstatic.net%2F20250714_126%2Fauto_1752455053020Qvp1X_PNG%2F20250714100401_Z3S6M6WJ.png%22&type=nf358_179&service=navermain\"},\"desc\":\"2025년 7월\",\"showLiveBadge\":false,\"_id\":\"67a47395d7f79d7b4bc4ec2f\"},{\"@type\":\"MATERIAL-PC-FEED\",\"title\":\"2026 EV6 준중형\",\"url\":\"https://search.naver.com/search.naver?where=nexearch&sm=mob_crc&mra=bjg1&pkid=128&os=37198511&qvt=0&query=2026%20EV6\",\"image\":{\"url\":\"https://s.pstatic.net/dthumb.phinf/?src=%22https%3A%2F%2Fimgauto-phinf.pstatic.net%2F20250701_146%2Fauto_1751331835939GkGbi_PNG%2F20250701100344_YFbm7p4k.png%22&type=nf358_179&service=navermain\"},\"desc\":\"2025년 7월\",\"showLiveBadge\":false,\"_id\":\"67a47395d7f79d7b4bc4ec30\"},{\"@type\":\"MATERIAL-PC-FEED\",\"title\":\"2026 로터스 엘레트라 대형\",\"url\":\"https://search.naver.com/search.naver?where=nexearch&sm=mob_crc&mra=bjg1&pkid=128&os=37250589&qvt=0&query=2026%20%EB%A1%9C%ED%84%B0%EC%8A%A4%20%EC%97%98%EB%A0%88%ED%8A%B8%EB%9D%BC\",\"image\":{\"url\":\"https://s.pstatic.net/dthumb.phinf/?src=%22https%3A%2F%2Fimgauto-phinf.pstatic.net%2F20250714_237%2Fauto_1752471309182kpyCb_PNG%2F20250714143458_CXPmDdvH.png%22&type=nf358_179&service=navermain\"},\"desc\":\"2025년 7월\",\"showLiveBadge\":false,\"_id\":\"67a47395d7f79d7b4bc4ec31\"},{\"@type\":\"MATERIAL-PC-FEED\",\"title\":\"2026 BMW iX M70\",\"url\":\"https://search.naver.com/search.naver?where=nexearch&sm=mob_crc&mra=bjg1&pkid=128&os=36441986&qvt=0&query=2026%20BMW%20iX%20M70\",\"image\":{\"url\":\"https://s.pstatic.net/dthumb.phinf/?src=%22https%3A%2F%2Fimgauto-phinf.pstatic.net%2F20250203_17%2Fauto_1738570582047T5Jcp_PNG%2F20250203171605_I327Amcr.png%22&type=nf358_179&service=navermain\"},\"desc\":\"2025년 8월\",\"showLiveBadge\":false,\"_id\":\"67a47395d7f79d7b4bc4ec32\"},{\"@type\":\"MATERIAL-PC-FEED\",\"title\":\"2026 액티언 중형\",\"url\":\"https://search.naver.com/search.naver?where=nexearch&sm=mob_crc&mra=bjg1&pkid=128&os=37230548&qvt=0&query=2026%20%EC%95%A1%ED%8B%B0%EC%96%B8\",\"image\":{\"url\":\"https://s.pstatic.net/dthumb.phinf/?src=%22https%3A%2F%2Fimgauto-phinf.pstatic.net%2F20250709_94%2Fauto_1752024338763QhvLG_PNG%2F20250709102527_fZsQFUi9.png%22&type=nf358_179&service=navermain\"},\"desc\":\"2025년 7월\",\"showLiveBadge\":false,\"_id\":\"67a47395d7f79d7b4bc4ec33\"},{\"@type\":\"MATERIAL-PC-FEED\",\"title\":\"2026 볼보 S90 플러그인 하이브리드\",\"url\":\"https://search.naver.com/search.naver?where=nexearch&sm=mob_crc&mra=bjg1&pkid=128&os=36793020&qvt=0&query=2026%20%EB%B3%BC%EB%B3%B4%20S90%20%ED%94%8C%EB%9F%AC%EA%B7%B8%EC%9D%B8%20%ED%95%98%EC%9D%B4%EB%B8%8C%EB%A6%AC%EB%93%9C\",\"image\":{\"url\":\"https://s.pstatic.net/dthumb.phinf/?src=%22https%3A%2F%2Fimgauto-phinf.pstatic.net%2F20250702_298%2Fauto_1751416321303I2Yf5_PNG%2F20250702093200_iWo9ZGme.png%22&type=nf358_179&service=navermain\"},\"desc\":\"2025년 7월\",\"showLiveBadge\":false,\"_id\":\"67a47395d7f79d7b4bc4ec34\"},{\"@type\":\"MATERIAL-PC-FEED\",\"title\":\"2026 볼보 S90\",\"url\":\"https://search.naver.com/search.naver?where=nexearch&sm=mob_crc&mra=bjg1&pkid=128&os=36793019&qvt=0&query=2026%20%EB%B3%BC%EB%B3%B4%20S90\",\"image\":{\"url\":\"https://s.pstatic.net/dthumb.phinf/?src=%22https%3A%2F%2Fimgauto-phinf.pstatic.net%2F20250702_249%2Fauto_1751416292798vxLEO_PNG%2F20250702093131_X5qOucSF.png%22&type=nf358_179&service=navermain\"},\"desc\":\"2025년 7월\",\"showLiveBadge\":false,\"_id\":\"67a47395d7f79d7b4bc4ec35\"},{\"@type\":\"MATERIAL-PC-FEED\",\"title\":\"2026 캐스퍼 일렉트릭 소형\",\"url\":\"https://search.naver.com/search.naver?where=nexearch&sm=mob_crc&mra=bjg1&pkid=128&os=37253896&qvt=0&query=2026%20%EC%BA%90%EC%8A%A4%ED%8D%BC%20%EC%9D%BC%EB%A0%89%ED%8A%B8%EB%A6%AD\",\"image\":{\"url\":\"https://s.pstatic.net/dthumb.phinf/?src=%22https%3A%2F%2Fimgauto-phinf.pstatic.net%2F20250715_97%2Fauto_1752556428338ijvpl_PNG%2F20250715141346_f3BYB3Yd.png%22&type=nf358_179&service=navermain\"},\"desc\":\"2025년 7월\",\"showLiveBadge\":false,\"_id\":\"67a47395d7f79d7b4bc4ec36\"},{\"@type\":\"MATERIAL-PC-FEED\",\"title\":\"2026 쉐보레 트랙스 크로스오버 소형\",\"url\":\"https://search.naver.com/search.naver?where=nexearch&sm=mob_crc&mra=bjg1&pkid=128&os=37240730&qvt=0&query=2026%20%EC%89%90%EB%B3%B4%EB%A0%88%20%ED%8A%B8%EB%9E%99%EC%8A%A4%20%ED%81%AC%EB%A1%9C%EC%8A%A4%EC%98%A4%EB%B2%84\",\"image\":{\"url\":\"https://s.pstatic.net/dthumb.phinf/?src=%22https%3A%2F%2Fimgauto-phinf.pstatic.net%2F20250711_205%2Fauto_1752198249478ttwDG_PNG%2F20250711104358_S6XyqXXq.png%22&type=nf358_179&service=navermain\"},\"desc\":\"2025년 7월\",\"showLiveBadge\":false,\"_id\":\"67a47395d7f79d7b4bc4ec37\"},{\"@type\":\"MATERIAL-PC-FEED\",\"title\":\"2026 쏘렌토 중형\",\"url\":\"https://search.naver.com/search.naver?where=nexearch&sm=mob_crc&mra=bjg1&pkid=128&os=37250124&qvt=0&query=2026%20%EC%8F%98%EB%A0%8C%ED%86%A0\",\"image\":{\"url\":\"https://s.pstatic.net/dthumb.phinf/?src=%22https%3A%2F%2Fimgauto-phinf.pstatic.net%2F20250714_12%2Fauto_1752455730948vUJxh_PNG%2F20250714101522_GkR4cH3o.png%22&type=nf358_179&service=navermain\"},\"desc\":\"2025년 7월\",\"showLiveBadge\":false,\"_id\":\"67a47395d7f79d7b4bc4ec38\"},{\"@type\":\"MATERIAL-PC-FEED\",\"title\":\"2026 아이오닉 6 중형\",\"url\":\"https://search.naver.com/search.naver?where=nexearch&sm=mob_crc&mra=bjg1&pkid=128&os=36722107&qvt=0&query=2026%20%EC%95%84%EC%9D%B4%EC%98%A4%EB%8B%89%206\",\"image\":{\"url\":\"https://s.pstatic.net/dthumb.phinf/?src=%22https%3A%2F%2Fimgauto-phinf.pstatic.net%2F20250728_13%2Fauto_17536644065559vGsU_PNG%2F20250728100004_pGClcw2J.png%22&type=nf358_179&service=navermain\"},\"desc\":\"2025년 7월\",\"showLiveBadge\":false,\"_id\":\"67a47395d7f79d7b4bc4ec39\"}],\"excludeInPaging\":false,\"positionForPaging\":0,\"realtime\":false,\"title\":\"요즘 신차\",\"needCologger\":false,\"ad\":false,\"@type\":\"PC-FEED-BLOCK\",\"@code\":\"PC-FEED-CARGAME-NEW-CAR\",\"@template\":\"FOUR-COLUMNS-CAR\"},{\"@type\":\"PC-FEED-BLOCK\",\"materials\":[{\"@type\":\"MATERIAL-PC-FEED\",\"title\":\"이게 페이스리프트 맞아? 완성형 전기차로 돌아온 테슬라 모델Y 주니퍼 목격기\",\"url\":\"https://in.naver.com/illuwa/contents/internal/827398410775744\",\"image\":{\"url\":\"https://s.pstatic.net/dthumb.phinf/?src=%22http%3A%2F%2Fblogfiles.naver.net%2FMjAyNTA1MjJfMzAw%2FMDAxNzQ3OTAxNjIxMjI4.2EtUlFjAsPKjaNpBL9Ppe1C6Lmjsxu_JLtzjLeUiWR8g.1W6M6crGTK1jT194jSfflIz6EPYv6AKJ_ziWwwd2jcIg.JPEG%2FKakaoTalk_20250521_175835815_09.jpg%22&type=ff364_236&service=navermain\"},\"source\":{\"url\":\"https://blog.naver.com/wg0209\",\"name\":\"일루와\",\"image\":{\"url\":\"https://s.pstatic.net/dthumb.phinf/?src=%22http%3A%2F%2Fblogpfthumb.phinf.naver.net%2FMjAyMjA5MzBfMTIz%2FMDAxNjY0NTI3NzU5MTIz.EaKzNpmiO4zBV82IpOw0vWfNets6myoGIItr6DiH534g.-xNQtZTb3ijrW-UPo2deBmZQoZmOXJAModiZtB9nNiog.PNG.wg0209%2FprofileImage.png%22&type=nf40_40&service=navermain\"}},\"showLiveBadge\":false,\"_id\":\"6548800558a9ce6eb3e8a62e\"},{\"@type\":\"MATERIAL-PC-FEED\",\"title\":\"신형 K8 디자인 보자마자 “이건 그랜저도 못 따라간다”\",\"url\":\"https://blog.naver.com/topictree/223941801971\",\"image\":{\"url\":\"https://s.pstatic.net/dthumb.phinf/?src=%22http%3A%2F%2Fblogfiles.naver.net%2FMjAyNTA3MjFfMjk4%2FMDAxNzUzMDg5MjY1NzM0.hHfJlCX13ehb_Pk3z_PST-AkebuCcQfcztFkUXl-EjQg.vs3R5oViXiqEkpGeTsrHqLobkZpY7Xw6NMZlWmBtloMg.JPEG%2FKia-K8-full-change-expected-design-appears-1.jpg%22&type=ff364_236&service=navermain\"},\"source\":{\"url\":\"https://blog.naver.com/topictree\",\"name\":\"토픽트리\",\"image\":{\"url\":\"https://s.pstatic.net/dthumb.phinf/?src=%22http%3A%2F%2Fblogpfthumb.phinf.naver.net%2FMjAyNTAyMjZfMTA2%2FMDAxNzQwNTc0MzEyMDgw.3SzQyjVnajkGcazsD4OIQSRsGEIoapgJ2SrtjLsANcog.ApZ1gRSWa-RuunIfA6o6yDIVxoy-IwAgDf7mlDsSQMkg.PNG%2Flogo_new%2528background%2529.png%2Flogo_new%2528background%2529.png%22&type=nf40_40&service=navermain\"}},\"showLiveBadge\":false,\"_id\":\"6548800558a9ce6eb3e8a62f\"},{\"@type\":\"MATERIAL-PC-FEED\",\"title\":\"\\\"연봉별 현실적인 자동차 추천 리스트\\\"\",\"url\":\"https://blog.naver.com/autocarnic/223878518165\",\"image\":{\"url\":\"https://s.pstatic.net/dthumb.phinf/?src=%22http%3A%2F%2Fblogfiles.naver.net%2FMjAyNTA1MjZfMTM2%2FMDAxNzQ4MjQ4NTEyOTQ0.7K8Q50iO-P52_y5LrdGuzmb1CxwLcVFfNAsuRGYOU24g.8fHpMTVJ-kO5F991yxXPdJ-8beZhNE-qhmTmDNGgKNcg.PNG%2F%EC%A0%9C%EB%AA%A9%EC%9D%84_%EC%9E%85%EB%A0%A5%ED%95%B4%EC%A3%BC%EC%84%B8%EC%9A%94_-001_%2838%29.png%22&type=ff364_236&service=navermain\"},\"source\":{\"url\":\"https://blog.naver.com/autocarnic\",\"name\":\"오프라이더\",\"image\":{\"url\":\"https://s.pstatic.net/dthumb.phinf/?src=%22http%3A%2F%2Fblogpfthumb.phinf.naver.net%2FMjAyMjAyMDJfMjU3%2FMDAxNjQzNzk1MDkxMzM3.odkTPtsh3YcatBrG4LAeZdvTx8m641pS6_fnJAzMSqYg.a2qF-vJFgRIHM1x_XJuNoYoPuqXzjwFmf25lzrjbj7Ug.JPEG.travel3082%2FprofileImage.jpg%22&type=nf40_40&service=navermain\"}},\"showLiveBadge\":false,\"_id\":\"6548800558a9ce6eb3e8a630\"},{\"@type\":\"MATERIAL-PC-FEED\",\"title\":\"현대차 2026년형 싼타페, DCT 포기하고 토크컨버터로 전환하는 이유\",\"url\":\"https://in.naver.com/carbelief/contents/internal/847961062630304\",\"image\":{\"url\":\"https://s.pstatic.net/dthumb.phinf/?src=%22http%3A%2F%2Fblogfiles.naver.net%2FMjAyNTA3MjRfMTA2%2FMDAxNzUzMzIyMzcwODMz.QCyPavHDQOYFMFpVbfvzQd0eKFPI-P0kUqVCFWuGa2Ig.6AFVFdnxqVhLaWIpKYAWgGkv6v4pXlwqq8kFWVOM5BMg.JPEG%2F20240827112348_qWhALZL5_%281%29.jpg%22&type=ff364_236&service=navermain\"},\"source\":{\"url\":\"https://blog.naver.com/carbelief\",\"name\":\"카빌리프\",\"image\":{\"url\":\"https://s.pstatic.net/dthumb.phinf/?src=%22http%3A%2F%2Fblogpfthumb.phinf.naver.net%2FMjAyNTAxMjRfMzcg%2FMDAxNzM3Njg2ODg0NTI1.o9gu4jb3YaTsLbFDR3KzhUGClKI7QBWFvLNm7zl3jUQg.F7l-d5N5Z2e7KGGbll51YqtsdkQXvzosrmw64WYdLxAg.PNG%2F%25EC%25B9%25B4%25EB%25B9%258C%25EB%25A6%25AC%25ED%2594%2584_%25EB%25A1%259C%25EA%25B3%25A0.PNG%2F%25EC%25B9%25B4%25EB%25B9%258C%25EB%25A6%25AC%25ED%2594%2584%2B%25EB%25A1%259C%25EA%25B3%25A0.PNG%22&type=nf40_40&service=navermain\"}},\"showLiveBadge\":false,\"_id\":\"6548800558a9ce6eb3e8a631\"},{\"@type\":\"MATERIAL-PC-FEED\",\"title\":\"“한국산 이제 안 씁니다..” 현대차 선언에 국내 부품업계 ‘초토화’ 위기\",\"url\":\"https://in.naver.com/weolbu/contents/internal/851900698915872\",\"image\":{\"url\":\"https://s.pstatic.net/dthumb.phinf/?src=%22http%3A%2F%2Fblogfiles.naver.net%2FMjAyNTA4MDRfMTc5%2FMDAxNzU0MjgxNjAwOTU2.grFfrFqabu4ju449Wq6QLzC3WNon2HpjhXwBQqVRBuUg.39DS4Y33TC6AuHtOqtqzX30zsrvBglaIbf4SoMKcOaAg.JPEG%2FR658x0.q70-2.jpeg%22&type=ff364_236&service=navermain\"},\"source\":{\"url\":\"https://blog.naver.com/weolbu\",\"name\":\"월급쟁이부자들\",\"image\":{\"url\":\"https://s.pstatic.net/dthumb.phinf/?src=%22http%3A%2F%2Fblogpfthumb.phinf.naver.net%2FMjAyMjA3MDVfMjQ2%2FMDAxNjU2OTkzNDE4MDEx.r2IT2rjnhWDrYBIjxsJc70NGUIxLo0uLYQ3lymEFYTwg.jzQyyItS3tmDh6tWT3CYmqf1Fb3Cfxuo50NuGKjAzzgg.JPEG.weolbu%2FprofileImage.jpg%22&type=nf40_40&service=navermain\"}},\"showLiveBadge\":false,\"_id\":\"6548800558a9ce6eb3e8a632\"},{\"@type\":\"MATERIAL-PC-FEED\",\"title\":\"전동트렁크가 드디어 추가됐네! 2025 토요타 크라운 크로스오버 2.5 하이브리드 리뷰![맨 아래 26MY 시승기도 포함!]\",\"url\":\"https://blog.naver.com/jyi990823/223881876786\",\"image\":{\"url\":\"https://s.pstatic.net/dthumb.phinf/?src=%22http%3A%2F%2Fblogfiles.naver.net%2FMjAyNTA1MjhfMjE4%2FMDAxNzQ4NDI3MDc5MDY3.Iw1UPyGUiERWpODVFvrfKiGEsH1nqNgpljocPOQd040g.BjFUyE25OaMaME5QiGaWFhxFVF8eaLMn95EIc0pAHXkg.JPEG%2F900%EF%BC%BF20250209%EF%BC%BF124032.jpg%22&type=ff364_236&service=navermain\"},\"source\":{\"url\":\"https://blog.naver.com/jyi990823\",\"name\":\"오토샐러드 AutoSalad\",\"image\":{\"url\":\"https://s.pstatic.net/dthumb.phinf/?src=%22http%3A%2F%2Fblogpfthumb.phinf.naver.net%2FMjAyNDEwMTVfMTI2%2FMDAxNzI4OTg5MzI2MjA3.Gdl-IK148QhQBwHk-sBRzTidgVfYDqYiKpOHIRtfEMQg.hgFzGxMKd2yo8KOsU2toJagAdnB4d3gvZe_-f7-tUEkg.JPEG%2FprofileImage.jpg%22&type=nf40_40&service=navermain\"}},\"showLiveBadge\":false,\"_id\":\"6548800558a9ce6eb3e8a633\"},{\"@type\":\"MATERIAL-PC-FEED\",\"title\":\"\\\"그랜저 독주 깨지나?\\\" 르노 SM7 풀체인지 유럽 감성으로 판도 바뀐다!\",\"url\":\"https://in.naver.com/mookhuk1918/contents/internal/847552863499136\",\"image\":{\"url\":\"https://s.pstatic.net/dthumb.phinf/?src=%22http%3A%2F%2Fblogfiles.naver.net%2FMjAyNTA3MjJfOTcg%2FMDAxNzUzMTM3NTM2NTU3.d3LXqtNsQrPbVnJU_mpTNa3EN4fL_vuBwhf7ohGV8Lcg.t01Na0t_xvnPUJU1ur63G6njSRxs-KaC7I1xydLplUsg.PNG%2Fimage.png%22&type=ff364_236&service=navermain\"},\"source\":{\"url\":\"https://blog.naver.com/mookhuk1918\",\"name\":\"무크\",\"image\":{\"url\":\"https://s.pstatic.net/dthumb.phinf/?src=%22http%3A%2F%2Fblogpfthumb.phinf.naver.net%2FMjAyMDA1MDFfMjQ1%2FMDAxNTg4MzE0MzExOTgy.ydTVStfhuPzbjUhjra3JEwsj4y8jjnSGXOxvCeVvZngg.jgY6cJFfr7g8h2piGbvecLeigs-opSmA0zpun270-_Ug.JPEG.mookhuk1918%2FKakaoTalk_20200501_152423404.jpg%22&type=nf40_40&service=navermain\"}},\"showLiveBadge\":false,\"_id\":\"6548800558a9ce6eb3e8a634\"},{\"@type\":\"MATERIAL-PC-FEED\",\"title\":\"제네시스 풀체인지 정말 이렇게 나온다고 ? 전세계가 놀랄만한 컨셉카 디자인 그대로 나온다! 앞으로 출시될 제네시스 G90 카브리올레 와 GV90 까지 미친라인업\",\"url\":\"https://in.naver.com/goodman/contents/internal/849744248595328\",\"image\":{\"url\":\"https://s.pstatic.net/dthumb.phinf/?src=%22http%3A%2F%2Fblogfiles.naver.net%2FMjAyNTA3MjlfMTc1%2FMDAxNzUzNzU3ODY0NDcx.X9VCb27iaYQwSMexCmlqS7uJEPYZbKBJgCTjL-BZdDMg.RLujQ6GO7YLY8gyQVy4GqHlAZ5U6a5PsHQBAgTr3YQ0g.JPEG%2FIMG_0368.jpeg%22&type=ff364_236&service=navermain\"},\"source\":{\"url\":\"https://blog.naver.com/ysh2119\",\"name\":\"굳맨\",\"image\":{\"url\":\"https://s.pstatic.net/dthumb.phinf/?src=%22http%3A%2F%2Fblogpfthumb.phinf.naver.net%2FMjAyMDExMjNfMjEy%2FMDAxNjA2MTEzMTYzNTY4.wwoalNZ3EsoisBFqHXsbXbIZ7nsKQaIX7y7x51jP62wg.fqZhQ5uWiR4uEtfhTWrBYSDOn-0Nq_P3fGThf4rVSI0g.PNG.ysh2119%2F%25EA%25B5%25B3%25EB%25A7%25A8%25ED%258B%25B0%25EB%25B9%2584_%25ED%2594%2584%25EB%25A1%259C%25ED%2595%258402.png%22&type=nf40_40&service=navermain\"}},\"showLiveBadge\":false,\"_id\":\"6548800558a9ce6eb3e8a635\"}],\"excludeInPaging\":false,\"positionForPaging\":0,\"realtime\":false,\"needCologger\":false,\"ad\":false,\"@type\":\"PC-FEED-BLOCK\",\"@code\":\"PC-FEED-CARGAME-MANUAL-3\",\"@template\":\"TWO-COLUMNS\"},{\"@type\":\"PC-FEED-BLOCK\",\"materials\":[{\"@type\":\"MATERIAL-PC-FEED\",\"title\":\"어깨아이싱 냉찜질팩 2만원대에 무료배송까지\",\"url\":\"https://smartstore.naver.com/healthteckorea/products/11012554290\",\"image\":{\"url\":\"https://s.pstatic.net/dthumb.phinf/?src=%22https%3A%2F%2Fs.pstatic.net%2Fshopping.phinf%2F20250725_0%2F54839193-9314-4460-b74d-3fa4a1853e11.jpg%22&type=n222_222&service=navermain\"},\"highlight\":\"핫템추천\",\"filterId\":\"001269\",\"adContentSeq\":\"78673060\",\"bizCdEnumNm\":\"CAR_LIFE\",\"inflowCd\":\"cadcar\",\"showLiveBadge\":false,\"_id\":\"654ad80598c6dbca70ba6c90\"},{\"@type\":\"MATERIAL-PC-FEED\",\"title\":\"병원가긴 애매한 허리통증, 그냥 두시나요?\",\"url\":\"https://brand.naver.com/curble/products/2913554529\",\"image\":{\"url\":\"https://s.pstatic.net/dthumb.phinf/?src=%22https%3A%2F%2Fs.pstatic.net%2Fshopping.phinf%2F20250724_27%2F5dd9af29-f3e0-48de-9128-7270f3c11540.jpg%22&type=n222_222&service=navermain\"},\"highlight\":\"핫템추천\",\"filterId\":\"001269\",\"adContentSeq\":\"78634205\",\"bizCdEnumNm\":\"CAR_LIFE\",\"inflowCd\":\"cadcar\",\"showLiveBadge\":false,\"_id\":\"654ad80598c6dbca70ba6c91\"},{\"@type\":\"MATERIAL-PC-FEED\",\"title\":\"미국 전설의 브랜드, 인디언! 스카우트 바버\",\"url\":\"https://smartstore.naver.com/indianmotorcycle/products/10764949319\",\"image\":{\"url\":\"https://s.pstatic.net/dthumb.phinf/?src=%22https%3A%2F%2Fs.pstatic.net%2Fshopping.phinf%2F20250723_26%2F9c0e7551-4765-4572-bc3c-9b295bf90a2e.jpg%22&type=n222_222&service=navermain\"},\"highlight\":\"19% 할인\",\"filterId\":\"001269\",\"adContentSeq\":\"78512567\",\"bizCdEnumNm\":\"CAR_LIFE\",\"inflowCd\":\"cadcar\",\"showLiveBadge\":false,\"_id\":\"654ad80598c6dbca70ba6c92\"},{\"@type\":\"MATERIAL-PC-FEED\",\"title\":\"11중날 갓성비 와이퍼 리필만 바꾸면 새 거임\",\"url\":\"https://smartstore.naver.com/77mile/products/11944272301\",\"image\":{\"url\":\"https://s.pstatic.net/dthumb.phinf/?src=%22https%3A%2F%2Fs.pstatic.net%2Fshopping.phinf%2F20250724_12%2F05324c33-57da-4e8d-a180-ce0afd069a74.jpg%22&type=n222_222&service=navermain\"},\"highlight\":\"시즌잇템\",\"filterId\":\"001269\",\"adContentSeq\":\"79414439\",\"bizCdEnumNm\":\"CAR_LIFE\",\"inflowCd\":\"cadcar\",\"showLiveBadge\":false,\"_id\":\"654ad80598c6dbca70ba6c93\"},{\"@type\":\"MATERIAL-PC-FEED\",\"title\":\"리퍼브 할인 6,900원\",\"url\":\"https://blackpod.co.kr/product/detail.html?product_no=1027&utm_source=naver&utm_medium=carlife&utm_campaign=&utm_content=blockumb1000&utm_term=blockumb&n_query=blockumb1000&cafe_mkt=ncarlife_a01\",\"image\":{\"url\":\"https://s.pstatic.net/dthumb.phinf/?src=%22https%3A%2F%2Fs.pstatic.net%2Fshopping.phinf%2F20250721_14%2Fe4c8d30e-d24a-4fdf-9cd0-37368db2a63d.jpg%22&type=n222_222&service=navermain\"},\"highlight\":\"76% 할인\",\"filterId\":\"001269\",\"adContentSeq\":\"79377006\",\"bizCdEnumNm\":\"CAR_LIFE\",\"inflowCd\":\"cadcar\",\"showLiveBadge\":false,\"_id\":\"654ad80598c6dbca70ba6c94\"},{\"@type\":\"MATERIAL-PC-FEED\",\"title\":\"차가 부러워하는 커스텀 키케이스\",\"url\":\"https://smartstore.naver.com/objectmmm/products/8248227809\",\"image\":{\"url\":\"https://s.pstatic.net/dthumb.phinf/?src=%22https%3A%2F%2Fs.pstatic.net%2Fshopping.phinf%2Fmain_8579272%2F85792728132.3.jpg%3Ftype%3Df500%22&type=n222_222&service=navermain\"},\"highlight\":\"20% 할인\",\"filterId\":\"001269\",\"adContentSeq\":\"78524148\",\"bizCdEnumNm\":\"CAR_LIFE\",\"inflowCd\":\"cadcar\",\"showLiveBadge\":false,\"_id\":\"654ad80598c6dbca70ba6c95\"},{\"@type\":\"MATERIAL-PC-FEED\",\"title\":\"강력한 무선 스크류 드라이버 힐티\",\"url\":\"https://brand.naver.com/hilti/products/11092116340\",\"image\":{\"url\":\"https://s.pstatic.net/dthumb.phinf/?src=%22https%3A%2F%2Fs.pstatic.net%2Fshopping.phinf%2F20250722_25%2F957f6956-5d1e-4142-bee6-c97bf54cc18e.jpg%22&type=n222_222&service=navermain\"},\"highlight\":\"23% 할인\",\"filterId\":\"001271\",\"adContentSeq\":\"78380962\",\"bizCdEnumNm\":\"CAR_LIFE\",\"inflowCd\":\"cadspo\",\"showLiveBadge\":false,\"_id\":\"654ad80598c6dbca70ba6c96\"},{\"@type\":\"MATERIAL-PC-FEED\",\"title\":\"에어팟 프로 4 노이즈캔슬링 쿠폰가 세일!\",\"url\":\"https://link.gmarket.co.kr/gate/channel?sub-id=50011&service-code=10012000&target-url=https%3A%2F%2Fm.gmarket.co.kr%2Fvi%2Fproduct%2F4369617856&inventory-seq=44042\",\"image\":{\"url\":\"https://s.pstatic.net/dthumb.phinf/?src=%22https%3A%2F%2Fs.pstatic.net%2Fshopping.phinf%2F20250730_16%2F8b2507e4-9227-4661-9ba5-fde3f230d6e8.jpg%22&type=n222_222&service=navermain\"},\"highlight\":\"핫템추천\",\"filterId\":\"001271\",\"adContentSeq\":\"79272296\",\"bizCdEnumNm\":\"CAR_LIFE\",\"inflowCd\":\"cadspo\",\"showLiveBadge\":false,\"_id\":\"654ad80598c6dbca70ba6c97\"},{\"@type\":\"MATERIAL-PC-FEED\",\"title\":\"차량용 면도기의 정석 필립스 컴팩트프로 출시\",\"url\":\"https://brand.naver.com/philips/products/12025657190\",\"image\":{\"url\":\"https://s.pstatic.net/dthumb.phinf/?src=%22https%3A%2F%2Fs.pstatic.net%2Fshopping.phinf%2F20250723_9%2F1f9ad914-166e-4362-a29b-4bf1fc3b7540.jpg%22&type=n222_222&service=navermain\"},\"highlight\":\"핫템추천\",\"filterId\":\"001271\",\"adContentSeq\":\"78540477\",\"bizCdEnumNm\":\"CAR_LIFE\",\"inflowCd\":\"cadspo\",\"showLiveBadge\":false,\"_id\":\"654ad80598c6dbca70ba6c98\"},{\"@type\":\"MATERIAL-PC-FEED\",\"title\":\"테이프 없이 간단하게 부착 가능한 주차번호판\",\"url\":\"https://smartstore.naver.com/amiti/products/12085549450\",\"image\":{\"url\":\"https://s.pstatic.net/dthumb.phinf/?src=%22https%3A%2F%2Fs.pstatic.net%2Fshopping.phinf%2F20250722_26%2F0d23700f-98d7-4b8f-b007-04a29c79c66c.jpg%22&type=n222_222&service=navermain\"},\"highlight\":\"핫템추천\",\"filterId\":\"001271\",\"adContentSeq\":\"78408289\",\"bizCdEnumNm\":\"CAR_LIFE\",\"inflowCd\":\"cadspo\",\"showLiveBadge\":false,\"_id\":\"654ad80598c6dbca70ba6c99\"},{\"@type\":\"MATERIAL-PC-FEED\",\"title\":\"딱 하나 바꿨는데 전기세 아꼈어요!\",\"url\":\"https://brand.naver.com/curble/products/202880442\",\"image\":{\"url\":\"https://s.pstatic.net/dthumb.phinf/?src=%22https%3A%2F%2Fs.pstatic.net%2Fshopping.phinf%2F20250724_0%2F5148b6fb-8d8b-4b07-926c-2d92daf15724.jpg%22&type=n222_222&service=navermain\"},\"highlight\":\"시즌잇템\",\"filterId\":\"001271\",\"adContentSeq\":\"78631335\",\"bizCdEnumNm\":\"CAR_LIFE\",\"inflowCd\":\"cadspo\",\"showLiveBadge\":false,\"_id\":\"654ad80598c6dbca70ba6c9a\"},{\"@type\":\"MATERIAL-PC-FEED\",\"title\":\"눕는 순간 헉소리 나는 차원이 다른 시원함\",\"url\":\"https://brand.naver.com/curble/products/6767149332\",\"image\":{\"url\":\"https://s.pstatic.net/dthumb.phinf/?src=%22https%3A%2F%2Fs.pstatic.net%2Fshopping.phinf%2F20250724_12%2Fd522e4c1-8d6c-4125-b94e-f2ec911b4052.jpg%22&type=n222_222&service=navermain\"},\"highlight\":\"시선집중\",\"filterId\":\"001271\",\"adContentSeq\":\"78631375\",\"bizCdEnumNm\":\"CAR_LIFE\",\"inflowCd\":\"cadspo\",\"showLiveBadge\":false,\"_id\":\"654ad80598c6dbca70ba6c9b\"},{\"@type\":\"MATERIAL-PC-FEED\",\"title\":\"먹고살기도 힘든데 무거운 버킷세차 그만해..\",\"url\":\"https://smartstore.naver.com/inwrap/products/11923678100\",\"image\":{\"url\":\"https://s.pstatic.net/dthumb.phinf/?src=%22https%3A%2F%2Fs.pstatic.net%2Fshopping.phinf%2Fmain_8946818%2F89468188788.2.jpg%3Ftype%3Df500%22&type=n222_222&service=navermain\"},\"highlight\":\"시선집중\",\"filterId\":\"001270\",\"adContentSeq\":\"79175127\",\"bizCdEnumNm\":\"CAR_LIFE\",\"inflowCd\":\"cadacc\",\"showLiveBadge\":false,\"_id\":\"654ad80598c6dbca70ba6c9c\"},{\"@type\":\"MATERIAL-PC-FEED\",\"title\":\"앞유리가 없는 줄 알았대요!\",\"url\":\"https://smartstore.naver.com/benauto/products/8285482174\",\"image\":{\"url\":\"https://s.pstatic.net/dthumb.phinf/?src=%22https%3A%2F%2Fs.pstatic.net%2Fshopping.phinf%2F20250701_26%2Fafc2dcab-036a-4bb8-8865-36cd9bfc33ac.jpg%22&type=n222_222&service=navermain\"},\"highlight\":\"시즌잇템\",\"filterId\":\"001270\",\"adContentSeq\":\"78631389\",\"bizCdEnumNm\":\"CAR_LIFE\",\"inflowCd\":\"cadacc\",\"showLiveBadge\":false,\"_id\":\"654ad80598c6dbca70ba6c9d\"},{\"@type\":\"MATERIAL-PC-FEED\",\"title\":\"에르메스 가죽에 내가 원하는 컬러!\",\"url\":\"https://smartstore.naver.com/objectmmm/products/8470829941\",\"image\":{\"url\":\"https://s.pstatic.net/dthumb.phinf/?src=%22https%3A%2F%2Fs.pstatic.net%2Fshopping.phinf%2F20250707_28%2Fcf956da5-4e7c-4720-ab6c-99aac6a76cc9.jpg%22&type=n222_222&service=navermain\"},\"highlight\":\"시선집중\",\"filterId\":\"001270\",\"adContentSeq\":\"78524150\",\"bizCdEnumNm\":\"CAR_LIFE\",\"inflowCd\":\"cadacc\",\"showLiveBadge\":false,\"_id\":\"654ad80598c6dbca70ba6c9e\"},{\"@type\":\"MATERIAL-PC-FEED\",\"title\":\"계곡? 바닷가? 아빠가 튜브 다 만들어줄게!\",\"url\":\"https://smartstore.naver.com/main/products/10738125998\",\"image\":{\"url\":\"https://s.pstatic.net/dthumb.phinf/?src=%22https%3A%2F%2Fs.pstatic.net%2Fshopping.phinf%2F20250731_18%2F38112fdc-4db0-4fd2-8c28-fd7464ad3c58.jpg%22&type=n222_222&service=navermain\"},\"highlight\":\"핫템추천\",\"filterId\":\"001270\",\"adContentSeq\":\"79414448\",\"bizCdEnumNm\":\"CAR_LIFE\",\"inflowCd\":\"cadacc\",\"showLiveBadge\":false,\"_id\":\"654ad80598c6dbca70ba6c9f\"},{\"@type\":\"MATERIAL-PC-FEED\",\"title\":\"제발 비싼 돈 주고 와이퍼 사지 마!\",\"url\":\"https://blackpod.co.kr/product/detail.html?product_no=626&utm_source=naver&utm_medium=carlife&utm_campaign=&utm_content=new0000&utm_term=new&n_query=new0000&cafe_mkt=ncarlife_a03\",\"image\":{\"url\":\"https://s.pstatic.net/dthumb.phinf/?src=%22https%3A%2F%2Fs.pstatic.net%2Fshopping.phinf%2F20250617_12%2F253974f9-4a11-4038-a4e4-0db5f374f8b6.jpg%22&type=n222_222&service=navermain\"},\"highlight\":\"75% 할인\",\"filterId\":\"001270\",\"adContentSeq\":\"78287688\",\"bizCdEnumNm\":\"CAR_LIFE\",\"inflowCd\":\"cadacc\",\"showLiveBadge\":false,\"_id\":\"654ad80598c6dbca70ba6ca0\"},{\"@type\":\"MATERIAL-PC-FEED\",\"title\":\"놀라운 발견! 여름 필수 아이템 보냉컵홀더\",\"url\":\"https://smartstore.naver.com/fouringmall/products/3872689446\",\"image\":{\"url\":\"https://s.pstatic.net/dthumb.phinf/?src=%22https%3A%2F%2Fs.pstatic.net%2Fshopping.phinf%2Fmain_8141720%2F81417209459.4.jpg%3Ftype%3Df500%22&type=n222_222&service=navermain\"},\"highlight\":\"시즌잇템\",\"filterId\":\"001270\",\"adContentSeq\":\"78390082\",\"bizCdEnumNm\":\"CAR_LIFE\",\"inflowCd\":\"cadacc\",\"showLiveBadge\":false,\"_id\":\"654ad80598c6dbca70ba6ca1\"}],\"excludeInPaging\":false,\"positionForPaging\":0,\"realtime\":false,\"title\":\"자동차 쇼핑 아이템\",\"filterList\":[{\"id\":\"001269\",\"name\":\"CAR&LIFE\",\"defaultType\":false},{\"id\":\"001271\",\"name\":\"취미&라이프\",\"defaultType\":false},{\"id\":\"001270\",\"name\":\"자동차용품\",\"defaultType\":false}],\"needCologger\":true,\"ad\":true,\"@type\":\"PC-FEED-BLOCK\",\"@code\":\"PC-FEED-CARGAME-AUTO-ITEM\",\"@template\":\"SIX-COLUMNS\"},{\"@type\":\"PC-FEED-BLOCK\",\"materials\":[{\"@type\":\"MATERIAL-PC-FEED\",\"title\":\"\\\"스포티지급 지프 등장\\\" 전기차부터 하이브리드까지 풀라인업 확보!\",\"url\":\"https://in.naver.com/daki/contents/internal/847691271574560\",\"image\":{\"url\":\"https://s.pstatic.net/dthumb.phinf/?src=%22http%3A%2F%2Fblogfiles.naver.net%2FMjAyNTA3MjNfMTE2%2FMDAxNzUzMjU2NjIzODA5.aa13GbNZTqPdpUHmHkNkTR4qIbgrw5sBtnKsedjWyycg.nJ86Th9VPLg4tJqTDDwKjUqsJb2aREIMhLkH6zcnm-Ag.JPEG%2F%EF%A7%9E%EF%BF%BD%EF%BF%BD%EB%B4%BD_%E8%80%8C%EB%8C%84%EB%99%A3%EF%BF%BD%EB%92%AA_4xe_%EF%BF%BD%EF%BF%BD_STLA_%E8%AA%98%EB%AA%83%EB%B5%92%EF%BF%BD%EB%BE%BC_%EF%BF%BD%EF%BF%BD_%EF%BF%BD%EC%9F%BE%E6%B9%B2%EF%BF%BD_SUV_%EF%BF%BD%EF%BF%BD_%EF%BF%BD%EC%82%A4%EF%BF%BD%EB%B4%BD%E6%BF%A1%EC%92%95%EB%B1%B6_%EF%BF%BD%EF%BF%BD_%EF%BF%BD%EC%91%80%EF%BF%BD%EC%9D%87_%EF%BF%BD%EC%9F%BE%EF%BF%BD%EC%99%82_%EF%BF%BD%EF%BF%BD_%E6%80%A8%EC%A2%89%EC%BB%AF%EF%BF%BD%EB%A3%84_%EF%BF%BD%EC%94%A4%EF%BF%BD%EB%80%92%E7%94%B1%D1%8A%EB%BC%B1_%EF%BF%BD%EF%BF%BD_PHEV_%EF%BF%BD%EF%BF%BD_%E8%80%8C%EB%8C%84%EB%99%A5%EF%BF%BD%EB%93%83_SUV-2.jpg%22&type=ff364_236&service=navermain\"},\"source\":{\"url\":\"https://blog.naver.com/carderra\",\"name\":\"DAKI\",\"image\":{\"url\":\"https://s.pstatic.net/dthumb.phinf/?src=%22http%3A%2F%2Fblogpfthumb.phinf.naver.net%2FMjAyNTAxMTZfMjU4%2FMDAxNzM3MDM1MTk4NDA3.MJ_-iEM0UJn-b092qfZVckQ7pDwXh6TywYjhjdsNZ-Eg.9HEyhyeRsIlkX5N9JnS9ELMFXBE7sf4d7riDgVV9xY4g.PNG%2F%25EB%258B%25A4%25ED%2582%25A4%25EB%25A1%259C%25EA%25B3%25A0.png%2F%25EB%258B%25A4%25ED%2582%25A4%25EB%25A1%259C%25EA%25B3%25A0.png%22&type=nf40_40&service=navermain\"}},\"showLiveBadge\":false,\"_id\":\"654ad80598c6dbca70ba6ca2\"},{\"@type\":\"MATERIAL-PC-FEED\",\"title\":\"“하이브리드 끝판왕” 50대 남성들 몰리는 수입차, 렉서스 'ES 300h' 이유가 뭘까?\",\"url\":\"https://blog.naver.com/topictree/223920727013\",\"image\":{\"url\":\"https://s.pstatic.net/dthumb.phinf/?src=%22http%3A%2F%2Fblogfiles.naver.net%2FMjAyNTA3MDNfMTM1%2FMDAxNzUxNTMyMzc1MTE0.I1fxNN9QkPJGyb4BJ7EpnMnElaKSC6EqkoPIqnoRrVIg.gkCCDdQeaRM-tPd8POATiBu0hTXKIgS39SH96y0UPIMg.JPEG%2FLexus-ES-300h-Hybrid-Market-Popularity-3.jpg%22&type=ff364_236&service=navermain\"},\"source\":{\"url\":\"https://blog.naver.com/topictree\",\"name\":\"토픽트리\",\"image\":{\"url\":\"https://s.pstatic.net/dthumb.phinf/?src=%22http%3A%2F%2Fblogpfthumb.phinf.naver.net%2FMjAyNTAyMjZfMTA2%2FMDAxNzQwNTc0MzEyMDgw.3SzQyjVnajkGcazsD4OIQSRsGEIoapgJ2SrtjLsANcog.ApZ1gRSWa-RuunIfA6o6yDIVxoy-IwAgDf7mlDsSQMkg.PNG%2Flogo_new%2528background%2529.png%2Flogo_new%2528background%2529.png%22&type=nf40_40&service=navermain\"}},\"showLiveBadge\":false,\"_id\":\"654ad80598c6dbca70ba6ca3\"},{\"@type\":\"MATERIAL-PC-FEED\",\"title\":\"'1시간에 29만 대' 팔렸다는 SUV, \\\"대기 12개월 걸린다고?\\\"\",\"url\":\"https://in.naver.com/car_together/contents/internal/851972029383712\",\"image\":{\"url\":\"https://s.pstatic.net/dthumb.phinf/?src=%22http%3A%2F%2Fblogfiles.naver.net%2FMjAyNTA4MDRfMTYz%2FMDAxNzU0MjgxMzc2NjA0.TIcvF3n4x9EV9dgLCSEcndW0gJ_U0w4ItiaiWuF7Dq0g.Cpt3n6PTwXWLc-6Hf-w4PiOMK5e7ckuZC27Cl1LgCOQg.PNG%2F6.png%22&type=ff364_236&service=navermain\"},\"source\":{\"url\":\"https://blog.naver.com/car__together\",\"name\":\"차가치\",\"image\":{\"url\":\"https://s.pstatic.net/dthumb.phinf/?src=%22http%3A%2F%2Fblogpfthumb.phinf.naver.net%2FMjAyNDExMDRfMjYy%2FMDAxNzMwNjc3ODE2OTA3.RVxWL0MGoddXlP9kp79YMBc1RX-W63phab-A5Xvuapkg.BMDHB0N4j53Vl8zkIvhLD6vw-hkdrt3xY3aZE-A8_Ecg.JPEG%2F%25EC%25B0%25A8%25EA%25B0%2580%25EC%25B9%2598.jpg%2F%25EC%25B0%25A8%25EA%25B0%2580%25EC%25B9%2598.jpg%22&type=nf40_40&service=navermain\"}},\"showLiveBadge\":false,\"_id\":\"654ad80598c6dbca70ba6ca4\"},{\"@type\":\"MATERIAL-PC-FEED\",\"title\":\"125cc 오토바이 혼다 몽키125 인기 있는 미니 바이크\",\"url\":\"https://in.naver.com/bikenmusic/contents/internal/826927295950208\",\"image\":{\"url\":\"https://s.pstatic.net/dthumb.phinf/?src=%22http%3A%2F%2Fblogfiles.naver.net%2FMjAyNTA1MjVfMjMw%2FMDAxNzQ4MTgyNTA4NjM1.NNDsCbYPMtim0xq-BBsCvGY3-j5FD1UVgehEcmpVE-og.bO00mphxxumJ7y09fYOSg2nzZ_awx67WFPo0NEH-wCUg.JPEG%2F20250317_155424.jpg%22&type=ff364_236&service=navermain\"},\"source\":{\"url\":\"https://blog.naver.com/ichthu\",\"name\":\"쌍둥아빠\",\"image\":{\"url\":\"https://s.pstatic.net/dthumb.phinf/?src=%22http%3A%2F%2Fblogpfthumb.phinf.naver.net%2FMjAyMjA4MzFfNDQg%2FMDAxNjYxODg0MzI0NTcw.EYVyake1YimlhxnRtotpI1O4wQfysg_uJPct8GxoAeQg.i6-lHTz8MZ75uhNhKHcCFDq-loiMw7WSXuVcxnsu6D0g.JPEG.ichthu%2FprofileImage.jpg%22&type=nf40_40&service=navermain\"}},\"showLiveBadge\":false,\"_id\":\"654ad80598c6dbca70ba6ca5\"},{\"@type\":\"MATERIAL-PC-FEED\",\"title\":\"\\\"영국 감성 + 폭발적 성능\\\" 배우 조진웅이 타는 차로 포착! 하이퍼 SUV '엘레트라'는 어떤 차일까\",\"url\":\"https://blog.naver.com/motoroidkorea/223950106226\",\"image\":{\"url\":\"https://s.pstatic.net/dthumb.phinf/?src=%22http%3A%2F%2Fblogfiles.naver.net%2FMjAyNTA3MjhfMyAg%2FMDAxNzUzNjkyMzY2ODIw.UrnovX73Oyto17pQ7Zj9gVul0fgkj6Cx1jGcLuzREwwg.lHm6Bwgz9QP431apOp6g3ysRKQw8kTAMTPOAOqiIdBUg.JPEG%2Fw11.jpg%22&type=ff364_236&service=navermain\"},\"source\":{\"url\":\"https://blog.naver.com/motoroidkorea\",\"name\":\"모터로이드\",\"image\":{\"url\":\"https://s.pstatic.net/dthumb.phinf/?src=%22http%3A%2F%2Fblogpfthumb.phinf.naver.net%2FMjAyNTAzMDRfMTQ5%2FMDAxNzQxMDc2NDY0MzMy.3qVzoTPk2io2fPzILLyTTDmtVVa2Xv-qY3B2xigMb-Ug.p25ScihpGWcB3_GEp70_SXpmLWzXSpWv0JxA2KNhx0Ug.JPEG%2FMOTOROID.jpg%2FMOTOROID.jpg%22&type=nf40_40&service=navermain\"}},\"showLiveBadge\":false,\"_id\":\"654ad80598c6dbca70ba6ca6\"},{\"@type\":\"MATERIAL-PC-FEED\",\"title\":\"\\\"5,970만원 실화냐!\\\" BMW 5시리즈 풀체인지 520i 실구매가에 E클 계약 취소?\",\"url\":\"https://in.naver.com/totoma99/contents/internal/851880550007904\",\"image\":{\"url\":\"https://s.pstatic.net/dthumb.phinf/?src=%22http%3A%2F%2Fblogfiles.naver.net%2FMjAyNTA4MDRfNjAg%2FMDAxNzU0MjY1MDA4MDc4.S11ugKBTWzBh6ePtY0zv8ut6APBzTFirqqhIHTLHbsEg.ubLeNiIdjB5mPNMC1nskNdftd0RSE4vrWvvkFi_6e5wg.JPEG%2F4.jpg%22&type=ff364_236&service=navermain\"},\"source\":{\"url\":\"https://blog.naver.com/totoma99\",\"name\":\"카타임\",\"image\":{\"url\":\"https://s.pstatic.net/dthumb.phinf/?src=%22http%3A%2F%2Fblogpfthumb.phinf.naver.net%2FMjAyMzExMDdfMTk3%2FMDAxNjk5MzA2MjMzODY1.xqWLf8TAdRGzSYlnrgYvAD0P82EvM6i9WpKQskxd15og.Gj2NnXxngt1UCH0hSF3UBig2crQwYzvm3Ph-DFxnM-og.JPEG.totoma99%2FprofileImage.jpg%22&type=nf40_40&service=navermain\"}},\"showLiveBadge\":false,\"_id\":\"654ad80598c6dbca70ba6ca7\"},{\"@type\":\"MATERIAL-PC-FEED\",\"title\":\"\\\"전기차 좋다더니 아무도 안 산다!\\\" 수출 88% 급감... 멈춘 생산라인\",\"url\":\"https://in.naver.com/daki/contents/internal/847739869480128\",\"image\":{\"url\":\"https://s.pstatic.net/dthumb.phinf/?src=%22http%3A%2F%2Fblogfiles.naver.net%2FMjAyNTA3MjNfMTY2%2FMDAxNzUzMjU3MTM1NTM5.2H8FYdOo2HlYz14qxPqcpRD9cmKLCsi9o6g0_nfuW10g.-AGU3c-Pc6JB01Sx865UutuKGos2rinPM5BVc4SQ-uIg.JPEG%2Fimgi_5_%E6%B9%B2%EA%B3%97%EB%B8%98-%EF%BF%BD%EB%81%82%E8%AD%B0%EF%BF%BD-%EF%BF%BD%EC%97%AB%EF%BF%BD%EB%96%92%EF%BF%BD%EC%82%8A-2%EF%A7%A1%EF%BF%BD-%EF%BF%BD%EB%B9%80%EF%BF%BD%EC%93%BD%EF%BF%BD%EB%B8%9E-%E8%87%BE%EB%8C%80%ED%85%87%E6%B4%B9%EF%BF%BD-%EF%BF%BD%EC%97%AB%E6%B9%B2%EF%BF%BD-%EF%BF%BD%EC%82%8A%EF%BF%BD%EA%B8%BD-%E7%95%B0%EC%92%96%EA%B6%9B%EF%BF%BD%EC%91%95%E5%AA%9B%EF%BF%BD-%EF%BF%BD%EB%96%8A%EF%BF%BD%EC%97%AF%EF%BF%BD%EA%B6%97%EF%BF%BD%EC%8D%9D-%EF%A7%A2%EA%BE%A9%EC%8A%9C-1.jpg%22&type=ff364_236&service=navermain\"},\"source\":{\"url\":\"https://blog.naver.com/carderra\",\"name\":\"DAKI\",\"image\":{\"url\":\"https://s.pstatic.net/dthumb.phinf/?src=%22http%3A%2F%2Fblogpfthumb.phinf.naver.net%2FMjAyNTAxMTZfMjU4%2FMDAxNzM3MDM1MTk4NDA3.MJ_-iEM0UJn-b092qfZVckQ7pDwXh6TywYjhjdsNZ-Eg.9HEyhyeRsIlkX5N9JnS9ELMFXBE7sf4d7riDgVV9xY4g.PNG%2F%25EB%258B%25A4%25ED%2582%25A4%25EB%25A1%259C%25EA%25B3%25A0.png%2F%25EB%258B%25A4%25ED%2582%25A4%25EB%25A1%259C%25EA%25B3%25A0.png%22&type=nf40_40&service=navermain\"}},\"showLiveBadge\":false,\"_id\":\"654ad80598c6dbca70ba6ca8\"},{\"@type\":\"MATERIAL-PC-FEED\",\"title\":\"제네시스 GV80 풀체인지 : 하이브리드, 가격, 시기 총정리\",\"url\":\"https://in.naver.com/softengine/contents/internal/852281784222784\",\"image\":{\"url\":\"https://s.pstatic.net/dthumb.phinf/?src=%22http%3A%2F%2Fblogfiles.naver.net%2FMjAyNTA2MDNfMTcz%2FMDAxNzQ4OTMyNjQzMTI0.8I_gfM6-BAtUysL0rAtky15zFKPEPzn2yj7q_ZIUvyAg.tYb2DfO3P2rTpKenu4tGe6xOPea20FkcDcmxQmRrgzUg.PNG%2F2026_%EC%A0%9C%EB%84%A4%EC%8B%9C%EC%8A%A4_GV80_%EC%99%84%EC%A0%84_%EB%B6%84%EC%84%9D_%EB%94%94%EC%9E%90%EC%9D%B8_%EB%B3%80%ED%99%94%EB%B6%80%ED%84%B0_%EC%84%B1%EB%8A%A5%EA%B9%8C%EC%A7%80%2C_%EC%9D%B4_SUV%EB%8A%94_%EB%8B%A4%EB%A5%B4%EB%8B%A4_1-1_screenshot.png%22&type=ff364_236&service=navermain\"},\"source\":{\"url\":\"https://blog.naver.com/whdgus9640\",\"name\":\"소프트엔진\",\"image\":{\"url\":\"https://s.pstatic.net/dthumb.phinf/?src=%22http%3A%2F%2Fblogpfthumb.phinf.naver.net%2FMjAxNzA5MThfMjE4%2FMDAxNTA1NzQzNTg2MzEz.H4wQh1ozFHnpqisRQTf1Sl_87jeR1yVJi4iEtmSERSog.M-DCXXWHJ7Oa0t2Z7tzivwwhEJ_lxiePAxbHYj5H554g.JPEG.whdgus9640%2FprofileImage.jpg%22&type=nf40_40&service=navermain\"}},\"showLiveBadge\":false,\"_id\":\"654ad80598c6dbca70ba6ca9\"}],\"excludeInPaging\":false,\"positionForPaging\":0,\"realtime\":false,\"needCologger\":false,\"ad\":false,\"@type\":\"PC-FEED-BLOCK\",\"@code\":\"PC-FEED-CARGAME-BEST-CONTENTS\",\"@template\":\"TWO-COLUMNS\"}],\"materials\":null,\"excludeInPaging\":false,\"positionForPaging\":0,\"realtime\":false,\"_id\":null,\"@type\":\"BLOCK\",\"@code\":\"PC-FEED-CARGAME\",\"@template\":\"NONE\",\"@flowId\":null,\"@flowExecutionId\":null,\"@provider\":null,\"@lastModifiedAt\":null}],\"materials\":null,\"excludeInPaging\":false,\"positionForPaging\":0,\"realtime\":false,\"_id\":\"6441ca92a10d3006855f9acd\",\"@type\":\"BLOCK\",\"@code\":\"PC-FEED-WRAPPER\",\"@template\":\"PC-FEED-WRAPPER\",\"@flowId\":\"PC-FEED-WRAPPER\",\"@flowExecutionId\":\"9aadf669-72be-11f0-bbe0-958059adec20\",\"@provider\":\"lambda\",\"@lastModifiedAt\":[2025,8,6,12,12,21,829000000]}\n",
      "window[\"EAGER-DATA\"][\"CAS-MINICONTENT-PC-SPECIAL-LOGO\"] = {\"@type\":\"MINI-CONTENT-BLOCK\",\"blocks\":null,\"materials\":null,\"excludeInPaging\":false,\"positionForPaging\":0,\"realtime\":false,\"items\":[],\"_id\":\"6433d8e3a10d3006850274e8\",\"@type\":\"MINI-CONTENT-BLOCK\",\"@code\":\"CAS-MINICONTENT-PC-SPECIAL-LOGO\",\"@template\":\"NONE\",\"@flowId\":\"CAS-MINICONTENT\",\"@flowExecutionId\":\"81a4818c-72be-11f0-bbe0-b5d9db383eae\",\"@provider\":\"lambda\",\"@lastModifiedAt\":[2025,8,6,12,11,39,326000000]}\n",
      "window[\"EAGER-DATA\"][\"PC-MEDIA-WRAPPER\"] = {\"@type\":\"PC-MEDIA-CONTENTS-BLOCK\",\"blocks\":[{\"@type\":\"BLOCK\",\"blocks\":[{\"@type\":\"PC-NEWSSTAND-BLOCK\",\"blocks\":[{\"@type\":\"PC-NEWSSTAND-PRESS-BLOCK\",\"blocks\":null,\"materials\":null,\"excludeInPaging\":false,\"positionForPaging\":0,\"realtime\":false,\"pid\":\"907\",\"name\":\"경북매일신문\",\"logoLight\":{\"url\":\"https://s.pstatic.net/static/newsstand/2020/logo/light/0604/907.png\"},\"logoDark\":{\"url\":\"https://s.pstatic.net/static/newsstand/2020/logo/dark/0604/907.png\"},\"showThumbnailView\":true,\"showListView\":true,\"regDate\":\"20250806 20:30:42\",\"_id\":null,\"@type\":\"PC-NEWSSTAND-PRESS-BLOCK\",\"@code\":null,\"@template\":\"NONE\",\"@flowId\":null,\"@flowExecutionId\":null,\"@provider\":null,\"@lastModifiedAt\":null},{\"@type\":\"PC-NEWSSTAND-PRESS-BLOCK\",\"blocks\":null,\"materials\":null,\"excludeInPaging\":false,\"positionForPaging\":0,\"realtime\":false,\"pid\":\"908\",\"name\":\"국방일보\",\"logoLight\":{\"url\":\"https://s.pstatic.net/static/newsstand/2020/logo/light/0604/908.png\"},\"logoDark\":{\"url\":\"https://s.pstatic.net/static/newsstand/2020/logo/dark/0604/908.png\"},\"showThumbnailView\":true,\"showListView\":true,\"regDate\":\"20250806 17:34:02\",\"_id\":null,\"@type\":\"PC-NEWSSTAND-PRESS-BLOCK\",\"@code\":null,\"@template\":\"NONE\",\"@flowId\":null,\"@flowExecutionId\":null,\"@provider\":null,\"@lastModifiedAt\":null},{\"@type\":\"PC-NEWSSTAND-PRESS-BLOCK\",\"blocks\":null,\"materials\":null,\"excludeInPaging\":false,\"positionForPaging\":0,\"realtime\":false,\"pid\":\"909\",\"name\":\"기호일보\",\"logoLight\":{\"url\":\"https://s.pstatic.net/static/newsstand/2020/logo/light/0604/909.png\"},\"logoDark\":{\"url\":\"https://s.pstatic.net/static/newsstand/2020/logo/dark/0604/909.png\"},\"showThumbnailView\":true,\"showListView\":true,\"regDate\":\"20250806 21:01:06\",\"_id\":null,\"@type\":\"PC-NEWSSTAND-PRESS-BLOCK\",\"@code\":null,\"@template\":\"NONE\",\"@flowId\":null,\"@flowExecutionId\":null,\"@provider\":null,\"@lastModifiedAt\":null},{\"@type\":\"PC-NEWSSTAND-PRESS-BLOCK\",\"blocks\":null,\"materials\":null,\"excludeInPaging\":false,\"positionForPaging\":0,\"realtime\":false,\"pid\":\"353\",\"name\":\"중앙SUNDAY\",\"logoLight\":{\"url\":\"https://s.pstatic.net/static/newsstand/up/2025/0418/nsd181433494.png\"},\"logoDark\":{\"url\":\"https://s.pstatic.net/static/newsstand/up/2025/0418/nsd181453897.png\"},\"showThumbnailView\":true,\"showListView\":true,\"regDate\":\"20250806 13:57:40\",\"_id\":null,\"@type\":\"PC-NEWSSTAND-PRESS-BLOCK\",\"@code\":null,\"@template\":\"NONE\",\"@flowId\":null,\"@flowExecutionId\":null,\"@provider\":null,\"@lastModifiedAt\":null},{\"@type\":\"PC-NEWSSTAND-PRESS-BLOCK\",\"blocks\":null,\"materials\":null,\"excludeInPaging\":false,\"positionForPaging\":0,\"realtime\":false,\"pid\":\"354\",\"name\":\"엘르\",\"logoLight\":{\"url\":\"https://s.pstatic.net/static/newsstand/2020/logo/light/0604/354.png\"},\"logoDark\":{\"url\":\"https://s.pstatic.net/static/newsstand/2020/logo/dark/0604/354.png\"},\"showThumbnailView\":true,\"showListView\":true,\"regDate\":\"20250806 21:01:27\",\"_id\":null,\"@type\":\"PC-NEWSSTAND-PRESS-BLOCK\",\"@code\":null,\"@template\":\"NONE\",\"@flowId\":null,\"@flowExecutionId\":null,\"@provider\":null,\"@lastModifiedAt\":null},{\"@type\":\"PC-NEWSSTAND-PRESS-BLOCK\",\"blocks\":null,\"materials\":null,\"excludeInPaging\":false,\"positionForPaging\":0,\"realtime\":false,\"pid\":\"355\",\"name\":\"사이언스타임즈\",\"logoLight\":{\"url\":\"https://s.pstatic.net/static/newsstand/2020/logo/light/0604/355.png\"},\"logoDark\":{\"url\":\"https://s.pstatic.net/static/newsstand/2020/logo/dark/0604/355.png\"},\"showThumbnailView\":true,\"showListView\":true,\"regDate\":\"20250806 09:02:21\",\"_id\":null,\"@type\":\"PC-NEWSSTAND-PRESS-BLOCK\",\"@code\":null,\"@template\":\"NONE\",\"@flowId\":null,\"@flowExecutionId\":null,\"@provider\":null,\"@lastModifiedAt\":null},{\"@type\":\"PC-NEWSSTAND-PRESS-BLOCK\",\"blocks\":null,\"materials\":null,\"excludeInPaging\":false,\"positionForPaging\":0,\"realtime\":false,\"pid\":\"356\",\"name\":\"게임메카\",\"logoLight\":{\"url\":\"https://s.pstatic.net/static/newsstand/2020/logo/light/0604/356.png\"},\"logoDark\":{\"url\":\"https://s.pstatic.net/static/newsstand/2020/logo/dark/0604/356.png\"},\"showThumbnailView\":true,\"showListView\":true,\"regDate\":\"20250806 17:41:06\",\"_id\":null,\"@type\":\"PC-NEWSSTAND-PRESS-BLOCK\",\"@code\":null,\"@template\":\"NONE\",\"@flowId\":null,\"@flowExecutionId\":null,\"@provider\":null,\"@lastModifiedAt\":null},{\"@type\":\"PC-NEWSSTAND-PRESS-BLOCK\",\"blocks\":null,\"materials\":null,\"excludeInPaging\":false,\"positionForPaging\":0,\"realtime\":false,\"pid\":\"477\",\"name\":\"스포티비뉴스\",\"logoLight\":{\"url\":\"https://s.pstatic.net/static/newsstand/up/2021/1130/nsd10159718.png\"},\"logoDark\":{\"url\":\"https://s.pstatic.net/static/newsstand/up/2021/1130/nsd101536636.png\"},\"showThumbnailView\":true,\"showListView\":true,\"regDate\":\"20250806 21:00:05\",\"_id\":null,\"@type\":\"PC-NEWSSTAND-PRESS-BLOCK\",\"@code\":null,\"@template\":\"NONE\",\"@flowId\":null,\"@flowExecutionId\":null,\"@provider\":null,\"@lastModifiedAt\":null},{\"@type\":\"PC-NEWSSTAND-PRESS-BLOCK\",\"blocks\":null,\"materials\":null,\"excludeInPaging\":false,\"positionForPaging\":0,\"realtime\":false,\"pid\":\"117\",\"name\":\"마이데일리\",\"logoLight\":{\"url\":\"https://s.pstatic.net/static/newsstand/2020/logo/light/0604/117.png\"},\"logoDark\":{\"url\":\"https://s.pstatic.net/static/newsstand/2020/logo/dark/0604/117.png\"},\"showThumbnailView\":true,\"showListView\":true,\"regDate\":\"20250806 19:57:18\",\"_id\":null,\"@type\":\"PC-NEWSSTAND-PRESS-BLOCK\",\"@code\":null,\"@template\":\"NONE\",\"@flowId\":null,\"@flowExecutionId\":null,\"@provider\":null,\"@lastModifiedAt\":null},{\"@type\":\"PC-NEWSSTAND-PRESS-BLOCK\",\"blocks\":null,\"materials\":null,\"excludeInPaging\":false,\"positionForPaging\":0,\"realtime\":false,\"pid\":\"910\",\"name\":\"넥스트데일리\",\"logoLight\":{\"url\":\"https://s.pstatic.net/static/newsstand/2020/logo/light/0604/910.png\"},\"logoDark\":{\"url\":\"https://s.pstatic.net/static/newsstand/2020/logo/dark/0604/910.png\"},\"showThumbnailView\":true,\"showListView\":true,\"regDate\":\"20250806 21:00:38\",\"_id\":null,\"@type\":\"PC-NEWSSTAND-PRESS-BLOCK\",\"@code\":null,\"@template\":\"NONE\",\"@flowId\":null,\"@flowExecutionId\":null,\"@provider\":null,\"@lastModifiedAt\":null},{\"@type\":\"PC-NEWSSTAND-PRESS-BLOCK\",\"blocks\":null,\"materials\":null,\"excludeInPaging\":false,\"positionForPaging\":0,\"realtime\":false,\"pid\":\"911\",\"name\":\"농민신문\",\"logoLight\":{\"url\":\"https://s.pstatic.net/static/newsstand/up/2025/0418/nsd165932303.png\"},\"logoDark\":{\"url\":\"https://s.pstatic.net/static/newsstand/up/2025/0418/nsd165949113.png\"},\"showThumbnailView\":true,\"showListView\":true,\"regDate\":\"20250806 07:00:01\",\"_id\":null,\"@type\":\"PC-NEWSSTAND-PRESS-BLOCK\",\"@code\":null,\"@template\":\"NONE\",\"@flowId\":null,\"@flowExecutionId\":null,\"@provider\":null,\"@lastModifiedAt\":null},{\"@type\":\"PC-NEWSSTAND-PRESS-BLOCK\",\"blocks\":null,\"materials\":null,\"excludeInPaging\":false,\"positionForPaging\":0,\"realtime\":false,\"pid\":\"913\",\"name\":\"뉴스토마토\",\"logoLight\":{\"url\":\"https://s.pstatic.net/static/newsstand/2020/logo/light/0604/913.png\"},\"logoDark\":{\"url\":\"https://s.pstatic.net/static/newsstand/2020/logo/dark/0604/913.png\"},\"showThumbnailView\":true,\"showListView\":true,\"regDate\":\"20250806 21:01:34\",\"_id\":null,\"@type\":\"PC-NEWSSTAND-PRESS-BLOCK\",\"@code\":null,\"@template\":\"NONE\",\"@flowId\":null,\"@flowExecutionId\":null,\"@provider\":null,\"@lastModifiedAt\":null},{\"@type\":\"PC-NEWSSTAND-PRESS-BLOCK\",\"blocks\":null,\"materials\":null,\"excludeInPaging\":false,\"positionForPaging\":0,\"realtime\":false,\"pid\":\"914\",\"name\":\"뉴스핌\",\"logoLight\":{\"url\":\"https://s.pstatic.net/static/newsstand/2020/logo/light/0604/914.png\"},\"logoDark\":{\"url\":\"https://s.pstatic.net/static/newsstand/2020/logo/dark/0604/914.png\"},\"showThumbnailView\":true,\"showListView\":true,\"regDate\":\"20250806 21:04:29\",\"_id\":null,\"@type\":\"PC-NEWSSTAND-PRESS-BLOCK\",\"@code\":null,\"@template\":\"NONE\",\"@flowId\":null,\"@flowExecutionId\":null,\"@provider\":null,\"@lastModifiedAt\":null},{\"@type\":\"PC-NEWSSTAND-PRESS-BLOCK\",\"blocks\":null,\"materials\":null,\"excludeInPaging\":false,\"positionForPaging\":0,\"realtime\":false,\"pid\":\"915\",\"name\":\"르몽드 디플로마티크\",\"logoLight\":{\"url\":\"https://s.pstatic.net/static/newsstand/2020/logo/light/0604/915.png\"},\"logoDark\":{\"url\":\"https://s.pstatic.net/static/newsstand/2020/logo/dark/0604/915.png\"},\"showThumbnailView\":true,\"showListView\":true,\"regDate\":\"20250801 17:19:42\",\"_id\":null,\"@type\":\"PC-NEWSSTAND-PRESS-BLOCK\",\"@code\":null,\"@template\":\"NONE\",\"@flowId\":null,\"@flowExecutionId\":null,\"@provider\":null,\"@lastModifiedAt\":null},{\"@type\":\"PC-NEWSSTAND-PRESS-BLOCK\",\"blocks\":null,\"materials\":null,\"excludeInPaging\":false,\"positionForPaging\":0,\"realtime\":false,\"pid\":\"916\",\"name\":\"머니투데이방송\",\"logoLight\":{\"url\":\"https://s.pstatic.net/static/newsstand/up/2021/0420/nsd105139164.png\"},\"logoDark\":{\"url\":\"https://s.pstatic.net/static/newsstand/up/2021/0420/nsd104943516.png\"},\"showThumbnailView\":true,\"showListView\":true,\"regDate\":\"20250806 17:49:36\",\"_id\":null,\"@type\":\"PC-NEWSSTAND-PRESS-BLOCK\",\"@code\":null,\"@template\":\"NONE\",\"@flowId\":null,\"@flowExecutionId\":null,\"@provider\":null,\"@lastModifiedAt\":null},{\"@type\":\"PC-NEWSSTAND-PRESS-BLOCK\",\"blocks\":null,\"materials\":null,\"excludeInPaging\":false,\"positionForPaging\":0,\"realtime\":false,\"pid\":\"917\",\"name\":\"IT조선\",\"logoLight\":{\"url\":\"https://s.pstatic.net/static/newsstand/2020/logo/light/0604/917.png\"},\"logoDark\":{\"url\":\"https://s.pstatic.net/static/newsstand/2020/logo/dark/0604/917.png\"},\"showThumbnailView\":true,\"showListView\":true,\"regDate\":\"20250806 21:01:03\",\"_id\":null,\"@type\":\"PC-NEWSSTAND-PRESS-BLOCK\",\"@code\":null,\"@template\":\"NONE\",\"@flowId\":null,\"@flowExecutionId\":null,\"@provider\":null,\"@lastModifiedAt\":null},{\"@type\":\"PC-NEWSSTAND-PRESS-BLOCK\",\"blocks\":null,\"materials\":null,\"excludeInPaging\":false,\"positionForPaging\":0,\"realtime\":false,\"pid\":\"361\",\"name\":\"채널예스\",\"logoLight\":{\"url\":\"https://s.pstatic.net/static/newsstand/up/2023/0418/nsd124959421.png\"},\"logoDark\":{\"url\":\"https://s.pstatic.net/static/newsstand/up/2023/0418/nsd124945796.png\"},\"showThumbnailView\":true,\"showListView\":true,\"regDate\":\"20250806 21:00:47\",\"_id\":null,\"@type\":\"PC-NEWSSTAND-PRESS-BLOCK\",\"@code\":null,\"@template\":\"NONE\",\"@flowId\":null,\"@flowExecutionId\":null,\"@provider\":null,\"@lastModifiedAt\":null},{\"@type\":\"PC-NEWSSTAND-PRESS-BLOCK\",\"blocks\":null,\"materials\":null,\"excludeInPaging\":false,\"positionForPaging\":0,\"realtime\":false,\"pid\":\"120\",\"name\":\"EBN\",\"logoLight\":{\"url\":\"https://s.pstatic.net/static/newsstand/2020/logo/light/0604/120.png\"},\"logoDark\":{\"url\":\"https://s.pstatic.net/static/newsstand/2020/logo/dark/0604/120.png\"},\"showThumbnailView\":true,\"showListView\":true,\"regDate\":\"20250806 21:01:05\",\"_id\":null,\"@type\":\"PC-NEWSSTAND-PRESS-BLOCK\",\"@code\":null,\"@template\":\"NONE\",\"@flowId\":null,\"@flowExecutionId\":null,\"@provider\":null,\"@lastModifiedAt\":null},{\"@type\":\"PC-NEWSSTAND-PRESS-BLOCK\",\"blocks\":null,\"materials\":null,\"excludeInPaging\":false,\"positionForPaging\":0,\"realtime\":false,\"pid\":\"241\",\"name\":\"일간스포츠\",\"logoLight\":{\"url\":\"https://s.pstatic.net/static/newsstand/up/2023/0112/nsd92558162.png\"},\"logoDark\":{\"url\":\"https://s.pstatic.net/static/newsstand/2020/logo/dark/0604/241.png\"},\"showThumbnailView\":true,\"showListView\":true,\"regDate\":\"20250806 18:14:53\",\"_id\":null,\"@type\":\"PC-NEWSSTAND-PRESS-BLOCK\",\"@code\":null,\"@template\":\"NONE\",\"@flowId\":null,\"@flowExecutionId\":null,\"@provider\":null,\"@lastModifiedAt\":null},{\"@type\":\"PC-NEWSSTAND-PRESS-BLOCK\",\"blocks\":null,\"materials\":null,\"excludeInPaging\":false,\"positionForPaging\":0,\"realtime\":false,\"pid\":\"363\",\"name\":\"동아사이언스\",\"logoLight\":{\"url\":\"https://s.pstatic.net/static/newsstand/up/2025/0418/nsd171358594.png\"},\"logoDark\":{\"url\":\"https://s.pstatic.net/static/newsstand/up/2025/0418/nsd171410616.png\"},\"showThumbnailView\":true,\"showListView\":true,\"regDate\":\"20250806 17:34:05\",\"_id\":null,\"@type\":\"PC-NEWSSTAND-PRESS-BLOCK\",\"@code\":null,\"@template\":\"NONE\",\"@flowId\":null,\"@flowExecutionId\":null,\"@provider\":null,\"@lastModifiedAt\":null},{\"@type\":\"PC-NEWSSTAND-PRESS-BLOCK\",\"blocks\":null,\"materials\":null,\"excludeInPaging\":false,\"positionForPaging\":0,\"realtime\":false,\"pid\":\"122\",\"name\":\"법률신문\",\"logoLight\":{\"url\":\"https://s.pstatic.net/static/newsstand/up/2022/1103/nsd124326426.png\"},\"logoDark\":{\"url\":\"https://s.pstatic.net/static/newsstand/up/2022/1103/nsd124320554.png\"},\"showThumbnailView\":true,\"showListView\":true,\"regDate\":\"20250806 19:12:12\",\"_id\":null,\"@type\":\"PC-NEWSSTAND-PRESS-BLOCK\",\"@code\":null,\"@template\":\"NONE\",\"@flowId\":null,\"@flowExecutionId\":null,\"@provider\":null,\"@lastModifiedAt\":null},{\"@type\":\"PC-NEWSSTAND-PRESS-BLOCK\",\"blocks\":null,\"materials\":null,\"excludeInPaging\":false,\"positionForPaging\":0,\"realtime\":false,\"pid\":\"243\",\"name\":\"이코노미스트\",\"logoLight\":{\"url\":\"https://s.pstatic.net/static/newsstand/up/2025/0418/nsd1875841.png\"},\"logoDark\":{\"url\":\"https://s.pstatic.net/static/newsstand/up/2025/0418/nsd18718795.png\"},\"showThumbnailView\":true,\"showListView\":true,\"regDate\":\"20250806 18:08:19\",\"_id\":null,\"@type\":\"PC-NEWSSTAND-PRESS-BLOCK\",\"@code\":null,\"@template\":\"NONE\",\"@flowId\":null,\"@flowExecutionId\":null,\"@provider\":null,\"@lastModifiedAt\":null},{\"@type\":\"PC-NEWSSTAND-PRESS-BLOCK\",\"blocks\":null,\"materials\":null,\"excludeInPaging\":false,\"positionForPaging\":0,\"realtime\":false,\"pid\":\"364\",\"name\":\"디지털포스트(PC사랑)\",\"logoLight\":{\"url\":\"https://s.pstatic.net/static/newsstand/up/2024/1121/nsd174657186.png\"},\"logoDark\":{\"url\":\"https://s.pstatic.net/static/newsstand/up/2024/1121/nsd174650998.png\"},\"showThumbnailView\":true,\"showListView\":true,\"regDate\":\"20250806 21:01:05\",\"_id\":null,\"@type\":\"PC-NEWSSTAND-PRESS-BLOCK\",\"@code\":null,\"@template\":\"NONE\",\"@flowId\":null,\"@flowExecutionId\":null,\"@provider\":null,\"@lastModifiedAt\":null},{\"@type\":\"PC-NEWSSTAND-PRESS-BLOCK\",\"blocks\":null,\"materials\":null,\"excludeInPaging\":false,\"positionForPaging\":0,\"realtime\":false,\"pid\":\"002\",\"name\":\"프레시안\",\"logoLight\":{\"url\":\"https://s.pstatic.net/static/newsstand/up/2025/0421/nsd113059820.png\"},\"logoDark\":{\"url\":\"https://s.pstatic.net/static/newsstand/up/2025/0421/nsd113113968.png\"},\"showThumbnailView\":true,\"showListView\":true,\"regDate\":\"20250806 20:52:46\",\"_id\":null,\"@type\":\"PC-NEWSSTAND-PRESS-BLOCK\",\"@code\":null,\"@template\":\"NONE\",\"@flowId\":null,\"@flowExecutionId\":null,\"@provider\":null,\"@lastModifiedAt\":null},{\"@type\":\"PC-NEWSSTAND-PRESS-BLOCK\",\"blocks\":null,\"materials\":null,\"excludeInPaging\":false,\"positionForPaging\":0,\"realtime\":false,\"pid\":\"123\",\"name\":\"조세일보\",\"logoLight\":{\"url\":\"https://s.pstatic.net/static/newsstand/up/2025/0418/nsd18119444.png\"},\"logoDark\":{\"url\":\"https://s.pstatic.net/static/newsstand/up/2025/0418/nsd181123257.png\"},\"showThumbnailView\":true,\"showListView\":true,\"regDate\":\"20250806 20:16:59\",\"_id\":null,\"@type\":\"PC-NEWSSTAND-PRESS-BLOCK\",\"@code\":null,\"@template\":\"NONE\",\"@flowId\":null,\"@flowExecutionId\":null,\"@provider\":null,\"@lastModifiedAt\":null},{\"@type\":\"PC-NEWSSTAND-PRESS-BLOCK\",\"blocks\":null,\"materials\":null,\"excludeInPaging\":false,\"positionForPaging\":0,\"realtime\":false,\"pid\":\"003\",\"name\":\"뉴시스\",\"logoLight\":{\"url\":\"https://s.pstatic.net/static/newsstand/up/2025/0418/nsd17349214.png\"},\"logoDark\":{\"url\":\"https://s.pstatic.net/static/newsstand/up/2025/0418/nsd1742154.png\"},\"showThumbnailView\":true,\"showListView\":true,\"regDate\":\"20250806 21:02:13\",\"_id\":null,\"@type\":\"PC-NEWSSTAND-PRESS-BLOCK\",\"@code\":null,\"@template\":\"NONE\",\"@flowId\":null,\"@flowExecutionId\":null,\"@provider\":null,\"@lastModifiedAt\":null},{\"@type\":\"PC-NEWSSTAND-PRESS-BLOCK\",\"blocks\":null,\"materials\":null,\"excludeInPaging\":false,\"positionForPaging\":0,\"realtime\":false,\"pid\":\"366\",\"name\":\"조선비즈\",\"logoLight\":{\"url\":\"https://s.pstatic.net/static/newsstand/up/2025/0418/nsd1891202.png\"},\"logoDark\":{\"url\":\"https://s.pstatic.net/static/newsstand/up/2025/0418/nsd18915842.png\"},\"showThumbnailView\":true,\"showListView\":true,\"regDate\":\"20250806 20:50:50\",\"_id\":null,\"@type\":\"PC-NEWSSTAND-PRESS-BLOCK\",\"@code\":null,\"@template\":\"NONE\",\"@flowId\":null,\"@flowExecutionId\":null,\"@provider\":null,\"@lastModifiedAt\":null},{\"@type\":\"PC-NEWSSTAND-PRESS-BLOCK\",\"blocks\":null,\"materials\":null,\"excludeInPaging\":false,\"positionForPaging\":0,\"realtime\":false,\"pid\":\"005\",\"name\":\"국민일보\",\"logoLight\":{\"url\":\"https://s.pstatic.net/static/newsstand/up/2025/0418/nsd165523873.png\"},\"logoDark\":{\"url\":\"https://s.pstatic.net/static/newsstand/up/2025/0418/nsd165538205.png\"},\"showThumbnailView\":true,\"showListView\":true,\"regDate\":\"20250806 20:44:12\",\"_id\":null,\"@type\":\"PC-NEWSSTAND-PRESS-BLOCK\",\"@code\":null,\"@template\":\"NONE\",\"@flowId\":null,\"@flowExecutionId\":null,\"@provider\":null,\"@lastModifiedAt\":null},{\"@type\":\"PC-NEWSSTAND-PRESS-BLOCK\",\"blocks\":null,\"materials\":null,\"excludeInPaging\":false,\"positionForPaging\":0,\"realtime\":false,\"pid\":\"368\",\"name\":\"데일리안\",\"logoLight\":{\"url\":\"https://s.pstatic.net/static/newsstand/up/2025/0418/nsd17819300.png\"},\"logoDark\":{\"url\":\"https://s.pstatic.net/static/newsstand/up/2025/0418/nsd17834561.png\"},\"showThumbnailView\":true,\"showListView\":true,\"regDate\":\"20250806 21:01:50\",\"_id\":null,\"@type\":\"PC-NEWSSTAND-PRESS-BLOCK\",\"@code\":null,\"@template\":\"NONE\",\"@flowId\":null,\"@flowExecutionId\":null,\"@provider\":null,\"@lastModifiedAt\":null},{\"@type\":\"PC-NEWSSTAND-PRESS-BLOCK\",\"blocks\":null,\"materials\":null,\"excludeInPaging\":false,\"positionForPaging\":0,\"realtime\":false,\"pid\":\"006\",\"name\":\"미디어오늘\",\"logoLight\":{\"url\":\"https://s.pstatic.net/static/newsstand/up/2025/0418/nsd17414424.png\"},\"logoDark\":{\"url\":\"https://s.pstatic.net/static/newsstand/up/2025/0418/nsd174159582.png\"},\"showThumbnailView\":true,\"showListView\":true,\"regDate\":\"20250806 21:05:01\",\"_id\":null,\"@type\":\"PC-NEWSSTAND-PRESS-BLOCK\",\"@code\":null,\"@template\":\"NONE\",\"@flowId\":null,\"@flowExecutionId\":null,\"@provider\":null,\"@lastModifiedAt\":null},{\"@type\":\"PC-NEWSSTAND-PRESS-BLOCK\",\"blocks\":null,\"materials\":null,\"excludeInPaging\":false,\"positionForPaging\":0,\"realtime\":false,\"pid\":\"920\",\"name\":\"아시아투데이\",\"logoLight\":{\"url\":\"https://s.pstatic.net/static/newsstand/2020/logo/light/0604/920.png\"},\"logoDark\":{\"url\":\"https://s.pstatic.net/static/newsstand/2020/logo/dark/0604/920.png\"},\"showThumbnailView\":true,\"showListView\":true,\"regDate\":\"20250806 21:01:20\",\"_id\":null,\"@type\":\"PC-NEWSSTAND-PRESS-BLOCK\",\"@code\":null,\"@template\":\"NONE\",\"@flowId\":null,\"@flowExecutionId\":null,\"@provider\":null,\"@lastModifiedAt\":null},{\"@type\":\"PC-NEWSSTAND-PRESS-BLOCK\",\"blocks\":null,\"materials\":null,\"excludeInPaging\":false,\"positionForPaging\":0,\"realtime\":false,\"pid\":\"008\",\"name\":\"머니투데이\",\"logoLight\":{\"url\":\"https://s.pstatic.net/static/newsstand/up/2025/0418/nsd173935353.png\"},\"logoDark\":{\"url\":\"https://s.pstatic.net/static/newsstand/up/2025/0418/nsd173950592.png\"},\"showThumbnailView\":true,\"showListView\":true,\"regDate\":\"20250806 21:05:04\",\"_id\":null,\"@type\":\"PC-NEWSSTAND-PRESS-BLOCK\",\"@code\":null,\"@template\":\"NONE\",\"@flowId\":null,\"@flowExecutionId\":null,\"@provider\":null,\"@lastModifiedAt\":null},{\"@type\":\"PC-NEWSSTAND-PRESS-BLOCK\",\"blocks\":null,\"materials\":null,\"excludeInPaging\":false,\"positionForPaging\":0,\"realtime\":false,\"pid\":\"921\",\"name\":\"아주경제\",\"logoLight\":{\"url\":\"https://s.pstatic.net/static/newsstand/up/2023/0731/nsd13387289.png\"},\"logoDark\":{\"url\":\"https://s.pstatic.net/static/newsstand/up/2023/0731/nsd133759965.png\"},\"showThumbnailView\":true,\"showListView\":true,\"regDate\":\"20250806 21:00:02\",\"_id\":null,\"@type\":\"PC-NEWSSTAND-PRESS-BLOCK\",\"@code\":null,\"@template\":\"NONE\",\"@flowId\":null,\"@flowExecutionId\":null,\"@provider\":null,\"@lastModifiedAt\":null},{\"@type\":\"PC-NEWSSTAND-PRESS-BLOCK\",\"blocks\":null,\"materials\":null,\"excludeInPaging\":false,\"positionForPaging\":0,\"realtime\":false,\"pid\":\"009\",\"name\":\"매일경제\",\"logoLight\":{\"url\":\"https://s.pstatic.net/static/newsstand/up/2025/0418/nsd173553657.png\"},\"logoDark\":{\"url\":\"https://s.pstatic.net/static/newsstand/up/2025/0418/nsd17369120.png\"},\"showThumbnailView\":true,\"showListView\":true,\"regDate\":\"20250806 21:05:08\",\"_id\":null,\"@type\":\"PC-NEWSSTAND-PRESS-BLOCK\",\"@code\":null,\"@template\":\"NONE\",\"@flowId\":null,\"@flowExecutionId\":null,\"@provider\":null,\"@lastModifiedAt\":null},{\"@type\":\"PC-NEWSSTAND-PRESS-BLOCK\",\"blocks\":null,\"materials\":null,\"excludeInPaging\":false,\"positionForPaging\":0,\"realtime\":false,\"pid\":\"801\",\"name\":\"위키리크스한국\",\"logoLight\":{\"url\":\"https://s.pstatic.net/static/newsstand/2020/logo/light/0604/801.png\"},\"logoDark\":{\"url\":\"https://s.pstatic.net/static/newsstand/2020/logo/dark/0604/801.png\"},\"showThumbnailView\":true,\"showListView\":true,\"regDate\":\"20250806 21:00:07\",\"_id\":null,\"@type\":\"PC-NEWSSTAND-PRESS-BLOCK\",\"@code\":null,\"@template\":\"NONE\",\"@flowId\":null,\"@flowExecutionId\":null,\"@provider\":null,\"@lastModifiedAt\":null},{\"@type\":\"PC-NEWSSTAND-PRESS-BLOCK\",\"blocks\":null,\"materials\":null,\"excludeInPaging\":false,\"positionForPaging\":0,\"realtime\":false,\"pid\":\"922\",\"name\":\"이투데이\",\"logoLight\":{\"url\":\"https://s.pstatic.net/static/newsstand/2020/logo/light/0604/922.png\"},\"logoDark\":{\"url\":\"https://s.pstatic.net/static/newsstand/2020/logo/dark/0604/922.png\"},\"showThumbnailView\":true,\"showListView\":true,\"regDate\":\"20250806 19:59:19\",\"_id\":null,\"@type\":\"PC-NEWSSTAND-PRESS-BLOCK\",\"@code\":null,\"@template\":\"NONE\",\"@flowId\":null,\"@flowExecutionId\":null,\"@provider\":null,\"@lastModifiedAt\":null},{\"@type\":\"PC-NEWSSTAND-PRESS-BLOCK\",\"blocks\":null,\"materials\":null,\"excludeInPaging\":false,\"positionForPaging\":0,\"realtime\":false,\"pid\":\"802\",\"name\":\"스포츠Q\",\"logoLight\":{\"url\":\"https://s.pstatic.net/static/newsstand/2020/logo/light/0604/802.png\"},\"logoDark\":{\"url\":\"https://s.pstatic.net/static/newsstand/2020/logo/dark/0604/802.png\"},\"showThumbnailView\":true,\"showListView\":true,\"regDate\":\"20250806 21:00:07\",\"_id\":null,\"@type\":\"PC-NEWSSTAND-PRESS-BLOCK\",\"@code\":null,\"@template\":\"NONE\",\"@flowId\":null,\"@flowExecutionId\":null,\"@provider\":null,\"@lastModifiedAt\":null},{\"@type\":\"PC-NEWSSTAND-PRESS-BLOCK\",\"blocks\":null,\"materials\":null,\"excludeInPaging\":false,\"positionForPaging\":0,\"realtime\":false,\"pid\":\"923\",\"name\":\"인민망\",\"logoLight\":{\"url\":\"https://s.pstatic.net/static/newsstand/2020/logo/light/0604/923.png\"},\"logoDark\":{\"url\":\"https://s.pstatic.net/static/newsstand/2020/logo/dark/0604/923.png\"},\"showThumbnailView\":true,\"showListView\":true,\"regDate\":\"20250806 18:30:04\",\"_id\":null,\"@type\":\"PC-NEWSSTAND-PRESS-BLOCK\",\"@code\":null,\"@template\":\"NONE\",\"@flowId\":null,\"@flowExecutionId\":null,\"@provider\":null,\"@lastModifiedAt\":null},{\"@type\":\"PC-NEWSSTAND-PRESS-BLOCK\",\"blocks\":null,\"materials\":null,\"excludeInPaging\":false,\"positionForPaging\":0,\"realtime\":false,\"pid\":\"803\",\"name\":\"인더스트리뉴스\",\"logoLight\":{\"url\":\"https://s.pstatic.net/static/newsstand/up/2021/0907/nsd9423633.png\"},\"logoDark\":{\"url\":\"https://s.pstatic.net/static/newsstand/up/2021/0907/nsd94216114.png\"},\"showThumbnailView\":true,\"showListView\":true,\"regDate\":\"20250806 21:00:08\",\"_id\":null,\"@type\":\"PC-NEWSSTAND-PRESS-BLOCK\",\"@code\":null,\"@template\":\"NONE\",\"@flowId\":null,\"@flowExecutionId\":null,\"@provider\":null,\"@lastModifiedAt\":null},{\"@type\":\"PC-NEWSSTAND-PRESS-BLOCK\",\"blocks\":null,\"materials\":null,\"excludeInPaging\":false,\"positionForPaging\":0,\"realtime\":false,\"pid\":\"924\",\"name\":\"인벤\",\"logoLight\":{\"url\":\"https://s.pstatic.net/static/newsstand/up/2025/0421/nsd122024363.png\"},\"logoDark\":{\"url\":\"https://s.pstatic.net/static/newsstand/up/2025/0421/nsd122015588.png\"},\"showThumbnailView\":true,\"showListView\":true,\"regDate\":\"20250806 16:45:49\",\"_id\":null,\"@type\":\"PC-NEWSSTAND-PRESS-BLOCK\",\"@code\":null,\"@template\":\"NONE\",\"@flowId\":null,\"@flowExecutionId\":null,\"@provider\":null,\"@lastModifiedAt\":null},{\"@type\":\"PC-NEWSSTAND-PRESS-BLOCK\",\"blocks\":null,\"materials\":null,\"excludeInPaging\":false,\"positionForPaging\":0,\"realtime\":false,\"pid\":\"804\",\"name\":\"데이터뉴스\",\"logoLight\":{\"url\":\"https://s.pstatic.net/static/newsstand/2020/logo/light/0604/804.png\"},\"logoDark\":{\"url\":\"https://s.pstatic.net/static/newsstand/2020/logo/dark/0604/804.png\"},\"showThumbnailView\":true,\"showListView\":true,\"regDate\":\"20250806 16:45:02\",\"_id\":null,\"@type\":\"PC-NEWSSTAND-PRESS-BLOCK\",\"@code\":null,\"@template\":\"NONE\",\"@flowId\":null,\"@flowExecutionId\":null,\"@provider\":null,\"@lastModifiedAt\":null},{\"@type\":\"PC-NEWSSTAND-PRESS-BLOCK\",\"blocks\":null,\"materials\":null,\"excludeInPaging\":false,\"positionForPaging\":0,\"realtime\":false,\"pid\":\"925\",\"name\":\"일요신문\",\"logoLight\":{\"url\":\"https://s.pstatic.net/static/newsstand/2020/logo/light/0604/925.png\"},\"logoDark\":{\"url\":\"https://s.pstatic.net/static/newsstand/2020/logo/dark/0604/925.png\"},\"showThumbnailView\":true,\"showListView\":true,\"regDate\":\"20250806 16:52:23\",\"_id\":null,\"@type\":\"PC-NEWSSTAND-PRESS-BLOCK\",\"@code\":null,\"@template\":\"NONE\",\"@flowId\":null,\"@flowExecutionId\":null,\"@provider\":null,\"@lastModifiedAt\":null},{\"@type\":\"PC-NEWSSTAND-PRESS-BLOCK\",\"blocks\":null,\"materials\":null,\"excludeInPaging\":false,\"positionForPaging\":0,\"realtime\":false,\"pid\":\"805\",\"name\":\"한경잡앤조이\",\"logoLight\":{\"url\":\"https://s.pstatic.net/static/newsstand/up/2020/0615/nsd10319824.png\"},\"logoDark\":{\"url\":\"https://s.pstatic.net/static/newsstand/up/2020/0615/nsd10311145.png\"},\"showThumbnailView\":true,\"showListView\":true,\"regDate\":\"20250806 09:30:43\",\"_id\":null,\"@type\":\"PC-NEWSSTAND-PRESS-BLOCK\",\"@code\":null,\"@template\":\"NONE\",\"@flowId\":null,\"@flowExecutionId\":null,\"@provider\":null,\"@lastModifiedAt\":null},{\"@type\":\"PC-NEWSSTAND-PRESS-BLOCK\",\"blocks\":null,\"materials\":null,\"excludeInPaging\":false,\"positionForPaging\":0,\"realtime\":false,\"pid\":\"926\",\"name\":\"중부일보\",\"logoLight\":{\"url\":\"https://s.pstatic.net/static/newsstand/up/2025/0512/nsd155319792.png\"},\"logoDark\":{\"url\":\"https://s.pstatic.net/static/newsstand/up/2025/0512/nsd155341133.png\"},\"showThumbnailView\":true,\"showListView\":true,\"regDate\":\"20250806 20:35:15\",\"_id\":null,\"@type\":\"PC-NEWSSTAND-PRESS-BLOCK\",\"@code\":null,\"@template\":\"NONE\",\"@flowId\":null,\"@flowExecutionId\":null,\"@provider\":null,\"@lastModifiedAt\":null},{\"@type\":\"PC-NEWSSTAND-PRESS-BLOCK\",\"blocks\":null,\"materials\":null,\"excludeInPaging\":false,\"positionForPaging\":0,\"realtime\":false,\"pid\":\"806\",\"name\":\"한경머니\",\"logoLight\":{\"url\":\"https://s.pstatic.net/static/newsstand/up/2024/0531/nsd115428801.png\"},\"logoDark\":{\"url\":\"https://s.pstatic.net/static/newsstand/up/2024/0531/nsd115449376.png\"},\"showThumbnailView\":true,\"showListView\":true,\"regDate\":\"20250806 09:30:29\",\"_id\":null,\"@type\":\"PC-NEWSSTAND-PRESS-BLOCK\",\"@code\":null,\"@template\":\"NONE\",\"@flowId\":null,\"@flowExecutionId\":null,\"@provider\":null,\"@lastModifiedAt\":null},{\"@type\":\"PC-NEWSSTAND-PRESS-BLOCK\",\"blocks\":null,\"materials\":null,\"excludeInPaging\":false,\"positionForPaging\":0,\"realtime\":false,\"pid\":\"927\",\"name\":\"충북일보\",\"logoLight\":{\"url\":\"https://s.pstatic.net/static/newsstand/2020/logo/light/0604/927.png\"},\"logoDark\":{\"url\":\"https://s.pstatic.net/static/newsstand/2020/logo/dark/0604/927.png\"},\"showThumbnailView\":true,\"showListView\":true,\"regDate\":\"20250806 17:58:45\",\"_id\":null,\"@type\":\"PC-NEWSSTAND-PRESS-BLOCK\",\"@code\":null,\"@template\":\"NONE\",\"@flowId\":null,\"@flowExecutionId\":null,\"@provider\":null,\"@lastModifiedAt\":null},{\"@type\":\"PC-NEWSSTAND-PRESS-BLOCK\",\"blocks\":null,\"materials\":null,\"excludeInPaging\":false,\"positionForPaging\":0,\"realtime\":false,\"pid\":\"807\",\"name\":\"인사이트코리아\",\"logoLight\":{\"url\":\"https://s.pstatic.net/static/newsstand/2020/logo/light/0604/807.png\"},\"logoDark\":{\"url\":\"https://s.pstatic.net/static/newsstand/2020/logo/dark/0604/807.png\"},\"showThumbnailView\":true,\"showListView\":true,\"regDate\":\"20250806 21:00:24\",\"_id\":null,\"@type\":\"PC-NEWSSTAND-PRESS-BLOCK\",\"@code\":null,\"@template\":\"NONE\",\"@flowId\":null,\"@flowExecutionId\":null,\"@provider\":null,\"@lastModifiedAt\":null},{\"@type\":\"PC-NEWSSTAND-PRESS-BLOCK\",\"blocks\":null,\"materials\":null,\"excludeInPaging\":false,\"positionForPaging\":0,\"realtime\":false,\"pid\":\"928\",\"name\":\"컴퓨터월드\",\"logoLight\":{\"url\":\"https://s.pstatic.net/static/newsstand/2020/logo/light/0604/928.png\"},\"logoDark\":{\"url\":\"https://s.pstatic.net/static/newsstand/2020/logo/dark/0604/928.png\"},\"showThumbnailView\":true,\"showListView\":true,\"regDate\":\"20250731 12:00:12\",\"_id\":null,\"@type\":\"PC-NEWSSTAND-PRESS-BLOCK\",\"@code\":null,\"@template\":\"NONE\",\"@flowId\":null,\"@flowExecutionId\":null,\"@provider\":null,\"@lastModifiedAt\":null},{\"@type\":\"PC-NEWSSTAND-PRESS-BLOCK\",\"blocks\":null,\"materials\":null,\"excludeInPaging\":false,\"positionForPaging\":0,\"realtime\":false,\"pid\":\"808\",\"name\":\"산업일보\",\"logoLight\":{\"url\":\"https://s.pstatic.net/static/newsstand/2020/logo/light/0604/808.png\"},\"logoDark\":{\"url\":\"https://s.pstatic.net/static/newsstand/2020/logo/dark/0604/808.png\"},\"showThumbnailView\":true,\"showListView\":true,\"regDate\":\"20250806 21:03:04\",\"_id\":null,\"@type\":\"PC-NEWSSTAND-PRESS-BLOCK\",\"@code\":null,\"@template\":\"NONE\",\"@flowId\":null,\"@flowExecutionId\":null,\"@provider\":null,\"@lastModifiedAt\":null},{\"@type\":\"PC-NEWSSTAND-PRESS-BLOCK\",\"blocks\":null,\"materials\":null,\"excludeInPaging\":false,\"positionForPaging\":0,\"realtime\":false,\"pid\":\"809\",\"name\":\"미디어펜\",\"logoLight\":{\"url\":\"https://s.pstatic.net/static/newsstand/2020/logo/light/0604/809.png\"},\"logoDark\":{\"url\":\"https://s.pstatic.net/static/newsstand/2020/logo/dark/0604/809.png\"},\"showThumbnailView\":true,\"showListView\":true,\"regDate\":\"20250806 21:01:36\",\"_id\":null,\"@type\":\"PC-NEWSSTAND-PRESS-BLOCK\",\"@code\":null,\"@template\":\"NONE\",\"@flowId\":null,\"@flowExecutionId\":null,\"@provider\":null,\"@lastModifiedAt\":null},{\"@type\":\"PC-NEWSSTAND-PRESS-BLOCK\",\"blocks\":null,\"materials\":null,\"excludeInPaging\":false,\"positionForPaging\":0,\"realtime\":false,\"pid\":\"011\",\"name\":\"서울경제\",\"logoLight\":{\"url\":\"https://s.pstatic.net/static/newsstand/up/2025/0418/nsd174559608.png\"},\"logoDark\":{\"url\":\"https://s.pstatic.net/static/newsstand/up/2025/0418/nsd174615810.png\"},\"showThumbnailView\":true,\"showListView\":true,\"regDate\":\"20250806 20:52:23\",\"_id\":null,\"@type\":\"PC-NEWSSTAND-PRESS-BLOCK\",\"@code\":null,\"@template\":\"NONE\",\"@flowId\":null,\"@flowExecutionId\":null,\"@provider\":null,\"@lastModifiedAt\":null},{\"@type\":\"PC-NEWSSTAND-PRESS-BLOCK\",\"blocks\":null,\"materials\":null,\"excludeInPaging\":false,\"positionForPaging\":0,\"realtime\":false,\"pid\":\"374\",\"name\":\"SBS Biz\",\"logoLight\":{\"url\":\"https://s.pstatic.net/static/newsstand/up/2025/0418/nsd161857755.png\"},\"logoDark\":{\"url\":\"https://s.pstatic.net/static/newsstand/up/2025/0418/nsd161857755.png\"},\"showThumbnailView\":true,\"showListView\":true,\"regDate\":\"20250806 20:16:38\",\"_id\":null,\"@type\":\"PC-NEWSSTAND-PRESS-BLOCK\",\"@code\":null,\"@template\":\"NONE\",\"@flowId\":null,\"@flowExecutionId\":null,\"@provider\":null,\"@lastModifiedAt\":null},{\"@type\":\"PC-NEWSSTAND-PRESS-BLOCK\",\"blocks\":null,\"materials\":null,\"excludeInPaging\":false,\"positionForPaging\":0,\"realtime\":false,\"pid\":\"013\",\"name\":\"연합인포맥스\",\"logoLight\":{\"url\":\"https://s.pstatic.net/static/newsstand/2020/logo/light/0604/013.png\"},\"logoDark\":{\"url\":\"https://s.pstatic.net/static/newsstand/2020/logo/dark/0604/013.png\"},\"showThumbnailView\":true,\"showListView\":true,\"regDate\":\"20250806 21:00:43\",\"_id\":null,\"@type\":\"PC-NEWSSTAND-PRESS-BLOCK\",\"@code\":null,\"@template\":\"NONE\",\"@flowId\":null,\"@flowExecutionId\":null,\"@provider\":null,\"@lastModifiedAt\":null},{\"@type\":\"PC-NEWSSTAND-PRESS-BLOCK\",\"blocks\":null,\"materials\":null,\"excludeInPaging\":false,\"positionForPaging\":0,\"realtime\":false,\"pid\":\"376\",\"name\":\"지지통신\",\"logoLight\":{\"url\":\"https://s.pstatic.net/static/newsstand/2020/logo/light/0604/376.png\"},\"logoDark\":{\"url\":\"https://s.pstatic.net/static/newsstand/2020/logo/dark/0604/376.png\"},\"showThumbnailView\":true,\"showListView\":true,\"regDate\":\"20250806 20:10:03\",\"_id\":null,\"@type\":\"PC-NEWSSTAND-PRESS-BLOCK\",\"@code\":null,\"@template\":\"NONE\",\"@flowId\":null,\"@flowExecutionId\":null,\"@provider\":null,\"@lastModifiedAt\":null},{\"@type\":\"PC-NEWSSTAND-PRESS-BLOCK\",\"blocks\":null,\"materials\":null,\"excludeInPaging\":false,\"positionForPaging\":0,\"realtime\":false,\"pid\":\"014\",\"name\":\"파이낸셜뉴스\",\"logoLight\":{\"url\":\"https://s.pstatic.net/static/newsstand/up/2025/0418/nsd182326399.png\"},\"logoDark\":{\"url\":\"https://s.pstatic.net/static/newsstand/up/2025/0418/nsd182338294.png\"},\"showThumbnailView\":true,\"showListView\":true,\"regDate\":\"20250806 20:49:52\",\"_id\":null,\"@type\":\"PC-NEWSSTAND-PRESS-BLOCK\",\"@code\":null,\"@template\":\"NONE\",\"@flowId\":null,\"@flowExecutionId\":null,\"@provider\":null,\"@lastModifiedAt\":null},{\"@type\":\"PC-NEWSSTAND-PRESS-BLOCK\",\"blocks\":null,\"materials\":null,\"excludeInPaging\":false,\"positionForPaging\":0,\"realtime\":false,\"pid\":\"135\",\"name\":\"시사저널\",\"logoLight\":{\"url\":\"https://s.pstatic.net/static/newsstand/up/2025/0418/nsd175014923.png\"},\"logoDark\":{\"url\":\"https://s.pstatic.net/static/newsstand/up/2025/0418/nsd175026897.png\"},\"showThumbnailView\":true,\"showListView\":true,\"regDate\":\"20250806 21:00:05\",\"_id\":null,\"@type\":\"PC-NEWSSTAND-PRESS-BLOCK\",\"@code\":null,\"@template\":\"NONE\",\"@flowId\":null,\"@flowExecutionId\":null,\"@provider\":null,\"@lastModifiedAt\":null},{\"@type\":\"PC-NEWSSTAND-PRESS-BLOCK\",\"blocks\":null,\"materials\":null,\"excludeInPaging\":false,\"positionForPaging\":0,\"realtime\":false,\"pid\":\"015\",\"name\":\"한국경제\",\"logoLight\":{\"url\":\"https://s.pstatic.net/static/newsstand/up/2025/0418/nsd182845526.png\"},\"logoDark\":{\"url\":\"https://s.pstatic.net/static/newsstand/up/2025/0418/nsd182857171.png\"},\"showThumbnailView\":true,\"showListView\":true,\"regDate\":\"20250806 20:42:26\",\"_id\":null,\"@type\":\"PC-NEWSSTAND-PRESS-BLOCK\",\"@code\":null,\"@template\":\"NONE\",\"@flowId\":null,\"@flowExecutionId\":null,\"@provider\":null,\"@lastModifiedAt\":null},{\"@type\":\"PC-NEWSSTAND-PRESS-BLOCK\",\"blocks\":null,\"materials\":null,\"excludeInPaging\":false,\"positionForPaging\":0,\"realtime\":false,\"pid\":\"016\",\"name\":\"헤럴드경제\",\"logoLight\":{\"url\":\"https://s.pstatic.net/static/newsstand/up/2025/0418/nsd183149251.png\"},\"logoDark\":{\"url\":\"https://s.pstatic.net/static/newsstand/up/2025/0418/nsd1832047.png\"},\"showThumbnailView\":true,\"showListView\":true,\"regDate\":\"20250806 18:44:52\",\"_id\":null,\"@type\":\"PC-NEWSSTAND-PRESS-BLOCK\",\"@code\":null,\"@template\":\"NONE\",\"@flowId\":null,\"@flowExecutionId\":null,\"@provider\":null,\"@lastModifiedAt\":null},{\"@type\":\"PC-NEWSSTAND-PRESS-BLOCK\",\"blocks\":null,\"materials\":null,\"excludeInPaging\":false,\"positionForPaging\":0,\"realtime\":false,\"pid\":\"138\",\"name\":\"디지털데일리\",\"logoLight\":{\"url\":\"https://s.pstatic.net/static/newsstand/up/2025/0418/nsd173217384.png\"},\"logoDark\":{\"url\":\"https://s.pstatic.net/static/newsstand/up/2025/0418/nsd173232634.png\"},\"showThumbnailView\":true,\"showListView\":true,\"regDate\":\"20250806 16:55:36\",\"_id\":null,\"@type\":\"PC-NEWSSTAND-PRESS-BLOCK\",\"@code\":null,\"@template\":\"NONE\",\"@flowId\":null,\"@flowExecutionId\":null,\"@provider\":null,\"@lastModifiedAt\":null},{\"@type\":\"PC-NEWSSTAND-PRESS-BLOCK\",\"blocks\":null,\"materials\":null,\"excludeInPaging\":false,\"positionForPaging\":0,\"realtime\":false,\"pid\":\"930\",\"name\":\"뉴스타파\",\"logoLight\":{\"url\":\"https://s.pstatic.net/static/newsstand/up/2025/0418/nsd17236863.png\"},\"logoDark\":{\"url\":\"https://s.pstatic.net/static/newsstand/up/2025/0418/nsd17254320.png\"},\"showThumbnailView\":true,\"showListView\":true,\"regDate\":\"20250806 15:05:25\",\"_id\":null,\"@type\":\"PC-NEWSSTAND-PRESS-BLOCK\",\"@code\":null,\"@template\":\"NONE\",\"@flowId\":null,\"@flowExecutionId\":null,\"@provider\":null,\"@lastModifiedAt\":null},{\"@type\":\"PC-NEWSSTAND-PRESS-BLOCK\",\"blocks\":null,\"materials\":null,\"excludeInPaging\":false,\"positionForPaging\":0,\"realtime\":false,\"pid\":\"018\",\"name\":\"이데일리\",\"logoLight\":{\"url\":\"https://s.pstatic.net/static/newsstand/up/2025/0418/nsd18551402.png\"},\"logoDark\":{\"url\":\"https://s.pstatic.net/static/newsstand/up/2025/0418/nsd1866881.png\"},\"showThumbnailView\":true,\"showListView\":true,\"regDate\":\"20250806 20:56:28\",\"_id\":null,\"@type\":\"PC-NEWSSTAND-PRESS-BLOCK\",\"@code\":null,\"@template\":\"NONE\",\"@flowId\":null,\"@flowExecutionId\":null,\"@provider\":null,\"@lastModifiedAt\":null},{\"@type\":\"PC-NEWSSTAND-PRESS-BLOCK\",\"blocks\":null,\"materials\":null,\"excludeInPaging\":false,\"positionForPaging\":0,\"realtime\":false,\"pid\":\"139\",\"name\":\"스포탈코리아\",\"logoLight\":{\"url\":\"https://s.pstatic.net/static/newsstand/2020/logo/light/0604/139.png\"},\"logoDark\":{\"url\":\"https://s.pstatic.net/static/newsstand/2020/logo/dark/0604/139.png\"},\"showThumbnailView\":true,\"showListView\":true,\"regDate\":\"20250806 21:01:07\",\"_id\":null,\"@type\":\"PC-NEWSSTAND-PRESS-BLOCK\",\"@code\":null,\"@template\":\"NONE\",\"@flowId\":null,\"@flowExecutionId\":null,\"@provider\":null,\"@lastModifiedAt\":null},{\"@type\":\"PC-NEWSSTAND-PRESS-BLOCK\",\"blocks\":null,\"materials\":null,\"excludeInPaging\":false,\"positionForPaging\":0,\"realtime\":false,\"pid\":\"810\",\"name\":\"신아일보\",\"logoLight\":{\"url\":\"https://s.pstatic.net/static/newsstand/up/2021/0316/nsd103953129.png\"},\"logoDark\":{\"url\":\"https://s.pstatic.net/static/newsstand/up/2021/0316/nsd104012979.png\"},\"showThumbnailView\":true,\"showListView\":true,\"regDate\":\"20250806 21:00:08\",\"_id\":null,\"@type\":\"PC-NEWSSTAND-PRESS-BLOCK\",\"@code\":null,\"@template\":\"NONE\",\"@flowId\":null,\"@flowExecutionId\":null,\"@provider\":null,\"@lastModifiedAt\":null},{\"@type\":\"PC-NEWSSTAND-PRESS-BLOCK\",\"blocks\":null,\"materials\":null,\"excludeInPaging\":false,\"positionForPaging\":0,\"realtime\":false,\"pid\":\"811\",\"name\":\"한국농어촌방송\",\"logoLight\":{\"url\":\"https://s.pstatic.net/static/newsstand/up/2022/0315/nsd181452869.png\"},\"logoDark\":{\"url\":\"https://s.pstatic.net/static/newsstand/up/2022/0315/nsd18156958.png\"},\"showThumbnailView\":true,\"showListView\":true,\"regDate\":\"20250806 21:00:25\",\"_id\":null,\"@type\":\"PC-NEWSSTAND-PRESS-BLOCK\",\"@code\":null,\"@template\":\"NONE\",\"@flowId\":null,\"@flowExecutionId\":null,\"@provider\":null,\"@lastModifiedAt\":null},{\"@type\":\"PC-NEWSSTAND-PRESS-BLOCK\",\"blocks\":null,\"materials\":null,\"excludeInPaging\":false,\"positionForPaging\":0,\"realtime\":false,\"pid\":\"932\",\"name\":\"CEO스코어데일리\",\"logoLight\":{\"url\":\"https://s.pstatic.net/static/newsstand/2020/logo/light/0604/932.png\"},\"logoDark\":{\"url\":\"https://s.pstatic.net/static/newsstand/2020/logo/dark/0604/932.png\"},\"showThumbnailView\":true,\"showListView\":true,\"regDate\":\"20250806 17:46:06\",\"_id\":null,\"@type\":\"PC-NEWSSTAND-PRESS-BLOCK\",\"@code\":null,\"@template\":\"NONE\",\"@flowId\":null,\"@flowExecutionId\":null,\"@provider\":null,\"@lastModifiedAt\":null},{\"@type\":\"PC-NEWSSTAND-PRESS-BLOCK\",\"blocks\":null,\"materials\":null,\"excludeInPaging\":false,\"positionForPaging\":0,\"realtime\":false,\"pid\":\"812\",\"name\":\"딜사이트 경제TV\",\"logoLight\":{\"url\":\"https://s.pstatic.net/static/newsstand/up/2024/0701/nsd105216680.png\"},\"logoDark\":{\"url\":\"https://s.pstatic.net/static/newsstand/up/2024/0701/nsd10529721.png\"},\"showThumbnailView\":true,\"showListView\":true,\"regDate\":\"20250806 21:00:00\",\"_id\":null,\"@type\":\"PC-NEWSSTAND-PRESS-BLOCK\",\"@code\":null,\"@template\":\"NONE\",\"@flowId\":null,\"@flowExecutionId\":null,\"@provider\":null,\"@lastModifiedAt\":null},{\"@type\":\"PC-NEWSSTAND-PRESS-BLOCK\",\"blocks\":null,\"materials\":null,\"excludeInPaging\":false,\"positionForPaging\":0,\"realtime\":false,\"pid\":\"813\",\"name\":\"이코노믹리뷰\",\"logoLight\":{\"url\":\"https://s.pstatic.net/static/newsstand/up/2022/0418/nsd164755323.png\"},\"logoDark\":{\"url\":\"https://s.pstatic.net/static/newsstand/up/2022/0418/nsd164818946.png\"},\"showThumbnailView\":true,\"showListView\":true,\"regDate\":\"20250806 21:00:26\",\"_id\":null,\"@type\":\"PC-NEWSSTAND-PRESS-BLOCK\",\"@code\":null,\"@template\":\"NONE\",\"@flowId\":null,\"@flowExecutionId\":null,\"@provider\":null,\"@lastModifiedAt\":null},{\"@type\":\"PC-NEWSSTAND-PRESS-BLOCK\",\"blocks\":null,\"materials\":null,\"excludeInPaging\":false,\"positionForPaging\":0,\"realtime\":false,\"pid\":\"934\",\"name\":\"Arirang TV\",\"logoLight\":{\"url\":\"https://s.pstatic.net/static/newsstand/2020/logo/light/0604/934.png\"},\"logoDark\":{\"url\":\"https://s.pstatic.net/static/newsstand/2020/logo/dark/0604/934.png\"},\"showThumbnailView\":true,\"showListView\":true,\"regDate\":\"20250806 19:29:40\",\"_id\":null,\"@type\":\"PC-NEWSSTAND-PRESS-BLOCK\",\"@code\":null,\"@template\":\"NONE\",\"@flowId\":null,\"@flowExecutionId\":null,\"@provider\":null,\"@lastModifiedAt\":null},{\"@type\":\"PC-NEWSSTAND-PRESS-BLOCK\",\"blocks\":null,\"materials\":null,\"excludeInPaging\":false,\"positionForPaging\":0,\"realtime\":false,\"pid\":\"814\",\"name\":\"미주한국일보\",\"logoLight\":{\"url\":\"https://s.pstatic.net/static/newsstand/2020/logo/light/0604/814.png\"},\"logoDark\":{\"url\":\"https://s.pstatic.net/static/newsstand/2020/logo/dark/0604/814.png\"},\"showThumbnailView\":true,\"showListView\":true,\"regDate\":\"20250806 04:42:53\",\"_id\":null,\"@type\":\"PC-NEWSSTAND-PRESS-BLOCK\",\"@code\":null,\"@template\":\"NONE\",\"@flowId\":null,\"@flowExecutionId\":null,\"@provider\":null,\"@lastModifiedAt\":null},{\"@type\":\"PC-NEWSSTAND-PRESS-BLOCK\",\"blocks\":null,\"materials\":null,\"excludeInPaging\":false,\"positionForPaging\":0,\"realtime\":false,\"pid\":\"935\",\"name\":\"경상일보\",\"logoLight\":{\"url\":\"https://s.pstatic.net/static/newsstand/2020/logo/light/0604/935.png\"},\"logoDark\":{\"url\":\"https://s.pstatic.net/static/newsstand/2020/logo/dark/0604/935.png\"},\"showThumbnailView\":true,\"showListView\":true,\"regDate\":\"20250806 00:19:16\",\"_id\":null,\"@type\":\"PC-NEWSSTAND-PRESS-BLOCK\",\"@code\":null,\"@template\":\"NONE\",\"@flowId\":null,\"@flowExecutionId\":null,\"@provider\":null,\"@lastModifiedAt\":null},{\"@type\":\"PC-NEWSSTAND-PRESS-BLOCK\",\"blocks\":null,\"materials\":null,\"excludeInPaging\":false,\"positionForPaging\":0,\"realtime\":false,\"pid\":\"815\",\"name\":\"법률방송뉴스\",\"logoLight\":{\"url\":\"https://s.pstatic.net/static/newsstand/2020/logo/light/0604/815.png\"},\"logoDark\":{\"url\":\"https://s.pstatic.net/static/newsstand/2020/logo/dark/0604/815.png\"},\"showThumbnailView\":true,\"showListView\":true,\"regDate\":\"20250806 21:00:26\",\"_id\":null,\"@type\":\"PC-NEWSSTAND-PRESS-BLOCK\",\"@code\":null,\"@template\":\"NONE\",\"@flowId\":null,\"@flowExecutionId\":null,\"@provider\":null,\"@lastModifiedAt\":null},{\"@type\":\"PC-NEWSSTAND-PRESS-BLOCK\",\"blocks\":null,\"materials\":null,\"excludeInPaging\":false,\"positionForPaging\":0,\"realtime\":false,\"pid\":\"936\",\"name\":\"대구일보\",\"logoLight\":{\"url\":\"https://s.pstatic.net/static/newsstand/2020/logo/light/0604/936.png\"},\"logoDark\":{\"url\":\"https://s.pstatic.net/static/newsstand/2020/logo/dark/0604/936.png\"},\"showThumbnailView\":true,\"showListView\":true,\"regDate\":\"20250806 21:01:04\",\"_id\":null,\"@type\":\"PC-NEWSSTAND-PRESS-BLOCK\",\"@code\":null,\"@template\":\"NONE\",\"@flowId\":null,\"@flowExecutionId\":null,\"@provider\":null,\"@lastModifiedAt\":null},{\"@type\":\"PC-NEWSSTAND-PRESS-BLOCK\",\"blocks\":null,\"materials\":null,\"excludeInPaging\":false,\"positionForPaging\":0,\"realtime\":false,\"pid\":\"816\",\"name\":\"시사오늘\",\"logoLight\":{\"url\":\"https://s.pstatic.net/static/newsstand/2020/logo/light/0604/816.png\"},\"logoDark\":{\"url\":\"https://s.pstatic.net/static/newsstand/2020/logo/dark/0604/816.png\"},\"showThumbnailView\":true,\"showListView\":true,\"regDate\":\"20250806 21:00:27\",\"_id\":null,\"@type\":\"PC-NEWSSTAND-PRESS-BLOCK\",\"@code\":null,\"@template\":\"NONE\",\"@flowId\":null,\"@flowExecutionId\":null,\"@provider\":null,\"@lastModifiedAt\":null},{\"@type\":\"PC-NEWSSTAND-PRESS-BLOCK\",\"blocks\":null,\"materials\":null,\"excludeInPaging\":false,\"positionForPaging\":0,\"realtime\":false,\"pid\":\"937\",\"name\":\"전북도민일보\",\"logoLight\":{\"url\":\"https://s.pstatic.net/static/newsstand/2020/logo/light/0604/937.png\"},\"logoDark\":{\"url\":\"https://s.pstatic.net/static/newsstand/2020/logo/dark/0604/937.png\"},\"showThumbnailView\":true,\"showListView\":true,\"regDate\":\"20250806 18:22:54\",\"_id\":null,\"@type\":\"PC-NEWSSTAND-PRESS-BLOCK\",\"@code\":null,\"@template\":\"NONE\",\"@flowId\":null,\"@flowExecutionId\":null,\"@provider\":null,\"@lastModifiedAt\":null},{\"@type\":\"PC-NEWSSTAND-PRESS-BLOCK\",\"blocks\":null,\"materials\":null,\"excludeInPaging\":false,\"positionForPaging\":0,\"realtime\":false,\"pid\":\"817\",\"name\":\"미디어제주\",\"logoLight\":{\"url\":\"https://s.pstatic.net/static/newsstand/2020/logo/light/0604/817.png\"},\"logoDark\":{\"url\":\"https://s.pstatic.net/static/newsstand/2020/logo/dark/0604/817.png\"},\"showThumbnailView\":true,\"showListView\":true,\"regDate\":\"20250806 21:00:27\",\"_id\":null,\"@type\":\"PC-NEWSSTAND-PRESS-BLOCK\",\"@code\":null,\"@template\":\"NONE\",\"@flowId\":null,\"@flowExecutionId\":null,\"@provider\":null,\"@lastModifiedAt\":null},{\"@type\":\"PC-NEWSSTAND-PRESS-BLOCK\",\"blocks\":null,\"materials\":null,\"excludeInPaging\":false,\"positionForPaging\":0,\"realtime\":false,\"pid\":\"938\",\"name\":\"그린포스트코리아\",\"logoLight\":{\"url\":\"https://s.pstatic.net/static/newsstand/2020/logo/light/0604/938.png\"},\"logoDark\":{\"url\":\"https://s.pstatic.net/static/newsstand/2020/logo/dark/0604/938.png\"},\"showThumbnailView\":true,\"showListView\":true,\"regDate\":\"20250806 21:00:48\",\"_id\":null,\"@type\":\"PC-NEWSSTAND-PRESS-BLOCK\",\"@code\":null,\"@template\":\"NONE\",\"@flowId\":null,\"@flowExecutionId\":null,\"@provider\":null,\"@lastModifiedAt\":null},{\"@type\":\"PC-NEWSSTAND-PRESS-BLOCK\",\"blocks\":null,\"materials\":null,\"excludeInPaging\":false,\"positionForPaging\":0,\"realtime\":false,\"pid\":\"818\",\"name\":\"IT동아\",\"logoLight\":{\"url\":\"https://s.pstatic.net/static/newsstand/2020/logo/light/0604/818.png\"},\"logoDark\":{\"url\":\"https://s.pstatic.net/static/newsstand/2020/logo/dark/0604/818.png\"},\"showThumbnailView\":true,\"showListView\":true,\"regDate\":\"20250806 18:20:50\",\"_id\":null,\"@type\":\"PC-NEWSSTAND-PRESS-BLOCK\",\"@code\":null,\"@template\":\"NONE\",\"@flowId\":null,\"@flowExecutionId\":null,\"@provider\":null,\"@lastModifiedAt\":null},{\"@type\":\"PC-NEWSSTAND-PRESS-BLOCK\",\"blocks\":null,\"materials\":null,\"excludeInPaging\":false,\"positionForPaging\":0,\"realtime\":false,\"pid\":\"819\",\"name\":\"바이라인네트워크\",\"logoLight\":{\"url\":\"https://s.pstatic.net/static/newsstand/2020/logo/light/0604/819.png\"},\"logoDark\":{\"url\":\"https://s.pstatic.net/static/newsstand/2020/logo/dark/0604/819.png\"},\"showThumbnailView\":true,\"showListView\":true,\"regDate\":\"20250806 18:26:03\",\"_id\":null,\"@type\":\"PC-NEWSSTAND-PRESS-BLOCK\",\"@code\":null,\"@template\":\"NONE\",\"@flowId\":null,\"@flowExecutionId\":null,\"@provider\":null,\"@lastModifiedAt\":null},{\"@type\":\"PC-NEWSSTAND-PRESS-BLOCK\",\"blocks\":null,\"materials\":null,\"excludeInPaging\":false,\"positionForPaging\":0,\"realtime\":false,\"pid\":\"140\",\"name\":\"씨네21\",\"logoLight\":{\"url\":\"https://s.pstatic.net/static/newsstand/2020/logo/light/0604/140.png\"},\"logoDark\":{\"url\":\"https://s.pstatic.net/static/newsstand/2020/logo/dark/0604/140.png\"},\"showThumbnailView\":true,\"showListView\":true,\"regDate\":\"20250806 15:00:00\",\"_id\":null,\"@type\":\"PC-NEWSSTAND-PRESS-BLOCK\",\"@code\":null,\"@template\":\"NONE\",\"@flowId\":null,\"@flowExecutionId\":null,\"@provider\":null,\"@lastModifiedAt\":null},{\"@type\":\"PC-NEWSSTAND-PRESS-BLOCK\",\"blocks\":null,\"materials\":null,\"excludeInPaging\":false,\"positionForPaging\":0,\"realtime\":false,\"pid\":\"020\",\"name\":\"동아일보\",\"logoLight\":{\"url\":\"https://s.pstatic.net/static/newsstand/up/2025/0418/nsd17313279.png\"},\"logoDark\":{\"url\":\"https://s.pstatic.net/static/newsstand/up/2025/0418/nsd173115317.png\"},\"showThumbnailView\":true,\"showListView\":true,\"regDate\":\"20250806 21:00:44\",\"_id\":null,\"@type\":\"PC-NEWSSTAND-PRESS-BLOCK\",\"@code\":null,\"@template\":\"NONE\",\"@flowId\":null,\"@flowExecutionId\":null,\"@provider\":null,\"@lastModifiedAt\":null},{\"@type\":\"PC-NEWSSTAND-PRESS-BLOCK\",\"blocks\":null,\"materials\":null,\"excludeInPaging\":false,\"positionForPaging\":0,\"realtime\":false,\"pid\":\"021\",\"name\":\"문화일보\",\"logoLight\":{\"url\":\"https://s.pstatic.net/static/newsstand/up/2025/0418/nsd174041516.png\"},\"logoDark\":{\"url\":\"https://s.pstatic.net/static/newsstand/up/2025/0418/nsd174052596.png\"},\"showThumbnailView\":true,\"showListView\":true,\"regDate\":\"20250806 21:01:15\",\"_id\":null,\"@type\":\"PC-NEWSSTAND-PRESS-BLOCK\",\"@code\":null,\"@template\":\"NONE\",\"@flowId\":null,\"@flowExecutionId\":null,\"@provider\":null,\"@lastModifiedAt\":null},{\"@type\":\"PC-NEWSSTAND-PRESS-BLOCK\",\"blocks\":null,\"materials\":null,\"excludeInPaging\":false,\"positionForPaging\":0,\"realtime\":false,\"pid\":\"384\",\"name\":\"한국대학신문\",\"logoLight\":{\"url\":\"https://s.pstatic.net/static/newsstand/2020/logo/light/0604/384.png\"},\"logoDark\":{\"url\":\"https://s.pstatic.net/static/newsstand/2020/logo/dark/0604/384.png\"},\"showThumbnailView\":true,\"showListView\":true,\"regDate\":\"20250806 21:00:04\",\"_id\":null,\"@type\":\"PC-NEWSSTAND-PRESS-BLOCK\",\"@code\":null,\"@template\":\"NONE\",\"@flowId\":null,\"@flowExecutionId\":null,\"@provider\":null,\"@lastModifiedAt\":null},{\"@type\":\"PC-NEWSSTAND-PRESS-BLOCK\",\"blocks\":null,\"materials\":null,\"excludeInPaging\":false,\"positionForPaging\":0,\"realtime\":false,\"pid\":\"022\",\"name\":\"세계일보\",\"logoLight\":{\"url\":\"https://s.pstatic.net/static/newsstand/up/2025/0418/nsd174812228.png\"},\"logoDark\":{\"url\":\"https://s.pstatic.net/static/newsstand/up/2025/0418/nsd174823953.png\"},\"showThumbnailView\":true,\"showListView\":true,\"regDate\":\"20250806 20:30:31\",\"_id\":null,\"@type\":\"PC-NEWSSTAND-PRESS-BLOCK\",\"@code\":null,\"@template\":\"NONE\",\"@flowId\":null,\"@flowExecutionId\":null,\"@provider\":null,\"@lastModifiedAt\":null},{\"@type\":\"PC-NEWSSTAND-PRESS-BLOCK\",\"blocks\":null,\"materials\":null,\"excludeInPaging\":false,\"positionForPaging\":0,\"realtime\":false,\"pid\":\"143\",\"name\":\"쿠키뉴스\",\"logoLight\":{\"url\":\"https://s.pstatic.net/static/newsstand/up/2025/0421/nsd111533869.png\"},\"logoDark\":{\"url\":\"https://s.pstatic.net/static/newsstand/up/2025/0421/nsd111551222.png\"},\"showThumbnailView\":true,\"showListView\":true,\"regDate\":\"20250806 19:54:50\",\"_id\":null,\"@type\":\"PC-NEWSSTAND-PRESS-BLOCK\",\"@code\":null,\"@template\":\"NONE\",\"@flowId\":null,\"@flowExecutionId\":null,\"@provider\":null,\"@lastModifiedAt\":null},{\"@type\":\"PC-NEWSSTAND-PRESS-BLOCK\",\"blocks\":null,\"materials\":null,\"excludeInPaging\":false,\"positionForPaging\":0,\"realtime\":false,\"pid\":\"385\",\"name\":\"영남일보\",\"logoLight\":{\"url\":\"https://s.pstatic.net/static/newsstand/2020/logo/light/0604/385.png\"},\"logoDark\":{\"url\":\"https://s.pstatic.net/static/newsstand/2020/logo/dark/0604/385.png\"},\"showThumbnailView\":true,\"showListView\":true,\"regDate\":\"20250806 21:00:10\",\"_id\":null,\"@type\":\"PC-NEWSSTAND-PRESS-BLOCK\",\"@code\":null,\"@template\":\"NONE\",\"@flowId\":null,\"@flowExecutionId\":null,\"@provider\":null,\"@lastModifiedAt\":null},{\"@type\":\"PC-NEWSSTAND-PRESS-BLOCK\",\"blocks\":null,\"materials\":null,\"excludeInPaging\":false,\"positionForPaging\":0,\"realtime\":false,\"pid\":\"023\",\"name\":\"조선일보\",\"logoLight\":{\"url\":\"https://s.pstatic.net/static/newsstand/up/2025/0418/nsd181012156.png\"},\"logoDark\":{\"url\":\"https://s.pstatic.net/static/newsstand/up/2025/0418/nsd181024126.png\"},\"showThumbnailView\":true,\"showListView\":true,\"regDate\":\"20250806 21:01:12\",\"_id\":null,\"@type\":\"PC-NEWSSTAND-PRESS-BLOCK\",\"@code\":null,\"@template\":\"NONE\",\"@flowId\":null,\"@flowExecutionId\":null,\"@provider\":null,\"@lastModifiedAt\":null},{\"@type\":\"PC-NEWSSTAND-PRESS-BLOCK\",\"blocks\":null,\"materials\":null,\"excludeInPaging\":false,\"positionForPaging\":0,\"realtime\":false,\"pid\":\"144\",\"name\":\"스포츠경향\",\"logoLight\":{\"url\":\"https://s.pstatic.net/static/newsstand/2020/logo/light/0604/144.png\"},\"logoDark\":{\"url\":\"https://s.pstatic.net/static/newsstand/2020/logo/dark/0604/144.png\"},\"showThumbnailView\":true,\"showListView\":true,\"regDate\":\"20250806 19:53:46\",\"_id\":null,\"@type\":\"PC-NEWSSTAND-PRESS-BLOCK\",\"@code\":null,\"@template\":\"NONE\",\"@flowId\":null,\"@flowExecutionId\":null,\"@provider\":null,\"@lastModifiedAt\":null},{\"@type\":\"PC-NEWSSTAND-PRESS-BLOCK\",\"blocks\":null,\"materials\":null,\"excludeInPaging\":false,\"positionForPaging\":0,\"realtime\":false,\"pid\":\"024\",\"name\":\"매경이코노미\",\"logoLight\":{\"url\":\"https://s.pstatic.net/static/newsstand/up/2025/0418/nsd173440524.png\"},\"logoDark\":{\"url\":\"https://s.pstatic.net/static/newsstand/up/2025/0418/nsd17345250.png\"},\"showThumbnailView\":true,\"showListView\":true,\"regDate\":\"20250806 21:00:02\",\"_id\":null,\"@type\":\"PC-NEWSSTAND-PRESS-BLOCK\",\"@code\":null,\"@template\":\"NONE\",\"@flowId\":null,\"@flowExecutionId\":null,\"@provider\":null,\"@lastModifiedAt\":null},{\"@type\":\"PC-NEWSSTAND-PRESS-BLOCK\",\"blocks\":null,\"materials\":null,\"excludeInPaging\":false,\"positionForPaging\":0,\"realtime\":false,\"pid\":\"387\",\"name\":\"인천일보\",\"logoLight\":{\"url\":\"https://s.pstatic.net/static/newsstand/up/2022/0331/nsd155937506.png\"},\"logoDark\":{\"url\":\"https://s.pstatic.net/static/newsstand/up/2022/0331/nsd15594915.png\"},\"showThumbnailView\":true,\"showListView\":true,\"regDate\":\"20250806 21:00:02\",\"_id\":null,\"@type\":\"PC-NEWSSTAND-PRESS-BLOCK\",\"@code\":null,\"@template\":\"NONE\",\"@flowId\":null,\"@flowExecutionId\":null,\"@provider\":null,\"@lastModifiedAt\":null},{\"@type\":\"PC-NEWSSTAND-PRESS-BLOCK\",\"blocks\":null,\"materials\":null,\"excludeInPaging\":false,\"positionForPaging\":0,\"realtime\":false,\"pid\":\"025\",\"name\":\"중앙일보\",\"logoLight\":{\"url\":\"https://s.pstatic.net/static/newsstand/up/2025/0418/nsd181542864.png\"},\"logoDark\":{\"url\":\"https://s.pstatic.net/static/newsstand/up/2025/0418/nsd181556674.png\"},\"showThumbnailView\":true,\"showListView\":true,\"regDate\":\"20250806 20:44:42\",\"_id\":null,\"@type\":\"PC-NEWSSTAND-PRESS-BLOCK\",\"@code\":null,\"@template\":\"NONE\",\"@flowId\":null,\"@flowExecutionId\":null,\"@provider\":null,\"@lastModifiedAt\":null},{\"@type\":\"PC-NEWSSTAND-PRESS-BLOCK\",\"blocks\":null,\"materials\":null,\"excludeInPaging\":false,\"positionForPaging\":0,\"realtime\":false,\"pid\":\"388\",\"name\":\"전남일보\",\"logoLight\":{\"url\":\"https://s.pstatic.net/static/newsstand/2020/logo/light/0604/388.png\"},\"logoDark\":{\"url\":\"https://s.pstatic.net/static/newsstand/2020/logo/dark/0604/388.png\"},\"showThumbnailView\":true,\"showListView\":true,\"regDate\":\"20250806 21:01:07\",\"_id\":null,\"@type\":\"PC-NEWSSTAND-PRESS-BLOCK\",\"@code\":null,\"@template\":\"NONE\",\"@flowId\":null,\"@flowExecutionId\":null,\"@provider\":null,\"@lastModifiedAt\":null},{\"@type\":\"PC-NEWSSTAND-PRESS-BLOCK\",\"blocks\":null,\"materials\":null,\"excludeInPaging\":false,\"positionForPaging\":0,\"realtime\":false,\"pid\":\"389\",\"name\":\"제주도민일보\",\"logoLight\":{\"url\":\"https://s.pstatic.net/static/newsstand/2020/logo/light/0604/389.png\"},\"logoDark\":{\"url\":\"https://s.pstatic.net/static/newsstand/2020/logo/dark/0604/389.png\"},\"showThumbnailView\":true,\"showListView\":true,\"regDate\":\"20250806 21:00:31\",\"_id\":null,\"@type\":\"PC-NEWSSTAND-PRESS-BLOCK\",\"@code\":null,\"@template\":\"NONE\",\"@flowId\":null,\"@flowExecutionId\":null,\"@provider\":null,\"@lastModifiedAt\":null},{\"@type\":\"PC-NEWSSTAND-PRESS-BLOCK\",\"blocks\":null,\"materials\":null,\"excludeInPaging\":false,\"positionForPaging\":0,\"realtime\":false,\"pid\":\"940\",\"name\":\"스포츠투데이\",\"logoLight\":{\"url\":\"https://s.pstatic.net/static/newsstand/up/2022/0328/nsd223244325.png\"},\"logoDark\":{\"url\":\"https://s.pstatic.net/static/newsstand/up/2022/0328/nsd223257107.png\"},\"showThumbnailView\":true,\"showListView\":true,\"regDate\":\"20250806 20:40:01\",\"_id\":null,\"@type\":\"PC-NEWSSTAND-PRESS-BLOCK\",\"@code\":null,\"@template\":\"NONE\",\"@flowId\":null,\"@flowExecutionId\":null,\"@provider\":null,\"@lastModifiedAt\":null},{\"@type\":\"PC-NEWSSTAND-PRESS-BLOCK\",\"blocks\":null,\"materials\":null,\"excludeInPaging\":false,\"positionForPaging\":0,\"realtime\":false,\"pid\":\"028\",\"name\":\"한겨레\",\"logoLight\":{\"url\":\"https://s.pstatic.net/static/newsstand/up/2025/0418/nsd182533332.png\"},\"logoDark\":{\"url\":\"https://s.pstatic.net/static/newsstand/up/2025/0418/nsd182547177.png\"},\"showThumbnailView\":true,\"showListView\":true,\"regDate\":\"20250806 21:00:18\",\"_id\":null,\"@type\":\"PC-NEWSSTAND-PRESS-BLOCK\",\"@code\":null,\"@template\":\"NONE\",\"@flowId\":null,\"@flowExecutionId\":null,\"@provider\":null,\"@lastModifiedAt\":null},{\"@type\":\"PC-NEWSSTAND-PRESS-BLOCK\",\"blocks\":null,\"materials\":null,\"excludeInPaging\":false,\"positionForPaging\":0,\"realtime\":false,\"pid\":\"820\",\"name\":\"월간노동법률\",\"logoLight\":{\"url\":\"https://s.pstatic.net/static/newsstand/up/2022/0817/nsd14480190.png\"},\"logoDark\":{\"url\":\"https://s.pstatic.net/static/newsstand/up/2022/0817/nsd144754102.png\"},\"showThumbnailView\":true,\"showListView\":true,\"regDate\":\"20250806 14:49:03\",\"_id\":null,\"@type\":\"PC-NEWSSTAND-PRESS-BLOCK\",\"@code\":null,\"@template\":\"NONE\",\"@flowId\":null,\"@flowExecutionId\":null,\"@provider\":null,\"@lastModifiedAt\":null},{\"@type\":\"PC-NEWSSTAND-PRESS-BLOCK\",\"blocks\":null,\"materials\":null,\"excludeInPaging\":false,\"positionForPaging\":0,\"realtime\":false,\"pid\":\"941\",\"name\":\"초이스경제\",\"logoLight\":{\"url\":\"https://s.pstatic.net/static/newsstand/2020/logo/light/0604/941.png\"},\"logoDark\":{\"url\":\"https://s.pstatic.net/static/newsstand/2020/logo/dark/0604/941.png\"},\"showThumbnailView\":true,\"showListView\":true,\"regDate\":\"20250806 17:25:01\",\"_id\":null,\"@type\":\"PC-NEWSSTAND-PRESS-BLOCK\",\"@code\":null,\"@template\":\"NONE\",\"@flowId\":null,\"@flowExecutionId\":null,\"@provider\":null,\"@lastModifiedAt\":null},{\"@type\":\"PC-NEWSSTAND-PRESS-BLOCK\",\"blocks\":null,\"materials\":null,\"excludeInPaging\":false,\"positionForPaging\":0,\"realtime\":false,\"pid\":\"029\",\"name\":\"디지털타임스\",\"logoLight\":{\"url\":\"https://s.pstatic.net/static/newsstand/up/2025/0418/nsd173331727.png\"},\"logoDark\":{\"url\":\"https://s.pstatic.net/static/newsstand/up/2025/0418/nsd173347174.png\"},\"showThumbnailView\":true,\"showListView\":true,\"regDate\":\"20250806 21:05:09\",\"_id\":null,\"@type\":\"PC-NEWSSTAND-PRESS-BLOCK\",\"@code\":null,\"@template\":\"NONE\",\"@flowId\":null,\"@flowExecutionId\":null,\"@provider\":null,\"@lastModifiedAt\":null},{\"@type\":\"PC-NEWSSTAND-PRESS-BLOCK\",\"blocks\":null,\"materials\":null,\"excludeInPaging\":false,\"positionForPaging\":0,\"realtime\":false,\"pid\":\"821\",\"name\":\"경남도민일보\",\"logoLight\":{\"url\":\"https://s.pstatic.net/static/newsstand/2020/logo/light/0604/821.png\"},\"logoDark\":{\"url\":\"https://s.pstatic.net/static/newsstand/2020/logo/dark/0604/821.png\"},\"showThumbnailView\":true,\"showListView\":true,\"regDate\":\"20250806 21:00:28\",\"_id\":null,\"@type\":\"PC-NEWSSTAND-PRESS-BLOCK\",\"@code\":null,\"@template\":\"NONE\",\"@flowId\":null,\"@flowExecutionId\":null,\"@provider\":null,\"@lastModifiedAt\":null},{\"@type\":\"PC-NEWSSTAND-PRESS-BLOCK\",\"blocks\":null,\"materials\":null,\"excludeInPaging\":false,\"positionForPaging\":0,\"realtime\":false,\"pid\":\"942\",\"name\":\"비즈니스포스트\",\"logoLight\":{\"url\":\"https://s.pstatic.net/static/newsstand/2020/logo/light/0604/942.png\"},\"logoDark\":{\"url\":\"https://s.pstatic.net/static/newsstand/2020/logo/dark/0604/942.png\"},\"showThumbnailView\":true,\"showListView\":true,\"regDate\":\"20250806 19:44:45\",\"_id\":null,\"@type\":\"PC-NEWSSTAND-PRESS-BLOCK\",\"@code\":null,\"@template\":\"NONE\",\"@flowId\":null,\"@flowExecutionId\":null,\"@provider\":null,\"@lastModifiedAt\":null},{\"@type\":\"PC-NEWSSTAND-PRESS-BLOCK\",\"blocks\":null,\"materials\":null,\"excludeInPaging\":false,\"positionForPaging\":0,\"realtime\":false,\"pid\":\"822\",\"name\":\"프라임경제\",\"logoLight\":{\"url\":\"https://s.pstatic.net/static/newsstand/up/2020/0730/nsd13728808.png\"},\"logoDark\":{\"url\":\"https://s.pstatic.net/static/newsstand/up/2020/0730/nsd13719939.png\"},\"showThumbnailView\":true,\"showListView\":true,\"regDate\":\"20250806 20:45:03\",\"_id\":null,\"@type\":\"PC-NEWSSTAND-PRESS-BLOCK\",\"@code\":null,\"@template\":\"NONE\",\"@flowId\":null,\"@flowExecutionId\":null,\"@provider\":null,\"@lastModifiedAt\":null},{\"@type\":\"PC-NEWSSTAND-PRESS-BLOCK\",\"blocks\":null,\"materials\":null,\"excludeInPaging\":false,\"positionForPaging\":0,\"realtime\":false,\"pid\":\"943\",\"name\":\"비즈워치\",\"logoLight\":{\"url\":\"https://s.pstatic.net/static/newsstand/up/2025/0418/nsd174454995.png\"},\"logoDark\":{\"url\":\"https://s.pstatic.net/static/newsstand/up/2025/0418/nsd17459528.png\"},\"showThumbnailView\":true,\"showListView\":true,\"regDate\":\"20250806 19:38:52\",\"_id\":null,\"@type\":\"PC-NEWSSTAND-PRESS-BLOCK\",\"@code\":null,\"@template\":\"NONE\",\"@flowId\":null,\"@flowExecutionId\":null,\"@provider\":null,\"@lastModifiedAt\":null},{\"@type\":\"PC-NEWSSTAND-PRESS-BLOCK\",\"blocks\":null,\"materials\":null,\"excludeInPaging\":false,\"positionForPaging\":0,\"realtime\":false,\"pid\":\"823\",\"name\":\"KPI뉴스\",\"logoLight\":{\"url\":\"https://s.pstatic.net/static/newsstand/up/2024/1101/nsd102910563.png\"},\"logoDark\":{\"url\":\"https://s.pstatic.net/static/newsstand/up/2024/1101/nsd10293597.png\"},\"showThumbnailView\":true,\"showListView\":true,\"regDate\":\"20250806 17:26:46\",\"_id\":null,\"@type\":\"PC-NEWSSTAND-PRESS-BLOCK\",\"@code\":null,\"@template\":\"NONE\",\"@flowId\":null,\"@flowExecutionId\":null,\"@provider\":null,\"@lastModifiedAt\":null},{\"@type\":\"PC-NEWSSTAND-PRESS-BLOCK\",\"blocks\":null,\"materials\":null,\"excludeInPaging\":false,\"positionForPaging\":0,\"realtime\":false,\"pid\":\"944\",\"name\":\"나우뉴스\",\"logoLight\":{\"url\":\"https://s.pstatic.net/static/newsstand/up/2022/0804/nsd1343054.png\"},\"logoDark\":{\"url\":\"https://s.pstatic.net/static/newsstand/up/2022/0804/nsd13457540.png\"},\"showThumbnailView\":true,\"showListView\":true,\"regDate\":\"20250806 18:45:51\",\"_id\":null,\"@type\":\"PC-NEWSSTAND-PRESS-BLOCK\",\"@code\":null,\"@template\":\"NONE\",\"@flowId\":null,\"@flowExecutionId\":null,\"@provider\":null,\"@lastModifiedAt\":null},{\"@type\":\"PC-NEWSSTAND-PRESS-BLOCK\",\"blocks\":null,\"materials\":null,\"excludeInPaging\":false,\"positionForPaging\":0,\"realtime\":false,\"pid\":\"824\",\"name\":\"서울파이낸스\",\"logoLight\":{\"url\":\"https://s.pstatic.net/static/newsstand/2020/logo/light/0604/824.png\"},\"logoDark\":{\"url\":\"https://s.pstatic.net/static/newsstand/2020/logo/dark/0604/824.png\"},\"showThumbnailView\":true,\"showListView\":true,\"regDate\":\"20250806 21:00:28\",\"_id\":null,\"@type\":\"PC-NEWSSTAND-PRESS-BLOCK\",\"@code\":null,\"@template\":\"NONE\",\"@flowId\":null,\"@flowExecutionId\":null,\"@provider\":null,\"@lastModifiedAt\":null},{\"@type\":\"PC-NEWSSTAND-PRESS-BLOCK\",\"blocks\":null,\"materials\":null,\"excludeInPaging\":false,\"positionForPaging\":0,\"realtime\":false,\"pid\":\"945\",\"name\":\"YTN사이언스\",\"logoLight\":{\"url\":\"https://s.pstatic.net/static/newsstand/up/2020/0922/nsd152336602.png\"},\"logoDark\":{\"url\":\"https://s.pstatic.net/static/newsstand/up/2020/0922/nsd152323211.png\"},\"showThumbnailView\":true,\"showListView\":true,\"regDate\":\"20250806 20:59:59\",\"_id\":null,\"@type\":\"PC-NEWSSTAND-PRESS-BLOCK\",\"@code\":null,\"@template\":\"NONE\",\"@flowId\":null,\"@flowExecutionId\":null,\"@provider\":null,\"@lastModifiedAt\":null},{\"@type\":\"PC-NEWSSTAND-PRESS-BLOCK\",\"blocks\":null,\"materials\":null,\"excludeInPaging\":false,\"positionForPaging\":0,\"realtime\":false,\"pid\":\"825\",\"name\":\"이로운넷\",\"logoLight\":{\"url\":\"https://s.pstatic.net/static/newsstand/2020/logo/light/0604/825.png\"},\"logoDark\":{\"url\":\"https://s.pstatic.net/static/newsstand/2020/logo/dark/0604/825.png\"},\"showThumbnailView\":true,\"showListView\":true,\"regDate\":\"20250806 21:00:29\",\"_id\":null,\"@type\":\"PC-NEWSSTAND-PRESS-BLOCK\",\"@code\":null,\"@template\":\"NONE\",\"@flowId\":null,\"@flowExecutionId\":null,\"@provider\":null,\"@lastModifiedAt\":null},{\"@type\":\"PC-NEWSSTAND-PRESS-BLOCK\",\"blocks\":null,\"materials\":null,\"excludeInPaging\":false,\"positionForPaging\":0,\"realtime\":false,\"pid\":\"946\",\"name\":\"YONHAPNEWS\",\"logoLight\":{\"url\":\"https://s.pstatic.net/static/newsstand/2020/logo/light/0604/946.png\"},\"logoDark\":{\"url\":\"https://s.pstatic.net/static/newsstand/2020/logo/dark/0604/946.png\"},\"showThumbnailView\":true,\"showListView\":true,\"regDate\":\"20250806 20:45:31\",\"_id\":null,\"@type\":\"PC-NEWSSTAND-PRESS-BLOCK\",\"@code\":null,\"@template\":\"NONE\",\"@flowId\":null,\"@flowExecutionId\":null,\"@provider\":null,\"@lastModifiedAt\":null},{\"@type\":\"PC-NEWSSTAND-PRESS-BLOCK\",\"blocks\":null,\"materials\":null,\"excludeInPaging\":false,\"positionForPaging\":0,\"realtime\":false,\"pid\":\"826\",\"name\":\"톱데일리\",\"logoLight\":{\"url\":\"https://s.pstatic.net/static/newsstand/up/2022/0817/nsd14491516.png\"},\"logoDark\":{\"url\":\"https://s.pstatic.net/static/newsstand/up/2022/0817/nsd14499446.png\"},\"showThumbnailView\":true,\"showListView\":true,\"regDate\":\"20250806 21:00:13\",\"_id\":null,\"@type\":\"PC-NEWSSTAND-PRESS-BLOCK\",\"@code\":null,\"@template\":\"NONE\",\"@flowId\":null,\"@flowExecutionId\":null,\"@provider\":null,\"@lastModifiedAt\":null},{\"@type\":\"PC-NEWSSTAND-PRESS-BLOCK\",\"blocks\":null,\"materials\":null,\"excludeInPaging\":false,\"positionForPaging\":0,\"realtime\":false,\"pid\":\"947\",\"name\":\"조이뉴스24\",\"logoLight\":{\"url\":\"https://s.pstatic.net/static/newsstand/2020/logo/light/0604/947.png\"},\"logoDark\":{\"url\":\"https://s.pstatic.net/static/newsstand/2020/logo/dark/0604/947.png\"},\"showThumbnailView\":true,\"showListView\":true,\"regDate\":\"20250806 20:55:38\",\"_id\":null,\"@type\":\"PC-NEWSSTAND-PRESS-BLOCK\",\"@code\":null,\"@template\":\"NONE\",\"@flowId\":null,\"@flowExecutionId\":null,\"@provider\":null,\"@lastModifiedAt\":null},{\"@type\":\"PC-NEWSSTAND-PRESS-BLOCK\",\"blocks\":null,\"materials\":null,\"excludeInPaging\":false,\"positionForPaging\":0,\"realtime\":false,\"pid\":\"827\",\"name\":\"베이비뉴스\",\"logoLight\":{\"url\":\"https://s.pstatic.net/static/newsstand/up/2021/0222/nsd13325188.png\"},\"logoDark\":{\"url\":\"https://s.pstatic.net/static/newsstand/up/2021/0222/nsd13338358.png\"},\"showThumbnailView\":true,\"showListView\":true,\"regDate\":\"20250806 21:00:36\",\"_id\":null,\"@type\":\"PC-NEWSSTAND-PRESS-BLOCK\",\"@code\":null,\"@template\":\"NONE\",\"@flowId\":null,\"@flowExecutionId\":null,\"@provider\":null,\"@lastModifiedAt\":null},{\"@type\":\"PC-NEWSSTAND-PRESS-BLOCK\",\"blocks\":null,\"materials\":null,\"excludeInPaging\":false,\"positionForPaging\":0,\"realtime\":false,\"pid\":\"948\",\"name\":\"한겨레21\",\"logoLight\":{\"url\":\"https://s.pstatic.net/static/newsstand/up/2025/0418/nsd182645116.png\"},\"logoDark\":{\"url\":\"https://s.pstatic.net/static/newsstand/up/2025/0418/nsd182657747.png\"},\"showThumbnailView\":true,\"showListView\":true,\"regDate\":\"20250806 18:16:38\",\"_id\":null,\"@type\":\"PC-NEWSSTAND-PRESS-BLOCK\",\"@code\":null,\"@template\":\"NONE\",\"@flowId\":null,\"@flowExecutionId\":null,\"@provider\":null,\"@lastModifiedAt\":null},{\"@type\":\"PC-NEWSSTAND-PRESS-BLOCK\",\"blocks\":null,\"materials\":null,\"excludeInPaging\":false,\"positionForPaging\":0,\"realtime\":false,\"pid\":\"828\",\"name\":\"식품저널 foodnews\",\"logoLight\":{\"url\":\"https://s.pstatic.net/static/newsstand/up/2021/0211/nsd0427277.png\"},\"logoDark\":{\"url\":\"https://s.pstatic.net/static/newsstand/up/2021/0211/nsd0439284.png\"},\"showThumbnailView\":true,\"showListView\":true,\"regDate\":\"20250806 21:00:31\",\"_id\":null,\"@type\":\"PC-NEWSSTAND-PRESS-BLOCK\",\"@code\":null,\"@template\":\"NONE\",\"@flowId\":null,\"@flowExecutionId\":null,\"@provider\":null,\"@lastModifiedAt\":null},{\"@type\":\"PC-NEWSSTAND-PRESS-BLOCK\",\"blocks\":null,\"materials\":null,\"excludeInPaging\":false,\"positionForPaging\":0,\"realtime\":false,\"pid\":\"829\",\"name\":\"미디어스\",\"logoLight\":{\"url\":\"https://s.pstatic.net/static/newsstand/up/2021/0211/nsd01153196.png\"},\"logoDark\":{\"url\":\"https://s.pstatic.net/static/newsstand/up/2021/0211/nsd01153196.png\"},\"showThumbnailView\":true,\"showListView\":true,\"regDate\":\"20250806 21:00:42\",\"_id\":null,\"@type\":\"PC-NEWSSTAND-PRESS-BLOCK\",\"@code\":null,\"@template\":\"NONE\",\"@flowId\":null,\"@flowExecutionId\":null,\"@provider\":null,\"@lastModifiedAt\":null},{\"@type\":\"PC-NEWSSTAND-PRESS-BLOCK\",\"blocks\":null,\"materials\":null,\"excludeInPaging\":false,\"positionForPaging\":0,\"realtime\":false,\"pid\":\"391\",\"name\":\"충청일보\",\"logoLight\":{\"url\":\"https://s.pstatic.net/static/newsstand/2020/logo/light/0604/391.png\"},\"logoDark\":{\"url\":\"https://s.pstatic.net/static/newsstand/2020/logo/dark/0604/391.png\"},\"showThumbnailView\":true,\"showListView\":true,\"regDate\":\"20250806 18:02:32\",\"_id\":null,\"@type\":\"PC-NEWSSTAND-PRESS-BLOCK\",\"@code\":null,\"@template\":\"NONE\",\"@flowId\":null,\"@flowExecutionId\":null,\"@provider\":null,\"@lastModifiedAt\":null},{\"@type\":\"PC-NEWSSTAND-PRESS-BLOCK\",\"blocks\":null,\"materials\":null,\"excludeInPaging\":false,\"positionForPaging\":0,\"realtime\":false,\"pid\":\"030\",\"name\":\"전자신문\",\"logoLight\":{\"url\":\"https://s.pstatic.net/static/newsstand/up/2025/0418/nsd1884140.png\"},\"logoDark\":{\"url\":\"https://s.pstatic.net/static/newsstand/up/2025/0418/nsd18815657.png\"},\"showThumbnailView\":true,\"showListView\":true,\"regDate\":\"20250806 21:00:15\",\"_id\":null,\"@type\":\"PC-NEWSSTAND-PRESS-BLOCK\",\"@code\":null,\"@template\":\"NONE\",\"@flowId\":null,\"@flowExecutionId\":null,\"@provider\":null,\"@lastModifiedAt\":null},{\"@type\":\"PC-NEWSSTAND-PRESS-BLOCK\",\"blocks\":null,\"materials\":null,\"excludeInPaging\":false,\"positionForPaging\":0,\"realtime\":false,\"pid\":\"031\",\"name\":\"아이뉴스24\",\"logoLight\":{\"url\":\"https://s.pstatic.net/static/newsstand/up/2025/0418/nsd18025837.png\"},\"logoDark\":{\"url\":\"https://s.pstatic.net/static/newsstand/up/2025/0418/nsd18039590.png\"},\"showThumbnailView\":true,\"showListView\":true,\"regDate\":\"20250806 21:01:19\",\"_id\":null,\"@type\":\"PC-NEWSSTAND-PRESS-BLOCK\",\"@code\":null,\"@template\":\"NONE\",\"@flowId\":null,\"@flowExecutionId\":null,\"@provider\":null,\"@lastModifiedAt\":null},{\"@type\":\"PC-NEWSSTAND-PRESS-BLOCK\",\"blocks\":null,\"materials\":null,\"excludeInPaging\":false,\"positionForPaging\":0,\"realtime\":false,\"pid\":\"032\",\"name\":\"경향신문\",\"logoLight\":{\"url\":\"https://s.pstatic.net/static/newsstand/up/2025/0418/nsd16545193.png\"},\"logoDark\":{\"url\":\"https://s.pstatic.net/static/newsstand/up/2025/0418/nsd165423235.png\"},\"showThumbnailView\":true,\"showListView\":true,\"regDate\":\"20250806 20:55:41\",\"_id\":null,\"@type\":\"PC-NEWSSTAND-PRESS-BLOCK\",\"@code\":null,\"@template\":\"NONE\",\"@flowId\":null,\"@flowExecutionId\":null,\"@provider\":null,\"@lastModifiedAt\":null},{\"@type\":\"PC-NEWSSTAND-PRESS-BLOCK\",\"blocks\":null,\"materials\":null,\"excludeInPaging\":false,\"positionForPaging\":0,\"realtime\":false,\"pid\":\"396\",\"name\":\"스포츠월드\",\"logoLight\":{\"url\":\"https://s.pstatic.net/static/newsstand/2020/logo/light/0604/396.png\"},\"logoDark\":{\"url\":\"https://s.pstatic.net/static/newsstand/2020/logo/dark/0604/396.png\"},\"showThumbnailView\":true,\"showListView\":true,\"regDate\":\"20250806 20:47:27\",\"_id\":null,\"@type\":\"PC-NEWSSTAND-PRESS-BLOCK\",\"@code\":null,\"@template\":\"NONE\",\"@flowId\":null,\"@flowExecutionId\":null,\"@provider\":null,\"@lastModifiedAt\":null},{\"@type\":\"PC-NEWSSTAND-PRESS-BLOCK\",\"blocks\":null,\"materials\":null,\"excludeInPaging\":false,\"positionForPaging\":0,\"realtime\":false,\"pid\":\"277\",\"name\":\"아시아경제\",\"logoLight\":{\"url\":\"https://s.pstatic.net/static/newsstand/up/2025/0418/nsd175927519.png\"},\"logoDark\":{\"url\":\"https://s.pstatic.net/static/newsstand/up/2025/0418/nsd175939310.png\"},\"showThumbnailView\":true,\"showListView\":true,\"regDate\":\"20250806 21:03:38\",\"_id\":null,\"@type\":\"PC-NEWSSTAND-PRESS-BLOCK\",\"@code\":null,\"@template\":\"NONE\",\"@flowId\":null,\"@flowExecutionId\":null,\"@provider\":null,\"@lastModifiedAt\":null},{\"@type\":\"PC-NEWSSTAND-PRESS-BLOCK\",\"blocks\":null,\"materials\":null,\"excludeInPaging\":false,\"positionForPaging\":0,\"realtime\":false,\"pid\":\"950\",\"name\":\"월간중앙\",\"logoLight\":{\"url\":\"https://s.pstatic.net/static/newsstand/up/2024/1015/nsd144951657.png\"},\"logoDark\":{\"url\":\"https://s.pstatic.net/static/newsstand/up/2024/1015/nsd14509252.png\"},\"showThumbnailView\":true,\"showListView\":true,\"regDate\":\"20250806 21:01:06\",\"_id\":null,\"@type\":\"PC-NEWSSTAND-PRESS-BLOCK\",\"@code\":null,\"@template\":\"NONE\",\"@flowId\":null,\"@flowExecutionId\":null,\"@provider\":null,\"@lastModifiedAt\":null},{\"@type\":\"PC-NEWSSTAND-PRESS-BLOCK\",\"blocks\":null,\"materials\":null,\"excludeInPaging\":false,\"positionForPaging\":0,\"realtime\":false,\"pid\":\"038\",\"name\":\"한국일보\",\"logoLight\":{\"url\":\"https://s.pstatic.net/static/newsstand/up/2025/0418/nsd183051314.png\"},\"logoDark\":{\"url\":\"https://s.pstatic.net/static/newsstand/up/2025/0418/nsd18312532.png\"},\"showThumbnailView\":true,\"showListView\":true,\"regDate\":\"20250806 21:00:46\",\"_id\":null,\"@type\":\"PC-NEWSSTAND-PRESS-BLOCK\",\"@code\":null,\"@template\":\"NONE\",\"@flowId\":null,\"@flowExecutionId\":null,\"@provider\":null,\"@lastModifiedAt\":null},{\"@type\":\"PC-NEWSSTAND-PRESS-BLOCK\",\"blocks\":null,\"materials\":null,\"excludeInPaging\":false,\"positionForPaging\":0,\"realtime\":false,\"pid\":\"830\",\"name\":\"게임동아\",\"logoLight\":{\"url\":\"https://s.pstatic.net/static/newsstand/up/2021/0211/nsd02321523.png\"},\"logoDark\":{\"url\":\"https://s.pstatic.net/static/newsstand/up/2021/0211/nsd02332888.png\"},\"showThumbnailView\":true,\"showListView\":true,\"regDate\":\"20250806 17:54:45\",\"_id\":null,\"@type\":\"PC-NEWSSTAND-PRESS-BLOCK\",\"@code\":null,\"@template\":\"NONE\",\"@flowId\":null,\"@flowExecutionId\":null,\"@provider\":null,\"@lastModifiedAt\":null},{\"@type\":\"PC-NEWSSTAND-PRESS-BLOCK\",\"blocks\":null,\"materials\":null,\"excludeInPaging\":false,\"positionForPaging\":0,\"realtime\":false,\"pid\":\"951\",\"name\":\"포브스코리아\",\"logoLight\":{\"url\":\"https://s.pstatic.net/static/newsstand/up/2025/0219/nsd122730866.png\"},\"logoDark\":{\"url\":\"https://s.pstatic.net/static/newsstand/up/2025/0219/nsd122750849.png\"},\"showThumbnailView\":true,\"showListView\":true,\"regDate\":\"20250806 21:01:07\",\"_id\":null,\"@type\":\"PC-NEWSSTAND-PRESS-BLOCK\",\"@code\":null,\"@template\":\"NONE\",\"@flowId\":null,\"@flowExecutionId\":null,\"@provider\":null,\"@lastModifiedAt\":null},{\"@type\":\"PC-NEWSSTAND-PRESS-BLOCK\",\"blocks\":null,\"materials\":null,\"excludeInPaging\":false,\"positionForPaging\":0,\"realtime\":false,\"pid\":\"952\",\"name\":\"보안뉴스\",\"logoLight\":{\"url\":\"https://s.pstatic.net/static/newsstand/2020/logo/light/0604/952.png\"},\"logoDark\":{\"url\":\"https://s.pstatic.net/static/newsstand/2020/logo/dark/0604/952.png\"},\"showThumbnailView\":true,\"showListView\":true,\"regDate\":\"20250806 13:51:00\",\"_id\":null,\"@type\":\"PC-NEWSSTAND-PRESS-BLOCK\",\"@code\":null,\"@template\":\"NONE\",\"@flowId\":null,\"@flowExecutionId\":null,\"@provider\":null,\"@lastModifiedAt\":null},{\"@type\":\"PC-NEWSSTAND-PRESS-BLOCK\",\"blocks\":null,\"materials\":null,\"excludeInPaging\":false,\"positionForPaging\":0,\"realtime\":false,\"pid\":\"953\",\"name\":\"디지털투데이\",\"logoLight\":{\"url\":\"https://s.pstatic.net/static/newsstand/2020/logo/light/0604/953.png\"},\"logoDark\":{\"url\":\"https://s.pstatic.net/static/newsstand/2020/logo/dark/0604/953.png\"},\"showThumbnailView\":true,\"showListView\":true,\"regDate\":\"20250806 21:00:03\",\"_id\":null,\"@type\":\"PC-NEWSSTAND-PRESS-BLOCK\",\"@code\":null,\"@template\":\"NONE\",\"@flowId\":null,\"@flowExecutionId\":null,\"@provider\":null,\"@lastModifiedAt\":null},{\"@type\":\"PC-NEWSSTAND-PRESS-BLOCK\",\"blocks\":null,\"materials\":null,\"excludeInPaging\":false,\"positionForPaging\":0,\"realtime\":false,\"pid\":\"954\",\"name\":\"CNB뉴스\",\"logoLight\":{\"url\":\"https://s.pstatic.net/static/newsstand/2020/logo/light/0604/954.png\"},\"logoDark\":{\"url\":\"https://s.pstatic.net/static/newsstand/2020/logo/dark/0604/954.png\"},\"showThumbnailView\":true,\"showListView\":true,\"regDate\":\"20250806 21:00:02\",\"_id\":null,\"@type\":\"PC-NEWSSTAND-PRESS-BLOCK\",\"@code\":null,\"@template\":\"NONE\",\"@flowId\":null,\"@flowExecutionId\":null,\"@provider\":null,\"@lastModifiedAt\":null},{\"@type\":\"PC-NEWSSTAND-PRESS-BLOCK\",\"blocks\":null,\"materials\":null,\"excludeInPaging\":false,\"positionForPaging\":0,\"realtime\":false,\"pid\":\"955\",\"name\":\"독서신문\",\"logoLight\":{\"url\":\"https://s.pstatic.net/static/newsstand/2020/logo/light/0604/955.png\"},\"logoDark\":{\"url\":\"https://s.pstatic.net/static/newsstand/2020/logo/dark/0604/955.png\"},\"showThumbnailView\":true,\"showListView\":true,\"regDate\":\"20250806 21:00:04\",\"_id\":null,\"@type\":\"PC-NEWSSTAND-PRESS-BLOCK\",\"@code\":null,\"@template\":\"NONE\",\"@flowId\":null,\"@flowExecutionId\":null,\"@provider\":null,\"@lastModifiedAt\":null},{\"@type\":\"PC-NEWSSTAND-PRESS-BLOCK\",\"blocks\":null,\"materials\":null,\"excludeInPaging\":false,\"positionForPaging\":0,\"realtime\":false,\"pid\":\"956\",\"name\":\"철강금속신문\",\"logoLight\":{\"url\":\"https://s.pstatic.net/static/newsstand/2020/logo/light/0604/956.png\"},\"logoDark\":{\"url\":\"https://s.pstatic.net/static/newsstand/2020/logo/dark/0604/956.png\"},\"showThumbnailView\":true,\"showListView\":true,\"regDate\":\"20250806 21:00:03\",\"_id\":null,\"@type\":\"PC-NEWSSTAND-PRESS-BLOCK\",\"@code\":null,\"@template\":\"NONE\",\"@flowId\":null,\"@flowExecutionId\":null,\"@provider\":null,\"@lastModifiedAt\":null},{\"@type\":\"PC-NEWSSTAND-PRESS-BLOCK\",\"blocks\":null,\"materials\":null,\"excludeInPaging\":false,\"positionForPaging\":0,\"realtime\":false,\"pid\":\"957\",\"name\":\"시사위크\",\"logoLight\":{\"url\":\"https://s.pstatic.net/static/newsstand/2020/logo/light/0604/957.png\"},\"logoDark\":{\"url\":\"https://s.pstatic.net/static/newsstand/2020/logo/dark/0604/957.png\"},\"showThumbnailView\":true,\"showListView\":true,\"regDate\":\"20250806 18:29:39\",\"_id\":null,\"@type\":\"PC-NEWSSTAND-PRESS-BLOCK\",\"@code\":null,\"@template\":\"NONE\",\"@flowId\":null,\"@flowExecutionId\":null,\"@provider\":null,\"@lastModifiedAt\":null},{\"@type\":\"PC-NEWSSTAND-PRESS-BLOCK\",\"blocks\":null,\"materials\":null,\"excludeInPaging\":false,\"positionForPaging\":0,\"realtime\":false,\"pid\":\"958\",\"name\":\"베리타스알파\",\"logoLight\":{\"url\":\"https://s.pstatic.net/static/newsstand/up/2023/0826/nsd0145257.png\"},\"logoDark\":{\"url\":\"https://s.pstatic.net/static/newsstand/up/2023/0826/nsd0136682.png\"},\"showThumbnailView\":true,\"showListView\":true,\"regDate\":\"20250806 21:01:04\",\"_id\":null,\"@type\":\"PC-NEWSSTAND-PRESS-BLOCK\",\"@code\":null,\"@template\":\"NONE\",\"@flowId\":null,\"@flowExecutionId\":null,\"@provider\":null,\"@lastModifiedAt\":null},{\"@type\":\"PC-NEWSSTAND-PRESS-BLOCK\",\"blocks\":null,\"materials\":null,\"excludeInPaging\":false,\"positionForPaging\":0,\"realtime\":false,\"pid\":\"959\",\"name\":\"M이코노미뉴스\",\"logoLight\":{\"url\":\"https://s.pstatic.net/static/newsstand/up/2021/1221/nsd15292271.png\"},\"logoDark\":{\"url\":\"https://s.pstatic.net/static/newsstand/up/2021/1221/nsd171157172.png\"},\"showThumbnailView\":true,\"showListView\":true,\"regDate\":\"20250806 21:00:09\",\"_id\":null,\"@type\":\"PC-NEWSSTAND-PRESS-BLOCK\",\"@code\":null,\"@template\":\"NONE\",\"@flowId\":null,\"@flowExecutionId\":null,\"@provider\":null,\"@lastModifiedAt\":null},{\"@type\":\"PC-NEWSSTAND-PRESS-BLOCK\",\"blocks\":null,\"materials\":null,\"excludeInPaging\":false,\"positionForPaging\":0,\"realtime\":false,\"pid\":\"040\",\"name\":\"코리아타임스\",\"logoLight\":{\"url\":\"https://s.pstatic.net/static/newsstand/2020/logo/light/0604/040.png\"},\"logoDark\":{\"url\":\"https://s.pstatic.net/static/newsstand/2020/logo/dark/0604/040.png\"},\"showThumbnailView\":true,\"showListView\":true,\"regDate\":\"20250806 21:00:04\",\"_id\":null,\"@type\":\"PC-NEWSSTAND-PRESS-BLOCK\",\"@code\":null,\"@template\":\"NONE\",\"@flowId\":null,\"@flowExecutionId\":null,\"@provider\":null,\"@lastModifiedAt\":null},{\"@type\":\"PC-NEWSSTAND-PRESS-BLOCK\",\"blocks\":null,\"materials\":null,\"excludeInPaging\":false,\"positionForPaging\":0,\"realtime\":false,\"pid\":\"042\",\"name\":\"데일리한국\",\"logoLight\":{\"url\":\"https://s.pstatic.net/static/newsstand/2020/logo/light/0604/042.png\"},\"logoDark\":{\"url\":\"https://s.pstatic.net/static/newsstand/2020/logo/dark/0604/042.png\"},\"showThumbnailView\":true,\"showListView\":true,\"regDate\":\"20250806 21:00:40\",\"_id\":null,\"@type\":\"PC-NEWSSTAND-PRESS-BLOCK\",\"@code\":null,\"@template\":\"NONE\",\"@flowId\":null,\"@flowExecutionId\":null,\"@provider\":null,\"@lastModifiedAt\":null},{\"@type\":\"PC-NEWSSTAND-PRESS-BLOCK\",\"blocks\":null,\"materials\":null,\"excludeInPaging\":false,\"positionForPaging\":0,\"realtime\":false,\"pid\":\"044\",\"name\":\"코리아헤럴드\",\"logoLight\":{\"url\":\"https://s.pstatic.net/static/newsstand/up/2025/0418/nsd182116196.png\"},\"logoDark\":{\"url\":\"https://s.pstatic.net/static/newsstand/up/2025/0418/nsd182130812.png\"},\"showThumbnailView\":true,\"showListView\":true,\"regDate\":\"20250806 18:12:12\",\"_id\":null,\"@type\":\"PC-NEWSSTAND-PRESS-BLOCK\",\"@code\":null,\"@template\":\"NONE\",\"@flowId\":null,\"@flowExecutionId\":null,\"@provider\":null,\"@lastModifiedAt\":null},{\"@type\":\"PC-NEWSSTAND-PRESS-BLOCK\",\"blocks\":null,\"materials\":null,\"excludeInPaging\":false,\"positionForPaging\":0,\"realtime\":false,\"pid\":\"047\",\"name\":\"오마이뉴스\",\"logoLight\":{\"url\":\"https://s.pstatic.net/static/newsstand/up/2025/0418/nsd18344563.png\"},\"logoDark\":{\"url\":\"https://s.pstatic.net/static/newsstand/up/2025/0418/nsd18355852.png\"},\"showThumbnailView\":true,\"showListView\":true,\"regDate\":\"20250806 20:18:09\",\"_id\":null,\"@type\":\"PC-NEWSSTAND-PRESS-BLOCK\",\"@code\":null,\"@template\":\"NONE\",\"@flowId\":null,\"@flowExecutionId\":null,\"@provider\":null,\"@lastModifiedAt\":null},{\"@type\":\"PC-NEWSSTAND-PRESS-BLOCK\",\"blocks\":null,\"materials\":null,\"excludeInPaging\":false,\"positionForPaging\":0,\"realtime\":false,\"pid\":\"960\",\"name\":\"대한경제\",\"logoLight\":{\"url\":\"https://s.pstatic.net/static/newsstand/up/2022/1115/nsd153942530.png\"},\"logoDark\":{\"url\":\"https://s.pstatic.net/static/newsstand/up/2022/1115/nsd153934427.png\"},\"showThumbnailView\":true,\"showListView\":true,\"regDate\":\"20250806 21:00:22\",\"_id\":null,\"@type\":\"PC-NEWSSTAND-PRESS-BLOCK\",\"@code\":null,\"@template\":\"NONE\",\"@flowId\":null,\"@flowExecutionId\":null,\"@provider\":null,\"@lastModifiedAt\":null},{\"@type\":\"PC-NEWSSTAND-PRESS-BLOCK\",\"blocks\":null,\"materials\":null,\"excludeInPaging\":false,\"positionForPaging\":0,\"realtime\":false,\"pid\":\"961\",\"name\":\"메트로신문\",\"logoLight\":{\"url\":\"https://s.pstatic.net/static/newsstand/2020/logo/light/0604/961.png\"},\"logoDark\":{\"url\":\"https://s.pstatic.net/static/newsstand/2020/logo/dark/0604/961.png\"},\"showThumbnailView\":true,\"showListView\":true,\"regDate\":\"20250806 18:16:07\",\"_id\":null,\"@type\":\"PC-NEWSSTAND-PRESS-BLOCK\",\"@code\":null,\"@template\":\"NONE\",\"@flowId\":null,\"@flowExecutionId\":null,\"@provider\":null,\"@lastModifiedAt\":null},{\"@type\":\"PC-NEWSSTAND-PRESS-BLOCK\",\"blocks\":null,\"materials\":null,\"excludeInPaging\":false,\"positionForPaging\":0,\"realtime\":false,\"pid\":\"962\",\"name\":\"스포츠한국\",\"logoLight\":{\"url\":\"https://s.pstatic.net/static/newsstand/2020/logo/light/0604/962.png\"},\"logoDark\":{\"url\":\"https://s.pstatic.net/static/newsstand/2020/logo/dark/0604/962.png\"},\"showThumbnailView\":true,\"showListView\":true,\"regDate\":\"20250806 21:00:41\",\"_id\":null,\"@type\":\"PC-NEWSSTAND-PRESS-BLOCK\",\"@code\":null,\"@template\":\"NONE\",\"@flowId\":null,\"@flowExecutionId\":null,\"@provider\":null,\"@lastModifiedAt\":null},{\"@type\":\"PC-NEWSSTAND-PRESS-BLOCK\",\"blocks\":null,\"materials\":null,\"excludeInPaging\":false,\"positionForPaging\":0,\"realtime\":false,\"pid\":\"963\",\"name\":\"에너지경제\",\"logoLight\":{\"url\":\"https://s.pstatic.net/static/newsstand/2020/logo/light/0604/963.png\"},\"logoDark\":{\"url\":\"https://s.pstatic.net/static/newsstand/2020/logo/dark/0604/963.png\"},\"showThumbnailView\":true,\"showListView\":true,\"regDate\":\"20250806 21:00:01\",\"_id\":null,\"@type\":\"PC-NEWSSTAND-PRESS-BLOCK\",\"@code\":null,\"@template\":\"NONE\",\"@flowId\":null,\"@flowExecutionId\":null,\"@provider\":null,\"@lastModifiedAt\":null},{\"@type\":\"PC-NEWSSTAND-PRESS-BLOCK\",\"blocks\":null,\"materials\":null,\"excludeInPaging\":false,\"positionForPaging\":0,\"realtime\":false,\"pid\":\"964\",\"name\":\"이뉴스투데이\",\"logoLight\":{\"url\":\"https://s.pstatic.net/static/newsstand/2020/logo/light/0604/964.png\"},\"logoDark\":{\"url\":\"https://s.pstatic.net/static/newsstand/2020/logo/dark/0604/964.png\"},\"showThumbnailView\":true,\"showListView\":true,\"regDate\":\"20250806 18:05:44\",\"_id\":null,\"@type\":\"PC-NEWSSTAND-PRESS-BLOCK\",\"@code\":null,\"@template\":\"NONE\",\"@flowId\":null,\"@flowExecutionId\":null,\"@provider\":null,\"@lastModifiedAt\":null},{\"@type\":\"PC-NEWSSTAND-PRESS-BLOCK\",\"blocks\":null,\"materials\":null,\"excludeInPaging\":false,\"positionForPaging\":0,\"realtime\":false,\"pid\":\"965\",\"name\":\"전기신문\",\"logoLight\":{\"url\":\"https://s.pstatic.net/static/newsstand/2020/logo/light/0604/965.png\"},\"logoDark\":{\"url\":\"https://s.pstatic.net/static/newsstand/2020/logo/dark/0604/965.png\"},\"showThumbnailView\":true,\"showListView\":true,\"regDate\":\"20250806 21:00:39\",\"_id\":null,\"@type\":\"PC-NEWSSTAND-PRESS-BLOCK\",\"@code\":null,\"@template\":\"NONE\",\"@flowId\":null,\"@flowExecutionId\":null,\"@provider\":null,\"@lastModifiedAt\":null},{\"@type\":\"PC-NEWSSTAND-PRESS-BLOCK\",\"blocks\":null,\"materials\":null,\"excludeInPaging\":false,\"positionForPaging\":0,\"realtime\":false,\"pid\":\"966\",\"name\":\"정신의학신문\",\"logoLight\":{\"url\":\"https://s.pstatic.net/static/newsstand/2020/logo/light/0604/966.png\"},\"logoDark\":{\"url\":\"https://s.pstatic.net/static/newsstand/2020/logo/dark/0604/966.png\"},\"showThumbnailView\":true,\"showListView\":true,\"regDate\":\"20250806 21:00:37\",\"_id\":null,\"@type\":\"PC-NEWSSTAND-PRESS-BLOCK\",\"@code\":null,\"@template\":\"NONE\",\"@flowId\":null,\"@flowExecutionId\":null,\"@provider\":null,\"@lastModifiedAt\":null},{\"@type\":\"PC-NEWSSTAND-PRESS-BLOCK\",\"blocks\":null,\"materials\":null,\"excludeInPaging\":false,\"positionForPaging\":0,\"realtime\":false,\"pid\":\"967\",\"name\":\"코리아쉬핑가제트\",\"logoLight\":{\"url\":\"https://s.pstatic.net/static/newsstand/2020/logo/light/0604/967.png\"},\"logoDark\":{\"url\":\"https://s.pstatic.net/static/newsstand/2020/logo/dark/0604/967.png\"},\"showThumbnailView\":true,\"showListView\":true,\"regDate\":\"20250806 20:50:05\",\"_id\":null,\"@type\":\"PC-NEWSSTAND-PRESS-BLOCK\",\"@code\":null,\"@template\":\"NONE\",\"@flowId\":null,\"@flowExecutionId\":null,\"@provider\":null,\"@lastModifiedAt\":null},{\"@type\":\"PC-NEWSSTAND-PRESS-BLOCK\",\"blocks\":null,\"materials\":null,\"excludeInPaging\":false,\"positionForPaging\":0,\"realtime\":false,\"pid\":\"968\",\"name\":\"한국금융신문\",\"logoLight\":{\"url\":\"https://s.pstatic.net/static/newsstand/2020/logo/light/0604/968.png\"},\"logoDark\":{\"url\":\"https://s.pstatic.net/static/newsstand/2020/logo/dark/0604/968.png\"},\"showThumbnailView\":true,\"showListView\":true,\"regDate\":\"20250806 20:34:36\",\"_id\":null,\"@type\":\"PC-NEWSSTAND-PRESS-BLOCK\",\"@code\":null,\"@template\":\"NONE\",\"@flowId\":null,\"@flowExecutionId\":null,\"@provider\":null,\"@lastModifiedAt\":null},{\"@type\":\"PC-NEWSSTAND-PRESS-BLOCK\",\"blocks\":null,\"materials\":null,\"excludeInPaging\":false,\"positionForPaging\":0,\"realtime\":false,\"pid\":\"969\",\"name\":\"매일노동뉴스\",\"logoLight\":{\"url\":\"https://s.pstatic.net/static/newsstand/2020/logo/light/0604/969.png\"},\"logoDark\":{\"url\":\"https://s.pstatic.net/static/newsstand/2020/logo/dark/0604/969.png\"},\"showThumbnailView\":true,\"showListView\":true,\"regDate\":\"20250806 13:48:23\",\"_id\":null,\"@type\":\"PC-NEWSSTAND-PRESS-BLOCK\",\"@code\":null,\"@template\":\"NONE\",\"@flowId\":null,\"@flowExecutionId\":null,\"@provider\":null,\"@lastModifiedAt\":null},{\"@type\":\"PC-NEWSSTAND-PRESS-BLOCK\",\"blocks\":null,\"materials\":null,\"excludeInPaging\":false,\"positionForPaging\":0,\"realtime\":false,\"pid\":\"050\",\"name\":\"한경비즈니스\",\"logoLight\":{\"url\":\"https://s.pstatic.net/static/newsstand/up/2025/0418/nsd182742490.png\"},\"logoDark\":{\"url\":\"https://s.pstatic.net/static/newsstand/up/2025/0418/nsd182757714.png\"},\"showThumbnailView\":true,\"showListView\":true,\"regDate\":\"20250806 16:51:01\",\"_id\":null,\"@type\":\"PC-NEWSSTAND-PRESS-BLOCK\",\"@code\":null,\"@template\":\"NONE\",\"@flowId\":null,\"@flowExecutionId\":null,\"@provider\":null,\"@lastModifiedAt\":null},{\"@type\":\"PC-NEWSSTAND-PRESS-BLOCK\",\"blocks\":null,\"materials\":null,\"excludeInPaging\":false,\"positionForPaging\":0,\"realtime\":false,\"pid\":\"293\",\"name\":\"블로터\",\"logoLight\":{\"url\":\"https://s.pstatic.net/static/newsstand/up/2025/0418/nsd17435516.png\"},\"logoDark\":{\"url\":\"https://s.pstatic.net/static/newsstand/up/2025/0418/nsd17448335.png\"},\"showThumbnailView\":true,\"showListView\":true,\"regDate\":\"20250806 21:00:47\",\"_id\":null,\"@type\":\"PC-NEWSSTAND-PRESS-BLOCK\",\"@code\":null,\"@template\":\"NONE\",\"@flowId\":null,\"@flowExecutionId\":null,\"@provider\":null,\"@lastModifiedAt\":null},{\"@type\":\"PC-NEWSSTAND-PRESS-BLOCK\",\"blocks\":null,\"materials\":null,\"excludeInPaging\":false,\"positionForPaging\":0,\"realtime\":false,\"pid\":\"052\",\"name\":\"YTN\",\"logoLight\":{\"url\":\"https://s.pstatic.net/static/newsstand/up/2025/0418/nsd162134806.png\"},\"logoDark\":{\"url\":\"https://s.pstatic.net/static/newsstand/2020/logo/dark/0604/052.png\"},\"showThumbnailView\":true,\"showListView\":true,\"regDate\":\"20250806 20:59:52\",\"_id\":null,\"@type\":\"PC-NEWSSTAND-PRESS-BLOCK\",\"@code\":null,\"@template\":\"NONE\",\"@flowId\":null,\"@flowExecutionId\":null,\"@provider\":null,\"@lastModifiedAt\":null},{\"@type\":\"PC-NEWSSTAND-PRESS-BLOCK\",\"blocks\":null,\"materials\":null,\"excludeInPaging\":false,\"positionForPaging\":0,\"realtime\":false,\"pid\":\"296\",\"name\":\"코메디닷컴\",\"logoLight\":{\"url\":\"https://s.pstatic.net/static/newsstand/up/2025/0418/nsd182222162.png\"},\"logoDark\":{\"url\":\"https://s.pstatic.net/static/newsstand/up/2025/0418/nsd182235729.png\"},\"showThumbnailView\":true,\"showListView\":true,\"regDate\":\"20250806 17:20:26\",\"_id\":null,\"@type\":\"PC-NEWSSTAND-PRESS-BLOCK\",\"@code\":null,\"@template\":\"NONE\",\"@flowId\":null,\"@flowExecutionId\":null,\"@provider\":null,\"@lastModifiedAt\":null},{\"@type\":\"PC-NEWSSTAND-PRESS-BLOCK\",\"blocks\":null,\"materials\":null,\"excludeInPaging\":false,\"positionForPaging\":0,\"realtime\":false,\"pid\":\"055\",\"name\":\"SBS\",\"logoLight\":{\"url\":\"https://s.pstatic.net/static/newsstand/up/2025/0418/nsd161750512.png\"},\"logoDark\":{\"url\":\"https://s.pstatic.net/static/newsstand/up/2025/0418/nsd16183692.png\"},\"showThumbnailView\":true,\"showListView\":true,\"regDate\":\"20250806 21:01:16\",\"_id\":null,\"@type\":\"PC-NEWSSTAND-PRESS-BLOCK\",\"@code\":null,\"@template\":\"NONE\",\"@flowId\":null,\"@flowExecutionId\":null,\"@provider\":null,\"@lastModifiedAt\":null},{\"@type\":\"PC-NEWSSTAND-PRESS-BLOCK\",\"blocks\":null,\"materials\":null,\"excludeInPaging\":false,\"positionForPaging\":0,\"realtime\":false,\"pid\":\"056\",\"name\":\"KBS\",\"logoLight\":{\"url\":\"https://s.pstatic.net/static/newsstand/up/2025/0418/nsd161319927.png\"},\"logoDark\":{\"url\":\"https://s.pstatic.net/static/newsstand/up/2025/0418/nsd161333220.png\"},\"showThumbnailView\":true,\"showListView\":true,\"regDate\":\"20250806 21:00:57\",\"_id\":null,\"@type\":\"PC-NEWSSTAND-PRESS-BLOCK\",\"@code\":null,\"@template\":\"NONE\",\"@flowId\":null,\"@flowExecutionId\":null,\"@provider\":null,\"@lastModifiedAt\":null},{\"@type\":\"PC-NEWSSTAND-PRESS-BLOCK\",\"blocks\":null,\"materials\":null,\"excludeInPaging\":false,\"positionForPaging\":0,\"realtime\":false,\"pid\":\"057\",\"name\":\"MBN\",\"logoLight\":{\"url\":\"https://s.pstatic.net/static/newsstand/up/2025/0418/nsd161629389.png\"},\"logoDark\":{\"url\":\"https://s.pstatic.net/static/newsstand/up/2025/0418/nsd161647802.png\"},\"showThumbnailView\":true,\"showListView\":true,\"regDate\":\"20250806 21:05:01\",\"_id\":null,\"@type\":\"PC-NEWSSTAND-PRESS-BLOCK\",\"@code\":null,\"@template\":\"NONE\",\"@flowId\":null,\"@flowExecutionId\":null,\"@provider\":null,\"@lastModifiedAt\":null},{\"@type\":\"PC-NEWSSTAND-PRESS-BLOCK\",\"blocks\":null,\"materials\":null,\"excludeInPaging\":false,\"positionForPaging\":0,\"realtime\":false,\"pid\":\"970\",\"name\":\"소비자가만드는신문\",\"logoLight\":{\"url\":\"https://s.pstatic.net/static/newsstand/2020/logo/light/0604/970.png\"},\"logoDark\":{\"url\":\"https://s.pstatic.net/static/newsstand/2020/logo/dark/0604/970.png\"},\"showThumbnailView\":true,\"showListView\":true,\"regDate\":\"20250806 17:55:19\",\"_id\":null,\"@type\":\"PC-NEWSSTAND-PRESS-BLOCK\",\"@code\":null,\"@template\":\"NONE\",\"@flowId\":null,\"@flowExecutionId\":null,\"@provider\":null,\"@lastModifiedAt\":null},{\"@type\":\"PC-NEWSSTAND-PRESS-BLOCK\",\"blocks\":null,\"materials\":null,\"excludeInPaging\":false,\"positionForPaging\":0,\"realtime\":false,\"pid\":\"971\",\"name\":\"일요시사\",\"logoLight\":{\"url\":\"https://s.pstatic.net/static/newsstand/2020/logo/light/0604/971.png\"},\"logoDark\":{\"url\":\"https://s.pstatic.net/static/newsstand/2020/logo/dark/0604/971.png\"},\"showThumbnailView\":true,\"showListView\":true,\"regDate\":\"20250806 21:00:02\",\"_id\":null,\"@type\":\"PC-NEWSSTAND-PRESS-BLOCK\",\"@code\":null,\"@template\":\"NONE\",\"@flowId\":null,\"@flowExecutionId\":null,\"@provider\":null,\"@lastModifiedAt\":null},{\"@type\":\"PC-NEWSSTAND-PRESS-BLOCK\",\"blocks\":null,\"materials\":null,\"excludeInPaging\":false,\"positionForPaging\":0,\"realtime\":false,\"pid\":\"972\",\"name\":\"PD저널\",\"logoLight\":{\"url\":\"https://s.pstatic.net/static/newsstand/2020/logo/light/0604/972.png\"},\"logoDark\":{\"url\":\"https://s.pstatic.net/static/newsstand/2020/logo/dark/0604/972.png\"},\"showThumbnailView\":true,\"showListView\":true,\"regDate\":\"20250806 09:35:24\",\"_id\":null,\"@type\":\"PC-NEWSSTAND-PRESS-BLOCK\",\"@code\":null,\"@template\":\"NONE\",\"@flowId\":null,\"@flowExecutionId\":null,\"@provider\":null,\"@lastModifiedAt\":null},{\"@type\":\"PC-NEWSSTAND-PRESS-BLOCK\",\"blocks\":null,\"materials\":null,\"excludeInPaging\":false,\"positionForPaging\":0,\"realtime\":false,\"pid\":\"973\",\"name\":\"비즈한국\",\"logoLight\":{\"url\":\"https://s.pstatic.net/static/newsstand/2020/logo/light/0604/973.png\"},\"logoDark\":{\"url\":\"https://s.pstatic.net/static/newsstand/2020/logo/dark/0604/973.png\"},\"showThumbnailView\":true,\"showListView\":true,\"regDate\":\"20250806 21:01:42\",\"_id\":null,\"@type\":\"PC-NEWSSTAND-PRESS-BLOCK\",\"@code\":null,\"@template\":\"NONE\",\"@flowId\":null,\"@flowExecutionId\":null,\"@provider\":null,\"@lastModifiedAt\":null},{\"@type\":\"PC-NEWSSTAND-PRESS-BLOCK\",\"blocks\":null,\"materials\":null,\"excludeInPaging\":false,\"positionForPaging\":0,\"realtime\":false,\"pid\":\"974\",\"name\":\"BBS NEWS\",\"logoLight\":{\"url\":\"https://s.pstatic.net/static/newsstand/2020/logo/light/0604/974.png\"},\"logoDark\":{\"url\":\"https://s.pstatic.net/static/newsstand/2020/logo/dark/0604/974.png\"},\"showThumbnailView\":true,\"showListView\":true,\"regDate\":\"20250806 16:22:48\",\"_id\":null,\"@type\":\"PC-NEWSSTAND-PRESS-BLOCK\",\"@code\":null,\"@template\":\"NONE\",\"@flowId\":null,\"@flowExecutionId\":null,\"@provider\":null,\"@lastModifiedAt\":null},{\"@type\":\"PC-NEWSSTAND-PRESS-BLOCK\",\"blocks\":null,\"materials\":null,\"excludeInPaging\":false,\"positionForPaging\":0,\"realtime\":false,\"pid\":\"975\",\"name\":\"시사저널이코노미\",\"logoLight\":{\"url\":\"https://s.pstatic.net/static/newsstand/2020/logo/light/0604/975.png\"},\"logoDark\":{\"url\":\"https://s.pstatic.net/static/newsstand/2020/logo/dark/0604/975.png\"},\"showThumbnailView\":true,\"showListView\":true,\"regDate\":\"20250806 21:00:06\",\"_id\":null,\"@type\":\"PC-NEWSSTAND-PRESS-BLOCK\",\"@code\":null,\"@template\":\"NONE\",\"@flowId\":null,\"@flowExecutionId\":null,\"@provider\":null,\"@lastModifiedAt\":null},{\"@type\":\"PC-NEWSSTAND-PRESS-BLOCK\",\"blocks\":null,\"materials\":null,\"excludeInPaging\":false,\"positionForPaging\":0,\"realtime\":false,\"pid\":\"976\",\"name\":\"무등일보\",\"logoLight\":{\"url\":\"https://s.pstatic.net/static/newsstand/2020/logo/light/0604/976.png\"},\"logoDark\":{\"url\":\"https://s.pstatic.net/static/newsstand/2020/logo/dark/0604/976.png\"},\"showThumbnailView\":true,\"showListView\":true,\"regDate\":\"20250806 21:00:09\",\"_id\":null,\"@type\":\"PC-NEWSSTAND-PRESS-BLOCK\",\"@code\":null,\"@template\":\"NONE\",\"@flowId\":null,\"@flowExecutionId\":null,\"@provider\":null,\"@lastModifiedAt\":null},{\"@type\":\"PC-NEWSSTAND-PRESS-BLOCK\",\"blocks\":null,\"materials\":null,\"excludeInPaging\":false,\"positionForPaging\":0,\"realtime\":false,\"pid\":\"977\",\"name\":\"헬로디디\",\"logoLight\":{\"url\":\"https://s.pstatic.net/static/newsstand/2020/logo/light/0604/977.png\"},\"logoDark\":{\"url\":\"https://s.pstatic.net/static/newsstand/2020/logo/dark/0604/977.png\"},\"showThumbnailView\":true,\"showListView\":true,\"regDate\":\"20250806 21:00:30\",\"_id\":null,\"@type\":\"PC-NEWSSTAND-PRESS-BLOCK\",\"@code\":null,\"@template\":\"NONE\",\"@flowId\":null,\"@flowExecutionId\":null,\"@provider\":null,\"@lastModifiedAt\":null},{\"@type\":\"PC-NEWSSTAND-PRESS-BLOCK\",\"blocks\":null,\"materials\":null,\"excludeInPaging\":false,\"positionForPaging\":0,\"realtime\":false,\"pid\":\"978\",\"name\":\"경북도민일보\",\"logoLight\":{\"url\":\"https://s.pstatic.net/static/newsstand/2020/logo/light/0604/978.png\"},\"logoDark\":{\"url\":\"https://s.pstatic.net/static/newsstand/2020/logo/dark/0604/978.png\"},\"showThumbnailView\":true,\"showListView\":true,\"regDate\":\"20250806 20:06:50\",\"_id\":null,\"@type\":\"PC-NEWSSTAND-PRESS-BLOCK\",\"@code\":null,\"@template\":\"NONE\",\"@flowId\":null,\"@flowExecutionId\":null,\"@provider\":null,\"@lastModifiedAt\":null},{\"@type\":\"PC-NEWSSTAND-PRESS-BLOCK\",\"blocks\":null,\"materials\":null,\"excludeInPaging\":false,\"positionForPaging\":0,\"realtime\":false,\"pid\":\"979\",\"name\":\"약사공론\",\"logoLight\":{\"url\":\"https://s.pstatic.net/static/newsstand/2020/logo/light/0604/979.png\"},\"logoDark\":{\"url\":\"https://s.pstatic.net/static/newsstand/2020/logo/dark/0604/979.png\"},\"showThumbnailView\":true,\"showListView\":true,\"regDate\":\"20250806 12:00:53\",\"_id\":null,\"@type\":\"PC-NEWSSTAND-PRESS-BLOCK\",\"@code\":null,\"@template\":\"NONE\",\"@flowId\":null,\"@flowExecutionId\":null,\"@provider\":null,\"@lastModifiedAt\":null},{\"@type\":\"PC-NEWSSTAND-PRESS-BLOCK\",\"blocks\":null,\"materials\":null,\"excludeInPaging\":false,\"positionForPaging\":0,\"realtime\":false,\"pid\":\"980\",\"name\":\"KBC광주방송\",\"logoLight\":{\"url\":\"https://s.pstatic.net/static/newsstand/up/2025/0418/nsd161128598.png\"},\"logoDark\":{\"url\":\"https://s.pstatic.net/static/newsstand/up/2025/0418/nsd161142279.png\"},\"showThumbnailView\":true,\"showListView\":true,\"regDate\":\"20250806 20:30:23\",\"_id\":null,\"@type\":\"PC-NEWSSTAND-PRESS-BLOCK\",\"@code\":null,\"@template\":\"NONE\",\"@flowId\":null,\"@flowExecutionId\":null,\"@provider\":null,\"@lastModifiedAt\":null},{\"@type\":\"PC-NEWSSTAND-PRESS-BLOCK\",\"blocks\":null,\"materials\":null,\"excludeInPaging\":false,\"positionForPaging\":0,\"realtime\":false,\"pid\":\"981\",\"name\":\"TBS\",\"logoLight\":{\"url\":\"https://s.pstatic.net/static/newsstand/2020/logo/light/0604/981.png\"},\"logoDark\":{\"url\":\"https://s.pstatic.net/static/newsstand/2020/logo/dark/0604/981.png\"},\"showThumbnailView\":true,\"showListView\":true,\"regDate\":\"20250806 21:01:48\",\"_id\":null,\"@type\":\"PC-NEWSSTAND-PRESS-BLOCK\",\"@code\":null,\"@template\":\"NONE\",\"@flowId\":null,\"@flowExecutionId\":null,\"@provider\":null,\"@lastModifiedAt\":null},{\"@type\":\"PC-NEWSSTAND-PRESS-BLOCK\",\"blocks\":null,\"materials\":null,\"excludeInPaging\":false,\"positionForPaging\":0,\"realtime\":false,\"pid\":\"982\",\"name\":\"이코노미조선\",\"logoLight\":{\"url\":\"https://s.pstatic.net/static/newsstand/2020/logo/light/0604/982.png\"},\"logoDark\":{\"url\":\"https://s.pstatic.net/static/newsstand/2020/logo/dark/0604/982.png\"},\"showThumbnailView\":true,\"showListView\":true,\"regDate\":\"20250804 11:03:22\",\"_id\":null,\"@type\":\"PC-NEWSSTAND-PRESS-BLOCK\",\"@code\":null,\"@template\":\"NONE\",\"@flowId\":null,\"@flowExecutionId\":null,\"@provider\":null,\"@lastModifiedAt\":null},{\"@type\":\"PC-NEWSSTAND-PRESS-BLOCK\",\"blocks\":null,\"materials\":null,\"excludeInPaging\":false,\"positionForPaging\":0,\"realtime\":false,\"pid\":\"983\",\"name\":\"중부매일\",\"logoLight\":{\"url\":\"https://s.pstatic.net/static/newsstand/2020/logo/light/0604/983.png\"},\"logoDark\":{\"url\":\"https://s.pstatic.net/static/newsstand/2020/logo/dark/0604/983.png\"},\"showThumbnailView\":true,\"showListView\":true,\"regDate\":\"20250806 19:21:23\",\"_id\":null,\"@type\":\"PC-NEWSSTAND-PRESS-BLOCK\",\"@code\":null,\"@template\":\"NONE\",\"@flowId\":null,\"@flowExecutionId\":null,\"@provider\":null,\"@lastModifiedAt\":null},{\"@type\":\"PC-NEWSSTAND-PRESS-BLOCK\",\"blocks\":null,\"materials\":null,\"excludeInPaging\":false,\"positionForPaging\":0,\"realtime\":false,\"pid\":\"984\",\"name\":\"낚시춘추\",\"logoLight\":{\"url\":\"https://s.pstatic.net/static/newsstand/2020/logo/light/0604/984.png\"},\"logoDark\":{\"url\":\"https://s.pstatic.net/static/newsstand/2020/logo/dark/0604/984.png\"},\"showThumbnailView\":true,\"showListView\":true,\"regDate\":\"20250804 09:10:00\",\"_id\":null,\"@type\":\"PC-NEWSSTAND-PRESS-BLOCK\",\"@code\":null,\"@template\":\"NONE\",\"@flowId\":null,\"@flowExecutionId\":null,\"@provider\":null,\"@lastModifiedAt\":null},{\"@type\":\"PC-NEWSSTAND-PRESS-BLOCK\",\"blocks\":null,\"materials\":null,\"excludeInPaging\":false,\"positionForPaging\":0,\"realtime\":false,\"pid\":\"986\",\"name\":\"투데이신문\",\"logoLight\":{\"url\":\"https://s.pstatic.net/static/newsstand/up/2020/1019/nsd144531857.png\"},\"logoDark\":{\"url\":\"https://s.pstatic.net/static/newsstand/up/2020/1019/nsd144525568.png\"},\"showThumbnailView\":true,\"showListView\":true,\"regDate\":\"20250806 21:00:03\",\"_id\":null,\"@type\":\"PC-NEWSSTAND-PRESS-BLOCK\",\"@code\":null,\"@template\":\"NONE\",\"@flowId\":null,\"@flowExecutionId\":null,\"@provider\":null,\"@lastModifiedAt\":null},{\"@type\":\"PC-NEWSSTAND-PRESS-BLOCK\",\"blocks\":null,\"materials\":null,\"excludeInPaging\":false,\"positionForPaging\":0,\"realtime\":false,\"pid\":\"988\",\"name\":\"이코노미사이언스\",\"logoLight\":{\"url\":\"https://s.pstatic.net/static/newsstand/up/2024/1112/nsd9551191.png\"},\"logoDark\":{\"url\":\"https://s.pstatic.net/static/newsstand/up/2024/1112/nsd95454919.png\"},\"showThumbnailView\":true,\"showListView\":true,\"regDate\":\"20250806 17:29:27\",\"_id\":null,\"@type\":\"PC-NEWSSTAND-PRESS-BLOCK\",\"@code\":null,\"@template\":\"NONE\",\"@flowId\":null,\"@flowExecutionId\":null,\"@provider\":null,\"@lastModifiedAt\":null},{\"@type\":\"PC-NEWSSTAND-PRESS-BLOCK\",\"blocks\":null,\"materials\":null,\"excludeInPaging\":false,\"positionForPaging\":0,\"realtime\":false,\"pid\":\"989\",\"name\":\"TBC\",\"logoLight\":{\"url\":\"https://s.pstatic.net/static/newsstand/2020/logo/light/0604/989.png\"},\"logoDark\":{\"url\":\"https://s.pstatic.net/static/newsstand/2020/logo/dark/0604/989.png\"},\"showThumbnailView\":true,\"showListView\":true,\"regDate\":\"20250806 08:31:00\",\"_id\":null,\"@type\":\"PC-NEWSSTAND-PRESS-BLOCK\",\"@code\":null,\"@template\":\"NONE\",\"@flowId\":null,\"@flowExecutionId\":null,\"@provider\":null,\"@lastModifiedAt\":null},{\"@type\":\"PC-NEWSSTAND-PRESS-BLOCK\",\"blocks\":null,\"materials\":null,\"excludeInPaging\":false,\"positionForPaging\":0,\"realtime\":false,\"pid\":\"073\",\"name\":\"스포츠서울\",\"logoLight\":{\"url\":\"https://s.pstatic.net/static/newsstand/up/2020/0708/nsd94830278.png\"},\"logoDark\":{\"url\":\"https://s.pstatic.net/static/newsstand/up/2020/0708/nsd94820151.png\"},\"showThumbnailView\":true,\"showListView\":true,\"regDate\":\"20250805 15:05:11\",\"_id\":null,\"@type\":\"PC-NEWSSTAND-PRESS-BLOCK\",\"@code\":null,\"@template\":\"NONE\",\"@flowId\":null,\"@flowExecutionId\":null,\"@provider\":null,\"@lastModifiedAt\":null},{\"@type\":\"PC-NEWSSTAND-PRESS-BLOCK\",\"blocks\":null,\"materials\":null,\"excludeInPaging\":false,\"positionForPaging\":0,\"realtime\":false,\"pid\":\"075\",\"name\":\"맥스무비\",\"logoLight\":{\"url\":\"https://s.pstatic.net/static/newsstand/2020/logo/light/0604/075.png\"},\"logoDark\":{\"url\":\"https://s.pstatic.net/static/newsstand/2020/logo/dark/0604/075.png\"},\"showThumbnailView\":true,\"showListView\":true,\"regDate\":\"20250806 20:59:20\",\"_id\":null,\"@type\":\"PC-NEWSSTAND-PRESS-BLOCK\",\"@code\":null,\"@template\":\"NONE\",\"@flowId\":null,\"@flowExecutionId\":null,\"@provider\":null,\"@lastModifiedAt\":null},{\"@type\":\"PC-NEWSSTAND-PRESS-BLOCK\",\"blocks\":null,\"materials\":null,\"excludeInPaging\":false,\"positionForPaging\":0,\"realtime\":false,\"pid\":\"076\",\"name\":\"스포츠조선\",\"logoLight\":{\"url\":\"https://s.pstatic.net/static/newsstand/2020/logo/light/0604/076.png\"},\"logoDark\":{\"url\":\"https://s.pstatic.net/static/newsstand/2020/logo/dark/0604/076.png\"},\"showThumbnailView\":true,\"showListView\":true,\"regDate\":\"20250806 16:59:45\",\"_id\":null,\"@type\":\"PC-NEWSSTAND-PRESS-BLOCK\",\"@code\":null,\"@template\":\"NONE\",\"@flowId\":null,\"@flowExecutionId\":null,\"@provider\":null,\"@lastModifiedAt\":null},{\"@type\":\"PC-NEWSSTAND-PRESS-BLOCK\",\"blocks\":null,\"materials\":null,\"excludeInPaging\":false,\"positionForPaging\":0,\"realtime\":false,\"pid\":\"990\",\"name\":\"주간조선\",\"logoLight\":{\"url\":\"https://s.pstatic.net/static/newsstand/up/2025/0418/nsd181318779.png\"},\"logoDark\":{\"url\":\"https://s.pstatic.net/static/newsstand/up/2025/0418/nsd181331721.png\"},\"showThumbnailView\":true,\"showListView\":true,\"regDate\":\"20250806 21:00:42\",\"_id\":null,\"@type\":\"PC-NEWSSTAND-PRESS-BLOCK\",\"@code\":null,\"@template\":\"NONE\",\"@flowId\":null,\"@flowExecutionId\":null,\"@provider\":null,\"@lastModifiedAt\":null},{\"@type\":\"PC-NEWSSTAND-PRESS-BLOCK\",\"blocks\":null,\"materials\":null,\"excludeInPaging\":false,\"positionForPaging\":0,\"realtime\":false,\"pid\":\"991\",\"name\":\"데일리NK\",\"logoLight\":{\"url\":\"https://s.pstatic.net/static/newsstand/2020/logo/light/0604/991.png\"},\"logoDark\":{\"url\":\"https://s.pstatic.net/static/newsstand/2020/logo/dark/0604/991.png\"},\"showThumbnailView\":true,\"showListView\":true,\"regDate\":\"20250806 09:05:39\",\"_id\":null,\"@type\":\"PC-NEWSSTAND-PRESS-BLOCK\",\"@code\":null,\"@template\":\"NONE\",\"@flowId\":null,\"@flowExecutionId\":null,\"@provider\":null,\"@lastModifiedAt\":null},{\"@type\":\"PC-NEWSSTAND-PRESS-BLOCK\",\"blocks\":null,\"materials\":null,\"excludeInPaging\":false,\"positionForPaging\":0,\"realtime\":false,\"pid\":\"079\",\"name\":\"노컷뉴스\",\"logoLight\":{\"url\":\"https://s.pstatic.net/static/newsstand/up/2025/0418/nsd16586474.png\"},\"logoDark\":{\"url\":\"https://s.pstatic.net/static/newsstand/up/2025/0418/nsd165823173.png\"},\"showThumbnailView\":true,\"showListView\":true,\"regDate\":\"20250806 21:03:03\",\"_id\":null,\"@type\":\"PC-NEWSSTAND-PRESS-BLOCK\",\"@code\":null,\"@template\":\"NONE\",\"@flowId\":null,\"@flowExecutionId\":null,\"@provider\":null,\"@lastModifiedAt\":null},{\"@type\":\"PC-NEWSSTAND-PRESS-BLOCK\",\"blocks\":null,\"materials\":null,\"excludeInPaging\":false,\"positionForPaging\":0,\"realtime\":false,\"pid\":\"993\",\"name\":\"허프포스트코리아\",\"logoLight\":{\"url\":\"https://s.pstatic.net/static/newsstand/2020/logo/light/0604/993.png\"},\"logoDark\":{\"url\":\"https://s.pstatic.net/static/newsstand/2020/logo/dark/0604/993.png\"},\"showThumbnailView\":true,\"showListView\":true,\"regDate\":\"20250806 21:00:43\",\"_id\":null,\"@type\":\"PC-NEWSSTAND-PRESS-BLOCK\",\"@code\":null,\"@template\":\"NONE\",\"@flowId\":null,\"@flowExecutionId\":null,\"@provider\":null,\"@lastModifiedAt\":null},{\"@type\":\"PC-NEWSSTAND-PRESS-BLOCK\",\"blocks\":null,\"materials\":null,\"excludeInPaging\":false,\"positionForPaging\":0,\"realtime\":false,\"pid\":\"994\",\"name\":\"AI타임스\",\"logoLight\":{\"url\":\"https://s.pstatic.net/static/newsstand/up/2021/1112/nsd102040597.png\"},\"logoDark\":{\"url\":\"https://s.pstatic.net/static/newsstand/up/2021/1112/nsd102110770.png\"},\"showThumbnailView\":true,\"showListView\":true,\"regDate\":\"20250806 21:00:38\",\"_id\":null,\"@type\":\"PC-NEWSSTAND-PRESS-BLOCK\",\"@code\":null,\"@template\":\"NONE\",\"@flowId\":null,\"@flowExecutionId\":null,\"@provider\":null,\"@lastModifiedAt\":null},{\"@type\":\"PC-NEWSSTAND-PRESS-BLOCK\",\"blocks\":null,\"materials\":null,\"excludeInPaging\":false,\"positionForPaging\":0,\"realtime\":false,\"pid\":\"995\",\"name\":\"뉴스포스트\",\"logoLight\":{\"url\":\"https://s.pstatic.net/static/newsstand/up/2021/1112/nsd10248812.png\"},\"logoDark\":{\"url\":\"https://s.pstatic.net/static/newsstand/up/2021/1112/nsd102419893.png\"},\"showThumbnailView\":true,\"showListView\":true,\"regDate\":\"20250806 20:50:35\",\"_id\":null,\"@type\":\"PC-NEWSSTAND-PRESS-BLOCK\",\"@code\":null,\"@template\":\"NONE\",\"@flowId\":null,\"@flowExecutionId\":null,\"@provider\":null,\"@lastModifiedAt\":null},{\"@type\":\"PC-NEWSSTAND-PRESS-BLOCK\",\"blocks\":null,\"materials\":null,\"excludeInPaging\":false,\"positionForPaging\":0,\"realtime\":false,\"pid\":\"996\",\"name\":\"매경헬스\",\"logoLight\":{\"url\":\"https://s.pstatic.net/static/newsstand/up/2023/0330/nsd10125746.png\"},\"logoDark\":{\"url\":\"https://s.pstatic.net/static/newsstand/up/2023/0330/nsd10148542.png\"},\"showThumbnailView\":true,\"showListView\":true,\"regDate\":\"20250806 21:00:40\",\"_id\":null,\"@type\":\"PC-NEWSSTAND-PRESS-BLOCK\",\"@code\":null,\"@template\":\"NONE\",\"@flowId\":null,\"@flowExecutionId\":null,\"@provider\":null,\"@lastModifiedAt\":null},{\"@type\":\"PC-NEWSSTAND-PRESS-BLOCK\",\"blocks\":null,\"materials\":null,\"excludeInPaging\":false,\"positionForPaging\":0,\"realtime\":false,\"pid\":\"997\",\"name\":\"뉴스펭귄\",\"logoLight\":{\"url\":\"https://s.pstatic.net/static/newsstand/up/2022/0405/nsd15024245.png\"},\"logoDark\":{\"url\":\"https://s.pstatic.net/static/newsstand/up/2022/0405/nsd15014578.png\"},\"showThumbnailView\":true,\"showListView\":true,\"regDate\":\"20250806 20:50:37\",\"_id\":null,\"@type\":\"PC-NEWSSTAND-PRESS-BLOCK\",\"@code\":null,\"@template\":\"NONE\",\"@flowId\":null,\"@flowExecutionId\":null,\"@provider\":null,\"@lastModifiedAt\":null},{\"@type\":\"PC-NEWSSTAND-PRESS-BLOCK\",\"blocks\":null,\"materials\":null,\"excludeInPaging\":false,\"positionForPaging\":0,\"realtime\":false,\"pid\":\"998\",\"name\":\"뉴스앤조이\",\"logoLight\":{\"url\":\"https://s.pstatic.net/static/newsstand/up/2022/0328/nsd22503109.png\"},\"logoDark\":{\"url\":\"https://s.pstatic.net/static/newsstand/up/2022/0328/nsd22509287.png\"},\"showThumbnailView\":true,\"showListView\":true,\"regDate\":\"20250806 20:50:37\",\"_id\":null,\"@type\":\"PC-NEWSSTAND-PRESS-BLOCK\",\"@code\":null,\"@template\":\"NONE\",\"@flowId\":null,\"@flowExecutionId\":null,\"@provider\":null,\"@lastModifiedAt\":null},{\"@type\":\"PC-NEWSSTAND-PRESS-BLOCK\",\"blocks\":null,\"materials\":null,\"excludeInPaging\":false,\"positionForPaging\":0,\"realtime\":false,\"pid\":\"081\",\"name\":\"서울신문\",\"logoLight\":{\"url\":\"https://s.pstatic.net/static/newsstand/up/2025/0418/nsd1747652.png\"},\"logoDark\":{\"url\":\"https://s.pstatic.net/static/newsstand/up/2025/0418/nsd174717805.png\"},\"showThumbnailView\":true,\"showListView\":true,\"regDate\":\"20250806 18:52:15\",\"_id\":null,\"@type\":\"PC-NEWSSTAND-PRESS-BLOCK\",\"@code\":null,\"@template\":\"NONE\",\"@flowId\":null,\"@flowExecutionId\":null,\"@provider\":null,\"@lastModifiedAt\":null},{\"@type\":\"PC-NEWSSTAND-PRESS-BLOCK\",\"blocks\":null,\"materials\":null,\"excludeInPaging\":false,\"positionForPaging\":0,\"realtime\":false,\"pid\":\"082\",\"name\":\"부산일보\",\"logoLight\":{\"url\":\"https://s.pstatic.net/static/newsstand/up/2025/0418/nsd174249881.png\"},\"logoDark\":{\"url\":\"https://s.pstatic.net/static/newsstand/up/2025/0418/nsd17433161.png\"},\"showThumbnailView\":true,\"showListView\":true,\"regDate\":\"20250806 18:50:39\",\"_id\":null,\"@type\":\"PC-NEWSSTAND-PRESS-BLOCK\",\"@code\":null,\"@template\":\"NONE\",\"@flowId\":null,\"@flowExecutionId\":null,\"@provider\":null,\"@lastModifiedAt\":null},{\"@type\":\"PC-NEWSSTAND-PRESS-BLOCK\",\"blocks\":null,\"materials\":null,\"excludeInPaging\":false,\"positionForPaging\":0,\"realtime\":false,\"pid\":\"083\",\"name\":\"광주일보\",\"logoLight\":{\"url\":\"https://s.pstatic.net/static/newsstand/up/2023/0309/nsd195548501.png\"},\"logoDark\":{\"url\":\"https://s.pstatic.net/static/newsstand/up/2023/0309/nsd1956932.png\"},\"showThumbnailView\":true,\"showListView\":true,\"regDate\":\"20250806 21:00:02\",\"_id\":null,\"@type\":\"PC-NEWSSTAND-PRESS-BLOCK\",\"@code\":null,\"@template\":\"NONE\",\"@flowId\":null,\"@flowExecutionId\":null,\"@provider\":null,\"@lastModifiedAt\":null},{\"@type\":\"PC-NEWSSTAND-PRESS-BLOCK\",\"blocks\":null,\"materials\":null,\"excludeInPaging\":false,\"positionForPaging\":0,\"realtime\":false,\"pid\":\"087\",\"name\":\"강원일보\",\"logoLight\":{\"url\":\"https://s.pstatic.net/static/newsstand/up/2025/0418/nsd162538495.png\"},\"logoDark\":{\"url\":\"https://s.pstatic.net/static/newsstand/up/2025/0418/nsd162554126.png\"},\"showThumbnailView\":true,\"showListView\":true,\"regDate\":\"20250806 18:08:31\",\"_id\":null,\"@type\":\"PC-NEWSSTAND-PRESS-BLOCK\",\"@code\":null,\"@template\":\"NONE\",\"@flowId\":null,\"@flowExecutionId\":null,\"@provider\":null,\"@lastModifiedAt\":null},{\"@type\":\"PC-NEWSSTAND-PRESS-BLOCK\",\"blocks\":null,\"materials\":null,\"excludeInPaging\":false,\"positionForPaging\":0,\"realtime\":false,\"pid\":\"088\",\"name\":\"매일신문\",\"logoLight\":{\"url\":\"https://s.pstatic.net/static/newsstand/up/2025/0418/nsd17377527.png\"},\"logoDark\":{\"url\":\"https://s.pstatic.net/static/newsstand/up/2025/0418/nsd173719609.png\"},\"showThumbnailView\":true,\"showListView\":true,\"regDate\":\"20250806 18:28:55\",\"_id\":null,\"@type\":\"PC-NEWSSTAND-PRESS-BLOCK\",\"@code\":null,\"@template\":\"NONE\",\"@flowId\":null,\"@flowExecutionId\":null,\"@provider\":null,\"@lastModifiedAt\":null},{\"@type\":\"PC-NEWSSTAND-PRESS-BLOCK\",\"blocks\":null,\"materials\":null,\"excludeInPaging\":false,\"positionForPaging\":0,\"realtime\":false,\"pid\":\"089\",\"name\":\"대전일보\",\"logoLight\":{\"url\":\"https://s.pstatic.net/static/newsstand/up/2025/0418/nsd1750914.png\"},\"logoDark\":{\"url\":\"https://s.pstatic.net/static/newsstand/up/2025/0418/nsd17513766.png\"},\"showThumbnailView\":true,\"showListView\":true,\"regDate\":\"20250806 21:00:02\",\"_id\":null,\"@type\":\"PC-NEWSSTAND-PRESS-BLOCK\",\"@code\":null,\"@template\":\"NONE\",\"@flowId\":null,\"@flowExecutionId\":null,\"@provider\":null,\"@lastModifiedAt\":null},{\"@type\":\"PC-NEWSSTAND-PRESS-BLOCK\",\"blocks\":null,\"materials\":null,\"excludeInPaging\":false,\"positionForPaging\":0,\"realtime\":false,\"pid\":\"529\",\"name\":\"스포츠춘추\",\"logoLight\":{\"url\":\"https://s.pstatic.net/static/newsstand/up/2022/0116/nsd19454239.png\"},\"logoDark\":{\"url\":\"https://s.pstatic.net/static/newsstand/up/2022/0116/nsd194523259.png\"},\"showThumbnailView\":true,\"showListView\":true,\"regDate\":\"20250806 21:00:39\",\"_id\":null,\"@type\":\"PC-NEWSSTAND-PRESS-BLOCK\",\"@code\":null,\"@template\":\"NONE\",\"@flowId\":null,\"@flowExecutionId\":null,\"@provider\":null,\"@lastModifiedAt\":null},{\"@type\":\"PC-NEWSSTAND-PRESS-BLOCK\",\"blocks\":null,\"materials\":null,\"excludeInPaging\":false,\"positionForPaging\":0,\"realtime\":false,\"pid\":\"092\",\"name\":\"지디넷코리아\",\"logoLight\":{\"url\":\"https://s.pstatic.net/static/newsstand/up/2025/0418/nsd18180929.png\"},\"logoDark\":{\"url\":\"https://s.pstatic.net/static/newsstand/up/2025/0418/nsd18182244.png\"},\"showThumbnailView\":true,\"showListView\":true,\"regDate\":\"20250806 20:59:23\",\"_id\":null,\"@type\":\"PC-NEWSSTAND-PRESS-BLOCK\",\"@code\":null,\"@template\":\"NONE\",\"@flowId\":null,\"@flowExecutionId\":null,\"@provider\":null,\"@lastModifiedAt\":null},{\"@type\":\"PC-NEWSSTAND-PRESS-BLOCK\",\"blocks\":null,\"materials\":null,\"excludeInPaging\":false,\"positionForPaging\":0,\"realtime\":false,\"pid\":\"094\",\"name\":\"월간 산\",\"logoLight\":{\"url\":\"https://s.pstatic.net/static/newsstand/up/2025/0418/nsd18445157.png\"},\"logoDark\":{\"url\":\"https://s.pstatic.net/static/newsstand/up/2025/0418/nsd18456870.png\"},\"showThumbnailView\":true,\"showListView\":true,\"regDate\":\"20250806 21:00:43\",\"_id\":null,\"@type\":\"PC-NEWSSTAND-PRESS-BLOCK\",\"@code\":null,\"@template\":\"NONE\",\"@flowId\":null,\"@flowExecutionId\":null,\"@provider\":null,\"@lastModifiedAt\":null},{\"@type\":\"PC-NEWSSTAND-PRESS-BLOCK\",\"blocks\":null,\"materials\":null,\"excludeInPaging\":false,\"positionForPaging\":0,\"realtime\":false,\"pid\":\"410\",\"name\":\"MK스포츠\",\"logoLight\":{\"url\":\"https://s.pstatic.net/static/newsstand/2020/logo/light/0604/410.png\"},\"logoDark\":{\"url\":\"https://s.pstatic.net/static/newsstand/2020/logo/dark/0604/410.png\"},\"showThumbnailView\":true,\"showListView\":true,\"regDate\":\"20250806 21:01:35\",\"_id\":null,\"@type\":\"PC-NEWSSTAND-PRESS-BLOCK\",\"@code\":null,\"@template\":\"NONE\",\"@flowId\":null,\"@flowExecutionId\":null,\"@provider\":null,\"@lastModifiedAt\":null},{\"@type\":\"PC-NEWSSTAND-PRESS-BLOCK\",\"blocks\":null,\"materials\":null,\"excludeInPaging\":false,\"positionForPaging\":0,\"realtime\":false,\"pid\":\"536\",\"name\":\"더팩트\",\"logoLight\":{\"url\":\"https://s.pstatic.net/static/newsstand/up/2025/0418/nsd1778591.png\"},\"logoDark\":{\"url\":\"https://s.pstatic.net/static/newsstand/up/2025/0418/nsd17724719.png\"},\"showThumbnailView\":true,\"showListView\":true,\"regDate\":\"20250806 18:48:43\",\"_id\":null,\"@type\":\"PC-NEWSSTAND-PRESS-BLOCK\",\"@code\":null,\"@template\":\"NONE\",\"@flowId\":null,\"@flowExecutionId\":null,\"@provider\":null,\"@lastModifiedAt\":null},{\"@type\":\"PC-NEWSSTAND-PRESS-BLOCK\",\"blocks\":null,\"materials\":null,\"excludeInPaging\":false,\"positionForPaging\":0,\"realtime\":false,\"pid\":\"416\",\"name\":\"SBS연예뉴스\",\"logoLight\":{\"url\":\"https://s.pstatic.net/static/newsstand/up/2020/1228/nsd1681569.png\"},\"logoDark\":{\"url\":\"https://s.pstatic.net/static/newsstand/up/2020/1228/nsd1688305.png\"},\"showThumbnailView\":true,\"showListView\":true,\"regDate\":\"20250806 21:01:37\",\"_id\":null,\"@type\":\"PC-NEWSSTAND-PRESS-BLOCK\",\"@code\":null,\"@template\":\"NONE\",\"@flowId\":null,\"@flowExecutionId\":null,\"@provider\":null,\"@lastModifiedAt\":null},{\"@type\":\"PC-NEWSSTAND-PRESS-BLOCK\",\"blocks\":null,\"materials\":null,\"excludeInPaging\":false,\"positionForPaging\":0,\"realtime\":false,\"pid\":\"417\",\"name\":\"머니S\",\"logoLight\":{\"url\":\"https://s.pstatic.net/static/newsstand/up/2025/0418/nsd173828874.png\"},\"logoDark\":{\"url\":\"https://s.pstatic.net/static/newsstand/up/2025/0418/nsd173843283.png\"},\"showThumbnailView\":true,\"showListView\":true,\"regDate\":\"20250806 21:05:29\",\"_id\":null,\"@type\":\"PC-NEWSSTAND-PRESS-BLOCK\",\"@code\":null,\"@template\":\"NONE\",\"@flowId\":null,\"@flowExecutionId\":null,\"@provider\":null,\"@lastModifiedAt\":null},{\"@type\":\"PC-NEWSSTAND-PRESS-BLOCK\",\"blocks\":null,\"materials\":null,\"excludeInPaging\":false,\"positionForPaging\":0,\"realtime\":false,\"pid\":\"539\",\"name\":\"위키트리\",\"logoLight\":{\"url\":\"https://s.pstatic.net/static/newsstand/2020/logo/light/0604/539.png\"},\"logoDark\":{\"url\":\"https://s.pstatic.net/static/newsstand/2020/logo/dark/0604/539.png\"},\"showThumbnailView\":true,\"showListView\":true,\"regDate\":\"20250806 21:05:28\",\"_id\":null,\"@type\":\"PC-NEWSSTAND-PRESS-BLOCK\",\"@code\":null,\"@template\":\"NONE\",\"@flowId\":null,\"@flowExecutionId\":null,\"@provider\":null,\"@lastModifiedAt\":null},{\"@type\":\"PC-NEWSSTAND-PRESS-BLOCK\",\"blocks\":null,\"materials\":null,\"excludeInPaging\":false,\"positionForPaging\":0,\"realtime\":false,\"pid\":\"421\",\"name\":\"뉴스1\",\"logoLight\":{\"url\":\"https://s.pstatic.net/static/newsstand/up/2025/0418/nsd171363.png\"},\"logoDark\":{\"url\":\"https://s.pstatic.net/static/newsstand/up/2025/0418/nsd17114288.png\"},\"showThumbnailView\":true,\"showListView\":true,\"regDate\":\"20250806 21:00:19\",\"_id\":null,\"@type\":\"PC-NEWSSTAND-PRESS-BLOCK\",\"@code\":null,\"@template\":\"NONE\",\"@flowId\":null,\"@flowExecutionId\":null,\"@provider\":null,\"@lastModifiedAt\":null},{\"@type\":\"PC-NEWSSTAND-PRESS-BLOCK\",\"blocks\":null,\"materials\":null,\"excludeInPaging\":false,\"positionForPaging\":0,\"realtime\":false,\"pid\":\"301\",\"name\":\"드림투데이\",\"logoLight\":{\"url\":\"https://s.pstatic.net/static/newsstand/up/2025/0521/nsd11716387.png\"},\"logoDark\":{\"url\":\"https://s.pstatic.net/static/newsstand/up/2025/0521/nsd1176592.png\"},\"showThumbnailView\":true,\"showListView\":true,\"regDate\":\"20250806 21:00:30\",\"_id\":null,\"@type\":\"PC-NEWSSTAND-PRESS-BLOCK\",\"@code\":null,\"@template\":\"NONE\",\"@flowId\":null,\"@flowExecutionId\":null,\"@provider\":null,\"@lastModifiedAt\":null},{\"@type\":\"PC-NEWSSTAND-PRESS-BLOCK\",\"blocks\":null,\"materials\":null,\"excludeInPaging\":false,\"positionForPaging\":0,\"realtime\":false,\"pid\":\"422\",\"name\":\"연합뉴스TV\",\"logoLight\":{\"url\":\"https://s.pstatic.net/static/newsstand/up/2025/0418/nsd18244498.png\"},\"logoDark\":{\"url\":\"https://s.pstatic.net/static/newsstand/up/2025/0418/nsd18255712.png\"},\"showThumbnailView\":true,\"showListView\":true,\"regDate\":\"20250806 21:01:29\",\"_id\":null,\"@type\":\"PC-NEWSSTAND-PRESS-BLOCK\",\"@code\":null,\"@template\":\"NONE\",\"@flowId\":null,\"@flowExecutionId\":null,\"@provider\":null,\"@lastModifiedAt\":null},{\"@type\":\"PC-NEWSSTAND-PRESS-BLOCK\",\"blocks\":null,\"materials\":null,\"excludeInPaging\":false,\"positionForPaging\":0,\"realtime\":false,\"pid\":\"308\",\"name\":\"시사IN\",\"logoLight\":{\"url\":\"https://s.pstatic.net/static/newsstand/up/2025/0418/nsd174916541.png\"},\"logoDark\":{\"url\":\"https://s.pstatic.net/static/newsstand/up/2025/0418/nsd174929782.png\"},\"showThumbnailView\":true,\"showListView\":true,\"regDate\":\"20250806 08:11:54\",\"_id\":null,\"@type\":\"PC-NEWSSTAND-PRESS-BLOCK\",\"@code\":null,\"@template\":\"NONE\",\"@flowId\":null,\"@flowExecutionId\":null,\"@provider\":null,\"@lastModifiedAt\":null},{\"@type\":\"PC-NEWSSTAND-PRESS-BLOCK\",\"blocks\":null,\"materials\":null,\"excludeInPaging\":false,\"positionForPaging\":0,\"realtime\":false,\"pid\":\"310\",\"name\":\"여성신문\",\"logoLight\":{\"url\":\"https://s.pstatic.net/static/newsstand/up/2025/0418/nsd18127785.png\"},\"logoDark\":{\"url\":\"https://s.pstatic.net/static/newsstand/up/2025/0418/nsd18140858.png\"},\"showThumbnailView\":true,\"showListView\":true,\"regDate\":\"20250806 21:00:02\",\"_id\":null,\"@type\":\"PC-NEWSSTAND-PRESS-BLOCK\",\"@code\":null,\"@template\":\"NONE\",\"@flowId\":null,\"@flowExecutionId\":null,\"@provider\":null,\"@lastModifiedAt\":null},{\"@type\":\"PC-NEWSSTAND-PRESS-BLOCK\",\"blocks\":null,\"materials\":null,\"excludeInPaging\":false,\"positionForPaging\":0,\"realtime\":false,\"pid\":\"311\",\"name\":\"엑스포츠뉴스\",\"logoLight\":{\"url\":\"https://s.pstatic.net/static/newsstand/2020/logo/light/0604/311.png\"},\"logoDark\":{\"url\":\"https://s.pstatic.net/static/newsstand/2020/logo/dark/0604/311.png\"},\"showThumbnailView\":true,\"showListView\":true,\"regDate\":\"20250806 20:10:47\",\"_id\":null,\"@type\":\"PC-NEWSSTAND-PRESS-BLOCK\",\"@code\":null,\"@template\":\"NONE\",\"@flowId\":null,\"@flowExecutionId\":null,\"@provider\":null,\"@lastModifiedAt\":null},{\"@type\":\"PC-NEWSSTAND-PRESS-BLOCK\",\"blocks\":null,\"materials\":null,\"excludeInPaging\":false,\"positionForPaging\":0,\"realtime\":false,\"pid\":\"312\",\"name\":\"텐아시아\",\"logoLight\":{\"url\":\"https://s.pstatic.net/static/newsstand/2020/logo/light/0604/312.png\"},\"logoDark\":{\"url\":\"https://s.pstatic.net/static/newsstand/2020/logo/dark/0604/312.png\"},\"showThumbnailView\":true,\"showListView\":true,\"regDate\":\"20250806 08:58:48\",\"_id\":null,\"@type\":\"PC-NEWSSTAND-PRESS-BLOCK\",\"@code\":null,\"@template\":\"NONE\",\"@flowId\":null,\"@flowExecutionId\":null,\"@provider\":null,\"@lastModifiedAt\":null},{\"@type\":\"PC-NEWSSTAND-PRESS-BLOCK\",\"blocks\":null,\"materials\":null,\"excludeInPaging\":false,\"positionForPaging\":0,\"realtime\":false,\"pid\":\"314\",\"name\":\"스포츠동아\",\"logoLight\":{\"url\":\"https://s.pstatic.net/static/newsstand/2020/logo/light/0604/314.png\"},\"logoDark\":{\"url\":\"https://s.pstatic.net/static/newsstand/2020/logo/dark/0604/314.png\"},\"showThumbnailView\":true,\"showListView\":true,\"regDate\":\"20250806 19:20:27\",\"_id\":null,\"@type\":\"PC-NEWSSTAND-PRESS-BLOCK\",\"@code\":null,\"@template\":\"NONE\",\"@flowId\":null,\"@flowExecutionId\":null,\"@provider\":null,\"@lastModifiedAt\":null},{\"@type\":\"PC-NEWSSTAND-PRESS-BLOCK\",\"blocks\":null,\"materials\":null,\"excludeInPaging\":false,\"positionForPaging\":0,\"realtime\":false,\"pid\":\"681\",\"name\":\"이코노타임즈\",\"logoLight\":{\"url\":\"https://s.pstatic.net/static/newsstand/up/2022/0615/nsd7251644.png\"},\"logoDark\":{\"url\":\"https://s.pstatic.net/static/newsstand/up/2022/0615/nsd7244919.png\"},\"showThumbnailView\":true,\"showListView\":true,\"regDate\":\"20250721 21:26:15\",\"_id\":null,\"@type\":\"PC-NEWSSTAND-PRESS-BLOCK\",\"@code\":null,\"@template\":\"NONE\",\"@flowId\":null,\"@flowExecutionId\":null,\"@provider\":null,\"@lastModifiedAt\":null},{\"@type\":\"PC-NEWSSTAND-PRESS-BLOCK\",\"blocks\":null,\"materials\":null,\"excludeInPaging\":false,\"positionForPaging\":0,\"realtime\":false,\"pid\":\"440\",\"name\":\"티브이데일리\",\"logoLight\":{\"url\":\"https://s.pstatic.net/static/newsstand/2020/logo/light/0604/440.png\"},\"logoDark\":{\"url\":\"https://s.pstatic.net/static/newsstand/2020/logo/dark/0604/440.png\"},\"showThumbnailView\":true,\"showListView\":true,\"regDate\":\"20250806 08:50:01\",\"_id\":null,\"@type\":\"PC-NEWSSTAND-PRESS-BLOCK\",\"@code\":null,\"@template\":\"NONE\",\"@flowId\":null,\"@flowExecutionId\":null,\"@provider\":null,\"@lastModifiedAt\":null},{\"@type\":\"PC-NEWSSTAND-PRESS-BLOCK\",\"blocks\":null,\"materials\":null,\"excludeInPaging\":false,\"positionForPaging\":0,\"realtime\":false,\"pid\":\"682\",\"name\":\"여성경제신문\",\"logoLight\":{\"url\":\"https://s.pstatic.net/static/newsstand/up/2022/1018/nsd132851977.png\"},\"logoDark\":{\"url\":\"https://s.pstatic.net/static/newsstand/up/2022/1018/nsd132844419.png\"},\"showThumbnailView\":true,\"showListView\":true,\"regDate\":\"20250806 20:50:41\",\"_id\":null,\"@type\":\"PC-NEWSSTAND-PRESS-BLOCK\",\"@code\":null,\"@template\":\"NONE\",\"@flowId\":null,\"@flowExecutionId\":null,\"@provider\":null,\"@lastModifiedAt\":null},{\"@type\":\"PC-NEWSSTAND-PRESS-BLOCK\",\"blocks\":null,\"materials\":null,\"excludeInPaging\":false,\"positionForPaging\":0,\"realtime\":false,\"pid\":\"683\",\"name\":\"MS투데이\",\"logoLight\":{\"url\":\"https://s.pstatic.net/static/newsstand/up/2022/1017/nsd202940832.png\"},\"logoDark\":{\"url\":\"https://s.pstatic.net/static/newsstand/up/2022/1017/nsd202933363.png\"},\"showThumbnailView\":true,\"showListView\":true,\"regDate\":\"20250806 20:50:42\",\"_id\":null,\"@type\":\"PC-NEWSSTAND-PRESS-BLOCK\",\"@code\":null,\"@template\":\"NONE\",\"@flowId\":null,\"@flowExecutionId\":null,\"@provider\":null,\"@lastModifiedAt\":null},{\"@type\":\"PC-NEWSSTAND-PRESS-BLOCK\",\"blocks\":null,\"materials\":null,\"excludeInPaging\":false,\"positionForPaging\":0,\"realtime\":false,\"pid\":\"684\",\"name\":\"TJB대전방송\",\"logoLight\":{\"url\":\"https://s.pstatic.net/static/newsstand/up/2023/0103/nsd95227559.png\"},\"logoDark\":{\"url\":\"https://s.pstatic.net/static/newsstand/up/2023/0103/nsd9522095.png\"},\"showThumbnailView\":true,\"showListView\":true,\"regDate\":\"20250806 20:53:01\",\"_id\":null,\"@type\":\"PC-NEWSSTAND-PRESS-BLOCK\",\"@code\":null,\"@template\":\"NONE\",\"@flowId\":null,\"@flowExecutionId\":null,\"@provider\":null,\"@lastModifiedAt\":null},{\"@type\":\"PC-NEWSSTAND-PRESS-BLOCK\",\"blocks\":null,\"materials\":null,\"excludeInPaging\":false,\"positionForPaging\":0,\"realtime\":false,\"pid\":\"685\",\"name\":\"서울와이어\",\"logoLight\":{\"url\":\"https://s.pstatic.net/static/newsstand/up/2022/1024/nsd174430433.png\"},\"logoDark\":{\"url\":\"https://s.pstatic.net/static/newsstand/up/2022/1024/nsd174424325.png\"},\"showThumbnailView\":true,\"showListView\":true,\"regDate\":\"20250806 20:50:41\",\"_id\":null,\"@type\":\"PC-NEWSSTAND-PRESS-BLOCK\",\"@code\":null,\"@template\":\"NONE\",\"@flowId\":null,\"@flowExecutionId\":null,\"@provider\":null,\"@lastModifiedAt\":null},{\"@type\":\"PC-NEWSSTAND-PRESS-BLOCK\",\"blocks\":null,\"materials\":null,\"excludeInPaging\":false,\"positionForPaging\":0,\"realtime\":false,\"pid\":\"686\",\"name\":\"주간경향\",\"logoLight\":{\"url\":\"https://s.pstatic.net/static/newsstand/up/2025/0418/nsd181217467.png\"},\"logoDark\":{\"url\":\"https://s.pstatic.net/static/newsstand/up/2025/0418/nsd181231652.png\"},\"showThumbnailView\":true,\"showListView\":true,\"regDate\":\"20250806 18:32:46\",\"_id\":null,\"@type\":\"PC-NEWSSTAND-PRESS-BLOCK\",\"@code\":null,\"@template\":\"NONE\",\"@flowId\":null,\"@flowExecutionId\":null,\"@provider\":null,\"@lastModifiedAt\":null},{\"@type\":\"PC-NEWSSTAND-PRESS-BLOCK\",\"blocks\":null,\"materials\":null,\"excludeInPaging\":false,\"positionForPaging\":0,\"realtime\":false,\"pid\":\"687\",\"name\":\"뉴스클레임\",\"logoLight\":{\"url\":\"https://s.pstatic.net/static/newsstand/up/2022/1006/nsd205818702.png\"},\"logoDark\":{\"url\":\"https://s.pstatic.net/static/newsstand/up/2022/1006/nsd205810265.png\"},\"showThumbnailView\":true,\"showListView\":true,\"regDate\":\"20250806 20:50:40\",\"_id\":null,\"@type\":\"PC-NEWSSTAND-PRESS-BLOCK\",\"@code\":null,\"@template\":\"NONE\",\"@flowId\":null,\"@flowExecutionId\":null,\"@provider\":null,\"@lastModifiedAt\":null},{\"@type\":\"PC-NEWSSTAND-PRESS-BLOCK\",\"blocks\":null,\"materials\":null,\"excludeInPaging\":false,\"positionForPaging\":0,\"realtime\":false,\"pid\":\"688\",\"name\":\"경기신문\",\"logoLight\":{\"url\":\"https://s.pstatic.net/static/newsstand/up/2022/1017/nsd202616515.png\"},\"logoDark\":{\"url\":\"https://s.pstatic.net/static/newsstand/up/2022/1017/nsd20268714.png\"},\"showThumbnailView\":true,\"showListView\":true,\"regDate\":\"20250806 20:50:01\",\"_id\":null,\"@type\":\"PC-NEWSSTAND-PRESS-BLOCK\",\"@code\":null,\"@template\":\"NONE\",\"@flowId\":null,\"@flowExecutionId\":null,\"@provider\":null,\"@lastModifiedAt\":null},{\"@type\":\"PC-NEWSSTAND-PRESS-BLOCK\",\"blocks\":null,\"materials\":null,\"excludeInPaging\":false,\"positionForPaging\":0,\"realtime\":false,\"pid\":\"326\",\"name\":\"KBS World\",\"logoLight\":{\"url\":\"https://s.pstatic.net/static/newsstand/2020/logo/light/0604/326.png\"},\"logoDark\":{\"url\":\"https://s.pstatic.net/static/newsstand/2020/logo/dark/0604/326.png\"},\"showThumbnailView\":true,\"showListView\":true,\"regDate\":\"20250806 18:24:22\",\"_id\":null,\"@type\":\"PC-NEWSSTAND-PRESS-BLOCK\",\"@code\":null,\"@template\":\"NONE\",\"@flowId\":null,\"@flowExecutionId\":null,\"@provider\":null,\"@lastModifiedAt\":null},{\"@type\":\"PC-NEWSSTAND-PRESS-BLOCK\",\"blocks\":null,\"materials\":null,\"excludeInPaging\":false,\"positionForPaging\":0,\"realtime\":false,\"pid\":\"447\",\"name\":\"뉴스엔\",\"logoLight\":{\"url\":\"https://s.pstatic.net/static/newsstand/2020/logo/light/0604/447.png\"},\"logoDark\":{\"url\":\"https://s.pstatic.net/static/newsstand/2020/logo/dark/0604/447.png\"},\"showThumbnailView\":true,\"showListView\":true,\"regDate\":\"20250806 14:49:25\",\"_id\":null,\"@type\":\"PC-NEWSSTAND-PRESS-BLOCK\",\"@code\":null,\"@template\":\"NONE\",\"@flowId\":null,\"@flowExecutionId\":null,\"@provider\":null,\"@lastModifiedAt\":null},{\"@type\":\"PC-NEWSSTAND-PRESS-BLOCK\",\"blocks\":null,\"materials\":null,\"excludeInPaging\":false,\"positionForPaging\":0,\"realtime\":false,\"pid\":\"689\",\"name\":\"인천투데이\",\"logoLight\":{\"url\":\"https://s.pstatic.net/static/newsstand/up/2022/1107/nsd1054226.png\"},\"logoDark\":{\"url\":\"https://s.pstatic.net/static/newsstand/up/2022/1107/nsd105354391.png\"},\"showThumbnailView\":true,\"showListView\":true,\"regDate\":\"20250806 20:50:41\",\"_id\":null,\"@type\":\"PC-NEWSSTAND-PRESS-BLOCK\",\"@code\":null,\"@template\":\"NONE\",\"@flowId\":null,\"@flowExecutionId\":null,\"@provider\":null,\"@lastModifiedAt\":null},{\"@type\":\"PC-NEWSSTAND-PRESS-BLOCK\",\"blocks\":null,\"materials\":null,\"excludeInPaging\":false,\"positionForPaging\":0,\"realtime\":false,\"pid\":\"327\",\"name\":\"뉴데일리\",\"logoLight\":{\"url\":\"https://s.pstatic.net/static/newsstand/up/2024/0124/nsd95528325.png\"},\"logoDark\":{\"url\":\"https://s.pstatic.net/static/newsstand/up/2024/0124/nsd95520363.png\"},\"showThumbnailView\":true,\"showListView\":true,\"regDate\":\"20250806 21:05:11\",\"_id\":null,\"@type\":\"PC-NEWSSTAND-PRESS-BLOCK\",\"@code\":null,\"@template\":\"NONE\",\"@flowId\":null,\"@flowExecutionId\":null,\"@provider\":null,\"@lastModifiedAt\":null},{\"@type\":\"PC-NEWSSTAND-PRESS-BLOCK\",\"blocks\":null,\"materials\":null,\"excludeInPaging\":false,\"positionForPaging\":0,\"realtime\":false,\"pid\":\"328\",\"name\":\"에이블뉴스\",\"logoLight\":{\"url\":\"https://s.pstatic.net/static/newsstand/2020/logo/light/0604/328.png\"},\"logoDark\":{\"url\":\"https://s.pstatic.net/static/newsstand/2020/logo/dark/0604/328.png\"},\"showThumbnailView\":true,\"showListView\":true,\"regDate\":\"20250806 21:00:46\",\"_id\":null,\"@type\":\"PC-NEWSSTAND-PRESS-BLOCK\",\"@code\":null,\"@template\":\"NONE\",\"@flowId\":null,\"@flowExecutionId\":null,\"@provider\":null,\"@lastModifiedAt\":null},{\"@type\":\"PC-NEWSSTAND-PRESS-BLOCK\",\"blocks\":null,\"materials\":null,\"excludeInPaging\":false,\"positionForPaging\":0,\"realtime\":false,\"pid\":\"329\",\"name\":\"소년한국일보\",\"logoLight\":{\"url\":\"https://s.pstatic.net/static/newsstand/up/2021/0728/nsd1110888.png\"},\"logoDark\":{\"url\":\"https://s.pstatic.net/static/newsstand/up/2021/0728/nsd111059924.png\"},\"showThumbnailView\":true,\"showListView\":true,\"regDate\":\"20250806 21:00:37\",\"_id\":null,\"@type\":\"PC-NEWSSTAND-PRESS-BLOCK\",\"@code\":null,\"@template\":\"NONE\",\"@flowId\":null,\"@flowExecutionId\":null,\"@provider\":null,\"@lastModifiedAt\":null},{\"@type\":\"PC-NEWSSTAND-PRESS-BLOCK\",\"blocks\":null,\"materials\":null,\"excludeInPaging\":false,\"positionForPaging\":0,\"realtime\":false,\"pid\":\"690\",\"name\":\"정책브리핑\",\"logoLight\":{\"url\":\"https://s.pstatic.net/static/newsstand/up/2022/1116/nsd113848865.png\"},\"logoDark\":{\"url\":\"https://s.pstatic.net/static/newsstand/up/2022/1116/nsd113840778.png\"},\"showThumbnailView\":true,\"showListView\":true,\"regDate\":\"20250806 20:42:02\",\"_id\":null,\"@type\":\"PC-NEWSSTAND-PRESS-BLOCK\",\"@code\":null,\"@template\":\"NONE\",\"@flowId\":null,\"@flowExecutionId\":null,\"@provider\":null,\"@lastModifiedAt\":null},{\"@type\":\"PC-NEWSSTAND-PRESS-BLOCK\",\"blocks\":null,\"materials\":null,\"excludeInPaging\":false,\"positionForPaging\":0,\"realtime\":false,\"pid\":\"691\",\"name\":\"여성동아\",\"logoLight\":{\"url\":\"https://s.pstatic.net/static/newsstand/up/2023/0418/nsd124451202.png\"},\"logoDark\":{\"url\":\"https://s.pstatic.net/static/newsstand/up/2023/0418/nsd124439166.png\"},\"showThumbnailView\":true,\"showListView\":true,\"regDate\":\"20250806 10:36:44\",\"_id\":null,\"@type\":\"PC-NEWSSTAND-PRESS-BLOCK\",\"@code\":null,\"@template\":\"NONE\",\"@flowId\":null,\"@flowExecutionId\":null,\"@provider\":null,\"@lastModifiedAt\":null},{\"@type\":\"PC-NEWSSTAND-PRESS-BLOCK\",\"blocks\":null,\"materials\":null,\"excludeInPaging\":false,\"positionForPaging\":0,\"realtime\":false,\"pid\":\"330\",\"name\":\"중앙데일리\",\"logoLight\":{\"url\":\"https://s.pstatic.net/static/newsstand/up/2025/0418/nsd182012954.png\"},\"logoDark\":{\"url\":\"https://s.pstatic.net/static/newsstand/up/2025/0418/nsd182025175.png\"},\"showThumbnailView\":true,\"showListView\":true,\"regDate\":\"20250806 20:22:02\",\"_id\":null,\"@type\":\"PC-NEWSSTAND-PRESS-BLOCK\",\"@code\":null,\"@template\":\"NONE\",\"@flowId\":null,\"@flowExecutionId\":null,\"@provider\":null,\"@lastModifiedAt\":null},{\"@type\":\"PC-NEWSSTAND-PRESS-BLOCK\",\"blocks\":null,\"materials\":null,\"excludeInPaging\":false,\"positionForPaging\":0,\"realtime\":false,\"pid\":\"331\",\"name\":\"충청투데이\",\"logoLight\":{\"url\":\"https://s.pstatic.net/static/newsstand/2020/logo/light/0604/331.png\"},\"logoDark\":{\"url\":\"https://s.pstatic.net/static/newsstand/2020/logo/dark/0604/331.png\"},\"showThumbnailView\":true,\"showListView\":true,\"regDate\":\"20250806 19:09:46\",\"_id\":null,\"@type\":\"PC-NEWSSTAND-PRESS-BLOCK\",\"@code\":null,\"@template\":\"NONE\",\"@flowId\":null,\"@flowExecutionId\":null,\"@provider\":null,\"@lastModifiedAt\":null},{\"@type\":\"PC-NEWSSTAND-PRESS-BLOCK\",\"blocks\":null,\"materials\":null,\"excludeInPaging\":false,\"positionForPaging\":0,\"realtime\":false,\"pid\":\"332\",\"name\":\"국제신문\",\"logoLight\":{\"url\":\"https://s.pstatic.net/static/newsstand/up/2025/0418/nsd165638566.png\"},\"logoDark\":{\"url\":\"https://s.pstatic.net/static/newsstand/up/2025/0418/nsd165653491.png\"},\"showThumbnailView\":true,\"showListView\":true,\"regDate\":\"20250806 20:16:08\",\"_id\":null,\"@type\":\"PC-NEWSSTAND-PRESS-BLOCK\",\"@code\":null,\"@template\":\"NONE\",\"@flowId\":null,\"@flowExecutionId\":null,\"@provider\":null,\"@lastModifiedAt\":null},{\"@type\":\"PC-NEWSSTAND-PRESS-BLOCK\",\"blocks\":null,\"materials\":null,\"excludeInPaging\":false,\"positionForPaging\":0,\"realtime\":false,\"pid\":\"333\",\"name\":\"경남신문\",\"logoLight\":{\"url\":\"https://s.pstatic.net/static/newsstand/2020/logo/light/0604/333.png\"},\"logoDark\":{\"url\":\"https://s.pstatic.net/static/newsstand/2020/logo/dark/0604/333.png\"},\"showThumbnailView\":true,\"showListView\":true,\"regDate\":\"20250806 21:01:12\",\"_id\":null,\"@type\":\"PC-NEWSSTAND-PRESS-BLOCK\",\"@code\":null,\"@template\":\"NONE\",\"@flowId\":null,\"@flowExecutionId\":null,\"@provider\":null,\"@lastModifiedAt\":null},{\"@type\":\"PC-NEWSSTAND-PRESS-BLOCK\",\"blocks\":null,\"materials\":null,\"excludeInPaging\":false,\"positionForPaging\":0,\"realtime\":false,\"pid\":\"213\",\"name\":\"TV리포트\",\"logoLight\":{\"url\":\"https://s.pstatic.net/static/newsstand/up/2023/0714/nsd125517690.png\"},\"logoDark\":{\"url\":\"https://s.pstatic.net/static/newsstand/up/2023/0714/nsd125510155.png\"},\"showThumbnailView\":true,\"showListView\":true,\"regDate\":\"20250806 17:37:28\",\"_id\":null,\"@type\":\"PC-NEWSSTAND-PRESS-BLOCK\",\"@code\":null,\"@template\":\"NONE\",\"@flowId\":null,\"@flowExecutionId\":null,\"@provider\":null,\"@lastModifiedAt\":null},{\"@type\":\"PC-NEWSSTAND-PRESS-BLOCK\",\"blocks\":null,\"materials\":null,\"excludeInPaging\":false,\"positionForPaging\":0,\"realtime\":false,\"pid\":\"334\",\"name\":\"제주의소리\",\"logoLight\":{\"url\":\"https://s.pstatic.net/static/newsstand/2020/logo/light/0604/334.png\"},\"logoDark\":{\"url\":\"https://s.pstatic.net/static/newsstand/2020/logo/dark/0604/334.png\"},\"showThumbnailView\":true,\"showListView\":true,\"regDate\":\"20250806 17:29:44\",\"_id\":null,\"@type\":\"PC-NEWSSTAND-PRESS-BLOCK\",\"@code\":null,\"@template\":\"NONE\",\"@flowId\":null,\"@flowExecutionId\":null,\"@provider\":null,\"@lastModifiedAt\":null},{\"@type\":\"PC-NEWSSTAND-PRESS-BLOCK\",\"blocks\":null,\"materials\":null,\"excludeInPaging\":false,\"positionForPaging\":0,\"realtime\":false,\"pid\":\"214\",\"name\":\"MBC\",\"logoLight\":{\"url\":\"https://s.pstatic.net/static/newsstand/up/2025/0418/nsd161450864.png\"},\"logoDark\":{\"url\":\"https://s.pstatic.net/static/newsstand/up/2025/0418/nsd161561.png\"},\"showThumbnailView\":true,\"showListView\":true,\"regDate\":\"20250806 21:00:05\",\"_id\":null,\"@type\":\"PC-NEWSSTAND-PRESS-BLOCK\",\"@code\":null,\"@template\":\"NONE\",\"@flowId\":null,\"@flowExecutionId\":null,\"@provider\":null,\"@lastModifiedAt\":null},{\"@type\":\"PC-NEWSSTAND-PRESS-BLOCK\",\"blocks\":null,\"materials\":null,\"excludeInPaging\":false,\"positionForPaging\":0,\"realtime\":false,\"pid\":\"335\",\"name\":\"강원도민일보\",\"logoLight\":{\"url\":\"https://s.pstatic.net/static/newsstand/up/2025/0418/nsd162426349.png\"},\"logoDark\":{\"url\":\"https://s.pstatic.net/static/newsstand/up/2025/0418/nsd162439445.png\"},\"showThumbnailView\":true,\"showListView\":true,\"regDate\":\"20250806 17:48:22\",\"_id\":null,\"@type\":\"PC-NEWSSTAND-PRESS-BLOCK\",\"@code\":null,\"@template\":\"NONE\",\"@flowId\":null,\"@flowExecutionId\":null,\"@provider\":null,\"@lastModifiedAt\":null},{\"@type\":\"PC-NEWSSTAND-PRESS-BLOCK\",\"blocks\":null,\"materials\":null,\"excludeInPaging\":false,\"positionForPaging\":0,\"realtime\":false,\"pid\":\"215\",\"name\":\"한국경제TV\",\"logoLight\":{\"url\":\"https://s.pstatic.net/static/newsstand/up/2025/0418/nsd182944971.png\"},\"logoDark\":{\"url\":\"https://s.pstatic.net/static/newsstand/up/2025/0418/nsd18301174.png\"},\"showThumbnailView\":true,\"showListView\":true,\"regDate\":\"20250806 21:02:41\",\"_id\":null,\"@type\":\"PC-NEWSSTAND-PRESS-BLOCK\",\"@code\":null,\"@template\":\"NONE\",\"@flowId\":null,\"@flowExecutionId\":null,\"@provider\":null,\"@lastModifiedAt\":null},{\"@type\":\"PC-NEWSSTAND-PRESS-BLOCK\",\"blocks\":null,\"materials\":null,\"excludeInPaging\":false,\"positionForPaging\":0,\"realtime\":false,\"pid\":\"336\",\"name\":\"전북일보\",\"logoLight\":{\"url\":\"https://s.pstatic.net/static/newsstand/2020/logo/light/0604/336.png\"},\"logoDark\":{\"url\":\"https://s.pstatic.net/static/newsstand/2020/logo/dark/0604/336.png\"},\"showThumbnailView\":true,\"showListView\":true,\"regDate\":\"20250806 20:07:17\",\"_id\":null,\"@type\":\"PC-NEWSSTAND-PRESS-BLOCK\",\"@code\":null,\"@template\":\"NONE\",\"@flowId\":null,\"@flowExecutionId\":null,\"@provider\":null,\"@lastModifiedAt\":null},{\"@type\":\"PC-NEWSSTAND-PRESS-BLOCK\",\"blocks\":null,\"materials\":null,\"excludeInPaging\":false,\"positionForPaging\":0,\"realtime\":false,\"pid\":\"337\",\"name\":\"경북일보\",\"logoLight\":{\"url\":\"https://s.pstatic.net/static/newsstand/2020/logo/light/0604/337.png\"},\"logoDark\":{\"url\":\"https://s.pstatic.net/static/newsstand/2020/logo/dark/0604/337.png\"},\"showThumbnailView\":true,\"showListView\":true,\"regDate\":\"20250805 22:24:27\",\"_id\":null,\"@type\":\"PC-NEWSSTAND-PRESS-BLOCK\",\"@code\":null,\"@template\":\"NONE\",\"@flowId\":null,\"@flowExecutionId\":null,\"@provider\":null,\"@lastModifiedAt\":null},{\"@type\":\"PC-NEWSSTAND-PRESS-BLOCK\",\"blocks\":null,\"materials\":null,\"excludeInPaging\":false,\"positionForPaging\":0,\"realtime\":false,\"pid\":\"338\",\"name\":\"경인일보\",\"logoLight\":{\"url\":\"https://s.pstatic.net/static/newsstand/2020/logo/light/0604/338.png\"},\"logoDark\":{\"url\":\"https://s.pstatic.net/static/newsstand/2020/logo/dark/0604/338.png\"},\"showThumbnailView\":true,\"showListView\":true,\"regDate\":\"20250806 21:05:15\",\"_id\":null,\"@type\":\"PC-NEWSSTAND-PRESS-BLOCK\",\"@code\":null,\"@template\":\"NONE\",\"@flowId\":null,\"@flowExecutionId\":null,\"@provider\":null,\"@lastModifiedAt\":null},{\"@type\":\"PC-NEWSSTAND-PRESS-BLOCK\",\"blocks\":null,\"materials\":null,\"excludeInPaging\":false,\"positionForPaging\":0,\"realtime\":false,\"pid\":\"339\",\"name\":\"경기일보\",\"logoLight\":{\"url\":\"https://s.pstatic.net/static/newsstand/up/2025/0418/nsd165241278.png\"},\"logoDark\":{\"url\":\"https://s.pstatic.net/static/newsstand/up/2025/0418/nsd165254812.png\"},\"showThumbnailView\":true,\"showListView\":true,\"regDate\":\"20250806 20:52:58\",\"_id\":null,\"@type\":\"PC-NEWSSTAND-PRESS-BLOCK\",\"@code\":null,\"@template\":\"NONE\",\"@flowId\":null,\"@flowExecutionId\":null,\"@provider\":null,\"@lastModifiedAt\":null},{\"@type\":\"PC-NEWSSTAND-PRESS-BLOCK\",\"blocks\":null,\"materials\":null,\"excludeInPaging\":false,\"positionForPaging\":0,\"realtime\":false,\"pid\":\"340\",\"name\":\"OBS\",\"logoLight\":{\"url\":\"https://s.pstatic.net/static/newsstand/2020/logo/light/0604/340.png\"},\"logoDark\":{\"url\":\"https://s.pstatic.net/static/newsstand/2020/logo/dark/0604/340.png\"},\"showThumbnailView\":true,\"showListView\":true,\"regDate\":\"20250806 18:32:58\",\"_id\":null,\"@type\":\"PC-NEWSSTAND-PRESS-BLOCK\",\"@code\":null,\"@template\":\"NONE\",\"@flowId\":null,\"@flowExecutionId\":null,\"@provider\":null,\"@lastModifiedAt\":null},{\"@type\":\"PC-NEWSSTAND-PRESS-BLOCK\",\"blocks\":null,\"materials\":null,\"excludeInPaging\":false,\"positionForPaging\":0,\"realtime\":false,\"pid\":\"344\",\"name\":\"EBS\",\"logoLight\":{\"url\":\"https://s.pstatic.net/static/newsstand/up/2020/0803/nsd20247547.png\"},\"logoDark\":{\"url\":\"https://s.pstatic.net/static/newsstand/up/2020/0803/nsd202358800.png\"},\"showThumbnailView\":true,\"showListView\":true,\"regDate\":\"20250806 19:34:09\",\"_id\":null,\"@type\":\"PC-NEWSSTAND-PRESS-BLOCK\",\"@code\":null,\"@template\":\"NONE\",\"@flowId\":null,\"@flowExecutionId\":null,\"@provider\":null,\"@lastModifiedAt\":null},{\"@type\":\"PC-NEWSSTAND-PRESS-BLOCK\",\"blocks\":null,\"materials\":null,\"excludeInPaging\":false,\"positionForPaging\":0,\"realtime\":false,\"pid\":\"345\",\"name\":\"디자인정글\",\"logoLight\":{\"url\":\"https://s.pstatic.net/static/newsstand/2020/logo/light/0604/345.png\"},\"logoDark\":{\"url\":\"https://s.pstatic.net/static/newsstand/2020/logo/dark/0604/345.png\"},\"showThumbnailView\":true,\"showListView\":true,\"regDate\":\"20250806 08:42:00\",\"_id\":null,\"@type\":\"PC-NEWSSTAND-PRESS-BLOCK\",\"@code\":null,\"@template\":\"NONE\",\"@flowId\":null,\"@flowExecutionId\":null,\"@provider\":null,\"@lastModifiedAt\":null},{\"@type\":\"PC-NEWSSTAND-PRESS-BLOCK\",\"blocks\":null,\"materials\":null,\"excludeInPaging\":false,\"positionForPaging\":0,\"realtime\":false,\"pid\":\"346\",\"name\":\"헬스조선\",\"logoLight\":{\"url\":\"https://s.pstatic.net/static/newsstand/up/2025/0418/nsd183246211.png\"},\"logoDark\":{\"url\":\"https://s.pstatic.net/static/newsstand/up/2025/0418/nsd183259246.png\"},\"showThumbnailView\":true,\"showListView\":true,\"regDate\":\"20250806 21:01:02\",\"_id\":null,\"@type\":\"PC-NEWSSTAND-PRESS-BLOCK\",\"@code\":null,\"@template\":\"NONE\",\"@flowId\":null,\"@flowExecutionId\":null,\"@provider\":null,\"@lastModifiedAt\":null},{\"@type\":\"PC-NEWSSTAND-PRESS-BLOCK\",\"blocks\":null,\"materials\":null,\"excludeInPaging\":false,\"positionForPaging\":0,\"realtime\":false,\"pid\":\"108\",\"name\":\"스타뉴스\",\"logoLight\":{\"url\":\"https://s.pstatic.net/static/newsstand/2020/logo/light/0604/108.png\"},\"logoDark\":{\"url\":\"https://s.pstatic.net/static/newsstand/2020/logo/dark/0604/108.png\"},\"showThumbnailView\":true,\"showListView\":true,\"regDate\":\"20250806 21:05:02\",\"_id\":null,\"@type\":\"PC-NEWSSTAND-PRESS-BLOCK\",\"@code\":null,\"@template\":\"NONE\",\"@flowId\":null,\"@flowExecutionId\":null,\"@provider\":null,\"@lastModifiedAt\":null},{\"@type\":\"PC-NEWSSTAND-PRESS-BLOCK\",\"blocks\":null,\"materials\":null,\"excludeInPaging\":false,\"positionForPaging\":0,\"realtime\":false,\"pid\":\"109\",\"name\":\"OSEN\",\"logoLight\":{\"url\":\"https://s.pstatic.net/static/newsstand/up/2020/0610/nsd151458769.png\"},\"logoDark\":{\"url\":\"https://s.pstatic.net/static/newsstand/up/2020/0610/nsd151458769.png\"},\"showThumbnailView\":true,\"showListView\":true,\"regDate\":\"20250806 10:06:56\",\"_id\":null,\"@type\":\"PC-NEWSSTAND-PRESS-BLOCK\",\"@code\":null,\"@template\":\"NONE\",\"@flowId\":null,\"@flowExecutionId\":null,\"@provider\":null,\"@lastModifiedAt\":null},{\"@type\":\"PC-NEWSSTAND-PRESS-BLOCK\",\"blocks\":null,\"materials\":null,\"excludeInPaging\":false,\"positionForPaging\":0,\"realtime\":false,\"pid\":\"901\",\"name\":\"제민일보\",\"logoLight\":{\"url\":\"https://s.pstatic.net/static/newsstand/up/2020/1119/nsd213345745.png\"},\"logoDark\":{\"url\":\"https://s.pstatic.net/static/newsstand/up/2020/1119/nsd213339585.png\"},\"showThumbnailView\":true,\"showListView\":true,\"regDate\":\"20250806 19:32:40\",\"_id\":null,\"@type\":\"PC-NEWSSTAND-PRESS-BLOCK\",\"@code\":null,\"@template\":\"NONE\",\"@flowId\":null,\"@flowExecutionId\":null,\"@provider\":null,\"@lastModifiedAt\":null},{\"@type\":\"PC-NEWSSTAND-PRESS-BLOCK\",\"blocks\":null,\"materials\":null,\"excludeInPaging\":false,\"positionForPaging\":0,\"realtime\":false,\"pid\":\"902\",\"name\":\"TV조선\",\"logoLight\":{\"url\":\"https://s.pstatic.net/static/newsstand/up/2025/0418/nsd162017484.png\"},\"logoDark\":{\"url\":\"https://s.pstatic.net/static/newsstand/up/2025/0418/nsd162032135.png\"},\"showThumbnailView\":true,\"showListView\":true,\"regDate\":\"20250806 19:48:38\",\"_id\":null,\"@type\":\"PC-NEWSSTAND-PRESS-BLOCK\",\"@code\":null,\"@template\":\"NONE\",\"@flowId\":null,\"@flowExecutionId\":null,\"@provider\":null,\"@lastModifiedAt\":null},{\"@type\":\"PC-NEWSSTAND-PRESS-BLOCK\",\"blocks\":null,\"materials\":null,\"excludeInPaging\":false,\"positionForPaging\":0,\"realtime\":false,\"pid\":\"903\",\"name\":\"채널A\",\"logoLight\":{\"url\":\"https://s.pstatic.net/static/newsstand/up/2025/0418/nsd181916575.png\"},\"logoDark\":{\"url\":\"https://s.pstatic.net/static/newsstand/up/2025/0418/nsd181929906.png\"},\"showThumbnailView\":true,\"showListView\":true,\"regDate\":\"20250806 20:44:14\",\"_id\":null,\"@type\":\"PC-NEWSSTAND-PRESS-BLOCK\",\"@code\":null,\"@template\":\"NONE\",\"@flowId\":null,\"@flowExecutionId\":null,\"@provider\":null,\"@lastModifiedAt\":null},{\"@type\":\"PC-NEWSSTAND-PRESS-BLOCK\",\"blocks\":null,\"materials\":null,\"excludeInPaging\":false,\"positionForPaging\":0,\"realtime\":false,\"pid\":\"904\",\"name\":\"JTBC\",\"logoLight\":{\"url\":\"https://s.pstatic.net/static/newsstand/up/2025/0418/nsd169122.png\"},\"logoDark\":{\"url\":\"https://s.pstatic.net/static/newsstand/up/2025/0418/nsd16919234.png\"},\"showThumbnailView\":true,\"showListView\":true,\"regDate\":\"20250806 20:56:08\",\"_id\":null,\"@type\":\"PC-NEWSSTAND-PRESS-BLOCK\",\"@code\":null,\"@template\":\"NONE\",\"@flowId\":null,\"@flowExecutionId\":null,\"@provider\":null,\"@lastModifiedAt\":null},{\"@type\":\"PC-NEWSSTAND-PRESS-BLOCK\",\"blocks\":null,\"materials\":null,\"excludeInPaging\":false,\"positionForPaging\":0,\"realtime\":false,\"pid\":\"905\",\"name\":\"더스쿠프\",\"logoLight\":{\"url\":\"https://s.pstatic.net/static/newsstand/up/2025/0418/nsd1761708.png\"},\"logoDark\":{\"url\":\"https://s.pstatic.net/static/newsstand/up/2025/0418/nsd17614327.png\"},\"showThumbnailView\":true,\"showListView\":true,\"regDate\":\"20250805 17:23:54\",\"_id\":null,\"@type\":\"PC-NEWSSTAND-PRESS-BLOCK\",\"@code\":null,\"@template\":\"NONE\",\"@flowId\":null,\"@flowExecutionId\":null,\"@provider\":null,\"@lastModifiedAt\":null},{\"@type\":\"PC-NEWSSTAND-PRESS-BLOCK\",\"blocks\":null,\"materials\":null,\"excludeInPaging\":false,\"positionForPaging\":0,\"realtime\":false,\"pid\":\"906\",\"name\":\"KNN\",\"logoLight\":{\"url\":\"https://s.pstatic.net/static/newsstand/2020/logo/light/0604/906.png\"},\"logoDark\":{\"url\":\"https://s.pstatic.net/static/newsstand/2020/logo/dark/0604/906.png\"},\"showThumbnailView\":true,\"showListView\":true,\"regDate\":\"20250806 20:54:32\",\"_id\":null,\"@type\":\"PC-NEWSSTAND-PRESS-BLOCK\",\"@code\":null,\"@template\":\"NONE\",\"@flowId\":null,\"@flowExecutionId\":null,\"@provider\":null,\"@lastModifiedAt\":null}],\"materials\":null,\"excludeInPaging\":false,\"positionForPaging\":0,\"realtime\":false,\"majorPidList\":[\"032\",\"005\",\"079\",\"327\",\"930\",\"003\",\"368\",\"020\",\"029\",\"117\",\"009\",\"088\",\"008\",\"021\",\"006\",\"293\",\"011\",\"081\",\"022\",\"073\",\"076\",\"308\",\"277\",\"920\",\"031\",\"422\",\"047\",\"018\",\"241\",\"030\",\"366\",\"023\",\"330\",\"025\",\"092\",\"903\",\"044\",\"014\",\"002\",\"028\",\"015\",\"215\",\"038\",\"016\",\"904\",\"056\",\"326\",\"214\",\"057\",\"109\",\"055\",\"052\"],\"minorPidList\":[\"944\",\"687\",\"913\",\"914\",\"960\",\"536\",\"804\",\"042\",\"812\",\"969\",\"417\",\"961\",\"809\",\"814\",\"942\",\"943\",\"973\",\"685\",\"824\",\"970\",\"816\",\"957\",\"975\",\"810\",\"921\",\"963\",\"682\",\"013\",\"801\",\"539\",\"964\",\"825\",\"243\",\"922\",\"803\",\"923\",\"971\",\"925\",\"690\",\"123\",\"353\",\"941\",\"143\",\"826\",\"822\",\"968\",\"993\",\"974\",\"932\",\"954\",\"120\",\"823\",\"959\",\"972\",\"421\",\"916\",\"376\",\"934\",\"344\",\"980\",\"906\",\"340\",\"374\",\"989\",\"981\",\"684\",\"902\",\"945\",\"910\",\"138\",\"953\",\"952\",\"977\",\"994\",\"818\",\"917\",\"681\",\"040\",\"946\",\"830\",\"447\",\"108\",\"802\",\"144\",\"314\",\"396\",\"529\",\"940\",\"962\",\"139\",\"477\",\"311\",\"947\",\"312\",\"440\",\"410\",\"416\",\"213\",\"356\",\"908\",\"938\",\"984\",\"911\",\"998\",\"997\",\"995\",\"905\",\"991\",\"955\",\"363\",\"345\",\"364\",\"915\",\"024\",\"996\",\"075\",\"829\",\"819\",\"815\",\"122\",\"958\",\"827\",\"355\",\"808\",\"329\",\"135\",\"828\",\"140\",\"979\",\"328\",\"354\",\"691\",\"310\",\"094\",\"820\",\"950\",\"988\",\"982\",\"813\",\"924\",\"807\",\"965\",\"966\",\"686\",\"990\",\"361\",\"956\",\"928\",\"967\",\"296\",\"986\",\"951\",\"948\",\"806\",\"050\",\"805\",\"811\",\"384\",\"346\"],\"catePidList\":{\"ct7\":[\"356\",\"908\",\"938\",\"984\",\"911\",\"998\",\"997\",\"995\",\"905\",\"991\",\"955\",\"363\",\"345\",\"364\",\"915\",\"024\",\"996\",\"075\",\"829\",\"819\",\"815\",\"122\",\"958\",\"827\",\"355\",\"808\",\"329\",\"308\",\"135\",\"828\",\"140\",\"979\",\"328\",\"354\",\"691\",\"310\",\"094\",\"820\",\"950\",\"988\",\"982\",\"813\",\"924\",\"807\",\"965\",\"966\",\"686\",\"990\",\"361\",\"956\",\"928\",\"967\",\"296\",\"986\",\"951\",\"948\",\"806\",\"050\",\"805\",\"811\",\"384\",\"346\"],\"ct8\":[\"335\",\"087\",\"688\",\"339\",\"821\",\"333\",\"978\",\"907\",\"337\",\"935\",\"338\",\"083\",\"332\",\"909\",\"936\",\"089\",\"301\",\"088\",\"976\",\"817\",\"082\",\"385\",\"387\",\"689\",\"388\",\"937\",\"336\",\"901\",\"389\",\"334\",\"983\",\"926\",\"927\",\"391\",\"331\",\"683\"],\"ct5\":[\"681\",\"330\",\"040\",\"044\",\"326\",\"946\"],\"ct6\":[\"830\",\"447\",\"117\",\"108\",\"802\",\"144\",\"314\",\"073\",\"396\",\"076\",\"529\",\"940\",\"962\",\"139\",\"477\",\"311\",\"241\",\"947\",\"312\",\"440\",\"410\",\"109\",\"416\",\"213\"],\"ct3\":[\"421\",\"003\",\"916\",\"422\",\"376\",\"903\",\"215\",\"934\",\"344\",\"904\",\"980\",\"056\",\"906\",\"214\",\"057\",\"340\",\"055\",\"374\",\"989\",\"981\",\"684\",\"902\",\"052\",\"945\"],\"ct4\":[\"910\",\"138\",\"029\",\"953\",\"952\",\"293\",\"030\",\"092\",\"977\",\"994\",\"818\",\"917\"],\"ct2\":[\"032\",\"005\",\"944\",\"079\",\"327\",\"687\",\"930\",\"913\",\"914\",\"960\",\"536\",\"804\",\"368\",\"042\",\"020\",\"812\",\"009\",\"969\",\"417\",\"008\",\"961\",\"021\",\"006\",\"809\",\"814\",\"942\",\"943\",\"973\",\"011\",\"081\",\"685\",\"824\",\"022\",\"970\",\"816\",\"957\",\"975\",\"810\",\"277\",\"920\",\"031\",\"921\",\"963\",\"682\",\"013\",\"047\",\"801\",\"539\",\"964\",\"018\",\"825\",\"243\",\"922\",\"803\",\"923\",\"971\",\"925\",\"690\",\"366\",\"023\",\"123\",\"353\",\"025\",\"941\",\"143\",\"826\",\"014\",\"822\",\"002\",\"028\",\"015\",\"968\",\"038\",\"993\",\"016\",\"974\",\"932\",\"954\",\"120\",\"823\",\"959\",\"972\"]},\"targetLocalPidList\":[],\"subsPidList\":[],\"firstPressBlock\":null,\"rcode2\":\"default\",\"rcode\":\"09410110\",\"_id\":null,\"@type\":\"PC-NEWSSTAND-BLOCK\",\"@code\":\"PC-NEWSSTAND\",\"@template\":\"PC-NEWSSTAND\",\"@flowId\":null,\"@flowExecutionId\":null,\"@provider\":null,\"@lastModifiedAt\":null}],\"materials\":null,\"excludeInPaging\":false,\"positionForPaging\":0,\"realtime\":false,\"_id\":null,\"@type\":\"BLOCK\",\"@code\":\"PC-MEDIA-NEWSSTAND\",\"@template\":\"NONE\",\"@flowId\":null,\"@flowExecutionId\":null,\"@provider\":null,\"@lastModifiedAt\":null}],\"materials\":null,\"excludeInPaging\":false,\"positionForPaging\":0,\"realtime\":false,\"sportsLive\":true,\"_id\":\"643e68a5a10d3006855e268d\",\"@type\":\"PC-MEDIA-CONTENTS-BLOCK\",\"@code\":\"PC-MEDIA-WRAPPER\",\"@template\":\"PC-MEDIA-WRAPPER\",\"@flowId\":\"PC-MEDIA-WRAPPER\",\"@flowExecutionId\":\"a5683d1b-72be-11f0-94a6-d3e51445fc50\",\"@provider\":\"lambda\",\"@lastModifiedAt\":[2025,8,6,12,12,42,624000000]}\n",
      "window[\"EAGER-DATA\"][\"PC-NEWSSTAND-YONHAP\"] = {\"@type\":\"BLOCK\",\"blocks\":[{\"@type\":\"BLOCK\",\"blocks\":null,\"materials\":[],\"excludeInPaging\":false,\"positionForPaging\":0,\"realtime\":false,\"_id\":null,\"@type\":\"BLOCK\",\"@code\":null,\"@template\":\"NONE\",\"@flowId\":null,\"@flowExecutionId\":null,\"@provider\":null,\"@lastModifiedAt\":null}],\"materials\":[{\"@type\":\"MATERIAL-PC-NEWS-ONELINE\",\"gdid\":null,\"title\":\"[속보] 김건희, 조서열람 후 특검 퇴실…10시간여만에 귀갓길\",\"url\":\"https://news.naver.com/main/list.naver?mode=LPOD&mid=sec&sid1=001&sid2=140&oid=001&isYeonhapFlash=Y&aid=0015552735\",\"aid\":null,\"emergency\":false,\"notCompleted\":false,\"officeName\":\"연합뉴스\",\"officeId\":\"001\",\"officeHomeUrl\":null,\"officeWeight\":0,\"officeWeightRate\":0.0,\"_id\":\"643543b2caf3d87b7e0a0da6\"},{\"@type\":\"MATERIAL-PC-NEWS-ONELINE\",\"gdid\":null,\"title\":\"특검, 내일 尹 2차 체포시도…정성호 법무, 구치소 협조 지시\",\"url\":\"https://news.naver.com/main/list.naver?mode=LPOD&mid=sec&sid1=001&sid2=140&oid=001&isYeonhapFlash=Y&aid=0015552742\",\"aid\":null,\"emergency\":false,\"notCompleted\":false,\"officeName\":\"연합뉴스\",\"officeId\":\"001\",\"officeHomeUrl\":null,\"officeWeight\":0,\"officeWeightRate\":0.0,\"_id\":\"677344ca0dae05b66ec43489\"},{\"@type\":\"MATERIAL-PC-NEWS-ONELINE\",\"gdid\":null,\"title\":\"文 전 대통령, 대통령실에 \\\"조국, 사면·복권해야\\\" 의사 전달\",\"url\":\"https://news.naver.com/main/list.naver?mode=LPOD&mid=sec&sid1=001&sid2=140&oid=001&isYeonhapFlash=Y&aid=0015552222\",\"aid\":null,\"emergency\":false,\"notCompleted\":false,\"officeName\":\"연합뉴스\",\"officeId\":\"001\",\"officeHomeUrl\":null,\"officeWeight\":0,\"officeWeightRate\":0.0,\"_id\":\"677344ca0dae05b66ec4348a\"},{\"@type\":\"MATERIAL-PC-NEWS-ONELINE\",\"gdid\":null,\"title\":\"송언석 \\\"정치인 사면 반대…제가 전달한 명단도 철회하겠다\\\"\",\"url\":\"https://news.naver.com/main/list.naver?mode=LPOD&mid=sec&sid1=001&sid2=140&oid=001&isYeonhapFlash=Y&aid=0015552542\",\"aid\":null,\"emergency\":false,\"notCompleted\":false,\"officeName\":\"연합뉴스\",\"officeId\":\"001\",\"officeHomeUrl\":null,\"officeWeight\":0,\"officeWeightRate\":0.0,\"_id\":\"677344ca0dae05b66ec4348b\"},{\"@type\":\"MATERIAL-PC-NEWS-ONELINE\",\"gdid\":null,\"title\":\"與 검찰개혁 7일부터 당정대 협의…\\\"檢보완수사권도 폐지 원칙\\\"\",\"url\":\"https://news.naver.com/main/list.naver?mode=LPOD&mid=sec&sid1=001&sid2=140&oid=001&isYeonhapFlash=Y&aid=0015552602\",\"aid\":null,\"emergency\":false,\"notCompleted\":false,\"officeName\":\"연합뉴스\",\"officeId\":\"001\",\"officeHomeUrl\":null,\"officeWeight\":0,\"officeWeightRate\":0.0,\"_id\":\"677344ca0dae05b66ec4348c\"},{\"@type\":\"MATERIAL-PC-NEWS-ONELINE\",\"gdid\":null,\"title\":\"中단체관광 무비자에 '유커특수' 기대…면세·유통·여행 '들썩'\",\"url\":\"https://news.naver.com/main/list.naver?mode=LPOD&mid=sec&sid1=001&sid2=140&oid=001&isYeonhapFlash=Y&aid=0015552198\",\"aid\":null,\"emergency\":false,\"notCompleted\":false,\"officeName\":\"연합뉴스\",\"officeId\":\"001\",\"officeHomeUrl\":null,\"officeWeight\":0,\"officeWeightRate\":0.0,\"_id\":\"683f13f2f74934e40c0fed6b\"},{\"@type\":\"MATERIAL-PC-NEWS-ONELINE\",\"gdid\":null,\"title\":\"포스코이앤씨 비상경영체제 돌입…인프라 신규 수주 활동 중단\",\"url\":\"https://news.naver.com/main/list.naver?mode=LPOD&mid=sec&sid1=001&sid2=140&oid=001&isYeonhapFlash=Y&aid=0015552613\",\"aid\":null,\"emergency\":false,\"notCompleted\":false,\"officeName\":\"연합뉴스\",\"officeId\":\"001\",\"officeHomeUrl\":null,\"officeWeight\":0,\"officeWeightRate\":0.0,\"_id\":\"6878979ea0b3054b67365363\"},{\"@type\":\"MATERIAL-PC-NEWS-ONELINE\",\"gdid\":null,\"title\":\"\\\"이스라엘군, 가자지구 유엔 치료소 등 공습…18명 사망\\\"\",\"url\":\"https://news.naver.com/main/list.naver?mode=LPOD&mid=sec&sid1=001&sid2=140&oid=001&isYeonhapFlash=Y&aid=0015552608\",\"aid\":null,\"emergency\":false,\"notCompleted\":false,\"officeName\":\"연합뉴스\",\"officeId\":\"001\",\"officeHomeUrl\":null,\"officeWeight\":0,\"officeWeightRate\":0.0,\"_id\":\"6878c912557b0ee3fe1086d6\"},{\"@type\":\"MATERIAL-PC-NEWS-ONELINE\",\"gdid\":null,\"title\":\"구윤철, 주식 양도세 기준 논란에 \\\"다양한 의견 충분히 들을 것\\\"\",\"url\":\"https://news.naver.com/main/list.naver?mode=LPOD&mid=sec&sid1=001&sid2=140&oid=001&isYeonhapFlash=Y&aid=0015552609\",\"aid\":null,\"emergency\":false,\"notCompleted\":false,\"officeName\":\"연합뉴스\",\"officeId\":\"001\",\"officeHomeUrl\":null,\"officeWeight\":0,\"officeWeightRate\":0.0,\"_id\":\"68818016fdd2424b6e815e7f\"},{\"@type\":\"MATERIAL-PC-NEWS-ONELINE\",\"gdid\":null,\"title\":\"해외 IB들, 올해 한국 경제 성장률 전망 1%로 높였다\",\"url\":\"https://news.naver.com/main/list.naver?mode=LPOD&mid=sec&sid1=001&sid2=140&oid=001&isYeonhapFlash=Y&aid=0015552001\",\"aid\":null,\"emergency\":false,\"notCompleted\":false,\"officeName\":\"연합뉴스\",\"officeId\":\"001\",\"officeHomeUrl\":null,\"officeWeight\":0,\"officeWeightRate\":0.0,\"_id\":\"6892e3ced4ac1b8eb6897af7\"}],\"excludeInPaging\":false,\"positionForPaging\":0,\"realtime\":false,\"_id\":\"643543b2a10d3006850fa263\",\"@type\":\"BLOCK\",\"@code\":\"PC-NEWSSTAND-YONHAP\",\"@template\":\"PC-NEWSSTAND-YONHAP\",\"@flowId\":\"PC-YONHAP\",\"@flowExecutionId\":\"80e6b035-72be-11f0-9588-b7aea394b89f\",\"@provider\":\"lambda\",\"@lastModifiedAt\":[2025,8,6,12,11,38,259000000]}\n",
      "window[\"EAGER-DATA\"][\"PC-PREMIUM-AD\"] = {\"@type\":\"PC-PREMIUM-AD-BLOCK\",\"blocks\":null,\"materials\":null,\"excludeInPaging\":false,\"positionForPaging\":0,\"realtime\":false,\"adResponse\":{\"type\":\"N010\",\"adlineId\":null,\"vimp100p0s\":null,\"assets\":null,\"vimp50p1s\":\"https://siape.veta.naver.com/fxview?eu=EU10044434&calp=-&oj=UDLDkoMX9MNQsbHfqBkowro%2FjmnxjmMylc3992%2FDfOZIPwiEkBAlWCGNcbrnFmKn&ac=8206821&src=4733402&evtcd=V900&x_ti=1362&tb=&oid=&sid1=&sid2=&rk=g0KSlDX8mZL2Hl6e333gHg&eltts=r9NWDlgqUkNcWoQg0%2B%2Bcjw%3D%3D&brs=Y&&eid=V900\"},\"_id\":null,\"@type\":null,\"@code\":\"PC-PREMIUM-AD\",\"@template\":\"PC-PREMIUM-AD\",\"@flowId\":null,\"@flowExecutionId\":null,\"@provider\":null,\"@lastModifiedAt\":null}\n",
      "window[\"EAGER-DATA\"][\"PC-MYSERVICE-META\"] = {\"@type\":\"PC-MYSREVICE-META\",\"blocks\":null,\"materials\":null,\"excludeInPaging\":false,\"positionForPaging\":0,\"realtime\":false,\"serviceMetaList\":[],\"_id\":\"68414a73a10d30068523e7ee\",\"@type\":\"MY-SERVICE-META-BLOCK\",\"@code\":\"PC-MYSERVICE-META\",\"@template\":\"NONE\",\"@flowId\":\"PC-MYSERVICE-META\",\"@flowExecutionId\":\"73eefccb-72be-11f0-bbe0-919600b4dbe9\",\"@provider\":\"lambda\",\"@lastModifiedAt\":[2025,8,6,12,11,16,315000000]}\n",
      "window[\"EAGER-DATA\"][\"CAS-MINICONTENT-PC-SEARCH-RIGHT\"] = {\"@type\":\"MINI-CONTENT-BLOCK\",\"blocks\":null,\"materials\":null,\"excludeInPaging\":false,\"positionForPaging\":0,\"realtime\":false,\"items\":[],\"_id\":\"6433d8a5a10d300685012682\",\"@type\":\"MINI-CONTENT-BLOCK\",\"@code\":\"CAS-MINICONTENT-PC-SEARCH-RIGHT\",\"@template\":\"NONE\",\"@flowId\":\"CAS-MINICONTENT\",\"@flowExecutionId\":\"80741842-72be-11f0-9588-2d81cbc42513\",\"@provider\":\"lambda\",\"@lastModifiedAt\":[2025,8,6,12,11,37,317000000]}\n",
      "window[\"EAGER-DATA\"][\"PC-HEADLINE-AD\"] = {\"@type\":\"PC-HEADLINE-AD-BLOCK\",\"blocks\":null,\"materials\":null,\"excludeInPaging\":false,\"positionForPaging\":0,\"realtime\":false,\"adResponse\":{\"type\":\"N011\",\"adlineId\":null,\"vimp100p0s\":\"https://siape.veta.naver.com/fxview?eu=EU10044129&calp=-&oj=ZJlEFeSBKmLf40n3ktJ9%2FLo%2FjmnxjmMylc3992%2FDfOZIPwiEkBAlWCGNcbrnFmKn&ac=8968387&src=7094288&evtcd=V900&x_ti=1586&tb=&oid=&sid1=&sid2=&rk=mZgp4N3Wqg_KcB_RTfR3Yw&eltts=r9NWDlgqUkNcWoQg0%2B%2Bcjw%3D%3D&brs=Y&&eid=V900\",\"assets\":null},\"_id\":null,\"@type\":null,\"@code\":\"PC-HEADLINE-AD\",\"@template\":\"PC-HEADLINE-AD\",\"@flowId\":null,\"@flowExecutionId\":null,\"@provider\":null,\"@lastModifiedAt\":null}\n",
      "window[\"EAGER-DATA\"][\"CAS-MINICONTENT-PC-MEDIA-TAB-EVENT\"] = {\"@type\":\"MINI-CONTENT-BLOCK\",\"blocks\":null,\"materials\":null,\"excludeInPaging\":false,\"positionForPaging\":0,\"realtime\":false,\"items\":[],\"_id\":\"643687e1a10d300685630556\",\"@type\":\"MINI-CONTENT-BLOCK\",\"@code\":\"CAS-MINICONTENT-PC-MEDIA-TAB-EVENT\",\"@template\":\"NONE\",\"@flowId\":\"CAS-MINICONTENT\",\"@flowExecutionId\":\"879a8a49-72be-11f0-94a6-7d3956f8f0ff\",\"@provider\":\"lambda\",\"@lastModifiedAt\":[2025,8,6,12,11,49,326000000]}\n",
      "window[\"EAGER-DATA\"][\"CAS-MINICONTENT-PC-MID-BANNER\"] = {\"@type\":\"MINI-CONTENT-BLOCK\",\"blocks\":null,\"materials\":null,\"excludeInPaging\":false,\"positionForPaging\":0,\"realtime\":false,\"items\":[],\"_id\":\"648ae476a10d300685fbab10\",\"@type\":\"MINI-CONTENT-BLOCK\",\"@code\":\"CAS-MINICONTENT-PC-MID-BANNER\",\"@template\":\"NONE\",\"@flowId\":\"CAS-MINICONTENT\",\"@flowExecutionId\":\"7ced1453-72be-11f0-9588-9b474eed92d1\",\"@provider\":\"lambda\",\"@lastModifiedAt\":[2025,8,6,12,11,31,403000000]}\n",
      "window[\"EAGER-DATA\"][\"CAS-MINICONTENT-PC-TAB-META\"] = {\"@type\":\"MINI-CONTENT-BLOCK\",\"blocks\":null,\"materials\":null,\"excludeInPaging\":false,\"positionForPaging\":0,\"realtime\":false,\"items\":[{\"content\":{\"area\":\"FEED\",\"tabList\":[{\"clickCode\":\"tct.mynr\",\"name\":\"추천・구독\",\"id\":\"PC-FEED-RECOMMEND\",\"contingencyEnabled\":true,\"enabled\":true,\"useFeedCasEditTemplate\":false,\"weight\":1},{\"clickCode\":\"tct.wtn\",\"name\":\"자동차\",\"id\":\"PC-FEED-CARGAME\",\"contingencyEnabled\":true,\"enabled\":true,\"useFeedCasEditTemplate\":true,\"weight\":1},{\"clickCode\":\"tct.wtn\",\"name\":\"웹툰\",\"id\":\"PC-FEED-WEBTOON\",\"contingencyEnabled\":true,\"enabled\":true,\"useFeedCasEditTemplate\":true,\"weight\":1},{\"clickCode\":\"tct.bty\",\"name\":\"패션뷰티\",\"id\":\"PC-FEED-BEAUTY\",\"contingencyEnabled\":true,\"enabled\":true,\"useFeedCasEditTemplate\":false,\"weight\":1},{\"clickCode\":\"tct.fod\",\"name\":\"레시피\",\"id\":\"PC-FEED-RECIPE\",\"contingencyEnabled\":true,\"enabled\":true,\"useFeedCasEditTemplate\":true,\"weight\":1},{\"clickCode\":\"tct.lif\",\"name\":\"리빙\",\"id\":\"PC-FEED-LIVINGHOME\",\"contingencyEnabled\":true,\"enabled\":true,\"useFeedCasEditTemplate\":true,\"weight\":1},{\"clickCode\":\"tct.bok\",\"name\":\"책방\",\"id\":\"PC-FEED-CULTURE\",\"contingencyEnabled\":true,\"enabled\":true,\"useFeedCasEditTemplate\":true,\"weight\":1},{\"clickCode\":\"tct.lec\",\"name\":\"지식+\",\"id\":\"PC-FEED-LECTURE\",\"contingencyEnabled\":true,\"enabled\":true,\"useFeedCasEditTemplate\":true,\"weight\":1},{\"clickCode\":\"tct.health\",\"name\":\"건강\",\"id\":\"PC-FEED-HEALTH\",\"contingencyEnabled\":true,\"enabled\":true,\"useFeedCasEditTemplate\":false,\"weight\":1},{\"clickCode\":\"tct.gameapp\",\"name\":\"게임\",\"id\":\"PC-FEED-GAMEAPP\",\"contingencyEnabled\":true,\"enabled\":true,\"useFeedCasEditTemplate\":false,\"weight\":1}],\"@type\":\"BLOCK-PC-TAB-META\"},\"exposure\":true,\"@miniContentId\":\"643e64d370a065058f369bac\",\"@miniContentCode\":\"PC-TAB-META\",\"@startAt\":\"2023-04-10 00:00\",\"@endAt\":\"2030-05-30 23:59\",\"@createdAt\":\"2023-04-18T18:37:23.412\",\"@updatedAt\":\"2023-11-08T11:34:03.902\"},{\"content\":{\"area\":\"MEDIA\",\"tabList\":[{\"clickCode\":\"nst.nsd\",\"name\":\"뉴스스탠드\",\"id\":\"PC-MEDIA-NEWSSTAND\",\"contingencyEnabled\":true,\"enabled\":true,\"useFeedCasEditTemplate\":false,\"weight\":1},{\"clickCode\":\"nst.nch\",\"name\":\"언론사편집\",\"id\":\"PC-MEDIA-NEWS\",\"contingencyEnabled\":true,\"enabled\":true,\"useFeedCasEditTemplate\":false,\"weight\":1},{\"clickCode\":\"nst.ent\",\"name\":\"엔터\",\"id\":\"PC-MEDIA-ENTER\",\"contingencyEnabled\":true,\"enabled\":true,\"useFeedCasEditTemplate\":false,\"weight\":1},{\"clickCode\":\"nst.spo\",\"name\":\"스포츠\",\"id\":\"PC-MEDIA-SPORTS\",\"contingencyEnabled\":true,\"enabled\":true,\"useFeedCasEditTemplate\":false,\"weight\":1},{\"clickCode\":\"nst.fin\",\"name\":\"경제\",\"id\":\"PC-MEDIA-ECONOMIC\",\"contingencyEnabled\":true,\"enabled\":true,\"useFeedCasEditTemplate\":false,\"weight\":1},{\"clickCode\":\"nst.shpt\",\"name\":\"쇼핑투데이\",\"id\":\"PC-MEDIA-SHOPPING-TODAY\",\"contingencyEnabled\":true,\"enabled\":true,\"useFeedCasEditTemplate\":false,\"weight\":1}],\"@type\":\"BLOCK-PC-TAB-META\"},\"exposure\":true,\"@miniContentId\":\"643e642c8793487c84743a38\",\"@miniContentCode\":\"PC-TAB-META\",\"@startAt\":\"2023-04-11 00:00\",\"@endAt\":\"2030-05-31 23:59\",\"@createdAt\":\"2023-04-18T18:34:36.648\",\"@updatedAt\":\"2024-04-18T16:13:27.109\"}],\"_id\":\"643e6299a10d3006853cc04c\",\"@type\":\"MINI-CONTENT-BLOCK\",\"@code\":\"CAS-MINICONTENT-PC-TAB-META\",\"@template\":\"NONE\",\"@flowId\":\"CAS-MINICONTENT\",\"@flowExecutionId\":\"89fda79a-72be-11f0-9588-874a9501064b\",\"@provider\":\"lambda\",\"@lastModifiedAt\":[2025,8,6,12,11,53,327000000]}\n",
      "</script>\n",
      "<script crossorigin=\"anonymous\" defer=\"defer\" src=\"https://pm.pstatic.net/resources/js/polyfill.5444eff6.js?o=www\"></script><script crossorigin=\"anonymous\" defer=\"defer\" src=\"https://pm.pstatic.net/resources/js/preload.786464b6.js?o=www\"></script><script crossorigin=\"anonymous\" defer=\"defer\" src=\"https://pm.pstatic.net/resources/js/search.d75bdf95.js?o=www\"></script><script crossorigin=\"anonymous\" defer=\"defer\" src=\"https://pm.pstatic.net/resources/js/main.c8806fa6.js?o=www\"></script><link href=\"https://pm.pstatic.net/resources/css/main.219e071b.css\" rel=\"stylesheet\"/></head> <body> <div id=\"u_skip\"> <a href=\"#topAsideButton\"><span>상단영역 바로가기</span></a> <a href=\"#shortcutArea\"><span>서비스 메뉴 바로가기</span></a> <a href=\"#newsstand\"><span>새소식 블록 바로가기</span></a> <a href=\"#shopping\"><span>쇼핑 블록 바로가기</span></a> <a href=\"#feed\"><span>관심사 블록 바로가기</span></a> <a href=\"#account\"><span>MY 영역 바로가기</span></a> <a href=\"#widgetboard\"><span>위젯 보드 바로가기</span></a> <a href=\"#viewSetting\"><span>보기 설정 바로가기</span></a> </div> <script data-gfp-banner-size=\"830x130\" data-gfp-banner-type=\"full\" id=\"ad-timeboard-response\" type=\"text/plain\">{\"payload\":{\"requestId\":\"3744d96679134d32929e3b704779782a\",\"head\":{\"version\":\"0.0.1\",\"description\":\"Naver SSP Waterfall List\"},\"eventTracking\":{\"ackImpressions\":[{\"url\":\"https://tivan.naver.com/sc2/1/\"}],\"activeViewImpressions\":[{\"url\":\"https://tivan.naver.com/sc2/2/\"}],\"clicks\":[{\"url\":\"https://tivan.naver.com/sc2/3/\"}],\"completions\":[{\"url\":\"https://tivan.naver.com/sc2/4/\"}],\"attached\":[{\"url\":\"https://tivan.naver.com/sc2/10/\"}],\"renderedImpressions\":[{\"url\":\"https://tivan.naver.com/sc2/11/\"}],\"viewableImpressions\":[{\"url\":\"https://tivan.naver.com/sc2/12/\"}],\"loadErrors\":[{\"url\":\"https://tivan.naver.com/sc2/91/\"}],\"startErrors\":[{\"url\":\"https://tivan.naver.com/sc2/92/\"}],\"lazyRenderMediaFailed\":[{\"url\":\"https://tivan.naver.com/sc2/93/\"}],\"mute\":[{\"url\":\"https://tivan.naver.com/sc2/5/\"}],\"close\":[{\"url\":\"https://tivan.naver.com/sc2/6/\"}]},\"adUnit\":\"p_main_timeboard_v1\",\"randomNumber\":57,\"adDivId\":\"ad_timeboard\",\"advertiserDomains\":[\"www.navercorp.com\"],\"adDuplicationKeys\":[\"URL:https://www.navercorp.com/\"],\"ads\":[{\"encrypted\":\"7uQY7vI5OfojhLBv391iRcl0tE92ceuYd0fGXvA2bu7wcLkMxZT7iSGc6ME775XwKu2vh4pLoeyseCcUQagqF36ePkbNSiDOUbldtY1AoHSoGd8iKQv66XsG4LW_sdilBBPrCGNTRV9WPC5qmhASlwyL9YUxPRpO3FKVgFCrSFuxc4LP3mzjMuZ_vEk0wv59s4iF6em5EmDDLqWW1EOlZKK6oeU_Rwbw7r2xqRaP64cRdntsNkJLk8-JMLynl9mdBSUMhF5zQ8i6WRdbaJDagebFdCE3zB3YSSUESHkuvigmwZWLMkgQ6rgh0DVAffAoun96JMUnKziG7c-OSfZ_wNcVTn2CzxaOuWIQnHJGXfFteKGrT1woSTh0rF7LCIgiVSEneQi2FsIVpThdpOnRLuqVJni9cUEffm8sxgpH0tMJHLqFMCigDjPsdahpMG9xXR2p0bPb3WZkVlaEMcc9RhtkbUzYqfs1AH4Y6hRhYEJDUI-7GtY5_dyPZUHkb_eKX9gzXRry1cb5OGiZ7oZts_YeayhSanYfHYijDUb0nVTNZ03wlbdD_LWiSN_IVCWvfDW7KgBcINnadT3tO9OZwpTliSk9j-I7hMoZJzn_RM7QlMYbIsaidJGoiO8LfOWeiRgFVvzv72qSHyaEbrsavWYU8R5dR1EIf3smUPcUtTvgAQlpPH4FtGoLJB6TJ6_3E5Of_3qltFKsAqvhq34ySYdo10UZKE4s09io3qy5pjs=\",\"connectionType\":\"S2S\",\"adProviderType\":\"IN_NAVER\",\"adProviderName\":\"NDP_SF\",\"layoutType\":\"FLUID\",\"creativeType\":\"BANNER\",\"renderType\":\"SF\",\"eventTracking\":{\"ackImpressions\":[{\"url\":\"https://siape.veta.naver.com/openrtb/nurl?eu=EU10043565\\u0026calp=-\\u0026oj=cQgn6aire5P%2BoJCoXlpUGqN9EwQjooy72Tx0Y%2BprC3AFzREXAabr7jrOUgt1lgp4JL1qM2Pf%2Fam6P45p8Y5jMpXN%2Ffdvw3zmSD8IhJAQJVieBJzbEUemkkplqdgUSG%2BUXrQSw%2B%2FX1bbNCF9%2F110BZDp0hCNKO%2BcHo2M9jEOAPSLbaIdXv9YIFqKzdZWOwZvb10wXXPTxP9fUvtBMhB%2F95FF8ugsnigZsy9gvmfFyhM0\\u0026ac=9154231\\u0026src=7710697\\u0026evtcd=BID_WIN\\u0026x_ti=1504\\u0026rk=bYVcGkY-nqVh-DL7tiv_8A\\u0026eltts=r9NWDlgqUkNcWoQg0%2B%2Bcjw%3D%3D\\u0026brs=Y\\u0026\"}],\"attached\":[],\"activeViewImpressions\":[],\"renderedImpressions\":[],\"viewableImpressions\":[],\"clicks\":[],\"vimp1px\":[],\"vimp100\":[],\"vimp100p\":[],\"admute\":[],\"advmute\":[],\"like\":[],\"unlike\":[],\"close\":[],\"bounce\":[],\"priv\":[]},\"adInfo\":{\"placeId\":\"6436232db28a76002ea3f30c\",\"adomain\":[\"www.navercorp.com\"],\"cid\":\"1540689\",\"crid\":\"2770782\",\"exp\":86400,\"adContext\":\"{\\\"id\\\":\\\"3744d96679134d32929e3b704779782a\\\",\\\"impId\\\":\\\"BR0_I0\\\",\\\"adomain\\\":[\\\"www.navercorp.com\\\"],\\\"adProviderName\\\":\\\"NDP_SF\\\",\\\"cid\\\":[\\\"1540689\\\"],\\\"crid\\\":[\\\"2770782\\\"],\\\"creativeType\\\":\\\"BANNER\\\",\\\"cur\\\":\\\"KRW\\\",\\\"price\\\":\\\"BS3vsMrLl/0N7SFknB1oSZM4MeC/hcQvAQ89n2s=\\\",\\\"catType\\\":\\\"NCAT\\\",\\\"cat\\\":[\\\"125\\\",\\\"125003\\\"]}\",\"adm\":\"%3Cscript%20src%3D%22https%3A%2F%2Fssl.pstatic.net%2Fmelona%2Flibs%2Fglad%2Fbridge%2Fgfp-bridge.js%22%3E%3C%2Fscript%3E%0D%0A%0D%0A%3Ca%20href%3D%22https%3A%2F%2Fsiape.veta.naver.com%2Ffxclick%3Feu%3DEU10043565%26calp%3D-%26oj%3DcQgn6aire5P%252BoJCoXlpUGqN9EwQjooy72Tx0Y%252BprC3AFzREXAabr7jrOUgt1lgp4JL1qM2Pf%252Fam6P45p8Y5jMpXN%252Ffdvw3zmSD8IhJAQJVieBJzbEUemkkplqdgUSG%252BUXrQSw%252B%252FX1bbNCF9%252F110BZDp0hCNKO%252BcHo2M9jEOAPSLbaIdXv9YIFqKzdZWOwZvb10wXXPTxP9fUvtBMhB%252F95FF8ugsnigZsy9gvmfFyhM0%26ac%3D9154231%26src%3D7710697%26br%3D4781880%26evtcd%3DP901%26x_ti%3D1504%26tb%3D%26oid%3D%26sid1%3D%26sid2%3D%26rk%3DbYVcGkY-nqVh-DL7tiv_8A%26eltts%3Dr9NWDlgqUkNcWoQg0%252B%252Bcjw%253D%253D%26brs%3DY%26%22%20id%3D%22ac_banner_a%22%20target%3D%22_blank%22%20style%3D%22display%3Ablock%22%3E%0D%0A%20%20%20%20%3Cimg%20src%3D%22https%3A%2F%2Fssl.pstatic.net%2Fmelona%2Flibs%2F1540%2F1540689%2Fcffcaf2efd878f1e233f_20250722095450016.jpg%22%20width%3D%22830%22%20height%3D%22130%22%20alt%3D%22%5B%EA%B4%91%EA%B3%A0%5D%EB%82%B4%20SNS%EB%A1%9C%20%EB%98%91%EB%98%91%ED%95%98%EA%B2%8C%20%EB%8F%88%20%EB%B2%84%EB%8A%94%20%EB%B0%A9%EB%B2%95%20%EB%84%A4%EC%9D%B4%EB%B2%84%20%EC%87%BC%ED%95%91%20%EC%BB%A4%EB%84%A5%ED%8A%B8%20%EB%A7%81%ED%81%AC%20%EB%8D%94%ED%95%98%EA%B3%A0%20%EC%88%98%EC%9D%B5%20UP%22%3E%0D%0A%3C%2Fa%3E%0D%0A%0D%0A%3Cscript%20type%3D%22text%2Fjavascript%22%20src%3D%22https%3A%2F%2Fssl.pstatic.net%2Fmelona%2Flibs%2Fassets%2Fjs%2Fpc%2Fmain%2Fmin%2Fpc.veta.core.min.js%3F20240228%22%3E%3C%2Fscript%3E%0D%0A%3Cscript%20type%3D%22text%2Fjavascript%22%3E%0D%0A%20%20%20%20%28function%28ns%2C%20bridge%29%20%7B%0D%0A%20%20%20%20%20%20%20%20var%20LOG%20%3D%20%7B%0D%0A%20%20%20%20%20%20%20%20%20%20%20%20VIEWABLED%3A%20%22https%3A%2F%2Fsiape.veta.naver.com%2Ffxview%3Feu%3DEU10043565%26calp%3D-%26oj%3DcQgn6aire5P%252BoJCoXlpUGqN9EwQjooy72Tx0Y%252BprC3AFzREXAabr7jrOUgt1lgp4JL1qM2Pf%252Fam6P45p8Y5jMpXN%252Ffdvw3zmSD8IhJAQJVieBJzbEUemkkplqdgUSG%252BUXrQSw%252B%252FX1bbNCF9%252F110BZDp0hCNKO%252BcHo2M9jEOAPSLbaIdXv9YIFqKzdZWOwZvb10wXXPTxP9fUvtBMhB%252F95FF8ugsnigZsy9gvmfFyhM0%26ac%3D9154231%26src%3D7710697%26evtcd%3DV900%26x_ti%3D1504%26tb%3D%26oid%3D%26sid1%3D%26sid2%3D%26rk%3DbYVcGkY-nqVh-DL7tiv_8A%26eltts%3Dr9NWDlgqUkNcWoQg0%252B%252Bcjw%253D%253D%26brs%3DY%26%26eid%3DV900%22%2C%0D%0A%20%20%20%20%20%20%20%20%20%20%20%20RENDERED%3A%20%22https%3A%2F%2Fsiape.veta.naver.com%2Ffxview%3Feu%3DEU10043565%26calp%3D-%26oj%3DcQgn6aire5P%252BoJCoXlpUGqN9EwQjooy72Tx0Y%252BprC3AFzREXAabr7jrOUgt1lgp4JL1qM2Pf%252Fam6P45p8Y5jMpXN%252Ffdvw3zmSD8IhJAQJVieBJzbEUemkkplqdgUSG%252BUXrQSw%252B%252FX1bbNCF9%252F110BZDp0hCNKO%252BcHo2M9jEOAPSLbaIdXv9YIFqKzdZWOwZvb10wXXPTxP9fUvtBMhB%252F95FF8ugsnigZsy9gvmfFyhM0%26ac%3D9154231%26src%3D7710698%26evtcd%3DV602%26x_ti%3D1504%26tb%3D%26oid%3D%26sid1%3D%26sid2%3D%26rk%3DbYVcGkY-nqVh-DL7tiv_8A%26eltts%3Dr9NWDlgqUkNcWoQg0%252B%252Bcjw%253D%253D%26brs%3DY%26%26eid%3DV810%22%0D%0A%20%20%20%20%20%20%20%20%7D%3B%0D%0A%0D%0A%20%20%20%20%20%20%20%20var%20util%20%3D%20ns.Util%20%3F%20new%20ns.Util%28%29%20%3A%20new%20NBP_CORP.Nimp%28%29%3B%0D%0A%20%20%20%20%20%20%20%20var%20gladSdkBridge%20%3D%20bridge.createSdkBridge%28%29%3B%0D%0A%20%20%20%20%20%20%20%20var%20eventList%20%3D%20%7B%7D%3B%0D%0A%0D%0A%20%20%20%20%20%20%20%20%2F%2F%20%EC%9D%91%EB%8B%B5%EB%85%B8%EC%B6%9C%0D%0A%20%20%20%20%20%20%20%20util.log%28LOG.RENDERED%29%3B%0D%0A%0D%0A%20%20%20%20%20%20%20%20%2F%2F%20%EC%9C%A0%ED%9A%A8%EB%85%B8%EC%B6%9C%0D%0A%20%20%20%20%20%20%20%20eventList%5Bbridge.EVENT.VIEWABLED%5D%20%3D%20function%28%29%20%7B%0D%0A%20%20%20%20%20%20%20%20%20%20%20%20util.log%28LOG.VIEWABLED%29%3B%0D%0A%20%20%20%20%20%20%20%20%7D%3B%0D%0A%0D%0A%20%20%20%20%20%20%20%20gladSdkBridge.setEventListeners%28eventList%29%3B%0D%0A%20%20%20%20%7D%29%28%0D%0A%20%20%20%20%20%20%20%20window.naver_corp_da%20%7C%7C%20%7B%7D%2C%0D%0A%20%20%20%20%20%20%20%20window.gladBridge%0D%0A%20%20%20%20%29%3B%0D%0A%3C%2Fscript%3E\",\"encoded\":1,\"responseSize\":{\"height\":130,\"width\":830,\"force\":0},\"template\":\"%3C%21doctype%20html%3E%3Chtml%3E%3Chead%3E%3Cmeta%20name%3D%22viewport%22%20content%3D%22width%3Ddevice-width%2C%20user-scalable%3Dno%22%2F%3E%3Cstyle%20data-gfp-role%3D%22adMarkLegacyStyle%22%3E%5Bdata-gfp-role%3D%22adMarkLegacy%22%5D%20%7Bdisplay%3A%20none%3B%7D%3C%2Fstyle%3E%3Cscript%3Ewindow.gladBridge%20%3D%20%7BRUNTIME%3A%20%22InApp%22%7D%3B%3C%2Fscript%3E%3C%2Fhead%3E%3Cbody%20style%3D%22margin%3A%200%3B%20padding%3A%200%22%3E%7B%7Badm%7D%7D%3Cscript%20src%3D%22https%3A%2F%2Fssl.pstatic.net%2Ftveta%2Flibs%2Fglad_admute%2Fprod%2Fglad-admute.js%22%3E%3C%2Fscript%3E%3Cscript%3Econst%20adMuteOptions%20%3D%20%7BmuteUrl%3A%20%22%25%25MUTE_URL%25%25%22%2C%20privacyUrl%3A%20%22%25%25PRIV_URL%25%25%22%2C%20creativeType%3A%20%22BANNER%22%2C%20runtimeType%3A%20%22InApp%22%7D%3B%20if%28adMuteOptions.muteUrl%20%7C%7C%20adMuteOptions.privacyUrl%29%20%7B%20window.gladAdMute.checkAdMarkLegacyStyle%28adMuteOptions%29%3B%20const%20adMuteController%20%3D%20window.gladAdMute.createAdMuteController%28adMuteOptions%29%3B%20adMuteController.render%28%29%3B%20%7D%3C%2Fscript%3E%3C%2Fbody%3E%3C%2Fhtml%3E\"}},{\"encrypted\":\"j8XxD7uq_lMLJ2VC5QflDw17Latr1a208fVVRrlUubvKp0Q8FMSdFsb53NUluJJnhbSPxCLwt1hd8Hk0Wv0Ggku3rabZLwhoqycZpA2gg_cVmVM1trLW5GEL7TrHH9WU6IrNZ18ecJmpNjwG9toBBSZ59KoKBfNPhfwY9ggFYtF-RWO9SW_TGAd_CnQmrFnbjPTxm0zyuvBkfeBS0IpIU4CicWHNmHFMmZtgALDIZjTv6LmU1eoMgsXLIuVYKudUJjRBNWRXteofGt1eAoShehbnNZjmvGnbXw5ofpslAGFxgV7qkmGAEriIKuHCXdjt1WPuSk2QIc5PMcTVpAKEAd-RGFOOICGyBE2AJR52gIvdqBtxyOaMHPm3J07FQlbgpcVh8ISAVERIQEAwKrncErOheSZcAUzNPVqyA_fHQCawaU43WG2WCMu2x8azg0M2VhAwn3CF-KqCeOTPRzJB4elI0b732SBMgUpBDfV19HSrdWCNYE4LxbhARkRUsE8ukIbJ7_ZLa-1EecBaFBzS8Q==\",\"connectionType\":\"S2S\",\"adProviderName\":\"GFP\",\"layoutType\":\"FLUID\",\"creativeType\":\"BANNER\",\"renderType\":\"EMPTY\",\"eventTracking\":{\"ackImpressions\":[{\"url\":\"https://siape.veta.naver.com/openrtb/nbackimp?eu=EU10043565\\u0026oj=cQgn6aire5P%2BoJCoXlpUGqN9EwQjooy72Tx0Y%2BprC3AFzREXAabr7jrOUgt1lgp4JL1qM2Pf%2Fam6P45p8Y5jMpXN%2Ffdvw3zmSD8IhJAQJVieBJzbEUemkkplqdgUSG%2BUXrQSw%2B%2FX1bbNCF9%2F110BZDp0hCNKO%2BcHo2M9jEOAPSLbaIdXv9YIFqKzdZWOwZvb10wXXPTxP9fUvtBMhB%2F95FF8ugsnigZsy9gvmfFyhM0\\u0026evtcd=BID_LOSE\\u0026rk=bYVcGkY-nqVh-DL7tiv_8A\\u0026eltts=r9NWDlgqUkNcWoQg0%2B%2Bcjw%3D%3D\\u0026calp=-\\u0026ac=9154231\\u0026src=7710697\\u0026x_ti=1504\\u0026brs=Y\"}],\"attached\":[],\"activeViewImpressions\":[{\"url\":\"https://siape.veta.naver.com/openrtb/nbimp?oj=cQgn6aire5P%2BoJCoXlpUGqN9EwQjooy72Tx0Y%2BprC3AFzREXAabr7jrOUgt1lgp4JL1qM2Pf%2Fam6P45p8Y5jMpXN%2Ffdvw3zmSD8IhJAQJVieBJzbEUemkkplqdgUSG%2BUXrQSw%2B%2FX1bbNCF9%2F110BZDp0hCNKO%2BcHo2M9jEOAPSLbaIdXv9YIFqKzdZWOwZvb10wXXPTxP9fUvtBMhB%2F95FF8ugsnigZsy9gvmfFyhM0\\u0026rk=bYVcGkY-nqVh-DL7tiv_8A\\u0026eltts=r9NWDlgqUkNcWoQg0%2B%2Bcjw%3D%3D\"}],\"renderedImpressions\":[],\"viewableImpressions\":[{\"url\":\"https://siape.veta.naver.com/openrtb/nbimp?oj=cQgn6aire5P%2BoJCoXlpUGqN9EwQjooy72Tx0Y%2BprC3AFzREXAabr7jrOUgt1lgp4JL1qM2Pf%2Fam6P45p8Y5jMpXN%2Ffdvw3zmSD8IhJAQJVieBJzbEUemkkplqdgUSG%2BUXrQSw%2B%2FX1bbNCF9%2F110BZDp0hCNKO%2BcHo2M9jEOAPSLbaIdXv9YIFqKzdZWOwZvb10wXXPTxP9fUvtBMhB%2F95FF8ugsnigZsy9gvmfFyhM0\\u0026rk=bYVcGkY-nqVh-DL7tiv_8A\\u0026eltts=r9NWDlgqUkNcWoQg0%2B%2Bcjw%3D%3D\"}],\"clicks\":[],\"vimp1px\":[],\"vimp100\":[],\"vimp100p\":[],\"admute\":[],\"advmute\":[],\"like\":[],\"unlike\":[],\"close\":[],\"bounce\":[],\"priv\":[]},\"adInfo\":{\"responseSize\":{\"height\":0,\"width\":0}}}],\"config\":{\"imp\":{\"ratio\":100,\"ms\":0}}},\"additionalInfo\":{\"adCount\":1,\"adDuplicate\":{\"advertiserDomains\":[\"www.navercorp.com\"],\"adDuplicationKeys\":[\"URL:https://www.navercorp.com/\"]},\"adSize\":{\"h\":130,\"w\":830}}}\n",
      "</script> <div id=\"wrap\"> <div id=\"header\" role=\"banner\"> <div class=\"header_inner\" id=\"topSearchWrap\"> <div class=\"search_special_bg\" id=\"special-logo\"></div> <div class=\"ad_area\" id=\"timeboard-ex\" style=\"width:1280px\"> </div> <div class=\"search_area\" id=\"search_area\" style=\"border-color:#fff\"> <div class=\"search_group\"> <div class=\"search_group_inner\" id=\"search\"> <h1 class=\"search_logo\" id=\"special-input-logo\"></h1> <form action=\"https://search.naver.com/search.naver\" id=\"sform\" method=\"get\" name=\"search\" role=\"search\"> <fieldset> <legend class=\"blind\">검색</legend> <input name=\"where\" type=\"hidden\" value=\"nexearch\"/> <input id=\"sm\" name=\"sm\" type=\"hidden\" value=\"top_hty\"/> <input id=\"fbm\" name=\"fbm\" type=\"hidden\" value=\"0\"/> <input disabled=\"disabled\" id=\"acr\" name=\"acr\" type=\"hidden\" value=\"\"/> <input disabled=\"disabled\" id=\"acq\" name=\"acq\" type=\"hidden\" value=\"\"/> <input disabled=\"disabled\" id=\"qdt\" name=\"qdt\" type=\"hidden\" value=\"\"/> <input id=\"ie\" name=\"ie\" type=\"hidden\" value=\"utf8\"/> <input disabled=\"disabled\" id=\"acir\" name=\"acir\" type=\"hidden\" value=\"\"/> <input disabled=\"disabled\" id=\"os\" name=\"os\" type=\"hidden\" value=\"\"/> <input disabled=\"disabled\" id=\"bid\" name=\"bid\" type=\"hidden\" value=\"\"/> <input disabled=\"disabled\" id=\"pkid\" name=\"pkid\" type=\"hidden\" value=\"\"/> <input disabled=\"disabled\" id=\"eid\" name=\"eid\" type=\"hidden\" value=\"\"/> <input disabled=\"disabled\" id=\"mra\" name=\"mra\" type=\"hidden\" value=\"\"/> <div class=\"search_input_box\"> <input autocomplete=\"off\" class=\"search_input\" data-atcmp-element=\"\" id=\"query\" maxlength=\"255\" name=\"query\" placeholder=\"검색어를 입력해 주세요.\" title=\"검색어를 입력해 주세요.\" type=\"search\"/> </div> <button class=\"btn_search\" onclick='window.ntm.push({event:\"nclick\",el:this,click_area:\"sch.action\"})' type=\"submit\"> <span class=\"ico_btn_search_svg\"> <svg id=\"search-btn\" viewbox=\"0 0 50 50\" xmlns=\"http://www.w3.org/2000/svg\"> <path d=\"M22.13.5c11.378 0 20.632 9.256 20.632 20.63 0 4.699-1.566 9.155-4.439 12.782l10.164 10.165a2.41 2.41 0 0 1-1.706 4.115 2.412 2.412 0 0 1-1.706-.705L33.31 35.719a2.41 2.41 0 0 1 0-3.41 15.71 15.71 0 0 0 4.628-11.178c0-8.718-7.09-15.808-15.807-15.808-8.718 0-15.808 7.09-15.808 15.808 0 7.15 4.817 13.43 11.714 15.273a2.41 2.41 0 0 1 1.705 2.954 2.41 2.41 0 0 1-2.95 1.705C7.788 38.658 1.5 30.46 1.5 21.131 1.5 9.756 10.756.5 22.13.5zm4.716 34.746a3.483 3.483 0 1 1 0 6.966 3.483 3.483 0 0 1 0-6.966z\"></path> </svg> </span> <span class=\"blind\">검색</span> </button> </fieldset> </form> <div class=\"search_box\"> <button aria-pressed=\"false\" class=\"btn_keyboard\" id=\"ke_kbd_btn\" type=\"button\"> <span class=\"keybord_text\"> <span class=\"blind\">입력도구</span> </span> </button> <div id=\"_nx_kbd\" style=\"display:none\"></div> <button class=\"btn_arrow\" data-atcmp-element=\"\" id=\"nautocomplete\" type=\"button\"> <span class=\"blind\">자동완성/최근검색어펼치기</span> </button> </div> <div class=\"layer_atcmp\" id=\"autoFrame\" style=\"display:none\"></div> </div> </div> </div> <div id=\"search-right\"></div> <div aria-label=\"주요 서비스\" class=\"shortcut_area\" id=\"shortcutArea\" role=\"navigation\"></div> <div class=\"menu_area\" id=\"topAsideArea\"></div> <div class=\"pay_area\" id=\"topPayArea\"></div> <div class=\"talk_area\" id=\"topTalkArea\"></div> <div class=\"notify_area\" id=\"topNotiArea\"></div> <div class=\"shopping_area\" id=\"topShoppingArea\"></div> </div> </div> <div id=\"container\" role=\"main\"> <div class=\"ad_premium_area\" id=\"ad_premium_area\" style=\"min-width:1920px\"> </div> <div id=\"root\"></div> </div> <div id=\"footer\" role=\"contentinfo\"></div> </div> <script> window['EAGER-DATA'] = window['EAGER-DATA'] || {};\n",
      "        window['EAGER-DATA']['GV'] = {\n",
      "            svt: '20250806211336',  }; </script> <script>!function(){function t(t){var e=document.getElementById(\"search_area\"),l=document.getElementById(\"search-btn\");if(!t)return e&&e.removeAttribute(\"style\"),void(l&&l.setAttribute(\"style\",\"fill: #03c75a\"));e&&e.setAttribute(\"style\",\"border-color: \"+t),l&&l.setAttribute(\"class\",\"ico_btn_search type_color\"),l&&l.setAttribute(\"style\",\"fill: \"+t)}var e=window[\"EAGER-DATA\"][\"CAS-MINICONTENT-PC-SPECIAL-LOGO\"];if(!e||!e.items||e.items.length>0==!1)return void t();var l=Math.floor(Math.random()*e.items.length),s=e.items[l];e.items=[s];const o=s&&s.content?s.content.input:null;t(o&&o.color);const i=document.getElementById(\"search\"),n=i&&(!o||!o.showSearchLogo);n&&i.classList.add(\"type_special_logo_full\"),window.addEventListener(\"header-sticky-state-change\",(function(){var t;(t=document.getElementById(\"header\"))&&t.classList.contains(\"ani_fixed\")?n&&i.classList.remove(\"type_special_logo_full\"):n&&i.classList.add(\"type_special_logo_full\")}));var r=o&&o.placeholder;if(r){var a=document.getElementById(\"query\");a&&r&&a.setAttribute(\"title\",r),a&&r&&a.setAttribute(\"placeholder\",r)}}()</script> </body> </html> \n"
     ]
    }
   ],
   "source": [
    "print(soup)"
   ]
  },
  {
   "cell_type": "markdown",
   "id": "b0d0bb90-4ca9-4c02-a4f9-7d8b167eec97",
   "metadata": {},
   "source": [
    "## 파서\n",
    "\n",
    "- 내가 원하는 데이터를 특정 패턴이나 순서로 추출하여 정보를 가공해주는 프로그램\n",
    "    - lxml\n",
    "        - c언어로 구현되어 속도가 가장 빠름\n",
    "    - html5lib\n",
    "        - 속도가 가장 느림\n",
    "        - 가장 안정적\n",
    "    - html.parser\n",
    "        - lxml과 html5lib의 중간 속도"
   ]
  },
  {
   "cell_type": "markdown",
   "id": "9d88045b-b9c9-40d0-af29-47eee339966e",
   "metadata": {},
   "source": [
    "## 속성 데이터"
   ]
  },
  {
   "cell_type": "code",
   "execution_count": 212,
   "id": "d1d0fa5d-71b3-4398-a208-75b7f315c3c3",
   "metadata": {},
   "outputs": [],
   "source": [
    "html = \"\"\"<html> <head><title class=\"t\" id=\"ti\">test site</title></head> <body> <p>test</p> <p>test1</p> <p>test2</p> </body></html>\"\"\""
   ]
  },
  {
   "cell_type": "markdown",
   "id": "d17e6463-3394-42d7-b81f-3860b982e5d6",
   "metadata": {},
   "source": [
    "- html\n",
    "    - head\n",
    "        - title\n",
    "    - body\n",
    "        - p\n",
    "        - p\n",
    "        - p"
   ]
  },
  {
   "cell_type": "code",
   "execution_count": 215,
   "id": "60037287-bad2-4038-9aa6-c9ff07e249f3",
   "metadata": {},
   "outputs": [],
   "source": [
    "soup = BeautifulSoup(html, \"lxml\")"
   ]
  },
  {
   "cell_type": "code",
   "execution_count": 217,
   "id": "daed4b72-dc04-43ca-9d92-6d9b5d9034f5",
   "metadata": {},
   "outputs": [
    {
     "name": "stdout",
     "output_type": "stream",
     "text": [
      "<title class=\"t\" id=\"ti\">test site</title>\n",
      "{'class': ['t'], 'id': 'ti'}\n",
      "['t']\n",
      "ti\n"
     ]
    }
   ],
   "source": [
    "tag_title = soup.title\n",
    "\n",
    "print(tag_title)\n",
    "print(tag_title.attrs) # 태그의 속성 가져오기\n",
    "print(tag_title[\"class\"])\n",
    "print(tag_title[\"id\"])"
   ]
  },
  {
   "cell_type": "code",
   "execution_count": 219,
   "id": "d393eb04-6f70-477f-b5ed-0e45aab0d2fb",
   "metadata": {},
   "outputs": [
    {
     "ename": "KeyError",
     "evalue": "'class1'",
     "output_type": "error",
     "traceback": [
      "\u001b[1;31m---------------------------------------------------------------------------\u001b[0m",
      "\u001b[1;31mKeyError\u001b[0m                                  Traceback (most recent call last)",
      "Cell \u001b[1;32mIn[219], line 2\u001b[0m\n\u001b[0;32m      1\u001b[0m \u001b[38;5;66;03m# 키가 없다면 에러 발생\u001b[39;00m\n\u001b[1;32m----> 2\u001b[0m \u001b[38;5;28mprint\u001b[39m(tag_title[\u001b[38;5;124m\"\u001b[39m\u001b[38;5;124mclass1\u001b[39m\u001b[38;5;124m\"\u001b[39m])\n",
      "File \u001b[1;32m~\\anaconda3\\Lib\\site-packages\\bs4\\element.py:1573\u001b[0m, in \u001b[0;36mTag.__getitem__\u001b[1;34m(self, key)\u001b[0m\n\u001b[0;32m   1570\u001b[0m \u001b[38;5;28;01mdef\u001b[39;00m \u001b[38;5;21m__getitem__\u001b[39m(\u001b[38;5;28mself\u001b[39m, key):\n\u001b[0;32m   1571\u001b[0m \u001b[38;5;250m    \u001b[39m\u001b[38;5;124;03m\"\"\"tag[key] returns the value of the 'key' attribute for the Tag,\u001b[39;00m\n\u001b[0;32m   1572\u001b[0m \u001b[38;5;124;03m    and throws an exception if it's not there.\"\"\"\u001b[39;00m\n\u001b[1;32m-> 1573\u001b[0m     \u001b[38;5;28;01mreturn\u001b[39;00m \u001b[38;5;28mself\u001b[39m\u001b[38;5;241m.\u001b[39mattrs[key]\n",
      "\u001b[1;31mKeyError\u001b[0m: 'class1'"
     ]
    }
   ],
   "source": [
    "# 키가 없다면 에러 발생\n",
    "print(tag_title[\"class1\"])"
   ]
  },
  {
   "cell_type": "code",
   "execution_count": 221,
   "id": "9117ac63-73c4-4745-bee3-03c896649282",
   "metadata": {},
   "outputs": [
    {
     "data": {
      "text/plain": [
       "'default_value'"
      ]
     },
     "execution_count": 221,
     "metadata": {},
     "output_type": "execute_result"
    }
   ],
   "source": [
    "tag_title.get(\"class1\", \"default_value\")"
   ]
  },
  {
   "cell_type": "code",
   "execution_count": 223,
   "id": "75531ce3-99d1-47ea-a2cc-a3ccf3bd2667",
   "metadata": {},
   "outputs": [
    {
     "data": {
      "text/plain": [
       "bs4.element.Tag"
      ]
     },
     "execution_count": 223,
     "metadata": {},
     "output_type": "execute_result"
    }
   ],
   "source": [
    "# tag 타입은 딕셔너리처럼 접근할 수 있고 딕셔너리 문법을 그대로 적용할 수 있음\n",
    "type(tag_title)"
   ]
  },
  {
   "cell_type": "markdown",
   "id": "7ad90566-88f4-4179-b68f-5620668473d4",
   "metadata": {},
   "source": [
    "### - 태그 접근\n",
    "\n",
    "- soup.태그이름 의 형태로 첫 번째로 등장하는 태그의 정보를 가져올 수 있음"
   ]
  },
  {
   "cell_type": "code",
   "execution_count": 226,
   "id": "d3034b00-8a17-46d5-9a05-9288ce093da6",
   "metadata": {},
   "outputs": [
    {
     "name": "stdout",
     "output_type": "stream",
     "text": [
      "<title class=\"t\" id=\"ti\">test site</title>\n"
     ]
    }
   ],
   "source": [
    "tag_title = soup.title\n",
    "print(tag_title)"
   ]
  },
  {
   "cell_type": "code",
   "execution_count": 228,
   "id": "2a932844-9721-4396-b490-9a07b297b9bf",
   "metadata": {},
   "outputs": [
    {
     "name": "stdout",
     "output_type": "stream",
     "text": [
      "test site\n",
      "test site\n"
     ]
    }
   ],
   "source": [
    "print(tag_title.text)\n",
    "print(tag_title.string)"
   ]
  },
  {
   "cell_type": "code",
   "execution_count": 230,
   "id": "4aff1c49-6314-42af-8709-16f9ebc6f7ad",
   "metadata": {},
   "outputs": [],
   "source": [
    "# text와 string의 차이\n",
    "html = \"\"\"<html> <head><title>test site</title></head> <body> <p><span>test1</span><span>test2</span></p> </body></html>\"\"\""
   ]
  },
  {
   "cell_type": "markdown",
   "id": "ab6fc94c-8aea-4deb-83de-4d0630ec9795",
   "metadata": {},
   "source": [
    "- html\n",
    "    - head\n",
    "        - title\n",
    "    - body\n",
    "        - p\n",
    "            - span\n",
    "            - span"
   ]
  },
  {
   "cell_type": "code",
   "execution_count": 233,
   "id": "9d6562ce-23bb-4ff7-ab2f-ce0702d62656",
   "metadata": {},
   "outputs": [
    {
     "name": "stdout",
     "output_type": "stream",
     "text": [
      "<p><span>test1</span><span>test2</span></p>\n"
     ]
    }
   ],
   "source": [
    "soup = BeautifulSoup(html, \"lxml\")\n",
    "\n",
    "tag_p = soup.p\n",
    "\n",
    "print(tag_p)"
   ]
  },
  {
   "cell_type": "code",
   "execution_count": 235,
   "id": "b52d3fbd-209e-455b-904e-cf39e61b019d",
   "metadata": {},
   "outputs": [
    {
     "name": "stdout",
     "output_type": "stream",
     "text": [
      "text :  test1test2 <class 'str'>\n",
      "string :  None <class 'NoneType'>\n"
     ]
    }
   ],
   "source": [
    "data_text = tag_p.text\n",
    "data_string = tag_p.string\n",
    "\n",
    "print(\"text : \", data_text, type(data_text))\n",
    "print(\"string : \", data_string, type(data_string))"
   ]
  },
  {
   "cell_type": "markdown",
   "id": "7661e6f0-a3a8-469d-a2dc-6c2198d00730",
   "metadata": {},
   "source": [
    "- text\n",
    "    - 하위 태그들의 값도 모두 출력\n",
    "- string\n",
    "    - 정확히 해당 태그에 대한 값만 출력"
   ]
  },
  {
   "cell_type": "code",
   "execution_count": 238,
   "id": "5d77e0b2-3268-40e6-bb1d-1584b26f59df",
   "metadata": {},
   "outputs": [
    {
     "data": {
      "text/plain": [
       "'test1'"
      ]
     },
     "execution_count": 238,
     "metadata": {},
     "output_type": "execute_result"
    }
   ],
   "source": [
    "tag_p.span.string"
   ]
  },
  {
   "cell_type": "markdown",
   "id": "1aab5d4c-3f85-4588-bd86-48b1035feffd",
   "metadata": {},
   "source": [
    "### - 자식 태그 접근\n",
    "\n",
    "- contents와 children 속성을 이용하여 자식 태그 가져오기"
   ]
  },
  {
   "cell_type": "code",
   "execution_count": 241,
   "id": "cb6ccbd7-0352-4a57-a0f6-171dd4bb7b89",
   "metadata": {},
   "outputs": [
    {
     "name": "stdout",
     "output_type": "stream",
     "text": [
      "[<span>test1</span>, <span>test2</span>]\n"
     ]
    }
   ],
   "source": [
    "tag_p_contents = soup.p.contents # 리스트 형태로 자식 태그들을 가져옴\n",
    "\n",
    "print(tag_p_contents)"
   ]
  },
  {
   "cell_type": "code",
   "execution_count": 243,
   "id": "0d5ad539-ab9d-47b3-8712-a45cb852be8a",
   "metadata": {},
   "outputs": [
    {
     "name": "stdout",
     "output_type": "stream",
     "text": [
      "<span>test1</span>\n",
      "<span>test2</span>\n"
     ]
    }
   ],
   "source": [
    "tag_p_children = soup.p.children # children 으로 가져온 값은 반복문을 사용해야함\n",
    "\n",
    "for child in tag_p_children:\n",
    "    print(child)"
   ]
  },
  {
   "cell_type": "code",
   "execution_count": 245,
   "id": "2106b024-6c6c-4e86-b123-a59b191085a0",
   "metadata": {},
   "outputs": [
    {
     "name": "stdout",
     "output_type": "stream",
     "text": [
      "<list_iterator object at 0x000002035BE1D780>\n"
     ]
    }
   ],
   "source": [
    "print(tag_p_children)"
   ]
  },
  {
   "cell_type": "markdown",
   "id": "927db140-2bed-471d-9556-0d34bc299f43",
   "metadata": {},
   "source": [
    "### - 부모 태그 접근\n",
    "\n",
    "- parent 와 parents 로 부모 태그 가져오기"
   ]
  },
  {
   "cell_type": "code",
   "execution_count": 248,
   "id": "a95f81b1-fb1a-4483-b552-16c282ceb1b8",
   "metadata": {},
   "outputs": [
    {
     "name": "stdout",
     "output_type": "stream",
     "text": [
      "<span>test1</span>\n",
      "<title>test site</title>\n"
     ]
    }
   ],
   "source": [
    "tag_span = soup.span\n",
    "tag_title = soup.title\n",
    "\n",
    "print(tag_span)\n",
    "print(tag_title)"
   ]
  },
  {
   "cell_type": "code",
   "execution_count": 250,
   "id": "441751ae-042e-4058-96ca-78ab38fa7d7c",
   "metadata": {},
   "outputs": [
    {
     "name": "stdout",
     "output_type": "stream",
     "text": [
      "<p><span>test1</span><span>test2</span></p>\n",
      "<head><title>test site</title></head>\n"
     ]
    }
   ],
   "source": [
    "span_parent = tag_span.parent\n",
    "title_parent = tag_title.parent\n",
    "\n",
    "print(span_parent)\n",
    "print(title_parent)"
   ]
  },
  {
   "cell_type": "code",
   "execution_count": 252,
   "id": "d92be9c4-b55e-449f-ac03-bf5b11f739bc",
   "metadata": {},
   "outputs": [
    {
     "name": "stdout",
     "output_type": "stream",
     "text": [
      "<p><span>test1</span><span>test2</span></p>\n",
      "<body> <p><span>test1</span><span>test2</span></p> </body>\n",
      "<html> <head><title>test site</title></head> <body> <p><span>test1</span><span>test2</span></p> </body></html>\n",
      "<html> <head><title>test site</title></head> <body> <p><span>test1</span><span>test2</span></p> </body></html>\n"
     ]
    }
   ],
   "source": [
    "# parents는 반복문을 사용해야함\n",
    "span_parents = tag_span.parents\n",
    "\n",
    "for parent in span_parents:\n",
    "    print(parent)"
   ]
  },
  {
   "cell_type": "markdown",
   "id": "57323e52-c417-4c40-9c06-13903d2e626e",
   "metadata": {},
   "source": [
    "### - 형제 태그 접근\n",
    "\n",
    "- 형제 태그 : 동등한 위치의 태그"
   ]
  },
  {
   "cell_type": "code",
   "execution_count": 255,
   "id": "e37a554a-7847-4a22-a018-7ead1500badf",
   "metadata": {},
   "outputs": [
    {
     "data": {
      "text/plain": [
       "<span>test1</span>"
      ]
     },
     "execution_count": 255,
     "metadata": {},
     "output_type": "execute_result"
    }
   ],
   "source": [
    "tag_span"
   ]
  },
  {
   "cell_type": "code",
   "execution_count": 257,
   "id": "6cbc03cf-8ae2-4021-bb7a-cf7303cacaae",
   "metadata": {},
   "outputs": [
    {
     "name": "stdout",
     "output_type": "stream",
     "text": [
      "<span>test2</span>\n",
      "<span>test1</span>\n"
     ]
    }
   ],
   "source": [
    "a = tag_span.next_sibling\n",
    "b = a.previous_sibling\n",
    "\n",
    "print(a)\n",
    "print(b)"
   ]
  },
  {
   "cell_type": "code",
   "execution_count": 259,
   "id": "02bea272-bf82-4dae-acdd-c73b5072018d",
   "metadata": {},
   "outputs": [
    {
     "name": "stdout",
     "output_type": "stream",
     "text": [
      "None\n",
      "None\n"
     ]
    }
   ],
   "source": [
    "print(a.next_sibling)\n",
    "print(b.previous_sibling)"
   ]
  },
  {
   "cell_type": "code",
   "execution_count": 261,
   "id": "f09523fb-4217-4896-9944-5af9f8722b7c",
   "metadata": {},
   "outputs": [],
   "source": [
    "html = \"\"\"<html> <head><title>test site</title></head> <body> <p><a>test1</a><b>test2</b><c>test3</c></p> </body></html>\"\"\""
   ]
  },
  {
   "cell_type": "markdown",
   "id": "d8adb262-a984-4f65-9804-93e9bf839345",
   "metadata": {},
   "source": [
    "- html\n",
    "    - head\n",
    "        - title\n",
    "    - body\n",
    "        - p\n",
    "            - a\n",
    "            - b\n",
    "            - c"
   ]
  },
  {
   "cell_type": "code",
   "execution_count": 264,
   "id": "158be94e-b41e-4261-9cb5-002efcf4736e",
   "metadata": {},
   "outputs": [
    {
     "name": "stdout",
     "output_type": "stream",
     "text": [
      "<b>test2</b>\n",
      "<c>test3</c>\n"
     ]
    }
   ],
   "source": [
    "soup = BeautifulSoup(html, \"lxml\")\n",
    "\n",
    "tag_a = soup.a\n",
    "tag_b = soup.b\n",
    "tag_c = soup.c\n",
    "\n",
    "tag_a_nexts = tag_a.next_siblings\n",
    "tag_b_prevs = tag_b.previous_siblings\n",
    "\n",
    "for sibling in tag_a_nexts:\n",
    "    print(sibling)"
   ]
  },
  {
   "cell_type": "code",
   "execution_count": 266,
   "id": "e3f7bfbf-3625-487a-867e-525ff34aa8e4",
   "metadata": {},
   "outputs": [
    {
     "name": "stdout",
     "output_type": "stream",
     "text": [
      "<a>test1</a>\n"
     ]
    }
   ],
   "source": [
    "for sibling in tag_b_prevs:\n",
    "    print(sibling)"
   ]
  },
  {
   "cell_type": "markdown",
   "id": "9c63b705-3339-4d35-95c5-fe9b1f0b4069",
   "metadata": {},
   "source": [
    "### - 다음 요소, 이전 요소 접근하기\n",
    "\n",
    "- next_element, previous_element\n",
    "- 형제 태그와의 차이\n",
    "    - 형제 태그 : 동일한 위치의 태그들만\n",
    "    - 요소 : 태그도 포함하지만 그 안의 자식 태그와 문자도 포함하는 개념"
   ]
  },
  {
   "cell_type": "code",
   "execution_count": 269,
   "id": "472005c1-7783-4a60-8251-24576c685710",
   "metadata": {},
   "outputs": [
    {
     "name": "stdout",
     "output_type": "stream",
     "text": [
      "test1\n",
      "<b>test2</b>\n",
      "test2\n",
      "<c>test3</c>\n",
      "test3\n",
      " \n"
     ]
    }
   ],
   "source": [
    "tag_a_nexts = tag_a.next_elements\n",
    "\n",
    "for i in tag_a_nexts:\n",
    "    print(i)"
   ]
  },
  {
   "cell_type": "markdown",
   "id": "82893270-7053-482c-9a54-b0a47785e7f6",
   "metadata": {},
   "source": [
    "## 원하는 요소에 접근하기"
   ]
  },
  {
   "cell_type": "markdown",
   "id": "e9a75d47-9206-4df2-a68d-d719a32cc2a9",
   "metadata": {},
   "source": [
    "### - find_all()\n",
    "\n",
    "- 원하는 태그들을 리스트 형태로 가져오기"
   ]
  },
  {
   "cell_type": "code",
   "execution_count": 273,
   "id": "5b06fd0c-4d24-4ab1-96a5-3b28a9d147f8",
   "metadata": {},
   "outputs": [],
   "source": [
    "html = \"\"\"<html> <head><title>test site</title></head> <body> <p id=\"i\" class=\"a\">test1</p><p id=\"d\" class=\"d\">test2</p><p class=\"c\">test3</p></p><a>a tag</a> <b>b tag</b></body></html>\"\"\"\n",
    "\n",
    "soup = BeautifulSoup(html, \"lxml\")"
   ]
  },
  {
   "cell_type": "markdown",
   "id": "b7e854ba-2436-4a19-81de-642c6e1c306c",
   "metadata": {},
   "source": [
    "- html\n",
    "    - head\n",
    "        - title\n",
    "    - body\n",
    "        - p\n",
    "        - p\n",
    "        - p\n",
    "        - a\n",
    "        - b"
   ]
  },
  {
   "cell_type": "code",
   "execution_count": 276,
   "id": "cba1b0c7-4ef1-47df-913b-1cbcbf3c0fbe",
   "metadata": {},
   "outputs": [
    {
     "data": {
      "text/plain": [
       "[<title>test site</title>]"
      ]
     },
     "execution_count": 276,
     "metadata": {},
     "output_type": "execute_result"
    }
   ],
   "source": [
    "# title태그들\n",
    "soup.find_all(\"title\")"
   ]
  },
  {
   "cell_type": "code",
   "execution_count": 278,
   "id": "fb730252-ea8d-47f7-99e1-bc1e64377f26",
   "metadata": {},
   "outputs": [
    {
     "data": {
      "text/plain": [
       "[<p class=\"a\" id=\"i\">test1</p>,\n",
       " <p class=\"d\" id=\"d\">test2</p>,\n",
       " <p class=\"c\">test3</p>]"
      ]
     },
     "execution_count": 278,
     "metadata": {},
     "output_type": "execute_result"
    }
   ],
   "source": [
    "# p태그들\n",
    "soup.find_all(\"p\")"
   ]
  },
  {
   "cell_type": "markdown",
   "id": "65c4ac2f-76d6-4fbe-bd76-8a9616ef0cc0",
   "metadata": {},
   "source": [
    "- id값으로 태그 가져오기"
   ]
  },
  {
   "cell_type": "code",
   "execution_count": 281,
   "id": "b26d30f7-7176-47ab-ab5d-b8ae05703277",
   "metadata": {},
   "outputs": [
    {
     "data": {
      "text/plain": [
       "[<p class=\"d\" id=\"d\">test2</p>]"
      ]
     },
     "execution_count": 281,
     "metadata": {},
     "output_type": "execute_result"
    }
   ],
   "source": [
    "# id가 \"d\"인 태그들\n",
    "soup.find_all(id = \"d\")"
   ]
  },
  {
   "cell_type": "code",
   "execution_count": 283,
   "id": "12f757b7-932e-4edd-8cad-424d94c963e7",
   "metadata": {},
   "outputs": [
    {
     "name": "stdout",
     "output_type": "stream",
     "text": [
      "[<p class=\"a\" id=\"i\">test1</p>, <p class=\"d\" id=\"d\">test2</p>]\n"
     ]
    }
   ],
   "source": [
    "# id의 존재 여부로 데이터 가져오기\n",
    "print(soup.find_all(id = True))"
   ]
  },
  {
   "cell_type": "code",
   "execution_count": 285,
   "id": "2c3862a4-3edb-4f9b-b94b-61a0373200ad",
   "metadata": {},
   "outputs": [
    {
     "name": "stdout",
     "output_type": "stream",
     "text": [
      "[<p class=\"c\">test3</p>, <a>a tag</a>, <b>b tag</b>]\n"
     ]
    }
   ],
   "source": [
    "print(soup.body.find_all(id = False))"
   ]
  },
  {
   "cell_type": "markdown",
   "id": "fa05bb52-400e-410e-b94f-97c77c3a5724",
   "metadata": {},
   "source": [
    "- 원하는 태그, 원하는 id값으로 태그 가져오기"
   ]
  },
  {
   "cell_type": "code",
   "execution_count": 288,
   "id": "cd3f6452-733a-4af0-bd41-d2dea413ff01",
   "metadata": {},
   "outputs": [
    {
     "name": "stdout",
     "output_type": "stream",
     "text": [
      "[<p class=\"d\" id=\"d\">test2</p>]\n",
      "[]\n"
     ]
    }
   ],
   "source": [
    "print(soup.find_all(\"p\", id = \"d\"))\n",
    "print(soup.find_all(\"p\", id = \"c\"))"
   ]
  },
  {
   "cell_type": "markdown",
   "id": "584054c8-c218-426d-bd72-858d02c6745c",
   "metadata": {},
   "source": [
    "- 원하는 태그, 원하는 class값으로 태그 가져오기"
   ]
  },
  {
   "cell_type": "code",
   "execution_count": 291,
   "id": "c18cefa0-7bb2-4869-90ea-58ff05fae551",
   "metadata": {},
   "outputs": [
    {
     "name": "stdout",
     "output_type": "stream",
     "text": [
      "[<p class=\"d\" id=\"d\">test2</p>]\n",
      "[<p class=\"c\">test3</p>]\n"
     ]
    }
   ],
   "source": [
    "print(soup.find_all(\"p\", class_ = \"d\"))\n",
    "print(soup.find_all(\"p\", class_ = \"c\"))"
   ]
  },
  {
   "cell_type": "markdown",
   "id": "77ac72b9-9ef5-49c9-86be-4bf2eae3d476",
   "metadata": {},
   "source": [
    "- text 속성으로 태그 가져오기"
   ]
  },
  {
   "cell_type": "code",
   "execution_count": 294,
   "id": "ea8e43ab-2988-49a2-a393-e18d072e8772",
   "metadata": {},
   "outputs": [
    {
     "name": "stdout",
     "output_type": "stream",
     "text": [
      "[<p class=\"a\" id=\"i\">test1</p>]\n"
     ]
    },
    {
     "name": "stderr",
     "output_type": "stream",
     "text": [
      "C:\\Users\\user\\AppData\\Local\\Temp\\ipykernel_9556\\1624252227.py:1: DeprecationWarning: The 'text' argument to find()-type methods is deprecated. Use 'string' instead.\n",
      "  print(soup.find_all(\"p\", text = \"test1\")) # p 태그 중에서 test1 이라는 값을 가진 태그\n"
     ]
    }
   ],
   "source": [
    "print(soup.find_all(\"p\", text = \"test1\")) # p 태그 중에서 test1 이라는 값을 가진 태그"
   ]
  },
  {
   "cell_type": "markdown",
   "id": "9573149e-4074-4790-9c73-fd59c0f5fbbe",
   "metadata": {},
   "source": [
    "- limit 으로 가져오는 태그 수 제한"
   ]
  },
  {
   "cell_type": "code",
   "execution_count": 297,
   "id": "105e0f96-d123-4e03-8a36-d0470389394f",
   "metadata": {},
   "outputs": [
    {
     "name": "stdout",
     "output_type": "stream",
     "text": [
      "[<p class=\"a\" id=\"i\">test1</p>, <p class=\"d\" id=\"d\">test2</p>]\n"
     ]
    }
   ],
   "source": [
    "print(soup.find_all(\"p\", limit = 2))"
   ]
  },
  {
   "cell_type": "code",
   "execution_count": 299,
   "id": "0bffafb9-7dd3-4b86-b49a-e4da9f2df96b",
   "metadata": {},
   "outputs": [
    {
     "name": "stdout",
     "output_type": "stream",
     "text": [
      "[<p class=\"a\" id=\"i\">test1</p>, <p class=\"d\" id=\"d\">test2</p>, <p class=\"c\">test3</p>]\n"
     ]
    }
   ],
   "source": [
    "print(soup.find_all(\"p\", limit = 4)) # limit값이 태그의 양보다 커도 에러를 띄우지 않음"
   ]
  },
  {
   "cell_type": "markdown",
   "id": "cdd3b672-5757-4ab4-b53c-b8e0bbed9f37",
   "metadata": {},
   "source": [
    "- 여러 태그 동시에 가져오기"
   ]
  },
  {
   "cell_type": "code",
   "execution_count": 302,
   "id": "748d071c-df2a-41ad-92a2-130bf4f9ce59",
   "metadata": {},
   "outputs": [
    {
     "data": {
      "text/plain": [
       "[<a>a tag</a>, <b>b tag</b>]"
      ]
     },
     "execution_count": 302,
     "metadata": {},
     "output_type": "execute_result"
    }
   ],
   "source": [
    "soup.find_all([\"a\", \"b\"])"
   ]
  },
  {
   "cell_type": "markdown",
   "id": "1560aa09-b625-4190-87c4-ebd4a1957f2e",
   "metadata": {},
   "source": [
    "- find_all() 연속으로 사용하기"
   ]
  },
  {
   "cell_type": "code",
   "execution_count": 305,
   "id": "c46c3f1c-d127-42d1-8021-d99bdaf15672",
   "metadata": {},
   "outputs": [
    {
     "name": "stdout",
     "output_type": "stream",
     "text": [
      "[<body> <p class=\"a\" id=\"i\">test1</p><p class=\"d\" id=\"d\">test2</p><p class=\"c\">test3</p><a>a tag</a> <b>b tag</b></body>]\n"
     ]
    }
   ],
   "source": [
    "tag_body = soup.find_all(\"body\")\n",
    "print(tag_body)"
   ]
  },
  {
   "cell_type": "code",
   "execution_count": 307,
   "id": "6129300a-1887-4e83-9bd9-b06e2d55d721",
   "metadata": {},
   "outputs": [
    {
     "data": {
      "text/plain": [
       "[<p class=\"a\" id=\"i\">test1</p>,\n",
       " <p class=\"d\" id=\"d\">test2</p>,\n",
       " <p class=\"c\">test3</p>]"
      ]
     },
     "execution_count": 307,
     "metadata": {},
     "output_type": "execute_result"
    }
   ],
   "source": [
    "tag_body[0].find_all(\"p\")"
   ]
  },
  {
   "cell_type": "markdown",
   "id": "019e030d-3959-47ea-8fa9-8537accb4ad5",
   "metadata": {},
   "source": [
    "### - find()\n",
    "\n",
    "- 하나의 요소만 가져옴\n",
    "- 찾고자 하는 요소가 하나만 있을 때 사용"
   ]
  },
  {
   "cell_type": "code",
   "execution_count": 310,
   "id": "7ed8e50d-692f-40f4-b2d4-992c3b725a33",
   "metadata": {},
   "outputs": [
    {
     "data": {
      "text/plain": [
       "<p class=\"a\" id=\"i\">test1</p>"
      ]
     },
     "execution_count": 310,
     "metadata": {},
     "output_type": "execute_result"
    }
   ],
   "source": [
    "soup.find(\"p\")"
   ]
  },
  {
   "cell_type": "code",
   "execution_count": 312,
   "id": "12b91875-ac68-4e5a-a59e-d821656d9683",
   "metadata": {},
   "outputs": [
    {
     "name": "stdout",
     "output_type": "stream",
     "text": [
      "<p class=\"d\" id=\"d\">test2</p>\n",
      "<p class=\"a\" id=\"i\">test1</p>\n",
      "<p class=\"a\" id=\"i\">test1</p>\n"
     ]
    }
   ],
   "source": [
    "print(soup.find(\"p\", class_ = \"d\")) # class가 d인 p태그\n",
    "print(soup.find(\"p\", id = \"i\")) # id가 i인 p태그\n",
    "print(soup.find(id = \"i\")) # id가 i인 태그"
   ]
  },
  {
   "cell_type": "code",
   "execution_count": 314,
   "id": "9d246069-bd4d-4a2c-b14e-f981b955e655",
   "metadata": {},
   "outputs": [
    {
     "data": {
      "text/plain": [
       "<p class=\"d\" id=\"d\">test2</p>"
      ]
     },
     "execution_count": 314,
     "metadata": {},
     "output_type": "execute_result"
    }
   ],
   "source": [
    "# 연속으로 find() 사용\n",
    "soup.find(\"body\").find(\"p\", class_ = \"d\") "
   ]
  },
  {
   "cell_type": "markdown",
   "id": "88f85308-4e95-40c3-9a49-8ffcff48fe63",
   "metadata": {},
   "source": [
    "### - select()\n",
    "\n",
    "- find_all() 과 마찬가지로 매칭되는 모든 결과를 리스트로 반환\n",
    "- 클래스는 마침표(.), 아이디는 샵(#)으로, 자식태그는 > 로, 자손태그는 띄어쓰기로 표현\n",
    "- select_one() 으로 하나의 결과만 반환하는 것도 가능"
   ]
  },
  {
   "cell_type": "code",
   "execution_count": 317,
   "id": "0c61f3da-6605-4eeb-a63f-4377804e2fe6",
   "metadata": {},
   "outputs": [
    {
     "name": "stdout",
     "output_type": "stream",
     "text": [
      "[<p class=\"a\" id=\"i\">test1</p>, <p class=\"d\" id=\"d\">test2</p>, <p class=\"c\">test3</p>]\n",
      "[<p class=\"d\" id=\"d\">test2</p>]\n",
      "[<p class=\"d\" id=\"d\">test2</p>]\n",
      "[<p class=\"a\" id=\"i\">test1</p>]\n",
      "[<p class=\"a\" id=\"i\">test1</p>]\n"
     ]
    }
   ],
   "source": [
    "print(soup.select(\"p\")) # p태그들\n",
    "print(soup.select(\".d\")) # class가 d인 태그들\n",
    "print(soup.select(\"p.d\")) # class가 d인 p태그들\n",
    "print(soup.select(\"#i\")) # id가 i인 태그들\n",
    "print(soup.select(\"p#i\")) # id가 i인 p태그들"
   ]
  },
  {
   "cell_type": "code",
   "execution_count": 319,
   "id": "40ce67d3-b09a-48d0-8098-36f077542570",
   "metadata": {},
   "outputs": [],
   "source": [
    "html = \"\"\"<html> <head><title>test site</title></head> <body> <div><p id=\"i\" class=\"a\">test1</p><p class=\"d\">test2</p></div><p class=\"d\">test3</p></p> <a>a tag</a> <b>b tag</b></body></html>\"\"\"\n",
    "\n",
    "soup = BeautifulSoup(html, \"lxml\")"
   ]
  },
  {
   "cell_type": "markdown",
   "id": "3e356d28-4921-41a0-92b5-c17b60f71cf2",
   "metadata": {},
   "source": [
    "- html\n",
    "    - head\n",
    "        - title\n",
    "    - body\n",
    "        - div\n",
    "            - p\n",
    "            - p\n",
    "        - p\n",
    "        - a\n",
    "        - b"
   ]
  },
  {
   "cell_type": "code",
   "execution_count": 322,
   "id": "267c6f5f-20fa-4cd8-af95-51be459fc8a7",
   "metadata": {},
   "outputs": [
    {
     "name": "stdout",
     "output_type": "stream",
     "text": [
      "[<p class=\"d\">test3</p>]\n",
      "[<p class=\"a\" id=\"i\">test1</p>, <p class=\"d\">test2</p>, <p class=\"d\">test3</p>]\n",
      "[<p class=\"d\">test2</p>, <p class=\"d\">test3</p>]\n",
      "[<p class=\"a\" id=\"i\">test1</p>]\n",
      "[<p class=\"a\" id=\"i\">test1</p>, <p class=\"d\">test2</p>]\n"
     ]
    }
   ],
   "source": [
    "print(soup.select(\"body > p\")) # body의 자식인 p태그들\n",
    "print(soup.select(\"body p\")) # body의 자손인 p태그들\n",
    "print(soup.select(\"body p.d\")) # body의 자손이면서 class가 d인 p태그들\n",
    "print(soup.select(\"body p#i\")) # body의 자손이면서 id가 i인 p태그들\n",
    "print(soup.select(\"div > p\")) # div의 자식인 p태그들"
   ]
  },
  {
   "cell_type": "markdown",
   "id": "b6e68705-d198-44e1-b829-f372ee7bcfa3",
   "metadata": {},
   "source": [
    "## 웹크롤링 허용 문제\n",
    "\n",
    "- 모든 사이트에는 웹 크롤링 권한에 관해 명시한 페이지가 있음\n",
    "    - 사이트 url 끝에 robots.txt 를 붙여서 확인\n",
    "        - 예) http://www.google.com/robots.txt\n",
    "        - Disallow : 허용되지 않은 경로\n",
    "        - Allow : 크롤링을 허용하는 경로"
   ]
  },
  {
   "cell_type": "markdown",
   "id": "08fbb992-096c-46db-90ac-7adc306ac212",
   "metadata": {},
   "source": [
    "## 예제 1-1. 티스토리 크롤링"
   ]
  },
  {
   "cell_type": "code",
   "execution_count": 326,
   "id": "8c5536c1-849b-4829-b57f-3f5754c99ca7",
   "metadata": {},
   "outputs": [],
   "source": [
    "url = \"https://ai-dev.tistory.com/1\"\n",
    "\n",
    "page = urlopen(url)\n",
    "\n",
    "soup = BeautifulSoup(page, \"lxml\")"
   ]
  },
  {
   "cell_type": "markdown",
   "id": "37526643-d99f-4ea8-9fef-655e89d383b4",
   "metadata": {},
   "source": [
    "### - 제목 수집"
   ]
  },
  {
   "cell_type": "code",
   "execution_count": 329,
   "id": "24d75484-e737-41d6-842c-66cc322afcdd",
   "metadata": {},
   "outputs": [
    {
     "data": {
      "text/plain": [
       "'크롤링의 세계에 오신 것을 환영합니다. '"
      ]
     },
     "execution_count": 329,
     "metadata": {},
     "output_type": "execute_result"
    }
   ],
   "source": [
    "soup.select_one(\"div.hgroup > h1\").string"
   ]
  },
  {
   "cell_type": "markdown",
   "id": "19d9c00a-3fec-4c01-81b7-c34ee931e24e",
   "metadata": {},
   "source": [
    "### - 게시물 내용 수집"
   ]
  },
  {
   "cell_type": "code",
   "execution_count": 332,
   "id": "b2518a17-0f11-476a-95ce-d90c51e1c35d",
   "metadata": {},
   "outputs": [
    {
     "data": {
      "text/plain": [
       "'Hello, world!'"
      ]
     },
     "execution_count": 332,
     "metadata": {},
     "output_type": "execute_result"
    }
   ],
   "source": [
    "soup.select_one(\"div.contents_style.tt_article_useless_p_margin > p\").string"
   ]
  },
  {
   "cell_type": "markdown",
   "id": "210ba71d-e4c4-4bec-a2cb-b26ff11cb3aa",
   "metadata": {},
   "source": [
    "## 예제 1-2. 티스토리 크롤링"
   ]
  },
  {
   "cell_type": "code",
   "execution_count": 335,
   "id": "2418a5bb-c53a-496a-8ccd-61488058c6f8",
   "metadata": {},
   "outputs": [],
   "source": [
    "url = \"https://ai-dev.tistory.com/2\"\n",
    "\n",
    "page = urlopen(url)\n",
    "\n",
    "soup = BeautifulSoup(page, \"lxml\")"
   ]
  },
  {
   "cell_type": "markdown",
   "id": "fc4bc103-ed56-405c-9004-607d1c45c333",
   "metadata": {},
   "source": [
    "### - 테이블 내용 수집\n",
    "\n",
    "- 테이블의 내용을 수집하여 하나의 리스트에 담기"
   ]
  },
  {
   "cell_type": "code",
   "execution_count": 338,
   "id": "54bbe3f1-2584-4f25-be56-3ff869be06e8",
   "metadata": {},
   "outputs": [],
   "source": [
    "table_text = soup.select(\"div.tt_article_useless_p_margin td\")"
   ]
  },
  {
   "cell_type": "code",
   "execution_count": 340,
   "id": "f9da4384-6685-431f-968a-86a0682ebbf4",
   "metadata": {},
   "outputs": [],
   "source": [
    "table_list = []\n",
    "\n",
    "for i in table_text:\n",
    "    table_list.append(i.string)"
   ]
  },
  {
   "cell_type": "code",
   "execution_count": 342,
   "id": "e5b89dc6-ed9b-4da3-87dc-76242b0634ff",
   "metadata": {
    "scrolled": true
   },
   "outputs": [
    {
     "data": {
      "text/plain": [
       "['상품',\n",
       " '색상',\n",
       " '가격',\n",
       " '셔츠1',\n",
       " '빨강',\n",
       " '20000',\n",
       " '셔츠2',\n",
       " '파랑',\n",
       " '19000',\n",
       " '셔츠3',\n",
       " '초록',\n",
       " '18000',\n",
       " '바지1',\n",
       " '검정',\n",
       " '50000',\n",
       " '바지2',\n",
       " '파랑',\n",
       " '51000']"
      ]
     },
     "execution_count": 342,
     "metadata": {},
     "output_type": "execute_result"
    }
   ],
   "source": [
    "table_list"
   ]
  },
  {
   "cell_type": "code",
   "execution_count": 344,
   "id": "bb4f9482-7e0b-4461-80ad-cb9408e56d57",
   "metadata": {
    "scrolled": true
   },
   "outputs": [
    {
     "data": {
      "text/plain": [
       "['상품',\n",
       " '색상',\n",
       " '가격',\n",
       " '셔츠1',\n",
       " '빨강',\n",
       " '20000',\n",
       " '셔츠2',\n",
       " '파랑',\n",
       " '19000',\n",
       " '셔츠3',\n",
       " '초록',\n",
       " '18000',\n",
       " '바지1',\n",
       " '검정',\n",
       " '50000',\n",
       " '바지2',\n",
       " '파랑',\n",
       " '51000']"
      ]
     },
     "execution_count": 344,
     "metadata": {},
     "output_type": "execute_result"
    }
   ],
   "source": [
    "[i.string for i in table_text]"
   ]
  },
  {
   "cell_type": "markdown",
   "id": "6f00406a-ebbf-4f7e-b664-006618037461",
   "metadata": {},
   "source": [
    "### - 리스트 수집\n",
    "\n",
    "- 리스트 내용을 수집하여 하나의 리스트에 담기"
   ]
  },
  {
   "cell_type": "code",
   "execution_count": 347,
   "id": "f0a72f54-9a82-4b2d-84fe-513e8e07c48b",
   "metadata": {},
   "outputs": [],
   "source": [
    "result = soup.select(\"div.tt_article_useless_p_margin li\")"
   ]
  },
  {
   "cell_type": "code",
   "execution_count": 349,
   "id": "2b21fb9f-ed3b-4021-ac1e-ca7b48e69e47",
   "metadata": {},
   "outputs": [
    {
     "data": {
      "text/plain": [
       "['모니터', 'CPU', '메모리', '그래픽카드', '하드디스크', '키보드', '마우스']"
      ]
     },
     "execution_count": 349,
     "metadata": {},
     "output_type": "execute_result"
    }
   ],
   "source": [
    "[i.string for i in result]"
   ]
  },
  {
   "cell_type": "markdown",
   "id": "19a0dec6-d50e-411b-98d1-f5275e2340d5",
   "metadata": {},
   "source": [
    "# **쇼핑몰 상품이미지 크롤링**"
   ]
  },
  {
   "cell_type": "code",
   "execution_count": 352,
   "id": "1700d5f4-6398-4aa4-943e-d3602ff75346",
   "metadata": {},
   "outputs": [],
   "source": [
    "url = \"https://jolse.com/category/toners-mists/1019/\"\n",
    "page = urlopen(url)\n",
    "soup = BeautifulSoup(page, \"lxml\")"
   ]
  },
  {
   "cell_type": "code",
   "execution_count": 353,
   "id": "fa7f792e-3ccb-41bb-86e3-2eeb83f437ce",
   "metadata": {},
   "outputs": [],
   "source": [
    "img_url = soup.select_one(\"div.prdImg > a > img\").get(\"src\", \"\")"
   ]
  },
  {
   "cell_type": "code",
   "execution_count": 356,
   "id": "0ddb9436-111e-4cd1-ac83-c2ab9d1d740c",
   "metadata": {},
   "outputs": [
    {
     "data": {
      "text/plain": [
       "'https://cafe24img.poxo.com/jolsejolse/web/product/medium/202405/d4c2329fc136cdde3c7924123fdaa767.jpg'"
      ]
     },
     "execution_count": 356,
     "metadata": {},
     "output_type": "execute_result"
    }
   ],
   "source": [
    "img_url"
   ]
  },
  {
   "cell_type": "code",
   "execution_count": 358,
   "id": "85e56065-ff0a-4c1f-80d5-516d341b6b80",
   "metadata": {},
   "outputs": [
    {
     "data": {
      "text/plain": [
       "<http.client.HTTPResponse at 0x2035f7fd990>"
      ]
     },
     "execution_count": 358,
     "metadata": {},
     "output_type": "execute_result"
    }
   ],
   "source": [
    "urlopen(img_url)"
   ]
  },
  {
   "cell_type": "code",
   "execution_count": 360,
   "id": "bd01398d-74e1-41b2-972b-f7783fa0f9b1",
   "metadata": {},
   "outputs": [],
   "source": [
    "with open(\"test.jpg\", \"wb\") as f:\n",
    "    f.write(urlopen(img_url).read())"
   ]
  },
  {
   "cell_type": "code",
   "execution_count": 362,
   "id": "6f599355-c342-4bfd-9071-80b8309f156e",
   "metadata": {},
   "outputs": [],
   "source": [
    "# 한 페이지 내의 모든 이미지 크롤링\n",
    "img_urls = [i.get(\"src\", \"\") for i in soup.select(\"div.prdImg > a > img\")]"
   ]
  },
  {
   "cell_type": "code",
   "execution_count": 364,
   "id": "3ee6bb18-fc3e-4d0a-9ddb-89357e3e9d4b",
   "metadata": {},
   "outputs": [
    {
     "ename": "FileNotFoundError",
     "evalue": "[Errno 2] No such file or directory: './crawl_img/0.jpg'",
     "output_type": "error",
     "traceback": [
      "\u001b[1;31m---------------------------------------------------------------------------\u001b[0m",
      "\u001b[1;31mFileNotFoundError\u001b[0m                         Traceback (most recent call last)",
      "Cell \u001b[1;32mIn[364], line 2\u001b[0m\n\u001b[0;32m      1\u001b[0m \u001b[38;5;28;01mfor\u001b[39;00m idx, item \u001b[38;5;129;01min\u001b[39;00m \u001b[38;5;28menumerate\u001b[39m(img_urls):\n\u001b[1;32m----> 2\u001b[0m     \u001b[38;5;28;01mwith\u001b[39;00m \u001b[38;5;28mopen\u001b[39m(\u001b[38;5;124mf\u001b[39m\u001b[38;5;124m\"\u001b[39m\u001b[38;5;124m./crawl_img/\u001b[39m\u001b[38;5;132;01m{\u001b[39;00midx\u001b[38;5;132;01m}\u001b[39;00m\u001b[38;5;124m.jpg\u001b[39m\u001b[38;5;124m\"\u001b[39m, \u001b[38;5;124m\"\u001b[39m\u001b[38;5;124mwb\u001b[39m\u001b[38;5;124m\"\u001b[39m) \u001b[38;5;28;01mas\u001b[39;00m f:\n\u001b[0;32m      3\u001b[0m         f\u001b[38;5;241m.\u001b[39mwrite(urlopen(item)\u001b[38;5;241m.\u001b[39mread())\n",
      "File \u001b[1;32m~\\anaconda3\\Lib\\site-packages\\IPython\\core\\interactiveshell.py:324\u001b[0m, in \u001b[0;36m_modified_open\u001b[1;34m(file, *args, **kwargs)\u001b[0m\n\u001b[0;32m    317\u001b[0m \u001b[38;5;28;01mif\u001b[39;00m file \u001b[38;5;129;01min\u001b[39;00m {\u001b[38;5;241m0\u001b[39m, \u001b[38;5;241m1\u001b[39m, \u001b[38;5;241m2\u001b[39m}:\n\u001b[0;32m    318\u001b[0m     \u001b[38;5;28;01mraise\u001b[39;00m \u001b[38;5;167;01mValueError\u001b[39;00m(\n\u001b[0;32m    319\u001b[0m         \u001b[38;5;124mf\u001b[39m\u001b[38;5;124m\"\u001b[39m\u001b[38;5;124mIPython won\u001b[39m\u001b[38;5;124m'\u001b[39m\u001b[38;5;124mt let you open fd=\u001b[39m\u001b[38;5;132;01m{\u001b[39;00mfile\u001b[38;5;132;01m}\u001b[39;00m\u001b[38;5;124m by default \u001b[39m\u001b[38;5;124m\"\u001b[39m\n\u001b[0;32m    320\u001b[0m         \u001b[38;5;124m\"\u001b[39m\u001b[38;5;124mas it is likely to crash IPython. If you know what you are doing, \u001b[39m\u001b[38;5;124m\"\u001b[39m\n\u001b[0;32m    321\u001b[0m         \u001b[38;5;124m\"\u001b[39m\u001b[38;5;124myou can use builtins\u001b[39m\u001b[38;5;124m'\u001b[39m\u001b[38;5;124m open.\u001b[39m\u001b[38;5;124m\"\u001b[39m\n\u001b[0;32m    322\u001b[0m     )\n\u001b[1;32m--> 324\u001b[0m \u001b[38;5;28;01mreturn\u001b[39;00m io_open(file, \u001b[38;5;241m*\u001b[39margs, \u001b[38;5;241m*\u001b[39m\u001b[38;5;241m*\u001b[39mkwargs)\n",
      "\u001b[1;31mFileNotFoundError\u001b[0m: [Errno 2] No such file or directory: './crawl_img/0.jpg'"
     ]
    }
   ],
   "source": [
    "for idx, item in enumerate(img_urls):\n",
    "    with open(f\"./crawl_img/{idx}.jpg\", \"wb\") as f:\n",
    "        f.write(urlopen(item).read())"
   ]
  },
  {
   "cell_type": "code",
   "execution_count": null,
   "id": "29be6657-667b-46a4-b779-c5eae79c1f32",
   "metadata": {},
   "outputs": [],
   "source": []
  }
 ],
 "metadata": {
  "kernelspec": {
   "display_name": "Python [conda env:base] *",
   "language": "python",
   "name": "conda-base-py"
  },
  "language_info": {
   "codemirror_mode": {
    "name": "ipython",
    "version": 3
   },
   "file_extension": ".py",
   "mimetype": "text/x-python",
   "name": "python",
   "nbconvert_exporter": "python",
   "pygments_lexer": "ipython3",
   "version": "3.12.7"
  }
 },
 "nbformat": 4,
 "nbformat_minor": 5
}
