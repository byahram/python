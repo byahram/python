{
 "cells": [
  {
   "cell_type": "markdown",
   "id": "6f300398-23ee-4372-b7bc-277ed2b85094",
   "metadata": {},
   "source": [
    "# **파이썬 함수의 구조**\n",
    "\n",
    "```\n",
    "def 함수명(매개변수):\n",
    "    <수행할 문장>\n",
    "```"
   ]
  },
  {
   "cell_type": "code",
   "execution_count": 2,
   "id": "79a6aa81-d3d8-46a6-ab7c-fb43ca11e384",
   "metadata": {},
   "outputs": [],
   "source": [
    "# welcome 함수 정의\n",
    "def welcome():\n",
    "    print(\"Hello!\")\n",
    "    print(\"Nice to meet you\")"
   ]
  },
  {
   "cell_type": "code",
   "execution_count": 4,
   "id": "2aa1e138-efa6-43a4-9f98-f18cef72c319",
   "metadata": {},
   "outputs": [
    {
     "name": "stdout",
     "output_type": "stream",
     "text": [
      "Hello!\n",
      "Nice to meet you\n"
     ]
    }
   ],
   "source": [
    "# welcome 함수 호출\n",
    "welcome()"
   ]
  },
  {
   "cell_type": "code",
   "execution_count": 6,
   "id": "1c72716b-5542-48de-80ce-bfcd6d419318",
   "metadata": {},
   "outputs": [],
   "source": [
    "# add 함수 정의\n",
    "def add(a, b):\n",
    "    return a + b"
   ]
  },
  {
   "cell_type": "code",
   "execution_count": 8,
   "id": "35fa56ae-6e41-45ba-ab0a-164dc1a01c8d",
   "metadata": {},
   "outputs": [
    {
     "name": "stdout",
     "output_type": "stream",
     "text": [
      "7\n"
     ]
    }
   ],
   "source": [
    "num1 = 3\n",
    "num2 = 4\n",
    "c = add(num1, num2)\n",
    "print(c)"
   ]
  },
  {
   "cell_type": "markdown",
   "id": "bf906fb3-7edc-4f68-9b64-1f04bc6f5792",
   "metadata": {},
   "source": [
    "## 함수 사용의 장점\n",
    "\n",
    "- 코드의 용도를 구분\n",
    "- 코드 재사용이 용이\n",
    "- 실수를 방지(오타 등)"
   ]
  },
  {
   "cell_type": "markdown",
   "id": "16976f74-fe23-49bc-80aa-5645f25f43ee",
   "metadata": {},
   "source": [
    "# **매개변수와 인수**\n",
    "\n",
    "- 매개변수 : 함수에 입력으로 전달된 값을 받는 변수\n",
    "- 인수 : 함수를 호출할 때 전달하는 입력값\n",
    "- 인수와 매개변수는 다른 개념이지만 함수가 호출된 뒤에는 구분이 모호해지므로 구분하지 않는 경우도 많음\n",
    "- 함수의 사용법\n",
    "    - 결괏값을 받을 변수 = 함수이름(입력인수1, 입력인수2,......)"
   ]
  },
  {
   "cell_type": "code",
   "execution_count": 12,
   "id": "f8d64b7c-0033-43f1-87a2-017340f9abfe",
   "metadata": {},
   "outputs": [],
   "source": [
    "def print_n_times(value, n):\n",
    "    for _ in range(n):\n",
    "        print(value)"
   ]
  },
  {
   "cell_type": "code",
   "execution_count": 14,
   "id": "3a1d4367-662d-4641-906b-7eed2b6980f2",
   "metadata": {},
   "outputs": [
    {
     "name": "stdout",
     "output_type": "stream",
     "text": [
      "안녕하세요\n",
      "안녕하세요\n",
      "안녕하세요\n"
     ]
    }
   ],
   "source": [
    "print_n_times(\"안녕하세요\", 3)"
   ]
  },
  {
   "cell_type": "code",
   "execution_count": 16,
   "id": "62f7e2ef-2fe6-46f5-b36a-5a827dacbd0f",
   "metadata": {},
   "outputs": [
    {
     "ename": "TypeError",
     "evalue": "print_n_times() missing 1 required positional argument: 'n'",
     "output_type": "error",
     "traceback": [
      "\u001b[1;31m---------------------------------------------------------------------------\u001b[0m",
      "\u001b[1;31mTypeError\u001b[0m                                 Traceback (most recent call last)",
      "Cell \u001b[1;32mIn[16], line 2\u001b[0m\n\u001b[0;32m      1\u001b[0m \u001b[38;5;66;03m# 매개변수를 2개를 지정하고 인수를 하나만 넣는다면 에러 발생\u001b[39;00m\n\u001b[1;32m----> 2\u001b[0m print_n_times(\u001b[38;5;124m\"\u001b[39m\u001b[38;5;124m안녕하세요\u001b[39m\u001b[38;5;124m\"\u001b[39m)\n",
      "\u001b[1;31mTypeError\u001b[0m: print_n_times() missing 1 required positional argument: 'n'"
     ]
    }
   ],
   "source": [
    "# 매개변수를 2개를 지정하고 인수를 하나만 넣는다면 에러 발생\n",
    "print_n_times(\"안녕하세요\")"
   ]
  },
  {
   "cell_type": "code",
   "execution_count": 154,
   "id": "d802a1ba-98a0-4613-b371-058c4b8c2471",
   "metadata": {},
   "outputs": [
    {
     "ename": "TypeError",
     "evalue": "print_n_times() takes from 1 to 2 positional arguments but 3 were given",
     "output_type": "error",
     "traceback": [
      "\u001b[1;31m---------------------------------------------------------------------------\u001b[0m",
      "\u001b[1;31mTypeError\u001b[0m                                 Traceback (most recent call last)",
      "Cell \u001b[1;32mIn[154], line 2\u001b[0m\n\u001b[0;32m      1\u001b[0m \u001b[38;5;66;03m# 지정한 매개변수보다 인수를 많이 넣으면 에러 발생\u001b[39;00m\n\u001b[1;32m----> 2\u001b[0m print_n_times(\u001b[38;5;124m\"\u001b[39m\u001b[38;5;124m안녕하세요\u001b[39m\u001b[38;5;124m\"\u001b[39m, \u001b[38;5;241m10\u001b[39m, \u001b[38;5;241m20\u001b[39m)\n",
      "\u001b[1;31mTypeError\u001b[0m: print_n_times() takes from 1 to 2 positional arguments but 3 were given"
     ]
    }
   ],
   "source": [
    "# 지정한 매개변수보다 인수를 많이 넣으면 에러 발생\n",
    "print_n_times(\"안녕하세요\", 10, 20)"
   ]
  },
  {
   "cell_type": "code",
   "execution_count": 156,
   "id": "2a5ea2f0-b765-4063-87ca-f807d1d00aaf",
   "metadata": {},
   "outputs": [],
   "source": [
    "# 입력값이 없고 결괏값이 있는 함수\n",
    "def say():\n",
    "    return \"Hi\""
   ]
  },
  {
   "cell_type": "code",
   "execution_count": 158,
   "id": "16453e00-afbb-4c2b-b813-b26fb1f32116",
   "metadata": {},
   "outputs": [
    {
     "name": "stdout",
     "output_type": "stream",
     "text": [
      "Hi\n"
     ]
    }
   ],
   "source": [
    "a = say()\n",
    "\n",
    "print(a)"
   ]
  },
  {
   "cell_type": "code",
   "execution_count": 23,
   "id": "0d1366b8-aa01-4651-97be-6fe7b035bcba",
   "metadata": {},
   "outputs": [],
   "source": [
    "# 입력값이 있고 결괏값이 없는 함수\n",
    "def add(a, b):\n",
    "    print(f\"{a}, {b}의 합은 {a + b}입니다\")"
   ]
  },
  {
   "cell_type": "code",
   "execution_count": 25,
   "id": "88ea8f70-af20-4b28-a264-1b7455701546",
   "metadata": {},
   "outputs": [
    {
     "name": "stdout",
     "output_type": "stream",
     "text": [
      "3, 4의 합은 7입니다\n"
     ]
    }
   ],
   "source": [
    "add(3, 4)"
   ]
  },
  {
   "cell_type": "code",
   "execution_count": 27,
   "id": "d4bc3839-ff46-4f7c-aa9b-5a1cfbd7d9e1",
   "metadata": {},
   "outputs": [
    {
     "name": "stdout",
     "output_type": "stream",
     "text": [
      "3, 4의 합은 7입니다\n",
      "None\n"
     ]
    }
   ],
   "source": [
    "# 결괏값 확인\n",
    "a = add(3, 4)\n",
    "\n",
    "print(a)"
   ]
  },
  {
   "cell_type": "markdown",
   "id": "f5223792-0fda-48d4-85af-f77aefa069b1",
   "metadata": {},
   "source": [
    "## 매개변수 지정하여 호출하기"
   ]
  },
  {
   "cell_type": "code",
   "execution_count": 30,
   "id": "1c579098-67b9-44cf-a3e2-ea7f9d3f9073",
   "metadata": {},
   "outputs": [
    {
     "name": "stdout",
     "output_type": "stream",
     "text": [
      "3, 7의 합은 10입니다\n"
     ]
    }
   ],
   "source": [
    "add(a = 3, b = 7)"
   ]
  },
  {
   "cell_type": "code",
   "execution_count": 32,
   "id": "81b1db93-39aa-4af3-b71d-0eb7b04dc0b9",
   "metadata": {},
   "outputs": [
    {
     "name": "stdout",
     "output_type": "stream",
     "text": [
      "3, 5의 합은 8입니다\n"
     ]
    }
   ],
   "source": [
    "add(b = 5, a = 3)"
   ]
  },
  {
   "cell_type": "markdown",
   "id": "498ececd-8a60-4743-965f-c59fe796088b",
   "metadata": {},
   "source": [
    "# **함수의 결괏값**"
   ]
  },
  {
   "cell_type": "code",
   "execution_count": 35,
   "id": "ef78d510-d2ff-47c7-88d2-58ef05534cd7",
   "metadata": {},
   "outputs": [],
   "source": [
    "def add_and_mul(a, b):\n",
    "    return a + b, a * b"
   ]
  },
  {
   "cell_type": "code",
   "execution_count": 37,
   "id": "01aa9c8f-aa92-4de2-907d-165d6e51724b",
   "metadata": {},
   "outputs": [
    {
     "name": "stdout",
     "output_type": "stream",
     "text": [
      "(7, 12)\n"
     ]
    }
   ],
   "source": [
    "result = add_and_mul(3, 4)\n",
    "\n",
    "# 함수의 결괏값은 2개가 아니라 하나의 튜플로 반환되었음\n",
    "print(result)"
   ]
  },
  {
   "cell_type": "code",
   "execution_count": 39,
   "id": "507c97f7-4e63-488f-9083-c9d449d7722f",
   "metadata": {},
   "outputs": [
    {
     "name": "stdout",
     "output_type": "stream",
     "text": [
      "7\n",
      "12\n"
     ]
    }
   ],
   "source": [
    "# 2개의 결괏값처럼 받고 싶다면\n",
    "result1, result2 = add_and_mul(3, 4)\n",
    "\n",
    "print(result1)\n",
    "print(result2)"
   ]
  },
  {
   "cell_type": "code",
   "execution_count": 41,
   "id": "9d5d0356-618b-47d1-b731-0ff74976c810",
   "metadata": {},
   "outputs": [],
   "source": [
    "def add_and_mul(a, b):\n",
    "    return a + b\n",
    "    return a * b"
   ]
  },
  {
   "cell_type": "code",
   "execution_count": 43,
   "id": "1c564127-6d55-45f1-bd98-2718434f8b52",
   "metadata": {},
   "outputs": [
    {
     "name": "stdout",
     "output_type": "stream",
     "text": [
      "5\n"
     ]
    }
   ],
   "source": [
    "# 함수는 return을 만나는 순간 함수 실행이 종료됨\n",
    "result = add_and_mul(2, 3)\n",
    "\n",
    "print(result)"
   ]
  },
  {
   "cell_type": "markdown",
   "id": "2e61917b-9198-42a8-ab31-79e491226749",
   "metadata": {},
   "source": [
    "### - return\n",
    "\n",
    "- 함수를 종료시키고 싶을 때 사용할 수도 있음"
   ]
  },
  {
   "cell_type": "code",
   "execution_count": 46,
   "id": "83a66d23-fd94-4d98-bb97-88e7ae27167b",
   "metadata": {},
   "outputs": [],
   "source": [
    "def say_nick(nick):\n",
    "    if nick == \"바보\":\n",
    "        return\n",
    "\n",
    "    print(f\"나의 별명은 {nick} 입니다\")"
   ]
  },
  {
   "cell_type": "code",
   "execution_count": 48,
   "id": "e4bb2a2b-ed92-4ce1-861f-9db04384871a",
   "metadata": {},
   "outputs": [
    {
     "name": "stdout",
     "output_type": "stream",
     "text": [
      "나의 별명은 야호 입니다\n"
     ]
    }
   ],
   "source": [
    "say_nick(\"야호\")"
   ]
  },
  {
   "cell_type": "code",
   "execution_count": 50,
   "id": "a516c635-fe88-40cb-81a2-f72006edfa39",
   "metadata": {},
   "outputs": [],
   "source": [
    "say_nick(\"바보\")"
   ]
  },
  {
   "cell_type": "code",
   "execution_count": 52,
   "id": "7af7255d-b8d4-442e-9c46-dabb77b285da",
   "metadata": {},
   "outputs": [
    {
     "name": "stdout",
     "output_type": "stream",
     "text": [
      "None\n"
     ]
    }
   ],
   "source": [
    "result = say_nick(\"바보\")\n",
    "\n",
    "print(result)"
   ]
  },
  {
   "cell_type": "markdown",
   "id": "536aadf8-4709-474d-b5cb-5fac3177f227",
   "metadata": {},
   "source": [
    "# **디폴트 매개변수**\n",
    "\n",
    "- 디폴트 : 매개변수로 전달되는 인수가 없는 경우에 기본적으로 사용하는 값"
   ]
  },
  {
   "cell_type": "code",
   "execution_count": 55,
   "id": "450b7f45-5e86-4ac3-92fa-5ef69c62dd17",
   "metadata": {},
   "outputs": [],
   "source": [
    "def say_myself(name, old, man = True):\n",
    "    print(f\"나의 이름은 {name} 입니다\")\n",
    "    print(f\"나이는 {old}살입니다\")\n",
    "\n",
    "    if man:\n",
    "        print(\"남자입니다\")\n",
    "\n",
    "    else:\n",
    "        print(\"여자입니다\")"
   ]
  },
  {
   "cell_type": "code",
   "execution_count": 57,
   "id": "93818935-9559-4104-bca3-5e100c92c334",
   "metadata": {},
   "outputs": [
    {
     "name": "stdout",
     "output_type": "stream",
     "text": [
      "나의 이름은 파이썬 입니다\n",
      "나이는 27살입니다\n",
      "남자입니다\n"
     ]
    }
   ],
   "source": [
    "say_myself(\"파이썬\", 27)"
   ]
  },
  {
   "cell_type": "code",
   "execution_count": 59,
   "id": "c9160685-d3eb-4f3c-9acf-d57a74c7f2fb",
   "metadata": {},
   "outputs": [
    {
     "name": "stdout",
     "output_type": "stream",
     "text": [
      "나의 이름은 파이썬 입니다\n",
      "나이는 27살입니다\n",
      "남자입니다\n"
     ]
    }
   ],
   "source": [
    "say_myself(\"파이썬\", 27, True)"
   ]
  },
  {
   "cell_type": "code",
   "execution_count": 61,
   "id": "b1d4db76-2188-4699-b73f-358b7b15e31f",
   "metadata": {},
   "outputs": [
    {
     "name": "stdout",
     "output_type": "stream",
     "text": [
      "나의 이름은 파이썬 입니다\n",
      "나이는 27살입니다\n",
      "여자입니다\n"
     ]
    }
   ],
   "source": [
    "say_myself(\"파이썬\", 27, False)"
   ]
  },
  {
   "cell_type": "code",
   "execution_count": 63,
   "id": "dcaa1247-faac-4ae7-a4c4-2aa33dafe193",
   "metadata": {},
   "outputs": [
    {
     "name": "stdout",
     "output_type": "stream",
     "text": [
      "나의 이름은 파이썬 입니다\n",
      "나이는 27살입니다\n",
      "남자입니다\n"
     ]
    }
   ],
   "source": [
    "say_myself(\"파이썬\", 27, \"girl\")"
   ]
  },
  {
   "cell_type": "code",
   "execution_count": 65,
   "id": "e6fbbd92-159e-4ff8-bba4-659b69516cef",
   "metadata": {},
   "outputs": [],
   "source": [
    "def print_n_times(value, n = 2):\n",
    "    for _ in range(n):\n",
    "        print(value)"
   ]
  },
  {
   "cell_type": "code",
   "execution_count": 67,
   "id": "d261d695-3b7f-4ebf-9cdb-bdac15e32bcc",
   "metadata": {},
   "outputs": [
    {
     "name": "stdout",
     "output_type": "stream",
     "text": [
      "안녕하세요\n",
      "안녕하세요\n"
     ]
    }
   ],
   "source": [
    "print_n_times(\"안녕하세요\")"
   ]
  },
  {
   "cell_type": "markdown",
   "id": "9d33972a-f22a-4429-b815-d2b623beb260",
   "metadata": {},
   "source": [
    "## 디폴트 매개변수의 위치"
   ]
  },
  {
   "cell_type": "code",
   "execution_count": 70,
   "id": "7a6dd9c3-da7d-44ee-916c-40ac923aeea6",
   "metadata": {},
   "outputs": [
    {
     "ename": "SyntaxError",
     "evalue": "parameter without a default follows parameter with a default (3570404004.py, line 2)",
     "output_type": "error",
     "traceback": [
      "\u001b[1;36m  Cell \u001b[1;32mIn[70], line 2\u001b[1;36m\u001b[0m\n\u001b[1;33m    def say_myself(name, man = True, old):\u001b[0m\n\u001b[1;37m                                     ^\u001b[0m\n\u001b[1;31mSyntaxError\u001b[0m\u001b[1;31m:\u001b[0m parameter without a default follows parameter with a default\n"
     ]
    }
   ],
   "source": [
    "# 파이썬은 인수를 어디에 대입해야할지 알 수 없음\n",
    "def say_myself(name, man = True, old):\n",
    "    print(f\"나의 이름은 {name} 입니다\")\n",
    "    print(f\"나이는 {old}살입니다\")\n",
    "\n",
    "    if man:\n",
    "        print(\"남자입니다\")\n",
    "\n",
    "    else:\n",
    "        print(\"여자입니다\")"
   ]
  },
  {
   "cell_type": "markdown",
   "id": "e39266bf-41ed-445a-bf60-431cec6b222b",
   "metadata": {},
   "source": [
    "# **지역변수와 전역변수**\n",
    "\n",
    "- 지역변수\n",
    "    - 함수 내부에서 선언한 변수는 함수 내부에서만 사용할 수 있는 변수가 됨\n",
    "    - 함수 외부에서는 지역변수에 접근할 수 없음\n",
    "- 전역변수\n",
    "    - 함수 외부에서 선언한 변수는 함수 내부에서도 사용 가능"
   ]
  },
  {
   "cell_type": "code",
   "execution_count": 73,
   "id": "23c16400-2a44-4aac-831c-65a776aef422",
   "metadata": {},
   "outputs": [],
   "source": [
    "def vartest():\n",
    "    var = 10\n",
    "    print(var)"
   ]
  },
  {
   "cell_type": "code",
   "execution_count": 75,
   "id": "9d9317fb-35f3-4e49-b8a5-b6f34b0327b1",
   "metadata": {},
   "outputs": [
    {
     "name": "stdout",
     "output_type": "stream",
     "text": [
      "10\n"
     ]
    }
   ],
   "source": [
    "vartest()"
   ]
  },
  {
   "cell_type": "code",
   "execution_count": 77,
   "id": "f6ff9fab-41ab-4e42-852f-0ad7ec6eaf3c",
   "metadata": {},
   "outputs": [
    {
     "ename": "NameError",
     "evalue": "name 'var' is not defined",
     "output_type": "error",
     "traceback": [
      "\u001b[1;31m---------------------------------------------------------------------------\u001b[0m",
      "\u001b[1;31mNameError\u001b[0m                                 Traceback (most recent call last)",
      "Cell \u001b[1;32mIn[77], line 1\u001b[0m\n\u001b[1;32m----> 1\u001b[0m \u001b[38;5;28mprint\u001b[39m(var)\n",
      "\u001b[1;31mNameError\u001b[0m: name 'var' is not defined"
     ]
    }
   ],
   "source": [
    "print(var)"
   ]
  },
  {
   "cell_type": "code",
   "execution_count": 79,
   "id": "4f25f6f1-3d2e-4c57-be00-5e7778239ed9",
   "metadata": {},
   "outputs": [],
   "source": [
    "var2 = 10"
   ]
  },
  {
   "cell_type": "code",
   "execution_count": 81,
   "id": "c9996138-4f50-43bd-bf6e-9ec55e27e1f8",
   "metadata": {},
   "outputs": [],
   "source": [
    "def var2test():\n",
    "    print(var2)"
   ]
  },
  {
   "cell_type": "code",
   "execution_count": 83,
   "id": "998ad3ce-aacc-4cff-b6b2-f4403ef47bed",
   "metadata": {},
   "outputs": [
    {
     "name": "stdout",
     "output_type": "stream",
     "text": [
      "10\n"
     ]
    }
   ],
   "source": [
    "var2test()"
   ]
  },
  {
   "cell_type": "code",
   "execution_count": 85,
   "id": "6c806724-e0bb-490f-b5f1-6b705e01ec65",
   "metadata": {},
   "outputs": [
    {
     "name": "stdout",
     "output_type": "stream",
     "text": [
      "10\n"
     ]
    }
   ],
   "source": [
    "print(var2)"
   ]
  },
  {
   "cell_type": "markdown",
   "id": "9a26fa48-55aa-4d21-bc12-8a0cdde0babe",
   "metadata": {},
   "source": [
    "### - 전역변수를 함수 내부에서 사용하는 2가지 경우\n",
    "\n",
    "- 단순 참조\n",
    "- 전역 변수의 값을 변경"
   ]
  },
  {
   "cell_type": "code",
   "execution_count": 88,
   "id": "edb68b2c-fa47-44bb-aa83-2a27351df6c7",
   "metadata": {},
   "outputs": [],
   "source": [
    "a = 0"
   ]
  },
  {
   "cell_type": "code",
   "execution_count": 90,
   "id": "c0af4e21-ea8b-41c7-9a79-fe6a8be374fe",
   "metadata": {},
   "outputs": [],
   "source": [
    "def f():\n",
    "    a = 10\n",
    "    print(a)"
   ]
  },
  {
   "cell_type": "code",
   "execution_count": 92,
   "id": "43f4f88c-b515-4646-84e8-3accbbc2bf69",
   "metadata": {},
   "outputs": [
    {
     "name": "stdout",
     "output_type": "stream",
     "text": [
      "10\n"
     ]
    }
   ],
   "source": [
    "f()"
   ]
  },
  {
   "cell_type": "code",
   "execution_count": 94,
   "id": "394fbc21-44ec-41fd-b5e0-9c0fffcb6c13",
   "metadata": {},
   "outputs": [
    {
     "name": "stdout",
     "output_type": "stream",
     "text": [
      "0\n"
     ]
    }
   ],
   "source": [
    "print(a)"
   ]
  },
  {
   "cell_type": "code",
   "execution_count": 96,
   "id": "6e8ce66e-a5b2-4ddd-ab42-c2a1df27b715",
   "metadata": {},
   "outputs": [],
   "source": [
    "def f():\n",
    "    global a # 전역변수 a를 사용하겠다\n",
    "    a = 10\n",
    "    print(a)"
   ]
  },
  {
   "cell_type": "code",
   "execution_count": 98,
   "id": "36376e3e-aadd-4d94-9d0c-9f3e46365bef",
   "metadata": {},
   "outputs": [
    {
     "name": "stdout",
     "output_type": "stream",
     "text": [
      "10\n"
     ]
    }
   ],
   "source": [
    "f()"
   ]
  },
  {
   "cell_type": "code",
   "execution_count": 100,
   "id": "1b6b4e41-4cc7-4a5f-8bf6-3a35444557a3",
   "metadata": {},
   "outputs": [
    {
     "name": "stdout",
     "output_type": "stream",
     "text": [
      "10\n"
     ]
    }
   ],
   "source": [
    "print(a)"
   ]
  },
  {
   "cell_type": "markdown",
   "id": "ee16961e-13ff-4309-a14e-9cc9c7f27fc7",
   "metadata": {},
   "source": [
    "### - mutable과 immutable"
   ]
  },
  {
   "cell_type": "code",
   "execution_count": 103,
   "id": "b42ad8ba-747a-4252-8c6a-a01a678db847",
   "metadata": {},
   "outputs": [],
   "source": [
    "def modify(lst, text):\n",
    "    lst[0] = 99\n",
    "    text = text.replace(\"a\", \"b\")\n",
    "    return lst, text"
   ]
  },
  {
   "cell_type": "code",
   "execution_count": 105,
   "id": "7ecbf061-f873-47f3-aa56-9263ace432f8",
   "metadata": {},
   "outputs": [],
   "source": [
    "my_list = [1, 2, 3]\n",
    "my_string = \"apple\""
   ]
  },
  {
   "cell_type": "code",
   "execution_count": 107,
   "id": "89f35b94-7c5e-47df-9a3b-890de2113c78",
   "metadata": {},
   "outputs": [
    {
     "name": "stdout",
     "output_type": "stream",
     "text": [
      "[99, 2, 3] apple\n"
     ]
    }
   ],
   "source": [
    "modify(my_list, my_string)\n",
    "\n",
    "print(my_list, my_string)"
   ]
  },
  {
   "cell_type": "code",
   "execution_count": 109,
   "id": "2d0bbb0d-04e1-4d77-893e-018a853761f3",
   "metadata": {},
   "outputs": [
    {
     "name": "stdout",
     "output_type": "stream",
     "text": [
      "[99, 2, 3] bpple\n"
     ]
    }
   ],
   "source": [
    "modified_list, modified_string = modify(my_list, my_string)\n",
    "\n",
    "print(modified_list, modified_string)"
   ]
  },
  {
   "cell_type": "markdown",
   "id": "535fbc17-9721-4496-8287-4210ed99203e",
   "metadata": {},
   "source": [
    "# **가변 매개변수(여러 개의 입력값을 받는 함수)**\n",
    "\n",
    "- 함수로 전달해야하는 인수의 개수가 정해지지 않은 매개변수\n",
    "- 함수 정의시 매개변수 앞에 * 을 붙이면 가변 매개변수가 됨\n",
    "- 전달되는 인수는 하나의 튜플 형태로 전달\n",
    "- 가변 매개변수의 제약\n",
    "    - 가변 매개변수 뒤에는 일반 매개변수가 올 수 없음\n",
    "    - 가변 매개변수는 하나만 사용할 수 있음"
   ]
  },
  {
   "cell_type": "code",
   "execution_count": 112,
   "id": "445f5e5c-09fd-4ff4-84e8-0cca060df144",
   "metadata": {},
   "outputs": [],
   "source": [
    "def show(*args):\n",
    "    print(args)"
   ]
  },
  {
   "cell_type": "code",
   "execution_count": 114,
   "id": "dfd82163-b290-4e15-810f-5cfc4f31d8ba",
   "metadata": {},
   "outputs": [
    {
     "name": "stdout",
     "output_type": "stream",
     "text": [
      "('python',)\n"
     ]
    }
   ],
   "source": [
    "show(\"python\")"
   ]
  },
  {
   "cell_type": "code",
   "execution_count": 116,
   "id": "b55f2047-2de5-42a9-9468-fd495e52443b",
   "metadata": {},
   "outputs": [
    {
     "data": {
      "text/plain": [
       "tuple"
      ]
     },
     "execution_count": 116,
     "metadata": {},
     "output_type": "execute_result"
    }
   ],
   "source": [
    "type((\"python\",))"
   ]
  },
  {
   "cell_type": "code",
   "execution_count": 118,
   "id": "617d2d20-23f1-444d-8122-cd11d531b215",
   "metadata": {},
   "outputs": [
    {
     "data": {
      "text/plain": [
       "str"
      ]
     },
     "execution_count": 118,
     "metadata": {},
     "output_type": "execute_result"
    }
   ],
   "source": [
    "type((\"python\"))"
   ]
  },
  {
   "cell_type": "code",
   "execution_count": 120,
   "id": "2cb35f58-0e06-4b07-ada4-5848ad59bda3",
   "metadata": {},
   "outputs": [
    {
     "name": "stdout",
     "output_type": "stream",
     "text": [
      "('happy', 'birthday')\n"
     ]
    }
   ],
   "source": [
    "show(\"happy\", \"birthday\")"
   ]
  },
  {
   "cell_type": "code",
   "execution_count": 122,
   "id": "22e564b7-a3e0-4a5f-8524-3b78ea95c889",
   "metadata": {},
   "outputs": [],
   "source": [
    "def add_many(*args):\n",
    "    result = 0\n",
    "\n",
    "    for i in args:\n",
    "        result += i\n",
    "\n",
    "    return result"
   ]
  },
  {
   "cell_type": "code",
   "execution_count": 124,
   "id": "ddffe17b-ff56-4fe2-a4a7-e77d71127672",
   "metadata": {},
   "outputs": [
    {
     "name": "stdout",
     "output_type": "stream",
     "text": [
      "6\n"
     ]
    }
   ],
   "source": [
    "result = add_many(1, 2, 3)\n",
    "print(result)"
   ]
  },
  {
   "cell_type": "code",
   "execution_count": 126,
   "id": "84333ea7-63c5-423a-9657-8da8cf518197",
   "metadata": {},
   "outputs": [
    {
     "name": "stdout",
     "output_type": "stream",
     "text": [
      "55\n"
     ]
    }
   ],
   "source": [
    "result = add_many(1, 2, 3, 4, 5, 6, 7, 8, 9, 10)\n",
    "print(result)"
   ]
  },
  {
   "cell_type": "markdown",
   "id": "7f30c1e8-4858-4c96-9673-d6fa3e2041b6",
   "metadata": {},
   "source": [
    "# **키워드 매개변수**"
   ]
  },
  {
   "cell_type": "code",
   "execution_count": 129,
   "id": "a0761d0a-ff4d-4979-9c7c-554e60c95aca",
   "metadata": {},
   "outputs": [],
   "source": [
    "def print_kwargs(**kwargs):\n",
    "    print(kwargs)"
   ]
  },
  {
   "cell_type": "code",
   "execution_count": 131,
   "id": "40984f34-1a3e-4cdc-b037-1e49d76bac9a",
   "metadata": {},
   "outputs": [
    {
     "name": "stdout",
     "output_type": "stream",
     "text": [
      "{'a': 1}\n"
     ]
    }
   ],
   "source": [
    "print_kwargs(a = 1)"
   ]
  },
  {
   "cell_type": "code",
   "execution_count": 133,
   "id": "ee0004a5-b472-4da5-ad00-9654e14b9159",
   "metadata": {},
   "outputs": [
    {
     "name": "stdout",
     "output_type": "stream",
     "text": [
      "{'name': 'foo', 'age': 3}\n"
     ]
    }
   ],
   "source": [
    "print_kwargs(name = \"foo\", age = 3)"
   ]
  },
  {
   "cell_type": "markdown",
   "id": "a38d1634-f4a9-4f02-9a65-4b584455be78",
   "metadata": {},
   "source": [
    "# **함수 매개변수 순서**\n",
    "\n",
    "1. 일반 매개변수\n",
    "2. 디폴트 매개변수\n",
    "3. 가변 매개변수\n",
    "4. 키워드 매개변수"
   ]
  },
  {
   "cell_type": "markdown",
   "id": "16735929-122e-4a6f-8775-775dc2a9dbda",
   "metadata": {},
   "source": [
    "# **연습문제**"
   ]
  },
  {
   "cell_type": "code",
   "execution_count": 137,
   "id": "13d3d0dd-ca8c-4635-9950-c2c397eb7456",
   "metadata": {},
   "outputs": [],
   "source": [
    "# 1. 주어진 자연수가 홀수인지 짝수인지 판별해주는 함수(함수명 : is_odd)를 작성하기\n",
    "def is_odd(num):\n",
    "    if num % 2 == 1:\n",
    "        return True\n",
    "\n",
    "    else:\n",
    "        return False\n",
    "\n",
    "    # return num % 2 == 1"
   ]
  },
  {
   "cell_type": "code",
   "execution_count": 139,
   "id": "1f820bac-de85-4896-b91d-645e8d09f8c0",
   "metadata": {},
   "outputs": [
    {
     "data": {
      "text/plain": [
       "True"
      ]
     },
     "execution_count": 139,
     "metadata": {},
     "output_type": "execute_result"
    }
   ],
   "source": [
    "is_odd(3)"
   ]
  },
  {
   "cell_type": "code",
   "execution_count": 141,
   "id": "eb2a05b5-9987-419e-8112-8cb5932b9070",
   "metadata": {},
   "outputs": [
    {
     "data": {
      "text/plain": [
       "False"
      ]
     },
     "execution_count": 141,
     "metadata": {},
     "output_type": "execute_result"
    }
   ],
   "source": [
    "is_odd(4)"
   ]
  },
  {
   "cell_type": "markdown",
   "id": "02073a50-f8b2-44ea-a1b4-97ba144d4200",
   "metadata": {},
   "source": [
    "#### 2. 커피자판기 코드 만들기\n",
    "\n",
    "- 커피자판기에 돈과 주문할 커피를 전달\n",
    "- 주문할 수 있는 커피의 종류와 가격은 다음과 같음\n",
    "    - 아메리카노 : 1000원\n",
    "    - 카페라떼 : 1500원\n",
    "    - 카푸치노 : 2000원\n",
    "- 없는 커피를 주문할 경우 입력한 돈을 그대로 반환\n",
    "- 구매 금액이 부족하면 입력한 돈을 그대로 반환\n",
    "- 정상 주문이면 주문한 커피와 잔돈을 반환"
   ]
  },
  {
   "cell_type": "code",
   "execution_count": 144,
   "id": "6b59bcff-7a81-463f-9a5a-d18157b72872",
   "metadata": {},
   "outputs": [],
   "source": [
    "def coffee_machine(money, pick):\n",
    "    print(f\"{money}원에 {pick}를 선택하셨습니다\")\n",
    "    \n",
    "    menu = {\"아메리카노\" : 1000,\n",
    "            \"카페라떼\" : 1500,\n",
    "            \"카푸치노\" : 2000}\n",
    "\n",
    "    if pick not in menu:\n",
    "        print(f\"{pick}는 없는 메뉴입니다\")\n",
    "        return money\n",
    "\n",
    "    elif menu[pick] > money:\n",
    "        print(f\"{pick}는 {menu[pick]}원 입니다\")\n",
    "        print(f\"돈이 {menu[pick] - money} 원 부족합니다\")\n",
    "        return money\n",
    "\n",
    "    else:\n",
    "        print(f\"{pick}는 {menu[pick]}원 입니다\")\n",
    "        print(f\"잔돈은 {money - menu[pick]}원 입니다\")\n",
    "        return pick, money - menu[pick]"
   ]
  },
  {
   "cell_type": "code",
   "execution_count": 146,
   "id": "ac28a2fc-736a-4180-a0d3-75657b9c471e",
   "metadata": {},
   "outputs": [
    {
     "name": "stdout",
     "output_type": "stream",
     "text": [
      "15000원에 마키아또를 선택하셨습니다\n",
      "마키아또는 없는 메뉴입니다\n"
     ]
    },
    {
     "data": {
      "text/plain": [
       "15000"
      ]
     },
     "execution_count": 146,
     "metadata": {},
     "output_type": "execute_result"
    }
   ],
   "source": [
    "coffee_machine(pick = \"마키아또\", money = 15000)"
   ]
  },
  {
   "cell_type": "code",
   "execution_count": 148,
   "id": "f2700183-f035-446c-bb09-ba9c1e98acdc",
   "metadata": {},
   "outputs": [
    {
     "name": "stdout",
     "output_type": "stream",
     "text": [
      "500원에 아메리카노를 선택하셨습니다\n",
      "아메리카노는 1000원 입니다\n",
      "돈이 500 원 부족합니다\n"
     ]
    },
    {
     "data": {
      "text/plain": [
       "500"
      ]
     },
     "execution_count": 148,
     "metadata": {},
     "output_type": "execute_result"
    }
   ],
   "source": [
    "coffee_machine(pick = \"아메리카노\", money = 500)"
   ]
  },
  {
   "cell_type": "code",
   "execution_count": 150,
   "id": "90ad5254-45f4-432b-a44a-68f8415c5b0c",
   "metadata": {},
   "outputs": [
    {
     "name": "stdout",
     "output_type": "stream",
     "text": [
      "2000원에 카페라떼를 선택하셨습니다\n",
      "카페라떼는 1500원 입니다\n",
      "잔돈은 500원 입니다\n"
     ]
    },
    {
     "data": {
      "text/plain": [
       "('카페라떼', 500)"
      ]
     },
     "execution_count": 150,
     "metadata": {},
     "output_type": "execute_result"
    }
   ],
   "source": [
    "coffee_machine(pick = \"카페라떼\", money = 2000)"
   ]
  },
  {
   "cell_type": "code",
   "execution_count": null,
   "id": "621823e9-0043-47ce-859c-ffb456ceba2c",
   "metadata": {},
   "outputs": [],
   "source": []
  }
 ],
 "metadata": {
  "kernelspec": {
   "display_name": "Python [conda env:base] *",
   "language": "python",
   "name": "conda-base-py"
  },
  "language_info": {
   "codemirror_mode": {
    "name": "ipython",
    "version": 3
   },
   "file_extension": ".py",
   "mimetype": "text/x-python",
   "name": "python",
   "nbconvert_exporter": "python",
   "pygments_lexer": "ipython3",
   "version": "3.12.7"
  }
 },
 "nbformat": 4,
 "nbformat_minor": 5
}
