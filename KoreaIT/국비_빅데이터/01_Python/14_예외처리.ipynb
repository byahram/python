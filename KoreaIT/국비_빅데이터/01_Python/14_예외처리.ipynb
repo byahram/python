{
 "cells": [
  {
   "cell_type": "markdown",
   "id": "61148ea2-260f-4cf1-bd8c-49c7ece95311",
   "metadata": {},
   "source": [
    "# **예외처리의 필요성**\n",
    "\n",
    "- 문제 발생으로 인해 프로그램이 비정상적으로 종료되는 것을 막고 발생한 문제에 대한 정보를 전달하기 위해 사용"
   ]
  },
  {
   "cell_type": "markdown",
   "id": "b17c80b7-e7ed-48fb-860a-e9d1c164f4cd",
   "metadata": {},
   "source": [
    "# **try-except 문**\n",
    "\n",
    "- 예외처리를 위한 기본 구조\n",
    "\n",
    "```\n",
    "try:\n",
    "    ...\n",
    "\n",
    "except [발생오류[as 오류 메시지 변수]]:\n",
    "    ...\n",
    "```\n",
    "\n",
    "- try 블록 실행 중 오류가 발생하면 except 블록이 실행됨\n",
    "    - try 블록에서 오류가 발생하지 않는다면 except 블록은 실행되지 않음"
   ]
  },
  {
   "cell_type": "markdown",
   "id": "83474629-6909-43ca-803a-338a312c8149",
   "metadata": {},
   "source": [
    "## 예외처리 방법\n",
    "\n",
    "- try, except만 쓰는 방법\n",
    "- 발생 오류만 포함한 except문\n",
    "- 발생 오류와 오류 메시지 변수까지 포함한 except문"
   ]
  },
  {
   "cell_type": "code",
   "execution_count": 4,
   "id": "0bcdf489-445c-4f01-91fa-2ed730256010",
   "metadata": {},
   "outputs": [
    {
     "name": "stdout",
     "output_type": "stream",
     "text": [
      "error\n"
     ]
    }
   ],
   "source": [
    "# try, except 만 쓰는 방법\n",
    "try:\n",
    "    4 / 0\n",
    "\n",
    "except:\n",
    "    print(\"error\")"
   ]
  },
  {
   "cell_type": "code",
   "execution_count": 6,
   "id": "67f6b087-68c0-4cd3-9bfb-26f4d04b7ef0",
   "metadata": {},
   "outputs": [
    {
     "name": "stdout",
     "output_type": "stream",
     "text": [
      "zero division error\n"
     ]
    }
   ],
   "source": [
    "# 발생 오류만 포함한 except문\n",
    "try:\n",
    "    4 / 0\n",
    "\n",
    "except ZeroDivisionError:\n",
    "    print(\"zero division error\")\n",
    "\n",
    "except KeyError:\n",
    "    print(\"key_error\")"
   ]
  },
  {
   "cell_type": "code",
   "execution_count": 8,
   "id": "0cfe0b43-1713-4fb2-90c4-e118c0294b4b",
   "metadata": {},
   "outputs": [
    {
     "name": "stdout",
     "output_type": "stream",
     "text": [
      "division by zero\n"
     ]
    }
   ],
   "source": [
    "# 발생 오류와 오류 메시지 변수까지 포함한 except문\n",
    "try:\n",
    "    4 / 0\n",
    "\n",
    "except ZeroDivisionError as e:\n",
    "    print(e)"
   ]
  },
  {
   "cell_type": "code",
   "execution_count": 45,
   "id": "f28886b1-2a22-4732-9c05-b701424b82b7",
   "metadata": {},
   "outputs": [
    {
     "name": "stdin",
     "output_type": "stream",
     "text": [
      "나누어지는 수를 입력 :  1.5\n"
     ]
    },
    {
     "name": "stdout",
     "output_type": "stream",
     "text": [
      "invalid literal for int() with base 10: '1.5'\n",
      "정수만 입력할 수 있습니다\n"
     ]
    }
   ],
   "source": [
    "try:\n",
    "    a = int(input(\"나누어지는 수를 입력 : \"))\n",
    "    b = int(input(\"나누는 수를 입력 : \"))\n",
    "    print(f\"{a} / {b} = {a / b}\")\n",
    "\n",
    "except ZeroDivisionError as e:\n",
    "    print(e)\n",
    "    print(\"0으로 나눌 수 없습니다.\")\n",
    "\n",
    "except ValueError as e:\n",
    "    print(e)\n",
    "    print(\"정수만 입력할 수 있습니다\")"
   ]
  },
  {
   "cell_type": "markdown",
   "id": "19fd8814-f1bb-445f-a7ac-68ab6999ffff",
   "metadata": {},
   "source": [
    "# **else, finally 문**\n",
    "\n",
    "```\n",
    "try:\n",
    "    코드 작성 영역\n",
    "\n",
    "except:\n",
    "    예외 발생 시 처리 영역\n",
    "\n",
    "else:\n",
    "    예외가 없을 때 처리 영역\n",
    "\n",
    "finally:\n",
    "    언제나 실행되는 영역\n",
    "```"
   ]
  },
  {
   "cell_type": "code",
   "execution_count": 48,
   "id": "850a702c-a6bb-4a40-913d-d177fe9abb61",
   "metadata": {},
   "outputs": [
    {
     "name": "stdin",
     "output_type": "stream",
     "text": [
      "나누어지는 수 :  1.5\n"
     ]
    },
    {
     "name": "stdout",
     "output_type": "stream",
     "text": [
      "invalid literal for int() with base 10: '1.5'\n",
      "프로그램을 종료\n"
     ]
    }
   ],
   "source": [
    "try:\n",
    "    a = int(input(\"나누어지는 수 : \"))\n",
    "    b = int(input(\"나누는 수 : \"))\n",
    "    result = a / b\n",
    "\n",
    "except Exception as e:\n",
    "    print(e)\n",
    "\n",
    "else:\n",
    "    print(f\"{a} / {b} = {result}\")\n",
    "\n",
    "finally:\n",
    "    print(\"프로그램을 종료\")"
   ]
  },
  {
   "cell_type": "markdown",
   "id": "d54e3a08-27bf-4dd5-b768-b030c9a68f64",
   "metadata": {},
   "source": [
    "# **try, except, finally 구문의 조합**\n",
    "\n",
    "- try 구문은 단독으로 사용할 수 없으며, 반드시 except 구문 또는 finally 구문과 함께 사용해야 함\n",
    "- else 구문은 반드시 except 구문 뒤에 사용해야 함\n",
    "- 가능한 조합\n",
    "    - try + except\n",
    "    - try + except + else\n",
    "    - try + except + finally\n",
    "    - try + except + else + finally\n",
    "    - try + finally\n",
    "- 가능한 조합 외의 모든 조합은 구문 오류 발생"
   ]
  },
  {
   "cell_type": "code",
   "execution_count": 16,
   "id": "1539ec69-00cc-42c5-849d-da55b232e4f6",
   "metadata": {},
   "outputs": [
    {
     "ename": "SyntaxError",
     "evalue": "expected 'except' or 'finally' block (3889753803.py, line 5)",
     "output_type": "error",
     "traceback": [
      "\u001b[1;36m  Cell \u001b[1;32mIn[16], line 5\u001b[1;36m\u001b[0m\n\u001b[1;33m    else:\u001b[0m\n\u001b[1;37m    ^\u001b[0m\n\u001b[1;31mSyntaxError\u001b[0m\u001b[1;31m:\u001b[0m expected 'except' or 'finally' block\n"
     ]
    }
   ],
   "source": [
    "try:\n",
    "    input_a = int(input(\"정수 입력 : \"))\n",
    "    print(input_a)\n",
    "\n",
    "else:\n",
    "    print(\"프로그램이 정상적으로 종료\")"
   ]
  },
  {
   "cell_type": "markdown",
   "id": "26ddc84e-d0bd-49a8-bda5-bc983126488b",
   "metadata": {},
   "source": [
    "# **finally 활용**"
   ]
  },
  {
   "cell_type": "code",
   "execution_count": 19,
   "id": "f474c0f2-7cfe-459b-9492-85f4c6cb7120",
   "metadata": {},
   "outputs": [
    {
     "name": "stdout",
     "output_type": "stream",
     "text": [
      "오류가 발생했습니다\n",
      "file.closed : True\n"
     ]
    }
   ],
   "source": [
    "# 파일이 제대로 닫혔는지 확인하기\n",
    "try:\n",
    "    f = open(\"info.txt\", \"w\")\n",
    "    예외.발생\n",
    "\n",
    "except:\n",
    "    print(\"오류가 발생했습니다\")\n",
    "\n",
    "finally:\n",
    "    f.close()\n",
    "\n",
    "print(\"file.closed :\", f.closed)"
   ]
  },
  {
   "cell_type": "code",
   "execution_count": 21,
   "id": "d711bbff-45aa-44d5-8a3a-25c00280b52f",
   "metadata": {},
   "outputs": [
    {
     "name": "stdout",
     "output_type": "stream",
     "text": [
      "오류가 발생했습니다\n",
      "file.closed : True\n"
     ]
    }
   ],
   "source": [
    "# finally 구문을 사용하지 않고도 파일을 닫을 수 있음\n",
    "try:\n",
    "    f = open(\"info.txt\", \"w\")\n",
    "    예외.발생\n",
    "\n",
    "except:\n",
    "    print(\"오류가 발생했습니다\")\n",
    "\n",
    "f.close()\n",
    "\n",
    "print(\"file.closed :\", f.closed)"
   ]
  },
  {
   "cell_type": "code",
   "execution_count": 23,
   "id": "9049f4f5-ca80-4c65-baec-97d7163d4d2c",
   "metadata": {},
   "outputs": [
    {
     "name": "stdout",
     "output_type": "stream",
     "text": [
      "test 함수의 첫 줄\n",
      "try 구문 실행\n",
      "finally 구문 실행\n"
     ]
    }
   ],
   "source": [
    "# try 구문 내부에서 return 키워드를 사용하는 경우\n",
    "def test():\n",
    "    print(\"test 함수의 첫 줄\")\n",
    "\n",
    "    try:\n",
    "        print(\"try 구문 실행\")\n",
    "        return\n",
    "        print(\"try 구문의 return 키워드 뒤\")\n",
    "\n",
    "    except:\n",
    "        print(\"except 구문 실행\")\n",
    "\n",
    "    else:\n",
    "        print(\"else 구문 실행\")\n",
    "\n",
    "    finally:\n",
    "        print(\"finally 구문 실행\")\n",
    "\n",
    "    print(\"test 함수의 마지막 줄\")\n",
    "    \n",
    "test()"
   ]
  },
  {
   "cell_type": "markdown",
   "id": "5bef1339-d968-42b3-8624-0ac31da31521",
   "metadata": {},
   "source": [
    "- try 구문 중간에 return 으로 탈출해도 finally 가 실행됨\n",
    "    - 함수 내부에서 파일 처리 코드를 깔끔하게 만들고 싶을 때 finally를 주로 활용"
   ]
  },
  {
   "cell_type": "code",
   "execution_count": 26,
   "id": "3bcde9b7-dbf2-4456-b9ab-33453cdf6b06",
   "metadata": {},
   "outputs": [
    {
     "name": "stdout",
     "output_type": "stream",
     "text": [
      "프로그램 시작\n",
      "try 구문 실행\n",
      "finally 구문 실행\n",
      "프로그램 종료\n"
     ]
    }
   ],
   "source": [
    "# 반복문과 finally를 사용하는 경우\n",
    "print(\"프로그램 시작\")\n",
    "\n",
    "while True:\n",
    "    try:\n",
    "        print(\"try 구문 실행\")\n",
    "        break\n",
    "        print(\"try 구문의 break 키워드 뒤\")\n",
    "\n",
    "    except:\n",
    "        print(\"except 구문 실행\")\n",
    "\n",
    "    finally:\n",
    "        print(\"finally 구문 실행\")\n",
    "\n",
    "    print(\"while 반복문의 마지막 줄\")\n",
    "\n",
    "print(\"프로그램 종료\")"
   ]
  },
  {
   "cell_type": "markdown",
   "id": "bd5f5a21-3591-491b-9fb9-11d381a5b26d",
   "metadata": {},
   "source": [
    "# **강제로 예외 발생시키기**"
   ]
  },
  {
   "cell_type": "code",
   "execution_count": 29,
   "id": "3e3b10b4-bdf3-44d6-b37f-19049b18dd47",
   "metadata": {},
   "outputs": [
    {
     "name": "stdout",
     "output_type": "stream",
     "text": [
      "발생한 예외 메시지는\n",
      "강제로 발생시킨 예외\n"
     ]
    }
   ],
   "source": [
    "try:\n",
    "    raise Exception(\"강제로 발생시킨 예외\")\n",
    "\n",
    "except Exception as e:\n",
    "    print(\"발생한 예외 메시지는\")\n",
    "    print(e)"
   ]
  },
  {
   "cell_type": "code",
   "execution_count": 31,
   "id": "8c318377-0b6a-4d31-9c53-383a31fe08e3",
   "metadata": {},
   "outputs": [
    {
     "ename": "Exception",
     "evalue": "강제로 발생시킨 예외",
     "output_type": "error",
     "traceback": [
      "\u001b[1;31m---------------------------------------------------------------------------\u001b[0m",
      "\u001b[1;31mException\u001b[0m                                 Traceback (most recent call last)",
      "Cell \u001b[1;32mIn[31], line 1\u001b[0m\n\u001b[1;32m----> 1\u001b[0m \u001b[38;5;28;01mraise\u001b[39;00m \u001b[38;5;167;01mException\u001b[39;00m(\u001b[38;5;124m\"\u001b[39m\u001b[38;5;124m강제로 발생시킨 예외\u001b[39m\u001b[38;5;124m\"\u001b[39m)\n",
      "\u001b[1;31mException\u001b[0m: 강제로 발생시킨 예외"
     ]
    }
   ],
   "source": [
    "raise Exception(\"강제로 발생시킨 예외\")"
   ]
  },
  {
   "cell_type": "markdown",
   "id": "0f23414e-7fa6-4331-873b-caccd06721bd",
   "metadata": {},
   "source": [
    "# **오류의 종류**\n",
    "\n",
    "- 구문 오류(syntax error) : 프로그램 실행 전에 발생하는 오류\n",
    "- 런타임 오류(runtime error) : 프로그램 실행 중에 발생하는 오류"
   ]
  },
  {
   "cell_type": "markdown",
   "id": "fc8046a7-c2e4-4122-afcf-bbd009b07a18",
   "metadata": {},
   "source": [
    "## 구문 오류\n",
    "\n",
    "- 괄호의 개수, 들여쓰기 문제 등으로 프로그램이 실행되기도 전에 발생하는 오류\n",
    "    - 프로그램이 실행조차 되지 않기 때문에 예외처리로는 처리할 수 없음\n",
    "    - 구문 오류가 발생한 코드를 수정해야함"
   ]
  },
  {
   "cell_type": "code",
   "execution_count": 35,
   "id": "57884211-2423-4791-97ae-a62e30796606",
   "metadata": {},
   "outputs": [
    {
     "ename": "SyntaxError",
     "evalue": "incomplete input (4030368650.py, line 5)",
     "output_type": "error",
     "traceback": [
      "\u001b[1;36m  Cell \u001b[1;32mIn[35], line 5\u001b[1;36m\u001b[0m\n\u001b[1;33m    print(\"오류 발생\"\u001b[0m\n\u001b[1;37m                 ^\u001b[0m\n\u001b[1;31mSyntaxError\u001b[0m\u001b[1;31m:\u001b[0m incomplete input\n"
     ]
    }
   ],
   "source": [
    "# 프로그램 시작\n",
    "print(\"프로그램 시작\")\n",
    "\n",
    "# 구문 오류 발생 코드\n",
    "print(\"오류 발생\""
   ]
  },
  {
   "cell_type": "markdown",
   "id": "b4d62f13-125b-4c34-805a-abb53d7c11d6",
   "metadata": {},
   "source": [
    "## 런타임 오류\n",
    "\n",
    "- 프로그램 실행 중에 발생하는 오류\n",
    "- 예외 라고도 함"
   ]
  },
  {
   "cell_type": "code",
   "execution_count": 38,
   "id": "2e125b0a-4cd5-49b6-b0c4-a89028a07f30",
   "metadata": {},
   "outputs": [
    {
     "name": "stdout",
     "output_type": "stream",
     "text": [
      "프로그램 시작\n"
     ]
    },
    {
     "ename": "NameError",
     "evalue": "name 'list_a' is not defined",
     "output_type": "error",
     "traceback": [
      "\u001b[1;31m---------------------------------------------------------------------------\u001b[0m",
      "\u001b[1;31mNameError\u001b[0m                                 Traceback (most recent call last)",
      "Cell \u001b[1;32mIn[38], line 3\u001b[0m\n\u001b[0;32m      1\u001b[0m \u001b[38;5;28mprint\u001b[39m(\u001b[38;5;124m\"\u001b[39m\u001b[38;5;124m프로그램 시작\u001b[39m\u001b[38;5;124m\"\u001b[39m)\n\u001b[1;32m----> 3\u001b[0m list_a[\u001b[38;5;241m1\u001b[39m]\n",
      "\u001b[1;31mNameError\u001b[0m: name 'list_a' is not defined"
     ]
    }
   ],
   "source": [
    "print(\"프로그램 시작\")\n",
    "\n",
    "list_a[1] # 예외 발생 코드"
   ]
  },
  {
   "cell_type": "markdown",
   "id": "93f764ca-41d1-4667-9f22-5546ca49f5a9",
   "metadata": {},
   "source": [
    "# **조건문으로 예외 처리하기**"
   ]
  },
  {
   "cell_type": "code",
   "execution_count": 50,
   "id": "b9567bfd-a146-4a11-ad64-67980368eeb1",
   "metadata": {},
   "outputs": [
    {
     "name": "stdin",
     "output_type": "stream",
     "text": [
      "정수 입력 :  hello\n"
     ]
    },
    {
     "ename": "ValueError",
     "evalue": "invalid literal for int() with base 10: 'hello'",
     "output_type": "error",
     "traceback": [
      "\u001b[1;31m---------------------------------------------------------------------------\u001b[0m",
      "\u001b[1;31mValueError\u001b[0m                                Traceback (most recent call last)",
      "Cell \u001b[1;32mIn[50], line 5\u001b[0m\n\u001b[0;32m      2\u001b[0m input_a \u001b[38;5;241m=\u001b[39m \u001b[38;5;28minput\u001b[39m(\u001b[38;5;124m\"\u001b[39m\u001b[38;5;124m정수 입력 : \u001b[39m\u001b[38;5;124m\"\u001b[39m)\n\u001b[0;32m      4\u001b[0m \u001b[38;5;66;03m# 숫자로 변환\u001b[39;00m\n\u001b[1;32m----> 5\u001b[0m number_input \u001b[38;5;241m=\u001b[39m \u001b[38;5;28mint\u001b[39m(input_a)\n\u001b[0;32m      7\u001b[0m \u001b[38;5;66;03m# 출력\u001b[39;00m\n\u001b[0;32m      8\u001b[0m \u001b[38;5;28mprint\u001b[39m(number_input)\n",
      "\u001b[1;31mValueError\u001b[0m: invalid literal for int() with base 10: 'hello'"
     ]
    }
   ],
   "source": [
    "# 숫자를 입력 받음\n",
    "input_a = input(\"정수 입력 : \")\n",
    "\n",
    "# 숫자로 변환\n",
    "number_input = int(input_a)\n",
    "\n",
    "# 출력\n",
    "print(number_input)"
   ]
  },
  {
   "cell_type": "code",
   "execution_count": 52,
   "id": "71c5fd4b-f49a-4012-81ae-a7e768cf28ab",
   "metadata": {},
   "outputs": [
    {
     "name": "stdin",
     "output_type": "stream",
     "text": [
      "정수 입력 :  hello\n"
     ]
    },
    {
     "name": "stdout",
     "output_type": "stream",
     "text": [
      "정수를 입력하지 않았습니다\n"
     ]
    }
   ],
   "source": [
    "# 숫자를 입력 받음\n",
    "input_a = input(\"정수 입력 : \")\n",
    "\n",
    "# 사용자의 입력이 숫자로만 구성되어 있을 때\n",
    "if input_a.isdigit(): # isdigit() : 숫자로만 구성된 글자인지 확인\n",
    "    # 숫자로 변환\n",
    "    number_input = int(input_a)\n",
    "    \n",
    "    # 출력\n",
    "    print(number_input)\n",
    "\n",
    "else:\n",
    "    print(\"정수를 입력하지 않았습니다\")"
   ]
  },
  {
   "cell_type": "code",
   "execution_count": null,
   "id": "ff0e6dd5-453a-4b85-a0b8-55e138332964",
   "metadata": {},
   "outputs": [],
   "source": []
  }
 ],
 "metadata": {
  "kernelspec": {
   "display_name": "Python [conda env:base] *",
   "language": "python",
   "name": "conda-base-py"
  },
  "language_info": {
   "codemirror_mode": {
    "name": "ipython",
    "version": 3
   },
   "file_extension": ".py",
   "mimetype": "text/x-python",
   "name": "python",
   "nbconvert_exporter": "python",
   "pygments_lexer": "ipython3",
   "version": "3.12.7"
  }
 },
 "nbformat": 4,
 "nbformat_minor": 5
}
