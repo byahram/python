{
 "cells": [
  {
   "cell_type": "markdown",
   "id": "09620cc9-60ee-4d71-8a5f-568530e4263c",
   "metadata": {},
   "source": [
    "# **라이브러리와 프레임워크**\n",
    "\n",
    "- 라이브러리(library)\n",
    "    - 정상적인 제어를 하는 모듈\n",
    "- 프레임워크(framework)\n",
    "    - 제어 역전이 발생하는 모듈"
   ]
  },
  {
   "cell_type": "markdown",
   "id": "ec98bdb6-96b7-4ebb-aac5-7b7d7e427683",
   "metadata": {},
   "source": [
    "## 제어 역전(IoC; Inversion of Control)"
   ]
  },
  {
   "cell_type": "markdown",
   "id": "b7d2140a-771a-4247-bb4c-ce2fc9c3eb55",
   "metadata": {},
   "source": [
    "### - 라이브러리 = 정상적인 제어\n",
    "\n",
    "- 라이브러리는 모듈의 기능을 개발자가 직접 호출"
   ]
  },
  {
   "cell_type": "code",
   "execution_count": 4,
   "id": "e290b3b8-0ccb-4134-99c9-ee9dc6cd28c7",
   "metadata": {},
   "outputs": [],
   "source": [
    "from math import sin, cos, tan, floor, ceil"
   ]
  },
  {
   "cell_type": "code",
   "execution_count": 6,
   "id": "4fee8b41-0c23-48d0-9e02-aef97cc2960a",
   "metadata": {},
   "outputs": [
    {
     "name": "stdout",
     "output_type": "stream",
     "text": [
      "0.8414709848078965\n",
      "0.5403023058681398\n",
      "1.5574077246549023\n"
     ]
    }
   ],
   "source": [
    "print(sin(1))\n",
    "print(cos(1))\n",
    "print(tan(1))"
   ]
  },
  {
   "cell_type": "code",
   "execution_count": 8,
   "id": "05b0de20-dbbf-4140-a87e-06376da0d61b",
   "metadata": {},
   "outputs": [
    {
     "name": "stdout",
     "output_type": "stream",
     "text": [
      "2\n",
      "3\n"
     ]
    }
   ],
   "source": [
    "print(floor(2.5))\n",
    "print(ceil(2.5))"
   ]
  },
  {
   "cell_type": "markdown",
   "id": "0a279505-c34a-49d0-af3a-9e34c5237a8d",
   "metadata": {},
   "source": [
    "### - 프레임워크\n",
    "\n",
    "- 직접적으로 무언가를 진행하는 코드는 없음"
   ]
  },
  {
   "cell_type": "code",
   "execution_count": 11,
   "id": "a0d43f52-66d5-41c4-a90c-96afb3c67e0b",
   "metadata": {},
   "outputs": [],
   "source": [
    "from flask import Flask"
   ]
  },
  {
   "cell_type": "code",
   "execution_count": null,
   "id": "a14469a8-1bf7-4deb-aa5b-6b1f496aa4b1",
   "metadata": {},
   "outputs": [
    {
     "name": "stdout",
     "output_type": "stream",
     "text": [
      " * Serving Flask app '__main__'\n",
      " * Debug mode: off\n"
     ]
    },
    {
     "name": "stderr",
     "output_type": "stream",
     "text": [
      "WARNING: This is a development server. Do not use it in a production deployment. Use a production WSGI server instead.\n",
      " * Running on http://127.0.0.1:5000\n",
      "Press CTRL+C to quit\n"
     ]
    }
   ],
   "source": [
    "app = Flask(__name__)\n",
    "\n",
    "@app.route(\"/\")\n",
    "def hello():\n",
    "    return \"<h1>Hello World!</h1>\"\n",
    "\n",
    "app.run()"
   ]
  },
  {
   "cell_type": "markdown",
   "id": "d5166d5d-6c80-4ef0-875e-a2a5d449baeb",
   "metadata": {},
   "source": [
    "- Flask 모듈이 제공하는 명령어를 실행하면 코드를 직접 실행하지 않아도 Flask 모듈 내부에서 서버를 실행한 뒤 지정한 파일을 읽어들여 적절한 상황에 스스로 실행\n",
    "    - 모듈이 개발자가 작성한 코드를 실행하는 형태의 모듈을 프레임워크라고 부름\n",
    "- 개발자가 모듈의 함수를 호출하는 것이 일반적인 제어\n",
    "- 반대로 개발자가 만든 함수를 모듈이 실행하는 것이 제어 역전\n",
    "- 제어 역전 여부로 라이브러리와 프레임워크를 구분"
   ]
  },
  {
   "cell_type": "markdown",
   "id": "3232d4d6-091e-4c35-a390-444705dcf2e0",
   "metadata": {},
   "source": [
    "# **모듈 만들기**\n",
    "\n",
    "- 파이썬 파일을 만들고 외부에서 읽어들이게 하면 모듈\n",
    "    - 모듈을 구조화해서 패키지(거대한 모듈)를 만들 수도 있음"
   ]
  },
  {
   "cell_type": "markdown",
   "id": "301bf916-6c6a-4302-9cf3-e969a9a25d81",
   "metadata": {},
   "source": [
    "## \\_\\_name__ == \"\\_\\_main__\""
   ]
  },
  {
   "cell_type": "markdown",
   "id": "b873ef44-3114-485d-98bc-d9bbcb459fe7",
   "metadata": {},
   "source": [
    "### \\_\\_name__\n",
    "\n",
    "- 파이썬 코드 내부에서는 \\_\\_name__ 이라는 변수를 사용할 수 있음\n",
    "- 프로그래밍 언어에서는 프로그램의 진입점을 엔트리 포인트(entry point) 또는 메인(main)이라고 부름\n",
    "    - 메인 내부에서의 \\_\\_name__ 변수의 값은 \"\\_\\_main__\"임"
   ]
  },
  {
   "cell_type": "code",
   "execution_count": null,
   "id": "4cdd817d-06b8-4aa4-9b39-d7c37a4479af",
   "metadata": {},
   "outputs": [],
   "source": [
    "__name__"
   ]
  },
  {
   "cell_type": "markdown",
   "id": "bfd1386f-0986-4915-aa9b-6511639c7c88",
   "metadata": {},
   "source": [
    "### 모듈의 \\_\\_name__\n",
    "\n",
    "- 엔트리 포인트가 아니지만 엔트리 포인트 파일 내에서 import 되었기 때문에 모듈 내의 코드가 실행됨\n",
    "- 모듈 내부에서 \\_\\_name__ 을 출력하면 모듈의 이름을 나타냄"
   ]
  },
  {
   "cell_type": "markdown",
   "id": "9920bfad-491d-49bd-90a3-88d02e7aa87d",
   "metadata": {},
   "source": [
    "### \\_\\_name__ 활용\n",
    "\n",
    "- 엔트리 포인트 파일 내부에서 \\_\\_name__ 이 \"\\_\\_main__\" 이라는 값을 갖는다는 것을 활용해서 현재 파일이 모듈로 실행되고 있는지, 엔트리 포인트로 실행되는지 확인할 수 있음"
   ]
  },
  {
   "cell_type": "markdown",
   "id": "89961a05-570d-4357-a376-4b4bd304ace9",
   "metadata": {},
   "source": [
    "# **패키지**\n",
    "\n",
    "- 모듈이 모여서 구조를 이룬 것\n",
    "- pip는 Python Package Index 의 줄임말로, 패키지 관리 시스템(Package Management System)"
   ]
  },
  {
   "cell_type": "markdown",
   "id": "37273ff8-1433-4087-b2b5-218e12a217e0",
   "metadata": {},
   "source": [
    "## 패키지 만들기\n",
    "\n",
    "- 구성\n",
    "    - module_package(폴더)\n",
    "        - test_package(폴더) : 패키지로 사용할 폴더\n",
    "            - module_a.py\n",
    "            - module_b.py\n",
    "        - main.py : 엔트리 포인트로 사용할 파이썬 파일"
   ]
  },
  {
   "cell_type": "markdown",
   "id": "1c4bce7a-8157-4fe8-a1dc-129aba02f5b2",
   "metadata": {},
   "source": [
    "### \\_\\_init__.py 파일\n",
    "\n",
    "- 패키지를 읽을 때 어떤 처리를 수행해야 하거나 패키지 내부의 모듈들을 한꺼번에 가져오고 싶을 때 패키지 폴더 내부에 \\_\\_init__.py 파일을 만들어 사용\n",
    "\n",
    "- 해당 폴더가 패키지임을 알려주고 패키지와 관련된 초기화 처리를 하는 파일\n",
    "    - \\_\\_all__ 이라는 이름의 리스트를 만들면 이 리스트에 지정한 모듈들이 from 패키지 import * 를 할 때 전부 읽어들여짐"
   ]
  },
  {
   "cell_type": "code",
   "execution_count": null,
   "id": "b20242eb-f2bc-48c1-82d6-30a53e0c0742",
   "metadata": {},
   "outputs": [],
   "source": []
  }
 ],
 "metadata": {
  "kernelspec": {
   "display_name": "Python [conda env:base] *",
   "language": "python",
   "name": "conda-base-py"
  },
  "language_info": {
   "codemirror_mode": {
    "name": "ipython",
    "version": 3
   },
   "file_extension": ".py",
   "mimetype": "text/x-python",
   "name": "python",
   "nbconvert_exporter": "python",
   "pygments_lexer": "ipython3",
   "version": "3.12.7"
  }
 },
 "nbformat": 4,
 "nbformat_minor": 5
}
