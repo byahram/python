{
 "cells": [
  {
   "cell_type": "code",
   "execution_count": 1,
   "id": "b8df7596-e03c-4b2d-aef8-47aa1209c85d",
   "metadata": {},
   "outputs": [
    {
     "name": "stdout",
     "output_type": "stream",
     "text": [
      "166833\n"
     ]
    }
   ],
   "source": [
    "# 1. 1부터 1000까지의 자연수 중 3의 배수의 합 구하기\n",
    "# 166833\n",
    "\n",
    "result = 0\n",
    "\n",
    "for i in range(1, 1001):\n",
    "    if i % 3 == 0:\n",
    "        result += i\n",
    "\n",
    "print(result)"
   ]
  },
  {
   "cell_type": "code",
   "execution_count": 3,
   "id": "a0f4359b-49ef-475c-bee7-5b707ec7d045",
   "metadata": {},
   "outputs": [
    {
     "name": "stdout",
     "output_type": "stream",
     "text": [
      "166833\n"
     ]
    }
   ],
   "source": [
    "result = 0\n",
    "\n",
    "for i in range(3, 1001, 3):\n",
    "    result += i\n",
    "\n",
    "print(result)"
   ]
  },
  {
   "cell_type": "code",
   "execution_count": 5,
   "id": "ba533f59-73b0-40af-bf9f-80c4130cbcfb",
   "metadata": {},
   "outputs": [
    {
     "name": "stdout",
     "output_type": "stream",
     "text": [
      "*\n",
      "**\n",
      "***\n",
      "****\n",
      "*****\n"
     ]
    }
   ],
   "source": [
    "# 2. 계단식으로 별 출력하기\n",
    "# *\n",
    "# **\n",
    "# ***\n",
    "# ****\n",
    "# *****\n",
    "for i in range(1, 6):\n",
    "    print(\"*\" * i)"
   ]
  },
  {
   "cell_type": "code",
   "execution_count": 7,
   "id": "ea6a75c1-a439-4ca7-9ca5-bbd24fe22d77",
   "metadata": {},
   "outputs": [
    {
     "name": "stdout",
     "output_type": "stream",
     "text": [
      "*\n",
      "**\n",
      "***\n",
      "****\n",
      "*****\n"
     ]
    }
   ],
   "source": [
    "for row in range(5):\n",
    "    for col in range(5):\n",
    "        if col <= row:\n",
    "            print(\"*\", end = \"\")\n",
    "    print()"
   ]
  },
  {
   "cell_type": "code",
   "execution_count": 9,
   "id": "a933d636-1b61-499d-90cc-838e37df2e8b",
   "metadata": {},
   "outputs": [
    {
     "name": "stdout",
     "output_type": "stream",
     "text": [
      "*    \n",
      " *   \n",
      "  *  \n",
      "   * \n",
      "    *\n"
     ]
    }
   ],
   "source": [
    "# 3. 대각선으로 별 출력하기\n",
    "# *\n",
    "#  *\n",
    "#   *\n",
    "#    *\n",
    "#     *\n",
    "for row in range(5):\n",
    "    for col in range(5):\n",
    "        if row == col:\n",
    "            print(\"*\", end = \"\")\n",
    "        else:\n",
    "            print(\" \", end = \"\")\n",
    "    print()"
   ]
  },
  {
   "cell_type": "code",
   "execution_count": 11,
   "id": "a4793734-88a3-404a-a169-bf6d78e206c8",
   "metadata": {},
   "outputs": [
    {
     "name": "stdout",
     "output_type": "stream",
     "text": [
      "*\n",
      " *\n",
      "  *\n",
      "   *\n",
      "    *\n"
     ]
    }
   ],
   "source": [
    "for i in range(5):\n",
    "    print(\" \" * i + \"*\")\n",
    "    # print(\" \" * i, end = \"\")\n",
    "    # print(\"*\")"
   ]
  },
  {
   "cell_type": "code",
   "execution_count": 13,
   "id": "8f7f1a47-d9d9-43c5-94ee-8861c7b70798",
   "metadata": {},
   "outputs": [
    {
     "name": "stdout",
     "output_type": "stream",
     "text": [
      "*\n",
      "***\n",
      "*****\n",
      "***\n",
      "*\n"
     ]
    }
   ],
   "source": [
    "# 4. 산 그리기\n",
    "# *\n",
    "# ***\n",
    "# *****\n",
    "# ***\n",
    "# *\n",
    "for i in range(1, 6): # 1 2 3 4 5\n",
    "    if i <= 3:\n",
    "        for _ in range(1, 2 * i): # 1 123 12345\n",
    "            print(\"*\", end = \"\")\n",
    "\n",
    "    else:\n",
    "        for _ in range(1, 12 - (i * 2)): # 123 1\n",
    "            print(\"*\", end = \"\")\n",
    "        \n",
    "    print()"
   ]
  },
  {
   "cell_type": "code",
   "execution_count": 15,
   "id": "5c73f6ae-11db-4da1-aee2-205762b4c1c9",
   "metadata": {},
   "outputs": [
    {
     "name": "stdout",
     "output_type": "stream",
     "text": [
      "50000 - 3\n",
      "10000 - 0\n",
      "5000 - 1\n",
      "1000 - 1\n",
      "500 - 1\n",
      "100 - 2\n",
      "50 - 1\n",
      "10 - 3\n"
     ]
    }
   ],
   "source": [
    "# 5. 화폐매수 구하기\n",
    "a = 156780 # 원\n",
    "b = [50000, 10000, 5000, 1000, 500, 100, 50, 10]\n",
    "# 50000 - 3\n",
    "# 10000 - 0\n",
    "# 5000 - 1\n",
    "# 1000 - 1\n",
    "# 500 - 1\n",
    "# 100 - 2\n",
    "# 50 - 1\n",
    "# 10 - 3\n",
    "\n",
    "for i in b:\n",
    "    n = a // i # 156780 // 50000 => n = 3\n",
    "    a -= n * i # a = 6780\n",
    "    print(f\"{i} - {n}\")"
   ]
  },
  {
   "cell_type": "code",
   "execution_count": 17,
   "id": "de974989-93bf-49a1-a2ed-2db2724e7b87",
   "metadata": {},
   "outputs": [
    {
     "name": "stdout",
     "output_type": "stream",
     "text": [
      "{'name': '기사', 'hp': 200, 'mp': 30, 'level': 5}\n"
     ]
    }
   ],
   "source": [
    "# 6. 두 리스트를 조합해 하나의 딕셔너리를 만들기\n",
    "key_list = [\"name\", \"hp\", \"mp\", \"level\"]\n",
    "value_list = [\"기사\", 200, 30, 5]\n",
    "character = dict()\n",
    "\n",
    "### 코드 작성 란 ###\n",
    "for i in range(len(key_list)):\n",
    "    character[key_list[i]] = value_list[i]\n",
    "\n",
    "###################\n",
    "\n",
    "# 아래의 코드를 실행했을 때\n",
    "# {\"name\" : \"기사\", \"hp\" : 200, \"mp\" : 30, \"level\" : 5} 가 출력되어야 함\n",
    "print(character)"
   ]
  },
  {
   "cell_type": "code",
   "execution_count": 19,
   "id": "3b731e88-34b8-421b-9235-e56ddfa54830",
   "metadata": {},
   "outputs": [
    {
     "name": "stdout",
     "output_type": "stream",
     "text": [
      "['y1', 'y2']\n",
      "['123', '234']\n"
     ]
    }
   ],
   "source": [
    "# 7. 반복문을 이용하여 name 과 data를 각각 리스트에 담기\n",
    "# 예) [\"y1\", \"y2\"]\n",
    "# [\"123\", \"234\"]\n",
    "q7 = [{\"name\":\"y1\",\"data\":\"123\"}, {\"name\":\"y2\",\"data\":\"234\"}]\n",
    "\n",
    "name = []\n",
    "data = []\n",
    "\n",
    "for i in q7:\n",
    "    name.append(i[\"name\"])\n",
    "    data.append(i[\"data\"])\n",
    "\n",
    "print(name)\n",
    "print(data)"
   ]
  },
  {
   "cell_type": "code",
   "execution_count": 21,
   "id": "fea73c93-feb4-486c-9517-1c394a34f68f",
   "metadata": {},
   "outputs": [
    {
     "name": "stdout",
     "output_type": "stream",
     "text": [
      "['a386', 'a383']\n",
      "['123', '123']\n",
      "[34, 36]\n"
     ]
    }
   ],
   "source": [
    "# 8. 반복문을 이용하여 id, name, age를 각각 리스트에 담기\n",
    "q8 = {\"ret\":{\"id\":\"a386\",\"name\":\"123\",\"age\":34},\"ret1\":{\"id\":\"a383\",\"name\":\"123\",\"age\":36}}\n",
    "\n",
    "id_list = []\n",
    "name = []\n",
    "age = []\n",
    "\n",
    "for i in q8:\n",
    "    id_list.append(q8[i][\"id\"])\n",
    "    name.append(q8[i][\"name\"])\n",
    "    age.append(q8[i][\"age\"])\n",
    "\n",
    "print(id_list)\n",
    "print(name)\n",
    "print(age)"
   ]
  },
  {
   "cell_type": "code",
   "execution_count": 23,
   "id": "af63d007-3687-41d8-802d-61bfcc51389d",
   "metadata": {},
   "outputs": [
    {
     "name": "stdout",
     "output_type": "stream",
     "text": [
      "['a2001', 'a2002', 'a2003', 'a2004', 'a2005', 'a2006', 'a2007']\n",
      "['123', '123', '123', '123', '123', '123', '123']\n",
      "[34, 54, 36, 38, 17, 52, 33]\n"
     ]
    }
   ],
   "source": [
    "# 9. id, name, age를 각각 리스트에 담기\n",
    "q9 = {\"ret\":[{\"id\":\"a2001\",\"name\":\"123\",\"age\":34},{\"id\":\"a2002\",\"name\":\"123\",\"age\":54},{\"id\":\"a2003\",\"name\":\"123\",\"age\":36},{\"id\":\"a2004\",\"name\":\"123\",\"age\":38}],\"ret1\":[{\"id\":\"a2005\",\"name\":\"123\",\"age\":17},{\"id\":\"a2006\",\"name\":\"123\",\"age\":52},{\"id\":\"a2007\",\"name\":\"123\",\"age\":33}]}\n",
    "\n",
    "id_list = []\n",
    "name = []\n",
    "age = []\n",
    "\n",
    "# print(q9[\"ret\"][0][\"id\"])\n",
    "# print(q9[\"ret\"][1][\"id\"])\n",
    "# print(q9[\"ret1\"][0][\"id\"])\n",
    "# print(q9[\"ret1\"][1][\"id\"])\n",
    "\n",
    "for key in q9:\n",
    "    for dic in q9[key]:\n",
    "        id_list.append(dic[\"id\"])\n",
    "        name.append(dic[\"name\"])\n",
    "        age.append(dic[\"age\"])\n",
    "\n",
    "print(id_list)\n",
    "print(name)\n",
    "print(age)"
   ]
  },
  {
   "cell_type": "code",
   "execution_count": 25,
   "id": "9f00d28c-f0a4-4960-96c9-af1614e4ce9a",
   "metadata": {},
   "outputs": [
    {
     "name": "stdout",
     "output_type": "stream",
     "text": [
      "['id1', 'id2', 'id3', 'id4', 'id5']\n",
      "['가나다1', '가나다2', '가나다3', '가나다4', '가나다5']\n",
      "[31, 32, 33, 34, 35]\n"
     ]
    }
   ],
   "source": [
    "# 10. id, name, age를 각각 리스트에 담기\n",
    "q10 = {\"ret\":\"y\",\"data\":[{\"id\":\"id1\",\"name\":\"가나다1\",\"age\":31},{\"id\":\"id2\",\"name\":\"가나다2\",\"age\":32},{\"id\":\"id3\",\"name\":\"가나다3\",\"age\":33},{\"id\":\"id4\",\"name\":\"가나다4\",\"age\":34},{\"id\":\"id5\",\"name\":\"가나다5\",\"age\":35}]}\n",
    "\n",
    "id_list = []\n",
    "name = []\n",
    "age = []\n",
    "\n",
    "for i in q10[\"data\"]:\n",
    "    id_list.append(i[\"id\"])\n",
    "    name.append(i[\"name\"])\n",
    "    age.append(i[\"age\"])\n",
    "\n",
    "print(id_list)\n",
    "print(name)\n",
    "print(age)"
   ]
  },
  {
   "cell_type": "code",
   "execution_count": null,
   "id": "fe59947b-29b2-440b-9e66-86b9fbf45095",
   "metadata": {},
   "outputs": [],
   "source": []
  }
 ],
 "metadata": {
  "kernelspec": {
   "display_name": "Python [conda env:base] *",
   "language": "python",
   "name": "conda-base-py"
  },
  "language_info": {
   "codemirror_mode": {
    "name": "ipython",
    "version": 3
   },
   "file_extension": ".py",
   "mimetype": "text/x-python",
   "name": "python",
   "nbconvert_exporter": "python",
   "pygments_lexer": "ipython3",
   "version": "3.12.7"
  }
 },
 "nbformat": 4,
 "nbformat_minor": 5
}
