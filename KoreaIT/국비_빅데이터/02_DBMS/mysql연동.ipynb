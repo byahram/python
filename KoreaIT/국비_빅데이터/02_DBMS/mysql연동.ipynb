{
 "cells": [
  {
   "cell_type": "markdown",
   "id": "52337a87-e737-424d-9a29-70f5ef2b2858",
   "metadata": {},
   "source": [
    "# **파이썬과 MySQL의 연동**\n",
    "\n",
    "- pymysql 라이브러리를 이용하면 파이썬과 MySQL을 연동하는 데이터베이스 연동 프로그램을 작성할 수 있음"
   ]
  },
  {
   "cell_type": "markdown",
   "id": "ed5f97e5-f1a8-4e63-90bb-af0936e2664b",
   "metadata": {},
   "source": [
    "## 파이썬에서 데이터 입력\n",
    "\n",
    "1. mysql 연결하기\n",
    "    - 연결자 = pymysql.connect(연결옵션)\n",
    "2. 커서 생성하기\n",
    "    - 커서이름 = 연결자.cursor()\n",
    "3. 테이블 만들기\n",
    "    - 커서이름.execute(\"CREATE TABLE 문장\")\n",
    "4. 데이터 입력하기\n",
    "    - 커서이름.execute(\"INSERT 문장\")\n",
    "5. 입력한 데이터 저장하기\n",
    "    - 연결자.commit()\n",
    "6. mysql 연결 종료하기\n",
    "    - 연결자.close()"
   ]
  },
  {
   "cell_type": "markdown",
   "id": "68fb7423-7726-4bd2-b9f8-eb6ae67de915",
   "metadata": {},
   "source": [
    "### - mysql 연결\n",
    "\n",
    "```\n",
    "pymysql.connect(host = 서버IP주소, user = 사용자, password = 암호, db = 데이터베이스, charset = 문자세트, port = 포트번호)\n",
    "```"
   ]
  },
  {
   "cell_type": "code",
   "execution_count": 1,
   "id": "869eb2be-d597-4c03-bfe5-06627ac1565e",
   "metadata": {},
   "outputs": [],
   "source": [
    "# pip install pymysql\n",
    "import pymysql"
   ]
  },
  {
   "cell_type": "code",
   "execution_count": 2,
   "id": "80347e2e-8820-4fcf-95a9-c395a4eccf67",
   "metadata": {},
   "outputs": [],
   "source": [
    "conn = pymysql.connect(host = \"127.0.0.1\", user = \"root\", password = \"0000\", db = \"market_db\")"
   ]
  },
  {
   "cell_type": "markdown",
   "id": "1d88da88-d50c-4240-b20e-5243239c83f4",
   "metadata": {},
   "source": [
    "- conn : 연결자를 의미하는 connection의 약자\n",
    "    - 관습적으로 conn 또는 con 이라는 변수명을 사용함"
   ]
  },
  {
   "cell_type": "markdown",
   "id": "1ef5b2c9-18b8-433b-a58a-7c8fe95568ea",
   "metadata": {},
   "source": [
    "### - 커서 생성\n",
    "\n",
    "- 커서(cursor) : 데이터베이스에 sql문을 실행하거나 실행된 결과를 받는 통로\n",
    "- 커서는 앞 단계에서 연결한 연결자에 만들어야 함"
   ]
  },
  {
   "cell_type": "code",
   "execution_count": 3,
   "id": "d2624007-39ac-4b18-811f-c068f19e0c53",
   "metadata": {},
   "outputs": [],
   "source": [
    "cur = conn.cursor()"
   ]
  },
  {
   "cell_type": "markdown",
   "id": "98db06a7-7dad-41ef-93a9-4c0e0f588b9b",
   "metadata": {},
   "source": [
    "### - 테이블 생성\n",
    "\n",
    "- 테이블을 생성하는 sql문을 커서이름.execute() 함수의 매개변수로 전달"
   ]
  },
  {
   "cell_type": "code",
   "execution_count": 4,
   "id": "2c55af21-56a7-42b0-853e-eed1f26d9777",
   "metadata": {},
   "outputs": [
    {
     "data": {
      "text/plain": [
       "0"
      ]
     },
     "execution_count": 4,
     "metadata": {},
     "output_type": "execute_result"
    }
   ],
   "source": [
    "cur.execute(\"\"\"CREATE TABLE user_table (id char(4), user_name char(15), email char(20),\n",
    "            birth_year int)\"\"\")"
   ]
  },
  {
   "cell_type": "markdown",
   "id": "4546a23b-2c27-4226-abdc-a04d589356bf",
   "metadata": {},
   "source": [
    "### - 데이터 입력"
   ]
  },
  {
   "cell_type": "code",
   "execution_count": 5,
   "id": "13c5d97b-42e6-4709-916c-4081f9a4440d",
   "metadata": {},
   "outputs": [
    {
     "data": {
      "text/plain": [
       "1"
      ]
     },
     "execution_count": 5,
     "metadata": {},
     "output_type": "execute_result"
    }
   ],
   "source": [
    "cur.execute(\"\"\"INSERT INTO user_table VALUES \n",
    "    (\"hong\", \"홍지윤\", \"hong@naver.com\", 1996)\"\"\")\n",
    "\n",
    "cur.execute(\"\"\"INSERT INTO user_table VALUES \n",
    "    (\"kim\", \"김태연\", \"kim@daum.net\", 2011)\"\"\")\n",
    "\n",
    "cur.execute(\"\"\"INSERT INTO user_table VALUES \n",
    "    (\"star\", \"별사랑\", \"star@paran.com\", 1990)\"\"\")"
   ]
  },
  {
   "cell_type": "markdown",
   "id": "0c74de55-e354-4658-a273-5453b4f8fa0c",
   "metadata": {},
   "source": [
    "### - 입력한 데이터 저장\n",
    "\n",
    "- 앞 단계에서 입력한 데이터가 아직 데이터베이스에 완전히 반영되지 않았음\n",
    "- 현재까지의 입력 데이터를 완전히 데이터베이스에 반영하는 커밋을 해야함"
   ]
  },
  {
   "cell_type": "code",
   "execution_count": 6,
   "id": "0b61d944-3443-402e-a4ae-50c5a9fafecb",
   "metadata": {},
   "outputs": [],
   "source": [
    "conn.commit()"
   ]
  },
  {
   "cell_type": "markdown",
   "id": "1bb11dfb-a431-42ed-b7d3-6a4cf10945c1",
   "metadata": {},
   "source": [
    "### - 연결 종료\n",
    "\n",
    "- 데이터베이스 사용 후에는 연결자를 닫아줘야 함"
   ]
  },
  {
   "cell_type": "code",
   "execution_count": 7,
   "id": "14168a7c-1246-4e6c-9c52-40986f0f38f9",
   "metadata": {},
   "outputs": [],
   "source": [
    "conn.close()"
   ]
  },
  {
   "cell_type": "markdown",
   "id": "4fbcbb73-0aec-417d-a79c-f783f8aa89ee",
   "metadata": {},
   "source": [
    "# **연동 프로그래밍 활용**"
   ]
  },
  {
   "cell_type": "code",
   "execution_count": 9,
   "id": "d5032270-e484-407e-b7b3-2c352597fe84",
   "metadata": {},
   "outputs": [
    {
     "name": "stdin",
     "output_type": "stream",
     "text": [
      "사용자 ID ==>  yang\n",
      "사용자 이름 ==>  양지은\n",
      "사용자 이메일 ==>  yang@gmail.com\n",
      "사용자 출생연도 ==>  1993\n"
     ]
    }
   ],
   "source": [
    "conn = pymysql.connect(host = \"127.0.0.1\", user = \"root\", password = \"0000\", db = \"market_db\")\n",
    "\n",
    "cur = conn.cursor()\n",
    "\n",
    "user_id = input(\"사용자 ID ==> \")\n",
    "user_name = input(\"사용자 이름 ==> \")\n",
    "user_email = input(\"사용자 이메일 ==> \")\n",
    "user_birth = input(\"사용자 출생연도 ==> \")\n",
    "\n",
    "sql = f\"\"\"INSERT INTO user_table VALUES\n",
    "    ('{user_id}', '{user_name}', '{user_email}', {int(user_birth)})\"\"\"\n",
    "\n",
    "cur.execute(sql)\n",
    "\n",
    "conn.commit()\n",
    "conn.close()"
   ]
  },
  {
   "cell_type": "markdown",
   "id": "321ed894-14bb-4990-a9af-e32e7e4fde15",
   "metadata": {},
   "source": [
    "## 데이터 조회\n",
    "\n",
    "1. mysql 연결\n",
    "    - 연결자 = pymysql.connect(연결 옵션)\n",
    "2. 커서 생성\n",
    "    - 커서이름 = 연결자.cursor()\n",
    "3. 데이터 조회\n",
    "    - 커서이름.execute(\"SELECT 문장\")\n",
    "4. 조회한 데이터 출력\n",
    "    - 커서이름.fetchone()\n",
    "    - 커서이름.fetchall()\n",
    "5. mysql 연결 종료\n",
    "    - 연결자.close()\n",
    "- 조회는 데이터를 입력하거나 변경하는 것이 아니므로 굳이 저장(커밋)을 할 필요는 없음"
   ]
  },
  {
   "cell_type": "code",
   "execution_count": 14,
   "id": "dc462c65-7e48-4cb4-9e1c-fd257ecc41d8",
   "metadata": {},
   "outputs": [
    {
     "name": "stdout",
     "output_type": "stream",
     "text": [
      "사용자ID\t사용자이름\t이메일\t출생연도\n",
      "----------------------------------------\n",
      "hong\t홍지윤\thong@naver.com\t1996\n",
      "kim\t김태연\tkim@daum.net\t2011\n",
      "star\t별사랑\tstar@paran.com\t1990\n",
      "yang\t양지은\tyang@gmail.com\t1993\n"
     ]
    }
   ],
   "source": [
    "conn = pymysql.connect(host = \"127.0.0.1\", user = \"root\", password = \"0000\", db = \"market_db\")\n",
    "\n",
    "cur = conn.cursor()\n",
    "\n",
    "cur.execute(\"\"\"SELECT * FROM user_table\"\"\")\n",
    "\n",
    "print(\"사용자ID\\t사용자이름\\t이메일\\t출생연도\")\n",
    "print(\"-\" * 40)\n",
    "\n",
    "while True:\n",
    "    row = cur.fetchone()\n",
    "    \n",
    "    if row == None:\n",
    "        break\n",
    "\n",
    "    print(f\"{row[0]}\\t{row[1]}\\t{row[2]}\\t{row[3]}\")\n",
    "\n",
    "conn.close()"
   ]
  },
  {
   "cell_type": "code",
   "execution_count": 15,
   "id": "b2f85add-1b62-495e-8217-695485ebb6da",
   "metadata": {},
   "outputs": [
    {
     "name": "stdout",
     "output_type": "stream",
     "text": [
      "사용자ID\t사용자이름\t이메일\t출생연도\n",
      "----------------------------------------\n",
      "hong\t홍지윤\thong@naver.com\t1996\n",
      "kim\t김태연\tkim@daum.net\t2011\n",
      "star\t별사랑\tstar@paran.com\t1990\n",
      "yang\t양지은\tyang@gmail.com\t1993\n"
     ]
    }
   ],
   "source": [
    "conn = pymysql.connect(host = \"127.0.0.1\", user = \"root\", password = \"0000\", db = \"market_db\")\n",
    "\n",
    "cur = conn.cursor()\n",
    "\n",
    "cur.execute(\"\"\"SELECT * FROM user_table\"\"\")\n",
    "\n",
    "print(\"사용자ID\\t사용자이름\\t이메일\\t출생연도\")\n",
    "print(\"-\" * 40)\n",
    "\n",
    "row = cur.fetchall()\n",
    "\n",
    "for i in row:\n",
    "    print(f\"{i[0]}\\t{i[1]}\\t{i[2]}\\t{i[3]}\")\n",
    "\n",
    "conn.close()"
   ]
  },
  {
   "cell_type": "code",
   "execution_count": 16,
   "id": "c3994fc6-4839-4f60-a6a8-4795de49a46e",
   "metadata": {},
   "outputs": [
    {
     "data": {
      "text/plain": [
       "(('hong', '홍지윤', 'hong@naver.com', 1996),\n",
       " ('kim', '김태연', 'kim@daum.net', 2011),\n",
       " ('star', '별사랑', 'star@paran.com', 1990),\n",
       " ('yang', '양지은', 'yang@gmail.com', 1993))"
      ]
     },
     "execution_count": 16,
     "metadata": {},
     "output_type": "execute_result"
    }
   ],
   "source": [
    "row"
   ]
  },
  {
   "cell_type": "code",
   "execution_count": 17,
   "id": "0ccad89a-94f4-462e-a077-2a5f1df395e5",
   "metadata": {},
   "outputs": [
    {
     "data": {
      "text/plain": [
       "tuple"
      ]
     },
     "execution_count": 17,
     "metadata": {},
     "output_type": "execute_result"
    }
   ],
   "source": [
    "type(row)"
   ]
  },
  {
   "cell_type": "markdown",
   "id": "1140fefc-68f1-4a7b-9827-2d30e0abb657",
   "metadata": {},
   "source": [
    "# **with문**"
   ]
  },
  {
   "cell_type": "code",
   "execution_count": 18,
   "id": "dd969da7-1d93-497c-a148-cbd886e15225",
   "metadata": {},
   "outputs": [
    {
     "name": "stdout",
     "output_type": "stream",
     "text": [
      "사용자ID\t사용자이름\t이메일\t출생연도\n",
      "----------------------------------------\n",
      "hong\t홍지윤\thong@naver.com\t1996\n",
      "kim\t김태연\tkim@daum.net\t2011\n",
      "star\t별사랑\tstar@paran.com\t1990\n",
      "yang\t양지은\tyang@gmail.com\t1993\n"
     ]
    }
   ],
   "source": [
    "with pymysql.connect(host = \"127.0.0.1\", user = \"root\", password = \"0000\",\n",
    "                     db = \"market_db\") as conn:\n",
    "    with conn.cursor() as cur:\n",
    "        sql = '''SELECT * FROM user_table'''\n",
    "        cur.execute(sql)\n",
    "\n",
    "        print(\"사용자ID\\t사용자이름\\t이메일\\t출생연도\")\n",
    "        print(\"-\" * 40)\n",
    "        \n",
    "        row = cur.fetchall()\n",
    "        \n",
    "        for i in row:\n",
    "            print(f\"{i[0]}\\t{i[1]}\\t{i[2]}\\t{i[3]}\")"
   ]
  },
  {
   "cell_type": "code",
   "execution_count": null,
   "id": "1486030a-5fde-4f1b-bf04-f408b4426d91",
   "metadata": {},
   "outputs": [],
   "source": []
  }
 ],
 "metadata": {
  "kernelspec": {
   "display_name": "Python [conda env:base] *",
   "language": "python",
   "name": "conda-base-py"
  },
  "language_info": {
   "codemirror_mode": {
    "name": "ipython",
    "version": 3
   },
   "file_extension": ".py",
   "mimetype": "text/x-python",
   "name": "python",
   "nbconvert_exporter": "python",
   "pygments_lexer": "ipython3",
   "version": "3.12.7"
  }
 },
 "nbformat": 4,
 "nbformat_minor": 5
}
