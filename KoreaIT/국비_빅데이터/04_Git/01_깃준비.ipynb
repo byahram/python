{
 "cells": [
  {
   "cell_type": "markdown",
   "id": "9cab2327-5549-49ec-9420-f8aaf384cf7e",
   "metadata": {},
   "source": [
    "# 깃을 사용하는 이유"
   ]
  },
  {
   "cell_type": "markdown",
   "id": "49350ab9-4bd6-46ac-9686-e6dcf44be70d",
   "metadata": {},
   "source": [
    "1. 변경내역 확인\n",
    "    - 파일을 저장하게 되면 이전에 저장된 내용에서 현재 내용으로 덮어쓰게 됨\n",
    "        - 즉, 저장된 파일은 항상 최신의 상태만 갖게 됨\n",
    "        - 이런 방식으로는 현재 저장된 내용이 이전에 비해 무엇이 달라졌는지 알기 어려움(변경내역을 추적하기가 어려움)\n",
    "    - 매번 다른 이름으로 따로 파일을 저장하여 관리한다면 저장 공간의 낭비도 심하고 실수가 일어나기 쉬움"
   ]
  },
  {
   "cell_type": "markdown",
   "id": "502bc98e-965c-4690-9b95-62311d8416da",
   "metadata": {},
   "source": [
    "2. 롤백\n",
    "    - 파일을 덮어쓰거나 다른 이름으로 저장하는 방식으로는 과거의 특정 시점으로 파일을 되돌리기 어려움\n",
    "    - 수정한 코드에 문제가 생기거나 사용자 반응이 좋지 않은 등 여러 문제로 이전의 모습으로 돌려야 하는 경우가 있을 수 있음"
   ]
  },
  {
   "cell_type": "markdown",
   "id": "d0ce130b-2a77-462d-bf5e-e56f93c85498",
   "metadata": {},
   "source": [
    "3. 협력\n",
    "    - 대부분 소프트웨어는 여러 개발자가 협업하여 개발\n",
    "        - 예) 메뉴, 결제 기능, 로그인 기능을 각자 개발하여 합침\n",
    "    - 이 때 모두가 작업한 파일을 덮어쓰는 방식으로 저장하면 서로의 작업 내역을 합치기 매우 어려움"
   ]
  },
  {
   "cell_type": "markdown",
   "id": "5940ca94-77f2-4f9b-b6fd-d3b3a58e60fc",
   "metadata": {},
   "source": [
    "# 버전과 버전 관리"
   ]
  },
  {
   "cell_type": "markdown",
   "id": "881d439f-11f6-4a8c-991e-794ee82e0262",
   "metadata": {},
   "source": [
    "- 버전\n",
    "    - 새로운 기능이 추가되거나 크고 작은 버그가 수정되는 등 기존과는 다른 유의미한 변화가 결과물로 나온 것"
   ]
  },
  {
   "cell_type": "markdown",
   "id": "6ab200d0-6b93-4bd2-8a81-aaa01e1fd107",
   "metadata": {},
   "source": [
    "- 버전 관리\n",
    "    - 유의미한 변화를 쌓아 올리며 소프트웨어를 만들어 나가는 과정\n",
    "        - 누가, 어떻게 변경했는지 변경 내역들을 기억하며\n",
    "        - 필요한 경우 특정 시점의 버전으로 되돌리며\n",
    "        - 여러 명이 협업하는 과정에서 코드를 쉽게 나누고 합치며\n",
    "        - 개발하는 것"
   ]
  },
  {
   "cell_type": "markdown",
   "id": "67f589e2-989b-44c6-8707-c05ec48e1090",
   "metadata": {},
   "source": [
    "# 깃, 소스트리, 깃허브"
   ]
  },
  {
   "cell_type": "markdown",
   "id": "d1106dec-bddd-460f-8781-b190de38d6ba",
   "metadata": {},
   "source": [
    "- 깃\n",
    "    - 버전 관리를 도와주는 소프트웨어\n",
    "    - 버전 관리 시스템(Version Control System, VCS)"
   ]
  },
  {
   "cell_type": "markdown",
   "id": "93d82b83-01d1-49d6-ae12-6a68b9521cfd",
   "metadata": {},
   "source": [
    "- 소스트리\n",
    "    - 깃은 편리하지만 모든 깃 명령어와 옵션을 숙지하거나 시각적으로 와닿지 않는 명령 줄 인터페이스를 이용하는 과정이 어려움\n",
    "    - 그래서 아틀라시안이라는 회사에서 깃을 직관적이고 편리하게 사용할 수 있도록 소스트리를 개발\n",
    " \n"
   ]
  },
  {
   "cell_type": "markdown",
   "id": "9a228744-068e-4c3e-86f9-7f3c93713ea4",
   "metadata": {},
   "source": [
    "- 깃허브\n",
    "    - 원격 저장소 호스팅 서비스\n",
    "    - 깃으로 버전 관리한 프로젝트를 깃허브에 업로드할 수 있고, 깃허브에 업로드한 프로젝트에 새 버전을 추가할 수도 있음"
   ]
  },
  {
   "cell_type": "markdown",
   "id": "b0488014-2dd8-4044-9220-8bf871e128fc",
   "metadata": {},
   "source": [
    "# 소스트리"
   ]
  },
  {
   "cell_type": "markdown",
   "id": "9d0cf7fd-8710-44fb-a2f3-057df7c9c511",
   "metadata": {},
   "source": [
    "- 설치 후 create repository\n",
    "    - 해당 경로에 .git 숨김 폴더가 생성됐다면 성공\n",
    "    - 해당 공간이 '버전이 관리되는 공간'"
   ]
  },
  {
   "cell_type": "code",
   "execution_count": null,
   "id": "9d70dc93-be49-48bd-aff1-d62232112451",
   "metadata": {},
   "outputs": [],
   "source": []
  }
 ],
 "metadata": {
  "kernelspec": {
   "display_name": "Python [conda env:base] *",
   "language": "python",
   "name": "conda-base-py"
  },
  "language_info": {
   "codemirror_mode": {
    "name": "ipython",
    "version": 3
   },
   "file_extension": ".py",
   "mimetype": "text/x-python",
   "name": "python",
   "nbconvert_exporter": "python",
   "pygments_lexer": "ipython3",
   "version": "3.12.7"
  }
 },
 "nbformat": 4,
 "nbformat_minor": 5
}
