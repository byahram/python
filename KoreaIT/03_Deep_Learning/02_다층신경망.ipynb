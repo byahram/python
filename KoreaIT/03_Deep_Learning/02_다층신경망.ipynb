{
 "cells": [
  {
   "cell_type": "markdown",
   "id": "143a341d-d3c1-4b39-9f2d-563106a681ef",
   "metadata": {},
   "source": [
    "# 02. 다층신경망"
   ]
  },
  {
   "cell_type": "code",
   "execution_count": 2,
   "id": "10c184c9-1090-440f-bc5d-3ba44908292b",
   "metadata": {},
   "outputs": [],
   "source": [
    "from tensorflow import keras\n",
    "from sklearn.model_selection import train_test_split"
   ]
  },
  {
   "cell_type": "code",
   "execution_count": 3,
   "id": "5ec1cbf5-66c4-4562-b8fa-a9498bf72585",
   "metadata": {},
   "outputs": [],
   "source": [
    "(x_train, y_train), (x_test, y_test) = keras.datasets.fashion_mnist.load_data()"
   ]
  },
  {
   "cell_type": "markdown",
   "id": "87b09466-8cde-4117-892e-3dacc15a31c6",
   "metadata": {},
   "source": [
    "## 1. 데이터 전처리\n",
    "\n",
    "- 픽셀값을 0 ~ 1 사이로 스테일링\n",
    "- 2차원 배열을 1차원 배열로 변환\n",
    "- 훈련, 검증 나누기"
   ]
  },
  {
   "cell_type": "code",
   "execution_count": 5,
   "id": "e1b6df0e-d0c0-48a6-a9fb-716a9380e35f",
   "metadata": {},
   "outputs": [],
   "source": [
    "scaled_train = x_train / 255\n",
    "scaled_train = scaled_train.reshape(-1, 28 * 28)\n",
    "scaled_train, scaled_val, y_train, y_test = train_test_split(scaled_train, y_train,\n",
    "                                                             test_size = 0.2,\n",
    "                                                             stratify = y_train, random_state = 26)"
   ]
  },
  {
   "cell_type": "markdown",
   "id": "1e61269b-aaba-4e5b-9e8c-e0afd104c01b",
   "metadata": {},
   "source": [
    "## 2. 심층 신경망(Deep Neural Network) 구성\n",
    "\n",
    "- 인공신경망에 층을 추가한 구조\n",
    "\n",
    "<img src=\"./image/ml_perceptron.png\" />"
   ]
  },
  {
   "cell_type": "markdown",
   "id": "afda3a6e-2ff5-4b1f-a798-d778fab86231",
   "metadata": {},
   "source": [
    "- 단층신경망과의 차이는 입력층과 출력층 사이에 밀집층이 추가된 것\n",
    "    - 입력층과 출력층 사이에 있는 모든 층을 은닉층(hidden layer)라고 부름"
   ]
  },
  {
   "cell_type": "markdown",
   "id": "ee523ab4-f284-4144-9e43-d79b9288efed",
   "metadata": {},
   "source": [
    "### 2.1 활성화 함수 (Activation Function)\n",
    "\n",
    "- 활성화 함수를 쓰는 이유\n",
    "    - 예) a x 4 + 2 = b\n",
    "    - b x 3 - 5 = c\n",
    "    - 위 2개의 식은 a x 12 + 1 = c로 단순화가 가능\n",
    "- 은닉층이 선형적인 산술계산만 한다면 층이 깊어지더라도 계산식이 단순화되어 학습 효율이 떨어짐\n",
    "    - 따라서 활성화함수로 선형계산을 비선형 계산으로 비틀어주는 과정이 필요\n",
    "\n",
    "<img src=\"./image/activation.jpg\" />"
   ]
  },
  {
   "cell_type": "markdown",
   "id": "17a12474-12c9-4a42-9e20-92e7fe46db6f",
   "metadata": {},
   "source": [
    "- 출력층에 적용하는 활성화 함수와 은닉층에 적용하는 활성화 함수는 차이가 있음\n",
    "    - 출력층의 활성화 함수\n",
    "        - 출력층 함수라고도 부름\n",
    "        - 결과물을 적절한 형식으로 출력하도록 유도해서, 데이터셋과 잘 비교할 수 있도록 하는 역할\n",
    "        - 종류에 제한이 있음(이진 분류: 시그모이드, 다중 분류: 소프트맥스)\n",
    "    - 은닉층의 활성화 함수\n",
    "        - 여러 겹의 layer들 사이에서 사용됨\n",
    "        - 출력층 함수에 비해 선택이 자유로움\n",
    "        - 대표적인 활성화 함수 : ReLU(렐루)\n",
    "        - 모든 신경망의 은닉층에는 항상 활성화 함수가 있음"
   ]
  },
  {
   "cell_type": "code",
   "execution_count": 13,
   "id": "f58e6313-e413-41c2-8f89-cbc2ab2a7549",
   "metadata": {},
   "outputs": [],
   "source": [
    "# 입력층\n",
    "inputs = keras.Input(shape = (784,))\n",
    "\n",
    "# 은닉층\n",
    "dense1 = keras.layers.Dense(100, activation = \"sigmoid\")\n",
    "\n",
    "# 출력층\n",
    "dense2 = keras.layers.Dense(10, activation = \"softmax\")"
   ]
  },
  {
   "cell_type": "markdown",
   "id": "d55d9ac1-95ed-4b93-b76e-43a83eb0f1d5",
   "metadata": {},
   "source": [
    "### 2.2 은닉층(dense1)\n",
    "\n",
    "- 은닉층\n",
    "- 100개의 유닛을 가진 밀집층\n",
    "    - 유닛 개수를 정하는 것은 특별한 기준이 없음\n",
    "    - 다만, 출력층의 유닛보다는 많게 하는 것을 추천\n",
    "        - 은닉층의 유닛이 출력층보다 적다면 전달되는 정보량이 부족해질 수 있음\n",
    "- 활성화 함수는 시그모이드"
   ]
  },
  {
   "cell_type": "markdown",
   "id": "d4fc7cbf-ba25-481e-8c4e-57032ec42a4b",
   "metadata": {},
   "source": [
    "### 2.3 출력층(dense2)\n",
    "\n",
    "- 출력층\n",
    "- 10개의 클래스로 분류하므로 10개의 유닛\n",
    "- 다중 분류이기 때문에 화성화 함수는 소프트맥스"
   ]
  },
  {
   "cell_type": "code",
   "execution_count": 17,
   "id": "2113b69d-cfa6-445b-b2bc-7d2e0984fee5",
   "metadata": {},
   "outputs": [],
   "source": [
    "model = keras.Sequential()"
   ]
  },
  {
   "cell_type": "markdown",
   "id": "9356bb24-3575-43e3-a165-3a6b2d83f06f",
   "metadata": {},
   "source": [
    "- 가장 처음 등장하는 입력층부터 마지막 출력층까지 순서대로 추가해야함"
   ]
  },
  {
   "cell_type": "code",
   "execution_count": 20,
   "id": "067588dd-0333-49bb-a8e3-e3c6aa0db7de",
   "metadata": {},
   "outputs": [],
   "source": [
    "model.add(inputs)\n",
    "model.add(dense1)\n",
    "model.add(dense2)"
   ]
  },
  {
   "cell_type": "code",
   "execution_count": 22,
   "id": "5f1242fb-53e0-4c01-b980-6327862b3857",
   "metadata": {},
   "outputs": [
    {
     "data": {
      "text/html": [
       "<pre style=\"white-space:pre;overflow-x:auto;line-height:normal;font-family:Menlo,'DejaVu Sans Mono',consolas,'Courier New',monospace\"><span style=\"font-weight: bold\">Model: \"sequential\"</span>\n",
       "</pre>\n"
      ],
      "text/plain": [
       "\u001b[1mModel: \"sequential\"\u001b[0m\n"
      ]
     },
     "metadata": {},
     "output_type": "display_data"
    },
    {
     "data": {
      "text/html": [
       "<pre style=\"white-space:pre;overflow-x:auto;line-height:normal;font-family:Menlo,'DejaVu Sans Mono',consolas,'Courier New',monospace\">┏━━━━━━━━━━━━━━━━━━━━━━━━━━━━━━━━━━━━━━┳━━━━━━━━━━━━━━━━━━━━━━━━━━━━━┳━━━━━━━━━━━━━━━━━┓\n",
       "┃<span style=\"font-weight: bold\"> Layer (type)                         </span>┃<span style=\"font-weight: bold\"> Output Shape                </span>┃<span style=\"font-weight: bold\">         Param # </span>┃\n",
       "┡━━━━━━━━━━━━━━━━━━━━━━━━━━━━━━━━━━━━━━╇━━━━━━━━━━━━━━━━━━━━━━━━━━━━━╇━━━━━━━━━━━━━━━━━┩\n",
       "│ dense (<span style=\"color: #0087ff; text-decoration-color: #0087ff\">Dense</span>)                        │ (<span style=\"color: #00d7ff; text-decoration-color: #00d7ff\">None</span>, <span style=\"color: #00af00; text-decoration-color: #00af00\">100</span>)                 │          <span style=\"color: #00af00; text-decoration-color: #00af00\">78,500</span> │\n",
       "├──────────────────────────────────────┼─────────────────────────────┼─────────────────┤\n",
       "│ dense_1 (<span style=\"color: #0087ff; text-decoration-color: #0087ff\">Dense</span>)                      │ (<span style=\"color: #00d7ff; text-decoration-color: #00d7ff\">None</span>, <span style=\"color: #00af00; text-decoration-color: #00af00\">10</span>)                  │           <span style=\"color: #00af00; text-decoration-color: #00af00\">1,010</span> │\n",
       "└──────────────────────────────────────┴─────────────────────────────┴─────────────────┘\n",
       "</pre>\n"
      ],
      "text/plain": [
       "┏━━━━━━━━━━━━━━━━━━━━━━━━━━━━━━━━━━━━━━┳━━━━━━━━━━━━━━━━━━━━━━━━━━━━━┳━━━━━━━━━━━━━━━━━┓\n",
       "┃\u001b[1m \u001b[0m\u001b[1mLayer (type)                        \u001b[0m\u001b[1m \u001b[0m┃\u001b[1m \u001b[0m\u001b[1mOutput Shape               \u001b[0m\u001b[1m \u001b[0m┃\u001b[1m \u001b[0m\u001b[1m        Param #\u001b[0m\u001b[1m \u001b[0m┃\n",
       "┡━━━━━━━━━━━━━━━━━━━━━━━━━━━━━━━━━━━━━━╇━━━━━━━━━━━━━━━━━━━━━━━━━━━━━╇━━━━━━━━━━━━━━━━━┩\n",
       "│ dense (\u001b[38;5;33mDense\u001b[0m)                        │ (\u001b[38;5;45mNone\u001b[0m, \u001b[38;5;34m100\u001b[0m)                 │          \u001b[38;5;34m78,500\u001b[0m │\n",
       "├──────────────────────────────────────┼─────────────────────────────┼─────────────────┤\n",
       "│ dense_1 (\u001b[38;5;33mDense\u001b[0m)                      │ (\u001b[38;5;45mNone\u001b[0m, \u001b[38;5;34m10\u001b[0m)                  │           \u001b[38;5;34m1,010\u001b[0m │\n",
       "└──────────────────────────────────────┴─────────────────────────────┴─────────────────┘\n"
      ]
     },
     "metadata": {},
     "output_type": "display_data"
    },
    {
     "data": {
      "text/html": [
       "<pre style=\"white-space:pre;overflow-x:auto;line-height:normal;font-family:Menlo,'DejaVu Sans Mono',consolas,'Courier New',monospace\"><span style=\"font-weight: bold\"> Total params: </span><span style=\"color: #00af00; text-decoration-color: #00af00\">79,510</span> (310.59 KB)\n",
       "</pre>\n"
      ],
      "text/plain": [
       "\u001b[1m Total params: \u001b[0m\u001b[38;5;34m79,510\u001b[0m (310.59 KB)\n"
      ]
     },
     "metadata": {},
     "output_type": "display_data"
    },
    {
     "data": {
      "text/html": [
       "<pre style=\"white-space:pre;overflow-x:auto;line-height:normal;font-family:Menlo,'DejaVu Sans Mono',consolas,'Courier New',monospace\"><span style=\"font-weight: bold\"> Trainable params: </span><span style=\"color: #00af00; text-decoration-color: #00af00\">79,510</span> (310.59 KB)\n",
       "</pre>\n"
      ],
      "text/plain": [
       "\u001b[1m Trainable params: \u001b[0m\u001b[38;5;34m79,510\u001b[0m (310.59 KB)\n"
      ]
     },
     "metadata": {},
     "output_type": "display_data"
    },
    {
     "data": {
      "text/html": [
       "<pre style=\"white-space:pre;overflow-x:auto;line-height:normal;font-family:Menlo,'DejaVu Sans Mono',consolas,'Courier New',monospace\"><span style=\"font-weight: bold\"> Non-trainable params: </span><span style=\"color: #00af00; text-decoration-color: #00af00\">0</span> (0.00 B)\n",
       "</pre>\n"
      ],
      "text/plain": [
       "\u001b[1m Non-trainable params: \u001b[0m\u001b[38;5;34m0\u001b[0m (0.00 B)\n"
      ]
     },
     "metadata": {},
     "output_type": "display_data"
    }
   ],
   "source": [
    "model.summary()"
   ]
  },
  {
   "cell_type": "code",
   "execution_count": null,
   "id": "a2bcbc15-052e-415c-b1ca-8c6e29b3bf50",
   "metadata": {},
   "outputs": [],
   "source": []
  }
 ],
 "metadata": {
  "kernelspec": {
   "display_name": "Python [conda env:base] *",
   "language": "python",
   "name": "conda-base-py"
  },
  "language_info": {
   "codemirror_mode": {
    "name": "ipython",
    "version": 3
   },
   "file_extension": ".py",
   "mimetype": "text/x-python",
   "name": "python",
   "nbconvert_exporter": "python",
   "pygments_lexer": "ipython3",
   "version": "3.12.7"
  }
 },
 "nbformat": 4,
 "nbformat_minor": 5
}
