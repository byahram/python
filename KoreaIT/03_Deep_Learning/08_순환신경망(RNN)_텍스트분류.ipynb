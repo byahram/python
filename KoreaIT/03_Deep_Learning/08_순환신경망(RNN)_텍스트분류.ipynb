{
 "cells": [
  {
   "cell_type": "markdown",
   "id": "61437a1a-b22c-40eb-a019-a752f14927c2",
   "metadata": {},
   "source": [
    "# **IMDB 리뷰 데이터셋**\n",
    "\n",
    "- 유명한 인터넷 영화 데이터베이스인 imdb.com 에서 수집한 리뷰를 감상평에 따라 긍정과 부정으로 분류해 놓은 말뭉치"
   ]
  },
  {
   "cell_type": "markdown",
   "id": "ae01d775-c091-40df-9f92-a853946b1847",
   "metadata": {},
   "source": [
    "## 자연어 처리(natural language processing, NLP)\n",
    "\n",
    "- 컴퓨터를 사용해 인간의 언어를 처리하는 분야\n",
    "- 세부 분야\n",
    "    - 음성 인식\n",
    "    - 기계 번역\n",
    "    - 감성 분석\n",
    "- 자연어 처리 분야에서는 훈련 데이터를 말뭉치(corpus)라고 부름"
   ]
  },
  {
   "cell_type": "markdown",
   "id": "a9dbbbb2-68b0-4f97-adc2-f3d14ce89761",
   "metadata": {},
   "source": [
    "## 임베딩\n",
    "\n",
    "- 사람이 쓰는 자연어를 기계가 이해할 수 있는 숫자의 나열인 벡터로 바꾼 결과 혹은 그 과정 전체\n",
    "- 컴퓨터에서 처리하는 모든 것은 숫자로 이루어진 데이터\n",
    "    - 따라서 텍스트 그 자체를 신경망에 전달하지 않음\n",
    "    - 합성곱 신경망에서 이미지를 다룰 때는 이미지가 정수 픽셀값으로 이루어져 있어서 특별히 변환을 하지 않음\n",
    "- 텍스트 임베딩의 가장 쉬운 방법은 데이터에 등장하는 단어마다 고유한 정수를 부여하는 것\n",
    "    - 예)\n",
    "        - he : 10\n",
    "        - follows : 11\n",
    "        - the : 12\n",
    "        - cat : 13\n",
    "    - 단어에 매핑되는 정수는 단어의 의미나 크기와 관련이 없음\n",
    "        - He를 10으로 매핑하고 cat을 13에 매핑하더라도 cat이 He 보다 좋거나 크다는 뜻이 아님\n",
    "    - 정수 중 몇 가지는 특정한 용도로 예약되어 있는 경우가 많음\n",
    "        - 예) 0 : 패딩, 1 : 문장의 시작, 2 : 어휘 사전에 없는 토큰\n",
    "            - 어휘 사전 : 훈련 세트에서 고유한 단어를 뽑아 만든 목록 \n",
    "- 일반적으로 영어 문장은 모두 소문자로 바꾸고 구둣점을 삭제한 다음 공백을 기준으로 분리\n",
    "    - 이렇게 분리된 단어를 토큰(token)이라고 부름\n",
    "        - 하나의 샘플은 여러 개의 토큰으로 이루어져 있고 이 때 하나의 토큰이 하나의 타임스텝에 해당\n",
    "    - 영어 말뭉치에서 토큰은 단어와 같이 취급하는 경우가 많음\n",
    "        - 한국어는 조사가 발달되어 있어 공백으로 나누는 것만으로는 부족함\n",
    "            - 일반적으로 한글은 형태소 분석을 통해 토큰을 분리"
   ]
  },
  {
   "cell_type": "markdown",
   "id": "1ddfc253-2e68-4836-b6c3-57221df010f3",
   "metadata": {},
   "source": [
    "# **원핫 인코딩을 활용한 RNN 텍스트 분류**"
   ]
  },
  {
   "cell_type": "markdown",
   "id": "20462453-9ab6-4f70-8b0a-ac3a746ef58a",
   "metadata": {},
   "source": [
    "## 1. 데이터 준비"
   ]
  },
  {
   "cell_type": "code",
   "execution_count": 67,
   "id": "fca16c81-d843-4b2c-a9f4-9139fb91991e",
   "metadata": {},
   "outputs": [],
   "source": [
    "from tensorflow.keras.datasets import imdb\n",
    "from tensorflow.keras.preprocessing.sequence import pad_sequences\n",
    "from tensorflow import keras\n",
    "from sklearn.model_selection import train_test_split\n",
    "\n",
    "import numpy as np\n",
    "import matplotlib.pyplot as plt"
   ]
  },
  {
   "cell_type": "code",
   "execution_count": 69,
   "id": "f5e36483-a405-4ab6-a97d-670f4a467aa7",
   "metadata": {},
   "outputs": [],
   "source": [
    "# num_words : 단어 빈도가 많은 순서로 num_words 만큼 보존\n",
    "# 전체 데이터셋에서 가장 자주 등장하는 단어 500개만 사용\n",
    "(x_train, y_train), (x_test, y_test) = imdb.load_data(num_words = 500)"
   ]
  },
  {
   "cell_type": "code",
   "execution_count": 70,
   "id": "1587f07e-2caf-43cd-bf63-f1641e0741d5",
   "metadata": {},
   "outputs": [
    {
     "name": "stdout",
     "output_type": "stream",
     "text": [
      "(25000,) (25000,)\n"
     ]
    }
   ],
   "source": [
    "# 훈련 세트, 테스트 세트의 크기 확인\n",
    "print(x_train.shape, x_test.shape)"
   ]
  },
  {
   "cell_type": "code",
   "execution_count": 71,
   "id": "5bbfac27-af66-4c86-958e-7cf10f657861",
   "metadata": {},
   "outputs": [
    {
     "name": "stdout",
     "output_type": "stream",
     "text": [
      "218 189\n"
     ]
    }
   ],
   "source": [
    "# 리뷰의 길이 출력\n",
    "print(len(x_train[0]), len(x_train[1]))"
   ]
  },
  {
   "cell_type": "markdown",
   "id": "24f95a42-50a0-4e77-a4b0-6409ccaa5207",
   "metadata": {},
   "source": [
    "- 각각 25000개의 샘플로 이루어져 있음\n",
    "- 텍스트 길이가 제각각임\n",
    "    - 고정 크기의 2차원 배열에 담는 것 보다 리뷰마다 별도의 파이썬 리스트로 담아야 메모리를 효율적으로 사용할 수 있음"
   ]
  },
  {
   "cell_type": "code",
   "execution_count": 76,
   "id": "4fa8cb13-2d96-425c-a318-5baa4f1bf098",
   "metadata": {},
   "outputs": [
    {
     "name": "stdout",
     "output_type": "stream",
     "text": [
      "[1, 14, 22, 16, 43, 2, 2, 2, 2, 65, 458, 2, 66, 2, 4, 173, 36, 256, 5, 25, 100, 43, 2, 112, 50, 2, 2, 9, 35, 480, 284, 5, 150, 4, 172, 112, 167, 2, 336, 385, 39, 4, 172, 2, 2, 17, 2, 38, 13, 447, 4, 192, 50, 16, 6, 147, 2, 19, 14, 22, 4, 2, 2, 469, 4, 22, 71, 87, 12, 16, 43, 2, 38, 76, 15, 13, 2, 4, 22, 17, 2, 17, 12, 16, 2, 18, 2, 5, 62, 386, 12, 8, 316, 8, 106, 5, 4, 2, 2, 16, 480, 66, 2, 33, 4, 130, 12, 16, 38, 2, 5, 25, 124, 51, 36, 135, 48, 25, 2, 33, 6, 22, 12, 215, 28, 77, 52, 5, 14, 407, 16, 82, 2, 8, 4, 107, 117, 2, 15, 256, 4, 2, 7, 2, 5, 2, 36, 71, 43, 2, 476, 26, 400, 317, 46, 7, 4, 2, 2, 13, 104, 88, 4, 381, 15, 297, 98, 32, 2, 56, 26, 141, 6, 194, 2, 18, 4, 226, 22, 21, 134, 476, 26, 480, 5, 144, 30, 2, 18, 51, 36, 28, 224, 92, 25, 104, 4, 226, 65, 16, 38, 2, 88, 12, 16, 283, 5, 16, 2, 113, 103, 32, 15, 16, 2, 19, 178, 32]\n"
     ]
    }
   ],
   "source": [
    "# 첫 번째 리뷰 출력\n",
    "print(x_train[0])"
   ]
  },
  {
   "cell_type": "code",
   "execution_count": 78,
   "id": "e3f430e9-632c-41e0-84fc-e1aecb60a02d",
   "metadata": {},
   "outputs": [
    {
     "name": "stdout",
     "output_type": "stream",
     "text": [
      "[1 0 0 1 0 0 1 0 1 0 1 0 0 0 0 0 1 1 0 1]\n"
     ]
    }
   ],
   "source": [
    "# 타깃 데이터 출력\n",
    "# 0 : 부정, 1 : 긍정\n",
    "print(y_train[:20])"
   ]
  },
  {
   "cell_type": "code",
   "execution_count": 80,
   "id": "56a242ff-f3d0-4e02-a21e-f3a8c30f40b8",
   "metadata": {},
   "outputs": [],
   "source": [
    "x_train, x_val, y_train, y_val = train_test_split(x_train, y_train, \n",
    "                                                  test_size = 0.2,\n",
    "                                                  stratify = y_train, \n",
    "                                                  random_state = 26)"
   ]
  },
  {
   "cell_type": "code",
   "execution_count": 82,
   "id": "9d40a9ef-c78a-486e-8e17-f336b5ef2f6d",
   "metadata": {},
   "outputs": [
    {
     "name": "stdout",
     "output_type": "stream",
     "text": [
      "(20000,) (5000,)\n"
     ]
    }
   ],
   "source": [
    "print(x_train.shape, x_val.shape)"
   ]
  },
  {
   "cell_type": "markdown",
   "id": "f7e2135d-180c-4616-981f-95d7a7aabd21",
   "metadata": {},
   "source": [
    "### - 각 리뷰의 길이 확인\n",
    "\n",
    "- 각 리뷰의 길이를 넘파이 배열로 담아 평균 리뷰 길이, 길이 최솟값, 길이 최댓값을 확인"
   ]
  },
  {
   "cell_type": "code",
   "execution_count": 85,
   "id": "eeca62ce-d913-47b6-ad56-0a6a2cefc5a1",
   "metadata": {},
   "outputs": [],
   "source": [
    "lengths = np.array([len(x) for x in x_train])"
   ]
  },
  {
   "cell_type": "code",
   "execution_count": 87,
   "id": "db6eebeb-1db9-491f-8024-c20307e8759b",
   "metadata": {},
   "outputs": [
    {
     "name": "stdout",
     "output_type": "stream",
     "text": [
      "238.5516 178.0 11 2494\n"
     ]
    }
   ],
   "source": [
    "# 길이 평균값과 중간값\n",
    "print(np.mean(lengths), np.median(lengths), np.min(lengths), np.max(lengths))"
   ]
  },
  {
   "cell_type": "code",
   "execution_count": 89,
   "id": "e251e845-1eda-4e67-9855-f686c8d1b559",
   "metadata": {},
   "outputs": [
    {
     "data": {
      "image/png": "[encoded data removed]",
      "text/plain": [
       "<Figure size 640x480 with 1 Axes>"
      ]
     },
     "metadata": {},
     "output_type": "display_data"
    }
   ],
   "source": [
    "plt.figure()\n",
    "plt.hist(lengths)\n",
    "\n",
    "plt.xlabel(\"length\")\n",
    "plt.ylabel(\"frequency\")\n",
    "plt.show()"
   ]
  },
  {
   "cell_type": "markdown",
   "id": "f84a0e1e-edfa-4b04-94c4-1e90f04f6d76",
   "metadata": {},
   "source": [
    "- 평균이 중간값보다 높은 이유는 아주 큰 데이터가 있기 때문\n",
    "- 대부분의 리뷰는 짧기 때문에 이번 예제에서는 리뷰의 길이를 100에 맞춰서 사용\n",
    "    - 100보다 짧은 리뷰는 길이를 100에 맞추기 위해 패딩이 필요\n",
    "        - 패딩을 나타내는 토큰으로는 0을 사용"
   ]
  },
  {
   "cell_type": "code",
   "execution_count": 92,
   "id": "f1a67477-0867-4290-a1a4-72941925c4d0",
   "metadata": {},
   "outputs": [],
   "source": [
    "# x_train의 길이를 100으로 맞추기\n",
    "train_seq = pad_sequences(x_train, maxlen = 100)"
   ]
  },
  {
   "cell_type": "markdown",
   "id": "43ddec63-10bd-480f-a5b3-32289be5c931",
   "metadata": {},
   "source": [
    "- maxlen 에 원하는 길이를 지정하면 그것보다 긴 경우는 잘라내고 짧은 경우는 0으로 패딩"
   ]
  },
  {
   "cell_type": "code",
   "execution_count": 95,
   "id": "091d0837-f4b7-4bb2-9be8-a0aa6aca216a",
   "metadata": {},
   "outputs": [
    {
     "name": "stdout",
     "output_type": "stream",
     "text": [
      "(20000, 100)\n"
     ]
    }
   ],
   "source": [
    "# train_seq 크기 확인\n",
    "print(train_seq.shape)"
   ]
  },
  {
   "cell_type": "code",
   "execution_count": 97,
   "id": "d156458d-0b55-4bdb-9bf8-c8c14f313360",
   "metadata": {},
   "outputs": [
    {
     "name": "stdout",
     "output_type": "stream",
     "text": [
      "[101   2   2   7   2  89 196  26  75 424   8 264  15  84  70  30   2  11\n",
      "   2   2   2   5 131   2   2   2   2   2   6  22  15 286   2  18 101 116\n",
      "   2  33   4   2  13   6   2   2  11   2   5 117 334  10  10   4  64 282\n",
      "  13   2  14  17   6   2   2   9  13  81  24   2   4   2   7 158   2   2\n",
      " 291 154   2   2 451   2  57   2 216   8  27   2   5  13 244  24  66   2\n",
      "  11   2   6   2   7   2  65 116  42   2]\n"
     ]
    }
   ],
   "source": [
    "print(train_seq[0])"
   ]
  },
  {
   "cell_type": "code",
   "execution_count": 99,
   "id": "7083d996-b398-4fd5-92b6-e36784fa85fa",
   "metadata": {},
   "outputs": [
    {
     "name": "stdout",
     "output_type": "stream",
     "text": [
      "[101, 2, 2, 7, 2, 89, 196, 26, 75, 424, 8, 264, 15, 84, 70, 30, 2, 11, 2, 2, 2, 5, 131, 2, 2, 2, 2, 2, 6, 22, 15, 286, 2, 18, 101, 116, 2, 33, 4, 2, 13, 6, 2, 2, 11, 2, 5, 117, 334, 10, 10, 4, 64, 282, 13, 2, 14, 17, 6, 2, 2, 9, 13, 81, 24, 2, 4, 2, 7, 158, 2, 2, 291, 154, 2, 2, 451, 2, 57, 2, 216, 8, 27, 2, 5, 13, 244, 24, 66, 2, 11, 2, 6, 2, 7, 2, 65, 116, 42, 2]\n"
     ]
    }
   ],
   "source": [
    "print(x_train[0][-100:])"
   ]
  },
  {
   "cell_type": "markdown",
   "id": "a79c1e50-6985-40b3-b524-394c918623ac",
   "metadata": {},
   "source": [
    "- pad_sequences() 함수는 기본적으로 maxlen 보다 긴 시퀀스의 앞부분을 잘라냄\n",
    "    - 일반적으로 시퀀스의 뒷부분의 정보가 더 유용하기 때문에\n",
    "        - 리뷰 끝에 결정적인 소감을 말할 가능성이 높음\n",
    "    - 시퀀스의 뒷부분을 잘라내고 싶다면\n",
    "        - truncating 매개변수 값을 \"post\"로 변경\n",
    "            - 기본값은 \"pre\""
   ]
  },
  {
   "cell_type": "code",
   "execution_count": 102,
   "id": "179f18b3-6189-4e26-9c7c-ce9af5cd4f29",
   "metadata": {},
   "outputs": [
    {
     "name": "stdout",
     "output_type": "stream",
     "text": [
      "[  0   0   0   0   0   0   0   0   0   0   0   0   0   0   0   0   0   0\n",
      "   0   0   0   0   0   0   0   0   0   0   0   0   0   0   0   0   0   0\n",
      "   0   0   0   0   0   0   0   1  13  81 169  12   6 227   2 279  45  43\n",
      "  88 207 115 110   6   2 310   2   2  21  13  43  92  79  83  12  40   6\n",
      " 176   7  85  84  81   4   2   9  66  87 151  17   2   2   6   2   6 136\n",
      "  15 299  11  61 419 175  58  13 140   2]\n"
     ]
    }
   ],
   "source": [
    "print(train_seq[6])"
   ]
  },
  {
   "cell_type": "markdown",
   "id": "caf985f1-f08f-4f08-85da-34fd08d7a9e9",
   "metadata": {},
   "source": [
    "- 패딩 토큰은 시퀀스의 앞부분에 추가됨\n",
    "    - 시퀀스의 마지막에 있는 단어가 셀의 은닉 상태에 가장 큰 영향을 미치게 되기 때문에\n",
    "    - 뒷부분에 패딩을 추가하고 싶다면\n",
    "        - padding 매개변수의 값을 \"post\"로 수정\n",
    "            - 기본값은 \"pre\""
   ]
  },
  {
   "cell_type": "code",
   "execution_count": 105,
   "id": "d778cb42-1cb7-4858-9699-1cef80d9d80a",
   "metadata": {},
   "outputs": [],
   "source": [
    "# 검증 세트의 길이를 100으로 맞추기\n",
    "val_seq = pad_sequences(x_val, maxlen = 100)"
   ]
  },
  {
   "cell_type": "markdown",
   "id": "bd583aa1-0e5b-4dad-86a9-d3826445741f",
   "metadata": {},
   "source": [
    "## 2. 모델 구성\n",
    "\n",
    "- 케라스의 SimpleRNN 클래스 사용\n",
    "- 이진분류\n",
    "    - 출력층은 1개의 유닛을 가지고 시그모이드 출력층 함수를 사용"
   ]
  },
  {
   "cell_type": "code",
   "execution_count": 108,
   "id": "76b3f57a-5924-4010-ace3-2f61e865d3a4",
   "metadata": {},
   "outputs": [],
   "source": [
    "model = keras.Sequential()\n",
    "model.add(keras.Input(shape = (100, 500)))\n",
    "model.add(keras.layers.SimpleRNN(8))\n",
    "model.add(keras.layers.Dense(1, activation = \"sigmoid\"))"
   ]
  },
  {
   "cell_type": "markdown",
   "id": "a0a7996f-d1d0-4075-9d12-a611aefc11c2",
   "metadata": {},
   "source": [
    "- 입력층\n",
    "    - 입력 차원의 첫 번째 차원은 샘플의 길이\n",
    "    - 입력 차원의 두 번째 차원은 고유한 단어 수\n",
    "        - load_data() 함수에서 500개의 단어만 사용하도록 지정했기 때문에 이번 예제의 고유한 단어 수는 500\n",
    "- SimpleRNN\n",
    "    - 첫 번째 매개변수는 사용할 유닛의 개수\n",
    "    - activation\n",
    "        - 기본값은 \"tanh\"\n",
    "            - 하이퍼볼릭 탄젠트\n",
    "- 원핫인코딩을 사용하는 이유\n",
    "    - 토큰을 정수로 변환한 데이터를 그대로 신경망에 주입하면 큰 정수가 큰 활성화 출력을 만듦\n",
    "        - 정수 사이에는 어떤 관련도 없고 20번 토큰이 10번 토큰보다 중요한 것이 아님"
   ]
  },
  {
   "cell_type": "code",
   "execution_count": 54,
   "id": "90391aff-3091-4fcb-b290-d2987833228a",
   "metadata": {},
   "outputs": [],
   "source": [
    "# 케라스에서 제공하는 원핫 인코딩을 위한 함수\n",
    "train_oh = keras.utils.to_categorical(train_seq)"
   ]
  },
  {
   "cell_type": "code",
   "execution_count": 55,
   "id": "3a221021-9449-4e7f-847c-c83510b9564e",
   "metadata": {},
   "outputs": [
    {
     "name": "stdout",
     "output_type": "stream",
     "text": [
      "(20000, 100, 500)\n"
     ]
    }
   ],
   "source": [
    "print(train_oh.shape)"
   ]
  },
  {
   "cell_type": "code",
   "execution_count": 58,
   "id": "b5ef6bd5-0e42-4539-8992-777cf5f02b7f",
   "metadata": {},
   "outputs": [
    {
     "name": "stdout",
     "output_type": "stream",
     "text": [
      "[0. 0. 0. 0. 0. 0. 0. 0. 0. 0. 0. 0. 0. 0. 0. 0. 0. 0. 0. 0. 0. 0. 0. 0.\n",
      " 0. 0. 0. 0. 0. 0. 0. 0. 0. 0. 0. 0. 0. 0. 0. 0. 0. 0. 0. 0. 0. 0. 0. 0.\n",
      " 0. 0. 0. 0. 0. 0. 0. 0. 0. 0. 0. 0. 0. 0. 0. 0. 0. 0. 0. 0. 0. 0. 0. 0.\n",
      " 0. 0. 0. 0. 0. 0. 0. 0. 0. 0. 0. 0. 0. 0. 0. 0. 0. 0. 0. 0. 0. 0. 0. 0.\n",
      " 0. 0. 0. 0. 0. 1. 0. 0. 0. 0. 0. 0. 0. 0. 0. 0. 0. 0. 0. 0. 0. 0. 0. 0.\n",
      " 0. 0. 0. 0. 0. 0. 0. 0. 0. 0. 0. 0. 0. 0. 0. 0. 0. 0. 0. 0. 0. 0. 0. 0.\n",
      " 0. 0. 0. 0. 0. 0. 0. 0. 0. 0. 0. 0. 0. 0. 0. 0. 0. 0. 0. 0. 0. 0. 0. 0.\n",
      " 0. 0. 0. 0. 0. 0. 0. 0. 0. 0. 0. 0. 0. 0. 0. 0. 0. 0. 0. 0. 0. 0. 0. 0.\n",
      " 0. 0. 0. 0. 0. 0. 0. 0. 0. 0. 0. 0. 0. 0. 0. 0. 0. 0. 0. 0. 0. 0. 0. 0.\n",
      " 0. 0. 0. 0. 0. 0. 0. 0. 0. 0. 0. 0. 0. 0. 0. 0. 0. 0. 0. 0. 0. 0. 0. 0.\n",
      " 0. 0. 0. 0. 0. 0. 0. 0. 0. 0. 0. 0. 0. 0. 0. 0. 0. 0. 0. 0. 0. 0. 0. 0.\n",
      " 0. 0. 0. 0. 0. 0. 0. 0. 0. 0. 0. 0. 0. 0. 0. 0. 0. 0. 0. 0. 0. 0. 0. 0.\n",
      " 0. 0. 0. 0. 0. 0. 0. 0. 0. 0. 0. 0. 0. 0. 0. 0. 0. 0. 0. 0. 0. 0. 0. 0.\n",
      " 0. 0. 0. 0. 0. 0. 0. 0. 0. 0. 0. 0. 0. 0. 0. 0. 0. 0. 0. 0. 0. 0. 0. 0.\n",
      " 0. 0. 0. 0. 0. 0. 0. 0. 0. 0. 0. 0. 0. 0. 0. 0. 0. 0. 0. 0. 0. 0. 0. 0.\n",
      " 0. 0. 0. 0. 0. 0. 0. 0. 0. 0. 0. 0. 0. 0. 0. 0. 0. 0. 0. 0. 0. 0. 0. 0.\n",
      " 0. 0. 0. 0. 0. 0. 0. 0. 0. 0. 0. 0. 0. 0. 0. 0. 0. 0. 0. 0. 0. 0. 0. 0.\n",
      " 0. 0. 0. 0. 0. 0. 0. 0. 0. 0. 0. 0. 0. 0. 0. 0. 0. 0. 0. 0. 0. 0. 0. 0.\n",
      " 0. 0. 0. 0. 0. 0. 0. 0. 0. 0. 0. 0. 0. 0. 0. 0. 0. 0. 0. 0. 0. 0. 0. 0.\n",
      " 0. 0. 0. 0. 0. 0. 0. 0. 0. 0. 0. 0. 0. 0. 0. 0. 0. 0. 0. 0. 0. 0. 0. 0.\n",
      " 0. 0. 0. 0. 0. 0. 0. 0. 0. 0. 0. 0. 0. 0. 0. 0. 0. 0. 0. 0.]\n"
     ]
    }
   ],
   "source": [
    "print(train_oh[0, 0])"
   ]
  },
  {
   "cell_type": "code",
   "execution_count": 60,
   "id": "3896e1fc-3984-4e30-89f0-ac78f638a5e8",
   "metadata": {},
   "outputs": [
    {
     "name": "stdout",
     "output_type": "stream",
     "text": [
      "1.0\n"
     ]
    }
   ],
   "source": [
    "print(np.sum(train_oh[0, 0]))"
   ]
  },
  {
   "cell_type": "markdown",
   "id": "0ad7257f-9cb3-4eb4-99f4-69d713790a1e",
   "metadata": {},
   "source": [
    "- 하나의 원소만 1이고 나머지 원소는 모두 0임"
   ]
  },
  {
   "cell_type": "code",
   "execution_count": 63,
   "id": "998bee46-7301-4735-b1d0-a351320d6961",
   "metadata": {},
   "outputs": [],
   "source": [
    "# val_seq 원핫인코딩\n",
    "val_oh = keras.utils.to_categorical(val_seq)"
   ]
  },
  {
   "cell_type": "code",
   "execution_count": 65,
   "id": "0d8b8b83-9df6-4a00-9a7f-40d6b52bc8d4",
   "metadata": {},
   "outputs": [
    {
     "data": {
      "text/html": [
       "<pre style=\"white-space:pre;overflow-x:auto;line-height:normal;font-family:Menlo,'DejaVu Sans Mono',consolas,'Courier New',monospace\"><span style=\"font-weight: bold\">Model: \"sequential\"</span>\n",
       "</pre>\n"
      ],
      "text/plain": [
       "\u001b[1mModel: \"sequential\"\u001b[0m\n"
      ]
     },
     "metadata": {},
     "output_type": "display_data"
    },
    {
     "data": {
      "text/html": [
       "<pre style=\"white-space:pre;overflow-x:auto;line-height:normal;font-family:Menlo,'DejaVu Sans Mono',consolas,'Courier New',monospace\">┏━━━━━━━━━━━━━━━━━━━━━━━━━━━━━━━┳━━━━━━━━━━━━━━━━━━━━━━━┳━━━━━━━━━━━━━━┓\n",
       "┃<span style=\"font-weight: bold\"> Layer (type)                  </span>┃<span style=\"font-weight: bold\"> Output Shape          </span>┃<span style=\"font-weight: bold\">      Param # </span>┃\n",
       "┡━━━━━━━━━━━━━━━━━━━━━━━━━━━━━━━╇━━━━━━━━━━━━━━━━━━━━━━━╇━━━━━━━━━━━━━━┩\n",
       "│ simple_rnn (<span style=\"color: #0087ff; text-decoration-color: #0087ff\">SimpleRNN</span>)        │ (<span style=\"color: #00d7ff; text-decoration-color: #00d7ff\">None</span>, <span style=\"color: #00af00; text-decoration-color: #00af00\">8</span>)             │        <span style=\"color: #00af00; text-decoration-color: #00af00\">4,072</span> │\n",
       "├───────────────────────────────┼───────────────────────┼──────────────┤\n",
       "│ dense (<span style=\"color: #0087ff; text-decoration-color: #0087ff\">Dense</span>)                 │ (<span style=\"color: #00d7ff; text-decoration-color: #00d7ff\">None</span>, <span style=\"color: #00af00; text-decoration-color: #00af00\">1</span>)             │            <span style=\"color: #00af00; text-decoration-color: #00af00\">9</span> │\n",
       "└───────────────────────────────┴───────────────────────┴──────────────┘\n",
       "</pre>\n"
      ],
      "text/plain": [
       "┏━━━━━━━━━━━━━━━━━━━━━━━━━━━━━━━┳━━━━━━━━━━━━━━━━━━━━━━━┳━━━━━━━━━━━━━━┓\n",
       "┃\u001b[1m \u001b[0m\u001b[1mLayer (type)                 \u001b[0m\u001b[1m \u001b[0m┃\u001b[1m \u001b[0m\u001b[1mOutput Shape         \u001b[0m\u001b[1m \u001b[0m┃\u001b[1m \u001b[0m\u001b[1m     Param #\u001b[0m\u001b[1m \u001b[0m┃\n",
       "┡━━━━━━━━━━━━━━━━━━━━━━━━━━━━━━━╇━━━━━━━━━━━━━━━━━━━━━━━╇━━━━━━━━━━━━━━┩\n",
       "│ simple_rnn (\u001b[38;5;33mSimpleRNN\u001b[0m)        │ (\u001b[38;5;45mNone\u001b[0m, \u001b[38;5;34m8\u001b[0m)             │        \u001b[38;5;34m4,072\u001b[0m │\n",
       "├───────────────────────────────┼───────────────────────┼──────────────┤\n",
       "│ dense (\u001b[38;5;33mDense\u001b[0m)                 │ (\u001b[38;5;45mNone\u001b[0m, \u001b[38;5;34m1\u001b[0m)             │            \u001b[38;5;34m9\u001b[0m │\n",
       "└───────────────────────────────┴───────────────────────┴──────────────┘\n"
      ]
     },
     "metadata": {},
     "output_type": "display_data"
    },
    {
     "data": {
      "text/html": [
       "<pre style=\"white-space:pre;overflow-x:auto;line-height:normal;font-family:Menlo,'DejaVu Sans Mono',consolas,'Courier New',monospace\"><span style=\"font-weight: bold\"> Total params: </span><span style=\"color: #00af00; text-decoration-color: #00af00\">4,081</span> (15.94 KB)\n",
       "</pre>\n"
      ],
      "text/plain": [
       "\u001b[1m Total params: \u001b[0m\u001b[38;5;34m4,081\u001b[0m (15.94 KB)\n"
      ]
     },
     "metadata": {},
     "output_type": "display_data"
    },
    {
     "data": {
      "text/html": [
       "<pre style=\"white-space:pre;overflow-x:auto;line-height:normal;font-family:Menlo,'DejaVu Sans Mono',consolas,'Courier New',monospace\"><span style=\"font-weight: bold\"> Trainable params: </span><span style=\"color: #00af00; text-decoration-color: #00af00\">4,081</span> (15.94 KB)\n",
       "</pre>\n"
      ],
      "text/plain": [
       "\u001b[1m Trainable params: \u001b[0m\u001b[38;5;34m4,081\u001b[0m (15.94 KB)\n"
      ]
     },
     "metadata": {},
     "output_type": "display_data"
    },
    {
     "data": {
      "text/html": [
       "<pre style=\"white-space:pre;overflow-x:auto;line-height:normal;font-family:Menlo,'DejaVu Sans Mono',consolas,'Courier New',monospace\"><span style=\"font-weight: bold\"> Non-trainable params: </span><span style=\"color: #00af00; text-decoration-color: #00af00\">0</span> (0.00 B)\n",
       "</pre>\n"
      ],
      "text/plain": [
       "\u001b[1m Non-trainable params: \u001b[0m\u001b[38;5;34m0\u001b[0m (0.00 B)\n"
      ]
     },
     "metadata": {},
     "output_type": "display_data"
    }
   ],
   "source": [
    "model.summary()"
   ]
  },
  {
   "cell_type": "markdown",
   "id": "b656f8fb-61e1-4206-904f-6985eb43a68e",
   "metadata": {},
   "source": [
    "- SimpleRNN에 전달할 샘플의 크기는 (100, 500) 이지만 순환층은 마지막 타임스텝의 은닉 상태만 출력\n",
    "    - 출력 크기가 순환층의 유닛 개수와 동일\n",
    "- 파라미터 개수\n",
    "    - 입력 토큰은 500차원의 원핫 인코딩 배열\n",
    "    - 배열이 순환층의 유닛 8개와 완전 연결\n",
    "        - 500 * 8 = 4000\n",
    "    - 순환층의 은닉 상태는 다시 다음 타임스텝에 사용하기 위해 또 다른 가중치와 곱해짐\n",
    "        - 은닉 상태 크기 * 유닛 개수\n",
    "            - 8 * 8 = 64\n",
    "    - 각 유닛마다 하나의 절편\n",
    "        - 8\n",
    "    - 4000 + 64 + 8 = 4072"
   ]
  },
  {
   "cell_type": "markdown",
   "id": "f7248991-f721-46eb-ab47-568d982de6cd",
   "metadata": {},
   "source": [
    "## 3. 모델 훈련"
   ]
  },
  {
   "cell_type": "code",
   "execution_count": 69,
   "id": "080163d2-6f85-4ee0-9d2b-756fcdbd8555",
   "metadata": {},
   "outputs": [],
   "source": [
    "rmsprop = keras.optimizers.RMSprop(learning_rate = 1e-4)\n",
    "model.compile(optimizer = rmsprop, loss = \"binary_crossentropy\", metrics = [\"accuracy\"])"
   ]
  },
  {
   "cell_type": "code",
   "execution_count": 71,
   "id": "5fcc59e9-3d9c-471b-9ada-5f2a1ae86b64",
   "metadata": {},
   "outputs": [],
   "source": [
    "cp_cb = keras.callbacks.ModelCheckpoint(\"./model/best-simplernn-model.keras\", save_best_only = True)\n",
    "es_cb = keras.callbacks.EarlyStopping(patience = 4, restore_best_weights = True)"
   ]
  },
  {
   "cell_type": "code",
   "execution_count": 73,
   "id": "a54edf43-94d9-40f3-a805-bae9f77d178f",
   "metadata": {},
   "outputs": [
    {
     "name": "stdout",
     "output_type": "stream",
     "text": [
      "Epoch 1/100\n",
      "\u001b[1m313/313\u001b[0m \u001b[32m━━━━━━━━━━━━━━━━━━━━\u001b[0m\u001b[37m\u001b[0m \u001b[1m11s\u001b[0m 23ms/step - accuracy: 0.4954 - loss: 0.7015 - val_accuracy: 0.4938 - val_loss: 0.7008\n",
      "Epoch 2/100\n",
      "\u001b[1m313/313\u001b[0m \u001b[32m━━━━━━━━━━━━━━━━━━━━\u001b[0m\u001b[37m\u001b[0m \u001b[1m5s\u001b[0m 16ms/step - accuracy: 0.5171 - loss: 0.6948 - val_accuracy: 0.4984 - val_loss: 0.6976\n",
      "Epoch 3/100\n",
      "\u001b[1m313/313\u001b[0m \u001b[32m━━━━━━━━━━━━━━━━━━━━\u001b[0m\u001b[37m\u001b[0m \u001b[1m5s\u001b[0m 16ms/step - accuracy: 0.5172 - loss: 0.6939 - val_accuracy: 0.5140 - val_loss: 0.6931\n",
      "Epoch 4/100\n",
      "\u001b[1m313/313\u001b[0m \u001b[32m━━━━━━━━━━━━━━━━━━━━\u001b[0m\u001b[37m\u001b[0m \u001b[1m5s\u001b[0m 16ms/step - accuracy: 0.5422 - loss: 0.6884 - val_accuracy: 0.5466 - val_loss: 0.6856\n",
      "Epoch 5/100\n",
      "\u001b[1m313/313\u001b[0m \u001b[32m━━━━━━━━━━━━━━━━━━━━\u001b[0m\u001b[37m\u001b[0m \u001b[1m6s\u001b[0m 18ms/step - accuracy: 0.5789 - loss: 0.6789 - val_accuracy: 0.5886 - val_loss: 0.6757\n",
      "Epoch 6/100\n",
      "\u001b[1m313/313\u001b[0m \u001b[32m━━━━━━━━━━━━━━━━━━━━\u001b[0m\u001b[37m\u001b[0m \u001b[1m5s\u001b[0m 17ms/step - accuracy: 0.6154 - loss: 0.6687 - val_accuracy: 0.6260 - val_loss: 0.6647\n",
      "Epoch 7/100\n",
      "\u001b[1m313/313\u001b[0m \u001b[32m━━━━━━━━━━━━━━━━━━━━\u001b[0m\u001b[37m\u001b[0m \u001b[1m5s\u001b[0m 16ms/step - accuracy: 0.6444 - loss: 0.6574 - val_accuracy: 0.6508 - val_loss: 0.6526\n",
      "Epoch 8/100\n",
      "\u001b[1m313/313\u001b[0m \u001b[32m━━━━━━━━━━━━━━━━━━━━\u001b[0m\u001b[37m\u001b[0m \u001b[1m5s\u001b[0m 16ms/step - accuracy: 0.6618 - loss: 0.6449 - val_accuracy: 0.6690 - val_loss: 0.6403\n",
      "Epoch 9/100\n",
      "\u001b[1m313/313\u001b[0m \u001b[32m━━━━━━━━━━━━━━━━━━━━\u001b[0m\u001b[37m\u001b[0m \u001b[1m5s\u001b[0m 16ms/step - accuracy: 0.6873 - loss: 0.6289 - val_accuracy: 0.6846 - val_loss: 0.6274\n",
      "Epoch 10/100\n",
      "\u001b[1m313/313\u001b[0m \u001b[32m━━━━━━━━━━━━━━━━━━━━\u001b[0m\u001b[37m\u001b[0m \u001b[1m5s\u001b[0m 17ms/step - accuracy: 0.6994 - loss: 0.6153 - val_accuracy: 0.6916 - val_loss: 0.6140\n",
      "Epoch 11/100\n",
      "\u001b[1m313/313\u001b[0m \u001b[32m━━━━━━━━━━━━━━━━━━━━\u001b[0m\u001b[37m\u001b[0m \u001b[1m5s\u001b[0m 17ms/step - accuracy: 0.7182 - loss: 0.5977 - val_accuracy: 0.7092 - val_loss: 0.6004\n",
      "Epoch 12/100\n",
      "\u001b[1m313/313\u001b[0m \u001b[32m━━━━━━━━━━━━━━━━━━━━\u001b[0m\u001b[37m\u001b[0m \u001b[1m5s\u001b[0m 17ms/step - accuracy: 0.7308 - loss: 0.5849 - val_accuracy: 0.7158 - val_loss: 0.5863\n",
      "Epoch 13/100\n",
      "\u001b[1m313/313\u001b[0m \u001b[32m━━━━━━━━━━━━━━━━━━━━\u001b[0m\u001b[37m\u001b[0m \u001b[1m5s\u001b[0m 17ms/step - accuracy: 0.7350 - loss: 0.5705 - val_accuracy: 0.7228 - val_loss: 0.5727\n",
      "Epoch 14/100\n",
      "\u001b[1m313/313\u001b[0m \u001b[32m━━━━━━━━━━━━━━━━━━━━\u001b[0m\u001b[37m\u001b[0m \u001b[1m5s\u001b[0m 17ms/step - accuracy: 0.7462 - loss: 0.5551 - val_accuracy: 0.7324 - val_loss: 0.5594\n",
      "Epoch 15/100\n",
      "\u001b[1m313/313\u001b[0m \u001b[32m━━━━━━━━━━━━━━━━━━━━\u001b[0m\u001b[37m\u001b[0m \u001b[1m5s\u001b[0m 17ms/step - accuracy: 0.7582 - loss: 0.5369 - val_accuracy: 0.7392 - val_loss: 0.5486\n",
      "Epoch 16/100\n",
      "\u001b[1m313/313\u001b[0m \u001b[32m━━━━━━━━━━━━━━━━━━━━\u001b[0m\u001b[37m\u001b[0m \u001b[1m5s\u001b[0m 17ms/step - accuracy: 0.7602 - loss: 0.5284 - val_accuracy: 0.7478 - val_loss: 0.5374\n",
      "Epoch 17/100\n",
      "\u001b[1m313/313\u001b[0m \u001b[32m━━━━━━━━━━━━━━━━━━━━\u001b[0m\u001b[37m\u001b[0m \u001b[1m5s\u001b[0m 17ms/step - accuracy: 0.7721 - loss: 0.5136 - val_accuracy: 0.7498 - val_loss: 0.5275\n",
      "Epoch 18/100\n",
      "\u001b[1m313/313\u001b[0m \u001b[32m━━━━━━━━━━━━━━━━━━━━\u001b[0m\u001b[37m\u001b[0m \u001b[1m5s\u001b[0m 17ms/step - accuracy: 0.7829 - loss: 0.4979 - val_accuracy: 0.7548 - val_loss: 0.5186\n",
      "Epoch 19/100\n",
      "\u001b[1m313/313\u001b[0m \u001b[32m━━━━━━━━━━━━━━━━━━━━\u001b[0m\u001b[37m\u001b[0m \u001b[1m5s\u001b[0m 17ms/step - accuracy: 0.7825 - loss: 0.4901 - val_accuracy: 0.7608 - val_loss: 0.5094\n",
      "Epoch 20/100\n",
      "\u001b[1m313/313\u001b[0m \u001b[32m━━━━━━━━━━━━━━━━━━━━\u001b[0m\u001b[37m\u001b[0m \u001b[1m5s\u001b[0m 17ms/step - accuracy: 0.7908 - loss: 0.4784 - val_accuracy: 0.7626 - val_loss: 0.5029\n",
      "Epoch 21/100\n",
      "\u001b[1m313/313\u001b[0m \u001b[32m━━━━━━━━━━━━━━━━━━━━\u001b[0m\u001b[37m\u001b[0m \u001b[1m5s\u001b[0m 17ms/step - accuracy: 0.7927 - loss: 0.4701 - val_accuracy: 0.7656 - val_loss: 0.4969\n",
      "Epoch 22/100\n",
      "\u001b[1m313/313\u001b[0m \u001b[32m━━━━━━━━━━━━━━━━━━━━\u001b[0m\u001b[37m\u001b[0m \u001b[1m5s\u001b[0m 17ms/step - accuracy: 0.7973 - loss: 0.4631 - val_accuracy: 0.7684 - val_loss: 0.4920\n",
      "Epoch 23/100\n",
      "\u001b[1m313/313\u001b[0m \u001b[32m━━━━━━━━━━━━━━━━━━━━\u001b[0m\u001b[37m\u001b[0m \u001b[1m5s\u001b[0m 17ms/step - accuracy: 0.7972 - loss: 0.4612 - val_accuracy: 0.7708 - val_loss: 0.4873\n",
      "Epoch 24/100\n",
      "\u001b[1m313/313\u001b[0m \u001b[32m━━━━━━━━━━━━━━━━━━━━\u001b[0m\u001b[37m\u001b[0m \u001b[1m6s\u001b[0m 18ms/step - accuracy: 0.8039 - loss: 0.4505 - val_accuracy: 0.7700 - val_loss: 0.4872\n",
      "Epoch 25/100\n",
      "\u001b[1m313/313\u001b[0m \u001b[32m━━━━━━━━━━━━━━━━━━━━\u001b[0m\u001b[37m\u001b[0m \u001b[1m5s\u001b[0m 17ms/step - accuracy: 0.8068 - loss: 0.4457 - val_accuracy: 0.7804 - val_loss: 0.4772\n",
      "Epoch 26/100\n",
      "\u001b[1m313/313\u001b[0m \u001b[32m━━━━━━━━━━━━━━━━━━━━\u001b[0m\u001b[37m\u001b[0m \u001b[1m5s\u001b[0m 17ms/step - accuracy: 0.8019 - loss: 0.4470 - val_accuracy: 0.7804 - val_loss: 0.4765\n",
      "Epoch 27/100\n",
      "\u001b[1m313/313\u001b[0m \u001b[32m━━━━━━━━━━━━━━━━━━━━\u001b[0m\u001b[37m\u001b[0m \u001b[1m5s\u001b[0m 17ms/step - accuracy: 0.8078 - loss: 0.4368 - val_accuracy: 0.7854 - val_loss: 0.4701\n",
      "Epoch 28/100\n",
      "\u001b[1m313/313\u001b[0m \u001b[32m━━━━━━━━━━━━━━━━━━━━\u001b[0m\u001b[37m\u001b[0m \u001b[1m5s\u001b[0m 17ms/step - accuracy: 0.8092 - loss: 0.4367 - val_accuracy: 0.7850 - val_loss: 0.4681\n",
      "Epoch 29/100\n",
      "\u001b[1m313/313\u001b[0m \u001b[32m━━━━━━━━━━━━━━━━━━━━\u001b[0m\u001b[37m\u001b[0m \u001b[1m5s\u001b[0m 17ms/step - accuracy: 0.8113 - loss: 0.4285 - val_accuracy: 0.7866 - val_loss: 0.4693\n",
      "Epoch 30/100\n",
      "\u001b[1m313/313\u001b[0m \u001b[32m━━━━━━━━━━━━━━━━━━━━\u001b[0m\u001b[37m\u001b[0m \u001b[1m5s\u001b[0m 17ms/step - accuracy: 0.8147 - loss: 0.4272 - val_accuracy: 0.7838 - val_loss: 0.4649\n",
      "Epoch 31/100\n",
      "\u001b[1m313/313\u001b[0m \u001b[32m━━━━━━━━━━━━━━━━━━━━\u001b[0m\u001b[37m\u001b[0m \u001b[1m5s\u001b[0m 17ms/step - accuracy: 0.8110 - loss: 0.4285 - val_accuracy: 0.7878 - val_loss: 0.4660\n",
      "Epoch 32/100\n",
      "\u001b[1m313/313\u001b[0m \u001b[32m━━━━━━━━━━━━━━━━━━━━\u001b[0m\u001b[37m\u001b[0m \u001b[1m5s\u001b[0m 17ms/step - accuracy: 0.8115 - loss: 0.4239 - val_accuracy: 0.7848 - val_loss: 0.4659\n",
      "Epoch 33/100\n",
      "\u001b[1m313/313\u001b[0m \u001b[32m━━━━━━━━━━━━━━━━━━━━\u001b[0m\u001b[37m\u001b[0m \u001b[1m6s\u001b[0m 18ms/step - accuracy: 0.8132 - loss: 0.4235 - val_accuracy: 0.7880 - val_loss: 0.4675\n",
      "Epoch 34/100\n",
      "\u001b[1m313/313\u001b[0m \u001b[32m━━━━━━━━━━━━━━━━━━━━\u001b[0m\u001b[37m\u001b[0m \u001b[1m6s\u001b[0m 19ms/step - accuracy: 0.8189 - loss: 0.4184 - val_accuracy: 0.7880 - val_loss: 0.4645\n",
      "Epoch 35/100\n",
      "\u001b[1m313/313\u001b[0m \u001b[32m━━━━━━━━━━━━━━━━━━━━\u001b[0m\u001b[37m\u001b[0m \u001b[1m6s\u001b[0m 18ms/step - accuracy: 0.8206 - loss: 0.4104 - val_accuracy: 0.7870 - val_loss: 0.4607\n",
      "Epoch 36/100\n",
      "\u001b[1m313/313\u001b[0m \u001b[32m━━━━━━━━━━━━━━━━━━━━\u001b[0m\u001b[37m\u001b[0m \u001b[1m5s\u001b[0m 17ms/step - accuracy: 0.8257 - loss: 0.4087 - val_accuracy: 0.7872 - val_loss: 0.4607\n",
      "Epoch 37/100\n",
      "\u001b[1m313/313\u001b[0m \u001b[32m━━━━━━━━━━━━━━━━━━━━\u001b[0m\u001b[37m\u001b[0m \u001b[1m5s\u001b[0m 17ms/step - accuracy: 0.8169 - loss: 0.4158 - val_accuracy: 0.7888 - val_loss: 0.4622\n",
      "Epoch 38/100\n",
      "\u001b[1m313/313\u001b[0m \u001b[32m━━━━━━━━━━━━━━━━━━━━\u001b[0m\u001b[37m\u001b[0m \u001b[1m6s\u001b[0m 18ms/step - accuracy: 0.8177 - loss: 0.4140 - val_accuracy: 0.7870 - val_loss: 0.4591\n",
      "Epoch 39/100\n",
      "\u001b[1m313/313\u001b[0m \u001b[32m━━━━━━━━━━━━━━━━━━━━\u001b[0m\u001b[37m\u001b[0m \u001b[1m5s\u001b[0m 17ms/step - accuracy: 0.8213 - loss: 0.4117 - val_accuracy: 0.7864 - val_loss: 0.4630\n",
      "Epoch 40/100\n",
      "\u001b[1m313/313\u001b[0m \u001b[32m━━━━━━━━━━━━━━━━━━━━\u001b[0m\u001b[37m\u001b[0m \u001b[1m6s\u001b[0m 17ms/step - accuracy: 0.8214 - loss: 0.4106 - val_accuracy: 0.7884 - val_loss: 0.4602\n",
      "Epoch 41/100\n",
      "\u001b[1m313/313\u001b[0m \u001b[32m━━━━━━━━━━━━━━━━━━━━\u001b[0m\u001b[37m\u001b[0m \u001b[1m5s\u001b[0m 17ms/step - accuracy: 0.8251 - loss: 0.4029 - val_accuracy: 0.7892 - val_loss: 0.4592\n",
      "Epoch 42/100\n",
      "\u001b[1m313/313\u001b[0m \u001b[32m━━━━━━━━━━━━━━━━━━━━\u001b[0m\u001b[37m\u001b[0m \u001b[1m6s\u001b[0m 18ms/step - accuracy: 0.8226 - loss: 0.4085 - val_accuracy: 0.7894 - val_loss: 0.4586\n",
      "Epoch 43/100\n",
      "\u001b[1m313/313\u001b[0m \u001b[32m━━━━━━━━━━━━━━━━━━━━\u001b[0m\u001b[37m\u001b[0m \u001b[1m5s\u001b[0m 17ms/step - accuracy: 0.8252 - loss: 0.4024 - val_accuracy: 0.7888 - val_loss: 0.4652\n",
      "Epoch 44/100\n",
      "\u001b[1m313/313\u001b[0m \u001b[32m━━━━━━━━━━━━━━━━━━━━\u001b[0m\u001b[37m\u001b[0m \u001b[1m5s\u001b[0m 17ms/step - accuracy: 0.8273 - loss: 0.3952 - val_accuracy: 0.7904 - val_loss: 0.4595\n",
      "Epoch 45/100\n",
      "\u001b[1m313/313\u001b[0m \u001b[32m━━━━━━━━━━━━━━━━━━━━\u001b[0m\u001b[37m\u001b[0m \u001b[1m5s\u001b[0m 17ms/step - accuracy: 0.8280 - loss: 0.3999 - val_accuracy: 0.7906 - val_loss: 0.4584\n",
      "Epoch 46/100\n",
      "\u001b[1m313/313\u001b[0m \u001b[32m━━━━━━━━━━━━━━━━━━━━\u001b[0m\u001b[37m\u001b[0m \u001b[1m6s\u001b[0m 18ms/step - accuracy: 0.8268 - loss: 0.3980 - val_accuracy: 0.7902 - val_loss: 0.4603\n",
      "Epoch 47/100\n",
      "\u001b[1m313/313\u001b[0m \u001b[32m━━━━━━━━━━━━━━━━━━━━\u001b[0m\u001b[37m\u001b[0m \u001b[1m5s\u001b[0m 17ms/step - accuracy: 0.8245 - loss: 0.4016 - val_accuracy: 0.7904 - val_loss: 0.4613\n",
      "Epoch 48/100\n",
      "\u001b[1m313/313\u001b[0m \u001b[32m━━━━━━━━━━━━━━━━━━━━\u001b[0m\u001b[37m\u001b[0m \u001b[1m5s\u001b[0m 17ms/step - accuracy: 0.8284 - loss: 0.3966 - val_accuracy: 0.7888 - val_loss: 0.4573\n",
      "Epoch 49/100\n",
      "\u001b[1m313/313\u001b[0m \u001b[32m━━━━━━━━━━━━━━━━━━━━\u001b[0m\u001b[37m\u001b[0m \u001b[1m5s\u001b[0m 17ms/step - accuracy: 0.8313 - loss: 0.3927 - val_accuracy: 0.7940 - val_loss: 0.4605\n",
      "Epoch 50/100\n",
      "\u001b[1m313/313\u001b[0m \u001b[32m━━━━━━━━━━━━━━━━━━━━\u001b[0m\u001b[37m\u001b[0m \u001b[1m5s\u001b[0m 17ms/step - accuracy: 0.8275 - loss: 0.3916 - val_accuracy: 0.7926 - val_loss: 0.4561\n",
      "Epoch 51/100\n",
      "\u001b[1m313/313\u001b[0m \u001b[32m━━━━━━━━━━━━━━━━━━━━\u001b[0m\u001b[37m\u001b[0m \u001b[1m5s\u001b[0m 17ms/step - accuracy: 0.8281 - loss: 0.3897 - val_accuracy: 0.7914 - val_loss: 0.4567\n",
      "Epoch 52/100\n",
      "\u001b[1m313/313\u001b[0m \u001b[32m━━━━━━━━━━━━━━━━━━━━\u001b[0m\u001b[37m\u001b[0m \u001b[1m5s\u001b[0m 17ms/step - accuracy: 0.8311 - loss: 0.3928 - val_accuracy: 0.7908 - val_loss: 0.4573\n",
      "Epoch 53/100\n",
      "\u001b[1m313/313\u001b[0m \u001b[32m━━━━━━━━━━━━━━━━━━━━\u001b[0m\u001b[37m\u001b[0m \u001b[1m5s\u001b[0m 17ms/step - accuracy: 0.8309 - loss: 0.3862 - val_accuracy: 0.7904 - val_loss: 0.4603\n",
      "Epoch 54/100\n",
      "\u001b[1m313/313\u001b[0m \u001b[32m━━━━━━━━━━━━━━━━━━━━\u001b[0m\u001b[37m\u001b[0m \u001b[1m5s\u001b[0m 17ms/step - accuracy: 0.8334 - loss: 0.3876 - val_accuracy: 0.7910 - val_loss: 0.4563\n"
     ]
    }
   ],
   "source": [
    "history = model.fit(train_oh, y_train, epochs = 100, batch_size = 64,\n",
    "                    validation_data = (val_oh, y_val), callbacks = [cp_cb, es_cb])"
   ]
  },
  {
   "cell_type": "code",
   "execution_count": 75,
   "id": "dd7d9339-1a1c-4a7c-9064-16dd94575257",
   "metadata": {},
   "outputs": [
    {
     "data": {
      "image/png": "[encoded data removed]",
      "text/plain": [
       "<Figure size 640x480 with 1 Axes>"
      ]
     },
     "metadata": {},
     "output_type": "display_data"
    }
   ],
   "source": [
    "plt.figure()\n",
    "plt.plot(history.history[\"loss\"], label = \"train_loss\")\n",
    "plt.plot(history.history[\"val_loss\"], label = \"val_loss\")\n",
    "plt.plot(history.history[\"accuracy\"], label = \"train_acc\")\n",
    "plt.plot(history.history[\"val_accuracy\"], label = \"val_acc\")\n",
    "\n",
    "plt.xlabel(\"epoch\")\n",
    "plt.legend()\n",
    "plt.show()"
   ]
  },
  {
   "cell_type": "markdown",
   "id": "2d08d816-b599-4d06-a0f8-1cca9cc65c12",
   "metadata": {},
   "source": [
    "- 원핫 인코딩의 단점\n",
    "    - 입력 데이터가 매우 커짐"
   ]
  },
  {
   "cell_type": "code",
   "execution_count": 78,
   "id": "28a59df8-6287-4364-834b-395b08e7dbc6",
   "metadata": {},
   "outputs": [
    {
     "name": "stdout",
     "output_type": "stream",
     "text": [
      "8000000 8000000000\n"
     ]
    }
   ],
   "source": [
    "print(train_seq.nbytes, train_oh.nbytes)"
   ]
  },
  {
   "cell_type": "markdown",
   "id": "cb1e4407-25f7-4826-bee9-098a7771d5f2",
   "metadata": {},
   "source": [
    "# **단어임베딩을 활용한 RNN 텍스트 분류**\n",
    "\n",
    "<img src=\"./image/embedding.png\" >"
   ]
  },
  {
   "cell_type": "markdown",
   "id": "6a6c7a8d-17f3-4d09-8270-5411915e3b10",
   "metadata": {},
   "source": [
    "- 단어 임베딩(word embedding)\n",
    "    - 순환 신경망에서 텍스트를 처리할 때 즐겨 사용하는 방법\n",
    "    - 각 단어를 고정된 크기의 실수 벡터로 변환\n",
    "- 단어 임베딩으로 만들어진 벡터는 원핫 인코딩보다 훨씬 의미 있는 값으로 채워져 있음\n",
    "    - 자연어 처리에서 더 좋은 성능을 내는 경우가 많음\n",
    "    - 단어 임베딩 벡터를 만드는 층은 Embedding 클래스로 케라스에서 제공\n",
    "        - 처음에는 모든 벡터가 랜덤하게 초기화되고 훈련을 통해 데이터에서 좋은 단어 임베딩을 학습\n",
    "- 단어 임베딩의 장점\n",
    "    - 입력으로 정수 데이터를 받음\n",
    "        - 원핫 인코딩으로 변경된 배열이 아니라 train_seq를 바로 사용할 수 있음\n",
    "        - 메모리를 훨씬 효율적으로 사용할 수 있음\n",
    "    - 원핫 인코딩보다 훨씬 작은 크기로도 단어를 잘 표현할 수 있음"
   ]
  },
  {
   "cell_type": "code",
   "execution_count": 111,
   "id": "61572ac2-23d1-4479-a0f3-1d7e04237881",
   "metadata": {},
   "outputs": [],
   "source": [
    "model2 = keras.Sequential()\n",
    "model2.add(keras.Input(shape = (100,)))\n",
    "model2.add(keras.layers.Embedding(500, 32))\n",
    "model2.add(keras.layers.SimpleRNN(8))\n",
    "model2.add(keras.layers.Dense(1, activation = \"sigmoid\"))"
   ]
  },
  {
   "cell_type": "markdown",
   "id": "89efe67e-d265-423d-a8ee-03e64a06819f",
   "metadata": {},
   "source": [
    "- Embedding\n",
    "    - 첫 번째 매개변수는 어휘 사전의 크기\n",
    "        - 앞에서 IMDB 데이터셋에서 500개의 단어만 사용하도록 설정했기 때문에 같은 값으로 설정\n",
    "    - 두 번째 매개변수는 임베딩 벡터의 크기\n",
    "- 입력층의 매개변수는 입력 시퀀스의 길이\n",
    "    - 앞에서 샘플의 길이를 100으로 맞추어서 같은 값으로 설정"
   ]
  },
  {
   "cell_type": "code",
   "execution_count": 114,
   "id": "01750c6a-5155-4365-8271-44ea1d527ca8",
   "metadata": {},
   "outputs": [
    {
     "data": {
      "text/html": [
       "<pre style=\"white-space:pre;overflow-x:auto;line-height:normal;font-family:Menlo,'DejaVu Sans Mono',consolas,'Courier New',monospace\"><span style=\"font-weight: bold\">Model: \"sequential_4\"</span>\n",
       "</pre>\n"
      ],
      "text/plain": [
       "\u001b[1mModel: \"sequential_4\"\u001b[0m\n"
      ]
     },
     "metadata": {},
     "output_type": "display_data"
    },
    {
     "data": {
      "text/html": [
       "<pre style=\"white-space:pre;overflow-x:auto;line-height:normal;font-family:Menlo,'DejaVu Sans Mono',consolas,'Courier New',monospace\">┏━━━━━━━━━━━━━━━━━━━━━━━━━━━━━━━━━━━━━━┳━━━━━━━━━━━━━━━━━━━━━━━━━━━━━┳━━━━━━━━━━━━━━━━━┓\n",
       "┃<span style=\"font-weight: bold\"> Layer (type)                         </span>┃<span style=\"font-weight: bold\"> Output Shape                </span>┃<span style=\"font-weight: bold\">         Param # </span>┃\n",
       "┡━━━━━━━━━━━━━━━━━━━━━━━━━━━━━━━━━━━━━━╇━━━━━━━━━━━━━━━━━━━━━━━━━━━━━╇━━━━━━━━━━━━━━━━━┩\n",
       "│ embedding_2 (<span style=\"color: #0087ff; text-decoration-color: #0087ff\">Embedding</span>)              │ (<span style=\"color: #00d7ff; text-decoration-color: #00d7ff\">None</span>, <span style=\"color: #00af00; text-decoration-color: #00af00\">100</span>, <span style=\"color: #00af00; text-decoration-color: #00af00\">32</span>)             │          <span style=\"color: #00af00; text-decoration-color: #00af00\">16,000</span> │\n",
       "├──────────────────────────────────────┼─────────────────────────────┼─────────────────┤\n",
       "│ simple_rnn_4 (<span style=\"color: #0087ff; text-decoration-color: #0087ff\">SimpleRNN</span>)             │ (<span style=\"color: #00d7ff; text-decoration-color: #00d7ff\">None</span>, <span style=\"color: #00af00; text-decoration-color: #00af00\">8</span>)                   │             <span style=\"color: #00af00; text-decoration-color: #00af00\">328</span> │\n",
       "├──────────────────────────────────────┼─────────────────────────────┼─────────────────┤\n",
       "│ dense_3 (<span style=\"color: #0087ff; text-decoration-color: #0087ff\">Dense</span>)                      │ (<span style=\"color: #00d7ff; text-decoration-color: #00d7ff\">None</span>, <span style=\"color: #00af00; text-decoration-color: #00af00\">1</span>)                   │               <span style=\"color: #00af00; text-decoration-color: #00af00\">9</span> │\n",
       "└──────────────────────────────────────┴─────────────────────────────┴─────────────────┘\n",
       "</pre>\n"
      ],
      "text/plain": [
       "┏━━━━━━━━━━━━━━━━━━━━━━━━━━━━━━━━━━━━━━┳━━━━━━━━━━━━━━━━━━━━━━━━━━━━━┳━━━━━━━━━━━━━━━━━┓\n",
       "┃\u001b[1m \u001b[0m\u001b[1mLayer (type)                        \u001b[0m\u001b[1m \u001b[0m┃\u001b[1m \u001b[0m\u001b[1mOutput Shape               \u001b[0m\u001b[1m \u001b[0m┃\u001b[1m \u001b[0m\u001b[1m        Param #\u001b[0m\u001b[1m \u001b[0m┃\n",
       "┡━━━━━━━━━━━━━━━━━━━━━━━━━━━━━━━━━━━━━━╇━━━━━━━━━━━━━━━━━━━━━━━━━━━━━╇━━━━━━━━━━━━━━━━━┩\n",
       "│ embedding_2 (\u001b[38;5;33mEmbedding\u001b[0m)              │ (\u001b[38;5;45mNone\u001b[0m, \u001b[38;5;34m100\u001b[0m, \u001b[38;5;34m32\u001b[0m)             │          \u001b[38;5;34m16,000\u001b[0m │\n",
       "├──────────────────────────────────────┼─────────────────────────────┼─────────────────┤\n",
       "│ simple_rnn_4 (\u001b[38;5;33mSimpleRNN\u001b[0m)             │ (\u001b[38;5;45mNone\u001b[0m, \u001b[38;5;34m8\u001b[0m)                   │             \u001b[38;5;34m328\u001b[0m │\n",
       "├──────────────────────────────────────┼─────────────────────────────┼─────────────────┤\n",
       "│ dense_3 (\u001b[38;5;33mDense\u001b[0m)                      │ (\u001b[38;5;45mNone\u001b[0m, \u001b[38;5;34m1\u001b[0m)                   │               \u001b[38;5;34m9\u001b[0m │\n",
       "└──────────────────────────────────────┴─────────────────────────────┴─────────────────┘\n"
      ]
     },
     "metadata": {},
     "output_type": "display_data"
    },
    {
     "data": {
      "text/html": [
       "<pre style=\"white-space:pre;overflow-x:auto;line-height:normal;font-family:Menlo,'DejaVu Sans Mono',consolas,'Courier New',monospace\"><span style=\"font-weight: bold\"> Total params: </span><span style=\"color: #00af00; text-decoration-color: #00af00\">16,337</span> (63.82 KB)\n",
       "</pre>\n"
      ],
      "text/plain": [
       "\u001b[1m Total params: \u001b[0m\u001b[38;5;34m16,337\u001b[0m (63.82 KB)\n"
      ]
     },
     "metadata": {},
     "output_type": "display_data"
    },
    {
     "data": {
      "text/html": [
       "<pre style=\"white-space:pre;overflow-x:auto;line-height:normal;font-family:Menlo,'DejaVu Sans Mono',consolas,'Courier New',monospace\"><span style=\"font-weight: bold\"> Trainable params: </span><span style=\"color: #00af00; text-decoration-color: #00af00\">16,337</span> (63.82 KB)\n",
       "</pre>\n"
      ],
      "text/plain": [
       "\u001b[1m Trainable params: \u001b[0m\u001b[38;5;34m16,337\u001b[0m (63.82 KB)\n"
      ]
     },
     "metadata": {},
     "output_type": "display_data"
    },
    {
     "data": {
      "text/html": [
       "<pre style=\"white-space:pre;overflow-x:auto;line-height:normal;font-family:Menlo,'DejaVu Sans Mono',consolas,'Courier New',monospace\"><span style=\"font-weight: bold\"> Non-trainable params: </span><span style=\"color: #00af00; text-decoration-color: #00af00\">0</span> (0.00 B)\n",
       "</pre>\n"
      ],
      "text/plain": [
       "\u001b[1m Non-trainable params: \u001b[0m\u001b[38;5;34m0\u001b[0m (0.00 B)\n"
      ]
     },
     "metadata": {},
     "output_type": "display_data"
    }
   ],
   "source": [
    "model2.summary()"
   ]
  },
  {
   "cell_type": "markdown",
   "id": "add6a275-a3f5-4ba1-a2bf-a37506fb0ff6",
   "metadata": {},
   "source": [
    "- Embedding\n",
    "    - (100,) 크기의 입력을 받아 (100, 32) 크기의 출력을 만듦\n",
    "    - 500개의 각 토큰을 크기가 32인 벡터로 변경\n",
    "        - 500 * 32 = 16000 개의 파라미터를 가짐\n",
    "- SimpleRNN\n",
    "    - 임베딩 벡터의 크기가 32, 유닛의 개수 8\n",
    "        - 32 * 8 = 256\n",
    "    - 은닉 상태에 곱해지는 가중치\n",
    "        - 8 * 8 = 64\n",
    "    - 8개의 절편\n",
    "    - 256 + 64 + 8 = 328"
   ]
  },
  {
   "cell_type": "code",
   "execution_count": 117,
   "id": "a9cd63af-d4f9-4dfa-b947-6456c8e33d2a",
   "metadata": {},
   "outputs": [],
   "source": [
    "rmsprop = keras.optimizers.RMSprop(learning_rate = 1e-4)\n",
    "model2.compile(optimizer = rmsprop, loss = \"binary_crossentropy\", metrics = [\"accuracy\"])"
   ]
  },
  {
   "cell_type": "code",
   "execution_count": 119,
   "id": "40decd79-8a0a-4898-9910-38357a93aeb9",
   "metadata": {},
   "outputs": [],
   "source": [
    "cp_cb = keras.callbacks.ModelCheckpoint(\"./model/best-embedding-model.keras\", save_best_only = True)\n",
    "es_cb = keras.callbacks.EarlyStopping(patience = 4, restore_best_weights = True)"
   ]
  },
  {
   "cell_type": "code",
   "execution_count": 121,
   "id": "7c7b5652-d14d-45d8-9d14-d526a46a2ad3",
   "metadata": {},
   "outputs": [
    {
     "name": "stdout",
     "output_type": "stream",
     "text": [
      "Epoch 1/100\n",
      "\u001b[1m313/313\u001b[0m \u001b[32m━━━━━━━━━━━━━━━━━━━━\u001b[0m\u001b[37m\u001b[0m \u001b[1m7s\u001b[0m 17ms/step - accuracy: 0.5029 - loss: 0.6950 - val_accuracy: 0.5722 - val_loss: 0.6803\n",
      "Epoch 2/100\n",
      "\u001b[1m313/313\u001b[0m \u001b[32m━━━━━━━━━━━━━━━━━━━━\u001b[0m\u001b[37m\u001b[0m \u001b[1m5s\u001b[0m 15ms/step - accuracy: 0.6348 - loss: 0.6576 - val_accuracy: 0.7020 - val_loss: 0.6160\n",
      "Epoch 3/100\n",
      "\u001b[1m313/313\u001b[0m \u001b[32m━━━━━━━━━━━━━━━━━━━━\u001b[0m\u001b[37m\u001b[0m \u001b[1m4s\u001b[0m 13ms/step - accuracy: 0.7247 - loss: 0.6011 - val_accuracy: 0.7318 - val_loss: 0.5849\n",
      "Epoch 4/100\n",
      "\u001b[1m313/313\u001b[0m \u001b[32m━━━━━━━━━━━━━━━━━━━━\u001b[0m\u001b[37m\u001b[0m \u001b[1m4s\u001b[0m 12ms/step - accuracy: 0.7514 - loss: 0.5709 - val_accuracy: 0.7446 - val_loss: 0.5652\n",
      "Epoch 5/100\n",
      "\u001b[1m313/313\u001b[0m \u001b[32m━━━━━━━━━━━━━━━━━━━━\u001b[0m\u001b[37m\u001b[0m \u001b[1m4s\u001b[0m 12ms/step - accuracy: 0.7605 - loss: 0.5511 - val_accuracy: 0.7404 - val_loss: 0.5588\n",
      "Epoch 6/100\n",
      "\u001b[1m313/313\u001b[0m \u001b[32m━━━━━━━━━━━━━━━━━━━━\u001b[0m\u001b[37m\u001b[0m \u001b[1m4s\u001b[0m 12ms/step - accuracy: 0.7631 - loss: 0.5385 - val_accuracy: 0.7602 - val_loss: 0.5353\n",
      "Epoch 7/100\n",
      "\u001b[1m313/313\u001b[0m \u001b[32m━━━━━━━━━━━━━━━━━━━━\u001b[0m\u001b[37m\u001b[0m \u001b[1m4s\u001b[0m 12ms/step - accuracy: 0.7713 - loss: 0.5230 - val_accuracy: 0.7494 - val_loss: 0.5359\n",
      "Epoch 8/100\n",
      "\u001b[1m313/313\u001b[0m \u001b[32m━━━━━━━━━━━━━━━━━━━━\u001b[0m\u001b[37m\u001b[0m \u001b[1m4s\u001b[0m 12ms/step - accuracy: 0.7718 - loss: 0.5138 - val_accuracy: 0.7570 - val_loss: 0.5242\n",
      "Epoch 9/100\n",
      "\u001b[1m313/313\u001b[0m \u001b[32m━━━━━━━━━━━━━━━━━━━━\u001b[0m\u001b[37m\u001b[0m \u001b[1m4s\u001b[0m 12ms/step - accuracy: 0.7834 - loss: 0.4962 - val_accuracy: 0.7604 - val_loss: 0.5137\n",
      "Epoch 10/100\n",
      "\u001b[1m313/313\u001b[0m \u001b[32m━━━━━━━━━━━━━━━━━━━━\u001b[0m\u001b[37m\u001b[0m \u001b[1m4s\u001b[0m 12ms/step - accuracy: 0.7848 - loss: 0.4909 - val_accuracy: 0.7620 - val_loss: 0.5121\n",
      "Epoch 11/100\n",
      "\u001b[1m313/313\u001b[0m \u001b[32m━━━━━━━━━━━━━━━━━━━━\u001b[0m\u001b[37m\u001b[0m \u001b[1m4s\u001b[0m 12ms/step - accuracy: 0.7881 - loss: 0.4804 - val_accuracy: 0.7696 - val_loss: 0.5008\n",
      "Epoch 12/100\n",
      "\u001b[1m313/313\u001b[0m \u001b[32m━━━━━━━━━━━━━━━━━━━━\u001b[0m\u001b[37m\u001b[0m \u001b[1m4s\u001b[0m 12ms/step - accuracy: 0.7896 - loss: 0.4754 - val_accuracy: 0.7576 - val_loss: 0.5135\n",
      "Epoch 13/100\n",
      "\u001b[1m313/313\u001b[0m \u001b[32m━━━━━━━━━━━━━━━━━━━━\u001b[0m\u001b[37m\u001b[0m \u001b[1m4s\u001b[0m 12ms/step - accuracy: 0.7906 - loss: 0.4727 - val_accuracy: 0.7730 - val_loss: 0.4935\n",
      "Epoch 14/100\n",
      "\u001b[1m313/313\u001b[0m \u001b[32m━━━━━━━━━━━━━━━━━━━━\u001b[0m\u001b[37m\u001b[0m \u001b[1m4s\u001b[0m 12ms/step - accuracy: 0.7922 - loss: 0.4662 - val_accuracy: 0.7694 - val_loss: 0.4929\n",
      "Epoch 15/100\n",
      "\u001b[1m313/313\u001b[0m \u001b[32m━━━━━━━━━━━━━━━━━━━━\u001b[0m\u001b[37m\u001b[0m \u001b[1m4s\u001b[0m 12ms/step - accuracy: 0.7995 - loss: 0.4568 - val_accuracy: 0.7666 - val_loss: 0.4997\n",
      "Epoch 16/100\n",
      "\u001b[1m313/313\u001b[0m \u001b[32m━━━━━━━━━━━━━━━━━━━━\u001b[0m\u001b[37m\u001b[0m \u001b[1m4s\u001b[0m 12ms/step - accuracy: 0.8033 - loss: 0.4476 - val_accuracy: 0.7616 - val_loss: 0.4987\n",
      "Epoch 17/100\n",
      "\u001b[1m313/313\u001b[0m \u001b[32m━━━━━━━━━━━━━━━━━━━━\u001b[0m\u001b[37m\u001b[0m \u001b[1m4s\u001b[0m 12ms/step - accuracy: 0.7925 - loss: 0.4621 - val_accuracy: 0.7718 - val_loss: 0.4901\n",
      "Epoch 18/100\n",
      "\u001b[1m313/313\u001b[0m \u001b[32m━━━━━━━━━━━━━━━━━━━━\u001b[0m\u001b[37m\u001b[0m \u001b[1m4s\u001b[0m 12ms/step - accuracy: 0.8071 - loss: 0.4415 - val_accuracy: 0.7742 - val_loss: 0.4844\n",
      "Epoch 19/100\n",
      "\u001b[1m313/313\u001b[0m \u001b[32m━━━━━━━━━━━━━━━━━━━━\u001b[0m\u001b[37m\u001b[0m \u001b[1m4s\u001b[0m 12ms/step - accuracy: 0.8123 - loss: 0.4360 - val_accuracy: 0.7770 - val_loss: 0.4787\n",
      "Epoch 20/100\n",
      "\u001b[1m313/313\u001b[0m \u001b[32m━━━━━━━━━━━━━━━━━━━━\u001b[0m\u001b[37m\u001b[0m \u001b[1m4s\u001b[0m 12ms/step - accuracy: 0.8166 - loss: 0.4302 - val_accuracy: 0.7790 - val_loss: 0.4793\n",
      "Epoch 21/100\n",
      "\u001b[1m313/313\u001b[0m \u001b[32m━━━━━━━━━━━━━━━━━━━━\u001b[0m\u001b[37m\u001b[0m \u001b[1m4s\u001b[0m 12ms/step - accuracy: 0.8165 - loss: 0.4269 - val_accuracy: 0.7758 - val_loss: 0.4853\n",
      "Epoch 22/100\n",
      "\u001b[1m313/313\u001b[0m \u001b[32m━━━━━━━━━━━━━━━━━━━━\u001b[0m\u001b[37m\u001b[0m \u001b[1m4s\u001b[0m 12ms/step - accuracy: 0.8185 - loss: 0.4211 - val_accuracy: 0.7784 - val_loss: 0.4786\n",
      "Epoch 23/100\n",
      "\u001b[1m313/313\u001b[0m \u001b[32m━━━━━━━━━━━━━━━━━━━━\u001b[0m\u001b[37m\u001b[0m \u001b[1m4s\u001b[0m 12ms/step - accuracy: 0.8153 - loss: 0.4223 - val_accuracy: 0.7734 - val_loss: 0.4932\n",
      "Epoch 24/100\n",
      "\u001b[1m313/313\u001b[0m \u001b[32m━━━━━━━━━━━━━━━━━━━━\u001b[0m\u001b[37m\u001b[0m \u001b[1m4s\u001b[0m 12ms/step - accuracy: 0.8191 - loss: 0.4175 - val_accuracy: 0.7782 - val_loss: 0.4800\n",
      "Epoch 25/100\n",
      "\u001b[1m313/313\u001b[0m \u001b[32m━━━━━━━━━━━━━━━━━━━━\u001b[0m\u001b[37m\u001b[0m \u001b[1m4s\u001b[0m 12ms/step - accuracy: 0.8241 - loss: 0.4129 - val_accuracy: 0.7786 - val_loss: 0.4772\n",
      "Epoch 26/100\n",
      "\u001b[1m313/313\u001b[0m \u001b[32m━━━━━━━━━━━━━━━━━━━━\u001b[0m\u001b[37m\u001b[0m \u001b[1m6s\u001b[0m 15ms/step - accuracy: 0.8251 - loss: 0.4127 - val_accuracy: 0.7694 - val_loss: 0.5061\n",
      "Epoch 27/100\n",
      "\u001b[1m313/313\u001b[0m \u001b[32m━━━━━━━━━━━━━━━━━━━━\u001b[0m\u001b[37m\u001b[0m \u001b[1m5s\u001b[0m 15ms/step - accuracy: 0.8267 - loss: 0.4053 - val_accuracy: 0.7766 - val_loss: 0.4815\n",
      "Epoch 28/100\n",
      "\u001b[1m313/313\u001b[0m \u001b[32m━━━━━━━━━━━━━━━━━━━━\u001b[0m\u001b[37m\u001b[0m \u001b[1m4s\u001b[0m 14ms/step - accuracy: 0.8272 - loss: 0.4039 - val_accuracy: 0.7838 - val_loss: 0.4762\n",
      "Epoch 29/100\n",
      "\u001b[1m313/313\u001b[0m \u001b[32m━━━━━━━━━━━━━━━━━━━━\u001b[0m\u001b[37m\u001b[0m \u001b[1m4s\u001b[0m 12ms/step - accuracy: 0.8280 - loss: 0.4037 - val_accuracy: 0.7706 - val_loss: 0.4904\n",
      "Epoch 30/100\n",
      "\u001b[1m313/313\u001b[0m \u001b[32m━━━━━━━━━━━━━━━━━━━━\u001b[0m\u001b[37m\u001b[0m \u001b[1m4s\u001b[0m 12ms/step - accuracy: 0.8285 - loss: 0.4041 - val_accuracy: 0.7782 - val_loss: 0.4783\n",
      "Epoch 31/100\n",
      "\u001b[1m313/313\u001b[0m \u001b[32m━━━━━━━━━━━━━━━━━━━━\u001b[0m\u001b[37m\u001b[0m \u001b[1m4s\u001b[0m 12ms/step - accuracy: 0.8364 - loss: 0.3914 - val_accuracy: 0.7828 - val_loss: 0.4750\n",
      "Epoch 32/100\n",
      "\u001b[1m313/313\u001b[0m \u001b[32m━━━━━━━━━━━━━━━━━━━━\u001b[0m\u001b[37m\u001b[0m \u001b[1m4s\u001b[0m 12ms/step - accuracy: 0.8336 - loss: 0.3944 - val_accuracy: 0.7814 - val_loss: 0.4730\n",
      "Epoch 33/100\n",
      "\u001b[1m313/313\u001b[0m \u001b[32m━━━━━━━━━━━━━━━━━━━━\u001b[0m\u001b[37m\u001b[0m \u001b[1m4s\u001b[0m 12ms/step - accuracy: 0.8316 - loss: 0.3953 - val_accuracy: 0.7804 - val_loss: 0.4790\n",
      "Epoch 34/100\n",
      "\u001b[1m313/313\u001b[0m \u001b[32m━━━━━━━━━━━━━━━━━━━━\u001b[0m\u001b[37m\u001b[0m \u001b[1m4s\u001b[0m 12ms/step - accuracy: 0.8303 - loss: 0.3956 - val_accuracy: 0.7842 - val_loss: 0.4751\n",
      "Epoch 35/100\n",
      "\u001b[1m313/313\u001b[0m \u001b[32m━━━━━━━━━━━━━━━━━━━━\u001b[0m\u001b[37m\u001b[0m \u001b[1m4s\u001b[0m 12ms/step - accuracy: 0.8362 - loss: 0.3850 - val_accuracy: 0.7834 - val_loss: 0.4803\n",
      "Epoch 36/100\n",
      "\u001b[1m313/313\u001b[0m \u001b[32m━━━━━━━━━━━━━━━━━━━━\u001b[0m\u001b[37m\u001b[0m \u001b[1m4s\u001b[0m 12ms/step - accuracy: 0.8401 - loss: 0.3827 - val_accuracy: 0.7722 - val_loss: 0.4850\n"
     ]
    }
   ],
   "source": [
    "history = model2.fit(train_seq, y_train, epochs = 100, batch_size = 64,\n",
    "                    validation_data = (val_seq, y_val), callbacks = [cp_cb, es_cb])"
   ]
  },
  {
   "cell_type": "code",
   "execution_count": 123,
   "id": "b0519a13-bc30-43df-be1a-d05c4cdc8d70",
   "metadata": {},
   "outputs": [
    {
     "data": {
      "image/png": "[encoded data removed]",
      "text/plain": [
       "<Figure size 640x480 with 1 Axes>"
      ]
     },
     "metadata": {},
     "output_type": "display_data"
    }
   ],
   "source": [
    "plt.figure()\n",
    "plt.plot(history.history[\"loss\"], label = \"train_loss\")\n",
    "plt.plot(history.history[\"val_loss\"], label = \"val_loss\")\n",
    "plt.plot(history.history[\"accuracy\"], label = \"train_acc\")\n",
    "plt.plot(history.history[\"val_accuracy\"], label = \"val_acc\")\n",
    "\n",
    "plt.xlabel(\"epoch\")\n",
    "plt.legend()\n",
    "plt.show()"
   ]
  },
  {
   "cell_type": "code",
   "execution_count": null,
   "id": "97b6fb06-aae8-4767-98e0-ed24e291ae65",
   "metadata": {},
   "outputs": [],
   "source": []
  }
 ],
 "metadata": {
  "kernelspec": {
   "display_name": "Python [conda env:base] *",
   "language": "python",
   "name": "conda-base-py"
  },
  "language_info": {
   "codemirror_mode": {
    "name": "ipython",
    "version": 3
   },
   "file_extension": ".py",
   "mimetype": "text/x-python",
   "name": "python",
   "nbconvert_exporter": "python",
   "pygments_lexer": "ipython3",
   "version": "3.12.7"
  }
 },
 "nbformat": 4,
 "nbformat_minor": 5
}
