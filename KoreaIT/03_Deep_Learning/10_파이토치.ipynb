{
 "cells": [
  {
   "cell_type": "code",
   "execution_count": null,
   "id": "7458df59-a48b-4d98-b98a-9faabada8593",
   "metadata": {},
   "outputs": [],
   "source": [
    "# !pip3 install torch torchvision --index-url https://download.pytorch.org/whl/cu126"
   ]
  },
  {
   "cell_type": "code",
   "execution_count": 2,
   "id": "9bcc825f-6451-4735-8028-df1ad5f98f3d",
   "metadata": {},
   "outputs": [],
   "source": [
    "import torch\n",
    "from torch.utils import data\n",
    "# 신경망 모델\n",
    "import torch.nn as nn\n",
    "# optimizer 모듈\n",
    "from torch import optim\n",
    "# nn 모듈의 함수 버전\n",
    "import torch.nn.functional as F\n",
    "# 패션MNIST\n",
    "from torchvision import datasets, transforms"
   ]
  },
  {
   "cell_type": "code",
   "execution_count": 3,
   "id": "ae8fba28-197c-4612-8042-d9b18bc869eb",
   "metadata": {},
   "outputs": [],
   "source": [
    "USE_CUDA = torch.cuda.is_available()\n",
    "DEVICE = torch.device(\"cuda\" if USE_CUDA else \"cpu\")"
   ]
  },
  {
   "cell_type": "code",
   "execution_count": 6,
   "id": "681d4ad8-9637-4344-8312-82468875bfaa",
   "metadata": {},
   "outputs": [
    {
     "data": {
      "text/plain": [
       "device(type='cpu')"
      ]
     },
     "execution_count": 6,
     "metadata": {},
     "output_type": "execute_result"
    }
   ],
   "source": [
    "DEVICE"
   ]
  },
  {
   "cell_type": "code",
   "execution_count": 8,
   "id": "06537b83-bb7a-40d1-a854-db88ed307ec6",
   "metadata": {},
   "outputs": [],
   "source": [
    "# 이미지를 텐서로 변경\n",
    "transform = transforms.Compose([transforms.ToTensor()])"
   ]
  },
  {
   "cell_type": "code",
   "execution_count": 10,
   "id": "22669291-341b-438e-a694-76c897799ac4",
   "metadata": {},
   "outputs": [
    {
     "name": "stderr",
     "output_type": "stream",
     "text": [
      "100%|██████████████████████████████████████████████████████████████████████████████| 26.4M/26.4M [01:21<00:00, 324kB/s]\n",
      "100%|██████████████████████████████████████████████████████████████████████████████| 29.5k/29.5k [00:00<00:00, 114kB/s]\n",
      "100%|██████████████████████████████████████████████████████████████████████████████| 4.42M/4.42M [00:14<00:00, 309kB/s]\n",
      "100%|█████████████████████████████████████████████████████████████████████████████████████| 5.15k/5.15k [00:00<?, ?B/s]\n"
     ]
    }
   ],
   "source": [
    "trainset = datasets.FashionMNIST(\n",
    "    root = \"./data/\",\n",
    "    train = True,\n",
    "    download = True,\n",
    "    transform = transform\n",
    ")\n",
    "\n",
    "testset = datasets.FashionMNIST(\n",
    "    root = \"./data/\",\n",
    "    train = False,\n",
    "    download = True,\n",
    "    transform = transform\n",
    ")"
   ]
  },
  {
   "cell_type": "code",
   "execution_count": 12,
   "id": "6d75bedd-9d34-4177-8f6b-a47607bbfcef",
   "metadata": {},
   "outputs": [],
   "source": [
    "batch_size = 32"
   ]
  },
  {
   "cell_type": "code",
   "execution_count": 14,
   "id": "00285ebb-4938-4ff6-bf9d-37e73e15b8b3",
   "metadata": {},
   "outputs": [],
   "source": [
    "# 데이터 공급 객체 선언\n",
    "train_loader = data.DataLoader(\n",
    "    dataset = trainset,\n",
    "    batch_size = batch_size\n",
    ")\n",
    "\n",
    "test_loader = data.DataLoader(\n",
    "    dataset = testset,\n",
    "    batch_size = batch_size\n",
    ")"
   ]
  },
  {
   "cell_type": "code",
   "execution_count": 16,
   "id": "65b0e91c-3fc3-49aa-adbc-35693cefdc9e",
   "metadata": {},
   "outputs": [],
   "source": [
    "class Net(nn.Module):\n",
    "    def __init__(self):\n",
    "        '''모델 구조 정의'''\n",
    "        super().__init__()\n",
    "        self.fc1 = nn.Linear(784, 100)\n",
    "        self.fc2 = nn.Linear(100, 10)\n",
    "\n",
    "    def forward(self, x):\n",
    "        # 입력 데이터 = x\n",
    "        # x.shape = torch.Size([배치사이즈, 색, 높이, 너비])\n",
    "        x = x.view(-1, 28 * 28)\n",
    "\n",
    "        # x.shape = torch.Size([배치사이즈, 784])\n",
    "        x = F.relu(self.fc1(x))\n",
    "\n",
    "        # x.shape = torch.Size([배치사이즈, 앞 레이어의 출력 개수])\n",
    "        x = self.fc2(x)\n",
    "        \n",
    "        return x"
   ]
  },
  {
   "cell_type": "code",
   "execution_count": 18,
   "id": "639084ce-f220-478b-9eee-3cfb1cad0cf1",
   "metadata": {},
   "outputs": [],
   "source": [
    "# 모델 선언\n",
    "model = Net().to(DEVICE)"
   ]
  },
  {
   "cell_type": "code",
   "execution_count": 20,
   "id": "66ed4bbd-dc22-4d3a-89d7-78e64f399bc5",
   "metadata": {},
   "outputs": [],
   "source": [
    "# 옵티마이저 설정\n",
    "optimizer = optim.SGD(model.parameters(), lr = 0.01)"
   ]
  },
  {
   "cell_type": "code",
   "execution_count": 22,
   "id": "b1320ef4-a8cd-470d-b27d-46d30b7e7057",
   "metadata": {},
   "outputs": [],
   "source": [
    "# 학습 함수 정의\n",
    "def train(model, train_loader, optimizer):\n",
    "    # 모델을 학습 모드로 전환\n",
    "    model.train()\n",
    "\n",
    "    for batch_idx, (data, target) in enumerate(train_loader):\n",
    "        # 학습 데이터를 DEVICE 로 보냄\n",
    "        data, target = data.to(DEVICE), target.to(DEVICE)\n",
    "\n",
    "        # 매 이터레이션마다 기울기를 계산하기 위해 zero_grad() 호출\n",
    "        optimizer.zero_grad()\n",
    "\n",
    "        # 실제 모델의 예측값 받아오기\n",
    "        output = model(data)\n",
    "\n",
    "        # 정답 데이터와의 cross entropy loss 계산\n",
    "        # loss는 mini batch의 클래스의 오차 평균값\n",
    "        loss = F.cross_entropy(output, target)\n",
    "\n",
    "        # 기울기 계산\n",
    "        loss.backward()\n",
    "\n",
    "        # 가중치 수정\n",
    "        optimizer.step()"
   ]
  },
  {
   "cell_type": "code",
   "execution_count": 24,
   "id": "cd2d7304-abaf-4705-9c41-18e70709f042",
   "metadata": {},
   "outputs": [],
   "source": [
    "def evaluate(model, test_loader):\n",
    "    # 모델을 평가모드로 전환\n",
    "    model.eval()\n",
    "\n",
    "    # 필요한 변수 초기화\n",
    "    # test 과정에서의 loss = test_loss\n",
    "    # 실제 모델의 예측이 정답과 맞은 횟수 = correct\n",
    "    test_loss = 0\n",
    "    correct = 0\n",
    "\n",
    "    with torch.no_grad(): # 평가 시에는 기울기를 계산하지 않으므로, no_grad 를 명시\n",
    "        for data, target in test_loader:\n",
    "            data = data.to(DEVICE)\n",
    "            target = target.to(DEVICE)\n",
    "\n",
    "            output = model(data)\n",
    "\n",
    "            # 모든 오차 더하기\n",
    "            test_loss += F.cross_entropy(output, target, reduction = \"sum\").item()\n",
    "\n",
    "            # 가장 큰 값을 가진 클래스가 모델의 예측\n",
    "            # 예측과 정답을 비교하여 일치하면 correct 에 1더하기\n",
    "            pred = output.max(1, keepdim = True)[1]\n",
    "\n",
    "            # eq() : 값이 일치하면 1, 아니면 0\n",
    "            correct += pred.eq(target.view_as(pred)).sum().item()\n",
    "    \n",
    "    test_loss /= len(test_loader.dataset)\n",
    "\n",
    "    # 정확도 계산\n",
    "    test_accuracy = 100 * correct / len(test_loader.dataset)\n",
    "\n",
    "    return test_loss, test_accuracy"
   ]
  },
  {
   "cell_type": "code",
   "execution_count": 26,
   "id": "b74ada27-51ee-4ffb-b43c-14f00b449f99",
   "metadata": {},
   "outputs": [
    {
     "name": "stdout",
     "output_type": "stream",
     "text": [
      "[1] Test Loss : 0.6331, Accuracy : 78.18%\n",
      "[2] Test Loss : 0.5396, Accuracy : 81.29%\n",
      "[3] Test Loss : 0.5029, Accuracy : 82.34%\n",
      "[4] Test Loss : 0.4823, Accuracy : 83.06%\n",
      "[5] Test Loss : 0.4677, Accuracy : 83.44%\n"
     ]
    }
   ],
   "source": [
    "for epoch in range(1, 6):\n",
    "    train(model, train_loader, optimizer)\n",
    "    test_loss, test_accuracy = evaluate(model, test_loader)\n",
    "\n",
    "    print(f\"[{epoch}] Test Loss : {test_loss:.4f}, Accuracy : {test_accuracy:.2f}%\")"
   ]
  },
  {
   "cell_type": "code",
   "execution_count": null,
   "id": "1895e61c-3ce2-4fe0-a046-138257984319",
   "metadata": {},
   "outputs": [],
   "source": []
  }
 ],
 "metadata": {
  "kernelspec": {
   "display_name": "Python [conda env:base] *",
   "language": "python",
   "name": "conda-base-py"
  },
  "language_info": {
   "codemirror_mode": {
    "name": "ipython",
    "version": 3
   },
   "file_extension": ".py",
   "mimetype": "text/x-python",
   "name": "python",
   "nbconvert_exporter": "python",
   "pygments_lexer": "ipython3",
   "version": "3.12.7"
  }
 },
 "nbformat": 4,
 "nbformat_minor": 5
}
