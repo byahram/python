{
 "cells": [
  {
   "cell_type": "markdown",
   "id": "36f9c6db-2dd9-4a51-929e-9692d50cfe8c",
   "metadata": {},
   "source": [
    "# 03. 신경망 모델 훈련 도구\n",
    "\n",
    "- 머신러닝 알고리즘은 모델의 구조가 어느 정도 고정되어 있음\n",
    "    - 좋은 성능을 내기 위해서는 매개변수를 조정하고 훈련하는 과정을 반복\n",
    "- 딥러닝은 구조를 직접 설계해야함\n",
    "    - 좋은 성능을 내기 위해 다룰 수 있는 다양한 개념과 도구들을 이해할 필요가 있음"
   ]
  },
  {
   "cell_type": "code",
   "execution_count": 10,
   "id": "4475f0d1-18f1-4ac7-a70b-656018899176",
   "metadata": {},
   "outputs": [],
   "source": [
    "from tensorflow import keras\n",
    "from sklearn.model_selection import train_test_split\n",
    "import matplotlib.pyplot as plt\n",
    "import numpy as np"
   ]
  },
  {
   "cell_type": "code",
   "execution_count": 12,
   "id": "baf08b8e-be3e-484c-84ab-bc55417e571b",
   "metadata": {},
   "outputs": [],
   "source": [
    "(x_train, y_train), (x_test, y_test) = keras.datasets.fashion_mnist.load_data()"
   ]
  },
  {
   "cell_type": "code",
   "execution_count": 14,
   "id": "4bb115b3-dded-461b-943d-3608d43abbc4",
   "metadata": {},
   "outputs": [],
   "source": [
    "scaled_train = x_train / 255\n",
    "scaled_train, scaled_val, y_train, y_val = train_test_split(scaled_train, \n",
    "                                                            y_train,\n",
    "                                                            test_size = 0.2, \n",
    "                                                            stratify = y_train,\n",
    "                                                            random_state = 26)"
   ]
  },
  {
   "cell_type": "code",
   "execution_count": null,
   "id": "e6641171-1e4f-4bef-a5a4-e090aaa2eb5e",
   "metadata": {},
   "outputs": [],
   "source": []
  }
 ],
 "metadata": {
  "kernelspec": {
   "display_name": "Python [conda env:base] *",
   "language": "python",
   "name": "conda-base-py"
  },
  "language_info": {
   "codemirror_mode": {
    "name": "ipython",
    "version": 3
   },
   "file_extension": ".py",
   "mimetype": "text/x-python",
   "name": "python",
   "nbconvert_exporter": "python",
   "pygments_lexer": "ipython3",
   "version": "3.12.7"
  }
 },
 "nbformat": 4,
 "nbformat_minor": 5
}
